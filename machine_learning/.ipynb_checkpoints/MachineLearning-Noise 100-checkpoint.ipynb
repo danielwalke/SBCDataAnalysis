{
 "cells": [
  {
   "cell_type": "markdown",
   "id": "d4ba6980",
   "metadata": {},
   "source": [
    "## Load data"
   ]
  },
  {
   "cell_type": "code",
   "execution_count": 1,
   "id": "d7857ca8",
   "metadata": {},
   "outputs": [],
   "source": [
    "import sys\n",
    " \n",
    "sys.path.insert(0, \"../\")"
   ]
  },
  {
   "cell_type": "code",
   "execution_count": null,
   "id": "6c929aa7",
   "metadata": {
    "scrolled": true
   },
   "outputs": [
    {
     "name": "stderr",
     "output_type": "stream",
     "text": [
      "/home/dwalke/git/sbc/machine_learning/../dataAnalysis/data/Filter.py:34: SettingWithCopyWarning: \n",
      "A value is trying to be set on a copy of a slice from a DataFrame.\n",
      "Try using .loc[row_indexer,col_indexer] = value instead\n",
      "\n",
      "See the caveats in the documentation: https://pandas.pydata.org/pandas-docs/stable/user_guide/indexing.html#returning-a-view-versus-a-copy\n",
      "  self.data['Label'] = self.data['Diagnosis']\n"
     ]
    },
    {
     "name": "stdout",
     "output_type": "stream",
     "text": [
      "Training: \n",
      "Assessable data are 528101 cases and 1015074 CBCs\n"
     ]
    }
   ],
   "source": [
    "from dataAnalysis.data.Filter import Filter\n",
    "import pandas as pd\n",
    "from dataAnalysis.Constants import *\n",
    "from dataAnalysis.DataAnalysis import DataAnalysis\n",
    "\n",
    "FEATURES.extend(['Noise0', 'Noise1', 'Noise2', 'Noise3', 'Noise4', 'Noise5', 'Noise6', 'Noise7', 'Noise8', 'Noise9', 'Noise10', 'Noise11', 'Noise12', 'Noise13', 'Noise14', 'Noise15', 'Noise16', 'Noise17', 'Noise18', 'Noise19', 'Noise20', 'Noise21', 'Noise22', 'Noise23', 'Noise24', 'Noise25', 'Noise26', 'Noise27', 'Noise28', 'Noise29', 'Noise30', 'Noise31', 'Noise32', 'Noise33', 'Noise34', 'Noise35', 'Noise36', 'Noise37', 'Noise38', 'Noise39', 'Noise40', 'Noise41', 'Noise42', 'Noise43', 'Noise44', 'Noise45', 'Noise46', 'Noise47', 'Noise48', 'Noise49', 'Noise50', 'Noise51', 'Noise52', 'Noise53', 'Noise54', 'Noise55', 'Noise56', 'Noise57', 'Noise58', 'Noise59', 'Noise60', 'Noise61', 'Noise62', 'Noise63', 'Noise64', 'Noise65', 'Noise66', 'Noise67', 'Noise68', 'Noise69', 'Noise70', 'Noise71', 'Noise72', 'Noise73', 'Noise74', 'Noise75', 'Noise76', 'Noise77', 'Noise78', 'Noise79', 'Noise80', 'Noise81', 'Noise82', 'Noise83', 'Noise84', 'Noise85', 'Noise86', 'Noise87', 'Noise88', 'Noise89', 'Noise90', 'Noise91', 'Noise92', 'Noise93', 'Noise94', 'Noise95', 'Noise96', 'Noise97', 'Noise98', 'Noise99'])\n",
    "data = pd.read_csv(r\"../extdata/noisy_sbc_100.csv\", header=0)\n",
    "data_analysis = DataAnalysis(data, mimic_data = None)"
   ]
  },
  {
   "cell_type": "code",
   "execution_count": null,
   "id": "dee56dda",
   "metadata": {},
   "outputs": [],
   "source": [
    "y_train = data_analysis.get_y_train()\n",
    "X_train = data_analysis.get_X_train()\n",
    "\n",
    "y_test = data_analysis.get_y_test()\n",
    "X_test = data_analysis.get_X_test()\n",
    "\n",
    "y_gw_test = data_analysis.get_y_gw()\n",
    "X_gw_test = data_analysis.get_X_gw()"
   ]
  },
  {
   "cell_type": "markdown",
   "id": "5125b9de",
   "metadata": {},
   "source": [
    "## Metrics definition"
   ]
  },
  {
   "cell_type": "code",
   "execution_count": null,
   "id": "8c918088",
   "metadata": {},
   "outputs": [],
   "source": [
    "from dataAnalysis.Metrics import Evaluation\n",
    "\n",
    "evaluation = Evaluation(y_test, y_gw_test, X_test, X_gw_test)"
   ]
  },
  {
   "cell_type": "markdown",
   "id": "c95a3a59",
   "metadata": {},
   "source": [
    "## Logistic regression"
   ]
  },
  {
   "cell_type": "code",
   "execution_count": null,
   "id": "6a3e7da8",
   "metadata": {},
   "outputs": [],
   "source": [
    "from sklearn.linear_model import LogisticRegression\n",
    "import time\n",
    "start = time.time()\n",
    "logistic_regression = LogisticRegression(random_state=0, solver=\"liblinear\", class_weight=\"balanced\")\n",
    "logistic_regression.fit(X_train, y_train)\n",
    "print(time.time() -start)\n",
    "print(evaluation.get_df_metrics(logistic_regression))\n",
    "evaluation.plot_confusion_matrix(logistic_regression)"
   ]
  },
  {
   "cell_type": "code",
   "execution_count": null,
   "id": "3e6e8969",
   "metadata": {},
   "outputs": [],
   "source": []
  },
  {
   "cell_type": "markdown",
   "id": "83e925c7",
   "metadata": {},
   "source": [
    "## Decision Tree"
   ]
  },
  {
   "cell_type": "code",
   "execution_count": null,
   "id": "25bd19b4",
   "metadata": {},
   "outputs": [],
   "source": [
    "from sklearn.tree import DecisionTreeClassifier\n",
    "start = time.time()\n",
    "decision_tree = DecisionTreeClassifier(random_state=42, max_features=6, min_samples_leaf=0.005,\n",
    "                       min_samples_split=0.03, class_weight=\"balanced\")\n",
    "decision_tree.fit(X_train, y_train)\n",
    "print(time.time() -start)\n",
    "print(evaluation.get_df_metrics(decision_tree))\n",
    "evaluation.plot_confusion_matrix(decision_tree)"
   ]
  },
  {
   "cell_type": "markdown",
   "id": "3e002cb9",
   "metadata": {},
   "source": [
    "## Random Forest"
   ]
  },
  {
   "cell_type": "code",
   "execution_count": null,
   "id": "0228e490",
   "metadata": {},
   "outputs": [],
   "source": [
    "from sklearn.ensemble import RandomForestClassifier\n",
    "import time\n",
    "start = time.time()\n",
    "random_forest = RandomForestClassifier(class_weight={0: 0.0025, 1: 1}, max_leaf_nodes=79,\n",
    "                           min_samples_leaf=0.0001,\n",
    "                           min_samples_split=0.0055,\n",
    "                           n_estimators=500, random_state=42, n_jobs=-1)\n",
    "random_forest.fit(X_train, y_train)\n",
    "print(time.time() -start)\n",
    "print(evaluation.get_df_metrics(random_forest))\n",
    "evaluation.plot_confusion_matrix(random_forest)\n",
    "print(random_forest.feature_importances_)"
   ]
  },
  {
   "cell_type": "markdown",
   "id": "bcb3c81d",
   "metadata": {},
   "source": [
    "## XG Boost"
   ]
  },
  {
   "cell_type": "code",
   "execution_count": null,
   "id": "b98a78a9",
   "metadata": {},
   "outputs": [],
   "source": [
    "from xgboost import XGBClassifier\n",
    "\n",
    "start = time.time()\n",
    "xgb_classifier = XGBClassifier(tree_method='gpu_hist', \n",
    "                           scale_pos_weight = 70,\n",
    "                           n_estimators=1000,\n",
    "                           max_depth=2,\n",
    "                           eta=0.1,\n",
    "                           min_child_weight = 7,\n",
    "                           max_delta_step= 7,\n",
    "                           sampling_method= \"uniform\")\n",
    "xgb_classifier.fit(X_train, y_train)\n",
    "print(time.time() -start)\n",
    "print(evaluation.get_df_metrics(xgb_classifier))\n",
    "evaluation.plot_confusion_matrix(xgb_classifier)"
   ]
  },
  {
   "cell_type": "markdown",
   "id": "42d73428",
   "metadata": {},
   "source": [
    "## RUS Boost"
   ]
  },
  {
   "cell_type": "code",
   "execution_count": null,
   "id": "0a6aa257",
   "metadata": {},
   "outputs": [],
   "source": [
    "from imblearn.ensemble import RUSBoostClassifier\n",
    "from sklearn.tree import DecisionTreeClassifier\n",
    "import time\n",
    "start = time.time()\n",
    "rus_boost = RUSBoostClassifier(base_estimator=DecisionTreeClassifier(max_depth=79, min_samples_leaf= 5, min_samples_split = 10),\n",
    "                   learning_rate=0.90369, n_estimators=495,\n",
    "                   random_state=1714400672, sampling_strategy=35/65)\n",
    "rus_boost.fit(X_train, y_train)\n",
    "print(time.time() -start)\n",
    "print(evaluation.get_df_metrics(rus_boost))\n",
    "evaluation.plot_confusion_matrix(rus_boost)"
   ]
  }
 ],
 "metadata": {
  "kernelspec": {
   "display_name": "Python 3 (ipykernel)",
   "language": "python",
   "name": "python3"
  },
  "language_info": {
   "codemirror_mode": {
    "name": "ipython",
    "version": 3
   },
   "file_extension": ".py",
   "mimetype": "text/x-python",
   "name": "python",
   "nbconvert_exporter": "python",
   "pygments_lexer": "ipython3",
   "version": "3.11.4"
  }
 },
 "nbformat": 4,
 "nbformat_minor": 5
}
