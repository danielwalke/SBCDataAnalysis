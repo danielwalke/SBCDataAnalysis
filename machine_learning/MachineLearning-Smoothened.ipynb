{
 "cells": [
  {
   "cell_type": "markdown",
   "id": "d4ba6980",
   "metadata": {},
   "source": [
    "## Load data"
   ]
  },
  {
   "cell_type": "code",
   "execution_count": 1,
   "id": "d7857ca8",
   "metadata": {},
   "outputs": [],
   "source": [
    "import sys\n",
    " \n",
    "sys.path.insert(0, \"../\")"
   ]
  },
  {
   "cell_type": "code",
   "execution_count": 2,
   "id": "6c929aa7",
   "metadata": {
    "scrolled": true
   },
   "outputs": [
    {
     "name": "stderr",
     "output_type": "stream",
     "text": [
      "/home/dwalke/git/sbc/machine_learning/../dataAnalysis/data/Filter.py:34: SettingWithCopyWarning: \n",
      "A value is trying to be set on a copy of a slice from a DataFrame.\n",
      "Try using .loc[row_indexer,col_indexer] = value instead\n",
      "\n",
      "See the caveats in the documentation: https://pandas.pydata.org/pandas-docs/stable/user_guide/indexing.html#returning-a-view-versus-a-copy\n",
      "  self.data['Label'] = self.data['Diagnosis']\n",
      "/home/dwalke/git/sbc/machine_learning/../dataAnalysis/data/Filter.py:34: SettingWithCopyWarning: \n",
      "A value is trying to be set on a copy of a slice from a DataFrame.\n",
      "Try using .loc[row_indexer,col_indexer] = value instead\n",
      "\n",
      "See the caveats in the documentation: https://pandas.pydata.org/pandas-docs/stable/user_guide/indexing.html#returning-a-view-versus-a-copy\n",
      "  self.data['Label'] = self.data['Diagnosis']\n",
      "/home/dwalke/git/sbc/machine_learning/../dataAnalysis/data/Filter.py:34: SettingWithCopyWarning: \n",
      "A value is trying to be set on a copy of a slice from a DataFrame.\n",
      "Try using .loc[row_indexer,col_indexer] = value instead\n",
      "\n",
      "See the caveats in the documentation: https://pandas.pydata.org/pandas-docs/stable/user_guide/indexing.html#returning-a-view-versus-a-copy\n",
      "  self.data['Label'] = self.data['Diagnosis']\n"
     ]
    }
   ],
   "source": [
    "from dataAnalysis.data.Filter import Filter\n",
    "import pandas as pd\n",
    "from dataAnalysis.Constants import *\n",
    "from dataAnalysis.DataAnalysis import DataAnalysis\n",
    "\n",
    "data = pd.read_csv(r\"../extdata/sbcdata.csv\", header=0)\n",
    "data_analysis = DataAnalysis(data, mimic_data = None)"
   ]
  },
  {
   "cell_type": "code",
   "execution_count": 3,
   "id": "f896cbaf",
   "metadata": {},
   "outputs": [],
   "source": [
    "data = pd.concat((data_analysis.get_training_data(), data_analysis.get_testing_data()))\n",
    "max_Id = data[\"Id\"].unique().max()\n",
    "gw_data = data_analysis.get_gw_testing_data().copy(deep=True)\n",
    "gw_data = gw_data.assign(Id=lambda x: x.Id + max_Id)\n",
    "data = pd.concat((data, gw_data))\n",
    "data = data.sort_values(\"Id\")\n",
    "unique_ids = data[\"Id\"].unique()\n",
    "data = data.reset_index(drop=True)\n",
    "data.pop(\"index\")\n",
    "data = data.sort_values([\"Id\", \"Time\"])\n",
    "data = data.reset_index(drop=True)"
   ]
  },
  {
   "cell_type": "code",
   "execution_count": 4,
   "id": "1b405381",
   "metadata": {},
   "outputs": [],
   "source": [
    "from dataAnalysis.Constants import SEX_CATEGORY_COLUMN_NAME, SEX_COLUMN_NAME, FEATURES\n",
    "data[SEX_CATEGORY_COLUMN_NAME] = data.loc[:, SEX_COLUMN_NAME] ==\"W\"\n",
    "data[SEX_CATEGORY_COLUMN_NAME] = data[SEX_CATEGORY_COLUMN_NAME].astype(\"int8\")\n",
    "data[\"Label\"] = data[\"Label\"] == \"Sepsis\"\n",
    "data[\"Label\"] = data[\"Label\"].astype(\"int8\")"
   ]
  },
  {
   "cell_type": "code",
   "execution_count": 5,
   "id": "07a73e53",
   "metadata": {},
   "outputs": [
    {
     "data": {
      "text/html": [
       "<div>\n",
       "<style scoped>\n",
       "    .dataframe tbody tr th:only-of-type {\n",
       "        vertical-align: middle;\n",
       "    }\n",
       "\n",
       "    .dataframe tbody tr th {\n",
       "        vertical-align: top;\n",
       "    }\n",
       "\n",
       "    .dataframe thead th {\n",
       "        text-align: right;\n",
       "    }\n",
       "</style>\n",
       "<table border=\"1\" class=\"dataframe\">\n",
       "  <thead>\n",
       "    <tr style=\"text-align: right;\">\n",
       "      <th></th>\n",
       "      <th>Id</th>\n",
       "      <th>Age</th>\n",
       "      <th>Episode</th>\n",
       "      <th>Time</th>\n",
       "      <th>SecToIcu</th>\n",
       "      <th>CRP</th>\n",
       "      <th>HGB</th>\n",
       "      <th>MCV</th>\n",
       "      <th>PCT</th>\n",
       "      <th>PLT</th>\n",
       "      <th>RBC</th>\n",
       "      <th>WBC</th>\n",
       "      <th>Label</th>\n",
       "      <th>SexCategory</th>\n",
       "    </tr>\n",
       "  </thead>\n",
       "  <tbody>\n",
       "    <tr>\n",
       "      <th>count</th>\n",
       "      <td>1.819435e+06</td>\n",
       "      <td>1.819435e+06</td>\n",
       "      <td>1819435.0</td>\n",
       "      <td>1.819435e+06</td>\n",
       "      <td>9.529800e+04</td>\n",
       "      <td>1.160718e+06</td>\n",
       "      <td>1.819435e+06</td>\n",
       "      <td>1.819435e+06</td>\n",
       "      <td>45234.000000</td>\n",
       "      <td>1.819435e+06</td>\n",
       "      <td>1.819435e+06</td>\n",
       "      <td>1.819435e+06</td>\n",
       "      <td>1.819435e+06</td>\n",
       "      <td>1.819435e+06</td>\n",
       "    </tr>\n",
       "    <tr>\n",
       "      <th>mean</th>\n",
       "      <td>5.080331e+05</td>\n",
       "      <td>5.872990e+01</td>\n",
       "      <td>1.0</td>\n",
       "      <td>6.635706e+05</td>\n",
       "      <td>6.873870e+05</td>\n",
       "      <td>3.366954e+01</td>\n",
       "      <td>7.490981e+00</td>\n",
       "      <td>8.867748e+01</td>\n",
       "      <td>1.776924</td>\n",
       "      <td>2.410147e+02</td>\n",
       "      <td>4.064236e+00</td>\n",
       "      <td>8.407066e+00</td>\n",
       "      <td>1.354267e-03</td>\n",
       "      <td>4.949113e-01</td>\n",
       "    </tr>\n",
       "    <tr>\n",
       "      <th>std</th>\n",
       "      <td>2.821110e+05</td>\n",
       "      <td>1.831597e+01</td>\n",
       "      <td>0.0</td>\n",
       "      <td>1.754445e+06</td>\n",
       "      <td>1.673025e+06</td>\n",
       "      <td>5.404259e+01</td>\n",
       "      <td>1.505142e+00</td>\n",
       "      <td>6.291470e+00</td>\n",
       "      <td>12.526838</td>\n",
       "      <td>1.130200e+02</td>\n",
       "      <td>8.200045e-01</td>\n",
       "      <td>7.359161e+00</td>\n",
       "      <td>3.677544e-02</td>\n",
       "      <td>4.999742e-01</td>\n",
       "    </tr>\n",
       "    <tr>\n",
       "      <th>min</th>\n",
       "      <td>1.000000e+00</td>\n",
       "      <td>1.800000e+01</td>\n",
       "      <td>1.0</td>\n",
       "      <td>0.000000e+00</td>\n",
       "      <td>0.000000e+00</td>\n",
       "      <td>0.000000e+00</td>\n",
       "      <td>1.000000e-01</td>\n",
       "      <td>1.090000e+01</td>\n",
       "      <td>0.000000</td>\n",
       "      <td>0.000000e+00</td>\n",
       "      <td>1.000000e-01</td>\n",
       "      <td>0.000000e+00</td>\n",
       "      <td>0.000000e+00</td>\n",
       "      <td>0.000000e+00</td>\n",
       "    </tr>\n",
       "    <tr>\n",
       "      <th>25%</th>\n",
       "      <td>2.616430e+05</td>\n",
       "      <td>4.600000e+01</td>\n",
       "      <td>1.0</td>\n",
       "      <td>0.000000e+00</td>\n",
       "      <td>2.189925e+04</td>\n",
       "      <td>3.010000e+00</td>\n",
       "      <td>6.400000e+00</td>\n",
       "      <td>8.500000e+01</td>\n",
       "      <td>0.080000</td>\n",
       "      <td>1.780000e+02</td>\n",
       "      <td>3.500000e+00</td>\n",
       "      <td>5.700000e+00</td>\n",
       "      <td>0.000000e+00</td>\n",
       "      <td>0.000000e+00</td>\n",
       "    </tr>\n",
       "    <tr>\n",
       "      <th>50%</th>\n",
       "      <td>5.229810e+05</td>\n",
       "      <td>6.100000e+01</td>\n",
       "      <td>1.0</td>\n",
       "      <td>6.552000e+04</td>\n",
       "      <td>1.366800e+05</td>\n",
       "      <td>1.010000e+01</td>\n",
       "      <td>7.700000e+00</td>\n",
       "      <td>8.850000e+01</td>\n",
       "      <td>0.140000</td>\n",
       "      <td>2.330000e+02</td>\n",
       "      <td>4.170000e+00</td>\n",
       "      <td>7.520000e+00</td>\n",
       "      <td>0.000000e+00</td>\n",
       "      <td>0.000000e+00</td>\n",
       "    </tr>\n",
       "    <tr>\n",
       "      <th>75%</th>\n",
       "      <td>7.698940e+05</td>\n",
       "      <td>7.300000e+01</td>\n",
       "      <td>1.0</td>\n",
       "      <td>6.505200e+05</td>\n",
       "      <td>6.587850e+05</td>\n",
       "      <td>4.006000e+01</td>\n",
       "      <td>8.600000e+00</td>\n",
       "      <td>9.220000e+01</td>\n",
       "      <td>0.430000</td>\n",
       "      <td>2.940000e+02</td>\n",
       "      <td>4.660000e+00</td>\n",
       "      <td>9.990000e+00</td>\n",
       "      <td>0.000000e+00</td>\n",
       "      <td>1.000000e+00</td>\n",
       "    </tr>\n",
       "    <tr>\n",
       "      <th>max</th>\n",
       "      <td>9.481210e+05</td>\n",
       "      <td>1.060000e+02</td>\n",
       "      <td>1.0</td>\n",
       "      <td>1.632744e+08</td>\n",
       "      <td>4.253190e+07</td>\n",
       "      <td>7.378600e+02</td>\n",
       "      <td>1.500000e+01</td>\n",
       "      <td>1.557000e+02</td>\n",
       "      <td>701.200000</td>\n",
       "      <td>3.354000e+03</td>\n",
       "      <td>9.400000e+00</td>\n",
       "      <td>9.516000e+02</td>\n",
       "      <td>1.000000e+00</td>\n",
       "      <td>1.000000e+00</td>\n",
       "    </tr>\n",
       "  </tbody>\n",
       "</table>\n",
       "</div>"
      ],
      "text/plain": [
       "                 Id           Age    Episode          Time      SecToIcu  \\\n",
       "count  1.819435e+06  1.819435e+06  1819435.0  1.819435e+06  9.529800e+04   \n",
       "mean   5.080331e+05  5.872990e+01        1.0  6.635706e+05  6.873870e+05   \n",
       "std    2.821110e+05  1.831597e+01        0.0  1.754445e+06  1.673025e+06   \n",
       "min    1.000000e+00  1.800000e+01        1.0  0.000000e+00  0.000000e+00   \n",
       "25%    2.616430e+05  4.600000e+01        1.0  0.000000e+00  2.189925e+04   \n",
       "50%    5.229810e+05  6.100000e+01        1.0  6.552000e+04  1.366800e+05   \n",
       "75%    7.698940e+05  7.300000e+01        1.0  6.505200e+05  6.587850e+05   \n",
       "max    9.481210e+05  1.060000e+02        1.0  1.632744e+08  4.253190e+07   \n",
       "\n",
       "                CRP           HGB           MCV           PCT           PLT  \\\n",
       "count  1.160718e+06  1.819435e+06  1.819435e+06  45234.000000  1.819435e+06   \n",
       "mean   3.366954e+01  7.490981e+00  8.867748e+01      1.776924  2.410147e+02   \n",
       "std    5.404259e+01  1.505142e+00  6.291470e+00     12.526838  1.130200e+02   \n",
       "min    0.000000e+00  1.000000e-01  1.090000e+01      0.000000  0.000000e+00   \n",
       "25%    3.010000e+00  6.400000e+00  8.500000e+01      0.080000  1.780000e+02   \n",
       "50%    1.010000e+01  7.700000e+00  8.850000e+01      0.140000  2.330000e+02   \n",
       "75%    4.006000e+01  8.600000e+00  9.220000e+01      0.430000  2.940000e+02   \n",
       "max    7.378600e+02  1.500000e+01  1.557000e+02    701.200000  3.354000e+03   \n",
       "\n",
       "                RBC           WBC         Label   SexCategory  \n",
       "count  1.819435e+06  1.819435e+06  1.819435e+06  1.819435e+06  \n",
       "mean   4.064236e+00  8.407066e+00  1.354267e-03  4.949113e-01  \n",
       "std    8.200045e-01  7.359161e+00  3.677544e-02  4.999742e-01  \n",
       "min    1.000000e-01  0.000000e+00  0.000000e+00  0.000000e+00  \n",
       "25%    3.500000e+00  5.700000e+00  0.000000e+00  0.000000e+00  \n",
       "50%    4.170000e+00  7.520000e+00  0.000000e+00  0.000000e+00  \n",
       "75%    4.660000e+00  9.990000e+00  0.000000e+00  1.000000e+00  \n",
       "max    9.400000e+00  9.516000e+02  1.000000e+00  1.000000e+00  "
      ]
     },
     "execution_count": 5,
     "metadata": {},
     "output_type": "execute_result"
    }
   ],
   "source": [
    "data.describe()"
   ]
  },
  {
   "cell_type": "code",
   "execution_count": 23,
   "id": "be1c54ba",
   "metadata": {},
   "outputs": [
    {
     "data": {
      "text/html": [
       "<div>\n",
       "<style scoped>\n",
       "    .dataframe tbody tr th:only-of-type {\n",
       "        vertical-align: middle;\n",
       "    }\n",
       "\n",
       "    .dataframe tbody tr th {\n",
       "        vertical-align: top;\n",
       "    }\n",
       "\n",
       "    .dataframe thead th {\n",
       "        text-align: right;\n",
       "    }\n",
       "</style>\n",
       "<table border=\"1\" class=\"dataframe\">\n",
       "  <thead>\n",
       "    <tr style=\"text-align: right;\">\n",
       "      <th></th>\n",
       "      <th>Id</th>\n",
       "      <th>Age</th>\n",
       "      <th>Sex</th>\n",
       "      <th>Diagnosis</th>\n",
       "      <th>Center</th>\n",
       "      <th>Set</th>\n",
       "      <th>Sender</th>\n",
       "      <th>Episode</th>\n",
       "      <th>Time</th>\n",
       "      <th>TargetIcu</th>\n",
       "      <th>SecToIcu</th>\n",
       "      <th>CRP</th>\n",
       "      <th>HGB</th>\n",
       "      <th>MCV</th>\n",
       "      <th>PCT</th>\n",
       "      <th>PLT</th>\n",
       "      <th>RBC</th>\n",
       "      <th>WBC</th>\n",
       "      <th>Label</th>\n",
       "      <th>SexCategory</th>\n",
       "    </tr>\n",
       "  </thead>\n",
       "  <tbody>\n",
       "    <tr>\n",
       "      <th>1819428</th>\n",
       "      <td>948120</td>\n",
       "      <td>56</td>\n",
       "      <td>M</td>\n",
       "      <td>Control</td>\n",
       "      <td>Greifswald</td>\n",
       "      <td>Validation</td>\n",
       "      <td>ED</td>\n",
       "      <td>1</td>\n",
       "      <td>0.0</td>\n",
       "      <td>NaN</td>\n",
       "      <td>NaN</td>\n",
       "      <td>24.4</td>\n",
       "      <td>10.1</td>\n",
       "      <td>89.0</td>\n",
       "      <td>NaN</td>\n",
       "      <td>236.0</td>\n",
       "      <td>5.4</td>\n",
       "      <td>8.12</td>\n",
       "      <td>0</td>\n",
       "      <td>0</td>\n",
       "    </tr>\n",
       "    <tr>\n",
       "      <th>1819429</th>\n",
       "      <td>948120</td>\n",
       "      <td>56</td>\n",
       "      <td>M</td>\n",
       "      <td>Control</td>\n",
       "      <td>Greifswald</td>\n",
       "      <td>Validation</td>\n",
       "      <td>GEN</td>\n",
       "      <td>1</td>\n",
       "      <td>74640.0</td>\n",
       "      <td>NaN</td>\n",
       "      <td>NaN</td>\n",
       "      <td>52.0</td>\n",
       "      <td>9.9</td>\n",
       "      <td>89.2</td>\n",
       "      <td>NaN</td>\n",
       "      <td>219.0</td>\n",
       "      <td>5.4</td>\n",
       "      <td>7.00</td>\n",
       "      <td>0</td>\n",
       "      <td>0</td>\n",
       "    </tr>\n",
       "    <tr>\n",
       "      <th>1819430</th>\n",
       "      <td>948120</td>\n",
       "      <td>56</td>\n",
       "      <td>M</td>\n",
       "      <td>Control</td>\n",
       "      <td>Greifswald</td>\n",
       "      <td>Validation</td>\n",
       "      <td>GEN</td>\n",
       "      <td>1</td>\n",
       "      <td>118380.0</td>\n",
       "      <td>NaN</td>\n",
       "      <td>NaN</td>\n",
       "      <td>NaN</td>\n",
       "      <td>8.7</td>\n",
       "      <td>88.1</td>\n",
       "      <td>NaN</td>\n",
       "      <td>200.0</td>\n",
       "      <td>4.7</td>\n",
       "      <td>6.20</td>\n",
       "      <td>0</td>\n",
       "      <td>0</td>\n",
       "    </tr>\n",
       "    <tr>\n",
       "      <th>1819431</th>\n",
       "      <td>948120</td>\n",
       "      <td>56</td>\n",
       "      <td>M</td>\n",
       "      <td>Control</td>\n",
       "      <td>Greifswald</td>\n",
       "      <td>Validation</td>\n",
       "      <td>GEN</td>\n",
       "      <td>1</td>\n",
       "      <td>168660.0</td>\n",
       "      <td>NaN</td>\n",
       "      <td>NaN</td>\n",
       "      <td>95.0</td>\n",
       "      <td>8.7</td>\n",
       "      <td>88.4</td>\n",
       "      <td>NaN</td>\n",
       "      <td>233.0</td>\n",
       "      <td>4.7</td>\n",
       "      <td>6.92</td>\n",
       "      <td>0</td>\n",
       "      <td>0</td>\n",
       "    </tr>\n",
       "    <tr>\n",
       "      <th>1819432</th>\n",
       "      <td>948120</td>\n",
       "      <td>56</td>\n",
       "      <td>M</td>\n",
       "      <td>Control</td>\n",
       "      <td>Greifswald</td>\n",
       "      <td>Validation</td>\n",
       "      <td>GEN</td>\n",
       "      <td>1</td>\n",
       "      <td>340440.0</td>\n",
       "      <td>NaN</td>\n",
       "      <td>NaN</td>\n",
       "      <td>63.6</td>\n",
       "      <td>8.1</td>\n",
       "      <td>87.6</td>\n",
       "      <td>NaN</td>\n",
       "      <td>225.0</td>\n",
       "      <td>4.5</td>\n",
       "      <td>3.70</td>\n",
       "      <td>0</td>\n",
       "      <td>0</td>\n",
       "    </tr>\n",
       "  </tbody>\n",
       "</table>\n",
       "</div>"
      ],
      "text/plain": [
       "             Id  Age Sex Diagnosis      Center         Set Sender  Episode  \\\n",
       "1819428  948120   56   M   Control  Greifswald  Validation     ED        1   \n",
       "1819429  948120   56   M   Control  Greifswald  Validation    GEN        1   \n",
       "1819430  948120   56   M   Control  Greifswald  Validation    GEN        1   \n",
       "1819431  948120   56   M   Control  Greifswald  Validation    GEN        1   \n",
       "1819432  948120   56   M   Control  Greifswald  Validation    GEN        1   \n",
       "\n",
       "             Time TargetIcu  SecToIcu   CRP   HGB   MCV  PCT    PLT  RBC  \\\n",
       "1819428       0.0       NaN       NaN  24.4  10.1  89.0  NaN  236.0  5.4   \n",
       "1819429   74640.0       NaN       NaN  52.0   9.9  89.2  NaN  219.0  5.4   \n",
       "1819430  118380.0       NaN       NaN   NaN   8.7  88.1  NaN  200.0  4.7   \n",
       "1819431  168660.0       NaN       NaN  95.0   8.7  88.4  NaN  233.0  4.7   \n",
       "1819432  340440.0       NaN       NaN  63.6   8.1  87.6  NaN  225.0  4.5   \n",
       "\n",
       "          WBC  Label  SexCategory  \n",
       "1819428  8.12      0            0  \n",
       "1819429  7.00      0            0  \n",
       "1819430  6.20      0            0  \n",
       "1819431  6.92      0            0  \n",
       "1819432  3.70      0            0  "
      ]
     },
     "execution_count": 23,
     "metadata": {},
     "output_type": "execute_result"
    }
   ],
   "source": [
    "data[data[\"Id\"] == 948120]"
   ]
  },
  {
   "cell_type": "code",
   "execution_count": 6,
   "id": "089ec5f5",
   "metadata": {},
   "outputs": [],
   "source": [
    "data_new = data[['Id', 'Age', 'Episode', 'Time', 'HGB', 'MCV', 'PLT', 'RBC', 'WBC', 'Label', 'SexCategory']]"
   ]
  },
  {
   "cell_type": "code",
   "execution_count": 7,
   "id": "26f11f4c",
   "metadata": {},
   "outputs": [],
   "source": [
    "data_new = data_new.copy(deep=True)"
   ]
  },
  {
   "cell_type": "markdown",
   "id": "5166ef64",
   "metadata": {},
   "source": [
    "## Smoothing features along time"
   ]
  },
  {
   "cell_type": "code",
   "execution_count": 8,
   "id": "b72e8636",
   "metadata": {},
   "outputs": [],
   "source": [
    "# from tqdm.notebook import tqdm\n",
    "# for Id, group in tqdm(data_new.groupby(\"Id\")):\n",
    "#     sepsis_group = group[group[\"Label\"] == 1]\n",
    "#     control_group = group[group[\"Label\"] == 0]\n",
    "    \n",
    "#     if sepsis_group.shape[0] > 1:\n",
    "#         sepsis_mean = sepsis_group.mean(numeric_only = True)\n",
    "#         for idx in sepsis_group.index:\n",
    "#             data_new.iloc[idx] = sepsis_mean\n",
    "#     if control_group.shape[0] > 1:\n",
    "#         control_mean = control_group.mean(numeric_only = True)\n",
    "#         for idx in control_group.index:\n",
    "#             data_new.iloc[idx] = control_mean"
   ]
  },
  {
   "cell_type": "code",
   "execution_count": 9,
   "id": "33368a01",
   "metadata": {},
   "outputs": [],
   "source": [
    "data_new = pd.read_csv(\"../extdata/sbcdata_smooothened.csv\")"
   ]
  },
  {
   "cell_type": "code",
   "execution_count": 10,
   "id": "9d8ea389",
   "metadata": {},
   "outputs": [],
   "source": [
    "data_new = data_new.sample(frac=1).reset_index(drop=True)"
   ]
  },
  {
   "cell_type": "code",
   "execution_count": 11,
   "id": "c8b0b21f",
   "metadata": {},
   "outputs": [],
   "source": [
    "data_new[\"Center\"] = data[\"Center\"]\n",
    "data_new[\"Set\"] = data[\"Set\"]"
   ]
  },
  {
   "cell_type": "code",
   "execution_count": 13,
   "id": "dee56dda",
   "metadata": {},
   "outputs": [],
   "source": [
    "import numpy as np\n",
    "y_train = data_new[np.logical_and(data_new[\"Set\"] ==\"Training\", data_new[\"Center\"] ==\"Leipzig\")][\"Label\"].values\n",
    "X_train = data_new[np.logical_and(data_new[\"Set\"] ==\"Training\", data_new[\"Center\"] ==\"Leipzig\")][FEATURES].values\n",
    "\n",
    "y_test = data_new[np.logical_and(data_new[\"Set\"] ==\"Validation\", data_new[\"Center\"] ==\"Leipzig\")][\"Label\"].values\n",
    "X_test = data_new[np.logical_and(data_new[\"Set\"] ==\"Validation\", data_new[\"Center\"] ==\"Leipzig\")][FEATURES].values\n",
    "\n",
    "y_gw_test = data_new[np.logical_and(data_new[\"Set\"] ==\"Validation\", data_new[\"Center\"] ==\"Greifswald\")][\"Label\"].values\n",
    "X_gw_test = data_new[np.logical_and(data_new[\"Set\"] ==\"Validation\", data_new[\"Center\"] ==\"Greifswald\")][FEATURES].values"
   ]
  },
  {
   "cell_type": "markdown",
   "id": "5125b9de",
   "metadata": {},
   "source": [
    "## Metrics definition"
   ]
  },
  {
   "cell_type": "code",
   "execution_count": 14,
   "id": "8c918088",
   "metadata": {},
   "outputs": [],
   "source": [
    "from dataAnalysis.Metrics import Evaluation\n",
    "\n",
    "evaluation = Evaluation(y_test, y_gw_test, X_test, X_gw_test)\n",
    "# evaluation_ed = Evaluation(y_test_ed, y_test_ed_gw, X_test_ed, X_test_ed_gw)"
   ]
  },
  {
   "cell_type": "code",
   "execution_count": 15,
   "id": "2e88d3dd",
   "metadata": {},
   "outputs": [],
   "source": [
    "from sklearn.metrics import precision_recall_curve\n",
    "def print_prc(classifier, y_test = y_test):\n",
    "    y_score = classifier.predict_proba(X_test)[:, 1]\n",
    "    #calculate precision and recall\n",
    "    precision, recall, thresholds = precision_recall_curve(y_test, y_score)\n",
    "\n",
    "    #create precision recall curve\n",
    "    fig, ax = plt.subplots()\n",
    "    ax.plot(recall, precision, color='purple')\n",
    "\n",
    "    #add axis labels to plot\n",
    "    ax.set_title('Precision-Recall Curve')\n",
    "    ax.set_ylabel('Precision')\n",
    "    ax.set_xlabel('Recall')\n",
    "\n",
    "    #display plot\n",
    "    plt.show()"
   ]
  },
  {
   "cell_type": "markdown",
   "id": "c95a3a59",
   "metadata": {},
   "source": [
    "## Logistic regression"
   ]
  },
  {
   "cell_type": "code",
   "execution_count": 17,
   "id": "6a3e7da8",
   "metadata": {},
   "outputs": [
    {
     "name": "stdout",
     "output_type": "stream",
     "text": [
      "9.253026485443115\n",
      "         Name       MCC  F1-Micro  F1-Macro  F1-Binary     AUROC     AUPRC\n",
      "0     Leipzig  0.045132  0.779949  0.442761   0.009292  0.830424  0.011188\n",
      "1  Greifswald  0.043813  0.780637  0.442790   0.008911  0.825150  0.011666\n"
     ]
    },
    {
     "data": {
      "image/png": "[encoded data removed]",
      "text/plain": [
       "<Figure size 640x480 with 2 Axes>"
      ]
     },
     "metadata": {},
     "output_type": "display_data"
    }
   ],
   "source": [
    "from sklearn.linear_model import LogisticRegression\n",
    "import time\n",
    "start = time.time()\n",
    "logistic_regression = LogisticRegression(random_state=0, solver=\"liblinear\", class_weight=\"balanced\")\n",
    "logistic_regression.fit(X_train, y_train)\n",
    "print(time.time() -start)\n",
    "print(evaluation.get_df_metrics(logistic_regression))\n",
    "# print(evaluation_ed.get_df_metrics(logistic_regression))\n",
    "evaluation.plot_confusion_matrix(logistic_regression)"
   ]
  },
  {
   "cell_type": "markdown",
   "id": "83e925c7",
   "metadata": {},
   "source": [
    "## Decision Tree"
   ]
  },
  {
   "cell_type": "code",
   "execution_count": 18,
   "id": "25bd19b4",
   "metadata": {},
   "outputs": [
    {
     "name": "stdout",
     "output_type": "stream",
     "text": [
      "5.476520538330078\n",
      "         Name       MCC  F1-Micro  F1-Macro  F1-Binary     AUROC     AUPRC\n",
      "0     Leipzig  0.049584  0.799311  0.449337   0.010340  0.833661  0.011002\n",
      "1  Greifswald  0.050347  0.799362  0.449296   0.010225  0.847219  0.010773\n"
     ]
    },
    {
     "data": {
      "image/png": "[encoded data removed]",
      "text/plain": [
       "<Figure size 640x480 with 2 Axes>"
      ]
     },
     "metadata": {},
     "output_type": "display_data"
    }
   ],
   "source": [
    "from sklearn.tree import DecisionTreeClassifier\n",
    "start = time.time()\n",
    "decision_tree = DecisionTreeClassifier(random_state=42, max_features=6, min_samples_leaf=0.005,\n",
    "                       min_samples_split=0.03, class_weight=\"balanced\")\n",
    "decision_tree.fit(X_train, y_train)\n",
    "print(time.time() -start)\n",
    "print(evaluation.get_df_metrics(decision_tree))\n",
    "evaluation.plot_confusion_matrix(decision_tree)"
   ]
  },
  {
   "cell_type": "markdown",
   "id": "3e002cb9",
   "metadata": {},
   "source": [
    "## Random Forest"
   ]
  },
  {
   "cell_type": "code",
   "execution_count": 19,
   "id": "0228e490",
   "metadata": {},
   "outputs": [
    {
     "name": "stdout",
     "output_type": "stream",
     "text": [
      "36.946463108062744\n",
      "         Name       MCC  F1-Micro  F1-Macro  F1-Binary     AUROC     AUPRC\n",
      "0     Leipzig  0.080562  0.927698  0.493387   0.024316  0.880935  0.022497\n",
      "1  Greifswald  0.083835  0.928081  0.493714   0.024763  0.892254  0.025459\n",
      "[0.09653746 0.00964148 0.0797795  0.54384227 0.06577552 0.04693541\n",
      " 0.15748836]\n"
     ]
    },
    {
     "data": {
      "image/png": "[encoded data removed]",
      "text/plain": [
       "<Figure size 640x480 with 2 Axes>"
      ]
     },
     "metadata": {},
     "output_type": "display_data"
    }
   ],
   "source": [
    "from sklearn.ensemble import RandomForestClassifier\n",
    "import time\n",
    "start = time.time()\n",
    "random_forest = RandomForestClassifier(class_weight={0: 0.0025, 1: 1}, max_leaf_nodes=79,\n",
    "                           min_samples_leaf=0.0001,\n",
    "                           min_samples_split=0.0055,\n",
    "                           n_estimators=500, random_state=42, n_jobs=-1)\n",
    "random_forest.fit(X_train, y_train)\n",
    "print(time.time() -start)\n",
    "print(evaluation.get_df_metrics(random_forest))\n",
    "# print(evaluation_ed.get_df_metrics(logistic_regression))\n",
    "evaluation.plot_confusion_matrix(random_forest)\n",
    "print(random_forest.feature_importances_)"
   ]
  },
  {
   "cell_type": "markdown",
   "id": "bcb3c81d",
   "metadata": {},
   "source": [
    "## XG Boost"
   ]
  },
  {
   "cell_type": "code",
   "execution_count": 20,
   "id": "b98a78a9",
   "metadata": {},
   "outputs": [
    {
     "name": "stdout",
     "output_type": "stream",
     "text": [
      "10.37796425819397\n",
      "         Name       MCC  F1-Micro  F1-Macro  F1-Binary     AUROC     AUPRC\n",
      "0     Leipzig  0.112816  0.987209  0.532459   0.071358  0.916973  0.040504\n",
      "1  Greifswald  0.121234  0.987064  0.534131   0.074776  0.919930  0.045076\n"
     ]
    },
    {
     "data": {
      "image/png": "[encoded data removed]",
      "text/plain": [
       "<Figure size 640x480 with 2 Axes>"
      ]
     },
     "metadata": {},
     "output_type": "display_data"
    }
   ],
   "source": [
    "from xgboost import XGBClassifier\n",
    "\n",
    "start = time.time()\n",
    "# xgb_classifier = XGBClassifier(tree_method='gpu_hist', \n",
    "#                            scale_pos_weight = 660,\n",
    "#                            n_estimators=478,\n",
    "#                            max_depth=2,\n",
    "#                            eta=0.1,\n",
    "#                            min_child_weight = 7,\n",
    "#                            max_delta_step= 7,\n",
    "#                            sampling_method= \"uniform\")\n",
    "xgb_classifier = XGBClassifier(tree_method='gpu_hist', \n",
    "                           scale_pos_weight = 70,\n",
    "                           n_estimators=1000,\n",
    "                           max_depth=2,\n",
    "                           eta=0.1,\n",
    "                           min_child_weight = 7,\n",
    "                           max_delta_step= 7,\n",
    "                           sampling_method= \"uniform\")\n",
    "xgb_classifier.fit(X_train, y_train)\n",
    "print(time.time() -start)\n",
    "print(evaluation.get_df_metrics(xgb_classifier))\n",
    "evaluation.plot_confusion_matrix(xgb_classifier)"
   ]
  },
  {
   "cell_type": "markdown",
   "id": "42d73428",
   "metadata": {},
   "source": [
    "## RUS Boost"
   ]
  },
  {
   "cell_type": "code",
   "execution_count": 217,
   "id": "0a6aa257",
   "metadata": {},
   "outputs": [
    {
     "name": "stderr",
     "output_type": "stream",
     "text": [
      "/home/dwalke/.local/lib/python3.10/site-packages/imblearn/ensemble/_weight_boosting.py:271: FutureWarning: `base_estimator` was renamed to `estimator` in version 0.10 and will be removed in 0.12.\n",
      "  warnings.warn(\n"
     ]
    },
    {
     "name": "stdout",
     "output_type": "stream",
     "text": [
      "141.51515698432922\n",
      "         Name       MCC  F1-Micro  F1-Macro  F1-Binary     AUROC     AUPRC\n",
      "0     Leipzig  0.069688  0.886203  0.478131   0.016656  0.888801  0.042837\n",
      "1  Greifswald  0.045280  0.836611  0.459751   0.008533  0.845496  0.016384\n"
     ]
    },
    {
     "data": {
      "image/png": "[encoded data removed]",
      "text/plain": [
       "<Figure size 640x480 with 2 Axes>"
      ]
     },
     "metadata": {},
     "output_type": "display_data"
    }
   ],
   "source": [
    "from imblearn.ensemble import RUSBoostClassifier\n",
    "from sklearn.tree import DecisionTreeClassifier\n",
    "import time\n",
    "start = time.time()\n",
    "rus_boost = RUSBoostClassifier(base_estimator=DecisionTreeClassifier(max_depth=79, min_samples_leaf= 5, min_samples_split = 10),\n",
    "                   learning_rate=0.90369, n_estimators=495,\n",
    "                   random_state=1714400672, sampling_strategy=35/65)\n",
    "rus_boost.fit(X_train, y_train)\n",
    "print(time.time() -start)\n",
    "print(evaluation.get_df_metrics(rus_boost))\n",
    "evaluation.plot_confusion_matrix(rus_boost)"
   ]
  }
 ],
 "metadata": {
  "kernelspec": {
   "display_name": "Python 3 (ipykernel)",
   "language": "python",
   "name": "python3"
  },
  "language_info": {
   "codemirror_mode": {
    "name": "ipython",
    "version": 3
   },
   "file_extension": ".py",
   "mimetype": "text/x-python",
   "name": "python",
   "nbconvert_exporter": "python",
   "pygments_lexer": "ipython3",
   "version": "3.10.12"
  }
 },
 "nbformat": 4,
 "nbformat_minor": 5
}
