{
 "cells": [
  {
   "cell_type": "code",
   "execution_count": 35,
   "id": "98a31eb8",
   "metadata": {},
   "outputs": [],
   "source": [
    "import pandas as pd\n",
    "from dataAnalysis.Constants import FEATURES, SEX_CATEGORY_COLUMN_NAME, FEATURES_IN_TABLE"
   ]
  },
  {
   "cell_type": "code",
   "execution_count": 36,
   "id": "37a98a3d",
   "metadata": {},
   "outputs": [],
   "source": [
    "mimic_sbc = pd.read_csv(\"hosp_mimic_sbc.csv\")"
   ]
  },
  {
   "cell_type": "code",
   "execution_count": 37,
   "id": "5dd79033",
   "metadata": {},
   "outputs": [
    {
     "data": {
      "text/html": [
       "<div>\n",
       "<style scoped>\n",
       "    .dataframe tbody tr th:only-of-type {\n",
       "        vertical-align: middle;\n",
       "    }\n",
       "\n",
       "    .dataframe tbody tr th {\n",
       "        vertical-align: top;\n",
       "    }\n",
       "\n",
       "    .dataframe thead th {\n",
       "        text-align: right;\n",
       "    }\n",
       "</style>\n",
       "<table border=\"1\" class=\"dataframe\">\n",
       "  <thead>\n",
       "    <tr style=\"text-align: right;\">\n",
       "      <th></th>\n",
       "      <th>Unnamed: 0</th>\n",
       "      <th>subject_id</th>\n",
       "      <th>Age</th>\n",
       "      <th>Sex</th>\n",
       "      <th>HGB</th>\n",
       "      <th>WBC</th>\n",
       "      <th>RBC</th>\n",
       "      <th>MCV</th>\n",
       "      <th>PLT</th>\n",
       "      <th>Label</th>\n",
       "    </tr>\n",
       "  </thead>\n",
       "  <tbody>\n",
       "    <tr>\n",
       "      <th>0</th>\n",
       "      <td>0</td>\n",
       "      <td>10000032</td>\n",
       "      <td>52</td>\n",
       "      <td>W</td>\n",
       "      <td>7.8867</td>\n",
       "      <td>4.2</td>\n",
       "      <td>3.80</td>\n",
       "      <td>99.0</td>\n",
       "      <td>71.0</td>\n",
       "      <td>0</td>\n",
       "    </tr>\n",
       "    <tr>\n",
       "      <th>1</th>\n",
       "      <td>8</td>\n",
       "      <td>10000032</td>\n",
       "      <td>52</td>\n",
       "      <td>W</td>\n",
       "      <td>7.7004</td>\n",
       "      <td>6.6</td>\n",
       "      <td>3.60</td>\n",
       "      <td>99.0</td>\n",
       "      <td>137.0</td>\n",
       "      <td>0</td>\n",
       "    </tr>\n",
       "    <tr>\n",
       "      <th>2</th>\n",
       "      <td>16</td>\n",
       "      <td>10000032</td>\n",
       "      <td>52</td>\n",
       "      <td>W</td>\n",
       "      <td>7.3899</td>\n",
       "      <td>4.1</td>\n",
       "      <td>3.40</td>\n",
       "      <td>102.0</td>\n",
       "      <td>94.0</td>\n",
       "      <td>0</td>\n",
       "    </tr>\n",
       "    <tr>\n",
       "      <th>3</th>\n",
       "      <td>29</td>\n",
       "      <td>10000032</td>\n",
       "      <td>52</td>\n",
       "      <td>W</td>\n",
       "      <td>6.9552</td>\n",
       "      <td>4.8</td>\n",
       "      <td>3.15</td>\n",
       "      <td>102.0</td>\n",
       "      <td>95.0</td>\n",
       "      <td>0</td>\n",
       "    </tr>\n",
       "    <tr>\n",
       "      <th>4</th>\n",
       "      <td>42</td>\n",
       "      <td>10000032</td>\n",
       "      <td>52</td>\n",
       "      <td>W</td>\n",
       "      <td>7.5141</td>\n",
       "      <td>7.5</td>\n",
       "      <td>3.36</td>\n",
       "      <td>103.0</td>\n",
       "      <td>133.0</td>\n",
       "      <td>0</td>\n",
       "    </tr>\n",
       "    <tr>\n",
       "      <th>...</th>\n",
       "      <td>...</td>\n",
       "      <td>...</td>\n",
       "      <td>...</td>\n",
       "      <td>...</td>\n",
       "      <td>...</td>\n",
       "      <td>...</td>\n",
       "      <td>...</td>\n",
       "      <td>...</td>\n",
       "      <td>...</td>\n",
       "      <td>...</td>\n",
       "    </tr>\n",
       "    <tr>\n",
       "      <th>1820355</th>\n",
       "      <td>32597226</td>\n",
       "      <td>19999987</td>\n",
       "      <td>57</td>\n",
       "      <td>W</td>\n",
       "      <td>7.1415</td>\n",
       "      <td>5.0</td>\n",
       "      <td>3.32</td>\n",
       "      <td>106.0</td>\n",
       "      <td>129.0</td>\n",
       "      <td>0</td>\n",
       "    </tr>\n",
       "    <tr>\n",
       "      <th>1820356</th>\n",
       "      <td>32597237</td>\n",
       "      <td>19999987</td>\n",
       "      <td>57</td>\n",
       "      <td>W</td>\n",
       "      <td>8.1972</td>\n",
       "      <td>12.9</td>\n",
       "      <td>3.83</td>\n",
       "      <td>104.0</td>\n",
       "      <td>121.0</td>\n",
       "      <td>0</td>\n",
       "    </tr>\n",
       "    <tr>\n",
       "      <th>1820357</th>\n",
       "      <td>32597248</td>\n",
       "      <td>19999987</td>\n",
       "      <td>57</td>\n",
       "      <td>W</td>\n",
       "      <td>7.8246</td>\n",
       "      <td>11.6</td>\n",
       "      <td>3.64</td>\n",
       "      <td>105.0</td>\n",
       "      <td>120.0</td>\n",
       "      <td>0</td>\n",
       "    </tr>\n",
       "    <tr>\n",
       "      <th>1820358</th>\n",
       "      <td>32597259</td>\n",
       "      <td>19999987</td>\n",
       "      <td>57</td>\n",
       "      <td>W</td>\n",
       "      <td>7.6383</td>\n",
       "      <td>10.0</td>\n",
       "      <td>3.58</td>\n",
       "      <td>105.0</td>\n",
       "      <td>135.0</td>\n",
       "      <td>0</td>\n",
       "    </tr>\n",
       "    <tr>\n",
       "      <th>1820359</th>\n",
       "      <td>32597270</td>\n",
       "      <td>19999987</td>\n",
       "      <td>57</td>\n",
       "      <td>W</td>\n",
       "      <td>7.8867</td>\n",
       "      <td>5.9</td>\n",
       "      <td>3.63</td>\n",
       "      <td>106.0</td>\n",
       "      <td>141.0</td>\n",
       "      <td>0</td>\n",
       "    </tr>\n",
       "  </tbody>\n",
       "</table>\n",
       "<p>1763213 rows × 10 columns</p>\n",
       "</div>"
      ],
      "text/plain": [
       "         Unnamed: 0  subject_id  Age Sex     HGB   WBC   RBC    MCV    PLT  \\\n",
       "0                 0    10000032   52   W  7.8867   4.2  3.80   99.0   71.0   \n",
       "1                 8    10000032   52   W  7.7004   6.6  3.60   99.0  137.0   \n",
       "2                16    10000032   52   W  7.3899   4.1  3.40  102.0   94.0   \n",
       "3                29    10000032   52   W  6.9552   4.8  3.15  102.0   95.0   \n",
       "4                42    10000032   52   W  7.5141   7.5  3.36  103.0  133.0   \n",
       "...             ...         ...  ...  ..     ...   ...   ...    ...    ...   \n",
       "1820355    32597226    19999987   57   W  7.1415   5.0  3.32  106.0  129.0   \n",
       "1820356    32597237    19999987   57   W  8.1972  12.9  3.83  104.0  121.0   \n",
       "1820357    32597248    19999987   57   W  7.8246  11.6  3.64  105.0  120.0   \n",
       "1820358    32597259    19999987   57   W  7.6383  10.0  3.58  105.0  135.0   \n",
       "1820359    32597270    19999987   57   W  7.8867   5.9  3.63  106.0  141.0   \n",
       "\n",
       "         Label  \n",
       "0            0  \n",
       "1            0  \n",
       "2            0  \n",
       "3            0  \n",
       "4            0  \n",
       "...        ...  \n",
       "1820355      0  \n",
       "1820356      0  \n",
       "1820357      0  \n",
       "1820358      0  \n",
       "1820359      0  \n",
       "\n",
       "[1763213 rows x 10 columns]"
      ]
     },
     "execution_count": 37,
     "metadata": {},
     "output_type": "execute_result"
    }
   ],
   "source": [
    "mimic_sbc.dropna(subset=FEATURES_IN_TABLE)"
   ]
  },
  {
   "cell_type": "code",
   "execution_count": 38,
   "id": "96c3c366",
   "metadata": {},
   "outputs": [],
   "source": [
    "mimic_sbc.loc[:, SEX_CATEGORY_COLUMN_NAME] = mimic_sbc[\"Sex\"] == \"W\""
   ]
  },
  {
   "cell_type": "code",
   "execution_count": 39,
   "id": "c0befb98",
   "metadata": {},
   "outputs": [],
   "source": [
    "mimic_sbc[SEX_CATEGORY_COLUMN_NAME] = mimic_sbc[SEX_CATEGORY_COLUMN_NAME].astype(int)"
   ]
  },
  {
   "cell_type": "code",
   "execution_count": 40,
   "id": "1b1f76f0",
   "metadata": {},
   "outputs": [],
   "source": [
    "X = mimic_sbc.loc[:,  FEATURES].values\n",
    "y = mimic_sbc.loc[:, \"Label\"].values"
   ]
  },
  {
   "cell_type": "code",
   "execution_count": 41,
   "id": "c268d49e",
   "metadata": {},
   "outputs": [],
   "source": [
    "from sklearn.model_selection import train_test_split\n",
    "\n",
    "X_train, X_test, y_train, y_test = train_test_split(\n",
    "    X, y, test_size=0.33, random_state=42, stratify=y)"
   ]
  },
  {
   "cell_type": "code",
   "execution_count": 42,
   "id": "3ed4b2f3",
   "metadata": {},
   "outputs": [],
   "source": [
    "import numpy as np\n",
    "unique, counts = np.unique(y_train, return_counts=True)"
   ]
  },
  {
   "cell_type": "code",
   "execution_count": 43,
   "id": "7f4b97b3",
   "metadata": {},
   "outputs": [],
   "source": [
    "from dataAnalysis.Metrics import Evaluation\n",
    "\n",
    "evaluation = Evaluation(y_test, y_test, X_test, X_test)"
   ]
  },
  {
   "cell_type": "code",
   "execution_count": 44,
   "id": "9b65d9bb",
   "metadata": {},
   "outputs": [
    {
     "name": "stdout",
     "output_type": "stream",
     "text": [
      "         Name      MCC  F1-Micro  F1-Macro  F1-Binary     AUROC    AUPRC\n",
      "0     Leipzig  0.14537  0.686254  0.470713   0.132951  0.752697  0.10197\n",
      "1  Greifswald  0.14537  0.686254  0.470713   0.132951  0.752697  0.10197\n"
     ]
    },
    {
     "data": {
      "image/png": "[encoded data removed]",
      "text/plain": [
       "<Figure size 640x480 with 2 Axes>"
      ]
     },
     "metadata": {},
     "output_type": "display_data"
    }
   ],
   "source": [
    "from xgboost import XGBClassifier\n",
    "xgb_classifier = XGBClassifier(tree_method='gpu_hist', \n",
    "                           scale_pos_weight = counts[0]/ counts[1],\n",
    "                           n_estimators=478,\n",
    "                           max_depth=2,\n",
    "                           eta=0.1,\n",
    "                           min_child_weight = 7,\n",
    "                           max_delta_step= 7,\n",
    "                           sampling_method= \"uniform\")\n",
    "xgb_classifier.fit(X_train, y_train)\n",
    "print(evaluation.get_df_metrics(xgb_classifier))\n",
    "evaluation.plot_confusion_matrix(xgb_classifier)"
   ]
  },
  {
   "cell_type": "code",
   "execution_count": 45,
   "id": "38dd870f",
   "metadata": {},
   "outputs": [
    {
     "name": "stdout",
     "output_type": "stream",
     "text": [
      "Data shifted to the device cuda:0\n"
     ]
    }
   ],
   "source": [
    "import torch\n",
    "device = torch.device(\"cuda:0\") if torch.cuda.is_available() else torch.device(\"cpu\")\n",
    "\n",
    "X_train, X_val, y_train, y_val =X_train, X_train, y_train, y_train\n",
    "# train_test_split(\n",
    "#     X_train, y_train, test_size=0.2, random_state=42, stratify=y_train)\n",
    "\n",
    "X_train= torch.from_numpy(X_train).type(torch.float)\n",
    "X_val= torch.from_numpy(X_val).type(torch.float)\n",
    "X_test= torch.from_numpy(X_test).type(torch.float)\n",
    "y_train= torch.from_numpy(y_train).type(torch.float)\n",
    "y_val= torch.from_numpy(y_val).type(torch.float)\n",
    "y_test= torch.from_numpy(y_test).type(torch.float)\n",
    "\n",
    "X_train = X_train.to(device)\n",
    "y_train = y_train.to(device)\n",
    "\n",
    "X_val = X_val.to(device)\n",
    "y_val = y_val.to(device)\n",
    "\n",
    "X_test = X_test.to(device)\n",
    "y_test = y_test.to(device)\n",
    "\n",
    "WEIGHT = torch.tensor([counts[0]/ counts[1]])\n",
    "WEIGHT = WEIGHT.to(device)\n",
    "\n",
    "print(\"Data shifted to the device \" + str(device))"
   ]
  },
  {
   "cell_type": "code",
   "execution_count": 46,
   "id": "0a496e15",
   "metadata": {},
   "outputs": [],
   "source": [
    "import torch.nn.functional as F\n",
    "from torch.nn import Linear\n",
    "import torch\n",
    "from dataAnalysis.Constants import FEATURES\n",
    "\n",
    "class NeuralNetwork(torch.nn.Module):\n",
    "\n",
    "    def __init__(self, hidden_dim = 128, out_channels = 1):\n",
    "        super(NeuralNetwork, self).__init__()\n",
    "        \n",
    "        input_dim = len(FEATURES)\n",
    "        self.lin_0 = Linear(input_dim, hidden_dim)\n",
    "        self.lin_1 = Linear(input_dim, hidden_dim)\n",
    "        self.lin_end_0 = Linear(hidden_dim, out_channels)\n",
    "        self.lin_end_1 = Linear(hidden_dim, out_channels)\n",
    "        self.batchnorm_1 = torch.nn.BatchNorm1d(hidden_dim)\n",
    "\n",
    "    def forward(self, x):\n",
    "        x = self.lin_0(x) + self.lin_1(x)\n",
    "#         x = F.normalize(x, p=2., dim=-1)\n",
    "        x = torch.relu(x)\n",
    "#         x= self.batchnorm_1(x)\n",
    "        x = self.lin_end_0(x) + self.lin_end_1(x) \n",
    "        return x\n",
    "            \n",
    "    def predict_proba(self, x):\n",
    "        with torch.inference_mode():\n",
    "            self.eval()\n",
    "            logits = self.forward(x)\n",
    "            scores = torch.sigmoid(torch.squeeze(logits))\n",
    "            scores = torch.unsqueeze(scores, 0)\n",
    "            proba_predict = torch.concat((1- scores, scores), dim = 0)\n",
    "            return torch.transpose(proba_predict, 0, 1)\n",
    "            \n",
    "    def predict(self, x):\n",
    "        return torch.round(self.predict_proba(x)[:, 1])"
   ]
  },
  {
   "cell_type": "code",
   "execution_count": 47,
   "id": "bb0b2ddc",
   "metadata": {},
   "outputs": [
    {
     "data": {
      "text/plain": [
       "torch.Size([975712, 7])"
      ]
     },
     "execution_count": 47,
     "metadata": {},
     "output_type": "execute_result"
    }
   ],
   "source": [
    "X_train.shape"
   ]
  },
  {
   "cell_type": "code",
   "execution_count": 55,
   "id": "79590801",
   "metadata": {},
   "outputs": [
    {
     "data": {
      "text/plain": [
       "tensor(111831, device='cuda:0')"
      ]
     },
     "execution_count": 55,
     "metadata": {},
     "output_type": "execute_result"
    }
   ],
   "source": [
    "torch.isnan(X_train).sum()"
   ]
  },
  {
   "cell_type": "code",
   "execution_count": 53,
   "id": "1b536484",
   "metadata": {},
   "outputs": [],
   "source": [
    "import torch \n",
    "\n",
    "class ModelWrapper():\n",
    "    def __init__(self):\n",
    "        self.LEARNING_RATE = 3e-4\n",
    "        self.MAX_EPOCHS = 10000\n",
    "\n",
    "        self.model = NeuralNetwork(hidden_dim = 128, out_channels=1) \n",
    "        self.model = self.model.to(device)\n",
    "        self.optimizer = torch.optim.Adam(self.model.parameters(), lr=self.LEARNING_RATE,betas=(0.9, 0.999), eps=1e-08)\n",
    "        \n",
    "        self.last_loss = 0\n",
    "        self.increased_loss = 0\n",
    "        self.BREAKING_THRESHOLD = 5      \n",
    "    \n",
    "    def validate(self):\n",
    "        with torch.inference_mode():\n",
    "            self.model.eval()\n",
    "            out = self.model(X_val)\n",
    "            loss = F.binary_cross_entropy_with_logits(torch.squeeze(out), y_val.type(torch.float32),\n",
    "                                                      pos_weight=WEIGHT)\n",
    "            \n",
    "            if loss.item() > self.last_loss:\n",
    "                self.increased_loss += 1\n",
    "            else:\n",
    "                self.increased_loss = 0\n",
    "            self.last_loss = loss.item()\n",
    "            \n",
    "            \n",
    "\n",
    "    def train(self):\n",
    "        global y_test, X_test\n",
    "        for epoch in range(self.MAX_EPOCHS):\n",
    "#             print(epoch)\n",
    "            self.model.train()\n",
    "            self.optimizer.zero_grad()\n",
    "            out = self.model(X_train)\n",
    "            print(torch.isnan(out).sum())\n",
    "            loss = F.binary_cross_entropy_with_logits(torch.squeeze(out), y_train.type(torch.float32),\n",
    "                                                      pos_weight=WEIGHT)\n",
    "            print(loss)\n",
    "            loss.backward()\n",
    "            self.optimizer.step()\n",
    "            self.validate() \n",
    "\n",
    "            if self.increased_loss >= self.BREAKING_THRESHOLD:\n",
    "                print(f\"Breaked at {str(epoch)}\")\n",
    "                break\n",
    "            if epoch % 3 == 0:\n",
    "                model = self.get_model()\n",
    "                y_test = y_test.cpu()\n",
    "                X_test = X_test.cpu()\n",
    "                model = model.cpu()\n",
    "                from dataAnalysis.Metrics import Evaluation\n",
    "\n",
    "                evaluation = Evaluation(y_test, y_test, X_test, X_test)\n",
    "                print(evaluation.get_df_metrics(model))\n",
    "                evaluation.plot_confusion_matrix(model)\n",
    "            \n",
    "    def get_model(self):\n",
    "        return self.model    "
   ]
  },
  {
   "cell_type": "code",
   "execution_count": 54,
   "id": "32c71324",
   "metadata": {},
   "outputs": [
    {
     "name": "stdout",
     "output_type": "stream",
     "text": [
      "tensor(30562, device='cuda:0')\n",
      "tensor(nan, device='cuda:0', grad_fn=<BinaryCrossEntropyWithLogitsBackward0>)\n"
     ]
    },
    {
     "ename": "ValueError",
     "evalue": "Input y_pred contains NaN.",
     "output_type": "error",
     "traceback": [
      "\u001b[0;31m---------------------------------------------------------------------------\u001b[0m",
      "\u001b[0;31mValueError\u001b[0m                                Traceback (most recent call last)",
      "Cell \u001b[0;32mIn[54], line 2\u001b[0m\n\u001b[1;32m      1\u001b[0m modelWrapper \u001b[38;5;241m=\u001b[39m ModelWrapper()\n\u001b[0;32m----> 2\u001b[0m \u001b[43mmodelWrapper\u001b[49m\u001b[38;5;241;43m.\u001b[39;49m\u001b[43mtrain\u001b[49m\u001b[43m(\u001b[49m\u001b[43m)\u001b[49m\n",
      "Cell \u001b[0;32mIn[53], line 57\u001b[0m, in \u001b[0;36mModelWrapper.train\u001b[0;34m(self)\u001b[0m\n\u001b[1;32m     54\u001b[0m \u001b[38;5;28;01mfrom\u001b[39;00m \u001b[38;5;21;01mdataAnalysis\u001b[39;00m\u001b[38;5;21;01m.\u001b[39;00m\u001b[38;5;21;01mMetrics\u001b[39;00m \u001b[38;5;28;01mimport\u001b[39;00m Evaluation\n\u001b[1;32m     56\u001b[0m evaluation \u001b[38;5;241m=\u001b[39m Evaluation(y_test, y_test, X_test, X_test)\n\u001b[0;32m---> 57\u001b[0m \u001b[38;5;28mprint\u001b[39m(\u001b[43mevaluation\u001b[49m\u001b[38;5;241;43m.\u001b[39;49m\u001b[43mget_df_metrics\u001b[49m\u001b[43m(\u001b[49m\u001b[43mmodel\u001b[49m\u001b[43m)\u001b[49m)\n\u001b[1;32m     58\u001b[0m evaluation\u001b[38;5;241m.\u001b[39mplot_confusion_matrix(model)\n",
      "File \u001b[0;32m~/git/sbc/dataAnalysis/Metrics.py:52\u001b[0m, in \u001b[0;36mEvaluation.get_df_metrics\u001b[0;34m(self, model)\u001b[0m\n\u001b[1;32m     50\u001b[0m y_leipzig \u001b[38;5;241m=\u001b[39m Evaluation\u001b[38;5;241m.\u001b[39mcreate_y_dict(test_pred, test_pred_proba, \u001b[38;5;28mself\u001b[39m\u001b[38;5;241m.\u001b[39my_test)\n\u001b[1;32m     51\u001b[0m y_gw \u001b[38;5;241m=\u001b[39m Evaluation\u001b[38;5;241m.\u001b[39mcreate_y_dict(gw_pred, gw_pred_proba, \u001b[38;5;28mself\u001b[39m\u001b[38;5;241m.\u001b[39my_gw_test)\n\u001b[0;32m---> 52\u001b[0m \u001b[38;5;28;01mreturn\u001b[39;00m \u001b[43mEvaluation\u001b[49m\u001b[38;5;241;43m.\u001b[39;49m\u001b[43mget_df_metrics_from_pred\u001b[49m\u001b[43m(\u001b[49m\u001b[43my_leipzig\u001b[49m\u001b[43m,\u001b[49m\u001b[43m \u001b[49m\u001b[43my_gw\u001b[49m\u001b[43m)\u001b[49m\n",
      "File \u001b[0;32m~/git/sbc/dataAnalysis/Metrics.py:77\u001b[0m, in \u001b[0;36mEvaluation.get_df_metrics_from_pred\u001b[0;34m(y_leipzig, y_gw)\u001b[0m\n\u001b[1;32m     74\u001b[0m test_pred, test_pred_proba, y_test \u001b[38;5;241m=\u001b[39m y_leipzig[\u001b[38;5;124m\"\u001b[39m\u001b[38;5;124mtest_pred\u001b[39m\u001b[38;5;124m\"\u001b[39m], y_leipzig[\u001b[38;5;124m\"\u001b[39m\u001b[38;5;124mtest_pred_proba\u001b[39m\u001b[38;5;124m\"\u001b[39m], y_leipzig[\u001b[38;5;124m\"\u001b[39m\u001b[38;5;124my_test\u001b[39m\u001b[38;5;124m\"\u001b[39m]\n\u001b[1;32m     75\u001b[0m gw_pred, gw_pred_proba, y_gw_test \u001b[38;5;241m=\u001b[39m y_gw[\u001b[38;5;124m\"\u001b[39m\u001b[38;5;124mtest_pred\u001b[39m\u001b[38;5;124m\"\u001b[39m], y_gw[\u001b[38;5;124m\"\u001b[39m\u001b[38;5;124mtest_pred_proba\u001b[39m\u001b[38;5;124m\"\u001b[39m], y_gw[\u001b[38;5;124m\"\u001b[39m\u001b[38;5;124my_test\u001b[39m\u001b[38;5;124m\"\u001b[39m]\n\u001b[0;32m---> 77\u001b[0m leipzig_metrics \u001b[38;5;241m=\u001b[39m \u001b[43mcustom_metrics\u001b[49m\u001b[43m(\u001b[49m\u001b[43my_test\u001b[49m\u001b[43m,\u001b[49m\u001b[43m \u001b[49m\u001b[43mtest_pred\u001b[49m\u001b[43m,\u001b[49m\u001b[43m \u001b[49m\u001b[43mtest_pred_proba\u001b[49m\u001b[43m[\u001b[49m\u001b[43m:\u001b[49m\u001b[43m,\u001b[49m\u001b[43m \u001b[49m\u001b[38;5;241;43m1\u001b[39;49m\u001b[43m]\u001b[49m\u001b[43m,\u001b[49m\u001b[43m \u001b[49m\u001b[38;5;124;43m\"\u001b[39;49m\u001b[38;5;124;43mLeipzig\u001b[39;49m\u001b[38;5;124;43m\"\u001b[39;49m\u001b[43m)\u001b[49m\n\u001b[1;32m     78\u001b[0m greifswald_metrics \u001b[38;5;241m=\u001b[39m custom_metrics(y_gw_test, gw_pred ,gw_pred_proba[:, \u001b[38;5;241m1\u001b[39m], \u001b[38;5;124m\"\u001b[39m\u001b[38;5;124mGreifswald\u001b[39m\u001b[38;5;124m\"\u001b[39m)\n\u001b[1;32m     80\u001b[0m data \u001b[38;5;241m=\u001b[39m [[leipzig_metrics[key] \u001b[38;5;28;01mfor\u001b[39;00m key \u001b[38;5;129;01min\u001b[39;00m leipzig_metrics],\n\u001b[1;32m     81\u001b[0m         [greifswald_metrics[key] \u001b[38;5;28;01mfor\u001b[39;00m key \u001b[38;5;129;01min\u001b[39;00m greifswald_metrics]]\n",
      "File \u001b[0;32m~/git/sbc/dataAnalysis/Metrics.py:13\u001b[0m, in \u001b[0;36mcustom_metrics\u001b[0;34m(y_true, y_pred, y_score, name)\u001b[0m\n\u001b[1;32m     12\u001b[0m \u001b[38;5;28;01mdef\u001b[39;00m \u001b[38;5;21mcustom_metrics\u001b[39m(y_true, y_pred, y_score, name):\n\u001b[0;32m---> 13\u001b[0m         mcc \u001b[38;5;241m=\u001b[39m \u001b[43mmatthews_corrcoef\u001b[49m\u001b[43m(\u001b[49m\u001b[43my_true\u001b[49m\u001b[43m,\u001b[49m\u001b[43m \u001b[49m\u001b[43my_pred\u001b[49m\u001b[43m)\u001b[49m\n\u001b[1;32m     14\u001b[0m         f1_macro \u001b[38;5;241m=\u001b[39m f1_score(y_true, y_pred, average\u001b[38;5;241m=\u001b[39m\u001b[38;5;124m'\u001b[39m\u001b[38;5;124mmacro\u001b[39m\u001b[38;5;124m'\u001b[39m)\n\u001b[1;32m     15\u001b[0m         f1_micro \u001b[38;5;241m=\u001b[39m f1_score(y_true, y_pred, average\u001b[38;5;241m=\u001b[39m\u001b[38;5;124m'\u001b[39m\u001b[38;5;124mmicro\u001b[39m\u001b[38;5;124m'\u001b[39m)\n",
      "File \u001b[0;32m~/.local/lib/python3.10/site-packages/sklearn/metrics/_classification.py:911\u001b[0m, in \u001b[0;36mmatthews_corrcoef\u001b[0;34m(y_true, y_pred, sample_weight)\u001b[0m\n\u001b[1;32m    848\u001b[0m \u001b[38;5;28;01mdef\u001b[39;00m \u001b[38;5;21mmatthews_corrcoef\u001b[39m(y_true, y_pred, \u001b[38;5;241m*\u001b[39m, sample_weight\u001b[38;5;241m=\u001b[39m\u001b[38;5;28;01mNone\u001b[39;00m):\n\u001b[1;32m    849\u001b[0m \u001b[38;5;250m    \u001b[39m\u001b[38;5;124;03m\"\"\"Compute the Matthews correlation coefficient (MCC).\u001b[39;00m\n\u001b[1;32m    850\u001b[0m \n\u001b[1;32m    851\u001b[0m \u001b[38;5;124;03m    The Matthews correlation coefficient is used in machine learning as a\u001b[39;00m\n\u001b[0;32m   (...)\u001b[0m\n\u001b[1;32m    909\u001b[0m \u001b[38;5;124;03m    -0.33...\u001b[39;00m\n\u001b[1;32m    910\u001b[0m \u001b[38;5;124;03m    \"\"\"\u001b[39;00m\n\u001b[0;32m--> 911\u001b[0m     y_type, y_true, y_pred \u001b[38;5;241m=\u001b[39m \u001b[43m_check_targets\u001b[49m\u001b[43m(\u001b[49m\u001b[43my_true\u001b[49m\u001b[43m,\u001b[49m\u001b[43m \u001b[49m\u001b[43my_pred\u001b[49m\u001b[43m)\u001b[49m\n\u001b[1;32m    912\u001b[0m     check_consistent_length(y_true, y_pred, sample_weight)\n\u001b[1;32m    913\u001b[0m     \u001b[38;5;28;01mif\u001b[39;00m y_type \u001b[38;5;129;01mnot\u001b[39;00m \u001b[38;5;129;01min\u001b[39;00m {\u001b[38;5;124m\"\u001b[39m\u001b[38;5;124mbinary\u001b[39m\u001b[38;5;124m\"\u001b[39m, \u001b[38;5;124m\"\u001b[39m\u001b[38;5;124mmulticlass\u001b[39m\u001b[38;5;124m\"\u001b[39m}:\n",
      "File \u001b[0;32m~/.local/lib/python3.10/site-packages/sklearn/metrics/_classification.py:88\u001b[0m, in \u001b[0;36m_check_targets\u001b[0;34m(y_true, y_pred)\u001b[0m\n\u001b[1;32m     86\u001b[0m check_consistent_length(y_true, y_pred)\n\u001b[1;32m     87\u001b[0m type_true \u001b[38;5;241m=\u001b[39m type_of_target(y_true, input_name\u001b[38;5;241m=\u001b[39m\u001b[38;5;124m\"\u001b[39m\u001b[38;5;124my_true\u001b[39m\u001b[38;5;124m\"\u001b[39m)\n\u001b[0;32m---> 88\u001b[0m type_pred \u001b[38;5;241m=\u001b[39m \u001b[43mtype_of_target\u001b[49m\u001b[43m(\u001b[49m\u001b[43my_pred\u001b[49m\u001b[43m,\u001b[49m\u001b[43m \u001b[49m\u001b[43minput_name\u001b[49m\u001b[38;5;241;43m=\u001b[39;49m\u001b[38;5;124;43m\"\u001b[39;49m\u001b[38;5;124;43my_pred\u001b[39;49m\u001b[38;5;124;43m\"\u001b[39;49m\u001b[43m)\u001b[49m\n\u001b[1;32m     90\u001b[0m y_type \u001b[38;5;241m=\u001b[39m {type_true, type_pred}\n\u001b[1;32m     91\u001b[0m \u001b[38;5;28;01mif\u001b[39;00m y_type \u001b[38;5;241m==\u001b[39m {\u001b[38;5;124m\"\u001b[39m\u001b[38;5;124mbinary\u001b[39m\u001b[38;5;124m\"\u001b[39m, \u001b[38;5;124m\"\u001b[39m\u001b[38;5;124mmulticlass\u001b[39m\u001b[38;5;124m\"\u001b[39m}:\n",
      "File \u001b[0;32m~/.local/lib/python3.10/site-packages/sklearn/utils/multiclass.py:381\u001b[0m, in \u001b[0;36mtype_of_target\u001b[0;34m(y, input_name)\u001b[0m\n\u001b[1;32m    379\u001b[0m     data \u001b[38;5;241m=\u001b[39m y\u001b[38;5;241m.\u001b[39mdata \u001b[38;5;28;01mif\u001b[39;00m issparse(y) \u001b[38;5;28;01melse\u001b[39;00m y\n\u001b[1;32m    380\u001b[0m     \u001b[38;5;28;01mif\u001b[39;00m xp\u001b[38;5;241m.\u001b[39many(data \u001b[38;5;241m!=\u001b[39m data\u001b[38;5;241m.\u001b[39mastype(\u001b[38;5;28mint\u001b[39m)):\n\u001b[0;32m--> 381\u001b[0m         \u001b[43m_assert_all_finite\u001b[49m\u001b[43m(\u001b[49m\u001b[43mdata\u001b[49m\u001b[43m,\u001b[49m\u001b[43m \u001b[49m\u001b[43minput_name\u001b[49m\u001b[38;5;241;43m=\u001b[39;49m\u001b[43minput_name\u001b[49m\u001b[43m)\u001b[49m\n\u001b[1;32m    382\u001b[0m         \u001b[38;5;28;01mreturn\u001b[39;00m \u001b[38;5;124m\"\u001b[39m\u001b[38;5;124mcontinuous\u001b[39m\u001b[38;5;124m\"\u001b[39m \u001b[38;5;241m+\u001b[39m suffix\n\u001b[1;32m    384\u001b[0m \u001b[38;5;66;03m# Check multiclass\u001b[39;00m\n",
      "File \u001b[0;32m~/.local/lib/python3.10/site-packages/sklearn/utils/validation.py:161\u001b[0m, in \u001b[0;36m_assert_all_finite\u001b[0;34m(X, allow_nan, msg_dtype, estimator_name, input_name)\u001b[0m\n\u001b[1;32m    144\u001b[0m \u001b[38;5;28;01mif\u001b[39;00m estimator_name \u001b[38;5;129;01mand\u001b[39;00m input_name \u001b[38;5;241m==\u001b[39m \u001b[38;5;124m\"\u001b[39m\u001b[38;5;124mX\u001b[39m\u001b[38;5;124m\"\u001b[39m \u001b[38;5;129;01mand\u001b[39;00m has_nan_error:\n\u001b[1;32m    145\u001b[0m     \u001b[38;5;66;03m# Improve the error message on how to handle missing values in\u001b[39;00m\n\u001b[1;32m    146\u001b[0m     \u001b[38;5;66;03m# scikit-learn.\u001b[39;00m\n\u001b[1;32m    147\u001b[0m     msg_err \u001b[38;5;241m+\u001b[39m\u001b[38;5;241m=\u001b[39m (\n\u001b[1;32m    148\u001b[0m         \u001b[38;5;124mf\u001b[39m\u001b[38;5;124m\"\u001b[39m\u001b[38;5;130;01m\\n\u001b[39;00m\u001b[38;5;132;01m{\u001b[39;00mestimator_name\u001b[38;5;132;01m}\u001b[39;00m\u001b[38;5;124m does not accept missing values\u001b[39m\u001b[38;5;124m\"\u001b[39m\n\u001b[1;32m    149\u001b[0m         \u001b[38;5;124m\"\u001b[39m\u001b[38;5;124m encoded as NaN natively. For supervised learning, you might want\u001b[39m\u001b[38;5;124m\"\u001b[39m\n\u001b[0;32m   (...)\u001b[0m\n\u001b[1;32m    159\u001b[0m         \u001b[38;5;124m\"\u001b[39m\u001b[38;5;124m#estimators-that-handle-nan-values\u001b[39m\u001b[38;5;124m\"\u001b[39m\n\u001b[1;32m    160\u001b[0m     )\n\u001b[0;32m--> 161\u001b[0m \u001b[38;5;28;01mraise\u001b[39;00m \u001b[38;5;167;01mValueError\u001b[39;00m(msg_err)\n",
      "\u001b[0;31mValueError\u001b[0m: Input y_pred contains NaN."
     ]
    }
   ],
   "source": [
    "modelWrapper = ModelWrapper()\n",
    "modelWrapper.train()"
   ]
  },
  {
   "cell_type": "code",
   "execution_count": null,
   "id": "629e81ec",
   "metadata": {},
   "outputs": [],
   "source": []
  }
 ],
 "metadata": {
  "kernelspec": {
   "display_name": "Python 3 (ipykernel)",
   "language": "python",
   "name": "python3"
  },
  "language_info": {
   "codemirror_mode": {
    "name": "ipython",
    "version": 3
   },
   "file_extension": ".py",
   "mimetype": "text/x-python",
   "name": "python",
   "nbconvert_exporter": "python",
   "pygments_lexer": "ipython3",
   "version": "3.10.6"
  }
 },
 "nbformat": 4,
 "nbformat_minor": 5
}
