{
 "cells": [
  {
   "cell_type": "markdown",
   "id": "8686e53a",
   "metadata": {},
   "source": [
    "## Load data"
   ]
  },
  {
   "cell_type": "code",
   "execution_count": 1,
   "id": "68e59c36",
   "metadata": {
    "scrolled": true
   },
   "outputs": [
    {
     "name": "stderr",
     "output_type": "stream",
     "text": [
      "/home/dwalke/git/sbc/dataAnalysis/data/Filter.py:34: SettingWithCopyWarning: \n",
      "A value is trying to be set on a copy of a slice from a DataFrame.\n",
      "Try using .loc[row_indexer,col_indexer] = value instead\n",
      "\n",
      "See the caveats in the documentation: https://pandas.pydata.org/pandas-docs/stable/user_guide/indexing.html#returning-a-view-versus-a-copy\n",
      "  self.data['Label'] = self.data['Diagnosis']\n"
     ]
    },
    {
     "name": "stdout",
     "output_type": "stream",
     "text": [
      "Training: \n",
      "Assessable data are 528101 cases and 1015074 CBCs\n",
      "Control data are 527038 cases and 1013548 CBCs\n",
      "Sepsis data are 1488 cases and 1526 CBCs\n",
      "$$$$$$$$$$$$$$$$$$$$\n",
      "Testing: \n"
     ]
    },
    {
     "name": "stderr",
     "output_type": "stream",
     "text": [
      "/home/dwalke/git/sbc/dataAnalysis/data/Filter.py:34: SettingWithCopyWarning: \n",
      "A value is trying to be set on a copy of a slice from a DataFrame.\n",
      "Try using .loc[row_indexer,col_indexer] = value instead\n",
      "\n",
      "See the caveats in the documentation: https://pandas.pydata.org/pandas-docs/stable/user_guide/indexing.html#returning-a-view-versus-a-copy\n",
      "  self.data['Label'] = self.data['Diagnosis']\n"
     ]
    },
    {
     "name": "stdout",
     "output_type": "stream",
     "text": [
      "Controls: 365794, Sepsis: 490\n",
      "Assessable data are 180494 cases and 366284 CBCs\n",
      "Control data are 180157 cases and 365794 CBCs\n",
      "Sepsis data are 472 cases and 490 CBCs\n"
     ]
    },
    {
     "name": "stderr",
     "output_type": "stream",
     "text": [
      "/home/dwalke/git/sbc/dataAnalysis/data/Filter.py:34: SettingWithCopyWarning: \n",
      "A value is trying to be set on a copy of a slice from a DataFrame.\n",
      "Try using .loc[row_indexer,col_indexer] = value instead\n",
      "\n",
      "See the caveats in the documentation: https://pandas.pydata.org/pandas-docs/stable/user_guide/indexing.html#returning-a-view-versus-a-copy\n",
      "  self.data['Label'] = self.data['Diagnosis']\n"
     ]
    },
    {
     "name": "stdout",
     "output_type": "stream",
     "text": [
      "Controls: 437629, Sepsis: 448\n",
      "Assessable data are 157922 cases and 438077 CBCs\n",
      "Control data are 180157 cases and 437629 CBCs\n",
      "Sepsis data are 438 cases and 448 CBCs\n"
     ]
    }
   ],
   "source": [
    "from dataAnalysis.DataAnalysis import DataAnalysis\n",
    "import pandas as pd\n",
    "\n",
    "data = pd.read_csv(r\"extdata/sbcdata.csv\", header=0)\n",
    "data_analysis = DataAnalysis(data)"
   ]
  },
  {
   "cell_type": "code",
   "execution_count": 2,
   "id": "ae26e504",
   "metadata": {},
   "outputs": [],
   "source": [
    "import torch\n",
    "\n",
    "y_train = torch.tensor(data_analysis.get_y_train(), dtype=torch.long)\n",
    "X_train = torch.tensor(data_analysis.get_X_train(), dtype=torch.float)"
   ]
  },
  {
   "cell_type": "markdown",
   "id": "9e82c9fb",
   "metadata": {},
   "source": [
    "## Define model"
   ]
  },
  {
   "cell_type": "code",
   "execution_count": 3,
   "id": "769ca01f",
   "metadata": {},
   "outputs": [],
   "source": [
    "import torch.nn.functional as F\n",
    "from torch_geometric.nn import GATConv, GCNConv,GATv2Conv, GINConv, global_add_pool\n",
    "from torch.nn import Linear\n",
    "import torch\n",
    "from dataAnalysis.Constants import FEATURES\n",
    "from torch.nn import Linear, ReLU, Sequential\n",
    "from torch.nn import BatchNorm1d as BatchNorm\n",
    "from torch_geometric.loader import NeighborLoader\n",
    "\n",
    "class GraphNeuralNetwork(torch.nn.Module):\n",
    "    def __init__(self, hidden_dim = 128, out_channels = 1):\n",
    "        super(GraphNeuralNetwork, self).__init__()\n",
    "        input_dim = len(FEATURES)      \n",
    "        \n",
    "        HEADS = 5\n",
    "        \n",
    "        conv_1= GATConv(input_dim, hidden_dim,heads=HEADS, add_self_loops = False)\n",
    "        conv_end = GATConv((-1,-1), out_channels,add_self_loops = False)\n",
    "        \n",
    "        self.conv_1 = conv_1\n",
    "        self.conv_end = conv_end\n",
    "        \n",
    "\n",
    "    def forward(self, graph):\n",
    "        x, edge_index = graph.x, graph.edge_index\n",
    "        x = x.type(torch.float)\n",
    "        x = self.conv_1(x, edge_index)\n",
    "        x = F.normalize(x, p=2., dim=-1)\n",
    "        x = torch.relu(x)\n",
    "        x = self.conv_end(x, edge_index)\n",
    "        return x\n",
    "            \n",
    "    def predict_proba(self, graph):\n",
    "        y_pred_proba_all = torch.tensor([])\n",
    "        loader = NeighborLoader(graph, num_neighbors=[-1,-1], batch_size = 50_000)\n",
    "        with torch.inference_mode():\n",
    "            self.eval()\n",
    "            for i, batch in enumerate(loader):\n",
    "                logits = self.forward(batch)\n",
    "                scores = torch.sigmoid(torch.squeeze(logits))\n",
    "                scores = torch.unsqueeze(scores, 0)\n",
    "                proba_predict = torch.concat((1- scores, scores), dim = 0)\n",
    "                transp_proba_pred = torch.transpose(proba_predict, 0, 1)\n",
    "                y_pred_proba_all = torch.concat((y_pred_proba_all, transp_proba_pred), dim = 0)\n",
    "        return y_pred_proba_all\n",
    "            \n",
    "    def predict(self, graph):\n",
    "        return torch.round(self.predict_proba(graph)[:, 1])"
   ]
  },
  {
   "cell_type": "markdown",
   "id": "1b67178c",
   "metadata": {},
   "source": [
    "## Load trained model"
   ]
  },
  {
   "cell_type": "code",
   "execution_count": 4,
   "id": "9afc869e",
   "metadata": {},
   "outputs": [
    {
     "data": {
      "text/plain": [
       "GraphNeuralNetwork(\n",
       "  (conv_1): GATConv(7, 128, heads=5)\n",
       "  (conv_end): GATConv((-1, -1), 1, heads=1)\n",
       ")"
      ]
     },
     "execution_count": 4,
     "metadata": {},
     "output_type": "execute_result"
    }
   ],
   "source": [
    "model = GraphNeuralNetwork().cpu() #.to(device)\n",
    "model.load_state_dict(torch.load(\"undirected_gat_state_dict.pt\", map_location=torch.device('cpu')))\n",
    "model.eval()"
   ]
  },
  {
   "cell_type": "markdown",
   "id": "6d627f39",
   "metadata": {},
   "source": [
    "## Create graph from synthetic dataset"
   ]
  },
  {
   "cell_type": "code",
   "execution_count": 5,
   "id": "4e363613",
   "metadata": {},
   "outputs": [],
   "source": [
    "from torch_geometric.nn import knn_graph\n",
    "from dataAnalysis.FeatureImportance import FeatureImportance\n",
    "\n",
    "def normalize(tensor):\n",
    "    if not torch.is_tensor(tensor):\n",
    "        tensor = torch.from_numpy(tensor).type(torch.float)\n",
    "    mean = torch.mean(tensor, dim = 0)\n",
    "    std = torch.std(tensor, dim = 0)\n",
    "    mean_diff = tensor - mean\n",
    "    return mean_diff / std\n",
    "\n",
    "\n",
    "feature_importance = FeatureImportance(X_train)\n",
    "X_all_fv = normalize(feature_importance.X_all_fv)\n",
    "node_indices = torch.arange(X_all_fv.shape[0]).type(torch.long)\n",
    "edge_index = node_indices.repeat(2 ,1)"
   ]
  },
  {
   "cell_type": "code",
   "execution_count": 6,
   "id": "cb6ad5a4",
   "metadata": {},
   "outputs": [
    {
     "data": {
      "text/plain": [
       "array([[0., 1., 0., 1., 0., 1., 0.]])"
      ]
     },
     "execution_count": 6,
     "metadata": {},
     "output_type": "execute_result"
    }
   ],
   "source": [
    "import numpy as np\n",
    "import matplotlib.pyplot as plt\n",
    "from dataAnalysis.Constants import FEATURES\n",
    "\n",
    "def getPositionEncoding(seq_len, d = len(FEATURES), n=10000):\n",
    "    P = np.zeros((seq_len, d))\n",
    "    for k in range(seq_len):\n",
    "        for i in np.arange(int(d/2)):\n",
    "            denominator = np.power(n, 2*i/d)\n",
    "            P[k, 2*i] = np.sin(k/denominator)\n",
    "            P[k, 2*i+1] = np.cos(k/denominator)\n",
    "    return P\n",
    "\n",
    "getPositionEncoding(1)"
   ]
  },
  {
   "cell_type": "code",
   "execution_count": 7,
   "id": "ccd5c1e3",
   "metadata": {},
   "outputs": [
    {
     "data": {
      "text/plain": [
       "tensor([[-1.8624, -1.0000, -2.8744,  ..., -2.5111, -2.2260, -0.6495],\n",
       "        [-1.8624, -1.0000, -2.8744,  ..., -2.5111, -2.2260, -0.5297],\n",
       "        [-1.8624, -1.0000, -2.8744,  ..., -2.5111, -2.2260, -0.4285],\n",
       "        ...,\n",
       "        [ 2.2867,  1.0000,  2.6466,  ...,  3.1966,  3.7011,  0.0342],\n",
       "        [ 2.2867,  1.0000,  2.6466,  ...,  3.1966,  3.7011,  0.1485],\n",
       "        [ 2.2867,  1.0000,  2.6466,  ...,  3.1966,  3.7011,  4.2864]])"
      ]
     },
     "execution_count": 7,
     "metadata": {},
     "output_type": "execute_result"
    }
   ],
   "source": [
    "X_all_fv"
   ]
  },
  {
   "cell_type": "code",
   "execution_count": 8,
   "id": "15d4667e",
   "metadata": {},
   "outputs": [
    {
     "data": {
      "text/plain": [
       "tensor([[-1.8624,  0.0000, -2.8744,  ..., -2.5111, -1.2260, -0.6495],\n",
       "        [-1.8624,  0.0000, -2.8744,  ..., -2.5111, -1.2260, -0.5297],\n",
       "        [-1.8624,  0.0000, -2.8744,  ..., -2.5111, -1.2260, -0.4285],\n",
       "        ...,\n",
       "        [ 2.2867,  2.0000,  2.6466,  ...,  3.1966,  4.7011,  0.0342],\n",
       "        [ 2.2867,  2.0000,  2.6466,  ...,  3.1966,  4.7011,  0.1485],\n",
       "        [ 2.2867,  2.0000,  2.6466,  ...,  3.1966,  4.7011,  4.2864]],\n",
       "       dtype=torch.float64)"
      ]
     },
     "execution_count": 8,
     "metadata": {},
     "output_type": "execute_result"
    }
   ],
   "source": [
    "X_all_fv + getPositionEncoding(1).repeat(X_all_fv.shape[0], 0)"
   ]
  },
  {
   "cell_type": "code",
   "execution_count": 9,
   "id": "a19c2439",
   "metadata": {},
   "outputs": [],
   "source": [
    "from torch_geometric.data import Data\n",
    "\n",
    "graph = Data(x= X_all_fv+getPositionEncoding(1).repeat(X_all_fv.shape[0], 0),  edge_index = edge_index.type(torch.long))"
   ]
  },
  {
   "cell_type": "markdown",
   "id": "7d9f9604",
   "metadata": {},
   "source": [
    "## Feature importance"
   ]
  },
  {
   "cell_type": "code",
   "execution_count": 10,
   "id": "ec3736a0",
   "metadata": {},
   "outputs": [],
   "source": [
    "feature_importance.set_model_input([graph])"
   ]
  },
  {
   "cell_type": "code",
   "execution_count": 11,
   "id": "11c109b7",
   "metadata": {},
   "outputs": [
    {
     "name": "stdout",
     "output_type": "stream",
     "text": [
      "Age\n",
      "[28.15490625, 30.062515625000003, 31.611171875, 32.971578125, 34.9955, 38.250671874999995, 41.01478125, 43.202046875, 45.263765625000005, 47.023828125, 48.00921875, 49.260078125, 49.977390625, 50.80953124999999, 51.406328125, 51.52575, 51.30771875, 50.547578125, 49.1119375, 43.868546875]\n",
      "Ratio of diseased men/women over all CBCs for GAT 43.614928125\t43.22255625\n",
      "SexCategory\n",
      "[43.614928125, 43.595309531249995, 43.5756909375, 43.556072343749996, 43.53645375, 43.516835156249996, 43.4972165625, 43.47759796875, 43.457979375, 43.43836078125, 43.4187421875, 43.39912359375, 43.379504999999995, 43.35988640625, 43.340267812499995, 43.32064921875, 43.301030624999996, 43.28141203125, 43.261793437499996, 43.24217484375]\n",
      "HGB\n",
      "[99.67903125000001, 85.05940625000001, 76.37890625, 64.95215625, 54.977140625, 47.851937500000005, 41.6636875, 36.70559375, 34.14359375, 31.567421875, 30.610546875, 30.120296875, 29.95640625, 29.758046874999998, 29.53546875, 29.396140625, 29.275359374999997, 29.262953125000003, 29.456171875, 28.024578124999998]\n",
      "WBC\n",
      "[39.080156249999995, 39.502984375, 39.729890624999996, 39.857203125, 39.96809375, 40.045140624999995, 40.1220625, 40.20078125, 40.2801875, 40.341859375, 40.424140625, 40.529015625, 40.61428125, 40.721734375000004, 40.855640625, 41.01509375, 41.249265625, 41.584703125, 42.252609375, tensor(100)]\n",
      "RBC\n",
      "[64.322609375, 56.448390625, 50.504203125000004, 45.331906249999996, 40.6445625, 36.490890625, 33.642062499999994, 31.910531250000002, 31.122328125, 31.073984375000002, 31.5379375, 32.43946875, 33.526421875000004, 35.034453125, 36.940171875, 39.0875625, 41.678265625, 45.51834375, 51.56912500000001, 99.551625]\n",
      "MCV\n",
      "[64.27615625, 43.700890625, 41.998546874999995, 41.193890625, 40.556, 40.156359375, 39.8009375, 39.51865625, 39.2585625, 39.078203125, 38.845265624999996, 38.681578125, 38.614375, 38.56159375, 38.580328125, 38.645562500000004, 38.88253125, 39.36603125, 40.603296875, 88.056078125]\n",
      "PLT\n",
      "[55.711578125, 51.29003125, 48.14359375, 46.493578125, 45.46909375, 44.741375, 44.15003125, 43.63715625, 43.1861875, 42.761953125000005, 42.40171875, 41.98928125, 41.626062499999996, 41.234218750000004, 40.809374999999996, 40.36196875, 39.815171875, 39.111875000000005, 38.026921875, 37.413671875]\n",
      "[7.771266299107127, 0.11312633022064618, 20.985215563925394, 12.99990556438572, 15.753199520825351, 11.616815714625535, 4.334482121835798]\n",
      "7.771266299107127\n",
      "0.11\n",
      "0.11312633022064618\n",
      "0.0\n",
      "20.985215563925394\n",
      "0.29\n",
      "12.99990556438572\n",
      "0.18\n",
      "15.753199520825351\n",
      "0.21\n",
      "11.616815714625535\n",
      "0.16\n",
      "4.334482121835798\n",
      "0.06\n"
     ]
    },
    {
     "data": {
      "image/png": "[encoded data removed]",
      "text/plain": [
       "<Figure size 640x480 with 1 Axes>"
      ]
     },
     "metadata": {},
     "output_type": "display_data"
    }
   ],
   "source": [
    "feature_importance.plot_feature_importance(model, title= \"Unidrected GAT\", write = False)"
   ]
  }
 ],
 "metadata": {
  "kernelspec": {
   "display_name": "Python 3 (ipykernel)",
   "language": "python",
   "name": "python3"
  },
  "language_info": {
   "codemirror_mode": {
    "name": "ipython",
    "version": 3
   },
   "file_extension": ".py",
   "mimetype": "text/x-python",
   "name": "python",
   "nbconvert_exporter": "python",
   "pygments_lexer": "ipython3",
   "version": "3.10.6"
  }
 },
 "nbformat": 4,
 "nbformat_minor": 5
}
