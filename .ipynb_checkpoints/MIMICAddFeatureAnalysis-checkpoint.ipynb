{
 "cells": [
  {
   "cell_type": "code",
   "execution_count": 1,
   "id": "377ff4b0",
   "metadata": {},
   "outputs": [
    {
     "name": "stderr",
     "output_type": "stream",
     "text": [
      "/home/dwalke/git/sbc/dataAnalysis/data/Filter.py:34: SettingWithCopyWarning: \n",
      "A value is trying to be set on a copy of a slice from a DataFrame.\n",
      "Try using .loc[row_indexer,col_indexer] = value instead\n",
      "\n",
      "See the caveats in the documentation: https://pandas.pydata.org/pandas-docs/stable/user_guide/indexing.html#returning-a-view-versus-a-copy\n",
      "  self.data['Label'] = self.data['Diagnosis']\n"
     ]
    }
   ],
   "source": [
    "import pandas as pd\n",
    "from dataAnalysis.DataAnalysis import DataAnalysis\n",
    "\n",
    "mimc_data = pd.read_csv(\"mimic_cbc+30.csv\")\n",
    "data_analysis = DataAnalysis(None, mimc_data)"
   ]
  },
  {
   "cell_type": "code",
   "execution_count": 2,
   "id": "893046fc",
   "metadata": {},
   "outputs": [],
   "source": [
    "X = data_analysis.get_X_mimic()\n",
    "y = data_analysis.get_y_mimic()"
   ]
  },
  {
   "cell_type": "code",
   "execution_count": 3,
   "id": "0bd583ee",
   "metadata": {},
   "outputs": [
    {
     "data": {
      "text/plain": [
       "(array([[ 71.    ,   0.    ,   5.0922, ...,   2.83  ,  88.    , 279.    ],\n",
       "        [ 21.    ,   1.    ,   9.6876, ...,   5.48  ,  87.    , 294.    ],\n",
       "        [ 88.    ,   1.    ,   7.452 , ...,   3.81  ,  93.    , 313.    ],\n",
       "        ...,\n",
       "        [ 75.    ,   0.    ,   8.8803, ...,   4.36  ,  98.    , 274.    ],\n",
       "        [ 92.    ,   0.    ,   5.7753, ...,   2.95  ,  95.    , 180.    ],\n",
       "        [ 84.    ,   1.    ,   7.7625, ...,   4.21  ,  93.    , 284.    ]]),\n",
       " array([0, 0, 0, ..., 0, 0, 0], dtype=int8))"
      ]
     },
     "execution_count": 3,
     "metadata": {},
     "output_type": "execute_result"
    }
   ],
   "source": [
    "X, y"
   ]
  },
  {
   "cell_type": "code",
   "execution_count": 4,
   "id": "7d5e6d34",
   "metadata": {},
   "outputs": [],
   "source": [
    "from sklearn.model_selection import train_test_split\n",
    "\n",
    "X_train, X_test, y_train, y_test = train_test_split(\n",
    "    X, y, test_size=0.33, random_state=42)\n",
    "\n",
    "X_train, X_val, y_train, y_val = train_test_split(\n",
    "    X_train, y_train, test_size=0.33, random_state=42)"
   ]
  },
  {
   "cell_type": "code",
   "execution_count": 5,
   "id": "1770f907",
   "metadata": {},
   "outputs": [],
   "source": [
    "import torch\n",
    "X_train = torch.from_numpy(X_train).type(torch.float32)\n",
    "X_test = torch.from_numpy(X_test).type(torch.float32)\n",
    "X_val = torch.from_numpy(X_val).type(torch.float32)\n",
    "y_train = torch.from_numpy(y_train).type(torch.long)\n",
    "y_test = torch.from_numpy(y_test).type(torch.long)\n",
    "y_val = torch.from_numpy(y_val).type(torch.long)"
   ]
  },
  {
   "cell_type": "code",
   "execution_count": 6,
   "id": "f2907d1c",
   "metadata": {},
   "outputs": [],
   "source": [
    "import torch\n",
    "def normalize(tensor):\n",
    "    mean = torch.mean(tensor, dim = 0)\n",
    "    std = torch.std(tensor, dim = 0)\n",
    "    mean_diff = tensor - mean\n",
    "    return mean_diff / std\n",
    "\n",
    "X_train = normalize(X_train)\n",
    "X_test = normalize(X_test)\n",
    "X_val = normalize(X_val)"
   ]
  },
  {
   "cell_type": "code",
   "execution_count": 7,
   "id": "fbb55801",
   "metadata": {},
   "outputs": [
    {
     "data": {
      "text/plain": [
       "((array([0, 1]), array([1103526,    1131])),\n",
       " (array([0, 1]), array([811260,    808])))"
      ]
     },
     "execution_count": 7,
     "metadata": {},
     "output_type": "execute_result"
    }
   ],
   "source": [
    "import numpy as np\n",
    "np.unique(y_train, return_counts=True),np.unique(y_test, return_counts=True)"
   ]
  },
  {
   "cell_type": "code",
   "execution_count": 8,
   "id": "6ff6cc41",
   "metadata": {},
   "outputs": [],
   "source": [
    "import torch.nn.functional as F\n",
    "from torch.nn import Linear\n",
    "import torch\n",
    "from dataAnalysis.Constants import FEATURES\n",
    "\n",
    "class NeuralNetwork(torch.nn.Module):\n",
    "\n",
    "    def __init__(self, hidden_dim = 128, out_channels = 1):\n",
    "        super(NeuralNetwork, self).__init__()\n",
    "        \n",
    "        input_dim = len(FEATURES)\n",
    "        self.lin_0 = Linear(input_dim, hidden_dim)\n",
    "        self.lin_1 = Linear(input_dim, hidden_dim)\n",
    "        self.lin_end_0 = Linear(hidden_dim, out_channels)\n",
    "        self.lin_end_1 = Linear(hidden_dim, out_channels)\n",
    "        self.batchnorm_1 = torch.nn.BatchNorm1d(hidden_dim)\n",
    "\n",
    "    def forward(self, x):\n",
    "        x = self.lin_0(x) + self.lin_1(x)\n",
    "        x = F.normalize(x, p=2., dim=-1)\n",
    "        x = torch.relu(x)\n",
    "        x= self.batchnorm_1(x)\n",
    "        x = self.lin_end_0(x) + self.lin_end_1(x) \n",
    "        return x\n",
    "            \n",
    "    def predict_proba(self, x):\n",
    "        with torch.inference_mode():\n",
    "            self.eval()\n",
    "            logits = self.forward(x)\n",
    "            scores = torch.sigmoid(torch.squeeze(logits))\n",
    "            scores = torch.unsqueeze(scores, 0)\n",
    "            proba_predict = torch.concat((1- scores, scores), dim = 0)\n",
    "            return torch.transpose(proba_predict, 0, 1)\n",
    "            \n",
    "    def predict(self, x):\n",
    "        return torch.round(self.predict_proba(x)[:, 1])"
   ]
  },
  {
   "cell_type": "code",
   "execution_count": 9,
   "id": "1dedc044",
   "metadata": {},
   "outputs": [
    {
     "name": "stdout",
     "output_type": "stream",
     "text": [
      "tensor([975.7083])\n",
      "Data shifted to the device cuda:0\n"
     ]
    }
   ],
   "source": [
    "device = torch.device(\"cuda:0\") if torch.cuda.is_available() else torch.device(\"cpu\")\n",
    "\n",
    "X_train = X_train.to(device)\n",
    "y_train = y_train.to(device)\n",
    "\n",
    "\n",
    "X_test = X_test.to(device)\n",
    "y_test = y_test.to(device)\n",
    "\n",
    "X_val = X_val.to(device)\n",
    "y_val = y_val.to(device)\n",
    "\n",
    "\n",
    "unique, counts = torch.unique(y_train, return_counts = True)\n",
    "WEIGHT = torch.tensor([counts[0] / counts[1]])\n",
    "print(WEIGHT)\n",
    "# WEIGHT = torch.tensor([664])\n",
    "WEIGHT = WEIGHT.to(device)\n",
    "\n",
    "print(\"Data shifted to the device \" + str(device))"
   ]
  },
  {
   "cell_type": "code",
   "execution_count": 10,
   "id": "1f16fe18",
   "metadata": {},
   "outputs": [],
   "source": [
    "import torch \n",
    "\n",
    "class ModelWrapper():\n",
    "    def __init__(self):\n",
    "        self.LEARNING_RATE = 3e-4\n",
    "        self.MAX_EPOCHS = 10000\n",
    "\n",
    "        self.model = NeuralNetwork(hidden_dim = 128, out_channels=1) \n",
    "        self.model = self.model.to(device)\n",
    "        self.optimizer = torch.optim.Adam(self.model.parameters(), lr=self.LEARNING_RATE,betas=(0.9, 0.999), eps=1e-08)\n",
    "        \n",
    "        self.last_loss = 0\n",
    "        self.increased_loss = 0\n",
    "        self.BREAKING_THRESHOLD = 5      \n",
    "    \n",
    "    def validate(self):\n",
    "        with torch.inference_mode():\n",
    "            self.model.eval()\n",
    "            out = self.model(X_val)\n",
    "            loss = F.binary_cross_entropy_with_logits(torch.squeeze(out), y_val.type(torch.float32),\n",
    "                                                      pos_weight=WEIGHT)\n",
    "#             print(loss)\n",
    "            if loss.item() > self.last_loss:\n",
    "                self.increased_loss += 1\n",
    "            else:\n",
    "                self.increased_loss = 0\n",
    "            self.last_loss = loss.item()\n",
    "\n",
    "    def train(self):\n",
    "        for epoch in range(self.MAX_EPOCHS):\n",
    "#             print(epoch)\n",
    "            self.model.train()\n",
    "            self.optimizer.zero_grad()\n",
    "            out = self.model(X_train)\n",
    "            loss = F.binary_cross_entropy_with_logits(torch.squeeze(out), y_train.type(torch.float32),\n",
    "                                                      pos_weight=WEIGHT)\n",
    "            loss.backward()\n",
    "            self.optimizer.step()\n",
    "            self.validate() \n",
    "\n",
    "            if self.increased_loss >= self.BREAKING_THRESHOLD:\n",
    "                print(f\"Breaked at {str(epoch)}\")\n",
    "                break\n",
    "            \n",
    "    def get_model(self):\n",
    "        return self.model    "
   ]
  },
  {
   "cell_type": "code",
   "execution_count": 11,
   "id": "332fc467",
   "metadata": {},
   "outputs": [
    {
     "name": "stdout",
     "output_type": "stream",
     "text": [
      "Breaked at 628\n"
     ]
    }
   ],
   "source": [
    "modelWrapper = ModelWrapper()\n",
    "modelWrapper.train()"
   ]
  },
  {
   "cell_type": "code",
   "execution_count": 12,
   "id": "d806dfb9",
   "metadata": {},
   "outputs": [],
   "source": [
    "model = modelWrapper.get_model()\n",
    "y_test = y_test.cpu()\n",
    "X_test = X_test.cpu()\n",
    "\n",
    "model = model.cpu()"
   ]
  },
  {
   "cell_type": "code",
   "execution_count": 13,
   "id": "26c6f66d",
   "metadata": {},
   "outputs": [
    {
     "name": "stderr",
     "output_type": "stream",
     "text": [
      "/home/dwalke/.local/lib/python3.10/site-packages/torchvision/io/image.py:13: UserWarning: Failed to load image Python extension: libtorch_cuda_cu.so: cannot open shared object file: No such file or directory\n",
      "  warn(f\"Failed to load image Python extension: {e}\")\n"
     ]
    },
    {
     "data": {
      "text/html": [
       "<div>\n",
       "<style scoped>\n",
       "    .dataframe tbody tr th:only-of-type {\n",
       "        vertical-align: middle;\n",
       "    }\n",
       "\n",
       "    .dataframe tbody tr th {\n",
       "        vertical-align: top;\n",
       "    }\n",
       "\n",
       "    .dataframe thead th {\n",
       "        text-align: right;\n",
       "    }\n",
       "</style>\n",
       "<table border=\"1\" class=\"dataframe\">\n",
       "  <thead>\n",
       "    <tr style=\"text-align: right;\">\n",
       "      <th></th>\n",
       "      <th>Name</th>\n",
       "      <th>MCC</th>\n",
       "      <th>F1-Micro</th>\n",
       "      <th>F1-Macro</th>\n",
       "      <th>F1-Binary</th>\n",
       "      <th>AUROC</th>\n",
       "      <th>AUPRC</th>\n",
       "    </tr>\n",
       "  </thead>\n",
       "  <tbody>\n",
       "    <tr>\n",
       "      <th>0</th>\n",
       "      <td>Leipzig</td>\n",
       "      <td>0.042466</td>\n",
       "      <td>0.788949</td>\n",
       "      <td>0.444525</td>\n",
       "      <td>0.007126</td>\n",
       "      <td>0.85648</td>\n",
       "      <td>0.010871</td>\n",
       "    </tr>\n",
       "    <tr>\n",
       "      <th>1</th>\n",
       "      <td>Greifswald</td>\n",
       "      <td>0.042466</td>\n",
       "      <td>0.788949</td>\n",
       "      <td>0.444525</td>\n",
       "      <td>0.007126</td>\n",
       "      <td>0.85648</td>\n",
       "      <td>0.010871</td>\n",
       "    </tr>\n",
       "  </tbody>\n",
       "</table>\n",
       "</div>"
      ],
      "text/plain": [
       "         Name       MCC  F1-Micro  F1-Macro  F1-Binary    AUROC     AUPRC\n",
       "0     Leipzig  0.042466  0.788949  0.444525   0.007126  0.85648  0.010871\n",
       "1  Greifswald  0.042466  0.788949  0.444525   0.007126  0.85648  0.010871"
      ]
     },
     "execution_count": 13,
     "metadata": {},
     "output_type": "execute_result"
    },
    {
     "data": {
      "image/png": "[encoded data removed]",
      "text/plain": [
       "<Figure size 640x480 with 2 Axes>"
      ]
     },
     "metadata": {},
     "output_type": "display_data"
    }
   ],
   "source": [
    "from dataAnalysis.Metrics import Evaluation\n",
    "\n",
    "evaluation = Evaluation(y_test, y_test, X_test, X_test)\n",
    "evaluation.plot_confusion_matrix(model)\n",
    "evaluation.get_df_metrics(model)"
   ]
  },
  {
   "cell_type": "code",
   "execution_count": null,
   "id": "b3e9e9b9",
   "metadata": {},
   "outputs": [],
   "source": []
  }
 ],
 "metadata": {
  "kernelspec": {
   "display_name": "Python 3 (ipykernel)",
   "language": "python",
   "name": "python3"
  },
  "language_info": {
   "codemirror_mode": {
    "name": "ipython",
    "version": 3
   },
   "file_extension": ".py",
   "mimetype": "text/x-python",
   "name": "python",
   "nbconvert_exporter": "python",
   "pygments_lexer": "ipython3",
   "version": "3.10.6"
  }
 },
 "nbformat": 4,
 "nbformat_minor": 5
}
