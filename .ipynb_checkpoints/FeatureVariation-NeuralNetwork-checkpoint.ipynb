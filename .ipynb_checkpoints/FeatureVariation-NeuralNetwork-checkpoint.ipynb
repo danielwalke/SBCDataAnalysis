{
 "cells": [
  {
   "cell_type": "markdown",
   "id": "41a07e98",
   "metadata": {},
   "source": [
    "## Load data"
   ]
  },
  {
   "cell_type": "code",
   "execution_count": 1,
   "id": "68e59c36",
   "metadata": {
    "scrolled": true
   },
   "outputs": [
    {
     "name": "stderr",
     "output_type": "stream",
     "text": [
      "/home/dwalke/git/sbc/dataAnalysis/data/Filter.py:34: SettingWithCopyWarning: \n",
      "A value is trying to be set on a copy of a slice from a DataFrame.\n",
      "Try using .loc[row_indexer,col_indexer] = value instead\n",
      "\n",
      "See the caveats in the documentation: https://pandas.pydata.org/pandas-docs/stable/user_guide/indexing.html#returning-a-view-versus-a-copy\n",
      "  self.data['Label'] = self.data['Diagnosis']\n"
     ]
    },
    {
     "name": "stdout",
     "output_type": "stream",
     "text": [
      "Training: \n",
      "Assessable data are 528101 cases and 1015074 CBCs\n",
      "Control data are 527038 cases and 1013548 CBCs\n",
      "Sepsis data are 1488 cases and 1526 CBCs\n",
      "$$$$$$$$$$$$$$$$$$$$\n",
      "Testing: \n"
     ]
    },
    {
     "name": "stderr",
     "output_type": "stream",
     "text": [
      "/home/dwalke/git/sbc/dataAnalysis/data/Filter.py:34: SettingWithCopyWarning: \n",
      "A value is trying to be set on a copy of a slice from a DataFrame.\n",
      "Try using .loc[row_indexer,col_indexer] = value instead\n",
      "\n",
      "See the caveats in the documentation: https://pandas.pydata.org/pandas-docs/stable/user_guide/indexing.html#returning-a-view-versus-a-copy\n",
      "  self.data['Label'] = self.data['Diagnosis']\n"
     ]
    },
    {
     "name": "stdout",
     "output_type": "stream",
     "text": [
      "Controls: 365794, Sepsis: 490\n",
      "Assessable data are 180494 cases and 366284 CBCs\n",
      "Control data are 180157 cases and 365794 CBCs\n",
      "Sepsis data are 472 cases and 490 CBCs\n"
     ]
    },
    {
     "name": "stderr",
     "output_type": "stream",
     "text": [
      "/home/dwalke/git/sbc/dataAnalysis/data/Filter.py:34: SettingWithCopyWarning: \n",
      "A value is trying to be set on a copy of a slice from a DataFrame.\n",
      "Try using .loc[row_indexer,col_indexer] = value instead\n",
      "\n",
      "See the caveats in the documentation: https://pandas.pydata.org/pandas-docs/stable/user_guide/indexing.html#returning-a-view-versus-a-copy\n",
      "  self.data['Label'] = self.data['Diagnosis']\n"
     ]
    },
    {
     "name": "stdout",
     "output_type": "stream",
     "text": [
      "Controls: 437629, Sepsis: 448\n",
      "Assessable data are 157922 cases and 438077 CBCs\n",
      "Control data are 180157 cases and 437629 CBCs\n",
      "Sepsis data are 438 cases and 448 CBCs\n"
     ]
    }
   ],
   "source": [
    "from dataAnalysis.DataAnalysis import DataAnalysis\n",
    "import pandas as pd\n",
    "\n",
    "data = pd.read_csv(r\"extdata/sbcdata.csv\", header=0)\n",
    "data_analysis = DataAnalysis(data)"
   ]
  },
  {
   "cell_type": "code",
   "execution_count": 5,
   "id": "ae26e504",
   "metadata": {},
   "outputs": [],
   "source": [
    "import torch\n",
    "\n",
    "y_train = torch.tensor(data_analysis.get_y_train(), dtype=torch.long)\n",
    "X_train = torch.tensor(data_analysis.get_X_train(), dtype=torch.float)\n",
    "\n",
    "y_test = torch.tensor(data_analysis.get_y_test(), dtype=torch.long)\n",
    "X_test = torch.tensor(data_analysis.get_X_test(), dtype=torch.float)\n",
    "\n",
    "y_test_gw = torch.tensor(data_analysis.get_y_gw(), dtype=torch.long)\n",
    "X_test_gw = torch.tensor(data_analysis.get_X_gw(), dtype=torch.float)\n",
    "\n",
    "X_test_un = torch.tensor(data_analysis.get_X_test(), dtype=torch.float)"
   ]
  },
  {
   "cell_type": "markdown",
   "id": "69525db0",
   "metadata": {},
   "source": [
    "## Define model"
   ]
  },
  {
   "cell_type": "code",
   "execution_count": 3,
   "id": "769ca01f",
   "metadata": {},
   "outputs": [],
   "source": [
    "import torch.nn.functional as F\n",
    "from torch.nn import Linear\n",
    "import torch\n",
    "from dataAnalysis.Constants import FEATURES\n",
    "\n",
    "class NeuralNetwork(torch.nn.Module):\n",
    "\n",
    "    def __init__(self, hidden_dim = 128, out_channels = 1):\n",
    "        super(NeuralNetwork, self).__init__()\n",
    "        \n",
    "        input_dim = len(FEATURES)\n",
    "        self.lin_0 = Linear(input_dim, hidden_dim)\n",
    "        self.lin_1 = Linear(input_dim, hidden_dim)\n",
    "        self.lin_end_0 = Linear(hidden_dim, out_channels)\n",
    "        self.lin_end_1 = Linear(hidden_dim, out_channels)\n",
    "        self.batchnorm_1 = torch.nn.BatchNorm1d(hidden_dim)\n",
    "\n",
    "    def forward(self, x):\n",
    "        x = self.lin_0(x) + self.lin_1(x)\n",
    "        x = F.normalize(x, p=2., dim=-1)\n",
    "        x = torch.relu(x)\n",
    "        x= self.batchnorm_1(x)\n",
    "        x = self.lin_end_0(x) + self.lin_end_1(x) \n",
    "        return x\n",
    "            \n",
    "    def predict_proba(self, x):\n",
    "        with torch.inference_mode():\n",
    "            self.eval()\n",
    "            logits = self.forward(x)\n",
    "            scores = torch.sigmoid(torch.squeeze(logits))\n",
    "            scores = torch.unsqueeze(scores, 0)\n",
    "            proba_predict = torch.concat((1- scores, scores), dim = 0)\n",
    "            return torch.transpose(proba_predict, 0, 1)\n",
    "            \n",
    "    def predict(self, x):\n",
    "        return torch.round(self.predict_proba(x)[:, 1])"
   ]
  },
  {
   "cell_type": "markdown",
   "id": "0e57dc63",
   "metadata": {},
   "source": [
    "## Load trained model"
   ]
  },
  {
   "cell_type": "code",
   "execution_count": 4,
   "id": "9afc869e",
   "metadata": {},
   "outputs": [
    {
     "data": {
      "text/plain": [
       "NeuralNetwork(\n",
       "  (lin_0): Linear(in_features=7, out_features=128, bias=True)\n",
       "  (lin_1): Linear(in_features=7, out_features=128, bias=True)\n",
       "  (lin_end_0): Linear(in_features=128, out_features=1, bias=True)\n",
       "  (lin_end_1): Linear(in_features=128, out_features=1, bias=True)\n",
       "  (batchnorm_1): BatchNorm1d(128, eps=1e-05, momentum=0.1, affine=True, track_running_stats=True)\n",
       ")"
      ]
     },
     "execution_count": 4,
     "metadata": {},
     "output_type": "execute_result"
    }
   ],
   "source": [
    "model = NeuralNetwork() #.to(device)\n",
    "model.load_state_dict(torch.load(\"neural_network_state_dict.pt\", map_location=torch.device('cpu')))\n",
    "model.eval()"
   ]
  },
  {
   "cell_type": "code",
   "execution_count": 84,
   "id": "96a1e9d9",
   "metadata": {},
   "outputs": [],
   "source": [
    "X_all_unnormalized = torch.concat((X_train, X_test, X_test_gw))\n",
    "y_all = torch.concat((y_train, y_test, y_test_gw))"
   ]
  },
  {
   "cell_type": "code",
   "execution_count": 85,
   "id": "438a41de",
   "metadata": {},
   "outputs": [],
   "source": [
    "from dataAnalysis.FeatureImportance import normalize"
   ]
  },
  {
   "cell_type": "code",
   "execution_count": 86,
   "id": "6b5083fd",
   "metadata": {},
   "outputs": [],
   "source": [
    "X_all = normalize(X_all_unnormalized)"
   ]
  },
  {
   "cell_type": "code",
   "execution_count": 87,
   "id": "df09d394",
   "metadata": {},
   "outputs": [],
   "source": [
    "y_pred_all = model.predict(X_all)"
   ]
  },
  {
   "cell_type": "code",
   "execution_count": 109,
   "id": "1b73a175",
   "metadata": {},
   "outputs": [
    {
     "data": {
      "text/plain": [
       "tensor(0)"
      ]
     },
     "execution_count": 109,
     "metadata": {},
     "output_type": "execute_result"
    }
   ],
   "source": [
    "(X_all_unnormalized < 0).sum()"
   ]
  },
  {
   "cell_type": "code",
   "execution_count": 122,
   "id": "894ea6a3",
   "metadata": {
    "scrolled": false
   },
   "outputs": [
    {
     "name": "stdout",
     "output_type": "stream",
     "text": [
      "[  0.   5.  10.  15.  20.  25.  30.  35.  40.  45.  50.  55.  60.  65.\n",
      "  70.  75.  80.  85.  90.  95. 100.]\n",
      "[-2.22373676 -1.78695965 -1.51397383 -1.29558516 -1.02259946 -0.6950165\n",
      " -0.42203078 -0.2582393  -0.14904499  0.01474646  0.12394077  0.23313507\n",
      "  0.39692652  0.50612086  0.66991228  0.77910662  0.94289809  1.05209243\n",
      "  1.21588385  1.43427241  2.58081269]\n",
      "tensor(1743759)\n",
      "tensor(1841799)\n",
      "tensor(1635439)\n",
      "tensor(1791379)\n",
      "tensor(1813719)\n",
      "tensor(2070099)\n",
      "tensor(1734119)\n",
      "tensor(1327519)\n"
     ]
    },
    {
     "name": "stderr",
     "output_type": "stream",
     "text": [
      "/tmp/ipykernel_2598630/3213803279.py:24: UserWarning: indexing with dtype torch.uint8 is now deprecated, please use a dtype torch.bool instead. (Triggered internally at ../aten/src/ATen/native/IndexingUtils.h:27.)\n",
      "  sepsis_ratio = y_pred_all[mask].sum() / mask.sum()\n"
     ]
    },
    {
     "name": "stdout",
     "output_type": "stream",
     "text": [
      "tensor(2239479)\n",
      "tensor(1519079)\n",
      "tensor(1606199)\n",
      "tensor(2463559)\n",
      "tensor(1603859)\n",
      "tensor(2041659)\n",
      "tensor(1264879)\n",
      "tensor(2090599)\n",
      "tensor(1522219)\n",
      "tensor(2152099)\n",
      "tensor(2005439)\n",
      "tensor(1921639)\n"
     ]
    },
    {
     "data": {
      "image/png": "[encoded data removed]",
      "text/plain": [
       "<Figure size 2000x500 with 1 Axes>"
      ]
     },
     "metadata": {},
     "output_type": "display_data"
    }
   ],
   "source": [
    "import matplotlib.pyplot as plt\n",
    "import numpy as np\n",
    "QUANTILES = 20\n",
    "quantiles = np.linspace(0, 1, QUANTILES+1, endpoint=True)\n",
    "for feature_it in range(len(FEATURES)):\n",
    "    tensor_quantiles = np.quantile(X_all[:, feature_it].numpy(), quantiles)\n",
    "    tensor_quantiles_unnormalized = np.quantile(X_all_unnormalized[:, feature_it].numpy(), quantiles).astype(np.int8)\n",
    "#     print(X_all_unnormalized[:, feature_it].numpy().max())\n",
    "#     print(X_all_unnormalized[:, feature_it].numpy().min())\n",
    "#     print(tensor_quantiles_unnormalized)\n",
    "#     print(pd.DataFrame(X_all_unnormalized[:, feature_it].numpy()).describe())\n",
    "    x_ticks = [(tensor_quantiles_unnormalized.tolist()[j]+tensor_quantiles_unnormalized.tolist()[j+1]) / 2 for j in range(len(tensor_quantiles_unnormalized.tolist()) - 1)]\n",
    "    x_labels = [f\"{tensor_quantiles_unnormalized.tolist()[j]} - {tensor_quantiles_unnormalized.tolist()[j+1]}\" for j in range(len(tensor_quantiles_unnormalized.tolist()) - 1)]\n",
    "    tensor_quantiles[-1] = tensor_quantiles[-1] + 1e-5\n",
    "    sepsis_ratios = []\n",
    "    for i in range(tensor_quantiles.shape[0]-1):\n",
    "        quantile_u = tensor_quantiles[i]\n",
    "        quantile_o = tensor_quantiles[i+1]\n",
    "        mask = np.logical_and(X_all[:, feature_it] >= quantile_u, X_all[:, feature_it] < quantile_o)\n",
    "        print(mask.sum()*QUANTILES-1)\n",
    "        sepsis_ratio = y_pred_all[mask].sum() / mask.sum()\n",
    "        sepsis_ratios.append(sepsis_ratio)\n",
    "    plt.figure(figsize=(20, 5))\n",
    "    plt.plot(x_labels,  sepsis_ratios)\n",
    "#     plt.xticks(x_labels)\n",
    "    plt.title(FEATURES[feature_it])\n",
    "    plt.show()"
   ]
  },
  {
   "cell_type": "code",
   "execution_count": 71,
   "id": "3a2fc802",
   "metadata": {},
   "outputs": [
    {
     "name": "stdout",
     "output_type": "stream",
     "text": [
      "tensor(True)\n"
     ]
    }
   ],
   "source": [
    "sum_ = 0\n",
    "for mask in masks:\n",
    "    sum_ += mask.sum()\n",
    "print(sum_ == X_all.shape[0])"
   ]
  },
  {
   "cell_type": "markdown",
   "id": "36b894be",
   "metadata": {},
   "source": [
    "## Feature importance"
   ]
  },
  {
   "cell_type": "code",
   "execution_count": 5,
   "id": "ac9a8ce4",
   "metadata": {},
   "outputs": [],
   "source": [
    "from dataAnalysis.FeatureImportance import FeatureImportance\n",
    "\n",
    "feature_importance = FeatureImportance(X_train, is_normalize=True)"
   ]
  },
  {
   "cell_type": "code",
   "execution_count": 6,
   "id": "11c109b7",
   "metadata": {},
   "outputs": [
    {
     "name": "stdout",
     "output_type": "stream",
     "text": [
      "Ratio of diseased men/women over all CBCs for Neural Network 19.513875\t17.2621421875\n"
     ]
    },
    {
     "data": {
      "image/png": "[encoded data removed]",
      "text/plain": [
       "<Figure size 640x480 with 1 Axes>"
      ]
     },
     "metadata": {},
     "output_type": "display_data"
    }
   ],
   "source": [
    "feature_importance.plot_feature_importance(model, title= \"Neural Network\")"
   ]
  },
  {
   "cell_type": "markdown",
   "id": "894a8229",
   "metadata": {},
   "source": [
    "## Test"
   ]
  },
  {
   "cell_type": "code",
   "execution_count": 7,
   "id": "f7135729",
   "metadata": {},
   "outputs": [
    {
     "name": "stderr",
     "output_type": "stream",
     "text": [
      "/home/dwalke/.local/lib/python3.10/site-packages/torchvision/io/image.py:13: UserWarning: Failed to load image Python extension: libtorch_cuda_cu.so: cannot open shared object file: No such file or directory\n",
      "  warn(f\"Failed to load image Python extension: {e}\")\n"
     ]
    },
    {
     "ename": "NameError",
     "evalue": "name 'xgb_classifier' is not defined",
     "output_type": "error",
     "traceback": [
      "\u001b[0;31m---------------------------------------------------------------------------\u001b[0m",
      "\u001b[0;31mNameError\u001b[0m                                 Traceback (most recent call last)",
      "Cell \u001b[0;32mIn[7], line 4\u001b[0m\n\u001b[1;32m      1\u001b[0m \u001b[38;5;28;01mimport\u001b[39;00m \u001b[38;5;21;01mnumpy\u001b[39;00m \u001b[38;5;28;01mas\u001b[39;00m \u001b[38;5;21;01mnp\u001b[39;00m\n\u001b[1;32m      2\u001b[0m \u001b[38;5;28;01mfrom\u001b[39;00m \u001b[38;5;21;01mdataAnalysis\u001b[39;00m\u001b[38;5;21;01m.\u001b[39;00m\u001b[38;5;21;01mMetrics\u001b[39;00m \u001b[38;5;28;01mimport\u001b[39;00m Evaluation\n\u001b[0;32m----> 4\u001b[0m y_pred_proba_xgb \u001b[38;5;241m=\u001b[39m \u001b[43mxgb_classifier\u001b[49m\u001b[38;5;241m.\u001b[39mpredict_proba(X_test)[:, \u001b[38;5;241m1\u001b[39m]\n\u001b[1;32m      5\u001b[0m y_pred_proba_nn \u001b[38;5;241m=\u001b[39m model\u001b[38;5;241m.\u001b[39mpredict_proba(X_test)[:, \u001b[38;5;241m1\u001b[39m]\n\u001b[1;32m      6\u001b[0m mean_scores \u001b[38;5;241m=\u001b[39m np\u001b[38;5;241m.\u001b[39mmean([y_pred_proba_xgb, y_pred_proba_nn\u001b[38;5;241m.\u001b[39mnumpy()], axis \u001b[38;5;241m=\u001b[39m \u001b[38;5;241m0\u001b[39m)\n",
      "\u001b[0;31mNameError\u001b[0m: name 'xgb_classifier' is not defined"
     ]
    }
   ],
   "source": [
    "import numpy as np\n",
    "from dataAnalysis.Metrics import Evaluation\n",
    "\n",
    "y_pred_proba_xgb = xgb_classifier.predict_proba(X_test)[:, 1]\n",
    "y_pred_proba_nn = model.predict_proba(X_test)[:, 1]\n",
    "mean_scores = np.mean([y_pred_proba_xgb, y_pred_proba_nn.numpy()], axis = 0)\n",
    "y_pred_proba_new = np.concatenate([np.expand_dims((1-mean_scores), 1), np.expand_dims(mean_scores, 1)], axis=1)\n",
    "\n",
    "\n",
    "y_dict = Evaluation.create_y_dict(np.round(mean_scores), y_pred_proba_new, y_test)\n",
    "Evaluation.plot_confusion_matrix_from_pred(np.round(mean_scores), y_test)"
   ]
  },
  {
   "cell_type": "code",
   "execution_count": 45,
   "id": "a7a86798",
   "metadata": {},
   "outputs": [],
   "source": [
    "from dataAnalysis.FeatureImportance import normalize\n",
    "X_test = normalize(X_test)"
   ]
  },
  {
   "cell_type": "code",
   "execution_count": 65,
   "id": "c6b9252b",
   "metadata": {},
   "outputs": [
    {
     "data": {
      "text/html": [
       "<div>\n",
       "<style scoped>\n",
       "    .dataframe tbody tr th:only-of-type {\n",
       "        vertical-align: middle;\n",
       "    }\n",
       "\n",
       "    .dataframe tbody tr th {\n",
       "        vertical-align: top;\n",
       "    }\n",
       "\n",
       "    .dataframe thead th {\n",
       "        text-align: right;\n",
       "    }\n",
       "</style>\n",
       "<table border=\"1\" class=\"dataframe\">\n",
       "  <thead>\n",
       "    <tr style=\"text-align: right;\">\n",
       "      <th></th>\n",
       "      <th>Name</th>\n",
       "      <th>MCC</th>\n",
       "      <th>F1-Micro</th>\n",
       "      <th>F1-Macro</th>\n",
       "      <th>F1-Binary</th>\n",
       "      <th>AUROC</th>\n",
       "      <th>AUPRC</th>\n",
       "    </tr>\n",
       "  </thead>\n",
       "  <tbody>\n",
       "    <tr>\n",
       "      <th>0</th>\n",
       "      <td>Leipzig</td>\n",
       "      <td>0.051349</td>\n",
       "      <td>0.777225</td>\n",
       "      <td>0.442055</td>\n",
       "      <td>0.009613</td>\n",
       "      <td>0.876709</td>\n",
       "      <td>0.014983</td>\n",
       "    </tr>\n",
       "    <tr>\n",
       "      <th>1</th>\n",
       "      <td>Greifswald</td>\n",
       "      <td>0.051349</td>\n",
       "      <td>0.777225</td>\n",
       "      <td>0.442055</td>\n",
       "      <td>0.009613</td>\n",
       "      <td>0.876709</td>\n",
       "      <td>0.014983</td>\n",
       "    </tr>\n",
       "  </tbody>\n",
       "</table>\n",
       "</div>"
      ],
      "text/plain": [
       "         Name       MCC  F1-Micro  F1-Macro  F1-Binary     AUROC     AUPRC\n",
       "0     Leipzig  0.051349  0.777225  0.442055   0.009613  0.876709  0.014983\n",
       "1  Greifswald  0.051349  0.777225  0.442055   0.009613  0.876709  0.014983"
      ]
     },
     "execution_count": 65,
     "metadata": {},
     "output_type": "execute_result"
    },
    {
     "data": {
      "image/png": "[encoded data removed]",
      "text/plain": [
       "<Figure size 640x480 with 2 Axes>"
      ]
     },
     "metadata": {},
     "output_type": "display_data"
    }
   ],
   "source": [
    "evaluation = Evaluation(y_test, y_test, X_test, X_test)\n",
    "# evaluation.plot_confusion_matrix(xgb_classifier)\n",
    "\n",
    "\n",
    "evaluation.plot_confusion_matrix(model)\n",
    "evaluation.get_df_metrics(model) #, evaluation.get_df_metrics(xgb_classifier)"
   ]
  },
  {
   "cell_type": "code",
   "execution_count": 7,
   "id": "599c6172",
   "metadata": {},
   "outputs": [],
   "source": [
    "y_pred = model.predict(X_test)"
   ]
  },
  {
   "cell_type": "code",
   "execution_count": 70,
   "id": "a34996a1",
   "metadata": {},
   "outputs": [
    {
     "data": {
      "text/html": [
       "<div>\n",
       "<style scoped>\n",
       "    .dataframe tbody tr th:only-of-type {\n",
       "        vertical-align: middle;\n",
       "    }\n",
       "\n",
       "    .dataframe tbody tr th {\n",
       "        vertical-align: top;\n",
       "    }\n",
       "\n",
       "    .dataframe thead th {\n",
       "        text-align: right;\n",
       "    }\n",
       "</style>\n",
       "<table border=\"1\" class=\"dataframe\">\n",
       "  <thead>\n",
       "    <tr style=\"text-align: right;\">\n",
       "      <th></th>\n",
       "      <th>Name</th>\n",
       "      <th>MCC</th>\n",
       "      <th>F1-Micro</th>\n",
       "      <th>F1-Macro</th>\n",
       "      <th>F1-Binary</th>\n",
       "      <th>AUROC</th>\n",
       "      <th>AUPRC</th>\n",
       "    </tr>\n",
       "  </thead>\n",
       "  <tbody>\n",
       "    <tr>\n",
       "      <th>0</th>\n",
       "      <td>Leipzig</td>\n",
       "      <td>0.026266</td>\n",
       "      <td>0.233208</td>\n",
       "      <td>0.192617</td>\n",
       "      <td>0.011584</td>\n",
       "      <td>0.742278</td>\n",
       "      <td>0.019049</td>\n",
       "    </tr>\n",
       "    <tr>\n",
       "      <th>1</th>\n",
       "      <td>Greifswald</td>\n",
       "      <td>0.026266</td>\n",
       "      <td>0.233208</td>\n",
       "      <td>0.192617</td>\n",
       "      <td>0.011584</td>\n",
       "      <td>0.742278</td>\n",
       "      <td>0.019049</td>\n",
       "    </tr>\n",
       "  </tbody>\n",
       "</table>\n",
       "</div>"
      ],
      "text/plain": [
       "         Name       MCC  F1-Micro  F1-Macro  F1-Binary     AUROC     AUPRC\n",
       "0     Leipzig  0.026266  0.233208  0.192617   0.011584  0.742278  0.019049\n",
       "1  Greifswald  0.026266  0.233208  0.192617   0.011584  0.742278  0.019049"
      ]
     },
     "execution_count": 70,
     "metadata": {},
     "output_type": "execute_result"
    },
    {
     "data": {
      "image/png": "[encoded data removed]",
      "text/plain": [
       "<Figure size 640x480 with 2 Axes>"
      ]
     },
     "metadata": {},
     "output_type": "display_data"
    }
   ],
   "source": [
    "y_test_copy = y_test[y_pred ==  1]\n",
    "X_test_copy = X_test_un[y_pred ==  1]\n",
    "evaluation = Evaluation(y_test_copy, y_test_copy, X_test_copy, X_test_copy)\n",
    "\n",
    "evaluation.plot_confusion_matrix(xgb_classifier)\n",
    "evaluation.get_df_metrics(xgb_classifier)"
   ]
  },
  {
   "cell_type": "code",
   "execution_count": 87,
   "id": "23b28b9d",
   "metadata": {},
   "outputs": [
    {
     "name": "stdout",
     "output_type": "stream",
     "text": [
      "torch.Size([366284, 2])\n",
      "torch.Size([366284])\n",
      "(81901,)\n",
      "torch.Size([81901, 2])\n",
      "{'test_pred': tensor([0., 0., 0.,  ..., 0., 0., 0.]), 'test_pred_proba': tensor([[0.4734, 0.5266],\n",
      "        [0.9434, 0.0566],\n",
      "        [0.8242, 0.1758],\n",
      "        ...,\n",
      "        [0.7882, 0.2118],\n",
      "        [0.7695, 0.2305],\n",
      "        [0.4290, 0.5710]]), 'y_test': tensor([0, 0, 0,  ..., 0, 0, 0])}\n"
     ]
    },
    {
     "data": {
      "text/html": [
       "<div>\n",
       "<style scoped>\n",
       "    .dataframe tbody tr th:only-of-type {\n",
       "        vertical-align: middle;\n",
       "    }\n",
       "\n",
       "    .dataframe tbody tr th {\n",
       "        vertical-align: top;\n",
       "    }\n",
       "\n",
       "    .dataframe thead th {\n",
       "        text-align: right;\n",
       "    }\n",
       "</style>\n",
       "<table border=\"1\" class=\"dataframe\">\n",
       "  <thead>\n",
       "    <tr style=\"text-align: right;\">\n",
       "      <th></th>\n",
       "      <th>Name</th>\n",
       "      <th>MCC</th>\n",
       "      <th>F1-Micro</th>\n",
       "      <th>F1-Macro</th>\n",
       "      <th>F1-Binary</th>\n",
       "      <th>AUROC</th>\n",
       "      <th>AUPRC</th>\n",
       "    </tr>\n",
       "  </thead>\n",
       "  <tbody>\n",
       "    <tr>\n",
       "      <th>0</th>\n",
       "      <td>Leipzig</td>\n",
       "      <td>0.056069</td>\n",
       "      <td>0.828289</td>\n",
       "      <td>0.458772</td>\n",
       "      <td>0.011567</td>\n",
       "      <td>0.876709</td>\n",
       "      <td>0.014983</td>\n",
       "    </tr>\n",
       "    <tr>\n",
       "      <th>1</th>\n",
       "      <td>Greifswald</td>\n",
       "      <td>0.056069</td>\n",
       "      <td>0.828289</td>\n",
       "      <td>0.458772</td>\n",
       "      <td>0.011567</td>\n",
       "      <td>0.876709</td>\n",
       "      <td>0.014983</td>\n",
       "    </tr>\n",
       "  </tbody>\n",
       "</table>\n",
       "</div>"
      ],
      "text/plain": [
       "         Name       MCC  F1-Micro  F1-Macro  F1-Binary     AUROC     AUPRC\n",
       "0     Leipzig  0.056069  0.828289  0.458772   0.011567  0.876709  0.014983\n",
       "1  Greifswald  0.056069  0.828289  0.458772   0.011567  0.876709  0.014983"
      ]
     },
     "execution_count": 87,
     "metadata": {},
     "output_type": "execute_result"
    }
   ],
   "source": [
    "evaluation = Evaluation(y_test, y_test, X_test, X_test)\n",
    "y_pred = model.predict(X_test)\n",
    "y_pred_proba = model.predict_proba(X_test)\n",
    "print(y_pred_proba.shape)\n",
    "print((y_pred == 1).shape)\n",
    "y_new_pred = xgb_classifier.predict(X_test_un[y_pred == 1])\n",
    "y_new_pred_poba = xgb_classifier.predict_proba(X_test_un[y_pred == 1])\n",
    "\n",
    "print(y_new_pred.shape)\n",
    "print(torch.from_numpy(y_new_pred_poba).type(torch.float).shape)\n",
    "y_pred_proba_clone = y_pred_proba.clone()\n",
    "y_pred_proba_clone[y_pred == 1] = torch.from_numpy(y_new_pred_poba).type(torch.float)\n",
    "y_pred[y_pred == 1] = torch.from_numpy(y_new_pred).type(torch.float)\n",
    "# y_pred_proba[y_pred == 1] = torch.from_numpy(y_new_pred_poba).type(torch.float)\n",
    "\n",
    "\n",
    "y_dict = Evaluation.create_y_dict(y_pred, y_pred_proba, y_test)\n",
    "print(y_dict)\n",
    "evaluation.get_df_metrics_from_pred(y_dict, y_dict)"
   ]
  },
  {
   "cell_type": "code",
   "execution_count": 48,
   "id": "99b3c90a",
   "metadata": {},
   "outputs": [],
   "source": [
    "pred = model.predict(X_test)\n",
    "# false_sepsis = X_test[torch.logical_and(pred != y_test, pred == 1)]\n",
    "# true_sepsis = X_test[torch.logical_and(pred == y_test, pred == 1)]"
   ]
  },
  {
   "cell_type": "code",
   "execution_count": 23,
   "id": "8f2eba09",
   "metadata": {},
   "outputs": [
    {
     "name": "stdout",
     "output_type": "stream",
     "text": [
      "Age\n",
      "0.106558747983859\n",
      "HGB\n",
      "4.621067325132585e-12\n",
      "WBC\n",
      "1.2998501464437748e-20\n",
      "RBC\n",
      "1.3342045880851953e-13\n",
      "MCV\n",
      "0.01286303895062097\n",
      "PLT\n",
      "1.3925701199284088e-10\n"
     ]
    },
    {
     "data": {
      "text/plain": [
       "{'Age': False, 'HGB': True, 'WBC': True, 'RBC': True, 'MCV': True, 'PLT': True}"
      ]
     },
     "execution_count": 23,
     "metadata": {},
     "output_type": "execute_result"
    }
   ],
   "source": [
    "from scipy.stats import mannwhitneyu,ttest_ind\n",
    "from dataAnalysis.Constants import SEX_CATEGORY_COLUMN_NAME, FEATURES\n",
    "\n",
    "ALPHA = .05\n",
    "## ATENTION: Sex is not ordinal scaled so U test is not applicable\n",
    "def are_features_different(X_control, X_sepsis):\n",
    "    features_diff = {}\n",
    "    for i in range(X_control.shape[1]):\n",
    "        if FEATURES[i] == SEX_CATEGORY_COLUMN_NAME:\n",
    "            continue\n",
    "#         U1, p = mannwhitneyu(X_control[:, i], X_sepsis[:, i], method=\"auto\")\n",
    "        U1, p = ttest_ind(X_control[:, i], X_sepsis[:, i])\n",
    "        print(FEATURES[i])\n",
    "        print(p)\n",
    "        features_diff[FEATURES[i]] = p <= ALPHA\n",
    "    return features_diff\n",
    "\n",
    "are_features_different(false_sepsis, true_sepsis)"
   ]
  },
  {
   "cell_type": "code",
   "execution_count": 6,
   "id": "f07fa261",
   "metadata": {},
   "outputs": [
    {
     "data": {
      "text/html": [
       "<style>#sk-container-id-1 {color: black;background-color: white;}#sk-container-id-1 pre{padding: 0;}#sk-container-id-1 div.sk-toggleable {background-color: white;}#sk-container-id-1 label.sk-toggleable__label {cursor: pointer;display: block;width: 100%;margin-bottom: 0;padding: 0.3em;box-sizing: border-box;text-align: center;}#sk-container-id-1 label.sk-toggleable__label-arrow:before {content: \"▸\";float: left;margin-right: 0.25em;color: #696969;}#sk-container-id-1 label.sk-toggleable__label-arrow:hover:before {color: black;}#sk-container-id-1 div.sk-estimator:hover label.sk-toggleable__label-arrow:before {color: black;}#sk-container-id-1 div.sk-toggleable__content {max-height: 0;max-width: 0;overflow: hidden;text-align: left;background-color: #f0f8ff;}#sk-container-id-1 div.sk-toggleable__content pre {margin: 0.2em;color: black;border-radius: 0.25em;background-color: #f0f8ff;}#sk-container-id-1 input.sk-toggleable__control:checked~div.sk-toggleable__content {max-height: 200px;max-width: 100%;overflow: auto;}#sk-container-id-1 input.sk-toggleable__control:checked~label.sk-toggleable__label-arrow:before {content: \"▾\";}#sk-container-id-1 div.sk-estimator input.sk-toggleable__control:checked~label.sk-toggleable__label {background-color: #d4ebff;}#sk-container-id-1 div.sk-label input.sk-toggleable__control:checked~label.sk-toggleable__label {background-color: #d4ebff;}#sk-container-id-1 input.sk-hidden--visually {border: 0;clip: rect(1px 1px 1px 1px);clip: rect(1px, 1px, 1px, 1px);height: 1px;margin: -1px;overflow: hidden;padding: 0;position: absolute;width: 1px;}#sk-container-id-1 div.sk-estimator {font-family: monospace;background-color: #f0f8ff;border: 1px dotted black;border-radius: 0.25em;box-sizing: border-box;margin-bottom: 0.5em;}#sk-container-id-1 div.sk-estimator:hover {background-color: #d4ebff;}#sk-container-id-1 div.sk-parallel-item::after {content: \"\";width: 100%;border-bottom: 1px solid gray;flex-grow: 1;}#sk-container-id-1 div.sk-label:hover label.sk-toggleable__label {background-color: #d4ebff;}#sk-container-id-1 div.sk-serial::before {content: \"\";position: absolute;border-left: 1px solid gray;box-sizing: border-box;top: 0;bottom: 0;left: 50%;z-index: 0;}#sk-container-id-1 div.sk-serial {display: flex;flex-direction: column;align-items: center;background-color: white;padding-right: 0.2em;padding-left: 0.2em;position: relative;}#sk-container-id-1 div.sk-item {position: relative;z-index: 1;}#sk-container-id-1 div.sk-parallel {display: flex;align-items: stretch;justify-content: center;background-color: white;position: relative;}#sk-container-id-1 div.sk-item::before, #sk-container-id-1 div.sk-parallel-item::before {content: \"\";position: absolute;border-left: 1px solid gray;box-sizing: border-box;top: 0;bottom: 0;left: 50%;z-index: -1;}#sk-container-id-1 div.sk-parallel-item {display: flex;flex-direction: column;z-index: 1;position: relative;background-color: white;}#sk-container-id-1 div.sk-parallel-item:first-child::after {align-self: flex-end;width: 50%;}#sk-container-id-1 div.sk-parallel-item:last-child::after {align-self: flex-start;width: 50%;}#sk-container-id-1 div.sk-parallel-item:only-child::after {width: 0;}#sk-container-id-1 div.sk-dashed-wrapped {border: 1px dashed gray;margin: 0 0.4em 0.5em 0.4em;box-sizing: border-box;padding-bottom: 0.4em;background-color: white;}#sk-container-id-1 div.sk-label label {font-family: monospace;font-weight: bold;display: inline-block;line-height: 1.2em;}#sk-container-id-1 div.sk-label-container {text-align: center;}#sk-container-id-1 div.sk-container {/* jupyter's `normalize.less` sets `[hidden] { display: none; }` but bootstrap.min.css set `[hidden] { display: none !important; }` so we also need the `!important` here to be able to override the default hidden behavior on the sphinx rendered scikit-learn.org. See: https://github.com/scikit-learn/scikit-learn/issues/21755 */display: inline-block !important;position: relative;}#sk-container-id-1 div.sk-text-repr-fallback {display: none;}</style><div id=\"sk-container-id-1\" class=\"sk-top-container\"><div class=\"sk-text-repr-fallback\"><pre>XGBClassifier(base_score=0.5, booster=&#x27;gbtree&#x27;, callbacks=None,\n",
       "              colsample_bylevel=1, colsample_bynode=1, colsample_bytree=1,\n",
       "              early_stopping_rounds=None, enable_categorical=False, eta=0.1,\n",
       "              eval_metric=None, feature_types=None, gamma=0, gpu_id=0,\n",
       "              grow_policy=&#x27;depthwise&#x27;, importance_type=None,\n",
       "              interaction_constraints=&#x27;&#x27;, learning_rate=0.100000001,\n",
       "              max_bin=256, max_cat_threshold=64, max_cat_to_onehot=4,\n",
       "              max_delta_step=7, max_depth=2, max_leaves=0, min_child_weight=7,\n",
       "              missing=nan, monotone_constraints=&#x27;()&#x27;, n_estimators=478,\n",
       "              n_jobs=0, num_parallel_tree=1, predictor=&#x27;auto&#x27;, ...)</pre><b>In a Jupyter environment, please rerun this cell to show the HTML representation or trust the notebook. <br />On GitHub, the HTML representation is unable to render, please try loading this page with nbviewer.org.</b></div><div class=\"sk-container\" hidden><div class=\"sk-item\"><div class=\"sk-estimator sk-toggleable\"><input class=\"sk-toggleable__control sk-hidden--visually\" id=\"sk-estimator-id-1\" type=\"checkbox\" checked><label for=\"sk-estimator-id-1\" class=\"sk-toggleable__label sk-toggleable__label-arrow\">XGBClassifier</label><div class=\"sk-toggleable__content\"><pre>XGBClassifier(base_score=0.5, booster=&#x27;gbtree&#x27;, callbacks=None,\n",
       "              colsample_bylevel=1, colsample_bynode=1, colsample_bytree=1,\n",
       "              early_stopping_rounds=None, enable_categorical=False, eta=0.1,\n",
       "              eval_metric=None, feature_types=None, gamma=0, gpu_id=0,\n",
       "              grow_policy=&#x27;depthwise&#x27;, importance_type=None,\n",
       "              interaction_constraints=&#x27;&#x27;, learning_rate=0.100000001,\n",
       "              max_bin=256, max_cat_threshold=64, max_cat_to_onehot=4,\n",
       "              max_delta_step=7, max_depth=2, max_leaves=0, min_child_weight=7,\n",
       "              missing=nan, monotone_constraints=&#x27;()&#x27;, n_estimators=478,\n",
       "              n_jobs=0, num_parallel_tree=1, predictor=&#x27;auto&#x27;, ...)</pre></div></div></div></div></div>"
      ],
      "text/plain": [
       "XGBClassifier(base_score=0.5, booster='gbtree', callbacks=None,\n",
       "              colsample_bylevel=1, colsample_bynode=1, colsample_bytree=1,\n",
       "              early_stopping_rounds=None, enable_categorical=False, eta=0.1,\n",
       "              eval_metric=None, feature_types=None, gamma=0, gpu_id=0,\n",
       "              grow_policy='depthwise', importance_type=None,\n",
       "              interaction_constraints='', learning_rate=0.100000001,\n",
       "              max_bin=256, max_cat_threshold=64, max_cat_to_onehot=4,\n",
       "              max_delta_step=7, max_depth=2, max_leaves=0, min_child_weight=7,\n",
       "              missing=nan, monotone_constraints='()', n_estimators=478,\n",
       "              n_jobs=0, num_parallel_tree=1, predictor='auto', ...)"
      ]
     },
     "execution_count": 6,
     "metadata": {},
     "output_type": "execute_result"
    }
   ],
   "source": [
    "from xgboost import XGBClassifier\n",
    "xgb_classifier = XGBClassifier(tree_method='gpu_hist', \n",
    "                           scale_pos_weight = 660,\n",
    "                           n_estimators=478,\n",
    "                           max_depth=2,\n",
    "                           eta=0.1,\n",
    "                           min_child_weight = 7,\n",
    "                           max_delta_step= 7,\n",
    "                           sampling_method= \"uniform\")\n",
    "xgb_classifier.fit(data_analysis.get_X_train(), y_train)"
   ]
  },
  {
   "cell_type": "code",
   "execution_count": 39,
   "id": "5ec1d5dc",
   "metadata": {},
   "outputs": [
    {
     "data": {
      "text/html": [
       "<div>\n",
       "<style scoped>\n",
       "    .dataframe tbody tr th:only-of-type {\n",
       "        vertical-align: middle;\n",
       "    }\n",
       "\n",
       "    .dataframe tbody tr th {\n",
       "        vertical-align: top;\n",
       "    }\n",
       "\n",
       "    .dataframe thead th {\n",
       "        text-align: right;\n",
       "    }\n",
       "</style>\n",
       "<table border=\"1\" class=\"dataframe\">\n",
       "  <thead>\n",
       "    <tr style=\"text-align: right;\">\n",
       "      <th></th>\n",
       "      <th>Name</th>\n",
       "      <th>MCC</th>\n",
       "      <th>F1-Micro</th>\n",
       "      <th>F1-Macro</th>\n",
       "      <th>F1-Binary</th>\n",
       "      <th>AUROC</th>\n",
       "      <th>AUPRC</th>\n",
       "    </tr>\n",
       "  </thead>\n",
       "  <tbody>\n",
       "    <tr>\n",
       "      <th>0</th>\n",
       "      <td>Leipzig</td>\n",
       "      <td>0.051333</td>\n",
       "      <td>0.849929</td>\n",
       "      <td>0.47227</td>\n",
       "      <td>0.025838</td>\n",
       "      <td>0.686872</td>\n",
       "      <td>0.014983</td>\n",
       "    </tr>\n",
       "    <tr>\n",
       "      <th>1</th>\n",
       "      <td>Greifswald</td>\n",
       "      <td>0.051333</td>\n",
       "      <td>0.849929</td>\n",
       "      <td>0.47227</td>\n",
       "      <td>0.025838</td>\n",
       "      <td>0.686872</td>\n",
       "      <td>0.014983</td>\n",
       "    </tr>\n",
       "  </tbody>\n",
       "</table>\n",
       "</div>"
      ],
      "text/plain": [
       "         Name       MCC  F1-Micro  F1-Macro  F1-Binary     AUROC     AUPRC\n",
       "0     Leipzig  0.051333  0.849929   0.47227   0.025838  0.686872  0.014983\n",
       "1  Greifswald  0.051333  0.849929   0.47227   0.025838  0.686872  0.014983"
      ]
     },
     "execution_count": 39,
     "metadata": {},
     "output_type": "execute_result"
    },
    {
     "data": {
      "image/png": "[encoded data removed]",
      "text/plain": [
       "<Figure size 640x480 with 2 Axes>"
      ]
     },
     "metadata": {},
     "output_type": "display_data"
    },
    {
     "data": {
      "image/png": "[encoded data removed]",
      "text/plain": [
       "<Figure size 640x480 with 2 Axes>"
      ]
     },
     "metadata": {},
     "output_type": "display_data"
    }
   ],
   "source": [
    "\n",
    "X_clone_test = torch.clone(torch.from_numpy(data_analysis.get_X_test())).type(torch.float)\n",
    "X_clone_test = normalize(X_clone_test[pred == 1])\n",
    "y_clone_test = torch.clone(y_test[pred == 1])\n",
    "\n",
    "from dataAnalysis.Metrics import Evaluation\n",
    "\n",
    "evaluation = Evaluation(y_clone_test, y_clone_test, X_clone_test, X_clone_test)\n",
    "evaluation.plot_confusion_matrix(xgb_classifier)\n",
    "evaluation.get_df_metrics(xgb_classifier)\n",
    "\n",
    "evaluation.plot_confusion_matrix(model)\n",
    "evaluation.get_df_metrics(model)"
   ]
  },
  {
   "cell_type": "code",
   "execution_count": 33,
   "id": "c7dc34fb",
   "metadata": {},
   "outputs": [
    {
     "name": "stdout",
     "output_type": "stream",
     "text": [
      "tensor([[ 9.0021e-01,  2.2252e-02,  1.0328e+00,  1.9863e+00,  1.1119e-01,\n",
      "          1.2813e+00,  1.1882e+00,  5.0840e-01,  3.5917e-01, -2.6557e-01],\n",
      "        [-6.8061e-01, -1.7130e+00,  2.2805e-02, -1.5005e+00,  1.2000e-02,\n",
      "          1.3892e-01, -1.3879e+00,  7.0655e-01,  1.6234e-01, -1.0113e+00],\n",
      "        [-1.5294e+00,  1.8404e-01,  4.8820e-01, -7.2131e-01, -8.8162e-01,\n",
      "          1.1523e-02, -6.4677e-01, -7.3660e-01, -6.4233e-01, -1.8075e-01],\n",
      "        [ 2.0477e-01, -3.3595e-01,  1.4500e-01, -1.4251e+00, -3.1376e-01,\n",
      "          1.3419e-01,  8.7584e-01,  7.1222e-01,  8.0283e-01,  1.0058e+00],\n",
      "        [ 4.7987e-01,  2.3946e-01, -4.8174e-01,  5.5793e-01, -4.9575e-01,\n",
      "         -1.6269e+00, -1.0122e+00,  4.0751e-01, -6.7145e-01,  6.5901e-01],\n",
      "        [ 6.7088e-01, -5.8487e-02,  1.7153e+00, -4.4082e-01, -1.1611e+00,\n",
      "         -3.9434e-01, -8.2604e-01, -9.3865e-01, -3.4159e-01, -8.6425e-01],\n",
      "        [ 3.4950e-01,  2.4386e-01,  3.5634e-01, -1.9770e-01, -8.7115e-02,\n",
      "          1.7026e-02, -1.9223e+00, -1.2177e+00, -1.8551e-01,  4.6084e-01],\n",
      "        [ 8.0245e-01,  9.6363e-01, -1.2615e+00,  1.7177e+00,  5.8095e-01,\n",
      "         -8.1289e-02, -1.0507e+00,  1.2614e+00,  4.1067e-02,  3.7468e-01],\n",
      "        [ 9.0132e-01, -3.8472e-01, -7.7860e-01,  6.4385e-01, -9.7288e-01,\n",
      "         -5.8200e-03, -8.7960e-01,  4.6086e-02, -2.2759e-01,  5.6835e-01],\n",
      "        [-1.0170e+00, -1.8868e-01,  6.4396e-01, -2.0557e-01, -1.1959e+00,\n",
      "         -8.1153e-01, -9.2591e-02,  5.3123e-01,  8.6964e-02, -3.7497e-02],\n",
      "        [ 1.3851e+00, -9.7001e-01,  9.1847e-01,  6.2323e-01,  6.8431e-01,\n",
      "         -2.2865e-01,  2.1210e-01, -5.6703e-02, -7.3119e-01, -4.2754e-01],\n",
      "        [-1.6161e+00,  1.0116e-01,  5.5924e-01,  3.4907e-01,  1.3296e+00,\n",
      "          3.5752e-01,  2.0617e+00, -1.0216e+00, -5.2532e-01,  1.0342e+00],\n",
      "        [-7.3312e-03, -5.3078e-01, -1.7017e-01,  8.3180e-01, -1.6331e+00,\n",
      "         -7.1976e-02, -6.1234e-01,  2.2597e+00, -2.9039e-02, -9.6061e-01],\n",
      "        [ 4.7540e-01, -4.3226e-01,  4.2608e-01,  4.8368e-01,  1.3698e+00,\n",
      "         -3.7650e-01,  7.8385e-01,  1.5003e-01,  3.8335e-01,  1.1606e+00],\n",
      "        [ 1.3371e+00,  1.6461e+00, -3.5316e-01,  4.8120e-01,  1.6499e+00,\n",
      "         -4.2360e-01,  1.2353e-01,  1.3062e-01, -3.3261e-01,  8.3527e-01],\n",
      "        [-6.1957e-01, -1.0829e+00,  8.5211e-01, -5.1405e-02,  1.9564e-01,\n",
      "         -4.2638e-01, -5.9000e-02, -2.4550e-01,  9.4787e-01,  1.1550e+00],\n",
      "        [ 1.5272e+00, -2.3746e-01, -2.8892e-01, -1.1924e+00,  1.8340e+00,\n",
      "         -8.2707e-01,  2.1336e-01,  1.6470e+00, -1.2245e-01, -1.1681e+00],\n",
      "        [-2.0365e-01,  4.7270e-01,  8.0600e-01,  1.3253e+00, -6.6707e-01,\n",
      "          1.2111e+00, -5.4289e-01, -5.1374e-01, -4.9837e-01,  7.1533e-01],\n",
      "        [-2.3449e-01,  3.0042e-01,  1.8449e-02, -1.2659e+00,  8.1496e-01,\n",
      "          5.3349e-01,  1.4531e+00, -2.2575e-01, -2.0638e-02,  6.3836e-02],\n",
      "        [-2.2387e-01, -4.7690e-01,  1.6423e+00,  1.0867e+00,  1.0300e+00,\n",
      "         -1.5858e+00,  7.2342e-01,  9.7009e-01,  6.7625e-01, -1.5490e+00],\n",
      "        [-5.0172e-01,  2.3688e-02, -4.1559e-01, -7.4990e-01, -9.2013e-02,\n",
      "         -1.6882e+00,  1.5121e-01, -1.3946e-01, -1.6714e+00, -2.1783e-01],\n",
      "        [ 4.8403e-01, -4.6394e-01, -1.2153e+00,  4.2527e-01,  2.1261e-01,\n",
      "         -1.8398e+00,  8.5694e-02,  2.4395e-01,  1.1723e+00,  4.7423e-01],\n",
      "        [ 7.3748e-01, -2.4467e-01,  2.3427e+00,  2.0129e+00,  5.5714e-01,\n",
      "         -6.2046e-02,  2.7693e-01,  2.2499e-01, -1.7255e+00,  1.7119e+00],\n",
      "        [ 6.2331e-01, -6.3481e-01,  2.9890e-01, -5.2935e-01,  7.4689e-01,\n",
      "          2.6333e-01,  8.1714e-01, -2.4314e-01,  1.7632e+00, -4.3534e-01],\n",
      "        [-1.1066e+00,  1.2942e+00, -1.5297e+00, -9.6699e-01,  6.7500e-01,\n",
      "          2.4746e-01, -9.3114e-02,  1.0845e+00,  1.2574e+00,  7.7402e-01],\n",
      "        [-6.6166e-01, -4.1348e-01, -9.1100e-01, -2.0914e+00,  8.5140e-01,\n",
      "          4.7911e-01,  1.6241e+00,  7.9536e-01, -1.3048e+00,  5.1920e-01],\n",
      "        [ 9.1779e-02,  1.2773e-01,  7.5208e-01,  5.2148e-01, -3.9633e-01,\n",
      "          6.9070e-02,  1.4266e+00, -9.2138e-01,  4.2128e-01, -1.0870e+00],\n",
      "        [ 7.7109e-01,  1.1320e-01,  3.8470e-01, -2.0395e+00, -3.2953e-01,\n",
      "          1.0507e+00,  2.1619e+00,  4.3078e-01, -2.7555e-01,  6.7892e-02],\n",
      "        [-9.6946e-01,  5.8484e-01, -9.1098e-01,  4.7459e-01, -8.7022e-01,\n",
      "         -5.2227e-01,  8.6257e-01, -6.7012e-01,  1.2951e+00,  2.5420e+00],\n",
      "        [-4.6579e-02,  8.8557e-02,  6.8494e-02, -5.2970e-01, -1.4803e+00,\n",
      "         -9.8126e-01,  1.9064e+00, -1.3695e+00, -2.3460e-02, -9.2247e-01],\n",
      "        [-6.2064e-01,  1.5794e+00, -9.9475e-01, -3.1479e-01, -1.4929e+00,\n",
      "          6.3429e-01,  1.0759e+00,  2.8184e-01,  6.1578e-01, -1.0018e+00],\n",
      "        [-6.3057e-02, -4.4612e-01, -1.1481e+00,  1.7478e+00,  5.8462e-01,\n",
      "          1.0069e+00,  8.3246e-01, -4.4942e-01, -1.9623e+00, -2.1829e-02],\n",
      "        [-1.1005e+00, -1.2416e+00, -3.5662e-01, -2.4171e-01,  6.7873e-01,\n",
      "          1.2947e-01,  1.8551e-01, -5.8253e-02,  4.0798e-01,  1.4154e+00],\n",
      "        [ 1.3563e-01, -1.3554e-01, -9.7808e-01, -4.0251e-01,  5.5557e-01,\n",
      "         -1.6099e+00, -1.4734e-01, -1.5967e+00,  5.5640e-02, -5.2583e-01],\n",
      "        [ 2.1196e-01,  7.5745e-01,  1.4695e-01,  8.8426e-01,  2.1280e+00,\n",
      "         -2.3881e+00, -6.9033e-01,  9.0671e-01, -8.6136e-02,  6.0089e-01],\n",
      "        [-4.8901e-01,  1.0582e+00,  1.0606e+00,  1.3549e+00,  9.5279e-01,\n",
      "         -7.6196e-01,  7.5450e-01,  1.3440e+00,  5.9245e-01,  2.0535e-01],\n",
      "        [-1.1149e+00,  4.8190e-01,  1.9018e-01,  1.0829e+00,  2.3957e+00,\n",
      "          2.5084e+00,  9.6381e-01,  9.0277e-01,  2.4489e+00, -9.2619e-01],\n",
      "        [ 1.1981e-01, -1.4067e+00,  4.0503e-01, -6.9529e-01, -2.6146e-01,\n",
      "         -7.2119e-01, -3.2454e-01,  2.0863e-01,  7.5730e-01, -2.8399e-01],\n",
      "        [-1.3036e+00,  2.0560e-02, -1.8257e+00, -5.7927e-01, -1.6640e-01,\n",
      "          7.6701e-01, -7.3268e-02, -2.4253e-01, -1.5575e-01, -8.8274e-02],\n",
      "        [-2.9620e-01,  4.8867e-01, -1.9824e+00,  4.2612e-01, -1.6749e+00,\n",
      "         -8.5104e-01,  1.7423e+00,  1.0760e+00,  2.3844e-01,  4.8313e-01],\n",
      "        [-2.1093e-01, -1.7877e+00,  1.5680e+00, -1.0689e+00,  1.4380e-01,\n",
      "         -3.6446e-01,  1.6992e+00, -1.3807e+00, -5.5691e-01, -4.6765e-01],\n",
      "        [-1.3616e-01,  4.3976e-01,  9.3947e-01,  1.7013e-01,  5.3466e-01,\n",
      "          3.1602e-01, -1.3642e+00, -2.2037e-01,  9.4196e-01, -8.4745e-01],\n",
      "        [-9.3246e-01, -6.0851e-01,  2.1654e+00,  7.9394e-01, -9.7059e-01,\n",
      "         -4.3004e-01,  7.5937e-01,  7.1840e-01, -1.5207e-01, -1.4093e+00],\n",
      "        [ 9.1858e-01, -1.7519e+00, -3.7963e-02,  6.7915e-01,  1.2795e-01,\n",
      "          2.0066e+00,  6.5580e-01,  6.0445e-01, -1.3567e+00,  1.3047e+00],\n",
      "        [-9.1458e-01, -1.5332e+00, -7.9656e-01, -8.6138e-01, -1.4871e+00,\n",
      "         -5.7899e-01,  4.4123e-01, -5.8560e-01, -8.9189e-01, -2.2169e-01],\n",
      "        [ 1.0915e+00, -7.5669e-02, -1.0629e+00, -8.8735e-01, -1.1533e+00,\n",
      "          5.2391e-01, -5.6566e-01,  2.7803e-01, -5.4975e-01,  1.1555e+00],\n",
      "        [ 3.2971e-01, -2.4293e-01, -8.7474e-02, -1.0042e+00, -2.7701e-01,\n",
      "          8.1466e-02,  1.4923e+00, -2.8393e-01,  1.2855e+00, -1.9352e+00],\n",
      "        [-1.0455e-01,  9.0743e-01,  6.2458e-01,  1.9030e+00,  1.3026e-01,\n",
      "         -3.0181e-01,  3.6106e-01, -7.5490e-01,  7.2295e-01,  1.7957e-01],\n",
      "        [-1.8552e+00, -1.3278e+00, -1.6347e+00, -1.7050e-01, -4.2305e-01,\n",
      "         -1.4350e+00, -2.8605e+00, -4.3579e-01, -1.7330e+00, -6.3638e-01],\n",
      "        [ 1.0602e+00, -8.2885e-01,  7.2652e-02, -4.2797e-01,  1.3330e-01,\n",
      "          6.3769e-01, -1.7420e+00,  1.0006e+00,  4.1776e-01, -2.2888e-01],\n",
      "        [ 2.9100e-01,  6.4086e-01, -2.1607e-01,  9.1748e-01,  5.9308e-01,\n",
      "          1.1422e-01,  2.5510e-01, -7.2662e-02, -1.5345e-01, -8.8444e-01],\n",
      "        [-8.0690e-01, -7.1256e-01, -3.4277e-02,  6.2534e-01,  1.2359e+00,\n",
      "         -6.9671e-01, -2.3952e+00, -9.1612e-01, -2.1442e-01,  6.0110e-01],\n",
      "        [ 1.2292e+00, -8.7990e-01,  1.5508e+00, -3.6481e-01,  2.2498e+00,\n",
      "          1.1289e+00,  3.9434e-01,  3.0690e-01, -1.9869e+00,  7.6207e-01],\n",
      "        [-1.7842e+00,  1.1767e+00, -7.5355e-01, -1.7248e+00, -1.8521e+00,\n",
      "         -9.9043e-01, -1.2045e+00,  8.6516e-01,  7.5675e-01,  9.1968e-01],\n",
      "        [ 6.1795e-01, -1.2914e+00, -4.7904e-01, -5.5297e-01, -6.5351e-01,\n",
      "          1.0271e-01,  2.7037e-01, -1.2770e+00,  5.8002e-01, -6.4780e-01],\n",
      "        [-6.7723e-01,  2.3769e+00,  6.2701e-02, -6.2750e-01, -3.2834e-01,\n",
      "          1.5087e-01, -5.9974e-01,  8.2066e-01,  7.1340e-01, -5.6480e-01],\n",
      "        [ 1.3450e+00,  7.6074e-01,  3.7538e-01,  9.1590e-01,  5.0537e-01,\n",
      "          4.0485e-01,  1.1430e-01, -1.6125e+00, -5.7703e-01, -6.8383e-01],\n",
      "        [ 1.7917e+00, -1.1065e+00,  3.4736e-01,  2.9038e-01, -2.9924e-01,\n",
      "         -9.6942e-01, -7.6659e-01,  8.7263e-01, -1.4534e+00, -6.8250e-01],\n",
      "        [-2.4581e+00,  1.6501e+00, -2.0999e-01, -1.2132e+00, -5.5379e-01,\n",
      "         -2.6290e-01,  5.1611e-01, -1.0138e-01,  1.8117e+00,  1.3862e+00],\n",
      "        [ 5.0432e-01, -3.4874e-01,  1.1950e+00, -5.6145e-02,  4.5371e-01,\n",
      "          6.7883e-01,  1.3013e-01, -1.2431e+00,  1.7964e+00, -2.7035e-01],\n",
      "        [-1.7655e+00, -4.6471e-01, -9.6846e-01,  5.4559e-01,  1.6004e+00,\n",
      "         -1.2261e+00,  2.7904e+00, -1.3110e+00,  5.6103e-01, -1.4101e-01],\n",
      "        [ 5.8019e-01,  9.3344e-01, -1.3057e+00, -1.2465e+00, -2.8154e-01,\n",
      "         -9.0304e-01, -2.0657e-01,  1.1733e+00, -4.3578e-01,  1.4365e+00],\n",
      "        [-5.3674e-01, -1.6178e+00,  1.8784e-02,  3.3176e-01, -4.5397e-01,\n",
      "         -1.0355e+00,  2.2199e+00,  7.8932e-01, -5.3031e-01, -5.1462e-01],\n",
      "        [ 3.5343e-01, -7.4685e-01,  1.6806e+00, -2.2579e-01, -1.7906e-01,\n",
      "          6.8685e-01, -2.9655e-01, -1.1303e+00, -1.4998e+00, -6.5683e-01],\n",
      "        [-1.2820e+00, -9.5709e-01,  1.2153e+00,  4.0734e-01, -7.2866e-02,\n",
      "          6.5466e-01, -8.9995e-01,  4.5695e-01, -1.3444e+00, -1.3191e-01],\n",
      "        [ 1.2401e-01,  7.9400e-01, -6.5590e-01, -7.4710e-01, -1.0113e+00,\n",
      "         -4.9051e-01, -3.7694e-01, -1.8362e-02,  3.1430e-01,  1.2830e+00],\n",
      "        [-7.5154e-01,  4.7350e-01, -9.8716e-01,  1.7442e-03, -1.3668e+00,\n",
      "         -5.1783e-01,  1.5660e+00,  7.2698e-01, -4.8790e-01,  4.6078e-01],\n",
      "        [ 4.5467e-01, -7.9890e-02, -5.6946e-01,  1.2382e-01, -4.0233e-01,\n",
      "          9.0431e-01, -7.5621e-04,  1.1478e+00,  4.2908e-01, -1.1298e-02],\n",
      "        [-2.6497e-02,  2.2943e-01, -7.4179e-01, -1.5282e+00,  1.0435e+00,\n",
      "         -4.6933e-01,  3.7408e-01, -1.0653e+00,  1.3544e+00,  5.1878e-01],\n",
      "        [-3.4298e-02,  2.3085e-02,  1.5518e+00, -1.5786e+00, -4.1743e-01,\n",
      "         -1.8391e+00,  1.6408e+00, -6.0613e-01, -1.2164e+00, -1.5586e+00],\n",
      "        [ 5.1577e-01, -2.9418e-01,  5.9636e-01,  5.2593e-01, -4.9214e-01,\n",
      "          7.8136e-01, -2.0671e-01, -1.3069e-01, -1.3034e+00, -1.5769e+00],\n",
      "        [-8.2862e-01,  2.3949e-02,  8.8623e-02, -6.9953e-01, -4.2814e-01,\n",
      "         -2.9849e-01,  1.7109e-01,  1.0969e-02, -2.3818e-01,  5.0263e-01],\n",
      "        [-5.2844e-01,  8.4058e-01,  4.7534e-01,  1.1945e+00, -1.2627e-01,\n",
      "         -1.1264e+00, -2.6901e-02,  6.0977e-01,  4.7967e-01, -3.5028e-01],\n",
      "        [-7.0704e-01,  7.1568e-01, -2.1934e-01,  9.5434e-01,  7.5255e-01,\n",
      "         -5.3643e-02, -4.1336e-01, -8.9209e-01, -1.4052e-01,  8.9109e-01],\n",
      "        [ 1.4833e+00, -4.3993e-01,  3.5308e-01,  4.9583e-01,  1.9491e-02,\n",
      "         -7.1703e-01,  1.0356e-02,  2.3642e+00,  5.9998e-01, -1.4759e+00],\n",
      "        [-4.3505e-01,  7.6646e-01,  1.0868e+00, -4.2211e-01,  2.5569e-01,\n",
      "         -2.5546e-01, -8.4864e-01, -2.9947e+00,  4.5600e-01,  9.1209e-01],\n",
      "        [-1.0077e+00,  1.1119e+00,  8.1210e-01, -3.6916e-01,  1.1052e+00,\n",
      "         -7.9742e-02,  8.4234e-01, -3.8364e-01,  8.1483e-01, -3.2875e-01],\n",
      "        [-9.5361e-01, -2.0666e-01,  6.9866e-01,  5.9611e-01, -1.2708e+00,\n",
      "         -5.6488e-02, -1.0363e+00,  9.9993e-01,  1.1206e+00, -1.2080e+00],\n",
      "        [-1.0446e-01, -2.4998e-01, -8.7843e-01,  1.7739e+00,  7.8111e-02,\n",
      "          1.3731e+00,  3.1829e-01, -3.2291e-01,  8.2072e-01, -9.5000e-01],\n",
      "        [-2.7719e-01, -6.6135e-01,  1.7420e+00, -2.7147e+00,  2.1274e-01,\n",
      "         -2.3565e-01,  7.7064e-01, -1.5854e+00,  3.3458e-01,  1.1468e+00],\n",
      "        [ 1.4964e+00, -3.8342e-01, -7.9111e-01, -1.3198e-01, -7.0150e-01,\n",
      "          6.2798e-01,  1.4494e-01, -1.0222e-01,  2.6202e-01,  9.0246e-01],\n",
      "        [ 1.0457e+00,  1.9251e+00,  4.0885e-01, -8.1396e-01, -1.1120e+00,\n",
      "         -1.4863e-01, -1.6512e-02,  1.5572e-01,  2.9867e-01,  3.3655e-01],\n",
      "        [-2.2799e-01, -1.0368e+00,  2.6314e-01, -1.3788e+00,  9.4229e-01,\n",
      "          7.1872e-01,  3.9087e-01, -1.1567e+00,  7.6538e-01,  5.8109e-01],\n",
      "        [ 7.9722e-01, -1.0097e+00, -4.0201e-01,  1.0796e-01,  1.2326e+00,\n",
      "          1.8174e+00, -8.3149e-02, -4.7667e-01, -2.1688e+00, -2.7246e-02],\n",
      "        [-1.7435e+00, -2.5182e-03,  2.4565e+00, -9.5511e-01,  3.8301e-01,\n",
      "         -1.8122e+00, -1.5318e+00,  6.0897e-01, -1.2202e+00, -7.3482e-01],\n",
      "        [-1.3755e+00, -1.2324e+00,  4.9576e-02, -6.9412e-02, -1.5399e-01,\n",
      "         -7.0940e-01, -7.9390e-01,  4.8714e-01,  9.8085e-01, -6.6782e-01],\n",
      "        [-1.9429e+00, -2.5397e-02, -2.6639e-01, -8.8319e-02,  5.2852e-01,\n",
      "         -1.2972e-01,  1.8623e-01, -1.7596e+00, -1.8130e-01, -1.8660e+00],\n",
      "        [ 9.8364e-01, -1.0476e-01,  7.6267e-01,  1.4686e+00,  1.4150e-01,\n",
      "         -1.5070e+00,  4.4628e-01, -1.5320e+00, -1.2425e+00, -4.6378e-01],\n",
      "        [-3.6822e-01,  2.3454e-01,  9.1826e-02,  6.8757e-01, -6.3571e-01,\n",
      "          8.5235e-01, -6.4028e-01, -5.7465e-01, -1.0909e+00, -1.8810e+00],\n",
      "        [-3.3907e-01,  1.5742e+00,  1.3523e+00, -2.7344e-01,  5.5668e-02,\n",
      "         -7.9950e-01,  1.3042e+00, -3.7061e-01,  6.8189e-02,  4.9193e-01],\n",
      "        [-1.0973e+00, -1.5993e+00,  6.5875e-01,  9.4454e-01,  1.4086e+00,\n",
      "          1.8439e-01,  1.6607e+00, -2.5441e-02, -1.1618e+00, -1.5273e+00],\n",
      "        [ 8.5947e-01, -8.1028e-01, -1.5715e+00,  1.4398e-01,  1.2327e+00,\n",
      "         -1.4090e-01,  6.8619e-01, -6.8593e-01, -1.3196e+00, -9.2899e-01],\n",
      "        [-7.3463e-02,  1.2130e+00,  6.3677e-01, -3.2667e-01, -4.2259e-01,\n",
      "         -4.2961e-01, -2.0841e+00, -3.8460e-01,  9.7102e-01,  6.4830e-01],\n",
      "        [-1.2872e-01,  1.8428e+00,  8.4709e-02, -1.4716e+00, -1.2285e+00,\n",
      "          1.0146e+00,  7.7971e-01, -1.7518e+00,  1.5388e+00, -5.2530e-01],\n",
      "        [ 3.7155e-02, -7.6030e-02,  5.3562e-01,  1.0490e-02, -1.5844e+00,\n",
      "          1.0405e+00,  5.3910e-01,  6.7347e-01,  5.5843e-01,  2.8477e-01],\n",
      "        [-2.3928e-01, -7.7564e-01,  1.1990e+00,  6.8910e-01, -4.1017e-01,\n",
      "          4.0499e-01, -2.4873e-01,  6.1094e-01,  1.0372e+00,  7.6889e-01],\n",
      "        [ 5.5658e-01, -1.3442e+00,  1.2820e-01,  1.8188e-01, -6.1333e-01,\n",
      "         -1.9089e+00, -5.0617e-01, -8.8656e-01, -6.1987e-01, -1.4964e+00],\n",
      "        [ 2.6563e+00, -4.6631e-01,  7.5771e-02,  4.6808e-01, -8.4498e-01,\n",
      "         -1.6526e-01, -9.2286e-02,  1.7923e+00, -1.1520e+00, -3.7989e-01],\n",
      "        [ 1.1064e-01, -4.5184e-02, -8.4959e-01, -3.8517e-01, -1.9524e+00,\n",
      "          1.8192e-01, -1.2992e+00, -2.3253e-01, -5.9600e-01,  5.0738e-01],\n",
      "        [ 9.4113e-01, -1.2332e+00,  1.9707e-01,  2.4436e+00, -2.2844e+00,\n",
      "          8.9623e-01,  1.7476e+00,  1.2945e+00, -6.5384e-01,  7.4203e-01]])\n",
      "torch.Size([50, 10])\n"
     ]
    }
   ],
   "source": [
    "import torch\n",
    "\n",
    "# Create a matrix with shape (100, 10)\n",
    "matrix = torch.randn(100, 10)\n",
    "print(matrix)\n",
    "\n",
    "# Create a boolean mask with shape (100,)\n",
    "mask = torch.tensor([True, False, True, False, True, False, True, False, True, False,\n",
    "                     True, False, True, False, True, False, True, False, True, False,\n",
    "                     True, False, True, False, True, False, True, False, True, False,\n",
    "                     True, False, True, False, True, False, True, False, True, False,\n",
    "                     True, False, True, False, True, False, True, False, True, False,\n",
    "                     True, False, True, False, True, False, True, False, True, False,\n",
    "                     True, False, True, False, True, False, True, False, True, False,\n",
    "                     True, False, True, False, True, False, True, False, True, False,\n",
    "                     True, False, True, False, True, False, True, False, True, False,\n",
    "                     True, False, True, False, True, False, True, False, True, False])\n",
    "\n",
    "# Filter the rows based on the boolean mask\n",
    "filtered_matrix = matrix[mask]\n",
    "\n",
    "# Check the shape of the filtered matrix\n",
    "print(filtered_matrix.shape)\n"
   ]
  },
  {
   "cell_type": "code",
   "execution_count": 73,
   "id": "5694aa02",
   "metadata": {},
   "outputs": [
    {
     "name": "stdout",
     "output_type": "stream",
     "text": [
      "tensor([10,  2,  3, 20,  4,  5, 30])\n"
     ]
    }
   ],
   "source": [
    "import torch\n",
    "\n",
    "# Example input tensor\n",
    "tensor = torch.tensor([1, 2, 3, 1, 4, 5, 1])\n",
    "\n",
    "# Value to be replaced\n",
    "old_value = 1\n",
    "\n",
    "# New values (corresponding to each occurrence of old_value)\n",
    "new_values = torch.tensor([10, 20, 30])\n",
    "\n",
    "# Create a mask for the positions of old_value\n",
    "mask = tensor == old_value\n",
    "\n",
    "# Count the number of occurrences of old_value\n",
    "num_occurrences = mask.sum().item()\n",
    "\n",
    "# Check if the number of new values matches the number of occurrences\n",
    "if len(new_values) != num_occurrences:\n",
    "    raise ValueError(\"Number of new values does not match the number of occurrences\")\n",
    "\n",
    "# Replace old_value with new_values\n",
    "tensor[mask] = new_values\n",
    "\n",
    "# Print the modified tensor\n",
    "print(tensor)\n"
   ]
  },
  {
   "cell_type": "code",
   "execution_count": null,
   "id": "baa316eb",
   "metadata": {},
   "outputs": [],
   "source": []
  }
 ],
 "metadata": {
  "kernelspec": {
   "display_name": "Python 3 (ipykernel)",
   "language": "python",
   "name": "python3"
  },
  "language_info": {
   "codemirror_mode": {
    "name": "ipython",
    "version": 3
   },
   "file_extension": ".py",
   "mimetype": "text/x-python",
   "name": "python",
   "nbconvert_exporter": "python",
   "pygments_lexer": "ipython3",
   "version": "3.10.6"
  }
 },
 "nbformat": 4,
 "nbformat_minor": 5
}
