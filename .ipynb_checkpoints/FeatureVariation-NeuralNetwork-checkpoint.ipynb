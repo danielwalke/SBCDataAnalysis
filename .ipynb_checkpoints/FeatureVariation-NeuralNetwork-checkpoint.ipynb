{
 "cells": [
  {
   "cell_type": "code",
   "execution_count": 1,
   "id": "68e59c36",
   "metadata": {
    "scrolled": true
   },
   "outputs": [
    {
     "name": "stderr",
     "output_type": "stream",
     "text": [
      "/home/dwalke/git/sbc/dataAnalysis/data/Filter.py:36: SettingWithCopyWarning: \n",
      "A value is trying to be set on a copy of a slice from a DataFrame.\n",
      "Try using .loc[row_indexer,col_indexer] = value instead\n",
      "\n",
      "See the caveats in the documentation: https://pandas.pydata.org/pandas-docs/stable/user_guide/indexing.html#returning-a-view-versus-a-copy\n",
      "  self.data['Label'] = self.data['Diagnosis']\n"
     ]
    },
    {
     "name": "stdout",
     "output_type": "stream",
     "text": [
      "Training: \n",
      "Assessable data are 528101 cases and 1015074 CBCs\n",
      "Control data are 527038 cases and 1013548 CBCs\n",
      "Sepsis data are 1488 cases and 1526 CBCs\n",
      "$$$$$$$$$$$$$$$$$$$$\n",
      "Testing: \n"
     ]
    },
    {
     "name": "stderr",
     "output_type": "stream",
     "text": [
      "/home/dwalke/git/sbc/dataAnalysis/data/Filter.py:36: SettingWithCopyWarning: \n",
      "A value is trying to be set on a copy of a slice from a DataFrame.\n",
      "Try using .loc[row_indexer,col_indexer] = value instead\n",
      "\n",
      "See the caveats in the documentation: https://pandas.pydata.org/pandas-docs/stable/user_guide/indexing.html#returning-a-view-versus-a-copy\n",
      "  self.data['Label'] = self.data['Diagnosis']\n"
     ]
    },
    {
     "name": "stdout",
     "output_type": "stream",
     "text": [
      "Controls: 365794, Sepsis: 490\n",
      "Assessable data are 180494 cases and 366284 CBCs\n",
      "Control data are 180157 cases and 365794 CBCs\n",
      "Sepsis data are 472 cases and 490 CBCs\n"
     ]
    },
    {
     "name": "stderr",
     "output_type": "stream",
     "text": [
      "/home/dwalke/git/sbc/dataAnalysis/data/Filter.py:36: SettingWithCopyWarning: \n",
      "A value is trying to be set on a copy of a slice from a DataFrame.\n",
      "Try using .loc[row_indexer,col_indexer] = value instead\n",
      "\n",
      "See the caveats in the documentation: https://pandas.pydata.org/pandas-docs/stable/user_guide/indexing.html#returning-a-view-versus-a-copy\n",
      "  self.data['Label'] = self.data['Diagnosis']\n"
     ]
    },
    {
     "name": "stdout",
     "output_type": "stream",
     "text": [
      "Controls: 437629, Sepsis: 448\n",
      "Assessable data are 157922 cases and 438077 CBCs\n",
      "Control data are 180157 cases and 437629 CBCs\n",
      "Sepsis data are 438 cases and 448 CBCs\n"
     ]
    }
   ],
   "source": [
    "from dataAnalysis.DataAnalysis import DataAnalysis\n",
    "import pandas as pd\n",
    "\n",
    "data = pd.read_csv(r\"extdata/sbcdata.csv\", header=0)\n",
    "data_analysis = DataAnalysis(data)"
   ]
  },
  {
   "cell_type": "code",
   "execution_count": 2,
   "id": "ae26e504",
   "metadata": {},
   "outputs": [],
   "source": [
    "import torch\n",
    "\n",
    "y_train = torch.tensor(data_analysis.get_y_train(), dtype=torch.long)\n",
    "X_train = torch.tensor(data_analysis.get_X_train(), dtype=torch.float)"
   ]
  },
  {
   "cell_type": "code",
   "execution_count": 3,
   "id": "769ca01f",
   "metadata": {},
   "outputs": [],
   "source": [
    "import torch.nn.functional as F\n",
    "from torch_geometric.nn import SAGEConv\n",
    "import torch\n",
    "from dataAnalysis.Constants import FEATURES\n",
    "\n",
    "class GraphNeuralNetwork(torch.nn.Module):\n",
    "\n",
    "    def __init__(self, hidden_dim = 128, out_channels = 1):\n",
    "        super(GraphNeuralNetwork, self).__init__()\n",
    "        \n",
    "        input_dim = len(FEATURES)          \n",
    "        self.conv1 = SAGEConv(input_dim, hidden_dim, normalize=True, project= True, aggr = \"mean\", root_weight = True, dropout=0.0)\n",
    "        self.conv_end = SAGEConv(hidden_dim, out_channels, aggr = \"mean\", root_weight = True)\n",
    "\n",
    "\n",
    "    def forward(self, graph):\n",
    "        x, edge_index = graph.x, graph.edge_index\n",
    "        x = torch.relu(self.conv1(x, edge_index))\n",
    "        x = self.conv_end(x, edge_index)\n",
    "        return x\n",
    "            \n",
    "    def predict_proba(self, graph, mask):\n",
    "        with torch.inference_mode():\n",
    "            self.eval()\n",
    "            logits = self.forward(graph)\n",
    "            scores = torch.sigmoid(torch.squeeze(logits[mask]))\n",
    "            scores = torch.unsqueeze(scores, 0)\n",
    "            proba_predict = torch.concat((1- scores, scores), dim = 0)\n",
    "            return torch.transpose(proba_predict, 0, 1)\n",
    "            \n",
    "    def predict(self, graph, mask):\n",
    "        return torch.round(self.predict_proba(graph, mask)[:, 1])"
   ]
  },
  {
   "cell_type": "code",
   "execution_count": 4,
   "id": "9afc869e",
   "metadata": {},
   "outputs": [
    {
     "data": {
      "text/plain": [
       "GraphNeuralNetwork(\n",
       "  (conv1): SAGEConv(7, 128, aggr=mean)\n",
       "  (conv_end): SAGEConv(128, 1, aggr=mean)\n",
       ")"
      ]
     },
     "execution_count": 4,
     "metadata": {},
     "output_type": "execute_result"
    }
   ],
   "source": [
    "model = GraphNeuralNetwork() #.to(device)\n",
    "model.load_state_dict(torch.load(\"model_homognn_88.pt\"))\n",
    "model.eval()"
   ]
  },
  {
   "cell_type": "code",
   "execution_count": null,
   "id": "ac9a8ce4",
   "metadata": {},
   "outputs": [],
   "source": [
    "from torch_geometric.nn import knn_graph\n",
    "from dataAnalysis.FeatureImportance import FeatureImportance\n",
    "\n",
    "def normalize(tensor):\n",
    "    if not torch.is_tensor(tensor):\n",
    "        tensor = torch.from_numpy(tensor).type(torch.float)\n",
    "    mean = torch.mean(tensor, dim = 0)\n",
    "    std = torch.std(tensor, dim = 0)\n",
    "    mean_diff = tensor - mean\n",
    "    return mean_diff / std\n",
    "\n",
    "\n",
    "feature_importance = FeatureImportance(X_train)\n",
    "X_all_fv = normalize(feature_importance.X_all_fv)\n",
    "edge_index = knn_graph(X_all_fv ,k = 1, loop = True, num_workers = -1)\n",
    "graph = Data(x= X_all_fv,  edge_index = edge_index.type(torch.long))\n",
    "print(graph)\n"
   ]
  },
  {
   "cell_type": "code",
   "execution_count": null,
   "id": "6667f8c0",
   "metadata": {},
   "outputs": [],
   "source": [
    "device = torch.device(\"cuda:0\") if torch.cuda.is_available() else torch.device(\"cpu\")\n",
    "self.model_input = [graph.to(device), torch.ones(X_all_fv.shape[0], dtype.torch.bool, device = device)]"
   ]
  },
  {
   "cell_type": "code",
   "execution_count": null,
   "id": "11c109b7",
   "metadata": {},
   "outputs": [
    {
     "name": "stdout",
     "output_type": "stream",
     "text": [
      "cuda:0\n",
      "torch.Size([128000000, 7])\n"
     ]
    }
   ],
   "source": [
    "\n",
    "feature_importance.plot_feature_importance(model, title= \"Homogeneous GNN\")"
   ]
  },
  {
   "cell_type": "code",
   "execution_count": null,
   "id": "bf9c9f73",
   "metadata": {},
   "outputs": [],
   "source": [
    "import numpy as np\n",
    "import itertools\n",
    "\n",
    "def feature_variation(feature_column, steps = 100):\n",
    "    feature_column =  feature_column if torch.is_tensor(feature_column) else torch.from_numpy(feature_column)\n",
    "    q = np.linspace(0, 1, steps, endpoint=True)\n",
    "    return np.quantile(feature_column, q) \n",
    "\n",
    "def get_features_single_variation(X, feature_name, steps = 100):\n",
    "    X_new = torch.tensor([])\n",
    "    for feature in FEATURE_DICT:\n",
    "        idx = FEATURE_DICT[feature]\n",
    "        if feature is feature_name:\n",
    "            variation = feature_variation(X_train[:, FEATURE_DICT[feature_name]])\n",
    "            X_new = torch.concat((X_new, torch.from_numpy(variation)), dim = 0)\n",
    "        if feature is not feature_name:\n",
    "            median = torch.ones(steps)* torch.median(X[:, idx])\n",
    "            X_new = torch.concat((X_new, median), dim = 0)\n",
    "    return X_new.view(len(FEATURE_DICT), steps).transpose(0,1)\n",
    "\n",
    "def get_features_multi_variation(X, steps = 10):\n",
    "    X_new = torch.tensor([])\n",
    "    variations = []\n",
    "    for feature in FEATURE_DICT:\n",
    "        if feature== SEX__CAT_COLUMN_NAME:\n",
    "            continue\n",
    "        idx = FEATURE_DICT[feature]\n",
    "        variation = feature_variation(X_train[:, FEATURE_DICT[feature]], steps)\n",
    "        variations.append(variation)\n",
    "    combinations_wo_sex = list(itertools.product(*variations))\n",
    "    combinations_wo_sex = torch.tensor(combinations_wo_sex)\n",
    "    tensor_with_male_column = torch.cat((combinations_wo_sex[:, :1], torch.zeros(combinations_wo_sex.shape[0]).unsqueeze(1), combinations_wo_sex[:, 1:]), dim=1)\n",
    "    tensor_with_female_column = torch.cat((combinations_wo_sex[:, :1], torch.ones(combinations_wo_sex.shape[0]).unsqueeze(1), combinations_wo_sex[:, 1:]), dim=1)\n",
    "    concatenated_tensor = torch.cat((tensor_with_male_column, tensor_with_female_column), dim=0)\n",
    "    return concatenated_tensor.numpy()\n",
    "    \n",
    "steps = 20\n",
    "X_all_fv = get_features_multi_variation(X_train, steps)\n",
    "print(X_all_fv.shape)"
   ]
  },
  {
   "cell_type": "code",
   "execution_count": 11,
   "id": "73b68f0f",
   "metadata": {},
   "outputs": [],
   "source": [
    "from torch_geometric.nn import knn_graph\n",
    "\n",
    "def normalize(tensor):\n",
    "    if not torch.is_tensor(tensor):\n",
    "        tensor = torch.from_numpy(tensor).type(torch.float)\n",
    "    mean = torch.mean(tensor, dim = 0)\n",
    "    std = torch.std(tensor, dim = 0)\n",
    "    mean_diff = tensor - mean\n",
    "    return mean_diff / std\n",
    "\n",
    "edge_index = knn_graph(normalize(X_all_fv) ,k = 1, loop = True, num_workers = -1)"
   ]
  },
  {
   "cell_type": "code",
   "execution_count": 12,
   "id": "576f6a6f",
   "metadata": {},
   "outputs": [],
   "source": [
    "from torch_geometric.data import Data\n",
    "\n",
    "graph = Data(x= normalize(X_all_fv),  edge_index = edge_index.type(torch.long))"
   ]
  },
  {
   "cell_type": "code",
   "execution_count": 13,
   "id": "0b14d5c9",
   "metadata": {},
   "outputs": [
    {
     "data": {
      "text/plain": [
       "device(type='cuda', index=1)"
      ]
     },
     "execution_count": 13,
     "metadata": {},
     "output_type": "execute_result"
    }
   ],
   "source": [
    "device = torch.device(\"cuda:1\") if torch.cuda.is_available() else torch.device(\"cpu\")\n",
    "graph = graph.to(device)\n",
    "device"
   ]
  },
  {
   "cell_type": "code",
   "execution_count": 21,
   "id": "bc308f27",
   "metadata": {},
   "outputs": [
    {
     "name": "stdout",
     "output_type": "stream",
     "text": [
      "torch.Size([128000000])\n"
     ]
    }
   ],
   "source": [
    "from torch_geometric.loader import NeighborLoader\n",
    "\n",
    "y_pred_all = torch.tensor([], device = device)\n",
    "with torch.inference_mode():\n",
    "    loader = NeighborLoader(graph, num_neighbors=[-1,-1], batch_size = 100000)\n",
    "    for i, batch in enumerate(loader):\n",
    "        pred = model(batch.x, batch.edge_index)\n",
    "        pred_patient_scores = torch.sigmoid(torch.squeeze(pred))\n",
    "        pred_patient = torch.round(pred_patient_scores)\n",
    "        y_pred = pred_patient\n",
    "        y_pred_all = torch.concat((y_pred_all, y_pred), dim = 0)\n",
    "    print(y_pred_all.shape)"
   ]
  },
  {
   "cell_type": "code",
   "execution_count": 15,
   "id": "ed281262",
   "metadata": {},
   "outputs": [],
   "source": [
    "# y_all_pred = torch.concat((y_train, y_test, y_gw_test, pred_patient.cpu()))"
   ]
  },
  {
   "cell_type": "code",
   "execution_count": null,
   "id": "30f85068",
   "metadata": {},
   "outputs": [],
   "source": [
    "import matplotlib.pyplot as plt\n",
    "import numpy as np\n",
    "plotted_features = []\n",
    "X_all_fv = X_all_fv if torch.is_tensor(X_all_fv) else torch.from_numpy(X_all_fv)\n",
    "X_all_fv = X_all_fv.cpu()\n",
    "y_pred = y_pred_all.cpu()\n",
    "for feature in FEATURES:\n",
    "    sepsis_ratios = []\n",
    "    for feature_value in X_all_fv[:, FEATURE_DICT[feature]].unique():\n",
    "        feature_mask = X_all_fv[:, FEATURE_DICT[feature]] == feature_value\n",
    "        uniques, counts = torch.unique(y_pred[feature_mask], return_counts=True)\n",
    "        if len(counts) == 2:\n",
    "            sepsis_ratios.append(counts[1] / (counts[0] + counts[1]))\n",
    "        else:\n",
    "            sepsis_ratios.append(torch.tensor(0) if uniques[0] == 0 else torch.tensor(counts[0]))\n",
    "    if feature == SEX__CAT_COLUMN_NAME:\n",
    "        continue\n",
    "        diff = sepsis_ratios[1] - sepsis_ratios[0]\n",
    "        sepsis_ratios = [sepsis_ratios[0] + i/steps * diff for i in range(steps)]        \n",
    "    sepsis_ratios = list(map(lambda r: r*100, sepsis_ratios))\n",
    "    plt.plot(np.linspace(0, 100, steps, endpoint=True), sepsis_ratios)\n",
    "plt.xlabel(\"Feature ratio [%]\")\n",
    "plt.ylabel(\"Ratios of diseased patients [%]\")\n",
    "plt.ylim(0, 100)\n",
    "plt.xlim(0, 100)\n",
    "plt.title(\"Homogeneous GNN\")\n",
    "plt.legend(list(filter(lambda f: f != SEX__CAT_COLUMN_NAME, FEATURES)))\n",
    "plt.show()"
   ]
  },
  {
   "cell_type": "code",
   "execution_count": 84,
   "id": "371060ed",
   "metadata": {
    "collapsed": true
   },
   "outputs": [
    {
     "name": "stdout",
     "output_type": "stream",
     "text": [
      "torch.Size([3819435])\n",
      "AUROC: 0.6485\n"
     ]
    }
   ],
   "source": [
    "from torchmetrics import AUROC\n",
    "\n",
    "auroc_metric = AUROC(task=\"binary\")\n",
    "with torch.inference_mode():\n",
    "    model.eval()\n",
    "    pred = model(graph.x, graph.edge_index) \n",
    "    pred_patient = torch.sigmoid(torch.squeeze(pred[test_l_mask]))\n",
    "    auroc = auroc_metric(pred_patient, graph.y[test_l_mask])\n",
    "    print(f\"AUROC: {auroc.item():.4f}\")"
   ]
  },
  {
   "cell_type": "code",
   "execution_count": 85,
   "id": "63a31a56",
   "metadata": {},
   "outputs": [
    {
     "data": {
      "image/png": "[encoded data removed]",
      "text/plain": [
       "<Figure size 640x480 with 2 Axes>"
      ]
     },
     "metadata": {},
     "output_type": "display_data"
    }
   ],
   "source": [
    "from torchmetrics import AUROC\n",
    "from sklearn import metrics\n",
    "\n",
    "auroc_metric = AUROC(task=\"binary\")\n",
    "with torch.inference_mode():\n",
    "    model.eval()\n",
    "    pred = model(graph.x, graph.edge_index) \n",
    "    pred_patient = torch.sigmoid(torch.squeeze(pred[test_l_mask]))\n",
    "    \n",
    "    confusion_matrix = metrics.confusion_matrix(graph.y[test_l_mask].cpu(),\n",
    "                                                    torch.round(pred_patient).type(torch.int).cpu())\n",
    "    cm_display = metrics.ConfusionMatrixDisplay(confusion_matrix=confusion_matrix, display_labels=[False, True])\n",
    "    cm_display.plot()"
   ]
  },
  {
   "cell_type": "code",
   "execution_count": null,
   "id": "10de27ff",
   "metadata": {},
   "outputs": [],
   "source": [
    "import time \n",
    "for i in range(20000):\n",
    "    print(\"Waiting\")\n",
    "    time.sleep(60)"
   ]
  },
  {
   "cell_type": "code",
   "execution_count": null,
   "id": "bb1dde4f",
   "metadata": {},
   "outputs": [],
   "source": []
  }
 ],
 "metadata": {
  "kernelspec": {
   "display_name": "Python 3 (ipykernel)",
   "language": "python",
   "name": "python3"
  },
  "language_info": {
   "codemirror_mode": {
    "name": "ipython",
    "version": 3
   },
   "file_extension": ".py",
   "mimetype": "text/x-python",
   "name": "python",
   "nbconvert_exporter": "python",
   "pygments_lexer": "ipython3",
   "version": "3.10.6"
  }
 },
 "nbformat": 4,
 "nbformat_minor": 5
}
