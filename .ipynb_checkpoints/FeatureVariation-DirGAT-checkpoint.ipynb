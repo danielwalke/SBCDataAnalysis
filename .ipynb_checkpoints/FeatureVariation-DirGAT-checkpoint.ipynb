{
 "cells": [
  {
   "cell_type": "markdown",
   "id": "8686e53a",
   "metadata": {},
   "source": [
    "## Load data"
   ]
  },
  {
   "cell_type": "code",
   "execution_count": 1,
   "id": "68e59c36",
   "metadata": {
    "scrolled": true
   },
   "outputs": [
    {
     "name": "stderr",
     "output_type": "stream",
     "text": [
      "/home/dwalke/git/sbc/dataAnalysis/data/Filter.py:34: SettingWithCopyWarning: \n",
      "A value is trying to be set on a copy of a slice from a DataFrame.\n",
      "Try using .loc[row_indexer,col_indexer] = value instead\n",
      "\n",
      "See the caveats in the documentation: https://pandas.pydata.org/pandas-docs/stable/user_guide/indexing.html#returning-a-view-versus-a-copy\n",
      "  self.data['Label'] = self.data['Diagnosis']\n"
     ]
    },
    {
     "name": "stdout",
     "output_type": "stream",
     "text": [
      "Training: \n",
      "Assessable data are 528101 cases and 1015074 CBCs\n",
      "Control data are 527038 cases and 1013548 CBCs\n",
      "Sepsis data are 1488 cases and 1526 CBCs\n",
      "$$$$$$$$$$$$$$$$$$$$\n",
      "Testing: \n"
     ]
    },
    {
     "name": "stderr",
     "output_type": "stream",
     "text": [
      "/home/dwalke/git/sbc/dataAnalysis/data/Filter.py:34: SettingWithCopyWarning: \n",
      "A value is trying to be set on a copy of a slice from a DataFrame.\n",
      "Try using .loc[row_indexer,col_indexer] = value instead\n",
      "\n",
      "See the caveats in the documentation: https://pandas.pydata.org/pandas-docs/stable/user_guide/indexing.html#returning-a-view-versus-a-copy\n",
      "  self.data['Label'] = self.data['Diagnosis']\n"
     ]
    },
    {
     "name": "stdout",
     "output_type": "stream",
     "text": [
      "Controls: 365794, Sepsis: 490\n",
      "Assessable data are 180494 cases and 366284 CBCs\n",
      "Control data are 180157 cases and 365794 CBCs\n",
      "Sepsis data are 472 cases and 490 CBCs\n"
     ]
    },
    {
     "name": "stderr",
     "output_type": "stream",
     "text": [
      "/home/dwalke/git/sbc/dataAnalysis/data/Filter.py:34: SettingWithCopyWarning: \n",
      "A value is trying to be set on a copy of a slice from a DataFrame.\n",
      "Try using .loc[row_indexer,col_indexer] = value instead\n",
      "\n",
      "See the caveats in the documentation: https://pandas.pydata.org/pandas-docs/stable/user_guide/indexing.html#returning-a-view-versus-a-copy\n",
      "  self.data['Label'] = self.data['Diagnosis']\n"
     ]
    },
    {
     "name": "stdout",
     "output_type": "stream",
     "text": [
      "Controls: 437629, Sepsis: 448\n",
      "Assessable data are 157922 cases and 438077 CBCs\n",
      "Control data are 180157 cases and 437629 CBCs\n",
      "Sepsis data are 438 cases and 448 CBCs\n"
     ]
    }
   ],
   "source": [
    "from dataAnalysis.DataAnalysis import DataAnalysis\n",
    "import pandas as pd\n",
    "\n",
    "data = pd.read_csv(r\"extdata/sbcdata.csv\", header=0)\n",
    "data_analysis = DataAnalysis(data)"
   ]
  },
  {
   "cell_type": "code",
   "execution_count": 2,
   "id": "ae26e504",
   "metadata": {},
   "outputs": [],
   "source": [
    "import torch\n",
    "\n",
    "y_train = torch.tensor(data_analysis.get_y_train(), dtype=torch.long)\n",
    "X_train = torch.tensor(data_analysis.get_X_train(), dtype=torch.float)"
   ]
  },
  {
   "cell_type": "markdown",
   "id": "9e82c9fb",
   "metadata": {},
   "source": [
    "## Define model"
   ]
  },
  {
   "cell_type": "code",
   "execution_count": 3,
   "id": "769ca01f",
   "metadata": {},
   "outputs": [],
   "source": [
    "import torch.nn.functional as F\n",
    "from torch_geometric.nn import GATConv, GCNConv,GATv2Conv, GINConv, global_add_pool\n",
    "from torch.nn import Linear\n",
    "import torch\n",
    "from dataAnalysis.Constants import FEATURES\n",
    "from torch.nn import Linear, ReLU, Sequential\n",
    "from torch.nn import BatchNorm1d as BatchNorm\n",
    "from torch.nn import BatchNorm1d as BatchNorm\n",
    "from torch_geometric.loader import NeighborLoader\n",
    "\n",
    "class GraphNeuralNetwork(torch.nn.Module):\n",
    "    def __init__(self, hidden_dim = 128, out_channels = 1):\n",
    "        super(GraphNeuralNetwork, self).__init__()\n",
    "        input_dim = len(FEATURES)      \n",
    "        \n",
    "        HEADS = 5\n",
    "        \n",
    "        conv_1= GATConv(input_dim, hidden_dim,heads=HEADS, add_self_loops = False)\n",
    "        conv_end = GATConv((-1,-1), out_channels,add_self_loops = False)\n",
    "        \n",
    "        self.conv_1 = conv_1\n",
    "        self.conv_end = conv_end\n",
    "        \n",
    "\n",
    "    def forward(self, graph):\n",
    "        x, edge_index = graph.x, graph.edge_index\n",
    "        x = x.type(torch.float)\n",
    "        x = self.conv_1(x, edge_index) \n",
    "        x = F.normalize(x, p=2., dim=-1)\n",
    "        x = torch.relu(x)\n",
    "        x = self.conv_end(x, edge_index)\n",
    "        return x\n",
    "    \n",
    "    \n",
    "    def predict_proba(self, graph):\n",
    "        y_pred_proba_all = torch.tensor([])\n",
    "        loader = NeighborLoader(graph, num_neighbors=[-1,-1], batch_size = 50_000)\n",
    "        with torch.inference_mode():\n",
    "            self.eval()\n",
    "            for i, batch in enumerate(loader):\n",
    "                logits = self.forward(batch)\n",
    "                scores = torch.sigmoid(torch.squeeze(logits))\n",
    "                scores = torch.unsqueeze(scores, 0)\n",
    "                proba_predict = torch.concat((1- scores, scores), dim = 0)\n",
    "                transp_proba_pred = torch.transpose(proba_predict, 0, 1)\n",
    "                y_pred_proba_all = torch.concat((y_pred_proba_all, transp_proba_pred), dim = 0)\n",
    "        return y_pred_proba_all\n",
    "            \n",
    "    def predict(self, graph):\n",
    "        return torch.round(self.predict_proba(graph)[:, 1])"
   ]
  },
  {
   "cell_type": "markdown",
   "id": "1b67178c",
   "metadata": {},
   "source": [
    "## Load trained model"
   ]
  },
  {
   "cell_type": "code",
   "execution_count": 4,
   "id": "9afc869e",
   "metadata": {},
   "outputs": [
    {
     "data": {
      "text/plain": [
       "GraphNeuralNetwork(\n",
       "  (conv_1): GATConv(7, 128, heads=5)\n",
       "  (conv_end): GATConv((-1, -1), 1, heads=1)\n",
       ")"
      ]
     },
     "execution_count": 4,
     "metadata": {},
     "output_type": "execute_result"
    }
   ],
   "source": [
    "model = GraphNeuralNetwork().cpu() #.to(device)\n",
    "model.load_state_dict(torch.load(\"directed_gat.pt\", map_location=torch.device('cpu')))\n",
    "model.eval()"
   ]
  },
  {
   "cell_type": "markdown",
   "id": "6d627f39",
   "metadata": {},
   "source": [
    "## Create graph from synthetic dataset"
   ]
  },
  {
   "cell_type": "code",
   "execution_count": 5,
   "id": "4e363613",
   "metadata": {},
   "outputs": [],
   "source": [
    "from torch_geometric.nn import knn_graph\n",
    "from dataAnalysis.FeatureImportance import FeatureImportance\n",
    "\n",
    "def normalize(tensor):\n",
    "    if not torch.is_tensor(tensor):\n",
    "        tensor = torch.from_numpy(tensor).type(torch.float)\n",
    "    mean = torch.mean(tensor, dim = 0)\n",
    "    std = torch.std(tensor, dim = 0)\n",
    "    mean_diff = tensor - mean\n",
    "    return mean_diff / std\n",
    "\n",
    "\n",
    "feature_importance = FeatureImportance(X_train)\n",
    "X_all_fv = normalize(feature_importance.X_all_fv)\n",
    "node_indices = torch.arange(X_all_fv.shape[0]).type(torch.long)\n",
    "edge_index = node_indices.repeat(2 ,1)"
   ]
  },
  {
   "cell_type": "code",
   "execution_count": 6,
   "id": "cb6ad5a4",
   "metadata": {},
   "outputs": [
    {
     "data": {
      "text/plain": [
       "array([[0., 1., 0., 1., 0., 1., 0.]])"
      ]
     },
     "execution_count": 6,
     "metadata": {},
     "output_type": "execute_result"
    }
   ],
   "source": [
    "import numpy as np\n",
    "import matplotlib.pyplot as plt\n",
    "from dataAnalysis.Constants import FEATURES\n",
    "\n",
    "def getPositionEncoding(seq_len, d = len(FEATURES), n=10000):\n",
    "    P = np.zeros((seq_len, d))\n",
    "    for k in range(seq_len):\n",
    "        for i in np.arange(int(d/2)):\n",
    "            denominator = np.power(n, 2*i/d)\n",
    "            P[k, 2*i] = np.sin(k/denominator)\n",
    "            P[k, 2*i+1] = np.cos(k/denominator)\n",
    "    return P\n",
    "\n",
    "getPositionEncoding(1)"
   ]
  },
  {
   "cell_type": "code",
   "execution_count": 7,
   "id": "1b8ca424",
   "metadata": {},
   "outputs": [
    {
     "data": {
      "text/plain": [
       "tensor([[-1.8624, -1.0000, -2.8744,  ..., -2.5111, -2.2260, -0.6495],\n",
       "        [-1.8624, -1.0000, -2.8744,  ..., -2.5111, -2.2260, -0.5297],\n",
       "        [-1.8624, -1.0000, -2.8744,  ..., -2.5111, -2.2260, -0.4285],\n",
       "        ...,\n",
       "        [ 2.2867,  1.0000,  2.6466,  ...,  3.1966,  3.7011,  0.0342],\n",
       "        [ 2.2867,  1.0000,  2.6466,  ...,  3.1966,  3.7011,  0.1485],\n",
       "        [ 2.2867,  1.0000,  2.6466,  ...,  3.1966,  3.7011,  4.2864]])"
      ]
     },
     "execution_count": 7,
     "metadata": {},
     "output_type": "execute_result"
    }
   ],
   "source": [
    "X_all_fv"
   ]
  },
  {
   "cell_type": "code",
   "execution_count": 8,
   "id": "61e66b41",
   "metadata": {},
   "outputs": [
    {
     "data": {
      "text/plain": [
       "tensor([[-1.8624,  0.0000, -2.8744,  ..., -2.5111, -1.2260, -0.6495],\n",
       "        [-1.8624,  0.0000, -2.8744,  ..., -2.5111, -1.2260, -0.5297],\n",
       "        [-1.8624,  0.0000, -2.8744,  ..., -2.5111, -1.2260, -0.4285],\n",
       "        ...,\n",
       "        [ 2.2867,  2.0000,  2.6466,  ...,  3.1966,  4.7011,  0.0342],\n",
       "        [ 2.2867,  2.0000,  2.6466,  ...,  3.1966,  4.7011,  0.1485],\n",
       "        [ 2.2867,  2.0000,  2.6466,  ...,  3.1966,  4.7011,  4.2864]],\n",
       "       dtype=torch.float64)"
      ]
     },
     "execution_count": 8,
     "metadata": {},
     "output_type": "execute_result"
    }
   ],
   "source": [
    "X_all_fv + getPositionEncoding(1).repeat(X_all_fv.shape[0], 0)"
   ]
  },
  {
   "cell_type": "code",
   "execution_count": 9,
   "id": "a19c2439",
   "metadata": {},
   "outputs": [],
   "source": [
    "from torch_geometric.data import Data\n",
    "\n",
    "graph = Data(x= X_all_fv+getPositionEncoding(1).repeat(X_all_fv.shape[0], 0),  edge_index = edge_index.type(torch.long))"
   ]
  },
  {
   "cell_type": "markdown",
   "id": "7d9f9604",
   "metadata": {},
   "source": [
    "## Feature importance"
   ]
  },
  {
   "cell_type": "code",
   "execution_count": 10,
   "id": "ec3736a0",
   "metadata": {},
   "outputs": [],
   "source": [
    "feature_importance.set_model_input([graph])"
   ]
  },
  {
   "cell_type": "code",
   "execution_count": 11,
   "id": "11c109b7",
   "metadata": {},
   "outputs": [
    {
     "name": "stdout",
     "output_type": "stream",
     "text": [
      "Age\n",
      "[31.213046875, 33.754765625, 35.83353125, 37.701218749999995, 40.2839375, 43.5864375, 45.717140625, 47.2675625, 48.827578124999995, 50.31615625, 51.263156249999994, 52.49296875, 53.16457812499999, 53.95901562499999, 54.393, 54.353125000000006, 54.132562500000006, 53.613203125, 52.57906249999999, 42.8993125]\n",
      "Ratio of diseased men/women over all CBCs for GAT 48.7507875\t44.984348437499996\n",
      "SexCategory\n",
      "[48.7507875, 48.562465546875, 48.37414359375, 48.185821640625, 47.9974996875, 47.809177734375, 47.62085578125, 47.432533828125, 47.244211875, 47.055889921875, 46.867567968749995, 46.679246015625, 46.4909240625, 46.302602109374995, 46.11428015625, 45.925958203125, 45.737636249999994, 45.549314296874996, 45.36099234375, 45.172670390624994]\n",
      "HGB\n",
      "[99.565046875, 80.9544375, 72.602765625, 62.233546875, 53.15296875, 46.585625, 40.691171874999995, 35.825125, 33.27728125, 30.631593750000004, 29.647515624999997, 29.269281250000002, 29.3073125, 29.796890625, 30.737375, 31.984421875000002, 34.385484375000004, 36.19325, 40.438296875, 90.07196875]\n",
      "WBC\n",
      "[43.49590625, 43.68559375, 43.78284375, 43.8371875, 43.883171875, 43.914953125, 43.946078125, 43.979046875, 44.01234375, 44.0364375, 44.069, 44.11090625, 44.146, 44.189921874999996, 44.240953125, 44.30471875, 44.3984375, 44.5291875, 44.788671875000006, tensor(100)]\n",
      "RBC\n",
      "[89.060296875, 56.968953125, 47.841265625, 41.20675, 36.730921875, 34.17775, 33.119484375, 33.026046875, 33.591546875, 34.565125, 35.861375, 37.345968750000004, 38.805109375, 40.59678125, 42.746421875, 45.03153125, 47.724359375, 51.608031249999996, 57.610218749999994, 99.73342187499999]\n",
      "MCV\n",
      "[66.210859375, 42.5261875, 42.207078125, 42.19565625, 42.243984375, 42.3155, 42.445984375, 42.571546874999996, 42.737390624999996, 42.915124999999996, 43.108000000000004, 43.344890625, 43.624609375, 43.90421875, 44.262390624999995, 44.770890625, 45.346078125, 46.19521875, 47.851984375, 86.573765625]\n",
      "PLT\n",
      "[55.625140625, 52.9763125, 50.970015624999995, 49.924484375, 49.290968750000005, 48.839968750000004, 48.457484375, 48.120968749999996, 47.822828125, 47.532125, 47.27540625, 46.980015625, 46.714968750000004, 46.42025, 46.086687500000004, 45.72446875, 45.2570625, 44.637359375, 43.569734375, 25.125109374999997]\n",
      "[7.3970750167432415, 1.085917356182363, 21.62257557804015, 12.19278386690086, 17.54583693977978, 10.456303534815222, 5.696048946725961]\n",
      "7.3970750167432415\n",
      "0.1\n",
      "1.085917356182363\n",
      "0.01\n",
      "21.62257557804015\n",
      "0.28\n",
      "12.19278386690086\n",
      "0.16\n",
      "17.54583693977978\n",
      "0.23\n",
      "10.456303534815222\n",
      "0.14\n",
      "5.696048946725961\n",
      "0.07\n"
     ]
    },
    {
     "data": {
      "image/png": "[encoded data removed]",
      "text/plain": [
       "<Figure size 640x480 with 1 Axes>"
      ]
     },
     "metadata": {},
     "output_type": "display_data"
    }
   ],
   "source": [
    "feature_importance.plot_feature_importance(model, title= \"Directed GAT\", write = False)"
   ]
  },
  {
   "cell_type": "code",
   "execution_count": null,
   "id": "e1dee9b3",
   "metadata": {},
   "outputs": [],
   "source": []
  }
 ],
 "metadata": {
  "kernelspec": {
   "display_name": "Python 3 (ipykernel)",
   "language": "python",
   "name": "python3"
  },
  "language_info": {
   "codemirror_mode": {
    "name": "ipython",
    "version": 3
   },
   "file_extension": ".py",
   "mimetype": "text/x-python",
   "name": "python",
   "nbconvert_exporter": "python",
   "pygments_lexer": "ipython3",
   "version": "3.10.6"
  }
 },
 "nbformat": 4,
 "nbformat_minor": 5
}
