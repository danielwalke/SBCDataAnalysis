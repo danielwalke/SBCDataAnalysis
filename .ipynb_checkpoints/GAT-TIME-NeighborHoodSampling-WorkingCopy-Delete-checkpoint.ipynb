{
 "cells": [
  {
   "cell_type": "markdown",
   "id": "a11a4ca8",
   "metadata": {},
   "source": [
    "## GAT"
   ]
  },
  {
   "cell_type": "code",
   "execution_count": 1,
   "id": "9c344596",
   "metadata": {
    "scrolled": true
   },
   "outputs": [
    {
     "name": "stderr",
     "output_type": "stream",
     "text": [
      "/home/dwalke/git/sbc/dataAnalysis/data/Filter.py:34: SettingWithCopyWarning: \n",
      "A value is trying to be set on a copy of a slice from a DataFrame.\n",
      "Try using .loc[row_indexer,col_indexer] = value instead\n",
      "\n",
      "See the caveats in the documentation: https://pandas.pydata.org/pandas-docs/stable/user_guide/indexing.html#returning-a-view-versus-a-copy\n",
      "  self.data['Label'] = self.data['Diagnosis']\n"
     ]
    },
    {
     "name": "stdout",
     "output_type": "stream",
     "text": [
      "Training: \n",
      "Assessable data are 528101 cases and 1015074 CBCs\n",
      "Control data are 527038 cases and 1013548 CBCs\n",
      "Sepsis data are 1488 cases and 1526 CBCs\n",
      "$$$$$$$$$$$$$$$$$$$$\n",
      "Testing: \n"
     ]
    },
    {
     "name": "stderr",
     "output_type": "stream",
     "text": [
      "/home/dwalke/git/sbc/dataAnalysis/data/Filter.py:34: SettingWithCopyWarning: \n",
      "A value is trying to be set on a copy of a slice from a DataFrame.\n",
      "Try using .loc[row_indexer,col_indexer] = value instead\n",
      "\n",
      "See the caveats in the documentation: https://pandas.pydata.org/pandas-docs/stable/user_guide/indexing.html#returning-a-view-versus-a-copy\n",
      "  self.data['Label'] = self.data['Diagnosis']\n"
     ]
    },
    {
     "name": "stdout",
     "output_type": "stream",
     "text": [
      "Controls: 365794, Sepsis: 490\n",
      "Assessable data are 180494 cases and 366284 CBCs\n",
      "Control data are 180157 cases and 365794 CBCs\n",
      "Sepsis data are 472 cases and 490 CBCs\n"
     ]
    },
    {
     "name": "stderr",
     "output_type": "stream",
     "text": [
      "/home/dwalke/git/sbc/dataAnalysis/data/Filter.py:34: SettingWithCopyWarning: \n",
      "A value is trying to be set on a copy of a slice from a DataFrame.\n",
      "Try using .loc[row_indexer,col_indexer] = value instead\n",
      "\n",
      "See the caveats in the documentation: https://pandas.pydata.org/pandas-docs/stable/user_guide/indexing.html#returning-a-view-versus-a-copy\n",
      "  self.data['Label'] = self.data['Diagnosis']\n"
     ]
    },
    {
     "name": "stdout",
     "output_type": "stream",
     "text": [
      "Controls: 437629, Sepsis: 448\n",
      "Assessable data are 157922 cases and 438077 CBCs\n",
      "Control data are 180157 cases and 437629 CBCs\n",
      "Sepsis data are 438 cases and 448 CBCs\n"
     ]
    }
   ],
   "source": [
    "from dataAnalysis.DataAnalysis import DataAnalysis\n",
    "import pandas as pd\n",
    "import cudf\n",
    "\n",
    "data = pd.read_csv(r\"extdata/sbcdata.csv\", header=0)\n",
    "data_analysis = DataAnalysis(data)"
   ]
  },
  {
   "cell_type": "code",
   "execution_count": 2,
   "id": "1591ad15",
   "metadata": {},
   "outputs": [],
   "source": [
    "data = pd.concat((data_analysis.get_training_data(), data_analysis.get_testing_data()))\n",
    "data = cudf.from_pandas(data)"
   ]
  },
  {
   "cell_type": "code",
   "execution_count": 3,
   "id": "1fedac24",
   "metadata": {},
   "outputs": [],
   "source": [
    "data = data.sort_values(\"Id\")"
   ]
  },
  {
   "cell_type": "code",
   "execution_count": 4,
   "id": "ac6d2fee",
   "metadata": {},
   "outputs": [],
   "source": [
    "unique_ids = data[\"Id\"].unique()"
   ]
  },
  {
   "cell_type": "code",
   "execution_count": 5,
   "id": "da8d8dcd",
   "metadata": {},
   "outputs": [],
   "source": [
    "data = data.reset_index(drop=True)"
   ]
  },
  {
   "cell_type": "code",
   "execution_count": 6,
   "id": "6556e31a",
   "metadata": {},
   "outputs": [
    {
     "data": {
      "text/plain": [
       "0           665587\n",
       "1           665588\n",
       "2           665589\n",
       "3           665590\n",
       "4           665591\n",
       "            ...   \n",
       "1381353    2709535\n",
       "1381354    2709541\n",
       "1381355    2709536\n",
       "1381356    2709540\n",
       "1381357    2709539\n",
       "Name: index, Length: 1381358, dtype: int64"
      ]
     },
     "execution_count": 6,
     "metadata": {},
     "output_type": "execute_result"
    }
   ],
   "source": [
    "data.pop(\"index\")"
   ]
  },
  {
   "cell_type": "code",
   "execution_count": 7,
   "id": "50f24a93",
   "metadata": {},
   "outputs": [
    {
     "data": {
      "text/html": [
       "<div>\n",
       "<style scoped>\n",
       "    .dataframe tbody tr th:only-of-type {\n",
       "        vertical-align: middle;\n",
       "    }\n",
       "\n",
       "    .dataframe tbody tr th {\n",
       "        vertical-align: top;\n",
       "    }\n",
       "\n",
       "    .dataframe thead th {\n",
       "        text-align: right;\n",
       "    }\n",
       "</style>\n",
       "<table border=\"1\" class=\"dataframe\">\n",
       "  <thead>\n",
       "    <tr style=\"text-align: right;\">\n",
       "      <th></th>\n",
       "      <th>Id</th>\n",
       "      <th>Age</th>\n",
       "      <th>Sex</th>\n",
       "      <th>Diagnosis</th>\n",
       "      <th>Center</th>\n",
       "      <th>Set</th>\n",
       "      <th>Sender</th>\n",
       "      <th>Episode</th>\n",
       "      <th>Time</th>\n",
       "      <th>TargetIcu</th>\n",
       "      <th>SecToIcu</th>\n",
       "      <th>CRP</th>\n",
       "      <th>HGB</th>\n",
       "      <th>MCV</th>\n",
       "      <th>PCT</th>\n",
       "      <th>PLT</th>\n",
       "      <th>RBC</th>\n",
       "      <th>WBC</th>\n",
       "      <th>Label</th>\n",
       "    </tr>\n",
       "  </thead>\n",
       "  <tbody>\n",
       "    <tr>\n",
       "      <th>0</th>\n",
       "      <td>1</td>\n",
       "      <td>79</td>\n",
       "      <td>M</td>\n",
       "      <td>Control</td>\n",
       "      <td>Leipzig</td>\n",
       "      <td>Training</td>\n",
       "      <td>ED</td>\n",
       "      <td>1</td>\n",
       "      <td>420.0</td>\n",
       "      <td>&lt;NA&gt;</td>\n",
       "      <td>&lt;NA&gt;</td>\n",
       "      <td>0.75</td>\n",
       "      <td>8.1</td>\n",
       "      <td>86.0</td>\n",
       "      <td>&lt;NA&gt;</td>\n",
       "      <td>167.0</td>\n",
       "      <td>4.36</td>\n",
       "      <td>7.3</td>\n",
       "      <td>Control</td>\n",
       "    </tr>\n",
       "    <tr>\n",
       "      <th>1</th>\n",
       "      <td>2</td>\n",
       "      <td>35</td>\n",
       "      <td>M</td>\n",
       "      <td>Control</td>\n",
       "      <td>Leipzig</td>\n",
       "      <td>Training</td>\n",
       "      <td>GEN</td>\n",
       "      <td>1</td>\n",
       "      <td>0.0</td>\n",
       "      <td>&lt;NA&gt;</td>\n",
       "      <td>&lt;NA&gt;</td>\n",
       "      <td>&lt;NA&gt;</td>\n",
       "      <td>10.6</td>\n",
       "      <td>79.9</td>\n",
       "      <td>&lt;NA&gt;</td>\n",
       "      <td>199.0</td>\n",
       "      <td>6.02</td>\n",
       "      <td>4.7</td>\n",
       "      <td>Control</td>\n",
       "    </tr>\n",
       "    <tr>\n",
       "      <th>2</th>\n",
       "      <td>3</td>\n",
       "      <td>47</td>\n",
       "      <td>W</td>\n",
       "      <td>Control</td>\n",
       "      <td>Leipzig</td>\n",
       "      <td>Training</td>\n",
       "      <td>AMB</td>\n",
       "      <td>1</td>\n",
       "      <td>0.0</td>\n",
       "      <td>&lt;NA&gt;</td>\n",
       "      <td>&lt;NA&gt;</td>\n",
       "      <td>3.87</td>\n",
       "      <td>8.7</td>\n",
       "      <td>89.9</td>\n",
       "      <td>&lt;NA&gt;</td>\n",
       "      <td>298.0</td>\n",
       "      <td>4.37</td>\n",
       "      <td>7.1</td>\n",
       "      <td>Control</td>\n",
       "    </tr>\n",
       "    <tr>\n",
       "      <th>3</th>\n",
       "      <td>4</td>\n",
       "      <td>28</td>\n",
       "      <td>M</td>\n",
       "      <td>Control</td>\n",
       "      <td>Leipzig</td>\n",
       "      <td>Training</td>\n",
       "      <td>ED</td>\n",
       "      <td>1</td>\n",
       "      <td>780.0</td>\n",
       "      <td>&lt;NA&gt;</td>\n",
       "      <td>&lt;NA&gt;</td>\n",
       "      <td>0.52</td>\n",
       "      <td>9.9</td>\n",
       "      <td>96.2</td>\n",
       "      <td>&lt;NA&gt;</td>\n",
       "      <td>216.0</td>\n",
       "      <td>4.79</td>\n",
       "      <td>5.3</td>\n",
       "      <td>Control</td>\n",
       "    </tr>\n",
       "    <tr>\n",
       "      <th>4</th>\n",
       "      <td>5</td>\n",
       "      <td>63</td>\n",
       "      <td>W</td>\n",
       "      <td>Control</td>\n",
       "      <td>Leipzig</td>\n",
       "      <td>Training</td>\n",
       "      <td>GEN</td>\n",
       "      <td>1</td>\n",
       "      <td>0.0</td>\n",
       "      <td>&lt;NA&gt;</td>\n",
       "      <td>&lt;NA&gt;</td>\n",
       "      <td>232.87</td>\n",
       "      <td>7.4</td>\n",
       "      <td>86.6</td>\n",
       "      <td>&lt;NA&gt;</td>\n",
       "      <td>189.0</td>\n",
       "      <td>3.96</td>\n",
       "      <td>20.9</td>\n",
       "      <td>Control</td>\n",
       "    </tr>\n",
       "    <tr>\n",
       "      <th>...</th>\n",
       "      <td>...</td>\n",
       "      <td>...</td>\n",
       "      <td>...</td>\n",
       "      <td>...</td>\n",
       "      <td>...</td>\n",
       "      <td>...</td>\n",
       "      <td>...</td>\n",
       "      <td>...</td>\n",
       "      <td>...</td>\n",
       "      <td>...</td>\n",
       "      <td>...</td>\n",
       "      <td>...</td>\n",
       "      <td>...</td>\n",
       "      <td>...</td>\n",
       "      <td>...</td>\n",
       "      <td>...</td>\n",
       "      <td>...</td>\n",
       "      <td>...</td>\n",
       "      <td>...</td>\n",
       "    </tr>\n",
       "    <tr>\n",
       "      <th>1381353</th>\n",
       "      <td>778980</td>\n",
       "      <td>56</td>\n",
       "      <td>M</td>\n",
       "      <td>Sepsis</td>\n",
       "      <td>Leipzig</td>\n",
       "      <td>Validation</td>\n",
       "      <td>GEN</td>\n",
       "      <td>1</td>\n",
       "      <td>0.0</td>\n",
       "      <td>MICU</td>\n",
       "      <td>902760.0</td>\n",
       "      <td>27.81</td>\n",
       "      <td>7.1</td>\n",
       "      <td>98.2</td>\n",
       "      <td>&lt;NA&gt;</td>\n",
       "      <td>158.0</td>\n",
       "      <td>3.28</td>\n",
       "      <td>9.4</td>\n",
       "      <td>Control</td>\n",
       "    </tr>\n",
       "    <tr>\n",
       "      <th>1381354</th>\n",
       "      <td>778980</td>\n",
       "      <td>56</td>\n",
       "      <td>M</td>\n",
       "      <td>Sepsis</td>\n",
       "      <td>Leipzig</td>\n",
       "      <td>Validation</td>\n",
       "      <td>GEN</td>\n",
       "      <td>1</td>\n",
       "      <td>895680.0</td>\n",
       "      <td>MICU</td>\n",
       "      <td>7080.0</td>\n",
       "      <td>22.98</td>\n",
       "      <td>7.7</td>\n",
       "      <td>91.8</td>\n",
       "      <td>&lt;NA&gt;</td>\n",
       "      <td>155.0</td>\n",
       "      <td>3.67</td>\n",
       "      <td>7.1</td>\n",
       "      <td>Sepsis</td>\n",
       "    </tr>\n",
       "    <tr>\n",
       "      <th>1381355</th>\n",
       "      <td>778980</td>\n",
       "      <td>56</td>\n",
       "      <td>M</td>\n",
       "      <td>Sepsis</td>\n",
       "      <td>Leipzig</td>\n",
       "      <td>Validation</td>\n",
       "      <td>GEN</td>\n",
       "      <td>1</td>\n",
       "      <td>267660.0</td>\n",
       "      <td>MICU</td>\n",
       "      <td>635100.0</td>\n",
       "      <td>19.55</td>\n",
       "      <td>6.7</td>\n",
       "      <td>100.0</td>\n",
       "      <td>&lt;NA&gt;</td>\n",
       "      <td>129.0</td>\n",
       "      <td>3.11</td>\n",
       "      <td>6.0</td>\n",
       "      <td>Control</td>\n",
       "    </tr>\n",
       "    <tr>\n",
       "      <th>1381356</th>\n",
       "      <td>778980</td>\n",
       "      <td>56</td>\n",
       "      <td>M</td>\n",
       "      <td>Sepsis</td>\n",
       "      <td>Leipzig</td>\n",
       "      <td>Validation</td>\n",
       "      <td>GEN</td>\n",
       "      <td>1</td>\n",
       "      <td>888540.0</td>\n",
       "      <td>MICU</td>\n",
       "      <td>14220.0</td>\n",
       "      <td>19.26</td>\n",
       "      <td>6.6</td>\n",
       "      <td>91.1</td>\n",
       "      <td>&lt;NA&gt;</td>\n",
       "      <td>149.0</td>\n",
       "      <td>3.14</td>\n",
       "      <td>6.5</td>\n",
       "      <td>Sepsis</td>\n",
       "    </tr>\n",
       "    <tr>\n",
       "      <th>1381357</th>\n",
       "      <td>778980</td>\n",
       "      <td>56</td>\n",
       "      <td>M</td>\n",
       "      <td>Sepsis</td>\n",
       "      <td>Leipzig</td>\n",
       "      <td>Validation</td>\n",
       "      <td>GEN</td>\n",
       "      <td>1</td>\n",
       "      <td>870420.0</td>\n",
       "      <td>MICU</td>\n",
       "      <td>32340.0</td>\n",
       "      <td>20.46</td>\n",
       "      <td>6.5</td>\n",
       "      <td>93.2</td>\n",
       "      <td>&lt;NA&gt;</td>\n",
       "      <td>114.0</td>\n",
       "      <td>3.07</td>\n",
       "      <td>8.3</td>\n",
       "      <td>Control</td>\n",
       "    </tr>\n",
       "  </tbody>\n",
       "</table>\n",
       "<p>1381358 rows × 19 columns</p>\n",
       "</div>"
      ],
      "text/plain": [
       "             Id  Age Sex Diagnosis   Center         Set Sender  Episode  \\\n",
       "0             1   79   M   Control  Leipzig    Training     ED        1   \n",
       "1             2   35   M   Control  Leipzig    Training    GEN        1   \n",
       "2             3   47   W   Control  Leipzig    Training    AMB        1   \n",
       "3             4   28   M   Control  Leipzig    Training     ED        1   \n",
       "4             5   63   W   Control  Leipzig    Training    GEN        1   \n",
       "...         ...  ...  ..       ...      ...         ...    ...      ...   \n",
       "1381353  778980   56   M    Sepsis  Leipzig  Validation    GEN        1   \n",
       "1381354  778980   56   M    Sepsis  Leipzig  Validation    GEN        1   \n",
       "1381355  778980   56   M    Sepsis  Leipzig  Validation    GEN        1   \n",
       "1381356  778980   56   M    Sepsis  Leipzig  Validation    GEN        1   \n",
       "1381357  778980   56   M    Sepsis  Leipzig  Validation    GEN        1   \n",
       "\n",
       "             Time TargetIcu  SecToIcu     CRP   HGB    MCV   PCT    PLT   RBC  \\\n",
       "0           420.0      <NA>      <NA>    0.75   8.1   86.0  <NA>  167.0  4.36   \n",
       "1             0.0      <NA>      <NA>    <NA>  10.6   79.9  <NA>  199.0  6.02   \n",
       "2             0.0      <NA>      <NA>    3.87   8.7   89.9  <NA>  298.0  4.37   \n",
       "3           780.0      <NA>      <NA>    0.52   9.9   96.2  <NA>  216.0  4.79   \n",
       "4             0.0      <NA>      <NA>  232.87   7.4   86.6  <NA>  189.0  3.96   \n",
       "...           ...       ...       ...     ...   ...    ...   ...    ...   ...   \n",
       "1381353       0.0      MICU  902760.0   27.81   7.1   98.2  <NA>  158.0  3.28   \n",
       "1381354  895680.0      MICU    7080.0   22.98   7.7   91.8  <NA>  155.0  3.67   \n",
       "1381355  267660.0      MICU  635100.0   19.55   6.7  100.0  <NA>  129.0  3.11   \n",
       "1381356  888540.0      MICU   14220.0   19.26   6.6   91.1  <NA>  149.0  3.14   \n",
       "1381357  870420.0      MICU   32340.0   20.46   6.5   93.2  <NA>  114.0  3.07   \n",
       "\n",
       "          WBC    Label  \n",
       "0         7.3  Control  \n",
       "1         4.7  Control  \n",
       "2         7.1  Control  \n",
       "3         5.3  Control  \n",
       "4        20.9  Control  \n",
       "...       ...      ...  \n",
       "1381353   9.4  Control  \n",
       "1381354   7.1   Sepsis  \n",
       "1381355   6.0  Control  \n",
       "1381356   6.5   Sepsis  \n",
       "1381357   8.3  Control  \n",
       "\n",
       "[1381358 rows x 19 columns]"
      ]
     },
     "execution_count": 7,
     "metadata": {},
     "output_type": "execute_result"
    }
   ],
   "source": [
    "data"
   ]
  },
  {
   "cell_type": "code",
   "execution_count": null,
   "id": "adfa868b",
   "metadata": {},
   "outputs": [],
   "source": [
    "import cudf\n",
    "cudf.read_csv(\"pos_encodings_new.csv\", header = None)"
   ]
  },
  {
   "cell_type": "code",
   "execution_count": null,
   "id": "9cbb0678",
   "metadata": {
    "scrolled": true
   },
   "outputs": [],
   "source": [
    "# import numpy as np\n",
    "# import cupy as cp\n",
    "# import time\n",
    "\n",
    "# source_edge_index = cp.array([], dtype= cp.int32)\n",
    "# target_edge_index = cp.array([], dtype= cp.int32)\n",
    "\n",
    "# start = time.time()\n",
    "# i = 0\n",
    "# for Id, group in data.groupby(\"Id\"):\n",
    "#     indices = group.index\n",
    "#     indices = cp.expand_dims(indices.values, axis = 1)\n",
    "#     target = cp.repeat(indices, indices.shape[0], axis = 1)\n",
    "#     source = target.transpose().flatten()\n",
    "#     target = target.flatten()\n",
    "\n",
    "#     source_edge_index = cp.concatenate((source_edge_index, source))\n",
    "#     target_edge_index = cp.concatenate((target_edge_index, target))\n",
    "#     i+=1\n",
    "#     if i % 1000 == 0:\n",
    "#         print(f\"{str(i / unique_ids.shape[0] * 100)} %\")\n",
    "\n",
    "# print(time.time() - start )\n",
    "# print(source_edge_index.shape)\n",
    "# print(target_edge_index.shape)\n"
   ]
  },
  {
   "cell_type": "code",
   "execution_count": null,
   "id": "a95826d6",
   "metadata": {},
   "outputs": [],
   "source": [
    "# import torch\n",
    "# edge_index = np.asarray([np.asarray(source_edge_index.get()), np.asarray(target_edge_index.get())])\n",
    "# edge_index = torch.tensor(edge_index)"
   ]
  },
  {
   "cell_type": "code",
   "execution_count": null,
   "id": "756329ba",
   "metadata": {},
   "outputs": [],
   "source": [
    "#pd.DataFrame(edge_index.numpy().transpose()).to_csv(\"edge_index_sorted_ids.csv\", index=False)\n",
    "import torch\n",
    "edge_index = torch.tensor(pd.read_csv(\"edge_index_sorted_ids.csv\", header=None, skiprows=1).values.transpose(), dtype=torch.long)"
   ]
  },
  {
   "cell_type": "code",
   "execution_count": null,
   "id": "b446b9a1",
   "metadata": {},
   "outputs": [],
   "source": [
    "from dataAnalysis.Constants import SEX_CATEGORY_COLUMN_NAME, SEX_COLUMN_NAME, FEATURES\n",
    "data[SEX_CATEGORY_COLUMN_NAME] = data.loc[:, SEX_COLUMN_NAME] ==\"W\""
   ]
  },
  {
   "cell_type": "code",
   "execution_count": null,
   "id": "da53cffe",
   "metadata": {},
   "outputs": [],
   "source": [
    "data[SEX_CATEGORY_COLUMN_NAME] = data[SEX_CATEGORY_COLUMN_NAME].astype(\"int8\")\n",
    "data[\"Label\"] = data[\"Label\"] == \"Sepsis\"\n",
    "data[\"Label\"] = data[\"Label\"].astype(\"int8\")"
   ]
  },
  {
   "cell_type": "code",
   "execution_count": null,
   "id": "d3aa4124",
   "metadata": {},
   "outputs": [],
   "source": [
    "import numpy as np\n",
    "import matplotlib.pyplot as plt\n",
    "\n",
    "def getPositionEncoding(seq_len, d = len(FEATURES), n=10000):\n",
    "    P = np.zeros((seq_len, d))\n",
    "    for k in range(seq_len):\n",
    "        for i in np.arange(int(d/2)):\n",
    "            denominator = np.power(n, 2*i/d)\n",
    "            P[k, 2*i] = np.sin(k/denominator)\n",
    "            P[k, 2*i+1] = np.cos(k/denominator)\n",
    "    return P"
   ]
  },
  {
   "cell_type": "code",
   "execution_count": null,
   "id": "b5b293ab",
   "metadata": {},
   "outputs": [],
   "source": [
    "X_features = torch.tensor(data[FEATURES].values.get()).type(torch.float32)\n",
    "y = torch.tensor(data[\"Label\"].values.get()).type(torch.long)"
   ]
  },
  {
   "cell_type": "code",
   "execution_count": null,
   "id": "c7923af3",
   "metadata": {},
   "outputs": [],
   "source": [
    "from dataAnalysis.FeatureImportance import normalize\n",
    "\n",
    "X_features = normalize(X_features)"
   ]
  },
  {
   "cell_type": "code",
   "execution_count": null,
   "id": "b5670b1e",
   "metadata": {},
   "outputs": [],
   "source": [
    "# import numpy as np\n",
    "# import time\n",
    "\n",
    "# pos_encodings = None\n",
    "\n",
    "# start = time.time()\n",
    "# i = 0\n",
    "# final_shape = 0\n",
    "# for Id, group in data.groupby(\"Id\"):\n",
    "#     encoding = getPositionEncoding(group.shape[0])\n",
    "#     sorted_group = group.reset_index().sort_values(\"Time\")\n",
    "#     encoding = encoding[sorted_group.index.to_numpy()]\n",
    "#     final_shape += group.shape[0]\n",
    "#     pos_encodings = encoding if pos_encodings is None else np.concatenate((pos_encodings, encoding), axis=0)\n",
    "#     i+=1\n",
    "#     if i % 1000 == 0:\n",
    "#         print(f\"{str(i / unique_ids.shape[0] * 100)} %\")\n",
    "\n",
    "# print(pos_encodings.shape[0] == final_shape)"
   ]
  },
  {
   "cell_type": "code",
   "execution_count": null,
   "id": "cee6c934",
   "metadata": {},
   "outputs": [],
   "source": [
    "#pd.DataFrame(pos_encodings).to_csv(\"pos_encodings_new.csv\", index=False)"
   ]
  },
  {
   "cell_type": "code",
   "execution_count": null,
   "id": "fc415746",
   "metadata": {},
   "outputs": [],
   "source": [
    "pos_encodings = pd.read_csv(\"pos_encodings_new.csv\", header=None, skiprows=1)"
   ]
  },
  {
   "cell_type": "code",
   "execution_count": null,
   "id": "61943440",
   "metadata": {},
   "outputs": [],
   "source": [
    "pos_encodings = pos_encodings.values"
   ]
  },
  {
   "cell_type": "code",
   "execution_count": null,
   "id": "3e1f5f53",
   "metadata": {},
   "outputs": [],
   "source": [
    "X_features"
   ]
  },
  {
   "cell_type": "code",
   "execution_count": null,
   "id": "8ba9f843",
   "metadata": {},
   "outputs": [],
   "source": [
    "X_new_features = X_features + pos_encodings"
   ]
  },
  {
   "cell_type": "code",
   "execution_count": null,
   "id": "ecfc5879",
   "metadata": {},
   "outputs": [],
   "source": [
    "X_new_features"
   ]
  },
  {
   "cell_type": "code",
   "execution_count": null,
   "id": "37effc18",
   "metadata": {},
   "outputs": [],
   "source": [
    "def ratio_bool_switch(tensor, ratio = 0.8):\n",
    "    random = np.random.uniform(0, 1 ,tensor.shape[0])\n",
    "    val_ratio_mask = (random >= 0.8)\n",
    "    train_ratio_mask = (random < 0.8)\n",
    "    val_mask = np.logical_and(tensor.tolist(), val_ratio_mask.tolist())\n",
    "    train_mask = np.logical_and(tensor.tolist(), train_ratio_mask.tolist())\n",
    "    return torch.from_numpy(train_mask).type(torch.bool), torch.from_numpy(val_mask).type(torch.bool)"
   ]
  },
  {
   "cell_type": "code",
   "execution_count": null,
   "id": "c2ae8cbf",
   "metadata": {},
   "outputs": [],
   "source": [
    "from torch_geometric.data import Data\n",
    "\n",
    "train_mask_ser = data[\"Set\"] != \"Validation\"\n",
    "train_mask, val_mask = ratio_bool_switch(train_mask_ser.values)\n",
    "test_mask = torch.from_numpy((data[\"Set\"] == \"Validation\").values.get()).type(torch.bool)\n",
    "graph = Data(x=X_new_features, train_mask = train_mask, test_mask=test_mask, val_mask=val_mask, y= y, edge_index=edge_index)"
   ]
  },
  {
   "cell_type": "code",
   "execution_count": null,
   "id": "eee4dd4e",
   "metadata": {},
   "outputs": [],
   "source": [
    "graph"
   ]
  },
  {
   "cell_type": "code",
   "execution_count": null,
   "id": "03ea4ad7",
   "metadata": {},
   "outputs": [],
   "source": [
    "graph = graph.cpu()"
   ]
  },
  {
   "cell_type": "code",
   "execution_count": null,
   "id": "66aca9eb",
   "metadata": {},
   "outputs": [],
   "source": [
    "from torch_geometric.loader import NeighborLoader\n",
    "\n",
    "kwargs = {\n",
    "    \"num_neighbors\":[-1] * 2,\n",
    "    \"batch_size\":50_000\n",
    "}\n",
    "loader = NeighborLoader(\n",
    "    graph,\n",
    "    input_nodes=graph.train_mask,\n",
    "    **kwargs\n",
    ")\n",
    "val_loader = NeighborLoader(\n",
    "    graph,\n",
    "    input_nodes=graph.val_mask,\n",
    "    **kwargs\n",
    ")"
   ]
  },
  {
   "cell_type": "code",
   "execution_count": null,
   "id": "cb2089f8",
   "metadata": {},
   "outputs": [],
   "source": [
    "device = torch.device(\"cuda:1\") if torch.cuda.is_available() else torch.device(\"cpu\")\n",
    "\n",
    "# graph = graph.to(device)\n",
    "WEIGHT = torch.tensor([664*3/4])#\n",
    "WEIGHT = WEIGHT.to(device)\n",
    "\n",
    "print(\"Data shifted to the device \" + str(device))"
   ]
  },
  {
   "cell_type": "code",
   "execution_count": null,
   "id": "54eb5965",
   "metadata": {},
   "outputs": [],
   "source": [
    "import torch.nn.functional as F\n",
    "from torch_geometric.nn import GATConv, GCNConv,GATv2Conv, GINConv, global_add_pool\n",
    "from torch.nn import Linear\n",
    "import torch\n",
    "from dataAnalysis.Constants import FEATURES\n",
    "from torch.nn import Linear, ReLU, Sequential\n",
    "from torch.nn import BatchNorm1d as BatchNorm\n",
    "\n",
    "class GraphNeuralNetwork(torch.nn.Module):\n",
    "    def __init__(self, hidden_dim = 128, out_channels = 1):\n",
    "        super(GraphNeuralNetwork, self).__init__()\n",
    "        input_dim = len(FEATURES)      \n",
    "        \n",
    "        HEADS = 5\n",
    "        \n",
    "        conv_1= GATConv(input_dim, hidden_dim,heads=HEADS, add_self_loops = False)\n",
    "        conv_end = GATConv((-1,-1), out_channels,add_self_loops = False)\n",
    "        \n",
    "        self.conv_1 = conv_1\n",
    "        self.conv_end = conv_end\n",
    "        \n",
    "\n",
    "    def forward(self, graph):\n",
    "        x, edge_index = graph.x, graph.edge_index\n",
    "        x = x.type(torch.float)\n",
    "        x = self.conv_1(x, edge_index)\n",
    "        x = F.normalize(x, p=2., dim=-1)\n",
    "        x = torch.relu(x)\n",
    "        x = self.conv_end(x, edge_index)\n",
    "        return x\n",
    "            \n",
    "    def predict_proba(self, graph, mask):\n",
    "        with torch.inference_mode():\n",
    "            self.eval()\n",
    "            logits = self.forward(graph)\n",
    "            scores = torch.sigmoid(torch.squeeze(logits[mask]))\n",
    "            scores = torch.unsqueeze(scores, 0)\n",
    "            proba_predict = torch.concat((1- scores, scores), dim = 0)\n",
    "            return torch.transpose(proba_predict, 0, 1)\n",
    "            \n",
    "    def predict(self, graph, mask):\n",
    "        return torch.round(self.predict_proba(graph, mask)[:, 1])"
   ]
  },
  {
   "cell_type": "code",
   "execution_count": null,
   "id": "526044da",
   "metadata": {},
   "outputs": [],
   "source": [
    "import torch \n",
    "from tqdm.notebook import tqdm\n",
    "class ModelWrapper():\n",
    "    def __init__(self, graph):\n",
    "        self.LEARNING_RATE = 1e-4\n",
    "        self.MAX_EPOCHS = 5000 #40000\n",
    "\n",
    "        self.model = GraphNeuralNetwork(hidden_dim = 128, out_channels=1) \n",
    "        self.model = self.model.to(device)\n",
    "        self.optimizer = torch.optim.Adam(self.model.parameters(), lr=self.LEARNING_RATE,betas=(0.9, 0.999), eps=1e-08)\n",
    "        self.graph = graph\n",
    "        \n",
    "        self.last_loss = 0\n",
    "        self.increased_loss = 0\n",
    "        self.BREAKING_THRESHOLD = 3   \n",
    "        self.val_loss = []\n",
    "        self.train_loss = []\n",
    "        self.epochs = self.MAX_EPOCHS\n",
    "    \n",
    "    def validate(self):\n",
    "        with torch.inference_mode():\n",
    "            self.model.eval()\n",
    "            acc_loss = 0\n",
    "            batch_size = 0\n",
    "            for batch, graph in enumerate(val_loader):\n",
    "                graph = graph.to(device)\n",
    "                out = self.model(graph)\n",
    "                loss = F.binary_cross_entropy_with_logits(torch.squeeze(out), graph.y.type(torch.float32),\n",
    "                                                          pos_weight=WEIGHT)\n",
    "                acc_loss += loss.item()\n",
    "                batch_size += 1\n",
    "            avg_loss = acc_loss / batch_size\n",
    "            self.val_loss.append(avg_loss)\n",
    "            if avg_loss > self.last_loss:\n",
    "                self.increased_loss += 1\n",
    "            else:\n",
    "                self.increased_loss = 0\n",
    "            self.last_loss = avg_loss\n",
    "\n",
    "    def train(self):\n",
    "        for epoch in tqdm(range(self.MAX_EPOCHS)):\n",
    "            acc_loss = 0\n",
    "            batch_size = 0\n",
    "            for batch, graph in enumerate(loader):\n",
    "                graph = graph.to(device)\n",
    "                self.model.train()\n",
    "                self.optimizer.zero_grad()\n",
    "                out = self.model(graph)\n",
    "                loss = F.binary_cross_entropy_with_logits(torch.squeeze(out), graph.y.type(torch.float32),\n",
    "                                                          pos_weight=WEIGHT)\n",
    "                acc_loss += loss.item()\n",
    "                batch_size += 1\n",
    "                loss.backward()\n",
    "                self.optimizer.step()\n",
    "            self.train_loss.append(acc_loss/batch_size)\n",
    "            self.validate() \n",
    "\n",
    "            if self.increased_loss >= self.BREAKING_THRESHOLD:\n",
    "                self.epochs = epoch + 1\n",
    "                print(f\"Breaked at {str(epoch)}\")\n",
    "                break\n",
    "            \n",
    "    def get_model(self):\n",
    "        return self.model    \n",
    "    \n",
    "    def plot_loss(self):\n",
    "        plt.plot(range(len(self.train_loss)), self.train_loss, 'g', label='Training loss')\n",
    "        plt.plot(range(len(self.val_loss)), self.val_loss, 'y', label='Validation loss')\n",
    "        plt.xlabel('Epochs')\n",
    "        plt.ylabel('Loss')\n",
    "        plt.legend()\n",
    "        plt.show()"
   ]
  },
  {
   "cell_type": "code",
   "execution_count": null,
   "id": "d129a047",
   "metadata": {},
   "outputs": [],
   "source": [
    "model_wrapper = ModelWrapper(graph)\n",
    "model_wrapper.train()"
   ]
  },
  {
   "cell_type": "code",
   "execution_count": null,
   "id": "6a5d332f",
   "metadata": {},
   "outputs": [],
   "source": [
    "model_wrapper.plot_loss() "
   ]
  },
  {
   "cell_type": "code",
   "execution_count": null,
   "id": "846bab1c",
   "metadata": {},
   "outputs": [],
   "source": [
    "model = model_wrapper.get_model()\n",
    "graph = graph.cpu()\n",
    "model = model.cpu()"
   ]
  },
  {
   "cell_type": "code",
   "execution_count": null,
   "id": "c5e7525c",
   "metadata": {},
   "outputs": [],
   "source": [
    "# torch.save(model.state_dict(), \"gat_state_dict_10heads.pt\")"
   ]
  },
  {
   "cell_type": "code",
   "execution_count": null,
   "id": "48ef5280",
   "metadata": {},
   "outputs": [],
   "source": [
    "from dataAnalysis.Metrics import Evaluation\n",
    "y_dict = Evaluation.create_y_dict(model.predict(graph, test_mask), model.predict_proba(graph, test_mask) , graph.y[test_mask])\n",
    "y_dict_val = Evaluation.create_y_dict(model.predict(graph, val_mask), model.predict_proba(graph, val_mask) , graph.y[val_mask])"
   ]
  },
  {
   "cell_type": "code",
   "execution_count": null,
   "id": "38995c40",
   "metadata": {},
   "outputs": [],
   "source": [
    "from dataAnalysis.Metrics import Evaluation\n",
    "\n",
    "Evaluation.plot_confusion_matrix_from_pred(model.predict(graph, val_mask), graph.y[val_mask])\n",
    "Evaluation.get_df_metrics_from_pred(y_dict_val, y_dict_val)"
   ]
  },
  {
   "cell_type": "code",
   "execution_count": null,
   "id": "f590caf1",
   "metadata": {},
   "outputs": [],
   "source": [
    "from dataAnalysis.Metrics import Evaluation\n",
    "\n",
    "Evaluation.plot_confusion_matrix_from_pred(model.predict(graph, test_mask), graph.y[test_mask])\n",
    "Evaluation.get_df_metrics_from_pred(y_dict, y_dict)"
   ]
  },
  {
   "cell_type": "code",
   "execution_count": null,
   "id": "d3e35162",
   "metadata": {},
   "outputs": [],
   "source": [
    "from IPython.display import Audio\n",
    "sound_file = './finish_sound.mp3'\n",
    "Audio(sound_file, autoplay=True)"
   ]
  },
  {
   "cell_type": "code",
   "execution_count": 40,
   "id": "f69310bb",
   "metadata": {},
   "outputs": [],
   "source": [
    "##TODO:\n",
    "# - change weight\n",
    "# - gradients as features\n",
    "# - different learning rate and number of layers\n",
    "# - general architecture- less neurons but linear layer before and after convs? \n",
    "#       -adding hidden layers with each others for more stable training (guaranteed only when hidden dim is euqal betwene layers)\n",
    "# - GATv2\n",
    "# - MIMIC und Greifswald\n",
    "# - more features"
   ]
  },
  {
   "cell_type": "code",
   "execution_count": 41,
   "id": "0d262420",
   "metadata": {},
   "outputs": [
    {
     "name": "stdout",
     "output_type": "stream",
     "text": [
      "Sleeping\n",
      "Sleeping\n",
      "Sleeping\n",
      "Sleeping\n",
      "Sleeping\n",
      "Sleeping\n",
      "Sleeping\n",
      "Sleeping\n",
      "Sleeping\n",
      "Sleeping\n",
      "Sleeping\n",
      "Sleeping\n",
      "Sleeping\n",
      "Sleeping\n",
      "Sleeping\n",
      "Sleeping\n",
      "Sleeping\n",
      "Sleeping\n",
      "Sleeping\n",
      "Sleeping\n",
      "Sleeping\n",
      "Sleeping\n",
      "Sleeping\n",
      "Sleeping\n",
      "Sleeping\n",
      "Sleeping\n",
      "Sleeping\n",
      "Sleeping\n",
      "Sleeping\n",
      "Sleeping\n",
      "Sleeping\n",
      "Sleeping\n",
      "Sleeping\n",
      "Sleeping\n",
      "Sleeping\n",
      "Sleeping\n",
      "Sleeping\n",
      "Sleeping\n",
      "Sleeping\n",
      "Sleeping\n",
      "Sleeping\n",
      "Sleeping\n",
      "Sleeping\n",
      "Sleeping\n",
      "Sleeping\n",
      "Sleeping\n",
      "Sleeping\n",
      "Sleeping\n",
      "Sleeping\n",
      "Sleeping\n",
      "Sleeping\n",
      "Sleeping\n"
     ]
    },
    {
     "ename": "KeyboardInterrupt",
     "evalue": "",
     "output_type": "error",
     "traceback": [
      "\u001b[0;31m---------------------------------------------------------------------------\u001b[0m",
      "\u001b[0;31mKeyboardInterrupt\u001b[0m                         Traceback (most recent call last)",
      "Cell \u001b[0;32mIn[41], line 4\u001b[0m\n\u001b[1;32m      1\u001b[0m \u001b[38;5;28;01mimport\u001b[39;00m \u001b[38;5;21;01mtime\u001b[39;00m\n\u001b[1;32m      3\u001b[0m \u001b[38;5;28;01mfor\u001b[39;00m i \u001b[38;5;129;01min\u001b[39;00m \u001b[38;5;28mrange\u001b[39m(\u001b[38;5;241m10000\u001b[39m):\n\u001b[0;32m----> 4\u001b[0m     \u001b[43mtime\u001b[49m\u001b[38;5;241;43m.\u001b[39;49m\u001b[43msleep\u001b[49m\u001b[43m(\u001b[49m\u001b[38;5;241;43m60\u001b[39;49m\u001b[43m)\u001b[49m\n\u001b[1;32m      5\u001b[0m     \u001b[38;5;28mprint\u001b[39m(\u001b[38;5;124m\"\u001b[39m\u001b[38;5;124mSleeping\u001b[39m\u001b[38;5;124m\"\u001b[39m)\n",
      "\u001b[0;31mKeyboardInterrupt\u001b[0m: "
     ]
    }
   ],
   "source": [
    "import time\n",
    "\n",
    "for i in range(10000):\n",
    "    time.sleep(60)\n",
    "    print(\"Sleeping\")"
   ]
  },
  {
   "cell_type": "code",
   "execution_count": null,
   "id": "5ff3a608",
   "metadata": {},
   "outputs": [],
   "source": [
    "##Mindmap\n",
    "## False positive from random forest to logistic regression\n",
    "## query2box"
   ]
  }
 ],
 "metadata": {
  "kernelspec": {
   "display_name": "Python 3 (ipykernel)",
   "language": "python",
   "name": "python3"
  },
  "language_info": {
   "codemirror_mode": {
    "name": "ipython",
    "version": 3
   },
   "file_extension": ".py",
   "mimetype": "text/x-python",
   "name": "python",
   "nbconvert_exporter": "python",
   "pygments_lexer": "ipython3",
   "version": "3.10.6"
  }
 },
 "nbformat": 4,
 "nbformat_minor": 5
}
