{
 "cells": [
  {
   "cell_type": "markdown",
   "id": "a27715ab",
   "metadata": {},
   "source": [
    "## Load data"
   ]
  },
  {
   "cell_type": "code",
   "execution_count": 1,
   "id": "bf3aefb2",
   "metadata": {},
   "outputs": [],
   "source": [
    "import sys\n",
    " \n",
    "sys.path.insert(0, \"../\")"
   ]
  },
  {
   "cell_type": "code",
   "execution_count": 2,
   "id": "68e59c36",
   "metadata": {},
   "outputs": [
    {
     "name": "stderr",
     "output_type": "stream",
     "text": [
      "/home/dwalke/git/sbc/feature_variation/../dataAnalysis/data/Filter.py:34: SettingWithCopyWarning: \n",
      "A value is trying to be set on a copy of a slice from a DataFrame.\n",
      "Try using .loc[row_indexer,col_indexer] = value instead\n",
      "\n",
      "See the caveats in the documentation: https://pandas.pydata.org/pandas-docs/stable/user_guide/indexing.html#returning-a-view-versus-a-copy\n",
      "  self.data['Label'] = self.data['Diagnosis']\n",
      "/home/dwalke/git/sbc/feature_variation/../dataAnalysis/data/Filter.py:34: SettingWithCopyWarning: \n",
      "A value is trying to be set on a copy of a slice from a DataFrame.\n",
      "Try using .loc[row_indexer,col_indexer] = value instead\n",
      "\n",
      "See the caveats in the documentation: https://pandas.pydata.org/pandas-docs/stable/user_guide/indexing.html#returning-a-view-versus-a-copy\n",
      "  self.data['Label'] = self.data['Diagnosis']\n",
      "/home/dwalke/git/sbc/feature_variation/../dataAnalysis/data/Filter.py:34: SettingWithCopyWarning: \n",
      "A value is trying to be set on a copy of a slice from a DataFrame.\n",
      "Try using .loc[row_indexer,col_indexer] = value instead\n",
      "\n",
      "See the caveats in the documentation: https://pandas.pydata.org/pandas-docs/stable/user_guide/indexing.html#returning-a-view-versus-a-copy\n",
      "  self.data['Label'] = self.data['Diagnosis']\n"
     ]
    }
   ],
   "source": [
    "from dataAnalysis.DataAnalysis import DataAnalysis\n",
    "import pandas as pd\n",
    "\n",
    "\n",
    "data = pd.read_csv(r\"../extdata/sbcdata.csv\", header=0)\n",
    "data_analysis = DataAnalysis(data)"
   ]
  },
  {
   "cell_type": "code",
   "execution_count": 12,
   "id": "73502738",
   "metadata": {},
   "outputs": [],
   "source": [
    "import torch\n",
    "\n",
    "y_train = torch.tensor(data_analysis.get_y_train(), dtype=torch.long)\n",
    "X_train = torch.tensor(data_analysis.get_X_train(), dtype=torch.float)\n",
    "\n",
    "y_test = torch.tensor(data_analysis.get_y_test(), dtype=torch.long)\n",
    "X_test = torch.tensor(data_analysis.get_X_test(), dtype=torch.float)\n",
    "\n",
    "y_gw_test = torch.tensor(data_analysis.get_y_gw(), dtype=torch.long)\n",
    "X_gw_test = torch.tensor(data_analysis.get_X_gw(), dtype=torch.float)"
   ]
  },
  {
   "cell_type": "markdown",
   "id": "1a0ebb3d",
   "metadata": {},
   "source": [
    "## Feature construction"
   ]
  },
  {
   "cell_type": "code",
   "execution_count": 4,
   "id": "16eba58b",
   "metadata": {},
   "outputs": [
    {
     "name": "stderr",
     "output_type": "stream",
     "text": [
      "/home/dwalke/.local/lib/python3.10/site-packages/transformers/utils/generic.py:441: UserWarning: torch.utils._pytree._register_pytree_node is deprecated. Please use torch.utils._pytree.register_pytree_node instead.\n",
      "  _torch_pytree._register_pytree_node(\n"
     ]
    }
   ],
   "source": [
    "from dataAnalysis.FeatureImportance import FeatureImportance\n",
    "feature_importance = FeatureImportance(X_train)"
   ]
  },
  {
   "cell_type": "markdown",
   "id": "138be404",
   "metadata": {},
   "source": [
    "## Graph construction (Other function than in the training step because of limitations in the torch.quantile function)"
   ]
  },
  {
   "cell_type": "code",
   "execution_count": 5,
   "id": "deecda53",
   "metadata": {
    "scrolled": true
   },
   "outputs": [],
   "source": [
    "import torch\n",
    "import numpy as np\n",
    "from dataAnalysis.Constants import *\n",
    "\n",
    "def to_tensor(df):\n",
    "    return torch.Tensor(list(df.values))\n",
    "\n",
    "def get_quantil_tensor():\n",
    "    number_of_quantiles = 10\n",
    "    q = torch.arange(0, 1, 1/number_of_quantiles)\n",
    "    q = torch.Tensor([0.025,0.05, 0.1, 0.2, 0.35, 0.5, 0.65, 0.8, 0.9, 0.95, 0.975, 1])\n",
    "    return q\n",
    "\n",
    "def normalize(tensor):\n",
    "    mean = torch.mean(tensor, dim = 0)\n",
    "    std = torch.std(tensor, dim = 0)\n",
    "    mean_diff = tensor - mean\n",
    "    return mean_diff / std\n",
    "\n",
    "def get_quantile_indices(tensor, quantiles):\n",
    "    quantile_indices = []\n",
    "    all_indices = torch.Tensor([])\n",
    "    prev_quantile = -1e-4\n",
    "    indices_control = torch.arange(0, tensor.shape[0])\n",
    "    for i in range(quantiles.nelement()):\n",
    "        indices_u = (tensor > prev_quantile).nonzero(as_tuple=True)[0] # (tensor > prev_quantile and tensor <= quantiles[i]).nonzero(as_tuple=True)[0]\n",
    "        indices_o = (tensor <= quantiles[i]).nonzero(as_tuple=True)[0]\n",
    "        indices = torch.from_numpy(np.intersect1d(indices_u, indices_o))\n",
    "        quantile_indices.append(indices)\n",
    "        prev_quantile = quantiles[i]\n",
    "    return quantile_indices\n",
    "\n",
    "\n",
    "def create_node_features(node_type, quantiles):\n",
    "    nodes_features = []\n",
    "    prev_quantile = torch.Tensor([0])\n",
    "    for i in range(quantiles.nelement()):\n",
    "        node_features = [prev_quantile.item(), quantiles[i].item(), get_quantil_tensor()[i].item()]\n",
    "        prev_quantile = quantiles[i]\n",
    "        nodes_features.append(node_features)\n",
    "    return torch.tensor(nodes_features)\n",
    "\n",
    "## Other function than in the training step because of limitations in the torch.quantile function\n",
    "def add_features_and_edges(graph):\n",
    "    for i, feature_name in enumerate(FEATURES):\n",
    "        if feature_name == SEX_CATEGORY_COLUMN_NAME or feature_name == AGE_COLUMN_NAME:\n",
    "            continue\n",
    "        feature_vector = graph[PATIENT_NAME].x[:, i]\n",
    "        sorted_features, sorted_indices = torch.sort(feature_vector)\n",
    "        sorted_indices\n",
    "        start_index = 0\n",
    "        size = feature_vector.shape[0]\n",
    "        source_edge_list = None\n",
    "        target_edge_list = None\n",
    "        node_quantiles = []\n",
    "        for i, q in enumerate(get_quantil_tensor()):\n",
    "            end_index = (torch.floor(q*size)).type(torch.long) -1 \n",
    "            source_edges = sorted_indices[start_index:end_index]\n",
    "            target_edges = torch.ones(source_edges.shape[0]) * i\n",
    "            source_edge_list = source_edges if source_edge_list is None else torch.concat((source_edge_list, source_edges))\n",
    "            target_edge_list = target_edges if target_edge_list is None else torch.concat((target_edge_list, target_edges))\n",
    "            start_index = end_index\n",
    "            node_quantiles.append(sorted_features[end_index])\n",
    "        target_edge_list = target_edge_list.type(torch.long)\n",
    "        graph[PATIENT_NAME, EDGE_TYPE, feature_name].edge_index = torch.stack([source_edge_list, target_edge_list])\n",
    "        node_quantiles = torch.tensor(node_quantiles)\n",
    "        graph[feature_name].x = create_node_features(feature_name, node_quantiles)\n",
    "        \n",
    "from torch_geometric.data import HeteroData\n",
    "import torch_geometric.transforms as T\n",
    "from imblearn.under_sampling import RandomUnderSampler\n",
    "\n",
    "graph = HeteroData()\n",
    "graph[PATIENT_NAME].x = torch.from_numpy(feature_importance.X_all_fv).type(torch.float)\n",
    "add_features_and_edges(graph)\n",
    "graph[PATIENT_NAME].x = normalize(graph[PATIENT_NAME].x)\n",
    "graph = T.ToUndirected()(graph)"
   ]
  },
  {
   "cell_type": "markdown",
   "id": "48310a06",
   "metadata": {},
   "source": [
    "## Model construction"
   ]
  },
  {
   "cell_type": "code",
   "execution_count": 6,
   "id": "769ca01f",
   "metadata": {},
   "outputs": [
    {
     "name": "stderr",
     "output_type": "stream",
     "text": [
      "/home/dwalke/.local/lib/python3.10/site-packages/transformers/utils/generic.py:309: UserWarning: torch.utils._pytree._register_pytree_node is deprecated. Please use torch.utils._pytree.register_pytree_node instead.\n",
      "  _torch_pytree._register_pytree_node(\n",
      "/home/dwalke/.local/lib/python3.10/site-packages/transformers/utils/generic.py:309: UserWarning: torch.utils._pytree._register_pytree_node is deprecated. Please use torch.utils._pytree.register_pytree_node instead.\n",
      "  _torch_pytree._register_pytree_node(\n"
     ]
    }
   ],
   "source": [
    "from torch_geometric.nn import GATConv, to_hetero,Linear, HeteroConv, SAGEConv\n",
    "from torch_geometric.nn.conv import HANConv\n",
    "from torchmetrics import AUROC\n",
    "\n",
    "class GraphNeuralNetwork(torch.nn.Module):\n",
    "    def __init__(self, hidden_dim = 128, out_channels = 1):\n",
    "        hidden_channels = 128\n",
    "        out_channels = 1\n",
    "        super(GraphNeuralNetwork, self).__init__()\n",
    "        \n",
    "        self.conv1 = SAGEConv((-1,-1), hidden_channels, normalize=True,aggr = \"mean\",root_weight = True)\n",
    "        self.conv_end = SAGEConv(hidden_channels, out_channels, aggr = \"mean\", root_weight = True)\n",
    "\n",
    "    def forward(self, x, edge_index):\n",
    "        x = self.conv1(x, edge_index)\n",
    "        x = x.relu()\n",
    "        x = self.conv_end(x, edge_index)\n",
    "        return x    "
   ]
  },
  {
   "cell_type": "markdown",
   "id": "76ff98bb",
   "metadata": {},
   "source": [
    "## Load trained model"
   ]
  },
  {
   "cell_type": "code",
   "execution_count": 7,
   "id": "9afc869e",
   "metadata": {},
   "outputs": [
    {
     "name": "stdout",
     "output_type": "stream",
     "text": [
      "(['PATIENT', 'HGB', 'WBC', 'RBC', 'MCV', 'PLT'], [('PATIENT', 'HAS', 'HGB'), ('PATIENT', 'HAS', 'WBC'), ('PATIENT', 'HAS', 'RBC'), ('PATIENT', 'HAS', 'MCV'), ('PATIENT', 'HAS', 'PLT'), ('HGB', 'rev_HAS', 'PATIENT'), ('WBC', 'rev_HAS', 'PATIENT'), ('RBC', 'rev_HAS', 'PATIENT'), ('MCV', 'rev_HAS', 'PATIENT'), ('PLT', 'rev_HAS', 'PATIENT')])\n"
     ]
    },
    {
     "data": {
      "text/plain": [
       "GraphModule(\n",
       "  (conv1): ModuleDict(\n",
       "    (PATIENT__HAS__HGB): SAGEConv((-1, -1), 128, aggr=mean)\n",
       "    (PATIENT__HAS__WBC): SAGEConv((-1, -1), 128, aggr=mean)\n",
       "    (PATIENT__HAS__RBC): SAGEConv((-1, -1), 128, aggr=mean)\n",
       "    (PATIENT__HAS__MCV): SAGEConv((-1, -1), 128, aggr=mean)\n",
       "    (PATIENT__HAS__PLT): SAGEConv((-1, -1), 128, aggr=mean)\n",
       "    (HGB__rev_HAS__PATIENT): SAGEConv((-1, -1), 128, aggr=mean)\n",
       "    (WBC__rev_HAS__PATIENT): SAGEConv((-1, -1), 128, aggr=mean)\n",
       "    (RBC__rev_HAS__PATIENT): SAGEConv((-1, -1), 128, aggr=mean)\n",
       "    (MCV__rev_HAS__PATIENT): SAGEConv((-1, -1), 128, aggr=mean)\n",
       "    (PLT__rev_HAS__PATIENT): SAGEConv((-1, -1), 128, aggr=mean)\n",
       "  )\n",
       "  (conv_end): ModuleDict(\n",
       "    (PATIENT__HAS__HGB): SAGEConv(128, 1, aggr=mean)\n",
       "    (PATIENT__HAS__WBC): SAGEConv(128, 1, aggr=mean)\n",
       "    (PATIENT__HAS__RBC): SAGEConv(128, 1, aggr=mean)\n",
       "    (PATIENT__HAS__MCV): SAGEConv(128, 1, aggr=mean)\n",
       "    (PATIENT__HAS__PLT): SAGEConv(128, 1, aggr=mean)\n",
       "    (HGB__rev_HAS__PATIENT): SAGEConv(128, 1, aggr=mean)\n",
       "    (WBC__rev_HAS__PATIENT): SAGEConv(128, 1, aggr=mean)\n",
       "    (RBC__rev_HAS__PATIENT): SAGEConv(128, 1, aggr=mean)\n",
       "    (MCV__rev_HAS__PATIENT): SAGEConv(128, 1, aggr=mean)\n",
       "    (PLT__rev_HAS__PATIENT): SAGEConv(128, 1, aggr=mean)\n",
       "  )\n",
       ")"
      ]
     },
     "execution_count": 7,
     "metadata": {},
     "output_type": "execute_result"
    }
   ],
   "source": [
    "model = GraphNeuralNetwork()\n",
    "print(graph.metadata())\n",
    "model = to_hetero(model, graph.metadata(), aggr='sum')\n",
    "model.load_state_dict(torch.load(\"../models/heterogeneous_gnn_state_dict.pt\", map_location=torch.device('cpu')))\n",
    "model.eval()"
   ]
  },
  {
   "cell_type": "code",
   "execution_count": 8,
   "id": "ca35d58b",
   "metadata": {},
   "outputs": [],
   "source": [
    "def predict_proba(graph):\n",
    "    with torch.inference_mode():\n",
    "        model.eval()\n",
    "        logits = model(graph.x_dict, graph.edge_index_dict)[PATIENT_NAME]\n",
    "        scores = torch.sigmoid(torch.squeeze(logits))\n",
    "        scores = torch.unsqueeze(scores, 0)\n",
    "        proba_predict = torch.concat((1- scores, scores), dim = 0)\n",
    "    return torch.transpose(proba_predict, 0, 1)\n",
    "\n",
    "def predict(graph):\n",
    "    pred = torch.round(predict_proba(graph)[:, 1])\n",
    "    return pred\n",
    "\n",
    "model.predict_proba = predict_proba\n",
    "model.predict = predict"
   ]
  },
  {
   "cell_type": "markdown",
   "id": "3b0399b3",
   "metadata": {},
   "source": [
    "## Feature evaluation"
   ]
  },
  {
   "cell_type": "code",
   "execution_count": 9,
   "id": "02ce6a8a",
   "metadata": {},
   "outputs": [
    {
     "data": {
      "text/plain": [
       "HeteroData(\n",
       "  PATIENT={ x=[128000000, 7] },\n",
       "  HGB={ x=[12, 3] },\n",
       "  WBC={ x=[12, 3] },\n",
       "  RBC={ x=[12, 3] },\n",
       "  MCV={ x=[12, 3] },\n",
       "  PLT={ x=[12, 3] },\n",
       "  (PATIENT, HAS, HGB)={ edge_index=[2, 127999999] },\n",
       "  (PATIENT, HAS, WBC)={ edge_index=[2, 127999999] },\n",
       "  (PATIENT, HAS, RBC)={ edge_index=[2, 127999999] },\n",
       "  (PATIENT, HAS, MCV)={ edge_index=[2, 127999999] },\n",
       "  (PATIENT, HAS, PLT)={ edge_index=[2, 127999999] },\n",
       "  (HGB, rev_HAS, PATIENT)={ edge_index=[2, 127999999] },\n",
       "  (WBC, rev_HAS, PATIENT)={ edge_index=[2, 127999999] },\n",
       "  (RBC, rev_HAS, PATIENT)={ edge_index=[2, 127999999] },\n",
       "  (MCV, rev_HAS, PATIENT)={ edge_index=[2, 127999999] },\n",
       "  (PLT, rev_HAS, PATIENT)={ edge_index=[2, 127999999] }\n",
       ")"
      ]
     },
     "execution_count": 9,
     "metadata": {},
     "output_type": "execute_result"
    }
   ],
   "source": [
    "model.cpu()\n",
    "graph.cpu()"
   ]
  },
  {
   "cell_type": "code",
   "execution_count": 15,
   "id": "5ac3d316-0721-440f-8559-d7f038572048",
   "metadata": {},
   "outputs": [],
   "source": [
    "import numpy as np\n",
    "from scipy.stats.mstats import mquantiles\n",
    "\n",
    "def create_grid(X, feature_idx, extremes=[0.05, 0.95], resolution = 100):\n",
    "    \n",
    "    if np.unique(X[:, feature_idx]).shape[0] <= resolution:\n",
    "        return np.unique(X[:, feature_idx])\n",
    "    emp_percentiles = mquantiles(\n",
    "                X[:, feature_idx], prob=extremes, axis=0\n",
    "            )\n",
    "    axis = np.linspace(\n",
    "                emp_percentiles[0],\n",
    "                emp_percentiles[1],\n",
    "                num=resolution,\n",
    "                endpoint=True,\n",
    "            )\n",
    "    return axis"
   ]
  },
  {
   "cell_type": "code",
   "execution_count": null,
   "id": "934bfa97-2ca0-4c2f-bcca-1400e6db266c",
   "metadata": {},
   "outputs": [],
   "source": [
    "from tqdm.notebook import tqdm\n",
    "\n",
    "def pdp(X, grid, feature_idx, model, edge_index):\n",
    "    avg_pred_probas = torch.zeros((grid.shape[0]))\n",
    "    for i, grid_item in enumerate(grid):\n",
    "        X_clone = torch.clone(X)\n",
    "        X_clone[:, feature_idx] = grid_item\n",
    "        data = Data(x = X_clone, edge_index = edge_index)\n",
    "        mask = torch.ones(X_clone.shape[0]).type(torch.bool)\n",
    "        pred_proba = model.predict_proba(data, mask)\n",
    "        avg_pred_probas[i] = torch.mean(pred_proba[:, 1])\n",
    "    return avg_pred_probas"
   ]
  },
  {
   "cell_type": "code",
   "execution_count": 16,
   "id": "2f9ed228",
   "metadata": {},
   "outputs": [],
   "source": [
    "feature_importance.set_model_input([graph])"
   ]
  },
  {
   "cell_type": "code",
   "execution_count": 17,
   "id": "c3a3c87b-6844-4f28-a0be-41202c8685a7",
   "metadata": {},
   "outputs": [
    {
     "data": {
      "text/plain": [
       "array([ 18.,  19.,  20.,  21.,  22.,  23.,  24.,  25.,  26.,  27.,  28.,\n",
       "        29.,  30.,  31.,  32.,  33.,  34.,  35.,  36.,  37.,  38.,  39.,\n",
       "        40.,  41.,  42.,  43.,  44.,  45.,  46.,  47.,  48.,  49.,  50.,\n",
       "        51.,  52.,  53.,  54.,  55.,  56.,  57.,  58.,  59.,  60.,  61.,\n",
       "        62.,  63.,  64.,  65.,  66.,  67.,  68.,  69.,  70.,  71.,  72.,\n",
       "        73.,  74.,  75.,  76.,  77.,  78.,  79.,  80.,  81.,  82.,  83.,\n",
       "        84.,  85.,  86.,  87.,  88.,  89.,  90.,  91.,  92.,  93.,  94.,\n",
       "        95.,  96.,  97.,  98.,  99., 100., 101., 102., 103., 104., 105.,\n",
       "       106.], dtype=float32)"
      ]
     },
     "execution_count": 17,
     "metadata": {},
     "output_type": "execute_result"
    }
   ],
   "source": [
    "create_grid(X_train, 0)"
   ]
  },
  {
   "cell_type": "code",
   "execution_count": 13,
   "id": "a01aa1e6",
   "metadata": {},
   "outputs": [
    {
     "name": "stdout",
     "output_type": "stream",
     "text": [
      "Ratio of diseased men/women over all CBCs for Heterogeneous GNN 37.973856925964355\t32.267847657203674\n"
     ]
    },
    {
     "data": {
      "image/png": "[encoded data removed]",
      "text/plain": [
       "<Figure size 640x480 with 1 Axes>"
      ]
     },
     "metadata": {},
     "output_type": "display_data"
    }
   ],
   "source": [
    "feature_importance.plot_feature_importance(model, title=\"Heterogeneous GNN\", write=True)"
   ]
  },
  {
   "cell_type": "code",
   "execution_count": 12,
   "id": "30f85068",
   "metadata": {},
   "outputs": [
    {
     "ename": "NameError",
     "evalue": "name 'X_all_fv' is not defined",
     "output_type": "error",
     "traceback": [
      "\u001b[0;31m---------------------------------------------------------------------------\u001b[0m",
      "\u001b[0;31mNameError\u001b[0m                                 Traceback (most recent call last)",
      "Cell \u001b[0;32mIn[12], line 4\u001b[0m\n\u001b[1;32m      2\u001b[0m \u001b[38;5;28;01mimport\u001b[39;00m \u001b[38;5;21;01mnumpy\u001b[39;00m \u001b[38;5;28;01mas\u001b[39;00m \u001b[38;5;21;01mnp\u001b[39;00m\n\u001b[1;32m      3\u001b[0m plotted_features \u001b[38;5;241m=\u001b[39m []\n\u001b[0;32m----> 4\u001b[0m X_all_fv \u001b[38;5;241m=\u001b[39m X_all_fv \u001b[38;5;28;01mif\u001b[39;00m torch\u001b[38;5;241m.\u001b[39mis_tensor(\u001b[43mX_all_fv\u001b[49m) \u001b[38;5;28;01melse\u001b[39;00m torch\u001b[38;5;241m.\u001b[39mfrom_numpy(X_all_fv)\n\u001b[1;32m      5\u001b[0m X_all_fv \u001b[38;5;241m=\u001b[39m X_all_fv\u001b[38;5;241m.\u001b[39mcpu()\n\u001b[1;32m      6\u001b[0m y_pred \u001b[38;5;241m=\u001b[39m y_pred_all\u001b[38;5;241m.\u001b[39mcpu()\n",
      "\u001b[0;31mNameError\u001b[0m: name 'X_all_fv' is not defined"
     ]
    }
   ],
   "source": [
    "import matplotlib.pyplot as plt\n",
    "import numpy as np\n",
    "plotted_features = []\n",
    "X_all_fv = X_all_fv if torch.is_tensor(X_all_fv) else torch.from_numpy(X_all_fv)\n",
    "X_all_fv = X_all_fv.cpu()\n",
    "y_pred = y_pred_all.cpu()\n",
    "for feature in FEATURES:\n",
    "    sepsis_ratios = []\n",
    "    for feature_value in X_all_fv[:, FEATURE_DICT[feature]].unique():\n",
    "        feature_mask = X_all_fv[:, FEATURE_DICT[feature]] == feature_value\n",
    "        uniques, counts = torch.unique(y_pred[feature_mask], return_counts=True)\n",
    "        if len(counts) == 2:\n",
    "            sepsis_ratios.append(counts[1] / (counts[0] + counts[1]))\n",
    "        else:\n",
    "            sepsis_ratios.append(torch.tensor(0) if uniques[0] == 0 else torch.tensor(counts[0]))\n",
    "    if feature == SEX__CAT_COLUMN_NAME:\n",
    "        continue\n",
    "        diff = sepsis_ratios[1] - sepsis_ratios[0]\n",
    "        sepsis_ratios = [sepsis_ratios[0] + i/steps * diff for i in range(steps)]        \n",
    "    sepsis_ratios = list(map(lambda r: r*100, sepsis_ratios))\n",
    "    plt.plot(np.linspace(0, 100, steps, endpoint=True), sepsis_ratios)\n",
    "plt.xlabel(\"Feature ratio [%]\")\n",
    "plt.ylabel(\"Ratios of diseased patients [%]\")\n",
    "plt.ylim(0, 100)\n",
    "plt.xlim(0, 100)\n",
    "plt.title(\"Heterogeneous GNN\")\n",
    "plt.legend(list(filter(lambda f: f != SEX__CAT_COLUMN_NAME, FEATURES)))\n",
    "plt.show()"
   ]
  },
  {
   "cell_type": "code",
   "execution_count": null,
   "id": "371060ed",
   "metadata": {},
   "outputs": [],
   "source": [
    "from torchmetrics import AUROC\n",
    "\n",
    "auroc_metric = AUROC(task=\"binary\")\n",
    "with torch.inference_mode():\n",
    "    model.eval()\n",
    "    pred = model(graph.x, graph.edge_index) \n",
    "    pred_patient = torch.sigmoid(torch.squeeze(pred[test_l_mask]))\n",
    "    auroc = auroc_metric(pred_patient, graph.y[test_l_mask])\n",
    "    print(f\"AUROC: {auroc.item():.4f}\")"
   ]
  },
  {
   "cell_type": "code",
   "execution_count": null,
   "id": "63a31a56",
   "metadata": {},
   "outputs": [],
   "source": [
    "from torchmetrics import AUROC\n",
    "from sklearn import metrics\n",
    "\n",
    "auroc_metric = AUROC(task=\"binary\")\n",
    "with torch.inference_mode():\n",
    "    model.eval()\n",
    "    pred = model(graph.x, graph.edge_index) \n",
    "    pred_patient = torch.sigmoid(torch.squeeze(pred[test_l_mask]))\n",
    "    \n",
    "    confusion_matrix = metrics.confusion_matrix(graph.y[test_l_mask].cpu(),\n",
    "                                                    torch.round(pred_patient).type(torch.int).cpu())\n",
    "    cm_display = metrics.ConfusionMatrixDisplay(confusion_matrix=confusion_matrix, display_labels=[False, True])\n",
    "    cm_display.plot()"
   ]
  },
  {
   "cell_type": "code",
   "execution_count": null,
   "id": "10de27ff",
   "metadata": {},
   "outputs": [],
   "source": [
    "import time \n",
    "for i in range(20000):\n",
    "    print(\"Waiting\")\n",
    "    time.sleep(60)"
   ]
  }
 ],
 "metadata": {
  "kernelspec": {
   "display_name": "Python 3 (ipykernel)",
   "language": "python",
   "name": "python3"
  },
  "language_info": {
   "codemirror_mode": {
    "name": "ipython",
    "version": 3
   },
   "file_extension": ".py",
   "mimetype": "text/x-python",
   "name": "python",
   "nbconvert_exporter": "python",
   "pygments_lexer": "ipython3",
   "version": "3.10.12"
  }
 },
 "nbformat": 4,
 "nbformat_minor": 5
}
