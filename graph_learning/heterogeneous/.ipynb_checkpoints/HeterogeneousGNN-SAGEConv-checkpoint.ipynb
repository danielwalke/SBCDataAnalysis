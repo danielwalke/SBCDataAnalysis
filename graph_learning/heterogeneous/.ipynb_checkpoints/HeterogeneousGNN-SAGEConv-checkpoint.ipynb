{
 "cells": [
  {
   "cell_type": "markdown",
   "id": "b18b73dd",
   "metadata": {},
   "source": [
    "## Load data"
   ]
  },
  {
   "cell_type": "code",
   "execution_count": 1,
   "id": "431abf6e",
   "metadata": {},
   "outputs": [],
   "source": [
    "import sys\n",
    " \n",
    "sys.path.insert(0, \"../../\")"
   ]
  },
  {
   "cell_type": "code",
   "execution_count": 2,
   "id": "6c929aa7",
   "metadata": {
    "scrolled": true
   },
   "outputs": [
    {
     "name": "stderr",
     "output_type": "stream",
     "text": [
      "/home/dwalke/git/sbc/graph_learning/heterogeneous/../../dataAnalysis/data/Filter.py:34: SettingWithCopyWarning: \n",
      "A value is trying to be set on a copy of a slice from a DataFrame.\n",
      "Try using .loc[row_indexer,col_indexer] = value instead\n",
      "\n",
      "See the caveats in the documentation: https://pandas.pydata.org/pandas-docs/stable/user_guide/indexing.html#returning-a-view-versus-a-copy\n",
      "  self.data['Label'] = self.data['Diagnosis']\n",
      "/home/dwalke/git/sbc/graph_learning/heterogeneous/../../dataAnalysis/data/Filter.py:34: SettingWithCopyWarning: \n",
      "A value is trying to be set on a copy of a slice from a DataFrame.\n",
      "Try using .loc[row_indexer,col_indexer] = value instead\n",
      "\n",
      "See the caveats in the documentation: https://pandas.pydata.org/pandas-docs/stable/user_guide/indexing.html#returning-a-view-versus-a-copy\n",
      "  self.data['Label'] = self.data['Diagnosis']\n",
      "/home/dwalke/git/sbc/graph_learning/heterogeneous/../../dataAnalysis/data/Filter.py:34: SettingWithCopyWarning: \n",
      "A value is trying to be set on a copy of a slice from a DataFrame.\n",
      "Try using .loc[row_indexer,col_indexer] = value instead\n",
      "\n",
      "See the caveats in the documentation: https://pandas.pydata.org/pandas-docs/stable/user_guide/indexing.html#returning-a-view-versus-a-copy\n",
      "  self.data['Label'] = self.data['Diagnosis']\n"
     ]
    }
   ],
   "source": [
    "from dataAnalysis.DataAnalysis import DataAnalysis\n",
    "import pandas as pd\n",
    "\n",
    "data = pd.read_csv(r\"../../extdata/sbcdata.csv\", header=0)\n",
    "data_analysis = DataAnalysis(data)"
   ]
  },
  {
   "cell_type": "code",
   "execution_count": 3,
   "id": "94724e70",
   "metadata": {},
   "outputs": [],
   "source": [
    "import torch\n",
    "\n",
    "y_train = torch.tensor(data_analysis.get_y_train(), dtype=torch.long)\n",
    "X_train = torch.tensor(data_analysis.get_X_train(), dtype=torch.float)\n",
    "\n",
    "y_test = torch.tensor(data_analysis.get_y_test(), dtype=torch.long)\n",
    "X_test = torch.tensor(data_analysis.get_X_test(), dtype=torch.float)\n",
    "\n",
    "y_gw_test = torch.tensor(data_analysis.get_y_gw(), dtype=torch.long)\n",
    "X_gw_test = torch.tensor(data_analysis.get_X_gw(), dtype=torch.float)"
   ]
  },
  {
   "cell_type": "code",
   "execution_count": 4,
   "id": "27e6eb3e",
   "metadata": {},
   "outputs": [],
   "source": [
    "y_all = torch.concat((y_train, y_test, y_gw_test))\n",
    "X_all = torch.concat((X_train, X_test, X_gw_test))"
   ]
  },
  {
   "cell_type": "markdown",
   "id": "a29f90b6",
   "metadata": {},
   "source": [
    "## Train/Validation/Test splits"
   ]
  },
  {
   "cell_type": "code",
   "execution_count": 5,
   "id": "f29cee01",
   "metadata": {},
   "outputs": [],
   "source": [
    "def true_indices_like(tensor):\n",
    "    return torch.ones((tensor.shape[0])).type(torch.bool)\n",
    "\n",
    "def false_indices_like(tensor):\n",
    "    return torch.zeros((tensor.shape[0])).type(torch.bool)\n",
    "\n",
    "def split(train_features):\n",
    "    tensor = true_indices_like(train_features)\n",
    "    max_index = round(tensor.shape[0] * 0.8)\n",
    "    train = torch.zeros(tensor.shape[0])\n",
    "    train[:max_index] = 1\n",
    "    \n",
    "    val = torch.zeros(tensor.shape[0])\n",
    "    val[max_index:] = 1\n",
    "    return{\n",
    "        \"train\": train.type(torch.bool),\n",
    "        \"val\":val.type(torch.bool)\n",
    "    }\n",
    "train_data = split(X_train)\n",
    "\n",
    "train_mask = torch.concat((train_data[\"train\"], false_indices_like(X_test), false_indices_like(X_gw_test)))\n",
    "val_mask = torch.concat((train_data[\"val\"], false_indices_like(X_test), false_indices_like(X_gw_test)))\n",
    "test_l_mask = torch.concat((false_indices_like(X_train), true_indices_like(X_test), false_indices_like(X_gw_test)))\n",
    "test_gw_mask = torch.concat((false_indices_like(X_train), false_indices_like(X_test), true_indices_like(X_gw_test)))"
   ]
  },
  {
   "cell_type": "markdown",
   "id": "360310be",
   "metadata": {},
   "source": [
    "## Graph construction"
   ]
  },
  {
   "cell_type": "code",
   "execution_count": 6,
   "id": "09c59b30",
   "metadata": {},
   "outputs": [],
   "source": [
    "import torch\n",
    "import numpy as np\n",
    "from dataAnalysis.Constants import *\n",
    "\n",
    "def to_tensor(df):\n",
    "    return torch.Tensor(list(df.values))\n",
    "\n",
    "def get_quantil_tensor():\n",
    "    number_of_quantiles = 10\n",
    "    q = torch.arange(0, 1, 1/number_of_quantiles)\n",
    "    q = torch.Tensor([0.025,0.05, 0.1, 0.2, 0.35, 0.5, 0.65, 0.8, 0.9, 0.95, 0.975, 1])\n",
    "    return q\n",
    "\n",
    "def get_quantiles(tensor):\n",
    "    q = get_quantil_tensor() \n",
    "    return torch.quantile(tensor, q)\n",
    "\n",
    "def normalize(tensor):\n",
    "    mean = torch.mean(tensor, dim = 0)\n",
    "    std = torch.std(tensor, dim = 0)\n",
    "    mean_diff = tensor - mean\n",
    "    return mean_diff / std\n",
    "\n",
    "def get_quantile_indices(tensor, quantiles):\n",
    "    quantile_indices = []\n",
    "    all_indices = torch.Tensor([])\n",
    "    prev_quantile = -1e-4\n",
    "    indices_control = torch.arange(0, tensor.shape[0])\n",
    "    for i in range(quantiles.nelement()):\n",
    "        indices_u = (tensor > prev_quantile).nonzero(as_tuple=True)[0] # (tensor > prev_quantile and tensor <= quantiles[i]).nonzero(as_tuple=True)[0]\n",
    "        indices_o = (tensor <= quantiles[i]).nonzero(as_tuple=True)[0]\n",
    "        indices = torch.from_numpy(np.intersect1d(indices_u, indices_o))\n",
    "        quantile_indices.append(indices)\n",
    "        prev_quantile = quantiles[i]\n",
    "    return quantile_indices\n",
    "\n",
    "\n",
    "def create_node_features(node_type, quantiles):\n",
    "    nodes_features = []\n",
    "    prev_quantile = torch.Tensor([0])\n",
    "    for i in range(quantiles.nelement()):\n",
    "        node_features = [prev_quantile.item(), quantiles[i].item(), get_quantil_tensor()[i].item()]\n",
    "        prev_quantile = quantiles[i]\n",
    "        nodes_features.append(node_features)\n",
    "    return torch.tensor(nodes_features)\n",
    "\n",
    "def create_edge_features_to_patient(node_type, quantile_indices):\n",
    "    source_edge_list = None\n",
    "    target_edge_list = None\n",
    "    for i in range(len(quantile_indices)):\n",
    "        target_edges = torch.ones((quantile_indices[i].nelement())) * i\n",
    "        source_edges = quantile_indices[i]\n",
    "        source_edge_list = source_edges if source_edge_list is None else torch.concat((source_edge_list, source_edges))\n",
    "        target_edge_list = target_edges if target_edge_list is None else torch.concat((target_edge_list, target_edges))\n",
    "    return torch.stack([source_edge_list, target_edge_list]).type(torch.long)\n",
    "\n",
    "def add_features_and_edges(graph):\n",
    "    for i, feature_name in enumerate(FEATURES):\n",
    "        if feature_name not in [HGB_COLUMN_NAME, WBC_COLUMN_NAME, RBC_COLUMN_NAME, MCV_COLUMN_NAME, PLT_COLUMN_NAME]:\n",
    "            continue\n",
    "        feature_vector = graph[PATIENT_NAME].x[:, i]\n",
    "        node_quantiles = get_quantiles(feature_vector)\n",
    "        quantile_indices = get_quantile_indices(feature_vector, node_quantiles)\n",
    "        graph[feature_name].x = create_node_features(feature_name, node_quantiles)\n",
    "        graph[PATIENT_NAME, EDGE_TYPE, feature_name].edge_index = create_edge_features_to_patient(feature_name, quantile_indices)"
   ]
  },
  {
   "cell_type": "code",
   "execution_count": 7,
   "id": "d5ced086-a348-4947-b30b-a8b456af99c0",
   "metadata": {},
   "outputs": [
    {
     "data": {
      "text/html": [
       "<style>#sk-container-id-1 {color: black;background-color: white;}#sk-container-id-1 pre{padding: 0;}#sk-container-id-1 div.sk-toggleable {background-color: white;}#sk-container-id-1 label.sk-toggleable__label {cursor: pointer;display: block;width: 100%;margin-bottom: 0;padding: 0.3em;box-sizing: border-box;text-align: center;}#sk-container-id-1 label.sk-toggleable__label-arrow:before {content: \"▸\";float: left;margin-right: 0.25em;color: #696969;}#sk-container-id-1 label.sk-toggleable__label-arrow:hover:before {color: black;}#sk-container-id-1 div.sk-estimator:hover label.sk-toggleable__label-arrow:before {color: black;}#sk-container-id-1 div.sk-toggleable__content {max-height: 0;max-width: 0;overflow: hidden;text-align: left;background-color: #f0f8ff;}#sk-container-id-1 div.sk-toggleable__content pre {margin: 0.2em;color: black;border-radius: 0.25em;background-color: #f0f8ff;}#sk-container-id-1 input.sk-toggleable__control:checked~div.sk-toggleable__content {max-height: 200px;max-width: 100%;overflow: auto;}#sk-container-id-1 input.sk-toggleable__control:checked~label.sk-toggleable__label-arrow:before {content: \"▾\";}#sk-container-id-1 div.sk-estimator input.sk-toggleable__control:checked~label.sk-toggleable__label {background-color: #d4ebff;}#sk-container-id-1 div.sk-label input.sk-toggleable__control:checked~label.sk-toggleable__label {background-color: #d4ebff;}#sk-container-id-1 input.sk-hidden--visually {border: 0;clip: rect(1px 1px 1px 1px);clip: rect(1px, 1px, 1px, 1px);height: 1px;margin: -1px;overflow: hidden;padding: 0;position: absolute;width: 1px;}#sk-container-id-1 div.sk-estimator {font-family: monospace;background-color: #f0f8ff;border: 1px dotted black;border-radius: 0.25em;box-sizing: border-box;margin-bottom: 0.5em;}#sk-container-id-1 div.sk-estimator:hover {background-color: #d4ebff;}#sk-container-id-1 div.sk-parallel-item::after {content: \"\";width: 100%;border-bottom: 1px solid gray;flex-grow: 1;}#sk-container-id-1 div.sk-label:hover label.sk-toggleable__label {background-color: #d4ebff;}#sk-container-id-1 div.sk-serial::before {content: \"\";position: absolute;border-left: 1px solid gray;box-sizing: border-box;top: 0;bottom: 0;left: 50%;z-index: 0;}#sk-container-id-1 div.sk-serial {display: flex;flex-direction: column;align-items: center;background-color: white;padding-right: 0.2em;padding-left: 0.2em;position: relative;}#sk-container-id-1 div.sk-item {position: relative;z-index: 1;}#sk-container-id-1 div.sk-parallel {display: flex;align-items: stretch;justify-content: center;background-color: white;position: relative;}#sk-container-id-1 div.sk-item::before, #sk-container-id-1 div.sk-parallel-item::before {content: \"\";position: absolute;border-left: 1px solid gray;box-sizing: border-box;top: 0;bottom: 0;left: 50%;z-index: -1;}#sk-container-id-1 div.sk-parallel-item {display: flex;flex-direction: column;z-index: 1;position: relative;background-color: white;}#sk-container-id-1 div.sk-parallel-item:first-child::after {align-self: flex-end;width: 50%;}#sk-container-id-1 div.sk-parallel-item:last-child::after {align-self: flex-start;width: 50%;}#sk-container-id-1 div.sk-parallel-item:only-child::after {width: 0;}#sk-container-id-1 div.sk-dashed-wrapped {border: 1px dashed gray;margin: 0 0.4em 0.5em 0.4em;box-sizing: border-box;padding-bottom: 0.4em;background-color: white;}#sk-container-id-1 div.sk-label label {font-family: monospace;font-weight: bold;display: inline-block;line-height: 1.2em;}#sk-container-id-1 div.sk-label-container {text-align: center;}#sk-container-id-1 div.sk-container {/* jupyter's `normalize.less` sets `[hidden] { display: none; }` but bootstrap.min.css set `[hidden] { display: none !important; }` so we also need the `!important` here to be able to override the default hidden behavior on the sphinx rendered scikit-learn.org. See: https://github.com/scikit-learn/scikit-learn/issues/21755 */display: inline-block !important;position: relative;}#sk-container-id-1 div.sk-text-repr-fallback {display: none;}</style><div id=\"sk-container-id-1\" class=\"sk-top-container\"><div class=\"sk-text-repr-fallback\"><pre>StandardScaler()</pre><b>In a Jupyter environment, please rerun this cell to show the HTML representation or trust the notebook. <br />On GitHub, the HTML representation is unable to render, please try loading this page with nbviewer.org.</b></div><div class=\"sk-container\" hidden><div class=\"sk-item\"><div class=\"sk-estimator sk-toggleable\"><input class=\"sk-toggleable__control sk-hidden--visually\" id=\"sk-estimator-id-1\" type=\"checkbox\" checked><label for=\"sk-estimator-id-1\" class=\"sk-toggleable__label sk-toggleable__label-arrow\">StandardScaler</label><div class=\"sk-toggleable__content\"><pre>StandardScaler()</pre></div></div></div></div></div>"
      ],
      "text/plain": [
       "StandardScaler()"
      ]
     },
     "execution_count": 7,
     "metadata": {},
     "output_type": "execute_result"
    }
   ],
   "source": [
    "from sklearn.preprocessing import StandardScaler\n",
    "scaler = StandardScaler()\n",
    "scaler.fit(X_train)"
   ]
  },
  {
   "cell_type": "code",
   "execution_count": 8,
   "id": "5f846b8e-464b-4cd9-aaa9-a5d9dd5819cc",
   "metadata": {},
   "outputs": [],
   "source": [
    "device = torch.device(\"cuda:0\") if torch.cuda.is_available() else torch.device(\"cpu\")"
   ]
  },
  {
   "cell_type": "code",
   "execution_count": 9,
   "id": "9b8b2f94",
   "metadata": {},
   "outputs": [
    {
     "name": "stderr",
     "output_type": "stream",
     "text": [
      "/home/dwalke/.local/lib/python3.10/site-packages/transformers/utils/generic.py:441: UserWarning: torch.utils._pytree._register_pytree_node is deprecated. Please use torch.utils._pytree.register_pytree_node instead.\n",
      "  _torch_pytree._register_pytree_node(\n"
     ]
    }
   ],
   "source": [
    "from torch_geometric.data import HeteroData\n",
    "import torch_geometric.transforms as T\n",
    "from imblearn.under_sampling import RandomUnderSampler\n",
    "\n",
    "def normalize(tensor):\n",
    "    mean = torch.mean(tensor, dim = 0)\n",
    "    std = torch.std(tensor, dim = 0)\n",
    "    mean_diff = tensor - mean\n",
    "    return mean_diff / std\n",
    "\n",
    "graph = HeteroData()\n",
    "graph[PATIENT_NAME].x = X_all\n",
    "add_features_and_edges(graph)\n",
    "graph[PATIENT_NAME].y = y_all\n",
    "graph[PATIENT_NAME].train_mask = train_mask\n",
    "graph[PATIENT_NAME].val_mask = val_mask\n",
    "graph[PATIENT_NAME].test_l_mask = test_l_mask\n",
    "graph[PATIENT_NAME].test_gw_mask = test_gw_mask\n",
    "graph = T.ToUndirected()(graph)\n",
    "graph[PATIENT_NAME].x = torch.from_numpy(scaler.transform(graph[PATIENT_NAME].x)).type(torch.float).to(device)"
   ]
  },
  {
   "cell_type": "code",
   "execution_count": 10,
   "id": "e380f8a5",
   "metadata": {},
   "outputs": [
    {
     "data": {
      "text/plain": [
       "HeteroData(\n",
       "  PATIENT={\n",
       "    x=[1819435, 7],\n",
       "    y=[1819435],\n",
       "    train_mask=[1819435],\n",
       "    val_mask=[1819435],\n",
       "    test_l_mask=[1819435],\n",
       "    test_gw_mask=[1819435],\n",
       "  },\n",
       "  HGB={ x=[12, 3] },\n",
       "  WBC={ x=[12, 3] },\n",
       "  RBC={ x=[12, 3] },\n",
       "  MCV={ x=[12, 3] },\n",
       "  PLT={ x=[12, 3] },\n",
       "  (PATIENT, HAS, HGB)={ edge_index=[2, 1819435] },\n",
       "  (PATIENT, HAS, WBC)={ edge_index=[2, 1819435] },\n",
       "  (PATIENT, HAS, RBC)={ edge_index=[2, 1819435] },\n",
       "  (PATIENT, HAS, MCV)={ edge_index=[2, 1819435] },\n",
       "  (PATIENT, HAS, PLT)={ edge_index=[2, 1819435] },\n",
       "  (HGB, rev_HAS, PATIENT)={ edge_index=[2, 1819435] },\n",
       "  (WBC, rev_HAS, PATIENT)={ edge_index=[2, 1819435] },\n",
       "  (RBC, rev_HAS, PATIENT)={ edge_index=[2, 1819435] },\n",
       "  (MCV, rev_HAS, PATIENT)={ edge_index=[2, 1819435] },\n",
       "  (PLT, rev_HAS, PATIENT)={ edge_index=[2, 1819435] }\n",
       ")"
      ]
     },
     "execution_count": 10,
     "metadata": {},
     "output_type": "execute_result"
    }
   ],
   "source": [
    "graph"
   ]
  },
  {
   "cell_type": "markdown",
   "id": "ca8e41cf",
   "metadata": {},
   "source": [
    "### Model defintion"
   ]
  },
  {
   "cell_type": "code",
   "execution_count": 11,
   "id": "57e45295",
   "metadata": {},
   "outputs": [
    {
     "name": "stderr",
     "output_type": "stream",
     "text": [
      "/home/dwalke/.local/lib/python3.10/site-packages/transformers/utils/generic.py:309: UserWarning: torch.utils._pytree._register_pytree_node is deprecated. Please use torch.utils._pytree.register_pytree_node instead.\n",
      "  _torch_pytree._register_pytree_node(\n",
      "/home/dwalke/.local/lib/python3.10/site-packages/transformers/utils/generic.py:309: UserWarning: torch.utils._pytree._register_pytree_node is deprecated. Please use torch.utils._pytree.register_pytree_node instead.\n",
      "  _torch_pytree._register_pytree_node(\n"
     ]
    }
   ],
   "source": [
    "from torch_geometric.nn import GATConv, to_hetero,Linear, HeteroConv, SAGEConv\n",
    "from torch_geometric.nn.conv import HANConv\n",
    "import torch.nn.functional as F\n",
    "from torchmetrics import AUROC\n",
    "\n",
    "class GraphNeuralNetwork(torch.nn.Module):\n",
    "    def __init__(self, hidden_dim = 128, out_channels = 1):\n",
    "        hidden_channels = 128\n",
    "        out_channels = 1\n",
    "        super(GraphNeuralNetwork, self).__init__()\n",
    "#         self.lin = Linear(-1, 16)\n",
    "        self.conv1 = SAGEConv((-1,-1), hidden_channels, normalize=True,aggr = \"mean\",root_weight = True)\n",
    "        self.conv_end = SAGEConv(hidden_channels, out_channels, aggr = \"mean\", root_weight = True)\n",
    "\n",
    "    def forward(self, x, edge_index):\n",
    "        x = self.conv1(x, edge_index)\n",
    "        x = x.relu()\n",
    "        x = self.conv_end(x, edge_index)\n",
    "        return x\n",
    "    "
   ]
  },
  {
   "cell_type": "code",
   "execution_count": 12,
   "id": "d14b065f",
   "metadata": {},
   "outputs": [
    {
     "data": {
      "text/plain": [
       "HeteroData(\n",
       "  PATIENT={\n",
       "    x=[1819435, 7],\n",
       "    y=[1819435],\n",
       "    train_mask=[1819435],\n",
       "    val_mask=[1819435],\n",
       "    test_l_mask=[1819435],\n",
       "    test_gw_mask=[1819435],\n",
       "  },\n",
       "  HGB={ x=[12, 3] },\n",
       "  WBC={ x=[12, 3] },\n",
       "  RBC={ x=[12, 3] },\n",
       "  MCV={ x=[12, 3] },\n",
       "  PLT={ x=[12, 3] },\n",
       "  (PATIENT, HAS, HGB)={ edge_index=[2, 1819435] },\n",
       "  (PATIENT, HAS, WBC)={ edge_index=[2, 1819435] },\n",
       "  (PATIENT, HAS, RBC)={ edge_index=[2, 1819435] },\n",
       "  (PATIENT, HAS, MCV)={ edge_index=[2, 1819435] },\n",
       "  (PATIENT, HAS, PLT)={ edge_index=[2, 1819435] },\n",
       "  (HGB, rev_HAS, PATIENT)={ edge_index=[2, 1819435] },\n",
       "  (WBC, rev_HAS, PATIENT)={ edge_index=[2, 1819435] },\n",
       "  (RBC, rev_HAS, PATIENT)={ edge_index=[2, 1819435] },\n",
       "  (MCV, rev_HAS, PATIENT)={ edge_index=[2, 1819435] },\n",
       "  (PLT, rev_HAS, PATIENT)={ edge_index=[2, 1819435] }\n",
       ")"
      ]
     },
     "execution_count": 12,
     "metadata": {},
     "output_type": "execute_result"
    }
   ],
   "source": [
    "graph"
   ]
  },
  {
   "cell_type": "markdown",
   "id": "bd2e56db",
   "metadata": {},
   "source": [
    "## Shift data to device"
   ]
  },
  {
   "cell_type": "code",
   "execution_count": 33,
   "id": "97de16f4",
   "metadata": {},
   "outputs": [
    {
     "name": "stdout",
     "output_type": "stream",
     "text": [
      "Data shifted to the device cuda:0\n"
     ]
    }
   ],
   "source": [
    "graph = graph.to(device)\n",
    "\n",
    "sepsis_cases = torch.count_nonzero(graph[PATIENT_NAME].y[train_mask])\n",
    "control_cases = graph[PATIENT_NAME].y[train_mask].size(dim=0) - sepsis_cases\n",
    "WEIGHT = (control_cases / (sepsis_cases + 1e-10))\n",
    "WEIGHT = WEIGHT.to(device)\n",
    "\n",
    "print(\"Data shifted to the device \" + str(device))"
   ]
  },
  {
   "cell_type": "code",
   "execution_count": 34,
   "id": "134d27ef",
   "metadata": {},
   "outputs": [],
   "source": [
    "from torch_geometric.loader import NeighborLoader\n",
    "\n",
    "kwargs = {\n",
    "    \"num_neighbors\":[5] * 2,\n",
    "    \"batch_size\":1_000_000\n",
    "}\n",
    "loader = NeighborLoader(\n",
    "    graph,\n",
    "    input_nodes=(PATIENT_NAME, graph[PATIENT_NAME].train_mask),\n",
    "    **kwargs\n",
    ")\n",
    "val_loader = NeighborLoader(\n",
    "    graph,\n",
    "    input_nodes=(PATIENT_NAME, graph[PATIENT_NAME].val_mask),\n",
    "    **kwargs\n",
    ")"
   ]
  },
  {
   "cell_type": "code",
   "execution_count": 35,
   "id": "a548a9c2",
   "metadata": {},
   "outputs": [
    {
     "name": "stdout",
     "output_type": "stream",
     "text": [
      "HeteroData(\n",
      "  PATIENT={\n",
      "    x=[203275, 7],\n",
      "    y=[203275],\n",
      "    train_mask=[203275],\n",
      "    val_mask=[203275],\n",
      "    test_l_mask=[203275],\n",
      "    test_gw_mask=[203275],\n",
      "    n_id=[203275],\n",
      "    num_sampled_nodes=[3],\n",
      "    input_id=[203015],\n",
      "    batch_size=203015,\n",
      "  },\n",
      "  HGB={\n",
      "    x=[12, 3],\n",
      "    n_id=[12],\n",
      "    num_sampled_nodes=[3],\n",
      "  },\n",
      "  WBC={\n",
      "    x=[12, 3],\n",
      "    n_id=[12],\n",
      "    num_sampled_nodes=[3],\n",
      "  },\n",
      "  RBC={\n",
      "    x=[12, 3],\n",
      "    n_id=[12],\n",
      "    num_sampled_nodes=[3],\n",
      "  },\n",
      "  MCV={\n",
      "    x=[12, 3],\n",
      "    n_id=[12],\n",
      "    num_sampled_nodes=[3],\n",
      "  },\n",
      "  PLT={\n",
      "    x=[12, 3],\n",
      "    n_id=[12],\n",
      "    num_sampled_nodes=[3],\n",
      "  },\n",
      "  (PATIENT, HAS, HGB)={\n",
      "    edge_index=[2, 60],\n",
      "    e_id=[60],\n",
      "    num_sampled_edges=[2],\n",
      "  },\n",
      "  (PATIENT, HAS, WBC)={\n",
      "    edge_index=[2, 60],\n",
      "    e_id=[60],\n",
      "    num_sampled_edges=[2],\n",
      "  },\n",
      "  (PATIENT, HAS, RBC)={\n",
      "    edge_index=[2, 60],\n",
      "    e_id=[60],\n",
      "    num_sampled_edges=[2],\n",
      "  },\n",
      "  (PATIENT, HAS, MCV)={\n",
      "    edge_index=[2, 60],\n",
      "    e_id=[60],\n",
      "    num_sampled_edges=[2],\n",
      "  },\n",
      "  (PATIENT, HAS, PLT)={\n",
      "    edge_index=[2, 60],\n",
      "    e_id=[60],\n",
      "    num_sampled_edges=[2],\n",
      "  },\n",
      "  (HGB, rev_HAS, PATIENT)={\n",
      "    edge_index=[2, 203015],\n",
      "    e_id=[203015],\n",
      "    num_sampled_edges=[2],\n",
      "  },\n",
      "  (WBC, rev_HAS, PATIENT)={\n",
      "    edge_index=[2, 203015],\n",
      "    e_id=[203015],\n",
      "    num_sampled_edges=[2],\n",
      "  },\n",
      "  (RBC, rev_HAS, PATIENT)={\n",
      "    edge_index=[2, 203015],\n",
      "    e_id=[203015],\n",
      "    num_sampled_edges=[2],\n",
      "  },\n",
      "  (MCV, rev_HAS, PATIENT)={\n",
      "    edge_index=[2, 203015],\n",
      "    e_id=[203015],\n",
      "    num_sampled_edges=[2],\n",
      "  },\n",
      "  (PLT, rev_HAS, PATIENT)={\n",
      "    edge_index=[2, 203015],\n",
      "    e_id=[203015],\n",
      "    num_sampled_edges=[2],\n",
      "  }\n",
      ")\n"
     ]
    }
   ],
   "source": [
    "for batch, sub_graph in enumerate(val_loader):\n",
    "    print(sub_graph)\n",
    "    break"
   ]
  },
  {
   "cell_type": "markdown",
   "id": "7e2a6b14",
   "metadata": {},
   "source": [
    "## Model-Wrapper Class"
   ]
  },
  {
   "cell_type": "code",
   "execution_count": 36,
   "id": "96602f38",
   "metadata": {},
   "outputs": [],
   "source": [
    "import torch \n",
    "from torch_geometric.nn import to_hetero\n",
    "from tqdm.notebook import tqdm\n",
    "\n",
    "class ModelWrapper():\n",
    "    def __init__(self, graph):\n",
    "        self.LEARNING_RATE = 3e-4\n",
    "        self.MAX_EPOCHS = 10_000\n",
    "        \n",
    "        self.graph = graph\n",
    "#         model = HetGraphNeuralNetwork(graph.metadata(),graph.node_types, hidden_dim = 128, out_channels=1) \n",
    "        model = GraphNeuralNetwork(hidden_dim = 128, out_channels=1)         \n",
    "        model = to_hetero(model, graph.metadata(), aggr='sum')\n",
    "        self.model = model.to(device)\n",
    "        self.optimizer = torch.optim.Adam(self.model.parameters(), lr=self.LEARNING_RATE,betas=(0.9, 0.999), eps=1e-08)\n",
    "        \n",
    "        self.last_loss = 0\n",
    "        self.increased_loss = 0\n",
    "        self.BREAKING_THRESHOLD = 5    \n",
    "        self.val_loss = []\n",
    "        self.train_loss = []\n",
    "    \n",
    "    def validate(self):\n",
    "        with torch.inference_mode():\n",
    "            self.model.eval()\n",
    "            acc_loss = 0\n",
    "            batch_size = 0\n",
    "            for batch, sub_graph in enumerate(val_loader):\n",
    "                \n",
    "                out = self.model(sub_graph.x_dict, sub_graph.edge_index_dict)[PATIENT_NAME]\n",
    "                loss = F.binary_cross_entropy_with_logits(torch.squeeze(out), sub_graph[PATIENT_NAME].y.type(torch.float32),\n",
    "                                                          pos_weight=WEIGHT)\n",
    "                # loss = F.binary_cross_entropy_with_logits(torch.squeeze(out[val_mask]), sub_graph[PATIENT_NAME].y[val_mask].type(torch.float32),\n",
    "                #                                           pos_weight=WEIGHT)\n",
    "                acc_loss += loss.item()\n",
    "                batch_size += 1\n",
    "            avg_loss = acc_loss / batch_size\n",
    "            self.val_loss.append(avg_loss)\n",
    "            if avg_loss > self.last_loss:\n",
    "                self.increased_loss += 1\n",
    "            else:\n",
    "                self.increased_loss = 0\n",
    "            self.last_loss = avg_loss\n",
    "\n",
    "    def train(self):\n",
    "        for epoch in tqdm(range(self.MAX_EPOCHS)):\n",
    "            acc_loss = 0\n",
    "            batch_size = 0\n",
    "            for batch, sub_graph in enumerate(loader):\n",
    "                self.model.train()\n",
    "                self.optimizer.zero_grad()\n",
    "                out = self.model(sub_graph.x_dict, sub_graph.edge_index_dict)[PATIENT_NAME]\n",
    "                loss = F.binary_cross_entropy_with_logits(torch.squeeze(out), sub_graph[PATIENT_NAME].y.type(torch.float32),\n",
    "                                                          pos_weight=WEIGHT)\n",
    "                # loss = F.binary_cross_entropy_with_logits(torch.squeeze(out[train_mask]), sub_graph[PATIENT_NAME].y[train_mask].type(torch.float32),\n",
    "                #                                           pos_weight=WEIGHT)\n",
    "                acc_loss += loss.item()\n",
    "                batch_size += 1\n",
    "            avg_loss = acc_loss / batch_size\n",
    "            self.train_loss.append(avg_loss)\n",
    "            loss.backward()\n",
    "            self.optimizer.step()\n",
    "            self.validate() \n",
    "\n",
    "            if self.increased_loss >= self.BREAKING_THRESHOLD:\n",
    "                print(f\"Breaked at {str(epoch)}\")\n",
    "                break\n",
    "                \n",
    "            \n",
    "    def get_model(self):\n",
    "        return self.model    \n",
    "    \n",
    "    def plot_loss(self):\n",
    "        plt.plot(self.epochs, self.train_loss, 'g', label='Training loss')\n",
    "        plt.plot(self.epochs, self.val_loss, 'y', label='Validation loss')\n",
    "        plt.xlabel('Epochs')\n",
    "        plt.ylabel('Loss')\n",
    "        plt.legend()\n",
    "        plt.show()"
   ]
  },
  {
   "cell_type": "code",
   "execution_count": 37,
   "id": "c5fc9815",
   "metadata": {},
   "outputs": [
    {
     "data": {
      "application/vnd.jupyter.widget-view+json": {
       "model_id": "ace3b287a24c403086dae1df21d6e086",
       "version_major": 2,
       "version_minor": 0
      },
      "text/plain": [
       "  0%|          | 0/2000 [00:00<?, ?it/s]"
      ]
     },
     "metadata": {},
     "output_type": "display_data"
    },
    {
     "name": "stdout",
     "output_type": "stream",
     "text": [
      "Breaked at 1057\n",
      "471.17649936676025\n"
     ]
    }
   ],
   "source": [
    "model_wrapper = ModelWrapper(graph)\n",
    "import time \n",
    "start = time.time()\n",
    "model_wrapper.train()\n",
    "print(time.time() - start )\n",
    "model = model_wrapper.get_model()"
   ]
  },
  {
   "cell_type": "code",
   "execution_count": 38,
   "id": "d60b8542-f29e-47af-b354-a0db6f99b30b",
   "metadata": {},
   "outputs": [
    {
     "data": {
      "text/plain": [
       "[<matplotlib.lines.Line2D at 0x7fa2f4e04c40>]"
      ]
     },
     "execution_count": 38,
     "metadata": {},
     "output_type": "execute_result"
    },
    {
     "data": {
      "image/png": "[encoded data removed]",
      "text/plain": [
       "<Figure size 640x480 with 1 Axes>"
      ]
     },
     "metadata": {},
     "output_type": "display_data"
    }
   ],
   "source": [
    "import matplotlib.pyplot as plt\n",
    "plt.plot(model_wrapper.val_loss)"
   ]
  },
  {
   "cell_type": "code",
   "execution_count": 20,
   "id": "c47edb28",
   "metadata": {},
   "outputs": [
    {
     "data": {
      "text/plain": [
       "HeteroData(\n",
       "  PATIENT={\n",
       "    x=[1819435, 7],\n",
       "    y=[1819435],\n",
       "    train_mask=[1819435],\n",
       "    val_mask=[1819435],\n",
       "    test_l_mask=[1819435],\n",
       "    test_gw_mask=[1819435],\n",
       "  },\n",
       "  HGB={ x=[12, 3] },\n",
       "  WBC={ x=[12, 3] },\n",
       "  RBC={ x=[12, 3] },\n",
       "  MCV={ x=[12, 3] },\n",
       "  PLT={ x=[12, 3] },\n",
       "  (PATIENT, HAS, HGB)={ edge_index=[2, 1819435] },\n",
       "  (PATIENT, HAS, WBC)={ edge_index=[2, 1819435] },\n",
       "  (PATIENT, HAS, RBC)={ edge_index=[2, 1819435] },\n",
       "  (PATIENT, HAS, MCV)={ edge_index=[2, 1819435] },\n",
       "  (PATIENT, HAS, PLT)={ edge_index=[2, 1819435] },\n",
       "  (HGB, rev_HAS, PATIENT)={ edge_index=[2, 1819435] },\n",
       "  (WBC, rev_HAS, PATIENT)={ edge_index=[2, 1819435] },\n",
       "  (RBC, rev_HAS, PATIENT)={ edge_index=[2, 1819435] },\n",
       "  (MCV, rev_HAS, PATIENT)={ edge_index=[2, 1819435] },\n",
       "  (PLT, rev_HAS, PATIENT)={ edge_index=[2, 1819435] }\n",
       ")"
      ]
     },
     "execution_count": 20,
     "metadata": {},
     "output_type": "execute_result"
    }
   ],
   "source": [
    "graph"
   ]
  },
  {
   "cell_type": "markdown",
   "id": "bab05a48",
   "metadata": {},
   "source": [
    "## Error evaluation"
   ]
  },
  {
   "cell_type": "code",
   "execution_count": null,
   "id": "dc76c44d",
   "metadata": {
    "scrolled": true
   },
   "outputs": [],
   "source": [
    "import time\n",
    "from dataAnalysis.Metrics import Evaluation\n",
    "\n",
    "number_of_iterations = 100\n",
    "dataframes = []\n",
    "for i in range(number_of_iterations):\n",
    "    graph = graph.to(device)\n",
    "    \n",
    "    \n",
    "    start = time.time()\n",
    "    model_wrapper = ModelWrapper(graph)\n",
    "    model_wrapper.train()\n",
    "    print(time.time() - start)\n",
    "    \n",
    "    def predict_proba(graph, mask):\n",
    "        with torch.inference_mode():\n",
    "            model.eval()\n",
    "            logits = model(graph.x_dict, graph.edge_index_dict)[PATIENT_NAME]\n",
    "            scores = torch.sigmoid(torch.squeeze(logits[mask]))\n",
    "            scores = torch.unsqueeze(scores, 0)\n",
    "            proba_predict = torch.concat((1- scores, scores), dim = 0)\n",
    "        return torch.transpose(proba_predict, 0, 1)\n",
    "\n",
    "    def predict(graph, mask):\n",
    "        pred = torch.round(predict_proba(graph, mask)[:, 1])\n",
    "        return pred\n",
    "    model = model_wrapper.get_model()\n",
    "    model.predict_proba = predict_proba\n",
    "    model.predict = predict\n",
    "\n",
    "    graph = graph.cpu()\n",
    "    model = model.cpu()\n",
    "    evaluation = Evaluation(y_test, y_gw_test, X_test, X_gw_test)\n",
    "    evaluation.set_test_args([graph, test_l_mask])\n",
    "    evaluation.set_gw_args([graph, test_gw_mask])\n",
    "    \n",
    "    df = evaluation.get_df_metrics(model)\n",
    "    dataframes.append(df)\n",
    "for df in dataframes:\n",
    "    print(df)"
   ]
  },
  {
   "cell_type": "markdown",
   "id": "1ce472c7",
   "metadata": {},
   "source": [
    "## Evaluation"
   ]
  },
  {
   "cell_type": "code",
   "execution_count": 39,
   "id": "0edee9b7",
   "metadata": {},
   "outputs": [],
   "source": [
    "def predict_proba(graph, mask):\n",
    "    with torch.inference_mode():\n",
    "        model.eval()\n",
    "        logits = model(graph.x_dict, graph.edge_index_dict)[PATIENT_NAME]\n",
    "        scores = torch.sigmoid(torch.squeeze(logits[mask]))\n",
    "        scores = torch.unsqueeze(scores, 0)\n",
    "        proba_predict = torch.concat((1- scores, scores), dim = 0)\n",
    "    return torch.transpose(proba_predict, 0, 1)\n",
    "\n",
    "def predict(graph, mask):\n",
    "    pred = torch.round(predict_proba(graph, mask)[:, 1])\n",
    "    return pred\n",
    "\n",
    "model.predict_proba = predict_proba\n",
    "model.predict = predict"
   ]
  },
  {
   "cell_type": "code",
   "execution_count": 40,
   "id": "5712883c-7dac-46ed-a04b-8db09008926a",
   "metadata": {
    "scrolled": true
   },
   "outputs": [
    {
     "data": {
      "text/plain": [
       "HeteroData(\n",
       "  PATIENT={\n",
       "    x=[1819435, 7],\n",
       "    y=[1819435],\n",
       "    train_mask=[1819435],\n",
       "    val_mask=[1819435],\n",
       "    test_l_mask=[1819435],\n",
       "    test_gw_mask=[1819435],\n",
       "  },\n",
       "  HGB={ x=[12, 3] },\n",
       "  WBC={ x=[12, 3] },\n",
       "  RBC={ x=[12, 3] },\n",
       "  MCV={ x=[12, 3] },\n",
       "  PLT={ x=[12, 3] },\n",
       "  (PATIENT, HAS, HGB)={ edge_index=[2, 1819435] },\n",
       "  (PATIENT, HAS, WBC)={ edge_index=[2, 1819435] },\n",
       "  (PATIENT, HAS, RBC)={ edge_index=[2, 1819435] },\n",
       "  (PATIENT, HAS, MCV)={ edge_index=[2, 1819435] },\n",
       "  (PATIENT, HAS, PLT)={ edge_index=[2, 1819435] },\n",
       "  (HGB, rev_HAS, PATIENT)={ edge_index=[2, 1819435] },\n",
       "  (WBC, rev_HAS, PATIENT)={ edge_index=[2, 1819435] },\n",
       "  (RBC, rev_HAS, PATIENT)={ edge_index=[2, 1819435] },\n",
       "  (MCV, rev_HAS, PATIENT)={ edge_index=[2, 1819435] },\n",
       "  (PLT, rev_HAS, PATIENT)={ edge_index=[2, 1819435] }\n",
       ")"
      ]
     },
     "execution_count": 40,
     "metadata": {},
     "output_type": "execute_result"
    }
   ],
   "source": [
    "graph"
   ]
  },
  {
   "cell_type": "code",
   "execution_count": 41,
   "id": "5da76ec2",
   "metadata": {},
   "outputs": [],
   "source": [
    "from dataAnalysis.Metrics import Evaluation\n",
    "\n",
    "graph = graph.cpu()\n",
    "model = model.cpu()\n",
    "evaluation = Evaluation(y_test, y_gw_test, X_test, X_gw_test)\n",
    "evaluation.set_test_args([graph, test_l_mask])\n",
    "evaluation.set_gw_args([graph, test_gw_mask])\n",
    "# evaluation.set_test_args([graph, torch.ones(X_test.shape[0]).type(torch.bool)])\n",
    "# evaluation.set_gw_args([graph, graph, torch.ones(X_gw_test.shape[0]).type(torch.bool)])"
   ]
  },
  {
   "cell_type": "code",
   "execution_count": 42,
   "id": "cc4e1c58",
   "metadata": {},
   "outputs": [
    {
     "data": {
      "text/html": [
       "<div>\n",
       "<style scoped>\n",
       "    .dataframe tbody tr th:only-of-type {\n",
       "        vertical-align: middle;\n",
       "    }\n",
       "\n",
       "    .dataframe tbody tr th {\n",
       "        vertical-align: top;\n",
       "    }\n",
       "\n",
       "    .dataframe thead th {\n",
       "        text-align: right;\n",
       "    }\n",
       "</style>\n",
       "<table border=\"1\" class=\"dataframe\">\n",
       "  <thead>\n",
       "    <tr style=\"text-align: right;\">\n",
       "      <th></th>\n",
       "      <th>Name</th>\n",
       "      <th>MCC</th>\n",
       "      <th>F1-Micro</th>\n",
       "      <th>F1-Macro</th>\n",
       "      <th>F1-Binary</th>\n",
       "      <th>AUROC</th>\n",
       "      <th>AUPRC</th>\n",
       "    </tr>\n",
       "  </thead>\n",
       "  <tbody>\n",
       "    <tr>\n",
       "      <th>0</th>\n",
       "      <td>Leipzig</td>\n",
       "      <td>0.051228</td>\n",
       "      <td>0.776509</td>\n",
       "      <td>0.441813</td>\n",
       "      <td>0.009582</td>\n",
       "      <td>0.878598</td>\n",
       "      <td>0.018007</td>\n",
       "    </tr>\n",
       "    <tr>\n",
       "      <th>1</th>\n",
       "      <td>Greifswald</td>\n",
       "      <td>0.032154</td>\n",
       "      <td>0.656636</td>\n",
       "      <td>0.398696</td>\n",
       "      <td>0.004869</td>\n",
       "      <td>0.815664</td>\n",
       "      <td>0.008026</td>\n",
       "    </tr>\n",
       "  </tbody>\n",
       "</table>\n",
       "</div>"
      ],
      "text/plain": [
       "         Name       MCC  F1-Micro  F1-Macro  F1-Binary     AUROC     AUPRC\n",
       "0     Leipzig  0.051228  0.776509  0.441813   0.009582  0.878598  0.018007\n",
       "1  Greifswald  0.032154  0.656636  0.398696   0.004869  0.815664  0.008026"
      ]
     },
     "execution_count": 42,
     "metadata": {},
     "output_type": "execute_result"
    },
    {
     "data": {
      "image/png": "[encoded data removed]",
      "text/plain": [
       "<Figure size 640x480 with 2 Axes>"
      ]
     },
     "metadata": {},
     "output_type": "display_data"
    }
   ],
   "source": [
    "evaluation.plot_confusion_matrix(model)\n",
    "evaluation.get_df_metrics(model)"
   ]
  },
  {
   "cell_type": "markdown",
   "id": "e59a6d51-2466-4a78-9a96-f0dbf8ba9a14",
   "metadata": {},
   "source": [
    "## Partial dependence"
   ]
  },
  {
   "cell_type": "code",
   "execution_count": 27,
   "id": "f6127ea4-559f-427d-8c75-33800fed9fcc",
   "metadata": {},
   "outputs": [
    {
     "data": {
      "application/vnd.jupyter.widget-view+json": {
       "model_id": "c346805bed0b4a5f8acb53fc3183c5d5",
       "version_major": 2,
       "version_minor": 0
      },
      "text/plain": [
       "  0%|          | 0/7 [00:00<?, ?it/s]"
      ]
     },
     "metadata": {},
     "output_type": "display_data"
    }
   ],
   "source": [
    "from feature_variation.PartialDependence import PartialDependence\n",
    "\n",
    "def create_graph(X, edge_index = None):\n",
    "    graph = HeteroData()\n",
    "    graph[PATIENT_NAME].x = X\n",
    "    add_features_and_edges(graph)\n",
    "    graph = T.ToUndirected()(graph)\n",
    "    graph[PATIENT_NAME].x = torch.from_numpy(scaler.transform(graph[PATIENT_NAME].x)).type(torch.float)\n",
    "    return graph\n",
    "    \n",
    "partial_dependence = PartialDependence(model.cpu(), X_train.cpu(), create_graph  = create_graph)\n",
    "partial_dependence.write_partial_dependence_values(\"Heterogeneous_SAGE_GNN\")"
   ]
  },
  {
   "cell_type": "code",
   "execution_count": 28,
   "id": "91348cf9-11c0-48ef-9884-0d15dad0adea",
   "metadata": {},
   "outputs": [
    {
     "data": {
      "text/plain": [
       "{0: array([0.0726921 , 0.07448997, 0.07627126, 0.07803404, 0.07978062,\n",
       "        0.0815109 , 0.08322015, 0.08491196, 0.08658582, 0.08825033,\n",
       "        0.08991631, 0.0915916 , 0.09328703, 0.09501752, 0.09679674,\n",
       "        0.09864537, 0.10057876, 0.10262204, 0.10479003, 0.10710323,\n",
       "        0.1095698 , 0.11220371, 0.11499396, 0.11791839, 0.1209543 ,\n",
       "        0.12406228, 0.1272269 , 0.13043594, 0.13366896, 0.1369195 ,\n",
       "        0.14017941, 0.14342731, 0.14668506, 0.14997558, 0.15330678,\n",
       "        0.15673043, 0.1603097 , 0.16410115, 0.16813473, 0.17241988,\n",
       "        0.17697142, 0.1818015 , 0.18688527, 0.19219595, 0.19769669,\n",
       "        0.20330033, 0.20895305, 0.21462539, 0.2202851 , 0.22590965,\n",
       "        0.23149587, 0.2370296 , 0.24248561, 0.24781623, 0.25299045,\n",
       "        0.25797063, 0.26266998, 0.26707274, 0.27111122, 0.27480474,\n",
       "        0.27815029, 0.28117999, 0.28385824, 0.28620625, 0.28818867,\n",
       "        0.28986472, 0.29117462, 0.29217836, 0.29281047, 0.29315209,\n",
       "        0.29313025, 0.29282373, 0.29217455, 0.29128298, 0.29008263,\n",
       "        0.28866714, 0.28703186, 0.28527287, 0.28335625, 0.28136349,\n",
       "        0.27931756, 0.27729291, 0.27523038, 0.27317208, 0.27115151,\n",
       "        0.26919812, 0.26725313, 0.26532388, 0.26348406]),\n",
       " 1: array([0.22329842, 0.15281156]),\n",
       " 2: array([0.68966377, 0.68233371, 0.67499661, 0.66770232, 0.66045278,\n",
       "        0.65318203, 0.6459499 , 0.63885206, 0.63186598, 0.6248253 ,\n",
       "        0.61771989, 0.61073792, 0.60381711, 0.59681153, 0.58975321,\n",
       "        0.58299309, 0.57618839, 0.56927133, 0.56252992, 0.5557583 ,\n",
       "        0.5490883 , 0.54231012, 0.53585756, 0.52921015, 0.52253038,\n",
       "        0.51576328, 0.50914747, 0.50247204, 0.49596986, 0.48937085,\n",
       "        0.4829129 , 0.4764016 , 0.47001222, 0.46356997, 0.45726642,\n",
       "        0.45094424, 0.44485426, 0.43934935, 0.43379056, 0.42842597,\n",
       "        0.42307892, 0.41779625, 0.41279769, 0.4078095 , 0.40295845,\n",
       "        0.39815897, 0.39347056, 0.38888958, 0.38436216, 0.3799344 ,\n",
       "        0.37568167, 0.37152714, 0.36747083, 0.36360118, 0.35993364,\n",
       "        0.35638681, 0.35301825, 0.34983283, 0.34680319, 0.34398901,\n",
       "        0.34141943, 0.33899286, 0.33679295, 0.33494419, 0.33315438,\n",
       "        0.33156902, 0.33021697, 0.32905301, 0.32832867, 0.32760414,\n",
       "        0.32710487, 0.32680777, 0.32674038, 0.32680699, 0.32727751,\n",
       "        0.32769963, 0.32859898, 0.3293457 , 0.33055541, 0.33192435,\n",
       "        0.33312169, 0.33484209, 0.33637962, 0.33845946, 0.34029293,\n",
       "        0.34269413, 0.34478828, 0.34753954, 0.3499743 , 0.35297716,\n",
       "        0.35574344, 0.3589589 , 0.36214516, 0.36567667, 0.36889336,\n",
       "        0.37267068, 0.37651563, 0.38044667, 0.38415387, 0.38825125]),\n",
       " 3: array([0.29476652, 0.29379615, 0.29268864, 0.29156908, 0.29132983,\n",
       "        0.29129815, 0.29101476, 0.29115647, 0.29219234, 0.29199848,\n",
       "        0.2927613 , 0.29430276, 0.295021  , 0.29630125, 0.29742184,\n",
       "        0.29855493, 0.30013651, 0.30127412, 0.30246711, 0.30419713,\n",
       "        0.30543089, 0.30699861, 0.3082377 , 0.30959505, 0.31131527,\n",
       "        0.31255081, 0.31420061, 0.31567612, 0.31716034, 0.31890556,\n",
       "        0.32040891, 0.32215115, 0.32392964, 0.32564673, 0.32728866,\n",
       "        0.32898259, 0.33072653, 0.33236283, 0.33407712, 0.33576158,\n",
       "        0.33740878, 0.33906227, 0.34070355, 0.3423287 , 0.34393489,\n",
       "        0.34553435, 0.34710515, 0.34866384, 0.35023257, 0.35175356,\n",
       "        0.35332295, 0.35484341, 0.3563562 , 0.35786214, 0.35943365,\n",
       "        0.3610113 , 0.36255676, 0.364012  , 0.36557308, 0.36715126,\n",
       "        0.36879611, 0.37025666, 0.37195525, 0.37352708, 0.37508804,\n",
       "        0.37683079, 0.37831399, 0.38010383, 0.38168657, 0.38324729,\n",
       "        0.38503215, 0.38662559, 0.3882089 , 0.39011556, 0.39179793,\n",
       "        0.39356169, 0.39530471, 0.3971203 , 0.39893952, 0.40076923,\n",
       "        0.40289694, 0.40488812, 0.40661457, 0.40887848, 0.41098377,\n",
       "        0.41298643, 0.41523913, 0.41756403, 0.4196845 , 0.42212388,\n",
       "        0.42478031, 0.42692918, 0.42955709, 0.43236226, 0.43512675,\n",
       "        0.43749365, 0.44051433, 0.44345227, 0.44612369, 0.44923195]),\n",
       " 4: array([0.67496574, 0.66584307, 0.65681922, 0.64785737, 0.63853949,\n",
       "        0.6295045 , 0.62051642, 0.61146027, 0.6022743 , 0.59324443,\n",
       "        0.58432758, 0.57542473, 0.56637079, 0.55742395, 0.54862475,\n",
       "        0.53979731, 0.53106916, 0.52242458, 0.51404005, 0.50564998,\n",
       "        0.49755085, 0.48957953, 0.48175189, 0.47413692, 0.46665296,\n",
       "        0.45942953, 0.45235005, 0.44552329, 0.43881023, 0.43241236,\n",
       "        0.42618641, 0.42031696, 0.41465339, 0.40936887, 0.40431306,\n",
       "        0.39964935, 0.39528298, 0.39133409, 0.38772789, 0.384507  ,\n",
       "        0.38168812, 0.37926379, 0.37724775, 0.37566727, 0.37446818,\n",
       "        0.37373   , 0.37344536, 0.37363276, 0.37427443, 0.37537017,\n",
       "        0.37693954, 0.37895837, 0.38147786, 0.38452613, 0.38805962,\n",
       "        0.39215437, 0.39675885, 0.40187752, 0.4074626 , 0.41350719,\n",
       "        0.42007837, 0.42713341, 0.4346315 , 0.44255552, 0.45091829,\n",
       "        0.4597072 , 0.46890873, 0.47852999, 0.48854077, 0.49894473,\n",
       "        0.5097214 , 0.52086115, 0.53238195, 0.5444448 , 0.55694783,\n",
       "        0.56971401, 0.58267516, 0.59587783, 0.60930622, 0.62282354,\n",
       "        0.63637859, 0.64990789, 0.6634655 , 0.67699951, 0.69047052,\n",
       "        0.70385712, 0.71711493, 0.73013973, 0.7428059 , 0.75509155,\n",
       "        0.76699907, 0.77855098, 0.78963375, 0.80031872, 0.81049675,\n",
       "        0.82028669, 0.82957315, 0.83839262, 0.8466658 , 0.85444927]),\n",
       " 5: array([0.39855215, 0.39295679, 0.3872405 , 0.38175455, 0.37641832,\n",
       "        0.37103754, 0.36553019, 0.36028528, 0.35511327, 0.34999681,\n",
       "        0.34474462, 0.33980143, 0.33483812, 0.33005702, 0.32539788,\n",
       "        0.32060465, 0.31614155, 0.31152412, 0.30728883, 0.30291125,\n",
       "        0.29890999, 0.29479793, 0.29105154, 0.28722936, 0.28383297,\n",
       "        0.28039759, 0.27731222, 0.27420846, 0.27144161, 0.26870948,\n",
       "        0.26628503, 0.26396579, 0.26187992, 0.25996602, 0.25824004,\n",
       "        0.25683007, 0.25545642, 0.25427347, 0.25328138, 0.25247043,\n",
       "        0.25186515, 0.25143969, 0.2512008 , 0.25115737, 0.25132081,\n",
       "        0.25167054, 0.25222197, 0.25297776, 0.2539086 , 0.25502056,\n",
       "        0.25630069, 0.25776112, 0.25939402, 0.26120785, 0.26318505,\n",
       "        0.26535034, 0.26769537, 0.2702224 , 0.27292818, 0.27579817,\n",
       "        0.27883771, 0.28205574, 0.28542751, 0.28896201, 0.29266468,\n",
       "        0.29653108, 0.30057481, 0.30479106, 0.3090443 , 0.31359893,\n",
       "        0.31810081, 0.32297426, 0.32771075, 0.3328433 , 0.33779353,\n",
       "        0.34316635, 0.34829399, 0.35400587, 0.3592816 , 0.36504972,\n",
       "        0.37045142, 0.3763369 , 0.38190672, 0.38788718, 0.39345166,\n",
       "        0.39942691, 0.40526876, 0.41132402, 0.41693044, 0.42289165,\n",
       "        0.4288851 , 0.43482253, 0.4403747 , 0.44621551, 0.45222521,\n",
       "        0.45800433, 0.46339783, 0.46971717, 0.4753553 , 0.4806222 ]),\n",
       " 6: array([0.43436185, 0.43083242, 0.42678642, 0.42214733, 0.41703999,\n",
       "        0.41165134, 0.40600273, 0.40006486, 0.39385948, 0.38756049,\n",
       "        0.3811318 , 0.37459725, 0.36799359, 0.36131272, 0.35461622,\n",
       "        0.34785855, 0.34116468, 0.33443639, 0.32777849, 0.32110062,\n",
       "        0.31450787, 0.30792528, 0.30141908, 0.29492918, 0.28853554,\n",
       "        0.28218016, 0.27591801, 0.26971176, 0.26361611, 0.25761488,\n",
       "        0.25170079, 0.24590603, 0.24021377, 0.23464209, 0.2291833 ,\n",
       "        0.22384046, 0.21861029, 0.21350144, 0.2084998 , 0.20361239,\n",
       "        0.19883436, 0.19416797, 0.18960205, 0.18514097, 0.18078512,\n",
       "        0.17652972, 0.17237575, 0.16832431, 0.16437717, 0.1605362 ,\n",
       "        0.1568003 , 0.15317129, 0.14965214, 0.14623974, 0.14293544,\n",
       "        0.13974437, 0.13666505, 0.13369569, 0.13083692, 0.12807789,\n",
       "        0.12542401, 0.12287152, 0.12041197, 0.11805195, 0.11578929,\n",
       "        0.11362538, 0.1115566 , 0.1095838 , 0.10770237, 0.10592191,\n",
       "        0.10423409, 0.1026393 , 0.10112947, 0.09971426, 0.09837199,\n",
       "        0.09711439, 0.09592919, 0.09482601, 0.09379493, 0.09282622,\n",
       "        0.09193472, 0.09109903, 0.09034293, 0.08963588, 0.08899633,\n",
       "        0.08840621, 0.08787126, 0.08737338, 0.0869279 , 0.08651583,\n",
       "        0.08614331, 0.0857915 , 0.08547411, 0.08518617, 0.08491176,\n",
       "        0.08465885, 0.08442858, 0.08421221, 0.08400236, 0.08381939])}"
      ]
     },
     "execution_count": 28,
     "metadata": {},
     "output_type": "execute_result"
    }
   ],
   "source": [
    "partial_dependence.pdps"
   ]
  },
  {
   "cell_type": "markdown",
   "id": "db68c854",
   "metadata": {},
   "source": [
    "## Maintain connection"
   ]
  },
  {
   "cell_type": "code",
   "execution_count": null,
   "id": "ee6dea04",
   "metadata": {},
   "outputs": [],
   "source": [
    "import time\n",
    "def sleeper(minutes):\n",
    "    for i in range(minutes):\n",
    "        time.sleep(60)\n",
    "        print(\"Still sleeping and waiting for you so you dont have to reconnect everything\")\n",
    "sleeper(60*24)"
   ]
  },
  {
   "cell_type": "code",
   "execution_count": null,
   "id": "ed5addcb",
   "metadata": {},
   "outputs": [],
   "source": []
  }
 ],
 "metadata": {
  "kernelspec": {
   "display_name": "Python 3 (ipykernel)",
   "language": "python",
   "name": "python3"
  },
  "language_info": {
   "codemirror_mode": {
    "name": "ipython",
    "version": 3
   },
   "file_extension": ".py",
   "mimetype": "text/x-python",
   "name": "python",
   "nbconvert_exporter": "python",
   "pygments_lexer": "ipython3",
   "version": "3.10.12"
  }
 },
 "nbformat": 4,
 "nbformat_minor": 5
}
