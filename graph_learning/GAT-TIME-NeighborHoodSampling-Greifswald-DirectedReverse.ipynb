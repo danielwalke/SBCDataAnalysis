{
 "cells": [
  {
   "cell_type": "markdown",
   "id": "a11a4ca8",
   "metadata": {},
   "source": [
    "## GAT"
   ]
  },
  {
   "cell_type": "code",
   "execution_count": 1,
   "id": "753513d7",
   "metadata": {},
   "outputs": [],
   "source": [
    "import sys\n",
    " \n",
    "sys.path.insert(0, \"../\")"
   ]
  },
  {
   "cell_type": "code",
   "execution_count": 2,
   "id": "9c344596",
   "metadata": {},
   "outputs": [
    {
     "name": "stderr",
     "output_type": "stream",
     "text": [
      "/home/dwalke/git/sbc/graph_learning/../dataAnalysis/data/Filter.py:34: SettingWithCopyWarning: \n",
      "A value is trying to be set on a copy of a slice from a DataFrame.\n",
      "Try using .loc[row_indexer,col_indexer] = value instead\n",
      "\n",
      "See the caveats in the documentation: https://pandas.pydata.org/pandas-docs/stable/user_guide/indexing.html#returning-a-view-versus-a-copy\n",
      "  self.data['Label'] = self.data['Diagnosis']\n"
     ]
    },
    {
     "name": "stdout",
     "output_type": "stream",
     "text": [
      "Training: \n",
      "Assessable data are 528101 cases and 1015074 CBCs\n",
      "Control data are 527038 cases and 1013548 CBCs\n",
      "Sepsis data are 1488 cases and 1526 CBCs\n",
      "$$$$$$$$$$$$$$$$$$$$\n",
      "Testing: \n"
     ]
    },
    {
     "name": "stderr",
     "output_type": "stream",
     "text": [
      "/home/dwalke/git/sbc/graph_learning/../dataAnalysis/data/Filter.py:34: SettingWithCopyWarning: \n",
      "A value is trying to be set on a copy of a slice from a DataFrame.\n",
      "Try using .loc[row_indexer,col_indexer] = value instead\n",
      "\n",
      "See the caveats in the documentation: https://pandas.pydata.org/pandas-docs/stable/user_guide/indexing.html#returning-a-view-versus-a-copy\n",
      "  self.data['Label'] = self.data['Diagnosis']\n"
     ]
    },
    {
     "name": "stdout",
     "output_type": "stream",
     "text": [
      "Controls: 365794, Sepsis: 490\n",
      "Assessable data are 180494 cases and 366284 CBCs\n",
      "Control data are 180157 cases and 365794 CBCs\n",
      "Sepsis data are 472 cases and 490 CBCs\n"
     ]
    },
    {
     "name": "stderr",
     "output_type": "stream",
     "text": [
      "/home/dwalke/git/sbc/graph_learning/../dataAnalysis/data/Filter.py:34: SettingWithCopyWarning: \n",
      "A value is trying to be set on a copy of a slice from a DataFrame.\n",
      "Try using .loc[row_indexer,col_indexer] = value instead\n",
      "\n",
      "See the caveats in the documentation: https://pandas.pydata.org/pandas-docs/stable/user_guide/indexing.html#returning-a-view-versus-a-copy\n",
      "  self.data['Label'] = self.data['Diagnosis']\n"
     ]
    },
    {
     "name": "stdout",
     "output_type": "stream",
     "text": [
      "Controls: 437629, Sepsis: 448\n",
      "Assessable data are 157922 cases and 438077 CBCs\n",
      "Control data are 180157 cases and 437629 CBCs\n",
      "Sepsis data are 438 cases and 448 CBCs\n"
     ]
    }
   ],
   "source": [
    "from dataAnalysis.DataAnalysis import DataAnalysis\n",
    "import pandas as pd\n",
    "import cudf\n",
    "import torch\n",
    "\n",
    "data = pd.read_csv(r\"../extdata/sbcdata.csv\", header=0)\n",
    "data_analysis = DataAnalysis(data)"
   ]
  },
  {
   "cell_type": "code",
   "execution_count": 3,
   "id": "1591ad15",
   "metadata": {},
   "outputs": [],
   "source": [
    "data = pd.concat((data_analysis.get_training_data(), data_analysis.get_testing_data()))"
   ]
  },
  {
   "cell_type": "code",
   "execution_count": 4,
   "id": "3297def4",
   "metadata": {},
   "outputs": [],
   "source": [
    "max_Id = data[\"Id\"].unique().max()"
   ]
  },
  {
   "cell_type": "code",
   "execution_count": 5,
   "id": "f42e4f36",
   "metadata": {},
   "outputs": [],
   "source": [
    "gw_data = data_analysis.get_gw_testing_data().copy(deep=True)\n",
    "gw_data = gw_data.assign(Id=lambda x: x.Id + max_Id)"
   ]
  },
  {
   "cell_type": "code",
   "execution_count": 6,
   "id": "7c81fe47",
   "metadata": {},
   "outputs": [],
   "source": [
    "data = pd.concat((data, gw_data))\n",
    "data = cudf.from_pandas(data)"
   ]
  },
  {
   "cell_type": "code",
   "execution_count": 7,
   "id": "1fedac24",
   "metadata": {},
   "outputs": [],
   "source": [
    "data = data.sort_values(\"Id\")"
   ]
  },
  {
   "cell_type": "code",
   "execution_count": 8,
   "id": "ac6d2fee",
   "metadata": {},
   "outputs": [],
   "source": [
    "unique_ids = data[\"Id\"].unique()"
   ]
  },
  {
   "cell_type": "code",
   "execution_count": 9,
   "id": "da8d8dcd",
   "metadata": {},
   "outputs": [],
   "source": [
    "data = data.reset_index(drop=True)"
   ]
  },
  {
   "cell_type": "code",
   "execution_count": 10,
   "id": "6556e31a",
   "metadata": {},
   "outputs": [
    {
     "data": {
      "text/plain": [
       "0          665587\n",
       "1          665588\n",
       "2          665589\n",
       "3          665590\n",
       "4          665591\n",
       "            ...  \n",
       "1819430    665580\n",
       "1819431    665584\n",
       "1819432    665582\n",
       "1819433    665585\n",
       "1819434    665586\n",
       "Name: index, Length: 1819435, dtype: int64"
      ]
     },
     "execution_count": 10,
     "metadata": {},
     "output_type": "execute_result"
    }
   ],
   "source": [
    "data.pop(\"index\")"
   ]
  },
  {
   "cell_type": "code",
   "execution_count": 11,
   "id": "94a7017d",
   "metadata": {},
   "outputs": [],
   "source": [
    "data = data.sort_values([\"Id\", \"Time\"])"
   ]
  },
  {
   "cell_type": "code",
   "execution_count": 12,
   "id": "9f8f505c",
   "metadata": {},
   "outputs": [],
   "source": [
    "data = data.reset_index(drop=True)"
   ]
  },
  {
   "cell_type": "markdown",
   "id": "06361768",
   "metadata": {},
   "source": [
    "## Creating edge index"
   ]
  },
  {
   "cell_type": "code",
   "execution_count": 13,
   "id": "9cbb0678",
   "metadata": {
    "scrolled": true
   },
   "outputs": [],
   "source": [
    "# import numpy as np\n",
    "# import cupy as cp\n",
    "# import time\n",
    "\n",
    "# source_edge_index = np.array([], dtype= cp.int32)\n",
    "# target_edge_index = np.array([], dtype= cp.int32)\n",
    "\n",
    "# start = time.time()\n",
    "# j = 0\n",
    "# for Id, group in data.groupby(\"Id\"):\n",
    "#     indices = group.index\n",
    "#     offset = indices[0]\n",
    "#     num_nodes = len(indices)\n",
    "#     edge_index = torch.zeros((2, sum(range(num_nodes + 1))), dtype=torch.long)+offset\n",
    "\n",
    "#     ## Self edges\n",
    "#     edge_index[:, 0:num_nodes] = (torch.arange(num_nodes) + offset).view(1, -1)\n",
    "#     idx = num_nodes\n",
    "#     for i in range(1, num_nodes):\n",
    "#         edge_index[1, idx:idx + i] = i+offset\n",
    "#         edge_index[0, idx:idx + i] = torch.arange(i)+offset\n",
    "#         idx += i\n",
    "    \n",
    "#     source_edge_index = np.concatenate((source_edge_index, edge_index[0, :].numpy()))\n",
    "#     target_edge_index = np.concatenate((target_edge_index, edge_index[1, :].numpy()))\n",
    "#     j+=1\n",
    "#     if j % 1000 == 0:\n",
    "#         print(f\"{str(j / unique_ids.shape[0] * 100)} %\")\n",
    "\n",
    "# print(time.time() - start )\n",
    "# print(source_edge_index.shape)\n",
    "# print(target_edge_index.shape)\n",
    "\n",
    "# edge_index = np.asarray([np.asarray(source_edge_index), np.asarray(target_edge_index)])\n",
    "# edge_index = torch.tensor(edge_index)\n",
    "# pd.DataFrame(edge_index.numpy().transpose()).to_csv(\"dir_edge_index_sorted_ids_w_gw_corr.csv\", index=False)"
   ]
  },
  {
   "cell_type": "code",
   "execution_count": 14,
   "id": "a95826d6",
   "metadata": {},
   "outputs": [],
   "source": [
    "import torch"
   ]
  },
  {
   "cell_type": "code",
   "execution_count": 15,
   "id": "756329ba",
   "metadata": {},
   "outputs": [],
   "source": [
    "import torch\n",
    "edge_index = torch.tensor(pd.read_csv(\"dir_edge_index_sorted_ids_w_gw_corr.csv\", header=None, skiprows=1).values.transpose(), dtype=torch.long)"
   ]
  },
  {
   "cell_type": "code",
   "execution_count": 16,
   "id": "b446b9a1",
   "metadata": {},
   "outputs": [],
   "source": [
    "from dataAnalysis.Constants import SEX_CATEGORY_COLUMN_NAME, SEX_COLUMN_NAME, FEATURES\n",
    "data[SEX_CATEGORY_COLUMN_NAME] = data.loc[:, SEX_COLUMN_NAME] ==\"W\""
   ]
  },
  {
   "cell_type": "code",
   "execution_count": 17,
   "id": "da53cffe",
   "metadata": {},
   "outputs": [],
   "source": [
    "data[SEX_CATEGORY_COLUMN_NAME] = data[SEX_CATEGORY_COLUMN_NAME].astype(\"int8\")\n",
    "data[\"Label\"] = data[\"Label\"] == \"Sepsis\"\n",
    "data[\"Label\"] = data[\"Label\"].astype(\"int8\")"
   ]
  },
  {
   "cell_type": "code",
   "execution_count": 18,
   "id": "d3aa4124",
   "metadata": {},
   "outputs": [],
   "source": [
    "import numpy as np\n",
    "import matplotlib.pyplot as plt\n",
    "\n",
    "def getPositionEncoding(seq_len, d = len(FEATURES), n=10000):\n",
    "    P = np.zeros((seq_len, d))\n",
    "    for k in range(seq_len):\n",
    "        for i in np.arange(int(d/2)):\n",
    "            denominator = np.power(n, 2*i/d)\n",
    "            P[k, 2*i] = np.sin(k/denominator)\n",
    "            P[k, 2*i+1] = np.cos(k/denominator)\n",
    "    return P"
   ]
  },
  {
   "cell_type": "code",
   "execution_count": 19,
   "id": "b5b293ab",
   "metadata": {},
   "outputs": [],
   "source": [
    "X_features = torch.tensor(data[FEATURES].values.get()).type(torch.float32)\n",
    "y = torch.tensor(data[\"Label\"].values.get()).type(torch.long)"
   ]
  },
  {
   "cell_type": "code",
   "execution_count": 20,
   "id": "c7923af3",
   "metadata": {},
   "outputs": [],
   "source": [
    "from dataAnalysis.FeatureImportance import normalize\n",
    "\n",
    "X_features = normalize(X_features)"
   ]
  },
  {
   "cell_type": "markdown",
   "id": "b84390e9",
   "metadata": {},
   "source": [
    "## Creating positional encodings"
   ]
  },
  {
   "cell_type": "code",
   "execution_count": 21,
   "id": "b5670b1e",
   "metadata": {
    "scrolled": true
   },
   "outputs": [],
   "source": [
    "# import numpy as np\n",
    "# import time\n",
    "\n",
    "# pos_encodings = None\n",
    "\n",
    "# start = time.time()\n",
    "# i = 0\n",
    "# final_shape = 0\n",
    "# for Id, group in data.groupby(\"Id\"):\n",
    "#     encoding = getPositionEncoding(group.shape[0])\n",
    "# #     sorted_group = group.reset_index().sort_values(\"Time\")\n",
    "# #     encoding = encoding[sorted_group.index.to_numpy()]\n",
    "#     final_shape += group.shape[0]\n",
    "#     pos_encodings = encoding if pos_encodings is None else np.concatenate((pos_encodings, encoding), axis=0)\n",
    "#     i+=1\n",
    "#     if i % 1000 == 0:\n",
    "#         print(f\"{str(i / unique_ids.shape[0] * 100)} %\")\n",
    "\n",
    "# print(pos_encodings.shape[0] == final_shape)\n",
    "# pd.DataFrame(pos_encodings).to_csv(\"pos_encodings_new_w_gw_corr.csv\", index=False)"
   ]
  },
  {
   "cell_type": "code",
   "execution_count": 22,
   "id": "fc415746",
   "metadata": {},
   "outputs": [],
   "source": [
    "pos_encodings = pd.read_csv(\"pos_encodings_new_w_gw_corr.csv\", header=None, skiprows=1)"
   ]
  },
  {
   "cell_type": "code",
   "execution_count": 23,
   "id": "61943440",
   "metadata": {},
   "outputs": [],
   "source": [
    "pos_encodings = pos_encodings.values"
   ]
  },
  {
   "cell_type": "code",
   "execution_count": 24,
   "id": "3e1f5f53",
   "metadata": {},
   "outputs": [
    {
     "data": {
      "text/plain": [
       "tensor([[ 1.1067, -0.9899,  0.4046,  ...,  0.3607, -0.4256, -0.6549],\n",
       "        [-1.2956, -0.9899,  2.0656,  ...,  2.3851, -1.3951, -0.3717],\n",
       "        [-0.6404,  1.0102,  0.8033,  ...,  0.3729,  0.1943,  0.5042],\n",
       "        ...,\n",
       "        [-0.1490, -0.9899,  0.4046,  ...,  0.5314, -0.1713, -0.1417],\n",
       "        [ 0.0693,  1.0102,  1.0690,  ...,  0.8973,  0.2102,  0.8493],\n",
       "        [ 0.0693,  1.0102,  1.4676,  ...,  1.3851,  0.4804,  1.1501]])"
      ]
     },
     "execution_count": 24,
     "metadata": {},
     "output_type": "execute_result"
    }
   ],
   "source": [
    "X_features"
   ]
  },
  {
   "cell_type": "code",
   "execution_count": 25,
   "id": "8ba9f843",
   "metadata": {},
   "outputs": [],
   "source": [
    "X_new_features = X_features + pos_encodings"
   ]
  },
  {
   "cell_type": "code",
   "execution_count": 26,
   "id": "ecfc5879",
   "metadata": {},
   "outputs": [
    {
     "data": {
      "text/plain": [
       "torch.Size([1819435, 7])"
      ]
     },
     "execution_count": 26,
     "metadata": {},
     "output_type": "execute_result"
    }
   ],
   "source": [
    "X_new_features.shape"
   ]
  },
  {
   "cell_type": "code",
   "execution_count": 27,
   "id": "37effc18",
   "metadata": {},
   "outputs": [],
   "source": [
    "def ratio_bool_switch(tensor, ratio = 0.8):\n",
    "    random = np.random.uniform(0, 1 ,tensor.shape[0])\n",
    "    val_ratio_mask = (random >= ratio)\n",
    "    train_ratio_mask = (random < ratio)\n",
    "    val_mask = np.logical_and(tensor.tolist(), val_ratio_mask.tolist())\n",
    "    train_mask = np.logical_and(tensor.tolist(), train_ratio_mask.tolist())\n",
    "    return torch.from_numpy(train_mask).type(torch.bool), torch.from_numpy(val_mask).type(torch.bool)"
   ]
  },
  {
   "cell_type": "code",
   "execution_count": 28,
   "id": "5476a15a",
   "metadata": {},
   "outputs": [],
   "source": [
    "from torch_geometric.utils import to_undirected\n",
    "\n",
    "# edge_index = to_undirected(edge_index)"
   ]
  },
  {
   "cell_type": "code",
   "execution_count": 29,
   "id": "9d1b85e9",
   "metadata": {},
   "outputs": [],
   "source": [
    "rev_edge_index = torch.zeros_like(edge_index)\n",
    "index = torch.LongTensor([1,0])\n",
    "rev_edge_index[index] = edge_index"
   ]
  },
  {
   "cell_type": "code",
   "execution_count": 30,
   "id": "f04d8949",
   "metadata": {},
   "outputs": [
    {
     "data": {
      "text/plain": [
       "tensor([[      0,       1,       2,  ..., 1819433, 1819434, 1819434],\n",
       "        [      0,       1,       2,  ..., 1819433, 1819434, 1819433]])"
      ]
     },
     "execution_count": 30,
     "metadata": {},
     "output_type": "execute_result"
    }
   ],
   "source": [
    "rev_edge_index"
   ]
  },
  {
   "cell_type": "code",
   "execution_count": 31,
   "id": "c2ae8cbf",
   "metadata": {},
   "outputs": [],
   "source": [
    "from torch_geometric.data import Data\n",
    "\n",
    "train_mask_ser = data[\"Set\"] != \"Validation\"\n",
    "train_mask, val_mask = ratio_bool_switch(train_mask_ser.values)\n",
    "test_mask = torch.from_numpy(np.logical_and((data[\"Set\"] == \"Validation\").values.get(), (data[\"Center\"] == \"Leipzig\").values.get())).type(torch.bool)\n",
    "test_gw_mask = torch.from_numpy(np.logical_and((data[\"Set\"] == \"Validation\").values.get(), (data[\"Center\"] == \"Greifswald\").values.get())).type(torch.bool)\n",
    "graph = Data(x=X_new_features, train_mask = train_mask, test_mask=test_mask, val_mask=val_mask, y= y, edge_index=edge_index,\n",
    "             test_gw_mask = test_gw_mask)"
   ]
  },
  {
   "cell_type": "code",
   "execution_count": 52,
   "id": "a66cdd45",
   "metadata": {},
   "outputs": [],
   "source": [
    "graph = Data(x=X_new_features, train_mask = train_mask, test_mask=test_mask, val_mask=val_mask, y= y, edge_index=rev_edge_index,\n",
    "             test_gw_mask = test_gw_mask)\n",
    "graph = Data(x=X_features, train_mask = train_mask, test_mask=test_mask, val_mask=val_mask, y= y, edge_index=rev_edge_index,\n",
    "             test_gw_mask = test_gw_mask)"
   ]
  },
  {
   "cell_type": "code",
   "execution_count": 53,
   "id": "582df19e",
   "metadata": {},
   "outputs": [
    {
     "data": {
      "text/plain": [
       "tensor(1819435)"
      ]
     },
     "execution_count": 53,
     "metadata": {},
     "output_type": "execute_result"
    }
   ],
   "source": [
    "test_gw_mask.sum() + test_mask.sum()+val_mask.sum()+train_mask.sum()"
   ]
  },
  {
   "cell_type": "code",
   "execution_count": 54,
   "id": "eee4dd4e",
   "metadata": {},
   "outputs": [
    {
     "data": {
      "text/plain": [
       "tensor([[      0,       1,       2,  ..., 1819433, 1819434, 1819434],\n",
       "        [      0,       1,       2,  ..., 1819433, 1819434, 1819433]])"
      ]
     },
     "execution_count": 54,
     "metadata": {},
     "output_type": "execute_result"
    }
   ],
   "source": [
    "graph.edge_index"
   ]
  },
  {
   "cell_type": "code",
   "execution_count": 55,
   "id": "03ea4ad7",
   "metadata": {},
   "outputs": [],
   "source": [
    "graph = graph.cpu()"
   ]
  },
  {
   "cell_type": "code",
   "execution_count": 56,
   "id": "92b1d9ba",
   "metadata": {},
   "outputs": [
    {
     "data": {
      "text/plain": [
       "Data(x=[1819435, 7], edge_index=[2, 7259211], y=[1819435], train_mask=[1819435], test_mask=[1819435], val_mask=[1819435], test_gw_mask=[1819435])"
      ]
     },
     "execution_count": 56,
     "metadata": {},
     "output_type": "execute_result"
    }
   ],
   "source": [
    "graph"
   ]
  },
  {
   "cell_type": "code",
   "execution_count": 57,
   "id": "66aca9eb",
   "metadata": {},
   "outputs": [],
   "source": [
    "from torch_geometric.loader import NeighborLoader\n",
    "\n",
    "kwargs = {\n",
    "    \"num_neighbors\":[-1] * 2,\n",
    "    \"batch_size\":50_000\n",
    "}\n",
    "loader = NeighborLoader(\n",
    "    graph,\n",
    "    input_nodes=graph.train_mask,\n",
    "    **kwargs\n",
    ")\n",
    "val_loader = NeighborLoader(\n",
    "    graph,\n",
    "    input_nodes=graph.val_mask,\n",
    "    **kwargs\n",
    ")"
   ]
  },
  {
   "cell_type": "code",
   "execution_count": 58,
   "id": "cb2089f8",
   "metadata": {},
   "outputs": [
    {
     "name": "stdout",
     "output_type": "stream",
     "text": [
      "Data shifted to the device cuda:1\n"
     ]
    }
   ],
   "source": [
    "device = torch.device(\"cuda:1\") if torch.cuda.is_available() else torch.device(\"cpu\")\n",
    "\n",
    "# graph = graph.to(device)\n",
    "WEIGHT = torch.tensor([664*2/3])#\n",
    "WEIGHT = WEIGHT.to(device)\n",
    "\n",
    "print(\"Data shifted to the device \" + str(device))"
   ]
  },
  {
   "cell_type": "code",
   "execution_count": 59,
   "id": "2fd1bb95",
   "metadata": {},
   "outputs": [
    {
     "data": {
      "text/plain": [
       "tensor(202585)"
      ]
     },
     "execution_count": 59,
     "metadata": {},
     "output_type": "execute_result"
    }
   ],
   "source": [
    "graph.val_mask.sum()"
   ]
  },
  {
   "cell_type": "code",
   "execution_count": 60,
   "id": "54eb5965",
   "metadata": {},
   "outputs": [],
   "source": [
    "import torch.nn.functional as F\n",
    "from torch_geometric.nn import GATConv, GCNConv,GATv2Conv, GINConv, global_add_pool, SAGEConv\n",
    "from torch.nn import Linear\n",
    "import torch\n",
    "from dataAnalysis.Constants import FEATURES\n",
    "from torch.nn import Linear, ReLU, Sequential\n",
    "from torch.nn import BatchNorm1d as BatchNorm\n",
    "\n",
    "class GraphNeuralNetwork(torch.nn.Module):\n",
    "    def __init__(self, hidden_dim = 128, out_channels = 1):\n",
    "        super(GraphNeuralNetwork, self).__init__()\n",
    "        input_dim = len(FEATURES)      \n",
    "        \n",
    "        HEADS = 5\n",
    "        \n",
    "#         conv_1= GATConv(input_dim, hidden_dim,heads=HEADS, add_self_loops = False)\n",
    "#         conv_end = GATConv((-1,-1), out_channels,add_self_loops = False)\n",
    "        conv_1= SAGEConv(input_dim, hidden_dim, normalize=True, project=True)\n",
    "        conv_end = SAGEConv(hidden_dim, out_channels, project=True)\n",
    "        \n",
    "        self.conv_1 = conv_1\n",
    "        self.conv_end = conv_end\n",
    "        \n",
    "\n",
    "    def forward(self, graph):\n",
    "        x, edge_index = graph.x, graph.edge_index\n",
    "        x = x.type(torch.float)\n",
    "        x = self.conv_1(x, edge_index) \n",
    "        #x = F.normalize(x, p=2., dim=-1)\n",
    "        x = torch.relu(x)\n",
    "        x = self.conv_end(x, edge_index)\n",
    "        return x\n",
    "            \n",
    "    def predict_proba(self, graph, mask):\n",
    "        with torch.inference_mode():\n",
    "            self.eval()\n",
    "            logits = self.forward(graph)\n",
    "            scores = torch.sigmoid(torch.squeeze(logits[mask]))\n",
    "            scores = torch.unsqueeze(scores, 0)\n",
    "            proba_predict = torch.concat((1- scores, scores), dim = 0)\n",
    "            return torch.transpose(proba_predict, 0, 1)\n",
    "            \n",
    "    def predict(self, graph, mask):\n",
    "        return torch.round(self.predict_proba(graph, mask)[:, 1])"
   ]
  },
  {
   "cell_type": "code",
   "execution_count": 61,
   "id": "526044da",
   "metadata": {},
   "outputs": [],
   "source": [
    "import torch \n",
    "from tqdm.notebook import tqdm\n",
    "from dataAnalysis.Metrics import Evaluation\n",
    "\n",
    "class ModelWrapper():\n",
    "    def __init__(self, graph):\n",
    "        self.LEARNING_RATE = 3e-4\n",
    "        self.MAX_EPOCHS = 10000 #40000\n",
    "\n",
    "        self.model = GraphNeuralNetwork(hidden_dim = 128, out_channels=1) \n",
    "        self.model = self.model.to(device)\n",
    "        self.optimizer = torch.optim.Adam(self.model.parameters(), lr=self.LEARNING_RATE,betas=(0.9, 0.999), eps=1e-08)\n",
    "        self.graph = graph\n",
    "        \n",
    "        self.last_loss = 0\n",
    "        self.increased_loss = 0\n",
    "        self.BREAKING_THRESHOLD = 5  \n",
    "        self.val_loss = []\n",
    "        self.train_loss = []\n",
    "        self.epochs = self.MAX_EPOCHS\n",
    "        \n",
    "    def change_lr(self, lr):\n",
    "        for g in self.optimizer.param_groups:\n",
    "            g['lr'] = lr\n",
    "    \n",
    "    def validate(self):\n",
    "        with torch.inference_mode():\n",
    "            self.model.eval()\n",
    "            acc_loss = 0\n",
    "            batch_size = 0\n",
    "            for batch, graph in enumerate(val_loader):\n",
    "                graph = graph.to(device)\n",
    "                out = self.model(graph)\n",
    "                loss = F.binary_cross_entropy_with_logits(torch.squeeze(out)[graph.val_mask], graph.y[graph.val_mask].type(torch.float32),\n",
    "                                                          pos_weight=WEIGHT)\n",
    "                acc_loss += loss.item()\n",
    "                batch_size += 1\n",
    "            avg_loss = acc_loss / batch_size\n",
    "            self.val_loss.append(avg_loss)\n",
    "            if avg_loss > self.last_loss:\n",
    "                self.increased_loss += 1\n",
    "            else:\n",
    "                self.increased_loss = 0\n",
    "            self.last_loss = avg_loss\n",
    "\n",
    "    def train(self):\n",
    "        for epoch in tqdm(range(self.MAX_EPOCHS)):\n",
    "            acc_loss = 0\n",
    "            batch_size = 0\n",
    "                \n",
    "#             if epoch == 10:\n",
    "#                 self.change_lr(1e-5)\n",
    "#                 self.plot_loss()\n",
    "#                 self.evaluate()\n",
    "#             if epoch == 20:\n",
    "#                 self.change_lr(5e-4)\n",
    "#                 self.plot_loss()\n",
    "#                 self.evaluate()\n",
    "#             if epoch == 30:\n",
    "#                 self.change_lr(1e-4)\n",
    "#                 self.plot_loss()\n",
    "#                 self.evaluate()\n",
    "            for batch, graph in enumerate(loader):\n",
    "                graph = graph.to(device)\n",
    "                self.model.train()\n",
    "                self.optimizer.zero_grad()\n",
    "                out = self.model(graph)\n",
    "                loss = F.binary_cross_entropy_with_logits(torch.squeeze(out)[graph.train_mask], graph.y[graph.train_mask].type(torch.float32),\n",
    "                                                          pos_weight=WEIGHT)\n",
    "                acc_loss += loss.item()\n",
    "                batch_size += 1\n",
    "                loss.backward()\n",
    "                self.optimizer.step()\n",
    "            self.train_loss.append(acc_loss/batch_size)\n",
    "            self.validate() \n",
    "\n",
    "            if self.increased_loss >= self.BREAKING_THRESHOLD:\n",
    "                self.epochs = epoch + 1\n",
    "                print(f\"Breaked at {str(epoch)}\")\n",
    "                break\n",
    "            \n",
    "    def get_model(self):\n",
    "        return self.model    \n",
    "    \n",
    "    def plot_loss(self):\n",
    "        plt.plot(range(len(self.train_loss)), self.train_loss, 'g', label='Training loss')\n",
    "        plt.plot(range(len(self.val_loss)), self.val_loss, 'y', label='Validation loss')\n",
    "        plt.xlabel('Epochs')\n",
    "        plt.ylabel('Loss')\n",
    "        plt.legend()\n",
    "        plt.show()\n",
    "        \n",
    "    def evaluate(self):\n",
    "        self.model = self.model.cpu()\n",
    "        self.graph = self.graph.cpu()\n",
    "        y_dict = Evaluation.create_y_dict(self.model.predict(self.graph, self.graph.test_mask), self.model.predict_proba(self.graph, self.graph.test_mask) , self.graph.y[self.graph.test_mask])\n",
    "        y_dict_gw = Evaluation.create_y_dict(self.model.predict(self.graph, self.graph.test_gw_mask), self.model.predict_proba(self.graph, self.graph.test_gw_mask) , self.graph.y[self.graph.test_gw_mask])\n",
    "        eval_df = Evaluation.get_df_metrics_from_pred(y_dict, y_dict_gw)\n",
    "        print(eval_df)\n",
    "        self.model = self.model.to(device)\n"
   ]
  },
  {
   "cell_type": "code",
   "execution_count": 62,
   "id": "d129a047",
   "metadata": {},
   "outputs": [
    {
     "data": {
      "application/vnd.jupyter.widget-view+json": {
       "model_id": "44f0971cb8f04da7a47d4782a7fdf481",
       "version_major": 2,
       "version_minor": 0
      },
      "text/plain": [
       "  0%|          | 0/10000 [00:00<?, ?it/s]"
      ]
     },
     "metadata": {},
     "output_type": "display_data"
    },
    {
     "name": "stdout",
     "output_type": "stream",
     "text": [
      "Breaked at 625\n"
     ]
    }
   ],
   "source": [
    "model_wrapper = ModelWrapper(graph)\n",
    "model_wrapper.train()"
   ]
  },
  {
   "cell_type": "code",
   "execution_count": 63,
   "id": "e1ca51fd",
   "metadata": {},
   "outputs": [
    {
     "data": {
      "text/plain": [
       "tensor([[      0,       1,       2,  ..., 1819433, 1819434, 1819434],\n",
       "        [      0,       1,       2,  ..., 1819433, 1819434, 1819433]])"
      ]
     },
     "execution_count": 63,
     "metadata": {},
     "output_type": "execute_result"
    }
   ],
   "source": [
    "graph.edge_index"
   ]
  },
  {
   "cell_type": "code",
   "execution_count": 64,
   "id": "6a5d332f",
   "metadata": {},
   "outputs": [
    {
     "data": {
      "image/png": "[encoded data removed]",
      "text/plain": [
       "<Figure size 640x480 with 1 Axes>"
      ]
     },
     "metadata": {},
     "output_type": "display_data"
    }
   ],
   "source": [
    "model_wrapper.plot_loss()"
   ]
  },
  {
   "cell_type": "code",
   "execution_count": 65,
   "id": "846bab1c",
   "metadata": {},
   "outputs": [],
   "source": [
    "model = model_wrapper.get_model()\n",
    "graph = graph.cpu()\n",
    "model = model.cpu()"
   ]
  },
  {
   "cell_type": "code",
   "execution_count": 66,
   "id": "892ce7d2",
   "metadata": {},
   "outputs": [],
   "source": [
    "# torch.save(model.state_dict(), \"../models/rev_directed_gat_wo_pos.pt\")"
   ]
  },
  {
   "cell_type": "code",
   "execution_count": null,
   "id": "e0fbba1f",
   "metadata": {},
   "outputs": [],
   "source": []
  },
  {
   "cell_type": "code",
   "execution_count": 67,
   "id": "48ef5280",
   "metadata": {},
   "outputs": [],
   "source": [
    "from dataAnalysis.Metrics import Evaluation\n",
    "\n",
    "y_dict = Evaluation.create_y_dict(model.predict(graph, test_mask), model.predict_proba(graph, test_mask) , graph.y[test_mask])\n",
    "y_dict_gw = Evaluation.create_y_dict(model.predict(graph, test_gw_mask), model.predict_proba(graph, test_gw_mask) , graph.y[test_gw_mask])"
   ]
  },
  {
   "cell_type": "code",
   "execution_count": 68,
   "id": "f590caf1",
   "metadata": {},
   "outputs": [
    {
     "data": {
      "text/html": [
       "<div>\n",
       "<style scoped>\n",
       "    .dataframe tbody tr th:only-of-type {\n",
       "        vertical-align: middle;\n",
       "    }\n",
       "\n",
       "    .dataframe tbody tr th {\n",
       "        vertical-align: top;\n",
       "    }\n",
       "\n",
       "    .dataframe thead th {\n",
       "        text-align: right;\n",
       "    }\n",
       "</style>\n",
       "<table border=\"1\" class=\"dataframe\">\n",
       "  <thead>\n",
       "    <tr style=\"text-align: right;\">\n",
       "      <th></th>\n",
       "      <th>Name</th>\n",
       "      <th>MCC</th>\n",
       "      <th>F1-Micro</th>\n",
       "      <th>F1-Macro</th>\n",
       "      <th>F1-Binary</th>\n",
       "      <th>AUROC</th>\n",
       "      <th>AUPRC</th>\n",
       "    </tr>\n",
       "  </thead>\n",
       "  <tbody>\n",
       "    <tr>\n",
       "      <th>0</th>\n",
       "      <td>Leipzig</td>\n",
       "      <td>0.083907</td>\n",
       "      <td>0.906649</td>\n",
       "      <td>0.486197</td>\n",
       "      <td>0.021408</td>\n",
       "      <td>0.912693</td>\n",
       "      <td>0.032647</td>\n",
       "    </tr>\n",
       "    <tr>\n",
       "      <th>1</th>\n",
       "      <td>Greifswald</td>\n",
       "      <td>0.061769</td>\n",
       "      <td>0.881062</td>\n",
       "      <td>0.474689</td>\n",
       "      <td>0.012658</td>\n",
       "      <td>0.895588</td>\n",
       "      <td>0.017746</td>\n",
       "    </tr>\n",
       "  </tbody>\n",
       "</table>\n",
       "</div>"
      ],
      "text/plain": [
       "         Name       MCC  F1-Micro  F1-Macro  F1-Binary     AUROC     AUPRC\n",
       "0     Leipzig  0.083907  0.906649  0.486197   0.021408  0.912693  0.032647\n",
       "1  Greifswald  0.061769  0.881062  0.474689   0.012658  0.895588  0.017746"
      ]
     },
     "execution_count": 68,
     "metadata": {},
     "output_type": "execute_result"
    },
    {
     "data": {
      "image/png": "[encoded data removed]",
      "text/plain": [
       "<Figure size 640x480 with 2 Axes>"
      ]
     },
     "metadata": {},
     "output_type": "display_data"
    },
    {
     "data": {
      "image/png": "[encoded data removed]",
      "text/plain": [
       "<Figure size 640x480 with 2 Axes>"
      ]
     },
     "metadata": {},
     "output_type": "display_data"
    }
   ],
   "source": [
    "from dataAnalysis.Metrics import Evaluation\n",
    "\n",
    "Evaluation.plot_confusion_matrix_from_pred(model.predict(graph, test_mask), graph.y[test_mask])\n",
    "Evaluation.plot_confusion_matrix_from_pred(model.predict(graph, test_gw_mask), graph.y[test_gw_mask])\n",
    "Evaluation.get_df_metrics_from_pred(y_dict, y_dict_gw)"
   ]
  },
  {
   "cell_type": "code",
   "execution_count": 55,
   "id": "7f9bde27",
   "metadata": {},
   "outputs": [
    {
     "data": {
      "text/html": [
       "<div>\n",
       "<style scoped>\n",
       "    .dataframe tbody tr th:only-of-type {\n",
       "        vertical-align: middle;\n",
       "    }\n",
       "\n",
       "    .dataframe tbody tr th {\n",
       "        vertical-align: top;\n",
       "    }\n",
       "\n",
       "    .dataframe thead th {\n",
       "        text-align: right;\n",
       "    }\n",
       "</style>\n",
       "<table border=\"1\" class=\"dataframe\">\n",
       "  <thead>\n",
       "    <tr style=\"text-align: right;\">\n",
       "      <th></th>\n",
       "      <th>Id</th>\n",
       "      <th>Age</th>\n",
       "      <th>Sex</th>\n",
       "      <th>Diagnosis</th>\n",
       "      <th>Center</th>\n",
       "      <th>Set</th>\n",
       "      <th>Sender</th>\n",
       "      <th>Episode</th>\n",
       "      <th>Time</th>\n",
       "      <th>TargetIcu</th>\n",
       "      <th>SecToIcu</th>\n",
       "      <th>CRP</th>\n",
       "      <th>HGB</th>\n",
       "      <th>MCV</th>\n",
       "      <th>PCT</th>\n",
       "      <th>PLT</th>\n",
       "      <th>RBC</th>\n",
       "      <th>WBC</th>\n",
       "      <th>Label</th>\n",
       "      <th>SexCategory</th>\n",
       "    </tr>\n",
       "  </thead>\n",
       "  <tbody>\n",
       "    <tr>\n",
       "      <th>1819415</th>\n",
       "      <td>948116</td>\n",
       "      <td>65</td>\n",
       "      <td>W</td>\n",
       "      <td>Control</td>\n",
       "      <td>Greifswald</td>\n",
       "      <td>Validation</td>\n",
       "      <td>GEN</td>\n",
       "      <td>1</td>\n",
       "      <td>3979980.0</td>\n",
       "      <td>&lt;NA&gt;</td>\n",
       "      <td>&lt;NA&gt;</td>\n",
       "      <td>&lt;NA&gt;</td>\n",
       "      <td>5.8</td>\n",
       "      <td>93.6</td>\n",
       "      <td>&lt;NA&gt;</td>\n",
       "      <td>401.0</td>\n",
       "      <td>3.1</td>\n",
       "      <td>17.20</td>\n",
       "      <td>0</td>\n",
       "      <td>1</td>\n",
       "    </tr>\n",
       "    <tr>\n",
       "      <th>1819416</th>\n",
       "      <td>948116</td>\n",
       "      <td>65</td>\n",
       "      <td>W</td>\n",
       "      <td>Control</td>\n",
       "      <td>Greifswald</td>\n",
       "      <td>Validation</td>\n",
       "      <td>GEN</td>\n",
       "      <td>1</td>\n",
       "      <td>4065120.0</td>\n",
       "      <td>&lt;NA&gt;</td>\n",
       "      <td>&lt;NA&gt;</td>\n",
       "      <td>107.0</td>\n",
       "      <td>5.9</td>\n",
       "      <td>93.6</td>\n",
       "      <td>&lt;NA&gt;</td>\n",
       "      <td>543.0</td>\n",
       "      <td>3.1</td>\n",
       "      <td>13.30</td>\n",
       "      <td>0</td>\n",
       "      <td>1</td>\n",
       "    </tr>\n",
       "    <tr>\n",
       "      <th>1819417</th>\n",
       "      <td>948116</td>\n",
       "      <td>65</td>\n",
       "      <td>W</td>\n",
       "      <td>Control</td>\n",
       "      <td>Greifswald</td>\n",
       "      <td>Validation</td>\n",
       "      <td>GEN</td>\n",
       "      <td>1</td>\n",
       "      <td>4230720.0</td>\n",
       "      <td>&lt;NA&gt;</td>\n",
       "      <td>&lt;NA&gt;</td>\n",
       "      <td>53.7</td>\n",
       "      <td>5.8</td>\n",
       "      <td>92.4</td>\n",
       "      <td>&lt;NA&gt;</td>\n",
       "      <td>496.0</td>\n",
       "      <td>3.2</td>\n",
       "      <td>10.80</td>\n",
       "      <td>0</td>\n",
       "      <td>1</td>\n",
       "    </tr>\n",
       "    <tr>\n",
       "      <th>1819418</th>\n",
       "      <td>948116</td>\n",
       "      <td>65</td>\n",
       "      <td>W</td>\n",
       "      <td>Control</td>\n",
       "      <td>Greifswald</td>\n",
       "      <td>Validation</td>\n",
       "      <td>GEN</td>\n",
       "      <td>1</td>\n",
       "      <td>4402320.0</td>\n",
       "      <td>&lt;NA&gt;</td>\n",
       "      <td>&lt;NA&gt;</td>\n",
       "      <td>&lt;NA&gt;</td>\n",
       "      <td>5.5</td>\n",
       "      <td>94.1</td>\n",
       "      <td>&lt;NA&gt;</td>\n",
       "      <td>424.0</td>\n",
       "      <td>3.1</td>\n",
       "      <td>9.02</td>\n",
       "      <td>0</td>\n",
       "      <td>1</td>\n",
       "    </tr>\n",
       "    <tr>\n",
       "      <th>1819419</th>\n",
       "      <td>948117</td>\n",
       "      <td>73</td>\n",
       "      <td>W</td>\n",
       "      <td>Control</td>\n",
       "      <td>Greifswald</td>\n",
       "      <td>Validation</td>\n",
       "      <td>GEN</td>\n",
       "      <td>1</td>\n",
       "      <td>0.0</td>\n",
       "      <td>MICU</td>\n",
       "      <td>913620.0</td>\n",
       "      <td>&lt;NA&gt;</td>\n",
       "      <td>7.7</td>\n",
       "      <td>90.5</td>\n",
       "      <td>&lt;NA&gt;</td>\n",
       "      <td>403.0</td>\n",
       "      <td>4.1</td>\n",
       "      <td>13.40</td>\n",
       "      <td>0</td>\n",
       "      <td>1</td>\n",
       "    </tr>\n",
       "    <tr>\n",
       "      <th>1819420</th>\n",
       "      <td>948117</td>\n",
       "      <td>73</td>\n",
       "      <td>W</td>\n",
       "      <td>Control</td>\n",
       "      <td>Greifswald</td>\n",
       "      <td>Validation</td>\n",
       "      <td>GEN</td>\n",
       "      <td>1</td>\n",
       "      <td>899280.0</td>\n",
       "      <td>MICU</td>\n",
       "      <td>14340.0</td>\n",
       "      <td>3.4</td>\n",
       "      <td>7.5</td>\n",
       "      <td>82.4</td>\n",
       "      <td>&lt;NA&gt;</td>\n",
       "      <td>218.0</td>\n",
       "      <td>3.9</td>\n",
       "      <td>16.00</td>\n",
       "      <td>0</td>\n",
       "      <td>1</td>\n",
       "    </tr>\n",
       "    <tr>\n",
       "      <th>1819421</th>\n",
       "      <td>948118</td>\n",
       "      <td>27</td>\n",
       "      <td>W</td>\n",
       "      <td>Control</td>\n",
       "      <td>Greifswald</td>\n",
       "      <td>Validation</td>\n",
       "      <td>GEN</td>\n",
       "      <td>1</td>\n",
       "      <td>0.0</td>\n",
       "      <td>&lt;NA&gt;</td>\n",
       "      <td>&lt;NA&gt;</td>\n",
       "      <td>3.1</td>\n",
       "      <td>6.8</td>\n",
       "      <td>86.7</td>\n",
       "      <td>&lt;NA&gt;</td>\n",
       "      <td>303.0</td>\n",
       "      <td>3.8</td>\n",
       "      <td>8.36</td>\n",
       "      <td>0</td>\n",
       "      <td>1</td>\n",
       "    </tr>\n",
       "    <tr>\n",
       "      <th>1819422</th>\n",
       "      <td>948119</td>\n",
       "      <td>78</td>\n",
       "      <td>W</td>\n",
       "      <td>Control</td>\n",
       "      <td>Greifswald</td>\n",
       "      <td>Validation</td>\n",
       "      <td>ED</td>\n",
       "      <td>1</td>\n",
       "      <td>0.0</td>\n",
       "      <td>&lt;NA&gt;</td>\n",
       "      <td>&lt;NA&gt;</td>\n",
       "      <td>&lt;NA&gt;</td>\n",
       "      <td>9.0</td>\n",
       "      <td>84.1</td>\n",
       "      <td>&lt;NA&gt;</td>\n",
       "      <td>198.0</td>\n",
       "      <td>5.1</td>\n",
       "      <td>4.70</td>\n",
       "      <td>0</td>\n",
       "      <td>1</td>\n",
       "    </tr>\n",
       "    <tr>\n",
       "      <th>1819423</th>\n",
       "      <td>948119</td>\n",
       "      <td>78</td>\n",
       "      <td>W</td>\n",
       "      <td>Control</td>\n",
       "      <td>Greifswald</td>\n",
       "      <td>Validation</td>\n",
       "      <td>NIMC</td>\n",
       "      <td>1</td>\n",
       "      <td>58380.0</td>\n",
       "      <td>&lt;NA&gt;</td>\n",
       "      <td>&lt;NA&gt;</td>\n",
       "      <td>&lt;NA&gt;</td>\n",
       "      <td>8.5</td>\n",
       "      <td>84.9</td>\n",
       "      <td>&lt;NA&gt;</td>\n",
       "      <td>181.0</td>\n",
       "      <td>4.7</td>\n",
       "      <td>4.82</td>\n",
       "      <td>0</td>\n",
       "      <td>1</td>\n",
       "    </tr>\n",
       "    <tr>\n",
       "      <th>1819424</th>\n",
       "      <td>948119</td>\n",
       "      <td>78</td>\n",
       "      <td>W</td>\n",
       "      <td>Control</td>\n",
       "      <td>Greifswald</td>\n",
       "      <td>Validation</td>\n",
       "      <td>GEN</td>\n",
       "      <td>1</td>\n",
       "      <td>236220.0</td>\n",
       "      <td>&lt;NA&gt;</td>\n",
       "      <td>&lt;NA&gt;</td>\n",
       "      <td>9.8</td>\n",
       "      <td>9.4</td>\n",
       "      <td>85.8</td>\n",
       "      <td>&lt;NA&gt;</td>\n",
       "      <td>198.0</td>\n",
       "      <td>5.2</td>\n",
       "      <td>6.91</td>\n",
       "      <td>0</td>\n",
       "      <td>1</td>\n",
       "    </tr>\n",
       "    <tr>\n",
       "      <th>1819425</th>\n",
       "      <td>948119</td>\n",
       "      <td>78</td>\n",
       "      <td>W</td>\n",
       "      <td>Control</td>\n",
       "      <td>Greifswald</td>\n",
       "      <td>Validation</td>\n",
       "      <td>GEN</td>\n",
       "      <td>1</td>\n",
       "      <td>350640.0</td>\n",
       "      <td>&lt;NA&gt;</td>\n",
       "      <td>&lt;NA&gt;</td>\n",
       "      <td>69.2</td>\n",
       "      <td>9.2</td>\n",
       "      <td>84.2</td>\n",
       "      <td>&lt;NA&gt;</td>\n",
       "      <td>227.0</td>\n",
       "      <td>5.0</td>\n",
       "      <td>7.25</td>\n",
       "      <td>0</td>\n",
       "      <td>1</td>\n",
       "    </tr>\n",
       "    <tr>\n",
       "      <th>1819426</th>\n",
       "      <td>948119</td>\n",
       "      <td>78</td>\n",
       "      <td>W</td>\n",
       "      <td>Control</td>\n",
       "      <td>Greifswald</td>\n",
       "      <td>Validation</td>\n",
       "      <td>GEN</td>\n",
       "      <td>1</td>\n",
       "      <td>407820.0</td>\n",
       "      <td>&lt;NA&gt;</td>\n",
       "      <td>&lt;NA&gt;</td>\n",
       "      <td>59.1</td>\n",
       "      <td>9.2</td>\n",
       "      <td>85.2</td>\n",
       "      <td>&lt;NA&gt;</td>\n",
       "      <td>218.0</td>\n",
       "      <td>5.2</td>\n",
       "      <td>6.55</td>\n",
       "      <td>0</td>\n",
       "      <td>1</td>\n",
       "    </tr>\n",
       "    <tr>\n",
       "      <th>1819427</th>\n",
       "      <td>948119</td>\n",
       "      <td>78</td>\n",
       "      <td>W</td>\n",
       "      <td>Control</td>\n",
       "      <td>Greifswald</td>\n",
       "      <td>Validation</td>\n",
       "      <td>GEN</td>\n",
       "      <td>1</td>\n",
       "      <td>753180.0</td>\n",
       "      <td>&lt;NA&gt;</td>\n",
       "      <td>&lt;NA&gt;</td>\n",
       "      <td>23.9</td>\n",
       "      <td>9.6</td>\n",
       "      <td>85.0</td>\n",
       "      <td>&lt;NA&gt;</td>\n",
       "      <td>302.0</td>\n",
       "      <td>5.3</td>\n",
       "      <td>6.89</td>\n",
       "      <td>0</td>\n",
       "      <td>1</td>\n",
       "    </tr>\n",
       "    <tr>\n",
       "      <th>1819428</th>\n",
       "      <td>948120</td>\n",
       "      <td>56</td>\n",
       "      <td>M</td>\n",
       "      <td>Control</td>\n",
       "      <td>Greifswald</td>\n",
       "      <td>Validation</td>\n",
       "      <td>ED</td>\n",
       "      <td>1</td>\n",
       "      <td>0.0</td>\n",
       "      <td>&lt;NA&gt;</td>\n",
       "      <td>&lt;NA&gt;</td>\n",
       "      <td>24.4</td>\n",
       "      <td>10.1</td>\n",
       "      <td>89.0</td>\n",
       "      <td>&lt;NA&gt;</td>\n",
       "      <td>236.0</td>\n",
       "      <td>5.4</td>\n",
       "      <td>8.12</td>\n",
       "      <td>0</td>\n",
       "      <td>0</td>\n",
       "    </tr>\n",
       "    <tr>\n",
       "      <th>1819429</th>\n",
       "      <td>948120</td>\n",
       "      <td>56</td>\n",
       "      <td>M</td>\n",
       "      <td>Control</td>\n",
       "      <td>Greifswald</td>\n",
       "      <td>Validation</td>\n",
       "      <td>GEN</td>\n",
       "      <td>1</td>\n",
       "      <td>74640.0</td>\n",
       "      <td>&lt;NA&gt;</td>\n",
       "      <td>&lt;NA&gt;</td>\n",
       "      <td>52.0</td>\n",
       "      <td>9.9</td>\n",
       "      <td>89.2</td>\n",
       "      <td>&lt;NA&gt;</td>\n",
       "      <td>219.0</td>\n",
       "      <td>5.4</td>\n",
       "      <td>7.00</td>\n",
       "      <td>0</td>\n",
       "      <td>0</td>\n",
       "    </tr>\n",
       "    <tr>\n",
       "      <th>1819430</th>\n",
       "      <td>948120</td>\n",
       "      <td>56</td>\n",
       "      <td>M</td>\n",
       "      <td>Control</td>\n",
       "      <td>Greifswald</td>\n",
       "      <td>Validation</td>\n",
       "      <td>GEN</td>\n",
       "      <td>1</td>\n",
       "      <td>118380.0</td>\n",
       "      <td>&lt;NA&gt;</td>\n",
       "      <td>&lt;NA&gt;</td>\n",
       "      <td>&lt;NA&gt;</td>\n",
       "      <td>8.7</td>\n",
       "      <td>88.1</td>\n",
       "      <td>&lt;NA&gt;</td>\n",
       "      <td>200.0</td>\n",
       "      <td>4.7</td>\n",
       "      <td>6.20</td>\n",
       "      <td>0</td>\n",
       "      <td>0</td>\n",
       "    </tr>\n",
       "    <tr>\n",
       "      <th>1819431</th>\n",
       "      <td>948120</td>\n",
       "      <td>56</td>\n",
       "      <td>M</td>\n",
       "      <td>Control</td>\n",
       "      <td>Greifswald</td>\n",
       "      <td>Validation</td>\n",
       "      <td>GEN</td>\n",
       "      <td>1</td>\n",
       "      <td>168660.0</td>\n",
       "      <td>&lt;NA&gt;</td>\n",
       "      <td>&lt;NA&gt;</td>\n",
       "      <td>95.0</td>\n",
       "      <td>8.7</td>\n",
       "      <td>88.4</td>\n",
       "      <td>&lt;NA&gt;</td>\n",
       "      <td>233.0</td>\n",
       "      <td>4.7</td>\n",
       "      <td>6.92</td>\n",
       "      <td>0</td>\n",
       "      <td>0</td>\n",
       "    </tr>\n",
       "    <tr>\n",
       "      <th>1819432</th>\n",
       "      <td>948120</td>\n",
       "      <td>56</td>\n",
       "      <td>M</td>\n",
       "      <td>Control</td>\n",
       "      <td>Greifswald</td>\n",
       "      <td>Validation</td>\n",
       "      <td>GEN</td>\n",
       "      <td>1</td>\n",
       "      <td>340440.0</td>\n",
       "      <td>&lt;NA&gt;</td>\n",
       "      <td>&lt;NA&gt;</td>\n",
       "      <td>63.6</td>\n",
       "      <td>8.1</td>\n",
       "      <td>87.6</td>\n",
       "      <td>&lt;NA&gt;</td>\n",
       "      <td>225.0</td>\n",
       "      <td>4.5</td>\n",
       "      <td>3.70</td>\n",
       "      <td>0</td>\n",
       "      <td>0</td>\n",
       "    </tr>\n",
       "    <tr>\n",
       "      <th>1819433</th>\n",
       "      <td>948121</td>\n",
       "      <td>60</td>\n",
       "      <td>W</td>\n",
       "      <td>Control</td>\n",
       "      <td>Greifswald</td>\n",
       "      <td>Validation</td>\n",
       "      <td>ED</td>\n",
       "      <td>1</td>\n",
       "      <td>0.0</td>\n",
       "      <td>&lt;NA&gt;</td>\n",
       "      <td>&lt;NA&gt;</td>\n",
       "      <td>&lt;NA&gt;</td>\n",
       "      <td>9.1</td>\n",
       "      <td>90.0</td>\n",
       "      <td>&lt;NA&gt;</td>\n",
       "      <td>337.0</td>\n",
       "      <td>4.8</td>\n",
       "      <td>10.80</td>\n",
       "      <td>0</td>\n",
       "      <td>1</td>\n",
       "    </tr>\n",
       "    <tr>\n",
       "      <th>1819434</th>\n",
       "      <td>948121</td>\n",
       "      <td>60</td>\n",
       "      <td>W</td>\n",
       "      <td>Control</td>\n",
       "      <td>Greifswald</td>\n",
       "      <td>Validation</td>\n",
       "      <td>GEN</td>\n",
       "      <td>1</td>\n",
       "      <td>70740.0</td>\n",
       "      <td>&lt;NA&gt;</td>\n",
       "      <td>&lt;NA&gt;</td>\n",
       "      <td>4.7</td>\n",
       "      <td>9.7</td>\n",
       "      <td>91.7</td>\n",
       "      <td>&lt;NA&gt;</td>\n",
       "      <td>371.0</td>\n",
       "      <td>5.2</td>\n",
       "      <td>11.60</td>\n",
       "      <td>0</td>\n",
       "      <td>1</td>\n",
       "    </tr>\n",
       "  </tbody>\n",
       "</table>\n",
       "</div>"
      ],
      "text/plain": [
       "             Id  Age Sex Diagnosis      Center         Set Sender  Episode  \\\n",
       "1819415  948116   65   W   Control  Greifswald  Validation    GEN        1   \n",
       "1819416  948116   65   W   Control  Greifswald  Validation    GEN        1   \n",
       "1819417  948116   65   W   Control  Greifswald  Validation    GEN        1   \n",
       "1819418  948116   65   W   Control  Greifswald  Validation    GEN        1   \n",
       "1819419  948117   73   W   Control  Greifswald  Validation    GEN        1   \n",
       "1819420  948117   73   W   Control  Greifswald  Validation    GEN        1   \n",
       "1819421  948118   27   W   Control  Greifswald  Validation    GEN        1   \n",
       "1819422  948119   78   W   Control  Greifswald  Validation     ED        1   \n",
       "1819423  948119   78   W   Control  Greifswald  Validation   NIMC        1   \n",
       "1819424  948119   78   W   Control  Greifswald  Validation    GEN        1   \n",
       "1819425  948119   78   W   Control  Greifswald  Validation    GEN        1   \n",
       "1819426  948119   78   W   Control  Greifswald  Validation    GEN        1   \n",
       "1819427  948119   78   W   Control  Greifswald  Validation    GEN        1   \n",
       "1819428  948120   56   M   Control  Greifswald  Validation     ED        1   \n",
       "1819429  948120   56   M   Control  Greifswald  Validation    GEN        1   \n",
       "1819430  948120   56   M   Control  Greifswald  Validation    GEN        1   \n",
       "1819431  948120   56   M   Control  Greifswald  Validation    GEN        1   \n",
       "1819432  948120   56   M   Control  Greifswald  Validation    GEN        1   \n",
       "1819433  948121   60   W   Control  Greifswald  Validation     ED        1   \n",
       "1819434  948121   60   W   Control  Greifswald  Validation    GEN        1   \n",
       "\n",
       "              Time TargetIcu  SecToIcu    CRP   HGB   MCV   PCT    PLT  RBC  \\\n",
       "1819415  3979980.0      <NA>      <NA>   <NA>   5.8  93.6  <NA>  401.0  3.1   \n",
       "1819416  4065120.0      <NA>      <NA>  107.0   5.9  93.6  <NA>  543.0  3.1   \n",
       "1819417  4230720.0      <NA>      <NA>   53.7   5.8  92.4  <NA>  496.0  3.2   \n",
       "1819418  4402320.0      <NA>      <NA>   <NA>   5.5  94.1  <NA>  424.0  3.1   \n",
       "1819419        0.0      MICU  913620.0   <NA>   7.7  90.5  <NA>  403.0  4.1   \n",
       "1819420   899280.0      MICU   14340.0    3.4   7.5  82.4  <NA>  218.0  3.9   \n",
       "1819421        0.0      <NA>      <NA>    3.1   6.8  86.7  <NA>  303.0  3.8   \n",
       "1819422        0.0      <NA>      <NA>   <NA>   9.0  84.1  <NA>  198.0  5.1   \n",
       "1819423    58380.0      <NA>      <NA>   <NA>   8.5  84.9  <NA>  181.0  4.7   \n",
       "1819424   236220.0      <NA>      <NA>    9.8   9.4  85.8  <NA>  198.0  5.2   \n",
       "1819425   350640.0      <NA>      <NA>   69.2   9.2  84.2  <NA>  227.0  5.0   \n",
       "1819426   407820.0      <NA>      <NA>   59.1   9.2  85.2  <NA>  218.0  5.2   \n",
       "1819427   753180.0      <NA>      <NA>   23.9   9.6  85.0  <NA>  302.0  5.3   \n",
       "1819428        0.0      <NA>      <NA>   24.4  10.1  89.0  <NA>  236.0  5.4   \n",
       "1819429    74640.0      <NA>      <NA>   52.0   9.9  89.2  <NA>  219.0  5.4   \n",
       "1819430   118380.0      <NA>      <NA>   <NA>   8.7  88.1  <NA>  200.0  4.7   \n",
       "1819431   168660.0      <NA>      <NA>   95.0   8.7  88.4  <NA>  233.0  4.7   \n",
       "1819432   340440.0      <NA>      <NA>   63.6   8.1  87.6  <NA>  225.0  4.5   \n",
       "1819433        0.0      <NA>      <NA>   <NA>   9.1  90.0  <NA>  337.0  4.8   \n",
       "1819434    70740.0      <NA>      <NA>    4.7   9.7  91.7  <NA>  371.0  5.2   \n",
       "\n",
       "           WBC  Label  SexCategory  \n",
       "1819415  17.20      0            1  \n",
       "1819416  13.30      0            1  \n",
       "1819417  10.80      0            1  \n",
       "1819418   9.02      0            1  \n",
       "1819419  13.40      0            1  \n",
       "1819420  16.00      0            1  \n",
       "1819421   8.36      0            1  \n",
       "1819422   4.70      0            1  \n",
       "1819423   4.82      0            1  \n",
       "1819424   6.91      0            1  \n",
       "1819425   7.25      0            1  \n",
       "1819426   6.55      0            1  \n",
       "1819427   6.89      0            1  \n",
       "1819428   8.12      0            0  \n",
       "1819429   7.00      0            0  \n",
       "1819430   6.20      0            0  \n",
       "1819431   6.92      0            0  \n",
       "1819432   3.70      0            0  \n",
       "1819433  10.80      0            1  \n",
       "1819434  11.60      0            1  "
      ]
     },
     "execution_count": 55,
     "metadata": {},
     "output_type": "execute_result"
    }
   ],
   "source": [
    "data.tail(20)"
   ]
  },
  {
   "cell_type": "code",
   "execution_count": 51,
   "id": "d3e35162",
   "metadata": {},
   "outputs": [
    {
     "ename": "ValueError",
     "evalue": "rate must be specified when data is a numpy array or list of audio samples.",
     "output_type": "error",
     "traceback": [
      "\u001b[0;31m---------------------------------------------------------------------------\u001b[0m",
      "\u001b[0;31mValueError\u001b[0m                                Traceback (most recent call last)",
      "Cell \u001b[0;32mIn[51], line 3\u001b[0m\n\u001b[1;32m      1\u001b[0m \u001b[38;5;28;01mfrom\u001b[39;00m \u001b[38;5;21;01mIPython\u001b[39;00m\u001b[38;5;21;01m.\u001b[39;00m\u001b[38;5;21;01mdisplay\u001b[39;00m \u001b[38;5;28;01mimport\u001b[39;00m Audio\n\u001b[1;32m      2\u001b[0m sound_file \u001b[38;5;241m=\u001b[39m \u001b[38;5;124m'\u001b[39m\u001b[38;5;124m./finish_sound.mp3\u001b[39m\u001b[38;5;124m'\u001b[39m\n\u001b[0;32m----> 3\u001b[0m \u001b[43mAudio\u001b[49m\u001b[43m(\u001b[49m\u001b[43msound_file\u001b[49m\u001b[43m,\u001b[49m\u001b[43m \u001b[49m\u001b[43mautoplay\u001b[49m\u001b[38;5;241;43m=\u001b[39;49m\u001b[38;5;28;43;01mTrue\u001b[39;49;00m\u001b[43m)\u001b[49m\n",
      "File \u001b[0;32m~/miniconda3/lib/python3.10/site-packages/IPython/lib/display.py:129\u001b[0m, in \u001b[0;36mAudio.__init__\u001b[0;34m(self, data, filename, url, embed, rate, autoplay, normalize, element_id)\u001b[0m\n\u001b[1;32m    127\u001b[0m \u001b[38;5;28;01mif\u001b[39;00m \u001b[38;5;28mself\u001b[39m\u001b[38;5;241m.\u001b[39mdata \u001b[38;5;129;01mis\u001b[39;00m \u001b[38;5;129;01mnot\u001b[39;00m \u001b[38;5;28;01mNone\u001b[39;00m \u001b[38;5;129;01mand\u001b[39;00m \u001b[38;5;129;01mnot\u001b[39;00m \u001b[38;5;28misinstance\u001b[39m(\u001b[38;5;28mself\u001b[39m\u001b[38;5;241m.\u001b[39mdata, \u001b[38;5;28mbytes\u001b[39m):\n\u001b[1;32m    128\u001b[0m     \u001b[38;5;28;01mif\u001b[39;00m rate \u001b[38;5;129;01mis\u001b[39;00m \u001b[38;5;28;01mNone\u001b[39;00m:\n\u001b[0;32m--> 129\u001b[0m         \u001b[38;5;28;01mraise\u001b[39;00m \u001b[38;5;167;01mValueError\u001b[39;00m(\u001b[38;5;124m\"\u001b[39m\u001b[38;5;124mrate must be specified when data is a numpy array or list of audio samples.\u001b[39m\u001b[38;5;124m\"\u001b[39m)\n\u001b[1;32m    130\u001b[0m     \u001b[38;5;28mself\u001b[39m\u001b[38;5;241m.\u001b[39mdata \u001b[38;5;241m=\u001b[39m Audio\u001b[38;5;241m.\u001b[39m_make_wav(data, rate, normalize)\n",
      "\u001b[0;31mValueError\u001b[0m: rate must be specified when data is a numpy array or list of audio samples."
     ]
    }
   ],
   "source": [
    "from IPython.display import Audio\n",
    "sound_file = './finish_sound.mp3'\n",
    "Audio(sound_file, autoplay=True)"
   ]
  },
  {
   "cell_type": "code",
   "execution_count": null,
   "id": "f69310bb",
   "metadata": {},
   "outputs": [],
   "source": [
    "##TODO:\n",
    "# - change weight\n",
    "# - gradients as features\n",
    "# - different learning rate and number of layers\n",
    "# - general architecture- less neurons but linear layer before and after convs? \n",
    "#       -adding hidden layers with each others for more stable training (guaranteed only when hidden dim is euqal betwene layers)\n",
    "# - GATv2\n",
    "# - MIMIC und Greifswald\n",
    "# - more features"
   ]
  },
  {
   "cell_type": "code",
   "execution_count": null,
   "id": "0d262420",
   "metadata": {},
   "outputs": [],
   "source": [
    "import time\n",
    "\n",
    "for i in range(10000):\n",
    "    time.sleep(60)\n",
    "    print(\"Sleeping\")"
   ]
  },
  {
   "cell_type": "code",
   "execution_count": null,
   "id": "5ff3a608",
   "metadata": {},
   "outputs": [],
   "source": [
    "for column in df.columns:\n",
    "    df[] df[column].mean()"
   ]
  }
 ],
 "metadata": {
  "kernelspec": {
   "display_name": "Python 3 (ipykernel)",
   "language": "python",
   "name": "python3"
  },
  "language_info": {
   "codemirror_mode": {
    "name": "ipython",
    "version": 3
   },
   "file_extension": ".py",
   "mimetype": "text/x-python",
   "name": "python",
   "nbconvert_exporter": "python",
   "pygments_lexer": "ipython3",
   "version": "3.10.12"
  }
 },
 "nbformat": 4,
 "nbformat_minor": 5
}
