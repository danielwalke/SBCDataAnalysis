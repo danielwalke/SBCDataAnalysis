{
 "cells": [
  {
   "cell_type": "markdown",
   "id": "05f72c60",
   "metadata": {},
   "source": [
    "## Load and sort data"
   ]
  },
  {
   "cell_type": "code",
   "execution_count": null,
   "id": "41455337",
   "metadata": {},
   "outputs": [],
   "source": [
    "import sys\n",
    "from dataAnalysis.DataAnalysis import DataAnalysis\n",
    "import pandas as pd\n",
    "import cudf\n",
    "import torch\n",
    " \n",
    "sys.path.insert(0, \"../\")\n",
    "data = pd.read_csv(r\"../extdata/sbcdata.csv\", header=0)\n",
    "data_analysis = DataAnalysis(data)"
   ]
  },
  {
   "cell_type": "code",
   "execution_count": null,
   "id": "56df8680",
   "metadata": {},
   "outputs": [],
   "source": [
    "data = pd.concat((data_analysis.get_training_data(), data_analysis.get_testing_data()))\n",
    "max_Id = data[\"Id\"].unique().max()\n",
    "gw_data = data_analysis.get_gw_testing_data().copy(deep=True)\n",
    "gw_data = gw_data.assign(Id=lambda x: x.Id + max_Id)\n",
    "data = pd.concat((data, gw_data))\n",
    "data = cudf.from_pandas(data)\n",
    "data = data.sort_values(\"Id\")\n",
    "unique_ids = data[\"Id\"].unique()\n",
    "data = data.reset_index(drop=True)\n",
    "data.pop(\"index\")"
   ]
  },
  {
   "cell_type": "markdown",
   "id": "07671137",
   "metadata": {},
   "source": [
    "## Directed graph"
   ]
  },
  {
   "cell_type": "code",
   "execution_count": null,
   "id": "fbeb3ff2",
   "metadata": {},
   "outputs": [],
   "source": [
    "import numpy as np\n",
    "import cupy as cp\n",
    "\n",
    "source_edge_index = np.array([], dtype= cp.int32)\n",
    "target_edge_index = np.array([], dtype= cp.int32)\n",
    "\n",
    "j = 0\n",
    "for Id, group in data.groupby(\"Id\"):\n",
    "    indices = group.index\n",
    "    offset = indices[0]\n",
    "    num_nodes = len(indices)\n",
    "    edge_index = torch.zeros((2, sum(range(num_nodes + 1))), dtype=torch.long)+offset\n",
    "\n",
    "    ## Self edges\n",
    "    edge_index[:, 0:num_nodes] = (torch.arange(num_nodes) + offset).view(1, -1)\n",
    "    idx = num_nodes\n",
    "    for i in range(1, num_nodes):\n",
    "        edge_index[1, idx:idx + i] = i+offset\n",
    "        edge_index[0, idx:idx + i] = torch.arange(i)+offset\n",
    "        idx += i\n",
    "    \n",
    "    source_edge_index = np.concatenate((source_edge_index, edge_index[0, :].numpy()))\n",
    "    target_edge_index = np.concatenate((target_edge_index, edge_index[1, :].numpy()))\n",
    "    j+=1\n",
    "    if j % 1000 == 0:\n",
    "        print(f\"{str(j / unique_ids.shape[0] * 100)} %\")\n",
    "\n",
    "edge_index = np.asarray([np.asarray(source_edge_index), np.asarray(target_edge_index)])\n",
    "edge_index = torch.tensor(edge_index)\n",
    "pd.DataFrame(edge_index.numpy().transpose()).to_csv(\"directed_edge_index.csv\", index=False)"
   ]
  },
  {
   "cell_type": "markdown",
   "id": "2ab686c2",
   "metadata": {},
   "source": [
    "## Reverse directed graph"
   ]
  },
  {
   "cell_type": "code",
   "execution_count": null,
   "id": "e355bcc9",
   "metadata": {},
   "outputs": [],
   "source": [
    "rev_edge_index = torch.zeros_like(edge_index)\n",
    "index = torch.LongTensor([1,0])\n",
    "rev_edge_index[index] = edge_index\n",
    "\n",
    "# pd.DataFrame(rev_edge_index.numpy()).to_csv(\"reverse_directed_edge_index.csv\", index=False)"
   ]
  },
  {
   "cell_type": "markdown",
   "id": "5f206d2f",
   "metadata": {},
   "source": [
    "## Undirected graph"
   ]
  },
  {
   "cell_type": "code",
   "execution_count": null,
   "id": "fe5559ec",
   "metadata": {},
   "outputs": [],
   "source": [
    "from torch_geometric.utils import to_undirected\n",
    "\n",
    "undirected_edge_index = to_undirected(edge_index)\n",
    "pd.DataFrame(undirected_edge_index.numpy()).to_csv(\"undirected_edge_index.csv\", index=False)"
   ]
  }
 ],
 "metadata": {
  "kernelspec": {
   "display_name": "Python 3 (ipykernel)",
   "language": "python",
   "name": "python3"
  },
  "language_info": {
   "codemirror_mode": {
    "name": "ipython",
    "version": 3
   },
   "file_extension": ".py",
   "mimetype": "text/x-python",
   "name": "python",
   "nbconvert_exporter": "python",
   "pygments_lexer": "ipython3",
   "version": "3.10.12"
  }
 },
 "nbformat": 4,
 "nbformat_minor": 5
}
