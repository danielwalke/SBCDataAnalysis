{
 "cells": [
  {
   "cell_type": "markdown",
   "id": "89657ef6",
   "metadata": {},
   "source": [
    "## Load data"
   ]
  },
  {
   "cell_type": "code",
   "execution_count": 1,
   "id": "922a4d66",
   "metadata": {},
   "outputs": [],
   "source": [
    "import sys\n",
    " \n",
    "sys.path.insert(0, \"../../\")"
   ]
  },
  {
   "cell_type": "code",
   "execution_count": 2,
   "id": "68e59c36",
   "metadata": {},
   "outputs": [
    {
     "name": "stderr",
     "output_type": "stream",
     "text": [
      "/home/dwalke/git/sbc/graph_learning/homogeneous/../../dataAnalysis/data/Filter.py:34: SettingWithCopyWarning: \n",
      "A value is trying to be set on a copy of a slice from a DataFrame.\n",
      "Try using .loc[row_indexer,col_indexer] = value instead\n",
      "\n",
      "See the caveats in the documentation: https://pandas.pydata.org/pandas-docs/stable/user_guide/indexing.html#returning-a-view-versus-a-copy\n",
      "  self.data['Label'] = self.data['Diagnosis']\n",
      "/home/dwalke/git/sbc/graph_learning/homogeneous/../../dataAnalysis/data/Filter.py:34: SettingWithCopyWarning: \n",
      "A value is trying to be set on a copy of a slice from a DataFrame.\n",
      "Try using .loc[row_indexer,col_indexer] = value instead\n",
      "\n",
      "See the caveats in the documentation: https://pandas.pydata.org/pandas-docs/stable/user_guide/indexing.html#returning-a-view-versus-a-copy\n",
      "  self.data['Label'] = self.data['Diagnosis']\n",
      "/home/dwalke/git/sbc/graph_learning/homogeneous/../../dataAnalysis/data/Filter.py:34: SettingWithCopyWarning: \n",
      "A value is trying to be set on a copy of a slice from a DataFrame.\n",
      "Try using .loc[row_indexer,col_indexer] = value instead\n",
      "\n",
      "See the caveats in the documentation: https://pandas.pydata.org/pandas-docs/stable/user_guide/indexing.html#returning-a-view-versus-a-copy\n",
      "  self.data['Label'] = self.data['Diagnosis']\n"
     ]
    }
   ],
   "source": [
    "from dataAnalysis.DataAnalysis import DataAnalysis\n",
    "import pandas as pd\n",
    "\n",
    "data = pd.read_csv(r\"../../extdata/sbcdata.csv\", header=0)\n",
    "data_analysis = DataAnalysis(data, None)"
   ]
  },
  {
   "cell_type": "code",
   "execution_count": 3,
   "id": "ae26e504",
   "metadata": {},
   "outputs": [],
   "source": [
    "import torch\n",
    "\n",
    "y_train = torch.tensor(data_analysis.get_y_train(), dtype=torch.long)\n",
    "X_train = torch.tensor(data_analysis.get_X_train(), dtype=torch.float)\n",
    "\n",
    "y_test = torch.tensor(data_analysis.get_y_test(), dtype=torch.long)\n",
    "X_test = torch.tensor(data_analysis.get_X_test(), dtype=torch.float)\n",
    "\n",
    "y_gw_test = torch.tensor(data_analysis.get_y_gw(), dtype=torch.long)\n",
    "X_gw_test = torch.tensor(data_analysis.get_X_gw(), dtype=torch.float)"
   ]
  },
  {
   "cell_type": "markdown",
   "id": "023f85fa",
   "metadata": {},
   "source": [
    "## Normalize and Concatenate data"
   ]
  },
  {
   "cell_type": "code",
   "execution_count": 4,
   "id": "3ac500a8",
   "metadata": {},
   "outputs": [],
   "source": [
    "# def normalize(tensor):\n",
    "#     mean = torch.mean(tensor, dim = 0)\n",
    "#     std = torch.std(tensor, dim = 0)\n",
    "#     mean_diff = tensor - mean\n",
    "#     return mean_diff / std\n",
    "\n",
    "# X_train = normalize(X_train)\n",
    "# X_test = normalize(X_test)\n",
    "# X_gw_test = normalize(X_gw_test)"
   ]
  },
  {
   "cell_type": "code",
   "execution_count": 5,
   "id": "215ed51d",
   "metadata": {},
   "outputs": [],
   "source": [
    "y_all = torch.concat((y_train, y_test, y_gw_test))\n",
    "X_all = torch.concat((X_train, X_test, X_gw_test))"
   ]
  },
  {
   "cell_type": "markdown",
   "id": "09e6327f",
   "metadata": {},
   "source": [
    "## Train/Validation/Test splits"
   ]
  },
  {
   "cell_type": "code",
   "execution_count": 6,
   "id": "52e5a481",
   "metadata": {},
   "outputs": [],
   "source": [
    "def true_indices_like(tensor):\n",
    "    return torch.ones((tensor.shape[0])).type(torch.bool)\n",
    "\n",
    "def false_indices_like(tensor):\n",
    "    return torch.zeros((tensor.shape[0])).type(torch.bool)\n",
    "\n",
    "def split(train_features):\n",
    "    tensor = true_indices_like(train_features)\n",
    "    max_index = round(tensor.shape[0] * .8)\n",
    "    train = torch.zeros(tensor.shape[0])\n",
    "    train[:max_index] = 1\n",
    "    \n",
    "    val = torch.zeros(tensor.shape[0])\n",
    "    val[max_index:] = 1\n",
    "    return{\n",
    "        \"train\": train.type(torch.bool),\n",
    "        \"val\":val.type(torch.bool)\n",
    "    }\n",
    "train_data = split(X_train)\n",
    "\n",
    "train_mask = torch.concat((train_data[\"train\"], false_indices_like(X_test), false_indices_like(X_gw_test)))\n",
    "val_mask = torch.concat((train_data[\"val\"], false_indices_like(X_test), false_indices_like(X_gw_test)))\n",
    "test_l_mask = torch.concat((false_indices_like(X_train), true_indices_like(X_test), false_indices_like(X_gw_test)))\n",
    "test_gw_mask = torch.concat((false_indices_like(X_train), false_indices_like(X_test), true_indices_like(X_gw_test)))"
   ]
  },
  {
   "cell_type": "markdown",
   "id": "7c99071b",
   "metadata": {},
   "source": [
    "## Construct edges and define graph"
   ]
  },
  {
   "cell_type": "code",
   "execution_count": 7,
   "id": "70e30d55-c516-4a59-815b-317fc413dfca",
   "metadata": {},
   "outputs": [
    {
     "data": {
      "text/html": [
       "<style>#sk-container-id-1 {color: black;background-color: white;}#sk-container-id-1 pre{padding: 0;}#sk-container-id-1 div.sk-toggleable {background-color: white;}#sk-container-id-1 label.sk-toggleable__label {cursor: pointer;display: block;width: 100%;margin-bottom: 0;padding: 0.3em;box-sizing: border-box;text-align: center;}#sk-container-id-1 label.sk-toggleable__label-arrow:before {content: \"▸\";float: left;margin-right: 0.25em;color: #696969;}#sk-container-id-1 label.sk-toggleable__label-arrow:hover:before {color: black;}#sk-container-id-1 div.sk-estimator:hover label.sk-toggleable__label-arrow:before {color: black;}#sk-container-id-1 div.sk-toggleable__content {max-height: 0;max-width: 0;overflow: hidden;text-align: left;background-color: #f0f8ff;}#sk-container-id-1 div.sk-toggleable__content pre {margin: 0.2em;color: black;border-radius: 0.25em;background-color: #f0f8ff;}#sk-container-id-1 input.sk-toggleable__control:checked~div.sk-toggleable__content {max-height: 200px;max-width: 100%;overflow: auto;}#sk-container-id-1 input.sk-toggleable__control:checked~label.sk-toggleable__label-arrow:before {content: \"▾\";}#sk-container-id-1 div.sk-estimator input.sk-toggleable__control:checked~label.sk-toggleable__label {background-color: #d4ebff;}#sk-container-id-1 div.sk-label input.sk-toggleable__control:checked~label.sk-toggleable__label {background-color: #d4ebff;}#sk-container-id-1 input.sk-hidden--visually {border: 0;clip: rect(1px 1px 1px 1px);clip: rect(1px, 1px, 1px, 1px);height: 1px;margin: -1px;overflow: hidden;padding: 0;position: absolute;width: 1px;}#sk-container-id-1 div.sk-estimator {font-family: monospace;background-color: #f0f8ff;border: 1px dotted black;border-radius: 0.25em;box-sizing: border-box;margin-bottom: 0.5em;}#sk-container-id-1 div.sk-estimator:hover {background-color: #d4ebff;}#sk-container-id-1 div.sk-parallel-item::after {content: \"\";width: 100%;border-bottom: 1px solid gray;flex-grow: 1;}#sk-container-id-1 div.sk-label:hover label.sk-toggleable__label {background-color: #d4ebff;}#sk-container-id-1 div.sk-serial::before {content: \"\";position: absolute;border-left: 1px solid gray;box-sizing: border-box;top: 0;bottom: 0;left: 50%;z-index: 0;}#sk-container-id-1 div.sk-serial {display: flex;flex-direction: column;align-items: center;background-color: white;padding-right: 0.2em;padding-left: 0.2em;position: relative;}#sk-container-id-1 div.sk-item {position: relative;z-index: 1;}#sk-container-id-1 div.sk-parallel {display: flex;align-items: stretch;justify-content: center;background-color: white;position: relative;}#sk-container-id-1 div.sk-item::before, #sk-container-id-1 div.sk-parallel-item::before {content: \"\";position: absolute;border-left: 1px solid gray;box-sizing: border-box;top: 0;bottom: 0;left: 50%;z-index: -1;}#sk-container-id-1 div.sk-parallel-item {display: flex;flex-direction: column;z-index: 1;position: relative;background-color: white;}#sk-container-id-1 div.sk-parallel-item:first-child::after {align-self: flex-end;width: 50%;}#sk-container-id-1 div.sk-parallel-item:last-child::after {align-self: flex-start;width: 50%;}#sk-container-id-1 div.sk-parallel-item:only-child::after {width: 0;}#sk-container-id-1 div.sk-dashed-wrapped {border: 1px dashed gray;margin: 0 0.4em 0.5em 0.4em;box-sizing: border-box;padding-bottom: 0.4em;background-color: white;}#sk-container-id-1 div.sk-label label {font-family: monospace;font-weight: bold;display: inline-block;line-height: 1.2em;}#sk-container-id-1 div.sk-label-container {text-align: center;}#sk-container-id-1 div.sk-container {/* jupyter's `normalize.less` sets `[hidden] { display: none; }` but bootstrap.min.css set `[hidden] { display: none !important; }` so we also need the `!important` here to be able to override the default hidden behavior on the sphinx rendered scikit-learn.org. See: https://github.com/scikit-learn/scikit-learn/issues/21755 */display: inline-block !important;position: relative;}#sk-container-id-1 div.sk-text-repr-fallback {display: none;}</style><div id=\"sk-container-id-1\" class=\"sk-top-container\"><div class=\"sk-text-repr-fallback\"><pre>StandardScaler()</pre><b>In a Jupyter environment, please rerun this cell to show the HTML representation or trust the notebook. <br />On GitHub, the HTML representation is unable to render, please try loading this page with nbviewer.org.</b></div><div class=\"sk-container\" hidden><div class=\"sk-item\"><div class=\"sk-estimator sk-toggleable\"><input class=\"sk-toggleable__control sk-hidden--visually\" id=\"sk-estimator-id-1\" type=\"checkbox\" checked><label for=\"sk-estimator-id-1\" class=\"sk-toggleable__label sk-toggleable__label-arrow\">StandardScaler</label><div class=\"sk-toggleable__content\"><pre>StandardScaler()</pre></div></div></div></div></div>"
      ],
      "text/plain": [
       "StandardScaler()"
      ]
     },
     "execution_count": 7,
     "metadata": {},
     "output_type": "execute_result"
    }
   ],
   "source": [
    "from sklearn.preprocessing import StandardScaler\n",
    "scaler = StandardScaler()\n",
    "scaler.fit(X_train)"
   ]
  },
  {
   "cell_type": "code",
   "execution_count": 8,
   "id": "73b68f0f",
   "metadata": {},
   "outputs": [
    {
     "name": "stderr",
     "output_type": "stream",
     "text": [
      "/home/dwalke/.local/lib/python3.10/site-packages/transformers/utils/generic.py:441: UserWarning: torch.utils._pytree._register_pytree_node is deprecated. Please use torch.utils._pytree.register_pytree_node instead.\n",
      "  _torch_pytree._register_pytree_node(\n"
     ]
    }
   ],
   "source": [
    "from torch_geometric.nn import knn_graph\n",
    "from torch_geometric.data import Data\n",
    "\n",
    "edge_index = knn_graph(torch.from_numpy(scaler.transform(X_all)).type(torch.float),k = 4, loop = True, num_workers = -1)\n",
    "graph = Data(x= torch.from_numpy(scaler.transform(X_all)).type(torch.float),  edge_index = edge_index, y = y_all)"
   ]
  },
  {
   "cell_type": "markdown",
   "id": "3414af85",
   "metadata": {},
   "source": [
    "## Define model"
   ]
  },
  {
   "cell_type": "markdown",
   "id": "ffa14d28",
   "metadata": {},
   "source": [
    "## Model in paper GraphSAGE"
   ]
  },
  {
   "cell_type": "code",
   "execution_count": 9,
   "id": "c813f63f",
   "metadata": {},
   "outputs": [],
   "source": [
    "import torch.nn.functional as F\n",
    "from torch_geometric.nn import SAGEConv\n",
    "import torch\n",
    "from dataAnalysis.Constants import FEATURES\n",
    "\n",
    "class GraphNeuralNetwork(torch.nn.Module):\n",
    "    \n",
    "    def __init__(self, hidden_dim = 128, out_channels = 1):\n",
    "        super(GraphNeuralNetwork, self).__init__()\n",
    "        \n",
    "        input_dim = len(FEATURES)          \n",
    "        self.conv1 = SAGEConv(input_dim, hidden_dim, normalize=True, project= True, aggr = \"mean\", root_weight = True)\n",
    "        self.conv_end = SAGEConv(hidden_dim, out_channels, aggr = \"mean\", root_weight = True)\n",
    "        self._estimator_type = \"classifier\"\n",
    "        self.classes_ = [None]\n",
    "\n",
    "\n",
    "    def forward(self, graph):\n",
    "        x, edge_index = graph.x, graph.edge_index\n",
    "        x = torch.relu(self.conv1(x, edge_index))\n",
    "        x = self.conv_end(x, edge_index)\n",
    "        return x\n",
    "            \n",
    "    def predict_proba(self, graph, mask):\n",
    "        with torch.inference_mode():\n",
    "            self.eval()\n",
    "            logits = self.forward(graph)\n",
    "            scores = torch.sigmoid(torch.squeeze(logits[mask]))\n",
    "            scores = torch.unsqueeze(scores, 0)\n",
    "            proba_predict = torch.concat((1- scores, scores), dim = 0)\n",
    "            return torch.transpose(proba_predict, 0, 1)\n",
    "            \n",
    "    def predict(self, graph, mask):\n",
    "        return torch.round(self.predict_proba(graph, mask)[:, 1])\n",
    "\n",
    "    def fit(self):\n",
    "        pass\n",
    "\n",
    "    def __sklearn_is_fitted__(self):\n",
    "        return True\n",
    "        \n",
    "    def var_fun_(self):\n",
    "        pass"
   ]
  },
  {
   "cell_type": "markdown",
   "id": "f298433d",
   "metadata": {},
   "source": [
    "## Shift data to device"
   ]
  },
  {
   "cell_type": "code",
   "execution_count": 10,
   "id": "0b14d5c9",
   "metadata": {},
   "outputs": [
    {
     "name": "stdout",
     "output_type": "stream",
     "text": [
      "Data shifted to the device cuda:0\n"
     ]
    }
   ],
   "source": [
    "device = torch.device(\"cuda:0\") if torch.cuda.is_available() else torch.device(\"cpu\")\n",
    "\n",
    "graph = graph.to(device)\n",
    "WEIGHT = torch.tensor([664])\n",
    "WEIGHT = WEIGHT.to(device)\n",
    "\n",
    "print(\"Data shifted to the device \" + str(device))"
   ]
  },
  {
   "cell_type": "markdown",
   "id": "effc3e47",
   "metadata": {},
   "source": [
    "## Model-Wrapper class"
   ]
  },
  {
   "cell_type": "code",
   "execution_count": 11,
   "id": "dc431f46",
   "metadata": {},
   "outputs": [],
   "source": [
    "import torch \n",
    "from tqdm.notebook import tqdm\n",
    "\n",
    "class ModelWrapper():\n",
    "    def __init__(self, graph):\n",
    "        self.LEARNING_RATE = 3e-4\n",
    "        self.MAX_EPOCHS = 10000# 40000\n",
    "\n",
    "        self.model = GraphNeuralNetwork(hidden_dim = 128, out_channels=1) \n",
    "        self.model = self.model.to(device)\n",
    "        self.optimizer = torch.optim.Adam(self.model.parameters(), lr=self.LEARNING_RATE,betas=(0.9, 0.999), eps=1e-08)\n",
    "        self.graph = graph\n",
    "        \n",
    "        self.last_loss = 0\n",
    "        self.increased_loss = 0\n",
    "        self.BREAKING_THRESHOLD = 10    \n",
    "        self.val_loss = []\n",
    "        self.train_loss = []\n",
    "    \n",
    "    def validate(self):\n",
    "        with torch.inference_mode():\n",
    "            self.model.eval()\n",
    "            out = self.model(self.graph)\n",
    "            loss = F.binary_cross_entropy_with_logits(torch.squeeze(out[val_mask]), self.graph.y[val_mask].type(torch.float32),\n",
    "                                                      pos_weight=WEIGHT)\n",
    "            self.val_loss.append(loss.item())\n",
    "            if loss.item() > self.last_loss:\n",
    "                self.increased_loss += 1\n",
    "            else:\n",
    "                self.increased_loss = 0\n",
    "            self.last_loss = loss.item()\n",
    "\n",
    "    def train(self):\n",
    "        for epoch in tqdm(range(self.MAX_EPOCHS)):\n",
    "            self.model.train()\n",
    "            self.optimizer.zero_grad()\n",
    "            out = self.model(self.graph)\n",
    "            loss = F.binary_cross_entropy_with_logits(torch.squeeze(out[train_mask]), self.graph.y[train_mask].type(torch.float32),\n",
    "                                                      pos_weight=WEIGHT)\n",
    "            self.train_loss.append(loss.item())\n",
    "            loss.backward()\n",
    "            self.optimizer.step()\n",
    "            self.validate() \n",
    "\n",
    "            if self.increased_loss >= self.BREAKING_THRESHOLD:\n",
    "#                 print(f\"Breaked at {str(epoch)}\")\n",
    "                break\n",
    "            \n",
    "    def get_model(self):\n",
    "        return self.model    \n",
    "    \n",
    "    def plot_loss(self):\n",
    "        plt.plot(self.epochs, self.train_loss, 'g', label='Training loss')\n",
    "        plt.plot(self.epochs, self.val_loss, 'y', label='Validation loss')\n",
    "        plt.xlabel('Epochs')\n",
    "        plt.ylabel('Loss')\n",
    "        plt.legend()\n",
    "        plt.show()"
   ]
  },
  {
   "cell_type": "code",
   "execution_count": 12,
   "id": "83fad202",
   "metadata": {
    "scrolled": true
   },
   "outputs": [
    {
     "data": {
      "application/vnd.jupyter.widget-view+json": {
       "model_id": "31ea51c26d484fb28895f755e7fa1f8e",
       "version_major": 2,
       "version_minor": 0
      },
      "text/plain": [
       "  0%|          | 0/10000 [00:00<?, ?it/s]"
      ]
     },
     "metadata": {},
     "output_type": "display_data"
    },
    {
     "name": "stdout",
     "output_type": "stream",
     "text": [
      "398.8578071594238\n"
     ]
    }
   ],
   "source": [
    "import time \n",
    "model_wrapper = ModelWrapper(graph)\n",
    "start = time.time()\n",
    "model_wrapper.train()\n",
    "print(time.time()-start)\n",
    "model = model_wrapper.get_model()"
   ]
  },
  {
   "cell_type": "markdown",
   "id": "1665b464",
   "metadata": {},
   "source": [
    "## Shift data and model back to CPU for evaluation"
   ]
  },
  {
   "cell_type": "code",
   "execution_count": 13,
   "id": "eae71419",
   "metadata": {},
   "outputs": [],
   "source": [
    "graph = graph.cpu()\n",
    "model = model.cpu()"
   ]
  },
  {
   "cell_type": "markdown",
   "id": "df674f0c",
   "metadata": {},
   "source": [
    "## Evaluation"
   ]
  },
  {
   "cell_type": "code",
   "execution_count": 14,
   "id": "c8ad8672",
   "metadata": {},
   "outputs": [
    {
     "name": "stderr",
     "output_type": "stream",
     "text": [
      "/home/dwalke/.local/lib/python3.10/site-packages/transformers/utils/generic.py:309: UserWarning: torch.utils._pytree._register_pytree_node is deprecated. Please use torch.utils._pytree.register_pytree_node instead.\n",
      "  _torch_pytree._register_pytree_node(\n",
      "/home/dwalke/.local/lib/python3.10/site-packages/transformers/utils/generic.py:309: UserWarning: torch.utils._pytree._register_pytree_node is deprecated. Please use torch.utils._pytree.register_pytree_node instead.\n",
      "  _torch_pytree._register_pytree_node(\n"
     ]
    }
   ],
   "source": [
    "from dataAnalysis.Metrics import Evaluation\n",
    "\n",
    "evaluation = Evaluation(y_test.cpu(), y_gw_test.cpu(), X_test.cpu(), X_gw_test.cpu())\n",
    "evaluation.set_test_args([graph, test_l_mask])\n",
    "evaluation.set_gw_args([graph, test_gw_mask])"
   ]
  },
  {
   "cell_type": "code",
   "execution_count": 15,
   "id": "9a9713c0",
   "metadata": {},
   "outputs": [
    {
     "data": {
      "text/html": [
       "<div>\n",
       "<style scoped>\n",
       "    .dataframe tbody tr th:only-of-type {\n",
       "        vertical-align: middle;\n",
       "    }\n",
       "\n",
       "    .dataframe tbody tr th {\n",
       "        vertical-align: top;\n",
       "    }\n",
       "\n",
       "    .dataframe thead th {\n",
       "        text-align: right;\n",
       "    }\n",
       "</style>\n",
       "<table border=\"1\" class=\"dataframe\">\n",
       "  <thead>\n",
       "    <tr style=\"text-align: right;\">\n",
       "      <th></th>\n",
       "      <th>Name</th>\n",
       "      <th>MCC</th>\n",
       "      <th>F1-Micro</th>\n",
       "      <th>F1-Macro</th>\n",
       "      <th>F1-Binary</th>\n",
       "      <th>AUROC</th>\n",
       "      <th>AUPRC</th>\n",
       "    </tr>\n",
       "  </thead>\n",
       "  <tbody>\n",
       "    <tr>\n",
       "      <th>0</th>\n",
       "      <td>Leipzig</td>\n",
       "      <td>0.050249</td>\n",
       "      <td>0.774915</td>\n",
       "      <td>0.441226</td>\n",
       "      <td>0.009420</td>\n",
       "      <td>0.874125</td>\n",
       "      <td>0.019235</td>\n",
       "    </tr>\n",
       "    <tr>\n",
       "      <th>1</th>\n",
       "      <td>Greifswald</td>\n",
       "      <td>0.030679</td>\n",
       "      <td>0.653520</td>\n",
       "      <td>0.397486</td>\n",
       "      <td>0.004721</td>\n",
       "      <td>0.809208</td>\n",
       "      <td>0.005536</td>\n",
       "    </tr>\n",
       "  </tbody>\n",
       "</table>\n",
       "</div>"
      ],
      "text/plain": [
       "         Name       MCC  F1-Micro  F1-Macro  F1-Binary     AUROC     AUPRC\n",
       "0     Leipzig  0.050249  0.774915  0.441226   0.009420  0.874125  0.019235\n",
       "1  Greifswald  0.030679  0.653520  0.397486   0.004721  0.809208  0.005536"
      ]
     },
     "execution_count": 15,
     "metadata": {},
     "output_type": "execute_result"
    },
    {
     "data": {
      "image/png": "[encoded data removed]",
      "text/plain": [
       "<Figure size 640x480 with 2 Axes>"
      ]
     },
     "metadata": {},
     "output_type": "display_data"
    }
   ],
   "source": [
    "evaluation.plot_confusion_matrix(model)\n",
    "evaluation.get_df_metrics(model)"
   ]
  },
  {
   "cell_type": "markdown",
   "id": "06294b6a-fe0c-4af7-98e0-cbd9dd8e8968",
   "metadata": {},
   "source": [
    "## Partial Dependence"
   ]
  },
  {
   "cell_type": "code",
   "execution_count": 16,
   "id": "03bb48e3-58b4-437f-b402-0f02236a483c",
   "metadata": {},
   "outputs": [],
   "source": [
    "def create_graph(X, edge_index = None):\n",
    "    edge_index_train = knn_graph(X_train ,k = 4, loop = True, num_workers = -1)\n",
    "    return Data(x= torch.from_numpy(scaler.transform(X)).type(torch.float),  edge_index = edge_index_train)"
   ]
  },
  {
   "cell_type": "code",
   "execution_count": 18,
   "id": "c0687fc9-61b4-478c-9acc-5ee4b9ecccda",
   "metadata": {},
   "outputs": [
    {
     "data": {
      "application/vnd.jupyter.widget-view+json": {
       "model_id": "038a95fafd3a47c386c2ab5d6926179a",
       "version_major": 2,
       "version_minor": 0
      },
      "text/plain": [
       "  0%|          | 0/7 [00:00<?, ?it/s]"
      ]
     },
     "metadata": {},
     "output_type": "display_data"
    }
   ],
   "source": [
    "from feature_variation.PartialDependence import PartialDependence\n",
    "partial_dependence = PartialDependence(model, X_train, create_graph=create_graph)\n",
    "partial_dependence.write_partial_dependence_values(\"Homogeneous GNN\")"
   ]
  },
  {
   "cell_type": "code",
   "execution_count": 19,
   "id": "406fa3db-f8ad-41d6-9ea7-7ce39c687728",
   "metadata": {},
   "outputs": [
    {
     "data": {
      "text/plain": [
       "{0: array([0.13130495, 0.13241562, 0.13361812, 0.13491635, 0.13631469,\n",
       "        0.13781753, 0.13942946, 0.14115477, 0.1429981 , 0.14496368,\n",
       "        0.14705519, 0.149276  , 0.15162905, 0.15411697, 0.15674178,\n",
       "        0.15950604, 0.162411  , 0.16545998, 0.16865596, 0.17200306,\n",
       "        0.17550217, 0.17915365, 0.18295717, 0.18690787, 0.19100237,\n",
       "        0.19523133, 0.19958243, 0.2040419 , 0.20859684, 0.21323399,\n",
       "        0.2179383 , 0.22269437, 0.22749111, 0.23231734, 0.23716451,\n",
       "        0.24202345, 0.24689069, 0.25176427, 0.25664312, 0.26152757,\n",
       "        0.26641989, 0.27131963, 0.27622715, 0.28114045, 0.28605211,\n",
       "        0.29095414, 0.29583365, 0.30067018, 0.30544695, 0.31014583,\n",
       "        0.31474742, 0.31923571, 0.32359737, 0.32782462, 0.3319152 ,\n",
       "        0.33586898, 0.33969215, 0.34339732, 0.34699687, 0.35050336,\n",
       "        0.35393742, 0.3573111 , 0.36063719, 0.36392131, 0.3671709 ,\n",
       "        0.37039143, 0.37358743, 0.37676427, 0.37992311, 0.3830626 ,\n",
       "        0.38618046, 0.38927612, 0.39234841, 0.39539826, 0.39842722,\n",
       "        0.40143603, 0.40442577, 0.40739882, 0.41035664, 0.41329998,\n",
       "        0.4162305 , 0.41915053, 0.42206097, 0.42496258, 0.4278554 ,\n",
       "        0.43073824, 0.43361008, 0.43646839, 0.4393101 ]),\n",
       " 1: array([0.29904214, 0.22868198]),\n",
       " 2: array([0.78996956, 0.78595406, 0.7818293 , 0.77759355, 0.77324528,\n",
       "        0.76878273, 0.76420408, 0.75950706, 0.75468987, 0.74975145,\n",
       "        0.74469024, 0.73950458, 0.73419327, 0.72875512, 0.7231884 ,\n",
       "        0.71749276, 0.71166784, 0.70571429, 0.69963086, 0.69341791,\n",
       "        0.68707591, 0.6806047 , 0.6740067 , 0.66728342, 0.66043693,\n",
       "        0.65346944, 0.64638305, 0.63918138, 0.63186705, 0.62444371,\n",
       "        0.61691481, 0.60928577, 0.60155982, 0.59374136, 0.58583492,\n",
       "        0.5778451 , 0.56977731, 0.56163633, 0.55342823, 0.54516   ,\n",
       "        0.53683752, 0.52846718, 0.52005625, 0.51161206, 0.50314325,\n",
       "        0.49465817, 0.48616585, 0.47767663, 0.46920022, 0.46074587,\n",
       "        0.45232156, 0.4439393 , 0.43561012, 0.42734537, 0.41915745,\n",
       "        0.41105631, 0.40305343, 0.39515802, 0.38738212, 0.37973598,\n",
       "        0.37222928, 0.36487392, 0.35768014, 0.35065997, 0.34382406,\n",
       "        0.33718038, 0.33073658, 0.32450327, 0.31848794, 0.31270042,\n",
       "        0.30714607, 0.30183178, 0.29676214, 0.29194191, 0.28737399,\n",
       "        0.28306228, 0.27900699, 0.27520823, 0.27166381, 0.2683717 ,\n",
       "        0.265329  , 0.26253286, 0.25997889, 0.25766101, 0.2555725 ,\n",
       "        0.25370598, 0.25205407, 0.25060859, 0.24936034, 0.24830103,\n",
       "        0.24742173, 0.24671268, 0.24616583, 0.2457711 , 0.24551922,\n",
       "        0.24540249, 0.24541256, 0.24554041, 0.24577826, 0.24611869]),\n",
       " 3: array([0.20136009, 0.2002354 , 0.19913834, 0.19807118, 0.19703594,\n",
       "        0.19603501, 0.19507086, 0.19414602, 0.19326323, 0.1924253 ,\n",
       "        0.1916353 , 0.1908965 , 0.19021192, 0.18958521, 0.18901989,\n",
       "        0.18851985, 0.18808913, 0.18773191, 0.18745282, 0.18725671,\n",
       "        0.18714871, 0.18713386, 0.18721773, 0.18740611, 0.1877055 ,\n",
       "        0.18812236, 0.18866338, 0.18933575, 0.19014685, 0.19110462,\n",
       "        0.19221725, 0.1934936 , 0.19494231, 0.19657241, 0.19839358,\n",
       "        0.20041586, 0.20264955, 0.20510484, 0.20779195, 0.21072178,\n",
       "        0.21390505, 0.21735252, 0.22107473, 0.22508197, 0.22938423,\n",
       "        0.23399073, 0.23891091, 0.24415308, 0.24972345, 0.25562686,\n",
       "        0.26186758, 0.26844704, 0.27536401, 0.28261492, 0.29019415,\n",
       "        0.29809245, 0.30629805, 0.31479689, 0.32357216, 0.33260384,\n",
       "        0.34186971, 0.3513456 , 0.36100468, 0.37082002, 0.38076454,\n",
       "        0.39080939, 0.40092573, 0.41108611, 0.4212642 , 0.43143439,\n",
       "        0.44157207, 0.45165426, 0.46166137, 0.47157532, 0.48138002,\n",
       "        0.49106139, 0.50060755, 0.51000822, 0.51925516, 0.52834171,\n",
       "        0.53726321, 0.54601598, 0.55459726, 0.5630061 , 0.57124174,\n",
       "        0.57930452, 0.58719575, 0.59491718, 0.60247082, 0.60985893,\n",
       "        0.61708456, 0.62415045, 0.63105965, 0.63781559, 0.6444217 ,\n",
       "        0.65088135, 0.65719783, 0.66337508, 0.66941625, 0.67532492]),\n",
       " 4: array([0.43574977, 0.43301222, 0.43026942, 0.42752379, 0.42477769,\n",
       "        0.4220334 , 0.41929305, 0.41655946, 0.41383612, 0.41112557,\n",
       "        0.40843099, 0.40575579, 0.40310344, 0.40047696, 0.39787984,\n",
       "        0.39531556, 0.39278814, 0.39030027, 0.38785627, 0.38545969,\n",
       "        0.3831149 , 0.3808251 , 0.37859419, 0.37642568, 0.37432218,\n",
       "        0.37228838, 0.37032843, 0.36844501, 0.36664096, 0.36492091,\n",
       "        0.36328933, 0.36175027, 0.3603074 , 0.3589642 , 0.3577241 ,\n",
       "        0.35659105, 0.35556808, 0.35465977, 0.35387036, 0.35320544,\n",
       "        0.35266984, 0.35226688, 0.35200164, 0.3518793 , 0.35190499,\n",
       "        0.35208529, 0.35242501, 0.35293007, 0.35360533, 0.35445657,\n",
       "        0.35548908, 0.35670918, 0.35812435, 0.3597396 , 0.36156207,\n",
       "        0.36359736, 0.36585119, 0.36832994, 0.37104207, 0.37399369,\n",
       "        0.37719077, 0.3806386 , 0.38434452, 0.38831586, 0.39255887,\n",
       "        0.39707991, 0.40188605, 0.40698478, 0.41238195, 0.41808087,\n",
       "        0.42408779, 0.43040672, 0.43704125, 0.44399258, 0.45126191,\n",
       "        0.45884842, 0.46674997, 0.47496271, 0.48348194, 0.49229977,\n",
       "        0.50140578, 0.51078677, 0.52042794, 0.53031021, 0.54041529,\n",
       "        0.5507223 , 0.56120604, 0.5718419 , 0.58260316, 0.59346104,\n",
       "        0.60438603, 0.61535084, 0.62632412, 0.63727945, 0.64818704,\n",
       "        0.65901858, 0.66974705, 0.6803453 , 0.69078737, 0.70104945]),\n",
       " 5: array([0.34410259, 0.34158158, 0.33908141, 0.33660382, 0.33415076,\n",
       "        0.33172348, 0.32932389, 0.32695496, 0.32461831, 0.32231614,\n",
       "        0.32005095, 0.31782541, 0.31564191, 0.31350294, 0.31141075,\n",
       "        0.3093684 , 0.3073785 , 0.30544403, 0.30356842, 0.30175474,\n",
       "        0.30000576, 0.29832432, 0.29671335, 0.29517639, 0.29371673,\n",
       "        0.29233864, 0.29104567, 0.28984118, 0.28872943, 0.28771415,\n",
       "        0.28679919, 0.28598803, 0.28528452, 0.28469354, 0.28421995,\n",
       "        0.28386858, 0.28364336, 0.28354862, 0.28358972, 0.28377232,\n",
       "        0.2841011 , 0.28458157, 0.28521922, 0.28601936, 0.28698719,\n",
       "        0.2881282 , 0.28944713, 0.29094967, 0.29264182, 0.29452893,\n",
       "        0.29661691, 0.2989102 , 0.30141458, 0.30413577, 0.30707726,\n",
       "        0.31024289, 0.31363657, 0.31726196, 0.32112327, 0.32522261,\n",
       "        0.32956168, 0.33414251, 0.33896506, 0.34402719, 0.34932828,\n",
       "        0.35486653, 0.3606385 , 0.36664116, 0.37286839, 0.37931529,\n",
       "        0.38597497, 0.3928383 , 0.39989769, 0.40714255, 0.41456407,\n",
       "        0.4221518 , 0.42989337, 0.43777493, 0.4457854 , 0.45391139,\n",
       "        0.46213976, 0.47045603, 0.4788461 , 0.4872973 , 0.49579543,\n",
       "        0.50432533, 0.51287472, 0.52142966, 0.52997714, 0.53850383,\n",
       "        0.54699802, 0.55544817, 0.56384408, 0.57217455, 0.58042955,\n",
       "        0.58860058, 0.59667951, 0.60465831, 0.61253023, 0.62028909]),\n",
       " 6: array([0.65877599, 0.6470896 , 0.63507539, 0.62275463, 0.61015171,\n",
       "        0.59729481, 0.58421582, 0.57094938, 0.55753058, 0.54399723,\n",
       "        0.53038955, 0.51675171, 0.5031268 , 0.48955849, 0.47609165,\n",
       "        0.46276838, 0.44963184, 0.43672112, 0.42407435, 0.41172346,\n",
       "        0.39969882, 0.38802603, 0.37672365, 0.36580575, 0.35528252,\n",
       "        0.34516037, 0.33544111, 0.32612422, 0.31720701, 0.30868411,\n",
       "        0.30055165, 0.2928001 , 0.28542259, 0.27841207, 0.27176175,\n",
       "        0.26546216, 0.25950679, 0.25388339, 0.24858543, 0.24360231,\n",
       "        0.23892429, 0.23454227, 0.23044367, 0.2266182 , 0.22305618,\n",
       "        0.21974707, 0.2166775 , 0.21383759, 0.21121506, 0.20879683,\n",
       "        0.20657158, 0.20452669, 0.20265162, 0.20093584, 0.19936544,\n",
       "        0.19793154, 0.19662437, 0.19543421, 0.19435163, 0.19336767,\n",
       "        0.19247426, 0.19166462, 0.19093159, 0.19026938, 0.18967232,\n",
       "        0.18913531, 0.18865332, 0.18822238, 0.18783878, 0.18749936,\n",
       "        0.1872008 , 0.18694042, 0.18671593, 0.1865253 , 0.18636748,\n",
       "        0.18624049, 0.18614328, 0.18607467, 0.18603401, 0.18602039,\n",
       "        0.1860328 , 0.18607077, 0.18613289, 0.18621872, 0.18632768,\n",
       "        0.18645912, 0.18661305, 0.18678826, 0.18698418, 0.18720004,\n",
       "        0.18743527, 0.18768924, 0.18796125, 0.18825085, 0.18855733,\n",
       "        0.18887997, 0.18921834, 0.18957183, 0.18993998, 0.19032231])}"
      ]
     },
     "execution_count": 19,
     "metadata": {},
     "output_type": "execute_result"
    }
   ],
   "source": [
    "partial_dependence.pdps"
   ]
  },
  {
   "cell_type": "markdown",
   "id": "2ffc5517",
   "metadata": {},
   "source": [
    "## Error evaluation"
   ]
  },
  {
   "cell_type": "code",
   "execution_count": null,
   "id": "72b5e8ab",
   "metadata": {
    "scrolled": true
   },
   "outputs": [],
   "source": [
    "import time\n",
    "\n",
    "number_of_iter = 100\n",
    "dataframes =[]\n",
    "gnn_models = []\n",
    "times = []\n",
    "for i in range(number_of_iter):\n",
    "#     print(i)\n",
    "    graph = graph.to(device)\n",
    "    start = time.time()\n",
    "    model_wrapper = ModelWrapper(graph)\n",
    "    model_wrapper.train()\n",
    "    times.append(time.time()-start)\n",
    "    print(time.time()- start)\n",
    "    model = model_wrapper.get_model()\n",
    "    model = model.cpu()\n",
    "    graph = graph.cpu()\n",
    "    df = evaluation.get_df_metrics(model)\n",
    "    print(df)\n",
    "    dataframes.append(df)\n",
    "    gnn_models.append(model)"
   ]
  },
  {
   "cell_type": "code",
   "execution_count": null,
   "id": "13a07f32",
   "metadata": {},
   "outputs": [],
   "source": [
    "for t in times:\n",
    "    print(t)"
   ]
  },
  {
   "cell_type": "code",
   "execution_count": null,
   "id": "acaea966",
   "metadata": {},
   "outputs": [],
   "source": [
    "for df in dataframes:\n",
    "    print(df)"
   ]
  }
 ],
 "metadata": {
  "kernelspec": {
   "display_name": "Python 3 (ipykernel)",
   "language": "python",
   "name": "python3"
  },
  "language_info": {
   "codemirror_mode": {
    "name": "ipython",
    "version": 3
   },
   "file_extension": ".py",
   "mimetype": "text/x-python",
   "name": "python",
   "nbconvert_exporter": "python",
   "pygments_lexer": "ipython3",
   "version": "3.10.12"
  }
 },
 "nbformat": 4,
 "nbformat_minor": 5
}
