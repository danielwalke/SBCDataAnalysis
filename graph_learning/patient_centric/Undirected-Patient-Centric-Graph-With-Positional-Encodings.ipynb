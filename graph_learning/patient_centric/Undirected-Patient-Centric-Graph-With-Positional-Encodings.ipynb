{
 "cells": [
  {
   "cell_type": "markdown",
   "id": "a11a4ca8",
   "metadata": {},
   "source": [
    "## Graph Attention Networks on undirected graph"
   ]
  },
  {
   "cell_type": "code",
   "execution_count": 1,
   "id": "101681db",
   "metadata": {},
   "outputs": [
    {
     "name": "stderr",
     "output_type": "stream",
     "text": [
      "/home/dwalke/git/sbc/graph_learning/patient_centric/../../dataAnalysis/data/Filter.py:34: SettingWithCopyWarning: \n",
      "A value is trying to be set on a copy of a slice from a DataFrame.\n",
      "Try using .loc[row_indexer,col_indexer] = value instead\n",
      "\n",
      "See the caveats in the documentation: https://pandas.pydata.org/pandas-docs/stable/user_guide/indexing.html#returning-a-view-versus-a-copy\n",
      "  self.data['Label'] = self.data['Diagnosis']\n",
      "/home/dwalke/git/sbc/graph_learning/patient_centric/../../dataAnalysis/data/Filter.py:34: SettingWithCopyWarning: \n",
      "A value is trying to be set on a copy of a slice from a DataFrame.\n",
      "Try using .loc[row_indexer,col_indexer] = value instead\n",
      "\n",
      "See the caveats in the documentation: https://pandas.pydata.org/pandas-docs/stable/user_guide/indexing.html#returning-a-view-versus-a-copy\n",
      "  self.data['Label'] = self.data['Diagnosis']\n",
      "/home/dwalke/git/sbc/graph_learning/patient_centric/../../dataAnalysis/data/Filter.py:34: SettingWithCopyWarning: \n",
      "A value is trying to be set on a copy of a slice from a DataFrame.\n",
      "Try using .loc[row_indexer,col_indexer] = value instead\n",
      "\n",
      "See the caveats in the documentation: https://pandas.pydata.org/pandas-docs/stable/user_guide/indexing.html#returning-a-view-versus-a-copy\n",
      "  self.data['Label'] = self.data['Diagnosis']\n"
     ]
    }
   ],
   "source": [
    "import sys\n",
    "sys.path.insert(0, \"../../\")\n",
    "from dataAnalysis.DataAnalysis import DataAnalysis\n",
    "import pandas as pd\n",
    "import numpy as np\n",
    "import torch\n",
    " \n",
    "\n",
    "data = pd.read_csv(r\"../../extdata/sbcdata.csv\", header=0)\n",
    "data_analysis = DataAnalysis(data)"
   ]
  },
  {
   "cell_type": "markdown",
   "id": "d9efc45a",
   "metadata": {},
   "source": [
    "## Sort data based on ID for matching edge index"
   ]
  },
  {
   "cell_type": "code",
   "execution_count": 2,
   "id": "1591ad15",
   "metadata": {},
   "outputs": [],
   "source": [
    "data = pd.concat((data_analysis.get_training_data(), data_analysis.get_testing_data()))\n",
    "max_Id = data[\"Id\"].unique().max()\n",
    "gw_data = data_analysis.get_gw_testing_data().copy(deep=True)\n",
    "gw_data = gw_data.assign(Id=lambda x: x.Id + max_Id)\n",
    "data = pd.concat((data, gw_data))\n",
    "data = data.sort_values([\"Id\", \"Time\"])\n",
    "data = data.reset_index(drop=True)\n",
    "popped_index = data.pop(\"index\")"
   ]
  },
  {
   "cell_type": "markdown",
   "id": "06361768",
   "metadata": {},
   "source": [
    "## Reading edge index"
   ]
  },
  {
   "cell_type": "code",
   "execution_count": 3,
   "id": "756329ba",
   "metadata": {},
   "outputs": [],
   "source": [
    "edge_index = torch.tensor(pd.read_csv(\"edge_index/undirected_edge_index.csv\", header=None, skiprows=1).values.transpose(), dtype=torch.long)"
   ]
  },
  {
   "cell_type": "markdown",
   "id": "cfd4ee20",
   "metadata": {},
   "source": [
    "## Pre-processing categorical variables"
   ]
  },
  {
   "cell_type": "code",
   "execution_count": 4,
   "id": "b446b9a1",
   "metadata": {},
   "outputs": [],
   "source": [
    "from dataAnalysis.Constants import SEX_CATEGORY_COLUMN_NAME, SEX_COLUMN_NAME, FEATURES\n",
    "data[SEX_CATEGORY_COLUMN_NAME] = data.loc[:, SEX_COLUMN_NAME] ==\"W\"\n",
    "\n",
    "data[SEX_CATEGORY_COLUMN_NAME] = data[SEX_CATEGORY_COLUMN_NAME].astype(\"int8\")\n",
    "data[\"Label\"] = data[\"Label\"] == \"Sepsis\"\n",
    "data[\"Label\"] = data[\"Label\"].astype(\"int8\")"
   ]
  },
  {
   "cell_type": "markdown",
   "id": "d1d4d8f5",
   "metadata": {},
   "source": [
    "## Set features and labels"
   ]
  },
  {
   "cell_type": "code",
   "execution_count": 5,
   "id": "b5b293ab",
   "metadata": {},
   "outputs": [],
   "source": [
    "X_features = torch.tensor(data[FEATURES].values).type(torch.float32)\n",
    "y = torch.tensor(data[\"Label\"].values).type(torch.long)"
   ]
  },
  {
   "cell_type": "markdown",
   "id": "4098301a",
   "metadata": {},
   "source": [
    "## Normalize data"
   ]
  },
  {
   "cell_type": "code",
   "execution_count": 6,
   "id": "c7923af3",
   "metadata": {},
   "outputs": [],
   "source": [
    "from dataAnalysis.FeatureImportance import normalize\n",
    "\n",
    "X_features = normalize(X_features)"
   ]
  },
  {
   "cell_type": "markdown",
   "id": "b84390e9",
   "metadata": {},
   "source": [
    "## Reading and adding positional encodings"
   ]
  },
  {
   "cell_type": "code",
   "execution_count": 7,
   "id": "fc415746",
   "metadata": {},
   "outputs": [],
   "source": [
    "pos_encodings = pd.read_csv(\"positional_encodings/positional_encodings.csv\", header=None, skiprows=1)\n",
    "\n",
    "pos_encodings = pos_encodings.values"
   ]
  },
  {
   "cell_type": "code",
   "execution_count": 8,
   "id": "ec3b63d8",
   "metadata": {},
   "outputs": [
    {
     "data": {
      "text/plain": [
       "tensor([[ 1.1067, -0.9899,  0.4046,  ...,  0.3607, -0.4256, -0.6549],\n",
       "        [-1.2956, -0.9899,  2.0656,  ...,  2.3851, -1.3951, -0.3717],\n",
       "        [-0.6404,  1.0102,  0.8033,  ...,  0.3729,  0.1943,  0.5042],\n",
       "        ...,\n",
       "        [-0.1490, -0.9899,  0.4046,  ...,  0.5314, -0.1713, -0.1417],\n",
       "        [ 0.0693,  1.0102,  1.0690,  ...,  0.8973,  0.2102,  0.8493],\n",
       "        [ 0.0693,  1.0102,  1.4676,  ...,  1.3851,  0.4804,  1.1501]])"
      ]
     },
     "execution_count": 8,
     "metadata": {},
     "output_type": "execute_result"
    }
   ],
   "source": [
    "X_features"
   ]
  },
  {
   "cell_type": "code",
   "execution_count": 9,
   "id": "8ba9f843",
   "metadata": {},
   "outputs": [],
   "source": [
    "X_new_features = X_features + pos_encodings"
   ]
  },
  {
   "cell_type": "markdown",
   "id": "1fb447b6",
   "metadata": {},
   "source": [
    "## Create train, validation and test masks"
   ]
  },
  {
   "cell_type": "code",
   "execution_count": 10,
   "id": "37effc18",
   "metadata": {},
   "outputs": [],
   "source": [
    "def ratio_bool_switch(tensor, ratio = 0.8):\n",
    "    random = np.random.uniform(0, 1 ,tensor.shape[0])\n",
    "    val_ratio_mask = (random >= 0.8)\n",
    "    train_ratio_mask = (random < 0.8)\n",
    "    val_mask = np.logical_and(tensor.tolist(), val_ratio_mask.tolist())\n",
    "    train_mask = np.logical_and(tensor.tolist(), train_ratio_mask.tolist())\n",
    "    return torch.from_numpy(train_mask).type(torch.bool), torch.from_numpy(val_mask).type(torch.bool)"
   ]
  },
  {
   "cell_type": "code",
   "execution_count": 11,
   "id": "c2ae8cbf",
   "metadata": {},
   "outputs": [],
   "source": [
    "train_mask_ser = data[\"Set\"] != \"Validation\"\n",
    "train_mask, val_mask = ratio_bool_switch(train_mask_ser.values)\n",
    "test_mask = torch.from_numpy(np.logical_and((data[\"Set\"] == \"Validation\").values, (data[\"Center\"] == \"Leipzig\").values)).type(torch.bool)\n",
    "test_gw_mask = torch.from_numpy(np.logical_and((data[\"Set\"] == \"Validation\").values, (data[\"Center\"] == \"Greifswald\").values)).type(torch.bool)"
   ]
  },
  {
   "cell_type": "markdown",
   "id": "a44016b0",
   "metadata": {},
   "source": [
    "## Create patient-centric graph"
   ]
  },
  {
   "cell_type": "code",
   "execution_count": 12,
   "id": "72bd4805",
   "metadata": {},
   "outputs": [],
   "source": [
    "from torch_geometric.data import Data\n",
    "\n",
    "graph = Data(x=X_new_features, train_mask = train_mask, test_mask=test_mask, val_mask=val_mask, y= y, edge_index=edge_index,\n",
    "             test_gw_mask = test_gw_mask)"
   ]
  },
  {
   "cell_type": "markdown",
   "id": "577510d1",
   "metadata": {},
   "source": [
    "## Create graph batches"
   ]
  },
  {
   "cell_type": "code",
   "execution_count": 13,
   "id": "66aca9eb",
   "metadata": {},
   "outputs": [],
   "source": [
    "from torch_geometric.loader import NeighborLoader\n",
    "\n",
    "kwargs = {\n",
    "    \"num_neighbors\":[-1] * 2,\n",
    "    \"batch_size\":50_000,\n",
    "    \"shuffle\": True\n",
    "}\n",
    "loader = NeighborLoader(\n",
    "    graph,\n",
    "    input_nodes=graph.train_mask,\n",
    "    **kwargs\n",
    ")\n",
    "val_loader = NeighborLoader(\n",
    "    graph,\n",
    "    input_nodes=graph.val_mask,\n",
    "    **kwargs\n",
    ")"
   ]
  },
  {
   "cell_type": "markdown",
   "id": "de439bfe",
   "metadata": {},
   "source": [
    "## Set device"
   ]
  },
  {
   "cell_type": "code",
   "execution_count": 14,
   "id": "cb2089f8",
   "metadata": {},
   "outputs": [
    {
     "name": "stderr",
     "output_type": "stream",
     "text": [
      "/home/dwalke/miniconda3/lib/python3.10/site-packages/torch/cuda/__init__.py:546: UserWarning: Can't initialize NVML\n",
      "  warnings.warn(\"Can't initialize NVML\")\n"
     ]
    },
    {
     "name": "stdout",
     "output_type": "stream",
     "text": [
      "Data shifted to the device cuda:2\n"
     ]
    }
   ],
   "source": [
    "device = torch.device(\"cuda:2\") if torch.cuda.is_available() else torch.device(\"cpu\")\n",
    "\n",
    "graph = graph.to(device)\n",
    "WEIGHT = torch.tensor([530])\n",
    "WEIGHT = WEIGHT.to(device)\n",
    "\n",
    "print(\"Data shifted to the device \" + str(device))"
   ]
  },
  {
   "cell_type": "markdown",
   "id": "6c1cfd4a",
   "metadata": {},
   "source": [
    "## Define the model"
   ]
  },
  {
   "cell_type": "code",
   "execution_count": 15,
   "id": "54eb5965",
   "metadata": {},
   "outputs": [],
   "source": [
    "import torch.nn.functional as F\n",
    "from torch_geometric.nn import GATConv, GCNConv,GATv2Conv, GINConv, SAGEConv\n",
    "from dataAnalysis.Constants import FEATURES\n",
    "from torch.nn import Linear, ReLU, Sequential\n",
    "from torch.nn import BatchNorm1d as BatchNorm\n",
    "\n",
    "class GraphNeuralNetwork(torch.nn.Module):\n",
    "    def __init__(self, hidden_dim = 128, out_channels = 1):\n",
    "        super(GraphNeuralNetwork, self).__init__()\n",
    "        input_dim = len(FEATURES)      \n",
    "        \n",
    "        HEADS = 5\n",
    "        \n",
    "        conv_1= GATConv(input_dim, hidden_dim,heads=HEADS, add_self_loops = False)\n",
    "        conv_end = GATConv((-1,-1), out_channels,add_self_loops = False)\n",
    "        \n",
    "        self.conv_1 = conv_1\n",
    "        self.conv_end = conv_end\n",
    "        \n",
    "\n",
    "    def forward(self, graph):\n",
    "        x, edge_index = graph.x, graph.edge_index\n",
    "        x = x.type(torch.float)\n",
    "        x = self.conv_1(x, edge_index)\n",
    "        x = F.normalize(x, p=2., dim=-1)\n",
    "        x = torch.relu(x)\n",
    "        x = self.conv_end(x, edge_index)\n",
    "        return x\n",
    "            \n",
    "    def predict_proba(self, graph, mask):\n",
    "        with torch.inference_mode():\n",
    "            self.eval()\n",
    "            logits = self.forward(graph)\n",
    "            scores = torch.sigmoid(torch.squeeze(logits[mask]))\n",
    "            scores = torch.unsqueeze(scores, 0)\n",
    "            proba_predict = torch.concat((1- scores, scores), dim = 0)\n",
    "            return torch.transpose(proba_predict, 0, 1)\n",
    "            \n",
    "    def predict(self, graph, mask):\n",
    "        return torch.round(self.predict_proba(graph, mask)[:, 1])"
   ]
  },
  {
   "cell_type": "markdown",
   "id": "bb182be7",
   "metadata": {},
   "source": [
    "## Model wrapper for training"
   ]
  },
  {
   "cell_type": "code",
   "execution_count": 21,
   "id": "526044da",
   "metadata": {},
   "outputs": [],
   "source": [
    "from tqdm.notebook import tqdm\n",
    "import matplotlib.pyplot as plt \n",
    "class ModelWrapper():\n",
    "    def __init__(self, train_loader, val_loader):\n",
    "        self.LEARNING_RATE = 3e-4\n",
    "        self.MAX_EPOCHS = 10000\n",
    "\n",
    "        self.model = GraphNeuralNetwork(hidden_dim = 128, out_channels=1) \n",
    "        self.model = self.model.to(device)\n",
    "        self.optimizer = torch.optim.Adam(self.model.parameters(), lr=self.LEARNING_RATE,betas=(0.9, 0.999), eps=1e-08)\n",
    "#         self.train_loader = train_loader\n",
    "#         self.val_loader = val_loader\n",
    "        \n",
    "        self.last_loss = 0\n",
    "        self.increased_loss = 0\n",
    "        self.BREAKING_THRESHOLD = 5 \n",
    "        self.val_loss = []\n",
    "        self.train_loss = []\n",
    "        self.epochs = self.MAX_EPOCHS\n",
    "    \n",
    "    def validate(self):\n",
    "        with torch.inference_mode():\n",
    "            self.model.eval()\n",
    "            acc_loss = 0\n",
    "            batch_size = 0\n",
    "            for batch, graph in enumerate(val_loader):\n",
    "                graph = graph.to(device)\n",
    "                out = self.model(graph)\n",
    "                loss = F.binary_cross_entropy_with_logits(torch.squeeze(out)[graph.val_mask], graph.y[graph.val_mask].type(torch.float32),\n",
    "                                                          pos_weight=WEIGHT)\n",
    "                acc_loss += loss.item()\n",
    "                batch_size += 1\n",
    "            avg_loss = acc_loss / batch_size\n",
    "            self.val_loss.append(avg_loss)\n",
    "            if avg_loss > self.last_loss:\n",
    "                self.increased_loss += 1\n",
    "            else:\n",
    "                self.increased_loss = 0\n",
    "            self.last_loss = avg_loss\n",
    "\n",
    "    def train(self):\n",
    "        for epoch in tqdm(range(self.MAX_EPOCHS)):\n",
    "            acc_loss = 0\n",
    "            batch_size = 0\n",
    "            for batch, graph in enumerate(loader):\n",
    "                graph = graph.to(device)\n",
    "                self.model.train()\n",
    "                self.optimizer.zero_grad()\n",
    "                out = self.model(graph)\n",
    "                loss = F.binary_cross_entropy_with_logits(torch.squeeze(out)[graph.train_mask], graph.y[graph.train_mask].type(torch.float32),\n",
    "                                                          pos_weight=WEIGHT)\n",
    "                acc_loss += loss.item()\n",
    "                batch_size += 1\n",
    "                loss.backward()\n",
    "                self.optimizer.step()\n",
    "            self.train_loss.append(acc_loss/batch_size)\n",
    "            self.validate() \n",
    "\n",
    "            if self.increased_loss >= self.BREAKING_THRESHOLD:\n",
    "                self.epochs = epoch + 1\n",
    "                print(f\"Breaked at {str(epoch)}\")\n",
    "                break\n",
    "            \n",
    "    def get_model(self):\n",
    "        return self.model    \n",
    "    \n",
    "    def plot_loss(self):\n",
    "        plt.plot(range(len(self.train_loss)), self.train_loss, 'g', label='Training loss')\n",
    "        plt.plot(range(len(self.val_loss)), self.val_loss, 'y', label='Validation loss')\n",
    "        plt.xlabel('Epochs')\n",
    "        plt.ylabel('Loss')\n",
    "        plt.legend()\n",
    "        plt.show()"
   ]
  },
  {
   "cell_type": "markdown",
   "id": "1899acca",
   "metadata": {},
   "source": [
    "## Train and plot loss curves"
   ]
  },
  {
   "cell_type": "code",
   "execution_count": 17,
   "id": "d129a047",
   "metadata": {},
   "outputs": [
    {
     "data": {
      "application/vnd.jupyter.widget-view+json": {
       "model_id": "024b439256d54697959341104a8ab882",
       "version_major": 2,
       "version_minor": 0
      },
      "text/plain": [
       "  0%|          | 0/10000 [00:00<?, ?it/s]"
      ]
     },
     "metadata": {},
     "output_type": "display_data"
    },
    {
     "name": "stdout",
     "output_type": "stream",
     "text": [
      "Breaked at 2310\n"
     ]
    },
    {
     "ename": "NameError",
     "evalue": "name 'plt' is not defined",
     "output_type": "error",
     "traceback": [
      "\u001b[0;31m---------------------------------------------------------------------------\u001b[0m",
      "\u001b[0;31mNameError\u001b[0m                                 Traceback (most recent call last)",
      "Cell \u001b[0;32mIn[17], line 3\u001b[0m\n\u001b[1;32m      1\u001b[0m model_wrapper \u001b[38;5;241m=\u001b[39m ModelWrapper(loader, val_loader)\n\u001b[1;32m      2\u001b[0m model_wrapper\u001b[38;5;241m.\u001b[39mtrain()\n\u001b[0;32m----> 3\u001b[0m \u001b[43mmodel_wrapper\u001b[49m\u001b[38;5;241;43m.\u001b[39;49m\u001b[43mplot_loss\u001b[49m\u001b[43m(\u001b[49m\u001b[43m)\u001b[49m\n",
      "Cell \u001b[0;32mIn[16], line 68\u001b[0m, in \u001b[0;36mModelWrapper.plot_loss\u001b[0;34m(self)\u001b[0m\n\u001b[1;32m     67\u001b[0m \u001b[38;5;28;01mdef\u001b[39;00m \u001b[38;5;21mplot_loss\u001b[39m(\u001b[38;5;28mself\u001b[39m):\n\u001b[0;32m---> 68\u001b[0m     \u001b[43mplt\u001b[49m\u001b[38;5;241m.\u001b[39mplot(\u001b[38;5;28mrange\u001b[39m(\u001b[38;5;28mlen\u001b[39m(\u001b[38;5;28mself\u001b[39m\u001b[38;5;241m.\u001b[39mtrain_loss)), \u001b[38;5;28mself\u001b[39m\u001b[38;5;241m.\u001b[39mtrain_loss, \u001b[38;5;124m'\u001b[39m\u001b[38;5;124mg\u001b[39m\u001b[38;5;124m'\u001b[39m, label\u001b[38;5;241m=\u001b[39m\u001b[38;5;124m'\u001b[39m\u001b[38;5;124mTraining loss\u001b[39m\u001b[38;5;124m'\u001b[39m)\n\u001b[1;32m     69\u001b[0m     plt\u001b[38;5;241m.\u001b[39mplot(\u001b[38;5;28mrange\u001b[39m(\u001b[38;5;28mlen\u001b[39m(\u001b[38;5;28mself\u001b[39m\u001b[38;5;241m.\u001b[39mval_loss)), \u001b[38;5;28mself\u001b[39m\u001b[38;5;241m.\u001b[39mval_loss, \u001b[38;5;124m'\u001b[39m\u001b[38;5;124my\u001b[39m\u001b[38;5;124m'\u001b[39m, label\u001b[38;5;241m=\u001b[39m\u001b[38;5;124m'\u001b[39m\u001b[38;5;124mValidation loss\u001b[39m\u001b[38;5;124m'\u001b[39m)\n\u001b[1;32m     70\u001b[0m     plt\u001b[38;5;241m.\u001b[39mxlabel(\u001b[38;5;124m'\u001b[39m\u001b[38;5;124mEpochs\u001b[39m\u001b[38;5;124m'\u001b[39m)\n",
      "\u001b[0;31mNameError\u001b[0m: name 'plt' is not defined"
     ]
    }
   ],
   "source": [
    "model_wrapper = ModelWrapper(loader, val_loader)\n",
    "model_wrapper.train()\n",
    "model_wrapper.plot_loss()"
   ]
  },
  {
   "cell_type": "markdown",
   "id": "e3a3dc58",
   "metadata": {},
   "source": [
    "## Error evaluation"
   ]
  },
  {
   "cell_type": "code",
   "execution_count": null,
   "id": "b28b56cc",
   "metadata": {},
   "outputs": [],
   "source": [
    "import time\n",
    "\n",
    "models = []\n",
    "train_times = []\n",
    "for i in range(10):\n",
    "    model_wrapper = ModelWrapper(loader, val_loader)\n",
    "    \n",
    "    start = time.time()\n",
    "    model_wrapper.train()\n",
    "    \n",
    "    train_times.append(time.time() - start)\n",
    "    models.append(model_wrapper.get_model().cpu())"
   ]
  },
  {
   "cell_type": "markdown",
   "id": "d15095b2",
   "metadata": {},
   "source": [
    "## Model back to CPU for evaluation purposes"
   ]
  },
  {
   "cell_type": "code",
   "execution_count": 18,
   "id": "6a5d332f",
   "metadata": {},
   "outputs": [],
   "source": [
    "model = model_wrapper.get_model()\n",
    "graph = graph.cpu()\n",
    "model = model.cpu()"
   ]
  },
  {
   "cell_type": "code",
   "execution_count": 19,
   "id": "785cfddb",
   "metadata": {},
   "outputs": [],
   "source": [
    "torch.save(model.state_dict(), \"models/undirected_gat_with_pos.pt\")"
   ]
  },
  {
   "cell_type": "markdown",
   "id": "37d47598",
   "metadata": {},
   "source": [
    "## Evaluation"
   ]
  },
  {
   "cell_type": "code",
   "execution_count": 20,
   "id": "48ef5280",
   "metadata": {},
   "outputs": [
    {
     "data": {
      "text/html": [
       "<div>\n",
       "<style scoped>\n",
       "    .dataframe tbody tr th:only-of-type {\n",
       "        vertical-align: middle;\n",
       "    }\n",
       "\n",
       "    .dataframe tbody tr th {\n",
       "        vertical-align: top;\n",
       "    }\n",
       "\n",
       "    .dataframe thead th {\n",
       "        text-align: right;\n",
       "    }\n",
       "</style>\n",
       "<table border=\"1\" class=\"dataframe\">\n",
       "  <thead>\n",
       "    <tr style=\"text-align: right;\">\n",
       "      <th></th>\n",
       "      <th>Name</th>\n",
       "      <th>MCC</th>\n",
       "      <th>F1-Micro</th>\n",
       "      <th>F1-Macro</th>\n",
       "      <th>F1-Binary</th>\n",
       "      <th>AUROC</th>\n",
       "      <th>AUPRC</th>\n",
       "    </tr>\n",
       "  </thead>\n",
       "  <tbody>\n",
       "    <tr>\n",
       "      <th>0</th>\n",
       "      <td>Leipzig</td>\n",
       "      <td>0.069480</td>\n",
       "      <td>0.861050</td>\n",
       "      <td>0.470192</td>\n",
       "      <td>0.015132</td>\n",
       "      <td>0.908435</td>\n",
       "      <td>0.038271</td>\n",
       "    </tr>\n",
       "    <tr>\n",
       "      <th>1</th>\n",
       "      <td>Greifswald</td>\n",
       "      <td>0.048531</td>\n",
       "      <td>0.837474</td>\n",
       "      <td>0.460248</td>\n",
       "      <td>0.009019</td>\n",
       "      <td>0.853860</td>\n",
       "      <td>0.019013</td>\n",
       "    </tr>\n",
       "  </tbody>\n",
       "</table>\n",
       "</div>"
      ],
      "text/plain": [
       "         Name       MCC  F1-Micro  F1-Macro  F1-Binary     AUROC     AUPRC\n",
       "0     Leipzig  0.069480  0.861050  0.470192   0.015132  0.908435  0.038271\n",
       "1  Greifswald  0.048531  0.837474  0.460248   0.009019  0.853860  0.019013"
      ]
     },
     "execution_count": 20,
     "metadata": {},
     "output_type": "execute_result"
    },
    {
     "data": {
      "image/png": "[encoded data removed]",
      "text/plain": [
       "<Figure size 640x480 with 2 Axes>"
      ]
     },
     "metadata": {},
     "output_type": "display_data"
    },
    {
     "data": {
      "image/png": "[encoded data removed]",
      "text/plain": [
       "<Figure size 640x480 with 2 Axes>"
      ]
     },
     "metadata": {},
     "output_type": "display_data"
    }
   ],
   "source": [
    "from dataAnalysis.Metrics import Evaluation\n",
    "\n",
    "y_dict = Evaluation.create_y_dict(model.predict(graph, test_mask), model.predict_proba(graph, test_mask) , graph.y[test_mask])\n",
    "y_dict_gw = Evaluation.create_y_dict(model.predict(graph, test_gw_mask), model.predict_proba(graph, test_gw_mask) , graph.y[test_gw_mask])\n",
    "\n",
    "Evaluation.plot_confusion_matrix_from_pred(model.predict(graph, test_mask), graph.y[test_mask])\n",
    "Evaluation.plot_confusion_matrix_from_pred(model.predict(graph, test_gw_mask), graph.y[test_gw_mask])\n",
    "Evaluation.get_df_metrics_from_pred(y_dict, y_dict_gw)"
   ]
  },
  {
   "cell_type": "code",
   "execution_count": null,
   "id": "2cd7b1a3",
   "metadata": {},
   "outputs": [],
   "source": []
  }
 ],
 "metadata": {
  "kernelspec": {
   "display_name": "Python 3 (ipykernel)",
   "language": "python",
   "name": "python3"
  },
  "language_info": {
   "codemirror_mode": {
    "name": "ipython",
    "version": 3
   },
   "file_extension": ".py",
   "mimetype": "text/x-python",
   "name": "python",
   "nbconvert_exporter": "python",
   "pygments_lexer": "ipython3",
   "version": "3.10.12"
  }
 },
 "nbformat": 4,
 "nbformat_minor": 5
}
