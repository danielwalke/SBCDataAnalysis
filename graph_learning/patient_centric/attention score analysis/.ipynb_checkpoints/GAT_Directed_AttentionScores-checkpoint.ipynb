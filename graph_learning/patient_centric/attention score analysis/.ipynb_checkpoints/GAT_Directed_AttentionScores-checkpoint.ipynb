{
 "cells": [
  {
   "cell_type": "code",
   "execution_count": 1,
   "id": "be73f4ab",
   "metadata": {},
   "outputs": [],
   "source": [
    "import sys\n",
    " \n",
    "sys.path.insert(0, \"../\")"
   ]
  },
  {
   "cell_type": "code",
   "execution_count": 2,
   "id": "f2b22328",
   "metadata": {},
   "outputs": [
    {
     "name": "stderr",
     "output_type": "stream",
     "text": [
      "/home/dwalke/git/sbc/graph_learning/../dataAnalysis/data/Filter.py:34: SettingWithCopyWarning: \n",
      "A value is trying to be set on a copy of a slice from a DataFrame.\n",
      "Try using .loc[row_indexer,col_indexer] = value instead\n",
      "\n",
      "See the caveats in the documentation: https://pandas.pydata.org/pandas-docs/stable/user_guide/indexing.html#returning-a-view-versus-a-copy\n",
      "  self.data['Label'] = self.data['Diagnosis']\n"
     ]
    },
    {
     "name": "stdout",
     "output_type": "stream",
     "text": [
      "Training: \n",
      "Assessable data are 528101 cases and 1015074 CBCs\n",
      "Control data are 527038 cases and 1013548 CBCs\n",
      "Sepsis data are 1488 cases and 1526 CBCs\n",
      "$$$$$$$$$$$$$$$$$$$$\n",
      "Testing: \n"
     ]
    },
    {
     "name": "stderr",
     "output_type": "stream",
     "text": [
      "/home/dwalke/git/sbc/graph_learning/../dataAnalysis/data/Filter.py:34: SettingWithCopyWarning: \n",
      "A value is trying to be set on a copy of a slice from a DataFrame.\n",
      "Try using .loc[row_indexer,col_indexer] = value instead\n",
      "\n",
      "See the caveats in the documentation: https://pandas.pydata.org/pandas-docs/stable/user_guide/indexing.html#returning-a-view-versus-a-copy\n",
      "  self.data['Label'] = self.data['Diagnosis']\n"
     ]
    },
    {
     "name": "stdout",
     "output_type": "stream",
     "text": [
      "Controls: 365794, Sepsis: 490\n",
      "Assessable data are 180494 cases and 366284 CBCs\n",
      "Control data are 180157 cases and 365794 CBCs\n",
      "Sepsis data are 472 cases and 490 CBCs\n"
     ]
    },
    {
     "name": "stderr",
     "output_type": "stream",
     "text": [
      "/home/dwalke/git/sbc/graph_learning/../dataAnalysis/data/Filter.py:34: SettingWithCopyWarning: \n",
      "A value is trying to be set on a copy of a slice from a DataFrame.\n",
      "Try using .loc[row_indexer,col_indexer] = value instead\n",
      "\n",
      "See the caveats in the documentation: https://pandas.pydata.org/pandas-docs/stable/user_guide/indexing.html#returning-a-view-versus-a-copy\n",
      "  self.data['Label'] = self.data['Diagnosis']\n"
     ]
    },
    {
     "name": "stdout",
     "output_type": "stream",
     "text": [
      "Controls: 437629, Sepsis: 448\n",
      "Assessable data are 157922 cases and 438077 CBCs\n",
      "Control data are 180157 cases and 437629 CBCs\n",
      "Sepsis data are 438 cases and 448 CBCs\n"
     ]
    }
   ],
   "source": [
    "from dataAnalysis.DataAnalysis import DataAnalysis\n",
    "import pandas as pd\n",
    "import cudf\n",
    "import torch\n",
    "\n",
    "data = pd.read_csv(r\"../extdata/sbcdata.csv\", header=0)\n",
    "data_analysis = DataAnalysis(data)"
   ]
  },
  {
   "cell_type": "code",
   "execution_count": 3,
   "id": "708d878f",
   "metadata": {},
   "outputs": [],
   "source": [
    "data = pd.concat((data_analysis.get_training_data(), data_analysis.get_testing_data()))\n",
    "max_Id = data[\"Id\"].unique().max()\n",
    "gw_data = data_analysis.get_gw_testing_data().copy(deep=True)\n",
    "gw_data = gw_data.assign(Id=lambda x: x.Id + max_Id)\n",
    "data = pd.concat((data, gw_data))\n",
    "data = data.sort_values(\"Id\")\n",
    "unique_ids = data[\"Id\"].unique()\n",
    "data = data.reset_index(drop=True)\n",
    "data.pop(\"index\")\n",
    "data = data.sort_values([\"Id\", \"Time\"])\n",
    "data = data.reset_index(drop=True)"
   ]
  },
  {
   "cell_type": "code",
   "execution_count": 4,
   "id": "34b657b8",
   "metadata": {},
   "outputs": [],
   "source": [
    "from dataAnalysis.Constants import SEX_CATEGORY_COLUMN_NAME, SEX_COLUMN_NAME, FEATURES\n",
    "data[SEX_CATEGORY_COLUMN_NAME] = data.loc[:, SEX_COLUMN_NAME] ==\"W\"\n",
    "data[SEX_CATEGORY_COLUMN_NAME] = data[SEX_CATEGORY_COLUMN_NAME].astype(\"int8\")\n",
    "data[\"Label\"] = data[\"Label\"] == \"Sepsis\"\n",
    "data[\"Label\"] = data[\"Label\"].astype(\"int8\")"
   ]
  },
  {
   "cell_type": "code",
   "execution_count": 5,
   "id": "9720f37c",
   "metadata": {},
   "outputs": [],
   "source": [
    "X_features = torch.tensor(data[FEATURES].values).type(torch.float32)\n",
    "y = torch.tensor(data[\"Label\"].values).type(torch.long)"
   ]
  },
  {
   "cell_type": "code",
   "execution_count": 6,
   "id": "fe5ae7b5",
   "metadata": {},
   "outputs": [],
   "source": [
    "from dataAnalysis.FeatureImportance import normalize\n",
    "\n",
    "X_features = normalize(X_features)"
   ]
  },
  {
   "cell_type": "code",
   "execution_count": 7,
   "id": "66e0344b",
   "metadata": {},
   "outputs": [],
   "source": [
    "import torch\n",
    "edge_index = torch.tensor(pd.read_csv(\"dir_edge_index_sorted_ids_w_gw_corr.csv\", header=None, skiprows=1).values.transpose(), dtype=torch.long)"
   ]
  },
  {
   "cell_type": "code",
   "execution_count": 8,
   "id": "1b54247c",
   "metadata": {},
   "outputs": [],
   "source": [
    "from torch_geometric.data import Data\n",
    "import numpy as np\n",
    "\n",
    "def ratio_bool_switch(tensor, ratio = 0.8):\n",
    "    random = np.random.uniform(0, 1 ,tensor.shape[0])\n",
    "    val_ratio_mask = (random >= ratio)\n",
    "    train_ratio_mask = (random < ratio)\n",
    "    val_mask = np.logical_and(tensor.tolist(), val_ratio_mask.tolist())\n",
    "    train_mask = np.logical_and(tensor.tolist(), train_ratio_mask.tolist())\n",
    "    return torch.from_numpy(train_mask).type(torch.bool), torch.from_numpy(val_mask).type(torch.bool)\n",
    "\n",
    "train_mask_ser = data[\"Set\"] != \"Validation\"\n",
    "train_mask, val_mask = ratio_bool_switch(train_mask_ser.values)\n",
    "test_mask = torch.from_numpy(np.logical_and((data[\"Set\"] == \"Validation\").values, (data[\"Center\"] == \"Leipzig\").values)).type(torch.bool)\n",
    "test_gw_mask = torch.from_numpy(np.logical_and((data[\"Set\"] == \"Validation\").values, (data[\"Center\"] == \"Greifswald\").values)).type(torch.bool)"
   ]
  },
  {
   "cell_type": "code",
   "execution_count": 9,
   "id": "4a9860de",
   "metadata": {},
   "outputs": [],
   "source": [
    "graph = Data(x=X_features, train_mask = train_mask, test_mask=test_mask, val_mask=val_mask, y= y, edge_index=edge_index,\n",
    "             test_gw_mask = test_gw_mask)"
   ]
  },
  {
   "cell_type": "code",
   "execution_count": 10,
   "id": "babf9700",
   "metadata": {},
   "outputs": [
    {
     "data": {
      "text/plain": [
       "torch.Size([2, 7259211])"
      ]
     },
     "execution_count": 10,
     "metadata": {},
     "output_type": "execute_result"
    }
   ],
   "source": [
    "graph.edge_index.shape"
   ]
  },
  {
   "cell_type": "code",
   "execution_count": 11,
   "id": "fc47c0b3",
   "metadata": {},
   "outputs": [],
   "source": [
    "import torch.nn.functional as F\n",
    "from torch_geometric.nn import GATConv, GCNConv,GATv2Conv, GINConv, global_add_pool\n",
    "from torch.nn import Linear\n",
    "import torch\n",
    "from dataAnalysis.Constants import FEATURES\n",
    "from torch.nn import Linear, ReLU, Sequential\n",
    "from torch.nn import BatchNorm1d as BatchNorm\n",
    "\n",
    "class GraphNeuralNetwork(torch.nn.Module):\n",
    "    def __init__(self, hidden_dim = 128, out_channels = 1):\n",
    "        super(GraphNeuralNetwork, self).__init__()\n",
    "        input_dim = len(FEATURES)      \n",
    "        \n",
    "        HEADS = 5\n",
    "        \n",
    "        conv_1= GATConv(input_dim, hidden_dim,heads=HEADS, add_self_loops = False)\n",
    "        conv_end = GATConv((-1,-1), out_channels,add_self_loops = False)\n",
    "        \n",
    "        self.conv_1 = conv_1\n",
    "        self.conv_end = conv_end\n",
    "        \n",
    "\n",
    "    def forward(self, graph):\n",
    "        x, edge_index = graph.x, graph.edge_index\n",
    "        x = x.type(torch.float)\n",
    "        x, attention_w_1 = self.conv_1(x, edge_index, return_attention_weights = True)\n",
    "        x = F.normalize(x, p=2., dim=-1)\n",
    "        x = torch.relu(x)\n",
    "        x, attention_w_2 = self.conv_end(x, edge_index, return_attention_weights = True)\n",
    "        return x, (attention_w_1, attention_w_2)\n",
    "            \n",
    "    def predict_proba(self, graph, mask):\n",
    "        with torch.inference_mode():\n",
    "            self.eval()\n",
    "            logits = self.forward(graph)\n",
    "            scores = torch.sigmoid(torch.squeeze(logits[mask]))\n",
    "            scores = torch.unsqueeze(scores, 0)\n",
    "            proba_predict = torch.concat((1- scores, scores), dim = 0)\n",
    "            return torch.transpose(proba_predict, 0, 1)\n",
    "            \n",
    "    def predict(self, graph, mask):\n",
    "        return torch.round(self.predict_proba(graph, mask)[:, 1])"
   ]
  },
  {
   "cell_type": "code",
   "execution_count": 12,
   "id": "d34efe9b",
   "metadata": {},
   "outputs": [
    {
     "data": {
      "text/plain": [
       "<All keys matched successfully>"
      ]
     },
     "execution_count": 12,
     "metadata": {},
     "output_type": "execute_result"
    }
   ],
   "source": [
    "model = GraphNeuralNetwork().cpu() #.to(device)\n",
    "model.load_state_dict(torch.load(\"../models/directed_gat_wo_pos.pt\", map_location=torch.device('cpu')))"
   ]
  },
  {
   "cell_type": "code",
   "execution_count": 13,
   "id": "9a6411ba",
   "metadata": {},
   "outputs": [],
   "source": [
    "with torch.inference_mode():\n",
    "    model.eval()\n",
    "    logits, (attention_w) = model(graph)\n",
    "    scores = torch.sigmoid(torch.squeeze(logits))\n",
    "    scores = torch.unsqueeze(scores, 0)\n",
    "    proba_predict = torch.concat((1- scores, scores), dim = 0)\n",
    "    pred = torch.round(scores)"
   ]
  },
  {
   "cell_type": "code",
   "execution_count": 14,
   "id": "9728fc95",
   "metadata": {},
   "outputs": [],
   "source": [
    "edge_df = pd.DataFrame(graph.edge_index.t(), columns = [\"source\", \"target\"])\n",
    "edge_df[\"attention_weights\"] = attention_w[1][1]\n",
    "for i in range(5):\n",
    "    edge_df[f\"attention_weights_{i}\"] = attention_w[0][1][:, i]\n",
    "edge_df[f\"attention_weights_mean\"] = torch.mean(attention_w[0][1], dim = 1)"
   ]
  },
  {
   "cell_type": "code",
   "execution_count": 15,
   "id": "d7ad8989",
   "metadata": {},
   "outputs": [
    {
     "data": {
      "text/html": [
       "<div>\n",
       "<style scoped>\n",
       "    .dataframe tbody tr th:only-of-type {\n",
       "        vertical-align: middle;\n",
       "    }\n",
       "\n",
       "    .dataframe tbody tr th {\n",
       "        vertical-align: top;\n",
       "    }\n",
       "\n",
       "    .dataframe thead th {\n",
       "        text-align: right;\n",
       "    }\n",
       "</style>\n",
       "<table border=\"1\" class=\"dataframe\">\n",
       "  <thead>\n",
       "    <tr style=\"text-align: right;\">\n",
       "      <th></th>\n",
       "      <th>source</th>\n",
       "      <th>target</th>\n",
       "      <th>attention_weights</th>\n",
       "      <th>attention_weights_0</th>\n",
       "      <th>attention_weights_1</th>\n",
       "      <th>attention_weights_2</th>\n",
       "      <th>attention_weights_3</th>\n",
       "      <th>attention_weights_4</th>\n",
       "      <th>attention_weights_mean</th>\n",
       "    </tr>\n",
       "  </thead>\n",
       "  <tbody>\n",
       "    <tr>\n",
       "      <th>0</th>\n",
       "      <td>0</td>\n",
       "      <td>0</td>\n",
       "      <td>1.000000</td>\n",
       "      <td>1.000000</td>\n",
       "      <td>1.000000</td>\n",
       "      <td>1.000000</td>\n",
       "      <td>1.000000</td>\n",
       "      <td>1.000000</td>\n",
       "      <td>1.000000</td>\n",
       "    </tr>\n",
       "    <tr>\n",
       "      <th>1</th>\n",
       "      <td>1</td>\n",
       "      <td>1</td>\n",
       "      <td>1.000000</td>\n",
       "      <td>1.000000</td>\n",
       "      <td>1.000000</td>\n",
       "      <td>1.000000</td>\n",
       "      <td>1.000000</td>\n",
       "      <td>1.000000</td>\n",
       "      <td>1.000000</td>\n",
       "    </tr>\n",
       "    <tr>\n",
       "      <th>2</th>\n",
       "      <td>2</td>\n",
       "      <td>2</td>\n",
       "      <td>1.000000</td>\n",
       "      <td>1.000000</td>\n",
       "      <td>1.000000</td>\n",
       "      <td>1.000000</td>\n",
       "      <td>1.000000</td>\n",
       "      <td>1.000000</td>\n",
       "      <td>1.000000</td>\n",
       "    </tr>\n",
       "    <tr>\n",
       "      <th>3</th>\n",
       "      <td>3</td>\n",
       "      <td>3</td>\n",
       "      <td>1.000000</td>\n",
       "      <td>1.000000</td>\n",
       "      <td>1.000000</td>\n",
       "      <td>1.000000</td>\n",
       "      <td>1.000000</td>\n",
       "      <td>1.000000</td>\n",
       "      <td>1.000000</td>\n",
       "    </tr>\n",
       "    <tr>\n",
       "      <th>4</th>\n",
       "      <td>4</td>\n",
       "      <td>4</td>\n",
       "      <td>1.000000</td>\n",
       "      <td>1.000000</td>\n",
       "      <td>1.000000</td>\n",
       "      <td>1.000000</td>\n",
       "      <td>1.000000</td>\n",
       "      <td>1.000000</td>\n",
       "      <td>1.000000</td>\n",
       "    </tr>\n",
       "    <tr>\n",
       "      <th>...</th>\n",
       "      <td>...</td>\n",
       "      <td>...</td>\n",
       "      <td>...</td>\n",
       "      <td>...</td>\n",
       "      <td>...</td>\n",
       "      <td>...</td>\n",
       "      <td>...</td>\n",
       "      <td>...</td>\n",
       "      <td>...</td>\n",
       "    </tr>\n",
       "    <tr>\n",
       "      <th>7259206</th>\n",
       "      <td>1819430</td>\n",
       "      <td>1819432</td>\n",
       "      <td>0.247858</td>\n",
       "      <td>0.002231</td>\n",
       "      <td>0.013981</td>\n",
       "      <td>0.027458</td>\n",
       "      <td>0.261436</td>\n",
       "      <td>0.072461</td>\n",
       "      <td>0.075513</td>\n",
       "    </tr>\n",
       "    <tr>\n",
       "      <th>7259207</th>\n",
       "      <td>1819431</td>\n",
       "      <td>1819432</td>\n",
       "      <td>0.271116</td>\n",
       "      <td>0.001048</td>\n",
       "      <td>0.035959</td>\n",
       "      <td>0.065645</td>\n",
       "      <td>0.185199</td>\n",
       "      <td>0.056103</td>\n",
       "      <td>0.068791</td>\n",
       "    </tr>\n",
       "    <tr>\n",
       "      <th>7259208</th>\n",
       "      <td>1819433</td>\n",
       "      <td>1819433</td>\n",
       "      <td>1.000000</td>\n",
       "      <td>1.000000</td>\n",
       "      <td>1.000000</td>\n",
       "      <td>1.000000</td>\n",
       "      <td>1.000000</td>\n",
       "      <td>1.000000</td>\n",
       "      <td>1.000000</td>\n",
       "    </tr>\n",
       "    <tr>\n",
       "      <th>7259209</th>\n",
       "      <td>1819434</td>\n",
       "      <td>1819434</td>\n",
       "      <td>0.372705</td>\n",
       "      <td>0.519647</td>\n",
       "      <td>0.732686</td>\n",
       "      <td>0.866811</td>\n",
       "      <td>0.345808</td>\n",
       "      <td>0.310295</td>\n",
       "      <td>0.555049</td>\n",
       "    </tr>\n",
       "    <tr>\n",
       "      <th>7259210</th>\n",
       "      <td>1819433</td>\n",
       "      <td>1819434</td>\n",
       "      <td>0.627295</td>\n",
       "      <td>0.480353</td>\n",
       "      <td>0.267314</td>\n",
       "      <td>0.133189</td>\n",
       "      <td>0.654192</td>\n",
       "      <td>0.689704</td>\n",
       "      <td>0.444950</td>\n",
       "    </tr>\n",
       "  </tbody>\n",
       "</table>\n",
       "<p>7259211 rows × 9 columns</p>\n",
       "</div>"
      ],
      "text/plain": [
       "          source   target  attention_weights  attention_weights_0  \\\n",
       "0              0        0           1.000000             1.000000   \n",
       "1              1        1           1.000000             1.000000   \n",
       "2              2        2           1.000000             1.000000   \n",
       "3              3        3           1.000000             1.000000   \n",
       "4              4        4           1.000000             1.000000   \n",
       "...          ...      ...                ...                  ...   \n",
       "7259206  1819430  1819432           0.247858             0.002231   \n",
       "7259207  1819431  1819432           0.271116             0.001048   \n",
       "7259208  1819433  1819433           1.000000             1.000000   \n",
       "7259209  1819434  1819434           0.372705             0.519647   \n",
       "7259210  1819433  1819434           0.627295             0.480353   \n",
       "\n",
       "         attention_weights_1  attention_weights_2  attention_weights_3  \\\n",
       "0                   1.000000             1.000000             1.000000   \n",
       "1                   1.000000             1.000000             1.000000   \n",
       "2                   1.000000             1.000000             1.000000   \n",
       "3                   1.000000             1.000000             1.000000   \n",
       "4                   1.000000             1.000000             1.000000   \n",
       "...                      ...                  ...                  ...   \n",
       "7259206             0.013981             0.027458             0.261436   \n",
       "7259207             0.035959             0.065645             0.185199   \n",
       "7259208             1.000000             1.000000             1.000000   \n",
       "7259209             0.732686             0.866811             0.345808   \n",
       "7259210             0.267314             0.133189             0.654192   \n",
       "\n",
       "         attention_weights_4  attention_weights_mean  \n",
       "0                   1.000000                1.000000  \n",
       "1                   1.000000                1.000000  \n",
       "2                   1.000000                1.000000  \n",
       "3                   1.000000                1.000000  \n",
       "4                   1.000000                1.000000  \n",
       "...                      ...                     ...  \n",
       "7259206             0.072461                0.075513  \n",
       "7259207             0.056103                0.068791  \n",
       "7259208             1.000000                1.000000  \n",
       "7259209             0.310295                0.555049  \n",
       "7259210             0.689704                0.444950  \n",
       "\n",
       "[7259211 rows x 9 columns]"
      ]
     },
     "execution_count": 15,
     "metadata": {},
     "output_type": "execute_result"
    }
   ],
   "source": [
    "edge_df"
   ]
  },
  {
   "cell_type": "code",
   "execution_count": 16,
   "id": "b6e7f050",
   "metadata": {},
   "outputs": [],
   "source": [
    "edge_df[\"source_label\"] = data[\"Label\"].iloc[edge_df[\"source\"]].reset_index(drop=True)\n",
    "edge_df[\"target_label\"] = data[\"Label\"].iloc[edge_df[\"target\"]].reset_index(drop=True)"
   ]
  },
  {
   "cell_type": "markdown",
   "id": "a0e04394",
   "metadata": {},
   "source": [
    "## Sepsis as source label vs target label (sepsis low in-degree)"
   ]
  },
  {
   "cell_type": "code",
   "execution_count": 17,
   "id": "ea445072",
   "metadata": {},
   "outputs": [
    {
     "data": {
      "text/plain": [
       "(2533, 13224)"
      ]
     },
     "execution_count": 17,
     "metadata": {},
     "output_type": "execute_result"
    }
   ],
   "source": [
    "(edge_df[\"source_label\"] == 1).sum(), (edge_df[\"target_label\"] == 1).sum()"
   ]
  },
  {
   "cell_type": "markdown",
   "id": "3d6f58c1",
   "metadata": {},
   "source": [
    "## Attention weights"
   ]
  },
  {
   "cell_type": "code",
   "execution_count": 41,
   "id": "e6b52353",
   "metadata": {},
   "outputs": [
    {
     "data": {
      "text/html": [
       "<div>\n",
       "<style scoped>\n",
       "    .dataframe tbody tr th:only-of-type {\n",
       "        vertical-align: middle;\n",
       "    }\n",
       "\n",
       "    .dataframe tbody tr th {\n",
       "        vertical-align: top;\n",
       "    }\n",
       "\n",
       "    .dataframe thead th {\n",
       "        text-align: right;\n",
       "    }\n",
       "</style>\n",
       "<table border=\"1\" class=\"dataframe\">\n",
       "  <thead>\n",
       "    <tr style=\"text-align: right;\">\n",
       "      <th></th>\n",
       "      <th>Control to Control</th>\n",
       "      <th>Sepsis to Control</th>\n",
       "      <th>Control to Sepsis</th>\n",
       "      <th>Sepsis to Sepsis</th>\n",
       "    </tr>\n",
       "  </thead>\n",
       "  <tbody>\n",
       "    <tr>\n",
       "      <th>count</th>\n",
       "      <td>7,245,987.000</td>\n",
       "      <td>0.000</td>\n",
       "      <td>10,691.000</td>\n",
       "      <td>2,533.000</td>\n",
       "    </tr>\n",
       "    <tr>\n",
       "      <th>mean</th>\n",
       "      <td>0.251</td>\n",
       "      <td>NaN</td>\n",
       "      <td>0.054</td>\n",
       "      <td>0.747</td>\n",
       "    </tr>\n",
       "    <tr>\n",
       "      <th>std</th>\n",
       "      <td>0.317</td>\n",
       "      <td>NaN</td>\n",
       "      <td>0.089</td>\n",
       "      <td>0.372</td>\n",
       "    </tr>\n",
       "    <tr>\n",
       "      <th>min</th>\n",
       "      <td>0.000</td>\n",
       "      <td>NaN</td>\n",
       "      <td>0.000</td>\n",
       "      <td>0.000</td>\n",
       "    </tr>\n",
       "    <tr>\n",
       "      <th>25%</th>\n",
       "      <td>0.035</td>\n",
       "      <td>NaN</td>\n",
       "      <td>0.008</td>\n",
       "      <td>0.381</td>\n",
       "    </tr>\n",
       "    <tr>\n",
       "      <th>50%</th>\n",
       "      <td>0.110</td>\n",
       "      <td>NaN</td>\n",
       "      <td>0.020</td>\n",
       "      <td>1.000</td>\n",
       "    </tr>\n",
       "    <tr>\n",
       "      <th>75%</th>\n",
       "      <td>0.318</td>\n",
       "      <td>NaN</td>\n",
       "      <td>0.058</td>\n",
       "      <td>1.000</td>\n",
       "    </tr>\n",
       "    <tr>\n",
       "      <th>max</th>\n",
       "      <td>1.000</td>\n",
       "      <td>NaN</td>\n",
       "      <td>0.987</td>\n",
       "      <td>1.000</td>\n",
       "    </tr>\n",
       "  </tbody>\n",
       "</table>\n",
       "</div>"
      ],
      "text/plain": [
       "       Control to Control  Sepsis to Control  Control to Sepsis  \\\n",
       "count       7,245,987.000              0.000         10,691.000   \n",
       "mean                0.251                NaN              0.054   \n",
       "std                 0.317                NaN              0.089   \n",
       "min                 0.000                NaN              0.000   \n",
       "25%                 0.035                NaN              0.008   \n",
       "50%                 0.110                NaN              0.020   \n",
       "75%                 0.318                NaN              0.058   \n",
       "max                 1.000                NaN              0.987   \n",
       "\n",
       "       Sepsis to Sepsis  \n",
       "count         2,533.000  \n",
       "mean              0.747  \n",
       "std               0.372  \n",
       "min               0.000  \n",
       "25%               0.381  \n",
       "50%               1.000  \n",
       "75%               1.000  \n",
       "max               1.000  "
      ]
     },
     "execution_count": 41,
     "metadata": {},
     "output_type": "execute_result"
    }
   ],
   "source": [
    "attention_weights_df = pd.DataFrame()\n",
    "pd.options.display.float_format = '{:,.3f}'.format\n",
    "attention_weights_df[\"Control to Control\"] = edge_df[np.logical_and(edge_df[\"target_label\"] == 0, edge_df[\"source_label\"] == 0)][\"attention_weights\"].describe()\n",
    "attention_weights_df[\"Sepsis to Control\"] = edge_df[np.logical_and(edge_df[\"target_label\"] == 0, edge_df[\"source_label\"] == 1)][\"attention_weights\"].describe()\n",
    "attention_weights_df[\"Control to Sepsis\"] = edge_df[np.logical_and(edge_df[\"target_label\"] == 1, edge_df[\"source_label\"] == 0)][\"attention_weights\"].describe()\n",
    "attention_weights_df[\"Sepsis to Sepsis\"] = edge_df[np.logical_and(edge_df[\"target_label\"] == 1, edge_df[\"source_label\"] == 1)][\"attention_weights\"].describe()\n",
    "attention_weights_df"
   ]
  },
  {
   "cell_type": "markdown",
   "id": "8ba546a7",
   "metadata": {},
   "source": [
    "## 1st  Attention heads"
   ]
  },
  {
   "cell_type": "code",
   "execution_count": 42,
   "id": "0dd1ebe2",
   "metadata": {},
   "outputs": [
    {
     "name": "stderr",
     "output_type": "stream",
     "text": [
      "/tmp/ipykernel_14559/1401547245.py:1: DeprecationWarning: Importing display from IPython.core.display is deprecated since IPython 7.14, please import from IPython display\n",
      "  from IPython.core.display import display, HTML\n"
     ]
    },
    {
     "data": {
      "text/html": [
       "<table border=\"1\" class=\"dataframe\">\n",
       "  <thead>\n",
       "    <tr style=\"text-align: right;\">\n",
       "      <th></th>\n",
       "      <th>From Control to Control</th>\n",
       "      <th>From Sepsis to Control</th>\n",
       "      <th>From Control to Sepsis</th>\n",
       "      <th>From Sepsis to Sepsis</th>\n",
       "    </tr>\n",
       "  </thead>\n",
       "  <tbody>\n",
       "    <tr>\n",
       "      <th>count</th>\n",
       "      <td>7,245,987.000</td>\n",
       "      <td>0.000</td>\n",
       "      <td>10,691.000</td>\n",
       "      <td>2,533.000</td>\n",
       "    </tr>\n",
       "    <tr>\n",
       "      <th>mean</th>\n",
       "      <td>0.251</td>\n",
       "      <td>NaN</td>\n",
       "      <td>0.056</td>\n",
       "      <td>0.735</td>\n",
       "    </tr>\n",
       "    <tr>\n",
       "      <th>std</th>\n",
       "      <td>0.359</td>\n",
       "      <td>NaN</td>\n",
       "      <td>0.144</td>\n",
       "      <td>0.409</td>\n",
       "    </tr>\n",
       "    <tr>\n",
       "      <th>min</th>\n",
       "      <td>0.000</td>\n",
       "      <td>NaN</td>\n",
       "      <td>0.000</td>\n",
       "      <td>0.000</td>\n",
       "    </tr>\n",
       "    <tr>\n",
       "      <th>25%</th>\n",
       "      <td>0.003</td>\n",
       "      <td>NaN</td>\n",
       "      <td>0.001</td>\n",
       "      <td>0.331</td>\n",
       "    </tr>\n",
       "    <tr>\n",
       "      <th>50%</th>\n",
       "      <td>0.048</td>\n",
       "      <td>NaN</td>\n",
       "      <td>0.007</td>\n",
       "      <td>1.000</td>\n",
       "    </tr>\n",
       "    <tr>\n",
       "      <th>75%</th>\n",
       "      <td>0.367</td>\n",
       "      <td>NaN</td>\n",
       "      <td>0.033</td>\n",
       "      <td>1.000</td>\n",
       "    </tr>\n",
       "    <tr>\n",
       "      <th>max</th>\n",
       "      <td>1.000</td>\n",
       "      <td>NaN</td>\n",
       "      <td>1.000</td>\n",
       "      <td>1.000</td>\n",
       "    </tr>\n",
       "  </tbody>\n",
       "</table>"
      ],
      "text/plain": [
       "<IPython.core.display.HTML object>"
      ]
     },
     "metadata": {},
     "output_type": "display_data"
    },
    {
     "data": {
      "text/html": [
       "<table border=\"1\" class=\"dataframe\">\n",
       "  <thead>\n",
       "    <tr style=\"text-align: right;\">\n",
       "      <th></th>\n",
       "      <th>From Control to Control</th>\n",
       "      <th>From Sepsis to Control</th>\n",
       "      <th>From Control to Sepsis</th>\n",
       "      <th>From Sepsis to Sepsis</th>\n",
       "    </tr>\n",
       "  </thead>\n",
       "  <tbody>\n",
       "    <tr>\n",
       "      <th>count</th>\n",
       "      <td>7,245,987.000</td>\n",
       "      <td>0.000</td>\n",
       "      <td>10,691.000</td>\n",
       "      <td>2,533.000</td>\n",
       "    </tr>\n",
       "    <tr>\n",
       "      <th>mean</th>\n",
       "      <td>0.251</td>\n",
       "      <td>NaN</td>\n",
       "      <td>0.058</td>\n",
       "      <td>0.726</td>\n",
       "    </tr>\n",
       "    <tr>\n",
       "      <th>std</th>\n",
       "      <td>0.349</td>\n",
       "      <td>NaN</td>\n",
       "      <td>0.142</td>\n",
       "      <td>0.405</td>\n",
       "    </tr>\n",
       "    <tr>\n",
       "      <th>min</th>\n",
       "      <td>0.000</td>\n",
       "      <td>NaN</td>\n",
       "      <td>0.000</td>\n",
       "      <td>0.000</td>\n",
       "    </tr>\n",
       "    <tr>\n",
       "      <th>25%</th>\n",
       "      <td>0.013</td>\n",
       "      <td>NaN</td>\n",
       "      <td>0.005</td>\n",
       "      <td>0.285</td>\n",
       "    </tr>\n",
       "    <tr>\n",
       "      <th>50%</th>\n",
       "      <td>0.063</td>\n",
       "      <td>NaN</td>\n",
       "      <td>0.013</td>\n",
       "      <td>1.000</td>\n",
       "    </tr>\n",
       "    <tr>\n",
       "      <th>75%</th>\n",
       "      <td>0.347</td>\n",
       "      <td>NaN</td>\n",
       "      <td>0.039</td>\n",
       "      <td>1.000</td>\n",
       "    </tr>\n",
       "    <tr>\n",
       "      <th>max</th>\n",
       "      <td>1.000</td>\n",
       "      <td>NaN</td>\n",
       "      <td>1.000</td>\n",
       "      <td>1.000</td>\n",
       "    </tr>\n",
       "  </tbody>\n",
       "</table>"
      ],
      "text/plain": [
       "<IPython.core.display.HTML object>"
      ]
     },
     "metadata": {},
     "output_type": "display_data"
    },
    {
     "data": {
      "text/html": [
       "<table border=\"1\" class=\"dataframe\">\n",
       "  <thead>\n",
       "    <tr style=\"text-align: right;\">\n",
       "      <th></th>\n",
       "      <th>From Control to Control</th>\n",
       "      <th>From Sepsis to Control</th>\n",
       "      <th>From Control to Sepsis</th>\n",
       "      <th>From Sepsis to Sepsis</th>\n",
       "    </tr>\n",
       "  </thead>\n",
       "  <tbody>\n",
       "    <tr>\n",
       "      <th>count</th>\n",
       "      <td>7,245,987.000</td>\n",
       "      <td>0.000</td>\n",
       "      <td>10,691.000</td>\n",
       "      <td>2,533.000</td>\n",
       "    </tr>\n",
       "    <tr>\n",
       "      <th>mean</th>\n",
       "      <td>0.251</td>\n",
       "      <td>NaN</td>\n",
       "      <td>0.060</td>\n",
       "      <td>0.721</td>\n",
       "    </tr>\n",
       "    <tr>\n",
       "      <th>std</th>\n",
       "      <td>0.340</td>\n",
       "      <td>NaN</td>\n",
       "      <td>0.125</td>\n",
       "      <td>0.402</td>\n",
       "    </tr>\n",
       "    <tr>\n",
       "      <th>min</th>\n",
       "      <td>0.000</td>\n",
       "      <td>NaN</td>\n",
       "      <td>0.000</td>\n",
       "      <td>0.000</td>\n",
       "    </tr>\n",
       "    <tr>\n",
       "      <th>25%</th>\n",
       "      <td>0.017</td>\n",
       "      <td>NaN</td>\n",
       "      <td>0.006</td>\n",
       "      <td>0.281</td>\n",
       "    </tr>\n",
       "    <tr>\n",
       "      <th>50%</th>\n",
       "      <td>0.075</td>\n",
       "      <td>NaN</td>\n",
       "      <td>0.016</td>\n",
       "      <td>1.000</td>\n",
       "    </tr>\n",
       "    <tr>\n",
       "      <th>75%</th>\n",
       "      <td>0.345</td>\n",
       "      <td>NaN</td>\n",
       "      <td>0.047</td>\n",
       "      <td>1.000</td>\n",
       "    </tr>\n",
       "    <tr>\n",
       "      <th>max</th>\n",
       "      <td>1.000</td>\n",
       "      <td>NaN</td>\n",
       "      <td>0.994</td>\n",
       "      <td>1.000</td>\n",
       "    </tr>\n",
       "  </tbody>\n",
       "</table>"
      ],
      "text/plain": [
       "<IPython.core.display.HTML object>"
      ]
     },
     "metadata": {},
     "output_type": "display_data"
    },
    {
     "data": {
      "text/html": [
       "<table border=\"1\" class=\"dataframe\">\n",
       "  <thead>\n",
       "    <tr style=\"text-align: right;\">\n",
       "      <th></th>\n",
       "      <th>From Control to Control</th>\n",
       "      <th>From Sepsis to Control</th>\n",
       "      <th>From Control to Sepsis</th>\n",
       "      <th>From Sepsis to Sepsis</th>\n",
       "    </tr>\n",
       "  </thead>\n",
       "  <tbody>\n",
       "    <tr>\n",
       "      <th>count</th>\n",
       "      <td>7,245,987.000</td>\n",
       "      <td>0.000</td>\n",
       "      <td>10,691.000</td>\n",
       "      <td>2,533.000</td>\n",
       "    </tr>\n",
       "    <tr>\n",
       "      <th>mean</th>\n",
       "      <td>0.251</td>\n",
       "      <td>NaN</td>\n",
       "      <td>0.059</td>\n",
       "      <td>0.722</td>\n",
       "    </tr>\n",
       "    <tr>\n",
       "      <th>std</th>\n",
       "      <td>0.347</td>\n",
       "      <td>NaN</td>\n",
       "      <td>0.144</td>\n",
       "      <td>0.408</td>\n",
       "    </tr>\n",
       "    <tr>\n",
       "      <th>min</th>\n",
       "      <td>0.000</td>\n",
       "      <td>NaN</td>\n",
       "      <td>0.000</td>\n",
       "      <td>0.000</td>\n",
       "    </tr>\n",
       "    <tr>\n",
       "      <th>25%</th>\n",
       "      <td>0.007</td>\n",
       "      <td>NaN</td>\n",
       "      <td>0.001</td>\n",
       "      <td>0.293</td>\n",
       "    </tr>\n",
       "    <tr>\n",
       "      <th>50%</th>\n",
       "      <td>0.064</td>\n",
       "      <td>NaN</td>\n",
       "      <td>0.005</td>\n",
       "      <td>1.000</td>\n",
       "    </tr>\n",
       "    <tr>\n",
       "      <th>75%</th>\n",
       "      <td>0.363</td>\n",
       "      <td>NaN</td>\n",
       "      <td>0.037</td>\n",
       "      <td>1.000</td>\n",
       "    </tr>\n",
       "    <tr>\n",
       "      <th>max</th>\n",
       "      <td>1.000</td>\n",
       "      <td>NaN</td>\n",
       "      <td>1.000</td>\n",
       "      <td>1.000</td>\n",
       "    </tr>\n",
       "  </tbody>\n",
       "</table>"
      ],
      "text/plain": [
       "<IPython.core.display.HTML object>"
      ]
     },
     "metadata": {},
     "output_type": "display_data"
    },
    {
     "data": {
      "text/html": [
       "<table border=\"1\" class=\"dataframe\">\n",
       "  <thead>\n",
       "    <tr style=\"text-align: right;\">\n",
       "      <th></th>\n",
       "      <th>From Control to Control</th>\n",
       "      <th>From Sepsis to Control</th>\n",
       "      <th>From Control to Sepsis</th>\n",
       "      <th>From Sepsis to Sepsis</th>\n",
       "    </tr>\n",
       "  </thead>\n",
       "  <tbody>\n",
       "    <tr>\n",
       "      <th>count</th>\n",
       "      <td>7,245,987.000</td>\n",
       "      <td>0.000</td>\n",
       "      <td>10,691.000</td>\n",
       "      <td>2,533.000</td>\n",
       "    </tr>\n",
       "    <tr>\n",
       "      <th>mean</th>\n",
       "      <td>0.251</td>\n",
       "      <td>NaN</td>\n",
       "      <td>0.054</td>\n",
       "      <td>0.746</td>\n",
       "    </tr>\n",
       "    <tr>\n",
       "      <th>std</th>\n",
       "      <td>0.354</td>\n",
       "      <td>NaN</td>\n",
       "      <td>0.151</td>\n",
       "      <td>0.404</td>\n",
       "    </tr>\n",
       "    <tr>\n",
       "      <th>min</th>\n",
       "      <td>0.000</td>\n",
       "      <td>NaN</td>\n",
       "      <td>0.000</td>\n",
       "      <td>0.000</td>\n",
       "    </tr>\n",
       "    <tr>\n",
       "      <th>25%</th>\n",
       "      <td>0.003</td>\n",
       "      <td>NaN</td>\n",
       "      <td>0.000</td>\n",
       "      <td>0.417</td>\n",
       "    </tr>\n",
       "    <tr>\n",
       "      <th>50%</th>\n",
       "      <td>0.052</td>\n",
       "      <td>NaN</td>\n",
       "      <td>0.003</td>\n",
       "      <td>1.000</td>\n",
       "    </tr>\n",
       "    <tr>\n",
       "      <th>75%</th>\n",
       "      <td>0.374</td>\n",
       "      <td>NaN</td>\n",
       "      <td>0.025</td>\n",
       "      <td>1.000</td>\n",
       "    </tr>\n",
       "    <tr>\n",
       "      <th>max</th>\n",
       "      <td>1.000</td>\n",
       "      <td>NaN</td>\n",
       "      <td>1.000</td>\n",
       "      <td>1.000</td>\n",
       "    </tr>\n",
       "  </tbody>\n",
       "</table>"
      ],
      "text/plain": [
       "<IPython.core.display.HTML object>"
      ]
     },
     "metadata": {},
     "output_type": "display_data"
    }
   ],
   "source": [
    "from IPython.core.display import display, HTML\n",
    "\n",
    "for i in range(5):\n",
    "    attention_weights_first_head_df = pd.DataFrame()\n",
    "    pd.options.display.float_format = '{:,.3f}'.format\n",
    "    for target_label in range(2):\n",
    "        for source_label in range(2):\n",
    "            column = f\"From {'Sepsis' if source_label else 'Control'} to {'Sepsis' if target_label else 'Control'}\"\n",
    "            attention_weights_first_head_df[column] = edge_df[np.logical_and(edge_df[\"target_label\"] == target_label, edge_df[\"source_label\"] == source_label)][f\"attention_weights_{i}\"].describe()\n",
    "    display(HTML(attention_weights_first_head_df.to_html()))"
   ]
  },
  {
   "cell_type": "markdown",
   "id": "69fbcd53",
   "metadata": {},
   "source": [
    "## Averaged first attention heads"
   ]
  },
  {
   "cell_type": "code",
   "execution_count": 301,
   "id": "b18da9df",
   "metadata": {},
   "outputs": [
    {
     "name": "stdout",
     "output_type": "stream",
     "text": [
      "From Control to Control\n",
      "count    7.245987e+06\n",
      "mean     2.504969e-01\n",
      "std      3.267321e-01\n",
      "min      0.000000e+00\n",
      "25%      1.712762e-05\n",
      "50%      1.407672e-01\n",
      "75%      3.996121e-01\n",
      "max      1.000000e+00\n",
      "Name: attention_weights_mean, dtype: float64\n",
      "From Sepsis to Control\n",
      "count    1.069100e+04\n",
      "mean     1.752376e-01\n",
      "std      1.884073e-01\n",
      "min      1.165551e-31\n",
      "25%      4.882324e-05\n",
      "50%      1.832050e-01\n",
      "75%      2.721832e-01\n",
      "max      8.000000e-01\n",
      "Name: attention_weights_mean, dtype: float64\n",
      "From Control to Sepsis\n",
      "count    0.0\n",
      "mean     NaN\n",
      "std      NaN\n",
      "min      NaN\n",
      "25%      NaN\n",
      "50%      NaN\n",
      "75%      NaN\n",
      "max      NaN\n",
      "Name: attention_weights_mean, dtype: float64\n",
      "From Sepsis to Sepsis\n",
      "count    2533.000000\n",
      "mean        0.972760\n",
      "std         0.117819\n",
      "min         0.141482\n",
      "25%         1.000000\n",
      "50%         1.000000\n",
      "75%         1.000000\n",
      "max         1.000000\n",
      "Name: attention_weights_mean, dtype: float64\n"
     ]
    }
   ],
   "source": [
    "for target_label in range(2):\n",
    "    for source_label in range(2):\n",
    "        print(f\"From {'Sepsis' if source_label else 'Control'} to {'Sepsis' if target_label else 'Control'}\")\n",
    "        print(edge_df[np.logical_and(edge_df[\"target_label\"] == target_label, edge_df[\"source_label\"] == source_label)][f\"attention_weights_mean\"].describe())"
   ]
  },
  {
   "cell_type": "code",
   "execution_count": 269,
   "id": "45637fbb",
   "metadata": {},
   "outputs": [
    {
     "data": {
      "text/plain": [
       "count    1.322400e+04\n",
       "mean     1.869938e-01\n",
       "std      3.893807e-01\n",
       "min      0.000000e+00\n",
       "25%      0.000000e+00\n",
       "50%      0.000000e+00\n",
       "75%      3.903368e-39\n",
       "max      1.000000e+00\n",
       "Name: attention_weights, dtype: float64"
      ]
     },
     "execution_count": 269,
     "metadata": {},
     "output_type": "execute_result"
    }
   ],
   "source": [
    "edge_df[edge_df[\"source_label\"] == 1][\"attention_weights\"].describe()"
   ]
  },
  {
   "cell_type": "code",
   "execution_count": 193,
   "id": "18f899d3",
   "metadata": {},
   "outputs": [
    {
     "data": {
      "text/plain": [
       "tensor([0., 0., 0.,  ..., 0., 0., 0.])"
      ]
     },
     "execution_count": 193,
     "metadata": {},
     "output_type": "execute_result"
    }
   ],
   "source": [
    "pred.squeeze()"
   ]
  },
  {
   "cell_type": "code",
   "execution_count": 194,
   "id": "f5bd2626",
   "metadata": {},
   "outputs": [],
   "source": [
    "data[\"pred\"] = pred.squeeze()"
   ]
  },
  {
   "cell_type": "code",
   "execution_count": 197,
   "id": "16edab4a",
   "metadata": {},
   "outputs": [],
   "source": [
    "correct_data = data[data[\"pred\"] == data[\"Label\"]]"
   ]
  },
  {
   "cell_type": "code",
   "execution_count": 46,
   "id": "eabbf60e",
   "metadata": {},
   "outputs": [
    {
     "data": {
      "text/html": [
       "<div>\n",
       "<style scoped>\n",
       "    .dataframe tbody tr th:only-of-type {\n",
       "        vertical-align: middle;\n",
       "    }\n",
       "\n",
       "    .dataframe tbody tr th {\n",
       "        vertical-align: top;\n",
       "    }\n",
       "\n",
       "    .dataframe thead th {\n",
       "        text-align: right;\n",
       "    }\n",
       "</style>\n",
       "<table border=\"1\" class=\"dataframe\">\n",
       "  <thead>\n",
       "    <tr style=\"text-align: right;\">\n",
       "      <th></th>\n",
       "      <th>0</th>\n",
       "    </tr>\n",
       "  </thead>\n",
       "  <tbody>\n",
       "    <tr>\n",
       "      <th>count</th>\n",
       "      <td>1.269899e+07</td>\n",
       "    </tr>\n",
       "    <tr>\n",
       "      <th>mean</th>\n",
       "      <td>1.525897e-01</td>\n",
       "    </tr>\n",
       "    <tr>\n",
       "      <th>std</th>\n",
       "      <td>2.103486e-01</td>\n",
       "    </tr>\n",
       "    <tr>\n",
       "      <th>min</th>\n",
       "      <td>0.000000e+00</td>\n",
       "    </tr>\n",
       "    <tr>\n",
       "      <th>25%</th>\n",
       "      <td>3.013179e-09</td>\n",
       "    </tr>\n",
       "    <tr>\n",
       "      <th>50%</th>\n",
       "      <td>4.899285e-04</td>\n",
       "    </tr>\n",
       "    <tr>\n",
       "      <th>75%</th>\n",
       "      <td>4.266820e-01</td>\n",
       "    </tr>\n",
       "    <tr>\n",
       "      <th>max</th>\n",
       "      <td>5.477226e-01</td>\n",
       "    </tr>\n",
       "  </tbody>\n",
       "</table>\n",
       "</div>"
      ],
      "text/plain": [
       "                  0\n",
       "count  1.269899e+07\n",
       "mean   1.525897e-01\n",
       "std    2.103486e-01\n",
       "min    0.000000e+00\n",
       "25%    3.013179e-09\n",
       "50%    4.899285e-04\n",
       "75%    4.266820e-01\n",
       "max    5.477226e-01"
      ]
     },
     "execution_count": 46,
     "metadata": {},
     "output_type": "execute_result"
    }
   ],
   "source": [
    "pd.DataFrame(torch.std(attention_w[0][1], dim = 1).numpy()).describe()"
   ]
  },
  {
   "cell_type": "code",
   "execution_count": 38,
   "id": "7596cedc",
   "metadata": {},
   "outputs": [
    {
     "data": {
      "text/plain": [
       "torch.Size([2, 12698987])"
      ]
     },
     "execution_count": 38,
     "metadata": {},
     "output_type": "execute_result"
    }
   ],
   "source": [
    "graph.edge_index.shape"
   ]
  },
  {
   "cell_type": "code",
   "execution_count": 199,
   "id": "f06ced5d",
   "metadata": {},
   "outputs": [],
   "source": [
    "# sepsis_mask = data[\"Label\"] == 1\n",
    "# sepsis_data = data[sepsis_mask]\n",
    "# sepsis_ids = sepsis_data[\"Id\"].unique()\n",
    "# data_containing_sepsis_mask = data[\"Id\"].isin(sepsis_ids)\n",
    "# data_containing_sepsis = data[data_containing_sepsis_mask]\n",
    "# data_containing_sepsis = data_containing_sepsis.sort_values([\"Id\", \"Time\"])\n",
    "# data_containing_sepsis = data_containing_sepsis.reset_index(drop=True)"
   ]
  },
  {
   "cell_type": "code",
   "execution_count": 210,
   "id": "6140c2a2",
   "metadata": {},
   "outputs": [
    {
     "data": {
      "text/plain": [
       "(293921,)"
      ]
     },
     "execution_count": 210,
     "metadata": {},
     "output_type": "execute_result"
    }
   ],
   "source": [
    "un, c = np.unique(correct_data[\"Id\"], return_counts=True)\n",
    "un[c != 1].shape"
   ]
  },
  {
   "cell_type": "code",
   "execution_count": 211,
   "id": "a8da49db",
   "metadata": {
    "scrolled": false
   },
   "outputs": [
    {
     "name": "stderr",
     "output_type": "stream",
     "text": [
      "/tmp/ipykernel_10661/1779307904.py:26: FutureWarning: In a future version of pandas, a length 1 tuple will be returned when iterating over a groupby with a grouper equal to a list of length 1. Don't supply a list with a single grouper to avoid this warning.\n",
      "  for Id, group in data.groupby([\"Id\"]):\n"
     ]
    },
    {
     "data": {
      "image/png": "[encoded data removed]",
      "text/plain": [
       "<Figure size 640x480 with 1 Axes>"
      ]
     },
     "metadata": {},
     "output_type": "display_data"
    },
    {
     "data": {
      "image/png": "[encoded data removed]",
      "text/plain": [
       "<Figure size 640x480 with 1 Axes>"
      ]
     },
     "metadata": {},
     "output_type": "display_data"
    },
    {
     "data": {
      "image/png": "[encoded data removed]",
      "text/plain": [
       "<Figure size 640x480 with 1 Axes>"
      ]
     },
     "metadata": {},
     "output_type": "display_data"
    },
    {
     "data": {
      "image/png": "[encoded data removed]",
      "text/plain": [
       "<Figure size 640x480 with 1 Axes>"
      ]
     },
     "metadata": {},
     "output_type": "display_data"
    },
    {
     "data": {
      "image/png": "[encoded data removed]",
      "text/plain": [
       "<Figure size 640x480 with 1 Axes>"
      ]
     },
     "metadata": {},
     "output_type": "display_data"
    },
    {
     "data": {
      "image/png": "[encoded data removed]",
      "text/plain": [
       "<Figure size 640x480 with 1 Axes>"
      ]
     },
     "metadata": {},
     "output_type": "display_data"
    },
    {
     "data": {
      "image/png": "[encoded data removed]",
      "text/plain": [
       "<Figure size 640x480 with 1 Axes>"
      ]
     },
     "metadata": {},
     "output_type": "display_data"
    },
    {
     "data": {
      "image/png": "[encoded data removed]",
      "text/plain": [
       "<Figure size 640x480 with 1 Axes>"
      ]
     },
     "metadata": {},
     "output_type": "display_data"
    },
    {
     "data": {
      "image/png": "[encoded data removed]",
      "text/plain": [
       "<Figure size 640x480 with 1 Axes>"
      ]
     },
     "metadata": {},
     "output_type": "display_data"
    },
    {
     "data": {
      "image/png": "[encoded data removed]",
      "text/plain": [
       "<Figure size 640x480 with 1 Axes>"
      ]
     },
     "metadata": {},
     "output_type": "display_data"
    }
   ],
   "source": [
    "import networkx as nx\n",
    "\n",
    "def get_edge_index(group):\n",
    "    indices = group.index    \n",
    "    offset = 0# indices[0]\n",
    "    num_nodes = len(indices)\n",
    "    edge_index = torch.zeros((2, sum(range(num_nodes + 1))), dtype=torch.long)+offset\n",
    "\n",
    "    ## Self edges\n",
    "    edge_index[:, 0:num_nodes] = (torch.arange(num_nodes) + offset).view(1, -1)\n",
    "    idx = num_nodes\n",
    "    for i in range(1, num_nodes):\n",
    "        edge_index[1, idx:idx + i] = i+offset\n",
    "        edge_index[0, idx:idx + i] = torch.arange(i)+offset\n",
    "        idx += i\n",
    "    return edge_index\n",
    "\n",
    "edge_len = 0\n",
    "edge_thickness_scale = 3\n",
    "options = {\"edgecolors\": \"tab:gray\", \"node_size\": 500}\n",
    "\n",
    "counter = 0\n",
    "for Id, group in data.groupby([\"Id\"]):\n",
    "    \n",
    "    \n",
    "    edge_index = get_edge_index(group)\n",
    "    edge_len += edge_index[0].shape[0]\n",
    "    if group.shape[0] == 1:\n",
    "        continue\n",
    "    G = nx.DiGraph()\n",
    "    \n",
    "    group_reset = group.reset_index(drop=True)\n",
    "    sepsis_nodes = group_reset[group_reset[\"Label\"] == 1]\n",
    "    control_nodes = group_reset[group_reset[\"Label\"] == 0]\n",
    "    \n",
    "    \n",
    "\n",
    "    last_layer = 1\n",
    "    attention_heads = 1\n",
    "    weights = attention_w[last_layer][attention_heads][edge_len-edge_index[0].shape[0]:edge_len]\n",
    "    for i in range(len(edge_index[0])):\n",
    "        source_edge = edge_index[0][i]\n",
    "        target_edge = edge_index[1][i]\n",
    "        G.add_edge(source_edge.item(),target_edge.item(),color='g',weight=weights[i].item())\n",
    "    \n",
    "    \n",
    "    pos = nx.spring_layout(G)\n",
    "    edges = G.edges()\n",
    "    colors = [G[u][v]['color'] for u,v in edges]\n",
    "    weights = [G[u][v]['weight']*edge_thickness_scale for u,v in edges]\n",
    "    \n",
    "    control_labels= {i: i for i in control_nodes.index}\n",
    "    sepsis_labels= {i: i for i in sepsis_nodes.index}\n",
    "    nodes = nx.draw_networkx_nodes(G, pos, control_labels, node_color=\"tab:blue\", **options)\n",
    "    nodes = nx.draw_networkx_nodes(G, pos, sepsis_labels, node_color=\"tab:red\", **options)\n",
    "    nx.draw_networkx_labels(G,pos,control_labels,font_size=14,font_color='w')\n",
    "    nx.draw_networkx_labels(G,pos,sepsis_labels,font_size=14,font_color='w')\n",
    "    edges = nx.draw_networkx_edges(\n",
    "        G,\n",
    "        pos,\n",
    "        arrowstyle=\"->\",\n",
    "        arrowsize=10,\n",
    "        edge_color=colors,\n",
    "        width=weights\n",
    "    )\n",
    "    plt.show()\n",
    "    counter+=1\n",
    "    if counter ==10:\n",
    "        break"
   ]
  },
  {
   "cell_type": "code",
   "execution_count": null,
   "id": "2368a524",
   "metadata": {},
   "outputs": [],
   "source": []
  }
 ],
 "metadata": {
  "kernelspec": {
   "display_name": "Python 3 (ipykernel)",
   "language": "python",
   "name": "python3"
  },
  "language_info": {
   "codemirror_mode": {
    "name": "ipython",
    "version": 3
   },
   "file_extension": ".py",
   "mimetype": "text/x-python",
   "name": "python",
   "nbconvert_exporter": "python",
   "pygments_lexer": "ipython3",
   "version": "3.10.6"
  }
 },
 "nbformat": 4,
 "nbformat_minor": 5
}
