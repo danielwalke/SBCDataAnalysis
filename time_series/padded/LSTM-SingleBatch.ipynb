{
 "cells": [
  {
   "cell_type": "code",
   "execution_count": 1,
   "id": "25976b88-622c-4b25-a238-99d496a3055c",
   "metadata": {},
   "outputs": [],
   "source": [
    "import pandas as pd"
   ]
  },
  {
   "cell_type": "code",
   "execution_count": 2,
   "id": "6484d113-136f-493f-b460-67dc042d7794",
   "metadata": {},
   "outputs": [
    {
     "name": "stderr",
     "output_type": "stream",
     "text": [
      "/home/dwalke/git/graph_aware_ml/time_series/../dataAnalysis/data/Filter.py:34: SettingWithCopyWarning: \n",
      "A value is trying to be set on a copy of a slice from a DataFrame.\n",
      "Try using .loc[row_indexer,col_indexer] = value instead\n",
      "\n",
      "See the caveats in the documentation: https://pandas.pydata.org/pandas-docs/stable/user_guide/indexing.html#returning-a-view-versus-a-copy\n",
      "  self.data['Label'] = self.data['Diagnosis']\n",
      "/home/dwalke/git/graph_aware_ml/time_series/../dataAnalysis/data/Filter.py:34: SettingWithCopyWarning: \n",
      "A value is trying to be set on a copy of a slice from a DataFrame.\n",
      "Try using .loc[row_indexer,col_indexer] = value instead\n",
      "\n",
      "See the caveats in the documentation: https://pandas.pydata.org/pandas-docs/stable/user_guide/indexing.html#returning-a-view-versus-a-copy\n",
      "  self.data['Label'] = self.data['Diagnosis']\n",
      "/home/dwalke/git/graph_aware_ml/time_series/../dataAnalysis/data/Filter.py:34: SettingWithCopyWarning: \n",
      "A value is trying to be set on a copy of a slice from a DataFrame.\n",
      "Try using .loc[row_indexer,col_indexer] = value instead\n",
      "\n",
      "See the caveats in the documentation: https://pandas.pydata.org/pandas-docs/stable/user_guide/indexing.html#returning-a-view-versus-a-copy\n",
      "  self.data['Label'] = self.data['Diagnosis']\n"
     ]
    }
   ],
   "source": [
    "import sys\n",
    "sys.path.insert(0, \"../\")\n",
    "from dataAnalysis.DataAnalysis import DataAnalysis\n",
    "import pandas as pd\n",
    "import torch\n",
    " \n",
    "data = pd.read_csv(r\"../sbcdata.csv\", header=0)\n",
    "data_analysis = DataAnalysis(data)"
   ]
  },
  {
   "cell_type": "code",
   "execution_count": 3,
   "id": "25ddb7fc-61fa-40a6-85b6-f366dab17b77",
   "metadata": {},
   "outputs": [],
   "source": [
    "data = pd.concat((data_analysis.get_training_data(), data_analysis.get_testing_data()))\n",
    "max_Id = data[\"Id\"].unique().max()\n",
    "gw_data = data_analysis.get_gw_testing_data().copy(deep=True)\n",
    "gw_data = gw_data.assign(Id=lambda x: x.Id + max_Id)\n",
    "data = pd.concat((data, gw_data))\n",
    "data = data.sort_values([\"Id\", \"Time\"])\n",
    "data = data.reset_index(drop=True)\n",
    "popped_index = data.pop(\"index\")"
   ]
  },
  {
   "cell_type": "code",
   "execution_count": 4,
   "id": "3077e551-dfd4-4bf6-9cc0-cf0c9f9d37c2",
   "metadata": {},
   "outputs": [],
   "source": [
    "train = (data[\"Center\"] == \"Leipzig\") & (data[\"Set\"] == \"Training\")\n",
    "test = (data[\"Center\"] == \"Leipzig\") & (data[\"Set\"] == \"Validation\")\n",
    "val = (data[\"Center\"] == \"Greifswald\") & (data[\"Set\"] == \"Validation\")"
   ]
  },
  {
   "cell_type": "code",
   "execution_count": 5,
   "id": "40c63c82-85ac-4161-841a-326d6c35e446",
   "metadata": {},
   "outputs": [],
   "source": [
    "train = torch.from_numpy(train.values)\n",
    "test = torch.from_numpy(test.values)\n",
    "val = torch.from_numpy(val.values)"
   ]
  },
  {
   "cell_type": "code",
   "execution_count": 6,
   "id": "52163468-28a6-471f-b5b5-154baad2b704",
   "metadata": {},
   "outputs": [],
   "source": [
    "import torch\n",
    "from dataAnalysis.Constants import SEX_CATEGORY_COLUMN_NAME, SEX_COLUMN_NAME, FEATURES, LABEL_COLUMN_NAME\n",
    "\n",
    "data[SEX_CATEGORY_COLUMN_NAME] = data.loc[:, SEX_COLUMN_NAME] ==\"W\"\n",
    "\n",
    "data[SEX_CATEGORY_COLUMN_NAME] = data[SEX_CATEGORY_COLUMN_NAME].astype(\"int8\")\n",
    "data[\"Label\"] = data[\"Label\"] == \"Sepsis\"\n",
    "data[\"Label\"] = data[\"Label\"].astype(\"int8\")\n",
    "\n",
    "X = data[FEATURES].values\n",
    "y = data[LABEL_COLUMN_NAME].values"
   ]
  },
  {
   "cell_type": "code",
   "execution_count": 7,
   "id": "e7d19731-faa2-4f72-8833-a528fd8ce213",
   "metadata": {},
   "outputs": [],
   "source": [
    "from sklearn.preprocessing import QuantileTransformer\n",
    "\n",
    "scaler = QuantileTransformer(output_distribution=\"normal\")\n",
    "scaler.fit(X[train])\n",
    "X = scaler.transform(X)"
   ]
  },
  {
   "cell_type": "code",
   "execution_count": 8,
   "id": "bb63e0b3-9389-4ea2-9548-083b6d2ff6bc",
   "metadata": {},
   "outputs": [],
   "source": [
    "X = torch.from_numpy(X)\n",
    "y = torch.from_numpy(y)"
   ]
  },
  {
   "cell_type": "code",
   "execution_count": 9,
   "id": "699e5842-46ad-45f6-8c55-02a3064dc013",
   "metadata": {},
   "outputs": [],
   "source": [
    "id_grouped_data = data.groupby(\"Id\")"
   ]
  },
  {
   "cell_type": "code",
   "execution_count": 10,
   "id": "3c0197c9-4ee9-4f02-9ad9-492c27f945d7",
   "metadata": {},
   "outputs": [
    {
     "data": {
      "application/vnd.jupyter.widget-view+json": {
       "model_id": "50e3899b99784c4284939caedebb7698",
       "version_major": 2,
       "version_minor": 0
      },
      "text/plain": [
       "  0%|          | 0/866517 [00:00<?, ?it/s]"
      ]
     },
     "metadata": {},
     "output_type": "display_data"
    }
   ],
   "source": [
    "import numpy as np\n",
    "from tqdm.notebook import tqdm\n",
    "\n",
    "edge_index_list = []\n",
    "time_steps = 5\n",
    "\n",
    "i = 0\n",
    "for Id, group in tqdm(id_grouped_data):\n",
    "    indices = group.index\n",
    "    offset = indices[0]\n",
    "    num_nodes = len(indices)\n",
    "    indices = torch.from_numpy(indices.values)\n",
    "\n",
    "    edge_indices = []\n",
    "    for i in range(indices.shape[0]):\n",
    "        sample_indices = indices[:i+1]\n",
    "        padded_sample_indices = torch.nn.functional.pad(sample_indices, (time_steps - len(sample_indices), 0), mode='constant', value=sample_indices[0])\n",
    "        edge_indices.append(padded_sample_indices.unsqueeze(0))\n",
    "    edge_index_list.extend(edge_indices)"
   ]
  },
  {
   "cell_type": "code",
   "execution_count": 11,
   "id": "c77aa6ca-ad14-40dd-b8b3-e22191b97b9b",
   "metadata": {},
   "outputs": [],
   "source": [
    "edge_index = torch.concat(edge_index_list, 0)"
   ]
  },
  {
   "cell_type": "code",
   "execution_count": 12,
   "id": "010088f1-e31e-42b7-863e-d5642f70ad6e",
   "metadata": {},
   "outputs": [],
   "source": [
    "new_X_list = []\n",
    "for i in range(edge_index.shape[0]):\n",
    "    new_X_list.append(torch.index_select(X, 0, edge_index[i, :]).unsqueeze(0))"
   ]
  },
  {
   "cell_type": "code",
   "execution_count": 13,
   "id": "9dd6418f-62e7-4133-b7bb-8157323a6b80",
   "metadata": {},
   "outputs": [],
   "source": [
    "X_times = torch.concat(new_X_list, dim = 0)"
   ]
  },
  {
   "cell_type": "code",
   "execution_count": 14,
   "id": "f131316b-87a2-4977-aeae-3acd5d66473d",
   "metadata": {},
   "outputs": [],
   "source": [
    "device = torch.device(\"cuda:2\") if torch.cuda.is_available() else torch.device(\"cpu\")\n",
    "\n",
    "y = y.to(device)\n",
    "X_times = X_times.to(device)"
   ]
  },
  {
   "cell_type": "code",
   "execution_count": 15,
   "id": "07776b6c-d084-452d-90cc-a063264ce347",
   "metadata": {},
   "outputs": [],
   "source": [
    "X_times = X_times.type(torch.float32)\n",
    "y = y.type(torch.float32)"
   ]
  },
  {
   "cell_type": "code",
   "execution_count": 16,
   "id": "455dc42b-e286-4b43-888d-de4a7ce8d4fb",
   "metadata": {},
   "outputs": [],
   "source": [
    "## TODO Find and set appropriate time-window -> David, Robert fragen + evaluate sequence-group batching\n",
    "## TODO Hyperparam tuning & CNN, Transformer decoder\n",
    "## TODO add pos. encodings?! -> eigentlich möchte ich das nicht aber vllt ein guter test um zu überprüfen dass LSTM auch klappt"
   ]
  },
  {
   "cell_type": "code",
   "execution_count": 17,
   "id": "ba1e69ca-cb5a-4157-9d29-65a9b6666388",
   "metadata": {},
   "outputs": [],
   "source": [
    "train_idc = torch.where(train)[0]\n",
    "new_train_idc = train_idc[:round(train_idc.shape[0]*.8)]\n",
    "new_val_idc = train_idc[round(train_idc.shape[0]*.8):]\n",
    "new_train = torch.zeros_like(train)\n",
    "new_val = torch.zeros_like(train)\n",
    "new_train[new_train_idc] = 1\n",
    "new_val[new_val_idc] = 1\n",
    "new_train = new_train.type(torch.bool)\n",
    "new_val = new_val.type(torch.bool)"
   ]
  },
  {
   "cell_type": "code",
   "execution_count": 18,
   "id": "77e4f7c6-9d70-4dc1-8038-44fc8bf800ba",
   "metadata": {},
   "outputs": [],
   "source": [
    "sets = dict()\n",
    "sets[\"train\"] = X_times[new_train]\n",
    "sets[\"val\"] = X_times[new_val]\n",
    "sets[\"test\"] =  X_times[test]\n",
    "sets[\"gw_test\"] =  X_times[val]"
   ]
  },
  {
   "cell_type": "code",
   "execution_count": 19,
   "id": "90c901d0-9369-4830-9e5e-770691ff5d80",
   "metadata": {},
   "outputs": [],
   "source": [
    "labels = dict()\n",
    "labels[\"train\"] = y[new_train]\n",
    "labels[\"val\"] = y[new_val]\n",
    "labels[\"test\"] =  y[test]\n",
    "labels[\"gw_test\"] =  y[val]"
   ]
  },
  {
   "cell_type": "code",
   "execution_count": 20,
   "id": "8356e7a4-9885-49e5-a676-6ead456986a0",
   "metadata": {},
   "outputs": [],
   "source": [
    "losses = dict()\n",
    "losses[\"train\"] = []\n",
    "losses[\"val\"] = []\n",
    "losses[\"test\"] = []\n",
    "losses[\"gw_test\"] = []"
   ]
  },
  {
   "cell_type": "code",
   "execution_count": 21,
   "id": "af8d66f5-7a58-4d61-af4f-13531fee5798",
   "metadata": {},
   "outputs": [],
   "source": [
    "aurocs = dict()\n",
    "aurocs[\"train\"] = []\n",
    "aurocs[\"val\"] = []\n",
    "aurocs[\"test\"] = []\n",
    "aurocs[\"gw_test\"] = []"
   ]
  },
  {
   "cell_type": "code",
   "execution_count": 22,
   "id": "e7e0a296-4fd7-4d53-a8fb-f52deee1c628",
   "metadata": {},
   "outputs": [
    {
     "data": {
      "text/plain": [
       "tensor(664.1861, device='cuda:2')"
      ]
     },
     "execution_count": 22,
     "metadata": {},
     "output_type": "execute_result"
    }
   ],
   "source": [
    "counts = torch.unique(y[train], return_counts=True)[-1]\n",
    "WEIGHT = counts[0] / counts[-1]\n",
    "WEIGHT"
   ]
  },
  {
   "cell_type": "code",
   "execution_count": 23,
   "id": "5c0fb215-5186-435c-a0ca-caf4e8663332",
   "metadata": {},
   "outputs": [],
   "source": [
    "from sklearn.metrics import roc_auc_score\n",
    "\n",
    "def evaluate(model, batch_loader, set_name):\n",
    "    global X_times, losses, labels\n",
    "    with torch.inference_mode():\n",
    "        model.eval()\n",
    "        acc_loss = 0\n",
    "        batch_size = 0\n",
    "        acc_labels = []\n",
    "        acc_proba = []\n",
    "        \n",
    "        for x,y in batch_loader[set_name]:\n",
    "            logits = model(x)\n",
    "            last_logits_set = torch.squeeze(logits)\n",
    "            loss = torch.nn.functional.binary_cross_entropy_with_logits(last_logits_set, y,pos_weight=WEIGHT)\n",
    "            last_proba_set = torch.sigmoid(last_logits_set)\n",
    "            acc_labels.extend(y.cpu().tolist())\n",
    "            acc_proba.extend(last_proba_set.cpu().tolist())\n",
    "            acc_loss += loss.item()\n",
    "            batch_size+= x.shape[0]\n",
    "        losses[set_name].append(acc_loss/batch_size)\n",
    "        auroc = roc_auc_score(np.array(acc_labels), np.array(acc_proba))\n",
    "        aurocs[set_name].append(auroc)\n",
    "        # print(f\"{set_name} has AUROC: {auroc}\")"
   ]
  },
  {
   "cell_type": "code",
   "execution_count": 24,
   "id": "97bbeff8-2e46-4b51-a5bc-8cfb1bf3ce3b",
   "metadata": {},
   "outputs": [],
   "source": [
    "def full_batch_epoch(model, batch_loader):\n",
    "    global X_times, y, sets\n",
    "    model.train()\n",
    "    optim.zero_grad()\n",
    "    acc_loss = 0\n",
    "    \n",
    "    for x,y in batch_loader[\"train\"]:\n",
    "        logits = model(x)\n",
    "        loss = torch.nn.functional.binary_cross_entropy_with_logits(torch.squeeze(logits), y,pos_weight=WEIGHT)\n",
    "        acc_loss+= loss.item()\n",
    "        loss.backward()\n",
    "    for set_name in sets:\n",
    "        evaluate(model, batch_loader, set_name)\n",
    "    optim.step()\n",
    "    return acc_loss"
   ]
  },
  {
   "cell_type": "code",
   "execution_count": 44,
   "id": "8ca2b5d3-84d2-4478-a7ec-f257c13859aa",
   "metadata": {},
   "outputs": [],
   "source": [
    "from torch import nn\n",
    "from torch.autograd import Variable \n",
    "\n",
    "class LSTM1(nn.Module):\n",
    "    def __init__(self, num_classes, input_size, hidden_size, dropout):\n",
    "        super(LSTM1, self).__init__()\n",
    "        self.num_classes = num_classes #number of classes\n",
    "        self.input_size = input_size #input size\n",
    "        self.hidden_size = hidden_size #hidden_size #hidden state\n",
    "        self.num_layers = 2\n",
    "        \n",
    "        self.lstm = nn.LSTM(input_size=input_size, hidden_size=self.hidden_size,\n",
    "                          num_layers=self.num_layers, batch_first=True, bidirectional=True, dropout=dropout) #lstm\n",
    "        self.fc_1 =  nn.Linear(self.hidden_size*2, 1) #fully connected 1\n",
    "\n",
    "        self.relu = nn.ReLU()\n",
    "    \n",
    "    def forward(self,x):\n",
    "        h_0 = Variable(torch.zeros(self.num_layers*2, x.shape[0], self.hidden_size)).to(device) #hidden state\n",
    "        c_0 = Variable(torch.zeros(self.num_layers*2, x.shape[0], self.hidden_size)).to(device) #internal state\n",
    "        # Propagate input through LSTM\n",
    "        output, (hn, _) = self.lstm(x, (h_0, c_0)) #lstm with input, hidden, and internal state\n",
    "        # out = hn.view(-1, self.hidden_size*2) #reshaping the data for Dense layer next\n",
    "        out = self.relu(output[:,-1, :])\n",
    "        out = self.fc_1(out) #first Dense\n",
    "        return out#output[:,-1,0] #out"
   ]
  },
  {
   "cell_type": "code",
   "execution_count": 45,
   "id": "1073958a-68c4-41a3-b318-f60744e979db",
   "metadata": {},
   "outputs": [],
   "source": [
    "def empty_dict(dictionary):\n",
    "    for key in dictionary.keys():\n",
    "        dictionary[key] = []"
   ]
  },
  {
   "cell_type": "code",
   "execution_count": 46,
   "id": "36aa9bf3-1ac2-4e38-9618-3abf393af994",
   "metadata": {},
   "outputs": [],
   "source": [
    "def transfer_dict(dictionary,device):\n",
    "    for key in dictionary.keys():\n",
    "        dictionary[key] = dictionary[key].to(device)"
   ]
  },
  {
   "cell_type": "code",
   "execution_count": 47,
   "id": "aa9bfda8-893b-46d6-be7a-e41e987f56ed",
   "metadata": {},
   "outputs": [],
   "source": [
    "from torch.utils.data import DataLoader\n",
    "from torch.utils.data import Dataset\n",
    "\n",
    "class Data(Dataset):\n",
    "    # Constructor\n",
    "    def __init__(self,X, y):\n",
    "        self.x = X\n",
    "        self.y = y\n",
    "        self.len = self.x.shape[0]\n",
    "\n",
    "    def __getitem__(self, index):\n",
    "        return self.x[index], self.y[index]\n",
    "\n",
    "    def __len__(self):\n",
    "        return self.len"
   ]
  },
  {
   "cell_type": "code",
   "execution_count": 48,
   "id": "402d4744-2389-4160-9dca-89dfce1fd992",
   "metadata": {},
   "outputs": [],
   "source": [
    "batch_loader = dict()\n",
    "batch_loader[\"train\"] = []\n",
    "batch_loader[\"val\"] = []\n",
    "batch_loader[\"test\"] = []\n",
    "batch_loader[\"gw_test\"] = []"
   ]
  },
  {
   "cell_type": "code",
   "execution_count": 49,
   "id": "316a5ec4-d663-4bff-b417-c4c440f8537a",
   "metadata": {},
   "outputs": [],
   "source": [
    "def add_loader(set_name):\n",
    "    global bitch_loader, sets, labels\n",
    "    dataset = Data(sets[set_name], labels[set_name])\n",
    "    loader = DataLoader(dataset=dataset, batch_size=50_000) #max is 100_000\n",
    "    batch_loader[set_name] = loader"
   ]
  },
  {
   "cell_type": "code",
   "execution_count": 50,
   "id": "d30699a2-5332-418e-b82b-774da0fa0b53",
   "metadata": {},
   "outputs": [],
   "source": [
    "for set_name in sets.keys():\n",
    "    add_loader(set_name)"
   ]
  },
  {
   "cell_type": "code",
   "execution_count": 51,
   "id": "39ba6829-1ea8-4f2f-bca0-54ea75b6ac8c",
   "metadata": {
    "scrolled": true
   },
   "outputs": [
    {
     "data": {
      "application/vnd.jupyter.widget-view+json": {
       "model_id": "0fb7bd73beeb462c941a078b3bf82133",
       "version_major": 2,
       "version_minor": 0
      },
      "text/plain": [
       "  0%|          | 0/500 [00:00<?, ?it/s]"
      ]
     },
     "metadata": {},
     "output_type": "display_data"
    },
    {
     "name": "stdout",
     "output_type": "stream",
     "text": [
      "0\n",
      "23.15964376926422\n",
      "1\n",
      "22.998637676239014\n",
      "2\n",
      "22.854267358779907\n",
      "3\n",
      "22.70779013633728\n",
      "4\n",
      "22.557668566703796\n",
      "5\n",
      "22.388795971870422\n",
      "6\n",
      "22.204792618751526\n",
      "7\n",
      "21.990763902664185\n",
      "8\n",
      "21.753648042678833\n",
      "9\n",
      "21.47724485397339\n",
      "10\n",
      "21.16528809070587\n",
      "11\n",
      "20.79282855987549\n",
      "12\n",
      "20.39418739080429\n",
      "13\n",
      "19.943903505802155\n",
      "14\n",
      "19.484598457813263\n",
      "15\n",
      "19.022464513778687\n",
      "16\n",
      "18.588650941848755\n",
      "17\n",
      "18.146755874156952\n",
      "18\n",
      "17.76218891143799\n",
      "19\n",
      "17.368449807167053\n",
      "20\n",
      "17.083326756954193\n",
      "21\n",
      "16.89844423532486\n",
      "22\n",
      "16.77679967880249\n",
      "23\n",
      "16.806522607803345\n",
      "24\n",
      "16.784058332443237\n",
      "25\n",
      "16.76292848587036\n",
      "26\n",
      "16.715469181537628\n",
      "27\n",
      "16.563957929611206\n",
      "28\n",
      "16.35107922554016\n",
      "29\n",
      "16.15075033903122\n",
      "30\n",
      "15.991419613361359\n",
      "31\n",
      "15.824265122413635\n",
      "32\n",
      "15.733720421791077\n",
      "33\n",
      "15.637889385223389\n",
      "34\n",
      "15.608123779296875\n",
      "35\n",
      "15.525439381599426\n",
      "36\n",
      "15.48885840177536\n",
      "37\n",
      "15.438953638076782\n",
      "38\n",
      "15.32977432012558\n",
      "39\n",
      "15.247266173362732\n",
      "40\n",
      "15.1638822555542\n",
      "41\n",
      "15.14313793182373\n",
      "42\n",
      "15.107463419437408\n",
      "43\n",
      "15.06388235092163\n",
      "44\n",
      "15.057685256004333\n",
      "45\n",
      "15.040545761585236\n",
      "46\n",
      "14.996142506599426\n",
      "47\n",
      "14.945229947566986\n",
      "48\n",
      "14.890238523483276\n",
      "49\n",
      "14.861727058887482\n",
      "50\n",
      "14.820285975933075\n",
      "51\n",
      "14.797589659690857\n",
      "52\n",
      "14.780804932117462\n",
      "53\n",
      "14.72896420955658\n",
      "54\n",
      "14.7089803814888\n",
      "55\n",
      "14.714422345161438\n",
      "56\n",
      "14.632248759269714\n",
      "57\n",
      "14.616986870765686\n",
      "58\n",
      "14.577640652656555\n",
      "59\n",
      "14.540291130542755\n",
      "60\n",
      "14.491845667362213\n",
      "61\n",
      "14.498244285583496\n",
      "62\n",
      "14.424237132072449\n",
      "63\n",
      "14.414840757846832\n",
      "64\n",
      "14.406104803085327\n",
      "65\n",
      "14.37408071756363\n",
      "66\n",
      "14.349848806858063\n",
      "67\n",
      "14.328020691871643\n",
      "68\n",
      "14.255320370197296\n",
      "69\n",
      "14.275304198265076\n",
      "70\n",
      "14.26603639125824\n",
      "71\n",
      "14.246535658836365\n",
      "72\n",
      "14.217701137065887\n",
      "73\n",
      "14.150922000408173\n",
      "74\n",
      "14.170828759670258\n",
      "75\n",
      "14.149913132190704\n",
      "76\n",
      "14.146943926811218\n",
      "77\n",
      "14.070703208446503\n",
      "78\n",
      "14.07366281747818\n",
      "79\n",
      "14.087442576885223\n",
      "80\n",
      "14.058290481567383\n",
      "81\n",
      "13.993833124637604\n",
      "82\n",
      "13.993755102157593\n",
      "83\n",
      "13.98195868730545\n",
      "84\n",
      "13.982805490493774\n",
      "85\n",
      "13.983548045158386\n",
      "86\n",
      "13.981615781784058\n",
      "87\n",
      "13.905052244663239\n",
      "88\n",
      "13.909975230693817\n",
      "89\n",
      "13.870883405208588\n",
      "90\n",
      "13.906777441501617\n",
      "91\n",
      "13.849783420562744\n",
      "92\n",
      "13.854697465896606\n",
      "93\n",
      "13.822573363780975\n",
      "94\n",
      "13.819099962711334\n",
      "95\n",
      "13.74170184135437\n",
      "96\n",
      "13.791323363780975\n",
      "97\n",
      "13.776117384433746\n",
      "98\n",
      "13.724021196365356\n",
      "99\n",
      "13.75293344259262\n",
      "100\n",
      "13.67375898361206\n",
      "101\n",
      "13.707123517990112\n",
      "102\n",
      "13.67895781993866\n",
      "103\n",
      "13.655799329280853\n",
      "104\n",
      "13.683460295200348\n",
      "105\n",
      "13.668450713157654\n",
      "106\n",
      "13.611163794994354\n",
      "107\n",
      "13.595614612102509\n",
      "108\n",
      "13.602469205856323\n",
      "109\n",
      "13.564162492752075\n",
      "110\n",
      "13.577898681163788\n",
      "111\n",
      "13.555241107940674\n",
      "112\n",
      "13.576927959918976\n",
      "113\n",
      "13.551844596862793\n",
      "114\n",
      "13.512744009494781\n",
      "115\n",
      "13.521580457687378\n",
      "116\n",
      "13.485073208808899\n",
      "117\n",
      "13.445161759853363\n",
      "118\n",
      "13.427579820156097\n",
      "119\n",
      "13.402444064617157\n",
      "120\n",
      "13.401243329048157\n",
      "121\n",
      "13.422095596790314\n",
      "122\n",
      "13.395092129707336\n",
      "123\n",
      "13.35769373178482\n",
      "124\n",
      "13.374484777450562\n",
      "125\n",
      "13.32624065876007\n",
      "126\n",
      "13.346974670886993\n",
      "127\n",
      "13.36479914188385\n",
      "128\n",
      "13.343220829963684\n",
      "129\n",
      "13.262344241142273\n",
      "130\n",
      "13.294743478298187\n",
      "131\n",
      "13.252302527427673\n",
      "132\n",
      "13.256002068519592\n",
      "133\n",
      "13.269357144832611\n",
      "134\n",
      "13.218992710113525\n",
      "135\n",
      "13.225992918014526\n",
      "136\n",
      "13.220861673355103\n",
      "137\n",
      "13.166826725006104\n",
      "138\n",
      "13.176763355731964\n",
      "139\n",
      "13.156439900398254\n",
      "140\n",
      "13.146880894899368\n",
      "141\n",
      "13.12839537858963\n",
      "142\n",
      "13.105100989341736\n",
      "143\n",
      "13.108165591955185\n",
      "144\n",
      "13.051742643117905\n",
      "145\n"
     ]
    }
   ],
   "source": [
    "from tqdm.notebook import tqdm\n",
    "import time\n",
    "\n",
    "is_continue = False\n",
    "if not is_continue:\n",
    "    model = LSTM1(1, X.shape[1],128, .3).to(device) #128 nodes with 30 patientce lead to 0.88 ##continously uncrease time window ##vary batch size/use batchnorm\n",
    "    \n",
    "    transfer_dict(sets, device)\n",
    "    transfer_dict(labels, device)\n",
    "    empty_dict(losses)\n",
    "    empty_dict(aurocs)\n",
    "    lr = 0.001\n",
    "    ## weight decay\n",
    "    weight_decay = 1e-4\n",
    "    optim = torch.optim.Adam(params=model.parameters(), lr = lr, weight_decay=weight_decay)\n",
    "\n",
    "patience = 50\n",
    "epochs = 500\n",
    "\n",
    "for epoch in tqdm(range(epochs)):\n",
    "    print(epoch)\n",
    "    start = time.time()\n",
    "    loss = full_batch_epoch(model, batch_loader)\n",
    "    if len(losses[\"val\"]) > patience and all(list(map(lambda l: l<=losses[\"val\"][-1], losses[\"val\"][-patience-1:]))):\n",
    "        break\n",
    "    print(loss)"
   ]
  },
  {
   "cell_type": "code",
   "execution_count": 52,
   "id": "3c521f82-9ac4-447e-a035-70ec6325336a",
   "metadata": {},
   "outputs": [
    {
     "data": {
      "image/png": "[encoded data removed]",
      "text/plain": [
       "<Figure size 640x480 with 1 Axes>"
      ]
     },
     "metadata": {},
     "output_type": "display_data"
    }
   ],
   "source": [
    "import matplotlib.pyplot as plt\n",
    "\n",
    "for set_name in losses:\n",
    "    plt.plot(losses[set_name])\n",
    "plt.legend(losses.keys())\n",
    "plt.title(\"Loss curves\")\n",
    "plt.show()"
   ]
  },
  {
   "cell_type": "code",
   "execution_count": 53,
   "id": "6e646ee1-563c-4843-868a-b502c7cf3db5",
   "metadata": {},
   "outputs": [
    {
     "data": {
      "image/png": "[encoded data removed]",
      "text/plain": [
       "<Figure size 640x480 with 1 Axes>"
      ]
     },
     "metadata": {},
     "output_type": "display_data"
    }
   ],
   "source": [
    "import matplotlib.pyplot as plt\n",
    "\n",
    "for set_name in aurocs:\n",
    "    plt.plot(aurocs[set_name])\n",
    "plt.legend(aurocs.keys())\n",
    "plt.title(\"AUROCs\")\n",
    "plt.show()"
   ]
  },
  {
   "cell_type": "code",
   "execution_count": 54,
   "id": "1acecc50-6ab9-4ad5-9ca9-ff4018dc7148",
   "metadata": {},
   "outputs": [
    {
     "data": {
      "text/plain": [
       "0.8831759494833324"
      ]
     },
     "execution_count": 54,
     "metadata": {},
     "output_type": "execute_result"
    }
   ],
   "source": [
    "max(aurocs[\"test\"])"
   ]
  },
  {
   "cell_type": "code",
   "execution_count": 59,
   "id": "d687b0b2-518e-4a99-b789-7549493ef384",
   "metadata": {},
   "outputs": [
    {
     "data": {
      "text/plain": [
       "0.8748580833887436"
      ]
     },
     "execution_count": 59,
     "metadata": {},
     "output_type": "execute_result"
    }
   ],
   "source": [
    "aurocs[\"test\"][-1]"
   ]
  },
  {
   "cell_type": "markdown",
   "id": "b385aed9-10a7-4b9a-8081-4a04c5a1a097",
   "metadata": {},
   "source": [
    "## Evaluate the time series equence lengths"
   ]
  },
  {
   "cell_type": "code",
   "execution_count": 307,
   "id": "40d31bd4-a061-4264-8b16-65a0f00b56d8",
   "metadata": {},
   "outputs": [
    {
     "data": {
      "text/plain": [
       "count    866517.000000\n",
       "mean          2.099711\n",
       "std           3.201005\n",
       "min           1.000000\n",
       "25%           1.000000\n",
       "50%           1.000000\n",
       "75%           2.000000\n",
       "max         416.000000\n",
       "dtype: float64"
      ]
     },
     "execution_count": 307,
     "metadata": {},
     "output_type": "execute_result"
    }
   ],
   "source": [
    "id_grouped_data.size().describe()"
   ]
  },
  {
   "cell_type": "code",
   "execution_count": 312,
   "id": "23775954-4936-4446-b04a-e1642d74e21b",
   "metadata": {},
   "outputs": [],
   "source": [
    "num_sampples_list =  []\n",
    "for i in range(id_grouped_data.size().max()+1):\n",
    "    num_samples = (id_grouped_data.size() == i).sum()\n",
    "    num_sampples_list.append(num_samples)"
   ]
  },
  {
   "cell_type": "code",
   "execution_count": 322,
   "id": "c6f06d3b-a93c-4a6b-9d20-b41b0e8e7e74",
   "metadata": {},
   "outputs": [
    {
     "data": {
      "text/plain": [
       "Text(0.5, 0, 'Length of time series')"
      ]
     },
     "execution_count": 322,
     "metadata": {},
     "output_type": "execute_result"
    },
    {
     "data": {
      "image/png": "[encoded data removed]",
      "text/plain": [
       "<Figure size 640x480 with 1 Axes>"
      ]
     },
     "metadata": {},
     "output_type": "display_data"
    }
   ],
   "source": [
    "import matplotlib.pyplot as plt\n",
    "plt.semilogy(num_sampples_list[1:100])\n",
    "plt.grid(which=\"both\")\n",
    "plt.ylabel(\"Number of samples\")\n",
    "plt.xlabel(\"Length of time series\")"
   ]
  },
  {
   "cell_type": "code",
   "execution_count": null,
   "id": "b1508731-0ebf-48af-8ed5-db36747282cf",
   "metadata": {},
   "outputs": [],
   "source": []
  }
 ],
 "metadata": {
  "kernelspec": {
   "display_name": "Python 3 (ipykernel)",
   "language": "python",
   "name": "python3"
  },
  "language_info": {
   "codemirror_mode": {
    "name": "ipython",
    "version": 3
   },
   "file_extension": ".py",
   "mimetype": "text/x-python",
   "name": "python",
   "nbconvert_exporter": "python",
   "pygments_lexer": "ipython3",
   "version": "3.10.12"
  }
 },
 "nbformat": 4,
 "nbformat_minor": 5
}
