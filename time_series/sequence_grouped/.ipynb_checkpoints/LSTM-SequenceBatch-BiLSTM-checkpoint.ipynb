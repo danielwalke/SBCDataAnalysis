{
 "cells": [
  {
   "cell_type": "code",
   "execution_count": 1,
   "id": "25976b88-622c-4b25-a238-99d496a3055c",
   "metadata": {},
   "outputs": [],
   "source": [
    "import pandas as pd"
   ]
  },
  {
   "cell_type": "code",
   "execution_count": 2,
   "id": "6484d113-136f-493f-b460-67dc042d7794",
   "metadata": {},
   "outputs": [
    {
     "name": "stderr",
     "output_type": "stream",
     "text": [
      "/home/dwalke/git/graph_aware_ml/time_series/../dataAnalysis/data/Filter.py:34: SettingWithCopyWarning: \n",
      "A value is trying to be set on a copy of a slice from a DataFrame.\n",
      "Try using .loc[row_indexer,col_indexer] = value instead\n",
      "\n",
      "See the caveats in the documentation: https://pandas.pydata.org/pandas-docs/stable/user_guide/indexing.html#returning-a-view-versus-a-copy\n",
      "  self.data['Label'] = self.data['Diagnosis']\n",
      "/home/dwalke/git/graph_aware_ml/time_series/../dataAnalysis/data/Filter.py:34: SettingWithCopyWarning: \n",
      "A value is trying to be set on a copy of a slice from a DataFrame.\n",
      "Try using .loc[row_indexer,col_indexer] = value instead\n",
      "\n",
      "See the caveats in the documentation: https://pandas.pydata.org/pandas-docs/stable/user_guide/indexing.html#returning-a-view-versus-a-copy\n",
      "  self.data['Label'] = self.data['Diagnosis']\n",
      "/home/dwalke/git/graph_aware_ml/time_series/../dataAnalysis/data/Filter.py:34: SettingWithCopyWarning: \n",
      "A value is trying to be set on a copy of a slice from a DataFrame.\n",
      "Try using .loc[row_indexer,col_indexer] = value instead\n",
      "\n",
      "See the caveats in the documentation: https://pandas.pydata.org/pandas-docs/stable/user_guide/indexing.html#returning-a-view-versus-a-copy\n",
      "  self.data['Label'] = self.data['Diagnosis']\n"
     ]
    }
   ],
   "source": [
    "import sys\n",
    "sys.path.insert(0, \"../\")\n",
    "from dataAnalysis.DataAnalysis import DataAnalysis\n",
    "import pandas as pd\n",
    "import torch\n",
    " \n",
    "data = pd.read_csv(r\"../sbcdata.csv\", header=0)\n",
    "data_analysis = DataAnalysis(data)"
   ]
  },
  {
   "cell_type": "code",
   "execution_count": 3,
   "id": "25ddb7fc-61fa-40a6-85b6-f366dab17b77",
   "metadata": {},
   "outputs": [],
   "source": [
    "data = pd.concat((data_analysis.get_training_data(), data_analysis.get_testing_data()))\n",
    "max_Id = data[\"Id\"].unique().max()\n",
    "gw_data = data_analysis.get_gw_testing_data().copy(deep=True)\n",
    "gw_data = gw_data.assign(Id=lambda x: x.Id + max_Id)\n",
    "data = pd.concat((data, gw_data))\n",
    "data = data.sort_values([\"Id\", \"Time\"])\n",
    "data = data.reset_index(drop=True)\n",
    "popped_index = data.pop(\"index\")"
   ]
  },
  {
   "cell_type": "code",
   "execution_count": 4,
   "id": "3077e551-dfd4-4bf6-9cc0-cf0c9f9d37c2",
   "metadata": {},
   "outputs": [],
   "source": [
    "train = (data[\"Center\"] == \"Leipzig\") & (data[\"Set\"] == \"Training\")\n",
    "test = (data[\"Center\"] == \"Leipzig\") & (data[\"Set\"] == \"Validation\")\n",
    "val = (data[\"Center\"] == \"Greifswald\") & (data[\"Set\"] == \"Validation\")"
   ]
  },
  {
   "cell_type": "code",
   "execution_count": 5,
   "id": "40c63c82-85ac-4161-841a-326d6c35e446",
   "metadata": {},
   "outputs": [],
   "source": [
    "train = torch.from_numpy(train.values)\n",
    "test = torch.from_numpy(test.values)\n",
    "val = torch.from_numpy(val.values)"
   ]
  },
  {
   "cell_type": "code",
   "execution_count": 6,
   "id": "52163468-28a6-471f-b5b5-154baad2b704",
   "metadata": {},
   "outputs": [],
   "source": [
    "import torch\n",
    "from dataAnalysis.Constants import SEX_CATEGORY_COLUMN_NAME, SEX_COLUMN_NAME, FEATURES, LABEL_COLUMN_NAME\n",
    "\n",
    "data[SEX_CATEGORY_COLUMN_NAME] = data.loc[:, SEX_COLUMN_NAME] ==\"W\"\n",
    "\n",
    "data[SEX_CATEGORY_COLUMN_NAME] = data[SEX_CATEGORY_COLUMN_NAME].astype(\"int8\")\n",
    "data[\"Label\"] = data[\"Label\"] == \"Sepsis\"\n",
    "data[\"Label\"] = data[\"Label\"].astype(\"int8\")\n",
    "\n",
    "X = data[FEATURES].values\n",
    "y = data[LABEL_COLUMN_NAME].values"
   ]
  },
  {
   "cell_type": "code",
   "execution_count": 7,
   "id": "e7d19731-faa2-4f72-8833-a528fd8ce213",
   "metadata": {},
   "outputs": [],
   "source": [
    "from sklearn.preprocessing import QuantileTransformer\n",
    "\n",
    "scaler = QuantileTransformer(output_distribution=\"normal\")\n",
    "scaler.fit(X[train])\n",
    "X = scaler.transform(X)"
   ]
  },
  {
   "cell_type": "code",
   "execution_count": 8,
   "id": "bb63e0b3-9389-4ea2-9548-083b6d2ff6bc",
   "metadata": {},
   "outputs": [],
   "source": [
    "X = torch.from_numpy(X)\n",
    "y = torch.from_numpy(y)"
   ]
  },
  {
   "cell_type": "code",
   "execution_count": 9,
   "id": "699e5842-46ad-45f6-8c55-02a3064dc013",
   "metadata": {},
   "outputs": [],
   "source": [
    "id_grouped_data = data.groupby(\"Id\")"
   ]
  },
  {
   "cell_type": "code",
   "execution_count": 10,
   "id": "ba1e69ca-cb5a-4157-9d29-65a9b6666388",
   "metadata": {},
   "outputs": [],
   "source": [
    "# train_idc = torch.where(train)[0]\n",
    "# new_train_idc = train_idc[:round(train_idc.shape[0]*.8)]\n",
    "# new_val_idc = train_idc[round(train_idc.shape[0]*.8):]\n",
    "# new_train = torch.zeros_like(train)\n",
    "# new_val = torch.zeros_like(train)\n",
    "# new_train[new_train_idc] = 1\n",
    "# new_val[new_val_idc] = 1\n",
    "# new_train = new_train.type(torch.bool)\n",
    "# new_val = new_val.type(torch.bool)"
   ]
  },
  {
   "cell_type": "code",
   "execution_count": 10,
   "id": "3c0197c9-4ee9-4f02-9ad9-492c27f945d7",
   "metadata": {},
   "outputs": [
    {
     "data": {
      "application/vnd.jupyter.widget-view+json": {
       "model_id": "a3d2fd55e0734eef95817346923adfc8",
       "version_major": 2,
       "version_minor": 0
      },
      "text/plain": [
       "  0%|          | 0/866517 [00:00<?, ?it/s]"
      ]
     },
     "metadata": {},
     "output_type": "display_data"
    }
   ],
   "source": [
    "from tqdm.notebook import tqdm\n",
    "\n",
    "X_train_sequences = dict({})\n",
    "y_train_sequences = dict({})\n",
    "\n",
    "X_test_sequences = dict({})\n",
    "y_test_sequences = dict({})\n",
    "\n",
    "X_test_gw_sequences = dict({})\n",
    "y_test_gw_sequences = dict({})\n",
    "\n",
    "for id, data in tqdm(id_grouped_data):\n",
    "    time_series_len = data.shape[0]\n",
    "    is_training = (data[\"Set\"] == \"Training\").all()\n",
    "    is_gw_test = (data[\"Center\"] == \"Greifswald\").all()\n",
    "    X_sgd = torch.from_numpy(data[FEATURES].values).type(torch.float).unsqueeze(0)\n",
    "    y_sgd = torch.from_numpy(data[LABEL_COLUMN_NAME].values).type(torch.float)\n",
    "    if is_training:\n",
    "        if time_series_len not in X_train_sequences:\n",
    "            X_train_sequences[time_series_len] = []\n",
    "            y_train_sequences[time_series_len] = []\n",
    "        X_train_sequences[time_series_len].append(X_sgd)\n",
    "        y_train_sequences[time_series_len].append(y_sgd)\n",
    "    elif is_gw_test:\n",
    "        if time_series_len not in X_test_gw_sequences:\n",
    "            X_test_gw_sequences[time_series_len] = []\n",
    "            y_test_gw_sequences[time_series_len] = []\n",
    "        X_test_gw_sequences[time_series_len].append(X_sgd)\n",
    "        y_test_gw_sequences[time_series_len].append(y_sgd)\n",
    "    else:\n",
    "        if time_series_len not in X_test_sequences:\n",
    "            X_test_sequences[time_series_len] = []\n",
    "            y_test_sequences[time_series_len] = []\n",
    "        X_test_sequences[time_series_len].append(X_sgd)\n",
    "        y_test_sequences[time_series_len].append(y_sgd)\n",
    "    assert data[\"Set\"].unique().shape[0] == 1\n",
    "    assert data[\"Center\"].unique().shape[0] == 1"
   ]
  },
  {
   "cell_type": "code",
   "execution_count": 11,
   "id": "f881e369-dddc-4a57-8f28-d8950ef75bdf",
   "metadata": {},
   "outputs": [],
   "source": [
    "import numpy as np\n",
    "\n",
    "def get_batches(X_sequences:dict, y_sequences:dict):\n",
    "    X_batches = []\n",
    "    y_batches = []\n",
    "    for key in tqdm(X_sequences.keys()):\n",
    "        X_batch = torch.from_numpy(np.array(X_sequences[key]).squeeze(axis=1))\n",
    "        y_batch = torch.from_numpy(np.array(y_sequences[key]))\n",
    "    \n",
    "        X_batches.append(X_batch)\n",
    "        y_batches.append(y_batch)\n",
    "    return (X_batches, y_batches)"
   ]
  },
  {
   "cell_type": "code",
   "execution_count": 12,
   "id": "2d452ef9-b791-4b22-8e26-d6c001b18da3",
   "metadata": {},
   "outputs": [
    {
     "data": {
      "application/vnd.jupyter.widget-view+json": {
       "model_id": "ada556c66d2c4c4c8716f345252cb7ba",
       "version_major": 2,
       "version_minor": 0
      },
      "text/plain": [
       "  0%|          | 0/123 [00:00<?, ?it/s]"
      ]
     },
     "metadata": {},
     "output_type": "display_data"
    },
    {
     "data": {
      "application/vnd.jupyter.widget-view+json": {
       "model_id": "b02846fc2f2d491ba788e8dc976b6746",
       "version_major": 2,
       "version_minor": 0
      },
      "text/plain": [
       "  0%|          | 0/93 [00:00<?, ?it/s]"
      ]
     },
     "metadata": {},
     "output_type": "display_data"
    },
    {
     "data": {
      "application/vnd.jupyter.widget-view+json": {
       "model_id": "35ad8756c6784b0786606109b49212b5",
       "version_major": 2,
       "version_minor": 0
      },
      "text/plain": [
       "  0%|          | 0/77 [00:00<?, ?it/s]"
      ]
     },
     "metadata": {},
     "output_type": "display_data"
    }
   ],
   "source": [
    "X_train_batches, y_train_batches = get_batches(X_train_sequences, y_train_sequences)\n",
    "X_test_batches, y_test_batches = get_batches(X_test_sequences, y_test_sequences)\n",
    "X_test_gw_batches, y_test_gw_batches = get_batches(X_test_gw_sequences, y_test_gw_sequences)"
   ]
  },
  {
   "cell_type": "code",
   "execution_count": 13,
   "id": "77e4f7c6-9d70-4dc1-8038-44fc8bf800ba",
   "metadata": {},
   "outputs": [],
   "source": [
    "sets = dict()\n",
    "sets[\"train\"] = X_train_batches\n",
    "# sets[\"val\"] = X_times[new_val]\n",
    "sets[\"test\"] =  X_test_batches\n",
    "sets[\"gw_test\"] =  X_test_gw_batches"
   ]
  },
  {
   "cell_type": "code",
   "execution_count": 14,
   "id": "90c901d0-9369-4830-9e5e-770691ff5d80",
   "metadata": {},
   "outputs": [],
   "source": [
    "labels = dict()\n",
    "labels[\"train\"] = y_train_batches\n",
    "# labels[\"val\"] = y[new_val]\n",
    "labels[\"test\"] =  y_test_batches\n",
    "labels[\"gw_test\"] = y_test_gw_batches"
   ]
  },
  {
   "cell_type": "code",
   "execution_count": 15,
   "id": "8356e7a4-9885-49e5-a676-6ead456986a0",
   "metadata": {},
   "outputs": [],
   "source": [
    "losses = dict()\n",
    "losses[\"train\"] = []\n",
    "losses[\"val\"] = []\n",
    "losses[\"test\"] = []\n",
    "losses[\"gw_test\"] = []"
   ]
  },
  {
   "cell_type": "code",
   "execution_count": 16,
   "id": "af8d66f5-7a58-4d61-af4f-13531fee5798",
   "metadata": {},
   "outputs": [],
   "source": [
    "aurocs = dict()\n",
    "aurocs[\"train\"] = []\n",
    "aurocs[\"val\"] = []\n",
    "aurocs[\"test\"] = []\n",
    "aurocs[\"gw_test\"] = []"
   ]
  },
  {
   "cell_type": "code",
   "execution_count": 17,
   "id": "e7e0a296-4fd7-4d53-a8fb-f52deee1c628",
   "metadata": {},
   "outputs": [
    {
     "data": {
      "text/plain": [
       "tensor(664.1861)"
      ]
     },
     "execution_count": 17,
     "metadata": {},
     "output_type": "execute_result"
    }
   ],
   "source": [
    "counts = torch.unique(y[train], return_counts=True)[-1]\n",
    "WEIGHT = counts[0] / counts[-1]\n",
    "WEIGHT"
   ]
  },
  {
   "cell_type": "code",
   "execution_count": 18,
   "id": "5c0fb215-5186-435c-a0ca-caf4e8663332",
   "metadata": {},
   "outputs": [],
   "source": [
    "from sklearn.metrics import roc_auc_score\n",
    "\n",
    "def evaluate(model, set_name):\n",
    "    global X_times, losses, labels\n",
    "    with torch.inference_mode():\n",
    "        model.eval()\n",
    "        acc_loss = 0\n",
    "        batch_size = 0\n",
    "        acc_labels = []\n",
    "        acc_proba = []\n",
    "        \n",
    "        for idx, x in enumerate(sets[set_name]):\n",
    "            logits = model(x)\n",
    "            loss = torch.nn.functional.binary_cross_entropy_with_logits(logits.squeeze(-1), labels[set_name][idx],pos_weight=WEIGHT)\n",
    "            last_proba_set = torch.sigmoid(logits.squeeze(-1))\n",
    "        \n",
    "            acc_labels.extend(labels[set_name][idx].view(-1).cpu().tolist())\n",
    "            acc_proba.extend(last_proba_set.view(-1).cpu().tolist())\n",
    "            acc_loss += loss.item()\n",
    "            batch_size+= x.shape[0]\n",
    "        losses[set_name].append(acc_loss/batch_size)\n",
    "        auroc = roc_auc_score(np.array(acc_labels), np.array(acc_proba))\n",
    "        aurocs[set_name].append(auroc)\n",
    "        # print(f\"{set_name} has AUROC: {auroc}\")"
   ]
  },
  {
   "cell_type": "code",
   "execution_count": 19,
   "id": "97bbeff8-2e46-4b51-a5bc-8cfb1bf3ce3b",
   "metadata": {},
   "outputs": [],
   "source": [
    "def full_batch_epoch(model):\n",
    "    global X_times, y, sets\n",
    "    model.train()\n",
    "    optim.zero_grad()\n",
    "    acc_loss = 0\n",
    "    \n",
    "    for idx, x in enumerate(sets[\"train\"]):\n",
    "        logits = model(x)\n",
    "        loss = torch.nn.functional.binary_cross_entropy_with_logits(logits.squeeze(-1), labels[\"train\"][idx],pos_weight=WEIGHT)\n",
    "        acc_loss+= loss.item()\n",
    "        loss.backward()\n",
    "    print(acc_loss)\n",
    "    for set_name in sets:\n",
    "        evaluate(model, set_name)\n",
    "    optim.step()\n",
    "    return acc_loss"
   ]
  },
  {
   "cell_type": "code",
   "execution_count": 20,
   "id": "8ca2b5d3-84d2-4478-a7ec-f257c13859aa",
   "metadata": {},
   "outputs": [],
   "source": [
    "from torch import nn\n",
    "from torch.autograd import Variable \n",
    "\n",
    "class LSTM1(nn.Module):\n",
    "    def __init__(self, num_classes, input_size, hidden_size, layers, is_bidirectional = False):\n",
    "        super(LSTM1, self).__init__()\n",
    "        self.num_classes = num_classes #number of classes\n",
    "        self.input_size = input_size #input size\n",
    "        self.hidden_size = hidden_size #hidden_size #hidden state\n",
    "        self.num_layers = layers\n",
    "        self.hidden_scale = 2 if is_bidirectional else 1\n",
    "        \n",
    "        self.lstm = nn.LSTM(input_size=input_size, hidden_size=self.hidden_size,\n",
    "                          num_layers=self.num_layers, batch_first=True, bidirectional=is_bidirectional) #lstm\n",
    "        self.fc_1 =  nn.Linear(self.hidden_size*self.hidden_scale, 1) #fully connected 1\n",
    "\n",
    "        self.relu = nn.ReLU()\n",
    "    \n",
    "    def forward(self,x):\n",
    "        h_0 = Variable(torch.zeros(self.num_layers*self.hidden_scale, x.shape[0], self.hidden_size)).to(device) #hidden state\n",
    "        c_0 = Variable(torch.zeros(self.num_layers*self.hidden_scale, x.shape[0], self.hidden_size)).to(device) #internal state\n",
    "        # Propagate input through LSTM\n",
    "        output, (hn, _) = self.lstm(x, (h_0, c_0)) #lstm with input, hidden, and internal state\n",
    "        out = self.relu(output[:,:, :])\n",
    "        out = self.fc_1(out) #first Dense\n",
    "        return out#output[:,-1,0] #out"
   ]
  },
  {
   "cell_type": "code",
   "execution_count": 21,
   "id": "1073958a-68c4-41a3-b318-f60744e979db",
   "metadata": {},
   "outputs": [],
   "source": [
    "def empty_dict(dictionary):\n",
    "    for key in dictionary.keys():\n",
    "        dictionary[key] = []"
   ]
  },
  {
   "cell_type": "code",
   "execution_count": 22,
   "id": "36aa9bf3-1ac2-4e38-9618-3abf393af994",
   "metadata": {},
   "outputs": [],
   "source": [
    "def transfer_dict(dictionary,device):\n",
    "    for key in dictionary.keys():\n",
    "        for idx in range(len(dictionary[key])):\n",
    "            dictionary[key][idx] =  dictionary[key][idx].to(device)"
   ]
  },
  {
   "cell_type": "code",
   "execution_count": 23,
   "id": "762d16e6-d968-4bb0-b4a2-8e5b06ff5ce1",
   "metadata": {},
   "outputs": [],
   "source": [
    "device = torch.device(\"cuda:2\")"
   ]
  },
  {
   "cell_type": "code",
   "execution_count": 25,
   "id": "39ba6829-1ea8-4f2f-bca0-54ea75b6ac8c",
   "metadata": {
    "scrolled": true
   },
   "outputs": [
    {
     "data": {
      "application/vnd.jupyter.widget-view+json": {
       "model_id": "da273e8f1e374d10b6265a30091df6e7",
       "version_major": 2,
       "version_minor": 0
      },
      "text/plain": [
       "  0%|          | 0/110 [00:00<?, ?it/s]"
      ]
     },
     "metadata": {},
     "output_type": "display_data"
    },
    {
     "name": "stdout",
     "output_type": "stream",
     "text": [
      "0\n",
      "195.18471843004227\n",
      "195.18471843004227\n",
      "1\n",
      "189.36188739538193\n",
      "189.36188739538193\n",
      "2\n",
      "183.6354159116745\n",
      "183.6354159116745\n",
      "3\n",
      "176.26056480407715\n",
      "176.26056480407715\n",
      "4\n",
      "166.55647045373917\n",
      "166.55647045373917\n",
      "5\n",
      "154.2880594432354\n",
      "154.2880594432354\n",
      "6\n",
      "140.13162738084793\n",
      "140.13162738084793\n",
      "7\n",
      "125.14508011937141\n",
      "125.14508011937141\n",
      "8\n",
      "110.1524823307991\n",
      "110.1524823307991\n",
      "9\n",
      "95.46308597922325\n",
      "95.46308597922325\n",
      "10\n",
      "82.03138326108456\n",
      "82.03138326108456\n",
      "11\n",
      "69.76691834628582\n",
      "69.76691834628582\n",
      "12\n",
      "58.855210050940514\n",
      "58.855210050940514\n",
      "13\n",
      "50.885005570948124\n",
      "50.885005570948124\n",
      "14\n",
      "45.403364315629005\n",
      "45.403364315629005\n",
      "15\n",
      "40.086995378136635\n",
      "40.086995378136635\n",
      "16\n",
      "37.644772596657276\n",
      "37.644772596657276\n",
      "17\n",
      "34.50797230750322\n",
      "34.50797230750322\n",
      "18\n",
      "31.779398646205664\n",
      "31.779398646205664\n",
      "19\n",
      "29.021782249212265\n",
      "29.021782249212265\n",
      "20\n",
      "27.31258251518011\n",
      "27.31258251518011\n",
      "21\n",
      "25.652735374867916\n",
      "25.652735374867916\n",
      "22\n",
      "24.757112484425306\n",
      "24.757112484425306\n",
      "23\n",
      "23.163938961923122\n",
      "23.163938961923122\n",
      "24\n",
      "22.464855335652828\n",
      "22.464855335652828\n",
      "25\n",
      "21.612517453730106\n",
      "21.612517453730106\n",
      "26\n",
      "21.210603203624487\n",
      "21.210603203624487\n",
      "27\n",
      "20.613320097327232\n",
      "20.613320097327232\n",
      "28\n",
      "19.95870579779148\n",
      "19.95870579779148\n",
      "29\n",
      "20.127907494083047\n",
      "20.127907494083047\n",
      "30\n",
      "19.458208525553346\n",
      "19.458208525553346\n",
      "31\n",
      "19.208222206681967\n",
      "19.208222206681967\n",
      "32\n",
      "18.449620437808335\n",
      "18.449620437808335\n",
      "33\n",
      "18.58982566744089\n",
      "18.58982566744089\n",
      "34\n",
      "18.179822438396513\n",
      "18.179822438396513\n",
      "35\n",
      "17.980431388132274\n",
      "17.980431388132274\n",
      "36\n",
      "17.550060912966728\n",
      "17.550060912966728\n",
      "37\n",
      "16.89607627224177\n",
      "16.89607627224177\n",
      "38\n",
      "16.96103811170906\n",
      "16.96103811170906\n",
      "39\n",
      "16.5447194930166\n",
      "16.5447194930166\n",
      "40\n",
      "16.354949369095266\n",
      "16.354949369095266\n",
      "41\n",
      "16.14314268156886\n",
      "16.14314268156886\n",
      "42\n",
      "15.877604821696877\n",
      "15.877604821696877\n",
      "43\n",
      "15.650148236192763\n",
      "15.650148236192763\n",
      "44\n",
      "15.448333295062184\n",
      "15.448333295062184\n",
      "45\n",
      "15.27353781927377\n",
      "15.27353781927377\n",
      "46\n",
      "15.065817720256746\n",
      "15.065817720256746\n",
      "47\n",
      "14.986495804972947\n",
      "14.986495804972947\n",
      "48\n",
      "14.496480454690754\n",
      "14.496480454690754\n",
      "49\n",
      "14.787573775742203\n",
      "14.787573775742203\n",
      "50\n",
      "15.583496017381549\n",
      "15.583496017381549\n",
      "51\n",
      "14.877075520344079\n",
      "14.877075520344079\n",
      "52\n",
      "15.90619800426066\n",
      "15.90619800426066\n",
      "53\n",
      "16.399482756853104\n",
      "16.399482756853104\n",
      "54\n",
      "17.63584792613983\n",
      "17.63584792613983\n",
      "55\n",
      "15.679672522004694\n",
      "15.679672522004694\n",
      "56\n",
      "17.486447595991194\n",
      "17.486447595991194\n",
      "57\n",
      "14.673859141301364\n",
      "14.673859141301364\n",
      "58\n",
      "15.403412910643965\n",
      "15.403412910643965\n",
      "59\n",
      "15.057733563240618\n",
      "15.057733563240618\n",
      "60\n",
      "15.941061414778233\n",
      "15.941061414778233\n",
      "61\n",
      "15.46874865796417\n",
      "15.46874865796417\n",
      "62\n",
      "16.367390841711313\n",
      "16.367390841711313\n",
      "63\n",
      "15.882196824532002\n",
      "15.882196824532002\n",
      "64\n",
      "15.08833877556026\n",
      "15.08833877556026\n",
      "65\n",
      "15.866556119173765\n",
      "15.866556119173765\n",
      "66\n",
      "14.669165378436446\n",
      "14.669165378436446\n",
      "67\n",
      "15.569173720199615\n",
      "15.569173720199615\n",
      "68\n",
      "14.886369011364877\n",
      "14.886369011364877\n",
      "69\n",
      "14.444090356118977\n",
      "14.444090356118977\n",
      "70\n",
      "14.393100193236023\n",
      "14.393100193236023\n",
      "71\n",
      "14.196405332535505\n",
      "14.196405332535505\n",
      "72\n",
      "14.199913884978741\n",
      "14.199913884978741\n",
      "73\n",
      "14.007697848137468\n",
      "14.007697848137468\n",
      "74\n",
      "13.61177851818502\n",
      "13.61177851818502\n",
      "75\n",
      "13.995847235899419\n",
      "13.995847235899419\n",
      "76\n",
      "13.521505393087864\n",
      "13.521505393087864\n",
      "77\n",
      "13.527926057111472\n",
      "13.527926057111472\n",
      "78\n",
      "13.231203142087907\n",
      "13.231203142087907\n",
      "79\n",
      "13.197825346607715\n",
      "13.197825346607715\n",
      "80\n",
      "12.963560204952955\n",
      "12.963560204952955\n",
      "81\n",
      "12.792033712845296\n",
      "12.792033712845296\n",
      "82\n",
      "12.772531436756253\n",
      "12.772531436756253\n",
      "83\n",
      "12.627832957543433\n",
      "12.627832957543433\n",
      "84\n",
      "12.504112863680348\n",
      "12.504112863680348\n",
      "85\n",
      "12.372498589102179\n",
      "12.372498589102179\n",
      "86\n",
      "12.30209341691807\n",
      "12.30209341691807\n",
      "87\n",
      "12.092187616042793\n",
      "12.092187616042793\n",
      "88\n",
      "11.950602995697409\n",
      "11.950602995697409\n",
      "89\n",
      "11.917587468866259\n",
      "11.917587468866259\n",
      "90\n",
      "11.674024498090148\n",
      "11.674024498090148\n",
      "91\n",
      "11.507442254805937\n",
      "11.507442254805937\n",
      "92\n",
      "11.353105529444292\n",
      "11.353105529444292\n",
      "93\n",
      "11.211838797898963\n",
      "11.211838797898963\n",
      "94\n",
      "11.153177229687572\n",
      "11.153177229687572\n",
      "95\n",
      "11.018137214705348\n",
      "11.018137214705348\n",
      "96\n",
      "10.93248202628456\n",
      "10.93248202628456\n",
      "97\n",
      "11.338039363268763\n",
      "11.338039363268763\n",
      "98\n",
      "13.657505292911083\n",
      "13.657505292911083\n",
      "99\n",
      "11.931222334504128\n",
      "11.931222334504128\n",
      "100\n",
      "20.249294029315934\n",
      "20.249294029315934\n",
      "101\n",
      "23.361643224954605\n",
      "23.361643224954605\n",
      "102\n",
      "34.600059835240245\n",
      "34.600059835240245\n",
      "103\n",
      "31.587407941929996\n",
      "31.587407941929996\n",
      "104\n",
      "27.146425324026495\n",
      "27.146425324026495\n",
      "105\n",
      "24.247942309826612\n",
      "24.247942309826612\n",
      "106\n",
      "20.05711740977131\n",
      "20.05711740977131\n",
      "107\n",
      "17.06015490507707\n",
      "17.06015490507707\n",
      "108\n",
      "16.26525164535269\n",
      "16.26525164535269\n",
      "109\n",
      "17.24418536806479\n",
      "17.24418536806479\n"
     ]
    }
   ],
   "source": [
    "from tqdm.notebook import tqdm\n",
    "import time\n",
    "\n",
    "is_continue = False\n",
    "if not is_continue:\n",
    "    model = LSTM1(1, X.shape[1],128, 3, True).to(device) ##reduce in biLSTM number of neurons ##continously uncrease time window ##dropout ##vary batch size/use batchnorm\n",
    "    ## weight decay\n",
    "    transfer_dict(sets, device)\n",
    "    transfer_dict(labels, device)\n",
    "    empty_dict(losses)\n",
    "    empty_dict(aurocs)\n",
    "    lr = 0.001\n",
    "    optim = torch.optim.Adam(params=model.parameters(), lr = lr)\n",
    "\n",
    "# patience = 30\n",
    "epochs = 110\n",
    "\n",
    "for epoch in tqdm(range(epochs)):\n",
    "    print(epoch)\n",
    "    start = time.time()\n",
    "    loss = full_batch_epoch(model)\n",
    "    # if len(losses[\"val\"]) > patience and all(list(map(lambda l: l<=losses[\"val\"][-1], losses[\"val\"][-patience-1:]))):\n",
    "    #     break\n",
    "    print(loss)"
   ]
  },
  {
   "cell_type": "code",
   "execution_count": 26,
   "id": "3c521f82-9ac4-447e-a035-70ec6325336a",
   "metadata": {},
   "outputs": [
    {
     "data": {
      "image/png": "[encoded data removed]",
      "text/plain": [
       "<Figure size 640x480 with 1 Axes>"
      ]
     },
     "metadata": {},
     "output_type": "display_data"
    }
   ],
   "source": [
    "import matplotlib.pyplot as plt\n",
    "\n",
    "for set_name in losses:\n",
    "    plt.plot(losses[set_name])\n",
    "plt.legend(losses.keys())\n",
    "plt.title(\"Loss curves\")\n",
    "plt.show()"
   ]
  },
  {
   "cell_type": "code",
   "execution_count": 27,
   "id": "6e646ee1-563c-4843-868a-b502c7cf3db5",
   "metadata": {},
   "outputs": [
    {
     "data": {
      "image/png": "[encoded data removed]",
      "text/plain": [
       "<Figure size 640x480 with 1 Axes>"
      ]
     },
     "metadata": {},
     "output_type": "display_data"
    }
   ],
   "source": [
    "import matplotlib.pyplot as plt\n",
    "\n",
    "for set_name in aurocs:\n",
    "    plt.plot(aurocs[set_name])\n",
    "plt.legend(aurocs.keys())\n",
    "plt.title(\"AUROCs\")\n",
    "plt.show()"
   ]
  },
  {
   "cell_type": "code",
   "execution_count": 28,
   "id": "1acecc50-6ab9-4ad5-9ca9-ff4018dc7148",
   "metadata": {},
   "outputs": [
    {
     "data": {
      "text/plain": [
       "(0.9143881724217924, 0.9177405787575125)"
      ]
     },
     "execution_count": 28,
     "metadata": {},
     "output_type": "execute_result"
    }
   ],
   "source": [
    "max(aurocs[\"test\"]), aurocs[\"gw_test\"][-1]"
   ]
  },
  {
   "cell_type": "markdown",
   "id": "b385aed9-10a7-4b9a-8081-4a04c5a1a097",
   "metadata": {},
   "source": [
    "## Evaluate the time series equence lengths"
   ]
  },
  {
   "cell_type": "code",
   "execution_count": 307,
   "id": "40d31bd4-a061-4264-8b16-65a0f00b56d8",
   "metadata": {},
   "outputs": [
    {
     "data": {
      "text/plain": [
       "count    866517.000000\n",
       "mean          2.099711\n",
       "std           3.201005\n",
       "min           1.000000\n",
       "25%           1.000000\n",
       "50%           1.000000\n",
       "75%           2.000000\n",
       "max         416.000000\n",
       "dtype: float64"
      ]
     },
     "execution_count": 307,
     "metadata": {},
     "output_type": "execute_result"
    }
   ],
   "source": [
    "id_grouped_data.size().describe()"
   ]
  },
  {
   "cell_type": "code",
   "execution_count": 312,
   "id": "23775954-4936-4446-b04a-e1642d74e21b",
   "metadata": {},
   "outputs": [],
   "source": [
    "num_sampples_list =  []\n",
    "for i in range(id_grouped_data.size().max()+1):\n",
    "    num_samples = (id_grouped_data.size() == i).sum()\n",
    "    num_sampples_list.append(num_samples)"
   ]
  },
  {
   "cell_type": "code",
   "execution_count": 322,
   "id": "c6f06d3b-a93c-4a6b-9d20-b41b0e8e7e74",
   "metadata": {},
   "outputs": [
    {
     "data": {
      "text/plain": [
       "Text(0.5, 0, 'Length of time series')"
      ]
     },
     "execution_count": 322,
     "metadata": {},
     "output_type": "execute_result"
    },
    {
     "data": {
      "image/png": "[encoded data removed]",
      "text/plain": [
       "<Figure size 640x480 with 1 Axes>"
      ]
     },
     "metadata": {},
     "output_type": "display_data"
    }
   ],
   "source": [
    "import matplotlib.pyplot as plt\n",
    "plt.semilogy(num_sampples_list[1:100])\n",
    "plt.grid(which=\"both\")\n",
    "plt.ylabel(\"Number of samples\")\n",
    "plt.xlabel(\"Length of time series\")"
   ]
  },
  {
   "cell_type": "code",
   "execution_count": null,
   "id": "b1508731-0ebf-48af-8ed5-db36747282cf",
   "metadata": {},
   "outputs": [],
   "source": []
  }
 ],
 "metadata": {
  "kernelspec": {
   "display_name": "Python 3 (ipykernel)",
   "language": "python",
   "name": "python3"
  },
  "language_info": {
   "codemirror_mode": {
    "name": "ipython",
    "version": 3
   },
   "file_extension": ".py",
   "mimetype": "text/x-python",
   "name": "python",
   "nbconvert_exporter": "python",
   "pygments_lexer": "ipython3",
   "version": "3.10.12"
  }
 },
 "nbformat": 4,
 "nbformat_minor": 5
}
