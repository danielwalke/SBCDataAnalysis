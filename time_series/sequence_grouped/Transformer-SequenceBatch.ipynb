{
 "cells": [
  {
   "cell_type": "code",
   "execution_count": 1,
   "id": "25976b88-622c-4b25-a238-99d496a3055c",
   "metadata": {},
   "outputs": [],
   "source": [
    "import pandas as pd"
   ]
  },
  {
   "cell_type": "code",
   "execution_count": 2,
   "id": "6484d113-136f-493f-b460-67dc042d7794",
   "metadata": {},
   "outputs": [
    {
     "name": "stderr",
     "output_type": "stream",
     "text": [
      "/home/dwalke/git/graph_aware_ml/time_series/../dataAnalysis/data/Filter.py:34: SettingWithCopyWarning: \n",
      "A value is trying to be set on a copy of a slice from a DataFrame.\n",
      "Try using .loc[row_indexer,col_indexer] = value instead\n",
      "\n",
      "See the caveats in the documentation: https://pandas.pydata.org/pandas-docs/stable/user_guide/indexing.html#returning-a-view-versus-a-copy\n",
      "  self.data['Label'] = self.data['Diagnosis']\n",
      "/home/dwalke/git/graph_aware_ml/time_series/../dataAnalysis/data/Filter.py:34: SettingWithCopyWarning: \n",
      "A value is trying to be set on a copy of a slice from a DataFrame.\n",
      "Try using .loc[row_indexer,col_indexer] = value instead\n",
      "\n",
      "See the caveats in the documentation: https://pandas.pydata.org/pandas-docs/stable/user_guide/indexing.html#returning-a-view-versus-a-copy\n",
      "  self.data['Label'] = self.data['Diagnosis']\n",
      "/home/dwalke/git/graph_aware_ml/time_series/../dataAnalysis/data/Filter.py:34: SettingWithCopyWarning: \n",
      "A value is trying to be set on a copy of a slice from a DataFrame.\n",
      "Try using .loc[row_indexer,col_indexer] = value instead\n",
      "\n",
      "See the caveats in the documentation: https://pandas.pydata.org/pandas-docs/stable/user_guide/indexing.html#returning-a-view-versus-a-copy\n",
      "  self.data['Label'] = self.data['Diagnosis']\n"
     ]
    }
   ],
   "source": [
    "import sys\n",
    "sys.path.insert(0, \"../\")\n",
    "from dataAnalysis.DataAnalysis import DataAnalysis\n",
    "import pandas as pd\n",
    "import torch\n",
    " \n",
    "data = pd.read_csv(r\"../sbcdata.csv\", header=0)\n",
    "data_analysis = DataAnalysis(data)"
   ]
  },
  {
   "cell_type": "code",
   "execution_count": 3,
   "id": "25ddb7fc-61fa-40a6-85b6-f366dab17b77",
   "metadata": {},
   "outputs": [],
   "source": [
    "data = pd.concat((data_analysis.get_training_data(), data_analysis.get_testing_data()))\n",
    "max_Id = data[\"Id\"].unique().max()\n",
    "gw_data = data_analysis.get_gw_testing_data().copy(deep=True)\n",
    "gw_data = gw_data.assign(Id=lambda x: x.Id + max_Id)\n",
    "data = pd.concat((data, gw_data))\n",
    "data = data.sort_values([\"Id\", \"Time\"])\n",
    "data = data.reset_index(drop=True)\n",
    "popped_index = data.pop(\"index\")"
   ]
  },
  {
   "cell_type": "code",
   "execution_count": 4,
   "id": "3077e551-dfd4-4bf6-9cc0-cf0c9f9d37c2",
   "metadata": {},
   "outputs": [],
   "source": [
    "train = (data[\"Center\"] == \"Leipzig\") & (data[\"Set\"] == \"Training\")\n",
    "test = (data[\"Center\"] == \"Leipzig\") & (data[\"Set\"] == \"Validation\")\n",
    "val = (data[\"Center\"] == \"Greifswald\") & (data[\"Set\"] == \"Validation\")"
   ]
  },
  {
   "cell_type": "code",
   "execution_count": 5,
   "id": "40c63c82-85ac-4161-841a-326d6c35e446",
   "metadata": {},
   "outputs": [],
   "source": [
    "train = torch.from_numpy(train.values)\n",
    "test = torch.from_numpy(test.values)\n",
    "val = torch.from_numpy(val.values)"
   ]
  },
  {
   "cell_type": "code",
   "execution_count": 6,
   "id": "52163468-28a6-471f-b5b5-154baad2b704",
   "metadata": {},
   "outputs": [],
   "source": [
    "import torch\n",
    "\n",
    "\n",
    "X = data[FEATURES].values\n",
    "y = data[LABEL_COLUMN_NAME].values"
   ]
  },
  {
   "cell_type": "code",
   "execution_count": 7,
   "id": "e7d19731-faa2-4f72-8833-a528fd8ce213",
   "metadata": {},
   "outputs": [],
   "source": [
    "from sklearn.preprocessing import QuantileTransformer\n",
    "\n",
    "scaler = QuantileTransformer(output_distribution=\"normal\")\n",
    "scaler.fit(X[train])\n",
    "X = scaler.transform(X)"
   ]
  },
  {
   "cell_type": "code",
   "execution_count": 8,
   "id": "bb63e0b3-9389-4ea2-9548-083b6d2ff6bc",
   "metadata": {},
   "outputs": [],
   "source": [
    "X = torch.from_numpy(X)\n",
    "y = torch.from_numpy(y)"
   ]
  },
  {
   "cell_type": "code",
   "execution_count": 9,
   "id": "699e5842-46ad-45f6-8c55-02a3064dc013",
   "metadata": {},
   "outputs": [],
   "source": [
    "id_grouped_data = data.groupby(\"Id\")"
   ]
  },
  {
   "cell_type": "code",
   "execution_count": 10,
   "id": "3c0197c9-4ee9-4f02-9ad9-492c27f945d7",
   "metadata": {},
   "outputs": [
    {
     "data": {
      "application/vnd.jupyter.widget-view+json": {
       "model_id": "67c845a933714d16a4b1d45db89563b9",
       "version_major": 2,
       "version_minor": 0
      },
      "text/plain": [
       "  0%|          | 0/866517 [00:00<?, ?it/s]"
      ]
     },
     "metadata": {},
     "output_type": "display_data"
    }
   ],
   "source": [
    "from tqdm.notebook import tqdm\n",
    "\n",
    "X_train_sequences = dict({})\n",
    "y_train_sequences = dict({})\n",
    "\n",
    "X_test_sequences = dict({})\n",
    "y_test_sequences = dict({})\n",
    "\n",
    "X_test_gw_sequences = dict({})\n",
    "y_test_gw_sequences = dict({})\n",
    "\n",
    "for id, data in tqdm(id_grouped_data):\n",
    "    time_series_len = data.shape[0]\n",
    "    is_training = (data[\"Set\"] == \"Training\").all()\n",
    "    is_gw_test = (data[\"Center\"] == \"Greifswald\").all()\n",
    "    X_sgd = torch.from_numpy(data[FEATURES].values).type(torch.float).unsqueeze(0)\n",
    "    y_sgd = torch.from_numpy(data[LABEL_COLUMN_NAME].values).type(torch.float)\n",
    "    if is_training:\n",
    "        if time_series_len not in X_train_sequences:\n",
    "            X_train_sequences[time_series_len] = []\n",
    "            y_train_sequences[time_series_len] = []\n",
    "        X_train_sequences[time_series_len].append(X_sgd)\n",
    "        y_train_sequences[time_series_len].append(y_sgd)\n",
    "    elif is_gw_test:\n",
    "        if time_series_len not in X_test_gw_sequences:\n",
    "            X_test_gw_sequences[time_series_len] = []\n",
    "            y_test_gw_sequences[time_series_len] = []\n",
    "        X_test_gw_sequences[time_series_len].append(X_sgd)\n",
    "        y_test_gw_sequences[time_series_len].append(y_sgd)\n",
    "    else:\n",
    "        if time_series_len not in X_test_sequences:\n",
    "            X_test_sequences[time_series_len] = []\n",
    "            y_test_sequences[time_series_len] = []\n",
    "        X_test_sequences[time_series_len].append(X_sgd)\n",
    "        y_test_sequences[time_series_len].append(y_sgd)\n",
    "    assert data[\"Set\"].unique().shape[0] == 1\n",
    "    assert data[\"Center\"].unique().shape[0] == 1"
   ]
  },
  {
   "cell_type": "code",
   "execution_count": 11,
   "id": "f881e369-dddc-4a57-8f28-d8950ef75bdf",
   "metadata": {},
   "outputs": [],
   "source": [
    "import numpy as np\n",
    "\n",
    "def get_batches(X_sequences:dict, y_sequences:dict):\n",
    "    X_batches = []\n",
    "    y_batches = []\n",
    "    for key in tqdm(X_sequences.keys()):\n",
    "        X_batch = torch.from_numpy(np.array(X_sequences[key]).squeeze(axis=1))\n",
    "        y_batch = torch.from_numpy(np.array(y_sequences[key]))\n",
    "    \n",
    "        X_batches.append(X_batch)\n",
    "        y_batches.append(y_batch)\n",
    "    return (X_batches, y_batches)"
   ]
  },
  {
   "cell_type": "code",
   "execution_count": 12,
   "id": "2d452ef9-b791-4b22-8e26-d6c001b18da3",
   "metadata": {},
   "outputs": [
    {
     "data": {
      "application/vnd.jupyter.widget-view+json": {
       "model_id": "5a68bad040324e3a8173e8a7db3bb2b2",
       "version_major": 2,
       "version_minor": 0
      },
      "text/plain": [
       "  0%|          | 0/123 [00:00<?, ?it/s]"
      ]
     },
     "metadata": {},
     "output_type": "display_data"
    },
    {
     "data": {
      "application/vnd.jupyter.widget-view+json": {
       "model_id": "49afc6dbe245444e9a98f79632808f12",
       "version_major": 2,
       "version_minor": 0
      },
      "text/plain": [
       "  0%|          | 0/93 [00:00<?, ?it/s]"
      ]
     },
     "metadata": {},
     "output_type": "display_data"
    },
    {
     "data": {
      "application/vnd.jupyter.widget-view+json": {
       "model_id": "98158c44baa34582b634de9cea9ad5c9",
       "version_major": 2,
       "version_minor": 0
      },
      "text/plain": [
       "  0%|          | 0/77 [00:00<?, ?it/s]"
      ]
     },
     "metadata": {},
     "output_type": "display_data"
    }
   ],
   "source": [
    "X_train_batches, y_train_batches = get_batches(X_train_sequences, y_train_sequences)\n",
    "X_test_batches, y_test_batches = get_batches(X_test_sequences, y_test_sequences)\n",
    "X_test_gw_batches, y_test_gw_batches = get_batches(X_test_gw_sequences, y_test_gw_sequences)"
   ]
  },
  {
   "cell_type": "code",
   "execution_count": 13,
   "id": "77e4f7c6-9d70-4dc1-8038-44fc8bf800ba",
   "metadata": {},
   "outputs": [],
   "source": [
    "sets = dict()\n",
    "sets[\"train\"] = X_train_batches\n",
    "# sets[\"val\"] = X_times[new_val]\n",
    "sets[\"test\"] =  X_test_batches\n",
    "sets[\"gw_test\"] =  X_test_gw_batches"
   ]
  },
  {
   "cell_type": "code",
   "execution_count": 14,
   "id": "90c901d0-9369-4830-9e5e-770691ff5d80",
   "metadata": {},
   "outputs": [],
   "source": [
    "labels = dict()\n",
    "labels[\"train\"] = y_train_batches\n",
    "# labels[\"val\"] = y[new_val]\n",
    "labels[\"test\"] =  y_test_batches\n",
    "labels[\"gw_test\"] = y_test_gw_batches"
   ]
  },
  {
   "cell_type": "code",
   "execution_count": 15,
   "id": "8356e7a4-9885-49e5-a676-6ead456986a0",
   "metadata": {},
   "outputs": [],
   "source": [
    "losses = dict()\n",
    "losses[\"train\"] = []\n",
    "losses[\"val\"] = []\n",
    "losses[\"test\"] = []\n",
    "losses[\"gw_test\"] = []"
   ]
  },
  {
   "cell_type": "code",
   "execution_count": 16,
   "id": "af8d66f5-7a58-4d61-af4f-13531fee5798",
   "metadata": {},
   "outputs": [],
   "source": [
    "aurocs = dict()\n",
    "aurocs[\"train\"] = []\n",
    "aurocs[\"val\"] = []\n",
    "aurocs[\"test\"] = []\n",
    "aurocs[\"gw_test\"] = []"
   ]
  },
  {
   "cell_type": "code",
   "execution_count": 17,
   "id": "e7e0a296-4fd7-4d53-a8fb-f52deee1c628",
   "metadata": {},
   "outputs": [
    {
     "data": {
      "text/plain": [
       "tensor(664.1861)"
      ]
     },
     "execution_count": 17,
     "metadata": {},
     "output_type": "execute_result"
    }
   ],
   "source": [
    "counts = torch.unique(y[train], return_counts=True)[-1]\n",
    "WEIGHT = counts[0] / counts[-1]\n",
    "WEIGHT"
   ]
  },
  {
   "cell_type": "code",
   "execution_count": 57,
   "id": "5c0fb215-5186-435c-a0ca-caf4e8663332",
   "metadata": {},
   "outputs": [],
   "source": [
    "from sklearn.metrics import roc_auc_score\n",
    "\n",
    "def evaluate(model, set_name):\n",
    "    global X_times, losses, labels\n",
    "    with torch.inference_mode():\n",
    "        model.eval()\n",
    "        acc_loss = 0\n",
    "        batch_size = 0\n",
    "        acc_labels = []\n",
    "        acc_proba = []\n",
    "        \n",
    "        for idx, x in enumerate(sets[set_name]):\n",
    "            logits = model(x)\n",
    "            loss = torch.nn.functional.binary_cross_entropy_with_logits(logits.squeeze(-1), labels[set_name][idx],pos_weight=WEIGHT)\n",
    "            last_proba_set = torch.sigmoid(logits.squeeze(-1))\n",
    "        \n",
    "            acc_labels.extend(labels[set_name][idx].view(-1).cpu().tolist())\n",
    "            acc_proba.extend(last_proba_set.view(-1).cpu().tolist())\n",
    "            acc_loss += loss.item()\n",
    "            batch_size+= x.shape[0]\n",
    "        losses[set_name].append(acc_loss/batch_size)\n",
    "        print(f\"Set {set_name}:\\t{acc_loss}\")\n",
    "        auroc = roc_auc_score(np.array(acc_labels), np.array(acc_proba))\n",
    "        aurocs[set_name].append(auroc)\n",
    "        # print(f\"{set_name} has AUROC: {auroc}\")"
   ]
  },
  {
   "cell_type": "code",
   "execution_count": 89,
   "id": "1073958a-68c4-41a3-b318-f60744e979db",
   "metadata": {},
   "outputs": [],
   "source": [
    "def empty_dict(dictionary):\n",
    "    for key in dictionary.keys():\n",
    "        dictionary[key] = []"
   ]
  },
  {
   "cell_type": "code",
   "execution_count": 90,
   "id": "36aa9bf3-1ac2-4e38-9618-3abf393af994",
   "metadata": {},
   "outputs": [],
   "source": [
    "def transfer_dict(dictionary,device):\n",
    "    for key in dictionary.keys():\n",
    "        for idx in range(len(dictionary[key])):\n",
    "            dictionary[key][idx] =  dictionary[key][idx].to(device)"
   ]
  },
  {
   "cell_type": "code",
   "execution_count": 91,
   "id": "762d16e6-d968-4bb0-b4a2-8e5b06ff5ce1",
   "metadata": {},
   "outputs": [],
   "source": [
    "device = torch.device(\"cpu\") #torch.device(\"cuda:0\")"
   ]
  },
  {
   "cell_type": "code",
   "execution_count": 111,
   "id": "97bbeff8-2e46-4b51-a5bc-8cfb1bf3ce3b",
   "metadata": {},
   "outputs": [],
   "source": [
    "def full_batch_epoch(model):\n",
    "    global X_times, y, sets\n",
    "    model.train()\n",
    "    optim.zero_grad()\n",
    "    acc_loss = 0\n",
    "    \n",
    "    for idx, x in enumerate(sets[\"train\"]):\n",
    "        logits = model(x)\n",
    "        loss = torch.nn.functional.binary_cross_entropy_with_logits(logits.squeeze(-1), labels[\"train\"][idx],pos_weight=WEIGHT)\n",
    "        acc_loss+= loss.item()\n",
    "        loss.backward()\n",
    "        if idx >= 2:\n",
    "            break\n",
    "    for set_name in sets:\n",
    "        evaluate(model, set_name)\n",
    "    optim.step()\n",
    "    return acc_loss"
   ]
  },
  {
   "cell_type": "code",
   "execution_count": 112,
   "id": "8ca2b5d3-84d2-4478-a7ec-f257c13859aa",
   "metadata": {},
   "outputs": [],
   "source": [
    "from torch import nn\n",
    "from torch.autograd import Variable \n",
    "\n",
    "class TimeTransformer(nn.Module):\n",
    "    def __init__(self, num_classes, input_size, hidden_size,dropout, layers, heads, dim_feedforward, project):\n",
    "        super(TimeTransformer, self).__init__()\n",
    "        self.num_classes = num_classes #number of classes\n",
    "        self.input_size = input_size #input size\n",
    "        self.hidden_size = hidden_size if project else input_size #hidden_size #hidden state\n",
    "        self.num_layers = layers\n",
    "        self.dropout = dropout\n",
    "        self.project = project\n",
    "\n",
    "        self.linear = nn.Linear(self.input_size, self.hidden_size)\n",
    "        self.encoder_layer = nn.TransformerEncoderLayer(d_model=self.hidden_size, nhead=heads, dim_feedforward = dim_feedforward, dropout = self.dropout, batch_first=True)\n",
    "        self.transformer = nn.TransformerEncoder(self.encoder_layer, num_layers=self.num_layers, enable_nested_tensor =True)\n",
    "        self.fc_1 =  nn.Linear(self.hidden_size, 1) #fully connected 1\n",
    "\n",
    "        self.relu = nn.ReLU()\n",
    "    \n",
    "    def forward(self,x):\n",
    "        # Propagate input through LSTM\n",
    "        if self.project:\n",
    "            x = self.linear(x)\n",
    "            x = self.relu(x)\n",
    "        output = self.transformer(x)\n",
    "        out = self.relu(output)\n",
    "        out = self.fc_1(out) #first Dense\n",
    "        return out#output[:,-1,0] #out"
   ]
  },
  {
   "cell_type": "code",
   "execution_count": 115,
   "id": "39ba6829-1ea8-4f2f-bca0-54ea75b6ac8c",
   "metadata": {
    "scrolled": true
   },
   "outputs": [
    {
     "data": {
      "application/vnd.jupyter.widget-view+json": {
       "model_id": "21142f3a634e4b608c45d09d4540aa48",
       "version_major": 2,
       "version_minor": 0
      },
      "text/plain": [
       "  0%|          | 0/60 [00:00<?, ?it/s]"
      ]
     },
     "metadata": {},
     "output_type": "display_data"
    },
    {
     "name": "stdout",
     "output_type": "stream",
     "text": [
      "0\n",
      "Set train:\t196.40478360652924\n",
      "Set test:\t111.43869692087173\n",
      "Set gw_test:\t102.17621088027954\n",
      "1\n",
      "Set train:\t196.13088089227676\n",
      "Set test:\t111.24901932477951\n",
      "Set gw_test:\t101.78358846902847\n",
      "2\n",
      "Set train:\t195.79589641094208\n",
      "Set test:\t111.01128900051117\n",
      "Set gw_test:\t101.43606352806091\n",
      "3\n",
      "Set train:\t195.42981094121933\n",
      "Set test:\t110.7543488740921\n",
      "Set gw_test:\t101.08934813737869\n",
      "4\n",
      "Set train:\t195.0674371123314\n",
      "Set test:\t110.49973958730698\n",
      "Set gw_test:\t100.75365394353867\n",
      "5\n",
      "Set train:\t194.71005648374557\n",
      "Set test:\t110.25733709335327\n",
      "Set gw_test:\t100.43144583702087\n",
      "6\n",
      "Set train:\t194.35161638259888\n",
      "Set test:\t110.02463179826736\n",
      "Set gw_test:\t100.11184585094452\n",
      "7\n",
      "Set train:\t193.96179521083832\n",
      "Set test:\t109.79298949241638\n",
      "Set gw_test:\t99.7994527220726\n",
      "8\n",
      "Set train:\t193.5856157541275\n",
      "Set test:\t109.56174147129059\n",
      "Set gw_test:\t99.53292661905289\n",
      "9\n",
      "Set train:\t193.20482939481735\n",
      "Set test:\t109.34878933429718\n",
      "Set gw_test:\t99.233154296875\n",
      "10\n",
      "Set train:\t192.8023166656494\n",
      "Set test:\t109.15082621574402\n",
      "Set gw_test:\t98.92594748735428\n",
      "11\n",
      "Set train:\t192.39141166210175\n",
      "Set test:\t108.95311039686203\n",
      "Set gw_test:\t98.61234140396118\n",
      "12\n",
      "Set train:\t191.99561405181885\n",
      "Set test:\t108.69684064388275\n",
      "Set gw_test:\t98.30198442935944\n",
      "13\n",
      "Set train:\t191.62200421094894\n",
      "Set test:\t108.4075158238411\n",
      "Set gw_test:\t97.99440985918045\n",
      "14\n",
      "Set train:\t191.27540332078934\n",
      "Set test:\t108.12944567203522\n",
      "Set gw_test:\t97.69855350255966\n",
      "15\n",
      "Set train:\t190.97756099700928\n",
      "Set test:\t107.86735707521439\n",
      "Set gw_test:\t97.4180194735527\n",
      "16\n",
      "Set train:\t190.68554270267487\n",
      "Set test:\t107.61348479986191\n",
      "Set gw_test:\t97.15528935194016\n",
      "17\n",
      "Set train:\t190.39501041173935\n",
      "Set test:\t107.36928629875183\n",
      "Set gw_test:\t96.9191381931305\n",
      "18\n",
      "Set train:\t190.12349140644073\n",
      "Set test:\t107.1495069861412\n",
      "Set gw_test:\t96.67915797233582\n",
      "19\n",
      "Set train:\t189.9312395453453\n",
      "Set test:\t106.95114248991013\n",
      "Set gw_test:\t96.52241283655167\n",
      "20\n",
      "Set train:\t189.72290742397308\n",
      "Set test:\t106.79732024669647\n",
      "Set gw_test:\t96.31025940179825\n",
      "21\n",
      "Set train:\t189.47741907835007\n",
      "Set test:\t106.66632986068726\n",
      "Set gw_test:\t96.09275245666504\n",
      "22\n",
      "Set train:\t189.23951721191406\n",
      "Set test:\t106.57598334550858\n",
      "Set gw_test:\t95.89716732501984\n",
      "23\n",
      "Set train:\t189.03175431489944\n",
      "Set test:\t106.52735543251038\n",
      "Set gw_test:\t95.72347873449326\n",
      "24\n",
      "Set train:\t188.84520268440247\n",
      "Set test:\t106.51148372888565\n",
      "Set gw_test:\t95.54369229078293\n",
      "25\n",
      "Set train:\t188.69148868322372\n",
      "Set test:\t106.52894353866577\n",
      "Set gw_test:\t95.3704047203064\n",
      "26\n",
      "Set train:\t188.57296270132065\n",
      "Set test:\t106.5847595334053\n",
      "Set gw_test:\t95.19513088464737\n",
      "27\n",
      "Set train:\t188.4608218073845\n",
      "Set test:\t106.68485182523727\n",
      "Set gw_test:\t95.01583951711655\n",
      "28\n",
      "Set train:\t188.3615819811821\n",
      "Set test:\t106.79758602380753\n",
      "Set gw_test:\t94.84810519218445\n",
      "29\n",
      "Set train:\t188.26956009864807\n",
      "Set test:\t106.93879210948944\n",
      "Set gw_test:\t94.69407153129578\n",
      "30\n",
      "Set train:\t188.1991845369339\n",
      "Set test:\t107.12207633256912\n",
      "Set gw_test:\t94.55698901414871\n",
      "31\n",
      "Set train:\t188.12218296527863\n",
      "Set test:\t107.33765590190887\n",
      "Set gw_test:\t94.41555404663086\n",
      "32\n",
      "Set train:\t188.04718792438507\n",
      "Set test:\t107.5948217511177\n",
      "Set gw_test:\t94.28115516901016\n",
      "33\n",
      "Set train:\t187.9811870455742\n",
      "Set test:\t107.89660149812698\n",
      "Set gw_test:\t94.16883885860443\n",
      "34\n",
      "Set train:\t187.92677354812622\n",
      "Set test:\t108.24547797441483\n",
      "Set gw_test:\t94.07604396343231\n",
      "35\n",
      "Set train:\t187.86411678791046\n",
      "Set test:\t108.63985753059387\n",
      "Set gw_test:\t93.99796611070633\n",
      "36\n",
      "Set train:\t187.8205000758171\n",
      "Set test:\t109.07673215866089\n",
      "Set gw_test:\t93.94432455301285\n",
      "37\n",
      "Set train:\t187.8073210120201\n",
      "Set test:\t109.5601795911789\n",
      "Set gw_test:\t93.91151040792465\n",
      "38\n",
      "Set train:\t187.82244724035263\n",
      "Set test:\t110.09049570560455\n",
      "Set gw_test:\t93.89364677667618\n",
      "39\n",
      "Set train:\t187.85933178663254\n",
      "Set test:\t110.66902685165405\n",
      "Set gw_test:\t93.90148711204529\n",
      "40\n",
      "Set train:\t187.92299515008926\n",
      "Set test:\t111.29077959060669\n",
      "Set gw_test:\t93.93075561523438\n",
      "41\n",
      "Set train:\t188.01915341615677\n",
      "Set test:\t111.952381670475\n",
      "Set gw_test:\t93.98224985599518\n",
      "42\n",
      "Set train:\t188.1559358239174\n",
      "Set test:\t112.64966309070587\n",
      "Set gw_test:\t94.05923587083817\n",
      "43\n",
      "Set train:\t188.3168688416481\n",
      "Set test:\t113.37908852100372\n",
      "Set gw_test:\t94.16091305017471\n",
      "44\n",
      "Set train:\t188.52099549770355\n",
      "Set test:\t114.13730907440186\n",
      "Set gw_test:\t94.28092241287231\n",
      "45\n",
      "Set train:\t188.7698873281479\n",
      "Set test:\t114.91969794034958\n",
      "Set gw_test:\t94.41904175281525\n",
      "46\n",
      "Set train:\t189.03125244379044\n",
      "Set test:\t115.72003477811813\n",
      "Set gw_test:\t94.56892997026443\n",
      "47\n",
      "Set train:\t189.31106615066528\n",
      "Set test:\t116.53060019016266\n",
      "Set gw_test:\t94.73589390516281\n",
      "48\n",
      "Set train:\t189.62420636415482\n",
      "Set test:\t117.35856753587723\n",
      "Set gw_test:\t94.91990113258362\n",
      "49\n",
      "Set train:\t189.92650312185287\n",
      "Set test:\t118.19874888658524\n",
      "Set gw_test:\t95.1254780292511\n",
      "50\n",
      "Set train:\t190.26409566402435\n",
      "Set test:\t119.02853459119797\n",
      "Set gw_test:\t95.32868701219559\n",
      "51\n",
      "Set train:\t190.63655084371567\n",
      "Set test:\t119.85491460561752\n",
      "Set gw_test:\t95.53540188074112\n",
      "52\n",
      "Set train:\t191.0323178768158\n",
      "Set test:\t120.68012529611588\n",
      "Set gw_test:\t95.75209093093872\n",
      "53\n",
      "Set train:\t191.45668107271194\n",
      "Set test:\t121.5044516324997\n",
      "Set gw_test:\t95.97727727890015\n",
      "54\n",
      "Set train:\t191.90388989448547\n",
      "Set test:\t122.31937617063522\n",
      "Set gw_test:\t96.19852513074875\n",
      "55\n",
      "Set train:\t192.37677264213562\n",
      "Set test:\t123.12073862552643\n",
      "Set gw_test:\t96.41459709405899\n",
      "56\n",
      "Set train:\t192.8385347723961\n",
      "Set test:\t123.88507199287415\n",
      "Set gw_test:\t96.63068228960037\n",
      "57\n",
      "Set train:\t193.26792550086975\n",
      "Set test:\t124.62312906980515\n",
      "Set gw_test:\t96.84650003910065\n",
      "58\n",
      "Set train:\t193.6936793923378\n",
      "Set test:\t125.32362228631973\n",
      "Set gw_test:\t97.05125778913498\n",
      "59\n",
      "Set train:\t194.0995454788208\n",
      "Set test:\t125.9679371714592\n",
      "Set gw_test:\t97.24900984764099\n"
     ]
    }
   ],
   "source": [
    "from tqdm.notebook import tqdm\n",
    "import time\n",
    "\n",
    "is_continue = False #True\n",
    "if not is_continue:\n",
    "    model = TimeTransformer(num_classes=1, input_size=X.shape[1],\\\n",
    "                            hidden_size=8, dropout=0.0,\\\n",
    "                            layers=1, heads=2, dim_feedforward=16, project=True).to(device) \n",
    "    transfer_dict(sets, device)\n",
    "    transfer_dict(labels, device)\n",
    "    empty_dict(losses)\n",
    "    empty_dict(aurocs)\n",
    "    lr = .001# 1e-4\n",
    "    weight_decay = 0 #1e-4\n",
    "    optim = torch.optim.Adam(params=model.parameters(), lr = lr, weight_decay=weight_decay)\n",
    "\n",
    "patience = 30\n",
    "epochs = 60\n",
    "##TODO step by step and shape evaluation in epoch\n",
    "for epoch in tqdm(range(epochs)):\n",
    "    print(epoch)\n",
    "    start = time.time()\n",
    "    loss = full_batch_epoch(model)\n",
    "    # if epoch == 20:\n",
    "    #     for g in optim.param_groups:\n",
    "    #         g['lr'] = 0.0001\n",
    "    if len(losses[\"val\"]) > patience and all(list(map(lambda l: l<=losses[\"val\"][-1], losses[\"val\"][-patience-1:]))):\n",
    "        break"
   ]
  },
  {
   "cell_type": "code",
   "execution_count": 116,
   "id": "3c521f82-9ac4-447e-a035-70ec6325336a",
   "metadata": {},
   "outputs": [
    {
     "data": {
      "image/png": "[encoded data removed]",
      "text/plain": [
       "<Figure size 640x480 with 1 Axes>"
      ]
     },
     "metadata": {},
     "output_type": "display_data"
    }
   ],
   "source": [
    "import matplotlib.pyplot as plt\n",
    "\n",
    "for set_name in losses:\n",
    "    plt.plot(losses[set_name])\n",
    "plt.legend(losses.keys())\n",
    "plt.title(\"Loss curves\")\n",
    "plt.show()"
   ]
  },
  {
   "cell_type": "code",
   "execution_count": 117,
   "id": "6e646ee1-563c-4843-868a-b502c7cf3db5",
   "metadata": {},
   "outputs": [
    {
     "data": {
      "image/png": "[encoded data removed]",
      "text/plain": [
       "<Figure size 640x480 with 1 Axes>"
      ]
     },
     "metadata": {},
     "output_type": "display_data"
    }
   ],
   "source": [
    "import matplotlib.pyplot as plt\n",
    "\n",
    "for set_name in aurocs:\n",
    "    plt.plot(aurocs[set_name])\n",
    "plt.legend(aurocs.keys())\n",
    "plt.title(\"AUROCs\")\n",
    "plt.show()"
   ]
  },
  {
   "cell_type": "code",
   "execution_count": 85,
   "id": "1acecc50-6ab9-4ad5-9ca9-ff4018dc7148",
   "metadata": {},
   "outputs": [
    {
     "data": {
      "text/plain": [
       "0.47734260043541843"
      ]
     },
     "execution_count": 85,
     "metadata": {},
     "output_type": "execute_result"
    }
   ],
   "source": [
    "max(aurocs[\"test\"])"
   ]
  },
  {
   "cell_type": "markdown",
   "id": "b385aed9-10a7-4b9a-8081-4a04c5a1a097",
   "metadata": {},
   "source": [
    "## Evaluate the time series equence lengths"
   ]
  },
  {
   "cell_type": "code",
   "execution_count": 307,
   "id": "40d31bd4-a061-4264-8b16-65a0f00b56d8",
   "metadata": {},
   "outputs": [
    {
     "data": {
      "text/plain": [
       "count    866517.000000\n",
       "mean          2.099711\n",
       "std           3.201005\n",
       "min           1.000000\n",
       "25%           1.000000\n",
       "50%           1.000000\n",
       "75%           2.000000\n",
       "max         416.000000\n",
       "dtype: float64"
      ]
     },
     "execution_count": 307,
     "metadata": {},
     "output_type": "execute_result"
    }
   ],
   "source": [
    "id_grouped_data.size().describe()"
   ]
  },
  {
   "cell_type": "code",
   "execution_count": 312,
   "id": "23775954-4936-4446-b04a-e1642d74e21b",
   "metadata": {},
   "outputs": [],
   "source": [
    "num_sampples_list =  []\n",
    "for i in range(id_grouped_data.size().max()+1):\n",
    "    num_samples = (id_grouped_data.size() == i).sum()\n",
    "    num_sampples_list.append(num_samples)"
   ]
  },
  {
   "cell_type": "code",
   "execution_count": 322,
   "id": "c6f06d3b-a93c-4a6b-9d20-b41b0e8e7e74",
   "metadata": {},
   "outputs": [
    {
     "data": {
      "text/plain": [
       "Text(0.5, 0, 'Length of time series')"
      ]
     },
     "execution_count": 322,
     "metadata": {},
     "output_type": "execute_result"
    },
    {
     "data": {
      "image/png": "[encoded data removed]",
      "text/plain": [
       "<Figure size 640x480 with 1 Axes>"
      ]
     },
     "metadata": {},
     "output_type": "display_data"
    }
   ],
   "source": [
    "import matplotlib.pyplot as plt\n",
    "plt.semilogy(num_sampples_list[1:100])\n",
    "plt.grid(which=\"both\")\n",
    "plt.ylabel(\"Number of samples\")\n",
    "plt.xlabel(\"Length of time series\")"
   ]
  },
  {
   "cell_type": "code",
   "execution_count": null,
   "id": "b1508731-0ebf-48af-8ed5-db36747282cf",
   "metadata": {},
   "outputs": [],
   "source": []
  }
 ],
 "metadata": {
  "kernelspec": {
   "display_name": "Python 3 (ipykernel)",
   "language": "python",
   "name": "python3"
  },
  "language_info": {
   "codemirror_mode": {
    "name": "ipython",
    "version": 3
   },
   "file_extension": ".py",
   "mimetype": "text/x-python",
   "name": "python",
   "nbconvert_exporter": "python",
   "pygments_lexer": "ipython3",
   "version": "3.10.12"
  }
 },
 "nbformat": 4,
 "nbformat_minor": 5
}
