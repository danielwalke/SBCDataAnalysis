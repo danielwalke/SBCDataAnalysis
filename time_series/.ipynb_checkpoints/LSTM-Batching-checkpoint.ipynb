{
 "cells": [
  {
   "cell_type": "code",
   "execution_count": 243,
   "id": "25976b88-622c-4b25-a238-99d496a3055c",
   "metadata": {},
   "outputs": [],
   "source": [
    "import pandas as pd"
   ]
  },
  {
   "cell_type": "code",
   "execution_count": 244,
   "id": "6484d113-136f-493f-b460-67dc042d7794",
   "metadata": {},
   "outputs": [
    {
     "name": "stderr",
     "output_type": "stream",
     "text": [
      "/home/dwalke/git/graph_aware_ml/time_series/../dataAnalysis/data/Filter.py:34: SettingWithCopyWarning: \n",
      "A value is trying to be set on a copy of a slice from a DataFrame.\n",
      "Try using .loc[row_indexer,col_indexer] = value instead\n",
      "\n",
      "See the caveats in the documentation: https://pandas.pydata.org/pandas-docs/stable/user_guide/indexing.html#returning-a-view-versus-a-copy\n",
      "  self.data['Label'] = self.data['Diagnosis']\n",
      "/home/dwalke/git/graph_aware_ml/time_series/../dataAnalysis/data/Filter.py:34: SettingWithCopyWarning: \n",
      "A value is trying to be set on a copy of a slice from a DataFrame.\n",
      "Try using .loc[row_indexer,col_indexer] = value instead\n",
      "\n",
      "See the caveats in the documentation: https://pandas.pydata.org/pandas-docs/stable/user_guide/indexing.html#returning-a-view-versus-a-copy\n",
      "  self.data['Label'] = self.data['Diagnosis']\n",
      "/home/dwalke/git/graph_aware_ml/time_series/../dataAnalysis/data/Filter.py:34: SettingWithCopyWarning: \n",
      "A value is trying to be set on a copy of a slice from a DataFrame.\n",
      "Try using .loc[row_indexer,col_indexer] = value instead\n",
      "\n",
      "See the caveats in the documentation: https://pandas.pydata.org/pandas-docs/stable/user_guide/indexing.html#returning-a-view-versus-a-copy\n",
      "  self.data['Label'] = self.data['Diagnosis']\n"
     ]
    }
   ],
   "source": [
    "import sys\n",
    "sys.path.insert(0, \"../\")\n",
    "from dataAnalysis.DataAnalysis import DataAnalysis\n",
    "import pandas as pd\n",
    "import torch\n",
    " \n",
    "data = pd.read_csv(r\"../sbcdata.csv\", header=0)\n",
    "data_analysis = DataAnalysis(data)"
   ]
  },
  {
   "cell_type": "code",
   "execution_count": 245,
   "id": "25ddb7fc-61fa-40a6-85b6-f366dab17b77",
   "metadata": {},
   "outputs": [],
   "source": [
    "data = pd.concat((data_analysis.get_training_data(), data_analysis.get_testing_data()))\n",
    "max_Id = data[\"Id\"].unique().max()\n",
    "gw_data = data_analysis.get_gw_testing_data().copy(deep=True)\n",
    "gw_data = gw_data.assign(Id=lambda x: x.Id + max_Id)\n",
    "data = pd.concat((data, gw_data))\n",
    "data = data.sort_values([\"Id\", \"Time\"])\n",
    "data = data.reset_index(drop=True)\n",
    "popped_index = data.pop(\"index\")"
   ]
  },
  {
   "cell_type": "code",
   "execution_count": 246,
   "id": "a5328320-6c2d-4f77-b7ad-e9737eaf5218",
   "metadata": {},
   "outputs": [
    {
     "data": {
      "text/plain": [
       "array(['Control', 'Sepsis'], dtype=object)"
      ]
     },
     "execution_count": 246,
     "metadata": {},
     "output_type": "execute_result"
    }
   ],
   "source": [
    "data[\"Label\"].unique()"
   ]
  },
  {
   "cell_type": "code",
   "execution_count": 247,
   "id": "3077e551-dfd4-4bf6-9cc0-cf0c9f9d37c2",
   "metadata": {},
   "outputs": [],
   "source": [
    "train = (data[\"Center\"] == \"Leipzig\") & (data[\"Set\"] == \"Training\")\n",
    "test = (data[\"Center\"] == \"Leipzig\") & (data[\"Set\"] == \"Validation\")\n",
    "val = (data[\"Center\"] == \"Greifswald\") & (data[\"Set\"] == \"Validation\")"
   ]
  },
  {
   "cell_type": "code",
   "execution_count": 249,
   "id": "40c63c82-85ac-4161-841a-326d6c35e446",
   "metadata": {},
   "outputs": [],
   "source": [
    "train = torch.from_numpy(train.values)\n",
    "test = torch.from_numpy(test.values)\n",
    "val = torch.from_numpy(val.values)"
   ]
  },
  {
   "cell_type": "code",
   "execution_count": 250,
   "id": "52163468-28a6-471f-b5b5-154baad2b704",
   "metadata": {},
   "outputs": [],
   "source": [
    "import torch\n",
    "from dataAnalysis.Constants import SEX_CATEGORY_COLUMN_NAME, SEX_COLUMN_NAME, FEATURES, LABEL_COLUMN_NAME\n",
    "\n",
    "data[SEX_CATEGORY_COLUMN_NAME] = data.loc[:, SEX_COLUMN_NAME] ==\"W\"\n",
    "\n",
    "data[SEX_CATEGORY_COLUMN_NAME] = data[SEX_CATEGORY_COLUMN_NAME].astype(\"int8\")\n",
    "data[\"Label\"] = data[\"Label\"] == \"Sepsis\"\n",
    "data[\"Label\"] = data[\"Label\"].astype(\"int8\")\n",
    "\n",
    "X = data[FEATURES].values\n",
    "y = data[LABEL_COLUMN_NAME].values"
   ]
  },
  {
   "cell_type": "code",
   "execution_count": 251,
   "id": "e7d19731-faa2-4f72-8833-a528fd8ce213",
   "metadata": {},
   "outputs": [],
   "source": [
    "from sklearn.preprocessing import QuantileTransformer\n",
    "\n",
    "scaler = QuantileTransformer(output_distribution=\"normal\")\n",
    "scaler.fit(X[train])\n",
    "X = scaler.transform(X)"
   ]
  },
  {
   "cell_type": "code",
   "execution_count": 252,
   "id": "bb63e0b3-9389-4ea2-9548-083b6d2ff6bc",
   "metadata": {},
   "outputs": [],
   "source": [
    "X = torch.from_numpy(X)\n",
    "y = torch.from_numpy(y)"
   ]
  },
  {
   "cell_type": "code",
   "execution_count": 254,
   "id": "699e5842-46ad-45f6-8c55-02a3064dc013",
   "metadata": {},
   "outputs": [],
   "source": [
    "id_grouped_data = data.groupby(\"Id\")"
   ]
  },
  {
   "cell_type": "code",
   "execution_count": 255,
   "id": "3c0197c9-4ee9-4f02-9ad9-492c27f945d7",
   "metadata": {},
   "outputs": [
    {
     "data": {
      "application/vnd.jupyter.widget-view+json": {
       "model_id": "21d3c8ea1fe44297825998d56106dee6",
       "version_major": 2,
       "version_minor": 0
      },
      "text/plain": [
       "  0%|          | 0/866517 [00:00<?, ?it/s]"
      ]
     },
     "metadata": {},
     "output_type": "display_data"
    }
   ],
   "source": [
    "import numpy as np\n",
    "from tqdm.notebook import tqdm\n",
    "\n",
    "edge_index_list = []\n",
    "time_steps = 3\n",
    "\n",
    "i = 0\n",
    "for Id, group in tqdm(id_grouped_data):\n",
    "    indices = group.index\n",
    "    offset = indices[0]\n",
    "    num_nodes = len(indices)\n",
    "    indices = torch.from_numpy(indices.values)\n",
    "\n",
    "    edge_indices = []\n",
    "    for i in range(indices.shape[0]):\n",
    "        sample_indices = indices[:i+1]\n",
    "        padded_sample_indices = torch.nn.functional.pad(sample_indices, (time_steps - len(sample_indices), 0), mode='constant', value=sample_indices[0])\n",
    "        edge_indices.append(padded_sample_indices.unsqueeze(0))\n",
    "    edge_index_list.extend(edge_indices)"
   ]
  },
  {
   "cell_type": "code",
   "execution_count": 256,
   "id": "c77aa6ca-ad14-40dd-b8b3-e22191b97b9b",
   "metadata": {},
   "outputs": [],
   "source": [
    "edge_index = torch.concat(edge_index_list, 0)"
   ]
  },
  {
   "cell_type": "code",
   "execution_count": 257,
   "id": "010088f1-e31e-42b7-863e-d5642f70ad6e",
   "metadata": {},
   "outputs": [],
   "source": [
    "new_X_list = []\n",
    "for i in range(edge_index.shape[0]):\n",
    "    new_X_list.append(torch.index_select(X, 0, edge_index[i, :]).unsqueeze(0))"
   ]
  },
  {
   "cell_type": "code",
   "execution_count": 258,
   "id": "9dd6418f-62e7-4133-b7bb-8157323a6b80",
   "metadata": {},
   "outputs": [],
   "source": [
    "X_times = torch.concat(new_X_list, dim = 0)"
   ]
  },
  {
   "cell_type": "code",
   "execution_count": 259,
   "id": "3f9ca111-8248-4389-aab2-a333f4d21b0f",
   "metadata": {},
   "outputs": [],
   "source": [
    "class SBCData:\n",
    "    def __init__(self, x_time, y):\n",
    "        self.x_time = x_time\n",
    "        self.y = y\n",
    "    \n",
    "    def __getitem__(self, i):\n",
    "        return self.x_time[i], self.y[i]\n",
    "    \n",
    "    def __len__(self):\n",
    "        return len(self.x_time)\n",
    "dataset = SBCData(X_times, y)"
   ]
  },
  {
   "cell_type": "code",
   "execution_count": 349,
   "id": "f131316b-87a2-4977-aeae-3acd5d66473d",
   "metadata": {},
   "outputs": [],
   "source": [
    "device = torch.device(\"cuda:2\") if torch.cuda.is_available() else torch.device(\"cpu\")\n",
    "\n",
    "y = y.to(device)\n",
    "X_times = X_times.to(device)"
   ]
  },
  {
   "cell_type": "code",
   "execution_count": 438,
   "id": "8ca2b5d3-84d2-4478-a7ec-f257c13859aa",
   "metadata": {},
   "outputs": [],
   "source": [
    "from torch import nn\n",
    "from torch.autograd import Variable \n",
    "\n",
    "class LSTM1(nn.Module):\n",
    "    def __init__(self, num_classes, input_size, hidden_size, num_layers, seq_length):\n",
    "        super(LSTM1, self).__init__()\n",
    "        self.num_classes = num_classes #number of classes\n",
    "        self.num_layers = num_layers #number of layers\n",
    "        self.input_size = input_size #input size\n",
    "        self.hidden_size = 1 #hidden_size #hidden state\n",
    "        self.seq_length = seq_length #sequence length\n",
    "\n",
    "        self.lstm = nn.LSTM(input_size=input_size, hidden_size=self.hidden_size,\n",
    "                          num_layers=num_layers, batch_first=True) #lstm\n",
    "        self.fc_1 =  nn.Linear(hidden_size, 1) #fully connected 1\n",
    "\n",
    "        self.relu = nn.ReLU()\n",
    "    \n",
    "    def forward(self,x):\n",
    "        h_0 = Variable(torch.zeros(self.num_layers, x.shape[0], self.hidden_size)).to(device) #hidden state\n",
    "        c_0 = Variable(torch.zeros(self.num_layers, x.shape[0], self.hidden_size)).to(device) #internal state\n",
    "        # Propagate input through LSTM\n",
    "        output, (hn, cn) = self.lstm(x, (h_0, c_0)) #lstm with input, hidden, and internal state\n",
    "        # out = hn.view(-1, self.hidden_size) #reshaping the data for Dense layer next\n",
    "        # out = self.relu(out)\n",
    "        # out = self.fc_1(out) #first Dense\n",
    "        return output #out"
   ]
  },
  {
   "cell_type": "code",
   "execution_count": 262,
   "id": "07776b6c-d084-452d-90cc-a063264ce347",
   "metadata": {},
   "outputs": [],
   "source": [
    "X_times = X_times.type(torch.float32)\n",
    "y = y.type(torch.float32)"
   ]
  },
  {
   "cell_type": "code",
   "execution_count": 264,
   "id": "455dc42b-e286-4b43-888d-de4a7ce8d4fb",
   "metadata": {},
   "outputs": [],
   "source": [
    "## TODO test if there is difference bewteen masking and complete set separation\n",
    "## TODO Find and set appropriate time-window\n",
    "## TODO Hyperparam tuning & CNN, Transformer decoder\n",
    "## TODO normalize\n",
    "## TODO Batching for cuda computations\n",
    "## TODO early stopping"
   ]
  },
  {
   "cell_type": "code",
   "execution_count": 276,
   "id": "77e4f7c6-9d70-4dc1-8038-44fc8bf800ba",
   "metadata": {},
   "outputs": [],
   "source": [
    "sets = dict()\n",
    "sets[\"train\"] = train\n",
    "sets[\"val\"] = val\n",
    "sets[\"test\"] = test"
   ]
  },
  {
   "cell_type": "code",
   "execution_count": 277,
   "id": "8356e7a4-9885-49e5-a676-6ead456986a0",
   "metadata": {},
   "outputs": [],
   "source": [
    "losses = dict()\n",
    "losses[\"train\"] = []\n",
    "losses[\"val\"] = []\n",
    "losses[\"test\"] = []"
   ]
  },
  {
   "cell_type": "code",
   "execution_count": 278,
   "id": "af8d66f5-7a58-4d61-af4f-13531fee5798",
   "metadata": {},
   "outputs": [],
   "source": [
    "aurocs = dict()\n",
    "aurocs[\"train\"] = []\n",
    "aurocs[\"val\"] = []\n",
    "aurocs[\"test\"] = []"
   ]
  },
  {
   "cell_type": "code",
   "execution_count": 279,
   "id": "e7e0a296-4fd7-4d53-a8fb-f52deee1c628",
   "metadata": {},
   "outputs": [
    {
     "data": {
      "text/plain": [
       "tensor(664.1861)"
      ]
     },
     "execution_count": 279,
     "metadata": {},
     "output_type": "execute_result"
    }
   ],
   "source": [
    "counts = torch.unique(y[train], return_counts=True)[-1]\n",
    "WEIGHT = counts[0] / counts[-1]\n",
    "WEIGHT"
   ]
  },
  {
   "cell_type": "code",
   "execution_count": 280,
   "id": "5c0fb215-5186-435c-a0ca-caf4e8663332",
   "metadata": {},
   "outputs": [],
   "source": [
    "from sklearn.metrics import roc_auc_score\n",
    "\n",
    "def evaluate(model, set_name):\n",
    "    global X_times, y, sets, losses\n",
    "    with torch.inference_mode():\n",
    "        model.eval()\n",
    "        logits = model(X_times)\n",
    "        set = sets[set_name]\n",
    "        last_logits_set = torch.squeeze(logits[set])\n",
    "        loss = torch.nn.functional.binary_cross_entropy_with_logits(last_logits_set, y[set],pos_weight=WEIGHT)\n",
    "        last_proba_set = torch.sigmoid(last_logits_set)\n",
    "        auroc = roc_auc_score(y[set].clone().cpu(), last_proba_set.cpu())\n",
    "        losses[set_name].append(loss.item())\n",
    "        aurocs[set_name].append(auroc)\n",
    "        # print(f\"{set_name} has AUROC: {auroc}\")"
   ]
  },
  {
   "cell_type": "code",
   "execution_count": 313,
   "id": "97bbeff8-2e46-4b51-a5bc-8cfb1bf3ce3b",
   "metadata": {},
   "outputs": [],
   "source": [
    "def full_batch_epoch(model):\n",
    "    global X_times, y, train, sets\n",
    "    model.train()\n",
    "    logits = model(X_times)\n",
    "    loss = torch.nn.functional.binary_cross_entropy_with_logits(torch.squeeze(logits[train]), y[train],pos_weight=WEIGHT)\n",
    "    for set_name in sets:\n",
    "        evaluate(model, set_name)\n",
    "    optim.zero_grad()\n",
    "    loss.backward()\n",
    "    optim.step()\n",
    "    return loss.item()"
   ]
  },
  {
   "cell_type": "code",
   "execution_count": 440,
   "id": "c056aa4a-2bd3-4e8f-9525-4581c6784b69",
   "metadata": {},
   "outputs": [
    {
     "data": {
      "application/vnd.jupyter.widget-view+json": {
       "model_id": "7094edd6460f462dbe5a600db8c3d0ef",
       "version_major": 2,
       "version_minor": 0
      },
      "text/plain": [
       "  0%|          | 0/866517 [00:00<?, ?it/s]"
      ]
     },
     "metadata": {},
     "output_type": "display_data"
    }
   ],
   "source": [
    "X_train_sequences = []\n",
    "y_train_sequences = []\n",
    "\n",
    "X_test_sequences = []\n",
    "y_test_sequences = []\n",
    "\n",
    "X_test_gw_sequences = []\n",
    "y_test_gw_sequences = []\n",
    "for id, data in tqdm(id_grouped_data):\n",
    "    is_training = (data[\"Set\"] == \"Training\").all()\n",
    "    is_gw_test = (data[\"Center\"] == \"Greifswald\").all()\n",
    "    X_sgd = torch.from_numpy(data[FEATURES].values).type(torch.float).unsqueeze(0)\n",
    "    y_sgd = torch.from_numpy(data[LABEL_COLUMN_NAME].values).type(torch.float)\n",
    "    if is_training:\n",
    "        X_train_sequences.append(X_sgd)\n",
    "        y_train_sequences.append(y_sgd)\n",
    "    elif is_gw_test:\n",
    "        X_test_gw_sequences.append(X_sgd)\n",
    "        y_test_gw_sequences.append(y_sgd)\n",
    "    else:\n",
    "        X_test_sequences.append(X_sgd)\n",
    "        y_test_sequences.append(y_sgd)\n",
    "    assert data[\"Set\"].unique().shape[0] == 1\n",
    "    assert data[\"Center\"].unique().shape[0] == 1"
   ]
  },
  {
   "cell_type": "code",
   "execution_count": 441,
   "id": "52b0966f-b11f-4cfe-859c-86bdeb40163f",
   "metadata": {},
   "outputs": [
    {
     "data": {
      "application/vnd.jupyter.widget-view+json": {
       "model_id": "cebcab594f9646b29a32391c404ad20f",
       "version_major": 2,
       "version_minor": 0
      },
      "text/plain": [
       "  0%|          | 0/528101 [00:00<?, ?it/s]"
      ]
     },
     "metadata": {},
     "output_type": "display_data"
    }
   ],
   "source": [
    "for idx in tqdm(range(len(X_train_sequences))):\n",
    "    model.train()\n",
    "    X_train_sequences[idx] = X_train_sequences[idx].to(device)\n",
    "    y_train_sequences[idx] = y_train_sequences[idx].to(device)"
   ]
  },
  {
   "cell_type": "code",
   "execution_count": 442,
   "id": "08e3d743-ae74-4242-8268-c73b78ff9b69",
   "metadata": {},
   "outputs": [],
   "source": [
    "import time\n",
    "def sgd_epoch(model):\n",
    "    global id_grouped_data, WEIGHT, sets\n",
    "    acc_loss = 0\n",
    "    for idx in tqdm(range(len(X_train_sequences))):\n",
    "        model.train()\n",
    "        logits = model(X_train_sequences[idx])\n",
    "        loss = torch.nn.functional.binary_cross_entropy_with_logits(logits.view_as(y_train_sequences[idx]), y_train_sequences[idx],pos_weight=WEIGHT)\n",
    "        optim.zero_grad()\n",
    "        loss.backward()\n",
    "        optim.step()\n",
    "        acc_loss+= loss.item()    \n",
    "    return acc_loss"
   ]
  },
  {
   "cell_type": "code",
   "execution_count": null,
   "id": "39ba6829-1ea8-4f2f-bca0-54ea75b6ac8c",
   "metadata": {
    "scrolled": true
   },
   "outputs": [
    {
     "data": {
      "application/vnd.jupyter.widget-view+json": {
       "model_id": "ee66aeafad6c46e7a7b12acd5b897e43",
       "version_major": 2,
       "version_minor": 0
      },
      "text/plain": [
       "  0%|          | 0/10 [00:00<?, ?it/s]"
      ]
     },
     "metadata": {},
     "output_type": "display_data"
    },
    {
     "name": "stdout",
     "output_type": "stream",
     "text": [
      "0\n"
     ]
    },
    {
     "data": {
      "application/vnd.jupyter.widget-view+json": {
       "model_id": "042df5cad5154ec4bfabf7838e2978f0",
       "version_major": 2,
       "version_minor": 0
      },
      "text/plain": [
       "  0%|          | 0/528101 [00:00<?, ?it/s]"
      ]
     },
     "metadata": {},
     "output_type": "display_data"
    },
    {
     "name": "stdout",
     "output_type": "stream",
     "text": [
      "1082373.7000356615\n",
      "1311.990208864212\n",
      "1\n"
     ]
    },
    {
     "data": {
      "application/vnd.jupyter.widget-view+json": {
       "model_id": "1e8439890cb543a6acc8dc9eb8a61a6b",
       "version_major": 2,
       "version_minor": 0
      },
      "text/plain": [
       "  0%|          | 0/528101 [00:00<?, ?it/s]"
      ]
     },
     "metadata": {},
     "output_type": "display_data"
    },
    {
     "name": "stdout",
     "output_type": "stream",
     "text": [
      "1083121.5171922743\n",
      "1292.3409626483917\n",
      "2\n"
     ]
    },
    {
     "data": {
      "application/vnd.jupyter.widget-view+json": {
       "model_id": "bbf4cfaa7a0d42cb848fce73b9719fe2",
       "version_major": 2,
       "version_minor": 0
      },
      "text/plain": [
       "  0%|          | 0/528101 [00:00<?, ?it/s]"
      ]
     },
     "metadata": {},
     "output_type": "display_data"
    }
   ],
   "source": [
    "from tqdm.notebook import tqdm\n",
    "\n",
    "model = LSTM1(1, X.shape[1], 64, 1, X_times.shape[1]).to(device)\n",
    "is_sgd = True\n",
    "lr = 0.03\n",
    "optim = torch.optim.SGD(params=model.parameters(), lr = lr) if is_sgd else torch.optim.Adam(params=model.parameters(), lr = lr)\n",
    "epochs = 10#300\n",
    "\n",
    "## no traon test split now\n",
    "for epoch in tqdm(range(epochs)):\n",
    "    print(epoch)\n",
    "    start = time.time()\n",
    "    loss = sgd_epoch(model) if is_sgd else full_batch_epoch(model)\n",
    "    print(loss)\n",
    "    print(time.time() -start )"
   ]
  },
  {
   "cell_type": "code",
   "execution_count": 284,
   "id": "3c521f82-9ac4-447e-a035-70ec6325336a",
   "metadata": {},
   "outputs": [
    {
     "data": {
      "image/png": "[encoded data removed]",
      "text/plain": [
       "<Figure size 640x480 with 1 Axes>"
      ]
     },
     "metadata": {},
     "output_type": "display_data"
    }
   ],
   "source": [
    "import matplotlib.pyplot as plt\n",
    "\n",
    "for set_name in losses:\n",
    "    plt.plot(losses[set_name])\n",
    "plt.legend(losses.keys())\n",
    "plt.title(\"Loss curves\")\n",
    "plt.show()"
   ]
  },
  {
   "cell_type": "code",
   "execution_count": 286,
   "id": "6e646ee1-563c-4843-868a-b502c7cf3db5",
   "metadata": {},
   "outputs": [
    {
     "data": {
      "image/png": "[encoded data removed]",
      "text/plain": [
       "<Figure size 640x480 with 1 Axes>"
      ]
     },
     "metadata": {},
     "output_type": "display_data"
    }
   ],
   "source": [
    "import matplotlib.pyplot as plt\n",
    "\n",
    "for set_name in aurocs:\n",
    "    plt.plot(aurocs[set_name])\n",
    "plt.legend(aurocs.keys())\n",
    "plt.title(\"AUROCs\")\n",
    "plt.show()"
   ]
  },
  {
   "cell_type": "code",
   "execution_count": 287,
   "id": "1acecc50-6ab9-4ad5-9ca9-ff4018dc7148",
   "metadata": {},
   "outputs": [
    {
     "data": {
      "text/plain": [
       "0.8827087215253193"
      ]
     },
     "execution_count": 287,
     "metadata": {},
     "output_type": "execute_result"
    }
   ],
   "source": [
    "max(aurocs[\"test\"])"
   ]
  },
  {
   "cell_type": "markdown",
   "id": "b385aed9-10a7-4b9a-8081-4a04c5a1a097",
   "metadata": {},
   "source": [
    "## Evaluate the time series equence lengths"
   ]
  },
  {
   "cell_type": "code",
   "execution_count": 307,
   "id": "40d31bd4-a061-4264-8b16-65a0f00b56d8",
   "metadata": {},
   "outputs": [
    {
     "data": {
      "text/plain": [
       "count    866517.000000\n",
       "mean          2.099711\n",
       "std           3.201005\n",
       "min           1.000000\n",
       "25%           1.000000\n",
       "50%           1.000000\n",
       "75%           2.000000\n",
       "max         416.000000\n",
       "dtype: float64"
      ]
     },
     "execution_count": 307,
     "metadata": {},
     "output_type": "execute_result"
    }
   ],
   "source": [
    "id_grouped_data.size().describe()"
   ]
  },
  {
   "cell_type": "code",
   "execution_count": 312,
   "id": "23775954-4936-4446-b04a-e1642d74e21b",
   "metadata": {},
   "outputs": [],
   "source": [
    "num_sampples_list =  []\n",
    "for i in range(id_grouped_data.size().max()+1):\n",
    "    num_samples = (id_grouped_data.size() == i).sum()\n",
    "    num_sampples_list.append(num_samples)"
   ]
  },
  {
   "cell_type": "code",
   "execution_count": 322,
   "id": "c6f06d3b-a93c-4a6b-9d20-b41b0e8e7e74",
   "metadata": {},
   "outputs": [
    {
     "data": {
      "text/plain": [
       "Text(0.5, 0, 'Length of time series')"
      ]
     },
     "execution_count": 322,
     "metadata": {},
     "output_type": "execute_result"
    },
    {
     "data": {
      "image/png": "[encoded data removed]",
      "text/plain": [
       "<Figure size 640x480 with 1 Axes>"
      ]
     },
     "metadata": {},
     "output_type": "display_data"
    }
   ],
   "source": [
    "import matplotlib.pyplot as plt\n",
    "plt.semilogy(num_sampples_list[1:100])\n",
    "plt.grid(which=\"both\")\n",
    "plt.ylabel(\"Number of samples\")\n",
    "plt.xlabel(\"Length of time series\")"
   ]
  },
  {
   "cell_type": "code",
   "execution_count": null,
   "id": "b1508731-0ebf-48af-8ed5-db36747282cf",
   "metadata": {},
   "outputs": [],
   "source": []
  }
 ],
 "metadata": {
  "kernelspec": {
   "display_name": "Python 3 (ipykernel)",
   "language": "python",
   "name": "python3"
  },
  "language_info": {
   "codemirror_mode": {
    "name": "ipython",
    "version": 3
   },
   "file_extension": ".py",
   "mimetype": "text/x-python",
   "name": "python",
   "nbconvert_exporter": "python",
   "pygments_lexer": "ipython3",
   "version": "3.10.12"
  }
 },
 "nbformat": 4,
 "nbformat_minor": 5
}
