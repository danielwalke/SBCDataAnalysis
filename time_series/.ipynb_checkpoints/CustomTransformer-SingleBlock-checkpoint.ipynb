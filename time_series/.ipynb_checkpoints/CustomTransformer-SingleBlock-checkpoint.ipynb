{
 "cells": [
  {
   "cell_type": "markdown",
   "id": "490236b4-5f2d-47a6-abfa-40f411863e71",
   "metadata": {},
   "source": [
    "#### We re-start our transformer analysis here\n",
    "#### First, some assumptions or goals for this script:\n",
    " - training usinng SGD -> later batching\n",
    " - pad time series to maximum length with value -1 - first backward padding -> NOTE: forward padding will most probably cancel out the feature-induces bias\n",
    " - mask values which are -1\n",
    " - custom transformer\n",
    " - first information exchange over all measurements in a sequence (easier and should give the best scores)\n",
    " - Set manual seed for reproducibility and improvements over diverse hyperparams\n",
    " - first only one block, one head, without dropout (check validation loss and training loss diff after pre-def. intervals), without layernorm without ffd?\n",
    " - Now 1 block with ffd, 2 heads, batching, layer norm and pos encoding\n",
    "\n",
    "TODO: attention head size independent from input dimension and then use multipe heads for higher representability"
   ]
  },
  {
   "cell_type": "markdown",
   "id": "18229354-cd3e-43bd-a34c-8bdd0e220f75",
   "metadata": {},
   "source": [
    "## Dataset loader and preparation"
   ]
  },
  {
   "cell_type": "code",
   "execution_count": 1,
   "id": "f20ee0d6-e85e-4935-a58c-fbb3f76452f7",
   "metadata": {},
   "outputs": [],
   "source": [
    "import sys\n",
    "sys.path.insert(0, \"../\")\n",
    "from dataAnalysis.DataAnalysis import DataAnalysis\n",
    "import pandas as pd\n",
    "import torch\n",
    " \n",
    "data = pd.read_csv(r\"../sbcdata.csv\", header=0)\n",
    "data_analysis = DataAnalysis(data)"
   ]
  },
  {
   "cell_type": "code",
   "execution_count": 2,
   "id": "c8784566-1c9f-4f64-814a-6afaa149ac72",
   "metadata": {},
   "outputs": [],
   "source": [
    "data = pd.concat((data_analysis.get_training_data(), data_analysis.get_testing_data()))\n",
    "max_Id = data[\"Id\"].unique().max()\n",
    "gw_data = data_analysis.get_gw_testing_data().copy(deep=True)\n",
    "gw_data = gw_data.assign(Id=lambda x: x.Id + max_Id)\n",
    "data = pd.concat((data, gw_data))\n",
    "data = data.sort_values([\"Id\", \"Time\"])\n",
    "data = data.reset_index(drop=True)\n",
    "popped_index = data.pop(\"index\")"
   ]
  },
  {
   "cell_type": "code",
   "execution_count": 3,
   "id": "517e270b-b2e4-4287-a297-37155c5cbd85",
   "metadata": {},
   "outputs": [],
   "source": [
    "from dataAnalysis.Constants import SEX_CATEGORY_COLUMN_NAME, SEX_COLUMN_NAME, FEATURES, LABEL_COLUMN_NAME\n",
    "\n",
    "data[SEX_CATEGORY_COLUMN_NAME] = data.loc[:, SEX_COLUMN_NAME] ==\"W\"\n",
    "\n",
    "data[SEX_CATEGORY_COLUMN_NAME] = data[SEX_CATEGORY_COLUMN_NAME].astype(\"int8\")\n",
    "data[\"Label\"] = data[\"Label\"] == \"Sepsis\"\n",
    "data[\"Label\"] = data[\"Label\"].astype(\"int8\")"
   ]
  },
  {
   "cell_type": "markdown",
   "id": "0e2d6c76-3460-47ff-bbe1-e6dcc876b3f6",
   "metadata": {},
   "source": [
    "## Normalizer"
   ]
  },
  {
   "cell_type": "code",
   "execution_count": 4,
   "id": "6921df7b-52bf-4fbf-b464-312158cff5f3",
   "metadata": {},
   "outputs": [
    {
     "data": {
      "text/plain": [
       "array([[ 79.  ,   0.  ,   8.1 , ...,   4.36,  86.  , 167.  ],\n",
       "       [ 35.  ,   0.  ,  10.6 , ...,   6.02,  79.9 , 199.  ],\n",
       "       [ 47.  ,   1.  ,   8.7 , ...,   4.37,  89.9 , 298.  ],\n",
       "       ...,\n",
       "       [ 32.  ,   1.  ,   7.2 , ...,   3.87,  87.9 , 221.  ],\n",
       "       [ 47.  ,   0.  ,   8.3 , ...,   4.08,  91.9 , 148.  ],\n",
       "       [ 47.  ,   0.  ,   8.9 , ...,   4.39,  92.3 , 150.  ]])"
      ]
     },
     "execution_count": 4,
     "metadata": {},
     "output_type": "execute_result"
    }
   ],
   "source": [
    "data.loc[data[\"Set\"] == \"Training\", FEATURES].values"
   ]
  },
  {
   "cell_type": "code",
   "execution_count": 5,
   "id": "ed5cee5b-a4cd-422e-8eab-a54b1902535b",
   "metadata": {},
   "outputs": [
    {
     "data": {
      "text/html": [
       "<style>#sk-container-id-1 {color: black;}#sk-container-id-1 pre{padding: 0;}#sk-container-id-1 div.sk-toggleable {background-color: white;}#sk-container-id-1 label.sk-toggleable__label {cursor: pointer;display: block;width: 100%;margin-bottom: 0;padding: 0.3em;box-sizing: border-box;text-align: center;}#sk-container-id-1 label.sk-toggleable__label-arrow:before {content: \"▸\";float: left;margin-right: 0.25em;color: #696969;}#sk-container-id-1 label.sk-toggleable__label-arrow:hover:before {color: black;}#sk-container-id-1 div.sk-estimator:hover label.sk-toggleable__label-arrow:before {color: black;}#sk-container-id-1 div.sk-toggleable__content {max-height: 0;max-width: 0;overflow: hidden;text-align: left;background-color: #f0f8ff;}#sk-container-id-1 div.sk-toggleable__content pre {margin: 0.2em;color: black;border-radius: 0.25em;background-color: #f0f8ff;}#sk-container-id-1 input.sk-toggleable__control:checked~div.sk-toggleable__content {max-height: 200px;max-width: 100%;overflow: auto;}#sk-container-id-1 input.sk-toggleable__control:checked~label.sk-toggleable__label-arrow:before {content: \"▾\";}#sk-container-id-1 div.sk-estimator input.sk-toggleable__control:checked~label.sk-toggleable__label {background-color: #d4ebff;}#sk-container-id-1 div.sk-label input.sk-toggleable__control:checked~label.sk-toggleable__label {background-color: #d4ebff;}#sk-container-id-1 input.sk-hidden--visually {border: 0;clip: rect(1px 1px 1px 1px);clip: rect(1px, 1px, 1px, 1px);height: 1px;margin: -1px;overflow: hidden;padding: 0;position: absolute;width: 1px;}#sk-container-id-1 div.sk-estimator {font-family: monospace;background-color: #f0f8ff;border: 1px dotted black;border-radius: 0.25em;box-sizing: border-box;margin-bottom: 0.5em;}#sk-container-id-1 div.sk-estimator:hover {background-color: #d4ebff;}#sk-container-id-1 div.sk-parallel-item::after {content: \"\";width: 100%;border-bottom: 1px solid gray;flex-grow: 1;}#sk-container-id-1 div.sk-label:hover label.sk-toggleable__label {background-color: #d4ebff;}#sk-container-id-1 div.sk-serial::before {content: \"\";position: absolute;border-left: 1px solid gray;box-sizing: border-box;top: 0;bottom: 0;left: 50%;z-index: 0;}#sk-container-id-1 div.sk-serial {display: flex;flex-direction: column;align-items: center;background-color: white;padding-right: 0.2em;padding-left: 0.2em;position: relative;}#sk-container-id-1 div.sk-item {position: relative;z-index: 1;}#sk-container-id-1 div.sk-parallel {display: flex;align-items: stretch;justify-content: center;background-color: white;position: relative;}#sk-container-id-1 div.sk-item::before, #sk-container-id-1 div.sk-parallel-item::before {content: \"\";position: absolute;border-left: 1px solid gray;box-sizing: border-box;top: 0;bottom: 0;left: 50%;z-index: -1;}#sk-container-id-1 div.sk-parallel-item {display: flex;flex-direction: column;z-index: 1;position: relative;background-color: white;}#sk-container-id-1 div.sk-parallel-item:first-child::after {align-self: flex-end;width: 50%;}#sk-container-id-1 div.sk-parallel-item:last-child::after {align-self: flex-start;width: 50%;}#sk-container-id-1 div.sk-parallel-item:only-child::after {width: 0;}#sk-container-id-1 div.sk-dashed-wrapped {border: 1px dashed gray;margin: 0 0.4em 0.5em 0.4em;box-sizing: border-box;padding-bottom: 0.4em;background-color: white;}#sk-container-id-1 div.sk-label label {font-family: monospace;font-weight: bold;display: inline-block;line-height: 1.2em;}#sk-container-id-1 div.sk-label-container {text-align: center;}#sk-container-id-1 div.sk-container {/* jupyter's `normalize.less` sets `[hidden] { display: none; }` but bootstrap.min.css set `[hidden] { display: none !important; }` so we also need the `!important` here to be able to override the default hidden behavior on the sphinx rendered scikit-learn.org. See: https://github.com/scikit-learn/scikit-learn/issues/21755 */display: inline-block !important;position: relative;}#sk-container-id-1 div.sk-text-repr-fallback {display: none;}</style><div id=\"sk-container-id-1\" class=\"sk-top-container\"><div class=\"sk-text-repr-fallback\"><pre>StandardScaler()</pre><b>In a Jupyter environment, please rerun this cell to show the HTML representation or trust the notebook. <br />On GitHub, the HTML representation is unable to render, please try loading this page with nbviewer.org.</b></div><div class=\"sk-container\" hidden><div class=\"sk-item\"><div class=\"sk-estimator sk-toggleable\"><input class=\"sk-toggleable__control sk-hidden--visually\" id=\"sk-estimator-id-1\" type=\"checkbox\" checked><label for=\"sk-estimator-id-1\" class=\"sk-toggleable__label sk-toggleable__label-arrow\">StandardScaler</label><div class=\"sk-toggleable__content\"><pre>StandardScaler()</pre></div></div></div></div></div>"
      ],
      "text/plain": [
       "StandardScaler()"
      ]
     },
     "execution_count": 5,
     "metadata": {},
     "output_type": "execute_result"
    }
   ],
   "source": [
    "from sklearn.preprocessing import StandardScaler\n",
    "scaler = StandardScaler()\n",
    "scaler.fit(data.loc[data[\"Set\"] == \"Training\", FEATURES].values)"
   ]
  },
  {
   "cell_type": "markdown",
   "id": "e996e288-96e8-44e0-8131-ae790eb0dace",
   "metadata": {},
   "source": [
    "## Padding to max length"
   ]
  },
  {
   "cell_type": "code",
   "execution_count": 6,
   "id": "d1f06201-e1ca-43bf-8bbd-8f4c7535267b",
   "metadata": {},
   "outputs": [],
   "source": [
    "id_grouped_data = data.groupby(\"Id\")"
   ]
  },
  {
   "cell_type": "code",
   "execution_count": 7,
   "id": "d70a5569-3843-46ba-9beb-61b8f0207504",
   "metadata": {},
   "outputs": [
    {
     "data": {
      "application/vnd.jupyter.widget-view+json": {
       "model_id": "2f052abed21740d0874be3c7e8a6adb9",
       "version_major": 2,
       "version_minor": 0
      },
      "text/plain": [
       "  0%|          | 0/866517 [00:00<?, ?it/s]"
      ]
     },
     "metadata": {},
     "output_type": "display_data"
    }
   ],
   "source": [
    "from tqdm.notebook import tqdm\n",
    "\n",
    "max_len = 0\n",
    "for id, data_group in tqdm(id_grouped_data):\n",
    "    max_len = max(max_len, data_group.shape[0])"
   ]
  },
  {
   "cell_type": "code",
   "execution_count": 8,
   "id": "fef818a9-caac-4f72-977f-677537e35674",
   "metadata": {},
   "outputs": [],
   "source": [
    "unique_train_ids = data.loc[data[\"Set\"] == \"Training\", \"Id\"].unique()\n",
    "max_train_idx = int(len(unique_train_ids)*.8)\n",
    "val_ids = unique_train_ids[max_train_idx:]"
   ]
  },
  {
   "cell_type": "code",
   "execution_count": 9,
   "id": "97f491cf-ef73-4245-9159-37953f0ae1c4",
   "metadata": {},
   "outputs": [
    {
     "data": {
      "application/vnd.jupyter.widget-view+json": {
       "model_id": "51aa61a1f947440ca80edbdd27589ccb",
       "version_major": 2,
       "version_minor": 0
      },
      "text/plain": [
       "  0%|          | 0/866517 [00:00<?, ?it/s]"
      ]
     },
     "metadata": {},
     "output_type": "display_data"
    }
   ],
   "source": [
    "import numpy as np\n",
    "\n",
    "pad_value = -10.0\n",
    "TRAIN = \"train\"\n",
    "GW = \"gw_test\"\n",
    "TEST = \"test\"\n",
    "VAL = \"val\"\n",
    "\n",
    "features = dict({})\n",
    "features[TRAIN] = []\n",
    "features[VAL] = []\n",
    "features[TEST] = []\n",
    "features[GW] = []\n",
    "\n",
    "labels = dict({})\n",
    "labels[TRAIN] = []\n",
    "labels[VAL] = []\n",
    "labels[TEST] = []\n",
    "labels[GW] = []\n",
    "\n",
    "for id, data_group in tqdm(id_grouped_data):\n",
    "    assert data_group[\"Set\"].unique().shape[0] == 1\n",
    "    assert data_group[\"Center\"].unique().shape[0] == 1\n",
    "\n",
    "    features_scaled = scaler.transform(data_group[FEATURES].values)\n",
    "\n",
    "    padded_features = np.pad(features_scaled, ((0, max_len - data_group.shape[0]), (0,0)), mode='constant', constant_values=pad_value)\n",
    "    padded_labels = np.pad(data_group[LABEL_COLUMN_NAME].values, ((0, max_len - data_group.shape[0])), mode='constant', constant_values=pad_value)\n",
    "    \n",
    "    first_el = data_group.iloc[0, :]\n",
    "    if first_el[\"Set\"] == \"Training\":\n",
    "        if first_el[\"Id\"] in val_ids:\n",
    "            features[VAL].append(padded_features)\n",
    "            labels[VAL].append(padded_labels)\n",
    "            continue\n",
    "        if first_el[\"Id\"] not in val_ids:\n",
    "            features[TRAIN].append(padded_features)\n",
    "            labels[TRAIN].append(padded_labels)\n",
    "            continue\n",
    "    if first_el[\"Set\"] == \"Validation\":\n",
    "        if first_el[\"Center\"] == \"Greifswald\":\n",
    "            features[GW].append(padded_features)\n",
    "            labels[GW].append(padded_labels)\n",
    "            continue\n",
    "        if first_el[\"Center\"] == \"Leipzig\":\n",
    "            features[TEST].append(padded_features)\n",
    "            labels[TEST].append(padded_labels)\n",
    "            continue"
   ]
  },
  {
   "cell_type": "markdown",
   "id": "b2bdac22-9b02-4077-a7f4-4db4a0ab5050",
   "metadata": {},
   "source": [
    "## Seed and hyperparams"
   ]
  },
  {
   "cell_type": "code",
   "execution_count": 10,
   "id": "c08009fa-f788-40d9-9a15-6ad7c5bb44c1",
   "metadata": {},
   "outputs": [],
   "source": [
    "torch.manual_seed(42)\n",
    "n_embd = len(FEATURES)\n",
    "head_size = 16\n",
    "dropout = 0\n",
    "out_dim = 1 #binary \n",
    "device = torch.device(\"cuda:2\") #torch.device(\"cuda:2\") #torch.device(\"cuda:2\")\n",
    "WEIGHT = 664\n",
    "lr = 1e-2\n",
    "wd = 0\n",
    "n_blocks = 2\n",
    "n_heads = 4"
   ]
  },
  {
   "cell_type": "markdown",
   "id": "92127f1f-f8bf-41b7-be8f-aa85d0e3eba3",
   "metadata": {},
   "source": [
    "## Batching "
   ]
  },
  {
   "cell_type": "code",
   "execution_count": 11,
   "id": "270f681d-a1aa-4c29-99aa-b31cd962b9cb",
   "metadata": {},
   "outputs": [],
   "source": [
    "from torch.utils.data import DataLoader\n",
    "from torch.utils.data import Dataset\n",
    "\n",
    "class Data(Dataset):\n",
    "    # Constructor\n",
    "    def __init__(self,X, y):\n",
    "        self.x = X\n",
    "        self.y = y\n",
    "        self.len = self.x.shape[0]\n",
    "\n",
    "    def __getitem__(self, index):\n",
    "        return self.x[index], self.y[index]\n",
    "\n",
    "    def __len__(self):\n",
    "        return self.len"
   ]
  },
  {
   "cell_type": "code",
   "execution_count": 12,
   "id": "455e9028-81aa-4f8f-9e1d-3c8493b21e1b",
   "metadata": {},
   "outputs": [],
   "source": [
    "batch_loader = dict({})"
   ]
  },
  {
   "cell_type": "code",
   "execution_count": 13,
   "id": "98a9c611-0cae-4f7d-983c-6bccab281d6d",
   "metadata": {},
   "outputs": [],
   "source": [
    "def add_loader(set_name):\n",
    "    global bitch_loader, sets, labels\n",
    "    dataset = Data(torch.from_numpy(np.array(features[set_name])).type(torch.float).to(device), torch.from_numpy(np.array(labels[set_name])).type(torch.float).to(device))\n",
    "    loader = DataLoader(dataset=dataset, batch_size=500) #max is 100_000\n",
    "    batch_loader[set_name] = loader"
   ]
  },
  {
   "cell_type": "code",
   "execution_count": 14,
   "id": "5d221dbe-a7c3-414f-a23e-f390f551e609",
   "metadata": {},
   "outputs": [],
   "source": [
    "add_loader(TRAIN)\n",
    "add_loader(VAL)\n",
    "add_loader(GW)\n",
    "add_loader(TEST)"
   ]
  },
  {
   "cell_type": "markdown",
   "id": "4c638073-48af-4513-81f7-87f8729c4e14",
   "metadata": {},
   "source": [
    "## Model"
   ]
  },
  {
   "cell_type": "code",
   "execution_count": 15,
   "id": "1c1e7ff0-892d-462b-8096-d78f851db971",
   "metadata": {},
   "outputs": [],
   "source": [
    "import torch \n",
    "\n",
    "torch.manual_seed(42)\n",
    "class Head(torch.nn.Module):\n",
    "\n",
    "    def __init__(self, n_embd, head_size, dropout):\n",
    "        super(Head, self).__init__()\n",
    "\n",
    "        self.query = torch.nn.Linear(n_embd, head_size, bias=False)\n",
    "        self.key = torch.nn.Linear(n_embd, head_size, bias = False)\n",
    "        self.value = torch.nn.Linear(n_embd, head_size, bias = False)\n",
    "        self.dropout = torch.nn.Dropout(dropout)\n",
    "\n",
    "    def forward(self, x, ignore_mask):\n",
    "        B,T,C = x.shape\n",
    "        \n",
    "        k = self.key(x)\n",
    "        q = self.query(x)\n",
    "        v = self.value(x)\n",
    "\n",
    "        w = q@k.transpose(-2,-1)\n",
    "        w = w* C**-.5\n",
    "        w[ignore_mask] = float(\"-inf\")\n",
    "        w = torch.nan_to_num(torch.softmax(w, dim = -1))\n",
    "        \n",
    "        w = self.dropout(w)    \n",
    "        out = w@v\n",
    "        return out\n",
    "        "
   ]
  },
  {
   "cell_type": "code",
   "execution_count": 16,
   "id": "d97973e4-40a2-4485-bb90-f570737023f4",
   "metadata": {},
   "outputs": [],
   "source": [
    "import torch \n",
    "class MultiHeadAttention(torch.nn.Module):\n",
    "\n",
    "    def __init__(self, n_embd, num_heads, head_size, dropout):\n",
    "        super(MultiHeadAttention, self).__init__()\n",
    "        head_size = n_embd // n_heads\n",
    "        self.heads = torch.nn.ModuleList([Head(n_embd, head_size, dropout) for _ in range(num_heads)])\n",
    "        self.proj = torch.nn.Linear(head_size*num_heads, n_embd)\n",
    "        self.dropout = torch.nn.Dropout(dropout)\n",
    "\n",
    "    def forward(self, x, ignore_mask):\n",
    "        out = torch.cat([h(x, ignore_mask) for h in self.heads], dim = -1)\n",
    "        out = self.proj(out)\n",
    "        out = self.dropout(out)\n",
    "        return out"
   ]
  },
  {
   "cell_type": "code",
   "execution_count": 17,
   "id": "80bcfd44-adf4-49a3-8961-19de38b23af5",
   "metadata": {},
   "outputs": [],
   "source": [
    "class FeedForward(torch.nn.Module):\n",
    "\n",
    "    def __init__(self, n_embd, dropout):\n",
    "        super(FeedForward, self).__init__()\n",
    "        self.lin = torch.nn.Linear(n_embd, 4*n_embd)\n",
    "        self.proj = torch.nn.Linear(4*n_embd, n_embd)\n",
    "        self.dropout = torch.nn.Dropout(dropout)\n",
    "\n",
    "    def forward(self, x):\n",
    "        x = self.lin(x)\n",
    "        x = torch.nn.functional.relu(x)\n",
    "        x = self.proj(x)\n",
    "        x = self.dropout(x)\n",
    "        return x"
   ]
  },
  {
   "cell_type": "code",
   "execution_count": 18,
   "id": "6e49b754-6ee2-4fac-a1a8-6a17a0a3b518",
   "metadata": {},
   "outputs": [],
   "source": [
    "class Block(torch.nn.Module):\n",
    "    def __init__(self, n_embd, n_heads, dropout):\n",
    "        super(Block, self).__init__()\n",
    "        head_size = n_embd // n_heads\n",
    "\n",
    "        self.sa_heads = MultiHeadAttention(n_embd, n_heads, head_size, dropout)\n",
    "        self.ffwd = FeedForward(n_embd, dropout)\n",
    "        self.layer_norm_1 = torch.nn.LayerNorm(n_embd)\n",
    "        self.layer_norm_2 = torch.nn.LayerNorm(n_embd)\n",
    "\n",
    "    def forward(self, x, ignore_mask):\n",
    "        x = x + self.sa_heads(self.layer_norm_1(x), ignore_mask)\n",
    "        x = x + self.ffwd(self.layer_norm_2(x))\n",
    "        return x"
   ]
  },
  {
   "cell_type": "code",
   "execution_count": 19,
   "id": "21724db2-ec23-4f55-8416-315cded98d2d",
   "metadata": {},
   "outputs": [],
   "source": [
    "from torch import nn\n",
    "from torch.nn import functional as F\n",
    "\n",
    "torch.manual_seed(42)\n",
    "class TransformerModel(nn.Module):\n",
    "\n",
    "    def __init__(self, input_dim, n_embd, n_heads, dropout, n_blocks):\n",
    "        super(TransformerModel, self).__init__()\n",
    "\n",
    "        self.pos_embedding_table = nn.Embedding(max_len, n_embd)\n",
    "        \n",
    "        self.block = Block(n_embd, n_heads, dropout)\n",
    "        # self.lm_head = nn.Linear(n_embd, vocab_size)\n",
    "        # self.sa = Head(head_size)\n",
    "        self.lin = nn.Linear(n_embd, out_dim)\n",
    "\n",
    "    def forward(self, x, targets = None):\n",
    "        B, T, C = x.shape\n",
    "        pad_mask = (x != pad_value).type(torch.float)\n",
    "        ignore_mask = torch.bmm(pad_mask, pad_mask.transpose(-2,-1))\n",
    "        ignore_mask = ignore_mask == 0\n",
    "\n",
    "        pos_emb = self.pos_embedding_table(torch.arange(T, device = device))\n",
    "        x = x + pos_emb\n",
    "\n",
    "        x = self.block(x, ignore_mask)\n",
    "        logits = self.lin(x)\n",
    "        logits_mask = ignore_mask.sum(-1) != max_len\n",
    "        \n",
    "        return logits, logits_mask"
   ]
  },
  {
   "cell_type": "markdown",
   "id": "40c075cc-1333-4706-85ed-11b6ab0e3acc",
   "metadata": {},
   "source": [
    "## Evaluate"
   ]
  },
  {
   "cell_type": "code",
   "execution_count": 20,
   "id": "aad2bf23-22df-4204-ae11-8ff78ae5f4c8",
   "metadata": {},
   "outputs": [],
   "source": [
    "def evaluate_loss(model, set_name):\n",
    "    with torch.inference_mode():\n",
    "        model.eval()\n",
    "        acc_loss = 0\n",
    "        batch_size = 0\n",
    "\n",
    "        for i, (x,y) in enumerate(batch_loader[set_name]):\n",
    "            B,_,_ = x.shape\n",
    "            logits, logits_mask = model(x)\n",
    "        \n",
    "            loss = torch.nn.functional.binary_cross_entropy_with_logits(logits[logits_mask].squeeze(-1), y[logits_mask], pos_weight=torch.tensor(WEIGHT))\n",
    "            acc_loss += loss.item()\n",
    "            batch_size += B\n",
    "    return acc_loss / batch_size        "
   ]
  },
  {
   "cell_type": "code",
   "execution_count": 21,
   "id": "c607fedb-b8e6-4104-a818-778d1f00be6f",
   "metadata": {},
   "outputs": [],
   "source": [
    "def evaluate_loss_sets(model):\n",
    "    losses = dict({})\n",
    "    for set_name in features.keys():\n",
    "        # if set_name != VAL:\n",
    "        #     continue\n",
    "        loss = evaluate_loss(model, set_name)\n",
    "        losses[set_name] = loss\n",
    "        print(f\"Loss of {set_name}: {loss:.5f}\") \n",
    "    return losses\n",
    "        "
   ]
  },
  {
   "cell_type": "code",
   "execution_count": 22,
   "id": "1bb27c79-5e05-4180-8181-b2be847ca22d",
   "metadata": {},
   "outputs": [],
   "source": [
    "from sklearn.metrics import roc_auc_score, accuracy_score\n",
    "\n",
    "def evaluate_auroc(model, set_name):\n",
    "    with torch.inference_mode():\n",
    "        model.eval()\n",
    "        \n",
    "        logits_list = []\n",
    "        label_list = []\n",
    "\n",
    "        batch_size = 0\n",
    "        for i, (x,y) in enumerate(batch_loader[set_name]):\n",
    "            B,_,_ = x.shape\n",
    "            logits, logits_mask = model(x)\n",
    "\n",
    "            logits_list.extend(logits[logits_mask].squeeze(-1).tolist())\n",
    "            label_list.extend(y[logits_mask].squeeze(-1).tolist())\n",
    "            batch_size += B\n",
    "    auroc = roc_auc_score(np.array(label_list), torch.sigmoid(torch.tensor(logits_list)).numpy())\n",
    "    return auroc        "
   ]
  },
  {
   "cell_type": "code",
   "execution_count": 23,
   "id": "82d13cdd-c7c2-404b-80be-e31f4362e349",
   "metadata": {},
   "outputs": [],
   "source": [
    "def evaluate_auroc_sets(model):\n",
    "    for set_name in features.keys():\n",
    "        if set_name == TRAIN:\n",
    "            continue\n",
    "        auroc = evaluate_auroc(model, set_name)\n",
    "        print(f\"AUROC of {set_name}: {auroc:.5f}\")"
   ]
  },
  {
   "cell_type": "markdown",
   "id": "e59ef05b-7e7a-4a86-8f8e-31b46d9207c2",
   "metadata": {},
   "source": [
    "## Train"
   ]
  },
  {
   "cell_type": "code",
   "execution_count": 24,
   "id": "e2e6f14e-bba3-4066-9aa8-5e8b36d55f93",
   "metadata": {},
   "outputs": [],
   "source": [
    "torch.manual_seed(42)\n",
    "input_dim, n_embd, n_heads, dropout, n_blocks = len(FEATURES), len(FEATURES), 7, 0.0, 1\n",
    "model = TransformerModel(input_dim, n_embd, n_heads, dropout, n_blocks).to(device)\n",
    "optim= torch.optim.Adam(model.parameters(), lr = 1e-2, weight_decay=wd)"
   ]
  },
  {
   "cell_type": "code",
   "execution_count": 162,
   "id": "fbfb5f8e-7250-4872-a7cc-fe0e6780d6d4",
   "metadata": {},
   "outputs": [],
   "source": [
    "# torch.manual_seed(42)\n",
    "# evaluate_auroc_sets(TransformerModel(input_dim, n_embd, n_heads, dropout, n_blocks).to(device))"
   ]
  },
  {
   "cell_type": "code",
   "execution_count": 166,
   "id": "18781ac1-dfc7-4784-b8a6-e8159f74fe5d",
   "metadata": {},
   "outputs": [
    {
     "name": "stdout",
     "output_type": "stream",
     "text": [
      "Loss of train: 0.00137\n",
      "Loss of val: 0.00173\n",
      "Loss of test: 0.00146\n",
      "Loss of gw_test: 0.00136\n"
     ]
    },
    {
     "data": {
      "application/vnd.jupyter.widget-view+json": {
       "model_id": "83708e9049d84cec9341b26e1fa40dc1",
       "version_major": 2,
       "version_minor": 0
      },
      "text/plain": [
       "0it [00:00, ?it/s]"
      ]
     },
     "metadata": {},
     "output_type": "display_data"
    },
    {
     "ename": "KeyboardInterrupt",
     "evalue": "",
     "output_type": "error",
     "traceback": [
      "\u001b[0;31m---------------------------------------------------------------------------\u001b[0m",
      "\u001b[0;31mKeyboardInterrupt\u001b[0m                         Traceback (most recent call last)",
      "Cell \u001b[0;32mIn[166], line 11\u001b[0m\n\u001b[1;32m      8\u001b[0m optim\u001b[38;5;241m.\u001b[39mzero_grad()\n\u001b[1;32m     10\u001b[0m logits, logits_mask \u001b[38;5;241m=\u001b[39m model(x)\n\u001b[0;32m---> 11\u001b[0m loss \u001b[38;5;241m=\u001b[39m torch\u001b[38;5;241m.\u001b[39mnn\u001b[38;5;241m.\u001b[39mfunctional\u001b[38;5;241m.\u001b[39mbinary_cross_entropy_with_logits(\u001b[43mlogits\u001b[49m\u001b[43m[\u001b[49m\u001b[43mlogits_mask\u001b[49m\u001b[43m]\u001b[49m\u001b[38;5;241;43m.\u001b[39;49m\u001b[43msqueeze\u001b[49m\u001b[43m(\u001b[49m\u001b[38;5;241;43m-\u001b[39;49m\u001b[38;5;241;43m1\u001b[39;49m\u001b[43m)\u001b[49m, y[logits_mask], pos_weight\u001b[38;5;241m=\u001b[39mtorch\u001b[38;5;241m.\u001b[39mtensor(WEIGHT))\n\u001b[1;32m     13\u001b[0m loss\u001b[38;5;241m.\u001b[39mbackward()\n\u001b[1;32m     14\u001b[0m optim\u001b[38;5;241m.\u001b[39mstep()\n",
      "\u001b[0;31mKeyboardInterrupt\u001b[0m: "
     ]
    }
   ],
   "source": [
    "torch.manual_seed(42)\n",
    "\n",
    "evaluate_loss_sets(model)\n",
    "last_val_loss = None\n",
    "for epoch in range(5):#5\n",
    "    for i, (x,y) in tqdm(enumerate(batch_loader[TRAIN])):\n",
    "        model.train()\n",
    "        optim.zero_grad()\n",
    "        \n",
    "        logits, logits_mask = model(x)\n",
    "        loss = torch.nn.functional.binary_cross_entropy_with_logits(logits[logits_mask].squeeze(-1), y[logits_mask], pos_weight=torch.tensor(WEIGHT))\n",
    "            \n",
    "        loss.backward()\n",
    "        optim.step()\n",
    "    losses = evaluate_loss_sets(model)\n",
    "    # if last_val_loss and last_val_loss <= losses[VAL]:\n",
    "    #     print(epoch)\n",
    "    #     break\n",
    "    last_val_loss = losses[VAL]"
   ]
  },
  {
   "cell_type": "code",
   "execution_count": 164,
   "id": "ee88475f-5a55-4ecf-b1aa-8a105a39e15c",
   "metadata": {},
   "outputs": [
    {
     "name": "stdout",
     "output_type": "stream",
     "text": [
      "AUROC of val: 0.89290\n",
      "AUROC of test: 0.90647\n",
      "AUROC of gw_test: 0.89353\n"
     ]
    }
   ],
   "source": [
    "torch.manual_seed(42)\n",
    "evaluate_auroc_sets(model) ##removed pos awareness"
   ]
  },
  {
   "cell_type": "code",
   "execution_count": 27,
   "id": "f9449be1-2697-46e9-be92-20795ccc6861",
   "metadata": {},
   "outputs": [
    {
     "data": {
      "application/vnd.jupyter.widget-view+json": {
       "model_id": "7d9e7c060fcf49dd85176d203f22129f",
       "version_major": 2,
       "version_minor": 0
      },
      "text/plain": [
       "0it [00:00, ?it/s]"
      ]
     },
     "metadata": {},
     "output_type": "display_data"
    },
    {
     "data": {
      "application/vnd.jupyter.widget-view+json": {
       "model_id": "75c49e2b2a4648b9a3f366887327cac7",
       "version_major": 2,
       "version_minor": 0
      },
      "text/plain": [
       "0it [00:00, ?it/s]"
      ]
     },
     "metadata": {},
     "output_type": "display_data"
    },
    {
     "name": "stdout",
     "output_type": "stream",
     "text": [
      "Loss of train: 0.00280\n",
      "Loss of val: 0.00288\n",
      "Loss of test: 0.00261\n",
      "Loss of gw_test: 0.00236\n",
      "[0.0028761685345458]\n"
     ]
    },
    {
     "data": {
      "application/vnd.jupyter.widget-view+json": {
       "model_id": "c9ff968eda5c418ba33c7babd341cf34",
       "version_major": 2,
       "version_minor": 0
      },
      "text/plain": [
       "0it [00:00, ?it/s]"
      ]
     },
     "metadata": {},
     "output_type": "display_data"
    },
    {
     "name": "stdout",
     "output_type": "stream",
     "text": [
      "Loss of train: 0.00262\n",
      "Loss of val: 0.00269\n",
      "Loss of test: 0.00249\n",
      "Loss of gw_test: 0.00232\n",
      "[0.0028761685345458, 0.0026922010825548284]\n"
     ]
    },
    {
     "data": {
      "application/vnd.jupyter.widget-view+json": {
       "model_id": "a39e4e153dd74bbdbce70b034fae9af1",
       "version_major": 2,
       "version_minor": 0
      },
      "text/plain": [
       "0it [00:00, ?it/s]"
      ]
     },
     "metadata": {},
     "output_type": "display_data"
    },
    {
     "name": "stdout",
     "output_type": "stream",
     "text": [
      "Loss of train: 0.00251\n",
      "Loss of val: 0.00257\n",
      "Loss of test: 0.00240\n",
      "Loss of gw_test: 0.00229\n",
      "[0.0028761685345458, 0.0026922010825548284, 0.0025703759577207033]\n"
     ]
    },
    {
     "data": {
      "application/vnd.jupyter.widget-view+json": {
       "model_id": "bbaa3711664f4b62b67f31e643fa1c3a",
       "version_major": 2,
       "version_minor": 0
      },
      "text/plain": [
       "0it [00:00, ?it/s]"
      ]
     },
     "metadata": {},
     "output_type": "display_data"
    },
    {
     "name": "stdout",
     "output_type": "stream",
     "text": [
      "Loss of train: 0.00241\n",
      "Loss of val: 0.00248\n",
      "Loss of test: 0.00233\n",
      "Loss of gw_test: 0.00226\n",
      "[0.0028761685345458, 0.0026922010825548284, 0.0025703759577207033, 0.0024772557054419373]\n"
     ]
    },
    {
     "data": {
      "application/vnd.jupyter.widget-view+json": {
       "model_id": "2d05ee8c795e4eaead518affa5fa82f5",
       "version_major": 2,
       "version_minor": 0
      },
      "text/plain": [
       "0it [00:00, ?it/s]"
      ]
     },
     "metadata": {},
     "output_type": "display_data"
    },
    {
     "name": "stdout",
     "output_type": "stream",
     "text": [
      "Loss of train: 0.00233\n",
      "Loss of val: 0.00239\n",
      "Loss of test: 0.00226\n",
      "Loss of gw_test: 0.00223\n",
      "[0.0028761685345458, 0.0026922010825548284, 0.0025703759577207033, 0.0024772557054419373, 0.0023946012237186865]\n"
     ]
    },
    {
     "data": {
      "application/vnd.jupyter.widget-view+json": {
       "model_id": "32060756a02b4d7f9300c2c314e3436f",
       "version_major": 2,
       "version_minor": 0
      },
      "text/plain": [
       "0it [00:00, ?it/s]"
      ]
     },
     "metadata": {},
     "output_type": "display_data"
    },
    {
     "name": "stdout",
     "output_type": "stream",
     "text": [
      "Loss of train: 0.00226\n",
      "Loss of val: 0.00232\n",
      "Loss of test: 0.00220\n",
      "Loss of gw_test: 0.00220\n",
      "[0.0028761685345458, 0.0026922010825548284, 0.0025703759577207033, 0.0024772557054419373, 0.0023946012237186865, 0.002322911803100111]\n"
     ]
    },
    {
     "data": {
      "application/vnd.jupyter.widget-view+json": {
       "model_id": "424e7c6cad3b4fdd84e489527472aeba",
       "version_major": 2,
       "version_minor": 0
      },
      "text/plain": [
       "0it [00:00, ?it/s]"
      ]
     },
     "metadata": {},
     "output_type": "display_data"
    },
    {
     "name": "stdout",
     "output_type": "stream",
     "text": [
      "Loss of train: 0.00220\n",
      "Loss of val: 0.00226\n",
      "Loss of test: 0.00215\n",
      "Loss of gw_test: 0.00216\n",
      "[0.0028761685345458, 0.0026922010825548284, 0.0025703759577207033, 0.0024772557054419373, 0.0023946012237186865, 0.002322911803100111, 0.0022603987653119053]\n"
     ]
    },
    {
     "data": {
      "application/vnd.jupyter.widget-view+json": {
       "model_id": "9f967b3bca32462eabe9a85ac4516d48",
       "version_major": 2,
       "version_minor": 0
      },
      "text/plain": [
       "0it [00:00, ?it/s]"
      ]
     },
     "metadata": {},
     "output_type": "display_data"
    },
    {
     "name": "stdout",
     "output_type": "stream",
     "text": [
      "Loss of train: 0.00214\n",
      "Loss of val: 0.00221\n",
      "Loss of test: 0.00209\n",
      "Loss of gw_test: 0.00212\n",
      "[0.0028761685345458, 0.0026922010825548284, 0.0025703759577207033, 0.0024772557054419373, 0.0023946012237186865, 0.002322911803100111, 0.0022603987653119053, 0.0022058814405393843]\n"
     ]
    },
    {
     "data": {
      "application/vnd.jupyter.widget-view+json": {
       "model_id": "af8d5978c9b9431ca109c1f3a6835add",
       "version_major": 2,
       "version_minor": 0
      },
      "text/plain": [
       "0it [00:00, ?it/s]"
      ]
     },
     "metadata": {},
     "output_type": "display_data"
    },
    {
     "name": "stdout",
     "output_type": "stream",
     "text": [
      "Loss of train: 0.00209\n",
      "Loss of val: 0.00216\n",
      "Loss of test: 0.00205\n",
      "Loss of gw_test: 0.00209\n",
      "[0.0028761685345458, 0.0026922010825548284, 0.0025703759577207033, 0.0024772557054419373, 0.0023946012237186865, 0.002322911803100111, 0.0022603987653119053, 0.0022058814405393843, 0.002158353792659565]\n"
     ]
    },
    {
     "data": {
      "application/vnd.jupyter.widget-view+json": {
       "model_id": "295c2f658c1f4d6c9fd0fe6d1b7244d7",
       "version_major": 2,
       "version_minor": 0
      },
      "text/plain": [
       "0it [00:00, ?it/s]"
      ]
     },
     "metadata": {},
     "output_type": "display_data"
    },
    {
     "name": "stdout",
     "output_type": "stream",
     "text": [
      "Loss of train: 0.00204\n",
      "Loss of val: 0.00212\n",
      "Loss of test: 0.00201\n",
      "Loss of gw_test: 0.00206\n",
      "[0.0028761685345458, 0.0026922010825548284, 0.0025703759577207033, 0.0024772557054419373, 0.0023946012237186865, 0.002322911803100111, 0.0022603987653119053, 0.0022058814405393843, 0.002158353792659565, 0.002116991018748067]\n"
     ]
    },
    {
     "data": {
      "application/vnd.jupyter.widget-view+json": {
       "model_id": "ca66febabf984d9db8bd1f5c6b540e80",
       "version_major": 2,
       "version_minor": 0
      },
      "text/plain": [
       "0it [00:00, ?it/s]"
      ]
     },
     "metadata": {},
     "output_type": "display_data"
    },
    {
     "name": "stdout",
     "output_type": "stream",
     "text": [
      "Loss of train: 0.00201\n",
      "Loss of val: 0.00208\n",
      "Loss of test: 0.00198\n",
      "Loss of gw_test: 0.00203\n",
      "[0.0028761685345458, 0.0026922010825548284, 0.0025703759577207033, 0.0024772557054419373, 0.0023946012237186865, 0.002322911803100111, 0.0022603987653119053, 0.0022058814405393843, 0.002158353792659565, 0.002116991018748067, 0.002084316638586412]\n"
     ]
    },
    {
     "data": {
      "application/vnd.jupyter.widget-view+json": {
       "model_id": "638e8031e9424cfcb3304b77ac7570fd",
       "version_major": 2,
       "version_minor": 0
      },
      "text/plain": [
       "0it [00:00, ?it/s]"
      ]
     },
     "metadata": {},
     "output_type": "display_data"
    },
    {
     "name": "stdout",
     "output_type": "stream",
     "text": [
      "Loss of train: 0.00198\n",
      "Loss of val: 0.00206\n",
      "Loss of test: 0.00195\n",
      "Loss of gw_test: 0.00200\n",
      "[0.0028761685345458, 0.0026922010825548284, 0.0025703759577207033, 0.0024772557054419373, 0.0023946012237186865, 0.002322911803100111, 0.0022603987653119053, 0.0022058814405393843, 0.002158353792659565, 0.002116991018748067, 0.002084316638586412, 0.002056850957831658]\n"
     ]
    },
    {
     "data": {
      "application/vnd.jupyter.widget-view+json": {
       "model_id": "e271db00468e4d3a9731870b71cb2fc1",
       "version_major": 2,
       "version_minor": 0
      },
      "text/plain": [
       "0it [00:00, ?it/s]"
      ]
     },
     "metadata": {},
     "output_type": "display_data"
    },
    {
     "name": "stdout",
     "output_type": "stream",
     "text": [
      "Loss of train: 0.00195\n",
      "Loss of val: 0.00203\n",
      "Loss of test: 0.00192\n",
      "Loss of gw_test: 0.00197\n",
      "[0.0028761685345458, 0.0026922010825548284, 0.0025703759577207033, 0.0024772557054419373, 0.0023946012237186865, 0.002322911803100111, 0.0022603987653119053, 0.0022058814405393843, 0.002158353792659565, 0.002116991018748067, 0.002084316638586412, 0.002056850957831658, 0.0020302568956148794]\n"
     ]
    },
    {
     "data": {
      "application/vnd.jupyter.widget-view+json": {
       "model_id": "889511c8a35c457795c8bed601729ebd",
       "version_major": 2,
       "version_minor": 0
      },
      "text/plain": [
       "0it [00:00, ?it/s]"
      ]
     },
     "metadata": {},
     "output_type": "display_data"
    },
    {
     "name": "stdout",
     "output_type": "stream",
     "text": [
      "Loss of train: 0.00192\n",
      "Loss of val: 0.00201\n",
      "Loss of test: 0.00190\n",
      "Loss of gw_test: 0.00195\n",
      "[0.0028761685345458, 0.0026922010825548284, 0.0025703759577207033, 0.0024772557054419373, 0.0023946012237186865, 0.002322911803100111, 0.0022603987653119053, 0.0022058814405393843, 0.002158353792659565, 0.002116991018748067, 0.002084316638586412, 0.002056850957831658, 0.0020302568956148794, 0.0020087704620721054]\n"
     ]
    },
    {
     "data": {
      "application/vnd.jupyter.widget-view+json": {
       "model_id": "ac2bfb2e824342e0bf149f4718382630",
       "version_major": 2,
       "version_minor": 0
      },
      "text/plain": [
       "0it [00:00, ?it/s]"
      ]
     },
     "metadata": {},
     "output_type": "display_data"
    },
    {
     "name": "stdout",
     "output_type": "stream",
     "text": [
      "Loss of train: 0.00190\n",
      "Loss of val: 0.00199\n",
      "Loss of test: 0.00188\n",
      "Loss of gw_test: 0.00193\n",
      "[0.0028761685345458, 0.0026922010825548284, 0.0025703759577207033, 0.0024772557054419373, 0.0023946012237186865, 0.002322911803100111, 0.0022603987653119053, 0.0022058814405393843, 0.002158353792659565, 0.002116991018748067, 0.002084316638586412, 0.002056850957831658, 0.0020302568956148794, 0.0020087704620721054, 0.001988648917954224]\n"
     ]
    },
    {
     "data": {
      "application/vnd.jupyter.widget-view+json": {
       "model_id": "c5080f0d663d42168ad0de6be6486363",
       "version_major": 2,
       "version_minor": 0
      },
      "text/plain": [
       "0it [00:00, ?it/s]"
      ]
     },
     "metadata": {},
     "output_type": "display_data"
    },
    {
     "name": "stdout",
     "output_type": "stream",
     "text": [
      "Loss of train: 0.00187\n",
      "Loss of val: 0.00197\n",
      "Loss of test: 0.00186\n",
      "Loss of gw_test: 0.00191\n",
      "[0.0028761685345458, 0.0026922010825548284, 0.0025703759577207033, 0.0024772557054419373, 0.0023946012237186865, 0.002322911803100111, 0.0022603987653119053, 0.0022058814405393843, 0.002158353792659565, 0.002116991018748067, 0.002084316638586412, 0.002056850957831658, 0.0020302568956148794, 0.0020087704620721054, 0.001988648917954224, 0.001968002475033398]\n"
     ]
    },
    {
     "data": {
      "application/vnd.jupyter.widget-view+json": {
       "model_id": "b0013cfb74ec4edc8d462b6bedde14cc",
       "version_major": 2,
       "version_minor": 0
      },
      "text/plain": [
       "0it [00:00, ?it/s]"
      ]
     },
     "metadata": {},
     "output_type": "display_data"
    },
    {
     "name": "stdout",
     "output_type": "stream",
     "text": [
      "Loss of train: 0.00186\n",
      "Loss of val: 0.00196\n",
      "Loss of test: 0.00184\n",
      "Loss of gw_test: 0.00188\n",
      "[0.0028761685345458, 0.0026922010825548284, 0.0025703759577207033, 0.0024772557054419373, 0.0023946012237186865, 0.002322911803100111, 0.0022603987653119053, 0.0022058814405393843, 0.002158353792659565, 0.002116991018748067, 0.002084316638586412, 0.002056850957831658, 0.0020302568956148794, 0.0020087704620721054, 0.001988648917954224, 0.001968002475033398, 0.0019551977090424472]\n"
     ]
    },
    {
     "data": {
      "application/vnd.jupyter.widget-view+json": {
       "model_id": "80b2df9e00c94949a31d63992459c5aa",
       "version_major": 2,
       "version_minor": 0
      },
      "text/plain": [
       "0it [00:00, ?it/s]"
      ]
     },
     "metadata": {},
     "output_type": "display_data"
    },
    {
     "name": "stdout",
     "output_type": "stream",
     "text": [
      "Loss of train: 0.00184\n",
      "Loss of val: 0.00194\n",
      "Loss of test: 0.00183\n",
      "Loss of gw_test: 0.00187\n",
      "[0.0028761685345458, 0.0026922010825548284, 0.0025703759577207033, 0.0024772557054419373, 0.0023946012237186865, 0.002322911803100111, 0.0022603987653119053, 0.0022058814405393843, 0.002158353792659565, 0.002116991018748067, 0.002084316638586412, 0.002056850957831658, 0.0020302568956148794, 0.0020087704620721054, 0.001988648917954224, 0.001968002475033398, 0.0019551977090424472, 0.001939757017491064]\n"
     ]
    },
    {
     "data": {
      "application/vnd.jupyter.widget-view+json": {
       "model_id": "fd9aa2e09e83419a8d12ce16352cc498",
       "version_major": 2,
       "version_minor": 0
      },
      "text/plain": [
       "0it [00:00, ?it/s]"
      ]
     },
     "metadata": {},
     "output_type": "display_data"
    },
    {
     "name": "stdout",
     "output_type": "stream",
     "text": [
      "Loss of train: 0.00182\n",
      "Loss of val: 0.00193\n",
      "Loss of test: 0.00181\n",
      "Loss of gw_test: 0.00185\n",
      "[0.0028761685345458, 0.0026922010825548284, 0.0025703759577207033, 0.0024772557054419373, 0.0023946012237186865, 0.002322911803100111, 0.0022603987653119053, 0.0022058814405393843, 0.002158353792659565, 0.002116991018748067, 0.002084316638586412, 0.002056850957831658, 0.0020302568956148794, 0.0020087704620721054, 0.001988648917954224, 0.001968002475033398, 0.0019551977090424472, 0.001939757017491064, 0.0019259160583760396]\n"
     ]
    },
    {
     "data": {
      "application/vnd.jupyter.widget-view+json": {
       "model_id": "298fff965592470981cee62cad89e91c",
       "version_major": 2,
       "version_minor": 0
      },
      "text/plain": [
       "0it [00:00, ?it/s]"
      ]
     },
     "metadata": {},
     "output_type": "display_data"
    },
    {
     "name": "stdout",
     "output_type": "stream",
     "text": [
      "Loss of train: 0.00181\n",
      "Loss of val: 0.00191\n",
      "Loss of test: 0.00180\n",
      "Loss of gw_test: 0.00184\n",
      "[0.0028761685345458, 0.0026922010825548284, 0.0025703759577207033, 0.0024772557054419373, 0.0023946012237186865, 0.002322911803100111, 0.0022603987653119053, 0.0022058814405393843, 0.002158353792659565, 0.002116991018748067, 0.002084316638586412, 0.002056850957831658, 0.0020302568956148794, 0.0020087704620721054, 0.001988648917954224, 0.001968002475033398, 0.0019551977090424472, 0.001939757017491064, 0.0019259160583760396, 0.0019115894312520935]\n"
     ]
    },
    {
     "data": {
      "application/vnd.jupyter.widget-view+json": {
       "model_id": "134b0831e0b54c2188aede6fe11337be",
       "version_major": 2,
       "version_minor": 0
      },
      "text/plain": [
       "0it [00:00, ?it/s]"
      ]
     },
     "metadata": {},
     "output_type": "display_data"
    },
    {
     "name": "stdout",
     "output_type": "stream",
     "text": [
      "Loss of train: 0.00179\n",
      "Loss of val: 0.00190\n",
      "Loss of test: 0.00179\n",
      "Loss of gw_test: 0.00182\n",
      "[0.0028761685345458, 0.0026922010825548284, 0.0025703759577207033, 0.0024772557054419373, 0.0023946012237186865, 0.002322911803100111, 0.0022603987653119053, 0.0022058814405393843, 0.002158353792659565, 0.002116991018748067, 0.002084316638586412, 0.002056850957831658, 0.0020302568956148794, 0.0020087704620721054, 0.001988648917954224, 0.001968002475033398, 0.0019551977090424472, 0.001939757017491064, 0.0019259160583760396, 0.0019115894312520935, 0.0018996331117393818]\n"
     ]
    },
    {
     "data": {
      "application/vnd.jupyter.widget-view+json": {
       "model_id": "86b94d0814334a02a7ac9d6e17ff1860",
       "version_major": 2,
       "version_minor": 0
      },
      "text/plain": [
       "0it [00:00, ?it/s]"
      ]
     },
     "metadata": {},
     "output_type": "display_data"
    },
    {
     "name": "stdout",
     "output_type": "stream",
     "text": [
      "Loss of train: 0.00178\n",
      "Loss of val: 0.00189\n",
      "Loss of test: 0.00178\n",
      "Loss of gw_test: 0.00181\n",
      "[0.0028761685345458, 0.0026922010825548284, 0.0025703759577207033, 0.0024772557054419373, 0.0023946012237186865, 0.002322911803100111, 0.0022603987653119053, 0.0022058814405393843, 0.002158353792659565, 0.002116991018748067, 0.002084316638586412, 0.002056850957831658, 0.0020302568956148794, 0.0020087704620721054, 0.001988648917954224, 0.001968002475033398, 0.0019551977090424472, 0.001939757017491064, 0.0019259160583760396, 0.0019115894312520935, 0.0018996331117393818, 0.001889968683960241]\n"
     ]
    },
    {
     "data": {
      "application/vnd.jupyter.widget-view+json": {
       "model_id": "0c88f19b88e548e69cd2a5b89fb5a8cd",
       "version_major": 2,
       "version_minor": 0
      },
      "text/plain": [
       "0it [00:00, ?it/s]"
      ]
     },
     "metadata": {},
     "output_type": "display_data"
    },
    {
     "name": "stdout",
     "output_type": "stream",
     "text": [
      "Loss of train: 0.00177\n",
      "Loss of val: 0.00188\n",
      "Loss of test: 0.00177\n",
      "Loss of gw_test: 0.00180\n",
      "[0.0028761685345458, 0.0026922010825548284, 0.0025703759577207033, 0.0024772557054419373, 0.0023946012237186865, 0.002322911803100111, 0.0022603987653119053, 0.0022058814405393843, 0.002158353792659565, 0.002116991018748067, 0.002084316638586412, 0.002056850957831658, 0.0020302568956148794, 0.0020087704620721054, 0.001988648917954224, 0.001968002475033398, 0.0019551977090424472, 0.001939757017491064, 0.0019259160583760396, 0.0019115894312520935, 0.0018996331117393818, 0.001889968683960241, 0.001879789232795745]\n"
     ]
    },
    {
     "data": {
      "application/vnd.jupyter.widget-view+json": {
       "model_id": "7c782c915b8e40aea3983d7edc5067ca",
       "version_major": 2,
       "version_minor": 0
      },
      "text/plain": [
       "0it [00:00, ?it/s]"
      ]
     },
     "metadata": {},
     "output_type": "display_data"
    },
    {
     "name": "stdout",
     "output_type": "stream",
     "text": [
      "Loss of train: 0.00176\n",
      "Loss of val: 0.00187\n",
      "Loss of test: 0.00176\n",
      "Loss of gw_test: 0.00179\n",
      "[0.0028761685345458, 0.0026922010825548284, 0.0025703759577207033, 0.0024772557054419373, 0.0023946012237186865, 0.002322911803100111, 0.0022603987653119053, 0.0022058814405393843, 0.002158353792659565, 0.002116991018748067, 0.002084316638586412, 0.002056850957831658, 0.0020302568956148794, 0.0020087704620721054, 0.001988648917954224, 0.001968002475033398, 0.0019551977090424472, 0.001939757017491064, 0.0019259160583760396, 0.0019115894312520935, 0.0018996331117393818, 0.001889968683960241, 0.001879789232795745, 0.0018739670910370577]\n"
     ]
    },
    {
     "data": {
      "application/vnd.jupyter.widget-view+json": {
       "model_id": "130dc8df9be94c3a9854e13b5639a465",
       "version_major": 2,
       "version_minor": 0
      },
      "text/plain": [
       "0it [00:00, ?it/s]"
      ]
     },
     "metadata": {},
     "output_type": "display_data"
    },
    {
     "name": "stdout",
     "output_type": "stream",
     "text": [
      "Loss of train: 0.00175\n",
      "Loss of val: 0.00187\n",
      "Loss of test: 0.00176\n",
      "Loss of gw_test: 0.00179\n",
      "[0.0028761685345458, 0.0026922010825548284, 0.0025703759577207033, 0.0024772557054419373, 0.0023946012237186865, 0.002322911803100111, 0.0022603987653119053, 0.0022058814405393843, 0.002158353792659565, 0.002116991018748067, 0.002084316638586412, 0.002056850957831658, 0.0020302568956148794, 0.0020087704620721054, 0.001988648917954224, 0.001968002475033398, 0.0019551977090424472, 0.001939757017491064, 0.0019259160583760396, 0.0019115894312520935, 0.0018996331117393818, 0.001889968683960241, 0.001879789232795745, 0.0018739670910370577, 0.0018660421904567164]\n"
     ]
    },
    {
     "data": {
      "application/vnd.jupyter.widget-view+json": {
       "model_id": "bfc67a800cfa4b7fa73aeef6f2931d26",
       "version_major": 2,
       "version_minor": 0
      },
      "text/plain": [
       "0it [00:00, ?it/s]"
      ]
     },
     "metadata": {},
     "output_type": "display_data"
    },
    {
     "name": "stdout",
     "output_type": "stream",
     "text": [
      "Loss of train: 0.00175\n",
      "Loss of val: 0.00186\n",
      "Loss of test: 0.00175\n",
      "Loss of gw_test: 0.00177\n",
      "[0.0028761685345458, 0.0026922010825548284, 0.0025703759577207033, 0.0024772557054419373, 0.0023946012237186865, 0.002322911803100111, 0.0022603987653119053, 0.0022058814405393843, 0.002158353792659565, 0.002116991018748067, 0.002084316638586412, 0.002056850957831658, 0.0020302568956148794, 0.0020087704620721054, 0.001988648917954224, 0.001968002475033398, 0.0019551977090424472, 0.001939757017491064, 0.0019259160583760396, 0.0019115894312520935, 0.0018996331117393818, 0.001889968683960241, 0.001879789232795745, 0.0018739670910370577, 0.0018660421904567164, 0.0018591128134580527]\n"
     ]
    },
    {
     "data": {
      "application/vnd.jupyter.widget-view+json": {
       "model_id": "aa707523e5e747c8a19ffdc1e62fe10c",
       "version_major": 2,
       "version_minor": 0
      },
      "text/plain": [
       "0it [00:00, ?it/s]"
      ]
     },
     "metadata": {},
     "output_type": "display_data"
    },
    {
     "name": "stdout",
     "output_type": "stream",
     "text": [
      "Loss of train: 0.00174\n",
      "Loss of val: 0.00185\n",
      "Loss of test: 0.00174\n",
      "Loss of gw_test: 0.00177\n",
      "[0.0028761685345458, 0.0026922010825548284, 0.0025703759577207033, 0.0024772557054419373, 0.0023946012237186865, 0.002322911803100111, 0.0022603987653119053, 0.0022058814405393843, 0.002158353792659565, 0.002116991018748067, 0.002084316638586412, 0.002056850957831658, 0.0020302568956148794, 0.0020087704620721054, 0.001988648917954224, 0.001968002475033398, 0.0019551977090424472, 0.001939757017491064, 0.0019259160583760396, 0.0019115894312520935, 0.0018996331117393818, 0.001889968683960241, 0.001879789232795745, 0.0018739670910370577, 0.0018660421904567164, 0.0018591128134580527, 0.0018522445746592547]\n"
     ]
    },
    {
     "data": {
      "application/vnd.jupyter.widget-view+json": {
       "model_id": "26c8f1bc472149d0bc28f91ff169128f",
       "version_major": 2,
       "version_minor": 0
      },
      "text/plain": [
       "0it [00:00, ?it/s]"
      ]
     },
     "metadata": {},
     "output_type": "display_data"
    },
    {
     "name": "stdout",
     "output_type": "stream",
     "text": [
      "Loss of train: 0.00173\n",
      "Loss of val: 0.00185\n",
      "Loss of test: 0.00174\n",
      "Loss of gw_test: 0.00176\n",
      "[0.0028761685345458, 0.0026922010825548284, 0.0025703759577207033, 0.0024772557054419373, 0.0023946012237186865, 0.002322911803100111, 0.0022603987653119053, 0.0022058814405393843, 0.002158353792659565, 0.002116991018748067, 0.002084316638586412, 0.002056850957831658, 0.0020302568956148794, 0.0020087704620721054, 0.001988648917954224, 0.001968002475033398, 0.0019551977090424472, 0.001939757017491064, 0.0019259160583760396, 0.0019115894312520935, 0.0018996331117393818, 0.001889968683960241, 0.001879789232795745, 0.0018739670910370577, 0.0018660421904567164, 0.0018591128134580527, 0.0018522445746592547, 0.0018460771225689723]\n"
     ]
    },
    {
     "data": {
      "application/vnd.jupyter.widget-view+json": {
       "model_id": "d6b05c5eab3b49f791c586b4a38d6f84",
       "version_major": 2,
       "version_minor": 0
      },
      "text/plain": [
       "0it [00:00, ?it/s]"
      ]
     },
     "metadata": {},
     "output_type": "display_data"
    },
    {
     "name": "stdout",
     "output_type": "stream",
     "text": [
      "Loss of train: 0.00172\n",
      "Loss of val: 0.00184\n",
      "Loss of test: 0.00173\n",
      "Loss of gw_test: 0.00175\n",
      "[0.0028761685345458, 0.0026922010825548284, 0.0025703759577207033, 0.0024772557054419373, 0.0023946012237186865, 0.002322911803100111, 0.0022603987653119053, 0.0022058814405393843, 0.002158353792659565, 0.002116991018748067, 0.002084316638586412, 0.002056850957831658, 0.0020302568956148794, 0.0020087704620721054, 0.001988648917954224, 0.001968002475033398, 0.0019551977090424472, 0.001939757017491064, 0.0019259160583760396, 0.0019115894312520935, 0.0018996331117393818, 0.001889968683960241, 0.001879789232795745, 0.0018739670910370577, 0.0018660421904567164, 0.0018591128134580527, 0.0018522445746592547, 0.0018460771225689723, 0.0018388561847221872]\n"
     ]
    },
    {
     "data": {
      "application/vnd.jupyter.widget-view+json": {
       "model_id": "5eddad01be1d4908ae2033a019235a57",
       "version_major": 2,
       "version_minor": 0
      },
      "text/plain": [
       "0it [00:00, ?it/s]"
      ]
     },
     "metadata": {},
     "output_type": "display_data"
    },
    {
     "name": "stdout",
     "output_type": "stream",
     "text": [
      "Loss of train: 0.00171\n",
      "Loss of val: 0.00183\n",
      "Loss of test: 0.00172\n",
      "Loss of gw_test: 0.00174\n",
      "[0.0028761685345458, 0.0026922010825548284, 0.0025703759577207033, 0.0024772557054419373, 0.0023946012237186865, 0.002322911803100111, 0.0022603987653119053, 0.0022058814405393843, 0.002158353792659565, 0.002116991018748067, 0.002084316638586412, 0.002056850957831658, 0.0020302568956148794, 0.0020087704620721054, 0.001988648917954224, 0.001968002475033398, 0.0019551977090424472, 0.001939757017491064, 0.0019259160583760396, 0.0019115894312520935, 0.0018996331117393818, 0.001889968683960241, 0.001879789232795745, 0.0018739670910370577, 0.0018660421904567164, 0.0018591128134580527, 0.0018522445746592547, 0.0018460771225689723, 0.0018388561847221872, 0.0018327130446295558]\n"
     ]
    },
    {
     "data": {
      "application/vnd.jupyter.widget-view+json": {
       "model_id": "70945ad31cfd4a72b56c5bc45adb630c",
       "version_major": 2,
       "version_minor": 0
      },
      "text/plain": [
       "0it [00:00, ?it/s]"
      ]
     },
     "metadata": {},
     "output_type": "display_data"
    },
    {
     "name": "stdout",
     "output_type": "stream",
     "text": [
      "Loss of train: 0.00170\n",
      "Loss of val: 0.00183\n",
      "Loss of test: 0.00172\n",
      "Loss of gw_test: 0.00173\n",
      "[0.0028761685345458, 0.0026922010825548284, 0.0025703759577207033, 0.0024772557054419373, 0.0023946012237186865, 0.002322911803100111, 0.0022603987653119053, 0.0022058814405393843, 0.002158353792659565, 0.002116991018748067, 0.002084316638586412, 0.002056850957831658, 0.0020302568956148794, 0.0020087704620721054, 0.001988648917954224, 0.001968002475033398, 0.0019551977090424472, 0.001939757017491064, 0.0019259160583760396, 0.0019115894312520935, 0.0018996331117393818, 0.001889968683960241, 0.001879789232795745, 0.0018739670910370577, 0.0018660421904567164, 0.0018591128134580527, 0.0018522445746592547, 0.0018460771225689723, 0.0018388561847221872, 0.0018327130446295558, 0.0018302853101064226]\n"
     ]
    },
    {
     "data": {
      "application/vnd.jupyter.widget-view+json": {
       "model_id": "fe7106dfe00b47cbad772580d3d05950",
       "version_major": 2,
       "version_minor": 0
      },
      "text/plain": [
       "0it [00:00, ?it/s]"
      ]
     },
     "metadata": {},
     "output_type": "display_data"
    },
    {
     "name": "stdout",
     "output_type": "stream",
     "text": [
      "Loss of train: 0.00170\n",
      "Loss of val: 0.00182\n",
      "Loss of test: 0.00171\n",
      "Loss of gw_test: 0.00173\n",
      "[0.0028761685345458, 0.0026922010825548284, 0.0025703759577207033, 0.0024772557054419373, 0.0023946012237186865, 0.002322911803100111, 0.0022603987653119053, 0.0022058814405393843, 0.002158353792659565, 0.002116991018748067, 0.002084316638586412, 0.002056850957831658, 0.0020302568956148794, 0.0020087704620721054, 0.001988648917954224, 0.001968002475033398, 0.0019551977090424472, 0.001939757017491064, 0.0019259160583760396, 0.0019115894312520935, 0.0018996331117393818, 0.001889968683960241, 0.001879789232795745, 0.0018739670910370577, 0.0018660421904567164, 0.0018591128134580527, 0.0018522445746592547, 0.0018460771225689723, 0.0018388561847221872, 0.0018327130446295558, 0.0018302853101064226, 0.0018232079288171953]\n"
     ]
    },
    {
     "data": {
      "application/vnd.jupyter.widget-view+json": {
       "model_id": "3167d2ef9fb94d99be844a60be425b6c",
       "version_major": 2,
       "version_minor": 0
      },
      "text/plain": [
       "0it [00:00, ?it/s]"
      ]
     },
     "metadata": {},
     "output_type": "display_data"
    },
    {
     "name": "stdout",
     "output_type": "stream",
     "text": [
      "Loss of train: 0.00169\n",
      "Loss of val: 0.00182\n",
      "Loss of test: 0.00171\n",
      "Loss of gw_test: 0.00172\n",
      "[0.0028761685345458, 0.0026922010825548284, 0.0025703759577207033, 0.0024772557054419373, 0.0023946012237186865, 0.002322911803100111, 0.0022603987653119053, 0.0022058814405393843, 0.002158353792659565, 0.002116991018748067, 0.002084316638586412, 0.002056850957831658, 0.0020302568956148794, 0.0020087704620721054, 0.001988648917954224, 0.001968002475033398, 0.0019551977090424472, 0.001939757017491064, 0.0019259160583760396, 0.0019115894312520935, 0.0018996331117393818, 0.001889968683960241, 0.001879789232795745, 0.0018739670910370577, 0.0018660421904567164, 0.0018591128134580527, 0.0018522445746592547, 0.0018460771225689723, 0.0018388561847221872, 0.0018327130446295558, 0.0018302853101064226, 0.0018232079288171953, 0.001819820704319153]\n"
     ]
    },
    {
     "data": {
      "application/vnd.jupyter.widget-view+json": {
       "model_id": "cef818ad034b46d29b47b4c3594d19d4",
       "version_major": 2,
       "version_minor": 0
      },
      "text/plain": [
       "0it [00:00, ?it/s]"
      ]
     },
     "metadata": {},
     "output_type": "display_data"
    },
    {
     "name": "stdout",
     "output_type": "stream",
     "text": [
      "Loss of train: 0.00169\n",
      "Loss of val: 0.00182\n",
      "Loss of test: 0.00171\n",
      "Loss of gw_test: 0.00172\n",
      "[0.0028761685345458, 0.0026922010825548284, 0.0025703759577207033, 0.0024772557054419373, 0.0023946012237186865, 0.002322911803100111, 0.0022603987653119053, 0.0022058814405393843, 0.002158353792659565, 0.002116991018748067, 0.002084316638586412, 0.002056850957831658, 0.0020302568956148794, 0.0020087704620721054, 0.001988648917954224, 0.001968002475033398, 0.0019551977090424472, 0.001939757017491064, 0.0019259160583760396, 0.0019115894312520935, 0.0018996331117393818, 0.001889968683960241, 0.001879789232795745, 0.0018739670910370577, 0.0018660421904567164, 0.0018591128134580527, 0.0018522445746592547, 0.0018460771225689723, 0.0018388561847221872, 0.0018327130446295558, 0.0018302853101064226, 0.0018232079288171953, 0.001819820704319153, 0.0018163781877533357]\n"
     ]
    },
    {
     "data": {
      "application/vnd.jupyter.widget-view+json": {
       "model_id": "efeb27ba13544c22b18995a7249a4035",
       "version_major": 2,
       "version_minor": 0
      },
      "text/plain": [
       "0it [00:00, ?it/s]"
      ]
     },
     "metadata": {},
     "output_type": "display_data"
    },
    {
     "name": "stdout",
     "output_type": "stream",
     "text": [
      "Loss of train: 0.00168\n",
      "Loss of val: 0.00181\n",
      "Loss of test: 0.00170\n",
      "Loss of gw_test: 0.00171\n",
      "[0.0028761685345458, 0.0026922010825548284, 0.0025703759577207033, 0.0024772557054419373, 0.0023946012237186865, 0.002322911803100111, 0.0022603987653119053, 0.0022058814405393843, 0.002158353792659565, 0.002116991018748067, 0.002084316638586412, 0.002056850957831658, 0.0020302568956148794, 0.0020087704620721054, 0.001988648917954224, 0.001968002475033398, 0.0019551977090424472, 0.001939757017491064, 0.0019259160583760396, 0.0019115894312520935, 0.0018996331117393818, 0.001889968683960241, 0.001879789232795745, 0.0018739670910370577, 0.0018660421904567164, 0.0018591128134580527, 0.0018522445746592547, 0.0018460771225689723, 0.0018388561847221872, 0.0018327130446295558, 0.0018302853101064226, 0.0018232079288171953, 0.001819820704319153, 0.0018163781877533357, 0.0018116994587444473]\n"
     ]
    },
    {
     "data": {
      "application/vnd.jupyter.widget-view+json": {
       "model_id": "546746826644435c933549d091c31258",
       "version_major": 2,
       "version_minor": 0
      },
      "text/plain": [
       "0it [00:00, ?it/s]"
      ]
     },
     "metadata": {},
     "output_type": "display_data"
    },
    {
     "name": "stdout",
     "output_type": "stream",
     "text": [
      "Loss of train: 0.00168\n",
      "Loss of val: 0.00181\n",
      "Loss of test: 0.00170\n",
      "Loss of gw_test: 0.00171\n",
      "[0.0028761685345458, 0.0026922010825548284, 0.0025703759577207033, 0.0024772557054419373, 0.0023946012237186865, 0.002322911803100111, 0.0022603987653119053, 0.0022058814405393843, 0.002158353792659565, 0.002116991018748067, 0.002084316638586412, 0.002056850957831658, 0.0020302568956148794, 0.0020087704620721054, 0.001988648917954224, 0.001968002475033398, 0.0019551977090424472, 0.001939757017491064, 0.0019259160583760396, 0.0019115894312520935, 0.0018996331117393818, 0.001889968683960241, 0.001879789232795745, 0.0018739670910370577, 0.0018660421904567164, 0.0018591128134580527, 0.0018522445746592547, 0.0018460771225689723, 0.0018388561847221872, 0.0018327130446295558, 0.0018302853101064226, 0.0018232079288171953, 0.001819820704319153, 0.0018163781877533357, 0.0018116994587444473, 0.0018080620322645214]\n"
     ]
    },
    {
     "data": {
      "application/vnd.jupyter.widget-view+json": {
       "model_id": "02fc11ba44674a45acbbe552fbcc983c",
       "version_major": 2,
       "version_minor": 0
      },
      "text/plain": [
       "0it [00:00, ?it/s]"
      ]
     },
     "metadata": {},
     "output_type": "display_data"
    },
    {
     "name": "stdout",
     "output_type": "stream",
     "text": [
      "Loss of train: 0.00167\n",
      "Loss of val: 0.00181\n",
      "Loss of test: 0.00169\n",
      "Loss of gw_test: 0.00170\n",
      "[0.0028761685345458, 0.0026922010825548284, 0.0025703759577207033, 0.0024772557054419373, 0.0023946012237186865, 0.002322911803100111, 0.0022603987653119053, 0.0022058814405393843, 0.002158353792659565, 0.002116991018748067, 0.002084316638586412, 0.002056850957831658, 0.0020302568956148794, 0.0020087704620721054, 0.001988648917954224, 0.001968002475033398, 0.0019551977090424472, 0.001939757017491064, 0.0019259160583760396, 0.0019115894312520935, 0.0018996331117393818, 0.001889968683960241, 0.001879789232795745, 0.0018739670910370577, 0.0018660421904567164, 0.0018591128134580527, 0.0018522445746592547, 0.0018460771225689723, 0.0018388561847221872, 0.0018327130446295558, 0.0018302853101064226, 0.0018232079288171953, 0.001819820704319153, 0.0018163781877533357, 0.0018116994587444473, 0.0018080620322645214, 0.00180584459286706]\n"
     ]
    },
    {
     "data": {
      "application/vnd.jupyter.widget-view+json": {
       "model_id": "edcb964ec6a64f17bdb95f5862153f58",
       "version_major": 2,
       "version_minor": 0
      },
      "text/plain": [
       "0it [00:00, ?it/s]"
      ]
     },
     "metadata": {},
     "output_type": "display_data"
    },
    {
     "name": "stdout",
     "output_type": "stream",
     "text": [
      "Loss of train: 0.00167\n",
      "Loss of val: 0.00180\n",
      "Loss of test: 0.00169\n",
      "Loss of gw_test: 0.00170\n",
      "[0.0028761685345458, 0.0026922010825548284, 0.0025703759577207033, 0.0024772557054419373, 0.0023946012237186865, 0.002322911803100111, 0.0022603987653119053, 0.0022058814405393843, 0.002158353792659565, 0.002116991018748067, 0.002084316638586412, 0.002056850957831658, 0.0020302568956148794, 0.0020087704620721054, 0.001988648917954224, 0.001968002475033398, 0.0019551977090424472, 0.001939757017491064, 0.0019259160583760396, 0.0019115894312520935, 0.0018996331117393818, 0.001889968683960241, 0.001879789232795745, 0.0018739670910370577, 0.0018660421904567164, 0.0018591128134580527, 0.0018522445746592547, 0.0018460771225689723, 0.0018388561847221872, 0.0018327130446295558, 0.0018302853101064226, 0.0018232079288171953, 0.001819820704319153, 0.0018163781877533357, 0.0018116994587444473, 0.0018080620322645214, 0.00180584459286706, 0.0018022792699996792]\n"
     ]
    },
    {
     "data": {
      "application/vnd.jupyter.widget-view+json": {
       "model_id": "aa01def5f4734c508d978bcf5a08aca9",
       "version_major": 2,
       "version_minor": 0
      },
      "text/plain": [
       "0it [00:00, ?it/s]"
      ]
     },
     "metadata": {},
     "output_type": "display_data"
    },
    {
     "name": "stdout",
     "output_type": "stream",
     "text": [
      "Loss of train: 0.00166\n",
      "Loss of val: 0.00180\n",
      "Loss of test: 0.00168\n",
      "Loss of gw_test: 0.00169\n",
      "[0.0028761685345458, 0.0026922010825548284, 0.0025703759577207033, 0.0024772557054419373, 0.0023946012237186865, 0.002322911803100111, 0.0022603987653119053, 0.0022058814405393843, 0.002158353792659565, 0.002116991018748067, 0.002084316638586412, 0.002056850957831658, 0.0020302568956148794, 0.0020087704620721054, 0.001988648917954224, 0.001968002475033398, 0.0019551977090424472, 0.001939757017491064, 0.0019259160583760396, 0.0019115894312520935, 0.0018996331117393818, 0.001889968683960241, 0.001879789232795745, 0.0018739670910370577, 0.0018660421904567164, 0.0018591128134580527, 0.0018522445746592547, 0.0018460771225689723, 0.0018388561847221872, 0.0018327130446295558, 0.0018302853101064226, 0.0018232079288171953, 0.001819820704319153, 0.0018163781877533357, 0.0018116994587444473, 0.0018080620322645214, 0.00180584459286706, 0.0018022792699996792, 0.0017975423398240318]\n"
     ]
    },
    {
     "data": {
      "application/vnd.jupyter.widget-view+json": {
       "model_id": "5347697157964b18b85b481a6b66357d",
       "version_major": 2,
       "version_minor": 0
      },
      "text/plain": [
       "0it [00:00, ?it/s]"
      ]
     },
     "metadata": {},
     "output_type": "display_data"
    },
    {
     "name": "stdout",
     "output_type": "stream",
     "text": [
      "Loss of train: 0.00166\n",
      "Loss of val: 0.00179\n",
      "Loss of test: 0.00168\n",
      "Loss of gw_test: 0.00169\n",
      "[0.0028761685345458, 0.0026922010825548284, 0.0025703759577207033, 0.0024772557054419373, 0.0023946012237186865, 0.002322911803100111, 0.0022603987653119053, 0.0022058814405393843, 0.002158353792659565, 0.002116991018748067, 0.002084316638586412, 0.002056850957831658, 0.0020302568956148794, 0.0020087704620721054, 0.001988648917954224, 0.001968002475033398, 0.0019551977090424472, 0.001939757017491064, 0.0019259160583760396, 0.0019115894312520935, 0.0018996331117393818, 0.001889968683960241, 0.001879789232795745, 0.0018739670910370577, 0.0018660421904567164, 0.0018591128134580527, 0.0018522445746592547, 0.0018460771225689723, 0.0018388561847221872, 0.0018327130446295558, 0.0018302853101064226, 0.0018232079288171953, 0.001819820704319153, 0.0018163781877533357, 0.0018116994587444473, 0.0018080620322645214, 0.00180584459286706, 0.0018022792699996792, 0.0017975423398240318, 0.0017931683774489744]\n"
     ]
    },
    {
     "data": {
      "application/vnd.jupyter.widget-view+json": {
       "model_id": "58973c24171f4b7fb0d11b4506ff4e45",
       "version_major": 2,
       "version_minor": 0
      },
      "text/plain": [
       "0it [00:00, ?it/s]"
      ]
     },
     "metadata": {},
     "output_type": "display_data"
    },
    {
     "name": "stdout",
     "output_type": "stream",
     "text": [
      "Loss of train: 0.00165\n",
      "Loss of val: 0.00179\n",
      "Loss of test: 0.00168\n",
      "Loss of gw_test: 0.00169\n",
      "[0.0028761685345458, 0.0026922010825548284, 0.0025703759577207033, 0.0024772557054419373, 0.0023946012237186865, 0.002322911803100111, 0.0022603987653119053, 0.0022058814405393843, 0.002158353792659565, 0.002116991018748067, 0.002084316638586412, 0.002056850957831658, 0.0020302568956148794, 0.0020087704620721054, 0.001988648917954224, 0.001968002475033398, 0.0019551977090424472, 0.001939757017491064, 0.0019259160583760396, 0.0019115894312520935, 0.0018996331117393818, 0.001889968683960241, 0.001879789232795745, 0.0018739670910370577, 0.0018660421904567164, 0.0018591128134580527, 0.0018522445746592547, 0.0018460771225689723, 0.0018388561847221872, 0.0018327130446295558, 0.0018302853101064226, 0.0018232079288171953, 0.001819820704319153, 0.0018163781877533357, 0.0018116994587444473, 0.0018080620322645214, 0.00180584459286706, 0.0018022792699996792, 0.0017975423398240318, 0.0017931683774489744, 0.0017904843783929608]\n"
     ]
    },
    {
     "data": {
      "application/vnd.jupyter.widget-view+json": {
       "model_id": "e5d4e2fe52d845de87455bea029fb4ae",
       "version_major": 2,
       "version_minor": 0
      },
      "text/plain": [
       "0it [00:00, ?it/s]"
      ]
     },
     "metadata": {},
     "output_type": "display_data"
    },
    {
     "name": "stdout",
     "output_type": "stream",
     "text": [
      "Loss of train: 0.00165\n",
      "Loss of val: 0.00179\n",
      "Loss of test: 0.00168\n",
      "Loss of gw_test: 0.00169\n",
      "[0.0028761685345458, 0.0026922010825548284, 0.0025703759577207033, 0.0024772557054419373, 0.0023946012237186865, 0.002322911803100111, 0.0022603987653119053, 0.0022058814405393843, 0.002158353792659565, 0.002116991018748067, 0.002084316638586412, 0.002056850957831658, 0.0020302568956148794, 0.0020087704620721054, 0.001988648917954224, 0.001968002475033398, 0.0019551977090424472, 0.001939757017491064, 0.0019259160583760396, 0.0019115894312520935, 0.0018996331117393818, 0.001889968683960241, 0.001879789232795745, 0.0018739670910370577, 0.0018660421904567164, 0.0018591128134580527, 0.0018522445746592547, 0.0018460771225689723, 0.0018388561847221872, 0.0018327130446295558, 0.0018302853101064226, 0.0018232079288171953, 0.001819820704319153, 0.0018163781877533357, 0.0018116994587444473, 0.0018080620322645214, 0.00180584459286706, 0.0018022792699996792, 0.0017975423398240318, 0.0017931683774489744, 0.0017904843783929608, 0.0017875215860756288]\n"
     ]
    },
    {
     "data": {
      "application/vnd.jupyter.widget-view+json": {
       "model_id": "10bb421f20c84b4999cebb612cbe31dd",
       "version_major": 2,
       "version_minor": 0
      },
      "text/plain": [
       "0it [00:00, ?it/s]"
      ]
     },
     "metadata": {},
     "output_type": "display_data"
    },
    {
     "name": "stdout",
     "output_type": "stream",
     "text": [
      "Loss of train: 0.00164\n",
      "Loss of val: 0.00179\n",
      "Loss of test: 0.00167\n",
      "Loss of gw_test: 0.00167\n",
      "[0.0028761685345458, 0.0026922010825548284, 0.0025703759577207033, 0.0024772557054419373, 0.0023946012237186865, 0.002322911803100111, 0.0022603987653119053, 0.0022058814405393843, 0.002158353792659565, 0.002116991018748067, 0.002084316638586412, 0.002056850957831658, 0.0020302568956148794, 0.0020087704620721054, 0.001988648917954224, 0.001968002475033398, 0.0019551977090424472, 0.001939757017491064, 0.0019259160583760396, 0.0019115894312520935, 0.0018996331117393818, 0.001889968683960241, 0.001879789232795745, 0.0018739670910370577, 0.0018660421904567164, 0.0018591128134580527, 0.0018522445746592547, 0.0018460771225689723, 0.0018388561847221872, 0.0018327130446295558, 0.0018302853101064226, 0.0018232079288171953, 0.001819820704319153, 0.0018163781877533357, 0.0018116994587444473, 0.0018080620322645214, 0.00180584459286706, 0.0018022792699996792, 0.0017975423398240318, 0.0017931683774489744, 0.0017904843783929608, 0.0017875215860756288, 0.0017857589218052859]\n"
     ]
    },
    {
     "data": {
      "application/vnd.jupyter.widget-view+json": {
       "model_id": "7665f9c27e32416daa660dc6e0b00fb0",
       "version_major": 2,
       "version_minor": 0
      },
      "text/plain": [
       "0it [00:00, ?it/s]"
      ]
     },
     "metadata": {},
     "output_type": "display_data"
    },
    {
     "name": "stdout",
     "output_type": "stream",
     "text": [
      "Loss of train: 0.00164\n",
      "Loss of val: 0.00178\n",
      "Loss of test: 0.00167\n",
      "Loss of gw_test: 0.00167\n",
      "[0.0028761685345458, 0.0026922010825548284, 0.0025703759577207033, 0.0024772557054419373, 0.0023946012237186865, 0.002322911803100111, 0.0022603987653119053, 0.0022058814405393843, 0.002158353792659565, 0.002116991018748067, 0.002084316638586412, 0.002056850957831658, 0.0020302568956148794, 0.0020087704620721054, 0.001988648917954224, 0.001968002475033398, 0.0019551977090424472, 0.001939757017491064, 0.0019259160583760396, 0.0019115894312520935, 0.0018996331117393818, 0.001889968683960241, 0.001879789232795745, 0.0018739670910370577, 0.0018660421904567164, 0.0018591128134580527, 0.0018522445746592547, 0.0018460771225689723, 0.0018388561847221872, 0.0018327130446295558, 0.0018302853101064226, 0.0018232079288171953, 0.001819820704319153, 0.0018163781877533357, 0.0018116994587444473, 0.0018080620322645214, 0.00180584459286706, 0.0018022792699996792, 0.0017975423398240318, 0.0017931683774489744, 0.0017904843783929608, 0.0017875215860756288, 0.0017857589218052859, 0.001784893547531182]\n"
     ]
    },
    {
     "data": {
      "application/vnd.jupyter.widget-view+json": {
       "model_id": "df8869e2a2974a18a99d530f6d555b5e",
       "version_major": 2,
       "version_minor": 0
      },
      "text/plain": [
       "0it [00:00, ?it/s]"
      ]
     },
     "metadata": {},
     "output_type": "display_data"
    },
    {
     "name": "stdout",
     "output_type": "stream",
     "text": [
      "Loss of train: 0.00163\n",
      "Loss of val: 0.00178\n",
      "Loss of test: 0.00166\n",
      "Loss of gw_test: 0.00166\n",
      "[0.0028761685345458, 0.0026922010825548284, 0.0025703759577207033, 0.0024772557054419373, 0.0023946012237186865, 0.002322911803100111, 0.0022603987653119053, 0.0022058814405393843, 0.002158353792659565, 0.002116991018748067, 0.002084316638586412, 0.002056850957831658, 0.0020302568956148794, 0.0020087704620721054, 0.001988648917954224, 0.001968002475033398, 0.0019551977090424472, 0.001939757017491064, 0.0019259160583760396, 0.0019115894312520935, 0.0018996331117393818, 0.001889968683960241, 0.001879789232795745, 0.0018739670910370577, 0.0018660421904567164, 0.0018591128134580527, 0.0018522445746592547, 0.0018460771225689723, 0.0018388561847221872, 0.0018327130446295558, 0.0018302853101064226, 0.0018232079288171953, 0.001819820704319153, 0.0018163781877533357, 0.0018116994587444473, 0.0018080620322645214, 0.00180584459286706, 0.0018022792699996792, 0.0017975423398240318, 0.0017931683774489744, 0.0017904843783929608, 0.0017875215860756288, 0.0017857589218052859, 0.001784893547531182, 0.0017800579692728686]\n"
     ]
    },
    {
     "data": {
      "application/vnd.jupyter.widget-view+json": {
       "model_id": "30dcd5ba0ef74dfebf689ea740830d36",
       "version_major": 2,
       "version_minor": 0
      },
      "text/plain": [
       "0it [00:00, ?it/s]"
      ]
     },
     "metadata": {},
     "output_type": "display_data"
    },
    {
     "name": "stdout",
     "output_type": "stream",
     "text": [
      "Loss of train: 0.00163\n",
      "Loss of val: 0.00178\n",
      "Loss of test: 0.00166\n",
      "Loss of gw_test: 0.00165\n",
      "[0.0028761685345458, 0.0026922010825548284, 0.0025703759577207033, 0.0024772557054419373, 0.0023946012237186865, 0.002322911803100111, 0.0022603987653119053, 0.0022058814405393843, 0.002158353792659565, 0.002116991018748067, 0.002084316638586412, 0.002056850957831658, 0.0020302568956148794, 0.0020087704620721054, 0.001988648917954224, 0.001968002475033398, 0.0019551977090424472, 0.001939757017491064, 0.0019259160583760396, 0.0019115894312520935, 0.0018996331117393818, 0.001889968683960241, 0.001879789232795745, 0.0018739670910370577, 0.0018660421904567164, 0.0018591128134580527, 0.0018522445746592547, 0.0018460771225689723, 0.0018388561847221872, 0.0018327130446295558, 0.0018302853101064226, 0.0018232079288171953, 0.001819820704319153, 0.0018163781877533357, 0.0018116994587444473, 0.0018080620322645214, 0.00180584459286706, 0.0018022792699996792, 0.0017975423398240318, 0.0017931683774489744, 0.0017904843783929608, 0.0017875215860756288, 0.0017857589218052859, 0.001784893547531182, 0.0017800579692728686, 0.001779316991852314]\n"
     ]
    },
    {
     "data": {
      "application/vnd.jupyter.widget-view+json": {
       "model_id": "6ed475d82eed426cb45ab8f1de24745a",
       "version_major": 2,
       "version_minor": 0
      },
      "text/plain": [
       "0it [00:00, ?it/s]"
      ]
     },
     "metadata": {},
     "output_type": "display_data"
    },
    {
     "name": "stdout",
     "output_type": "stream",
     "text": [
      "Loss of train: 0.00162\n",
      "Loss of val: 0.00178\n",
      "Loss of test: 0.00166\n",
      "Loss of gw_test: 0.00166\n",
      "[0.0028761685345458, 0.0026922010825548284, 0.0025703759577207033, 0.0024772557054419373, 0.0023946012237186865, 0.002322911803100111, 0.0022603987653119053, 0.0022058814405393843, 0.002158353792659565, 0.002116991018748067, 0.002084316638586412, 0.002056850957831658, 0.0020302568956148794, 0.0020087704620721054, 0.001988648917954224, 0.001968002475033398, 0.0019551977090424472, 0.001939757017491064, 0.0019259160583760396, 0.0019115894312520935, 0.0018996331117393818, 0.001889968683960241, 0.001879789232795745, 0.0018739670910370577, 0.0018660421904567164, 0.0018591128134580527, 0.0018522445746592547, 0.0018460771225689723, 0.0018388561847221872, 0.0018327130446295558, 0.0018302853101064226, 0.0018232079288171953, 0.001819820704319153, 0.0018163781877533357, 0.0018116994587444473, 0.0018080620322645214, 0.00180584459286706, 0.0018022792699996792, 0.0017975423398240318, 0.0017931683774489744, 0.0017904843783929608, 0.0017875215860756288, 0.0017857589218052859, 0.001784893547531182, 0.0017800579692728686, 0.001779316991852314, 0.0017762804926731227]\n"
     ]
    },
    {
     "data": {
      "application/vnd.jupyter.widget-view+json": {
       "model_id": "64c2c716d4ce4cfc8078bf264f540026",
       "version_major": 2,
       "version_minor": 0
      },
      "text/plain": [
       "0it [00:00, ?it/s]"
      ]
     },
     "metadata": {},
     "output_type": "display_data"
    },
    {
     "name": "stdout",
     "output_type": "stream",
     "text": [
      "Loss of train: 0.00162\n",
      "Loss of val: 0.00177\n",
      "Loss of test: 0.00165\n",
      "Loss of gw_test: 0.00166\n",
      "[0.0028761685345458, 0.0026922010825548284, 0.0025703759577207033, 0.0024772557054419373, 0.0023946012237186865, 0.002322911803100111, 0.0022603987653119053, 0.0022058814405393843, 0.002158353792659565, 0.002116991018748067, 0.002084316638586412, 0.002056850957831658, 0.0020302568956148794, 0.0020087704620721054, 0.001988648917954224, 0.001968002475033398, 0.0019551977090424472, 0.001939757017491064, 0.0019259160583760396, 0.0019115894312520935, 0.0018996331117393818, 0.001889968683960241, 0.001879789232795745, 0.0018739670910370577, 0.0018660421904567164, 0.0018591128134580527, 0.0018522445746592547, 0.0018460771225689723, 0.0018388561847221872, 0.0018327130446295558, 0.0018302853101064226, 0.0018232079288171953, 0.001819820704319153, 0.0018163781877533357, 0.0018116994587444473, 0.0018080620322645214, 0.00180584459286706, 0.0018022792699996792, 0.0017975423398240318, 0.0017931683774489744, 0.0017904843783929608, 0.0017875215860756288, 0.0017857589218052859, 0.001784893547531182, 0.0017800579692728686, 0.001779316991852314, 0.0017762804926731227, 0.0017728716361601793]\n"
     ]
    },
    {
     "data": {
      "application/vnd.jupyter.widget-view+json": {
       "model_id": "8e93f9af3a3f4a289d070dbcec0d1a82",
       "version_major": 2,
       "version_minor": 0
      },
      "text/plain": [
       "0it [00:00, ?it/s]"
      ]
     },
     "metadata": {},
     "output_type": "display_data"
    },
    {
     "name": "stdout",
     "output_type": "stream",
     "text": [
      "Loss of train: 0.00162\n",
      "Loss of val: 0.00177\n",
      "Loss of test: 0.00165\n",
      "Loss of gw_test: 0.00166\n",
      "[0.0028761685345458, 0.0026922010825548284, 0.0025703759577207033, 0.0024772557054419373, 0.0023946012237186865, 0.002322911803100111, 0.0022603987653119053, 0.0022058814405393843, 0.002158353792659565, 0.002116991018748067, 0.002084316638586412, 0.002056850957831658, 0.0020302568956148794, 0.0020087704620721054, 0.001988648917954224, 0.001968002475033398, 0.0019551977090424472, 0.001939757017491064, 0.0019259160583760396, 0.0019115894312520935, 0.0018996331117393818, 0.001889968683960241, 0.001879789232795745, 0.0018739670910370577, 0.0018660421904567164, 0.0018591128134580527, 0.0018522445746592547, 0.0018460771225689723, 0.0018388561847221872, 0.0018327130446295558, 0.0018302853101064226, 0.0018232079288171953, 0.001819820704319153, 0.0018163781877533357, 0.0018116994587444473, 0.0018080620322645214, 0.00180584459286706, 0.0018022792699996792, 0.0017975423398240318, 0.0017931683774489744, 0.0017904843783929608, 0.0017875215860756288, 0.0017857589218052859, 0.001784893547531182, 0.0017800579692728686, 0.001779316991852314, 0.0017762804926731227, 0.0017728716361601793, 0.0017707800205138]\n"
     ]
    },
    {
     "data": {
      "application/vnd.jupyter.widget-view+json": {
       "model_id": "c0fccaca67654abd86144956da6e3177",
       "version_major": 2,
       "version_minor": 0
      },
      "text/plain": [
       "0it [00:00, ?it/s]"
      ]
     },
     "metadata": {},
     "output_type": "display_data"
    },
    {
     "name": "stdout",
     "output_type": "stream",
     "text": [
      "Loss of train: 0.00161\n",
      "Loss of val: 0.00177\n",
      "Loss of test: 0.00165\n",
      "Loss of gw_test: 0.00165\n",
      "[0.0028761685345458, 0.0026922010825548284, 0.0025703759577207033, 0.0024772557054419373, 0.0023946012237186865, 0.002322911803100111, 0.0022603987653119053, 0.0022058814405393843, 0.002158353792659565, 0.002116991018748067, 0.002084316638586412, 0.002056850957831658, 0.0020302568956148794, 0.0020087704620721054, 0.001988648917954224, 0.001968002475033398, 0.0019551977090424472, 0.001939757017491064, 0.0019259160583760396, 0.0019115894312520935, 0.0018996331117393818, 0.001889968683960241, 0.001879789232795745, 0.0018739670910370577, 0.0018660421904567164, 0.0018591128134580527, 0.0018522445746592547, 0.0018460771225689723, 0.0018388561847221872, 0.0018327130446295558, 0.0018302853101064226, 0.0018232079288171953, 0.001819820704319153, 0.0018163781877533357, 0.0018116994587444473, 0.0018080620322645214, 0.00180584459286706, 0.0018022792699996792, 0.0017975423398240318, 0.0017931683774489744, 0.0017904843783929608, 0.0017875215860756288, 0.0017857589218052859, 0.001784893547531182, 0.0017800579692728686, 0.001779316991852314, 0.0017762804926731227, 0.0017728716361601793, 0.0017707800205138, 0.001771263806214349]\n",
      "Break at 49\n"
     ]
    },
    {
     "data": {
      "application/vnd.jupyter.widget-view+json": {
       "model_id": "8e7dd6a46595446589205c619e35844f",
       "version_major": 2,
       "version_minor": 0
      },
      "text/plain": [
       "0it [00:00, ?it/s]"
      ]
     },
     "metadata": {},
     "output_type": "display_data"
    },
    {
     "name": "stdout",
     "output_type": "stream",
     "text": [
      "Loss of train: 0.00280\n",
      "Loss of val: 0.00288\n",
      "Loss of test: 0.00261\n",
      "Loss of gw_test: 0.00236\n",
      "[0.002875464157879343]\n"
     ]
    },
    {
     "data": {
      "application/vnd.jupyter.widget-view+json": {
       "model_id": "c56f211900024ad7a25aed486d756513",
       "version_major": 2,
       "version_minor": 0
      },
      "text/plain": [
       "0it [00:00, ?it/s]"
      ]
     },
     "metadata": {},
     "output_type": "display_data"
    },
    {
     "name": "stdout",
     "output_type": "stream",
     "text": [
      "Loss of train: 0.00262\n",
      "Loss of val: 0.00269\n",
      "Loss of test: 0.00249\n",
      "Loss of gw_test: 0.00232\n",
      "[0.002875464157879343, 0.0026911373867355955]\n"
     ]
    },
    {
     "data": {
      "application/vnd.jupyter.widget-view+json": {
       "model_id": "e00cef885e2f4c128c8be3f0867b064b",
       "version_major": 2,
       "version_minor": 0
      },
      "text/plain": [
       "0it [00:00, ?it/s]"
      ]
     },
     "metadata": {},
     "output_type": "display_data"
    },
    {
     "name": "stdout",
     "output_type": "stream",
     "text": [
      "Loss of train: 0.00251\n",
      "Loss of val: 0.00257\n",
      "Loss of test: 0.00240\n",
      "Loss of gw_test: 0.00229\n",
      "[0.002875464157879343, 0.0026911373867355955, 0.0025690521974814882]\n"
     ]
    },
    {
     "data": {
      "application/vnd.jupyter.widget-view+json": {
       "model_id": "2486db664cc7497c8b8b9c666715c501",
       "version_major": 2,
       "version_minor": 0
      },
      "text/plain": [
       "0it [00:00, ?it/s]"
      ]
     },
     "metadata": {},
     "output_type": "display_data"
    },
    {
     "name": "stdout",
     "output_type": "stream",
     "text": [
      "Loss of train: 0.00241\n",
      "Loss of val: 0.00248\n",
      "Loss of test: 0.00233\n",
      "Loss of gw_test: 0.00226\n",
      "[0.002875464157879343, 0.0026911373867355955, 0.0025690521974814882, 0.0024757135630076046]\n"
     ]
    },
    {
     "data": {
      "application/vnd.jupyter.widget-view+json": {
       "model_id": "b842d1de45344ef69b0682b4ee317639",
       "version_major": 2,
       "version_minor": 0
      },
      "text/plain": [
       "0it [00:00, ?it/s]"
      ]
     },
     "metadata": {},
     "output_type": "display_data"
    },
    {
     "name": "stdout",
     "output_type": "stream",
     "text": [
      "Loss of train: 0.00233\n",
      "Loss of val: 0.00239\n",
      "Loss of test: 0.00226\n",
      "Loss of gw_test: 0.00223\n",
      "[0.002875464157879343, 0.0026911373867355955, 0.0025690521974814882, 0.0024757135630076046, 0.0023929379324073713]\n"
     ]
    },
    {
     "data": {
      "application/vnd.jupyter.widget-view+json": {
       "model_id": "87608fa5b21a464fbd8615665bce72d2",
       "version_major": 2,
       "version_minor": 0
      },
      "text/plain": [
       "0it [00:00, ?it/s]"
      ]
     },
     "metadata": {},
     "output_type": "display_data"
    },
    {
     "name": "stdout",
     "output_type": "stream",
     "text": [
      "Loss of train: 0.00226\n",
      "Loss of val: 0.00232\n",
      "Loss of test: 0.00220\n",
      "Loss of gw_test: 0.00219\n",
      "[0.002875464157879343, 0.0026911373867355955, 0.0025690521974814882, 0.0024757135630076046, 0.0023929379324073713, 0.0023211349310837785]\n"
     ]
    },
    {
     "data": {
      "application/vnd.jupyter.widget-view+json": {
       "model_id": "fe60c85f2d8649a69770f8ad76bbbfae",
       "version_major": 2,
       "version_minor": 0
      },
      "text/plain": [
       "0it [00:00, ?it/s]"
      ]
     },
     "metadata": {},
     "output_type": "display_data"
    },
    {
     "name": "stdout",
     "output_type": "stream",
     "text": [
      "Loss of train: 0.00219\n",
      "Loss of val: 0.00226\n",
      "Loss of test: 0.00214\n",
      "Loss of gw_test: 0.00216\n",
      "[0.002875464157879343, 0.0026911373867355955, 0.0025690521974814882, 0.0024757135630076046, 0.0023929379324073713, 0.0023211349310837785, 0.0022583624501981863]\n"
     ]
    },
    {
     "data": {
      "application/vnd.jupyter.widget-view+json": {
       "model_id": "5bd104b61789468388738315aa425937",
       "version_major": 2,
       "version_minor": 0
      },
      "text/plain": [
       "0it [00:00, ?it/s]"
      ]
     },
     "metadata": {},
     "output_type": "display_data"
    },
    {
     "name": "stdout",
     "output_type": "stream",
     "text": [
      "Loss of train: 0.00214\n",
      "Loss of val: 0.00220\n",
      "Loss of test: 0.00209\n",
      "Loss of gw_test: 0.00212\n",
      "[0.002875464157879343, 0.0026911373867355955, 0.0025690521974814882, 0.0024757135630076046, 0.0023929379324073713, 0.0023211349310837785, 0.0022583624501981863, 0.002203602449855645]\n"
     ]
    },
    {
     "data": {
      "application/vnd.jupyter.widget-view+json": {
       "model_id": "3d7a0a31f279412a8b8ab3676626e604",
       "version_major": 2,
       "version_minor": 0
      },
      "text/plain": [
       "0it [00:00, ?it/s]"
      ]
     },
     "metadata": {},
     "output_type": "display_data"
    },
    {
     "name": "stdout",
     "output_type": "stream",
     "text": [
      "Loss of train: 0.00209\n",
      "Loss of val: 0.00216\n",
      "Loss of test: 0.00205\n",
      "Loss of gw_test: 0.00209\n",
      "[0.002875464157879343, 0.0026911373867355955, 0.0025690521974814882, 0.0024757135630076046, 0.0023929379324073713, 0.0023211349310837785, 0.0022583624501981863, 0.002203602449855645, 0.002155585749423517]\n"
     ]
    },
    {
     "data": {
      "application/vnd.jupyter.widget-view+json": {
       "model_id": "3fec33faf47b44179a9f60084a9dab57",
       "version_major": 2,
       "version_minor": 0
      },
      "text/plain": [
       "0it [00:00, ?it/s]"
      ]
     },
     "metadata": {},
     "output_type": "display_data"
    },
    {
     "name": "stdout",
     "output_type": "stream",
     "text": [
      "Loss of train: 0.00204\n",
      "Loss of val: 0.00211\n",
      "Loss of test: 0.00201\n",
      "Loss of gw_test: 0.00206\n",
      "[0.002875464157879343, 0.0026911373867355955, 0.0025690521974814882, 0.0024757135630076046, 0.0023929379324073713, 0.0023211349310837785, 0.0022583624501981863, 0.002203602449855645, 0.002155585749423517, 0.0021137628754075936]\n"
     ]
    },
    {
     "data": {
      "application/vnd.jupyter.widget-view+json": {
       "model_id": "a8c7056f70d84f80aca24b0623a4cee6",
       "version_major": 2,
       "version_minor": 0
      },
      "text/plain": [
       "0it [00:00, ?it/s]"
      ]
     },
     "metadata": {},
     "output_type": "display_data"
    },
    {
     "name": "stdout",
     "output_type": "stream",
     "text": [
      "Loss of train: 0.00201\n",
      "Loss of val: 0.00208\n",
      "Loss of test: 0.00198\n",
      "Loss of gw_test: 0.00203\n",
      "[0.002875464157879343, 0.0026911373867355955, 0.0025690521974814882, 0.0024757135630076046, 0.0023929379324073713, 0.0023211349310837785, 0.0022583624501981863, 0.002203602449855645, 0.002155585749423517, 0.0021137628754075936, 0.002080484218672174]\n"
     ]
    },
    {
     "data": {
      "application/vnd.jupyter.widget-view+json": {
       "model_id": "eea7c06b2f6c4b34bd2f252ffbd23270",
       "version_major": 2,
       "version_minor": 0
      },
      "text/plain": [
       "0it [00:00, ?it/s]"
      ]
     },
     "metadata": {},
     "output_type": "display_data"
    },
    {
     "name": "stdout",
     "output_type": "stream",
     "text": [
      "Loss of train: 0.00198\n",
      "Loss of val: 0.00205\n",
      "Loss of test: 0.00195\n",
      "Loss of gw_test: 0.00200\n",
      "[0.002875464157879343, 0.0026911373867355955, 0.0025690521974814882, 0.0024757135630076046, 0.0023929379324073713, 0.0023211349310837785, 0.0022583624501981863, 0.002203602449855645, 0.002155585749423517, 0.0021137628754075936, 0.002080484218672174, 0.0020523022364845925]\n"
     ]
    },
    {
     "data": {
      "application/vnd.jupyter.widget-view+json": {
       "model_id": "537ad75f234e4c398c8ffa83cf36b82b",
       "version_major": 2,
       "version_minor": 0
      },
      "text/plain": [
       "0it [00:00, ?it/s]"
      ]
     },
     "metadata": {},
     "output_type": "display_data"
    },
    {
     "name": "stdout",
     "output_type": "stream",
     "text": [
      "Loss of train: 0.00195\n",
      "Loss of val: 0.00203\n",
      "Loss of test: 0.00192\n",
      "Loss of gw_test: 0.00197\n",
      "[0.002875464157879343, 0.0026911373867355955, 0.0025690521974814882, 0.0024757135630076046, 0.0023929379324073713, 0.0023211349310837785, 0.0022583624501981863, 0.002203602449855645, 0.002155585749423517, 0.0021137628754075936, 0.002080484218672174, 0.0020523022364845925, 0.002025090916227806]\n"
     ]
    },
    {
     "data": {
      "application/vnd.jupyter.widget-view+json": {
       "model_id": "ec1877f3119d4d158da9248dee2af5f1",
       "version_major": 2,
       "version_minor": 0
      },
      "text/plain": [
       "0it [00:00, ?it/s]"
      ]
     },
     "metadata": {},
     "output_type": "display_data"
    },
    {
     "name": "stdout",
     "output_type": "stream",
     "text": [
      "Loss of train: 0.00192\n",
      "Loss of val: 0.00200\n",
      "Loss of test: 0.00189\n",
      "Loss of gw_test: 0.00195\n",
      "[0.002875464157879343, 0.0026911373867355955, 0.0025690521974814882, 0.0024757135630076046, 0.0023929379324073713, 0.0023211349310837785, 0.0022583624501981863, 0.002203602449855645, 0.002155585749423517, 0.0021137628754075936, 0.002080484218672174, 0.0020523022364845925, 0.002025090916227806, 0.00200292052670836]\n"
     ]
    },
    {
     "data": {
      "application/vnd.jupyter.widget-view+json": {
       "model_id": "d3068b808f8548daa26e2ae183c6b305",
       "version_major": 2,
       "version_minor": 0
      },
      "text/plain": [
       "0it [00:00, ?it/s]"
      ]
     },
     "metadata": {},
     "output_type": "display_data"
    },
    {
     "name": "stdout",
     "output_type": "stream",
     "text": [
      "Loss of train: 0.00190\n",
      "Loss of val: 0.00198\n",
      "Loss of test: 0.00188\n",
      "Loss of gw_test: 0.00193\n",
      "[0.002875464157879343, 0.0026911373867355955, 0.0025690521974814882, 0.0024757135630076046, 0.0023929379324073713, 0.0023211349310837785, 0.0022583624501981863, 0.002203602449855645, 0.002155585749423517, 0.0021137628754075936, 0.002080484218672174, 0.0020523022364845925, 0.002025090916227806, 0.00200292052670836, 0.0019821029398859615]\n"
     ]
    },
    {
     "data": {
      "application/vnd.jupyter.widget-view+json": {
       "model_id": "3a8d59c1ea4c4c09affdc90c5555f0e7",
       "version_major": 2,
       "version_minor": 0
      },
      "text/plain": [
       "0it [00:00, ?it/s]"
      ]
     },
     "metadata": {},
     "output_type": "display_data"
    },
    {
     "name": "stdout",
     "output_type": "stream",
     "text": [
      "Loss of train: 0.00187\n",
      "Loss of val: 0.00196\n",
      "Loss of test: 0.00185\n",
      "Loss of gw_test: 0.00191\n",
      "[0.002875464157879343, 0.0026911373867355955, 0.0025690521974814882, 0.0024757135630076046, 0.0023929379324073713, 0.0023211349310837785, 0.0022583624501981863, 0.002203602449855645, 0.002155585749423517, 0.0021137628754075936, 0.002080484218672174, 0.0020523022364845925, 0.002025090916227806, 0.00200292052670836, 0.0019821029398859615, 0.0019605123611638763]\n"
     ]
    },
    {
     "data": {
      "application/vnd.jupyter.widget-view+json": {
       "model_id": "d56cb0523bab4c91bbfe7eeeced3c294",
       "version_major": 2,
       "version_minor": 0
      },
      "text/plain": [
       "0it [00:00, ?it/s]"
      ]
     },
     "metadata": {},
     "output_type": "display_data"
    },
    {
     "name": "stdout",
     "output_type": "stream",
     "text": [
      "Loss of train: 0.00186\n",
      "Loss of val: 0.00195\n",
      "Loss of test: 0.00184\n",
      "Loss of gw_test: 0.00188\n",
      "[0.002875464157879343, 0.0026911373867355955, 0.0025690521974814882, 0.0024757135630076046, 0.0023929379324073713, 0.0023211349310837785, 0.0022583624501981863, 0.002203602449855645, 0.002155585749423517, 0.0021137628754075936, 0.002080484218672174, 0.0020523022364845925, 0.002025090916227806, 0.00200292052670836, 0.0019821029398859615, 0.0019605123611638763, 0.0019468504857308626]\n"
     ]
    },
    {
     "data": {
      "application/vnd.jupyter.widget-view+json": {
       "model_id": "15e3cd26c10b42a8b7a8130eaf87527e",
       "version_major": 2,
       "version_minor": 0
      },
      "text/plain": [
       "0it [00:00, ?it/s]"
      ]
     },
     "metadata": {},
     "output_type": "display_data"
    },
    {
     "name": "stdout",
     "output_type": "stream",
     "text": [
      "Loss of train: 0.00184\n",
      "Loss of val: 0.00193\n",
      "Loss of test: 0.00182\n",
      "Loss of gw_test: 0.00186\n",
      "[0.002875464157879343, 0.0026911373867355955, 0.0025690521974814882, 0.0024757135630076046, 0.0023929379324073713, 0.0023211349310837785, 0.0022583624501981863, 0.002203602449855645, 0.002155585749423517, 0.0021137628754075936, 0.002080484218672174, 0.0020523022364845925, 0.002025090916227806, 0.00200292052670836, 0.0019821029398859615, 0.0019605123611638763, 0.0019468504857308626, 0.0019306333091037087]\n"
     ]
    },
    {
     "data": {
      "application/vnd.jupyter.widget-view+json": {
       "model_id": "3a53a796e36e408bbce703a66965676d",
       "version_major": 2,
       "version_minor": 0
      },
      "text/plain": [
       "0it [00:00, ?it/s]"
      ]
     },
     "metadata": {},
     "output_type": "display_data"
    },
    {
     "name": "stdout",
     "output_type": "stream",
     "text": [
      "Loss of train: 0.00182\n",
      "Loss of val: 0.00192\n",
      "Loss of test: 0.00181\n",
      "Loss of gw_test: 0.00185\n",
      "[0.002875464157879343, 0.0026911373867355955, 0.0025690521974814882, 0.0024757135630076046, 0.0023929379324073713, 0.0023211349310837785, 0.0022583624501981863, 0.002203602449855645, 0.002155585749423517, 0.0021137628754075936, 0.002080484218672174, 0.0020523022364845925, 0.002025090916227806, 0.00200292052670836, 0.0019821029398859615, 0.0019605123611638763, 0.0019468504857308626, 0.0019306333091037087, 0.0019161541111656331]\n"
     ]
    },
    {
     "data": {
      "application/vnd.jupyter.widget-view+json": {
       "model_id": "6b38905705de4239ab783137edd2b26f",
       "version_major": 2,
       "version_minor": 0
      },
      "text/plain": [
       "0it [00:00, ?it/s]"
      ]
     },
     "metadata": {},
     "output_type": "display_data"
    },
    {
     "name": "stdout",
     "output_type": "stream",
     "text": [
      "Loss of train: 0.00181\n",
      "Loss of val: 0.00190\n",
      "Loss of test: 0.00179\n",
      "Loss of gw_test: 0.00183\n",
      "[0.002875464157879343, 0.0026911373867355955, 0.0025690521974814882, 0.0024757135630076046, 0.0023929379324073713, 0.0023211349310837785, 0.0022583624501981863, 0.002203602449855645, 0.002155585749423517, 0.0021137628754075936, 0.002080484218672174, 0.0020523022364845925, 0.002025090916227806, 0.00200292052670836, 0.0019821029398859615, 0.0019605123611638763, 0.0019468504857308626, 0.0019306333091037087, 0.0019161541111656331, 0.0019014928769934835]\n"
     ]
    },
    {
     "data": {
      "application/vnd.jupyter.widget-view+json": {
       "model_id": "88376df2bc60418096b4edd98948b188",
       "version_major": 2,
       "version_minor": 0
      },
      "text/plain": [
       "0it [00:00, ?it/s]"
      ]
     },
     "metadata": {},
     "output_type": "display_data"
    },
    {
     "name": "stdout",
     "output_type": "stream",
     "text": [
      "Loss of train: 0.00179\n",
      "Loss of val: 0.00189\n",
      "Loss of test: 0.00178\n",
      "Loss of gw_test: 0.00182\n",
      "[0.002875464157879343, 0.0026911373867355955, 0.0025690521974814882, 0.0024757135630076046, 0.0023929379324073713, 0.0023211349310837785, 0.0022583624501981863, 0.002203602449855645, 0.002155585749423517, 0.0021137628754075936, 0.002080484218672174, 0.0020523022364845925, 0.002025090916227806, 0.00200292052670836, 0.0019821029398859615, 0.0019605123611638763, 0.0019468504857308626, 0.0019306333091037087, 0.0019161541111656331, 0.0019014928769934835, 0.0018890314555055512]\n"
     ]
    },
    {
     "data": {
      "application/vnd.jupyter.widget-view+json": {
       "model_id": "7ff26b36c7dd46a68c6c4b66b398616f",
       "version_major": 2,
       "version_minor": 0
      },
      "text/plain": [
       "0it [00:00, ?it/s]"
      ]
     },
     "metadata": {},
     "output_type": "display_data"
    },
    {
     "name": "stdout",
     "output_type": "stream",
     "text": [
      "Loss of train: 0.00178\n",
      "Loss of val: 0.00188\n",
      "Loss of test: 0.00177\n",
      "Loss of gw_test: 0.00181\n",
      "[0.002875464157879343, 0.0026911373867355955, 0.0025690521974814882, 0.0024757135630076046, 0.0023929379324073713, 0.0023211349310837785, 0.0022583624501981863, 0.002203602449855645, 0.002155585749423517, 0.0021137628754075936, 0.002080484218672174, 0.0020523022364845925, 0.002025090916227806, 0.00200292052670836, 0.0019821029398859615, 0.0019605123611638763, 0.0019468504857308626, 0.0019306333091037087, 0.0019161541111656331, 0.0019014928769934835, 0.0018890314555055512, 0.0018790809622819566]\n"
     ]
    },
    {
     "data": {
      "application/vnd.jupyter.widget-view+json": {
       "model_id": "6591700995bf451ba68c4ae6688d5d5e",
       "version_major": 2,
       "version_minor": 0
      },
      "text/plain": [
       "0it [00:00, ?it/s]"
      ]
     },
     "metadata": {},
     "output_type": "display_data"
    },
    {
     "name": "stdout",
     "output_type": "stream",
     "text": [
      "Loss of train: 0.00177\n",
      "Loss of val: 0.00187\n",
      "Loss of test: 0.00176\n",
      "Loss of gw_test: 0.00179\n",
      "[0.002875464157879343, 0.0026911373867355955, 0.0025690521974814882, 0.0024757135630076046, 0.0023929379324073713, 0.0023211349310837785, 0.0022583624501981863, 0.002203602449855645, 0.002155585749423517, 0.0021137628754075936, 0.002080484218672174, 0.0020523022364845925, 0.002025090916227806, 0.00200292052670836, 0.0019821029398859615, 0.0019605123611638763, 0.0019468504857308626, 0.0019306333091037087, 0.0019161541111656331, 0.0019014928769934835, 0.0018890314555055512, 0.0018790809622819566, 0.0018685129838772595]\n"
     ]
    },
    {
     "data": {
      "application/vnd.jupyter.widget-view+json": {
       "model_id": "e7e9f38444624c34be4aadf250eb4d86",
       "version_major": 2,
       "version_minor": 0
      },
      "text/plain": [
       "0it [00:00, ?it/s]"
      ]
     },
     "metadata": {},
     "output_type": "display_data"
    },
    {
     "name": "stdout",
     "output_type": "stream",
     "text": [
      "Loss of train: 0.00176\n",
      "Loss of val: 0.00186\n",
      "Loss of test: 0.00175\n",
      "Loss of gw_test: 0.00179\n",
      "[0.002875464157879343, 0.0026911373867355955, 0.0025690521974814882, 0.0024757135630076046, 0.0023929379324073713, 0.0023211349310837785, 0.0022583624501981863, 0.002203602449855645, 0.002155585749423517, 0.0021137628754075936, 0.002080484218672174, 0.0020523022364845925, 0.002025090916227806, 0.00200292052670836, 0.0019821029398859615, 0.0019605123611638763, 0.0019468504857308626, 0.0019306333091037087, 0.0019161541111656331, 0.0019014928769934835, 0.0018890314555055512, 0.0018790809622819566, 0.0018685129838772595, 0.0018625773522699925]\n"
     ]
    },
    {
     "data": {
      "application/vnd.jupyter.widget-view+json": {
       "model_id": "04d664a7e7d24519ad2d332774cb0fbe",
       "version_major": 2,
       "version_minor": 0
      },
      "text/plain": [
       "0it [00:00, ?it/s]"
      ]
     },
     "metadata": {},
     "output_type": "display_data"
    },
    {
     "name": "stdout",
     "output_type": "stream",
     "text": [
      "Loss of train: 0.00176\n",
      "Loss of val: 0.00185\n",
      "Loss of test: 0.00175\n",
      "Loss of gw_test: 0.00178\n",
      "[0.002875464157879343, 0.0026911373867355955, 0.0025690521974814882, 0.0024757135630076046, 0.0023929379324073713, 0.0023211349310837785, 0.0022583624501981863, 0.002203602449855645, 0.002155585749423517, 0.0021137628754075936, 0.002080484218672174, 0.0020523022364845925, 0.002025090916227806, 0.00200292052670836, 0.0019821029398859615, 0.0019605123611638763, 0.0019468504857308626, 0.0019306333091037087, 0.0019161541111656331, 0.0019014928769934835, 0.0018890314555055512, 0.0018790809622819566, 0.0018685129838772595, 0.0018625773522699925, 0.001854428666922443]\n"
     ]
    },
    {
     "data": {
      "application/vnd.jupyter.widget-view+json": {
       "model_id": "84defbbd50554c899634103a413f7d56",
       "version_major": 2,
       "version_minor": 0
      },
      "text/plain": [
       "0it [00:00, ?it/s]"
      ]
     },
     "metadata": {},
     "output_type": "display_data"
    },
    {
     "name": "stdout",
     "output_type": "stream",
     "text": [
      "Loss of train: 0.00175\n",
      "Loss of val: 0.00185\n",
      "Loss of test: 0.00174\n",
      "Loss of gw_test: 0.00177\n",
      "[0.002875464157879343, 0.0026911373867355955, 0.0025690521974814882, 0.0024757135630076046, 0.0023929379324073713, 0.0023211349310837785, 0.0022583624501981863, 0.002203602449855645, 0.002155585749423517, 0.0021137628754075936, 0.002080484218672174, 0.0020523022364845925, 0.002025090916227806, 0.00200292052670836, 0.0019821029398859615, 0.0019605123611638763, 0.0019468504857308626, 0.0019306333091037087, 0.0019161541111656331, 0.0019014928769934835, 0.0018890314555055512, 0.0018790809622819566, 0.0018685129838772595, 0.0018625773522699925, 0.001854428666922443, 0.0018470163258814498]\n"
     ]
    },
    {
     "data": {
      "application/vnd.jupyter.widget-view+json": {
       "model_id": "d7f0d8787b0947b6a7c5c5af6e7183c9",
       "version_major": 2,
       "version_minor": 0
      },
      "text/plain": [
       "0it [00:00, ?it/s]"
      ]
     },
     "metadata": {},
     "output_type": "display_data"
    },
    {
     "name": "stdout",
     "output_type": "stream",
     "text": [
      "Loss of train: 0.00174\n",
      "Loss of val: 0.00184\n",
      "Loss of test: 0.00173\n",
      "Loss of gw_test: 0.00176\n",
      "[0.002875464157879343, 0.0026911373867355955, 0.0025690521974814882, 0.0024757135630076046, 0.0023929379324073713, 0.0023211349310837785, 0.0022583624501981863, 0.002203602449855645, 0.002155585749423517, 0.0021137628754075936, 0.002080484218672174, 0.0020523022364845925, 0.002025090916227806, 0.00200292052670836, 0.0019821029398859615, 0.0019605123611638763, 0.0019468504857308626, 0.0019306333091037087, 0.0019161541111656331, 0.0019014928769934835, 0.0018890314555055512, 0.0018790809622819566, 0.0018685129838772595, 0.0018625773522699925, 0.001854428666922443, 0.0018470163258814498, 0.0018393015240414365]\n"
     ]
    },
    {
     "data": {
      "application/vnd.jupyter.widget-view+json": {
       "model_id": "9ef0a3db5d2f4183a2e9c638e42aece1",
       "version_major": 2,
       "version_minor": 0
      },
      "text/plain": [
       "0it [00:00, ?it/s]"
      ]
     },
     "metadata": {},
     "output_type": "display_data"
    },
    {
     "name": "stdout",
     "output_type": "stream",
     "text": [
      "Loss of train: 0.00173\n",
      "Loss of val: 0.00183\n",
      "Loss of test: 0.00172\n",
      "Loss of gw_test: 0.00175\n",
      "[0.002875464157879343, 0.0026911373867355955, 0.0025690521974814882, 0.0024757135630076046, 0.0023929379324073713, 0.0023211349310837785, 0.0022583624501981863, 0.002203602449855645, 0.002155585749423517, 0.0021137628754075936, 0.002080484218672174, 0.0020523022364845925, 0.002025090916227806, 0.00200292052670836, 0.0019821029398859615, 0.0019605123611638763, 0.0019468504857308626, 0.0019306333091037087, 0.0019161541111656331, 0.0019014928769934835, 0.0018890314555055512, 0.0018790809622819566, 0.0018685129838772595, 0.0018625773522699925, 0.001854428666922443, 0.0018470163258814498, 0.0018393015240414365, 0.0018325646802991953]\n"
     ]
    },
    {
     "data": {
      "application/vnd.jupyter.widget-view+json": {
       "model_id": "a360868175f143d4ab5d01c0329aab50",
       "version_major": 2,
       "version_minor": 0
      },
      "text/plain": [
       "0it [00:00, ?it/s]"
      ]
     },
     "metadata": {},
     "output_type": "display_data"
    },
    {
     "name": "stdout",
     "output_type": "stream",
     "text": [
      "Loss of train: 0.00172\n",
      "Loss of val: 0.00182\n",
      "Loss of test: 0.00172\n",
      "Loss of gw_test: 0.00175\n",
      "[0.002875464157879343, 0.0026911373867355955, 0.0025690521974814882, 0.0024757135630076046, 0.0023929379324073713, 0.0023211349310837785, 0.0022583624501981863, 0.002203602449855645, 0.002155585749423517, 0.0021137628754075936, 0.002080484218672174, 0.0020523022364845925, 0.002025090916227806, 0.00200292052670836, 0.0019821029398859615, 0.0019605123611638763, 0.0019468504857308626, 0.0019306333091037087, 0.0019161541111656331, 0.0019014928769934835, 0.0018890314555055512, 0.0018790809622819566, 0.0018685129838772595, 0.0018625773522699925, 0.001854428666922443, 0.0018470163258814498, 0.0018393015240414365, 0.0018325646802991953, 0.0018246535554735203]\n"
     ]
    },
    {
     "data": {
      "application/vnd.jupyter.widget-view+json": {
       "model_id": "250409b4f9d5473ebea0091ef4ee5315",
       "version_major": 2,
       "version_minor": 0
      },
      "text/plain": [
       "0it [00:00, ?it/s]"
      ]
     },
     "metadata": {},
     "output_type": "display_data"
    },
    {
     "name": "stdout",
     "output_type": "stream",
     "text": [
      "Loss of train: 0.00171\n",
      "Loss of val: 0.00182\n",
      "Loss of test: 0.00171\n",
      "Loss of gw_test: 0.00174\n",
      "[0.002875464157879343, 0.0026911373867355955, 0.0025690521974814882, 0.0024757135630076046, 0.0023929379324073713, 0.0023211349310837785, 0.0022583624501981863, 0.002203602449855645, 0.002155585749423517, 0.0021137628754075936, 0.002080484218672174, 0.0020523022364845925, 0.002025090916227806, 0.00200292052670836, 0.0019821029398859615, 0.0019605123611638763, 0.0019468504857308626, 0.0019306333091037087, 0.0019161541111656331, 0.0019014928769934835, 0.0018890314555055512, 0.0018790809622819566, 0.0018685129838772595, 0.0018625773522699925, 0.001854428666922443, 0.0018470163258814498, 0.0018393015240414365, 0.0018325646802991953, 0.0018246535554735203, 0.0018175475425555702]\n"
     ]
    },
    {
     "data": {
      "application/vnd.jupyter.widget-view+json": {
       "model_id": "9d82bb24c646408383b484a5dd9b851c",
       "version_major": 2,
       "version_minor": 0
      },
      "text/plain": [
       "0it [00:00, ?it/s]"
      ]
     },
     "metadata": {},
     "output_type": "display_data"
    },
    {
     "name": "stdout",
     "output_type": "stream",
     "text": [
      "Loss of train: 0.00171\n",
      "Loss of val: 0.00181\n",
      "Loss of test: 0.00170\n",
      "Loss of gw_test: 0.00173\n",
      "[0.002875464157879343, 0.0026911373867355955, 0.0025690521974814882, 0.0024757135630076046, 0.0023929379324073713, 0.0023211349310837785, 0.0022583624501981863, 0.002203602449855645, 0.002155585749423517, 0.0021137628754075936, 0.002080484218672174, 0.0020523022364845925, 0.002025090916227806, 0.00200292052670836, 0.0019821029398859615, 0.0019605123611638763, 0.0019468504857308626, 0.0019306333091037087, 0.0019161541111656331, 0.0019014928769934835, 0.0018890314555055512, 0.0018790809622819566, 0.0018685129838772595, 0.0018625773522699925, 0.001854428666922443, 0.0018470163258814498, 0.0018393015240414365, 0.0018325646802991953, 0.0018246535554735203, 0.0018175475425555702, 0.0018142205547470875]\n"
     ]
    },
    {
     "data": {
      "application/vnd.jupyter.widget-view+json": {
       "model_id": "def6cb4584cc4b9c9795e7eab895f4ed",
       "version_major": 2,
       "version_minor": 0
      },
      "text/plain": [
       "0it [00:00, ?it/s]"
      ]
     },
     "metadata": {},
     "output_type": "display_data"
    },
    {
     "name": "stdout",
     "output_type": "stream",
     "text": [
      "Loss of train: 0.00170\n",
      "Loss of val: 0.00181\n",
      "Loss of test: 0.00170\n",
      "Loss of gw_test: 0.00172\n",
      "[0.002875464157879343, 0.0026911373867355955, 0.0025690521974814882, 0.0024757135630076046, 0.0023929379324073713, 0.0023211349310837785, 0.0022583624501981863, 0.002203602449855645, 0.002155585749423517, 0.0021137628754075936, 0.002080484218672174, 0.0020523022364845925, 0.002025090916227806, 0.00200292052670836, 0.0019821029398859615, 0.0019605123611638763, 0.0019468504857308626, 0.0019306333091037087, 0.0019161541111656331, 0.0019014928769934835, 0.0018890314555055512, 0.0018790809622819566, 0.0018685129838772595, 0.0018625773522699925, 0.001854428666922443, 0.0018470163258814498, 0.0018393015240414365, 0.0018325646802991953, 0.0018246535554735203, 0.0018175475425555702, 0.0018142205547470875, 0.001806808857883881]\n"
     ]
    },
    {
     "data": {
      "application/vnd.jupyter.widget-view+json": {
       "model_id": "54bc6b918e2f4b5799409333a4e58aa9",
       "version_major": 2,
       "version_minor": 0
      },
      "text/plain": [
       "0it [00:00, ?it/s]"
      ]
     },
     "metadata": {},
     "output_type": "display_data"
    },
    {
     "name": "stdout",
     "output_type": "stream",
     "text": [
      "Loss of train: 0.00170\n",
      "Loss of val: 0.00180\n",
      "Loss of test: 0.00170\n",
      "Loss of gw_test: 0.00172\n",
      "[0.002875464157879343, 0.0026911373867355955, 0.0025690521974814882, 0.0024757135630076046, 0.0023929379324073713, 0.0023211349310837785, 0.0022583624501981863, 0.002203602449855645, 0.002155585749423517, 0.0021137628754075936, 0.002080484218672174, 0.0020523022364845925, 0.002025090916227806, 0.00200292052670836, 0.0019821029398859615, 0.0019605123611638763, 0.0019468504857308626, 0.0019306333091037087, 0.0019161541111656331, 0.0019014928769934835, 0.0018890314555055512, 0.0018790809622819566, 0.0018685129838772595, 0.0018625773522699925, 0.001854428666922443, 0.0018470163258814498, 0.0018393015240414365, 0.0018325646802991953, 0.0018246535554735203, 0.0018175475425555702, 0.0018142205547470875, 0.001806808857883881, 0.0018024078174687533]\n"
     ]
    },
    {
     "data": {
      "application/vnd.jupyter.widget-view+json": {
       "model_id": "47e0a20f5a9b470ca21234b54f06018d",
       "version_major": 2,
       "version_minor": 0
      },
      "text/plain": [
       "0it [00:00, ?it/s]"
      ]
     },
     "metadata": {},
     "output_type": "display_data"
    },
    {
     "name": "stdout",
     "output_type": "stream",
     "text": [
      "Loss of train: 0.00169\n",
      "Loss of val: 0.00180\n",
      "Loss of test: 0.00169\n",
      "Loss of gw_test: 0.00171\n",
      "[0.002875464157879343, 0.0026911373867355955, 0.0025690521974814882, 0.0024757135630076046, 0.0023929379324073713, 0.0023211349310837785, 0.0022583624501981863, 0.002203602449855645, 0.002155585749423517, 0.0021137628754075936, 0.002080484218672174, 0.0020523022364845925, 0.002025090916227806, 0.00200292052670836, 0.0019821029398859615, 0.0019605123611638763, 0.0019468504857308626, 0.0019306333091037087, 0.0019161541111656331, 0.0019014928769934835, 0.0018890314555055512, 0.0018790809622819566, 0.0018685129838772595, 0.0018625773522699925, 0.001854428666922443, 0.0018470163258814498, 0.0018393015240414365, 0.0018325646802991953, 0.0018246535554735203, 0.0018175475425555702, 0.0018142205547470875, 0.001806808857883881, 0.0018024078174687533, 0.001797954493688321]\n"
     ]
    },
    {
     "data": {
      "application/vnd.jupyter.widget-view+json": {
       "model_id": "fd9b52be73b5425f89c8ba0aa9aff77c",
       "version_major": 2,
       "version_minor": 0
      },
      "text/plain": [
       "0it [00:00, ?it/s]"
      ]
     },
     "metadata": {},
     "output_type": "display_data"
    },
    {
     "name": "stdout",
     "output_type": "stream",
     "text": [
      "Loss of train: 0.00169\n",
      "Loss of val: 0.00179\n",
      "Loss of test: 0.00169\n",
      "Loss of gw_test: 0.00171\n",
      "[0.002875464157879343, 0.0026911373867355955, 0.0025690521974814882, 0.0024757135630076046, 0.0023929379324073713, 0.0023211349310837785, 0.0022583624501981863, 0.002203602449855645, 0.002155585749423517, 0.0021137628754075936, 0.002080484218672174, 0.0020523022364845925, 0.002025090916227806, 0.00200292052670836, 0.0019821029398859615, 0.0019605123611638763, 0.0019468504857308626, 0.0019306333091037087, 0.0019161541111656331, 0.0019014928769934835, 0.0018890314555055512, 0.0018790809622819566, 0.0018685129838772595, 0.0018625773522699925, 0.001854428666922443, 0.0018470163258814498, 0.0018393015240414365, 0.0018325646802991953, 0.0018246535554735203, 0.0018175475425555702, 0.0018142205547470875, 0.001806808857883881, 0.0018024078174687533, 0.001797954493688321, 0.0017923850284797126]\n"
     ]
    },
    {
     "data": {
      "application/vnd.jupyter.widget-view+json": {
       "model_id": "a1267238dd224868b5cb083ad06653da",
       "version_major": 2,
       "version_minor": 0
      },
      "text/plain": [
       "0it [00:00, ?it/s]"
      ]
     },
     "metadata": {},
     "output_type": "display_data"
    },
    {
     "name": "stdout",
     "output_type": "stream",
     "text": [
      "Loss of train: 0.00168\n",
      "Loss of val: 0.00179\n",
      "Loss of test: 0.00168\n",
      "Loss of gw_test: 0.00170\n",
      "[0.002875464157879343, 0.0026911373867355955, 0.0025690521974814882, 0.0024757135630076046, 0.0023929379324073713, 0.0023211349310837785, 0.0022583624501981863, 0.002203602449855645, 0.002155585749423517, 0.0021137628754075936, 0.002080484218672174, 0.0020523022364845925, 0.002025090916227806, 0.00200292052670836, 0.0019821029398859615, 0.0019605123611638763, 0.0019468504857308626, 0.0019306333091037087, 0.0019161541111656331, 0.0019014928769934835, 0.0018890314555055512, 0.0018790809622819566, 0.0018685129838772595, 0.0018625773522699925, 0.001854428666922443, 0.0018470163258814498, 0.0018393015240414365, 0.0018325646802991953, 0.0018246535554735203, 0.0018175475425555702, 0.0018142205547470875, 0.001806808857883881, 0.0018024078174687533, 0.001797954493688321, 0.0017923850284797126, 0.0017882677445704364]\n"
     ]
    },
    {
     "data": {
      "application/vnd.jupyter.widget-view+json": {
       "model_id": "389b2f482fa54e898e388e0c8cb5b5ec",
       "version_major": 2,
       "version_minor": 0
      },
      "text/plain": [
       "0it [00:00, ?it/s]"
      ]
     },
     "metadata": {},
     "output_type": "display_data"
    },
    {
     "name": "stdout",
     "output_type": "stream",
     "text": [
      "Loss of train: 0.00168\n",
      "Loss of val: 0.00179\n",
      "Loss of test: 0.00168\n",
      "Loss of gw_test: 0.00170\n",
      "[0.002875464157879343, 0.0026911373867355955, 0.0025690521974814882, 0.0024757135630076046, 0.0023929379324073713, 0.0023211349310837785, 0.0022583624501981863, 0.002203602449855645, 0.002155585749423517, 0.0021137628754075936, 0.002080484218672174, 0.0020523022364845925, 0.002025090916227806, 0.00200292052670836, 0.0019821029398859615, 0.0019605123611638763, 0.0019468504857308626, 0.0019306333091037087, 0.0019161541111656331, 0.0019014928769934835, 0.0018890314555055512, 0.0018790809622819566, 0.0018685129838772595, 0.0018625773522699925, 0.001854428666922443, 0.0018470163258814498, 0.0018393015240414365, 0.0018325646802991953, 0.0018246535554735203, 0.0018175475425555702, 0.0018142205547470875, 0.001806808857883881, 0.0018024078174687533, 0.001797954493688321, 0.0017923850284797126, 0.0017882677445704364, 0.00178526520058646]\n"
     ]
    },
    {
     "data": {
      "application/vnd.jupyter.widget-view+json": {
       "model_id": "53f964f00d184730bdc30b4792435531",
       "version_major": 2,
       "version_minor": 0
      },
      "text/plain": [
       "0it [00:00, ?it/s]"
      ]
     },
     "metadata": {},
     "output_type": "display_data"
    },
    {
     "name": "stdout",
     "output_type": "stream",
     "text": [
      "Loss of train: 0.00167\n",
      "Loss of val: 0.00178\n",
      "Loss of test: 0.00168\n",
      "Loss of gw_test: 0.00169\n",
      "[0.002875464157879343, 0.0026911373867355955, 0.0025690521974814882, 0.0024757135630076046, 0.0023929379324073713, 0.0023211349310837785, 0.0022583624501981863, 0.002203602449855645, 0.002155585749423517, 0.0021137628754075936, 0.002080484218672174, 0.0020523022364845925, 0.002025090916227806, 0.00200292052670836, 0.0019821029398859615, 0.0019605123611638763, 0.0019468504857308626, 0.0019306333091037087, 0.0019161541111656331, 0.0019014928769934835, 0.0018890314555055512, 0.0018790809622819566, 0.0018685129838772595, 0.0018625773522699925, 0.001854428666922443, 0.0018470163258814498, 0.0018393015240414365, 0.0018325646802991953, 0.0018246535554735203, 0.0018175475425555702, 0.0018142205547470875, 0.001806808857883881, 0.0018024078174687533, 0.001797954493688321, 0.0017923850284797126, 0.0017882677445704364, 0.00178526520058646, 0.001780937111683242]\n"
     ]
    },
    {
     "data": {
      "application/vnd.jupyter.widget-view+json": {
       "model_id": "f35e01417454405a8b90303d999aea43",
       "version_major": 2,
       "version_minor": 0
      },
      "text/plain": [
       "0it [00:00, ?it/s]"
      ]
     },
     "metadata": {},
     "output_type": "display_data"
    },
    {
     "name": "stdout",
     "output_type": "stream",
     "text": [
      "Loss of train: 0.00167\n",
      "Loss of val: 0.00177\n",
      "Loss of test: 0.00167\n",
      "Loss of gw_test: 0.00169\n",
      "[0.002875464157879343, 0.0026911373867355955, 0.0025690521974814882, 0.0024757135630076046, 0.0023929379324073713, 0.0023211349310837785, 0.0022583624501981863, 0.002203602449855645, 0.002155585749423517, 0.0021137628754075936, 0.002080484218672174, 0.0020523022364845925, 0.002025090916227806, 0.00200292052670836, 0.0019821029398859615, 0.0019605123611638763, 0.0019468504857308626, 0.0019306333091037087, 0.0019161541111656331, 0.0019014928769934835, 0.0018890314555055512, 0.0018790809622819566, 0.0018685129838772595, 0.0018625773522699925, 0.001854428666922443, 0.0018470163258814498, 0.0018393015240414365, 0.0018325646802991953, 0.0018246535554735203, 0.0018175475425555702, 0.0018142205547470875, 0.001806808857883881, 0.0018024078174687533, 0.001797954493688321, 0.0017923850284797126, 0.0017882677445704364, 0.00178526520058646, 0.001780937111683242, 0.0017748424909034952]\n"
     ]
    },
    {
     "data": {
      "application/vnd.jupyter.widget-view+json": {
       "model_id": "8fdd1ccdb0014744badaeab9bbc0170b",
       "version_major": 2,
       "version_minor": 0
      },
      "text/plain": [
       "0it [00:00, ?it/s]"
      ]
     },
     "metadata": {},
     "output_type": "display_data"
    },
    {
     "name": "stdout",
     "output_type": "stream",
     "text": [
      "Loss of train: 0.00166\n",
      "Loss of val: 0.00177\n",
      "Loss of test: 0.00167\n",
      "Loss of gw_test: 0.00168\n",
      "[0.002875464157879343, 0.0026911373867355955, 0.0025690521974814882, 0.0024757135630076046, 0.0023929379324073713, 0.0023211349310837785, 0.0022583624501981863, 0.002203602449855645, 0.002155585749423517, 0.0021137628754075936, 0.002080484218672174, 0.0020523022364845925, 0.002025090916227806, 0.00200292052670836, 0.0019821029398859615, 0.0019605123611638763, 0.0019468504857308626, 0.0019306333091037087, 0.0019161541111656331, 0.0019014928769934835, 0.0018890314555055512, 0.0018790809622819566, 0.0018685129838772595, 0.0018625773522699925, 0.001854428666922443, 0.0018470163258814498, 0.0018393015240414365, 0.0018325646802991953, 0.0018246535554735203, 0.0018175475425555702, 0.0018142205547470875, 0.001806808857883881, 0.0018024078174687533, 0.001797954493688321, 0.0017923850284797126, 0.0017882677445704364, 0.00178526520058646, 0.001780937111683242, 0.0017748424909034952, 0.0017697257720711134]\n"
     ]
    },
    {
     "data": {
      "application/vnd.jupyter.widget-view+json": {
       "model_id": "0065a902ecc44052a47a3aca3756ba02",
       "version_major": 2,
       "version_minor": 0
      },
      "text/plain": [
       "0it [00:00, ?it/s]"
      ]
     },
     "metadata": {},
     "output_type": "display_data"
    },
    {
     "name": "stdout",
     "output_type": "stream",
     "text": [
      "Loss of train: 0.00166\n",
      "Loss of val: 0.00177\n",
      "Loss of test: 0.00166\n",
      "Loss of gw_test: 0.00168\n",
      "[0.002875464157879343, 0.0026911373867355955, 0.0025690521974814882, 0.0024757135630076046, 0.0023929379324073713, 0.0023211349310837785, 0.0022583624501981863, 0.002203602449855645, 0.002155585749423517, 0.0021137628754075936, 0.002080484218672174, 0.0020523022364845925, 0.002025090916227806, 0.00200292052670836, 0.0019821029398859615, 0.0019605123611638763, 0.0019468504857308626, 0.0019306333091037087, 0.0019161541111656331, 0.0019014928769934835, 0.0018890314555055512, 0.0018790809622819566, 0.0018685129838772595, 0.0018625773522699925, 0.001854428666922443, 0.0018470163258814498, 0.0018393015240414365, 0.0018325646802991953, 0.0018246535554735203, 0.0018175475425555702, 0.0018142205547470875, 0.001806808857883881, 0.0018024078174687533, 0.001797954493688321, 0.0017923850284797126, 0.0017882677445704364, 0.00178526520058646, 0.001780937111683242, 0.0017748424909034952, 0.0017697257720711134, 0.0017659002795370074]\n"
     ]
    },
    {
     "data": {
      "application/vnd.jupyter.widget-view+json": {
       "model_id": "046c7721d30446de983246f3d3c2ff68",
       "version_major": 2,
       "version_minor": 0
      },
      "text/plain": [
       "0it [00:00, ?it/s]"
      ]
     },
     "metadata": {},
     "output_type": "display_data"
    },
    {
     "name": "stdout",
     "output_type": "stream",
     "text": [
      "Loss of train: 0.00165\n",
      "Loss of val: 0.00176\n",
      "Loss of test: 0.00166\n",
      "Loss of gw_test: 0.00168\n",
      "[0.002875464157879343, 0.0026911373867355955, 0.0025690521974814882, 0.0024757135630076046, 0.0023929379324073713, 0.0023211349310837785, 0.0022583624501981863, 0.002203602449855645, 0.002155585749423517, 0.0021137628754075936, 0.002080484218672174, 0.0020523022364845925, 0.002025090916227806, 0.00200292052670836, 0.0019821029398859615, 0.0019605123611638763, 0.0019468504857308626, 0.0019306333091037087, 0.0019161541111656331, 0.0019014928769934835, 0.0018890314555055512, 0.0018790809622819566, 0.0018685129838772595, 0.0018625773522699925, 0.001854428666922443, 0.0018470163258814498, 0.0018393015240414365, 0.0018325646802991953, 0.0018246535554735203, 0.0018175475425555702, 0.0018142205547470875, 0.001806808857883881, 0.0018024078174687533, 0.001797954493688321, 0.0017923850284797126, 0.0017882677445704364, 0.00178526520058646, 0.001780937111683242, 0.0017748424909034952, 0.0017697257720711134, 0.0017659002795370074, 0.0017622980915289388]\n"
     ]
    },
    {
     "data": {
      "application/vnd.jupyter.widget-view+json": {
       "model_id": "fe4e92e9b60a41ab9dda274fa6f7751f",
       "version_major": 2,
       "version_minor": 0
      },
      "text/plain": [
       "0it [00:00, ?it/s]"
      ]
     },
     "metadata": {},
     "output_type": "display_data"
    },
    {
     "name": "stdout",
     "output_type": "stream",
     "text": [
      "Loss of train: 0.00165\n",
      "Loss of val: 0.00176\n",
      "Loss of test: 0.00166\n",
      "Loss of gw_test: 0.00167\n",
      "[0.002875464157879343, 0.0026911373867355955, 0.0025690521974814882, 0.0024757135630076046, 0.0023929379324073713, 0.0023211349310837785, 0.0022583624501981863, 0.002203602449855645, 0.002155585749423517, 0.0021137628754075936, 0.002080484218672174, 0.0020523022364845925, 0.002025090916227806, 0.00200292052670836, 0.0019821029398859615, 0.0019605123611638763, 0.0019468504857308626, 0.0019306333091037087, 0.0019161541111656331, 0.0019014928769934835, 0.0018890314555055512, 0.0018790809622819566, 0.0018685129838772595, 0.0018625773522699925, 0.001854428666922443, 0.0018470163258814498, 0.0018393015240414365, 0.0018325646802991953, 0.0018246535554735203, 0.0018175475425555702, 0.0018142205547470875, 0.001806808857883881, 0.0018024078174687533, 0.001797954493688321, 0.0017923850284797126, 0.0017882677445704364, 0.00178526520058646, 0.001780937111683242, 0.0017748424909034952, 0.0017697257720711134, 0.0017659002795370074, 0.0017622980915289388, 0.0017589746987573286]\n"
     ]
    },
    {
     "data": {
      "application/vnd.jupyter.widget-view+json": {
       "model_id": "e76f28e7645948c6b2c1522e5df100bc",
       "version_major": 2,
       "version_minor": 0
      },
      "text/plain": [
       "0it [00:00, ?it/s]"
      ]
     },
     "metadata": {},
     "output_type": "display_data"
    },
    {
     "name": "stdout",
     "output_type": "stream",
     "text": [
      "Loss of train: 0.00164\n",
      "Loss of val: 0.00176\n",
      "Loss of test: 0.00165\n",
      "Loss of gw_test: 0.00166\n",
      "[0.002875464157879343, 0.0026911373867355955, 0.0025690521974814882, 0.0024757135630076046, 0.0023929379324073713, 0.0023211349310837785, 0.0022583624501981863, 0.002203602449855645, 0.002155585749423517, 0.0021137628754075936, 0.002080484218672174, 0.0020523022364845925, 0.002025090916227806, 0.00200292052670836, 0.0019821029398859615, 0.0019605123611638763, 0.0019468504857308626, 0.0019306333091037087, 0.0019161541111656331, 0.0019014928769934835, 0.0018890314555055512, 0.0018790809622819566, 0.0018685129838772595, 0.0018625773522699925, 0.001854428666922443, 0.0018470163258814498, 0.0018393015240414365, 0.0018325646802991953, 0.0018246535554735203, 0.0018175475425555702, 0.0018142205547470875, 0.001806808857883881, 0.0018024078174687533, 0.001797954493688321, 0.0017923850284797126, 0.0017882677445704364, 0.00178526520058646, 0.001780937111683242, 0.0017748424909034952, 0.0017697257720711134, 0.0017659002795370074, 0.0017622980915289388, 0.0017589746987573286, 0.001756589532450409]\n"
     ]
    },
    {
     "data": {
      "application/vnd.jupyter.widget-view+json": {
       "model_id": "67e0780c359e4f41a363a9c3c696b81e",
       "version_major": 2,
       "version_minor": 0
      },
      "text/plain": [
       "0it [00:00, ?it/s]"
      ]
     },
     "metadata": {},
     "output_type": "display_data"
    },
    {
     "name": "stdout",
     "output_type": "stream",
     "text": [
      "Loss of train: 0.00164\n",
      "Loss of val: 0.00175\n",
      "Loss of test: 0.00165\n",
      "Loss of gw_test: 0.00166\n",
      "[0.002875464157879343, 0.0026911373867355955, 0.0025690521974814882, 0.0024757135630076046, 0.0023929379324073713, 0.0023211349310837785, 0.0022583624501981863, 0.002203602449855645, 0.002155585749423517, 0.0021137628754075936, 0.002080484218672174, 0.0020523022364845925, 0.002025090916227806, 0.00200292052670836, 0.0019821029398859615, 0.0019605123611638763, 0.0019468504857308626, 0.0019306333091037087, 0.0019161541111656331, 0.0019014928769934835, 0.0018890314555055512, 0.0018790809622819566, 0.0018685129838772595, 0.0018625773522699925, 0.001854428666922443, 0.0018470163258814498, 0.0018393015240414365, 0.0018325646802991953, 0.0018246535554735203, 0.0018175475425555702, 0.0018142205547470875, 0.001806808857883881, 0.0018024078174687533, 0.001797954493688321, 0.0017923850284797126, 0.0017882677445704364, 0.00178526520058646, 0.001780937111683242, 0.0017748424909034952, 0.0017697257720711134, 0.0017659002795370074, 0.0017622980915289388, 0.0017589746987573286, 0.001756589532450409, 0.0017503529321212733]\n"
     ]
    },
    {
     "data": {
      "application/vnd.jupyter.widget-view+json": {
       "model_id": "a83fa5c7643543b4ad6188b6b4172162",
       "version_major": 2,
       "version_minor": 0
      },
      "text/plain": [
       "0it [00:00, ?it/s]"
      ]
     },
     "metadata": {},
     "output_type": "display_data"
    },
    {
     "name": "stdout",
     "output_type": "stream",
     "text": [
      "Loss of train: 0.00163\n",
      "Loss of val: 0.00175\n",
      "Loss of test: 0.00164\n",
      "Loss of gw_test: 0.00165\n",
      "[0.002875464157879343, 0.0026911373867355955, 0.0025690521974814882, 0.0024757135630076046, 0.0023929379324073713, 0.0023211349310837785, 0.0022583624501981863, 0.002203602449855645, 0.002155585749423517, 0.0021137628754075936, 0.002080484218672174, 0.0020523022364845925, 0.002025090916227806, 0.00200292052670836, 0.0019821029398859615, 0.0019605123611638763, 0.0019468504857308626, 0.0019306333091037087, 0.0019161541111656331, 0.0019014928769934835, 0.0018890314555055512, 0.0018790809622819566, 0.0018685129838772595, 0.0018625773522699925, 0.001854428666922443, 0.0018470163258814498, 0.0018393015240414365, 0.0018325646802991953, 0.0018246535554735203, 0.0018175475425555702, 0.0018142205547470875, 0.001806808857883881, 0.0018024078174687533, 0.001797954493688321, 0.0017923850284797126, 0.0017882677445704364, 0.00178526520058646, 0.001780937111683242, 0.0017748424909034952, 0.0017697257720711134, 0.0017659002795370074, 0.0017622980915289388, 0.0017589746987573286, 0.001756589532450409, 0.0017503529321212733, 0.001747387518793227]\n"
     ]
    },
    {
     "data": {
      "application/vnd.jupyter.widget-view+json": {
       "model_id": "a18d33b9576d42e9afdc3ebb20f56298",
       "version_major": 2,
       "version_minor": 0
      },
      "text/plain": [
       "0it [00:00, ?it/s]"
      ]
     },
     "metadata": {},
     "output_type": "display_data"
    },
    {
     "name": "stdout",
     "output_type": "stream",
     "text": [
      "Loss of train: 0.00163\n",
      "Loss of val: 0.00174\n",
      "Loss of test: 0.00164\n",
      "Loss of gw_test: 0.00165\n",
      "[0.002875464157879343, 0.0026911373867355955, 0.0025690521974814882, 0.0024757135630076046, 0.0023929379324073713, 0.0023211349310837785, 0.0022583624501981863, 0.002203602449855645, 0.002155585749423517, 0.0021137628754075936, 0.002080484218672174, 0.0020523022364845925, 0.002025090916227806, 0.00200292052670836, 0.0019821029398859615, 0.0019605123611638763, 0.0019468504857308626, 0.0019306333091037087, 0.0019161541111656331, 0.0019014928769934835, 0.0018890314555055512, 0.0018790809622819566, 0.0018685129838772595, 0.0018625773522699925, 0.001854428666922443, 0.0018470163258814498, 0.0018393015240414365, 0.0018325646802991953, 0.0018246535554735203, 0.0018175475425555702, 0.0018142205547470875, 0.001806808857883881, 0.0018024078174687533, 0.001797954493688321, 0.0017923850284797126, 0.0017882677445704364, 0.00178526520058646, 0.001780937111683242, 0.0017748424909034952, 0.0017697257720711134, 0.0017659002795370074, 0.0017622980915289388, 0.0017589746987573286, 0.001756589532450409, 0.0017503529321212733, 0.001747387518793227, 0.0017433248229554146]\n"
     ]
    },
    {
     "data": {
      "application/vnd.jupyter.widget-view+json": {
       "model_id": "46f2cffa506a46d18112676d90e8a5b8",
       "version_major": 2,
       "version_minor": 0
      },
      "text/plain": [
       "0it [00:00, ?it/s]"
      ]
     },
     "metadata": {},
     "output_type": "display_data"
    },
    {
     "name": "stdout",
     "output_type": "stream",
     "text": [
      "Loss of train: 0.00163\n",
      "Loss of val: 0.00174\n",
      "Loss of test: 0.00164\n",
      "Loss of gw_test: 0.00165\n",
      "[0.002875464157879343, 0.0026911373867355955, 0.0025690521974814882, 0.0024757135630076046, 0.0023929379324073713, 0.0023211349310837785, 0.0022583624501981863, 0.002203602449855645, 0.002155585749423517, 0.0021137628754075936, 0.002080484218672174, 0.0020523022364845925, 0.002025090916227806, 0.00200292052670836, 0.0019821029398859615, 0.0019605123611638763, 0.0019468504857308626, 0.0019306333091037087, 0.0019161541111656331, 0.0019014928769934835, 0.0018890314555055512, 0.0018790809622819566, 0.0018685129838772595, 0.0018625773522699925, 0.001854428666922443, 0.0018470163258814498, 0.0018393015240414365, 0.0018325646802991953, 0.0018246535554735203, 0.0018175475425555702, 0.0018142205547470875, 0.001806808857883881, 0.0018024078174687533, 0.001797954493688321, 0.0017923850284797126, 0.0017882677445704364, 0.00178526520058646, 0.001780937111683242, 0.0017748424909034952, 0.0017697257720711134, 0.0017659002795370074, 0.0017622980915289388, 0.0017589746987573286, 0.001756589532450409, 0.0017503529321212733, 0.001747387518793227, 0.0017433248229554146, 0.0017392330871992354]\n"
     ]
    },
    {
     "data": {
      "application/vnd.jupyter.widget-view+json": {
       "model_id": "5751c6336e624dc9a2b054ef07de444b",
       "version_major": 2,
       "version_minor": 0
      },
      "text/plain": [
       "0it [00:00, ?it/s]"
      ]
     },
     "metadata": {},
     "output_type": "display_data"
    },
    {
     "name": "stdout",
     "output_type": "stream",
     "text": [
      "Loss of train: 0.00162\n",
      "Loss of val: 0.00174\n",
      "Loss of test: 0.00164\n",
      "Loss of gw_test: 0.00165\n",
      "[0.002875464157879343, 0.0026911373867355955, 0.0025690521974814882, 0.0024757135630076046, 0.0023929379324073713, 0.0023211349310837785, 0.0022583624501981863, 0.002203602449855645, 0.002155585749423517, 0.0021137628754075936, 0.002080484218672174, 0.0020523022364845925, 0.002025090916227806, 0.00200292052670836, 0.0019821029398859615, 0.0019605123611638763, 0.0019468504857308626, 0.0019306333091037087, 0.0019161541111656331, 0.0019014928769934835, 0.0018890314555055512, 0.0018790809622819566, 0.0018685129838772595, 0.0018625773522699925, 0.001854428666922443, 0.0018470163258814498, 0.0018393015240414365, 0.0018325646802991953, 0.0018246535554735203, 0.0018175475425555702, 0.0018142205547470875, 0.001806808857883881, 0.0018024078174687533, 0.001797954493688321, 0.0017923850284797126, 0.0017882677445704364, 0.00178526520058646, 0.001780937111683242, 0.0017748424909034952, 0.0017697257720711134, 0.0017659002795370074, 0.0017622980915289388, 0.0017589746987573286, 0.001756589532450409, 0.0017503529321212733, 0.001747387518793227, 0.0017433248229554146, 0.0017392330871992354, 0.0017364916259609673]\n"
     ]
    },
    {
     "data": {
      "application/vnd.jupyter.widget-view+json": {
       "model_id": "dac69ff87ad54a2a87bd9cb2a4f81c76",
       "version_major": 2,
       "version_minor": 0
      },
      "text/plain": [
       "0it [00:00, ?it/s]"
      ]
     },
     "metadata": {},
     "output_type": "display_data"
    },
    {
     "name": "stdout",
     "output_type": "stream",
     "text": [
      "Loss of train: 0.00162\n",
      "Loss of val: 0.00174\n",
      "Loss of test: 0.00163\n",
      "Loss of gw_test: 0.00165\n",
      "[0.002875464157879343, 0.0026911373867355955, 0.0025690521974814882, 0.0024757135630076046, 0.0023929379324073713, 0.0023211349310837785, 0.0022583624501981863, 0.002203602449855645, 0.002155585749423517, 0.0021137628754075936, 0.002080484218672174, 0.0020523022364845925, 0.002025090916227806, 0.00200292052670836, 0.0019821029398859615, 0.0019605123611638763, 0.0019468504857308626, 0.0019306333091037087, 0.0019161541111656331, 0.0019014928769934835, 0.0018890314555055512, 0.0018790809622819566, 0.0018685129838772595, 0.0018625773522699925, 0.001854428666922443, 0.0018470163258814498, 0.0018393015240414365, 0.0018325646802991953, 0.0018246535554735203, 0.0018175475425555702, 0.0018142205547470875, 0.001806808857883881, 0.0018024078174687533, 0.001797954493688321, 0.0017923850284797126, 0.0017882677445704364, 0.00178526520058646, 0.001780937111683242, 0.0017748424909034952, 0.0017697257720711134, 0.0017659002795370074, 0.0017622980915289388, 0.0017589746987573286, 0.001756589532450409, 0.0017503529321212733, 0.001747387518793227, 0.0017433248229554146, 0.0017392330871992354, 0.0017364916259609673, 0.0017351043804912996]\n"
     ]
    },
    {
     "data": {
      "application/vnd.jupyter.widget-view+json": {
       "model_id": "2b6c5f92c4ab4679a0b6eb4b4bbc792a",
       "version_major": 2,
       "version_minor": 0
      },
      "text/plain": [
       "0it [00:00, ?it/s]"
      ]
     },
     "metadata": {},
     "output_type": "display_data"
    },
    {
     "name": "stdout",
     "output_type": "stream",
     "text": [
      "Loss of train: 0.00162\n",
      "Loss of val: 0.00173\n",
      "Loss of test: 0.00163\n",
      "Loss of gw_test: 0.00164\n",
      "[0.002875464157879343, 0.0026911373867355955, 0.0025690521974814882, 0.0024757135630076046, 0.0023929379324073713, 0.0023211349310837785, 0.0022583624501981863, 0.002203602449855645, 0.002155585749423517, 0.0021137628754075936, 0.002080484218672174, 0.0020523022364845925, 0.002025090916227806, 0.00200292052670836, 0.0019821029398859615, 0.0019605123611638763, 0.0019468504857308626, 0.0019306333091037087, 0.0019161541111656331, 0.0019014928769934835, 0.0018890314555055512, 0.0018790809622819566, 0.0018685129838772595, 0.0018625773522699925, 0.001854428666922443, 0.0018470163258814498, 0.0018393015240414365, 0.0018325646802991953, 0.0018246535554735203, 0.0018175475425555702, 0.0018142205547470875, 0.001806808857883881, 0.0018024078174687533, 0.001797954493688321, 0.0017923850284797126, 0.0017882677445704364, 0.00178526520058646, 0.001780937111683242, 0.0017748424909034952, 0.0017697257720711134, 0.0017659002795370074, 0.0017622980915289388, 0.0017589746987573286, 0.001756589532450409, 0.0017503529321212733, 0.001747387518793227, 0.0017433248229554146, 0.0017392330871992354, 0.0017364916259609673, 0.0017351043804912996, 0.0017337409518234813]\n"
     ]
    },
    {
     "data": {
      "application/vnd.jupyter.widget-view+json": {
       "model_id": "53733bf6ad3840678426b748a348d940",
       "version_major": 2,
       "version_minor": 0
      },
      "text/plain": [
       "0it [00:00, ?it/s]"
      ]
     },
     "metadata": {},
     "output_type": "display_data"
    },
    {
     "name": "stdout",
     "output_type": "stream",
     "text": [
      "Loss of train: 0.00161\n",
      "Loss of val: 0.00173\n",
      "Loss of test: 0.00163\n",
      "Loss of gw_test: 0.00164\n",
      "[0.002875464157879343, 0.0026911373867355955, 0.0025690521974814882, 0.0024757135630076046, 0.0023929379324073713, 0.0023211349310837785, 0.0022583624501981863, 0.002203602449855645, 0.002155585749423517, 0.0021137628754075936, 0.002080484218672174, 0.0020523022364845925, 0.002025090916227806, 0.00200292052670836, 0.0019821029398859615, 0.0019605123611638763, 0.0019468504857308626, 0.0019306333091037087, 0.0019161541111656331, 0.0019014928769934835, 0.0018890314555055512, 0.0018790809622819566, 0.0018685129838772595, 0.0018625773522699925, 0.001854428666922443, 0.0018470163258814498, 0.0018393015240414365, 0.0018325646802991953, 0.0018246535554735203, 0.0018175475425555702, 0.0018142205547470875, 0.001806808857883881, 0.0018024078174687533, 0.001797954493688321, 0.0017923850284797126, 0.0017882677445704364, 0.00178526520058646, 0.001780937111683242, 0.0017748424909034952, 0.0017697257720711134, 0.0017659002795370074, 0.0017622980915289388, 0.0017589746987573286, 0.001756589532450409, 0.0017503529321212733, 0.001747387518793227, 0.0017433248229554146, 0.0017392330871992354, 0.0017364916259609673, 0.0017351043804912996, 0.0017337409518234813, 0.0017310993756698137]\n"
     ]
    },
    {
     "data": {
      "application/vnd.jupyter.widget-view+json": {
       "model_id": "c7690a4b2d7d4fc19c8316ae5125ad55",
       "version_major": 2,
       "version_minor": 0
      },
      "text/plain": [
       "0it [00:00, ?it/s]"
      ]
     },
     "metadata": {},
     "output_type": "display_data"
    },
    {
     "name": "stdout",
     "output_type": "stream",
     "text": [
      "Loss of train: 0.00161\n",
      "Loss of val: 0.00173\n",
      "Loss of test: 0.00162\n",
      "Loss of gw_test: 0.00164\n",
      "[0.002875464157879343, 0.0026911373867355955, 0.0025690521974814882, 0.0024757135630076046, 0.0023929379324073713, 0.0023211349310837785, 0.0022583624501981863, 0.002203602449855645, 0.002155585749423517, 0.0021137628754075936, 0.002080484218672174, 0.0020523022364845925, 0.002025090916227806, 0.00200292052670836, 0.0019821029398859615, 0.0019605123611638763, 0.0019468504857308626, 0.0019306333091037087, 0.0019161541111656331, 0.0019014928769934835, 0.0018890314555055512, 0.0018790809622819566, 0.0018685129838772595, 0.0018625773522699925, 0.001854428666922443, 0.0018470163258814498, 0.0018393015240414365, 0.0018325646802991953, 0.0018246535554735203, 0.0018175475425555702, 0.0018142205547470875, 0.001806808857883881, 0.0018024078174687533, 0.001797954493688321, 0.0017923850284797126, 0.0017882677445704364, 0.00178526520058646, 0.001780937111683242, 0.0017748424909034952, 0.0017697257720711134, 0.0017659002795370074, 0.0017622980915289388, 0.0017589746987573286, 0.001756589532450409, 0.0017503529321212733, 0.001747387518793227, 0.0017433248229554146, 0.0017392330871992354, 0.0017364916259609673, 0.0017351043804912996, 0.0017337409518234813, 0.0017310993756698137, 0.0017292885422506832]\n"
     ]
    },
    {
     "data": {
      "application/vnd.jupyter.widget-view+json": {
       "model_id": "4607eaba196749a2a46b3d103b318ae0",
       "version_major": 2,
       "version_minor": 0
      },
      "text/plain": [
       "0it [00:00, ?it/s]"
      ]
     },
     "metadata": {},
     "output_type": "display_data"
    },
    {
     "name": "stdout",
     "output_type": "stream",
     "text": [
      "Loss of train: 0.00161\n",
      "Loss of val: 0.00173\n",
      "Loss of test: 0.00162\n",
      "Loss of gw_test: 0.00163\n",
      "[0.002875464157879343, 0.0026911373867355955, 0.0025690521974814882, 0.0024757135630076046, 0.0023929379324073713, 0.0023211349310837785, 0.0022583624501981863, 0.002203602449855645, 0.002155585749423517, 0.0021137628754075936, 0.002080484218672174, 0.0020523022364845925, 0.002025090916227806, 0.00200292052670836, 0.0019821029398859615, 0.0019605123611638763, 0.0019468504857308626, 0.0019306333091037087, 0.0019161541111656331, 0.0019014928769934835, 0.0018890314555055512, 0.0018790809622819566, 0.0018685129838772595, 0.0018625773522699925, 0.001854428666922443, 0.0018470163258814498, 0.0018393015240414365, 0.0018325646802991953, 0.0018246535554735203, 0.0018175475425555702, 0.0018142205547470875, 0.001806808857883881, 0.0018024078174687533, 0.001797954493688321, 0.0017923850284797126, 0.0017882677445704364, 0.00178526520058646, 0.001780937111683242, 0.0017748424909034952, 0.0017697257720711134, 0.0017659002795370074, 0.0017622980915289388, 0.0017589746987573286, 0.001756589532450409, 0.0017503529321212733, 0.001747387518793227, 0.0017433248229554146, 0.0017392330871992354, 0.0017364916259609673, 0.0017351043804912996, 0.0017337409518234813, 0.0017310993756698137, 0.0017292885422506832, 0.0017258830606875896]\n"
     ]
    },
    {
     "data": {
      "application/vnd.jupyter.widget-view+json": {
       "model_id": "ffd5430517434383ba5cd223303dff1f",
       "version_major": 2,
       "version_minor": 0
      },
      "text/plain": [
       "0it [00:00, ?it/s]"
      ]
     },
     "metadata": {},
     "output_type": "display_data"
    },
    {
     "name": "stdout",
     "output_type": "stream",
     "text": [
      "Loss of train: 0.00160\n",
      "Loss of val: 0.00172\n",
      "Loss of test: 0.00162\n",
      "Loss of gw_test: 0.00162\n",
      "[0.002875464157879343, 0.0026911373867355955, 0.0025690521974814882, 0.0024757135630076046, 0.0023929379324073713, 0.0023211349310837785, 0.0022583624501981863, 0.002203602449855645, 0.002155585749423517, 0.0021137628754075936, 0.002080484218672174, 0.0020523022364845925, 0.002025090916227806, 0.00200292052670836, 0.0019821029398859615, 0.0019605123611638763, 0.0019468504857308626, 0.0019306333091037087, 0.0019161541111656331, 0.0019014928769934835, 0.0018890314555055512, 0.0018790809622819566, 0.0018685129838772595, 0.0018625773522699925, 0.001854428666922443, 0.0018470163258814498, 0.0018393015240414365, 0.0018325646802991953, 0.0018246535554735203, 0.0018175475425555702, 0.0018142205547470875, 0.001806808857883881, 0.0018024078174687533, 0.001797954493688321, 0.0017923850284797126, 0.0017882677445704364, 0.00178526520058646, 0.001780937111683242, 0.0017748424909034952, 0.0017697257720711134, 0.0017659002795370074, 0.0017622980915289388, 0.0017589746987573286, 0.001756589532450409, 0.0017503529321212733, 0.001747387518793227, 0.0017433248229554146, 0.0017392330871992354, 0.0017364916259609673, 0.0017351043804912996, 0.0017337409518234813, 0.0017310993756698137, 0.0017292885422506832, 0.0017258830606875896, 0.0017214761366127122]\n"
     ]
    },
    {
     "data": {
      "application/vnd.jupyter.widget-view+json": {
       "model_id": "8bbc276fdbb1402ca1819808d7d50000",
       "version_major": 2,
       "version_minor": 0
      },
      "text/plain": [
       "0it [00:00, ?it/s]"
      ]
     },
     "metadata": {},
     "output_type": "display_data"
    },
    {
     "name": "stdout",
     "output_type": "stream",
     "text": [
      "Loss of train: 0.00160\n",
      "Loss of val: 0.00172\n",
      "Loss of test: 0.00162\n",
      "Loss of gw_test: 0.00162\n",
      "[0.002875464157879343, 0.0026911373867355955, 0.0025690521974814882, 0.0024757135630076046, 0.0023929379324073713, 0.0023211349310837785, 0.0022583624501981863, 0.002203602449855645, 0.002155585749423517, 0.0021137628754075936, 0.002080484218672174, 0.0020523022364845925, 0.002025090916227806, 0.00200292052670836, 0.0019821029398859615, 0.0019605123611638763, 0.0019468504857308626, 0.0019306333091037087, 0.0019161541111656331, 0.0019014928769934835, 0.0018890314555055512, 0.0018790809622819566, 0.0018685129838772595, 0.0018625773522699925, 0.001854428666922443, 0.0018470163258814498, 0.0018393015240414365, 0.0018325646802991953, 0.0018246535554735203, 0.0018175475425555702, 0.0018142205547470875, 0.001806808857883881, 0.0018024078174687533, 0.001797954493688321, 0.0017923850284797126, 0.0017882677445704364, 0.00178526520058646, 0.001780937111683242, 0.0017748424909034952, 0.0017697257720711134, 0.0017659002795370074, 0.0017622980915289388, 0.0017589746987573286, 0.001756589532450409, 0.0017503529321212733, 0.001747387518793227, 0.0017433248229554146, 0.0017392330871992354, 0.0017364916259609673, 0.0017351043804912996, 0.0017337409518234813, 0.0017310993756698137, 0.0017292885422506832, 0.0017258830606875896, 0.0017214761366127122, 0.001720700437078316]\n"
     ]
    },
    {
     "data": {
      "application/vnd.jupyter.widget-view+json": {
       "model_id": "179549a9213443f48a2dcb7f15c7708a",
       "version_major": 2,
       "version_minor": 0
      },
      "text/plain": [
       "0it [00:00, ?it/s]"
      ]
     },
     "metadata": {},
     "output_type": "display_data"
    },
    {
     "name": "stdout",
     "output_type": "stream",
     "text": [
      "Loss of train: 0.00160\n",
      "Loss of val: 0.00172\n",
      "Loss of test: 0.00161\n",
      "Loss of gw_test: 0.00162\n",
      "[0.002875464157879343, 0.0026911373867355955, 0.0025690521974814882, 0.0024757135630076046, 0.0023929379324073713, 0.0023211349310837785, 0.0022583624501981863, 0.002203602449855645, 0.002155585749423517, 0.0021137628754075936, 0.002080484218672174, 0.0020523022364845925, 0.002025090916227806, 0.00200292052670836, 0.0019821029398859615, 0.0019605123611638763, 0.0019468504857308626, 0.0019306333091037087, 0.0019161541111656331, 0.0019014928769934835, 0.0018890314555055512, 0.0018790809622819566, 0.0018685129838772595, 0.0018625773522699925, 0.001854428666922443, 0.0018470163258814498, 0.0018393015240414365, 0.0018325646802991953, 0.0018246535554735203, 0.0018175475425555702, 0.0018142205547470875, 0.001806808857883881, 0.0018024078174687533, 0.001797954493688321, 0.0017923850284797126, 0.0017882677445704364, 0.00178526520058646, 0.001780937111683242, 0.0017748424909034952, 0.0017697257720711134, 0.0017659002795370074, 0.0017622980915289388, 0.0017589746987573286, 0.001756589532450409, 0.0017503529321212733, 0.001747387518793227, 0.0017433248229554146, 0.0017392330871992354, 0.0017364916259609673, 0.0017351043804912996, 0.0017337409518234813, 0.0017310993756698137, 0.0017292885422506832, 0.0017258830606875896, 0.0017214761366127122, 0.001720700437078316, 0.0017189112675584887]\n"
     ]
    },
    {
     "data": {
      "application/vnd.jupyter.widget-view+json": {
       "model_id": "105a4b0c10ae4cba921a97c9dd5d7f17",
       "version_major": 2,
       "version_minor": 0
      },
      "text/plain": [
       "0it [00:00, ?it/s]"
      ]
     },
     "metadata": {},
     "output_type": "display_data"
    },
    {
     "name": "stdout",
     "output_type": "stream",
     "text": [
      "Loss of train: 0.00160\n",
      "Loss of val: 0.00172\n",
      "Loss of test: 0.00161\n",
      "Loss of gw_test: 0.00162\n",
      "[0.002875464157879343, 0.0026911373867355955, 0.0025690521974814882, 0.0024757135630076046, 0.0023929379324073713, 0.0023211349310837785, 0.0022583624501981863, 0.002203602449855645, 0.002155585749423517, 0.0021137628754075936, 0.002080484218672174, 0.0020523022364845925, 0.002025090916227806, 0.00200292052670836, 0.0019821029398859615, 0.0019605123611638763, 0.0019468504857308626, 0.0019306333091037087, 0.0019161541111656331, 0.0019014928769934835, 0.0018890314555055512, 0.0018790809622819566, 0.0018685129838772595, 0.0018625773522699925, 0.001854428666922443, 0.0018470163258814498, 0.0018393015240414365, 0.0018325646802991953, 0.0018246535554735203, 0.0018175475425555702, 0.0018142205547470875, 0.001806808857883881, 0.0018024078174687533, 0.001797954493688321, 0.0017923850284797126, 0.0017882677445704364, 0.00178526520058646, 0.001780937111683242, 0.0017748424909034952, 0.0017697257720711134, 0.0017659002795370074, 0.0017622980915289388, 0.0017589746987573286, 0.001756589532450409, 0.0017503529321212733, 0.001747387518793227, 0.0017433248229554146, 0.0017392330871992354, 0.0017364916259609673, 0.0017351043804912996, 0.0017337409518234813, 0.0017310993756698137, 0.0017292885422506832, 0.0017258830606875896, 0.0017214761366127122, 0.001720700437078316, 0.0017189112675584887, 0.001717042235512065]\n"
     ]
    },
    {
     "data": {
      "application/vnd.jupyter.widget-view+json": {
       "model_id": "f724b344a9054e37b81c7a51a5dbb8b5",
       "version_major": 2,
       "version_minor": 0
      },
      "text/plain": [
       "0it [00:00, ?it/s]"
      ]
     },
     "metadata": {},
     "output_type": "display_data"
    },
    {
     "name": "stdout",
     "output_type": "stream",
     "text": [
      "Loss of train: 0.00160\n",
      "Loss of val: 0.00172\n",
      "Loss of test: 0.00161\n",
      "Loss of gw_test: 0.00162\n",
      "[0.002875464157879343, 0.0026911373867355955, 0.0025690521974814882, 0.0024757135630076046, 0.0023929379324073713, 0.0023211349310837785, 0.0022583624501981863, 0.002203602449855645, 0.002155585749423517, 0.0021137628754075936, 0.002080484218672174, 0.0020523022364845925, 0.002025090916227806, 0.00200292052670836, 0.0019821029398859615, 0.0019605123611638763, 0.0019468504857308626, 0.0019306333091037087, 0.0019161541111656331, 0.0019014928769934835, 0.0018890314555055512, 0.0018790809622819566, 0.0018685129838772595, 0.0018625773522699925, 0.001854428666922443, 0.0018470163258814498, 0.0018393015240414365, 0.0018325646802991953, 0.0018246535554735203, 0.0018175475425555702, 0.0018142205547470875, 0.001806808857883881, 0.0018024078174687533, 0.001797954493688321, 0.0017923850284797126, 0.0017882677445704364, 0.00178526520058646, 0.001780937111683242, 0.0017748424909034952, 0.0017697257720711134, 0.0017659002795370074, 0.0017622980915289388, 0.0017589746987573286, 0.001756589532450409, 0.0017503529321212733, 0.001747387518793227, 0.0017433248229554146, 0.0017392330871992354, 0.0017364916259609673, 0.0017351043804912996, 0.0017337409518234813, 0.0017310993756698137, 0.0017292885422506832, 0.0017258830606875896, 0.0017214761366127122, 0.001720700437078316, 0.0017189112675584887, 0.001717042235512065, 0.0017173092496030444]\n",
      "Break at 58\n"
     ]
    },
    {
     "ename": "ValueError",
     "evalue": "Length of values (2) does not match length of index (1)",
     "output_type": "error",
     "traceback": [
      "\u001b[0;31m---------------------------------------------------------------------------\u001b[0m",
      "\u001b[0;31mValueError\u001b[0m                                Traceback (most recent call last)",
      "Cell \u001b[0;32mIn[27], line 64\u001b[0m\n\u001b[1;32m     61\u001b[0m processed_losses\u001b[38;5;241m.\u001b[39mappend(val_losses[\u001b[38;5;241m-\u001b[39m\u001b[38;5;241m1\u001b[39m])\n\u001b[1;32m     63\u001b[0m \u001b[38;5;28;01mif\u001b[39;00m i \u001b[38;5;241m%\u001b[39m save_progress_iter \u001b[38;5;241m==\u001b[39m \u001b[38;5;241m0\u001b[39m:\n\u001b[0;32m---> 64\u001b[0m     \u001b[43mdf\u001b[49m\u001b[43m[\u001b[49m\u001b[38;5;124;43m\"\u001b[39;49m\u001b[38;5;124;43mparams\u001b[39;49m\u001b[38;5;124;43m\"\u001b[39;49m\u001b[43m]\u001b[49m \u001b[38;5;241m=\u001b[39m processed_params\n\u001b[1;32m     65\u001b[0m     df[\u001b[38;5;124m\"\u001b[39m\u001b[38;5;124mloss\u001b[39m\u001b[38;5;124m\"\u001b[39m] \u001b[38;5;241m=\u001b[39m processed_losses\n\u001b[1;32m     66\u001b[0m     df\u001b[38;5;241m.\u001b[39mto_csv(\u001b[38;5;124m\"\u001b[39m\u001b[38;5;124mcnn_params.csv\u001b[39m\u001b[38;5;124m\"\u001b[39m)\n",
      "File \u001b[0;32m~/.local/lib/python3.10/site-packages/pandas/core/frame.py:3980\u001b[0m, in \u001b[0;36mDataFrame.__setitem__\u001b[0;34m(self, key, value)\u001b[0m\n\u001b[1;32m   3977\u001b[0m     \u001b[38;5;28mself\u001b[39m\u001b[38;5;241m.\u001b[39m_setitem_array([key], value)\n\u001b[1;32m   3978\u001b[0m \u001b[38;5;28;01melse\u001b[39;00m:\n\u001b[1;32m   3979\u001b[0m     \u001b[38;5;66;03m# set column\u001b[39;00m\n\u001b[0;32m-> 3980\u001b[0m     \u001b[38;5;28;43mself\u001b[39;49m\u001b[38;5;241;43m.\u001b[39;49m\u001b[43m_set_item\u001b[49m\u001b[43m(\u001b[49m\u001b[43mkey\u001b[49m\u001b[43m,\u001b[49m\u001b[43m \u001b[49m\u001b[43mvalue\u001b[49m\u001b[43m)\u001b[49m\n",
      "File \u001b[0;32m~/.local/lib/python3.10/site-packages/pandas/core/frame.py:4174\u001b[0m, in \u001b[0;36mDataFrame._set_item\u001b[0;34m(self, key, value)\u001b[0m\n\u001b[1;32m   4164\u001b[0m \u001b[38;5;28;01mdef\u001b[39;00m \u001b[38;5;21m_set_item\u001b[39m(\u001b[38;5;28mself\u001b[39m, key, value) \u001b[38;5;241m-\u001b[39m\u001b[38;5;241m>\u001b[39m \u001b[38;5;28;01mNone\u001b[39;00m:\n\u001b[1;32m   4165\u001b[0m \u001b[38;5;250m    \u001b[39m\u001b[38;5;124;03m\"\"\"\u001b[39;00m\n\u001b[1;32m   4166\u001b[0m \u001b[38;5;124;03m    Add series to DataFrame in specified column.\u001b[39;00m\n\u001b[1;32m   4167\u001b[0m \n\u001b[0;32m   (...)\u001b[0m\n\u001b[1;32m   4172\u001b[0m \u001b[38;5;124;03m    ensure homogeneity.\u001b[39;00m\n\u001b[1;32m   4173\u001b[0m \u001b[38;5;124;03m    \"\"\"\u001b[39;00m\n\u001b[0;32m-> 4174\u001b[0m     value \u001b[38;5;241m=\u001b[39m \u001b[38;5;28;43mself\u001b[39;49m\u001b[38;5;241;43m.\u001b[39;49m\u001b[43m_sanitize_column\u001b[49m\u001b[43m(\u001b[49m\u001b[43mvalue\u001b[49m\u001b[43m)\u001b[49m\n\u001b[1;32m   4176\u001b[0m     \u001b[38;5;28;01mif\u001b[39;00m (\n\u001b[1;32m   4177\u001b[0m         key \u001b[38;5;129;01min\u001b[39;00m \u001b[38;5;28mself\u001b[39m\u001b[38;5;241m.\u001b[39mcolumns\n\u001b[1;32m   4178\u001b[0m         \u001b[38;5;129;01mand\u001b[39;00m value\u001b[38;5;241m.\u001b[39mndim \u001b[38;5;241m==\u001b[39m \u001b[38;5;241m1\u001b[39m\n\u001b[1;32m   4179\u001b[0m         \u001b[38;5;129;01mand\u001b[39;00m \u001b[38;5;129;01mnot\u001b[39;00m is_extension_array_dtype(value)\n\u001b[1;32m   4180\u001b[0m     ):\n\u001b[1;32m   4181\u001b[0m         \u001b[38;5;66;03m# broadcast across multiple columns if necessary\u001b[39;00m\n\u001b[1;32m   4182\u001b[0m         \u001b[38;5;28;01mif\u001b[39;00m \u001b[38;5;129;01mnot\u001b[39;00m \u001b[38;5;28mself\u001b[39m\u001b[38;5;241m.\u001b[39mcolumns\u001b[38;5;241m.\u001b[39mis_unique \u001b[38;5;129;01mor\u001b[39;00m \u001b[38;5;28misinstance\u001b[39m(\u001b[38;5;28mself\u001b[39m\u001b[38;5;241m.\u001b[39mcolumns, MultiIndex):\n",
      "File \u001b[0;32m~/.local/lib/python3.10/site-packages/pandas/core/frame.py:4915\u001b[0m, in \u001b[0;36mDataFrame._sanitize_column\u001b[0;34m(self, value)\u001b[0m\n\u001b[1;32m   4912\u001b[0m     \u001b[38;5;28;01mreturn\u001b[39;00m _reindex_for_setitem(Series(value), \u001b[38;5;28mself\u001b[39m\u001b[38;5;241m.\u001b[39mindex)\n\u001b[1;32m   4914\u001b[0m \u001b[38;5;28;01mif\u001b[39;00m is_list_like(value):\n\u001b[0;32m-> 4915\u001b[0m     \u001b[43mcom\u001b[49m\u001b[38;5;241;43m.\u001b[39;49m\u001b[43mrequire_length_match\u001b[49m\u001b[43m(\u001b[49m\u001b[43mvalue\u001b[49m\u001b[43m,\u001b[49m\u001b[43m \u001b[49m\u001b[38;5;28;43mself\u001b[39;49m\u001b[38;5;241;43m.\u001b[39;49m\u001b[43mindex\u001b[49m\u001b[43m)\u001b[49m\n\u001b[1;32m   4916\u001b[0m \u001b[38;5;28;01mreturn\u001b[39;00m sanitize_array(value, \u001b[38;5;28mself\u001b[39m\u001b[38;5;241m.\u001b[39mindex, copy\u001b[38;5;241m=\u001b[39m\u001b[38;5;28;01mTrue\u001b[39;00m, allow_2d\u001b[38;5;241m=\u001b[39m\u001b[38;5;28;01mTrue\u001b[39;00m)\n",
      "File \u001b[0;32m~/.local/lib/python3.10/site-packages/pandas/core/common.py:571\u001b[0m, in \u001b[0;36mrequire_length_match\u001b[0;34m(data, index)\u001b[0m\n\u001b[1;32m    567\u001b[0m \u001b[38;5;250m\u001b[39m\u001b[38;5;124;03m\"\"\"\u001b[39;00m\n\u001b[1;32m    568\u001b[0m \u001b[38;5;124;03mCheck the length of data matches the length of the index.\u001b[39;00m\n\u001b[1;32m    569\u001b[0m \u001b[38;5;124;03m\"\"\"\u001b[39;00m\n\u001b[1;32m    570\u001b[0m \u001b[38;5;28;01mif\u001b[39;00m \u001b[38;5;28mlen\u001b[39m(data) \u001b[38;5;241m!=\u001b[39m \u001b[38;5;28mlen\u001b[39m(index):\n\u001b[0;32m--> 571\u001b[0m     \u001b[38;5;28;01mraise\u001b[39;00m \u001b[38;5;167;01mValueError\u001b[39;00m(\n\u001b[1;32m    572\u001b[0m         \u001b[38;5;124m\"\u001b[39m\u001b[38;5;124mLength of values \u001b[39m\u001b[38;5;124m\"\u001b[39m\n\u001b[1;32m    573\u001b[0m         \u001b[38;5;124mf\u001b[39m\u001b[38;5;124m\"\u001b[39m\u001b[38;5;124m(\u001b[39m\u001b[38;5;132;01m{\u001b[39;00m\u001b[38;5;28mlen\u001b[39m(data)\u001b[38;5;132;01m}\u001b[39;00m\u001b[38;5;124m) \u001b[39m\u001b[38;5;124m\"\u001b[39m\n\u001b[1;32m    574\u001b[0m         \u001b[38;5;124m\"\u001b[39m\u001b[38;5;124mdoes not match length of index \u001b[39m\u001b[38;5;124m\"\u001b[39m\n\u001b[1;32m    575\u001b[0m         \u001b[38;5;124mf\u001b[39m\u001b[38;5;124m\"\u001b[39m\u001b[38;5;124m(\u001b[39m\u001b[38;5;132;01m{\u001b[39;00m\u001b[38;5;28mlen\u001b[39m(index)\u001b[38;5;132;01m}\u001b[39;00m\u001b[38;5;124m)\u001b[39m\u001b[38;5;124m\"\u001b[39m\n\u001b[1;32m    576\u001b[0m     )\n",
      "\u001b[0;31mValueError\u001b[0m: Length of values (2) does not match length of index (1)"
     ]
    }
   ],
   "source": [
    "from sklearn.model_selection import ParameterGrid\n",
    "import copy\n",
    "\n",
    "torch.manual_seed(42)\n",
    "space = {\n",
    "    'lr': np.linspace(1e-4, 1e-2, 4, endpoint=True), #np.linspace(1e-4, 1e-2, 4, endpoint=True),\n",
    "    'dropout':[0, 0.2,.4],\n",
    "    'num_heads':[1, 2, 4],\n",
    "    'wd':[0, 1e-4, 1e-2],\n",
    "}\n",
    "param_grid = ParameterGrid(space)\n",
    "\n",
    "best_hyper_params = {'dropout': 0, 'lr': 0.006700000000000001, 'num_heads': 4, 'wd': 0.0001}\n",
    "best_val_loss = 0.001575872745897522\n",
    "\n",
    "df = pd.DataFrame()\n",
    "processed_params = []\n",
    "processed_losses = []\n",
    "\n",
    "save_progress_iter = 1\n",
    "\n",
    "patience = 2\n",
    "for i, params in tqdm(enumerate(param_grid.__iter__())):\n",
    "    if i <= 77:\n",
    "        continue\n",
    "    torch.manual_seed(42)\n",
    "    input_dim, n_embd, n_heads, dropout, n_blocks = len(FEATURES), len(FEATURES), params[\"num_heads\"], params[\"dropout\"], 1\n",
    "    model = TransformerModel(input_dim, n_embd, n_heads, dropout, n_blocks).to(device)\n",
    "    optim= torch.optim.Adam(model.parameters(), lr = params[\"lr\"], weight_decay=params[\"wd\"])\n",
    "\n",
    "    models = []\n",
    "\n",
    "    torch.manual_seed(42)\n",
    "\n",
    "    last_val_loss = None\n",
    "    val_losses = []\n",
    "    never_breaked = True\n",
    "    for epoch in range(100):#5\n",
    "        for i, (x,y) in tqdm(enumerate(batch_loader[TRAIN])):\n",
    "            model.train()\n",
    "            optim.zero_grad()\n",
    "            \n",
    "            logits, logits_mask = model(x)\n",
    "            loss = torch.nn.functional.binary_cross_entropy_with_logits(logits[logits_mask].squeeze(-1), y[logits_mask], pos_weight=torch.tensor(WEIGHT))\n",
    "                \n",
    "            loss.backward()\n",
    "            optim.step()\n",
    "        losses = evaluate_loss_sets(model)\n",
    "        val_losses.append(losses[VAL])\n",
    "        models.append(copy.deepcopy(model))\n",
    "        print(val_losses)\n",
    "        if len(val_losses) >= patience and all(list(map(lambda l: losses[VAL] >= l, val_losses[-patience:]))):\n",
    "            print(f\"Break at {epoch}\")\n",
    "            never_breaked = False\n",
    "            model = models[-2]\n",
    "            break\n",
    "    if never_breaked:\n",
    "        print(\"Never breaked with params\")\n",
    "        print(params)\n",
    "    processed_params.append(params)\n",
    "    processed_losses.append(val_losses[-1])\n",
    "\n",
    "    if i % save_progress_iter == 0:\n",
    "        df = pd.DataFrame()\n",
    "        df[\"params\"] = processed_params\n",
    "        df[\"losses\"] = processed_losses\n",
    "        df.to_csv(\"cnn_params.csv\")\n",
    "    # evaluate_auroc_sets(model)\n",
    "    if val_losses[-1]<= best_val_loss:\n",
    "        best_val_loss = min(val_losses[-1], best_val_loss)\n",
    "        best_hyper_params = params\n",
    "        print(\"Currently best params: \")\n",
    "        print(best_hyper_params)"
   ]
  },
  {
   "cell_type": "code",
   "execution_count": 28,
   "id": "ba0926d7-cc58-43c7-9a44-3dcbc48e85e4",
   "metadata": {},
   "outputs": [
    {
     "data": {
      "text/plain": [
       "{'dropout': 0, 'lr': 0.006700000000000001, 'num_heads': 4, 'wd': 0.0001}"
      ]
     },
     "execution_count": 28,
     "metadata": {},
     "output_type": "execute_result"
    }
   ],
   "source": [
    "best_hyper_params"
   ]
  },
  {
   "cell_type": "code",
   "execution_count": 29,
   "id": "8866ec61-b068-4cbf-b6f6-528b8059df3d",
   "metadata": {},
   "outputs": [
    {
     "data": {
      "text/plain": [
       "0.001575872745897522"
      ]
     },
     "execution_count": 29,
     "metadata": {},
     "output_type": "execute_result"
    }
   ],
   "source": [
    "best_val_loss"
   ]
  },
  {
   "cell_type": "code",
   "execution_count": 30,
   "id": "3ad29fc1-d219-4d78-949e-a559f4d22d1d",
   "metadata": {},
   "outputs": [
    {
     "data": {
      "text/html": [
       "<div>\n",
       "<style scoped>\n",
       "    .dataframe tbody tr th:only-of-type {\n",
       "        vertical-align: middle;\n",
       "    }\n",
       "\n",
       "    .dataframe tbody tr th {\n",
       "        vertical-align: top;\n",
       "    }\n",
       "\n",
       "    .dataframe thead th {\n",
       "        text-align: right;\n",
       "    }\n",
       "</style>\n",
       "<table border=\"1\" class=\"dataframe\">\n",
       "  <thead>\n",
       "    <tr style=\"text-align: right;\">\n",
       "      <th></th>\n",
       "      <th>params</th>\n",
       "      <th>loss</th>\n",
       "    </tr>\n",
       "  </thead>\n",
       "  <tbody>\n",
       "    <tr>\n",
       "      <th>0</th>\n",
       "      <td>{'dropout': 0.4, 'lr': 0.0001, 'num_heads': 4,...</td>\n",
       "      <td>0.001771</td>\n",
       "    </tr>\n",
       "  </tbody>\n",
       "</table>\n",
       "</div>"
      ],
      "text/plain": [
       "                                              params      loss\n",
       "0  {'dropout': 0.4, 'lr': 0.0001, 'num_heads': 4,...  0.001771"
      ]
     },
     "execution_count": 30,
     "metadata": {},
     "output_type": "execute_result"
    }
   ],
   "source": [
    "df"
   ]
  },
  {
   "cell_type": "code",
   "execution_count": 32,
   "id": "fbbe997b-758c-43d6-a863-188913659c57",
   "metadata": {},
   "outputs": [
    {
     "data": {
      "text/plain": [
       "[{'dropout': 0.4, 'lr': 0.0001, 'num_heads': 4, 'wd': 0},\n",
       " {'dropout': 0.4, 'lr': 0.0001, 'num_heads': 4, 'wd': 0.0001}]"
      ]
     },
     "execution_count": 32,
     "metadata": {},
     "output_type": "execute_result"
    }
   ],
   "source": [
    "processed_params"
   ]
  },
  {
   "cell_type": "code",
   "execution_count": null,
   "id": "8de4e921-c346-4efa-afb9-b6d0f127b5ce",
   "metadata": {},
   "outputs": [],
   "source": []
  }
 ],
 "metadata": {
  "kernelspec": {
   "display_name": "Python 3 (ipykernel)",
   "language": "python",
   "name": "python3"
  },
  "language_info": {
   "codemirror_mode": {
    "name": "ipython",
    "version": 3
   },
   "file_extension": ".py",
   "mimetype": "text/x-python",
   "name": "python",
   "nbconvert_exporter": "python",
   "pygments_lexer": "ipython3",
   "version": "3.10.12"
  }
 },
 "nbformat": 4,
 "nbformat_minor": 5
}
