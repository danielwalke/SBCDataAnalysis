{
 "cells": [
  {
   "cell_type": "markdown",
   "id": "18229354-cd3e-43bd-a34c-8bdd0e220f75",
   "metadata": {},
   "source": [
    "## Dataset loader and preparation"
   ]
  },
  {
   "cell_type": "code",
   "execution_count": 1,
   "id": "f20ee0d6-e85e-4935-a58c-fbb3f76452f7",
   "metadata": {},
   "outputs": [],
   "source": [
    "import sys\n",
    "sys.path.insert(0, \"../\")\n",
    "from dataAnalysis.DataAnalysis import DataAnalysis\n",
    "import pandas as pd\n",
    "import torch\n",
    " \n",
    "data = pd.read_csv(r\"../sbcdata.csv\", header=0)\n",
    "data_analysis = DataAnalysis(data)"
   ]
  },
  {
   "cell_type": "code",
   "execution_count": 2,
   "id": "c8784566-1c9f-4f64-814a-6afaa149ac72",
   "metadata": {},
   "outputs": [],
   "source": [
    "data = pd.concat((data_analysis.get_training_data(), data_analysis.get_testing_data()))\n",
    "max_Id = data[\"Id\"].unique().max()\n",
    "gw_data = data_analysis.get_gw_testing_data().copy(deep=True)\n",
    "gw_data = gw_data.assign(Id=lambda x: x.Id + max_Id)\n",
    "data = pd.concat((data, gw_data))\n",
    "data = data.sort_values([\"Id\", \"Time\"])\n",
    "data = data.reset_index(drop=True)\n",
    "popped_index = data.pop(\"index\")"
   ]
  },
  {
   "cell_type": "code",
   "execution_count": 3,
   "id": "517e270b-b2e4-4287-a297-37155c5cbd85",
   "metadata": {},
   "outputs": [],
   "source": [
    "from dataAnalysis.Constants import SEX_CATEGORY_COLUMN_NAME, SEX_COLUMN_NAME, FEATURES, LABEL_COLUMN_NAME\n",
    "\n",
    "data[SEX_CATEGORY_COLUMN_NAME] = data.loc[:, SEX_COLUMN_NAME] ==\"W\"\n",
    "\n",
    "data[SEX_CATEGORY_COLUMN_NAME] = data[SEX_CATEGORY_COLUMN_NAME].astype(\"int8\")\n",
    "data[\"Label\"] = data[\"Label\"] == \"Sepsis\"\n",
    "data[\"Label\"] = data[\"Label\"].astype(\"int8\")"
   ]
  },
  {
   "cell_type": "markdown",
   "id": "0e2d6c76-3460-47ff-bbe1-e6dcc876b3f6",
   "metadata": {},
   "source": [
    "## Normalizer"
   ]
  },
  {
   "cell_type": "code",
   "execution_count": 4,
   "id": "6921df7b-52bf-4fbf-b464-312158cff5f3",
   "metadata": {},
   "outputs": [
    {
     "data": {
      "text/plain": [
       "array([[ 79.  ,   0.  ,   8.1 , ...,   4.36,  86.  , 167.  ],\n",
       "       [ 35.  ,   0.  ,  10.6 , ...,   6.02,  79.9 , 199.  ],\n",
       "       [ 47.  ,   1.  ,   8.7 , ...,   4.37,  89.9 , 298.  ],\n",
       "       ...,\n",
       "       [ 32.  ,   1.  ,   7.2 , ...,   3.87,  87.9 , 221.  ],\n",
       "       [ 47.  ,   0.  ,   8.3 , ...,   4.08,  91.9 , 148.  ],\n",
       "       [ 47.  ,   0.  ,   8.9 , ...,   4.39,  92.3 , 150.  ]])"
      ]
     },
     "execution_count": 4,
     "metadata": {},
     "output_type": "execute_result"
    }
   ],
   "source": [
    "data.loc[data[\"Set\"] == \"Training\", FEATURES].values"
   ]
  },
  {
   "cell_type": "code",
   "execution_count": 5,
   "id": "ed5cee5b-a4cd-422e-8eab-a54b1902535b",
   "metadata": {},
   "outputs": [
    {
     "data": {
      "text/html": [
       "<style>#sk-container-id-1 {color: black;}#sk-container-id-1 pre{padding: 0;}#sk-container-id-1 div.sk-toggleable {background-color: white;}#sk-container-id-1 label.sk-toggleable__label {cursor: pointer;display: block;width: 100%;margin-bottom: 0;padding: 0.3em;box-sizing: border-box;text-align: center;}#sk-container-id-1 label.sk-toggleable__label-arrow:before {content: \"▸\";float: left;margin-right: 0.25em;color: #696969;}#sk-container-id-1 label.sk-toggleable__label-arrow:hover:before {color: black;}#sk-container-id-1 div.sk-estimator:hover label.sk-toggleable__label-arrow:before {color: black;}#sk-container-id-1 div.sk-toggleable__content {max-height: 0;max-width: 0;overflow: hidden;text-align: left;background-color: #f0f8ff;}#sk-container-id-1 div.sk-toggleable__content pre {margin: 0.2em;color: black;border-radius: 0.25em;background-color: #f0f8ff;}#sk-container-id-1 input.sk-toggleable__control:checked~div.sk-toggleable__content {max-height: 200px;max-width: 100%;overflow: auto;}#sk-container-id-1 input.sk-toggleable__control:checked~label.sk-toggleable__label-arrow:before {content: \"▾\";}#sk-container-id-1 div.sk-estimator input.sk-toggleable__control:checked~label.sk-toggleable__label {background-color: #d4ebff;}#sk-container-id-1 div.sk-label input.sk-toggleable__control:checked~label.sk-toggleable__label {background-color: #d4ebff;}#sk-container-id-1 input.sk-hidden--visually {border: 0;clip: rect(1px 1px 1px 1px);clip: rect(1px, 1px, 1px, 1px);height: 1px;margin: -1px;overflow: hidden;padding: 0;position: absolute;width: 1px;}#sk-container-id-1 div.sk-estimator {font-family: monospace;background-color: #f0f8ff;border: 1px dotted black;border-radius: 0.25em;box-sizing: border-box;margin-bottom: 0.5em;}#sk-container-id-1 div.sk-estimator:hover {background-color: #d4ebff;}#sk-container-id-1 div.sk-parallel-item::after {content: \"\";width: 100%;border-bottom: 1px solid gray;flex-grow: 1;}#sk-container-id-1 div.sk-label:hover label.sk-toggleable__label {background-color: #d4ebff;}#sk-container-id-1 div.sk-serial::before {content: \"\";position: absolute;border-left: 1px solid gray;box-sizing: border-box;top: 0;bottom: 0;left: 50%;z-index: 0;}#sk-container-id-1 div.sk-serial {display: flex;flex-direction: column;align-items: center;background-color: white;padding-right: 0.2em;padding-left: 0.2em;position: relative;}#sk-container-id-1 div.sk-item {position: relative;z-index: 1;}#sk-container-id-1 div.sk-parallel {display: flex;align-items: stretch;justify-content: center;background-color: white;position: relative;}#sk-container-id-1 div.sk-item::before, #sk-container-id-1 div.sk-parallel-item::before {content: \"\";position: absolute;border-left: 1px solid gray;box-sizing: border-box;top: 0;bottom: 0;left: 50%;z-index: -1;}#sk-container-id-1 div.sk-parallel-item {display: flex;flex-direction: column;z-index: 1;position: relative;background-color: white;}#sk-container-id-1 div.sk-parallel-item:first-child::after {align-self: flex-end;width: 50%;}#sk-container-id-1 div.sk-parallel-item:last-child::after {align-self: flex-start;width: 50%;}#sk-container-id-1 div.sk-parallel-item:only-child::after {width: 0;}#sk-container-id-1 div.sk-dashed-wrapped {border: 1px dashed gray;margin: 0 0.4em 0.5em 0.4em;box-sizing: border-box;padding-bottom: 0.4em;background-color: white;}#sk-container-id-1 div.sk-label label {font-family: monospace;font-weight: bold;display: inline-block;line-height: 1.2em;}#sk-container-id-1 div.sk-label-container {text-align: center;}#sk-container-id-1 div.sk-container {/* jupyter's `normalize.less` sets `[hidden] { display: none; }` but bootstrap.min.css set `[hidden] { display: none !important; }` so we also need the `!important` here to be able to override the default hidden behavior on the sphinx rendered scikit-learn.org. See: https://github.com/scikit-learn/scikit-learn/issues/21755 */display: inline-block !important;position: relative;}#sk-container-id-1 div.sk-text-repr-fallback {display: none;}</style><div id=\"sk-container-id-1\" class=\"sk-top-container\"><div class=\"sk-text-repr-fallback\"><pre>StandardScaler()</pre><b>In a Jupyter environment, please rerun this cell to show the HTML representation or trust the notebook. <br />On GitHub, the HTML representation is unable to render, please try loading this page with nbviewer.org.</b></div><div class=\"sk-container\" hidden><div class=\"sk-item\"><div class=\"sk-estimator sk-toggleable\"><input class=\"sk-toggleable__control sk-hidden--visually\" id=\"sk-estimator-id-1\" type=\"checkbox\" checked><label for=\"sk-estimator-id-1\" class=\"sk-toggleable__label sk-toggleable__label-arrow\">StandardScaler</label><div class=\"sk-toggleable__content\"><pre>StandardScaler()</pre></div></div></div></div></div>"
      ],
      "text/plain": [
       "StandardScaler()"
      ]
     },
     "execution_count": 5,
     "metadata": {},
     "output_type": "execute_result"
    }
   ],
   "source": [
    "from sklearn.preprocessing import StandardScaler\n",
    "scaler = StandardScaler()\n",
    "scaler.fit(data.loc[data[\"Set\"] == \"Training\", FEATURES].values)"
   ]
  },
  {
   "cell_type": "markdown",
   "id": "e996e288-96e8-44e0-8131-ae790eb0dace",
   "metadata": {},
   "source": [
    "## Padding to max length"
   ]
  },
  {
   "cell_type": "code",
   "execution_count": 6,
   "id": "d1f06201-e1ca-43bf-8bbd-8f4c7535267b",
   "metadata": {},
   "outputs": [],
   "source": [
    "id_grouped_data = data.groupby(\"Id\")"
   ]
  },
  {
   "cell_type": "code",
   "execution_count": 7,
   "id": "d70a5569-3843-46ba-9beb-61b8f0207504",
   "metadata": {},
   "outputs": [
    {
     "data": {
      "application/vnd.jupyter.widget-view+json": {
       "model_id": "a7d26e06319c429689fb141331e9ca5e",
       "version_major": 2,
       "version_minor": 0
      },
      "text/plain": [
       "  0%|          | 0/866517 [00:00<?, ?it/s]"
      ]
     },
     "metadata": {},
     "output_type": "display_data"
    }
   ],
   "source": [
    "from tqdm.notebook import tqdm\n",
    "\n",
    "max_len = 0\n",
    "for id, data_group in tqdm(id_grouped_data):\n",
    "    max_len = max(max_len, data_group.shape[0])"
   ]
  },
  {
   "cell_type": "code",
   "execution_count": 8,
   "id": "fef818a9-caac-4f72-977f-677537e35674",
   "metadata": {},
   "outputs": [],
   "source": [
    "unique_train_ids = data.loc[data[\"Set\"] == \"Training\", \"Id\"].unique()\n",
    "max_train_idx = int(len(unique_train_ids)*.8)\n",
    "val_ids = unique_train_ids[max_train_idx:]"
   ]
  },
  {
   "cell_type": "code",
   "execution_count": 9,
   "id": "97f491cf-ef73-4245-9159-37953f0ae1c4",
   "metadata": {},
   "outputs": [
    {
     "data": {
      "application/vnd.jupyter.widget-view+json": {
       "model_id": "af7b6e38880f43f1b3abcdb517820c40",
       "version_major": 2,
       "version_minor": 0
      },
      "text/plain": [
       "  0%|          | 0/866517 [00:00<?, ?it/s]"
      ]
     },
     "metadata": {},
     "output_type": "display_data"
    }
   ],
   "source": [
    "import numpy as np\n",
    "\n",
    "pad_value = 0\n",
    "TRAIN = \"train\"\n",
    "GW = \"gw_test\"\n",
    "TEST = \"test\"\n",
    "VAL = \"val\"\n",
    "\n",
    "features = dict({})\n",
    "features[TRAIN] = []\n",
    "features[VAL] = []\n",
    "features[TEST] = []\n",
    "features[GW] = []\n",
    "\n",
    "labels = dict({})\n",
    "labels[TRAIN] = []\n",
    "labels[VAL] = []\n",
    "labels[TEST] = []\n",
    "labels[GW] = []\n",
    "\n",
    "for id, data_group in tqdm(id_grouped_data):\n",
    "    assert data_group[\"Set\"].unique().shape[0] == 1\n",
    "    assert data_group[\"Center\"].unique().shape[0] == 1\n",
    "\n",
    "    features_scaled = scaler.transform(data_group[FEATURES].values)\n",
    "\n",
    "    padded_features = np.pad(features_scaled, ((0, max_len - data_group.shape[0]), (0,0)), mode='constant', constant_values=pad_value)\n",
    "    padded_labels = np.pad(data_group[LABEL_COLUMN_NAME].values, ((0, max_len - data_group.shape[0])), mode='constant', constant_values=pad_value)\n",
    "    \n",
    "    first_el = data_group.iloc[0, :]\n",
    "    if first_el[\"Set\"] == \"Training\":\n",
    "        if first_el[\"Id\"] in val_ids:\n",
    "            features[VAL].append(padded_features)\n",
    "            labels[VAL].append(padded_labels)\n",
    "            continue\n",
    "        if first_el[\"Id\"] not in val_ids:\n",
    "            features[TRAIN].append(padded_features)\n",
    "            labels[TRAIN].append(padded_labels)\n",
    "            continue\n",
    "    if first_el[\"Set\"] == \"Validation\":\n",
    "        if first_el[\"Center\"] == \"Greifswald\":\n",
    "            features[GW].append(padded_features)\n",
    "            labels[GW].append(padded_labels)\n",
    "            continue\n",
    "        if first_el[\"Center\"] == \"Leipzig\":\n",
    "            features[TEST].append(padded_features)\n",
    "            labels[TEST].append(padded_labels)\n",
    "            continue"
   ]
  },
  {
   "cell_type": "markdown",
   "id": "b2bdac22-9b02-4077-a7f4-4db4a0ab5050",
   "metadata": {},
   "source": [
    "## Seed and hyperparams"
   ]
  },
  {
   "cell_type": "code",
   "execution_count": 10,
   "id": "c08009fa-f788-40d9-9a15-6ad7c5bb44c1",
   "metadata": {},
   "outputs": [],
   "source": [
    "torch.manual_seed(42)\n",
    "n_embd = len(FEATURES)\n",
    "head_size = 16\n",
    "dropout = 0\n",
    "out_dim = 1 #binary \n",
    "device = torch.device(\"cuda:0\") #torch.device(\"cuda:2\") #torch.device(\"cuda:2\")\n",
    "WEIGHT = 664\n",
    "lr = 1e-2\n",
    "wd = 0\n",
    "n_blocks = 2\n",
    "n_heads = 4"
   ]
  },
  {
   "cell_type": "markdown",
   "id": "92127f1f-f8bf-41b7-be8f-aa85d0e3eba3",
   "metadata": {},
   "source": [
    "## Batching "
   ]
  },
  {
   "cell_type": "code",
   "execution_count": 11,
   "id": "270f681d-a1aa-4c29-99aa-b31cd962b9cb",
   "metadata": {},
   "outputs": [],
   "source": [
    "from torch.utils.data import DataLoader\n",
    "from torch.utils.data import Dataset\n",
    "\n",
    "class Data(Dataset):\n",
    "    # Constructor\n",
    "    def __init__(self,X, y):\n",
    "        self.x = X\n",
    "        self.y = y\n",
    "        self.len = self.x.shape[0]\n",
    "\n",
    "    def __getitem__(self, index):\n",
    "        return self.x[index], self.y[index]\n",
    "\n",
    "    def __len__(self):\n",
    "        return self.len"
   ]
  },
  {
   "cell_type": "code",
   "execution_count": 12,
   "id": "455e9028-81aa-4f8f-9e1d-3c8493b21e1b",
   "metadata": {},
   "outputs": [],
   "source": [
    "batch_loader = dict({})"
   ]
  },
  {
   "cell_type": "code",
   "execution_count": 13,
   "id": "98a9c611-0cae-4f7d-983c-6bccab281d6d",
   "metadata": {},
   "outputs": [],
   "source": [
    "def add_loader(set_name):\n",
    "    global bitch_loader, sets, labels\n",
    "    dataset = Data(torch.from_numpy(np.array(features[set_name])).type(torch.float).to(device), torch.from_numpy(np.array(labels[set_name])).type(torch.float).to(device))\n",
    "    loader = DataLoader(dataset=dataset, batch_size=500) #max is 100_000\n",
    "    batch_loader[set_name] = loader"
   ]
  },
  {
   "cell_type": "code",
   "execution_count": 14,
   "id": "5d221dbe-a7c3-414f-a23e-f390f551e609",
   "metadata": {},
   "outputs": [],
   "source": [
    "add_loader(TRAIN)\n",
    "add_loader(VAL)\n",
    "add_loader(GW)\n",
    "add_loader(TEST)"
   ]
  },
  {
   "cell_type": "markdown",
   "id": "4c638073-48af-4513-81f7-87f8729c4e14",
   "metadata": {},
   "source": [
    "## Model"
   ]
  },
  {
   "cell_type": "code",
   "execution_count": 15,
   "id": "21724db2-ec23-4f55-8416-315cded98d2d",
   "metadata": {},
   "outputs": [],
   "source": [
    "from torch import nn\n",
    "from torch.nn import functional as F\n",
    "\n",
    "torch.manual_seed(42)\n",
    "class ConvModel(nn.Module):\n",
    "\n",
    "    def __init__(self, input_dim, fiter_size, fiter_size_2,fiter_size_3):\n",
    "        super(ConvModel, self).__init__()\n",
    "\n",
    "        self.pos_embedding_table = nn.Embedding(max_len, input_dim)\n",
    "        \n",
    "        self.conv = nn.Conv1d(input_dim, 1, fiter_size)\n",
    "        self.conv2 = nn.Conv1d(input_dim, 1, fiter_size_2)\n",
    "        self.conv3 = nn.Conv1d(input_dim, 1, fiter_size_3)\n",
    "        self.lin_heads = nn.Linear(3, 1)\n",
    "\n",
    "    def forward(self, x, targets = None):\n",
    "        B, T, C = x.shape\n",
    "        pad_mask = (x != pad_value).type(torch.float)\n",
    "        ignore_mask = torch.bmm(pad_mask, pad_mask.transpose(-2,-1))\n",
    "        ignore_mask = ignore_mask == 0\n",
    "        \n",
    "        # pos_emb = self.pos_embedding_table(torch.arange(T, device = device)) ##destroys zero pad\n",
    "        # x = x + pos_emb\n",
    "        origin_x = torch.clone(x)\n",
    "        \n",
    "        conv_x = torch.nn.functional.pad(x, (0,0,0,self.conv.kernel_size[0]-1,0,0), mode='constant', value=pad_value)\n",
    "        conv2_x = torch.nn.functional.pad(x, (0,0,0,self.conv2.kernel_size[0]-1,0,0), mode='constant', value=pad_value)\n",
    "        conv3_x = torch.nn.functional.pad(x, (0,0,0,self.conv3.kernel_size[0]-1,0,0), mode='constant', value=pad_value)\n",
    "        \n",
    "        conv_x = conv_x.permute(0, 2, 1)\n",
    "        conv2_x = conv2_x.permute(0, 2, 1)\n",
    "        conv3_x = conv3_x.permute(0, 2, 1)\n",
    "        \n",
    "        logits_conv1 = self.conv(conv_x)\n",
    "        logits_conv2 = self.conv2(conv2_x)\n",
    "        logits_conv3 = self.conv3(conv3_x)\n",
    "\n",
    "        logits_conv1 = torch.nn.functional.elu(logits_conv1)\n",
    "        logits_conv2 = torch.nn.functional.elu(logits_conv2)\n",
    "        logits_conv3 = torch.nn.functional.elu(logits_conv3)\n",
    "        \n",
    "        conv_heads = torch.cat((logits_conv1, logits_conv2,logits_conv3), dim = -2)\n",
    "        logits = self.lin_heads(conv_heads.permute(0,2,1))\n",
    "                \n",
    "        logits_mask = torch.logical_not(torch.all(ignore_mask, dim =-1))\n",
    "        return logits.squeeze(-1), logits_mask"
   ]
  },
  {
   "cell_type": "code",
   "execution_count": 16,
   "id": "d54e7688-7ec6-43f5-8931-6ba53ac6e92d",
   "metadata": {},
   "outputs": [],
   "source": [
    "from torch import nn\n",
    "from torch.nn import functional as F\n",
    "\n",
    "torch.manual_seed(42)\n",
    "class ConvModel(nn.Module):\n",
    "\n",
    "    def __init__(self, input_dim, filters):\n",
    "        super(ConvModel, self).__init__()\n",
    "\n",
    "        self.pos_embedding_table = nn.Embedding(max_len, input_dim)\n",
    "\n",
    "        self.convs = nn.ModuleList()\n",
    "        self.filters = filters\n",
    "        for filter in filters:\n",
    "            self.convs.append(nn.Conv1d(input_dim, 1, filter).to(device))\n",
    "        self.lin_heads =nn.Linear(len(filters), 1)\n",
    "\n",
    "    def forward(self, x, targets = None):\n",
    "        B, T, C = x.shape\n",
    "        pad_mask = (x != pad_value).type(torch.float)\n",
    "        ignore_mask = torch.bmm(pad_mask, pad_mask.transpose(-2,-1))\n",
    "        ignore_mask = ignore_mask == 0\n",
    "        \n",
    "        # pos_emb = self.pos_embedding_table(torch.arange(T, device = device)) ##destroys zero pad\n",
    "        # x = x + pos_emb\n",
    "        origin_x = torch.clone(x)\n",
    "\n",
    "        conv_logits = []\n",
    "        for i, filter in enumerate(self.filters):\n",
    "            conv_x = torch.nn.functional.pad(x, (0,0,0,self.convs[i].kernel_size[0]-1,0,0), mode='constant', value=pad_value)\n",
    "            \n",
    "            conv_x = conv_x.permute(0, 2, 1)\n",
    "\n",
    "            conv = self.convs[i]\n",
    "            logits_conv1 = conv(conv_x)\n",
    "    \n",
    "            logits_conv1 = torch.nn.functional.elu(logits_conv1)\n",
    "            conv_logits.append(logits_conv1)\n",
    "\n",
    "        conv_heads = torch.cat(conv_logits, dim = -2)\n",
    "        logits = self.lin_heads(conv_heads.permute(0,2,1))\n",
    "                \n",
    "        logits_mask = torch.logical_not(torch.all(ignore_mask, dim =-1))\n",
    "        return logits.squeeze(-1), logits_mask"
   ]
  },
  {
   "cell_type": "code",
   "execution_count": 23,
   "id": "9f927c2c-4d28-4f20-9236-d0860642c9dd",
   "metadata": {},
   "outputs": [],
   "source": [
    "input_dim = len(FEATURES)"
   ]
  },
  {
   "cell_type": "code",
   "execution_count": 24,
   "id": "b068f479-0156-4fa8-adaf-5ae7874131c8",
   "metadata": {},
   "outputs": [
    {
     "name": "stderr",
     "output_type": "stream",
     "text": [
      "/home/dwalke/.local/lib/python3.10/site-packages/torch/nn/modules/conv.py:306: UserWarning: Applied workaround for CuDNN issue, install nvrtc.so (Triggered internally at ../aten/src/ATen/native/cudnn/Conv_v8.cpp:80.)\n",
      "  return F.conv1d(input, weight, bias, self.stride,\n"
     ]
    },
    {
     "name": "stdout",
     "output_type": "stream",
     "text": [
      "Loss of train: 0.00299\n",
      "Loss of val: 0.00313\n",
      "Loss of test: 0.00281\n",
      "Loss of gw_test: 0.00239\n"
     ]
    },
    {
     "data": {
      "text/plain": [
       "{'train': 0.002989539451850587,\n",
       " 'val': 0.0031329219213356726,\n",
       " 'test': 0.002810940051504926,\n",
       " 'gw_test': 0.0023891535918084965}"
      ]
     },
     "execution_count": 24,
     "metadata": {},
     "output_type": "execute_result"
    }
   ],
   "source": [
    "model = ConvModel(input_dim, [1,2,3]).to(device)\n",
    "evaluate_loss_sets(model)"
   ]
  },
  {
   "cell_type": "markdown",
   "id": "40c075cc-1333-4706-85ed-11b6ab0e3acc",
   "metadata": {},
   "source": [
    "## Evaluate"
   ]
  },
  {
   "cell_type": "code",
   "execution_count": 17,
   "id": "aad2bf23-22df-4204-ae11-8ff78ae5f4c8",
   "metadata": {},
   "outputs": [],
   "source": [
    "def evaluate_loss(model, set_name):\n",
    "    with torch.inference_mode():\n",
    "        model.eval()\n",
    "        acc_loss = 0\n",
    "        batch_size = 0\n",
    "\n",
    "        for i, (x,y) in enumerate(batch_loader[set_name]):\n",
    "            B,_,_ = x.shape\n",
    "            logits, logits_mask = model(x)\n",
    "        \n",
    "            loss = torch.nn.functional.binary_cross_entropy_with_logits(logits[logits_mask].squeeze(-1), y[logits_mask], pos_weight=torch.tensor(WEIGHT))\n",
    "            acc_loss += loss.item()\n",
    "            batch_size += B\n",
    "    return acc_loss / batch_size        "
   ]
  },
  {
   "cell_type": "code",
   "execution_count": 18,
   "id": "c607fedb-b8e6-4104-a818-778d1f00be6f",
   "metadata": {},
   "outputs": [],
   "source": [
    "def evaluate_loss_sets(model):\n",
    "    losses = dict({})\n",
    "    for set_name in features.keys():\n",
    "        # if set_name != VAL:\n",
    "        #     continue\n",
    "        loss = evaluate_loss(model, set_name)\n",
    "        losses[set_name] = loss\n",
    "        print(f\"Loss of {set_name}: {loss:.5f}\") \n",
    "    return losses\n",
    "        "
   ]
  },
  {
   "cell_type": "code",
   "execution_count": 19,
   "id": "1bb27c79-5e05-4180-8181-b2be847ca22d",
   "metadata": {},
   "outputs": [],
   "source": [
    "from sklearn.metrics import roc_auc_score, accuracy_score\n",
    "\n",
    "def evaluate_auroc(model, set_name):\n",
    "    with torch.inference_mode():\n",
    "        model.eval()\n",
    "        \n",
    "        logits_list = []\n",
    "        label_list = []\n",
    "\n",
    "        batch_size = 0\n",
    "        for i, (x,y) in enumerate(batch_loader[set_name]):\n",
    "            B,_,_ = x.shape\n",
    "            logits, logits_mask = model(x)\n",
    "\n",
    "            logits_list.extend(logits[logits_mask].squeeze(-1).tolist())\n",
    "            label_list.extend(y[logits_mask].squeeze(-1).tolist())\n",
    "            batch_size += B\n",
    "    auroc = roc_auc_score(np.array(label_list), torch.sigmoid(torch.tensor(logits_list)).numpy())\n",
    "    return auroc        "
   ]
  },
  {
   "cell_type": "code",
   "execution_count": 20,
   "id": "82d13cdd-c7c2-404b-80be-e31f4362e349",
   "metadata": {},
   "outputs": [],
   "source": [
    "def evaluate_auroc_sets(model):\n",
    "    for set_name in features.keys():\n",
    "        if set_name == TRAIN:\n",
    "            continue\n",
    "        auroc = evaluate_auroc(model, set_name)\n",
    "        print(f\"AUROC of {set_name}: {auroc:.5f}\")"
   ]
  },
  {
   "cell_type": "markdown",
   "id": "e59ef05b-7e7a-4a86-8f8e-31b46d9207c2",
   "metadata": {},
   "source": [
    "## Train"
   ]
  },
  {
   "cell_type": "code",
   "execution_count": 31,
   "id": "e2e6f14e-bba3-4066-9aa8-5e8b36d55f93",
   "metadata": {},
   "outputs": [],
   "source": [
    "torch.manual_seed(42)\n",
    "input_dim, n_embd, n_heads, dropout, n_blocks = len(FEATURES), len(FEATURES), 7, 0.0, 1\n",
    "model = ConvModel(input_dim, [3,4,5,3,5]).to(device)\n",
    "optim= torch.optim.Adam(model.parameters(), lr = 1e-2, weight_decay=wd)"
   ]
  },
  {
   "cell_type": "code",
   "execution_count": 393,
   "id": "18781ac1-dfc7-4784-b8a6-e8159f74fe5d",
   "metadata": {
    "scrolled": true
   },
   "outputs": [
    {
     "name": "stdout",
     "output_type": "stream",
     "text": [
      "Loss of train: 0.00110\n",
      "Loss of val: 0.00122\n",
      "Loss of test: 0.00112\n",
      "Loss of gw_test: 0.00095\n"
     ]
    },
    {
     "data": {
      "application/vnd.jupyter.widget-view+json": {
       "model_id": "151591ae4fe74a03a7c92ba941cdeba7",
       "version_major": 2,
       "version_minor": 0
      },
      "text/plain": [
       "0it [00:00, ?it/s]"
      ]
     },
     "metadata": {},
     "output_type": "display_data"
    },
    {
     "name": "stdout",
     "output_type": "stream",
     "text": [
      "Loss of train: 0.00110\n",
      "Loss of val: 0.00122\n",
      "Loss of test: 0.00112\n",
      "Loss of gw_test: 0.00095\n"
     ]
    },
    {
     "data": {
      "application/vnd.jupyter.widget-view+json": {
       "model_id": "faf56fb20e874adeb66af5fd82e61faf",
       "version_major": 2,
       "version_minor": 0
      },
      "text/plain": [
       "0it [00:00, ?it/s]"
      ]
     },
     "metadata": {},
     "output_type": "display_data"
    },
    {
     "name": "stdout",
     "output_type": "stream",
     "text": [
      "Loss of train: 0.00110\n",
      "Loss of val: 0.00122\n",
      "Loss of test: 0.00111\n",
      "Loss of gw_test: 0.00095\n"
     ]
    },
    {
     "data": {
      "application/vnd.jupyter.widget-view+json": {
       "model_id": "7e3197f31b874b418c60b76ec52fd910",
       "version_major": 2,
       "version_minor": 0
      },
      "text/plain": [
       "0it [00:00, ?it/s]"
      ]
     },
     "metadata": {},
     "output_type": "display_data"
    },
    {
     "name": "stdout",
     "output_type": "stream",
     "text": [
      "Loss of train: 0.00110\n",
      "Loss of val: 0.00122\n",
      "Loss of test: 0.00111\n",
      "Loss of gw_test: 0.00095\n"
     ]
    },
    {
     "data": {
      "application/vnd.jupyter.widget-view+json": {
       "model_id": "199e9e6c2d6144088b32ba7567a51567",
       "version_major": 2,
       "version_minor": 0
      },
      "text/plain": [
       "0it [00:00, ?it/s]"
      ]
     },
     "metadata": {},
     "output_type": "display_data"
    },
    {
     "name": "stdout",
     "output_type": "stream",
     "text": [
      "Loss of train: 0.00110\n",
      "Loss of val: 0.00122\n",
      "Loss of test: 0.00111\n",
      "Loss of gw_test: 0.00096\n"
     ]
    },
    {
     "data": {
      "application/vnd.jupyter.widget-view+json": {
       "model_id": "1fd061255c33412e89cdc56f15bb4471",
       "version_major": 2,
       "version_minor": 0
      },
      "text/plain": [
       "0it [00:00, ?it/s]"
      ]
     },
     "metadata": {},
     "output_type": "display_data"
    },
    {
     "name": "stdout",
     "output_type": "stream",
     "text": [
      "Loss of train: 0.00110\n",
      "Loss of val: 0.00121\n",
      "Loss of test: 0.00111\n",
      "Loss of gw_test: 0.00096\n"
     ]
    },
    {
     "data": {
      "application/vnd.jupyter.widget-view+json": {
       "model_id": "027cc59ede5c4c1b8e42297ecb1618a2",
       "version_major": 2,
       "version_minor": 0
      },
      "text/plain": [
       "0it [00:00, ?it/s]"
      ]
     },
     "metadata": {},
     "output_type": "display_data"
    },
    {
     "name": "stdout",
     "output_type": "stream",
     "text": [
      "Loss of train: 0.00110\n",
      "Loss of val: 0.00121\n",
      "Loss of test: 0.00111\n",
      "Loss of gw_test: 0.00096\n"
     ]
    },
    {
     "data": {
      "application/vnd.jupyter.widget-view+json": {
       "model_id": "6b8c517461204204bec8a56344fcf403",
       "version_major": 2,
       "version_minor": 0
      },
      "text/plain": [
       "0it [00:00, ?it/s]"
      ]
     },
     "metadata": {},
     "output_type": "display_data"
    },
    {
     "name": "stdout",
     "output_type": "stream",
     "text": [
      "Loss of train: 0.00109\n",
      "Loss of val: 0.00121\n",
      "Loss of test: 0.00112\n",
      "Loss of gw_test: 0.00096\n"
     ]
    },
    {
     "data": {
      "application/vnd.jupyter.widget-view+json": {
       "model_id": "fc5a93ec6ace462abaa2479cb3035d4e",
       "version_major": 2,
       "version_minor": 0
      },
      "text/plain": [
       "0it [00:00, ?it/s]"
      ]
     },
     "metadata": {},
     "output_type": "display_data"
    },
    {
     "name": "stdout",
     "output_type": "stream",
     "text": [
      "Loss of train: 0.00109\n",
      "Loss of val: 0.00121\n",
      "Loss of test: 0.00112\n",
      "Loss of gw_test: 0.00096\n"
     ]
    },
    {
     "data": {
      "application/vnd.jupyter.widget-view+json": {
       "model_id": "4a1059b132da41ed94d1116c6b9b0273",
       "version_major": 2,
       "version_minor": 0
      },
      "text/plain": [
       "0it [00:00, ?it/s]"
      ]
     },
     "metadata": {},
     "output_type": "display_data"
    },
    {
     "name": "stdout",
     "output_type": "stream",
     "text": [
      "Loss of train: 0.00109\n",
      "Loss of val: 0.00121\n",
      "Loss of test: 0.00112\n",
      "Loss of gw_test: 0.00096\n"
     ]
    },
    {
     "data": {
      "application/vnd.jupyter.widget-view+json": {
       "model_id": "fd16f1006782434b9ffb94eec7cfbf8e",
       "version_major": 2,
       "version_minor": 0
      },
      "text/plain": [
       "0it [00:00, ?it/s]"
      ]
     },
     "metadata": {},
     "output_type": "display_data"
    },
    {
     "name": "stdout",
     "output_type": "stream",
     "text": [
      "Loss of train: 0.00109\n",
      "Loss of val: 0.00121\n",
      "Loss of test: 0.00112\n",
      "Loss of gw_test: 0.00096\n"
     ]
    },
    {
     "data": {
      "application/vnd.jupyter.widget-view+json": {
       "model_id": "50cca23895d84cf7b6a8e9ae5ed8edd8",
       "version_major": 2,
       "version_minor": 0
      },
      "text/plain": [
       "0it [00:00, ?it/s]"
      ]
     },
     "metadata": {},
     "output_type": "display_data"
    },
    {
     "name": "stdout",
     "output_type": "stream",
     "text": [
      "Loss of train: 0.00109\n",
      "Loss of val: 0.00121\n",
      "Loss of test: 0.00112\n",
      "Loss of gw_test: 0.00096\n"
     ]
    },
    {
     "data": {
      "application/vnd.jupyter.widget-view+json": {
       "model_id": "668e9ee652fa4ca2bdeb4763f8fd526a",
       "version_major": 2,
       "version_minor": 0
      },
      "text/plain": [
       "0it [00:00, ?it/s]"
      ]
     },
     "metadata": {},
     "output_type": "display_data"
    },
    {
     "name": "stdout",
     "output_type": "stream",
     "text": [
      "Loss of train: 0.00109\n",
      "Loss of val: 0.00121\n",
      "Loss of test: 0.00112\n",
      "Loss of gw_test: 0.00096\n"
     ]
    },
    {
     "data": {
      "application/vnd.jupyter.widget-view+json": {
       "model_id": "6e43b473ee8a431c840ad7e74f7405da",
       "version_major": 2,
       "version_minor": 0
      },
      "text/plain": [
       "0it [00:00, ?it/s]"
      ]
     },
     "metadata": {},
     "output_type": "display_data"
    },
    {
     "name": "stdout",
     "output_type": "stream",
     "text": [
      "Loss of train: 0.00109\n",
      "Loss of val: 0.00120\n",
      "Loss of test: 0.00112\n",
      "Loss of gw_test: 0.00096\n"
     ]
    },
    {
     "data": {
      "application/vnd.jupyter.widget-view+json": {
       "model_id": "00944d6b82b14626a0137fe2b14dce2a",
       "version_major": 2,
       "version_minor": 0
      },
      "text/plain": [
       "0it [00:00, ?it/s]"
      ]
     },
     "metadata": {},
     "output_type": "display_data"
    },
    {
     "name": "stdout",
     "output_type": "stream",
     "text": [
      "Loss of train: 0.00109\n",
      "Loss of val: 0.00120\n",
      "Loss of test: 0.00112\n",
      "Loss of gw_test: 0.00096\n"
     ]
    },
    {
     "data": {
      "application/vnd.jupyter.widget-view+json": {
       "model_id": "bf8a37c2924a4d50b728b3557e2c761f",
       "version_major": 2,
       "version_minor": 0
      },
      "text/plain": [
       "0it [00:00, ?it/s]"
      ]
     },
     "metadata": {},
     "output_type": "display_data"
    },
    {
     "name": "stdout",
     "output_type": "stream",
     "text": [
      "Loss of train: 0.00109\n",
      "Loss of val: 0.00120\n",
      "Loss of test: 0.00112\n",
      "Loss of gw_test: 0.00096\n"
     ]
    },
    {
     "data": {
      "application/vnd.jupyter.widget-view+json": {
       "model_id": "23cfc71f50864537bc7b37906d4613fb",
       "version_major": 2,
       "version_minor": 0
      },
      "text/plain": [
       "0it [00:00, ?it/s]"
      ]
     },
     "metadata": {},
     "output_type": "display_data"
    },
    {
     "name": "stdout",
     "output_type": "stream",
     "text": [
      "Loss of train: 0.00109\n",
      "Loss of val: 0.00120\n",
      "Loss of test: 0.00112\n",
      "Loss of gw_test: 0.00096\n"
     ]
    },
    {
     "data": {
      "application/vnd.jupyter.widget-view+json": {
       "model_id": "fa98d7b8c00a42b5970dcbd6e6ac55fd",
       "version_major": 2,
       "version_minor": 0
      },
      "text/plain": [
       "0it [00:00, ?it/s]"
      ]
     },
     "metadata": {},
     "output_type": "display_data"
    },
    {
     "name": "stdout",
     "output_type": "stream",
     "text": [
      "Loss of train: 0.00109\n",
      "Loss of val: 0.00120\n",
      "Loss of test: 0.00112\n",
      "Loss of gw_test: 0.00096\n"
     ]
    },
    {
     "data": {
      "application/vnd.jupyter.widget-view+json": {
       "model_id": "7482c9ccba6d41e29a255c252191fda1",
       "version_major": 2,
       "version_minor": 0
      },
      "text/plain": [
       "0it [00:00, ?it/s]"
      ]
     },
     "metadata": {},
     "output_type": "display_data"
    },
    {
     "name": "stdout",
     "output_type": "stream",
     "text": [
      "Loss of train: 0.00109\n",
      "Loss of val: 0.00120\n",
      "Loss of test: 0.00112\n",
      "Loss of gw_test: 0.00096\n"
     ]
    },
    {
     "data": {
      "application/vnd.jupyter.widget-view+json": {
       "model_id": "0dcfb7adcead4b04b80d4e300e6e7438",
       "version_major": 2,
       "version_minor": 0
      },
      "text/plain": [
       "0it [00:00, ?it/s]"
      ]
     },
     "metadata": {},
     "output_type": "display_data"
    },
    {
     "name": "stdout",
     "output_type": "stream",
     "text": [
      "Loss of train: 0.00108\n",
      "Loss of val: 0.00120\n",
      "Loss of test: 0.00112\n",
      "Loss of gw_test: 0.00096\n"
     ]
    },
    {
     "data": {
      "application/vnd.jupyter.widget-view+json": {
       "model_id": "ac85b94dbd0644a08bd979c2b067a8c0",
       "version_major": 2,
       "version_minor": 0
      },
      "text/plain": [
       "0it [00:00, ?it/s]"
      ]
     },
     "metadata": {},
     "output_type": "display_data"
    },
    {
     "name": "stdout",
     "output_type": "stream",
     "text": [
      "Loss of train: 0.00108\n",
      "Loss of val: 0.00119\n",
      "Loss of test: 0.00112\n",
      "Loss of gw_test: 0.00096\n"
     ]
    },
    {
     "data": {
      "application/vnd.jupyter.widget-view+json": {
       "model_id": "91bad2ec438146969cf00e27a655971c",
       "version_major": 2,
       "version_minor": 0
      },
      "text/plain": [
       "0it [00:00, ?it/s]"
      ]
     },
     "metadata": {},
     "output_type": "display_data"
    },
    {
     "name": "stdout",
     "output_type": "stream",
     "text": [
      "Loss of train: 0.00108\n",
      "Loss of val: 0.00119\n",
      "Loss of test: 0.00112\n",
      "Loss of gw_test: 0.00096\n"
     ]
    },
    {
     "data": {
      "application/vnd.jupyter.widget-view+json": {
       "model_id": "ce147f158c494accab0a1277e9d0be9a",
       "version_major": 2,
       "version_minor": 0
      },
      "text/plain": [
       "0it [00:00, ?it/s]"
      ]
     },
     "metadata": {},
     "output_type": "display_data"
    },
    {
     "name": "stdout",
     "output_type": "stream",
     "text": [
      "Loss of train: 0.00108\n",
      "Loss of val: 0.00119\n",
      "Loss of test: 0.00112\n",
      "Loss of gw_test: 0.00096\n"
     ]
    },
    {
     "data": {
      "application/vnd.jupyter.widget-view+json": {
       "model_id": "483a5b05671649c18d46c464b22ddf5f",
       "version_major": 2,
       "version_minor": 0
      },
      "text/plain": [
       "0it [00:00, ?it/s]"
      ]
     },
     "metadata": {},
     "output_type": "display_data"
    },
    {
     "name": "stdout",
     "output_type": "stream",
     "text": [
      "Loss of train: 0.00108\n",
      "Loss of val: 0.00119\n",
      "Loss of test: 0.00112\n",
      "Loss of gw_test: 0.00096\n"
     ]
    },
    {
     "data": {
      "application/vnd.jupyter.widget-view+json": {
       "model_id": "e373ba2399f948f29e50bb626065f21a",
       "version_major": 2,
       "version_minor": 0
      },
      "text/plain": [
       "0it [00:00, ?it/s]"
      ]
     },
     "metadata": {},
     "output_type": "display_data"
    },
    {
     "name": "stdout",
     "output_type": "stream",
     "text": [
      "Loss of train: 0.00108\n",
      "Loss of val: 0.00119\n",
      "Loss of test: 0.00112\n",
      "Loss of gw_test: 0.00096\n"
     ]
    },
    {
     "data": {
      "application/vnd.jupyter.widget-view+json": {
       "model_id": "4e073692b045407bb18c9c7eb53b88dd",
       "version_major": 2,
       "version_minor": 0
      },
      "text/plain": [
       "0it [00:00, ?it/s]"
      ]
     },
     "metadata": {},
     "output_type": "display_data"
    },
    {
     "name": "stdout",
     "output_type": "stream",
     "text": [
      "Loss of train: 0.00108\n",
      "Loss of val: 0.00118\n",
      "Loss of test: 0.00113\n",
      "Loss of gw_test: 0.00096\n"
     ]
    },
    {
     "data": {
      "application/vnd.jupyter.widget-view+json": {
       "model_id": "475a58bf88064be08f66169c08dbdb62",
       "version_major": 2,
       "version_minor": 0
      },
      "text/plain": [
       "0it [00:00, ?it/s]"
      ]
     },
     "metadata": {},
     "output_type": "display_data"
    },
    {
     "name": "stdout",
     "output_type": "stream",
     "text": [
      "Loss of train: 0.00108\n",
      "Loss of val: 0.00118\n",
      "Loss of test: 0.00113\n",
      "Loss of gw_test: 0.00096\n"
     ]
    },
    {
     "data": {
      "application/vnd.jupyter.widget-view+json": {
       "model_id": "5ccc3e7824a34f8fb677a2e73ad2f445",
       "version_major": 2,
       "version_minor": 0
      },
      "text/plain": [
       "0it [00:00, ?it/s]"
      ]
     },
     "metadata": {},
     "output_type": "display_data"
    },
    {
     "name": "stdout",
     "output_type": "stream",
     "text": [
      "Loss of train: 0.00108\n",
      "Loss of val: 0.00118\n",
      "Loss of test: 0.00113\n",
      "Loss of gw_test: 0.00095\n"
     ]
    },
    {
     "data": {
      "application/vnd.jupyter.widget-view+json": {
       "model_id": "d34cfacad52f4ef2992decc26345f031",
       "version_major": 2,
       "version_minor": 0
      },
      "text/plain": [
       "0it [00:00, ?it/s]"
      ]
     },
     "metadata": {},
     "output_type": "display_data"
    },
    {
     "name": "stdout",
     "output_type": "stream",
     "text": [
      "Loss of train: 0.00108\n",
      "Loss of val: 0.00118\n",
      "Loss of test: 0.00112\n",
      "Loss of gw_test: 0.00095\n"
     ]
    },
    {
     "data": {
      "application/vnd.jupyter.widget-view+json": {
       "model_id": "a06cf8db75e741feb73d4b216c458763",
       "version_major": 2,
       "version_minor": 0
      },
      "text/plain": [
       "0it [00:00, ?it/s]"
      ]
     },
     "metadata": {},
     "output_type": "display_data"
    },
    {
     "name": "stdout",
     "output_type": "stream",
     "text": [
      "Loss of train: 0.00107\n",
      "Loss of val: 0.00118\n",
      "Loss of test: 0.00112\n",
      "Loss of gw_test: 0.00095\n"
     ]
    },
    {
     "data": {
      "application/vnd.jupyter.widget-view+json": {
       "model_id": "ce61009ff4a049a39219797ee2dd829d",
       "version_major": 2,
       "version_minor": 0
      },
      "text/plain": [
       "0it [00:00, ?it/s]"
      ]
     },
     "metadata": {},
     "output_type": "display_data"
    },
    {
     "name": "stdout",
     "output_type": "stream",
     "text": [
      "Loss of train: 0.00107\n",
      "Loss of val: 0.00117\n",
      "Loss of test: 0.00112\n",
      "Loss of gw_test: 0.00095\n"
     ]
    },
    {
     "data": {
      "application/vnd.jupyter.widget-view+json": {
       "model_id": "e9fb41c93a1d43f1b1a05ef4c2bb94aa",
       "version_major": 2,
       "version_minor": 0
      },
      "text/plain": [
       "0it [00:00, ?it/s]"
      ]
     },
     "metadata": {},
     "output_type": "display_data"
    },
    {
     "name": "stdout",
     "output_type": "stream",
     "text": [
      "Loss of train: 0.00107\n",
      "Loss of val: 0.00117\n",
      "Loss of test: 0.00112\n",
      "Loss of gw_test: 0.00095\n"
     ]
    },
    {
     "data": {
      "application/vnd.jupyter.widget-view+json": {
       "model_id": "6e0127a252e84bfc8c42035aebff8dd7",
       "version_major": 2,
       "version_minor": 0
      },
      "text/plain": [
       "0it [00:00, ?it/s]"
      ]
     },
     "metadata": {},
     "output_type": "display_data"
    },
    {
     "name": "stdout",
     "output_type": "stream",
     "text": [
      "Loss of train: 0.00107\n",
      "Loss of val: 0.00117\n",
      "Loss of test: 0.00112\n",
      "Loss of gw_test: 0.00095\n"
     ]
    },
    {
     "data": {
      "application/vnd.jupyter.widget-view+json": {
       "model_id": "e069e2f31919496087a62d9ff600394c",
       "version_major": 2,
       "version_minor": 0
      },
      "text/plain": [
       "0it [00:00, ?it/s]"
      ]
     },
     "metadata": {},
     "output_type": "display_data"
    },
    {
     "name": "stdout",
     "output_type": "stream",
     "text": [
      "Loss of train: 0.00107\n",
      "Loss of val: 0.00117\n",
      "Loss of test: 0.00112\n",
      "Loss of gw_test: 0.00095\n"
     ]
    },
    {
     "data": {
      "application/vnd.jupyter.widget-view+json": {
       "model_id": "a5d3c8e9e9844c309b1b5cf35da827d7",
       "version_major": 2,
       "version_minor": 0
      },
      "text/plain": [
       "0it [00:00, ?it/s]"
      ]
     },
     "metadata": {},
     "output_type": "display_data"
    },
    {
     "name": "stdout",
     "output_type": "stream",
     "text": [
      "Loss of train: 0.00107\n",
      "Loss of val: 0.00117\n",
      "Loss of test: 0.00112\n",
      "Loss of gw_test: 0.00095\n"
     ]
    },
    {
     "data": {
      "application/vnd.jupyter.widget-view+json": {
       "model_id": "0eefbfa4aa09494f9a4c59576f591d15",
       "version_major": 2,
       "version_minor": 0
      },
      "text/plain": [
       "0it [00:00, ?it/s]"
      ]
     },
     "metadata": {},
     "output_type": "display_data"
    },
    {
     "name": "stdout",
     "output_type": "stream",
     "text": [
      "Loss of train: 0.00107\n",
      "Loss of val: 0.00117\n",
      "Loss of test: 0.00112\n",
      "Loss of gw_test: 0.00094\n"
     ]
    },
    {
     "data": {
      "application/vnd.jupyter.widget-view+json": {
       "model_id": "b89f16772bfa4f8c93cced7f94cda9e4",
       "version_major": 2,
       "version_minor": 0
      },
      "text/plain": [
       "0it [00:00, ?it/s]"
      ]
     },
     "metadata": {},
     "output_type": "display_data"
    },
    {
     "name": "stdout",
     "output_type": "stream",
     "text": [
      "Loss of train: 0.00107\n",
      "Loss of val: 0.00116\n",
      "Loss of test: 0.00112\n",
      "Loss of gw_test: 0.00094\n"
     ]
    },
    {
     "data": {
      "application/vnd.jupyter.widget-view+json": {
       "model_id": "aaf4eb8a828f4447b43a418242ab2604",
       "version_major": 2,
       "version_minor": 0
      },
      "text/plain": [
       "0it [00:00, ?it/s]"
      ]
     },
     "metadata": {},
     "output_type": "display_data"
    },
    {
     "name": "stdout",
     "output_type": "stream",
     "text": [
      "Loss of train: 0.00107\n",
      "Loss of val: 0.00116\n",
      "Loss of test: 0.00112\n",
      "Loss of gw_test: 0.00094\n"
     ]
    },
    {
     "data": {
      "application/vnd.jupyter.widget-view+json": {
       "model_id": "a0ae901cea1343f3b4e0001a1ee5a9f6",
       "version_major": 2,
       "version_minor": 0
      },
      "text/plain": [
       "0it [00:00, ?it/s]"
      ]
     },
     "metadata": {},
     "output_type": "display_data"
    },
    {
     "name": "stdout",
     "output_type": "stream",
     "text": [
      "Loss of train: 0.00107\n",
      "Loss of val: 0.00116\n",
      "Loss of test: 0.00112\n",
      "Loss of gw_test: 0.00094\n"
     ]
    },
    {
     "data": {
      "application/vnd.jupyter.widget-view+json": {
       "model_id": "f65036e4d62c43259bb32072e0d6dee4",
       "version_major": 2,
       "version_minor": 0
      },
      "text/plain": [
       "0it [00:00, ?it/s]"
      ]
     },
     "metadata": {},
     "output_type": "display_data"
    },
    {
     "name": "stdout",
     "output_type": "stream",
     "text": [
      "Loss of train: 0.00107\n",
      "Loss of val: 0.00116\n",
      "Loss of test: 0.00112\n",
      "Loss of gw_test: 0.00094\n"
     ]
    },
    {
     "data": {
      "application/vnd.jupyter.widget-view+json": {
       "model_id": "cc2b9d63e963457fadcd490a277d5d27",
       "version_major": 2,
       "version_minor": 0
      },
      "text/plain": [
       "0it [00:00, ?it/s]"
      ]
     },
     "metadata": {},
     "output_type": "display_data"
    },
    {
     "name": "stdout",
     "output_type": "stream",
     "text": [
      "Loss of train: 0.00106\n",
      "Loss of val: 0.00116\n",
      "Loss of test: 0.00112\n",
      "Loss of gw_test: 0.00094\n"
     ]
    },
    {
     "data": {
      "application/vnd.jupyter.widget-view+json": {
       "model_id": "09a056b522cd41ed8ab7b671e5dd0517",
       "version_major": 2,
       "version_minor": 0
      },
      "text/plain": [
       "0it [00:00, ?it/s]"
      ]
     },
     "metadata": {},
     "output_type": "display_data"
    },
    {
     "name": "stdout",
     "output_type": "stream",
     "text": [
      "Loss of train: 0.00106\n",
      "Loss of val: 0.00116\n",
      "Loss of test: 0.00112\n",
      "Loss of gw_test: 0.00094\n"
     ]
    },
    {
     "data": {
      "application/vnd.jupyter.widget-view+json": {
       "model_id": "dbb02acba93c4ef8995e8db7bb5a06b1",
       "version_major": 2,
       "version_minor": 0
      },
      "text/plain": [
       "0it [00:00, ?it/s]"
      ]
     },
     "metadata": {},
     "output_type": "display_data"
    },
    {
     "name": "stdout",
     "output_type": "stream",
     "text": [
      "Loss of train: 0.00106\n",
      "Loss of val: 0.00116\n",
      "Loss of test: 0.00112\n",
      "Loss of gw_test: 0.00094\n"
     ]
    },
    {
     "data": {
      "application/vnd.jupyter.widget-view+json": {
       "model_id": "617aeaa91e6d417384defee84a68491b",
       "version_major": 2,
       "version_minor": 0
      },
      "text/plain": [
       "0it [00:00, ?it/s]"
      ]
     },
     "metadata": {},
     "output_type": "display_data"
    },
    {
     "name": "stdout",
     "output_type": "stream",
     "text": [
      "Loss of train: 0.00106\n",
      "Loss of val: 0.00116\n",
      "Loss of test: 0.00112\n",
      "Loss of gw_test: 0.00094\n"
     ]
    },
    {
     "data": {
      "application/vnd.jupyter.widget-view+json": {
       "model_id": "828a55cb76114858aca2907d3581e5cd",
       "version_major": 2,
       "version_minor": 0
      },
      "text/plain": [
       "0it [00:00, ?it/s]"
      ]
     },
     "metadata": {},
     "output_type": "display_data"
    },
    {
     "name": "stdout",
     "output_type": "stream",
     "text": [
      "Loss of train: 0.00106\n",
      "Loss of val: 0.00116\n",
      "Loss of test: 0.00112\n",
      "Loss of gw_test: 0.00094\n"
     ]
    },
    {
     "data": {
      "application/vnd.jupyter.widget-view+json": {
       "model_id": "9daefe9610b14da1be87e673402f7c40",
       "version_major": 2,
       "version_minor": 0
      },
      "text/plain": [
       "0it [00:00, ?it/s]"
      ]
     },
     "metadata": {},
     "output_type": "display_data"
    },
    {
     "name": "stdout",
     "output_type": "stream",
     "text": [
      "Loss of train: 0.00106\n",
      "Loss of val: 0.00116\n",
      "Loss of test: 0.00112\n",
      "Loss of gw_test: 0.00093\n",
      "44\n"
     ]
    }
   ],
   "source": [
    "torch.manual_seed(42)\n",
    "\n",
    "evaluate_loss_sets(model)\n",
    "last_val_loss = None\n",
    "for epoch in range(65):#5\n",
    "    for i, (x,y) in tqdm(enumerate(batch_loader[TRAIN])):\n",
    "        model.train()\n",
    "        optim.zero_grad()\n",
    "        \n",
    "        logits, logits_mask = model(x)\n",
    "        loss = torch.nn.functional.binary_cross_entropy_with_logits(logits[logits_mask].squeeze(-1), y[logits_mask], pos_weight=torch.tensor(WEIGHT))\n",
    "            \n",
    "        loss.backward()\n",
    "        optim.step()\n",
    "    losses = evaluate_loss_sets(model)\n",
    "    if last_val_loss and last_val_loss <= losses[VAL]:\n",
    "        print(epoch)\n",
    "        break\n",
    "    last_val_loss = losses[VAL]"
   ]
  },
  {
   "cell_type": "code",
   "execution_count": 395,
   "id": "ee88475f-5a55-4ecf-b1aa-8a105a39e15c",
   "metadata": {},
   "outputs": [
    {
     "name": "stdout",
     "output_type": "stream",
     "text": [
      "AUROC of val: 0.95414\n",
      "AUROC of test: 0.95012\n",
      "AUROC of gw_test: 0.95118\n"
     ]
    }
   ],
   "source": [
    "torch.manual_seed(42)\n",
    "evaluate_auroc_sets(model)#0876,88187,88417,0.88449,0.88569,,0.88623,,0.88692"
   ]
  },
  {
   "cell_type": "code",
   "execution_count": null,
   "id": "0889f63e-6806-4eeb-a4e3-d3faf2c32469",
   "metadata": {},
   "outputs": [],
   "source": [
    "from sklearn.metrics import confusion_matrix\n",
    "\n",
    "def evaluate_confusion(model, set_name):\n",
    "    with torch.inference_mode():\n",
    "        model.eval()\n",
    "        \n",
    "        logits_list = []\n",
    "        label_list = []\n",
    "\n",
    "        batch_size = 0\n",
    "        for i, (x,y) in enumerate(batch_loader[set_name]):\n",
    "            B,_,_ = x.shape\n",
    "            logits, logits_mask = model(x)\n",
    "\n",
    "            logits_list.extend(logits[logits_mask].squeeze(-1).tolist())\n",
    "            label_list.extend(y[logits_mask].squeeze(-1).tolist())\n",
    "            batch_size += B\n",
    "    conf = confusion_matrix(np.array(label_list), torch.round(torch.sigmoid(torch.tensor(logits_list))).numpy())\n",
    "    return conf"
   ]
  },
  {
   "cell_type": "code",
   "execution_count": null,
   "id": "5283efe9-8103-47eb-8182-f20e2fbf76b8",
   "metadata": {},
   "outputs": [],
   "source": [
    "evaluate_confusion(model, TEST)"
   ]
  },
  {
   "cell_type": "code",
   "execution_count": null,
   "id": "c7f370b5-7ad2-4883-a641-095c580976a2",
   "metadata": {},
   "outputs": [
    {
     "data": {
      "application/vnd.jupyter.widget-view+json": {
       "model_id": "dc8b87bf218741edab85fac6e8e8c8e2",
       "version_major": 2,
       "version_minor": 0
      },
      "text/plain": [
       "0it [00:00, ?it/s]"
      ]
     },
     "metadata": {},
     "output_type": "display_data"
    },
    {
     "data": {
      "application/vnd.jupyter.widget-view+json": {
       "model_id": "ecf508ab5b104a8290167280230a3834",
       "version_major": 2,
       "version_minor": 0
      },
      "text/plain": [
       "0it [00:00, ?it/s]"
      ]
     },
     "metadata": {},
     "output_type": "display_data"
    },
    {
     "name": "stdout",
     "output_type": "stream",
     "text": [
      "Loss of train: 0.00135\n",
      "Loss of val: 0.00145\n",
      "Loss of test: 0.00129\n",
      "Loss of gw_test: 0.00112\n",
      "[0.001454187366165176]\n"
     ]
    },
    {
     "data": {
      "application/vnd.jupyter.widget-view+json": {
       "model_id": "5554e85271404110a898cb357e815d56",
       "version_major": 2,
       "version_minor": 0
      },
      "text/plain": [
       "0it [00:00, ?it/s]"
      ]
     },
     "metadata": {},
     "output_type": "display_data"
    },
    {
     "name": "stdout",
     "output_type": "stream",
     "text": [
      "Loss of train: 0.00130\n",
      "Loss of val: 0.00140\n",
      "Loss of test: 0.00122\n",
      "Loss of gw_test: 0.00108\n",
      "[0.001454187366165176, 0.0013962066526764922]\n"
     ]
    },
    {
     "data": {
      "application/vnd.jupyter.widget-view+json": {
       "model_id": "09bf460a4c0441c9861ce928b4d8b122",
       "version_major": 2,
       "version_minor": 0
      },
      "text/plain": [
       "0it [00:00, ?it/s]"
      ]
     },
     "metadata": {},
     "output_type": "display_data"
    },
    {
     "name": "stdout",
     "output_type": "stream",
     "text": [
      "Loss of train: 0.00128\n",
      "Loss of val: 0.00137\n",
      "Loss of test: 0.00121\n",
      "Loss of gw_test: 0.00107\n",
      "[0.001454187366165176, 0.0013962066526764922, 0.0013704708301050725]\n"
     ]
    },
    {
     "data": {
      "application/vnd.jupyter.widget-view+json": {
       "model_id": "9af9f950eec24662b43dca29f34e1055",
       "version_major": 2,
       "version_minor": 0
      },
      "text/plain": [
       "0it [00:00, ?it/s]"
      ]
     },
     "metadata": {},
     "output_type": "display_data"
    },
    {
     "name": "stdout",
     "output_type": "stream",
     "text": [
      "Loss of train: 0.00127\n",
      "Loss of val: 0.00135\n",
      "Loss of test: 0.00120\n",
      "Loss of gw_test: 0.00106\n",
      "[0.001454187366165176, 0.0013962066526764922, 0.0013704708301050725, 0.0013544029756100736]\n"
     ]
    },
    {
     "data": {
      "application/vnd.jupyter.widget-view+json": {
       "model_id": "a6deb9d401134b67b183f46b6a071b36",
       "version_major": 2,
       "version_minor": 0
      },
      "text/plain": [
       "0it [00:00, ?it/s]"
      ]
     },
     "metadata": {},
     "output_type": "display_data"
    },
    {
     "name": "stdout",
     "output_type": "stream",
     "text": [
      "Loss of train: 0.00126\n",
      "Loss of val: 0.00134\n",
      "Loss of test: 0.00119\n",
      "Loss of gw_test: 0.00104\n",
      "[0.001454187366165176, 0.0013962066526764922, 0.0013704708301050725, 0.0013544029756100736, 0.0013433521144259476]\n"
     ]
    },
    {
     "data": {
      "application/vnd.jupyter.widget-view+json": {
       "model_id": "abe441a685e2445db8917487256ebbee",
       "version_major": 2,
       "version_minor": 0
      },
      "text/plain": [
       "0it [00:00, ?it/s]"
      ]
     },
     "metadata": {},
     "output_type": "display_data"
    },
    {
     "name": "stdout",
     "output_type": "stream",
     "text": [
      "Loss of train: 0.00125\n",
      "Loss of val: 0.00134\n",
      "Loss of test: 0.00118\n",
      "Loss of gw_test: 0.00104\n",
      "[0.001454187366165176, 0.0013962066526764922, 0.0013704708301050725, 0.0013544029756100736, 0.0013433521144259476, 0.001335488471964683]\n"
     ]
    },
    {
     "data": {
      "application/vnd.jupyter.widget-view+json": {
       "model_id": "cd44c1f2b8cf4a22a6e0a4ae7818a787",
       "version_major": 2,
       "version_minor": 0
      },
      "text/plain": [
       "0it [00:00, ?it/s]"
      ]
     },
     "metadata": {},
     "output_type": "display_data"
    },
    {
     "name": "stdout",
     "output_type": "stream",
     "text": [
      "Loss of train: 0.00124\n",
      "Loss of val: 0.00133\n",
      "Loss of test: 0.00118\n",
      "Loss of gw_test: 0.00103\n",
      "[0.001454187366165176, 0.0013962066526764922, 0.0013704708301050725, 0.0013544029756100736, 0.0013433521144259476, 0.001335488471964683, 0.0013305408512121293]\n"
     ]
    },
    {
     "data": {
      "application/vnd.jupyter.widget-view+json": {
       "model_id": "542842884e754f7bad41a426265514b7",
       "version_major": 2,
       "version_minor": 0
      },
      "text/plain": [
       "0it [00:00, ?it/s]"
      ]
     },
     "metadata": {},
     "output_type": "display_data"
    },
    {
     "name": "stdout",
     "output_type": "stream",
     "text": [
      "Loss of train: 0.00124\n",
      "Loss of val: 0.00133\n",
      "Loss of test: 0.00117\n",
      "Loss of gw_test: 0.00102\n",
      "[0.001454187366165176, 0.0013962066526764922, 0.0013704708301050725, 0.0013544029756100736, 0.0013433521144259476, 0.001335488471964683, 0.0013305408512121293, 0.001327093319201652]\n"
     ]
    },
    {
     "data": {
      "application/vnd.jupyter.widget-view+json": {
       "model_id": "e3283b226dd44104addf095dd2c6ace8",
       "version_major": 2,
       "version_minor": 0
      },
      "text/plain": [
       "0it [00:00, ?it/s]"
      ]
     },
     "metadata": {},
     "output_type": "display_data"
    }
   ],
   "source": [
    "from sklearn.model_selection import ParameterGrid\n",
    "import copy\n",
    "\n",
    "space = {\n",
    "    'f1': [i for i in range(2,6)],\n",
    "    'f2': [i for i in range(2,6)],\n",
    "    'f3': [i for i in range(2,6)],\n",
    "    'f4': [i for i in range(2,6)],\n",
    "    'f5': [i for i in range(2,6)],\n",
    "}\n",
    "param_grid = ParameterGrid(space)\n",
    "\n",
    "best_hyper_params = {'f1': 3, 'f2': 4, 'f3': 5, 'f4': 3, 'f5': 5}\n",
    "best_val_loss = 0.0011606613010549842\n",
    "\n",
    "processed_params = []\n",
    "processed_losses = []\n",
    "\n",
    "save_progress_iter = 2\n",
    "\n",
    "patience = 2\n",
    "for i, params in tqdm(enumerate(param_grid.__iter__())):\n",
    "    if i <= 913:\n",
    "        continue    \n",
    "    \n",
    "    torch.manual_seed(42)\n",
    "    model = ConvModel(input_dim, [params[f\"f{i}\"] for i in range(1,6)]).to(device)\n",
    "    optim= torch.optim.Adam(model.parameters(), lr = 1e-2)\n",
    "    models = []\n",
    "\n",
    "    last_val_loss = None\n",
    "    val_losses = []\n",
    "    never_breaked = True\n",
    "    for epoch in range(100):\n",
    "        for i, (x,y) in tqdm(enumerate(batch_loader[TRAIN])):\n",
    "            model.train()\n",
    "            optim.zero_grad()\n",
    "            \n",
    "            logits, logits_mask = model(x)\n",
    "            loss = torch.nn.functional.binary_cross_entropy_with_logits(logits[logits_mask].squeeze(-1), y[logits_mask], pos_weight=torch.tensor(WEIGHT))\n",
    "                \n",
    "            loss.backward()\n",
    "            optim.step()\n",
    "        losses = evaluate_loss_sets(model)\n",
    "        val_losses.append(losses[VAL])\n",
    "        models.append(copy.deepcopy(model))\n",
    "        print(val_losses)\n",
    "        if len(val_losses) >= patience and all(list(map(lambda l: losses[VAL] >= l, val_losses[-patience:]))):\n",
    "            print(f\"Break at {epoch}\")\n",
    "            val_losses = val_losses[:-patience]\n",
    "            never_breaked = False\n",
    "            model = models[-patience]\n",
    "            break\n",
    "    if never_breaked:\n",
    "        print(\"Never breaked with params\")\n",
    "    processed_params.append(params)\n",
    "    processed_losses.append(val_losses[-1])\n",
    "\n",
    "    if i % save_progress_iter == 0:\n",
    "        df = pd.DataFrame()\n",
    "        df[\"params\"] = processed_params\n",
    "        df[\"loss\"] = processed_losses\n",
    "        df.to_csv(\"cnn_params.csv\")\n",
    "    \n",
    "    # evaluate_auroc_sets(model)\n",
    "    if val_losses[-1]<= best_val_loss:\n",
    "        best_val_loss = min(val_losses[-1], best_val_loss)\n",
    "        best_hyper_params = params\n",
    "        print(\"Currently best params: \")\n",
    "        print(best_hyper_params)"
   ]
  },
  {
   "cell_type": "code",
   "execution_count": null,
   "id": "dc467546-2069-4dbc-b3ff-9aaa852a09c5",
   "metadata": {},
   "outputs": [],
   "source": [
    "raise Exception"
   ]
  },
  {
   "cell_type": "code",
   "execution_count": null,
   "id": "0b2e34aa-7d99-4223-963a-70c35672d46c",
   "metadata": {},
   "outputs": [],
   "source": [
    "best_hyper_params"
   ]
  },
  {
   "cell_type": "code",
   "execution_count": null,
   "id": "65d4aa6a-109e-4b2e-9ef2-ece7315595cf",
   "metadata": {},
   "outputs": [],
   "source": [
    "best_val_loss"
   ]
  },
  {
   "cell_type": "code",
   "execution_count": null,
   "id": "9e8b133e-207e-4047-bf84-aba97a5d691d",
   "metadata": {},
   "outputs": [],
   "source": []
  }
 ],
 "metadata": {
  "kernelspec": {
   "display_name": "Python 3 (ipykernel)",
   "language": "python",
   "name": "python3"
  },
  "language_info": {
   "codemirror_mode": {
    "name": "ipython",
    "version": 3
   },
   "file_extension": ".py",
   "mimetype": "text/x-python",
   "name": "python",
   "nbconvert_exporter": "python",
   "pygments_lexer": "ipython3",
   "version": "3.10.12"
  }
 },
 "nbformat": 4,
 "nbformat_minor": 5
}
