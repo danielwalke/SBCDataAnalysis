{
 "cells": [
  {
   "cell_type": "code",
   "execution_count": 1,
   "id": "7853152f-7bd9-47c5-993c-13e1e4131b98",
   "metadata": {},
   "outputs": [],
   "source": [
    "import sys\n",
    " \n",
    "sys.path.insert(0, \"../\")"
   ]
  },
  {
   "cell_type": "code",
   "execution_count": 2,
   "id": "f09e3010-ed0c-49e2-847f-27843741856a",
   "metadata": {},
   "outputs": [
    {
     "name": "stderr",
     "output_type": "stream",
     "text": [
      "/home/dwalke/git/graph_aware_ml/time_series/../dataAnalysis/data/Filter.py:34: SettingWithCopyWarning: \n",
      "A value is trying to be set on a copy of a slice from a DataFrame.\n",
      "Try using .loc[row_indexer,col_indexer] = value instead\n",
      "\n",
      "See the caveats in the documentation: https://pandas.pydata.org/pandas-docs/stable/user_guide/indexing.html#returning-a-view-versus-a-copy\n",
      "  self.data['Label'] = self.data['Diagnosis']\n",
      "/home/dwalke/git/graph_aware_ml/time_series/../dataAnalysis/data/Filter.py:34: SettingWithCopyWarning: \n",
      "A value is trying to be set on a copy of a slice from a DataFrame.\n",
      "Try using .loc[row_indexer,col_indexer] = value instead\n",
      "\n",
      "See the caveats in the documentation: https://pandas.pydata.org/pandas-docs/stable/user_guide/indexing.html#returning-a-view-versus-a-copy\n",
      "  self.data['Label'] = self.data['Diagnosis']\n",
      "/home/dwalke/git/graph_aware_ml/time_series/../dataAnalysis/data/Filter.py:34: SettingWithCopyWarning: \n",
      "A value is trying to be set on a copy of a slice from a DataFrame.\n",
      "Try using .loc[row_indexer,col_indexer] = value instead\n",
      "\n",
      "See the caveats in the documentation: https://pandas.pydata.org/pandas-docs/stable/user_guide/indexing.html#returning-a-view-versus-a-copy\n",
      "  self.data['Label'] = self.data['Diagnosis']\n"
     ]
    }
   ],
   "source": [
    "from dataAnalysis.DataAnalysis import DataAnalysis\n",
    "import pandas as pd\n",
    "\n",
    "data = pd.read_csv(r\"../sbcdata.csv\", header=0)\n",
    "data_analysis = DataAnalysis(data, mimic_data = None)"
   ]
  },
  {
   "cell_type": "code",
   "execution_count": 3,
   "id": "00f0fd6a-479d-4e18-af3f-231821ea1c85",
   "metadata": {},
   "outputs": [],
   "source": [
    "data = pd.concat((data_analysis.get_training_data(), data_analysis.get_testing_data()))\n",
    "max_Id = data[\"Id\"].unique().max()\n",
    "gw_data = data_analysis.get_gw_testing_data().copy(deep=True)\n",
    "gw_data = gw_data.assign(Id=lambda x: x.Id + max_Id)\n",
    "data = pd.concat((data, gw_data))\n",
    "data = data.sort_values([\"Id\", \"Time\"])\n",
    "data = data.reset_index(drop=True)\n",
    "popped_index = data.pop(\"index\")"
   ]
  },
  {
   "cell_type": "code",
   "execution_count": 4,
   "id": "b12b9398-dc69-4960-a6b5-43f2eca052fe",
   "metadata": {},
   "outputs": [],
   "source": [
    "from dataAnalysis.Constants import SEX_CATEGORY_COLUMN_NAME, SEX_COLUMN_NAME, FEATURES\n",
    "data[SEX_CATEGORY_COLUMN_NAME] = data.loc[:, SEX_COLUMN_NAME] ==\"W\"\n",
    "\n",
    "data[SEX_CATEGORY_COLUMN_NAME] = data[SEX_CATEGORY_COLUMN_NAME].astype(\"int8\")\n",
    "data[\"Label\"] = data[\"Label\"] == \"Sepsis\"\n",
    "data[\"Label\"] = data[\"Label\"].astype(\"int8\")"
   ]
  },
  {
   "cell_type": "code",
   "execution_count": 5,
   "id": "5e525c41-f9aa-44bb-8a5d-c847082834ed",
   "metadata": {},
   "outputs": [],
   "source": [
    "import numpy as np\n",
    "from tqdm.notebook import tqdm\n",
    "import torch\n",
    "\n",
    "def get_edge_index(dataset):\n",
    "    dataset = dataset.reset_index(drop=True)\n",
    "    source_edge_index = []\n",
    "    target_edge_index = []\n",
    "\n",
    "    for Id, group in tqdm(dataset.groupby(\"Id\")):\n",
    "        indices = group.index\n",
    "        offset = indices[0]\n",
    "        num_nodes = len(indices)\n",
    "        edge_index = torch.zeros((2, sum(range(num_nodes + 1))), dtype=torch.long)+offset\n",
    "\n",
    "        ## Self edges\n",
    "        edge_index[:, 0:num_nodes] = (torch.arange(num_nodes) + offset).view(1, -1)\n",
    "        idx = num_nodes\n",
    "        for i in range(1, num_nodes):\n",
    "            edge_index[1, idx:idx + i] = i+offset\n",
    "            edge_index[0, idx:idx + i] = torch.arange(i)+offset\n",
    "            idx += i\n",
    "\n",
    "        source_edge_index.extend(edge_index[0, :].numpy().tolist())\n",
    "        target_edge_index.extend(edge_index[1, :].numpy().tolist())\n",
    "\n",
    "    edge_index = np.asarray([np.asarray(source_edge_index), np.asarray(target_edge_index)])\n",
    "    edge_index = torch.tensor(edge_index)\n",
    "    return edge_index"
   ]
  },
  {
   "cell_type": "code",
   "execution_count": 6,
   "id": "ba807e84-396a-4a94-806a-c3b07912db0b",
   "metadata": {},
   "outputs": [
    {
     "data": {
      "application/vnd.jupyter.widget-view+json": {
       "model_id": "c5028b2c0480420985e71638fd9ae20e",
       "version_major": 2,
       "version_minor": 0
      },
      "text/plain": [
       "  0%|          | 0/180494 [00:00<?, ?it/s]"
      ]
     },
     "metadata": {},
     "output_type": "display_data"
    },
    {
     "data": {
      "application/vnd.jupyter.widget-view+json": {
       "model_id": "759a940e3c3344178b517dabb2746cd4",
       "version_major": 2,
       "version_minor": 0
      },
      "text/plain": [
       "  0%|          | 0/157922 [00:00<?, ?it/s]"
      ]
     },
     "metadata": {},
     "output_type": "display_data"
    },
    {
     "data": {
      "application/vnd.jupyter.widget-view+json": {
       "model_id": "3cd2abc3fe2f4cde9e7b35de1be6a95d",
       "version_major": 2,
       "version_minor": 0
      },
      "text/plain": [
       "  0%|          | 0/528101 [00:00<?, ?it/s]"
      ]
     },
     "metadata": {},
     "output_type": "display_data"
    }
   ],
   "source": [
    "test_edge_index = get_edge_index(data[(data[\"Set\"] == \"Validation\") & (data[\"Center\"] == \"Leipzig\")])\n",
    "test_gw_edge_index = get_edge_index(data[(data[\"Set\"] == \"Validation\") & (data[\"Center\"] == \"Greifswald\")])\n",
    "train_edge_index = get_edge_index(data[data[\"Set\"] == \"Training\"])"
   ]
  },
  {
   "cell_type": "code",
   "execution_count": 7,
   "id": "72ab7341-0045-4799-a33f-9b2da271acef",
   "metadata": {},
   "outputs": [],
   "source": [
    "def reverse_edge_index(edge_index):\n",
    "    rev_edge_index = torch.zeros_like(edge_index)\n",
    "    index = torch.LongTensor([1,0])\n",
    "    rev_edge_index[index] = edge_index\n",
    "    return rev_edge_index\n",
    "\n",
    "rev_train_edge_index = reverse_edge_index(train_edge_index)\n",
    "rev_test_edge_index = reverse_edge_index(test_edge_index)\n",
    "rev_test_gw_edge_index = reverse_edge_index(test_gw_edge_index)"
   ]
  },
  {
   "cell_type": "code",
   "execution_count": 8,
   "id": "86ff686a-be7f-410c-8edb-99597e9aa5f7",
   "metadata": {},
   "outputs": [],
   "source": [
    "from dataAnalysis.Constants import FEATURES, LABEL_COLUMN_NAME\n",
    "\n",
    "train_mask = data[\"Set\"] == \"Training\"\n",
    "X_train = data.loc[train_mask, FEATURES].values\n",
    "y_train = data.loc[train_mask, LABEL_COLUMN_NAME].values\n",
    "\n",
    "test_mask = (data[\"Set\"] == \"Validation\") & (data[\"Center\"] == \"Leipzig\")\n",
    "X_test = data.loc[test_mask, FEATURES].values\n",
    "y_test = data.loc[test_mask, LABEL_COLUMN_NAME].values\n",
    "\n",
    "test_gw_mask = (data[\"Set\"] == \"Validation\") & (data[\"Center\"] == \"Greifswald\")\n",
    "X_test_gw = data.loc[test_gw_mask, FEATURES].values\n",
    "y_test_gw = data.loc[test_gw_mask, LABEL_COLUMN_NAME].values"
   ]
  },
  {
   "cell_type": "code",
   "execution_count": 9,
   "id": "c676aca7-bc2a-4333-8465-908c4a1dd1b0",
   "metadata": {},
   "outputs": [],
   "source": [
    "import numpy\n",
    "from torch.nn.functional import normalize\n",
    "\n",
    "def user_function(kwargs):\n",
    "    return normalize(kwargs[\"updated_features\"] - kwargs[\"mean_neighbors\"], p=2.0, dim = 1)\n",
    "    \n",
    "\n",
    "from xgboost import XGBClassifier\n",
    "from sklearn.ensemble import RandomForestClassifier\n",
    "\n",
    "clf = random_forest = RandomForestClassifier(class_weight={0: 0.0025, 1: 1}, max_leaf_nodes=79,\n",
    "                                             min_samples_leaf=0.0001,\n",
    "                                             min_samples_split=0.0055,\n",
    "                                             n_estimators=700, random_state=42, n_jobs=-1)\n",
    "# XGBClassifier(tree_method='gpu_hist', \n",
    "#                            scale_pos_weight = 70,\n",
    "#                            n_estimators=1000,\n",
    "#                            max_depth=2,\n",
    "#                            eta=0.1,\n",
    "#                            min_child_weight = 7,\n",
    "#                            max_delta_step= 7,\n",
    "#                            sampling_method= \"uniform\")\n",
    "\n",
    "clf_nh = random_forest = RandomForestClassifier(class_weight={0: 0.0025, 1: 1}, max_leaf_nodes=79,\n",
    "                                                min_samples_leaf=0.0001,\n",
    "                                                min_samples_split=0.0055,\n",
    "                                                n_estimators=500, random_state=42, n_jobs=-1)\n",
    "\n",
    "bst = XGBClassifier( tree_method='gpu_hist', \n",
    "                    n_estimators=1000,\n",
    "                    max_depth=2,\n",
    "                    eta=0.1,\n",
    "                    min_child_weight = 7,\n",
    "                    max_delta_step= 7,\n",
    "                    sampling_method= \"uniform\")\n",
    "\n",
    "bst_nh = XGBClassifier( tree_method='gpu_hist', \n",
    "                       n_estimators=1000,\n",
    "                       max_depth=2,\n",
    "                       eta=0.1,\n",
    "                       min_child_weight = 7,\n",
    "                       max_delta_step= 7,\n",
    "                       sampling_method= \"uniform\")"
   ]
  },
  {
   "cell_type": "code",
   "execution_count": null,
   "id": "bc39f43b-5c41-4dad-942e-55fb6236eaa5",
   "metadata": {},
   "outputs": [],
   "source": [
    "from EnsembleFramework import Framework\n",
    "\n",
    "framework_2 = Framework([user_function, user_function, user_function], \n",
    "                         hops_list=[0, 3, 6], ## to obtain best for local neighborhood\n",
    "                         clfs=[clf, clf_nh, clf_nh],\n",
    "                         gpu_idx=0,\n",
    "                         handle_nan=0.0,\n",
    "                        attention_configs=[None, None, None])\n",
    "models = framework_2.fit(X_train,\n",
    "                rev_train_edge_index,\n",
    "                y_train,\n",
    "                None)  "
   ]
  },
  {
   "cell_type": "code",
   "execution_count": null,
   "id": "9bebdb79-d719-4f40-82c1-87abf08c5c8e",
   "metadata": {},
   "outputs": [],
   "source": [
    "y_pred_proba = framework_2.predict_proba(X_test, rev_test_edge_index, None)[:,1]\n",
    "y_pred_proba_gw = framework_2.predict_proba(X_test_gw, rev_test_gw_edge_index, None)[:,1]"
   ]
  },
  {
   "cell_type": "code",
   "execution_count": null,
   "id": "014ca379-5f05-46a1-8c2e-a74f79c055b2",
   "metadata": {},
   "outputs": [],
   "source": [
    "from sklearn.metrics import roc_auc_score\n",
    "\n",
    "print(roc_auc_score(y_test, y_pred_proba))\n",
    "print(roc_auc_score(y_test_gw, y_pred_proba_gw))"
   ]
  },
  {
   "cell_type": "code",
   "execution_count": null,
   "id": "6111725e-b2f5-4afc-8860-976556e85eb6",
   "metadata": {},
   "outputs": [],
   "source": []
  }
 ],
 "metadata": {
  "kernelspec": {
   "display_name": "Python 3 (ipykernel)",
   "language": "python",
   "name": "python3"
  },
  "language_info": {
   "codemirror_mode": {
    "name": "ipython",
    "version": 3
   },
   "file_extension": ".py",
   "mimetype": "text/x-python",
   "name": "python",
   "nbconvert_exporter": "python",
   "pygments_lexer": "ipython3",
   "version": "3.10.12"
  }
 },
 "nbformat": 4,
 "nbformat_minor": 5
}
