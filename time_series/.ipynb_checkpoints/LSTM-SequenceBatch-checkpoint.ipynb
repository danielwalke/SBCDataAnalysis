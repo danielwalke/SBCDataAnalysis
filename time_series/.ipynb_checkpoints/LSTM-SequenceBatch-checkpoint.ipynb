{
 "cells": [
  {
   "cell_type": "code",
   "execution_count": 1,
   "id": "25976b88-622c-4b25-a238-99d496a3055c",
   "metadata": {},
   "outputs": [],
   "source": [
    "import pandas as pd"
   ]
  },
  {
   "cell_type": "code",
   "execution_count": 2,
   "id": "6484d113-136f-493f-b460-67dc042d7794",
   "metadata": {},
   "outputs": [
    {
     "name": "stderr",
     "output_type": "stream",
     "text": [
      "/home/dwalke/git/graph_aware_ml/time_series/../dataAnalysis/data/Filter.py:34: SettingWithCopyWarning: \n",
      "A value is trying to be set on a copy of a slice from a DataFrame.\n",
      "Try using .loc[row_indexer,col_indexer] = value instead\n",
      "\n",
      "See the caveats in the documentation: https://pandas.pydata.org/pandas-docs/stable/user_guide/indexing.html#returning-a-view-versus-a-copy\n",
      "  self.data['Label'] = self.data['Diagnosis']\n",
      "/home/dwalke/git/graph_aware_ml/time_series/../dataAnalysis/data/Filter.py:34: SettingWithCopyWarning: \n",
      "A value is trying to be set on a copy of a slice from a DataFrame.\n",
      "Try using .loc[row_indexer,col_indexer] = value instead\n",
      "\n",
      "See the caveats in the documentation: https://pandas.pydata.org/pandas-docs/stable/user_guide/indexing.html#returning-a-view-versus-a-copy\n",
      "  self.data['Label'] = self.data['Diagnosis']\n",
      "/home/dwalke/git/graph_aware_ml/time_series/../dataAnalysis/data/Filter.py:34: SettingWithCopyWarning: \n",
      "A value is trying to be set on a copy of a slice from a DataFrame.\n",
      "Try using .loc[row_indexer,col_indexer] = value instead\n",
      "\n",
      "See the caveats in the documentation: https://pandas.pydata.org/pandas-docs/stable/user_guide/indexing.html#returning-a-view-versus-a-copy\n",
      "  self.data['Label'] = self.data['Diagnosis']\n"
     ]
    }
   ],
   "source": [
    "import sys\n",
    "sys.path.insert(0, \"../\")\n",
    "from dataAnalysis.DataAnalysis import DataAnalysis\n",
    "import pandas as pd\n",
    "import torch\n",
    " \n",
    "data = pd.read_csv(r\"../sbcdata.csv\", header=0)\n",
    "data_analysis = DataAnalysis(data)"
   ]
  },
  {
   "cell_type": "code",
   "execution_count": 3,
   "id": "25ddb7fc-61fa-40a6-85b6-f366dab17b77",
   "metadata": {},
   "outputs": [],
   "source": [
    "data = pd.concat((data_analysis.get_training_data(), data_analysis.get_testing_data()))\n",
    "max_Id = data[\"Id\"].unique().max()\n",
    "gw_data = data_analysis.get_gw_testing_data().copy(deep=True)\n",
    "gw_data = gw_data.assign(Id=lambda x: x.Id + max_Id)\n",
    "data = pd.concat((data, gw_data))\n",
    "data = data.sort_values([\"Id\", \"Time\"])\n",
    "data = data.reset_index(drop=True)\n",
    "popped_index = data.pop(\"index\")"
   ]
  },
  {
   "cell_type": "code",
   "execution_count": 4,
   "id": "3077e551-dfd4-4bf6-9cc0-cf0c9f9d37c2",
   "metadata": {},
   "outputs": [],
   "source": [
    "train = (data[\"Center\"] == \"Leipzig\") & (data[\"Set\"] == \"Training\")\n",
    "test = (data[\"Center\"] == \"Leipzig\") & (data[\"Set\"] == \"Validation\")\n",
    "val = (data[\"Center\"] == \"Greifswald\") & (data[\"Set\"] == \"Validation\")"
   ]
  },
  {
   "cell_type": "code",
   "execution_count": 5,
   "id": "40c63c82-85ac-4161-841a-326d6c35e446",
   "metadata": {},
   "outputs": [],
   "source": [
    "train = torch.from_numpy(train.values)\n",
    "test = torch.from_numpy(test.values)\n",
    "val = torch.from_numpy(val.values)"
   ]
  },
  {
   "cell_type": "code",
   "execution_count": 6,
   "id": "52163468-28a6-471f-b5b5-154baad2b704",
   "metadata": {},
   "outputs": [],
   "source": [
    "import torch\n",
    "from dataAnalysis.Constants import SEX_CATEGORY_COLUMN_NAME, SEX_COLUMN_NAME, FEATURES, LABEL_COLUMN_NAME\n",
    "\n",
    "data[SEX_CATEGORY_COLUMN_NAME] = data.loc[:, SEX_COLUMN_NAME] ==\"W\"\n",
    "\n",
    "data[SEX_CATEGORY_COLUMN_NAME] = data[SEX_CATEGORY_COLUMN_NAME].astype(\"int8\")\n",
    "data[\"Label\"] = data[\"Label\"] == \"Sepsis\"\n",
    "data[\"Label\"] = data[\"Label\"].astype(\"int8\")\n",
    "\n",
    "X = data[FEATURES].values\n",
    "y = data[LABEL_COLUMN_NAME].values"
   ]
  },
  {
   "cell_type": "code",
   "execution_count": 7,
   "id": "e7d19731-faa2-4f72-8833-a528fd8ce213",
   "metadata": {},
   "outputs": [],
   "source": [
    "from sklearn.preprocessing import QuantileTransformer\n",
    "\n",
    "scaler = QuantileTransformer(output_distribution=\"normal\")\n",
    "scaler.fit(X[train])\n",
    "X = scaler.transform(X)"
   ]
  },
  {
   "cell_type": "code",
   "execution_count": 8,
   "id": "bb63e0b3-9389-4ea2-9548-083b6d2ff6bc",
   "metadata": {},
   "outputs": [],
   "source": [
    "X = torch.from_numpy(X)\n",
    "y = torch.from_numpy(y)"
   ]
  },
  {
   "cell_type": "code",
   "execution_count": 9,
   "id": "699e5842-46ad-45f6-8c55-02a3064dc013",
   "metadata": {},
   "outputs": [],
   "source": [
    "id_grouped_data = data.groupby(\"Id\")"
   ]
  },
  {
   "cell_type": "code",
   "execution_count": 10,
   "id": "ba1e69ca-cb5a-4157-9d29-65a9b6666388",
   "metadata": {},
   "outputs": [],
   "source": [
    "# train_idc = torch.where(train)[0]\n",
    "# new_train_idc = train_idc[:round(train_idc.shape[0]*.8)]\n",
    "# new_val_idc = train_idc[round(train_idc.shape[0]*.8):]\n",
    "# new_train = torch.zeros_like(train)\n",
    "# new_val = torch.zeros_like(train)\n",
    "# new_train[new_train_idc] = 1\n",
    "# new_val[new_val_idc] = 1\n",
    "# new_train = new_train.type(torch.bool)\n",
    "# new_val = new_val.type(torch.bool)"
   ]
  },
  {
   "cell_type": "code",
   "execution_count": 11,
   "id": "3c0197c9-4ee9-4f02-9ad9-492c27f945d7",
   "metadata": {},
   "outputs": [
    {
     "data": {
      "application/vnd.jupyter.widget-view+json": {
       "model_id": "274330bc2b01405bbd82ae0998035297",
       "version_major": 2,
       "version_minor": 0
      },
      "text/plain": [
       "  0%|          | 0/866517 [00:00<?, ?it/s]"
      ]
     },
     "metadata": {},
     "output_type": "display_data"
    },
    {
     "ename": "KeyboardInterrupt",
     "evalue": "",
     "output_type": "error",
     "traceback": [
      "\u001b[0;31m---------------------------------------------------------------------------\u001b[0m",
      "\u001b[0;31mKeyboardInterrupt\u001b[0m                         Traceback (most recent call last)",
      "Cell \u001b[0;32mIn[11], line 14\u001b[0m\n\u001b[1;32m     12\u001b[0m \u001b[38;5;28;01mfor\u001b[39;00m \u001b[38;5;28mid\u001b[39m, data \u001b[38;5;129;01min\u001b[39;00m tqdm(id_grouped_data):\n\u001b[1;32m     13\u001b[0m     time_series_len \u001b[38;5;241m=\u001b[39m data\u001b[38;5;241m.\u001b[39mshape[\u001b[38;5;241m0\u001b[39m]\n\u001b[0;32m---> 14\u001b[0m     is_training \u001b[38;5;241m=\u001b[39m (\u001b[43mdata\u001b[49m\u001b[43m[\u001b[49m\u001b[38;5;124;43m\"\u001b[39;49m\u001b[38;5;124;43mSet\u001b[39;49m\u001b[38;5;124;43m\"\u001b[39;49m\u001b[43m]\u001b[49m\u001b[43m \u001b[49m\u001b[38;5;241;43m==\u001b[39;49m\u001b[43m \u001b[49m\u001b[38;5;124;43m\"\u001b[39;49m\u001b[38;5;124;43mTraining\u001b[39;49m\u001b[38;5;124;43m\"\u001b[39;49m)\u001b[38;5;241m.\u001b[39mall()\n\u001b[1;32m     15\u001b[0m     is_gw_test \u001b[38;5;241m=\u001b[39m (data[\u001b[38;5;124m\"\u001b[39m\u001b[38;5;124mCenter\u001b[39m\u001b[38;5;124m\"\u001b[39m] \u001b[38;5;241m==\u001b[39m \u001b[38;5;124m\"\u001b[39m\u001b[38;5;124mGreifswald\u001b[39m\u001b[38;5;124m\"\u001b[39m)\u001b[38;5;241m.\u001b[39mall()\n\u001b[1;32m     16\u001b[0m     X_sgd \u001b[38;5;241m=\u001b[39m torch\u001b[38;5;241m.\u001b[39mfrom_numpy(data[FEATURES]\u001b[38;5;241m.\u001b[39mvalues)\u001b[38;5;241m.\u001b[39mtype(torch\u001b[38;5;241m.\u001b[39mfloat)\u001b[38;5;241m.\u001b[39munsqueeze(\u001b[38;5;241m0\u001b[39m)\n",
      "File \u001b[0;32m~/.local/lib/python3.10/site-packages/pandas/core/ops/common.py:72\u001b[0m, in \u001b[0;36m_unpack_zerodim_and_defer.<locals>.new_method\u001b[0;34m(self, other)\u001b[0m\n\u001b[1;32m     68\u001b[0m             \u001b[38;5;28;01mreturn\u001b[39;00m \u001b[38;5;28mNotImplemented\u001b[39m\n\u001b[1;32m     70\u001b[0m other \u001b[38;5;241m=\u001b[39m item_from_zerodim(other)\n\u001b[0;32m---> 72\u001b[0m \u001b[38;5;28;01mreturn\u001b[39;00m \u001b[43mmethod\u001b[49m\u001b[43m(\u001b[49m\u001b[38;5;28;43mself\u001b[39;49m\u001b[43m,\u001b[49m\u001b[43m \u001b[49m\u001b[43mother\u001b[49m\u001b[43m)\u001b[49m\n",
      "File \u001b[0;32m~/.local/lib/python3.10/site-packages/pandas/core/arraylike.py:42\u001b[0m, in \u001b[0;36mOpsMixin.__eq__\u001b[0;34m(self, other)\u001b[0m\n\u001b[1;32m     40\u001b[0m \u001b[38;5;129m@unpack_zerodim_and_defer\u001b[39m(\u001b[38;5;124m\"\u001b[39m\u001b[38;5;124m__eq__\u001b[39m\u001b[38;5;124m\"\u001b[39m)\n\u001b[1;32m     41\u001b[0m \u001b[38;5;28;01mdef\u001b[39;00m \u001b[38;5;21m__eq__\u001b[39m(\u001b[38;5;28mself\u001b[39m, other):\n\u001b[0;32m---> 42\u001b[0m     \u001b[38;5;28;01mreturn\u001b[39;00m \u001b[38;5;28;43mself\u001b[39;49m\u001b[38;5;241;43m.\u001b[39;49m\u001b[43m_cmp_method\u001b[49m\u001b[43m(\u001b[49m\u001b[43mother\u001b[49m\u001b[43m,\u001b[49m\u001b[43m \u001b[49m\u001b[43moperator\u001b[49m\u001b[38;5;241;43m.\u001b[39;49m\u001b[43meq\u001b[49m\u001b[43m)\u001b[49m\n",
      "File \u001b[0;32m~/.local/lib/python3.10/site-packages/pandas/core/series.py:6243\u001b[0m, in \u001b[0;36mSeries._cmp_method\u001b[0;34m(self, other, op)\u001b[0m\n\u001b[1;32m   6240\u001b[0m rvalues \u001b[38;5;241m=\u001b[39m extract_array(other, extract_numpy\u001b[38;5;241m=\u001b[39m\u001b[38;5;28;01mTrue\u001b[39;00m, extract_range\u001b[38;5;241m=\u001b[39m\u001b[38;5;28;01mTrue\u001b[39;00m)\n\u001b[1;32m   6242\u001b[0m \u001b[38;5;28;01mwith\u001b[39;00m np\u001b[38;5;241m.\u001b[39merrstate(\u001b[38;5;28mall\u001b[39m\u001b[38;5;241m=\u001b[39m\u001b[38;5;124m\"\u001b[39m\u001b[38;5;124mignore\u001b[39m\u001b[38;5;124m\"\u001b[39m):\n\u001b[0;32m-> 6243\u001b[0m     res_values \u001b[38;5;241m=\u001b[39m \u001b[43mops\u001b[49m\u001b[38;5;241;43m.\u001b[39;49m\u001b[43mcomparison_op\u001b[49m\u001b[43m(\u001b[49m\u001b[43mlvalues\u001b[49m\u001b[43m,\u001b[49m\u001b[43m \u001b[49m\u001b[43mrvalues\u001b[49m\u001b[43m,\u001b[49m\u001b[43m \u001b[49m\u001b[43mop\u001b[49m\u001b[43m)\u001b[49m\n\u001b[1;32m   6245\u001b[0m \u001b[38;5;28;01mreturn\u001b[39;00m \u001b[38;5;28mself\u001b[39m\u001b[38;5;241m.\u001b[39m_construct_result(res_values, name\u001b[38;5;241m=\u001b[39mres_name)\n",
      "File \u001b[0;32m~/.local/lib/python3.10/site-packages/pandas/core/ops/array_ops.py:287\u001b[0m, in \u001b[0;36mcomparison_op\u001b[0;34m(left, right, op)\u001b[0m\n\u001b[1;32m    284\u001b[0m     \u001b[38;5;28;01mreturn\u001b[39;00m invalid_comparison(lvalues, rvalues, op)\n\u001b[1;32m    286\u001b[0m \u001b[38;5;28;01melif\u001b[39;00m is_object_dtype(lvalues\u001b[38;5;241m.\u001b[39mdtype) \u001b[38;5;129;01mor\u001b[39;00m \u001b[38;5;28misinstance\u001b[39m(rvalues, \u001b[38;5;28mstr\u001b[39m):\n\u001b[0;32m--> 287\u001b[0m     res_values \u001b[38;5;241m=\u001b[39m \u001b[43mcomp_method_OBJECT_ARRAY\u001b[49m\u001b[43m(\u001b[49m\u001b[43mop\u001b[49m\u001b[43m,\u001b[49m\u001b[43m \u001b[49m\u001b[43mlvalues\u001b[49m\u001b[43m,\u001b[49m\u001b[43m \u001b[49m\u001b[43mrvalues\u001b[49m\u001b[43m)\u001b[49m\n\u001b[1;32m    289\u001b[0m \u001b[38;5;28;01melse\u001b[39;00m:\n\u001b[1;32m    290\u001b[0m     res_values \u001b[38;5;241m=\u001b[39m _na_arithmetic_op(lvalues, rvalues, op, is_cmp\u001b[38;5;241m=\u001b[39m\u001b[38;5;28;01mTrue\u001b[39;00m)\n",
      "File \u001b[0;32m~/.local/lib/python3.10/site-packages/pandas/core/ops/array_ops.py:75\u001b[0m, in \u001b[0;36mcomp_method_OBJECT_ARRAY\u001b[0;34m(op, x, y)\u001b[0m\n\u001b[1;32m     73\u001b[0m     result \u001b[38;5;241m=\u001b[39m libops\u001b[38;5;241m.\u001b[39mvec_compare(x\u001b[38;5;241m.\u001b[39mravel(), y\u001b[38;5;241m.\u001b[39mravel(), op)\n\u001b[1;32m     74\u001b[0m \u001b[38;5;28;01melse\u001b[39;00m:\n\u001b[0;32m---> 75\u001b[0m     result \u001b[38;5;241m=\u001b[39m libops\u001b[38;5;241m.\u001b[39mscalar_compare(\u001b[43mx\u001b[49m\u001b[38;5;241;43m.\u001b[39;49m\u001b[43mravel\u001b[49m\u001b[43m(\u001b[49m\u001b[43m)\u001b[49m, y, op)\n\u001b[1;32m     76\u001b[0m \u001b[38;5;28;01mreturn\u001b[39;00m result\u001b[38;5;241m.\u001b[39mreshape(x\u001b[38;5;241m.\u001b[39mshape)\n",
      "\u001b[0;31mKeyboardInterrupt\u001b[0m: "
     ]
    }
   ],
   "source": [
    "from tqdm.notebook import tqdm\n",
    "\n",
    "X_train_sequences = dict({})\n",
    "y_train_sequences = dict({})\n",
    "\n",
    "X_test_sequences = dict({})\n",
    "y_test_sequences = dict({})\n",
    "\n",
    "X_test_gw_sequences = dict({})\n",
    "y_test_gw_sequences = dict({})\n",
    "\n",
    "for id, data in tqdm(id_grouped_data):\n",
    "    time_series_len = data.shape[0]\n",
    "    is_training = (data[\"Set\"] == \"Training\").all()\n",
    "    is_gw_test = (data[\"Center\"] == \"Greifswald\").all()\n",
    "    X_sgd = torch.from_numpy(data[FEATURES].values).type(torch.float).unsqueeze(0)\n",
    "    y_sgd = torch.from_numpy(data[LABEL_COLUMN_NAME].values).type(torch.float)\n",
    "    if is_training:\n",
    "        if time_series_len not in X_train_sequences:\n",
    "            X_train_sequences[time_series_len] = []\n",
    "            y_train_sequences[time_series_len] = []\n",
    "        X_train_sequences[time_series_len].append(X_sgd)\n",
    "        y_train_sequences[time_series_len].append(y_sgd)\n",
    "    elif is_gw_test:\n",
    "        if time_series_len not in X_test_gw_sequences:\n",
    "            X_test_gw_sequences[time_series_len] = []\n",
    "            y_test_gw_sequences[time_series_len] = []\n",
    "        X_test_gw_sequences[time_series_len].append(X_sgd)\n",
    "        y_test_gw_sequences[time_series_len].append(y_sgd)\n",
    "    else:\n",
    "        if time_series_len not in X_test_sequences:\n",
    "            X_test_sequences[time_series_len] = []\n",
    "            y_test_sequences[time_series_len] = []\n",
    "        X_test_sequences[time_series_len].append(X_sgd)\n",
    "        y_test_sequences[time_series_len].append(y_sgd)\n",
    "    assert data[\"Set\"].unique().shape[0] == 1\n",
    "    assert data[\"Center\"].unique().shape[0] == 1"
   ]
  },
  {
   "cell_type": "code",
   "execution_count": null,
   "id": "f881e369-dddc-4a57-8f28-d8950ef75bdf",
   "metadata": {},
   "outputs": [],
   "source": [
    "import numpy as np\n",
    "\n",
    "def get_batches(X_sequences:dict, y_sequences:dict):\n",
    "    X_batches = []\n",
    "    y_batches = []\n",
    "    for key in tqdm(X_sequences.keys()):\n",
    "        X_batch = torch.from_numpy(np.array(X_sequences[key]).squeeze(axis=1))\n",
    "        y_batch = torch.from_numpy(np.array(y_sequences[key]))\n",
    "    \n",
    "        X_batches.append(X_batch)\n",
    "        y_batches.append(y_batch)\n",
    "    return (X_batches, y_batches)"
   ]
  },
  {
   "cell_type": "code",
   "execution_count": null,
   "id": "2d452ef9-b791-4b22-8e26-d6c001b18da3",
   "metadata": {},
   "outputs": [],
   "source": [
    "X_train_batches, y_train_batches = get_batches(X_train_sequences, y_train_sequences)\n",
    "X_test_batches, y_test_batches = get_batches(X_test_sequences, y_test_sequences)\n",
    "X_test_gw_batches, y_test_gw_batches = get_batches(X_test_gw_sequences, y_test_gw_sequences)"
   ]
  },
  {
   "cell_type": "code",
   "execution_count": null,
   "id": "27529b14-c890-4409-8baa-d60e59d35b48",
   "metadata": {},
   "outputs": [],
   "source": [
    "for batch in y_batches:\n",
    "    print(batch.shape)"
   ]
  },
  {
   "cell_type": "code",
   "execution_count": null,
   "id": "77e4f7c6-9d70-4dc1-8038-44fc8bf800ba",
   "metadata": {},
   "outputs": [],
   "source": [
    "sets = dict()\n",
    "sets[\"train\"] = X_train_batches\n",
    "# sets[\"val\"] = X_times[new_val]\n",
    "sets[\"test\"] =  X_test_batches\n",
    "sets[\"gw_test\"] =  X_test_gw_batches"
   ]
  },
  {
   "cell_type": "code",
   "execution_count": null,
   "id": "90c901d0-9369-4830-9e5e-770691ff5d80",
   "metadata": {},
   "outputs": [],
   "source": [
    "labels = dict()\n",
    "labels[\"train\"] = y_train_batches\n",
    "# labels[\"val\"] = y[new_val]\n",
    "labels[\"test\"] =  y_test_batches\n",
    "labels[\"gw_test\"] = y_test_gw_batches"
   ]
  },
  {
   "cell_type": "code",
   "execution_count": null,
   "id": "8356e7a4-9885-49e5-a676-6ead456986a0",
   "metadata": {},
   "outputs": [],
   "source": [
    "losses = dict()\n",
    "losses[\"train\"] = []\n",
    "losses[\"val\"] = []\n",
    "losses[\"test\"] = []\n",
    "losses[\"gw_test\"] = []"
   ]
  },
  {
   "cell_type": "code",
   "execution_count": null,
   "id": "af8d66f5-7a58-4d61-af4f-13531fee5798",
   "metadata": {},
   "outputs": [],
   "source": [
    "aurocs = dict()\n",
    "aurocs[\"train\"] = []\n",
    "aurocs[\"val\"] = []\n",
    "aurocs[\"test\"] = []\n",
    "aurocs[\"gw_test\"] = []"
   ]
  },
  {
   "cell_type": "code",
   "execution_count": null,
   "id": "e7e0a296-4fd7-4d53-a8fb-f52deee1c628",
   "metadata": {},
   "outputs": [],
   "source": [
    "counts = torch.unique(y[train], return_counts=True)[-1]\n",
    "WEIGHT = counts[0] / counts[-1]\n",
    "WEIGHT"
   ]
  },
  {
   "cell_type": "code",
   "execution_count": null,
   "id": "5c0fb215-5186-435c-a0ca-caf4e8663332",
   "metadata": {},
   "outputs": [],
   "source": [
    "from sklearn.metrics import roc_auc_score\n",
    "\n",
    "def evaluate(model, set_name):\n",
    "    global X_times, losses, labels\n",
    "    with torch.inference_mode():\n",
    "        model.eval()\n",
    "        acc_loss = 0\n",
    "        batch_size = 0\n",
    "        acc_labels = []\n",
    "        acc_proba = []\n",
    "        \n",
    "        for idx, x in enumerate(sets[set_name]):\n",
    "            logits = model(x)\n",
    "            loss = torch.nn.functional.binary_cross_entropy_with_logits(logits.squeeze(-1), labels[set_name][idx],pos_weight=WEIGHT)\n",
    "            last_proba_set = torch.sigmoid(logits.squeeze(-1))\n",
    "        \n",
    "            acc_labels.extend(labels[set_name][idx].view(-1).cpu().tolist())\n",
    "            acc_proba.extend(last_proba_set.view(-1).cpu().tolist())\n",
    "            acc_loss += loss.item()\n",
    "            batch_size+= x.shape[0]\n",
    "        losses[set_name].append(acc_loss/batch_size)\n",
    "        auroc = roc_auc_score(np.array(acc_labels), np.array(acc_proba))\n",
    "        aurocs[set_name].append(auroc)\n",
    "        # print(f\"{set_name} has AUROC: {auroc}\")"
   ]
  },
  {
   "cell_type": "code",
   "execution_count": null,
   "id": "97bbeff8-2e46-4b51-a5bc-8cfb1bf3ce3b",
   "metadata": {},
   "outputs": [],
   "source": [
    "def full_batch_epoch(model):\n",
    "    global X_times, y, sets\n",
    "    model.train()\n",
    "    optim.zero_grad()\n",
    "    acc_loss = 0\n",
    "    \n",
    "    for idx, x in enumerate(sets[\"train\"]):\n",
    "        logits = model(x)\n",
    "        loss = torch.nn.functional.binary_cross_entropy_with_logits(logits.squeeze(-1), labels[\"train\"][idx],pos_weight=WEIGHT)\n",
    "        acc_loss+= loss.item()\n",
    "        loss.backward()\n",
    "    print(acc_loss)\n",
    "    for set_name in sets:\n",
    "        evaluate(model, set_name)\n",
    "    torch.nn.utils.clip_grad_value_(net.parameters, clip_value=1.5)\n",
    "    optim.step()\n",
    "    return acc_loss"
   ]
  },
  {
   "cell_type": "code",
   "execution_count": null,
   "id": "8ca2b5d3-84d2-4478-a7ec-f257c13859aa",
   "metadata": {},
   "outputs": [],
   "source": [
    "from torch import nn\n",
    "from torch.autograd import Variable \n",
    "\n",
    "class LSTM1(nn.Module):\n",
    "    def __init__(self, num_classes, input_size, hidden_size, layers, is_bidirectional = False):\n",
    "        super(LSTM1, self).__init__()\n",
    "        self.num_classes = num_classes #number of classes\n",
    "        self.input_size = input_size #input size\n",
    "        self.hidden_size = hidden_size #hidden_size #hidden state\n",
    "        self.num_layers = layers\n",
    "        self.hidden_scale = 2 if is_bidirectional else 1\n",
    "        \n",
    "        self.lstm = nn.LSTM(input_size=input_size, hidden_size=self.hidden_size,\n",
    "                          num_layers=self.num_layers, batch_first=True, bidirectional=is_bidirectional) #lstm\n",
    "        self.fc_1 =  nn.Linear(self.hidden_size*self.hidden_scale, 1) #fully connected 1\n",
    "\n",
    "        self.relu = nn.ReLU()\n",
    "    \n",
    "    def forward(self,x):\n",
    "        h_0 = Variable(torch.zeros(self.num_layers*self.hidden_scale, x.shape[0], self.hidden_size)).to(device) #hidden state\n",
    "        c_0 = Variable(torch.zeros(self.num_layers*self.hidden_scale, x.shape[0], self.hidden_size)).to(device) #internal state\n",
    "        # Propagate input through LSTM\n",
    "        output, (hn, _) = self.lstm(x, (h_0, c_0)) #lstm with input, hidden, and internal state\n",
    "        out = self.relu(output[:,:, :])\n",
    "        out = self.fc_1(out) #first Dense\n",
    "        return out#output[:,-1,0] #out"
   ]
  },
  {
   "cell_type": "code",
   "execution_count": null,
   "id": "1073958a-68c4-41a3-b318-f60744e979db",
   "metadata": {},
   "outputs": [],
   "source": [
    "def empty_dict(dictionary):\n",
    "    for key in dictionary.keys():\n",
    "        dictionary[key] = []"
   ]
  },
  {
   "cell_type": "code",
   "execution_count": null,
   "id": "36aa9bf3-1ac2-4e38-9618-3abf393af994",
   "metadata": {},
   "outputs": [],
   "source": [
    "def transfer_dict(dictionary,device):\n",
    "    for key in dictionary.keys():\n",
    "        for idx in range(len(dictionary[key])):\n",
    "            dictionary[key][idx] =  dictionary[key][idx].to(device)"
   ]
  },
  {
   "cell_type": "code",
   "execution_count": null,
   "id": "762d16e6-d968-4bb0-b4a2-8e5b06ff5ce1",
   "metadata": {},
   "outputs": [],
   "source": [
    "device = torch.device(\"cuda:2\")"
   ]
  },
  {
   "cell_type": "code",
   "execution_count": 225,
   "id": "39ba6829-1ea8-4f2f-bca0-54ea75b6ac8c",
   "metadata": {
    "scrolled": true
   },
   "outputs": [
    {
     "data": {
      "application/vnd.jupyter.widget-view+json": {
       "model_id": "9e1bd55ee49149c18d415c068dfd19cf",
       "version_major": 2,
       "version_minor": 0
      },
      "text/plain": [
       "  0%|          | 0/110 [00:00<?, ?it/s]"
      ]
     },
     "metadata": {},
     "output_type": "display_data"
    },
    {
     "name": "stdout",
     "output_type": "stream",
     "text": [
      "0\n",
      "193.94661229848862\n",
      "193.94661229848862\n",
      "1\n",
      "190.27247035503387\n",
      "190.27247035503387\n",
      "2\n",
      "186.75950878858566\n",
      "186.75950878858566\n",
      "3\n",
      "184.8484672307968\n",
      "184.8484672307968\n",
      "4\n",
      "182.94095212221146\n",
      "182.94095212221146\n",
      "5\n",
      "179.03606021404266\n",
      "179.03606021404266\n",
      "6\n",
      "174.7606966495514\n",
      "174.7606966495514\n",
      "7\n",
      "168.20836633443832\n",
      "168.20836633443832\n",
      "8\n",
      "161.80956143140793\n",
      "161.80956143140793\n",
      "9\n",
      "155.38056284189224\n",
      "155.38056284189224\n",
      "10\n",
      "147.54179874062538\n",
      "147.54179874062538\n",
      "11\n",
      "144.22605867683887\n",
      "144.22605867683887\n",
      "12\n",
      "210.04762282967567\n",
      "210.04762282967567\n",
      "13\n",
      "170.11725230515003\n",
      "170.11725230515003\n",
      "14\n",
      "144.33291877806187\n",
      "144.33291877806187\n",
      "15\n",
      "160.59261940419674\n",
      "160.59261940419674\n",
      "16\n",
      "147.76157081127167\n",
      "147.76157081127167\n",
      "17\n",
      "144.55484902858734\n",
      "144.55484902858734\n",
      "18\n",
      "152.04168912768364\n",
      "152.04168912768364\n",
      "19\n",
      "151.16733649373055\n",
      "151.16733649373055\n",
      "20\n",
      "146.43239763379097\n",
      "146.43239763379097\n",
      "21\n",
      "142.5501779615879\n",
      "142.5501779615879\n",
      "22\n",
      "142.46482476592064\n",
      "142.46482476592064\n",
      "23\n",
      "143.63869509100914\n",
      "143.63869509100914\n",
      "24\n",
      "140.63973778486252\n",
      "140.63973778486252\n",
      "25\n",
      "135.28882828354836\n",
      "135.28882828354836\n",
      "26\n",
      "136.36702458560467\n",
      "136.36702458560467\n",
      "27\n",
      "134.15103878080845\n",
      "134.15103878080845\n",
      "28\n",
      "130.29673817753792\n",
      "130.29673817753792\n",
      "29\n",
      "130.3431622236967\n",
      "130.3431622236967\n",
      "30\n",
      "128.57392679154873\n",
      "128.57392679154873\n",
      "31\n",
      "124.53195248544216\n",
      "124.53195248544216\n",
      "32\n",
      "125.79500606656075\n",
      "125.79500606656075\n",
      "33\n",
      "121.35308809578419\n",
      "121.35308809578419\n",
      "34\n",
      "121.50604562461376\n",
      "121.50604562461376\n",
      "35\n",
      "117.28045549988747\n",
      "117.28045549988747\n",
      "36\n",
      "122.84329399466515\n",
      "122.84329399466515\n",
      "37\n",
      "115.3547926992178\n",
      "115.3547926992178\n",
      "38\n",
      "118.3031364530325\n",
      "118.3031364530325\n",
      "39\n",
      "114.08594962954521\n",
      "114.08594962954521\n",
      "40\n",
      "111.63592445850372\n",
      "111.63592445850372\n",
      "41\n",
      "110.20507504045963\n",
      "110.20507504045963\n",
      "42\n",
      "108.40410380065441\n",
      "108.40410380065441\n",
      "43\n",
      "107.61230221390724\n",
      "107.61230221390724\n",
      "44\n",
      "105.97287499904633\n",
      "105.97287499904633\n",
      "45\n",
      "104.8275573849678\n",
      "104.8275573849678\n",
      "46\n",
      "103.4635766595602\n",
      "103.4635766595602\n",
      "47\n",
      "101.7334993481636\n",
      "101.7334993481636\n",
      "48\n",
      "100.0471992790699\n",
      "100.0471992790699\n",
      "49\n",
      "98.25670275837183\n",
      "98.25670275837183\n",
      "50\n",
      "99.24947196990252\n",
      "99.24947196990252\n",
      "51\n",
      "98.10589066147804\n",
      "98.10589066147804\n",
      "52\n",
      "113.02625770121813\n",
      "113.02625770121813\n",
      "53\n",
      "103.66917047649622\n",
      "103.66917047649622\n",
      "54\n",
      "114.27803975343704\n",
      "114.27803975343704\n",
      "55\n",
      "109.13113820552826\n",
      "109.13113820552826\n",
      "56\n",
      "101.17830713838339\n",
      "101.17830713838339\n",
      "57\n",
      "108.55233474075794\n",
      "108.55233474075794\n",
      "58\n",
      "121.81846365332603\n",
      "121.81846365332603\n",
      "59\n",
      "105.34088478982449\n",
      "105.34088478982449\n",
      "60\n",
      "124.57450160384178\n",
      "124.57450160384178\n",
      "61\n",
      "127.11553783714771\n",
      "127.11553783714771\n",
      "62\n",
      "121.02810080349445\n",
      "121.02810080349445\n",
      "63\n",
      "114.45966974645853\n",
      "114.45966974645853\n",
      "64\n",
      "113.35793364048004\n",
      "113.35793364048004\n",
      "65\n",
      "105.03485561907291\n",
      "105.03485561907291\n",
      "66\n",
      "105.66013262420893\n",
      "105.66013262420893\n",
      "67\n",
      "106.12255480885506\n",
      "106.12255480885506\n",
      "68\n",
      "103.29160245507956\n",
      "103.29160245507956\n",
      "69\n",
      "102.87613093852997\n",
      "102.87613093852997\n",
      "70\n",
      "99.02007205039263\n",
      "99.02007205039263\n",
      "71\n",
      "101.62111566215754\n",
      "101.62111566215754\n",
      "72\n",
      "98.03656446188688\n",
      "98.03656446188688\n",
      "73\n",
      "98.12761279940605\n",
      "98.12761279940605\n",
      "74\n",
      "95.13456226885319\n",
      "95.13456226885319\n",
      "75\n",
      "92.70195634663105\n",
      "92.70195634663105\n",
      "76\n",
      "90.9823644682765\n",
      "90.9823644682765\n",
      "77\n",
      "89.47605524212122\n",
      "89.47605524212122\n",
      "78\n",
      "88.27393710613251\n",
      "88.27393710613251\n",
      "79\n",
      "86.568532705307\n",
      "86.568532705307\n",
      "80\n",
      "85.27169319242239\n",
      "85.27169319242239\n",
      "81\n",
      "84.93342952430248\n",
      "84.93342952430248\n",
      "82\n",
      "83.82778238505125\n",
      "83.82778238505125\n",
      "83\n",
      "81.95305065065622\n",
      "81.95305065065622\n",
      "84\n",
      "83.65793846547604\n",
      "83.65793846547604\n",
      "85\n",
      "78.79631217196584\n",
      "78.79631217196584\n",
      "86\n",
      "77.34111418947577\n",
      "77.34111418947577\n",
      "87\n",
      "79.80839680507779\n",
      "79.80839680507779\n",
      "88\n",
      "76.58361979201436\n",
      "76.58361979201436\n",
      "89\n",
      "78.24531153589487\n",
      "78.24531153589487\n",
      "90\n",
      "88.58973509445786\n",
      "88.58973509445786\n",
      "91\n",
      "80.23622205480933\n",
      "80.23622205480933\n",
      "92\n",
      "84.06531972810626\n",
      "84.06531972810626\n",
      "93\n",
      "88.77729110047221\n",
      "88.77729110047221\n",
      "94\n",
      "102.08372070640326\n",
      "102.08372070640326\n",
      "95\n",
      "91.7257744204253\n",
      "91.7257744204253\n",
      "96\n",
      "115.86646819859743\n",
      "115.86646819859743\n",
      "97\n",
      "101.69684308767319\n",
      "101.69684308767319\n",
      "98\n",
      "106.3085631094873\n",
      "106.3085631094873\n",
      "99\n",
      "99.75189733505249\n",
      "99.75189733505249\n",
      "100\n",
      "104.73253272846341\n",
      "104.73253272846341\n",
      "101\n",
      "103.29117108136415\n",
      "103.29117108136415\n",
      "102\n",
      "100.30522787570953\n",
      "100.30522787570953\n",
      "103\n",
      "100.17227100208402\n",
      "100.17227100208402\n",
      "104\n",
      "99.20492653921247\n",
      "99.20492653921247\n",
      "105\n",
      "96.80594574287534\n",
      "96.80594574287534\n",
      "106\n",
      "96.26662519201636\n",
      "96.26662519201636\n",
      "107\n",
      "94.39895867928863\n",
      "94.39895867928863\n",
      "108\n",
      "94.83702157065272\n",
      "94.83702157065272\n",
      "109\n",
      "93.15613407082856\n",
      "93.15613407082856\n"
     ]
    }
   ],
   "source": [
    "from tqdm.notebook import tqdm\n",
    "import time\n",
    "\n",
    "is_continue = False\n",
    "if not is_continue:\n",
    "    model = LSTM1(1, X.shape[1],256, 3, False).to(device) ##reduce in biLSTM number of neurons ##continously uncrease time window ##dropout ##vary batch size/use batchnorm\n",
    "    ## weight decay\n",
    "    transfer_dict(sets, device)\n",
    "    transfer_dict(labels, device)\n",
    "    empty_dict(losses)\n",
    "    empty_dict(aurocs)\n",
    "    lr = 0.001\n",
    "    optim = torch.optim.Adam(params=model.parameters(), lr = lr)\n",
    "\n",
    "# patience = 30\n",
    "epochs = 110\n",
    "\n",
    "for epoch in tqdm(range(epochs)):\n",
    "    print(epoch)\n",
    "    start = time.time()\n",
    "    loss = full_batch_epoch(model)\n",
    "    # if len(losses[\"val\"]) > patience and all(list(map(lambda l: l<=losses[\"val\"][-1], losses[\"val\"][-patience-1:]))):\n",
    "    #     break\n",
    "    print(loss)"
   ]
  },
  {
   "cell_type": "code",
   "execution_count": 226,
   "id": "3c521f82-9ac4-447e-a035-70ec6325336a",
   "metadata": {},
   "outputs": [
    {
     "data": {
      "image/png": "[encoded data removed]",
      "text/plain": [
       "<Figure size 640x480 with 1 Axes>"
      ]
     },
     "metadata": {},
     "output_type": "display_data"
    }
   ],
   "source": [
    "import matplotlib.pyplot as plt\n",
    "\n",
    "for set_name in losses:\n",
    "    plt.plot(losses[set_name])\n",
    "plt.legend(losses.keys())\n",
    "plt.title(\"Loss curves\")\n",
    "plt.show()"
   ]
  },
  {
   "cell_type": "code",
   "execution_count": 227,
   "id": "6e646ee1-563c-4843-868a-b502c7cf3db5",
   "metadata": {},
   "outputs": [
    {
     "data": {
      "image/png": "[encoded data removed]",
      "text/plain": [
       "<Figure size 640x480 with 1 Axes>"
      ]
     },
     "metadata": {},
     "output_type": "display_data"
    }
   ],
   "source": [
    "import matplotlib.pyplot as plt\n",
    "\n",
    "for set_name in aurocs:\n",
    "    plt.plot(aurocs[set_name])\n",
    "plt.legend(aurocs.keys())\n",
    "plt.title(\"AUROCs\")\n",
    "plt.show()"
   ]
  },
  {
   "cell_type": "code",
   "execution_count": 223,
   "id": "1acecc50-6ab9-4ad5-9ca9-ff4018dc7148",
   "metadata": {},
   "outputs": [
    {
     "data": {
      "text/plain": [
       "(0.9154023458949182, 0.9309461390853571)"
      ]
     },
     "execution_count": 223,
     "metadata": {},
     "output_type": "execute_result"
    }
   ],
   "source": [
    "max(aurocs[\"test\"]), aurocs[\"gw_test\"][-1]"
   ]
  },
  {
   "cell_type": "markdown",
   "id": "b385aed9-10a7-4b9a-8081-4a04c5a1a097",
   "metadata": {},
   "source": [
    "## Evaluate the time series equence lengths"
   ]
  },
  {
   "cell_type": "code",
   "execution_count": 307,
   "id": "40d31bd4-a061-4264-8b16-65a0f00b56d8",
   "metadata": {},
   "outputs": [
    {
     "data": {
      "text/plain": [
       "count    866517.000000\n",
       "mean          2.099711\n",
       "std           3.201005\n",
       "min           1.000000\n",
       "25%           1.000000\n",
       "50%           1.000000\n",
       "75%           2.000000\n",
       "max         416.000000\n",
       "dtype: float64"
      ]
     },
     "execution_count": 307,
     "metadata": {},
     "output_type": "execute_result"
    }
   ],
   "source": [
    "id_grouped_data.size().describe()"
   ]
  },
  {
   "cell_type": "code",
   "execution_count": 312,
   "id": "23775954-4936-4446-b04a-e1642d74e21b",
   "metadata": {},
   "outputs": [],
   "source": [
    "num_sampples_list =  []\n",
    "for i in range(id_grouped_data.size().max()+1):\n",
    "    num_samples = (id_grouped_data.size() == i).sum()\n",
    "    num_sampples_list.append(num_samples)"
   ]
  },
  {
   "cell_type": "code",
   "execution_count": 322,
   "id": "c6f06d3b-a93c-4a6b-9d20-b41b0e8e7e74",
   "metadata": {},
   "outputs": [
    {
     "data": {
      "text/plain": [
       "Text(0.5, 0, 'Length of time series')"
      ]
     },
     "execution_count": 322,
     "metadata": {},
     "output_type": "execute_result"
    },
    {
     "data": {
      "image/png": "[encoded data removed]",
      "text/plain": [
       "<Figure size 640x480 with 1 Axes>"
      ]
     },
     "metadata": {},
     "output_type": "display_data"
    }
   ],
   "source": [
    "import matplotlib.pyplot as plt\n",
    "plt.semilogy(num_sampples_list[1:100])\n",
    "plt.grid(which=\"both\")\n",
    "plt.ylabel(\"Number of samples\")\n",
    "plt.xlabel(\"Length of time series\")"
   ]
  },
  {
   "cell_type": "code",
   "execution_count": null,
   "id": "b1508731-0ebf-48af-8ed5-db36747282cf",
   "metadata": {},
   "outputs": [],
   "source": []
  }
 ],
 "metadata": {
  "kernelspec": {
   "display_name": "Python 3 (ipykernel)",
   "language": "python",
   "name": "python3"
  },
  "language_info": {
   "codemirror_mode": {
    "name": "ipython",
    "version": 3
   },
   "file_extension": ".py",
   "mimetype": "text/x-python",
   "name": "python",
   "nbconvert_exporter": "python",
   "pygments_lexer": "ipython3",
   "version": "3.10.12"
  }
 },
 "nbformat": 4,
 "nbformat_minor": 5
}
