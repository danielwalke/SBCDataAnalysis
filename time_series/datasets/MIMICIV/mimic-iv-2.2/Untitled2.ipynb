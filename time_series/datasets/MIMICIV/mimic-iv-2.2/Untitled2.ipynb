{
 "cells": [
  {
   "cell_type": "code",
   "execution_count": 2,
   "id": "6be5ff6e",
   "metadata": {},
   "outputs": [],
   "source": [
    "import matplotlib.pyplot as plt\n",
    "import pandas as pd\n",
    "\n",
    "admissions = pd.read_csv(\"hosp/admissions.csv\")"
   ]
  },
  {
   "cell_type": "code",
   "execution_count": 4,
   "id": "ff5af329",
   "metadata": {},
   "outputs": [],
   "source": [
    "medical_records = pd.read_csv(\"hosp/omr.csv\")"
   ]
  },
  {
   "cell_type": "code",
   "execution_count": 15,
   "id": "77182122",
   "metadata": {},
   "outputs": [
    {
     "data": {
      "text/plain": [
       "(6439169, 5)"
      ]
     },
     "execution_count": 15,
     "metadata": {},
     "output_type": "execute_result"
    }
   ],
   "source": [
    "medical_records.shape"
   ]
  },
  {
   "cell_type": "code",
   "execution_count": 8,
   "id": "37a6a34e",
   "metadata": {},
   "outputs": [
    {
     "data": {
      "text/plain": [
       "array(['Blood Pressure', 'Weight (Lbs)', 'BMI (kg/m2)', 'Height (Inches)',\n",
       "       'Blood Pressure Sitting', 'Blood Pressure Standing (1 min)',\n",
       "       'Blood Pressure Lying', 'Blood Pressure Standing (3 mins)', 'BMI',\n",
       "       'Weight', 'Blood Pressure Standing', 'eGFR', 'Height'],\n",
       "      dtype=object)"
      ]
     },
     "execution_count": 8,
     "metadata": {},
     "output_type": "execute_result"
    }
   ],
   "source": [
    "medical_records[\"result_name\"].unique()"
   ]
  },
  {
   "cell_type": "code",
   "execution_count": 26,
   "id": "42e618c2",
   "metadata": {},
   "outputs": [
    {
     "data": {
      "text/plain": [
       "0     110/65\n",
       "21    106/60\n",
       "24    121/77\n",
       "27    100/60\n",
       "33    102/60\n",
       "36     98/66\n",
       "Name: result_value, dtype: object"
      ]
     },
     "execution_count": 26,
     "metadata": {},
     "output_type": "execute_result"
    }
   ],
   "source": [
    "bp = medical_records[medical_records[\"result_name\"] == 'Blood Pressure']\n",
    "bp[bp[\"subject_id\"] == 10000032][\"result_value\"]"
   ]
  },
  {
   "cell_type": "code",
   "execution_count": 34,
   "id": "fb1ccc8a",
   "metadata": {},
   "outputs": [],
   "source": [
    "weight = medical_records[medical_records[\"result_name\"] == 'Weight (Lbs)']\n",
    "weight = weight.drop_duplicates([\"subject_id\", \"chartdate\", \"result_value\"])\n",
    "weight_person = weight[weight[\"subject_id\"] == 10000032][\"result_value\"]\n",
    "time_person = weight[weight[\"subject_id\"] == 10000032][\"chartdate\"]\n",
    "\n",
    "plt.figure(figsize=(10,3))\n",
    "plt.plot(pd.to_datetime(time_person), pd.to_numeric(weight_person))"
   ]
  },
  {
   "cell_type": "code",
   "execution_count": 43,
   "id": "382821c4",
   "metadata": {},
   "outputs": [],
   "source": [
    "diagnoses = pd.read_csv(\"hosp/diagnoses_icd.csv\")"
   ]
  },
  {
   "cell_type": "code",
   "execution_count": 49,
   "id": "d2531e68",
   "metadata": {},
   "outputs": [
    {
     "data": {
      "text/plain": [
       "(array(['0020', '0029', '0030', ..., 'Z993', 'Z9981', 'Z9989'],\n",
       "       dtype=object),\n",
       " array([   6,    1,   34, ..., 1746, 2931,    8]))"
      ]
     },
     "execution_count": 49,
     "metadata": {},
     "output_type": "execute_result"
    }
   ],
   "source": [
    "import numpy as np\n",
    "\n",
    "np.unique(diagnoses[\"icd_code\"], return_counts =True)"
   ]
  },
  {
   "cell_type": "code",
   "execution_count": 50,
   "id": "a7bbc06e",
   "metadata": {},
   "outputs": [
    {
     "data": {
      "text/html": [
       "<div>\n",
       "<style scoped>\n",
       "    .dataframe tbody tr th:only-of-type {\n",
       "        vertical-align: middle;\n",
       "    }\n",
       "\n",
       "    .dataframe tbody tr th {\n",
       "        vertical-align: top;\n",
       "    }\n",
       "\n",
       "    .dataframe thead th {\n",
       "        text-align: right;\n",
       "    }\n",
       "</style>\n",
       "<table border=\"1\" class=\"dataframe\">\n",
       "  <thead>\n",
       "    <tr style=\"text-align: right;\">\n",
       "      <th></th>\n",
       "      <th>subject_id</th>\n",
       "      <th>hadm_id</th>\n",
       "      <th>seq_num</th>\n",
       "      <th>icd_code</th>\n",
       "      <th>icd_version</th>\n",
       "    </tr>\n",
       "  </thead>\n",
       "  <tbody>\n",
       "    <tr>\n",
       "      <th>0</th>\n",
       "      <td>10000032</td>\n",
       "      <td>22595853</td>\n",
       "      <td>1</td>\n",
       "      <td>5723</td>\n",
       "      <td>9</td>\n",
       "    </tr>\n",
       "    <tr>\n",
       "      <th>1</th>\n",
       "      <td>10000032</td>\n",
       "      <td>22595853</td>\n",
       "      <td>2</td>\n",
       "      <td>78959</td>\n",
       "      <td>9</td>\n",
       "    </tr>\n",
       "    <tr>\n",
       "      <th>2</th>\n",
       "      <td>10000032</td>\n",
       "      <td>22595853</td>\n",
       "      <td>3</td>\n",
       "      <td>5715</td>\n",
       "      <td>9</td>\n",
       "    </tr>\n",
       "    <tr>\n",
       "      <th>3</th>\n",
       "      <td>10000032</td>\n",
       "      <td>22595853</td>\n",
       "      <td>4</td>\n",
       "      <td>07070</td>\n",
       "      <td>9</td>\n",
       "    </tr>\n",
       "    <tr>\n",
       "      <th>4</th>\n",
       "      <td>10000032</td>\n",
       "      <td>22595853</td>\n",
       "      <td>5</td>\n",
       "      <td>496</td>\n",
       "      <td>9</td>\n",
       "    </tr>\n",
       "    <tr>\n",
       "      <th>...</th>\n",
       "      <td>...</td>\n",
       "      <td>...</td>\n",
       "      <td>...</td>\n",
       "      <td>...</td>\n",
       "      <td>...</td>\n",
       "    </tr>\n",
       "    <tr>\n",
       "      <th>4756321</th>\n",
       "      <td>19999987</td>\n",
       "      <td>23865745</td>\n",
       "      <td>7</td>\n",
       "      <td>41401</td>\n",
       "      <td>9</td>\n",
       "    </tr>\n",
       "    <tr>\n",
       "      <th>4756322</th>\n",
       "      <td>19999987</td>\n",
       "      <td>23865745</td>\n",
       "      <td>8</td>\n",
       "      <td>78039</td>\n",
       "      <td>9</td>\n",
       "    </tr>\n",
       "    <tr>\n",
       "      <th>4756323</th>\n",
       "      <td>19999987</td>\n",
       "      <td>23865745</td>\n",
       "      <td>9</td>\n",
       "      <td>0413</td>\n",
       "      <td>9</td>\n",
       "    </tr>\n",
       "    <tr>\n",
       "      <th>4756324</th>\n",
       "      <td>19999987</td>\n",
       "      <td>23865745</td>\n",
       "      <td>10</td>\n",
       "      <td>36846</td>\n",
       "      <td>9</td>\n",
       "    </tr>\n",
       "    <tr>\n",
       "      <th>4756325</th>\n",
       "      <td>19999987</td>\n",
       "      <td>23865745</td>\n",
       "      <td>11</td>\n",
       "      <td>7810</td>\n",
       "      <td>9</td>\n",
       "    </tr>\n",
       "  </tbody>\n",
       "</table>\n",
       "<p>4756326 rows × 5 columns</p>\n",
       "</div>"
      ],
      "text/plain": [
       "         subject_id   hadm_id  seq_num icd_code  icd_version\n",
       "0          10000032  22595853        1     5723            9\n",
       "1          10000032  22595853        2    78959            9\n",
       "2          10000032  22595853        3     5715            9\n",
       "3          10000032  22595853        4    07070            9\n",
       "4          10000032  22595853        5      496            9\n",
       "...             ...       ...      ...      ...          ...\n",
       "4756321    19999987  23865745        7    41401            9\n",
       "4756322    19999987  23865745        8    78039            9\n",
       "4756323    19999987  23865745        9     0413            9\n",
       "4756324    19999987  23865745       10    36846            9\n",
       "4756325    19999987  23865745       11     7810            9\n",
       "\n",
       "[4756326 rows x 5 columns]"
      ]
     },
     "execution_count": 50,
     "metadata": {},
     "output_type": "execute_result"
    }
   ],
   "source": [
    "diagnoses"
   ]
  },
  {
   "cell_type": "code",
   "execution_count": 48,
   "id": "b16a8e7c",
   "metadata": {},
   "outputs": [
    {
     "data": {
      "text/plain": [
       "(431231, 16)"
      ]
     },
     "execution_count": 48,
     "metadata": {},
     "output_type": "execute_result"
    }
   ],
   "source": [
    "admissions.shape"
   ]
  },
  {
   "cell_type": "code",
   "execution_count": null,
   "id": "6390c0b6",
   "metadata": {},
   "outputs": [],
   "source": []
  }
 ],
 "metadata": {
  "kernelspec": {
   "display_name": "Python 3 (ipykernel)",
   "language": "python",
   "name": "python3"
  },
  "language_info": {
   "codemirror_mode": {
    "name": "ipython",
    "version": 3
   },
   "file_extension": ".py",
   "mimetype": "text/x-python",
   "name": "python",
   "nbconvert_exporter": "python",
   "pygments_lexer": "ipython3",
   "version": "3.10.12"
  }
 },
 "nbformat": 4,
 "nbformat_minor": 5
}
