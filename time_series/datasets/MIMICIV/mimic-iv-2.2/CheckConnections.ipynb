{
 "cells": [
  {
   "cell_type": "code",
   "execution_count": 1,
   "id": "9827a136-1cf6-44e6-87da-bed7cb1faf5c",
   "metadata": {},
   "outputs": [],
   "source": [
    "import pandas as pd"
   ]
  },
  {
   "cell_type": "code",
   "execution_count": 3,
   "id": "92225434-d987-40c8-beee-b4e8a4efed9e",
   "metadata": {},
   "outputs": [],
   "source": [
    "admissions = pd.read_csv(\"hosp/admissions.csv\")"
   ]
  },
  {
   "cell_type": "code",
   "execution_count": 42,
   "id": "cf1cf7e0-0bcf-47e1-853b-ef7b7bf0e3db",
   "metadata": {},
   "outputs": [
    {
     "data": {
      "text/plain": [
       "(431231, 16)"
      ]
     },
     "execution_count": 42,
     "metadata": {},
     "output_type": "execute_result"
    }
   ],
   "source": [
    "admissions.shape"
   ]
  },
  {
   "cell_type": "code",
   "execution_count": 5,
   "id": "84a59847-7b8c-4440-a03e-c00ee3c44a74",
   "metadata": {},
   "outputs": [],
   "source": [
    "diagnoses = pd.read_csv(\"hosp/diagnoses_icd.csv\")"
   ]
  },
  {
   "cell_type": "code",
   "execution_count": 11,
   "id": "4f177ff7-b034-464e-81a7-7adbdc2c6ae5",
   "metadata": {},
   "outputs": [],
   "source": [
    "import numpy as np\n",
    "diag_counts = np.unique(diagnoses[\"icd_code\"], return_counts=True)"
   ]
  },
  {
   "cell_type": "code",
   "execution_count": 31,
   "id": "5e6b0705-7243-4fa0-8346-091eca0102ea",
   "metadata": {},
   "outputs": [],
   "source": [
    "high_freq_diag = diag_counts[0][-10:]"
   ]
  },
  {
   "cell_type": "code",
   "execution_count": 32,
   "id": "a702f508-71ba-41b7-abff-936557070791",
   "metadata": {},
   "outputs": [],
   "source": [
    "icd_codes = pd.read_csv(\"hosp/d_icd_diagnoses.csv\")"
   ]
  },
  {
   "cell_type": "code",
   "execution_count": 33,
   "id": "45c02ed6-b0bb-451c-9129-ced50ea9970e",
   "metadata": {},
   "outputs": [
    {
     "data": {
      "text/html": [
       "<div>\n",
       "<style scoped>\n",
       "    .dataframe tbody tr th:only-of-type {\n",
       "        vertical-align: middle;\n",
       "    }\n",
       "\n",
       "    .dataframe tbody tr th {\n",
       "        vertical-align: top;\n",
       "    }\n",
       "\n",
       "    .dataframe thead th {\n",
       "        text-align: right;\n",
       "    }\n",
       "</style>\n",
       "<table border=\"1\" class=\"dataframe\">\n",
       "  <thead>\n",
       "    <tr style=\"text-align: right;\">\n",
       "      <th></th>\n",
       "      <th>icd_code</th>\n",
       "      <th>icd_version</th>\n",
       "      <th>long_title</th>\n",
       "    </tr>\n",
       "  </thead>\n",
       "  <tbody>\n",
       "    <tr>\n",
       "      <th>109758</th>\n",
       "      <td>Z9886</td>\n",
       "      <td>10</td>\n",
       "      <td>Personal history of breast implant removal</td>\n",
       "    </tr>\n",
       "    <tr>\n",
       "      <th>109760</th>\n",
       "      <td>Z98870</td>\n",
       "      <td>10</td>\n",
       "      <td>Personal history of in utero procedure during ...</td>\n",
       "    </tr>\n",
       "    <tr>\n",
       "      <th>109762</th>\n",
       "      <td>Z9889</td>\n",
       "      <td>10</td>\n",
       "      <td>Other specified postprocedural states</td>\n",
       "    </tr>\n",
       "    <tr>\n",
       "      <th>109763</th>\n",
       "      <td>Z98890</td>\n",
       "      <td>10</td>\n",
       "      <td>Other specified postprocedural states</td>\n",
       "    </tr>\n",
       "    <tr>\n",
       "      <th>109764</th>\n",
       "      <td>Z98891</td>\n",
       "      <td>10</td>\n",
       "      <td>History of uterine scar from previous surgery</td>\n",
       "    </tr>\n",
       "    <tr>\n",
       "      <th>109768</th>\n",
       "      <td>Z9911</td>\n",
       "      <td>10</td>\n",
       "      <td>Dependence on respirator [ventilator] status</td>\n",
       "    </tr>\n",
       "    <tr>\n",
       "      <th>109770</th>\n",
       "      <td>Z992</td>\n",
       "      <td>10</td>\n",
       "      <td>Dependence on renal dialysis</td>\n",
       "    </tr>\n",
       "    <tr>\n",
       "      <th>109771</th>\n",
       "      <td>Z993</td>\n",
       "      <td>10</td>\n",
       "      <td>Dependence on wheelchair</td>\n",
       "    </tr>\n",
       "    <tr>\n",
       "      <th>109773</th>\n",
       "      <td>Z9981</td>\n",
       "      <td>10</td>\n",
       "      <td>Dependence on supplemental oxygen</td>\n",
       "    </tr>\n",
       "    <tr>\n",
       "      <th>109774</th>\n",
       "      <td>Z9989</td>\n",
       "      <td>10</td>\n",
       "      <td>Dependence on other enabling machines and devices</td>\n",
       "    </tr>\n",
       "  </tbody>\n",
       "</table>\n",
       "</div>"
      ],
      "text/plain": [
       "       icd_code  icd_version  \\\n",
       "109758    Z9886           10   \n",
       "109760   Z98870           10   \n",
       "109762    Z9889           10   \n",
       "109763   Z98890           10   \n",
       "109764   Z98891           10   \n",
       "109768    Z9911           10   \n",
       "109770     Z992           10   \n",
       "109771     Z993           10   \n",
       "109773    Z9981           10   \n",
       "109774    Z9989           10   \n",
       "\n",
       "                                               long_title  \n",
       "109758         Personal history of breast implant removal  \n",
       "109760  Personal history of in utero procedure during ...  \n",
       "109762              Other specified postprocedural states  \n",
       "109763              Other specified postprocedural states  \n",
       "109764      History of uterine scar from previous surgery  \n",
       "109768       Dependence on respirator [ventilator] status  \n",
       "109770                       Dependence on renal dialysis  \n",
       "109771                           Dependence on wheelchair  \n",
       "109773                  Dependence on supplemental oxygen  \n",
       "109774  Dependence on other enabling machines and devices  "
      ]
     },
     "execution_count": 33,
     "metadata": {},
     "output_type": "execute_result"
    }
   ],
   "source": [
    "icd_codes.loc[icd_codes[\"icd_code\"].isin(high_freq_diag), :]"
   ]
  },
  {
   "cell_type": "code",
   "execution_count": 40,
   "id": "023c6bf0-a73f-4af0-bd72-4a66f8b23544",
   "metadata": {},
   "outputs": [],
   "source": [
    "idx = np.arange(diag_counts[1].shape[0])"
   ]
  },
  {
   "cell_type": "code",
   "execution_count": 41,
   "id": "4287d5b8-bd9b-49b7-92ca-3f48f9446309",
   "metadata": {},
   "outputs": [
    {
     "data": {
      "text/plain": [
       "<BarContainer object of 25809 artists>"
      ]
     },
     "execution_count": 41,
     "metadata": {},
     "output_type": "execute_result"
    },
    {
     "data": {
      "image/png": "[encoded data removed]",
      "text/plain": [
       "<Figure size 640x480 with 1 Axes>"
      ]
     },
     "metadata": {},
     "output_type": "display_data"
    }
   ],
   "source": [
    "import matplotlib.pyplot as plt\n",
    "plt.bar(idx, diag_counts[1])"
   ]
  },
  {
   "cell_type": "code",
   "execution_count": null,
   "id": "a4facf87-ebb1-4130-a98b-bc34c59575df",
   "metadata": {},
   "outputs": [],
   "source": []
  }
 ],
 "metadata": {
  "kernelspec": {
   "display_name": "Python 3 (ipykernel)",
   "language": "python",
   "name": "python3"
  },
  "language_info": {
   "codemirror_mode": {
    "name": "ipython",
    "version": 3
   },
   "file_extension": ".py",
   "mimetype": "text/x-python",
   "name": "python",
   "nbconvert_exporter": "python",
   "pygments_lexer": "ipython3",
   "version": "3.10.12"
  }
 },
 "nbformat": 4,
 "nbformat_minor": 5
}
