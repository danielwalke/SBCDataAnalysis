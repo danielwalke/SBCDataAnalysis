{
 "cells": [
  {
   "cell_type": "markdown",
   "id": "490236b4-5f2d-47a6-abfa-40f411863e71",
   "metadata": {},
   "source": [
    "#### We re-start our transformer analysis here\n",
    "#### First, some assumptions or goals for this script:\n",
    " - training usinng SGD -> later batching\n",
    " - pad time series to maximum length with value -1 - first backward padding -> NOTE: forward padding will most probably cancel out the feature-induces bias\n",
    " - mask values which are -1\n",
    " - custom transformer\n",
    " - first information exchange over all measurements in a sequence (easier and should give the best scores)\n",
    " - Set manual seed for reproducibility and improvements over diverse hyperparams\n",
    " - first only one block, one head, without dropout (check validation loss and training loss diff after pre-def. intervals), without layernorm without ffd?\n",
    " - Now 1 block with ffd, 2 heads, batching, layer norm and pos encoding "
   ]
  },
  {
   "cell_type": "markdown",
   "id": "18229354-cd3e-43bd-a34c-8bdd0e220f75",
   "metadata": {},
   "source": [
    "## Dataset loader and preparation"
   ]
  },
  {
   "cell_type": "code",
   "execution_count": 1,
   "id": "f20ee0d6-e85e-4935-a58c-fbb3f76452f7",
   "metadata": {},
   "outputs": [],
   "source": [
    "import sys\n",
    "sys.path.insert(0, \"../\")\n",
    "from dataAnalysis.DataAnalysis import DataAnalysis\n",
    "import pandas as pd\n",
    "import torch\n",
    " \n",
    "data = pd.read_csv(r\"../sbcdata.csv\", header=0)\n",
    "data_analysis = DataAnalysis(data)"
   ]
  },
  {
   "cell_type": "code",
   "execution_count": 37,
   "id": "7df62ad5-66f1-4560-8d53-d00df700ef84",
   "metadata": {},
   "outputs": [
    {
     "data": {
      "text/plain": [
       "device(type='cuda', index=1)"
      ]
     },
     "execution_count": 37,
     "metadata": {},
     "output_type": "execute_result"
    }
   ],
   "source": [
    "import torch\n",
    "dev = torch.device(\"cuda:1\")\n",
    "a = torch.tensor([1,2,3], device = dev)\n",
    "a.device"
   ]
  },
  {
   "cell_type": "code",
   "execution_count": 2,
   "id": "c8784566-1c9f-4f64-814a-6afaa149ac72",
   "metadata": {},
   "outputs": [],
   "source": [
    "data = pd.concat((data_analysis.get_training_data(), data_analysis.get_testing_data()))\n",
    "max_Id = data[\"Id\"].unique().max()\n",
    "gw_data = data_analysis.get_gw_testing_data().copy(deep=True)\n",
    "gw_data = gw_data.assign(Id=lambda x: x.Id + max_Id)\n",
    "data = pd.concat((data, gw_data))\n",
    "data = data.sort_values([\"Id\", \"Time\"])\n",
    "data = data.reset_index(drop=True)\n",
    "popped_index = data.pop(\"index\")"
   ]
  },
  {
   "cell_type": "code",
   "execution_count": 3,
   "id": "517e270b-b2e4-4287-a297-37155c5cbd85",
   "metadata": {},
   "outputs": [],
   "source": [
    "from dataAnalysis.Constants import SEX_CATEGORY_COLUMN_NAME, SEX_COLUMN_NAME, FEATURES, LABEL_COLUMN_NAME\n",
    "\n",
    "data[SEX_CATEGORY_COLUMN_NAME] = data.loc[:, SEX_COLUMN_NAME] ==\"W\"\n",
    "\n",
    "data[SEX_CATEGORY_COLUMN_NAME] = data[SEX_CATEGORY_COLUMN_NAME].astype(\"int8\")\n",
    "data[\"Label\"] = data[\"Label\"] == \"Sepsis\"\n",
    "data[\"Label\"] = data[\"Label\"].astype(\"int8\")"
   ]
  },
  {
   "cell_type": "markdown",
   "id": "0e2d6c76-3460-47ff-bbe1-e6dcc876b3f6",
   "metadata": {},
   "source": [
    "## Normalizer"
   ]
  },
  {
   "cell_type": "code",
   "execution_count": 4,
   "id": "6921df7b-52bf-4fbf-b464-312158cff5f3",
   "metadata": {},
   "outputs": [
    {
     "data": {
      "text/plain": [
       "array([[ 79.  ,   0.  ,   8.1 , ...,   4.36,  86.  , 167.  ],\n",
       "       [ 35.  ,   0.  ,  10.6 , ...,   6.02,  79.9 , 199.  ],\n",
       "       [ 47.  ,   1.  ,   8.7 , ...,   4.37,  89.9 , 298.  ],\n",
       "       ...,\n",
       "       [ 32.  ,   1.  ,   7.2 , ...,   3.87,  87.9 , 221.  ],\n",
       "       [ 47.  ,   0.  ,   8.3 , ...,   4.08,  91.9 , 148.  ],\n",
       "       [ 47.  ,   0.  ,   8.9 , ...,   4.39,  92.3 , 150.  ]])"
      ]
     },
     "execution_count": 4,
     "metadata": {},
     "output_type": "execute_result"
    }
   ],
   "source": [
    "data.loc[data[\"Set\"] == \"Training\", FEATURES].values"
   ]
  },
  {
   "cell_type": "code",
   "execution_count": 5,
   "id": "ed5cee5b-a4cd-422e-8eab-a54b1902535b",
   "metadata": {},
   "outputs": [
    {
     "data": {
      "text/html": [
       "<style>#sk-container-id-1 {color: black;}#sk-container-id-1 pre{padding: 0;}#sk-container-id-1 div.sk-toggleable {background-color: white;}#sk-container-id-1 label.sk-toggleable__label {cursor: pointer;display: block;width: 100%;margin-bottom: 0;padding: 0.3em;box-sizing: border-box;text-align: center;}#sk-container-id-1 label.sk-toggleable__label-arrow:before {content: \"▸\";float: left;margin-right: 0.25em;color: #696969;}#sk-container-id-1 label.sk-toggleable__label-arrow:hover:before {color: black;}#sk-container-id-1 div.sk-estimator:hover label.sk-toggleable__label-arrow:before {color: black;}#sk-container-id-1 div.sk-toggleable__content {max-height: 0;max-width: 0;overflow: hidden;text-align: left;background-color: #f0f8ff;}#sk-container-id-1 div.sk-toggleable__content pre {margin: 0.2em;color: black;border-radius: 0.25em;background-color: #f0f8ff;}#sk-container-id-1 input.sk-toggleable__control:checked~div.sk-toggleable__content {max-height: 200px;max-width: 100%;overflow: auto;}#sk-container-id-1 input.sk-toggleable__control:checked~label.sk-toggleable__label-arrow:before {content: \"▾\";}#sk-container-id-1 div.sk-estimator input.sk-toggleable__control:checked~label.sk-toggleable__label {background-color: #d4ebff;}#sk-container-id-1 div.sk-label input.sk-toggleable__control:checked~label.sk-toggleable__label {background-color: #d4ebff;}#sk-container-id-1 input.sk-hidden--visually {border: 0;clip: rect(1px 1px 1px 1px);clip: rect(1px, 1px, 1px, 1px);height: 1px;margin: -1px;overflow: hidden;padding: 0;position: absolute;width: 1px;}#sk-container-id-1 div.sk-estimator {font-family: monospace;background-color: #f0f8ff;border: 1px dotted black;border-radius: 0.25em;box-sizing: border-box;margin-bottom: 0.5em;}#sk-container-id-1 div.sk-estimator:hover {background-color: #d4ebff;}#sk-container-id-1 div.sk-parallel-item::after {content: \"\";width: 100%;border-bottom: 1px solid gray;flex-grow: 1;}#sk-container-id-1 div.sk-label:hover label.sk-toggleable__label {background-color: #d4ebff;}#sk-container-id-1 div.sk-serial::before {content: \"\";position: absolute;border-left: 1px solid gray;box-sizing: border-box;top: 0;bottom: 0;left: 50%;z-index: 0;}#sk-container-id-1 div.sk-serial {display: flex;flex-direction: column;align-items: center;background-color: white;padding-right: 0.2em;padding-left: 0.2em;position: relative;}#sk-container-id-1 div.sk-item {position: relative;z-index: 1;}#sk-container-id-1 div.sk-parallel {display: flex;align-items: stretch;justify-content: center;background-color: white;position: relative;}#sk-container-id-1 div.sk-item::before, #sk-container-id-1 div.sk-parallel-item::before {content: \"\";position: absolute;border-left: 1px solid gray;box-sizing: border-box;top: 0;bottom: 0;left: 50%;z-index: -1;}#sk-container-id-1 div.sk-parallel-item {display: flex;flex-direction: column;z-index: 1;position: relative;background-color: white;}#sk-container-id-1 div.sk-parallel-item:first-child::after {align-self: flex-end;width: 50%;}#sk-container-id-1 div.sk-parallel-item:last-child::after {align-self: flex-start;width: 50%;}#sk-container-id-1 div.sk-parallel-item:only-child::after {width: 0;}#sk-container-id-1 div.sk-dashed-wrapped {border: 1px dashed gray;margin: 0 0.4em 0.5em 0.4em;box-sizing: border-box;padding-bottom: 0.4em;background-color: white;}#sk-container-id-1 div.sk-label label {font-family: monospace;font-weight: bold;display: inline-block;line-height: 1.2em;}#sk-container-id-1 div.sk-label-container {text-align: center;}#sk-container-id-1 div.sk-container {/* jupyter's `normalize.less` sets `[hidden] { display: none; }` but bootstrap.min.css set `[hidden] { display: none !important; }` so we also need the `!important` here to be able to override the default hidden behavior on the sphinx rendered scikit-learn.org. See: https://github.com/scikit-learn/scikit-learn/issues/21755 */display: inline-block !important;position: relative;}#sk-container-id-1 div.sk-text-repr-fallback {display: none;}</style><div id=\"sk-container-id-1\" class=\"sk-top-container\"><div class=\"sk-text-repr-fallback\"><pre>StandardScaler()</pre><b>In a Jupyter environment, please rerun this cell to show the HTML representation or trust the notebook. <br />On GitHub, the HTML representation is unable to render, please try loading this page with nbviewer.org.</b></div><div class=\"sk-container\" hidden><div class=\"sk-item\"><div class=\"sk-estimator sk-toggleable\"><input class=\"sk-toggleable__control sk-hidden--visually\" id=\"sk-estimator-id-1\" type=\"checkbox\" checked><label for=\"sk-estimator-id-1\" class=\"sk-toggleable__label sk-toggleable__label-arrow\">StandardScaler</label><div class=\"sk-toggleable__content\"><pre>StandardScaler()</pre></div></div></div></div></div>"
      ],
      "text/plain": [
       "StandardScaler()"
      ]
     },
     "execution_count": 5,
     "metadata": {},
     "output_type": "execute_result"
    }
   ],
   "source": [
    "from sklearn.preprocessing import StandardScaler\n",
    "scaler = StandardScaler()\n",
    "scaler.fit(data.loc[data[\"Set\"] == \"Training\", FEATURES].values)"
   ]
  },
  {
   "cell_type": "markdown",
   "id": "e996e288-96e8-44e0-8131-ae790eb0dace",
   "metadata": {},
   "source": [
    "## Padding to max length"
   ]
  },
  {
   "cell_type": "code",
   "execution_count": 6,
   "id": "d1f06201-e1ca-43bf-8bbd-8f4c7535267b",
   "metadata": {},
   "outputs": [],
   "source": [
    "id_grouped_data = data.groupby(\"Id\")"
   ]
  },
  {
   "cell_type": "code",
   "execution_count": 7,
   "id": "d70a5569-3843-46ba-9beb-61b8f0207504",
   "metadata": {},
   "outputs": [
    {
     "data": {
      "application/vnd.jupyter.widget-view+json": {
       "model_id": "49f26d604eae46238920deac0ae93517",
       "version_major": 2,
       "version_minor": 0
      },
      "text/plain": [
       "  0%|          | 0/866517 [00:00<?, ?it/s]"
      ]
     },
     "metadata": {},
     "output_type": "display_data"
    }
   ],
   "source": [
    "from tqdm.notebook import tqdm\n",
    "\n",
    "max_len = 0\n",
    "for id, data_group in tqdm(id_grouped_data):\n",
    "    max_len = max(max_len, data_group.shape[0])"
   ]
  },
  {
   "cell_type": "code",
   "execution_count": 8,
   "id": "fef818a9-caac-4f72-977f-677537e35674",
   "metadata": {},
   "outputs": [],
   "source": [
    "unique_train_ids = data.loc[data[\"Set\"] == \"Training\", \"Id\"].unique()\n",
    "max_train_idx = int(len(unique_train_ids)*.8)\n",
    "val_ids = unique_train_ids[max_train_idx:]"
   ]
  },
  {
   "cell_type": "code",
   "execution_count": 9,
   "id": "97f491cf-ef73-4245-9159-37953f0ae1c4",
   "metadata": {},
   "outputs": [
    {
     "data": {
      "application/vnd.jupyter.widget-view+json": {
       "model_id": "17a490625dde4bf28de385dfb84fb996",
       "version_major": 2,
       "version_minor": 0
      },
      "text/plain": [
       "  0%|          | 0/866517 [00:00<?, ?it/s]"
      ]
     },
     "metadata": {},
     "output_type": "display_data"
    }
   ],
   "source": [
    "import numpy as np\n",
    "\n",
    "pad_value = -10.0\n",
    "TRAIN = \"train\"\n",
    "GW = \"gw_test\"\n",
    "TEST = \"test\"\n",
    "VAL = \"val\"\n",
    "\n",
    "features = dict({})\n",
    "features[TRAIN] = []\n",
    "features[VAL] = []\n",
    "features[TEST] = []\n",
    "features[GW] = []\n",
    "\n",
    "labels = dict({})\n",
    "labels[TRAIN] = []\n",
    "labels[VAL] = []\n",
    "labels[TEST] = []\n",
    "labels[GW] = []\n",
    "\n",
    "for id, data_group in tqdm(id_grouped_data):\n",
    "    assert data_group[\"Set\"].unique().shape[0] == 1\n",
    "    assert data_group[\"Center\"].unique().shape[0] == 1\n",
    "\n",
    "    features_scaled = scaler.transform(data_group[FEATURES].values)\n",
    "\n",
    "    padded_features = np.pad(features_scaled, ((0, max_len - data_group.shape[0]), (0,0)), mode='constant', constant_values=pad_value)\n",
    "    padded_labels = np.pad(data_group[LABEL_COLUMN_NAME].values, ((0, max_len - data_group.shape[0])), mode='constant', constant_values=pad_value)\n",
    "    \n",
    "    first_el = data_group.iloc[0, :]\n",
    "    if first_el[\"Set\"] == \"Training\":\n",
    "        if first_el[\"Id\"] in val_ids:\n",
    "            features[VAL].append(padded_features)\n",
    "            labels[VAL].append(padded_labels)\n",
    "            continue\n",
    "        if first_el[\"Id\"] not in val_ids:\n",
    "            features[TRAIN].append(padded_features)\n",
    "            labels[TRAIN].append(padded_labels)\n",
    "            continue\n",
    "    if first_el[\"Set\"] == \"Validation\":\n",
    "        if first_el[\"Center\"] == \"Greifswald\":\n",
    "            features[GW].append(padded_features)\n",
    "            labels[GW].append(padded_labels)\n",
    "            continue\n",
    "        if first_el[\"Center\"] == \"Leipzig\":\n",
    "            features[TEST].append(padded_features)\n",
    "            labels[TEST].append(padded_labels)\n",
    "            continue"
   ]
  },
  {
   "cell_type": "markdown",
   "id": "b2bdac22-9b02-4077-a7f4-4db4a0ab5050",
   "metadata": {},
   "source": [
    "## Seed and hyperparams"
   ]
  },
  {
   "cell_type": "code",
   "execution_count": 10,
   "id": "c08009fa-f788-40d9-9a15-6ad7c5bb44c1",
   "metadata": {},
   "outputs": [],
   "source": [
    "torch.manual_seed(42)\n",
    "n_embd = len(FEATURES)\n",
    "head_size = 16\n",
    "dropout = 0\n",
    "out_dim = 1 #binary \n",
    "device = torch.device(\"cuda:0\") #torch.device(\"cuda:2\") #torch.device(\"cuda:2\")\n",
    "WEIGHT = 664\n",
    "lr = 1e-2\n",
    "wd = 0\n",
    "n_blocks = 2\n",
    "n_heads = 4"
   ]
  },
  {
   "cell_type": "markdown",
   "id": "92127f1f-f8bf-41b7-be8f-aa85d0e3eba3",
   "metadata": {},
   "source": [
    "## Batching "
   ]
  },
  {
   "cell_type": "code",
   "execution_count": 11,
   "id": "270f681d-a1aa-4c29-99aa-b31cd962b9cb",
   "metadata": {},
   "outputs": [],
   "source": [
    "from torch.utils.data import DataLoader\n",
    "from torch.utils.data import Dataset\n",
    "\n",
    "class Data(Dataset):\n",
    "    # Constructor\n",
    "    def __init__(self,X, y):\n",
    "        self.x = X\n",
    "        self.y = y\n",
    "        self.len = self.x.shape[0]\n",
    "\n",
    "    def __getitem__(self, index):\n",
    "        return self.x[index], self.y[index]\n",
    "\n",
    "    def __len__(self):\n",
    "        return self.len"
   ]
  },
  {
   "cell_type": "code",
   "execution_count": 12,
   "id": "455e9028-81aa-4f8f-9e1d-3c8493b21e1b",
   "metadata": {},
   "outputs": [],
   "source": [
    "batch_loader = dict({})"
   ]
  },
  {
   "cell_type": "code",
   "execution_count": 13,
   "id": "98a9c611-0cae-4f7d-983c-6bccab281d6d",
   "metadata": {},
   "outputs": [],
   "source": [
    "def add_loader(set_name):\n",
    "    global bitch_loader, sets, labels\n",
    "    dataset = Data(torch.from_numpy(np.array(features[set_name])).type(torch.float).to(device), torch.from_numpy(np.array(labels[set_name])).type(torch.float).to(device))\n",
    "    loader = DataLoader(dataset=dataset, batch_size=500) #max is 100_000\n",
    "    batch_loader[set_name] = loader"
   ]
  },
  {
   "cell_type": "code",
   "execution_count": 14,
   "id": "5d221dbe-a7c3-414f-a23e-f390f551e609",
   "metadata": {},
   "outputs": [],
   "source": [
    "add_loader(TRAIN)\n",
    "add_loader(VAL)\n",
    "add_loader(GW)\n",
    "add_loader(TEST)"
   ]
  },
  {
   "cell_type": "markdown",
   "id": "4c638073-48af-4513-81f7-87f8729c4e14",
   "metadata": {},
   "source": [
    "## Model"
   ]
  },
  {
   "cell_type": "code",
   "execution_count": 15,
   "id": "1c1e7ff0-892d-462b-8096-d78f851db971",
   "metadata": {},
   "outputs": [],
   "source": [
    "import torch \n",
    "\n",
    "torch.manual_seed(42)\n",
    "class Head(torch.nn.Module):\n",
    "\n",
    "    def __init__(self, n_embd, head_size, dropout):\n",
    "        super(Head, self).__init__()\n",
    "\n",
    "        self.query = torch.nn.Linear(n_embd, head_size, bias=False)\n",
    "        self.key = torch.nn.Linear(n_embd, head_size, bias = False)\n",
    "        self.value = torch.nn.Linear(n_embd, head_size, bias = False)\n",
    "        self.dropout = torch.nn.Dropout(dropout)\n",
    "\n",
    "    def forward(self, x, ignore_mask):\n",
    "        B,T,C = x.shape\n",
    "        \n",
    "        k = self.key(x)\n",
    "        q = self.query(x)\n",
    "        v = self.value(x)\n",
    "\n",
    "        w = q@k.transpose(-2,-1)\n",
    "        w = w* C**-.5\n",
    "        w[ignore_mask] = float(\"-inf\")\n",
    "        w = torch.nan_to_num(torch.softmax(w, dim = -1))\n",
    "        \n",
    "        w = self.dropout(w)    \n",
    "        out = w@v\n",
    "        return out\n",
    "        "
   ]
  },
  {
   "cell_type": "code",
   "execution_count": 16,
   "id": "d97973e4-40a2-4485-bb90-f570737023f4",
   "metadata": {},
   "outputs": [],
   "source": [
    "import torch \n",
    "class MultiHeadAttention(torch.nn.Module):\n",
    "\n",
    "    def __init__(self, n_embd, num_heads, head_size, dropout):\n",
    "        super(MultiHeadAttention, self).__init__()\n",
    "        head_size = n_embd // n_heads\n",
    "        self.heads = torch.nn.ModuleList([Head(n_embd, head_size, dropout) for _ in range(num_heads)])\n",
    "        self.proj = torch.nn.Linear(head_size*num_heads, n_embd)\n",
    "        self.dropout = torch.nn.Dropout(dropout)\n",
    "\n",
    "    def forward(self, x, ignore_mask):\n",
    "        out = torch.cat([h(x, ignore_mask) for h in self.heads], dim = -1)\n",
    "        out = self.proj(out)\n",
    "        out = self.dropout(out)\n",
    "        return out"
   ]
  },
  {
   "cell_type": "code",
   "execution_count": 17,
   "id": "80bcfd44-adf4-49a3-8961-19de38b23af5",
   "metadata": {},
   "outputs": [],
   "source": [
    "class FeedForward(torch.nn.Module):\n",
    "\n",
    "    def __init__(self, n_embd, dropout):\n",
    "        super(FeedForward, self).__init__()\n",
    "        self.lin = torch.nn.Linear(n_embd, 4*n_embd)\n",
    "        self.proj = torch.nn.Linear(4*n_embd, n_embd)\n",
    "        self.dropout = torch.nn.Dropout(dropout)\n",
    "\n",
    "    def forward(self, x):\n",
    "        x = self.lin(x)\n",
    "        x = torch.nn.functional.relu(x)\n",
    "        x = self.proj(x)\n",
    "        x = self.dropout(x)\n",
    "        return x"
   ]
  },
  {
   "cell_type": "code",
   "execution_count": 18,
   "id": "6e49b754-6ee2-4fac-a1a8-6a17a0a3b518",
   "metadata": {},
   "outputs": [],
   "source": [
    "class Block(torch.nn.Module):\n",
    "    def __init__(self, n_embd, n_heads, dropout):\n",
    "        super(Block, self).__init__()\n",
    "        head_size = n_embd // n_heads\n",
    "\n",
    "        self.sa_heads = MultiHeadAttention(n_embd, n_heads, head_size, dropout)\n",
    "        self.ffwd = FeedForward(n_embd, dropout)\n",
    "        self.layer_norm_1 = torch.nn.LayerNorm(n_embd)\n",
    "        self.layer_norm_2 = torch.nn.LayerNorm(n_embd)\n",
    "\n",
    "    def forward(self, x, ignore_mask):\n",
    "        x = x + self.sa_heads(self.layer_norm_1(x), ignore_mask)\n",
    "        x = x + self.ffwd(self.layer_norm_2(x))\n",
    "        return x"
   ]
  },
  {
   "cell_type": "code",
   "execution_count": 19,
   "id": "21724db2-ec23-4f55-8416-315cded98d2d",
   "metadata": {},
   "outputs": [],
   "source": [
    "from torch import nn\n",
    "from torch.nn import functional as F\n",
    "\n",
    "torch.manual_seed(42)\n",
    "class TransformerModel(nn.Module):\n",
    "\n",
    "    def __init__(self, input_dim, n_embd, n_heads, dropout, n_blocks):\n",
    "        super(TransformerModel, self).__init__()\n",
    "\n",
    "        self.lin_input = nn.Linear(input_dim, n_embd)\n",
    "        self.pos_embedding_table = nn.Embedding(max_len, n_embd)\n",
    "        \n",
    "        self.blocks = []\n",
    "        for _ in range(n_blocks):\n",
    "            self.blocks.append(Block(n_embd, n_heads, dropout).to(device)) #nn.Sequential(*[Block(n_embd, n_heads, dropout) for _ in range(n_blocks)], nn.LayerNorm(n_embd))\n",
    "        # self.lm_head = nn.Linear(n_embd, vocab_size)\n",
    "        # self.sa = Head(head_size)\n",
    "        self.lin = nn.Linear(n_embd, out_dim)\n",
    "\n",
    "    def forward(self, x, targets = None):\n",
    "        B, T, C = x.shape\n",
    "        pad_mask = (x != pad_value).type(torch.float)\n",
    "        ignore_mask = torch.bmm(pad_mask, pad_mask.transpose(-2,-1))\n",
    "        ignore_mask = ignore_mask == 0\n",
    "        \n",
    "        x = self.lin_input(x)\n",
    "        pos_emb = self.pos_embedding_table(torch.arange(T, device = device))\n",
    "        x = x + pos_emb\n",
    "\n",
    "        for block in self.blocks:\n",
    "            x = block(x, ignore_mask)\n",
    "        logits = self.lin(x)\n",
    "        logits_mask = ignore_mask.sum(-1) != max_len\n",
    "        \n",
    "        return logits, logits_mask"
   ]
  },
  {
   "cell_type": "markdown",
   "id": "40c075cc-1333-4706-85ed-11b6ab0e3acc",
   "metadata": {},
   "source": [
    "## Evaluate"
   ]
  },
  {
   "cell_type": "code",
   "execution_count": 20,
   "id": "aad2bf23-22df-4204-ae11-8ff78ae5f4c8",
   "metadata": {},
   "outputs": [],
   "source": [
    "def evaluate_loss(model, set_name):\n",
    "    with torch.inference_mode():\n",
    "        model.eval()\n",
    "        acc_loss = 0\n",
    "        batch_size = 0\n",
    "\n",
    "        for i, (x,y) in enumerate(batch_loader[set_name]):\n",
    "            B,_,_ = x.shape\n",
    "            logits, logits_mask = model(x)\n",
    "        \n",
    "            loss = torch.nn.functional.binary_cross_entropy_with_logits(logits[logits_mask].squeeze(-1), y[logits_mask], pos_weight=torch.tensor(WEIGHT))\n",
    "            acc_loss += loss.item()\n",
    "            batch_size += B\n",
    "    return acc_loss / batch_size        "
   ]
  },
  {
   "cell_type": "code",
   "execution_count": 22,
   "id": "c607fedb-b8e6-4104-a818-778d1f00be6f",
   "metadata": {},
   "outputs": [],
   "source": [
    "def evaluate_loss_sets(model):\n",
    "    losses = dict({})\n",
    "    for set_name in features.keys():\n",
    "        if set_name != VAL:\n",
    "            continue\n",
    "        loss = evaluate_loss(model, set_name)\n",
    "        losses[set_name] = loss\n",
    "        print(f\"Loss of {set_name}: {loss:.5f}\") \n",
    "    return losses\n",
    "        "
   ]
  },
  {
   "cell_type": "code",
   "execution_count": 23,
   "id": "1bb27c79-5e05-4180-8181-b2be847ca22d",
   "metadata": {},
   "outputs": [],
   "source": [
    "from sklearn.metrics import roc_auc_score, accuracy_score\n",
    "\n",
    "def evaluate_auroc(model, set_name):\n",
    "    with torch.inference_mode():\n",
    "        model.eval()\n",
    "        \n",
    "        logits_list = []\n",
    "        label_list = []\n",
    "\n",
    "        batch_size = 0\n",
    "        for i, (x,y) in enumerate(batch_loader[set_name]):\n",
    "            B,_,_ = x.shape\n",
    "            logits, logits_mask = model(x)\n",
    "\n",
    "            logits_list.extend(logits[logits_mask].squeeze(-1).tolist())\n",
    "            label_list.extend(y[logits_mask].squeeze(-1).tolist())\n",
    "            batch_size += B\n",
    "    auroc = roc_auc_score(np.array(label_list), torch.sigmoid(torch.tensor(logits_list)).numpy())\n",
    "    return auroc        "
   ]
  },
  {
   "cell_type": "code",
   "execution_count": 25,
   "id": "82d13cdd-c7c2-404b-80be-e31f4362e349",
   "metadata": {},
   "outputs": [],
   "source": [
    "def evaluate_auroc_sets(model):\n",
    "    for set_name in features.keys():\n",
    "        if set_name == TRAIN:\n",
    "            continue\n",
    "        auroc = evaluate_auroc(model, set_name)\n",
    "        print(f\"AUROC of {set_name}: {auroc:.5f}\")"
   ]
  },
  {
   "cell_type": "markdown",
   "id": "e59ef05b-7e7a-4a86-8f8e-31b46d9207c2",
   "metadata": {},
   "source": [
    "## Train"
   ]
  },
  {
   "cell_type": "code",
   "execution_count": 26,
   "id": "e2e6f14e-bba3-4066-9aa8-5e8b36d55f93",
   "metadata": {},
   "outputs": [],
   "source": [
    "torch.manual_seed(42)\n",
    "input_dim, n_embd, n_heads, dropout, n_blocks = len(FEATURES), 8, 4, 0.0, 1\n",
    "model = TransformerModel(input_dim, n_embd, n_heads, dropout, n_blocks).to(device)\n",
    "optim= torch.optim.Adam(model.parameters(), lr = lr, weight_decay=wd)"
   ]
  },
  {
   "cell_type": "code",
   "execution_count": 27,
   "id": "fbfb5f8e-7250-4872-a7cc-fe0e6780d6d4",
   "metadata": {},
   "outputs": [],
   "source": [
    "# torch.manual_seed(42)\n",
    "# evaluate_auroc_sets(TransformerModel(input_dim, n_embd, n_heads, dropout, n_blocks).to(device))"
   ]
  },
  {
   "cell_type": "code",
   "execution_count": 581,
   "id": "18781ac1-dfc7-4784-b8a6-e8159f74fe5d",
   "metadata": {},
   "outputs": [
    {
     "name": "stdout",
     "output_type": "stream",
     "text": [
      "Loss of train: 0.00393\n",
      "Loss of val: 0.00416\n",
      "Loss of test: 0.00368\n",
      "Loss of gw_test: 0.00305\n"
     ]
    },
    {
     "data": {
      "application/vnd.jupyter.widget-view+json": {
       "model_id": "a4b95e8e22894acfa690c222bd851fd5",
       "version_major": 2,
       "version_minor": 0
      },
      "text/plain": [
       "0it [00:00, ?it/s]"
      ]
     },
     "metadata": {},
     "output_type": "display_data"
    },
    {
     "name": "stdout",
     "output_type": "stream",
     "text": [
      "Loss of train: 0.00204\n",
      "Loss of val: 0.00213\n",
      "Loss of test: 0.00201\n",
      "Loss of gw_test: 0.00209\n"
     ]
    },
    {
     "data": {
      "application/vnd.jupyter.widget-view+json": {
       "model_id": "7ae9b250c4104fdfa728ed1baeb11e30",
       "version_major": 2,
       "version_minor": 0
      },
      "text/plain": [
       "0it [00:00, ?it/s]"
      ]
     },
     "metadata": {},
     "output_type": "display_data"
    },
    {
     "name": "stdout",
     "output_type": "stream",
     "text": [
      "Loss of train: 0.00191\n",
      "Loss of val: 0.00203\n",
      "Loss of test: 0.00189\n",
      "Loss of gw_test: 0.00198\n"
     ]
    }
   ],
   "source": [
    "torch.manual_seed(42)\n",
    "\n",
    "evaluate_loss_sets(model)\n",
    "last_val_loss = None\n",
    "for epoch in range(5):#5\n",
    "    for i, (x,y) in tqdm(enumerate(batch_loader[TRAIN])):\n",
    "        model.train()\n",
    "        optim.zero_grad()\n",
    "        \n",
    "        logits, logits_mask = model(x)\n",
    "        loss = torch.nn.functional.binary_cross_entropy_with_logits(logits[logits_mask].squeeze(-1), y[logits_mask], pos_weight=torch.tensor(WEIGHT))\n",
    "            \n",
    "        loss.backward()\n",
    "        optim.step()\n",
    "    losses = evaluate_loss_sets(model)\n",
    "    if last_val_loss and last_val_loss <= losses[VAL]:\n",
    "        print(epoch)\n",
    "        break\n",
    "    last_val_loss = losses[VAL]"
   ]
  },
  {
   "cell_type": "code",
   "execution_count": 582,
   "id": "ee88475f-5a55-4ecf-b1aa-8a105a39e15c",
   "metadata": {},
   "outputs": [
    {
     "name": "stdout",
     "output_type": "stream",
     "text": [
      "AUROC of train: 0.86154\n",
      "AUROC of val: 0.85416\n",
      "AUROC of test: 0.84546\n",
      "AUROC of gw_test: 0.78312\n"
     ]
    }
   ],
   "source": [
    "torch.manual_seed(42)\n",
    "evaluate_auroc_sets(model)"
   ]
  },
  {
   "cell_type": "code",
   "execution_count": 541,
   "id": "79d22442-c0c9-48ef-b194-e8f55aa60295",
   "metadata": {},
   "outputs": [
    {
     "data": {
      "text/plain": [
       "array([0.0001 , 0.00505, 0.01   ])"
      ]
     },
     "execution_count": 541,
     "metadata": {},
     "output_type": "execute_result"
    }
   ],
   "source": [
    " np.linspace(1e-4, 1e-2, 3, endpoint=True)"
   ]
  },
  {
   "cell_type": "code",
   "execution_count": 30,
   "id": "3b2f21d9-8153-441a-97de-b771f12914ff",
   "metadata": {},
   "outputs": [
    {
     "data": {
      "application/vnd.jupyter.widget-view+json": {
       "model_id": "f1c1b08ab0704080be4fc5db1d7af35e",
       "version_major": 2,
       "version_minor": 0
      },
      "text/plain": [
       "0it [00:00, ?it/s]"
      ]
     },
     "metadata": {},
     "output_type": "display_data"
    },
    {
     "data": {
      "application/vnd.jupyter.widget-view+json": {
       "model_id": "cd8ce52e850744d89c5828b114aaac93",
       "version_major": 2,
       "version_minor": 0
      },
      "text/plain": [
       "0it [00:00, ?it/s]"
      ]
     },
     "metadata": {},
     "output_type": "display_data"
    },
    {
     "name": "stdout",
     "output_type": "stream",
     "text": [
      "Loss of val: 0.00201\n",
      "[0.002008010834815812]\n"
     ]
    },
    {
     "data": {
      "application/vnd.jupyter.widget-view+json": {
       "model_id": "3b9ed56dde2a4f38b2dfc5bc2b2f6f09",
       "version_major": 2,
       "version_minor": 0
      },
      "text/plain": [
       "0it [00:00, ?it/s]"
      ]
     },
     "metadata": {},
     "output_type": "display_data"
    },
    {
     "name": "stdout",
     "output_type": "stream",
     "text": [
      "Loss of val: 0.00197\n",
      "[0.002008010834815812, 0.001970542478204296]\n"
     ]
    },
    {
     "data": {
      "application/vnd.jupyter.widget-view+json": {
       "model_id": "e1d2ecc67e1446818ef2f17e481c733c",
       "version_major": 2,
       "version_minor": 0
      },
      "text/plain": [
       "0it [00:00, ?it/s]"
      ]
     },
     "metadata": {},
     "output_type": "display_data"
    },
    {
     "name": "stdout",
     "output_type": "stream",
     "text": [
      "Loss of val: 0.00196\n",
      "[0.002008010834815812, 0.001970542478204296, 0.0019594985531473505]\n"
     ]
    },
    {
     "data": {
      "application/vnd.jupyter.widget-view+json": {
       "model_id": "cef1215205ff4237a552c1a26c916222",
       "version_major": 2,
       "version_minor": 0
      },
      "text/plain": [
       "0it [00:00, ?it/s]"
      ]
     },
     "metadata": {},
     "output_type": "display_data"
    },
    {
     "name": "stdout",
     "output_type": "stream",
     "text": [
      "Loss of val: 0.00197\n",
      "[0.002008010834815812, 0.001970542478204296, 0.0019594985531473505, 0.0019670081706773955]\n",
      "Break at 3\n",
      "AUROC of val: 0.86929\n",
      "AUROC of test: 0.86974\n",
      "AUROC of gw_test: 0.83587\n",
      "Currently best params: \n",
      "{'block_size': 2, 'dropout': 0, 'lr': 0.01, 'n_embd': 16, 'num_heads': 2}\n",
      "260.8024691358024 %\n"
     ]
    },
    {
     "data": {
      "application/vnd.jupyter.widget-view+json": {
       "model_id": "4871110ec5104dd791473722f3b197ea",
       "version_major": 2,
       "version_minor": 0
      },
      "text/plain": [
       "0it [00:00, ?it/s]"
      ]
     },
     "metadata": {},
     "output_type": "display_data"
    },
    {
     "name": "stdout",
     "output_type": "stream",
     "text": [
      "Loss of val: 0.00192\n",
      "[0.0019234837257271016]\n"
     ]
    },
    {
     "data": {
      "application/vnd.jupyter.widget-view+json": {
       "model_id": "e0e6d95af37649f9a1cddf104df96540",
       "version_major": 2,
       "version_minor": 0
      },
      "text/plain": [
       "0it [00:00, ?it/s]"
      ]
     },
     "metadata": {},
     "output_type": "display_data"
    },
    {
     "name": "stdout",
     "output_type": "stream",
     "text": [
      "Loss of val: 0.00188\n",
      "[0.0019234837257271016, 0.0018762511772997068]\n"
     ]
    },
    {
     "data": {
      "application/vnd.jupyter.widget-view+json": {
       "model_id": "417529372ee94894beee35f7abbf0535",
       "version_major": 2,
       "version_minor": 0
      },
      "text/plain": [
       "0it [00:00, ?it/s]"
      ]
     },
     "metadata": {},
     "output_type": "display_data"
    },
    {
     "name": "stdout",
     "output_type": "stream",
     "text": [
      "Loss of val: 0.00193\n",
      "[0.0019234837257271016, 0.0018762511772997068, 0.0019346802461463444]\n",
      "Break at 2\n",
      "AUROC of val: 0.87549\n",
      "AUROC of test: 0.87140\n",
      "AUROC of gw_test: 0.83051\n",
      "Currently best params: \n",
      "{'block_size': 2, 'dropout': 0, 'lr': 0.01, 'n_embd': 16, 'num_heads': 4}\n",
      "260.8024691358024 %\n"
     ]
    },
    {
     "data": {
      "application/vnd.jupyter.widget-view+json": {
       "model_id": "981437bdc9444501991655e581e1cdeb",
       "version_major": 2,
       "version_minor": 0
      },
      "text/plain": [
       "0it [00:00, ?it/s]"
      ]
     },
     "metadata": {},
     "output_type": "display_data"
    },
    {
     "name": "stdout",
     "output_type": "stream",
     "text": [
      "Loss of val: 0.00189\n",
      "[0.0018897349890694124]\n"
     ]
    },
    {
     "data": {
      "application/vnd.jupyter.widget-view+json": {
       "model_id": "0b3828fe7d9345d599c550bea57907b2",
       "version_major": 2,
       "version_minor": 0
      },
      "text/plain": [
       "0it [00:00, ?it/s]"
      ]
     },
     "metadata": {},
     "output_type": "display_data"
    },
    {
     "name": "stdout",
     "output_type": "stream",
     "text": [
      "Loss of val: 0.00192\n",
      "[0.0018897349890694124, 0.0019172469936279148]\n",
      "Break at 1\n",
      "AUROC of val: 0.87371\n",
      "AUROC of test: 0.86989\n",
      "AUROC of gw_test: 0.80500\n",
      "Currently best params: \n",
      "{'block_size': 2, 'dropout': 0, 'lr': 0.01, 'n_embd': 16, 'num_heads': 8}\n",
      "260.8024691358024 %\n"
     ]
    },
    {
     "data": {
      "application/vnd.jupyter.widget-view+json": {
       "model_id": "00d094a6cd374a3c9bdc79605f3a368f",
       "version_major": 2,
       "version_minor": 0
      },
      "text/plain": [
       "0it [00:00, ?it/s]"
      ]
     },
     "metadata": {},
     "output_type": "display_data"
    },
    {
     "name": "stdout",
     "output_type": "stream",
     "text": [
      "Loss of val: 0.00189\n",
      "[0.0018881039238593672]\n"
     ]
    },
    {
     "data": {
      "application/vnd.jupyter.widget-view+json": {
       "model_id": "94a5ba4b42904a29a8f174d2129176d2",
       "version_major": 2,
       "version_minor": 0
      },
      "text/plain": [
       "0it [00:00, ?it/s]"
      ]
     },
     "metadata": {},
     "output_type": "display_data"
    },
    {
     "name": "stdout",
     "output_type": "stream",
     "text": [
      "Loss of val: 0.00195\n",
      "[0.0018881039238593672, 0.0019514727350485401]\n",
      "Break at 1\n",
      "AUROC of val: 0.87353\n",
      "AUROC of test: 0.86566\n",
      "AUROC of gw_test: 0.81821\n",
      "260.8024691358024 %\n"
     ]
    },
    {
     "data": {
      "application/vnd.jupyter.widget-view+json": {
       "model_id": "250133edd77648e0af8399136f3e134e",
       "version_major": 2,
       "version_minor": 0
      },
      "text/plain": [
       "0it [00:00, ?it/s]"
      ]
     },
     "metadata": {},
     "output_type": "display_data"
    },
    {
     "name": "stdout",
     "output_type": "stream",
     "text": [
      "Loss of val: 0.00182\n",
      "[0.0018247517275474582]\n"
     ]
    },
    {
     "data": {
      "application/vnd.jupyter.widget-view+json": {
       "model_id": "598239dcdafd43dda49aa9a6580224b4",
       "version_major": 2,
       "version_minor": 0
      },
      "text/plain": [
       "0it [00:00, ?it/s]"
      ]
     },
     "metadata": {},
     "output_type": "display_data"
    },
    {
     "name": "stdout",
     "output_type": "stream",
     "text": [
      "Loss of val: 0.00190\n",
      "[0.0018247517275474582, 0.0018990722938877855]\n",
      "Break at 1\n",
      "AUROC of val: 0.88264\n",
      "AUROC of test: 0.87080\n",
      "AUROC of gw_test: 0.82770\n",
      "Currently best params: \n",
      "{'block_size': 2, 'dropout': 0, 'lr': 0.01, 'n_embd': 32, 'num_heads': 4}\n",
      "260.8024691358024 %\n"
     ]
    },
    {
     "data": {
      "application/vnd.jupyter.widget-view+json": {
       "model_id": "1dc3f933e45b4b4699ceeb61aee5af9f",
       "version_major": 2,
       "version_minor": 0
      },
      "text/plain": [
       "0it [00:00, ?it/s]"
      ]
     },
     "metadata": {},
     "output_type": "display_data"
    },
    {
     "name": "stdout",
     "output_type": "stream",
     "text": [
      "Loss of val: 0.00179\n",
      "[0.0017926676808823318]\n"
     ]
    },
    {
     "data": {
      "application/vnd.jupyter.widget-view+json": {
       "model_id": "b857423c1e4647c98f732bff0685ee57",
       "version_major": 2,
       "version_minor": 0
      },
      "text/plain": [
       "0it [00:00, ?it/s]"
      ]
     },
     "metadata": {},
     "output_type": "display_data"
    },
    {
     "name": "stdout",
     "output_type": "stream",
     "text": [
      "Loss of val: 0.00190\n",
      "[0.0017926676808823318, 0.0018993113098056407]\n",
      "Break at 1\n",
      "AUROC of val: 0.88471\n",
      "AUROC of test: 0.86929\n",
      "AUROC of gw_test: 0.83221\n",
      "260.8024691358024 %\n"
     ]
    },
    {
     "data": {
      "application/vnd.jupyter.widget-view+json": {
       "model_id": "7e06e242a37244c382b0a6e1e6071408",
       "version_major": 2,
       "version_minor": 0
      },
      "text/plain": [
       "0it [00:00, ?it/s]"
      ]
     },
     "metadata": {},
     "output_type": "display_data"
    },
    {
     "name": "stdout",
     "output_type": "stream",
     "text": [
      "Loss of val: 0.00180\n",
      "[0.0018036911257131303]\n"
     ]
    },
    {
     "data": {
      "application/vnd.jupyter.widget-view+json": {
       "model_id": "4b2d86dd315349988af4c03e95842ffb",
       "version_major": 2,
       "version_minor": 0
      },
      "text/plain": [
       "0it [00:00, ?it/s]"
      ]
     },
     "metadata": {},
     "output_type": "display_data"
    },
    {
     "name": "stdout",
     "output_type": "stream",
     "text": [
      "Loss of val: 0.00194\n",
      "[0.0018036911257131303, 0.001936771149331527]\n",
      "Break at 1\n",
      "AUROC of val: 0.88261\n",
      "AUROC of test: 0.86949\n",
      "AUROC of gw_test: 0.83583\n",
      "260.8024691358024 %\n"
     ]
    },
    {
     "data": {
      "application/vnd.jupyter.widget-view+json": {
       "model_id": "e97c8c9aaf08413593ec5719905bcfef",
       "version_major": 2,
       "version_minor": 0
      },
      "text/plain": [
       "0it [00:00, ?it/s]"
      ]
     },
     "metadata": {},
     "output_type": "display_data"
    },
    {
     "name": "stdout",
     "output_type": "stream",
     "text": [
      "Loss of val: 0.00183\n",
      "[0.0018348840781138797]\n"
     ]
    },
    {
     "data": {
      "application/vnd.jupyter.widget-view+json": {
       "model_id": "04e99439c65e4a57ad09e7a05c578baf",
       "version_major": 2,
       "version_minor": 0
      },
      "text/plain": [
       "0it [00:00, ?it/s]"
      ]
     },
     "metadata": {},
     "output_type": "display_data"
    },
    {
     "name": "stdout",
     "output_type": "stream",
     "text": [
      "Loss of val: 0.00193\n",
      "[0.0018348840781138797, 0.0019299835580363744]\n",
      "Break at 1\n",
      "AUROC of val: 0.87997\n",
      "AUROC of test: 0.85880\n",
      "AUROC of gw_test: 0.81986\n",
      "260.8024691358024 %\n"
     ]
    },
    {
     "data": {
      "application/vnd.jupyter.widget-view+json": {
       "model_id": "1abcb7c2cab34c018752c50ad0e373f7",
       "version_major": 2,
       "version_minor": 0
      },
      "text/plain": [
       "0it [00:00, ?it/s]"
      ]
     },
     "metadata": {},
     "output_type": "display_data"
    },
    {
     "name": "stdout",
     "output_type": "stream",
     "text": [
      "Loss of val: 0.00182\n",
      "[0.0018221042302063817]\n"
     ]
    },
    {
     "data": {
      "application/vnd.jupyter.widget-view+json": {
       "model_id": "6d2d1bc4a83c4d5ab897369b350bb19a",
       "version_major": 2,
       "version_minor": 0
      },
      "text/plain": [
       "0it [00:00, ?it/s]"
      ]
     },
     "metadata": {},
     "output_type": "display_data"
    },
    {
     "name": "stdout",
     "output_type": "stream",
     "text": [
      "Loss of val: 0.00192\n",
      "[0.0018221042302063817, 0.0019170995119029495]\n",
      "Break at 1\n",
      "AUROC of val: 0.88127\n",
      "AUROC of test: 0.86430\n",
      "AUROC of gw_test: 0.81990\n",
      "260.8024691358024 %\n"
     ]
    },
    {
     "data": {
      "application/vnd.jupyter.widget-view+json": {
       "model_id": "1a1f04ff89cf4fd5af3cc5a8805f4561",
       "version_major": 2,
       "version_minor": 0
      },
      "text/plain": [
       "0it [00:00, ?it/s]"
      ]
     },
     "metadata": {},
     "output_type": "display_data"
    },
    {
     "name": "stdout",
     "output_type": "stream",
     "text": [
      "Loss of val: 0.00194\n",
      "[0.0019406517846692604]\n"
     ]
    },
    {
     "data": {
      "application/vnd.jupyter.widget-view+json": {
       "model_id": "f2710529df1a4119abda6c0e1f920b22",
       "version_major": 2,
       "version_minor": 0
      },
      "text/plain": [
       "0it [00:00, ?it/s]"
      ]
     },
     "metadata": {},
     "output_type": "display_data"
    },
    {
     "name": "stdout",
     "output_type": "stream",
     "text": [
      "Loss of val: 0.00197\n",
      "[0.0019406517846692604, 0.0019722366101972873]\n",
      "Break at 1\n",
      "AUROC of val: 0.86352\n",
      "AUROC of test: 0.85914\n",
      "AUROC of gw_test: 0.80802\n",
      "260.8024691358024 %\n"
     ]
    },
    {
     "data": {
      "application/vnd.jupyter.widget-view+json": {
       "model_id": "b43fd22670f64178802c08b1f35324ed",
       "version_major": 2,
       "version_minor": 0
      },
      "text/plain": [
       "0it [00:00, ?it/s]"
      ]
     },
     "metadata": {},
     "output_type": "display_data"
    },
    {
     "name": "stdout",
     "output_type": "stream",
     "text": [
      "Loss of val: 0.00205\n",
      "[0.002045593145998122]\n"
     ]
    },
    {
     "data": {
      "application/vnd.jupyter.widget-view+json": {
       "model_id": "0133f79c4e63419e896c9ca0a21d9d4b",
       "version_major": 2,
       "version_minor": 0
      },
      "text/plain": [
       "0it [00:00, ?it/s]"
      ]
     },
     "metadata": {},
     "output_type": "display_data"
    },
    {
     "name": "stdout",
     "output_type": "stream",
     "text": [
      "Loss of val: 0.00205\n",
      "[0.002045593145998122, 0.0020519941916827696]\n",
      "Break at 1\n",
      "AUROC of val: 0.85390\n",
      "AUROC of test: 0.85402\n",
      "AUROC of gw_test: 0.79787\n",
      "260.8024691358024 %\n"
     ]
    },
    {
     "data": {
      "application/vnd.jupyter.widget-view+json": {
       "model_id": "fecb87334fd747fbb14c5e3f8fb4c099",
       "version_major": 2,
       "version_minor": 0
      },
      "text/plain": [
       "0it [00:00, ?it/s]"
      ]
     },
     "metadata": {},
     "output_type": "display_data"
    },
    {
     "name": "stdout",
     "output_type": "stream",
     "text": [
      "Loss of val: 0.00199\n",
      "[0.001989659263832579]\n"
     ]
    },
    {
     "data": {
      "application/vnd.jupyter.widget-view+json": {
       "model_id": "957fcfb667b249ca8092bd99d0597a3c",
       "version_major": 2,
       "version_minor": 0
      },
      "text/plain": [
       "0it [00:00, ?it/s]"
      ]
     },
     "metadata": {},
     "output_type": "display_data"
    },
    {
     "name": "stdout",
     "output_type": "stream",
     "text": [
      "Loss of val: 0.00204\n",
      "[0.001989659263832579, 0.002036712064648777]\n",
      "Break at 1\n",
      "AUROC of val: 0.85803\n",
      "AUROC of test: 0.85563\n",
      "AUROC of gw_test: 0.79153\n",
      "260.8024691358024 %\n"
     ]
    },
    {
     "data": {
      "application/vnd.jupyter.widget-view+json": {
       "model_id": "3a45cc3e56b44154adaa690ef27ce305",
       "version_major": 2,
       "version_minor": 0
      },
      "text/plain": [
       "0it [00:00, ?it/s]"
      ]
     },
     "metadata": {},
     "output_type": "display_data"
    },
    {
     "name": "stdout",
     "output_type": "stream",
     "text": [
      "Loss of val: 0.00197\n",
      "[0.001966861927083016]\n"
     ]
    },
    {
     "data": {
      "application/vnd.jupyter.widget-view+json": {
       "model_id": "40b991caec25457fb1ed85fad23b8956",
       "version_major": 2,
       "version_minor": 0
      },
      "text/plain": [
       "0it [00:00, ?it/s]"
      ]
     },
     "metadata": {},
     "output_type": "display_data"
    },
    {
     "name": "stdout",
     "output_type": "stream",
     "text": [
      "Loss of val: 0.00190\n",
      "[0.001966861927083016, 0.0019036995010889017]\n"
     ]
    },
    {
     "data": {
      "application/vnd.jupyter.widget-view+json": {
       "model_id": "87e490ccfd914ab0a05037170786d0e5",
       "version_major": 2,
       "version_minor": 0
      },
      "text/plain": [
       "0it [00:00, ?it/s]"
      ]
     },
     "metadata": {},
     "output_type": "display_data"
    },
    {
     "name": "stdout",
     "output_type": "stream",
     "text": [
      "Loss of val: 0.00205\n",
      "[0.001966861927083016, 0.0019036995010889017, 0.002051876463183856]\n",
      "Break at 2\n",
      "AUROC of val: 0.87293\n",
      "AUROC of test: 0.86309\n",
      "AUROC of gw_test: 0.82353\n",
      "260.8024691358024 %\n"
     ]
    },
    {
     "data": {
      "application/vnd.jupyter.widget-view+json": {
       "model_id": "d1f6cc0be2c849a796ad5906fa9caeb1",
       "version_major": 2,
       "version_minor": 0
      },
      "text/plain": [
       "0it [00:00, ?it/s]"
      ]
     },
     "metadata": {},
     "output_type": "display_data"
    },
    {
     "name": "stdout",
     "output_type": "stream",
     "text": [
      "Loss of val: 0.00188\n",
      "[0.0018752036197846838]\n"
     ]
    },
    {
     "data": {
      "application/vnd.jupyter.widget-view+json": {
       "model_id": "5a814223a8784647b3dfcdafea04d12e",
       "version_major": 2,
       "version_minor": 0
      },
      "text/plain": [
       "0it [00:00, ?it/s]"
      ]
     },
     "metadata": {},
     "output_type": "display_data"
    },
    {
     "name": "stdout",
     "output_type": "stream",
     "text": [
      "Loss of val: 0.00187\n",
      "[0.0018752036197846838, 0.0018738413028384947]\n"
     ]
    },
    {
     "data": {
      "application/vnd.jupyter.widget-view+json": {
       "model_id": "9bc136852b5644e68c369bd8563ca9e3",
       "version_major": 2,
       "version_minor": 0
      },
      "text/plain": [
       "0it [00:00, ?it/s]"
      ]
     },
     "metadata": {},
     "output_type": "display_data"
    },
    {
     "name": "stdout",
     "output_type": "stream",
     "text": [
      "Loss of val: 0.00192\n",
      "[0.0018752036197846838, 0.0018738413028384947, 0.0019199931556992654]\n",
      "Break at 2\n",
      "AUROC of val: 0.87480\n",
      "AUROC of test: 0.87100\n",
      "AUROC of gw_test: 0.83178\n",
      "260.8024691358024 %\n"
     ]
    },
    {
     "data": {
      "application/vnd.jupyter.widget-view+json": {
       "model_id": "2f71055bb644410e81b4fccc2d92f934",
       "version_major": 2,
       "version_minor": 0
      },
      "text/plain": [
       "0it [00:00, ?it/s]"
      ]
     },
     "metadata": {},
     "output_type": "display_data"
    },
    {
     "name": "stdout",
     "output_type": "stream",
     "text": [
      "Loss of val: 0.00188\n",
      "[0.0018809812509180974]\n"
     ]
    },
    {
     "data": {
      "application/vnd.jupyter.widget-view+json": {
       "model_id": "2f8fe4cc3aca49c69b5d5fbbde4438da",
       "version_major": 2,
       "version_minor": 0
      },
      "text/plain": [
       "0it [00:00, ?it/s]"
      ]
     },
     "metadata": {},
     "output_type": "display_data"
    },
    {
     "name": "stdout",
     "output_type": "stream",
     "text": [
      "Loss of val: 0.00192\n",
      "[0.0018809812509180974, 0.001916303761876427]\n",
      "Break at 1\n",
      "AUROC of val: 0.87581\n",
      "AUROC of test: 0.86887\n",
      "AUROC of gw_test: 0.81284\n",
      "260.8024691358024 %\n"
     ]
    },
    {
     "data": {
      "application/vnd.jupyter.widget-view+json": {
       "model_id": "10cb617a40f6438aa80e588e30fb4168",
       "version_major": 2,
       "version_minor": 0
      },
      "text/plain": [
       "0it [00:00, ?it/s]"
      ]
     },
     "metadata": {},
     "output_type": "display_data"
    },
    {
     "name": "stdout",
     "output_type": "stream",
     "text": [
      "Loss of val: 0.00192\n",
      "[0.001918367296111641]\n"
     ]
    },
    {
     "data": {
      "application/vnd.jupyter.widget-view+json": {
       "model_id": "cf4e5c53c7154018978340dd8408941a",
       "version_major": 2,
       "version_minor": 0
      },
      "text/plain": [
       "0it [00:00, ?it/s]"
      ]
     },
     "metadata": {},
     "output_type": "display_data"
    },
    {
     "name": "stdout",
     "output_type": "stream",
     "text": [
      "Loss of val: 0.00204\n",
      "[0.001918367296111641, 0.0020383328309147943]\n",
      "Break at 1\n",
      "AUROC of val: 0.86935\n",
      "AUROC of test: 0.85898\n",
      "AUROC of gw_test: 0.81485\n",
      "260.8024691358024 %\n"
     ]
    },
    {
     "data": {
      "application/vnd.jupyter.widget-view+json": {
       "model_id": "b1ce7fd8e8e14f5b872cf2e166a888f3",
       "version_major": 2,
       "version_minor": 0
      },
      "text/plain": [
       "0it [00:00, ?it/s]"
      ]
     },
     "metadata": {},
     "output_type": "display_data"
    },
    {
     "name": "stdout",
     "output_type": "stream",
     "text": [
      "Loss of val: 0.00189\n",
      "[0.0018947609194653171]\n"
     ]
    },
    {
     "data": {
      "application/vnd.jupyter.widget-view+json": {
       "model_id": "00d8f2daed6e45788b3ec4a93ad6180a",
       "version_major": 2,
       "version_minor": 0
      },
      "text/plain": [
       "0it [00:00, ?it/s]"
      ]
     },
     "metadata": {},
     "output_type": "display_data"
    },
    {
     "name": "stdout",
     "output_type": "stream",
     "text": [
      "Loss of val: 0.00203\n",
      "[0.0018947609194653171, 0.0020339635594971194]\n",
      "Break at 1\n",
      "AUROC of val: 0.87144\n",
      "AUROC of test: 0.84992\n",
      "AUROC of gw_test: 0.81073\n",
      "260.8024691358024 %\n"
     ]
    },
    {
     "data": {
      "application/vnd.jupyter.widget-view+json": {
       "model_id": "06c7f91e3c91422cbd4cc92f879a49e6",
       "version_major": 2,
       "version_minor": 0
      },
      "text/plain": [
       "0it [00:00, ?it/s]"
      ]
     },
     "metadata": {},
     "output_type": "display_data"
    },
    {
     "name": "stdout",
     "output_type": "stream",
     "text": [
      "Loss of val: 0.00189\n",
      "[0.0018940045785597389]\n"
     ]
    },
    {
     "data": {
      "application/vnd.jupyter.widget-view+json": {
       "model_id": "14ec19c9bbf14e1392782765e3b89d4c",
       "version_major": 2,
       "version_minor": 0
      },
      "text/plain": [
       "0it [00:00, ?it/s]"
      ]
     },
     "metadata": {},
     "output_type": "display_data"
    },
    {
     "name": "stdout",
     "output_type": "stream",
     "text": [
      "Loss of val: 0.00201\n",
      "[0.0018940045785597389, 0.0020102036540937903]\n",
      "Break at 1\n",
      "AUROC of val: 0.87451\n",
      "AUROC of test: 0.86159\n",
      "AUROC of gw_test: 0.81622\n",
      "260.8024691358024 %\n"
     ]
    },
    {
     "data": {
      "application/vnd.jupyter.widget-view+json": {
       "model_id": "33cbc44afc5741b4bb3a3615a4fb8c13",
       "version_major": 2,
       "version_minor": 0
      },
      "text/plain": [
       "0it [00:00, ?it/s]"
      ]
     },
     "metadata": {},
     "output_type": "display_data"
    },
    {
     "name": "stdout",
     "output_type": "stream",
     "text": [
      "Loss of val: 0.00205\n",
      "[0.00204902691382261]\n"
     ]
    },
    {
     "data": {
      "application/vnd.jupyter.widget-view+json": {
       "model_id": "6b01ecf4550a40698e37f35fe36b7a1f",
       "version_major": 2,
       "version_minor": 0
      },
      "text/plain": [
       "0it [00:00, ?it/s]"
      ]
     },
     "metadata": {},
     "output_type": "display_data"
    },
    {
     "name": "stdout",
     "output_type": "stream",
     "text": [
      "Loss of val: 0.00204\n",
      "[0.00204902691382261, 0.002041112673636907]\n"
     ]
    },
    {
     "data": {
      "application/vnd.jupyter.widget-view+json": {
       "model_id": "01593f25bb7d485e93d7a5bfbf72666d",
       "version_major": 2,
       "version_minor": 0
      },
      "text/plain": [
       "0it [00:00, ?it/s]"
      ]
     },
     "metadata": {},
     "output_type": "display_data"
    },
    {
     "name": "stdout",
     "output_type": "stream",
     "text": [
      "Loss of val: 0.00204\n",
      "[0.00204902691382261, 0.002041112673636907, 0.0020381584714853824]\n"
     ]
    },
    {
     "data": {
      "application/vnd.jupyter.widget-view+json": {
       "model_id": "dbc628afb2734994ae116b878239c5ae",
       "version_major": 2,
       "version_minor": 0
      },
      "text/plain": [
       "0it [00:00, ?it/s]"
      ]
     },
     "metadata": {},
     "output_type": "display_data"
    },
    {
     "name": "stdout",
     "output_type": "stream",
     "text": [
      "Loss of val: 0.00216\n",
      "[0.00204902691382261, 0.002041112673636907, 0.0020381584714853824, 0.002159713341588195]\n",
      "Break at 3\n",
      "AUROC of val: 0.85829\n",
      "AUROC of test: 0.85817\n",
      "AUROC of gw_test: 0.81403\n",
      "260.8024691358024 %\n"
     ]
    },
    {
     "data": {
      "application/vnd.jupyter.widget-view+json": {
       "model_id": "bb6ba11ced3f4649a0b782df62255203",
       "version_major": 2,
       "version_minor": 0
      },
      "text/plain": [
       "0it [00:00, ?it/s]"
      ]
     },
     "metadata": {},
     "output_type": "display_data"
    },
    {
     "name": "stdout",
     "output_type": "stream",
     "text": [
      "Loss of val: 0.00206\n",
      "[0.00205794182762633]\n"
     ]
    },
    {
     "data": {
      "application/vnd.jupyter.widget-view+json": {
       "model_id": "966e8c5ffa7341a2a7d83c5191693ff6",
       "version_major": 2,
       "version_minor": 0
      },
      "text/plain": [
       "0it [00:00, ?it/s]"
      ]
     },
     "metadata": {},
     "output_type": "display_data"
    },
    {
     "name": "stdout",
     "output_type": "stream",
     "text": [
      "Loss of val: 0.00208\n",
      "[0.00205794182762633, 0.0020842058129194626]\n",
      "Break at 1\n",
      "AUROC of val: 0.85014\n",
      "AUROC of test: 0.84922\n",
      "AUROC of gw_test: 0.79414\n",
      "260.8024691358024 %\n"
     ]
    },
    {
     "data": {
      "application/vnd.jupyter.widget-view+json": {
       "model_id": "7e9379f859ca44c3a4c3014cdb395627",
       "version_major": 2,
       "version_minor": 0
      },
      "text/plain": [
       "0it [00:00, ?it/s]"
      ]
     },
     "metadata": {},
     "output_type": "display_data"
    },
    {
     "name": "stdout",
     "output_type": "stream",
     "text": [
      "Loss of val: 0.00206\n",
      "[0.002058984138040993]\n"
     ]
    },
    {
     "data": {
      "application/vnd.jupyter.widget-view+json": {
       "model_id": "0f65a5c2b7af4b5a8f1b8a0f21c49507",
       "version_major": 2,
       "version_minor": 0
      },
      "text/plain": [
       "0it [00:00, ?it/s]"
      ]
     },
     "metadata": {},
     "output_type": "display_data"
    },
    {
     "name": "stdout",
     "output_type": "stream",
     "text": [
      "Loss of val: 0.00205\n",
      "[0.002058984138040993, 0.0020546447107058076]\n"
     ]
    },
    {
     "data": {
      "application/vnd.jupyter.widget-view+json": {
       "model_id": "368e814b233443efa56aa9860f0c7946",
       "version_major": 2,
       "version_minor": 0
      },
      "text/plain": [
       "0it [00:00, ?it/s]"
      ]
     },
     "metadata": {},
     "output_type": "display_data"
    },
    {
     "name": "stdout",
     "output_type": "stream",
     "text": [
      "Loss of val: 0.00214\n",
      "[0.002058984138040993, 0.0020546447107058076, 0.0021354884295506408]\n",
      "Break at 2\n",
      "AUROC of val: 0.84948\n",
      "AUROC of test: 0.84948\n",
      "AUROC of gw_test: 0.78982\n",
      "260.8024691358024 %\n"
     ]
    },
    {
     "data": {
      "application/vnd.jupyter.widget-view+json": {
       "model_id": "40f20b22690f48d5a24360f183ee99a1",
       "version_major": 2,
       "version_minor": 0
      },
      "text/plain": [
       "0it [00:00, ?it/s]"
      ]
     },
     "metadata": {},
     "output_type": "display_data"
    },
    {
     "name": "stdout",
     "output_type": "stream",
     "text": [
      "Loss of val: 0.00193\n",
      "[0.0019333177768322161]\n"
     ]
    },
    {
     "data": {
      "application/vnd.jupyter.widget-view+json": {
       "model_id": "9c46491d8040486cbe867958f4d94423",
       "version_major": 2,
       "version_minor": 0
      },
      "text/plain": [
       "0it [00:00, ?it/s]"
      ]
     },
     "metadata": {},
     "output_type": "display_data"
    },
    {
     "name": "stdout",
     "output_type": "stream",
     "text": [
      "Loss of val: 0.00200\n",
      "[0.0019333177768322161, 0.0020007059693222494]\n",
      "Break at 1\n",
      "AUROC of val: 0.86104\n",
      "AUROC of test: 0.85564\n",
      "AUROC of gw_test: 0.80629\n",
      "260.8024691358024 %\n"
     ]
    },
    {
     "data": {
      "application/vnd.jupyter.widget-view+json": {
       "model_id": "56da1524ef7e4f3f99dfac7347bb78e9",
       "version_major": 2,
       "version_minor": 0
      },
      "text/plain": [
       "0it [00:00, ?it/s]"
      ]
     },
     "metadata": {},
     "output_type": "display_data"
    },
    {
     "name": "stdout",
     "output_type": "stream",
     "text": [
      "Loss of val: 0.00202\n",
      "[0.0020150296912974913]\n"
     ]
    },
    {
     "data": {
      "application/vnd.jupyter.widget-view+json": {
       "model_id": "f9b6f5dfdfef4a51976578c78d8ed694",
       "version_major": 2,
       "version_minor": 0
      },
      "text/plain": [
       "0it [00:00, ?it/s]"
      ]
     },
     "metadata": {},
     "output_type": "display_data"
    },
    {
     "name": "stdout",
     "output_type": "stream",
     "text": [
      "Loss of val: 0.00202\n",
      "[0.0020150296912974913, 0.002021831960704105]\n",
      "Break at 1\n",
      "AUROC of val: 0.86677\n",
      "AUROC of test: 0.86485\n",
      "AUROC of gw_test: 0.80298\n",
      "260.8024691358024 %\n"
     ]
    },
    {
     "data": {
      "application/vnd.jupyter.widget-view+json": {
       "model_id": "5011eebcf12642e39f00ec27848b6026",
       "version_major": 2,
       "version_minor": 0
      },
      "text/plain": [
       "0it [00:00, ?it/s]"
      ]
     },
     "metadata": {},
     "output_type": "display_data"
    },
    {
     "name": "stdout",
     "output_type": "stream",
     "text": [
      "Loss of val: 0.00196\n",
      "[0.001962662549303325]\n"
     ]
    },
    {
     "data": {
      "application/vnd.jupyter.widget-view+json": {
       "model_id": "c7f8e871dd5c40cd979d951dd7899b10",
       "version_major": 2,
       "version_minor": 0
      },
      "text/plain": [
       "0it [00:00, ?it/s]"
      ]
     },
     "metadata": {},
     "output_type": "display_data"
    },
    {
     "name": "stdout",
     "output_type": "stream",
     "text": [
      "Loss of val: 0.00192\n",
      "[0.001962662549303325, 0.0019210670124848923]\n"
     ]
    },
    {
     "data": {
      "application/vnd.jupyter.widget-view+json": {
       "model_id": "65eadb14fd6046cb9a084d1810b0dd14",
       "version_major": 2,
       "version_minor": 0
      },
      "text/plain": [
       "0it [00:00, ?it/s]"
      ]
     },
     "metadata": {},
     "output_type": "display_data"
    },
    {
     "name": "stdout",
     "output_type": "stream",
     "text": [
      "Loss of val: 0.00217\n",
      "[0.001962662549303325, 0.0019210670124848923, 0.0021713993547337923]\n",
      "Break at 2\n",
      "AUROC of val: 0.86885\n",
      "AUROC of test: 0.85914\n",
      "AUROC of gw_test: 0.81424\n",
      "260.8024691358024 %\n"
     ]
    },
    {
     "data": {
      "application/vnd.jupyter.widget-view+json": {
       "model_id": "19ed0e821c5d4c53961c7095b3d11d14",
       "version_major": 2,
       "version_minor": 0
      },
      "text/plain": [
       "0it [00:00, ?it/s]"
      ]
     },
     "metadata": {},
     "output_type": "display_data"
    },
    {
     "name": "stdout",
     "output_type": "stream",
     "text": [
      "Loss of val: 0.00198\n",
      "[0.0019765031449925988]\n"
     ]
    },
    {
     "data": {
      "application/vnd.jupyter.widget-view+json": {
       "model_id": "2526db9527cc4edcbb61b3d5d0a997be",
       "version_major": 2,
       "version_minor": 0
      },
      "text/plain": [
       "0it [00:00, ?it/s]"
      ]
     },
     "metadata": {},
     "output_type": "display_data"
    },
    {
     "name": "stdout",
     "output_type": "stream",
     "text": [
      "Loss of val: 0.00200\n",
      "[0.0019765031449925988, 0.00200201867554965]\n",
      "Break at 1\n",
      "AUROC of val: 0.85932\n",
      "AUROC of test: 0.84823\n",
      "AUROC of gw_test: 0.80076\n",
      "260.8024691358024 %\n"
     ]
    },
    {
     "data": {
      "application/vnd.jupyter.widget-view+json": {
       "model_id": "d1848887b29e4607b0dccb923146b25e",
       "version_major": 2,
       "version_minor": 0
      },
      "text/plain": [
       "0it [00:00, ?it/s]"
      ]
     },
     "metadata": {},
     "output_type": "display_data"
    },
    {
     "name": "stdout",
     "output_type": "stream",
     "text": [
      "Loss of val: 0.00196\n",
      "[0.001958227087559954]\n"
     ]
    },
    {
     "data": {
      "application/vnd.jupyter.widget-view+json": {
       "model_id": "f6a25073329b48b4b392b7df05696d05",
       "version_major": 2,
       "version_minor": 0
      },
      "text/plain": [
       "0it [00:00, ?it/s]"
      ]
     },
     "metadata": {},
     "output_type": "display_data"
    },
    {
     "name": "stdout",
     "output_type": "stream",
     "text": [
      "Loss of val: 0.00221\n",
      "[0.001958227087559954, 0.002205147070244127]\n",
      "Break at 1\n",
      "AUROC of val: 0.86535\n",
      "AUROC of test: 0.84686\n",
      "AUROC of gw_test: 0.80038\n",
      "260.8024691358024 %\n"
     ]
    },
    {
     "data": {
      "application/vnd.jupyter.widget-view+json": {
       "model_id": "fc4890022bb64061ba9fa471c804c438",
       "version_major": 2,
       "version_minor": 0
      },
      "text/plain": [
       "0it [00:00, ?it/s]"
      ]
     },
     "metadata": {},
     "output_type": "display_data"
    },
    {
     "name": "stdout",
     "output_type": "stream",
     "text": [
      "Loss of val: 0.00199\n",
      "[0.001986609014857704]\n"
     ]
    },
    {
     "data": {
      "application/vnd.jupyter.widget-view+json": {
       "model_id": "85f77e36dd69413fb0cd0f9850e96e96",
       "version_major": 2,
       "version_minor": 0
      },
      "text/plain": [
       "0it [00:00, ?it/s]"
      ]
     },
     "metadata": {},
     "output_type": "display_data"
    },
    {
     "name": "stdout",
     "output_type": "stream",
     "text": [
      "Loss of val: 0.00198\n",
      "[0.001986609014857704, 0.0019791922788481575]\n"
     ]
    },
    {
     "data": {
      "application/vnd.jupyter.widget-view+json": {
       "model_id": "ff0bb3e6a2844385b93590e7c9870339",
       "version_major": 2,
       "version_minor": 0
      },
      "text/plain": [
       "0it [00:00, ?it/s]"
      ]
     },
     "metadata": {},
     "output_type": "display_data"
    },
    {
     "name": "stdout",
     "output_type": "stream",
     "text": [
      "Loss of val: 0.00207\n",
      "[0.001986609014857704, 0.0019791922788481575, 0.0020668297565037204]\n",
      "Break at 2\n",
      "AUROC of val: 0.86390\n",
      "AUROC of test: 0.86357\n",
      "AUROC of gw_test: 0.82054\n",
      "260.8024691358024 %\n"
     ]
    },
    {
     "data": {
      "application/vnd.jupyter.widget-view+json": {
       "model_id": "3ed26afc20314fd8abb5ee5f1f185615",
       "version_major": 2,
       "version_minor": 0
      },
      "text/plain": [
       "0it [00:00, ?it/s]"
      ]
     },
     "metadata": {},
     "output_type": "display_data"
    },
    {
     "name": "stdout",
     "output_type": "stream",
     "text": [
      "Loss of val: 0.00172\n",
      "[0.0017231425726289913]\n"
     ]
    },
    {
     "data": {
      "application/vnd.jupyter.widget-view+json": {
       "model_id": "ed0e816cee6b4132892f919803c55dcc",
       "version_major": 2,
       "version_minor": 0
      },
      "text/plain": [
       "0it [00:00, ?it/s]"
      ]
     },
     "metadata": {},
     "output_type": "display_data"
    },
    {
     "name": "stdout",
     "output_type": "stream",
     "text": [
      "Loss of val: 0.00182\n",
      "[0.0017231425726289913, 0.001816894313548946]\n",
      "Break at 1\n",
      "AUROC of val: 0.89319\n",
      "AUROC of test: 0.87369\n",
      "AUROC of gw_test: 0.84147\n",
      "Currently best params: \n",
      "{'block_size': 4, 'dropout': 0, 'lr': 0.01, 'n_embd': 16, 'num_heads': 2}\n",
      "260.8024691358024 %\n"
     ]
    },
    {
     "data": {
      "application/vnd.jupyter.widget-view+json": {
       "model_id": "6ab5a88bd70a4010941cb8c495399be0",
       "version_major": 2,
       "version_minor": 0
      },
      "text/plain": [
       "0it [00:00, ?it/s]"
      ]
     },
     "metadata": {},
     "output_type": "display_data"
    },
    {
     "name": "stdout",
     "output_type": "stream",
     "text": [
      "Loss of val: 0.00174\n",
      "[0.0017439874344411296]\n"
     ]
    },
    {
     "data": {
      "application/vnd.jupyter.widget-view+json": {
       "model_id": "addb82d44a274097b7770fa237e10983",
       "version_major": 2,
       "version_minor": 0
      },
      "text/plain": [
       "0it [00:00, ?it/s]"
      ]
     },
     "metadata": {},
     "output_type": "display_data"
    },
    {
     "name": "stdout",
     "output_type": "stream",
     "text": [
      "Loss of val: 0.00180\n",
      "[0.0017439874344411296, 0.001800148702336173]\n",
      "Break at 1\n",
      "AUROC of val: 0.88969\n",
      "AUROC of test: 0.87643\n",
      "AUROC of gw_test: 0.84090\n",
      "Currently best params: \n",
      "{'block_size': 4, 'dropout': 0, 'lr': 0.01, 'n_embd': 16, 'num_heads': 4}\n",
      "260.8024691358024 %\n"
     ]
    },
    {
     "data": {
      "application/vnd.jupyter.widget-view+json": {
       "model_id": "562737455fda465392e112656ffb8a33",
       "version_major": 2,
       "version_minor": 0
      },
      "text/plain": [
       "0it [00:00, ?it/s]"
      ]
     },
     "metadata": {},
     "output_type": "display_data"
    },
    {
     "name": "stdout",
     "output_type": "stream",
     "text": [
      "Loss of val: 0.00175\n",
      "[0.001753024453089568]\n"
     ]
    },
    {
     "data": {
      "application/vnd.jupyter.widget-view+json": {
       "model_id": "bc463b1d3f4a463d86d52a79e2616adc",
       "version_major": 2,
       "version_minor": 0
      },
      "text/plain": [
       "0it [00:00, ?it/s]"
      ]
     },
     "metadata": {},
     "output_type": "display_data"
    },
    {
     "name": "stdout",
     "output_type": "stream",
     "text": [
      "Loss of val: 0.00178\n",
      "[0.001753024453089568, 0.0017807089861227483]\n",
      "Break at 1\n",
      "AUROC of val: 0.88974\n",
      "AUROC of test: 0.87680\n",
      "AUROC of gw_test: 0.83234\n",
      "Currently best params: \n",
      "{'block_size': 4, 'dropout': 0, 'lr': 0.01, 'n_embd': 16, 'num_heads': 8}\n",
      "260.8024691358024 %\n"
     ]
    },
    {
     "data": {
      "application/vnd.jupyter.widget-view+json": {
       "model_id": "40317731f1e5447288453b6dce145c4a",
       "version_major": 2,
       "version_minor": 0
      },
      "text/plain": [
       "0it [00:00, ?it/s]"
      ]
     },
     "metadata": {},
     "output_type": "display_data"
    },
    {
     "name": "stdout",
     "output_type": "stream",
     "text": [
      "Loss of val: 0.00182\n",
      "[0.0018173638170125128]\n"
     ]
    },
    {
     "data": {
      "application/vnd.jupyter.widget-view+json": {
       "model_id": "bc29cefc51354354a77b99069dfbe084",
       "version_major": 2,
       "version_minor": 0
      },
      "text/plain": [
       "0it [00:00, ?it/s]"
      ]
     },
     "metadata": {},
     "output_type": "display_data"
    },
    {
     "name": "stdout",
     "output_type": "stream",
     "text": [
      "Loss of val: 0.00184\n",
      "[0.0018173638170125128, 0.0018362187315320848]\n",
      "Break at 1\n",
      "AUROC of val: 0.88485\n",
      "AUROC of test: 0.87594\n",
      "AUROC of gw_test: 0.83497\n",
      "260.8024691358024 %\n"
     ]
    },
    {
     "data": {
      "application/vnd.jupyter.widget-view+json": {
       "model_id": "3c6a29fcf30844509ea629ebd897d270",
       "version_major": 2,
       "version_minor": 0
      },
      "text/plain": [
       "0it [00:00, ?it/s]"
      ]
     },
     "metadata": {},
     "output_type": "display_data"
    },
    {
     "name": "stdout",
     "output_type": "stream",
     "text": [
      "Loss of val: 0.00176\n",
      "[0.0017628671601044343]\n"
     ]
    },
    {
     "data": {
      "application/vnd.jupyter.widget-view+json": {
       "model_id": "e6e464801ed7435a94bd29d6e737d55b",
       "version_major": 2,
       "version_minor": 0
      },
      "text/plain": [
       "0it [00:00, ?it/s]"
      ]
     },
     "metadata": {},
     "output_type": "display_data"
    },
    {
     "name": "stdout",
     "output_type": "stream",
     "text": [
      "Loss of val: 0.00186\n",
      "[0.0017628671601044343, 0.0018647377541402886]\n",
      "Break at 1\n",
      "AUROC of val: 0.89087\n",
      "AUROC of test: 0.87358\n",
      "AUROC of gw_test: 0.83684\n",
      "260.8024691358024 %\n"
     ]
    },
    {
     "data": {
      "application/vnd.jupyter.widget-view+json": {
       "model_id": "94e6aa0fb7234d4fb2dc0d33ffce31b9",
       "version_major": 2,
       "version_minor": 0
      },
      "text/plain": [
       "0it [00:00, ?it/s]"
      ]
     },
     "metadata": {},
     "output_type": "display_data"
    },
    {
     "name": "stdout",
     "output_type": "stream",
     "text": [
      "Loss of val: 0.00174\n",
      "[0.001744008677635623]\n"
     ]
    },
    {
     "data": {
      "application/vnd.jupyter.widget-view+json": {
       "model_id": "d29768159f064485b32360a37bf32389",
       "version_major": 2,
       "version_minor": 0
      },
      "text/plain": [
       "0it [00:00, ?it/s]"
      ]
     },
     "metadata": {},
     "output_type": "display_data"
    },
    {
     "name": "stdout",
     "output_type": "stream",
     "text": [
      "Loss of val: 0.00184\n",
      "[0.001744008677635623, 0.001835897765929031]\n",
      "Break at 1\n",
      "AUROC of val: 0.89204\n",
      "AUROC of test: 0.87446\n",
      "AUROC of gw_test: 0.84491\n",
      "260.8024691358024 %\n"
     ]
    },
    {
     "data": {
      "application/vnd.jupyter.widget-view+json": {
       "model_id": "d3a9d6cbe0844f56836b66c6511a7913",
       "version_major": 2,
       "version_minor": 0
      },
      "text/plain": [
       "0it [00:00, ?it/s]"
      ]
     },
     "metadata": {},
     "output_type": "display_data"
    },
    {
     "name": "stdout",
     "output_type": "stream",
     "text": [
      "Loss of val: 0.00180\n",
      "[0.0018024254763485622]\n"
     ]
    },
    {
     "data": {
      "application/vnd.jupyter.widget-view+json": {
       "model_id": "9cb64b8f8a7644c0960fb50a2918e73e",
       "version_major": 2,
       "version_minor": 0
      },
      "text/plain": [
       "0it [00:00, ?it/s]"
      ]
     },
     "metadata": {},
     "output_type": "display_data"
    },
    {
     "name": "stdout",
     "output_type": "stream",
     "text": [
      "Loss of val: 0.00184\n",
      "[0.0018024254763485622, 0.0018445350738127057]\n",
      "Break at 1\n",
      "AUROC of val: 0.88615\n",
      "AUROC of test: 0.86893\n",
      "AUROC of gw_test: 0.83925\n",
      "260.8024691358024 %\n"
     ]
    },
    {
     "data": {
      "application/vnd.jupyter.widget-view+json": {
       "model_id": "10c68f49bd15445e9d4d5ab655597c6e",
       "version_major": 2,
       "version_minor": 0
      },
      "text/plain": [
       "0it [00:00, ?it/s]"
      ]
     },
     "metadata": {},
     "output_type": "display_data"
    },
    {
     "name": "stdout",
     "output_type": "stream",
     "text": [
      "Loss of val: 0.00179\n",
      "[0.0017935312360525413]\n"
     ]
    },
    {
     "data": {
      "application/vnd.jupyter.widget-view+json": {
       "model_id": "f2d013dcbfe64ab8a9d7642c750c4397",
       "version_major": 2,
       "version_minor": 0
      },
      "text/plain": [
       "0it [00:00, ?it/s]"
      ]
     },
     "metadata": {},
     "output_type": "display_data"
    },
    {
     "name": "stdout",
     "output_type": "stream",
     "text": [
      "Loss of val: 0.00182\n",
      "[0.0017935312360525413, 0.0018194822000376643]\n",
      "Break at 1\n",
      "AUROC of val: 0.88968\n",
      "AUROC of test: 0.87303\n",
      "AUROC of gw_test: 0.84716\n",
      "260.8024691358024 %\n"
     ]
    },
    {
     "data": {
      "application/vnd.jupyter.widget-view+json": {
       "model_id": "f6110eec5aa043e08fa8e3a6fb22a366",
       "version_major": 2,
       "version_minor": 0
      },
      "text/plain": [
       "0it [00:00, ?it/s]"
      ]
     },
     "metadata": {},
     "output_type": "display_data"
    },
    {
     "name": "stdout",
     "output_type": "stream",
     "text": [
      "Loss of val: 0.00186\n",
      "[0.0018589234624342534]\n"
     ]
    },
    {
     "data": {
      "application/vnd.jupyter.widget-view+json": {
       "model_id": "9c09b8786c7349b5a00e91232a0a74b8",
       "version_major": 2,
       "version_minor": 0
      },
      "text/plain": [
       "0it [00:00, ?it/s]"
      ]
     },
     "metadata": {},
     "output_type": "display_data"
    },
    {
     "name": "stdout",
     "output_type": "stream",
     "text": [
      "Loss of val: 0.00185\n",
      "[0.0018589234624342534, 0.0018482354841196996]\n"
     ]
    },
    {
     "data": {
      "application/vnd.jupyter.widget-view+json": {
       "model_id": "158b752f0d2c49fb9c39c22ad7e17da7",
       "version_major": 2,
       "version_minor": 0
      },
      "text/plain": [
       "0it [00:00, ?it/s]"
      ]
     },
     "metadata": {},
     "output_type": "display_data"
    },
    {
     "name": "stdout",
     "output_type": "stream",
     "text": [
      "Loss of val: 0.00189\n",
      "[0.0018589234624342534, 0.0018482354841196996, 0.0018910582242035636]\n",
      "Break at 2\n",
      "AUROC of val: 0.88908\n",
      "AUROC of test: 0.87647\n",
      "AUROC of gw_test: 0.85005\n",
      "260.8024691358024 %\n"
     ]
    },
    {
     "data": {
      "application/vnd.jupyter.widget-view+json": {
       "model_id": "7e2cec3505cf4c139183f4a7b282d38a",
       "version_major": 2,
       "version_minor": 0
      },
      "text/plain": [
       "0it [00:00, ?it/s]"
      ]
     },
     "metadata": {},
     "output_type": "display_data"
    },
    {
     "name": "stdout",
     "output_type": "stream",
     "text": [
      "Loss of val: 0.00183\n",
      "[0.0018306897950666097]\n"
     ]
    },
    {
     "data": {
      "application/vnd.jupyter.widget-view+json": {
       "model_id": "260501e7c7974b639679f3c52f95e255",
       "version_major": 2,
       "version_minor": 0
      },
      "text/plain": [
       "0it [00:00, ?it/s]"
      ]
     },
     "metadata": {},
     "output_type": "display_data"
    },
    {
     "name": "stdout",
     "output_type": "stream",
     "text": [
      "Loss of val: 0.00192\n",
      "[0.0018306897950666097, 0.0019150683874570207]\n",
      "Break at 1\n",
      "AUROC of val: 0.87765\n",
      "AUROC of test: 0.86786\n",
      "AUROC of gw_test: 0.82138\n",
      "260.8024691358024 %\n"
     ]
    },
    {
     "data": {
      "application/vnd.jupyter.widget-view+json": {
       "model_id": "5950af0439d1440299a8b6f494f13389",
       "version_major": 2,
       "version_minor": 0
      },
      "text/plain": [
       "0it [00:00, ?it/s]"
      ]
     },
     "metadata": {},
     "output_type": "display_data"
    },
    {
     "name": "stdout",
     "output_type": "stream",
     "text": [
      "Loss of val: 0.00185\n",
      "[0.0018456388912140792]\n"
     ]
    },
    {
     "data": {
      "application/vnd.jupyter.widget-view+json": {
       "model_id": "8fe19a7b3b2d400b89c6a103de0f91a0",
       "version_major": 2,
       "version_minor": 0
      },
      "text/plain": [
       "0it [00:00, ?it/s]"
      ]
     },
     "metadata": {},
     "output_type": "display_data"
    },
    {
     "name": "stdout",
     "output_type": "stream",
     "text": [
      "Loss of val: 0.00195\n",
      "[0.0018456388912140792, 0.0019471103678736436]\n",
      "Break at 1\n",
      "AUROC of val: 0.87732\n",
      "AUROC of test: 0.86378\n",
      "AUROC of gw_test: 0.82256\n",
      "260.8024691358024 %\n"
     ]
    },
    {
     "data": {
      "application/vnd.jupyter.widget-view+json": {
       "model_id": "f4d8d8cf46164eca98a18afce140c9f4",
       "version_major": 2,
       "version_minor": 0
      },
      "text/plain": [
       "0it [00:00, ?it/s]"
      ]
     },
     "metadata": {},
     "output_type": "display_data"
    },
    {
     "name": "stdout",
     "output_type": "stream",
     "text": [
      "Loss of val: 0.00191\n",
      "[0.0019113137793097847]\n"
     ]
    },
    {
     "data": {
      "application/vnd.jupyter.widget-view+json": {
       "model_id": "86cb61fd58014bf0940bd9fdcaaa19d4",
       "version_major": 2,
       "version_minor": 0
      },
      "text/plain": [
       "0it [00:00, ?it/s]"
      ]
     },
     "metadata": {},
     "output_type": "display_data"
    },
    {
     "name": "stdout",
     "output_type": "stream",
     "text": [
      "Loss of val: 0.00182\n",
      "[0.0019113137793097847, 0.0018186188299662844]\n"
     ]
    },
    {
     "data": {
      "application/vnd.jupyter.widget-view+json": {
       "model_id": "8adc4b9d7a464458900f1e53241a755c",
       "version_major": 2,
       "version_minor": 0
      },
      "text/plain": [
       "0it [00:00, ?it/s]"
      ]
     },
     "metadata": {},
     "output_type": "display_data"
    },
    {
     "name": "stdout",
     "output_type": "stream",
     "text": [
      "Loss of val: 0.00194\n",
      "[0.0019113137793097847, 0.0018186188299662844, 0.0019406207484487293]\n",
      "Break at 2\n",
      "AUROC of val: 0.88520\n",
      "AUROC of test: 0.87278\n",
      "AUROC of gw_test: 0.83154\n",
      "260.8024691358024 %\n"
     ]
    },
    {
     "data": {
      "application/vnd.jupyter.widget-view+json": {
       "model_id": "220379314fe84756a64cf5f4df2e1c93",
       "version_major": 2,
       "version_minor": 0
      },
      "text/plain": [
       "0it [00:00, ?it/s]"
      ]
     },
     "metadata": {},
     "output_type": "display_data"
    },
    {
     "name": "stdout",
     "output_type": "stream",
     "text": [
      "Loss of val: 0.00182\n",
      "[0.0018179072465784735]\n"
     ]
    },
    {
     "data": {
      "application/vnd.jupyter.widget-view+json": {
       "model_id": "b4db9aa7b9314bfda7c2ef1fceb14c04",
       "version_major": 2,
       "version_minor": 0
      },
      "text/plain": [
       "0it [00:00, ?it/s]"
      ]
     },
     "metadata": {},
     "output_type": "display_data"
    },
    {
     "name": "stdout",
     "output_type": "stream",
     "text": [
      "Loss of val: 0.00190\n",
      "[0.0018179072465784735, 0.0018978705972975125]\n",
      "Break at 1\n",
      "AUROC of val: 0.88292\n",
      "AUROC of test: 0.87134\n",
      "AUROC of gw_test: 0.82675\n",
      "260.8024691358024 %\n"
     ]
    },
    {
     "data": {
      "application/vnd.jupyter.widget-view+json": {
       "model_id": "1522ad7030314e4384577efda61f8479",
       "version_major": 2,
       "version_minor": 0
      },
      "text/plain": [
       "0it [00:00, ?it/s]"
      ]
     },
     "metadata": {},
     "output_type": "display_data"
    },
    {
     "name": "stdout",
     "output_type": "stream",
     "text": [
      "Loss of val: 0.00186\n",
      "[0.0018620578286693418]\n"
     ]
    },
    {
     "data": {
      "application/vnd.jupyter.widget-view+json": {
       "model_id": "7f38b85b1d86436facac91b089cfa236",
       "version_major": 2,
       "version_minor": 0
      },
      "text/plain": [
       "0it [00:00, ?it/s]"
      ]
     },
     "metadata": {},
     "output_type": "display_data"
    },
    {
     "name": "stdout",
     "output_type": "stream",
     "text": [
      "Loss of val: 0.00194\n",
      "[0.0018620578286693418, 0.0019382023633916332]\n",
      "Break at 1\n",
      "AUROC of val: 0.87397\n",
      "AUROC of test: 0.86484\n",
      "AUROC of gw_test: 0.82189\n",
      "260.8024691358024 %\n"
     ]
    },
    {
     "data": {
      "application/vnd.jupyter.widget-view+json": {
       "model_id": "4ca1c0c319d940aabb9de47dd16ce4eb",
       "version_major": 2,
       "version_minor": 0
      },
      "text/plain": [
       "0it [00:00, ?it/s]"
      ]
     },
     "metadata": {},
     "output_type": "display_data"
    },
    {
     "name": "stdout",
     "output_type": "stream",
     "text": [
      "Loss of val: 0.00186\n",
      "[0.0018565062060285577]\n"
     ]
    },
    {
     "data": {
      "application/vnd.jupyter.widget-view+json": {
       "model_id": "b4f8cc4676224e3db7e410859bae4126",
       "version_major": 2,
       "version_minor": 0
      },
      "text/plain": [
       "0it [00:00, ?it/s]"
      ]
     },
     "metadata": {},
     "output_type": "display_data"
    },
    {
     "name": "stdout",
     "output_type": "stream",
     "text": [
      "Loss of val: 0.00192\n",
      "[0.0018565062060285577, 0.001923361875393274]\n",
      "Break at 1\n",
      "AUROC of val: 0.88213\n",
      "AUROC of test: 0.86547\n",
      "AUROC of gw_test: 0.83033\n",
      "260.8024691358024 %\n"
     ]
    },
    {
     "data": {
      "application/vnd.jupyter.widget-view+json": {
       "model_id": "3973c0a539734f809631ae27ce07813d",
       "version_major": 2,
       "version_minor": 0
      },
      "text/plain": [
       "0it [00:00, ?it/s]"
      ]
     },
     "metadata": {},
     "output_type": "display_data"
    },
    {
     "name": "stdout",
     "output_type": "stream",
     "text": [
      "Loss of val: 0.00187\n",
      "[0.0018657312450207945]\n"
     ]
    },
    {
     "data": {
      "application/vnd.jupyter.widget-view+json": {
       "model_id": "d855d4d5186d4077bbd0cd372f3b810f",
       "version_major": 2,
       "version_minor": 0
      },
      "text/plain": [
       "0it [00:00, ?it/s]"
      ]
     },
     "metadata": {},
     "output_type": "display_data"
    },
    {
     "name": "stdout",
     "output_type": "stream",
     "text": [
      "Loss of val: 0.00199\n",
      "[0.0018657312450207945, 0.001985721115523278]\n",
      "Break at 1\n",
      "AUROC of val: 0.87821\n",
      "AUROC of test: 0.85477\n",
      "AUROC of gw_test: 0.82080\n",
      "260.8024691358024 %\n"
     ]
    },
    {
     "data": {
      "application/vnd.jupyter.widget-view+json": {
       "model_id": "95a2220fa43742fd85997faa17af7aa4",
       "version_major": 2,
       "version_minor": 0
      },
      "text/plain": [
       "0it [00:00, ?it/s]"
      ]
     },
     "metadata": {},
     "output_type": "display_data"
    },
    {
     "name": "stdout",
     "output_type": "stream",
     "text": [
      "Loss of val: 0.00182\n",
      "[0.0018227854511785476]\n"
     ]
    },
    {
     "data": {
      "application/vnd.jupyter.widget-view+json": {
       "model_id": "8e38195c6be441c5869fa57999004261",
       "version_major": 2,
       "version_minor": 0
      },
      "text/plain": [
       "0it [00:00, ?it/s]"
      ]
     },
     "metadata": {},
     "output_type": "display_data"
    },
    {
     "name": "stdout",
     "output_type": "stream",
     "text": [
      "Loss of val: 0.00196\n",
      "[0.0018227854511785476, 0.001955137027664236]\n",
      "Break at 1\n",
      "AUROC of val: 0.88429\n",
      "AUROC of test: 0.86169\n",
      "AUROC of gw_test: 0.83005\n",
      "260.8024691358024 %\n"
     ]
    },
    {
     "data": {
      "application/vnd.jupyter.widget-view+json": {
       "model_id": "67969873b8244d02b8d6fa8f4463f8e3",
       "version_major": 2,
       "version_minor": 0
      },
      "text/plain": [
       "0it [00:00, ?it/s]"
      ]
     },
     "metadata": {},
     "output_type": "display_data"
    },
    {
     "name": "stdout",
     "output_type": "stream",
     "text": [
      "Loss of val: 0.00182\n",
      "[0.0018204023573577617]\n"
     ]
    },
    {
     "data": {
      "application/vnd.jupyter.widget-view+json": {
       "model_id": "e18a9ddb48dc437b8ec5a89aa46d3e18",
       "version_major": 2,
       "version_minor": 0
      },
      "text/plain": [
       "0it [00:00, ?it/s]"
      ]
     },
     "metadata": {},
     "output_type": "display_data"
    },
    {
     "name": "stdout",
     "output_type": "stream",
     "text": [
      "Loss of val: 0.00198\n",
      "[0.0018204023573577617, 0.0019835374817747213]\n",
      "Break at 1\n",
      "AUROC of val: 0.88052\n",
      "AUROC of test: 0.86387\n",
      "AUROC of gw_test: 0.82799\n",
      "260.8024691358024 %\n"
     ]
    },
    {
     "data": {
      "application/vnd.jupyter.widget-view+json": {
       "model_id": "fcf3f2b96bff4484a6304d2879051d3d",
       "version_major": 2,
       "version_minor": 0
      },
      "text/plain": [
       "0it [00:00, ?it/s]"
      ]
     },
     "metadata": {},
     "output_type": "display_data"
    },
    {
     "name": "stdout",
     "output_type": "stream",
     "text": [
      "Loss of val: 0.00208\n",
      "[0.002077926552389024]\n"
     ]
    },
    {
     "data": {
      "application/vnd.jupyter.widget-view+json": {
       "model_id": "40004033bb5443d1bd9eef85197d8139",
       "version_major": 2,
       "version_minor": 0
      },
      "text/plain": [
       "0it [00:00, ?it/s]"
      ]
     },
     "metadata": {},
     "output_type": "display_data"
    },
    {
     "name": "stdout",
     "output_type": "stream",
     "text": [
      "Loss of val: 0.00208\n",
      "[0.002077926552389024, 0.0020835697174054206]\n",
      "Break at 1\n",
      "AUROC of val: 0.85859\n",
      "AUROC of test: 0.84661\n",
      "AUROC of gw_test: 0.79744\n",
      "260.8024691358024 %\n"
     ]
    },
    {
     "data": {
      "application/vnd.jupyter.widget-view+json": {
       "model_id": "6adb181f57d540dfb927a5b6ae52729d",
       "version_major": 2,
       "version_minor": 0
      },
      "text/plain": [
       "0it [00:00, ?it/s]"
      ]
     },
     "metadata": {},
     "output_type": "display_data"
    },
    {
     "name": "stdout",
     "output_type": "stream",
     "text": [
      "Loss of val: 0.00199\n",
      "[0.001986156400251528]\n"
     ]
    },
    {
     "data": {
      "application/vnd.jupyter.widget-view+json": {
       "model_id": "89c07b4966f44aad9ce6c2225e3f526d",
       "version_major": 2,
       "version_minor": 0
      },
      "text/plain": [
       "0it [00:00, ?it/s]"
      ]
     },
     "metadata": {},
     "output_type": "display_data"
    },
    {
     "name": "stdout",
     "output_type": "stream",
     "text": [
      "Loss of val: 0.00193\n",
      "[0.001986156400251528, 0.001934828775541972]\n"
     ]
    },
    {
     "data": {
      "application/vnd.jupyter.widget-view+json": {
       "model_id": "804e939f3b4d401493910d58bd42a127",
       "version_major": 2,
       "version_minor": 0
      },
      "text/plain": [
       "0it [00:00, ?it/s]"
      ]
     },
     "metadata": {},
     "output_type": "display_data"
    },
    {
     "name": "stdout",
     "output_type": "stream",
     "text": [
      "Loss of val: 0.00207\n",
      "[0.001986156400251528, 0.001934828775541972, 0.0020733160461248413]\n",
      "Break at 2\n",
      "AUROC of val: 0.87009\n",
      "AUROC of test: 0.86621\n",
      "AUROC of gw_test: 0.81860\n",
      "260.8024691358024 %\n"
     ]
    },
    {
     "data": {
      "application/vnd.jupyter.widget-view+json": {
       "model_id": "c978bfb1f9c94d3c8c8e6149f8a534bf",
       "version_major": 2,
       "version_minor": 0
      },
      "text/plain": [
       "0it [00:00, ?it/s]"
      ]
     },
     "metadata": {},
     "output_type": "display_data"
    },
    {
     "name": "stdout",
     "output_type": "stream",
     "text": [
      "Loss of val: 0.00205\n",
      "[0.0020466673100590924]\n"
     ]
    },
    {
     "data": {
      "application/vnd.jupyter.widget-view+json": {
       "model_id": "4e7cd60bbe444f0bbc043f182e254770",
       "version_major": 2,
       "version_minor": 0
      },
      "text/plain": [
       "0it [00:00, ?it/s]"
      ]
     },
     "metadata": {},
     "output_type": "display_data"
    },
    {
     "name": "stdout",
     "output_type": "stream",
     "text": [
      "Loss of val: 0.00202\n",
      "[0.0020466673100590924, 0.002023565021859032]\n"
     ]
    },
    {
     "data": {
      "application/vnd.jupyter.widget-view+json": {
       "model_id": "515c074746b54ca4bc30081b0dd8ad21",
       "version_major": 2,
       "version_minor": 0
      },
      "text/plain": [
       "0it [00:00, ?it/s]"
      ]
     },
     "metadata": {},
     "output_type": "display_data"
    },
    {
     "name": "stdout",
     "output_type": "stream",
     "text": [
      "Loss of val: 0.00213\n",
      "[0.0020466673100590924, 0.002023565021859032, 0.0021251449839268673]\n",
      "Break at 2\n",
      "AUROC of val: 0.85965\n",
      "AUROC of test: 0.85725\n",
      "AUROC of gw_test: 0.80574\n",
      "260.8024691358024 %\n"
     ]
    },
    {
     "data": {
      "application/vnd.jupyter.widget-view+json": {
       "model_id": "6b047bb6ef364260a04c82d8daa6479a",
       "version_major": 2,
       "version_minor": 0
      },
      "text/plain": [
       "0it [00:00, ?it/s]"
      ]
     },
     "metadata": {},
     "output_type": "display_data"
    },
    {
     "name": "stdout",
     "output_type": "stream",
     "text": [
      "Loss of val: 0.00196\n",
      "[0.0019569114160831623]\n"
     ]
    },
    {
     "data": {
      "application/vnd.jupyter.widget-view+json": {
       "model_id": "d5929fbead0b4fcc9078b4eb540aaf30",
       "version_major": 2,
       "version_minor": 0
      },
      "text/plain": [
       "0it [00:00, ?it/s]"
      ]
     },
     "metadata": {},
     "output_type": "display_data"
    },
    {
     "name": "stdout",
     "output_type": "stream",
     "text": [
      "Loss of val: 0.00196\n",
      "[0.0019569114160831623, 0.0019576131759713477]\n",
      "Break at 1\n",
      "AUROC of val: 0.86765\n",
      "AUROC of test: 0.85969\n",
      "AUROC of gw_test: 0.81182\n",
      "260.8024691358024 %\n"
     ]
    },
    {
     "data": {
      "application/vnd.jupyter.widget-view+json": {
       "model_id": "111d696af36e408697eda88efe1bb1dc",
       "version_major": 2,
       "version_minor": 0
      },
      "text/plain": [
       "0it [00:00, ?it/s]"
      ]
     },
     "metadata": {},
     "output_type": "display_data"
    },
    {
     "name": "stdout",
     "output_type": "stream",
     "text": [
      "Loss of val: 0.00205\n",
      "[0.0020527298602093]\n"
     ]
    },
    {
     "data": {
      "application/vnd.jupyter.widget-view+json": {
       "model_id": "3176de79ac124ca288626615cc0607b3",
       "version_major": 2,
       "version_minor": 0
      },
      "text/plain": [
       "0it [00:00, ?it/s]"
      ]
     },
     "metadata": {},
     "output_type": "display_data"
    },
    {
     "name": "stdout",
     "output_type": "stream",
     "text": [
      "Loss of val: 0.00212\n",
      "[0.0020527298602093, 0.002118634380897281]\n",
      "Break at 1\n",
      "AUROC of val: 0.86250\n",
      "AUROC of test: 0.85963\n",
      "AUROC of gw_test: 0.79997\n",
      "260.8024691358024 %\n"
     ]
    },
    {
     "data": {
      "application/vnd.jupyter.widget-view+json": {
       "model_id": "65e82dabad434e3fbc402ec704270d80",
       "version_major": 2,
       "version_minor": 0
      },
      "text/plain": [
       "0it [00:00, ?it/s]"
      ]
     },
     "metadata": {},
     "output_type": "display_data"
    },
    {
     "name": "stdout",
     "output_type": "stream",
     "text": [
      "Loss of val: 0.00200\n",
      "[0.0020038168517076517]\n"
     ]
    },
    {
     "data": {
      "application/vnd.jupyter.widget-view+json": {
       "model_id": "373da48addf04959893a8aa31dd2104f",
       "version_major": 2,
       "version_minor": 0
      },
      "text/plain": [
       "0it [00:00, ?it/s]"
      ]
     },
     "metadata": {},
     "output_type": "display_data"
    },
    {
     "name": "stdout",
     "output_type": "stream",
     "text": [
      "Loss of val: 0.00200\n",
      "[0.0020038168517076517, 0.001995724072132076]\n"
     ]
    },
    {
     "data": {
      "application/vnd.jupyter.widget-view+json": {
       "model_id": "c80284cdf9a641cebfec860188d85515",
       "version_major": 2,
       "version_minor": 0
      },
      "text/plain": [
       "0it [00:00, ?it/s]"
      ]
     },
     "metadata": {},
     "output_type": "display_data"
    },
    {
     "name": "stdout",
     "output_type": "stream",
     "text": [
      "Loss of val: 0.00203\n",
      "[0.0020038168517076517, 0.001995724072132076, 0.002033662841900187]\n",
      "Break at 2\n",
      "AUROC of val: 0.86440\n",
      "AUROC of test: 0.85345\n",
      "AUROC of gw_test: 0.81326\n",
      "260.8024691358024 %\n"
     ]
    },
    {
     "data": {
      "application/vnd.jupyter.widget-view+json": {
       "model_id": "9067e6fa67a44d36843a67c0bac051b5",
       "version_major": 2,
       "version_minor": 0
      },
      "text/plain": [
       "0it [00:00, ?it/s]"
      ]
     },
     "metadata": {},
     "output_type": "display_data"
    },
    {
     "name": "stdout",
     "output_type": "stream",
     "text": [
      "Loss of val: 0.00202\n",
      "[0.0020237543988418133]\n"
     ]
    },
    {
     "data": {
      "application/vnd.jupyter.widget-view+json": {
       "model_id": "8d8073bd76294f08be71561baf05f0c6",
       "version_major": 2,
       "version_minor": 0
      },
      "text/plain": [
       "0it [00:00, ?it/s]"
      ]
     },
     "metadata": {},
     "output_type": "display_data"
    },
    {
     "name": "stdout",
     "output_type": "stream",
     "text": [
      "Loss of val: 0.00198\n",
      "[0.0020237543988418133, 0.0019820351511077197]\n"
     ]
    },
    {
     "data": {
      "application/vnd.jupyter.widget-view+json": {
       "model_id": "530d3cc18b2b45578a157339d4c3dd2c",
       "version_major": 2,
       "version_minor": 0
      },
      "text/plain": [
       "0it [00:00, ?it/s]"
      ]
     },
     "metadata": {},
     "output_type": "display_data"
    },
    {
     "name": "stdout",
     "output_type": "stream",
     "text": [
      "Loss of val: 0.00213\n",
      "[0.0020237543988418133, 0.0019820351511077197, 0.0021278028987203683]\n",
      "Break at 2\n",
      "AUROC of val: 0.86869\n",
      "AUROC of test: 0.85611\n",
      "AUROC of gw_test: 0.81182\n",
      "260.8024691358024 %\n"
     ]
    },
    {
     "data": {
      "application/vnd.jupyter.widget-view+json": {
       "model_id": "987a560e727641babd76bd4cc6178552",
       "version_major": 2,
       "version_minor": 0
      },
      "text/plain": [
       "0it [00:00, ?it/s]"
      ]
     },
     "metadata": {},
     "output_type": "display_data"
    },
    {
     "name": "stdout",
     "output_type": "stream",
     "text": [
      "Loss of val: 0.00198\n",
      "[0.0019758294473285042]\n"
     ]
    },
    {
     "data": {
      "application/vnd.jupyter.widget-view+json": {
       "model_id": "a2847108ec1c4a7381fee2a4ccd7581f",
       "version_major": 2,
       "version_minor": 0
      },
      "text/plain": [
       "0it [00:00, ?it/s]"
      ]
     },
     "metadata": {},
     "output_type": "display_data"
    },
    {
     "name": "stdout",
     "output_type": "stream",
     "text": [
      "Loss of val: 0.00202\n",
      "[0.0019758294473285042, 0.002015215292659176]\n",
      "Break at 1\n",
      "AUROC of val: 0.86508\n",
      "AUROC of test: 0.85014\n",
      "AUROC of gw_test: 0.79463\n",
      "260.8024691358024 %\n"
     ]
    },
    {
     "data": {
      "application/vnd.jupyter.widget-view+json": {
       "model_id": "0576790a346a4215a7ba869888167284",
       "version_major": 2,
       "version_minor": 0
      },
      "text/plain": [
       "0it [00:00, ?it/s]"
      ]
     },
     "metadata": {},
     "output_type": "display_data"
    },
    {
     "name": "stdout",
     "output_type": "stream",
     "text": [
      "Loss of val: 0.00201\n",
      "[0.0020124608928434175]\n"
     ]
    },
    {
     "data": {
      "application/vnd.jupyter.widget-view+json": {
       "model_id": "4b2ff5cfb2fc4a7a85954b55668f6bd4",
       "version_major": 2,
       "version_minor": 0
      },
      "text/plain": [
       "0it [00:00, ?it/s]"
      ]
     },
     "metadata": {},
     "output_type": "display_data"
    },
    {
     "name": "stdout",
     "output_type": "stream",
     "text": [
      "Loss of val: 0.00197\n",
      "[0.0020124608928434175, 0.0019670970452032605]\n"
     ]
    },
    {
     "data": {
      "application/vnd.jupyter.widget-view+json": {
       "model_id": "92a8b8c0749f438da4c9bdd6b1ce1f9c",
       "version_major": 2,
       "version_minor": 0
      },
      "text/plain": [
       "0it [00:00, ?it/s]"
      ]
     },
     "metadata": {},
     "output_type": "display_data"
    },
    {
     "name": "stdout",
     "output_type": "stream",
     "text": [
      "Loss of val: 0.00241\n",
      "[0.0020124608928434175, 0.0019670970452032605, 0.0024115327085802944]\n",
      "Break at 2\n",
      "AUROC of val: 0.86231\n",
      "AUROC of test: 0.84777\n",
      "AUROC of gw_test: 0.80912\n",
      "260.8024691358024 %\n"
     ]
    },
    {
     "data": {
      "application/vnd.jupyter.widget-view+json": {
       "model_id": "ae42ab6c988f4b8c81cf9d020ea7eddb",
       "version_major": 2,
       "version_minor": 0
      },
      "text/plain": [
       "0it [00:00, ?it/s]"
      ]
     },
     "metadata": {},
     "output_type": "display_data"
    },
    {
     "name": "stdout",
     "output_type": "stream",
     "text": [
      "Loss of val: 0.00168\n",
      "[0.001681716074212944]\n"
     ]
    },
    {
     "data": {
      "application/vnd.jupyter.widget-view+json": {
       "model_id": "2ad5b04e8be348c3a7332c10653be656",
       "version_major": 2,
       "version_minor": 0
      },
      "text/plain": [
       "0it [00:00, ?it/s]"
      ]
     },
     "metadata": {},
     "output_type": "display_data"
    },
    {
     "name": "stdout",
     "output_type": "stream",
     "text": [
      "Loss of val: 0.00173\n",
      "[0.001681716074212944, 0.0017255113495067643]\n",
      "Break at 1\n",
      "AUROC of val: 0.90196\n",
      "AUROC of test: 0.88721\n",
      "AUROC of gw_test: 0.85752\n",
      "Currently best params: \n",
      "{'block_size': 6, 'dropout': 0, 'lr': 0.01, 'n_embd': 16, 'num_heads': 2}\n",
      "260.8024691358024 %\n"
     ]
    },
    {
     "data": {
      "application/vnd.jupyter.widget-view+json": {
       "model_id": "8c7bf2a4f400469eb7b68d8adcb29c83",
       "version_major": 2,
       "version_minor": 0
      },
      "text/plain": [
       "0it [00:00, ?it/s]"
      ]
     },
     "metadata": {},
     "output_type": "display_data"
    },
    {
     "name": "stdout",
     "output_type": "stream",
     "text": [
      "Loss of val: 0.00172\n",
      "[0.0017225074596059933]\n"
     ]
    },
    {
     "data": {
      "application/vnd.jupyter.widget-view+json": {
       "model_id": "4cc97c7457a94514993d3b5af56b0022",
       "version_major": 2,
       "version_minor": 0
      },
      "text/plain": [
       "0it [00:00, ?it/s]"
      ]
     },
     "metadata": {},
     "output_type": "display_data"
    },
    {
     "name": "stdout",
     "output_type": "stream",
     "text": [
      "Loss of val: 0.00178\n",
      "[0.0017225074596059933, 0.0017809507220904782]\n",
      "Break at 1\n",
      "AUROC of val: 0.89212\n",
      "AUROC of test: 0.88096\n",
      "AUROC of gw_test: 0.83987\n",
      "260.8024691358024 %\n"
     ]
    },
    {
     "data": {
      "application/vnd.jupyter.widget-view+json": {
       "model_id": "4d1757be2c504ee3a6ff8b253a9cef74",
       "version_major": 2,
       "version_minor": 0
      },
      "text/plain": [
       "0it [00:00, ?it/s]"
      ]
     },
     "metadata": {},
     "output_type": "display_data"
    },
    {
     "name": "stdout",
     "output_type": "stream",
     "text": [
      "Loss of val: 0.00180\n",
      "[0.0018021365531587631]\n"
     ]
    },
    {
     "data": {
      "application/vnd.jupyter.widget-view+json": {
       "model_id": "637d77c4733b44a993005ba543e1b28c",
       "version_major": 2,
       "version_minor": 0
      },
      "text/plain": [
       "0it [00:00, ?it/s]"
      ]
     },
     "metadata": {},
     "output_type": "display_data"
    },
    {
     "name": "stdout",
     "output_type": "stream",
     "text": [
      "Loss of val: 0.00193\n",
      "[0.0018021365531587631, 0.0019318248407773078]\n",
      "Break at 1\n",
      "AUROC of val: 0.88098\n",
      "AUROC of test: 0.87466\n",
      "AUROC of gw_test: 0.83010\n",
      "260.8024691358024 %\n"
     ]
    },
    {
     "data": {
      "application/vnd.jupyter.widget-view+json": {
       "model_id": "6c51d1c1e11a4479b36c32b2e4ea31e5",
       "version_major": 2,
       "version_minor": 0
      },
      "text/plain": [
       "0it [00:00, ?it/s]"
      ]
     },
     "metadata": {},
     "output_type": "display_data"
    },
    {
     "name": "stdout",
     "output_type": "stream",
     "text": [
      "Loss of val: 0.00178\n",
      "[0.0017806027625318836]\n"
     ]
    },
    {
     "data": {
      "application/vnd.jupyter.widget-view+json": {
       "model_id": "de42fe87b46b46b2bfb9da9a5b425ad6",
       "version_major": 2,
       "version_minor": 0
      },
      "text/plain": [
       "0it [00:00, ?it/s]"
      ]
     },
     "metadata": {},
     "output_type": "display_data"
    },
    {
     "name": "stdout",
     "output_type": "stream",
     "text": [
      "Loss of val: 0.00181\n",
      "[0.0017806027625318836, 0.001811509742319757]\n",
      "Break at 1\n",
      "AUROC of val: 0.89248\n",
      "AUROC of test: 0.88061\n",
      "AUROC of gw_test: 0.84460\n",
      "260.8024691358024 %\n"
     ]
    },
    {
     "data": {
      "application/vnd.jupyter.widget-view+json": {
       "model_id": "e4954d1fe14740d2b172e306b8f5f8a8",
       "version_major": 2,
       "version_minor": 0
      },
      "text/plain": [
       "0it [00:00, ?it/s]"
      ]
     },
     "metadata": {},
     "output_type": "display_data"
    },
    {
     "name": "stdout",
     "output_type": "stream",
     "text": [
      "Loss of val: 0.00176\n",
      "[0.0017585065733771216]\n"
     ]
    },
    {
     "data": {
      "application/vnd.jupyter.widget-view+json": {
       "model_id": "93cec862954e4c45a2de75aca4aade27",
       "version_major": 2,
       "version_minor": 0
      },
      "text/plain": [
       "0it [00:00, ?it/s]"
      ]
     },
     "metadata": {},
     "output_type": "display_data"
    },
    {
     "name": "stdout",
     "output_type": "stream",
     "text": [
      "Loss of val: 0.00181\n",
      "[0.0017585065733771216, 0.0018075903397815638]\n",
      "Break at 1\n",
      "AUROC of val: 0.88801\n",
      "AUROC of test: 0.87667\n",
      "AUROC of gw_test: 0.84046\n",
      "260.8024691358024 %\n"
     ]
    },
    {
     "data": {
      "application/vnd.jupyter.widget-view+json": {
       "model_id": "eba0bff3a88749bf9440c1c63459dd07",
       "version_major": 2,
       "version_minor": 0
      },
      "text/plain": [
       "0it [00:00, ?it/s]"
      ]
     },
     "metadata": {},
     "output_type": "display_data"
    },
    {
     "name": "stdout",
     "output_type": "stream",
     "text": [
      "Loss of val: 0.00173\n",
      "[0.0017293986009990063]\n"
     ]
    },
    {
     "data": {
      "application/vnd.jupyter.widget-view+json": {
       "model_id": "f063d1bf4b1449b18c10bbead4dd83e4",
       "version_major": 2,
       "version_minor": 0
      },
      "text/plain": [
       "0it [00:00, ?it/s]"
      ]
     },
     "metadata": {},
     "output_type": "display_data"
    },
    {
     "name": "stdout",
     "output_type": "stream",
     "text": [
      "Loss of val: 0.00180\n",
      "[0.0017293986009990063, 0.0017992673661096402]\n",
      "Break at 1\n",
      "AUROC of val: 0.89348\n",
      "AUROC of test: 0.87754\n",
      "AUROC of gw_test: 0.84859\n",
      "260.8024691358024 %\n"
     ]
    },
    {
     "data": {
      "application/vnd.jupyter.widget-view+json": {
       "model_id": "5852c66464e546f0b1666992ec0d381b",
       "version_major": 2,
       "version_minor": 0
      },
      "text/plain": [
       "0it [00:00, ?it/s]"
      ]
     },
     "metadata": {},
     "output_type": "display_data"
    },
    {
     "name": "stdout",
     "output_type": "stream",
     "text": [
      "Loss of val: 0.00177\n",
      "[0.001768038406907593]\n"
     ]
    },
    {
     "data": {
      "application/vnd.jupyter.widget-view+json": {
       "model_id": "69438aeeddc140bd99feb49aec4ace82",
       "version_major": 2,
       "version_minor": 0
      },
      "text/plain": [
       "0it [00:00, ?it/s]"
      ]
     },
     "metadata": {},
     "output_type": "display_data"
    },
    {
     "name": "stdout",
     "output_type": "stream",
     "text": [
      "Loss of val: 0.00185\n",
      "[0.001768038406907593, 0.00185361828139105]\n",
      "Break at 1\n",
      "AUROC of val: 0.89202\n",
      "AUROC of test: 0.87558\n",
      "AUROC of gw_test: 0.84529\n",
      "260.8024691358024 %\n"
     ]
    },
    {
     "data": {
      "application/vnd.jupyter.widget-view+json": {
       "model_id": "8c9162a3ac1846ae9ff2ad858acee233",
       "version_major": 2,
       "version_minor": 0
      },
      "text/plain": [
       "0it [00:00, ?it/s]"
      ]
     },
     "metadata": {},
     "output_type": "display_data"
    },
    {
     "name": "stdout",
     "output_type": "stream",
     "text": [
      "Loss of val: 0.00175\n",
      "[0.0017476792901348346]\n"
     ]
    },
    {
     "data": {
      "application/vnd.jupyter.widget-view+json": {
       "model_id": "b0f8a17e038e4920803cc7f925304403",
       "version_major": 2,
       "version_minor": 0
      },
      "text/plain": [
       "0it [00:00, ?it/s]"
      ]
     },
     "metadata": {},
     "output_type": "display_data"
    },
    {
     "name": "stdout",
     "output_type": "stream",
     "text": [
      "Loss of val: 0.00180\n",
      "[0.0017476792901348346, 0.0017997175913608014]\n",
      "Break at 1\n",
      "AUROC of val: 0.89417\n",
      "AUROC of test: 0.87322\n",
      "AUROC of gw_test: 0.84724\n",
      "260.8024691358024 %\n"
     ]
    },
    {
     "data": {
      "application/vnd.jupyter.widget-view+json": {
       "model_id": "85375b8f4e1b4b1fa5991bd0c06b1135",
       "version_major": 2,
       "version_minor": 0
      },
      "text/plain": [
       "0it [00:00, ?it/s]"
      ]
     },
     "metadata": {},
     "output_type": "display_data"
    },
    {
     "ename": "OutOfMemoryError",
     "evalue": "CUDA out of memory. Tried to allocate 332.00 MiB. GPU 0 has a total capacty of 47.54 GiB of which 221.25 MiB is free. Including non-PyTorch memory, this process has 47.31 GiB memory in use. Of the allocated memory 46.52 GiB is allocated by PyTorch, and 488.59 MiB is reserved by PyTorch but unallocated. If reserved but unallocated memory is large try setting max_split_size_mb to avoid fragmentation.  See documentation for Memory Management and PYTORCH_CUDA_ALLOC_CONF",
     "output_type": "error",
     "traceback": [
      "\u001b[0;31m---------------------------------------------------------------------------\u001b[0m",
      "\u001b[0;31mOutOfMemoryError\u001b[0m                          Traceback (most recent call last)",
      "Cell \u001b[0;32mIn[30], line 39\u001b[0m\n\u001b[1;32m     36\u001b[0m model\u001b[38;5;241m.\u001b[39mtrain()\n\u001b[1;32m     37\u001b[0m optim\u001b[38;5;241m.\u001b[39mzero_grad()\n\u001b[0;32m---> 39\u001b[0m logits, logits_mask \u001b[38;5;241m=\u001b[39m \u001b[43mmodel\u001b[49m\u001b[43m(\u001b[49m\u001b[43mx\u001b[49m\u001b[43m)\u001b[49m\n\u001b[1;32m     40\u001b[0m loss \u001b[38;5;241m=\u001b[39m torch\u001b[38;5;241m.\u001b[39mnn\u001b[38;5;241m.\u001b[39mfunctional\u001b[38;5;241m.\u001b[39mbinary_cross_entropy_with_logits(logits[logits_mask]\u001b[38;5;241m.\u001b[39msqueeze(\u001b[38;5;241m-\u001b[39m\u001b[38;5;241m1\u001b[39m), y[logits_mask], pos_weight\u001b[38;5;241m=\u001b[39mtorch\u001b[38;5;241m.\u001b[39mtensor(WEIGHT))\n\u001b[1;32m     42\u001b[0m loss\u001b[38;5;241m.\u001b[39mbackward()\n",
      "File \u001b[0;32m~/.local/lib/python3.10/site-packages/torch/nn/modules/module.py:1518\u001b[0m, in \u001b[0;36mModule._wrapped_call_impl\u001b[0;34m(self, *args, **kwargs)\u001b[0m\n\u001b[1;32m   1516\u001b[0m     \u001b[38;5;28;01mreturn\u001b[39;00m \u001b[38;5;28mself\u001b[39m\u001b[38;5;241m.\u001b[39m_compiled_call_impl(\u001b[38;5;241m*\u001b[39margs, \u001b[38;5;241m*\u001b[39m\u001b[38;5;241m*\u001b[39mkwargs)  \u001b[38;5;66;03m# type: ignore[misc]\u001b[39;00m\n\u001b[1;32m   1517\u001b[0m \u001b[38;5;28;01melse\u001b[39;00m:\n\u001b[0;32m-> 1518\u001b[0m     \u001b[38;5;28;01mreturn\u001b[39;00m \u001b[38;5;28;43mself\u001b[39;49m\u001b[38;5;241;43m.\u001b[39;49m\u001b[43m_call_impl\u001b[49m\u001b[43m(\u001b[49m\u001b[38;5;241;43m*\u001b[39;49m\u001b[43margs\u001b[49m\u001b[43m,\u001b[49m\u001b[43m \u001b[49m\u001b[38;5;241;43m*\u001b[39;49m\u001b[38;5;241;43m*\u001b[39;49m\u001b[43mkwargs\u001b[49m\u001b[43m)\u001b[49m\n",
      "File \u001b[0;32m~/.local/lib/python3.10/site-packages/torch/nn/modules/module.py:1527\u001b[0m, in \u001b[0;36mModule._call_impl\u001b[0;34m(self, *args, **kwargs)\u001b[0m\n\u001b[1;32m   1522\u001b[0m \u001b[38;5;66;03m# If we don't have any hooks, we want to skip the rest of the logic in\u001b[39;00m\n\u001b[1;32m   1523\u001b[0m \u001b[38;5;66;03m# this function, and just call forward.\u001b[39;00m\n\u001b[1;32m   1524\u001b[0m \u001b[38;5;28;01mif\u001b[39;00m \u001b[38;5;129;01mnot\u001b[39;00m (\u001b[38;5;28mself\u001b[39m\u001b[38;5;241m.\u001b[39m_backward_hooks \u001b[38;5;129;01mor\u001b[39;00m \u001b[38;5;28mself\u001b[39m\u001b[38;5;241m.\u001b[39m_backward_pre_hooks \u001b[38;5;129;01mor\u001b[39;00m \u001b[38;5;28mself\u001b[39m\u001b[38;5;241m.\u001b[39m_forward_hooks \u001b[38;5;129;01mor\u001b[39;00m \u001b[38;5;28mself\u001b[39m\u001b[38;5;241m.\u001b[39m_forward_pre_hooks\n\u001b[1;32m   1525\u001b[0m         \u001b[38;5;129;01mor\u001b[39;00m _global_backward_pre_hooks \u001b[38;5;129;01mor\u001b[39;00m _global_backward_hooks\n\u001b[1;32m   1526\u001b[0m         \u001b[38;5;129;01mor\u001b[39;00m _global_forward_hooks \u001b[38;5;129;01mor\u001b[39;00m _global_forward_pre_hooks):\n\u001b[0;32m-> 1527\u001b[0m     \u001b[38;5;28;01mreturn\u001b[39;00m \u001b[43mforward_call\u001b[49m\u001b[43m(\u001b[49m\u001b[38;5;241;43m*\u001b[39;49m\u001b[43margs\u001b[49m\u001b[43m,\u001b[49m\u001b[43m \u001b[49m\u001b[38;5;241;43m*\u001b[39;49m\u001b[38;5;241;43m*\u001b[39;49m\u001b[43mkwargs\u001b[49m\u001b[43m)\u001b[49m\n\u001b[1;32m   1529\u001b[0m \u001b[38;5;28;01mtry\u001b[39;00m:\n\u001b[1;32m   1530\u001b[0m     result \u001b[38;5;241m=\u001b[39m \u001b[38;5;28;01mNone\u001b[39;00m\n",
      "Cell \u001b[0;32mIn[19], line 31\u001b[0m, in \u001b[0;36mTransformerModel.forward\u001b[0;34m(self, x, targets)\u001b[0m\n\u001b[1;32m     28\u001b[0m x \u001b[38;5;241m=\u001b[39m x \u001b[38;5;241m+\u001b[39m pos_emb\n\u001b[1;32m     30\u001b[0m \u001b[38;5;28;01mfor\u001b[39;00m block \u001b[38;5;129;01min\u001b[39;00m \u001b[38;5;28mself\u001b[39m\u001b[38;5;241m.\u001b[39mblocks:\n\u001b[0;32m---> 31\u001b[0m     x \u001b[38;5;241m=\u001b[39m \u001b[43mblock\u001b[49m\u001b[43m(\u001b[49m\u001b[43mx\u001b[49m\u001b[43m,\u001b[49m\u001b[43m \u001b[49m\u001b[43mignore_mask\u001b[49m\u001b[43m)\u001b[49m\n\u001b[1;32m     32\u001b[0m logits \u001b[38;5;241m=\u001b[39m \u001b[38;5;28mself\u001b[39m\u001b[38;5;241m.\u001b[39mlin(x)\n\u001b[1;32m     33\u001b[0m logits_mask \u001b[38;5;241m=\u001b[39m ignore_mask\u001b[38;5;241m.\u001b[39msum(\u001b[38;5;241m-\u001b[39m\u001b[38;5;241m1\u001b[39m) \u001b[38;5;241m!=\u001b[39m max_len\n",
      "File \u001b[0;32m~/.local/lib/python3.10/site-packages/torch/nn/modules/module.py:1518\u001b[0m, in \u001b[0;36mModule._wrapped_call_impl\u001b[0;34m(self, *args, **kwargs)\u001b[0m\n\u001b[1;32m   1516\u001b[0m     \u001b[38;5;28;01mreturn\u001b[39;00m \u001b[38;5;28mself\u001b[39m\u001b[38;5;241m.\u001b[39m_compiled_call_impl(\u001b[38;5;241m*\u001b[39margs, \u001b[38;5;241m*\u001b[39m\u001b[38;5;241m*\u001b[39mkwargs)  \u001b[38;5;66;03m# type: ignore[misc]\u001b[39;00m\n\u001b[1;32m   1517\u001b[0m \u001b[38;5;28;01melse\u001b[39;00m:\n\u001b[0;32m-> 1518\u001b[0m     \u001b[38;5;28;01mreturn\u001b[39;00m \u001b[38;5;28;43mself\u001b[39;49m\u001b[38;5;241;43m.\u001b[39;49m\u001b[43m_call_impl\u001b[49m\u001b[43m(\u001b[49m\u001b[38;5;241;43m*\u001b[39;49m\u001b[43margs\u001b[49m\u001b[43m,\u001b[49m\u001b[43m \u001b[49m\u001b[38;5;241;43m*\u001b[39;49m\u001b[38;5;241;43m*\u001b[39;49m\u001b[43mkwargs\u001b[49m\u001b[43m)\u001b[49m\n",
      "File \u001b[0;32m~/.local/lib/python3.10/site-packages/torch/nn/modules/module.py:1527\u001b[0m, in \u001b[0;36mModule._call_impl\u001b[0;34m(self, *args, **kwargs)\u001b[0m\n\u001b[1;32m   1522\u001b[0m \u001b[38;5;66;03m# If we don't have any hooks, we want to skip the rest of the logic in\u001b[39;00m\n\u001b[1;32m   1523\u001b[0m \u001b[38;5;66;03m# this function, and just call forward.\u001b[39;00m\n\u001b[1;32m   1524\u001b[0m \u001b[38;5;28;01mif\u001b[39;00m \u001b[38;5;129;01mnot\u001b[39;00m (\u001b[38;5;28mself\u001b[39m\u001b[38;5;241m.\u001b[39m_backward_hooks \u001b[38;5;129;01mor\u001b[39;00m \u001b[38;5;28mself\u001b[39m\u001b[38;5;241m.\u001b[39m_backward_pre_hooks \u001b[38;5;129;01mor\u001b[39;00m \u001b[38;5;28mself\u001b[39m\u001b[38;5;241m.\u001b[39m_forward_hooks \u001b[38;5;129;01mor\u001b[39;00m \u001b[38;5;28mself\u001b[39m\u001b[38;5;241m.\u001b[39m_forward_pre_hooks\n\u001b[1;32m   1525\u001b[0m         \u001b[38;5;129;01mor\u001b[39;00m _global_backward_pre_hooks \u001b[38;5;129;01mor\u001b[39;00m _global_backward_hooks\n\u001b[1;32m   1526\u001b[0m         \u001b[38;5;129;01mor\u001b[39;00m _global_forward_hooks \u001b[38;5;129;01mor\u001b[39;00m _global_forward_pre_hooks):\n\u001b[0;32m-> 1527\u001b[0m     \u001b[38;5;28;01mreturn\u001b[39;00m \u001b[43mforward_call\u001b[49m\u001b[43m(\u001b[49m\u001b[38;5;241;43m*\u001b[39;49m\u001b[43margs\u001b[49m\u001b[43m,\u001b[49m\u001b[43m \u001b[49m\u001b[38;5;241;43m*\u001b[39;49m\u001b[38;5;241;43m*\u001b[39;49m\u001b[43mkwargs\u001b[49m\u001b[43m)\u001b[49m\n\u001b[1;32m   1529\u001b[0m \u001b[38;5;28;01mtry\u001b[39;00m:\n\u001b[1;32m   1530\u001b[0m     result \u001b[38;5;241m=\u001b[39m \u001b[38;5;28;01mNone\u001b[39;00m\n",
      "Cell \u001b[0;32mIn[18], line 12\u001b[0m, in \u001b[0;36mBlock.forward\u001b[0;34m(self, x, ignore_mask)\u001b[0m\n\u001b[1;32m     11\u001b[0m \u001b[38;5;28;01mdef\u001b[39;00m \u001b[38;5;21mforward\u001b[39m(\u001b[38;5;28mself\u001b[39m, x, ignore_mask):\n\u001b[0;32m---> 12\u001b[0m     x \u001b[38;5;241m=\u001b[39m x \u001b[38;5;241m+\u001b[39m \u001b[38;5;28;43mself\u001b[39;49m\u001b[38;5;241;43m.\u001b[39;49m\u001b[43msa_heads\u001b[49m\u001b[43m(\u001b[49m\u001b[38;5;28;43mself\u001b[39;49m\u001b[38;5;241;43m.\u001b[39;49m\u001b[43mlayer_norm_1\u001b[49m\u001b[43m(\u001b[49m\u001b[43mx\u001b[49m\u001b[43m)\u001b[49m\u001b[43m,\u001b[49m\u001b[43m \u001b[49m\u001b[43mignore_mask\u001b[49m\u001b[43m)\u001b[49m\n\u001b[1;32m     13\u001b[0m     x \u001b[38;5;241m=\u001b[39m x \u001b[38;5;241m+\u001b[39m \u001b[38;5;28mself\u001b[39m\u001b[38;5;241m.\u001b[39mffwd(\u001b[38;5;28mself\u001b[39m\u001b[38;5;241m.\u001b[39mlayer_norm_2(x))\n\u001b[1;32m     14\u001b[0m     \u001b[38;5;28;01mreturn\u001b[39;00m x\n",
      "File \u001b[0;32m~/.local/lib/python3.10/site-packages/torch/nn/modules/module.py:1518\u001b[0m, in \u001b[0;36mModule._wrapped_call_impl\u001b[0;34m(self, *args, **kwargs)\u001b[0m\n\u001b[1;32m   1516\u001b[0m     \u001b[38;5;28;01mreturn\u001b[39;00m \u001b[38;5;28mself\u001b[39m\u001b[38;5;241m.\u001b[39m_compiled_call_impl(\u001b[38;5;241m*\u001b[39margs, \u001b[38;5;241m*\u001b[39m\u001b[38;5;241m*\u001b[39mkwargs)  \u001b[38;5;66;03m# type: ignore[misc]\u001b[39;00m\n\u001b[1;32m   1517\u001b[0m \u001b[38;5;28;01melse\u001b[39;00m:\n\u001b[0;32m-> 1518\u001b[0m     \u001b[38;5;28;01mreturn\u001b[39;00m \u001b[38;5;28;43mself\u001b[39;49m\u001b[38;5;241;43m.\u001b[39;49m\u001b[43m_call_impl\u001b[49m\u001b[43m(\u001b[49m\u001b[38;5;241;43m*\u001b[39;49m\u001b[43margs\u001b[49m\u001b[43m,\u001b[49m\u001b[43m \u001b[49m\u001b[38;5;241;43m*\u001b[39;49m\u001b[38;5;241;43m*\u001b[39;49m\u001b[43mkwargs\u001b[49m\u001b[43m)\u001b[49m\n",
      "File \u001b[0;32m~/.local/lib/python3.10/site-packages/torch/nn/modules/module.py:1527\u001b[0m, in \u001b[0;36mModule._call_impl\u001b[0;34m(self, *args, **kwargs)\u001b[0m\n\u001b[1;32m   1522\u001b[0m \u001b[38;5;66;03m# If we don't have any hooks, we want to skip the rest of the logic in\u001b[39;00m\n\u001b[1;32m   1523\u001b[0m \u001b[38;5;66;03m# this function, and just call forward.\u001b[39;00m\n\u001b[1;32m   1524\u001b[0m \u001b[38;5;28;01mif\u001b[39;00m \u001b[38;5;129;01mnot\u001b[39;00m (\u001b[38;5;28mself\u001b[39m\u001b[38;5;241m.\u001b[39m_backward_hooks \u001b[38;5;129;01mor\u001b[39;00m \u001b[38;5;28mself\u001b[39m\u001b[38;5;241m.\u001b[39m_backward_pre_hooks \u001b[38;5;129;01mor\u001b[39;00m \u001b[38;5;28mself\u001b[39m\u001b[38;5;241m.\u001b[39m_forward_hooks \u001b[38;5;129;01mor\u001b[39;00m \u001b[38;5;28mself\u001b[39m\u001b[38;5;241m.\u001b[39m_forward_pre_hooks\n\u001b[1;32m   1525\u001b[0m         \u001b[38;5;129;01mor\u001b[39;00m _global_backward_pre_hooks \u001b[38;5;129;01mor\u001b[39;00m _global_backward_hooks\n\u001b[1;32m   1526\u001b[0m         \u001b[38;5;129;01mor\u001b[39;00m _global_forward_hooks \u001b[38;5;129;01mor\u001b[39;00m _global_forward_pre_hooks):\n\u001b[0;32m-> 1527\u001b[0m     \u001b[38;5;28;01mreturn\u001b[39;00m \u001b[43mforward_call\u001b[49m\u001b[43m(\u001b[49m\u001b[38;5;241;43m*\u001b[39;49m\u001b[43margs\u001b[49m\u001b[43m,\u001b[49m\u001b[43m \u001b[49m\u001b[38;5;241;43m*\u001b[39;49m\u001b[38;5;241;43m*\u001b[39;49m\u001b[43mkwargs\u001b[49m\u001b[43m)\u001b[49m\n\u001b[1;32m   1529\u001b[0m \u001b[38;5;28;01mtry\u001b[39;00m:\n\u001b[1;32m   1530\u001b[0m     result \u001b[38;5;241m=\u001b[39m \u001b[38;5;28;01mNone\u001b[39;00m\n",
      "Cell \u001b[0;32mIn[16], line 12\u001b[0m, in \u001b[0;36mMultiHeadAttention.forward\u001b[0;34m(self, x, ignore_mask)\u001b[0m\n\u001b[1;32m     11\u001b[0m \u001b[38;5;28;01mdef\u001b[39;00m \u001b[38;5;21mforward\u001b[39m(\u001b[38;5;28mself\u001b[39m, x, ignore_mask):\n\u001b[0;32m---> 12\u001b[0m     out \u001b[38;5;241m=\u001b[39m torch\u001b[38;5;241m.\u001b[39mcat([h(x, ignore_mask) \u001b[38;5;28;01mfor\u001b[39;00m h \u001b[38;5;129;01min\u001b[39;00m \u001b[38;5;28mself\u001b[39m\u001b[38;5;241m.\u001b[39mheads], dim \u001b[38;5;241m=\u001b[39m \u001b[38;5;241m-\u001b[39m\u001b[38;5;241m1\u001b[39m)\n\u001b[1;32m     13\u001b[0m     out \u001b[38;5;241m=\u001b[39m \u001b[38;5;28mself\u001b[39m\u001b[38;5;241m.\u001b[39mproj(out)\n\u001b[1;32m     14\u001b[0m     out \u001b[38;5;241m=\u001b[39m \u001b[38;5;28mself\u001b[39m\u001b[38;5;241m.\u001b[39mdropout(out)\n",
      "Cell \u001b[0;32mIn[16], line 12\u001b[0m, in \u001b[0;36m<listcomp>\u001b[0;34m(.0)\u001b[0m\n\u001b[1;32m     11\u001b[0m \u001b[38;5;28;01mdef\u001b[39;00m \u001b[38;5;21mforward\u001b[39m(\u001b[38;5;28mself\u001b[39m, x, ignore_mask):\n\u001b[0;32m---> 12\u001b[0m     out \u001b[38;5;241m=\u001b[39m torch\u001b[38;5;241m.\u001b[39mcat([\u001b[43mh\u001b[49m\u001b[43m(\u001b[49m\u001b[43mx\u001b[49m\u001b[43m,\u001b[49m\u001b[43m \u001b[49m\u001b[43mignore_mask\u001b[49m\u001b[43m)\u001b[49m \u001b[38;5;28;01mfor\u001b[39;00m h \u001b[38;5;129;01min\u001b[39;00m \u001b[38;5;28mself\u001b[39m\u001b[38;5;241m.\u001b[39mheads], dim \u001b[38;5;241m=\u001b[39m \u001b[38;5;241m-\u001b[39m\u001b[38;5;241m1\u001b[39m)\n\u001b[1;32m     13\u001b[0m     out \u001b[38;5;241m=\u001b[39m \u001b[38;5;28mself\u001b[39m\u001b[38;5;241m.\u001b[39mproj(out)\n\u001b[1;32m     14\u001b[0m     out \u001b[38;5;241m=\u001b[39m \u001b[38;5;28mself\u001b[39m\u001b[38;5;241m.\u001b[39mdropout(out)\n",
      "File \u001b[0;32m~/.local/lib/python3.10/site-packages/torch/nn/modules/module.py:1518\u001b[0m, in \u001b[0;36mModule._wrapped_call_impl\u001b[0;34m(self, *args, **kwargs)\u001b[0m\n\u001b[1;32m   1516\u001b[0m     \u001b[38;5;28;01mreturn\u001b[39;00m \u001b[38;5;28mself\u001b[39m\u001b[38;5;241m.\u001b[39m_compiled_call_impl(\u001b[38;5;241m*\u001b[39margs, \u001b[38;5;241m*\u001b[39m\u001b[38;5;241m*\u001b[39mkwargs)  \u001b[38;5;66;03m# type: ignore[misc]\u001b[39;00m\n\u001b[1;32m   1517\u001b[0m \u001b[38;5;28;01melse\u001b[39;00m:\n\u001b[0;32m-> 1518\u001b[0m     \u001b[38;5;28;01mreturn\u001b[39;00m \u001b[38;5;28;43mself\u001b[39;49m\u001b[38;5;241;43m.\u001b[39;49m\u001b[43m_call_impl\u001b[49m\u001b[43m(\u001b[49m\u001b[38;5;241;43m*\u001b[39;49m\u001b[43margs\u001b[49m\u001b[43m,\u001b[49m\u001b[43m \u001b[49m\u001b[38;5;241;43m*\u001b[39;49m\u001b[38;5;241;43m*\u001b[39;49m\u001b[43mkwargs\u001b[49m\u001b[43m)\u001b[49m\n",
      "File \u001b[0;32m~/.local/lib/python3.10/site-packages/torch/nn/modules/module.py:1527\u001b[0m, in \u001b[0;36mModule._call_impl\u001b[0;34m(self, *args, **kwargs)\u001b[0m\n\u001b[1;32m   1522\u001b[0m \u001b[38;5;66;03m# If we don't have any hooks, we want to skip the rest of the logic in\u001b[39;00m\n\u001b[1;32m   1523\u001b[0m \u001b[38;5;66;03m# this function, and just call forward.\u001b[39;00m\n\u001b[1;32m   1524\u001b[0m \u001b[38;5;28;01mif\u001b[39;00m \u001b[38;5;129;01mnot\u001b[39;00m (\u001b[38;5;28mself\u001b[39m\u001b[38;5;241m.\u001b[39m_backward_hooks \u001b[38;5;129;01mor\u001b[39;00m \u001b[38;5;28mself\u001b[39m\u001b[38;5;241m.\u001b[39m_backward_pre_hooks \u001b[38;5;129;01mor\u001b[39;00m \u001b[38;5;28mself\u001b[39m\u001b[38;5;241m.\u001b[39m_forward_hooks \u001b[38;5;129;01mor\u001b[39;00m \u001b[38;5;28mself\u001b[39m\u001b[38;5;241m.\u001b[39m_forward_pre_hooks\n\u001b[1;32m   1525\u001b[0m         \u001b[38;5;129;01mor\u001b[39;00m _global_backward_pre_hooks \u001b[38;5;129;01mor\u001b[39;00m _global_backward_hooks\n\u001b[1;32m   1526\u001b[0m         \u001b[38;5;129;01mor\u001b[39;00m _global_forward_hooks \u001b[38;5;129;01mor\u001b[39;00m _global_forward_pre_hooks):\n\u001b[0;32m-> 1527\u001b[0m     \u001b[38;5;28;01mreturn\u001b[39;00m \u001b[43mforward_call\u001b[49m\u001b[43m(\u001b[49m\u001b[38;5;241;43m*\u001b[39;49m\u001b[43margs\u001b[49m\u001b[43m,\u001b[49m\u001b[43m \u001b[49m\u001b[38;5;241;43m*\u001b[39;49m\u001b[38;5;241;43m*\u001b[39;49m\u001b[43mkwargs\u001b[49m\u001b[43m)\u001b[49m\n\u001b[1;32m   1529\u001b[0m \u001b[38;5;28;01mtry\u001b[39;00m:\n\u001b[1;32m   1530\u001b[0m     result \u001b[38;5;241m=\u001b[39m \u001b[38;5;28;01mNone\u001b[39;00m\n",
      "Cell \u001b[0;32mIn[15], line 21\u001b[0m, in \u001b[0;36mHead.forward\u001b[0;34m(self, x, ignore_mask)\u001b[0m\n\u001b[1;32m     18\u001b[0m q \u001b[38;5;241m=\u001b[39m \u001b[38;5;28mself\u001b[39m\u001b[38;5;241m.\u001b[39mquery(x)\n\u001b[1;32m     19\u001b[0m v \u001b[38;5;241m=\u001b[39m \u001b[38;5;28mself\u001b[39m\u001b[38;5;241m.\u001b[39mvalue(x)\n\u001b[0;32m---> 21\u001b[0m w \u001b[38;5;241m=\u001b[39m \u001b[43mq\u001b[49m\u001b[38;5;129;43m@k\u001b[39;49m\u001b[38;5;241;43m.\u001b[39;49m\u001b[43mtranspose\u001b[49m\u001b[43m(\u001b[49m\u001b[38;5;241;43m-\u001b[39;49m\u001b[38;5;241;43m2\u001b[39;49m\u001b[43m,\u001b[49m\u001b[38;5;241;43m-\u001b[39;49m\u001b[38;5;241;43m1\u001b[39;49m\u001b[43m)\u001b[49m\n\u001b[1;32m     22\u001b[0m w \u001b[38;5;241m=\u001b[39m w\u001b[38;5;241m*\u001b[39m C\u001b[38;5;241m*\u001b[39m\u001b[38;5;241m*\u001b[39m\u001b[38;5;241m-\u001b[39m\u001b[38;5;241m.5\u001b[39m\n\u001b[1;32m     23\u001b[0m w[ignore_mask] \u001b[38;5;241m=\u001b[39m \u001b[38;5;28mfloat\u001b[39m(\u001b[38;5;124m\"\u001b[39m\u001b[38;5;124m-inf\u001b[39m\u001b[38;5;124m\"\u001b[39m)\n",
      "\u001b[0;31mOutOfMemoryError\u001b[0m: CUDA out of memory. Tried to allocate 332.00 MiB. GPU 0 has a total capacty of 47.54 GiB of which 221.25 MiB is free. Including non-PyTorch memory, this process has 47.31 GiB memory in use. Of the allocated memory 46.52 GiB is allocated by PyTorch, and 488.59 MiB is reserved by PyTorch but unallocated. If reserved but unallocated memory is large try setting max_split_size_mb to avoid fragmentation.  See documentation for Memory Management and PYTORCH_CUDA_ALLOC_CONF"
     ]
    }
   ],
   "source": [
    "from sklearn.model_selection import ParameterGrid\n",
    "import copy\n",
    "\n",
    "torch.manual_seed(42)\n",
    "space = {\n",
    "    'lr': [1e-2], #np.linspace(1e-4, 1e-2, 4, endpoint=True),\n",
    "    'dropout':[0, 0.2,.4],\n",
    "    'block_size':[2, 4, 6],\n",
    "    'n_embd':[16, 32, 64],\n",
    "    'num_heads':[2, 4, 8],\n",
    "}\n",
    "param_grid = ParameterGrid(space)\n",
    "\n",
    "best_hyper_params = None\n",
    "best_val_loss = float(\"inf\")\n",
    "patience = 2\n",
    "i = 0\n",
    "for params in tqdm(param_grid.__iter__()):\n",
    "    lr = params[\"lr\"]\n",
    "    dropout = params[\"dropout\"]\n",
    "    block_size = params[\"block_size\"]\n",
    "    n_embd = params[\"n_embd\"]\n",
    "    num_heads = params[\"num_heads\"]\n",
    "    \n",
    "    model = TransformerModel(len(FEATURES), n_embd, num_heads, dropout, block_size).to(device)\n",
    "    models = []\n",
    "    optim= torch.optim.Adam(model.parameters(), lr = lr, weight_decay=wd)\n",
    "\n",
    "    torch.manual_seed(42)\n",
    "\n",
    "    last_val_loss = None\n",
    "    val_losses = []\n",
    "    never_breaked = True\n",
    "    for epoch in range(100):#5\n",
    "        for i, (x,y) in tqdm(enumerate(batch_loader[TRAIN])):\n",
    "            model.train()\n",
    "            optim.zero_grad()\n",
    "            \n",
    "            logits, logits_mask = model(x)\n",
    "            loss = torch.nn.functional.binary_cross_entropy_with_logits(logits[logits_mask].squeeze(-1), y[logits_mask], pos_weight=torch.tensor(WEIGHT))\n",
    "                \n",
    "            loss.backward()\n",
    "            optim.step()\n",
    "        losses = evaluate_loss_sets(model)\n",
    "        val_losses.append(losses[VAL])\n",
    "        models.append(copy.deepcopy(model))\n",
    "        print(val_losses)\n",
    "        if len(val_losses) >= patience and all(list(map(lambda l: losses[VAL] >= l, val_losses[-patience:]))):\n",
    "            print(f\"Break at {epoch}\")\n",
    "            never_breaked = False\n",
    "            model = models[-2]\n",
    "            break\n",
    "    if never_breaked:\n",
    "        print(\"Never breaked with params\")\n",
    "        print(params)\n",
    "    evaluate_auroc_sets(model)\n",
    "    if val_losses[-1]<= best_val_loss:\n",
    "        best_val_loss = min(val_losses[-1], best_val_loss)\n",
    "        best_hyper_params = params\n",
    "        print(\"Currently best params: \")\n",
    "        print(best_hyper_params)\n",
    "    i+=1\n",
    "    print(f\"{i/324*100} %\")"
   ]
  },
  {
   "cell_type": "code",
   "execution_count": null,
   "id": "0c35cc0b-d9db-4b0f-bafd-c002b0dd8cd3",
   "metadata": {},
   "outputs": [],
   "source": [
    "## TODO add layer norm after Blocks"
   ]
  }
 ],
 "metadata": {
  "kernelspec": {
   "display_name": "Python 3 (ipykernel)",
   "language": "python",
   "name": "python3"
  },
  "language_info": {
   "codemirror_mode": {
    "name": "ipython",
    "version": 3
   },
   "file_extension": ".py",
   "mimetype": "text/x-python",
   "name": "python",
   "nbconvert_exporter": "python",
   "pygments_lexer": "ipython3",
   "version": "3.10.12"
  }
 },
 "nbformat": 4,
 "nbformat_minor": 5
}
