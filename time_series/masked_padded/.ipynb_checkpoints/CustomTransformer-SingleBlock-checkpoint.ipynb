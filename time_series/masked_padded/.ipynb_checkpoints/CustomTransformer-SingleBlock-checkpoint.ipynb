{
 "cells": [
  {
   "cell_type": "markdown",
   "id": "490236b4-5f2d-47a6-abfa-40f411863e71",
   "metadata": {},
   "source": [
    "#### We re-start our transformer analysis here\n",
    "#### First, some assumptions or goals for this script:\n",
    " - training usinng SGD -> later batching\n",
    " - pad time series to maximum length with value -1 - first backward padding -> NOTE: forward padding will most probably cancel out the feature-induces bias\n",
    " - mask values which are -1\n",
    " - custom transformer\n",
    " - first information exchange over all measurements in a sequence (easier and should give the best scores)\n",
    " - Set manual seed for reproducibility and improvements over diverse hyperparams\n",
    " - first only one block, one head, without dropout (check validation loss and training loss diff after pre-def. intervals), without layernorm without ffd?\n",
    " - Now 1 block with ffd, 2 heads, batching, layer norm and pos encoding "
   ]
  },
  {
   "cell_type": "markdown",
   "id": "18229354-cd3e-43bd-a34c-8bdd0e220f75",
   "metadata": {},
   "source": [
    "## Dataset loader and preparation"
   ]
  },
  {
   "cell_type": "code",
   "execution_count": 165,
   "id": "f20ee0d6-e85e-4935-a58c-fbb3f76452f7",
   "metadata": {},
   "outputs": [],
   "source": [
    "import sys\n",
    "sys.path.insert(0, \"../\")\n",
    "from dataAnalysis.DataAnalysis import DataAnalysis\n",
    "import pandas as pd\n",
    "import torch\n",
    " \n",
    "data = pd.read_csv(r\"../sbcdata.csv\", header=0)\n",
    "data_analysis = DataAnalysis(data)"
   ]
  },
  {
   "cell_type": "code",
   "execution_count": 2,
   "id": "c8784566-1c9f-4f64-814a-6afaa149ac72",
   "metadata": {},
   "outputs": [],
   "source": [
    "data = pd.concat((data_analysis.get_training_data(), data_analysis.get_testing_data()))\n",
    "max_Id = data[\"Id\"].unique().max()\n",
    "gw_data = data_analysis.get_gw_testing_data().copy(deep=True)\n",
    "gw_data = gw_data.assign(Id=lambda x: x.Id + max_Id)\n",
    "data = pd.concat((data, gw_data))\n",
    "data = data.sort_values([\"Id\", \"Time\"])\n",
    "data = data.reset_index(drop=True)\n",
    "popped_index = data.pop(\"index\")"
   ]
  },
  {
   "cell_type": "code",
   "execution_count": 3,
   "id": "517e270b-b2e4-4287-a297-37155c5cbd85",
   "metadata": {},
   "outputs": [],
   "source": [
    "from dataAnalysis.Constants import SEX_CATEGORY_COLUMN_NAME, SEX_COLUMN_NAME, FEATURES, LABEL_COLUMN_NAME\n",
    "\n",
    "data[SEX_CATEGORY_COLUMN_NAME] = data.loc[:, SEX_COLUMN_NAME] ==\"W\"\n",
    "\n",
    "data[SEX_CATEGORY_COLUMN_NAME] = data[SEX_CATEGORY_COLUMN_NAME].astype(\"int8\")\n",
    "data[\"Label\"] = data[\"Label\"] == \"Sepsis\"\n",
    "data[\"Label\"] = data[\"Label\"].astype(\"int8\")"
   ]
  },
  {
   "cell_type": "markdown",
   "id": "0e2d6c76-3460-47ff-bbe1-e6dcc876b3f6",
   "metadata": {},
   "source": [
    "## Normalizer"
   ]
  },
  {
   "cell_type": "code",
   "execution_count": 4,
   "id": "6921df7b-52bf-4fbf-b464-312158cff5f3",
   "metadata": {},
   "outputs": [
    {
     "data": {
      "text/plain": [
       "array([[ 79.  ,   0.  ,   8.1 , ...,   4.36,  86.  , 167.  ],\n",
       "       [ 35.  ,   0.  ,  10.6 , ...,   6.02,  79.9 , 199.  ],\n",
       "       [ 47.  ,   1.  ,   8.7 , ...,   4.37,  89.9 , 298.  ],\n",
       "       ...,\n",
       "       [ 32.  ,   1.  ,   7.2 , ...,   3.87,  87.9 , 221.  ],\n",
       "       [ 47.  ,   0.  ,   8.3 , ...,   4.08,  91.9 , 148.  ],\n",
       "       [ 47.  ,   0.  ,   8.9 , ...,   4.39,  92.3 , 150.  ]])"
      ]
     },
     "execution_count": 4,
     "metadata": {},
     "output_type": "execute_result"
    }
   ],
   "source": [
    "data.loc[data[\"Set\"] == \"Training\", FEATURES].values"
   ]
  },
  {
   "cell_type": "code",
   "execution_count": 5,
   "id": "ed5cee5b-a4cd-422e-8eab-a54b1902535b",
   "metadata": {},
   "outputs": [
    {
     "data": {
      "text/html": [
       "<style>#sk-container-id-1 {color: black;}#sk-container-id-1 pre{padding: 0;}#sk-container-id-1 div.sk-toggleable {background-color: white;}#sk-container-id-1 label.sk-toggleable__label {cursor: pointer;display: block;width: 100%;margin-bottom: 0;padding: 0.3em;box-sizing: border-box;text-align: center;}#sk-container-id-1 label.sk-toggleable__label-arrow:before {content: \"▸\";float: left;margin-right: 0.25em;color: #696969;}#sk-container-id-1 label.sk-toggleable__label-arrow:hover:before {color: black;}#sk-container-id-1 div.sk-estimator:hover label.sk-toggleable__label-arrow:before {color: black;}#sk-container-id-1 div.sk-toggleable__content {max-height: 0;max-width: 0;overflow: hidden;text-align: left;background-color: #f0f8ff;}#sk-container-id-1 div.sk-toggleable__content pre {margin: 0.2em;color: black;border-radius: 0.25em;background-color: #f0f8ff;}#sk-container-id-1 input.sk-toggleable__control:checked~div.sk-toggleable__content {max-height: 200px;max-width: 100%;overflow: auto;}#sk-container-id-1 input.sk-toggleable__control:checked~label.sk-toggleable__label-arrow:before {content: \"▾\";}#sk-container-id-1 div.sk-estimator input.sk-toggleable__control:checked~label.sk-toggleable__label {background-color: #d4ebff;}#sk-container-id-1 div.sk-label input.sk-toggleable__control:checked~label.sk-toggleable__label {background-color: #d4ebff;}#sk-container-id-1 input.sk-hidden--visually {border: 0;clip: rect(1px 1px 1px 1px);clip: rect(1px, 1px, 1px, 1px);height: 1px;margin: -1px;overflow: hidden;padding: 0;position: absolute;width: 1px;}#sk-container-id-1 div.sk-estimator {font-family: monospace;background-color: #f0f8ff;border: 1px dotted black;border-radius: 0.25em;box-sizing: border-box;margin-bottom: 0.5em;}#sk-container-id-1 div.sk-estimator:hover {background-color: #d4ebff;}#sk-container-id-1 div.sk-parallel-item::after {content: \"\";width: 100%;border-bottom: 1px solid gray;flex-grow: 1;}#sk-container-id-1 div.sk-label:hover label.sk-toggleable__label {background-color: #d4ebff;}#sk-container-id-1 div.sk-serial::before {content: \"\";position: absolute;border-left: 1px solid gray;box-sizing: border-box;top: 0;bottom: 0;left: 50%;z-index: 0;}#sk-container-id-1 div.sk-serial {display: flex;flex-direction: column;align-items: center;background-color: white;padding-right: 0.2em;padding-left: 0.2em;position: relative;}#sk-container-id-1 div.sk-item {position: relative;z-index: 1;}#sk-container-id-1 div.sk-parallel {display: flex;align-items: stretch;justify-content: center;background-color: white;position: relative;}#sk-container-id-1 div.sk-item::before, #sk-container-id-1 div.sk-parallel-item::before {content: \"\";position: absolute;border-left: 1px solid gray;box-sizing: border-box;top: 0;bottom: 0;left: 50%;z-index: -1;}#sk-container-id-1 div.sk-parallel-item {display: flex;flex-direction: column;z-index: 1;position: relative;background-color: white;}#sk-container-id-1 div.sk-parallel-item:first-child::after {align-self: flex-end;width: 50%;}#sk-container-id-1 div.sk-parallel-item:last-child::after {align-self: flex-start;width: 50%;}#sk-container-id-1 div.sk-parallel-item:only-child::after {width: 0;}#sk-container-id-1 div.sk-dashed-wrapped {border: 1px dashed gray;margin: 0 0.4em 0.5em 0.4em;box-sizing: border-box;padding-bottom: 0.4em;background-color: white;}#sk-container-id-1 div.sk-label label {font-family: monospace;font-weight: bold;display: inline-block;line-height: 1.2em;}#sk-container-id-1 div.sk-label-container {text-align: center;}#sk-container-id-1 div.sk-container {/* jupyter's `normalize.less` sets `[hidden] { display: none; }` but bootstrap.min.css set `[hidden] { display: none !important; }` so we also need the `!important` here to be able to override the default hidden behavior on the sphinx rendered scikit-learn.org. See: https://github.com/scikit-learn/scikit-learn/issues/21755 */display: inline-block !important;position: relative;}#sk-container-id-1 div.sk-text-repr-fallback {display: none;}</style><div id=\"sk-container-id-1\" class=\"sk-top-container\"><div class=\"sk-text-repr-fallback\"><pre>StandardScaler()</pre><b>In a Jupyter environment, please rerun this cell to show the HTML representation or trust the notebook. <br />On GitHub, the HTML representation is unable to render, please try loading this page with nbviewer.org.</b></div><div class=\"sk-container\" hidden><div class=\"sk-item\"><div class=\"sk-estimator sk-toggleable\"><input class=\"sk-toggleable__control sk-hidden--visually\" id=\"sk-estimator-id-1\" type=\"checkbox\" checked><label for=\"sk-estimator-id-1\" class=\"sk-toggleable__label sk-toggleable__label-arrow\">StandardScaler</label><div class=\"sk-toggleable__content\"><pre>StandardScaler()</pre></div></div></div></div></div>"
      ],
      "text/plain": [
       "StandardScaler()"
      ]
     },
     "execution_count": 5,
     "metadata": {},
     "output_type": "execute_result"
    }
   ],
   "source": [
    "from sklearn.preprocessing import StandardScaler\n",
    "scaler = StandardScaler()\n",
    "scaler.fit(data.loc[data[\"Set\"] == \"Training\", FEATURES].values)"
   ]
  },
  {
   "cell_type": "markdown",
   "id": "e996e288-96e8-44e0-8131-ae790eb0dace",
   "metadata": {},
   "source": [
    "## Padding to max length"
   ]
  },
  {
   "cell_type": "code",
   "execution_count": 6,
   "id": "d1f06201-e1ca-43bf-8bbd-8f4c7535267b",
   "metadata": {},
   "outputs": [],
   "source": [
    "id_grouped_data = data.groupby(\"Id\")"
   ]
  },
  {
   "cell_type": "code",
   "execution_count": 7,
   "id": "d70a5569-3843-46ba-9beb-61b8f0207504",
   "metadata": {},
   "outputs": [
    {
     "data": {
      "application/vnd.jupyter.widget-view+json": {
       "model_id": "00f03a27b67d4036a327bbcddfbbefbc",
       "version_major": 2,
       "version_minor": 0
      },
      "text/plain": [
       "  0%|          | 0/866517 [00:00<?, ?it/s]"
      ]
     },
     "metadata": {},
     "output_type": "display_data"
    }
   ],
   "source": [
    "from tqdm.notebook import tqdm\n",
    "\n",
    "max_len = 0\n",
    "for id, data_group in tqdm(id_grouped_data):\n",
    "    max_len = max(max_len, data_group.shape[0])"
   ]
  },
  {
   "cell_type": "code",
   "execution_count": 8,
   "id": "fef818a9-caac-4f72-977f-677537e35674",
   "metadata": {},
   "outputs": [],
   "source": [
    "unique_train_ids = data.loc[data[\"Set\"] == \"Training\", \"Id\"].unique()\n",
    "max_train_idx = int(len(unique_train_ids)*.8)\n",
    "val_ids = unique_train_ids[max_train_idx:]"
   ]
  },
  {
   "cell_type": "code",
   "execution_count": 10,
   "id": "97f491cf-ef73-4245-9159-37953f0ae1c4",
   "metadata": {},
   "outputs": [
    {
     "data": {
      "application/vnd.jupyter.widget-view+json": {
       "model_id": "d363a448cf8341d0b67c816b809e3c1f",
       "version_major": 2,
       "version_minor": 0
      },
      "text/plain": [
       "  0%|          | 0/866517 [00:00<?, ?it/s]"
      ]
     },
     "metadata": {},
     "output_type": "display_data"
    }
   ],
   "source": [
    "import numpy as np\n",
    "\n",
    "pad_value = -10.0\n",
    "TRAIN = \"train\"\n",
    "GW = \"gw_test\"\n",
    "TEST = \"test\"\n",
    "VAL = \"val\"\n",
    "\n",
    "features = dict({})\n",
    "features[TRAIN] = []\n",
    "features[VAL] = []\n",
    "features[TEST] = []\n",
    "features[GW] = []\n",
    "\n",
    "labels = dict({})\n",
    "labels[TRAIN] = []\n",
    "labels[VAL] = []\n",
    "labels[TEST] = []\n",
    "labels[GW] = []\n",
    "\n",
    "for id, data_group in tqdm(id_grouped_data):\n",
    "    assert data_group[\"Set\"].unique().shape[0] == 1\n",
    "    assert data_group[\"Center\"].unique().shape[0] == 1\n",
    "\n",
    "    features_scaled = scaler.transform(data_group[FEATURES].values)\n",
    "\n",
    "    padded_features = np.pad(features_scaled, ((0, max_len - data_group.shape[0]), (0,0)), mode='constant', constant_values=pad_value)\n",
    "    padded_labels = np.pad(data_group[LABEL_COLUMN_NAME].values, ((0, max_len - data_group.shape[0])), mode='constant', constant_values=pad_value)\n",
    "    \n",
    "    first_el = data_group.iloc[0, :]\n",
    "    if first_el[\"Set\"] == \"Training\":\n",
    "        if first_el[\"Id\"] in val_ids:\n",
    "            features[VAL].append(padded_features)\n",
    "            labels[VAL].append(padded_labels)\n",
    "            continue\n",
    "        if first_el[\"Id\"] not in val_ids:\n",
    "            features[TRAIN].append(padded_features)\n",
    "            labels[TRAIN].append(padded_labels)\n",
    "            continue\n",
    "    if first_el[\"Set\"] == \"Validation\":\n",
    "        if first_el[\"Center\"] == \"Greifswald\":\n",
    "            features[GW].append(padded_features)\n",
    "            labels[GW].append(padded_labels)\n",
    "            continue\n",
    "        if first_el[\"Center\"] == \"Leipzig\":\n",
    "            features[TEST].append(padded_features)\n",
    "            labels[TEST].append(padded_labels)\n",
    "            continue"
   ]
  },
  {
   "cell_type": "markdown",
   "id": "b2bdac22-9b02-4077-a7f4-4db4a0ab5050",
   "metadata": {},
   "source": [
    "## Seed and hyperparams"
   ]
  },
  {
   "cell_type": "code",
   "execution_count": 28,
   "id": "c08009fa-f788-40d9-9a15-6ad7c5bb44c1",
   "metadata": {},
   "outputs": [],
   "source": [
    "torch.manual_seed(42)\n",
    "n_embd = len(FEATURES)\n",
    "head_size = 16\n",
    "dropout = 0\n",
    "out_dim = 1 #binary \n",
    "device = torch.device(\"cuda:2\") #torch.device(\"cuda:2\") #torch.device(\"cuda:2\")\n",
    "WEIGHT = 664\n",
    "lr = 1e-2\n",
    "wd = 0\n",
    "n_blocks = 2\n",
    "n_heads = 4"
   ]
  },
  {
   "cell_type": "markdown",
   "id": "92127f1f-f8bf-41b7-be8f-aa85d0e3eba3",
   "metadata": {},
   "source": [
    "## Batching "
   ]
  },
  {
   "cell_type": "code",
   "execution_count": 29,
   "id": "270f681d-a1aa-4c29-99aa-b31cd962b9cb",
   "metadata": {},
   "outputs": [],
   "source": [
    "from torch.utils.data import DataLoader\n",
    "from torch.utils.data import Dataset\n",
    "\n",
    "class Data(Dataset):\n",
    "    # Constructor\n",
    "    def __init__(self,X, y):\n",
    "        self.x = X\n",
    "        self.y = y\n",
    "        self.len = self.x.shape[0]\n",
    "\n",
    "    def __getitem__(self, index):\n",
    "        return self.x[index], self.y[index]\n",
    "\n",
    "    def __len__(self):\n",
    "        return self.len"
   ]
  },
  {
   "cell_type": "code",
   "execution_count": 30,
   "id": "455e9028-81aa-4f8f-9e1d-3c8493b21e1b",
   "metadata": {},
   "outputs": [],
   "source": [
    "batch_loader = dict({})"
   ]
  },
  {
   "cell_type": "code",
   "execution_count": 31,
   "id": "98a9c611-0cae-4f7d-983c-6bccab281d6d",
   "metadata": {},
   "outputs": [],
   "source": [
    "def add_loader(set_name):\n",
    "    global bitch_loader, sets, labels\n",
    "    dataset = Data(torch.from_numpy(np.array(features[set_name])).type(torch.float).to(device), torch.from_numpy(np.array(labels[set_name])).type(torch.float).to(device))\n",
    "    loader = DataLoader(dataset=dataset, batch_size=500) #max is 100_000\n",
    "    batch_loader[set_name] = loader"
   ]
  },
  {
   "cell_type": "code",
   "execution_count": 32,
   "id": "5d221dbe-a7c3-414f-a23e-f390f551e609",
   "metadata": {},
   "outputs": [],
   "source": [
    "add_loader(TRAIN)\n",
    "add_loader(VAL)\n",
    "add_loader(GW)\n",
    "add_loader(TEST)"
   ]
  },
  {
   "cell_type": "markdown",
   "id": "4c638073-48af-4513-81f7-87f8729c4e14",
   "metadata": {},
   "source": [
    "## Model"
   ]
  },
  {
   "cell_type": "code",
   "execution_count": 33,
   "id": "1c1e7ff0-892d-462b-8096-d78f851db971",
   "metadata": {},
   "outputs": [],
   "source": [
    "import torch \n",
    "\n",
    "torch.manual_seed(42)\n",
    "class Head(torch.nn.Module):\n",
    "\n",
    "    def __init__(self, n_embd, head_size, dropout):\n",
    "        super(Head, self).__init__()\n",
    "\n",
    "        self.query = torch.nn.Linear(n_embd, head_size, bias=False)\n",
    "        self.key = torch.nn.Linear(n_embd, head_size, bias = False)\n",
    "        self.value = torch.nn.Linear(n_embd, head_size, bias = False)\n",
    "        self.dropout = torch.nn.Dropout(dropout)\n",
    "\n",
    "    def forward(self, x, ignore_mask):\n",
    "        B,T,C = x.shape\n",
    "        \n",
    "        k = self.key(x)\n",
    "        q = self.query(x)\n",
    "        v = self.value(x)\n",
    "\n",
    "        w = q@k.transpose(-2,-1)\n",
    "        w = w* C**-.5\n",
    "        w[ignore_mask] = float(\"-inf\")\n",
    "        w = torch.nan_to_num(torch.softmax(w, dim = -1))\n",
    "        \n",
    "        w = self.dropout(w)    \n",
    "        out = w@v\n",
    "        return out\n",
    "        "
   ]
  },
  {
   "cell_type": "code",
   "execution_count": 34,
   "id": "d97973e4-40a2-4485-bb90-f570737023f4",
   "metadata": {},
   "outputs": [],
   "source": [
    "import torch \n",
    "class MultiHeadAttention(torch.nn.Module):\n",
    "\n",
    "    def __init__(self, n_embd, num_heads, head_size, dropout):\n",
    "        super(MultiHeadAttention, self).__init__()\n",
    "        head_size = n_embd // n_heads\n",
    "        self.heads = torch.nn.ModuleList([Head(n_embd, head_size, dropout) for _ in range(num_heads)])\n",
    "        self.proj = torch.nn.Linear(head_size*num_heads, n_embd)\n",
    "        self.dropout = torch.nn.Dropout(dropout)\n",
    "\n",
    "    def forward(self, x, ignore_mask):\n",
    "        out = torch.cat([h(x, ignore_mask) for h in self.heads], dim = -1)\n",
    "        out = self.proj(out)\n",
    "        out = self.dropout(out)\n",
    "        return out"
   ]
  },
  {
   "cell_type": "code",
   "execution_count": 35,
   "id": "80bcfd44-adf4-49a3-8961-19de38b23af5",
   "metadata": {},
   "outputs": [],
   "source": [
    "class FeedForward(torch.nn.Module):\n",
    "\n",
    "    def __init__(self, n_embd, dropout):\n",
    "        super(FeedForward, self).__init__()\n",
    "        self.lin = torch.nn.Linear(n_embd, 4*n_embd)\n",
    "        self.proj = torch.nn.Linear(4*n_embd, n_embd)\n",
    "        self.dropout = torch.nn.Dropout(dropout)\n",
    "\n",
    "    def forward(self, x):\n",
    "        x = self.lin(x)\n",
    "        x = torch.nn.functional.relu(x)\n",
    "        x = self.proj(x)\n",
    "        x = self.dropout(x)\n",
    "        return x"
   ]
  },
  {
   "cell_type": "code",
   "execution_count": 36,
   "id": "6e49b754-6ee2-4fac-a1a8-6a17a0a3b518",
   "metadata": {},
   "outputs": [],
   "source": [
    "class Block(torch.nn.Module):\n",
    "    def __init__(self, n_embd, n_heads, dropout):\n",
    "        super(Block, self).__init__()\n",
    "        head_size = n_embd // n_heads\n",
    "\n",
    "        self.sa_heads = MultiHeadAttention(n_embd, n_heads, head_size, dropout)\n",
    "        self.ffwd = FeedForward(n_embd, dropout)\n",
    "        self.layer_norm_1 = torch.nn.LayerNorm(n_embd)\n",
    "        self.layer_norm_2 = torch.nn.LayerNorm(n_embd)\n",
    "\n",
    "    def forward(self, x, ignore_mask):\n",
    "        x = x + self.sa_heads(self.layer_norm_1(x), ignore_mask)\n",
    "        x = x + self.ffwd(self.layer_norm_2(x))\n",
    "        return x"
   ]
  },
  {
   "cell_type": "code",
   "execution_count": 156,
   "id": "21724db2-ec23-4f55-8416-315cded98d2d",
   "metadata": {},
   "outputs": [],
   "source": [
    "from torch import nn\n",
    "from torch.nn import functional as F\n",
    "\n",
    "torch.manual_seed(42)\n",
    "class TransformerModel(nn.Module):\n",
    "\n",
    "    def __init__(self, input_dim, n_embd, n_heads, dropout, n_blocks):\n",
    "        super(TransformerModel, self).__init__()\n",
    "\n",
    "        self.pos_embedding_table = nn.Embedding(max_len, n_embd)\n",
    "        \n",
    "        self.block = Block(n_embd, n_heads, dropout)\n",
    "        # self.lm_head = nn.Linear(n_embd, vocab_size)\n",
    "        # self.sa = Head(head_size)\n",
    "        self.lin = nn.Linear(n_embd, out_dim)\n",
    "\n",
    "    def forward(self, x, targets = None):\n",
    "        B, T, C = x.shape\n",
    "        pad_mask = (x != pad_value).type(torch.float)\n",
    "        ignore_mask = torch.bmm(pad_mask, pad_mask.transpose(-2,-1))\n",
    "        ignore_mask = ignore_mask == 0\n",
    "\n",
    "        pos_emb = self.pos_embedding_table(torch.arange(T, device = device))\n",
    "        x = x + pos_emb\n",
    "\n",
    "        x = self.block(x, ignore_mask)\n",
    "        logits = self.lin(x)\n",
    "        logits_mask = ignore_mask.sum(-1) != max_len\n",
    "        \n",
    "        return logits, logits_mask"
   ]
  },
  {
   "cell_type": "markdown",
   "id": "40c075cc-1333-4706-85ed-11b6ab0e3acc",
   "metadata": {},
   "source": [
    "## Evaluate"
   ]
  },
  {
   "cell_type": "code",
   "execution_count": 157,
   "id": "aad2bf23-22df-4204-ae11-8ff78ae5f4c8",
   "metadata": {},
   "outputs": [],
   "source": [
    "def evaluate_loss(model, set_name):\n",
    "    with torch.inference_mode():\n",
    "        model.eval()\n",
    "        acc_loss = 0\n",
    "        batch_size = 0\n",
    "\n",
    "        for i, (x,y) in enumerate(batch_loader[set_name]):\n",
    "            B,_,_ = x.shape\n",
    "            logits, logits_mask = model(x)\n",
    "        \n",
    "            loss = torch.nn.functional.binary_cross_entropy_with_logits(logits[logits_mask].squeeze(-1), y[logits_mask], pos_weight=torch.tensor(WEIGHT))\n",
    "            acc_loss += loss.item()\n",
    "            batch_size += B\n",
    "    return acc_loss / batch_size        "
   ]
  },
  {
   "cell_type": "code",
   "execution_count": 158,
   "id": "c607fedb-b8e6-4104-a818-778d1f00be6f",
   "metadata": {},
   "outputs": [],
   "source": [
    "def evaluate_loss_sets(model):\n",
    "    losses = dict({})\n",
    "    for set_name in features.keys():\n",
    "        # if set_name != VAL:\n",
    "        #     continue\n",
    "        loss = evaluate_loss(model, set_name)\n",
    "        losses[set_name] = loss\n",
    "        print(f\"Loss of {set_name}: {loss:.5f}\") \n",
    "    return losses\n",
    "        "
   ]
  },
  {
   "cell_type": "code",
   "execution_count": 159,
   "id": "1bb27c79-5e05-4180-8181-b2be847ca22d",
   "metadata": {},
   "outputs": [],
   "source": [
    "from sklearn.metrics import roc_auc_score, accuracy_score\n",
    "\n",
    "def evaluate_auroc(model, set_name):\n",
    "    with torch.inference_mode():\n",
    "        model.eval()\n",
    "        \n",
    "        logits_list = []\n",
    "        label_list = []\n",
    "\n",
    "        batch_size = 0\n",
    "        for i, (x,y) in enumerate(batch_loader[set_name]):\n",
    "            B,_,_ = x.shape\n",
    "            logits, logits_mask = model(x)\n",
    "\n",
    "            logits_list.extend(logits[logits_mask].squeeze(-1).tolist())\n",
    "            label_list.extend(y[logits_mask].squeeze(-1).tolist())\n",
    "            batch_size += B\n",
    "    auroc = roc_auc_score(np.array(label_list), torch.sigmoid(torch.tensor(logits_list)).numpy())\n",
    "    return auroc        "
   ]
  },
  {
   "cell_type": "code",
   "execution_count": 160,
   "id": "82d13cdd-c7c2-404b-80be-e31f4362e349",
   "metadata": {},
   "outputs": [],
   "source": [
    "def evaluate_auroc_sets(model):\n",
    "    for set_name in features.keys():\n",
    "        if set_name == TRAIN:\n",
    "            continue\n",
    "        auroc = evaluate_auroc(model, set_name)\n",
    "        print(f\"AUROC of {set_name}: {auroc:.5f}\")"
   ]
  },
  {
   "cell_type": "markdown",
   "id": "e59ef05b-7e7a-4a86-8f8e-31b46d9207c2",
   "metadata": {},
   "source": [
    "## Train"
   ]
  },
  {
   "cell_type": "code",
   "execution_count": 161,
   "id": "e2e6f14e-bba3-4066-9aa8-5e8b36d55f93",
   "metadata": {},
   "outputs": [],
   "source": [
    "torch.manual_seed(42)\n",
    "input_dim, n_embd, n_heads, dropout, n_blocks = len(FEATURES), len(FEATURES), 7, 0.0, 1\n",
    "model = TransformerModel(input_dim, n_embd, n_heads, dropout, n_blocks).to(device)\n",
    "optim= torch.optim.Adam(model.parameters(), lr = 1e-2, weight_decay=wd)"
   ]
  },
  {
   "cell_type": "code",
   "execution_count": 162,
   "id": "fbfb5f8e-7250-4872-a7cc-fe0e6780d6d4",
   "metadata": {},
   "outputs": [],
   "source": [
    "# torch.manual_seed(42)\n",
    "# evaluate_auroc_sets(TransformerModel(input_dim, n_embd, n_heads, dropout, n_blocks).to(device))"
   ]
  },
  {
   "cell_type": "code",
   "execution_count": 166,
   "id": "18781ac1-dfc7-4784-b8a6-e8159f74fe5d",
   "metadata": {},
   "outputs": [
    {
     "name": "stdout",
     "output_type": "stream",
     "text": [
      "Loss of train: 0.00137\n",
      "Loss of val: 0.00173\n",
      "Loss of test: 0.00146\n",
      "Loss of gw_test: 0.00136\n"
     ]
    },
    {
     "data": {
      "application/vnd.jupyter.widget-view+json": {
       "model_id": "83708e9049d84cec9341b26e1fa40dc1",
       "version_major": 2,
       "version_minor": 0
      },
      "text/plain": [
       "0it [00:00, ?it/s]"
      ]
     },
     "metadata": {},
     "output_type": "display_data"
    },
    {
     "ename": "KeyboardInterrupt",
     "evalue": "",
     "output_type": "error",
     "traceback": [
      "\u001b[0;31m---------------------------------------------------------------------------\u001b[0m",
      "\u001b[0;31mKeyboardInterrupt\u001b[0m                         Traceback (most recent call last)",
      "Cell \u001b[0;32mIn[166], line 11\u001b[0m\n\u001b[1;32m      8\u001b[0m optim\u001b[38;5;241m.\u001b[39mzero_grad()\n\u001b[1;32m     10\u001b[0m logits, logits_mask \u001b[38;5;241m=\u001b[39m model(x)\n\u001b[0;32m---> 11\u001b[0m loss \u001b[38;5;241m=\u001b[39m torch\u001b[38;5;241m.\u001b[39mnn\u001b[38;5;241m.\u001b[39mfunctional\u001b[38;5;241m.\u001b[39mbinary_cross_entropy_with_logits(\u001b[43mlogits\u001b[49m\u001b[43m[\u001b[49m\u001b[43mlogits_mask\u001b[49m\u001b[43m]\u001b[49m\u001b[38;5;241;43m.\u001b[39;49m\u001b[43msqueeze\u001b[49m\u001b[43m(\u001b[49m\u001b[38;5;241;43m-\u001b[39;49m\u001b[38;5;241;43m1\u001b[39;49m\u001b[43m)\u001b[49m, y[logits_mask], pos_weight\u001b[38;5;241m=\u001b[39mtorch\u001b[38;5;241m.\u001b[39mtensor(WEIGHT))\n\u001b[1;32m     13\u001b[0m loss\u001b[38;5;241m.\u001b[39mbackward()\n\u001b[1;32m     14\u001b[0m optim\u001b[38;5;241m.\u001b[39mstep()\n",
      "\u001b[0;31mKeyboardInterrupt\u001b[0m: "
     ]
    }
   ],
   "source": [
    "torch.manual_seed(42)\n",
    "\n",
    "evaluate_loss_sets(model)\n",
    "last_val_loss = None\n",
    "for epoch in range(5):#5\n",
    "    for i, (x,y) in tqdm(enumerate(batch_loader[TRAIN])):\n",
    "        model.train()\n",
    "        optim.zero_grad()\n",
    "        \n",
    "        logits, logits_mask = model(x)\n",
    "        loss = torch.nn.functional.binary_cross_entropy_with_logits(logits[logits_mask].squeeze(-1), y[logits_mask], pos_weight=torch.tensor(WEIGHT))\n",
    "            \n",
    "        loss.backward()\n",
    "        optim.step()\n",
    "    losses = evaluate_loss_sets(model)\n",
    "    # if last_val_loss and last_val_loss <= losses[VAL]:\n",
    "    #     print(epoch)\n",
    "    #     break\n",
    "    last_val_loss = losses[VAL]"
   ]
  },
  {
   "cell_type": "code",
   "execution_count": 164,
   "id": "ee88475f-5a55-4ecf-b1aa-8a105a39e15c",
   "metadata": {},
   "outputs": [
    {
     "name": "stdout",
     "output_type": "stream",
     "text": [
      "AUROC of val: 0.89290\n",
      "AUROC of test: 0.90647\n",
      "AUROC of gw_test: 0.89353\n"
     ]
    }
   ],
   "source": [
    "torch.manual_seed(42)\n",
    "evaluate_auroc_sets(model) ##removed pos awareness"
   ]
  },
  {
   "cell_type": "code",
   "execution_count": null,
   "id": "f9449be1-2697-46e9-be92-20795ccc6861",
   "metadata": {},
   "outputs": [
    {
     "data": {
      "application/vnd.jupyter.widget-view+json": {
       "model_id": "4000072ded5849eb9d07f0245c0cd416",
       "version_major": 2,
       "version_minor": 0
      },
      "text/plain": [
       "0it [00:00, ?it/s]"
      ]
     },
     "metadata": {},
     "output_type": "display_data"
    },
    {
     "data": {
      "application/vnd.jupyter.widget-view+json": {
       "model_id": "c6673c2e9a224e35b9c0f4b7c72e823e",
       "version_major": 2,
       "version_minor": 0
      },
      "text/plain": [
       "0it [00:00, ?it/s]"
      ]
     },
     "metadata": {},
     "output_type": "display_data"
    },
    {
     "name": "stdout",
     "output_type": "stream",
     "text": [
      "Loss of train: 0.00277\n",
      "Loss of val: 0.00285\n",
      "Loss of test: 0.00259\n",
      "Loss of gw_test: 0.00235\n",
      "[0.0028475027928988148]\n"
     ]
    },
    {
     "data": {
      "application/vnd.jupyter.widget-view+json": {
       "model_id": "8fa0d1cb40704056ab7a32a154aff999",
       "version_major": 2,
       "version_minor": 0
      },
      "text/plain": [
       "0it [00:00, ?it/s]"
      ]
     },
     "metadata": {},
     "output_type": "display_data"
    },
    {
     "name": "stdout",
     "output_type": "stream",
     "text": [
      "Loss of train: 0.00254\n",
      "Loss of val: 0.00263\n",
      "Loss of test: 0.00238\n",
      "Loss of gw_test: 0.00222\n",
      "[0.0028475027928988148, 0.0026299147676955886]\n"
     ]
    },
    {
     "data": {
      "application/vnd.jupyter.widget-view+json": {
       "model_id": "7592f06f23c243fab839abd57345a8e5",
       "version_major": 2,
       "version_minor": 0
      },
      "text/plain": [
       "0it [00:00, ?it/s]"
      ]
     },
     "metadata": {},
     "output_type": "display_data"
    },
    {
     "name": "stdout",
     "output_type": "stream",
     "text": [
      "Loss of train: 0.00239\n",
      "Loss of val: 0.00248\n",
      "Loss of test: 0.00225\n",
      "Loss of gw_test: 0.00216\n",
      "[0.0028475027928988148, 0.0026299147676955886, 0.0024794200818581396]\n"
     ]
    },
    {
     "data": {
      "application/vnd.jupyter.widget-view+json": {
       "model_id": "d0d4d7cd83d74838984f15e1c1c7e461",
       "version_major": 2,
       "version_minor": 0
      },
      "text/plain": [
       "0it [00:00, ?it/s]"
      ]
     },
     "metadata": {},
     "output_type": "display_data"
    },
    {
     "name": "stdout",
     "output_type": "stream",
     "text": [
      "Loss of train: 0.00227\n",
      "Loss of val: 0.00236\n",
      "Loss of test: 0.00215\n",
      "Loss of gw_test: 0.00211\n",
      "[0.0028475027928988148, 0.0026299147676955886, 0.0024794200818581396, 0.0023570935858059972]\n"
     ]
    },
    {
     "data": {
      "application/vnd.jupyter.widget-view+json": {
       "model_id": "796fda35d33f4624bcc306b6ac5093cc",
       "version_major": 2,
       "version_minor": 0
      },
      "text/plain": [
       "0it [00:00, ?it/s]"
      ]
     },
     "metadata": {},
     "output_type": "display_data"
    },
    {
     "name": "stdout",
     "output_type": "stream",
     "text": [
      "Loss of train: 0.00215\n",
      "Loss of val: 0.00224\n",
      "Loss of test: 0.00206\n",
      "Loss of gw_test: 0.00202\n",
      "[0.0028475027928988148, 0.0026299147676955886, 0.0024794200818581396, 0.0023570935858059972, 0.002237402742462811]\n"
     ]
    },
    {
     "data": {
      "application/vnd.jupyter.widget-view+json": {
       "model_id": "60aa5c93b4dc49fd97fbe57e2c6c48ff",
       "version_major": 2,
       "version_minor": 0
      },
      "text/plain": [
       "0it [00:00, ?it/s]"
      ]
     },
     "metadata": {},
     "output_type": "display_data"
    },
    {
     "name": "stdout",
     "output_type": "stream",
     "text": [
      "Loss of train: 0.00205\n",
      "Loss of val: 0.00213\n",
      "Loss of test: 0.00197\n",
      "Loss of gw_test: 0.00193\n",
      "[0.0028475027928988148, 0.0026299147676955886, 0.0024794200818581396, 0.0023570935858059972, 0.002237402742462811, 0.002132957615577281]\n"
     ]
    },
    {
     "data": {
      "application/vnd.jupyter.widget-view+json": {
       "model_id": "9d028e49ed6a46fd90a5dda6e266961b",
       "version_major": 2,
       "version_minor": 0
      },
      "text/plain": [
       "0it [00:00, ?it/s]"
      ]
     },
     "metadata": {},
     "output_type": "display_data"
    },
    {
     "name": "stdout",
     "output_type": "stream",
     "text": [
      "Loss of train: 0.00198\n",
      "Loss of val: 0.00207\n",
      "Loss of test: 0.00192\n",
      "Loss of gw_test: 0.00186\n",
      "[0.0028475027928988148, 0.0026299147676955886, 0.0024794200818581396, 0.0023570935858059972, 0.002237402742462811, 0.002132957615577281, 0.0020653048861039294]\n"
     ]
    },
    {
     "data": {
      "application/vnd.jupyter.widget-view+json": {
       "model_id": "d123d027946d4dbfbed565cf9bfb2176",
       "version_major": 2,
       "version_minor": 0
      },
      "text/plain": [
       "0it [00:00, ?it/s]"
      ]
     },
     "metadata": {},
     "output_type": "display_data"
    },
    {
     "name": "stdout",
     "output_type": "stream",
     "text": [
      "Loss of train: 0.00193\n",
      "Loss of val: 0.00202\n",
      "Loss of test: 0.00189\n",
      "Loss of gw_test: 0.00182\n",
      "[0.0028475027928988148, 0.0026299147676955886, 0.0024794200818581396, 0.0023570935858059972, 0.002237402742462811, 0.002132957615577281, 0.0020653048861039294, 0.0020241492792607467]\n"
     ]
    },
    {
     "data": {
      "application/vnd.jupyter.widget-view+json": {
       "model_id": "84eae3987d244419aa8566ad4933bd9b",
       "version_major": 2,
       "version_minor": 0
      },
      "text/plain": [
       "0it [00:00, ?it/s]"
      ]
     },
     "metadata": {},
     "output_type": "display_data"
    },
    {
     "name": "stdout",
     "output_type": "stream",
     "text": [
      "Loss of train: 0.00190\n",
      "Loss of val: 0.00200\n",
      "Loss of test: 0.00186\n",
      "Loss of gw_test: 0.00179\n",
      "[0.0028475027928988148, 0.0026299147676955886, 0.0024794200818581396, 0.0023570935858059972, 0.002237402742462811, 0.002132957615577281, 0.0020653048861039294, 0.0020241492792607467, 0.001996104788540261]\n"
     ]
    },
    {
     "data": {
      "application/vnd.jupyter.widget-view+json": {
       "model_id": "0b038d950b9b420289b4e625b5d179a7",
       "version_major": 2,
       "version_minor": 0
      },
      "text/plain": [
       "0it [00:00, ?it/s]"
      ]
     },
     "metadata": {},
     "output_type": "display_data"
    },
    {
     "name": "stdout",
     "output_type": "stream",
     "text": [
      "Loss of train: 0.00188\n",
      "Loss of val: 0.00197\n",
      "Loss of test: 0.00185\n",
      "Loss of gw_test: 0.00177\n",
      "[0.0028475027928988148, 0.0026299147676955886, 0.0024794200818581396, 0.0023570935858059972, 0.002237402742462811, 0.002132957615577281, 0.0020653048861039294, 0.0020241492792607467, 0.001996104788540261, 0.001974195388088457]\n"
     ]
    },
    {
     "data": {
      "application/vnd.jupyter.widget-view+json": {
       "model_id": "08e7c3791e8647e0b6111ed19484017c",
       "version_major": 2,
       "version_minor": 0
      },
      "text/plain": [
       "0it [00:00, ?it/s]"
      ]
     },
     "metadata": {},
     "output_type": "display_data"
    },
    {
     "name": "stdout",
     "output_type": "stream",
     "text": [
      "Loss of train: 0.00185\n",
      "Loss of val: 0.00196\n",
      "Loss of test: 0.00183\n",
      "Loss of gw_test: 0.00175\n",
      "[0.0028475027928988148, 0.0026299147676955886, 0.0024794200818581396, 0.0023570935858059972, 0.002237402742462811, 0.002132957615577281, 0.0020653048861039294, 0.0020241492792607467, 0.001996104788540261, 0.001974195388088457, 0.0019563282777393105]\n"
     ]
    },
    {
     "data": {
      "application/vnd.jupyter.widget-view+json": {
       "model_id": "1420d4bca25a45fb815a5bd34b08a151",
       "version_major": 2,
       "version_minor": 0
      },
      "text/plain": [
       "0it [00:00, ?it/s]"
      ]
     },
     "metadata": {},
     "output_type": "display_data"
    },
    {
     "name": "stdout",
     "output_type": "stream",
     "text": [
      "Loss of train: 0.00184\n",
      "Loss of val: 0.00194\n",
      "Loss of test: 0.00182\n",
      "Loss of gw_test: 0.00174\n",
      "[0.0028475027928988148, 0.0026299147676955886, 0.0024794200818581396, 0.0023570935858059972, 0.002237402742462811, 0.002132957615577281, 0.0020653048861039294, 0.0020241492792607467, 0.001996104788540261, 0.001974195388088457, 0.0019563282777393105, 0.001941310288146041]\n"
     ]
    },
    {
     "data": {
      "application/vnd.jupyter.widget-view+json": {
       "model_id": "7a2d2f527de84d4f9b2006cab6baf68e",
       "version_major": 2,
       "version_minor": 0
      },
      "text/plain": [
       "0it [00:00, ?it/s]"
      ]
     },
     "metadata": {},
     "output_type": "display_data"
    },
    {
     "name": "stdout",
     "output_type": "stream",
     "text": [
      "Loss of train: 0.00182\n",
      "Loss of val: 0.00193\n",
      "Loss of test: 0.00181\n",
      "Loss of gw_test: 0.00173\n",
      "[0.0028475027928988148, 0.0026299147676955886, 0.0024794200818581396, 0.0023570935858059972, 0.002237402742462811, 0.002132957615577281, 0.0020653048861039294, 0.0020241492792607467, 0.001996104788540261, 0.001974195388088457, 0.0019563282777393105, 0.001941310288146041, 0.001928434199287151]\n"
     ]
    },
    {
     "data": {
      "application/vnd.jupyter.widget-view+json": {
       "model_id": "c8a4ab8ce9694fce8fd5ca3dbc380882",
       "version_major": 2,
       "version_minor": 0
      },
      "text/plain": [
       "0it [00:00, ?it/s]"
      ]
     },
     "metadata": {},
     "output_type": "display_data"
    },
    {
     "name": "stdout",
     "output_type": "stream",
     "text": [
      "Loss of train: 0.00180\n",
      "Loss of val: 0.00192\n",
      "Loss of test: 0.00180\n",
      "Loss of gw_test: 0.00172\n",
      "[0.0028475027928988148, 0.0026299147676955886, 0.0024794200818581396, 0.0023570935858059972, 0.002237402742462811, 0.002132957615577281, 0.0020653048861039294, 0.0020241492792607467, 0.001996104788540261, 0.001974195388088457, 0.0019563282777393105, 0.001941310288146041, 0.001928434199287151, 0.0019171714738697439]\n"
     ]
    },
    {
     "data": {
      "application/vnd.jupyter.widget-view+json": {
       "model_id": "793700aaa5cb477b9b9339154c221dc1",
       "version_major": 2,
       "version_minor": 0
      },
      "text/plain": [
       "0it [00:00, ?it/s]"
      ]
     },
     "metadata": {},
     "output_type": "display_data"
    },
    {
     "name": "stdout",
     "output_type": "stream",
     "text": [
      "Loss of train: 0.00179\n",
      "Loss of val: 0.00191\n",
      "Loss of test: 0.00179\n",
      "Loss of gw_test: 0.00171\n",
      "[0.0028475027928988148, 0.0026299147676955886, 0.0024794200818581396, 0.0023570935858059972, 0.002237402742462811, 0.002132957615577281, 0.0020653048861039294, 0.0020241492792607467, 0.001996104788540261, 0.001974195388088457, 0.0019563282777393105, 0.001941310288146041, 0.001928434199287151, 0.0019171714738697439, 0.0019076744442803409]\n"
     ]
    },
    {
     "data": {
      "application/vnd.jupyter.widget-view+json": {
       "model_id": "862a915131304753b833d35b6ca37d32",
       "version_major": 2,
       "version_minor": 0
      },
      "text/plain": [
       "0it [00:00, ?it/s]"
      ]
     },
     "metadata": {},
     "output_type": "display_data"
    },
    {
     "name": "stdout",
     "output_type": "stream",
     "text": [
      "Loss of train: 0.00178\n",
      "Loss of val: 0.00190\n",
      "Loss of test: 0.00178\n",
      "Loss of gw_test: 0.00170\n",
      "[0.0028475027928988148, 0.0026299147676955886, 0.0024794200818581396, 0.0023570935858059972, 0.002237402742462811, 0.002132957615577281, 0.0020653048861039294, 0.0020241492792607467, 0.001996104788540261, 0.001974195388088457, 0.0019563282777393105, 0.001941310288146041, 0.001928434199287151, 0.0019171714738697439, 0.0019076744442803409, 0.0018994600480017774]\n"
     ]
    },
    {
     "data": {
      "application/vnd.jupyter.widget-view+json": {
       "model_id": "3cc29948681a43429ca40cdb07e6d0bc",
       "version_major": 2,
       "version_minor": 0
      },
      "text/plain": [
       "0it [00:00, ?it/s]"
      ]
     },
     "metadata": {},
     "output_type": "display_data"
    },
    {
     "name": "stdout",
     "output_type": "stream",
     "text": [
      "Loss of train: 0.00177\n",
      "Loss of val: 0.00189\n",
      "Loss of test: 0.00178\n",
      "Loss of gw_test: 0.00170\n",
      "[0.0028475027928988148, 0.0026299147676955886, 0.0024794200818581396, 0.0023570935858059972, 0.002237402742462811, 0.002132957615577281, 0.0020653048861039294, 0.0020241492792607467, 0.001996104788540261, 0.001974195388088457, 0.0019563282777393105, 0.001941310288146041, 0.001928434199287151, 0.0019171714738697439, 0.0019076744442803409, 0.0018994600480017774, 0.0018923021470286757]\n"
     ]
    },
    {
     "data": {
      "application/vnd.jupyter.widget-view+json": {
       "model_id": "acbbc12c3697481b8ebf9a4ee15b7815",
       "version_major": 2,
       "version_minor": 0
      },
      "text/plain": [
       "0it [00:00, ?it/s]"
      ]
     },
     "metadata": {},
     "output_type": "display_data"
    },
    {
     "name": "stdout",
     "output_type": "stream",
     "text": [
      "Loss of train: 0.00176\n",
      "Loss of val: 0.00189\n",
      "Loss of test: 0.00177\n",
      "Loss of gw_test: 0.00169\n",
      "[0.0028475027928988148, 0.0026299147676955886, 0.0024794200818581396, 0.0023570935858059972, 0.002237402742462811, 0.002132957615577281, 0.0020653048861039294, 0.0020241492792607467, 0.001996104788540261, 0.001974195388088457, 0.0019563282777393105, 0.001941310288146041, 0.001928434199287151, 0.0019171714738697439, 0.0019076744442803409, 0.0018994600480017774, 0.0018923021470286757, 0.0018860036799551957]\n"
     ]
    },
    {
     "data": {
      "application/vnd.jupyter.widget-view+json": {
       "model_id": "64255dfbe24a47f39539d15d144daf07",
       "version_major": 2,
       "version_minor": 0
      },
      "text/plain": [
       "0it [00:00, ?it/s]"
      ]
     },
     "metadata": {},
     "output_type": "display_data"
    },
    {
     "name": "stdout",
     "output_type": "stream",
     "text": [
      "Loss of train: 0.00175\n",
      "Loss of val: 0.00188\n",
      "Loss of test: 0.00177\n",
      "Loss of gw_test: 0.00168\n",
      "[0.0028475027928988148, 0.0026299147676955886, 0.0024794200818581396, 0.0023570935858059972, 0.002237402742462811, 0.002132957615577281, 0.0020653048861039294, 0.0020241492792607467, 0.001996104788540261, 0.001974195388088457, 0.0019563282777393105, 0.001941310288146041, 0.001928434199287151, 0.0019171714738697439, 0.0019076744442803409, 0.0018994600480017774, 0.0018923021470286757, 0.0018860036799551957, 0.001880326875765976]\n"
     ]
    },
    {
     "data": {
      "application/vnd.jupyter.widget-view+json": {
       "model_id": "ba1ef744e3cf49c19ae2f09a04d77796",
       "version_major": 2,
       "version_minor": 0
      },
      "text/plain": [
       "0it [00:00, ?it/s]"
      ]
     },
     "metadata": {},
     "output_type": "display_data"
    },
    {
     "name": "stdout",
     "output_type": "stream",
     "text": [
      "Loss of train: 0.00174\n",
      "Loss of val: 0.00188\n",
      "Loss of test: 0.00176\n",
      "Loss of gw_test: 0.00168\n",
      "[0.0028475027928988148, 0.0026299147676955886, 0.0024794200818581396, 0.0023570935858059972, 0.002237402742462811, 0.002132957615577281, 0.0020653048861039294, 0.0020241492792607467, 0.001996104788540261, 0.001974195388088457, 0.0019563282777393105, 0.001941310288146041, 0.001928434199287151, 0.0019171714738697439, 0.0019076744442803409, 0.0018994600480017774, 0.0018923021470286757, 0.0018860036799551957, 0.001880326875765976, 0.0018751874013462244]\n"
     ]
    },
    {
     "data": {
      "application/vnd.jupyter.widget-view+json": {
       "model_id": "8eabc651b01d4cd2afd4d2cb6b440b28",
       "version_major": 2,
       "version_minor": 0
      },
      "text/plain": [
       "0it [00:00, ?it/s]"
      ]
     },
     "metadata": {},
     "output_type": "display_data"
    },
    {
     "name": "stdout",
     "output_type": "stream",
     "text": [
      "Loss of train: 0.00173\n",
      "Loss of val: 0.00187\n",
      "Loss of test: 0.00176\n",
      "Loss of gw_test: 0.00167\n",
      "[0.0028475027928988148, 0.0026299147676955886, 0.0024794200818581396, 0.0023570935858059972, 0.002237402742462811, 0.002132957615577281, 0.0020653048861039294, 0.0020241492792607467, 0.001996104788540261, 0.001974195388088457, 0.0019563282777393105, 0.001941310288146041, 0.001928434199287151, 0.0019171714738697439, 0.0019076744442803409, 0.0018994600480017774, 0.0018923021470286757, 0.0018860036799551957, 0.001880326875765976, 0.0018751874013462244, 0.0018706597313229148]\n"
     ]
    },
    {
     "data": {
      "application/vnd.jupyter.widget-view+json": {
       "model_id": "fa24bffbe5e747ccb050b4245564bbed",
       "version_major": 2,
       "version_minor": 0
      },
      "text/plain": [
       "0it [00:00, ?it/s]"
      ]
     },
     "metadata": {},
     "output_type": "display_data"
    },
    {
     "name": "stdout",
     "output_type": "stream",
     "text": [
      "Loss of train: 0.00172\n",
      "Loss of val: 0.00187\n",
      "Loss of test: 0.00175\n",
      "Loss of gw_test: 0.00167\n",
      "[0.0028475027928988148, 0.0026299147676955886, 0.0024794200818581396, 0.0023570935858059972, 0.002237402742462811, 0.002132957615577281, 0.0020653048861039294, 0.0020241492792607467, 0.001996104788540261, 0.001974195388088457, 0.0019563282777393105, 0.001941310288146041, 0.001928434199287151, 0.0019171714738697439, 0.0019076744442803409, 0.0018994600480017774, 0.0018923021470286757, 0.0018860036799551957, 0.001880326875765976, 0.0018751874013462244, 0.0018706597313229148, 0.001866556478525684]\n"
     ]
    },
    {
     "data": {
      "application/vnd.jupyter.widget-view+json": {
       "model_id": "8fe974e532b141bbbd7d75240bc00e76",
       "version_major": 2,
       "version_minor": 0
      },
      "text/plain": [
       "0it [00:00, ?it/s]"
      ]
     },
     "metadata": {},
     "output_type": "display_data"
    },
    {
     "name": "stdout",
     "output_type": "stream",
     "text": [
      "Loss of train: 0.00171\n",
      "Loss of val: 0.00186\n",
      "Loss of test: 0.00175\n",
      "Loss of gw_test: 0.00166\n",
      "[0.0028475027928988148, 0.0026299147676955886, 0.0024794200818581396, 0.0023570935858059972, 0.002237402742462811, 0.002132957615577281, 0.0020653048861039294, 0.0020241492792607467, 0.001996104788540261, 0.001974195388088457, 0.0019563282777393105, 0.001941310288146041, 0.001928434199287151, 0.0019171714738697439, 0.0019076744442803409, 0.0018994600480017774, 0.0018923021470286757, 0.0018860036799551957, 0.001880326875765976, 0.0018751874013462244, 0.0018706597313229148, 0.001866556478525684, 0.0018628733523862345]\n"
     ]
    },
    {
     "data": {
      "application/vnd.jupyter.widget-view+json": {
       "model_id": "a54b875240dd4a7db6689ad025e920da",
       "version_major": 2,
       "version_minor": 0
      },
      "text/plain": [
       "0it [00:00, ?it/s]"
      ]
     },
     "metadata": {},
     "output_type": "display_data"
    },
    {
     "name": "stdout",
     "output_type": "stream",
     "text": [
      "Loss of train: 0.00170\n",
      "Loss of val: 0.00186\n",
      "Loss of test: 0.00174\n",
      "Loss of gw_test: 0.00166\n",
      "[0.0028475027928988148, 0.0026299147676955886, 0.0024794200818581396, 0.0023570935858059972, 0.002237402742462811, 0.002132957615577281, 0.0020653048861039294, 0.0020241492792607467, 0.001996104788540261, 0.001974195388088457, 0.0019563282777393105, 0.001941310288146041, 0.001928434199287151, 0.0019171714738697439, 0.0019076744442803409, 0.0018994600480017774, 0.0018923021470286757, 0.0018860036799551957, 0.001880326875765976, 0.0018751874013462244, 0.0018706597313229148, 0.001866556478525684, 0.0018628733523862345, 0.001859512920661621]\n"
     ]
    },
    {
     "data": {
      "application/vnd.jupyter.widget-view+json": {
       "model_id": "0af01546f162484ea2614e5931961304",
       "version_major": 2,
       "version_minor": 0
      },
      "text/plain": [
       "0it [00:00, ?it/s]"
      ]
     },
     "metadata": {},
     "output_type": "display_data"
    },
    {
     "name": "stdout",
     "output_type": "stream",
     "text": [
      "Loss of train: 0.00169\n",
      "Loss of val: 0.00186\n",
      "Loss of test: 0.00174\n",
      "Loss of gw_test: 0.00165\n",
      "[0.0028475027928988148, 0.0026299147676955886, 0.0024794200818581396, 0.0023570935858059972, 0.002237402742462811, 0.002132957615577281, 0.0020653048861039294, 0.0020241492792607467, 0.001996104788540261, 0.001974195388088457, 0.0019563282777393105, 0.001941310288146041, 0.001928434199287151, 0.0019171714738697439, 0.0019076744442803409, 0.0018994600480017774, 0.0018923021470286757, 0.0018860036799551957, 0.001880326875765976, 0.0018751874013462244, 0.0018706597313229148, 0.001866556478525684, 0.0018628733523862345, 0.001859512920661621, 0.0018562769763648317]\n"
     ]
    },
    {
     "data": {
      "application/vnd.jupyter.widget-view+json": {
       "model_id": "410f0caa06554a13b280677efce71651",
       "version_major": 2,
       "version_minor": 0
      },
      "text/plain": [
       "0it [00:00, ?it/s]"
      ]
     },
     "metadata": {},
     "output_type": "display_data"
    },
    {
     "name": "stdout",
     "output_type": "stream",
     "text": [
      "Loss of train: 0.00169\n",
      "Loss of val: 0.00185\n",
      "Loss of test: 0.00174\n",
      "Loss of gw_test: 0.00165\n",
      "[0.0028475027928988148, 0.0026299147676955886, 0.0024794200818581396, 0.0023570935858059972, 0.002237402742462811, 0.002132957615577281, 0.0020653048861039294, 0.0020241492792607467, 0.001996104788540261, 0.001974195388088457, 0.0019563282777393105, 0.001941310288146041, 0.001928434199287151, 0.0019171714738697439, 0.0019076744442803409, 0.0018994600480017774, 0.0018923021470286757, 0.0018860036799551957, 0.001880326875765976, 0.0018751874013462244, 0.0018706597313229148, 0.001866556478525684, 0.0018628733523862345, 0.001859512920661621, 0.0018562769763648317, 0.0018535581203211343]\n"
     ]
    },
    {
     "data": {
      "application/vnd.jupyter.widget-view+json": {
       "model_id": "a239f2a73d4c40aeabf7e4dd39b8964e",
       "version_major": 2,
       "version_minor": 0
      },
      "text/plain": [
       "0it [00:00, ?it/s]"
      ]
     },
     "metadata": {},
     "output_type": "display_data"
    },
    {
     "name": "stdout",
     "output_type": "stream",
     "text": [
      "Loss of train: 0.00168\n",
      "Loss of val: 0.00185\n",
      "Loss of test: 0.00173\n",
      "Loss of gw_test: 0.00164\n",
      "[0.0028475027928988148, 0.0026299147676955886, 0.0024794200818581396, 0.0023570935858059972, 0.002237402742462811, 0.002132957615577281, 0.0020653048861039294, 0.0020241492792607467, 0.001996104788540261, 0.001974195388088457, 0.0019563282777393105, 0.001941310288146041, 0.001928434199287151, 0.0019171714738697439, 0.0019076744442803409, 0.0018994600480017774, 0.0018923021470286757, 0.0018860036799551957, 0.001880326875765976, 0.0018751874013462244, 0.0018706597313229148, 0.001866556478525684, 0.0018628733523862345, 0.001859512920661621, 0.0018562769763648317, 0.0018535581203211343, 0.00185122554634784]\n"
     ]
    },
    {
     "data": {
      "application/vnd.jupyter.widget-view+json": {
       "model_id": "0c53db12ee4542d5b2dab9505849f3d8",
       "version_major": 2,
       "version_minor": 0
      },
      "text/plain": [
       "0it [00:00, ?it/s]"
      ]
     },
     "metadata": {},
     "output_type": "display_data"
    },
    {
     "name": "stdout",
     "output_type": "stream",
     "text": [
      "Loss of train: 0.00167\n",
      "Loss of val: 0.00185\n",
      "Loss of test: 0.00173\n",
      "Loss of gw_test: 0.00164\n",
      "[0.0028475027928988148, 0.0026299147676955886, 0.0024794200818581396, 0.0023570935858059972, 0.002237402742462811, 0.002132957615577281, 0.0020653048861039294, 0.0020241492792607467, 0.001996104788540261, 0.001974195388088457, 0.0019563282777393105, 0.001941310288146041, 0.001928434199287151, 0.0019171714738697439, 0.0019076744442803409, 0.0018994600480017774, 0.0018923021470286757, 0.0018860036799551957, 0.001880326875765976, 0.0018751874013462244, 0.0018706597313229148, 0.001866556478525684, 0.0018628733523862345, 0.001859512920661621, 0.0018562769763648317, 0.0018535581203211343, 0.00185122554634784, 0.0018490625220560154]\n"
     ]
    },
    {
     "data": {
      "application/vnd.jupyter.widget-view+json": {
       "model_id": "f29ce3547c07469fa69a1ce12ba526be",
       "version_major": 2,
       "version_minor": 0
      },
      "text/plain": [
       "0it [00:00, ?it/s]"
      ]
     },
     "metadata": {},
     "output_type": "display_data"
    },
    {
     "name": "stdout",
     "output_type": "stream",
     "text": [
      "Loss of train: 0.00167\n",
      "Loss of val: 0.00185\n",
      "Loss of test: 0.00172\n",
      "Loss of gw_test: 0.00163\n",
      "[0.0028475027928988148, 0.0026299147676955886, 0.0024794200818581396, 0.0023570935858059972, 0.002237402742462811, 0.002132957615577281, 0.0020653048861039294, 0.0020241492792607467, 0.001996104788540261, 0.001974195388088457, 0.0019563282777393105, 0.001941310288146041, 0.001928434199287151, 0.0019171714738697439, 0.0019076744442803409, 0.0018994600480017774, 0.0018923021470286757, 0.0018860036799551957, 0.001880326875765976, 0.0018751874013462244, 0.0018706597313229148, 0.001866556478525684, 0.0018628733523862345, 0.001859512920661621, 0.0018562769763648317, 0.0018535581203211343, 0.00185122554634784, 0.0018490625220560154, 0.0018471572634034333]\n"
     ]
    },
    {
     "data": {
      "application/vnd.jupyter.widget-view+json": {
       "model_id": "f77057c829774dfabb1d6ea8fba4e1ee",
       "version_major": 2,
       "version_minor": 0
      },
      "text/plain": [
       "0it [00:00, ?it/s]"
      ]
     },
     "metadata": {},
     "output_type": "display_data"
    },
    {
     "name": "stdout",
     "output_type": "stream",
     "text": [
      "Loss of train: 0.00166\n",
      "Loss of val: 0.00185\n",
      "Loss of test: 0.00172\n",
      "Loss of gw_test: 0.00163\n",
      "[0.0028475027928988148, 0.0026299147676955886, 0.0024794200818581396, 0.0023570935858059972, 0.002237402742462811, 0.002132957615577281, 0.0020653048861039294, 0.0020241492792607467, 0.001996104788540261, 0.001974195388088457, 0.0019563282777393105, 0.001941310288146041, 0.001928434199287151, 0.0019171714738697439, 0.0019076744442803409, 0.0018994600480017774, 0.0018923021470286757, 0.0018860036799551957, 0.001880326875765976, 0.0018751874013462244, 0.0018706597313229148, 0.001866556478525684, 0.0018628733523862345, 0.001859512920661621, 0.0018562769763648317, 0.0018535581203211343, 0.00185122554634784, 0.0018490625220560154, 0.0018471572634034333, 0.0018452112830083286]\n"
     ]
    },
    {
     "data": {
      "application/vnd.jupyter.widget-view+json": {
       "model_id": "e48803f6032a4a70a39e6021dbb5d0d8",
       "version_major": 2,
       "version_minor": 0
      },
      "text/plain": [
       "0it [00:00, ?it/s]"
      ]
     },
     "metadata": {},
     "output_type": "display_data"
    },
    {
     "name": "stdout",
     "output_type": "stream",
     "text": [
      "Loss of train: 0.00165\n",
      "Loss of val: 0.00184\n",
      "Loss of test: 0.00172\n",
      "Loss of gw_test: 0.00163\n",
      "[0.0028475027928988148, 0.0026299147676955886, 0.0024794200818581396, 0.0023570935858059972, 0.002237402742462811, 0.002132957615577281, 0.0020653048861039294, 0.0020241492792607467, 0.001996104788540261, 0.001974195388088457, 0.0019563282777393105, 0.001941310288146041, 0.001928434199287151, 0.0019171714738697439, 0.0019076744442803409, 0.0018994600480017774, 0.0018923021470286757, 0.0018860036799551957, 0.001880326875765976, 0.0018751874013462244, 0.0018706597313229148, 0.001866556478525684, 0.0018628733523862345, 0.001859512920661621, 0.0018562769763648317, 0.0018535581203211343, 0.00185122554634784, 0.0018490625220560154, 0.0018471572634034333, 0.0018452112830083286, 0.0018434709804260171]\n"
     ]
    },
    {
     "data": {
      "application/vnd.jupyter.widget-view+json": {
       "model_id": "6d5014cf742e4ef69ac1bfc3c3b4916b",
       "version_major": 2,
       "version_minor": 0
      },
      "text/plain": [
       "0it [00:00, ?it/s]"
      ]
     },
     "metadata": {},
     "output_type": "display_data"
    },
    {
     "name": "stdout",
     "output_type": "stream",
     "text": [
      "Loss of train: 0.00165\n",
      "Loss of val: 0.00184\n",
      "Loss of test: 0.00172\n",
      "Loss of gw_test: 0.00162\n",
      "[0.0028475027928988148, 0.0026299147676955886, 0.0024794200818581396, 0.0023570935858059972, 0.002237402742462811, 0.002132957615577281, 0.0020653048861039294, 0.0020241492792607467, 0.001996104788540261, 0.001974195388088457, 0.0019563282777393105, 0.001941310288146041, 0.001928434199287151, 0.0019171714738697439, 0.0019076744442803409, 0.0018994600480017774, 0.0018923021470286757, 0.0018860036799551957, 0.001880326875765976, 0.0018751874013462244, 0.0018706597313229148, 0.001866556478525684, 0.0018628733523862345, 0.001859512920661621, 0.0018562769763648317, 0.0018535581203211343, 0.00185122554634784, 0.0018490625220560154, 0.0018471572634034333, 0.0018452112830083286, 0.0018434709804260171, 0.0018420317805929282]\n"
     ]
    },
    {
     "data": {
      "application/vnd.jupyter.widget-view+json": {
       "model_id": "3ec4df3bee044facb7be464e41113ef8",
       "version_major": 2,
       "version_minor": 0
      },
      "text/plain": [
       "0it [00:00, ?it/s]"
      ]
     },
     "metadata": {},
     "output_type": "display_data"
    },
    {
     "name": "stdout",
     "output_type": "stream",
     "text": [
      "Loss of train: 0.00164\n",
      "Loss of val: 0.00184\n",
      "Loss of test: 0.00171\n",
      "Loss of gw_test: 0.00162\n",
      "[0.0028475027928988148, 0.0026299147676955886, 0.0024794200818581396, 0.0023570935858059972, 0.002237402742462811, 0.002132957615577281, 0.0020653048861039294, 0.0020241492792607467, 0.001996104788540261, 0.001974195388088457, 0.0019563282777393105, 0.001941310288146041, 0.001928434199287151, 0.0019171714738697439, 0.0019076744442803409, 0.0018994600480017774, 0.0018923021470286757, 0.0018860036799551957, 0.001880326875765976, 0.0018751874013462244, 0.0018706597313229148, 0.001866556478525684, 0.0018628733523862345, 0.001859512920661621, 0.0018562769763648317, 0.0018535581203211343, 0.00185122554634784, 0.0018490625220560154, 0.0018471572634034333, 0.0018452112830083286, 0.0018434709804260171, 0.0018420317805929282, 0.0018405804412675406]\n"
     ]
    },
    {
     "data": {
      "application/vnd.jupyter.widget-view+json": {
       "model_id": "656961020b3646f7b86108be36dd5130",
       "version_major": 2,
       "version_minor": 0
      },
      "text/plain": [
       "0it [00:00, ?it/s]"
      ]
     },
     "metadata": {},
     "output_type": "display_data"
    },
    {
     "name": "stdout",
     "output_type": "stream",
     "text": [
      "Loss of train: 0.00163\n",
      "Loss of val: 0.00184\n",
      "Loss of test: 0.00171\n",
      "Loss of gw_test: 0.00162\n",
      "[0.0028475027928988148, 0.0026299147676955886, 0.0024794200818581396, 0.0023570935858059972, 0.002237402742462811, 0.002132957615577281, 0.0020653048861039294, 0.0020241492792607467, 0.001996104788540261, 0.001974195388088457, 0.0019563282777393105, 0.001941310288146041, 0.001928434199287151, 0.0019171714738697439, 0.0019076744442803409, 0.0018994600480017774, 0.0018923021470286757, 0.0018860036799551957, 0.001880326875765976, 0.0018751874013462244, 0.0018706597313229148, 0.001866556478525684, 0.0018628733523862345, 0.001859512920661621, 0.0018562769763648317, 0.0018535581203211343, 0.00185122554634784, 0.0018490625220560154, 0.0018471572634034333, 0.0018452112830083286, 0.0018434709804260171, 0.0018420317805929282, 0.0018405804412675406, 0.0018391997890971907]\n"
     ]
    },
    {
     "data": {
      "application/vnd.jupyter.widget-view+json": {
       "model_id": "ce01de4913a6486db11a506e1ef68de7",
       "version_major": 2,
       "version_minor": 0
      },
      "text/plain": [
       "0it [00:00, ?it/s]"
      ]
     },
     "metadata": {},
     "output_type": "display_data"
    },
    {
     "name": "stdout",
     "output_type": "stream",
     "text": [
      "Loss of train: 0.00163\n",
      "Loss of val: 0.00184\n",
      "Loss of test: 0.00171\n",
      "Loss of gw_test: 0.00161\n",
      "[0.0028475027928988148, 0.0026299147676955886, 0.0024794200818581396, 0.0023570935858059972, 0.002237402742462811, 0.002132957615577281, 0.0020653048861039294, 0.0020241492792607467, 0.001996104788540261, 0.001974195388088457, 0.0019563282777393105, 0.001941310288146041, 0.001928434199287151, 0.0019171714738697439, 0.0019076744442803409, 0.0018994600480017774, 0.0018923021470286757, 0.0018860036799551957, 0.001880326875765976, 0.0018751874013462244, 0.0018706597313229148, 0.001866556478525684, 0.0018628733523862345, 0.001859512920661621, 0.0018562769763648317, 0.0018535581203211343, 0.00185122554634784, 0.0018490625220560154, 0.0018471572634034333, 0.0018452112830083286, 0.0018434709804260171, 0.0018420317805929282, 0.0018405804412675406, 0.0018391997890971907, 0.0018378953081990327]\n"
     ]
    },
    {
     "data": {
      "application/vnd.jupyter.widget-view+json": {
       "model_id": "131d9b3843ed42dfadcdade6a0b34341",
       "version_major": 2,
       "version_minor": 0
      },
      "text/plain": [
       "0it [00:00, ?it/s]"
      ]
     },
     "metadata": {},
     "output_type": "display_data"
    },
    {
     "name": "stdout",
     "output_type": "stream",
     "text": [
      "Loss of train: 0.00162\n",
      "Loss of val: 0.00184\n",
      "Loss of test: 0.00171\n",
      "Loss of gw_test: 0.00161\n",
      "[0.0028475027928988148, 0.0026299147676955886, 0.0024794200818581396, 0.0023570935858059972, 0.002237402742462811, 0.002132957615577281, 0.0020653048861039294, 0.0020241492792607467, 0.001996104788540261, 0.001974195388088457, 0.0019563282777393105, 0.001941310288146041, 0.001928434199287151, 0.0019171714738697439, 0.0019076744442803409, 0.0018994600480017774, 0.0018923021470286757, 0.0018860036799551957, 0.001880326875765976, 0.0018751874013462244, 0.0018706597313229148, 0.001866556478525684, 0.0018628733523862345, 0.001859512920661621, 0.0018562769763648317, 0.0018535581203211343, 0.00185122554634784, 0.0018490625220560154, 0.0018471572634034333, 0.0018452112830083286, 0.0018434709804260171, 0.0018420317805929282, 0.0018405804412675406, 0.0018391997890971907, 0.0018378953081990327, 0.0018365981903404474]\n"
     ]
    },
    {
     "data": {
      "application/vnd.jupyter.widget-view+json": {
       "model_id": "8d70864b94574f188d214ed51ad348b7",
       "version_major": 2,
       "version_minor": 0
      },
      "text/plain": [
       "0it [00:00, ?it/s]"
      ]
     },
     "metadata": {},
     "output_type": "display_data"
    },
    {
     "name": "stdout",
     "output_type": "stream",
     "text": [
      "Loss of train: 0.00162\n",
      "Loss of val: 0.00184\n",
      "Loss of test: 0.00170\n",
      "Loss of gw_test: 0.00161\n",
      "[0.0028475027928988148, 0.0026299147676955886, 0.0024794200818581396, 0.0023570935858059972, 0.002237402742462811, 0.002132957615577281, 0.0020653048861039294, 0.0020241492792607467, 0.001996104788540261, 0.001974195388088457, 0.0019563282777393105, 0.001941310288146041, 0.001928434199287151, 0.0019171714738697439, 0.0019076744442803409, 0.0018994600480017774, 0.0018923021470286757, 0.0018860036799551957, 0.001880326875765976, 0.0018751874013462244, 0.0018706597313229148, 0.001866556478525684, 0.0018628733523862345, 0.001859512920661621, 0.0018562769763648317, 0.0018535581203211343, 0.00185122554634784, 0.0018490625220560154, 0.0018471572634034333, 0.0018452112830083286, 0.0018434709804260171, 0.0018420317805929282, 0.0018405804412675406, 0.0018391997890971907, 0.0018378953081990327, 0.0018365981903404474, 0.0018354340326957484]\n"
     ]
    },
    {
     "data": {
      "application/vnd.jupyter.widget-view+json": {
       "model_id": "2bb278c290a748f687acd05c740cfea1",
       "version_major": 2,
       "version_minor": 0
      },
      "text/plain": [
       "0it [00:00, ?it/s]"
      ]
     },
     "metadata": {},
     "output_type": "display_data"
    },
    {
     "name": "stdout",
     "output_type": "stream",
     "text": [
      "Loss of train: 0.00161\n",
      "Loss of val: 0.00183\n",
      "Loss of test: 0.00170\n",
      "Loss of gw_test: 0.00160\n",
      "[0.0028475027928988148, 0.0026299147676955886, 0.0024794200818581396, 0.0023570935858059972, 0.002237402742462811, 0.002132957615577281, 0.0020653048861039294, 0.0020241492792607467, 0.001996104788540261, 0.001974195388088457, 0.0019563282777393105, 0.001941310288146041, 0.001928434199287151, 0.0019171714738697439, 0.0019076744442803409, 0.0018994600480017774, 0.0018923021470286757, 0.0018860036799551957, 0.001880326875765976, 0.0018751874013462244, 0.0018706597313229148, 0.001866556478525684, 0.0018628733523862345, 0.001859512920661621, 0.0018562769763648317, 0.0018535581203211343, 0.00185122554634784, 0.0018490625220560154, 0.0018471572634034333, 0.0018452112830083286, 0.0018434709804260171, 0.0018420317805929282, 0.0018405804412675406, 0.0018391997890971907, 0.0018378953081990327, 0.0018365981903404474, 0.0018354340326957484, 0.0018342938117721097]\n"
     ]
    },
    {
     "data": {
      "application/vnd.jupyter.widget-view+json": {
       "model_id": "3739cfc1ffd948f3acf1976e34d98052",
       "version_major": 2,
       "version_minor": 0
      },
      "text/plain": [
       "0it [00:00, ?it/s]"
      ]
     },
     "metadata": {},
     "output_type": "display_data"
    },
    {
     "name": "stdout",
     "output_type": "stream",
     "text": [
      "Loss of train: 0.00160\n",
      "Loss of val: 0.00183\n",
      "Loss of test: 0.00170\n",
      "Loss of gw_test: 0.00160\n",
      "[0.0028475027928988148, 0.0026299147676955886, 0.0024794200818581396, 0.0023570935858059972, 0.002237402742462811, 0.002132957615577281, 0.0020653048861039294, 0.0020241492792607467, 0.001996104788540261, 0.001974195388088457, 0.0019563282777393105, 0.001941310288146041, 0.001928434199287151, 0.0019171714738697439, 0.0019076744442803409, 0.0018994600480017774, 0.0018923021470286757, 0.0018860036799551957, 0.001880326875765976, 0.0018751874013462244, 0.0018706597313229148, 0.001866556478525684, 0.0018628733523862345, 0.001859512920661621, 0.0018562769763648317, 0.0018535581203211343, 0.00185122554634784, 0.0018490625220560154, 0.0018471572634034333, 0.0018452112830083286, 0.0018434709804260171, 0.0018420317805929282, 0.0018405804412675406, 0.0018391997890971907, 0.0018378953081990327, 0.0018365981903404474, 0.0018354340326957484, 0.0018342938117721097, 0.0018329826089083742]\n"
     ]
    },
    {
     "data": {
      "application/vnd.jupyter.widget-view+json": {
       "model_id": "8b4b1c569d4d43c28c1590d25514ee48",
       "version_major": 2,
       "version_minor": 0
      },
      "text/plain": [
       "0it [00:00, ?it/s]"
      ]
     },
     "metadata": {},
     "output_type": "display_data"
    },
    {
     "name": "stdout",
     "output_type": "stream",
     "text": [
      "Loss of train: 0.00160\n",
      "Loss of val: 0.00183\n",
      "Loss of test: 0.00170\n",
      "Loss of gw_test: 0.00160\n",
      "[0.0028475027928988148, 0.0026299147676955886, 0.0024794200818581396, 0.0023570935858059972, 0.002237402742462811, 0.002132957615577281, 0.0020653048861039294, 0.0020241492792607467, 0.001996104788540261, 0.001974195388088457, 0.0019563282777393105, 0.001941310288146041, 0.001928434199287151, 0.0019171714738697439, 0.0019076744442803409, 0.0018994600480017774, 0.0018923021470286757, 0.0018860036799551957, 0.001880326875765976, 0.0018751874013462244, 0.0018706597313229148, 0.001866556478525684, 0.0018628733523862345, 0.001859512920661621, 0.0018562769763648317, 0.0018535581203211343, 0.00185122554634784, 0.0018490625220560154, 0.0018471572634034333, 0.0018452112830083286, 0.0018434709804260171, 0.0018420317805929282, 0.0018405804412675406, 0.0018391997890971907, 0.0018378953081990327, 0.0018365981903404474, 0.0018354340326957484, 0.0018342938117721097, 0.0018329826089083742, 0.0018317705086916562]\n"
     ]
    },
    {
     "data": {
      "application/vnd.jupyter.widget-view+json": {
       "model_id": "3448031b7a6d4f58bd7124ea07139bd0",
       "version_major": 2,
       "version_minor": 0
      },
      "text/plain": [
       "0it [00:00, ?it/s]"
      ]
     },
     "metadata": {},
     "output_type": "display_data"
    },
    {
     "name": "stdout",
     "output_type": "stream",
     "text": [
      "Loss of train: 0.00159\n",
      "Loss of val: 0.00183\n",
      "Loss of test: 0.00169\n",
      "Loss of gw_test: 0.00159\n",
      "[0.0028475027928988148, 0.0026299147676955886, 0.0024794200818581396, 0.0023570935858059972, 0.002237402742462811, 0.002132957615577281, 0.0020653048861039294, 0.0020241492792607467, 0.001996104788540261, 0.001974195388088457, 0.0019563282777393105, 0.001941310288146041, 0.001928434199287151, 0.0019171714738697439, 0.0019076744442803409, 0.0018994600480017774, 0.0018923021470286757, 0.0018860036799551957, 0.001880326875765976, 0.0018751874013462244, 0.0018706597313229148, 0.001866556478525684, 0.0018628733523862345, 0.001859512920661621, 0.0018562769763648317, 0.0018535581203211343, 0.00185122554634784, 0.0018490625220560154, 0.0018471572634034333, 0.0018452112830083286, 0.0018434709804260171, 0.0018420317805929282, 0.0018405804412675406, 0.0018391997890971907, 0.0018378953081990327, 0.0018365981903404474, 0.0018354340326957484, 0.0018342938117721097, 0.0018329826089083742, 0.0018317705086916562, 0.001830641298326753]\n"
     ]
    },
    {
     "data": {
      "application/vnd.jupyter.widget-view+json": {
       "model_id": "e421d527a772475d805ad9132a34726c",
       "version_major": 2,
       "version_minor": 0
      },
      "text/plain": [
       "0it [00:00, ?it/s]"
      ]
     },
     "metadata": {},
     "output_type": "display_data"
    },
    {
     "name": "stdout",
     "output_type": "stream",
     "text": [
      "Loss of train: 0.00159\n",
      "Loss of val: 0.00183\n",
      "Loss of test: 0.00169\n",
      "Loss of gw_test: 0.00159\n",
      "[0.0028475027928988148, 0.0026299147676955886, 0.0024794200818581396, 0.0023570935858059972, 0.002237402742462811, 0.002132957615577281, 0.0020653048861039294, 0.0020241492792607467, 0.001996104788540261, 0.001974195388088457, 0.0019563282777393105, 0.001941310288146041, 0.001928434199287151, 0.0019171714738697439, 0.0019076744442803409, 0.0018994600480017774, 0.0018923021470286757, 0.0018860036799551957, 0.001880326875765976, 0.0018751874013462244, 0.0018706597313229148, 0.001866556478525684, 0.0018628733523862345, 0.001859512920661621, 0.0018562769763648317, 0.0018535581203211343, 0.00185122554634784, 0.0018490625220560154, 0.0018471572634034333, 0.0018452112830083286, 0.0018434709804260171, 0.0018420317805929282, 0.0018405804412675406, 0.0018391997890971907, 0.0018378953081990327, 0.0018365981903404474, 0.0018354340326957484, 0.0018342938117721097, 0.0018329826089083742, 0.0018317705086916562, 0.001830641298326753, 0.0018296453314672377]\n"
     ]
    },
    {
     "data": {
      "application/vnd.jupyter.widget-view+json": {
       "model_id": "6fedd67c17ac4d12841ba2d38b321e2c",
       "version_major": 2,
       "version_minor": 0
      },
      "text/plain": [
       "0it [00:00, ?it/s]"
      ]
     },
     "metadata": {},
     "output_type": "display_data"
    },
    {
     "name": "stdout",
     "output_type": "stream",
     "text": [
      "Loss of train: 0.00158\n",
      "Loss of val: 0.00183\n",
      "Loss of test: 0.00169\n",
      "Loss of gw_test: 0.00159\n",
      "[0.0028475027928988148, 0.0026299147676955886, 0.0024794200818581396, 0.0023570935858059972, 0.002237402742462811, 0.002132957615577281, 0.0020653048861039294, 0.0020241492792607467, 0.001996104788540261, 0.001974195388088457, 0.0019563282777393105, 0.001941310288146041, 0.001928434199287151, 0.0019171714738697439, 0.0019076744442803409, 0.0018994600480017774, 0.0018923021470286757, 0.0018860036799551957, 0.001880326875765976, 0.0018751874013462244, 0.0018706597313229148, 0.001866556478525684, 0.0018628733523862345, 0.001859512920661621, 0.0018562769763648317, 0.0018535581203211343, 0.00185122554634784, 0.0018490625220560154, 0.0018471572634034333, 0.0018452112830083286, 0.0018434709804260171, 0.0018420317805929282, 0.0018405804412675406, 0.0018391997890971907, 0.0018378953081990327, 0.0018365981903404474, 0.0018354340326957484, 0.0018342938117721097, 0.0018329826089083742, 0.0018317705086916562, 0.001830641298326753, 0.0018296453314672377, 0.0018287108910636698]\n"
     ]
    },
    {
     "data": {
      "application/vnd.jupyter.widget-view+json": {
       "model_id": "2945f9f80aee4ae4bf18936e2d8286ca",
       "version_major": 2,
       "version_minor": 0
      },
      "text/plain": [
       "0it [00:00, ?it/s]"
      ]
     },
     "metadata": {},
     "output_type": "display_data"
    },
    {
     "name": "stdout",
     "output_type": "stream",
     "text": [
      "Loss of train: 0.00158\n",
      "Loss of val: 0.00183\n",
      "Loss of test: 0.00169\n",
      "Loss of gw_test: 0.00158\n",
      "[0.0028475027928988148, 0.0026299147676955886, 0.0024794200818581396, 0.0023570935858059972, 0.002237402742462811, 0.002132957615577281, 0.0020653048861039294, 0.0020241492792607467, 0.001996104788540261, 0.001974195388088457, 0.0019563282777393105, 0.001941310288146041, 0.001928434199287151, 0.0019171714738697439, 0.0019076744442803409, 0.0018994600480017774, 0.0018923021470286757, 0.0018860036799551957, 0.001880326875765976, 0.0018751874013462244, 0.0018706597313229148, 0.001866556478525684, 0.0018628733523862345, 0.001859512920661621, 0.0018562769763648317, 0.0018535581203211343, 0.00185122554634784, 0.0018490625220560154, 0.0018471572634034333, 0.0018452112830083286, 0.0018434709804260171, 0.0018420317805929282, 0.0018405804412675406, 0.0018391997890971907, 0.0018378953081990327, 0.0018365981903404474, 0.0018354340326957484, 0.0018342938117721097, 0.0018329826089083742, 0.0018317705086916562, 0.001830641298326753, 0.0018296453314672377, 0.0018287108910636698, 0.0018275825161829656]\n"
     ]
    },
    {
     "data": {
      "application/vnd.jupyter.widget-view+json": {
       "model_id": "2a1bce7a500d40dd9bbdeb363193fe3a",
       "version_major": 2,
       "version_minor": 0
      },
      "text/plain": [
       "0it [00:00, ?it/s]"
      ]
     },
     "metadata": {},
     "output_type": "display_data"
    },
    {
     "name": "stdout",
     "output_type": "stream",
     "text": [
      "Loss of train: 0.00157\n",
      "Loss of val: 0.00183\n",
      "Loss of test: 0.00169\n",
      "Loss of gw_test: 0.00158\n",
      "[0.0028475027928988148, 0.0026299147676955886, 0.0024794200818581396, 0.0023570935858059972, 0.002237402742462811, 0.002132957615577281, 0.0020653048861039294, 0.0020241492792607467, 0.001996104788540261, 0.001974195388088457, 0.0019563282777393105, 0.001941310288146041, 0.001928434199287151, 0.0019171714738697439, 0.0019076744442803409, 0.0018994600480017774, 0.0018923021470286757, 0.0018860036799551957, 0.001880326875765976, 0.0018751874013462244, 0.0018706597313229148, 0.001866556478525684, 0.0018628733523862345, 0.001859512920661621, 0.0018562769763648317, 0.0018535581203211343, 0.00185122554634784, 0.0018490625220560154, 0.0018471572634034333, 0.0018452112830083286, 0.0018434709804260171, 0.0018420317805929282, 0.0018405804412675406, 0.0018391997890971907, 0.0018378953081990327, 0.0018365981903404474, 0.0018354340326957484, 0.0018342938117721097, 0.0018329826089083742, 0.0018317705086916562, 0.001830641298326753, 0.0018296453314672377, 0.0018287108910636698, 0.0018275825161829656, 0.001826512646640573]\n"
     ]
    },
    {
     "data": {
      "application/vnd.jupyter.widget-view+json": {
       "model_id": "2a9bd60ca697480a9b0a81b29aaade8e",
       "version_major": 2,
       "version_minor": 0
      },
      "text/plain": [
       "0it [00:00, ?it/s]"
      ]
     },
     "metadata": {},
     "output_type": "display_data"
    },
    {
     "name": "stdout",
     "output_type": "stream",
     "text": [
      "Loss of train: 0.00157\n",
      "Loss of val: 0.00183\n",
      "Loss of test: 0.00168\n",
      "Loss of gw_test: 0.00158\n",
      "[0.0028475027928988148, 0.0026299147676955886, 0.0024794200818581396, 0.0023570935858059972, 0.002237402742462811, 0.002132957615577281, 0.0020653048861039294, 0.0020241492792607467, 0.001996104788540261, 0.001974195388088457, 0.0019563282777393105, 0.001941310288146041, 0.001928434199287151, 0.0019171714738697439, 0.0019076744442803409, 0.0018994600480017774, 0.0018923021470286757, 0.0018860036799551957, 0.001880326875765976, 0.0018751874013462244, 0.0018706597313229148, 0.001866556478525684, 0.0018628733523862345, 0.001859512920661621, 0.0018562769763648317, 0.0018535581203211343, 0.00185122554634784, 0.0018490625220560154, 0.0018471572634034333, 0.0018452112830083286, 0.0018434709804260171, 0.0018420317805929282, 0.0018405804412675406, 0.0018391997890971907, 0.0018378953081990327, 0.0018365981903404474, 0.0018354340326957484, 0.0018342938117721097, 0.0018329826089083742, 0.0018317705086916562, 0.001830641298326753, 0.0018296453314672377, 0.0018287108910636698, 0.0018275825161829656, 0.001826512646640573, 0.0018256404259670749]\n"
     ]
    },
    {
     "data": {
      "application/vnd.jupyter.widget-view+json": {
       "model_id": "0685f088c36d45518bd37f4622939c6c",
       "version_major": 2,
       "version_minor": 0
      },
      "text/plain": [
       "0it [00:00, ?it/s]"
      ]
     },
     "metadata": {},
     "output_type": "display_data"
    },
    {
     "name": "stdout",
     "output_type": "stream",
     "text": [
      "Loss of train: 0.00156\n",
      "Loss of val: 0.00182\n",
      "Loss of test: 0.00168\n",
      "Loss of gw_test: 0.00157\n",
      "[0.0028475027928988148, 0.0026299147676955886, 0.0024794200818581396, 0.0023570935858059972, 0.002237402742462811, 0.002132957615577281, 0.0020653048861039294, 0.0020241492792607467, 0.001996104788540261, 0.001974195388088457, 0.0019563282777393105, 0.001941310288146041, 0.001928434199287151, 0.0019171714738697439, 0.0019076744442803409, 0.0018994600480017774, 0.0018923021470286757, 0.0018860036799551957, 0.001880326875765976, 0.0018751874013462244, 0.0018706597313229148, 0.001866556478525684, 0.0018628733523862345, 0.001859512920661621, 0.0018562769763648317, 0.0018535581203211343, 0.00185122554634784, 0.0018490625220560154, 0.0018471572634034333, 0.0018452112830083286, 0.0018434709804260171, 0.0018420317805929282, 0.0018405804412675406, 0.0018391997890971907, 0.0018378953081990327, 0.0018365981903404474, 0.0018354340326957484, 0.0018342938117721097, 0.0018329826089083742, 0.0018317705086916562, 0.001830641298326753, 0.0018296453314672377, 0.0018287108910636698, 0.0018275825161829656, 0.001826512646640573, 0.0018256404259670749, 0.0018248819307481363]\n"
     ]
    },
    {
     "data": {
      "application/vnd.jupyter.widget-view+json": {
       "model_id": "d1e0c9de6f86450780047ab1395492a3",
       "version_major": 2,
       "version_minor": 0
      },
      "text/plain": [
       "0it [00:00, ?it/s]"
      ]
     },
     "metadata": {},
     "output_type": "display_data"
    },
    {
     "name": "stdout",
     "output_type": "stream",
     "text": [
      "Loss of train: 0.00156\n",
      "Loss of val: 0.00182\n",
      "Loss of test: 0.00168\n",
      "Loss of gw_test: 0.00157\n",
      "[0.0028475027928988148, 0.0026299147676955886, 0.0024794200818581396, 0.0023570935858059972, 0.002237402742462811, 0.002132957615577281, 0.0020653048861039294, 0.0020241492792607467, 0.001996104788540261, 0.001974195388088457, 0.0019563282777393105, 0.001941310288146041, 0.001928434199287151, 0.0019171714738697439, 0.0019076744442803409, 0.0018994600480017774, 0.0018923021470286757, 0.0018860036799551957, 0.001880326875765976, 0.0018751874013462244, 0.0018706597313229148, 0.001866556478525684, 0.0018628733523862345, 0.001859512920661621, 0.0018562769763648317, 0.0018535581203211343, 0.00185122554634784, 0.0018490625220560154, 0.0018471572634034333, 0.0018452112830083286, 0.0018434709804260171, 0.0018420317805929282, 0.0018405804412675406, 0.0018391997890971907, 0.0018378953081990327, 0.0018365981903404474, 0.0018354340326957484, 0.0018342938117721097, 0.0018329826089083742, 0.0018317705086916562, 0.001830641298326753, 0.0018296453314672377, 0.0018287108910636698, 0.0018275825161829656, 0.001826512646640573, 0.0018256404259670749, 0.0018248819307481363, 0.00182409506377246]\n"
     ]
    },
    {
     "data": {
      "application/vnd.jupyter.widget-view+json": {
       "model_id": "08607565032f48fead7bb1b64e12bcea",
       "version_major": 2,
       "version_minor": 0
      },
      "text/plain": [
       "0it [00:00, ?it/s]"
      ]
     },
     "metadata": {},
     "output_type": "display_data"
    },
    {
     "name": "stdout",
     "output_type": "stream",
     "text": [
      "Loss of train: 0.00156\n",
      "Loss of val: 0.00182\n",
      "Loss of test: 0.00168\n",
      "Loss of gw_test: 0.00157\n",
      "[0.0028475027928988148, 0.0026299147676955886, 0.0024794200818581396, 0.0023570935858059972, 0.002237402742462811, 0.002132957615577281, 0.0020653048861039294, 0.0020241492792607467, 0.001996104788540261, 0.001974195388088457, 0.0019563282777393105, 0.001941310288146041, 0.001928434199287151, 0.0019171714738697439, 0.0019076744442803409, 0.0018994600480017774, 0.0018923021470286757, 0.0018860036799551957, 0.001880326875765976, 0.0018751874013462244, 0.0018706597313229148, 0.001866556478525684, 0.0018628733523862345, 0.001859512920661621, 0.0018562769763648317, 0.0018535581203211343, 0.00185122554634784, 0.0018490625220560154, 0.0018471572634034333, 0.0018452112830083286, 0.0018434709804260171, 0.0018420317805929282, 0.0018405804412675406, 0.0018391997890971907, 0.0018378953081990327, 0.0018365981903404474, 0.0018354340326957484, 0.0018342938117721097, 0.0018329826089083742, 0.0018317705086916562, 0.001830641298326753, 0.0018296453314672377, 0.0018287108910636698, 0.0018275825161829656, 0.001826512646640573, 0.0018256404259670749, 0.0018248819307481363, 0.00182409506377246, 0.0018233799547598371]\n"
     ]
    },
    {
     "data": {
      "application/vnd.jupyter.widget-view+json": {
       "model_id": "3fcce56663024aa3b7dd05e19b4384bd",
       "version_major": 2,
       "version_minor": 0
      },
      "text/plain": [
       "0it [00:00, ?it/s]"
      ]
     },
     "metadata": {},
     "output_type": "display_data"
    },
    {
     "name": "stdout",
     "output_type": "stream",
     "text": [
      "Loss of train: 0.00155\n",
      "Loss of val: 0.00182\n",
      "Loss of test: 0.00168\n",
      "Loss of gw_test: 0.00157\n",
      "[0.0028475027928988148, 0.0026299147676955886, 0.0024794200818581396, 0.0023570935858059972, 0.002237402742462811, 0.002132957615577281, 0.0020653048861039294, 0.0020241492792607467, 0.001996104788540261, 0.001974195388088457, 0.0019563282777393105, 0.001941310288146041, 0.001928434199287151, 0.0019171714738697439, 0.0019076744442803409, 0.0018994600480017774, 0.0018923021470286757, 0.0018860036799551957, 0.001880326875765976, 0.0018751874013462244, 0.0018706597313229148, 0.001866556478525684, 0.0018628733523862345, 0.001859512920661621, 0.0018562769763648317, 0.0018535581203211343, 0.00185122554634784, 0.0018490625220560154, 0.0018471572634034333, 0.0018452112830083286, 0.0018434709804260171, 0.0018420317805929282, 0.0018405804412675406, 0.0018391997890971907, 0.0018378953081990327, 0.0018365981903404474, 0.0018354340326957484, 0.0018342938117721097, 0.0018329826089083742, 0.0018317705086916562, 0.001830641298326753, 0.0018296453314672377, 0.0018287108910636698, 0.0018275825161829656, 0.001826512646640573, 0.0018256404259670749, 0.0018248819307481363, 0.00182409506377246, 0.0018233799547598371, 0.0018228362689900086]\n"
     ]
    },
    {
     "data": {
      "application/vnd.jupyter.widget-view+json": {
       "model_id": "7f2f3a2f105943daa0e032771fbb85a8",
       "version_major": 2,
       "version_minor": 0
      },
      "text/plain": [
       "0it [00:00, ?it/s]"
      ]
     },
     "metadata": {},
     "output_type": "display_data"
    },
    {
     "name": "stdout",
     "output_type": "stream",
     "text": [
      "Loss of train: 0.00155\n",
      "Loss of val: 0.00182\n",
      "Loss of test: 0.00168\n",
      "Loss of gw_test: 0.00156\n",
      "[0.0028475027928988148, 0.0026299147676955886, 0.0024794200818581396, 0.0023570935858059972, 0.002237402742462811, 0.002132957615577281, 0.0020653048861039294, 0.0020241492792607467, 0.001996104788540261, 0.001974195388088457, 0.0019563282777393105, 0.001941310288146041, 0.001928434199287151, 0.0019171714738697439, 0.0019076744442803409, 0.0018994600480017774, 0.0018923021470286757, 0.0018860036799551957, 0.001880326875765976, 0.0018751874013462244, 0.0018706597313229148, 0.001866556478525684, 0.0018628733523862345, 0.001859512920661621, 0.0018562769763648317, 0.0018535581203211343, 0.00185122554634784, 0.0018490625220560154, 0.0018471572634034333, 0.0018452112830083286, 0.0018434709804260171, 0.0018420317805929282, 0.0018405804412675406, 0.0018391997890971907, 0.0018378953081990327, 0.0018365981903404474, 0.0018354340326957484, 0.0018342938117721097, 0.0018329826089083742, 0.0018317705086916562, 0.001830641298326753, 0.0018296453314672377, 0.0018287108910636698, 0.0018275825161829656, 0.001826512646640573, 0.0018256404259670749, 0.0018248819307481363, 0.00182409506377246, 0.0018233799547598371, 0.0018228362689900086, 0.0018223033353177453]\n"
     ]
    },
    {
     "data": {
      "application/vnd.jupyter.widget-view+json": {
       "model_id": "66dfe5901f84408797062d00aae1c0ea",
       "version_major": 2,
       "version_minor": 0
      },
      "text/plain": [
       "0it [00:00, ?it/s]"
      ]
     },
     "metadata": {},
     "output_type": "display_data"
    },
    {
     "name": "stdout",
     "output_type": "stream",
     "text": [
      "Loss of train: 0.00154\n",
      "Loss of val: 0.00182\n",
      "Loss of test: 0.00168\n",
      "Loss of gw_test: 0.00156\n",
      "[0.0028475027928988148, 0.0026299147676955886, 0.0024794200818581396, 0.0023570935858059972, 0.002237402742462811, 0.002132957615577281, 0.0020653048861039294, 0.0020241492792607467, 0.001996104788540261, 0.001974195388088457, 0.0019563282777393105, 0.001941310288146041, 0.001928434199287151, 0.0019171714738697439, 0.0019076744442803409, 0.0018994600480017774, 0.0018923021470286757, 0.0018860036799551957, 0.001880326875765976, 0.0018751874013462244, 0.0018706597313229148, 0.001866556478525684, 0.0018628733523862345, 0.001859512920661621, 0.0018562769763648317, 0.0018535581203211343, 0.00185122554634784, 0.0018490625220560154, 0.0018471572634034333, 0.0018452112830083286, 0.0018434709804260171, 0.0018420317805929282, 0.0018405804412675406, 0.0018391997890971907, 0.0018378953081990327, 0.0018365981903404474, 0.0018354340326957484, 0.0018342938117721097, 0.0018329826089083742, 0.0018317705086916562, 0.001830641298326753, 0.0018296453314672377, 0.0018287108910636698, 0.0018275825161829656, 0.001826512646640573, 0.0018256404259670749, 0.0018248819307481363, 0.00182409506377246, 0.0018233799547598371, 0.0018228362689900086, 0.0018223033353177453, 0.0018217858644518285]\n"
     ]
    },
    {
     "data": {
      "application/vnd.jupyter.widget-view+json": {
       "model_id": "3de03c55f5c649d48fb986c9565148b3",
       "version_major": 2,
       "version_minor": 0
      },
      "text/plain": [
       "0it [00:00, ?it/s]"
      ]
     },
     "metadata": {},
     "output_type": "display_data"
    },
    {
     "name": "stdout",
     "output_type": "stream",
     "text": [
      "Loss of train: 0.00154\n",
      "Loss of val: 0.00182\n",
      "Loss of test: 0.00167\n",
      "Loss of gw_test: 0.00156\n",
      "[0.0028475027928988148, 0.0026299147676955886, 0.0024794200818581396, 0.0023570935858059972, 0.002237402742462811, 0.002132957615577281, 0.0020653048861039294, 0.0020241492792607467, 0.001996104788540261, 0.001974195388088457, 0.0019563282777393105, 0.001941310288146041, 0.001928434199287151, 0.0019171714738697439, 0.0019076744442803409, 0.0018994600480017774, 0.0018923021470286757, 0.0018860036799551957, 0.001880326875765976, 0.0018751874013462244, 0.0018706597313229148, 0.001866556478525684, 0.0018628733523862345, 0.001859512920661621, 0.0018562769763648317, 0.0018535581203211343, 0.00185122554634784, 0.0018490625220560154, 0.0018471572634034333, 0.0018452112830083286, 0.0018434709804260171, 0.0018420317805929282, 0.0018405804412675406, 0.0018391997890971907, 0.0018378953081990327, 0.0018365981903404474, 0.0018354340326957484, 0.0018342938117721097, 0.0018329826089083742, 0.0018317705086916562, 0.001830641298326753, 0.0018296453314672377, 0.0018287108910636698, 0.0018275825161829656, 0.001826512646640573, 0.0018256404259670749, 0.0018248819307481363, 0.00182409506377246, 0.0018233799547598371, 0.0018228362689900086, 0.0018223033353177453, 0.0018217858644518285, 0.0018213980914329258]\n"
     ]
    },
    {
     "data": {
      "application/vnd.jupyter.widget-view+json": {
       "model_id": "cdc401e7e197494b99f2c7d8aff370ae",
       "version_major": 2,
       "version_minor": 0
      },
      "text/plain": [
       "0it [00:00, ?it/s]"
      ]
     },
     "metadata": {},
     "output_type": "display_data"
    },
    {
     "name": "stdout",
     "output_type": "stream",
     "text": [
      "Loss of train: 0.00154\n",
      "Loss of val: 0.00182\n",
      "Loss of test: 0.00167\n",
      "Loss of gw_test: 0.00155\n",
      "[0.0028475027928988148, 0.0026299147676955886, 0.0024794200818581396, 0.0023570935858059972, 0.002237402742462811, 0.002132957615577281, 0.0020653048861039294, 0.0020241492792607467, 0.001996104788540261, 0.001974195388088457, 0.0019563282777393105, 0.001941310288146041, 0.001928434199287151, 0.0019171714738697439, 0.0019076744442803409, 0.0018994600480017774, 0.0018923021470286757, 0.0018860036799551957, 0.001880326875765976, 0.0018751874013462244, 0.0018706597313229148, 0.001866556478525684, 0.0018628733523862345, 0.001859512920661621, 0.0018562769763648317, 0.0018535581203211343, 0.00185122554634784, 0.0018490625220560154, 0.0018471572634034333, 0.0018452112830083286, 0.0018434709804260171, 0.0018420317805929282, 0.0018405804412675406, 0.0018391997890971907, 0.0018378953081990327, 0.0018365981903404474, 0.0018354340326957484, 0.0018342938117721097, 0.0018329826089083742, 0.0018317705086916562, 0.001830641298326753, 0.0018296453314672377, 0.0018287108910636698, 0.0018275825161829656, 0.001826512646640573, 0.0018256404259670749, 0.0018248819307481363, 0.00182409506377246, 0.0018233799547598371, 0.0018228362689900086, 0.0018223033353177453, 0.0018217858644518285, 0.0018213980914329258, 0.0018211454193974527]\n"
     ]
    },
    {
     "data": {
      "application/vnd.jupyter.widget-view+json": {
       "model_id": "c7cadf7768734c98975668c9388e0291",
       "version_major": 2,
       "version_minor": 0
      },
      "text/plain": [
       "0it [00:00, ?it/s]"
      ]
     },
     "metadata": {},
     "output_type": "display_data"
    },
    {
     "name": "stdout",
     "output_type": "stream",
     "text": [
      "Loss of train: 0.00153\n",
      "Loss of val: 0.00182\n",
      "Loss of test: 0.00167\n",
      "Loss of gw_test: 0.00155\n",
      "[0.0028475027928988148, 0.0026299147676955886, 0.0024794200818581396, 0.0023570935858059972, 0.002237402742462811, 0.002132957615577281, 0.0020653048861039294, 0.0020241492792607467, 0.001996104788540261, 0.001974195388088457, 0.0019563282777393105, 0.001941310288146041, 0.001928434199287151, 0.0019171714738697439, 0.0019076744442803409, 0.0018994600480017774, 0.0018923021470286757, 0.0018860036799551957, 0.001880326875765976, 0.0018751874013462244, 0.0018706597313229148, 0.001866556478525684, 0.0018628733523862345, 0.001859512920661621, 0.0018562769763648317, 0.0018535581203211343, 0.00185122554634784, 0.0018490625220560154, 0.0018471572634034333, 0.0018452112830083286, 0.0018434709804260171, 0.0018420317805929282, 0.0018405804412675406, 0.0018391997890971907, 0.0018378953081990327, 0.0018365981903404474, 0.0018354340326957484, 0.0018342938117721097, 0.0018329826089083742, 0.0018317705086916562, 0.001830641298326753, 0.0018296453314672377, 0.0018287108910636698, 0.0018275825161829656, 0.001826512646640573, 0.0018256404259670749, 0.0018248819307481363, 0.00182409506377246, 0.0018233799547598371, 0.0018228362689900086, 0.0018223033353177453, 0.0018217858644518285, 0.0018213980914329258, 0.0018211454193974527, 0.0018208271518355714]\n"
     ]
    },
    {
     "data": {
      "application/vnd.jupyter.widget-view+json": {
       "model_id": "c50ba0aea8bc4eb0a5f30599df9bb110",
       "version_major": 2,
       "version_minor": 0
      },
      "text/plain": [
       "0it [00:00, ?it/s]"
      ]
     },
     "metadata": {},
     "output_type": "display_data"
    },
    {
     "name": "stdout",
     "output_type": "stream",
     "text": [
      "Loss of train: 0.00153\n",
      "Loss of val: 0.00182\n",
      "Loss of test: 0.00167\n",
      "Loss of gw_test: 0.00155\n",
      "[0.0028475027928988148, 0.0026299147676955886, 0.0024794200818581396, 0.0023570935858059972, 0.002237402742462811, 0.002132957615577281, 0.0020653048861039294, 0.0020241492792607467, 0.001996104788540261, 0.001974195388088457, 0.0019563282777393105, 0.001941310288146041, 0.001928434199287151, 0.0019171714738697439, 0.0019076744442803409, 0.0018994600480017774, 0.0018923021470286757, 0.0018860036799551957, 0.001880326875765976, 0.0018751874013462244, 0.0018706597313229148, 0.001866556478525684, 0.0018628733523862345, 0.001859512920661621, 0.0018562769763648317, 0.0018535581203211343, 0.00185122554634784, 0.0018490625220560154, 0.0018471572634034333, 0.0018452112830083286, 0.0018434709804260171, 0.0018420317805929282, 0.0018405804412675406, 0.0018391997890971907, 0.0018378953081990327, 0.0018365981903404474, 0.0018354340326957484, 0.0018342938117721097, 0.0018329826089083742, 0.0018317705086916562, 0.001830641298326753, 0.0018296453314672377, 0.0018287108910636698, 0.0018275825161829656, 0.001826512646640573, 0.0018256404259670749, 0.0018248819307481363, 0.00182409506377246, 0.0018233799547598371, 0.0018228362689900086, 0.0018223033353177453, 0.0018217858644518285, 0.0018213980914329258, 0.0018211454193974527, 0.0018208271518355714, 0.0018207064290244929]\n"
     ]
    },
    {
     "data": {
      "application/vnd.jupyter.widget-view+json": {
       "model_id": "d860588befd040549a3b97736908f7de",
       "version_major": 2,
       "version_minor": 0
      },
      "text/plain": [
       "0it [00:00, ?it/s]"
      ]
     },
     "metadata": {},
     "output_type": "display_data"
    },
    {
     "name": "stdout",
     "output_type": "stream",
     "text": [
      "Loss of train: 0.00153\n",
      "Loss of val: 0.00182\n",
      "Loss of test: 0.00167\n",
      "Loss of gw_test: 0.00155\n",
      "[0.0028475027928988148, 0.0026299147676955886, 0.0024794200818581396, 0.0023570935858059972, 0.002237402742462811, 0.002132957615577281, 0.0020653048861039294, 0.0020241492792607467, 0.001996104788540261, 0.001974195388088457, 0.0019563282777393105, 0.001941310288146041, 0.001928434199287151, 0.0019171714738697439, 0.0019076744442803409, 0.0018994600480017774, 0.0018923021470286757, 0.0018860036799551957, 0.001880326875765976, 0.0018751874013462244, 0.0018706597313229148, 0.001866556478525684, 0.0018628733523862345, 0.001859512920661621, 0.0018562769763648317, 0.0018535581203211343, 0.00185122554634784, 0.0018490625220560154, 0.0018471572634034333, 0.0018452112830083286, 0.0018434709804260171, 0.0018420317805929282, 0.0018405804412675406, 0.0018391997890971907, 0.0018378953081990327, 0.0018365981903404474, 0.0018354340326957484, 0.0018342938117721097, 0.0018329826089083742, 0.0018317705086916562, 0.001830641298326753, 0.0018296453314672377, 0.0018287108910636698, 0.0018275825161829656, 0.001826512646640573, 0.0018256404259670749, 0.0018248819307481363, 0.00182409506377246, 0.0018233799547598371, 0.0018228362689900086, 0.0018223033353177453, 0.0018217858644518285, 0.0018213980914329258, 0.0018211454193974527, 0.0018208271518355714, 0.0018207064290244929, 0.0018206324462073662]\n"
     ]
    },
    {
     "data": {
      "application/vnd.jupyter.widget-view+json": {
       "model_id": "244cd2865408473393966b151af7ae08",
       "version_major": 2,
       "version_minor": 0
      },
      "text/plain": [
       "0it [00:00, ?it/s]"
      ]
     },
     "metadata": {},
     "output_type": "display_data"
    },
    {
     "name": "stdout",
     "output_type": "stream",
     "text": [
      "Loss of train: 0.00152\n",
      "Loss of val: 0.00182\n",
      "Loss of test: 0.00167\n",
      "Loss of gw_test: 0.00154\n",
      "[0.0028475027928988148, 0.0026299147676955886, 0.0024794200818581396, 0.0023570935858059972, 0.002237402742462811, 0.002132957615577281, 0.0020653048861039294, 0.0020241492792607467, 0.001996104788540261, 0.001974195388088457, 0.0019563282777393105, 0.001941310288146041, 0.001928434199287151, 0.0019171714738697439, 0.0019076744442803409, 0.0018994600480017774, 0.0018923021470286757, 0.0018860036799551957, 0.001880326875765976, 0.0018751874013462244, 0.0018706597313229148, 0.001866556478525684, 0.0018628733523862345, 0.001859512920661621, 0.0018562769763648317, 0.0018535581203211343, 0.00185122554634784, 0.0018490625220560154, 0.0018471572634034333, 0.0018452112830083286, 0.0018434709804260171, 0.0018420317805929282, 0.0018405804412675406, 0.0018391997890971907, 0.0018378953081990327, 0.0018365981903404474, 0.0018354340326957484, 0.0018342938117721097, 0.0018329826089083742, 0.0018317705086916562, 0.001830641298326753, 0.0018296453314672377, 0.0018287108910636698, 0.0018275825161829656, 0.001826512646640573, 0.0018256404259670749, 0.0018248819307481363, 0.00182409506377246, 0.0018233799547598371, 0.0018228362689900086, 0.0018223033353177453, 0.0018217858644518285, 0.0018213980914329258, 0.0018211454193974527, 0.0018208271518355714, 0.0018207064290244929, 0.0018206324462073662, 0.0018206466429490048]\n",
      "Break at 57\n",
      "AUROC of val: 0.88416\n",
      "AUROC of test: 0.88048\n",
      "AUROC of gw_test: 0.86122\n",
      "Currently best params: \n",
      "{'dropout': 0, 'lr': 0.0001, 'num_heads': 1, 'wd': 0}\n",
      "782.4074074074074 %\n"
     ]
    },
    {
     "data": {
      "application/vnd.jupyter.widget-view+json": {
       "model_id": "ccdba62985de456e8c5d1b813cd7250b",
       "version_major": 2,
       "version_minor": 0
      },
      "text/plain": [
       "0it [00:00, ?it/s]"
      ]
     },
     "metadata": {},
     "output_type": "display_data"
    },
    {
     "name": "stdout",
     "output_type": "stream",
     "text": [
      "Loss of train: 0.00277\n",
      "Loss of val: 0.00285\n",
      "Loss of test: 0.00259\n",
      "Loss of gw_test: 0.00235\n",
      "[0.002846710564828987]\n"
     ]
    },
    {
     "data": {
      "application/vnd.jupyter.widget-view+json": {
       "model_id": "5d9df6155b6b40a6880cb0661221b66d",
       "version_major": 2,
       "version_minor": 0
      },
      "text/plain": [
       "0it [00:00, ?it/s]"
      ]
     },
     "metadata": {},
     "output_type": "display_data"
    },
    {
     "name": "stdout",
     "output_type": "stream",
     "text": [
      "Loss of train: 0.00254\n",
      "Loss of val: 0.00263\n",
      "Loss of test: 0.00238\n",
      "Loss of gw_test: 0.00222\n",
      "[0.002846710564828987, 0.0026290730855073542]\n"
     ]
    },
    {
     "data": {
      "application/vnd.jupyter.widget-view+json": {
       "model_id": "2828cf4509134f4eb597372ccb14d631",
       "version_major": 2,
       "version_minor": 0
      },
      "text/plain": [
       "0it [00:00, ?it/s]"
      ]
     },
     "metadata": {},
     "output_type": "display_data"
    },
    {
     "name": "stdout",
     "output_type": "stream",
     "text": [
      "Loss of train: 0.00239\n",
      "Loss of val: 0.00248\n",
      "Loss of test: 0.00225\n",
      "Loss of gw_test: 0.00216\n",
      "[0.002846710564828987, 0.0026290730855073542, 0.0024784052086768552]\n"
     ]
    },
    {
     "data": {
      "application/vnd.jupyter.widget-view+json": {
       "model_id": "0106c97e1f774784825b4029aeb7f7ef",
       "version_major": 2,
       "version_minor": 0
      },
      "text/plain": [
       "0it [00:00, ?it/s]"
      ]
     },
     "metadata": {},
     "output_type": "display_data"
    },
    {
     "name": "stdout",
     "output_type": "stream",
     "text": [
      "Loss of train: 0.00227\n",
      "Loss of val: 0.00236\n",
      "Loss of test: 0.00215\n",
      "Loss of gw_test: 0.00211\n",
      "[0.002846710564828987, 0.0026290730855073542, 0.0024784052086768552, 0.0023558887617226945]\n"
     ]
    },
    {
     "data": {
      "application/vnd.jupyter.widget-view+json": {
       "model_id": "f4856c0acd8642c29a2f12dba6e870ad",
       "version_major": 2,
       "version_minor": 0
      },
      "text/plain": [
       "0it [00:00, ?it/s]"
      ]
     },
     "metadata": {},
     "output_type": "display_data"
    },
    {
     "name": "stdout",
     "output_type": "stream",
     "text": [
      "Loss of train: 0.00215\n",
      "Loss of val: 0.00224\n",
      "Loss of test: 0.00206\n",
      "Loss of gw_test: 0.00202\n",
      "[0.002846710564828987, 0.0026290730855073542, 0.0024784052086768552, 0.0023558887617226945, 0.0022360816788539544]\n"
     ]
    },
    {
     "data": {
      "application/vnd.jupyter.widget-view+json": {
       "model_id": "38b543627c484da59d4c8f3ab485e9a2",
       "version_major": 2,
       "version_minor": 0
      },
      "text/plain": [
       "0it [00:00, ?it/s]"
      ]
     },
     "metadata": {},
     "output_type": "display_data"
    },
    {
     "name": "stdout",
     "output_type": "stream",
     "text": [
      "Loss of train: 0.00205\n",
      "Loss of val: 0.00213\n",
      "Loss of test: 0.00197\n",
      "Loss of gw_test: 0.00193\n",
      "[0.002846710564828987, 0.0026290730855073542, 0.0024784052086768552, 0.0023558887617226945, 0.0022360816788539544, 0.0021306142545182284]\n"
     ]
    },
    {
     "data": {
      "application/vnd.jupyter.widget-view+json": {
       "model_id": "ab15fd56e064477f8b8b1377c54b9600",
       "version_major": 2,
       "version_minor": 0
      },
      "text/plain": [
       "0it [00:00, ?it/s]"
      ]
     },
     "metadata": {},
     "output_type": "display_data"
    },
    {
     "name": "stdout",
     "output_type": "stream",
     "text": [
      "Loss of train: 0.00198\n",
      "Loss of val: 0.00206\n",
      "Loss of test: 0.00191\n",
      "Loss of gw_test: 0.00186\n",
      "[0.002846710564828987, 0.0026290730855073542, 0.0024784052086768552, 0.0023558887617226945, 0.0022360816788539544, 0.0021306142545182284, 0.0020614289795334003]\n"
     ]
    },
    {
     "data": {
      "application/vnd.jupyter.widget-view+json": {
       "model_id": "8552f642763c4a488f5fc0c266515903",
       "version_major": 2,
       "version_minor": 0
      },
      "text/plain": [
       "0it [00:00, ?it/s]"
      ]
     },
     "metadata": {},
     "output_type": "display_data"
    },
    {
     "name": "stdout",
     "output_type": "stream",
     "text": [
      "Loss of train: 0.00194\n",
      "Loss of val: 0.00202\n",
      "Loss of test: 0.00188\n",
      "Loss of gw_test: 0.00182\n",
      "[0.002846710564828987, 0.0026290730855073542, 0.0024784052086768552, 0.0023558887617226945, 0.0022360816788539544, 0.0021306142545182284, 0.0020614289795334003, 0.0020183009022824226]\n"
     ]
    },
    {
     "data": {
      "application/vnd.jupyter.widget-view+json": {
       "model_id": "e5e80e3318994100a170459bc9d5a6ae",
       "version_major": 2,
       "version_minor": 0
      },
      "text/plain": [
       "0it [00:00, ?it/s]"
      ]
     },
     "metadata": {},
     "output_type": "display_data"
    },
    {
     "name": "stdout",
     "output_type": "stream",
     "text": [
      "Loss of train: 0.00190\n",
      "Loss of val: 0.00199\n",
      "Loss of test: 0.00186\n",
      "Loss of gw_test: 0.00179\n",
      "[0.002846710564828987, 0.0026290730855073542, 0.0024784052086768552, 0.0023558887617226945, 0.0022360816788539544, 0.0021306142545182284, 0.0020614289795334003, 0.0020183009022824226, 0.001988293661382164]\n"
     ]
    },
    {
     "data": {
      "application/vnd.jupyter.widget-view+json": {
       "model_id": "0bd575586fe44dc2a2b17fd8c72d72aa",
       "version_major": 2,
       "version_minor": 0
      },
      "text/plain": [
       "0it [00:00, ?it/s]"
      ]
     },
     "metadata": {},
     "output_type": "display_data"
    },
    {
     "name": "stdout",
     "output_type": "stream",
     "text": [
      "Loss of train: 0.00188\n",
      "Loss of val: 0.00196\n",
      "Loss of test: 0.00184\n",
      "Loss of gw_test: 0.00177\n",
      "[0.002846710564828987, 0.0026290730855073542, 0.0024784052086768552, 0.0023558887617226945, 0.0022360816788539544, 0.0021306142545182284, 0.0020614289795334003, 0.0020183009022824226, 0.001988293661382164, 0.0019647315769670674]\n"
     ]
    },
    {
     "data": {
      "application/vnd.jupyter.widget-view+json": {
       "model_id": "63ceea4a64bb448cbd4cbef7b700fc98",
       "version_major": 2,
       "version_minor": 0
      },
      "text/plain": [
       "0it [00:00, ?it/s]"
      ]
     },
     "metadata": {},
     "output_type": "display_data"
    },
    {
     "name": "stdout",
     "output_type": "stream",
     "text": [
      "Loss of train: 0.00186\n",
      "Loss of val: 0.00195\n",
      "Loss of test: 0.00183\n",
      "Loss of gw_test: 0.00175\n",
      "[0.002846710564828987, 0.0026290730855073542, 0.0024784052086768552, 0.0023558887617226945, 0.0022360816788539544, 0.0021306142545182284, 0.0020614289795334003, 0.0020183009022824226, 0.001988293661382164, 0.0019647315769670674, 0.0019453002810574146]\n"
     ]
    },
    {
     "data": {
      "application/vnd.jupyter.widget-view+json": {
       "model_id": "2239163aa1e34e1c913e5208b68f7a85",
       "version_major": 2,
       "version_minor": 0
      },
      "text/plain": [
       "0it [00:00, ?it/s]"
      ]
     },
     "metadata": {},
     "output_type": "display_data"
    },
    {
     "name": "stdout",
     "output_type": "stream",
     "text": [
      "Loss of train: 0.00184\n",
      "Loss of val: 0.00193\n",
      "Loss of test: 0.00181\n",
      "Loss of gw_test: 0.00174\n",
      "[0.002846710564828987, 0.0026290730855073542, 0.0024784052086768552, 0.0023558887617226945, 0.0022360816788539544, 0.0021306142545182284, 0.0020614289795334003, 0.0020183009022824226, 0.001988293661382164, 0.0019647315769670674, 0.0019453002810574146, 0.0019288878062600704]\n"
     ]
    },
    {
     "data": {
      "application/vnd.jupyter.widget-view+json": {
       "model_id": "876583bddacc46f99a096c3c05a9928a",
       "version_major": 2,
       "version_minor": 0
      },
      "text/plain": [
       "0it [00:00, ?it/s]"
      ]
     },
     "metadata": {},
     "output_type": "display_data"
    },
    {
     "name": "stdout",
     "output_type": "stream",
     "text": [
      "Loss of train: 0.00182\n",
      "Loss of val: 0.00191\n",
      "Loss of test: 0.00180\n",
      "Loss of gw_test: 0.00173\n",
      "[0.002846710564828987, 0.0026290730855073542, 0.0024784052086768552, 0.0023558887617226945, 0.0022360816788539544, 0.0021306142545182284, 0.0020614289795334003, 0.0020183009022824226, 0.001988293661382164, 0.0019647315769670674, 0.0019453002810574146, 0.0019288878062600704, 0.0019149134735625844]\n"
     ]
    },
    {
     "data": {
      "application/vnd.jupyter.widget-view+json": {
       "model_id": "f11210d1976342f4b23d8d0920a64215",
       "version_major": 2,
       "version_minor": 0
      },
      "text/plain": [
       "0it [00:00, ?it/s]"
      ]
     },
     "metadata": {},
     "output_type": "display_data"
    },
    {
     "name": "stdout",
     "output_type": "stream",
     "text": [
      "Loss of train: 0.00181\n",
      "Loss of val: 0.00190\n",
      "Loss of test: 0.00179\n",
      "Loss of gw_test: 0.00172\n",
      "[0.002846710564828987, 0.0026290730855073542, 0.0024784052086768552, 0.0023558887617226945, 0.0022360816788539544, 0.0021306142545182284, 0.0020614289795334003, 0.0020183009022824226, 0.001988293661382164, 0.0019647315769670674, 0.0019453002810574146, 0.0019288878062600704, 0.0019149134735625844, 0.001902579980478433]\n"
     ]
    },
    {
     "data": {
      "application/vnd.jupyter.widget-view+json": {
       "model_id": "43217cc5b6074dee934799bf3b2bdb02",
       "version_major": 2,
       "version_minor": 0
      },
      "text/plain": [
       "0it [00:00, ?it/s]"
      ]
     },
     "metadata": {},
     "output_type": "display_data"
    },
    {
     "name": "stdout",
     "output_type": "stream",
     "text": [
      "Loss of train: 0.00179\n",
      "Loss of val: 0.00189\n",
      "Loss of test: 0.00178\n",
      "Loss of gw_test: 0.00171\n",
      "[0.002846710564828987, 0.0026290730855073542, 0.0024784052086768552, 0.0023558887617226945, 0.0022360816788539544, 0.0021306142545182284, 0.0020614289795334003, 0.0020183009022824226, 0.001988293661382164, 0.0019647315769670674, 0.0019453002810574146, 0.0019288878062600704, 0.0019149134735625844, 0.001902579980478433, 0.0018921529223837855]\n"
     ]
    },
    {
     "data": {
      "application/vnd.jupyter.widget-view+json": {
       "model_id": "b7952b556a4b44b8aa5bbbc5d5aa083f",
       "version_major": 2,
       "version_minor": 0
      },
      "text/plain": [
       "0it [00:00, ?it/s]"
      ]
     },
     "metadata": {},
     "output_type": "display_data"
    },
    {
     "name": "stdout",
     "output_type": "stream",
     "text": [
      "Loss of train: 0.00178\n",
      "Loss of val: 0.00188\n",
      "Loss of test: 0.00177\n",
      "Loss of gw_test: 0.00170\n",
      "[0.002846710564828987, 0.0026290730855073542, 0.0024784052086768552, 0.0023558887617226945, 0.0022360816788539544, 0.0021306142545182284, 0.0020614289795334003, 0.0020183009022824226, 0.001988293661382164, 0.0019647315769670674, 0.0019453002810574146, 0.0019288878062600704, 0.0019149134735625844, 0.001902579980478433, 0.0018921529223837855, 0.0018830076039902317]\n"
     ]
    },
    {
     "data": {
      "application/vnd.jupyter.widget-view+json": {
       "model_id": "9e37ba453e374aa69acdbf735b53bfc1",
       "version_major": 2,
       "version_minor": 0
      },
      "text/plain": [
       "0it [00:00, ?it/s]"
      ]
     },
     "metadata": {},
     "output_type": "display_data"
    },
    {
     "name": "stdout",
     "output_type": "stream",
     "text": [
      "Loss of train: 0.00177\n",
      "Loss of val: 0.00187\n",
      "Loss of test: 0.00177\n",
      "Loss of gw_test: 0.00169\n",
      "[0.002846710564828987, 0.0026290730855073542, 0.0024784052086768552, 0.0023558887617226945, 0.0022360816788539544, 0.0021306142545182284, 0.0020614289795334003, 0.0020183009022824226, 0.001988293661382164, 0.0019647315769670674, 0.0019453002810574146, 0.0019288878062600704, 0.0019149134735625844, 0.001902579980478433, 0.0018921529223837855, 0.0018830076039902317, 0.0018748986324995042]\n"
     ]
    },
    {
     "data": {
      "application/vnd.jupyter.widget-view+json": {
       "model_id": "677a07fedc9942ee897263150a6e0d9e",
       "version_major": 2,
       "version_minor": 0
      },
      "text/plain": [
       "0it [00:00, ?it/s]"
      ]
     },
     "metadata": {},
     "output_type": "display_data"
    },
    {
     "name": "stdout",
     "output_type": "stream",
     "text": [
      "Loss of train: 0.00176\n",
      "Loss of val: 0.00187\n",
      "Loss of test: 0.00176\n",
      "Loss of gw_test: 0.00169\n",
      "[0.002846710564828987, 0.0026290730855073542, 0.0024784052086768552, 0.0023558887617226945, 0.0022360816788539544, 0.0021306142545182284, 0.0020614289795334003, 0.0020183009022824226, 0.001988293661382164, 0.0019647315769670674, 0.0019453002810574146, 0.0019288878062600704, 0.0019149134735625844, 0.001902579980478433, 0.0018921529223837855, 0.0018830076039902317, 0.0018748986324995042, 0.0018675367452798957]\n"
     ]
    },
    {
     "data": {
      "application/vnd.jupyter.widget-view+json": {
       "model_id": "dc64e26dda7941c991c5b3782c4af3dc",
       "version_major": 2,
       "version_minor": 0
      },
      "text/plain": [
       "0it [00:00, ?it/s]"
      ]
     },
     "metadata": {},
     "output_type": "display_data"
    },
    {
     "name": "stdout",
     "output_type": "stream",
     "text": [
      "Loss of train: 0.00175\n",
      "Loss of val: 0.00186\n",
      "Loss of test: 0.00175\n",
      "Loss of gw_test: 0.00168\n",
      "[0.002846710564828987, 0.0026290730855073542, 0.0024784052086768552, 0.0023558887617226945, 0.0022360816788539544, 0.0021306142545182284, 0.0020614289795334003, 0.0020183009022824226, 0.001988293661382164, 0.0019647315769670674, 0.0019453002810574146, 0.0019288878062600704, 0.0019149134735625844, 0.001902579980478433, 0.0018921529223837855, 0.0018830076039902317, 0.0018748986324995042, 0.0018675367452798957, 0.0018609478793049103]\n"
     ]
    },
    {
     "data": {
      "application/vnd.jupyter.widget-view+json": {
       "model_id": "5554266108e04c33ba735c76ee0543fb",
       "version_major": 2,
       "version_minor": 0
      },
      "text/plain": [
       "0it [00:00, ?it/s]"
      ]
     },
     "metadata": {},
     "output_type": "display_data"
    },
    {
     "name": "stdout",
     "output_type": "stream",
     "text": [
      "Loss of train: 0.00174\n",
      "Loss of val: 0.00185\n",
      "Loss of test: 0.00175\n",
      "Loss of gw_test: 0.00167\n",
      "[0.002846710564828987, 0.0026290730855073542, 0.0024784052086768552, 0.0023558887617226945, 0.0022360816788539544, 0.0021306142545182284, 0.0020614289795334003, 0.0020183009022824226, 0.001988293661382164, 0.0019647315769670674, 0.0019453002810574146, 0.0019288878062600704, 0.0019149134735625844, 0.001902579980478433, 0.0018921529223837855, 0.0018830076039902317, 0.0018748986324995042, 0.0018675367452798957, 0.0018609478793049103, 0.0018548746670670872]\n"
     ]
    },
    {
     "data": {
      "application/vnd.jupyter.widget-view+json": {
       "model_id": "76500c82c68748aeab215b9875dee1f6",
       "version_major": 2,
       "version_minor": 0
      },
      "text/plain": [
       "0it [00:00, ?it/s]"
      ]
     },
     "metadata": {},
     "output_type": "display_data"
    },
    {
     "name": "stdout",
     "output_type": "stream",
     "text": [
      "Loss of train: 0.00173\n",
      "Loss of val: 0.00185\n",
      "Loss of test: 0.00174\n",
      "Loss of gw_test: 0.00167\n",
      "[0.002846710564828987, 0.0026290730855073542, 0.0024784052086768552, 0.0023558887617226945, 0.0022360816788539544, 0.0021306142545182284, 0.0020614289795334003, 0.0020183009022824226, 0.001988293661382164, 0.0019647315769670674, 0.0019453002810574146, 0.0019288878062600704, 0.0019149134735625844, 0.001902579980478433, 0.0018921529223837855, 0.0018830076039902317, 0.0018748986324995042, 0.0018675367452798957, 0.0018609478793049103, 0.0018548746670670872, 0.0018492747587442585]\n"
     ]
    },
    {
     "data": {
      "application/vnd.jupyter.widget-view+json": {
       "model_id": "a424080053a34a34841e1a35c3b7d69f",
       "version_major": 2,
       "version_minor": 0
      },
      "text/plain": [
       "0it [00:00, ?it/s]"
      ]
     },
     "metadata": {},
     "output_type": "display_data"
    },
    {
     "name": "stdout",
     "output_type": "stream",
     "text": [
      "Loss of train: 0.00172\n",
      "Loss of val: 0.00184\n",
      "Loss of test: 0.00174\n",
      "Loss of gw_test: 0.00166\n",
      "[0.002846710564828987, 0.0026290730855073542, 0.0024784052086768552, 0.0023558887617226945, 0.0022360816788539544, 0.0021306142545182284, 0.0020614289795334003, 0.0020183009022824226, 0.001988293661382164, 0.0019647315769670674, 0.0019453002810574146, 0.0019288878062600704, 0.0019149134735625844, 0.001902579980478433, 0.0018921529223837855, 0.0018830076039902317, 0.0018748986324995042, 0.0018675367452798957, 0.0018609478793049103, 0.0018548746670670872, 0.0018492747587442585, 0.0018440984352671014]\n"
     ]
    },
    {
     "data": {
      "application/vnd.jupyter.widget-view+json": {
       "model_id": "ab3f47f7214b467786a657f9a6c90b50",
       "version_major": 2,
       "version_minor": 0
      },
      "text/plain": [
       "0it [00:00, ?it/s]"
      ]
     },
     "metadata": {},
     "output_type": "display_data"
    },
    {
     "name": "stdout",
     "output_type": "stream",
     "text": [
      "Loss of train: 0.00171\n",
      "Loss of val: 0.00184\n",
      "Loss of test: 0.00173\n",
      "Loss of gw_test: 0.00166\n",
      "[0.002846710564828987, 0.0026290730855073542, 0.0024784052086768552, 0.0023558887617226945, 0.0022360816788539544, 0.0021306142545182284, 0.0020614289795334003, 0.0020183009022824226, 0.001988293661382164, 0.0019647315769670674, 0.0019453002810574146, 0.0019288878062600704, 0.0019149134735625844, 0.001902579980478433, 0.0018921529223837855, 0.0018830076039902317, 0.0018748986324995042, 0.0018675367452798957, 0.0018609478793049103, 0.0018548746670670872, 0.0018492747587442585, 0.0018440984352671014, 0.001839214596439237]\n"
     ]
    },
    {
     "data": {
      "application/vnd.jupyter.widget-view+json": {
       "model_id": "dc67cb1191ad4eb3a50c48451e0fb22f",
       "version_major": 2,
       "version_minor": 0
      },
      "text/plain": [
       "0it [00:00, ?it/s]"
      ]
     },
     "metadata": {},
     "output_type": "display_data"
    },
    {
     "name": "stdout",
     "output_type": "stream",
     "text": [
      "Loss of train: 0.00171\n",
      "Loss of val: 0.00183\n",
      "Loss of test: 0.00173\n",
      "Loss of gw_test: 0.00165\n",
      "[0.002846710564828987, 0.0026290730855073542, 0.0024784052086768552, 0.0023558887617226945, 0.0022360816788539544, 0.0021306142545182284, 0.0020614289795334003, 0.0020183009022824226, 0.001988293661382164, 0.0019647315769670674, 0.0019453002810574146, 0.0019288878062600704, 0.0019149134735625844, 0.001902579980478433, 0.0018921529223837855, 0.0018830076039902317, 0.0018748986324995042, 0.0018675367452798957, 0.0018609478793049103, 0.0018548746670670872, 0.0018492747587442585, 0.0018440984352671014, 0.001839214596439237, 0.001834847527020444]\n"
     ]
    },
    {
     "data": {
      "application/vnd.jupyter.widget-view+json": {
       "model_id": "1c1fbd2abf1b4bf89e5d4f481b193157",
       "version_major": 2,
       "version_minor": 0
      },
      "text/plain": [
       "0it [00:00, ?it/s]"
      ]
     },
     "metadata": {},
     "output_type": "display_data"
    },
    {
     "name": "stdout",
     "output_type": "stream",
     "text": [
      "Loss of train: 0.00170\n",
      "Loss of val: 0.00183\n",
      "Loss of test: 0.00173\n",
      "Loss of gw_test: 0.00165\n",
      "[0.002846710564828987, 0.0026290730855073542, 0.0024784052086768552, 0.0023558887617226945, 0.0022360816788539544, 0.0021306142545182284, 0.0020614289795334003, 0.0020183009022824226, 0.001988293661382164, 0.0019647315769670674, 0.0019453002810574146, 0.0019288878062600704, 0.0019149134735625844, 0.001902579980478433, 0.0018921529223837855, 0.0018830076039902317, 0.0018748986324995042, 0.0018675367452798957, 0.0018609478793049103, 0.0018548746670670872, 0.0018492747587442585, 0.0018440984352671014, 0.001839214596439237, 0.001834847527020444, 0.0018306649672752689]\n"
     ]
    },
    {
     "data": {
      "application/vnd.jupyter.widget-view+json": {
       "model_id": "29580fec08864b5d9ed15656fa651058",
       "version_major": 2,
       "version_minor": 0
      },
      "text/plain": [
       "0it [00:00, ?it/s]"
      ]
     },
     "metadata": {},
     "output_type": "display_data"
    },
    {
     "name": "stdout",
     "output_type": "stream",
     "text": [
      "Loss of train: 0.00169\n",
      "Loss of val: 0.00183\n",
      "Loss of test: 0.00172\n",
      "Loss of gw_test: 0.00164\n",
      "[0.002846710564828987, 0.0026290730855073542, 0.0024784052086768552, 0.0023558887617226945, 0.0022360816788539544, 0.0021306142545182284, 0.0020614289795334003, 0.0020183009022824226, 0.001988293661382164, 0.0019647315769670674, 0.0019453002810574146, 0.0019288878062600704, 0.0019149134735625844, 0.001902579980478433, 0.0018921529223837855, 0.0018830076039902317, 0.0018748986324995042, 0.0018675367452798957, 0.0018609478793049103, 0.0018548746670670872, 0.0018492747587442585, 0.0018440984352671014, 0.001839214596439237, 0.001834847527020444, 0.0018306649672752689, 0.001826642344205424]\n"
     ]
    },
    {
     "data": {
      "application/vnd.jupyter.widget-view+json": {
       "model_id": "17d715deb8034f9a8ecf79ba3d1afbfc",
       "version_major": 2,
       "version_minor": 0
      },
      "text/plain": [
       "0it [00:00, ?it/s]"
      ]
     },
     "metadata": {},
     "output_type": "display_data"
    },
    {
     "name": "stdout",
     "output_type": "stream",
     "text": [
      "Loss of train: 0.00168\n",
      "Loss of val: 0.00182\n",
      "Loss of test: 0.00172\n",
      "Loss of gw_test: 0.00164\n",
      "[0.002846710564828987, 0.0026290730855073542, 0.0024784052086768552, 0.0023558887617226945, 0.0022360816788539544, 0.0021306142545182284, 0.0020614289795334003, 0.0020183009022824226, 0.001988293661382164, 0.0019647315769670674, 0.0019453002810574146, 0.0019288878062600704, 0.0019149134735625844, 0.001902579980478433, 0.0018921529223837855, 0.0018830076039902317, 0.0018748986324995042, 0.0018675367452798957, 0.0018609478793049103, 0.0018548746670670872, 0.0018492747587442585, 0.0018440984352671014, 0.001839214596439237, 0.001834847527020444, 0.0018306649672752689, 0.001826642344205424, 0.0018230272932395091]\n"
     ]
    },
    {
     "data": {
      "application/vnd.jupyter.widget-view+json": {
       "model_id": "c2e08d674f464aee97d6ed762bc5e5f9",
       "version_major": 2,
       "version_minor": 0
      },
      "text/plain": [
       "0it [00:00, ?it/s]"
      ]
     },
     "metadata": {},
     "output_type": "display_data"
    },
    {
     "name": "stdout",
     "output_type": "stream",
     "text": [
      "Loss of train: 0.00168\n",
      "Loss of val: 0.00182\n",
      "Loss of test: 0.00171\n",
      "Loss of gw_test: 0.00163\n",
      "[0.002846710564828987, 0.0026290730855073542, 0.0024784052086768552, 0.0023558887617226945, 0.0022360816788539544, 0.0021306142545182284, 0.0020614289795334003, 0.0020183009022824226, 0.001988293661382164, 0.0019647315769670674, 0.0019453002810574146, 0.0019288878062600704, 0.0019149134735625844, 0.001902579980478433, 0.0018921529223837855, 0.0018830076039902317, 0.0018748986324995042, 0.0018675367452798957, 0.0018609478793049103, 0.0018548746670670872, 0.0018492747587442585, 0.0018440984352671014, 0.001839214596439237, 0.001834847527020444, 0.0018306649672752689, 0.001826642344205424, 0.0018230272932395091, 0.0018197090380890732]\n"
     ]
    },
    {
     "data": {
      "application/vnd.jupyter.widget-view+json": {
       "model_id": "4540ac1c719c400da6fa1925e4e868c1",
       "version_major": 2,
       "version_minor": 0
      },
      "text/plain": [
       "0it [00:00, ?it/s]"
      ]
     },
     "metadata": {},
     "output_type": "display_data"
    },
    {
     "name": "stdout",
     "output_type": "stream",
     "text": [
      "Loss of train: 0.00167\n",
      "Loss of val: 0.00182\n",
      "Loss of test: 0.00171\n",
      "Loss of gw_test: 0.00163\n",
      "[0.002846710564828987, 0.0026290730855073542, 0.0024784052086768552, 0.0023558887617226945, 0.0022360816788539544, 0.0021306142545182284, 0.0020614289795334003, 0.0020183009022824226, 0.001988293661382164, 0.0019647315769670674, 0.0019453002810574146, 0.0019288878062600704, 0.0019149134735625844, 0.001902579980478433, 0.0018921529223837855, 0.0018830076039902317, 0.0018748986324995042, 0.0018675367452798957, 0.0018609478793049103, 0.0018548746670670872, 0.0018492747587442585, 0.0018440984352671014, 0.001839214596439237, 0.001834847527020444, 0.0018306649672752689, 0.001826642344205424, 0.0018230272932395091, 0.0018197090380890732, 0.0018164188146891408]\n"
     ]
    },
    {
     "data": {
      "application/vnd.jupyter.widget-view+json": {
       "model_id": "baffd8874f8d4b9ebaaa0d757b662bb4",
       "version_major": 2,
       "version_minor": 0
      },
      "text/plain": [
       "0it [00:00, ?it/s]"
      ]
     },
     "metadata": {},
     "output_type": "display_data"
    },
    {
     "name": "stdout",
     "output_type": "stream",
     "text": [
      "Loss of train: 0.00166\n",
      "Loss of val: 0.00181\n",
      "Loss of test: 0.00171\n",
      "Loss of gw_test: 0.00163\n",
      "[0.002846710564828987, 0.0026290730855073542, 0.0024784052086768552, 0.0023558887617226945, 0.0022360816788539544, 0.0021306142545182284, 0.0020614289795334003, 0.0020183009022824226, 0.001988293661382164, 0.0019647315769670674, 0.0019453002810574146, 0.0019288878062600704, 0.0019149134735625844, 0.001902579980478433, 0.0018921529223837855, 0.0018830076039902317, 0.0018748986324995042, 0.0018675367452798957, 0.0018609478793049103, 0.0018548746670670872, 0.0018492747587442585, 0.0018440984352671014, 0.001839214596439237, 0.001834847527020444, 0.0018306649672752689, 0.001826642344205424, 0.0018230272932395091, 0.0018197090380890732, 0.0018164188146891408, 0.0018131553135219247]\n"
     ]
    },
    {
     "data": {
      "application/vnd.jupyter.widget-view+json": {
       "model_id": "2ed97823b6d047bf875887ab3f47e1d2",
       "version_major": 2,
       "version_minor": 0
      },
      "text/plain": [
       "0it [00:00, ?it/s]"
      ]
     },
     "metadata": {},
     "output_type": "display_data"
    },
    {
     "name": "stdout",
     "output_type": "stream",
     "text": [
      "Loss of train: 0.00166\n",
      "Loss of val: 0.00181\n",
      "Loss of test: 0.00170\n",
      "Loss of gw_test: 0.00162\n",
      "[0.002846710564828987, 0.0026290730855073542, 0.0024784052086768552, 0.0023558887617226945, 0.0022360816788539544, 0.0021306142545182284, 0.0020614289795334003, 0.0020183009022824226, 0.001988293661382164, 0.0019647315769670674, 0.0019453002810574146, 0.0019288878062600704, 0.0019149134735625844, 0.001902579980478433, 0.0018921529223837855, 0.0018830076039902317, 0.0018748986324995042, 0.0018675367452798957, 0.0018609478793049103, 0.0018548746670670872, 0.0018492747587442585, 0.0018440984352671014, 0.001839214596439237, 0.001834847527020444, 0.0018306649672752689, 0.001826642344205424, 0.0018230272932395091, 0.0018197090380890732, 0.0018164188146891408, 0.0018131553135219247, 0.0018101371210684461]\n"
     ]
    },
    {
     "data": {
      "application/vnd.jupyter.widget-view+json": {
       "model_id": "a36c328fe73b49269aa801731805f50f",
       "version_major": 2,
       "version_minor": 0
      },
      "text/plain": [
       "0it [00:00, ?it/s]"
      ]
     },
     "metadata": {},
     "output_type": "display_data"
    },
    {
     "name": "stdout",
     "output_type": "stream",
     "text": [
      "Loss of train: 0.00165\n",
      "Loss of val: 0.00181\n",
      "Loss of test: 0.00170\n",
      "Loss of gw_test: 0.00162\n",
      "[0.002846710564828987, 0.0026290730855073542, 0.0024784052086768552, 0.0023558887617226945, 0.0022360816788539544, 0.0021306142545182284, 0.0020614289795334003, 0.0020183009022824226, 0.001988293661382164, 0.0019647315769670674, 0.0019453002810574146, 0.0019288878062600704, 0.0019149134735625844, 0.001902579980478433, 0.0018921529223837855, 0.0018830076039902317, 0.0018748986324995042, 0.0018675367452798957, 0.0018609478793049103, 0.0018548746670670872, 0.0018492747587442585, 0.0018440984352671014, 0.001839214596439237, 0.001834847527020444, 0.0018306649672752689, 0.001826642344205424, 0.0018230272932395091, 0.0018197090380890732, 0.0018164188146891408, 0.0018131553135219247, 0.0018101371210684461, 0.0018074825518798582]\n"
     ]
    },
    {
     "data": {
      "application/vnd.jupyter.widget-view+json": {
       "model_id": "e7678820c87c4b0aaf4d296804007709",
       "version_major": 2,
       "version_minor": 0
      },
      "text/plain": [
       "0it [00:00, ?it/s]"
      ]
     },
     "metadata": {},
     "output_type": "display_data"
    },
    {
     "name": "stdout",
     "output_type": "stream",
     "text": [
      "Loss of train: 0.00164\n",
      "Loss of val: 0.00180\n",
      "Loss of test: 0.00170\n",
      "Loss of gw_test: 0.00161\n",
      "[0.002846710564828987, 0.0026290730855073542, 0.0024784052086768552, 0.0023558887617226945, 0.0022360816788539544, 0.0021306142545182284, 0.0020614289795334003, 0.0020183009022824226, 0.001988293661382164, 0.0019647315769670674, 0.0019453002810574146, 0.0019288878062600704, 0.0019149134735625844, 0.001902579980478433, 0.0018921529223837855, 0.0018830076039902317, 0.0018748986324995042, 0.0018675367452798957, 0.0018609478793049103, 0.0018548746670670872, 0.0018492747587442585, 0.0018440984352671014, 0.001839214596439237, 0.001834847527020444, 0.0018306649672752689, 0.001826642344205424, 0.0018230272932395091, 0.0018197090380890732, 0.0018164188146891408, 0.0018131553135219247, 0.0018101371210684461, 0.0018074825518798582, 0.0018047135351819774]\n"
     ]
    },
    {
     "data": {
      "application/vnd.jupyter.widget-view+json": {
       "model_id": "77c65f6fbd574560940e7c53ab067ea5",
       "version_major": 2,
       "version_minor": 0
      },
      "text/plain": [
       "0it [00:00, ?it/s]"
      ]
     },
     "metadata": {},
     "output_type": "display_data"
    },
    {
     "name": "stdout",
     "output_type": "stream",
     "text": [
      "Loss of train: 0.00164\n",
      "Loss of val: 0.00180\n",
      "Loss of test: 0.00169\n",
      "Loss of gw_test: 0.00161\n",
      "[0.002846710564828987, 0.0026290730855073542, 0.0024784052086768552, 0.0023558887617226945, 0.0022360816788539544, 0.0021306142545182284, 0.0020614289795334003, 0.0020183009022824226, 0.001988293661382164, 0.0019647315769670674, 0.0019453002810574146, 0.0019288878062600704, 0.0019149134735625844, 0.001902579980478433, 0.0018921529223837855, 0.0018830076039902317, 0.0018748986324995042, 0.0018675367452798957, 0.0018609478793049103, 0.0018548746670670872, 0.0018492747587442585, 0.0018440984352671014, 0.001839214596439237, 0.001834847527020444, 0.0018306649672752689, 0.001826642344205424, 0.0018230272932395091, 0.0018197090380890732, 0.0018164188146891408, 0.0018131553135219247, 0.0018101371210684461, 0.0018074825518798582, 0.0018047135351819774, 0.0018020299441334452]\n"
     ]
    },
    {
     "data": {
      "application/vnd.jupyter.widget-view+json": {
       "model_id": "616aa69145ac430a9421887a5561745e",
       "version_major": 2,
       "version_minor": 0
      },
      "text/plain": [
       "0it [00:00, ?it/s]"
      ]
     },
     "metadata": {},
     "output_type": "display_data"
    },
    {
     "name": "stdout",
     "output_type": "stream",
     "text": [
      "Loss of train: 0.00163\n",
      "Loss of val: 0.00180\n",
      "Loss of test: 0.00169\n",
      "Loss of gw_test: 0.00161\n",
      "[0.002846710564828987, 0.0026290730855073542, 0.0024784052086768552, 0.0023558887617226945, 0.0022360816788539544, 0.0021306142545182284, 0.0020614289795334003, 0.0020183009022824226, 0.001988293661382164, 0.0019647315769670674, 0.0019453002810574146, 0.0019288878062600704, 0.0019149134735625844, 0.001902579980478433, 0.0018921529223837855, 0.0018830076039902317, 0.0018748986324995042, 0.0018675367452798957, 0.0018609478793049103, 0.0018548746670670872, 0.0018492747587442585, 0.0018440984352671014, 0.001839214596439237, 0.001834847527020444, 0.0018306649672752689, 0.001826642344205424, 0.0018230272932395091, 0.0018197090380890732, 0.0018164188146891408, 0.0018131553135219247, 0.0018101371210684461, 0.0018074825518798582, 0.0018047135351819774, 0.0018020299441334452, 0.001799417252708577]\n"
     ]
    },
    {
     "data": {
      "application/vnd.jupyter.widget-view+json": {
       "model_id": "35b0013e2edb4789a81ac09212b6d788",
       "version_major": 2,
       "version_minor": 0
      },
      "text/plain": [
       "0it [00:00, ?it/s]"
      ]
     },
     "metadata": {},
     "output_type": "display_data"
    },
    {
     "name": "stdout",
     "output_type": "stream",
     "text": [
      "Loss of train: 0.00163\n",
      "Loss of val: 0.00180\n",
      "Loss of test: 0.00169\n",
      "Loss of gw_test: 0.00160\n",
      "[0.002846710564828987, 0.0026290730855073542, 0.0024784052086768552, 0.0023558887617226945, 0.0022360816788539544, 0.0021306142545182284, 0.0020614289795334003, 0.0020183009022824226, 0.001988293661382164, 0.0019647315769670674, 0.0019453002810574146, 0.0019288878062600704, 0.0019149134735625844, 0.001902579980478433, 0.0018921529223837855, 0.0018830076039902317, 0.0018748986324995042, 0.0018675367452798957, 0.0018609478793049103, 0.0018548746670670872, 0.0018492747587442585, 0.0018440984352671014, 0.001839214596439237, 0.001834847527020444, 0.0018306649672752689, 0.001826642344205424, 0.0018230272932395091, 0.0018197090380890732, 0.0018164188146891408, 0.0018131553135219247, 0.0018101371210684461, 0.0018074825518798582, 0.0018047135351819774, 0.0018020299441334452, 0.001799417252708577, 0.0017967804750163377]\n"
     ]
    },
    {
     "data": {
      "application/vnd.jupyter.widget-view+json": {
       "model_id": "7ff83f6ef71d41d7a68f94cdbe167551",
       "version_major": 2,
       "version_minor": 0
      },
      "text/plain": [
       "0it [00:00, ?it/s]"
      ]
     },
     "metadata": {},
     "output_type": "display_data"
    },
    {
     "name": "stdout",
     "output_type": "stream",
     "text": [
      "Loss of train: 0.00162\n",
      "Loss of val: 0.00179\n",
      "Loss of test: 0.00168\n",
      "Loss of gw_test: 0.00160\n",
      "[0.002846710564828987, 0.0026290730855073542, 0.0024784052086768552, 0.0023558887617226945, 0.0022360816788539544, 0.0021306142545182284, 0.0020614289795334003, 0.0020183009022824226, 0.001988293661382164, 0.0019647315769670674, 0.0019453002810574146, 0.0019288878062600704, 0.0019149134735625844, 0.001902579980478433, 0.0018921529223837855, 0.0018830076039902317, 0.0018748986324995042, 0.0018675367452798957, 0.0018609478793049103, 0.0018548746670670872, 0.0018492747587442585, 0.0018440984352671014, 0.001839214596439237, 0.001834847527020444, 0.0018306649672752689, 0.001826642344205424, 0.0018230272932395091, 0.0018197090380890732, 0.0018164188146891408, 0.0018131553135219247, 0.0018101371210684461, 0.0018074825518798582, 0.0018047135351819774, 0.0018020299441334452, 0.001799417252708577, 0.0017967804750163377, 0.0017939203705071957]\n"
     ]
    },
    {
     "data": {
      "application/vnd.jupyter.widget-view+json": {
       "model_id": "98570f23f6b84c71960e6de05d33f00a",
       "version_major": 2,
       "version_minor": 0
      },
      "text/plain": [
       "0it [00:00, ?it/s]"
      ]
     },
     "metadata": {},
     "output_type": "display_data"
    },
    {
     "name": "stdout",
     "output_type": "stream",
     "text": [
      "Loss of train: 0.00161\n",
      "Loss of val: 0.00179\n",
      "Loss of test: 0.00168\n",
      "Loss of gw_test: 0.00159\n",
      "[0.002846710564828987, 0.0026290730855073542, 0.0024784052086768552, 0.0023558887617226945, 0.0022360816788539544, 0.0021306142545182284, 0.0020614289795334003, 0.0020183009022824226, 0.001988293661382164, 0.0019647315769670674, 0.0019453002810574146, 0.0019288878062600704, 0.0019149134735625844, 0.001902579980478433, 0.0018921529223837855, 0.0018830076039902317, 0.0018748986324995042, 0.0018675367452798957, 0.0018609478793049103, 0.0018548746670670872, 0.0018492747587442585, 0.0018440984352671014, 0.001839214596439237, 0.001834847527020444, 0.0018306649672752689, 0.001826642344205424, 0.0018230272932395091, 0.0018197090380890732, 0.0018164188146891408, 0.0018131553135219247, 0.0018101371210684461, 0.0018074825518798582, 0.0018047135351819774, 0.0018020299441334452, 0.001799417252708577, 0.0017967804750163377, 0.0017939203705071957, 0.0017910663327814936]\n"
     ]
    },
    {
     "data": {
      "application/vnd.jupyter.widget-view+json": {
       "model_id": "515b02723dfa45c797c9e89afbb4038b",
       "version_major": 2,
       "version_minor": 0
      },
      "text/plain": [
       "0it [00:00, ?it/s]"
      ]
     },
     "metadata": {},
     "output_type": "display_data"
    },
    {
     "name": "stdout",
     "output_type": "stream",
     "text": [
      "Loss of train: 0.00161\n",
      "Loss of val: 0.00179\n",
      "Loss of test: 0.00168\n",
      "Loss of gw_test: 0.00159\n",
      "[0.002846710564828987, 0.0026290730855073542, 0.0024784052086768552, 0.0023558887617226945, 0.0022360816788539544, 0.0021306142545182284, 0.0020614289795334003, 0.0020183009022824226, 0.001988293661382164, 0.0019647315769670674, 0.0019453002810574146, 0.0019288878062600704, 0.0019149134735625844, 0.001902579980478433, 0.0018921529223837855, 0.0018830076039902317, 0.0018748986324995042, 0.0018675367452798957, 0.0018609478793049103, 0.0018548746670670872, 0.0018492747587442585, 0.0018440984352671014, 0.001839214596439237, 0.001834847527020444, 0.0018306649672752689, 0.001826642344205424, 0.0018230272932395091, 0.0018197090380890732, 0.0018164188146891408, 0.0018131553135219247, 0.0018101371210684461, 0.0018074825518798582, 0.0018047135351819774, 0.0018020299441334452, 0.001799417252708577, 0.0017967804750163377, 0.0017939203705071957, 0.0017910663327814936, 0.001788307188961737]\n"
     ]
    },
    {
     "data": {
      "application/vnd.jupyter.widget-view+json": {
       "model_id": "a4d8581d95964494a7717499fb3bb262",
       "version_major": 2,
       "version_minor": 0
      },
      "text/plain": [
       "0it [00:00, ?it/s]"
      ]
     },
     "metadata": {},
     "output_type": "display_data"
    },
    {
     "name": "stdout",
     "output_type": "stream",
     "text": [
      "Loss of train: 0.00160\n",
      "Loss of val: 0.00179\n",
      "Loss of test: 0.00168\n",
      "Loss of gw_test: 0.00159\n",
      "[0.002846710564828987, 0.0026290730855073542, 0.0024784052086768552, 0.0023558887617226945, 0.0022360816788539544, 0.0021306142545182284, 0.0020614289795334003, 0.0020183009022824226, 0.001988293661382164, 0.0019647315769670674, 0.0019453002810574146, 0.0019288878062600704, 0.0019149134735625844, 0.001902579980478433, 0.0018921529223837855, 0.0018830076039902317, 0.0018748986324995042, 0.0018675367452798957, 0.0018609478793049103, 0.0018548746670670872, 0.0018492747587442585, 0.0018440984352671014, 0.001839214596439237, 0.001834847527020444, 0.0018306649672752689, 0.001826642344205424, 0.0018230272932395091, 0.0018197090380890732, 0.0018164188146891408, 0.0018131553135219247, 0.0018101371210684461, 0.0018074825518798582, 0.0018047135351819774, 0.0018020299441334452, 0.001799417252708577, 0.0017967804750163377, 0.0017939203705071957, 0.0017910663327814936, 0.001788307188961737, 0.0017855342121082553]\n"
     ]
    },
    {
     "data": {
      "application/vnd.jupyter.widget-view+json": {
       "model_id": "b5c34d31b7384763af8d1fa32ac4cb54",
       "version_major": 2,
       "version_minor": 0
      },
      "text/plain": [
       "0it [00:00, ?it/s]"
      ]
     },
     "metadata": {},
     "output_type": "display_data"
    },
    {
     "name": "stdout",
     "output_type": "stream",
     "text": [
      "Loss of train: 0.00160\n",
      "Loss of val: 0.00178\n",
      "Loss of test: 0.00167\n",
      "Loss of gw_test: 0.00158\n",
      "[0.002846710564828987, 0.0026290730855073542, 0.0024784052086768552, 0.0023558887617226945, 0.0022360816788539544, 0.0021306142545182284, 0.0020614289795334003, 0.0020183009022824226, 0.001988293661382164, 0.0019647315769670674, 0.0019453002810574146, 0.0019288878062600704, 0.0019149134735625844, 0.001902579980478433, 0.0018921529223837855, 0.0018830076039902317, 0.0018748986324995042, 0.0018675367452798957, 0.0018609478793049103, 0.0018548746670670872, 0.0018492747587442585, 0.0018440984352671014, 0.001839214596439237, 0.001834847527020444, 0.0018306649672752689, 0.001826642344205424, 0.0018230272932395091, 0.0018197090380890732, 0.0018164188146891408, 0.0018131553135219247, 0.0018101371210684461, 0.0018074825518798582, 0.0018047135351819774, 0.0018020299441334452, 0.001799417252708577, 0.0017967804750163377, 0.0017939203705071957, 0.0017910663327814936, 0.001788307188961737, 0.0017855342121082553, 0.0017831462941492217]\n"
     ]
    },
    {
     "data": {
      "application/vnd.jupyter.widget-view+json": {
       "model_id": "7c9da64ec2a44c109bdb5c1a1c87c68d",
       "version_major": 2,
       "version_minor": 0
      },
      "text/plain": [
       "0it [00:00, ?it/s]"
      ]
     },
     "metadata": {},
     "output_type": "display_data"
    },
    {
     "name": "stdout",
     "output_type": "stream",
     "text": [
      "Loss of train: 0.00159\n",
      "Loss of val: 0.00178\n",
      "Loss of test: 0.00167\n",
      "Loss of gw_test: 0.00158\n",
      "[0.002846710564828987, 0.0026290730855073542, 0.0024784052086768552, 0.0023558887617226945, 0.0022360816788539544, 0.0021306142545182284, 0.0020614289795334003, 0.0020183009022824226, 0.001988293661382164, 0.0019647315769670674, 0.0019453002810574146, 0.0019288878062600704, 0.0019149134735625844, 0.001902579980478433, 0.0018921529223837855, 0.0018830076039902317, 0.0018748986324995042, 0.0018675367452798957, 0.0018609478793049103, 0.0018548746670670872, 0.0018492747587442585, 0.0018440984352671014, 0.001839214596439237, 0.001834847527020444, 0.0018306649672752689, 0.001826642344205424, 0.0018230272932395091, 0.0018197090380890732, 0.0018164188146891408, 0.0018131553135219247, 0.0018101371210684461, 0.0018074825518798582, 0.0018047135351819774, 0.0018020299441334452, 0.001799417252708577, 0.0017967804750163377, 0.0017939203705071957, 0.0017910663327814936, 0.001788307188961737, 0.0017855342121082553, 0.0017831462941492217, 0.0017805133025181048]\n"
     ]
    },
    {
     "data": {
      "application/vnd.jupyter.widget-view+json": {
       "model_id": "588bcebba4f34fcf8aec063c479f2961",
       "version_major": 2,
       "version_minor": 0
      },
      "text/plain": [
       "0it [00:00, ?it/s]"
      ]
     },
     "metadata": {},
     "output_type": "display_data"
    },
    {
     "name": "stdout",
     "output_type": "stream",
     "text": [
      "Loss of train: 0.00159\n",
      "Loss of val: 0.00178\n",
      "Loss of test: 0.00167\n",
      "Loss of gw_test: 0.00158\n",
      "[0.002846710564828987, 0.0026290730855073542, 0.0024784052086768552, 0.0023558887617226945, 0.0022360816788539544, 0.0021306142545182284, 0.0020614289795334003, 0.0020183009022824226, 0.001988293661382164, 0.0019647315769670674, 0.0019453002810574146, 0.0019288878062600704, 0.0019149134735625844, 0.001902579980478433, 0.0018921529223837855, 0.0018830076039902317, 0.0018748986324995042, 0.0018675367452798957, 0.0018609478793049103, 0.0018548746670670872, 0.0018492747587442585, 0.0018440984352671014, 0.001839214596439237, 0.001834847527020444, 0.0018306649672752689, 0.001826642344205424, 0.0018230272932395091, 0.0018197090380890732, 0.0018164188146891408, 0.0018131553135219247, 0.0018101371210684461, 0.0018074825518798582, 0.0018047135351819774, 0.0018020299441334452, 0.001799417252708577, 0.0017967804750163377, 0.0017939203705071957, 0.0017910663327814936, 0.001788307188961737, 0.0017855342121082553, 0.0017831462941492217, 0.0017805133025181048, 0.0017781181758625775]\n"
     ]
    },
    {
     "data": {
      "application/vnd.jupyter.widget-view+json": {
       "model_id": "a9c23ec5d5f949dba98a6c457e1ff7ea",
       "version_major": 2,
       "version_minor": 0
      },
      "text/plain": [
       "0it [00:00, ?it/s]"
      ]
     },
     "metadata": {},
     "output_type": "display_data"
    },
    {
     "name": "stdout",
     "output_type": "stream",
     "text": [
      "Loss of train: 0.00158\n",
      "Loss of val: 0.00178\n",
      "Loss of test: 0.00166\n",
      "Loss of gw_test: 0.00157\n",
      "[0.002846710564828987, 0.0026290730855073542, 0.0024784052086768552, 0.0023558887617226945, 0.0022360816788539544, 0.0021306142545182284, 0.0020614289795334003, 0.0020183009022824226, 0.001988293661382164, 0.0019647315769670674, 0.0019453002810574146, 0.0019288878062600704, 0.0019149134735625844, 0.001902579980478433, 0.0018921529223837855, 0.0018830076039902317, 0.0018748986324995042, 0.0018675367452798957, 0.0018609478793049103, 0.0018548746670670872, 0.0018492747587442585, 0.0018440984352671014, 0.001839214596439237, 0.001834847527020444, 0.0018306649672752689, 0.001826642344205424, 0.0018230272932395091, 0.0018197090380890732, 0.0018164188146891408, 0.0018131553135219247, 0.0018101371210684461, 0.0018074825518798582, 0.0018047135351819774, 0.0018020299441334452, 0.001799417252708577, 0.0017967804750163377, 0.0017939203705071957, 0.0017910663327814936, 0.001788307188961737, 0.0017855342121082553, 0.0017831462941492217, 0.0017805133025181048, 0.0017781181758625775, 0.0017758385785287103]\n"
     ]
    },
    {
     "data": {
      "application/vnd.jupyter.widget-view+json": {
       "model_id": "0f5a75330c94462fa177f417f0358676",
       "version_major": 2,
       "version_minor": 0
      },
      "text/plain": [
       "0it [00:00, ?it/s]"
      ]
     },
     "metadata": {},
     "output_type": "display_data"
    },
    {
     "name": "stdout",
     "output_type": "stream",
     "text": [
      "Loss of train: 0.00158\n",
      "Loss of val: 0.00177\n",
      "Loss of test: 0.00166\n",
      "Loss of gw_test: 0.00157\n",
      "[0.002846710564828987, 0.0026290730855073542, 0.0024784052086768552, 0.0023558887617226945, 0.0022360816788539544, 0.0021306142545182284, 0.0020614289795334003, 0.0020183009022824226, 0.001988293661382164, 0.0019647315769670674, 0.0019453002810574146, 0.0019288878062600704, 0.0019149134735625844, 0.001902579980478433, 0.0018921529223837855, 0.0018830076039902317, 0.0018748986324995042, 0.0018675367452798957, 0.0018609478793049103, 0.0018548746670670872, 0.0018492747587442585, 0.0018440984352671014, 0.001839214596439237, 0.001834847527020444, 0.0018306649672752689, 0.001826642344205424, 0.0018230272932395091, 0.0018197090380890732, 0.0018164188146891408, 0.0018131553135219247, 0.0018101371210684461, 0.0018074825518798582, 0.0018047135351819774, 0.0018020299441334452, 0.001799417252708577, 0.0017967804750163377, 0.0017939203705071957, 0.0017910663327814936, 0.001788307188961737, 0.0017855342121082553, 0.0017831462941492217, 0.0017805133025181048, 0.0017781181758625775, 0.0017758385785287103, 0.0017735655200367309]\n"
     ]
    },
    {
     "data": {
      "application/vnd.jupyter.widget-view+json": {
       "model_id": "52ad8335d1be4f48a2d9dbcd5dfa5489",
       "version_major": 2,
       "version_minor": 0
      },
      "text/plain": [
       "0it [00:00, ?it/s]"
      ]
     },
     "metadata": {},
     "output_type": "display_data"
    },
    {
     "name": "stdout",
     "output_type": "stream",
     "text": [
      "Loss of train: 0.00157\n",
      "Loss of val: 0.00177\n",
      "Loss of test: 0.00166\n",
      "Loss of gw_test: 0.00157\n",
      "[0.002846710564828987, 0.0026290730855073542, 0.0024784052086768552, 0.0023558887617226945, 0.0022360816788539544, 0.0021306142545182284, 0.0020614289795334003, 0.0020183009022824226, 0.001988293661382164, 0.0019647315769670674, 0.0019453002810574146, 0.0019288878062600704, 0.0019149134735625844, 0.001902579980478433, 0.0018921529223837855, 0.0018830076039902317, 0.0018748986324995042, 0.0018675367452798957, 0.0018609478793049103, 0.0018548746670670872, 0.0018492747587442585, 0.0018440984352671014, 0.001839214596439237, 0.001834847527020444, 0.0018306649672752689, 0.001826642344205424, 0.0018230272932395091, 0.0018197090380890732, 0.0018164188146891408, 0.0018131553135219247, 0.0018101371210684461, 0.0018074825518798582, 0.0018047135351819774, 0.0018020299441334452, 0.001799417252708577, 0.0017967804750163377, 0.0017939203705071957, 0.0017910663327814936, 0.001788307188961737, 0.0017855342121082553, 0.0017831462941492217, 0.0017805133025181048, 0.0017781181758625775, 0.0017758385785287103, 0.0017735655200367309, 0.0017714627087327863]\n"
     ]
    },
    {
     "data": {
      "application/vnd.jupyter.widget-view+json": {
       "model_id": "74095e4e5bfd42769fc508873321cab5",
       "version_major": 2,
       "version_minor": 0
      },
      "text/plain": [
       "0it [00:00, ?it/s]"
      ]
     },
     "metadata": {},
     "output_type": "display_data"
    },
    {
     "name": "stdout",
     "output_type": "stream",
     "text": [
      "Loss of train: 0.00157\n",
      "Loss of val: 0.00177\n",
      "Loss of test: 0.00166\n",
      "Loss of gw_test: 0.00156\n",
      "[0.002846710564828987, 0.0026290730855073542, 0.0024784052086768552, 0.0023558887617226945, 0.0022360816788539544, 0.0021306142545182284, 0.0020614289795334003, 0.0020183009022824226, 0.001988293661382164, 0.0019647315769670674, 0.0019453002810574146, 0.0019288878062600704, 0.0019149134735625844, 0.001902579980478433, 0.0018921529223837855, 0.0018830076039902317, 0.0018748986324995042, 0.0018675367452798957, 0.0018609478793049103, 0.0018548746670670872, 0.0018492747587442585, 0.0018440984352671014, 0.001839214596439237, 0.001834847527020444, 0.0018306649672752689, 0.001826642344205424, 0.0018230272932395091, 0.0018197090380890732, 0.0018164188146891408, 0.0018131553135219247, 0.0018101371210684461, 0.0018074825518798582, 0.0018047135351819774, 0.0018020299441334452, 0.001799417252708577, 0.0017967804750163377, 0.0017939203705071957, 0.0017910663327814936, 0.001788307188961737, 0.0017855342121082553, 0.0017831462941492217, 0.0017805133025181048, 0.0017781181758625775, 0.0017758385785287103, 0.0017735655200367309, 0.0017714627087327863, 0.0017690646300895217]\n"
     ]
    },
    {
     "data": {
      "application/vnd.jupyter.widget-view+json": {
       "model_id": "3b7807d444314d4dbcff47dd95b30c37",
       "version_major": 2,
       "version_minor": 0
      },
      "text/plain": [
       "0it [00:00, ?it/s]"
      ]
     },
     "metadata": {},
     "output_type": "display_data"
    },
    {
     "name": "stdout",
     "output_type": "stream",
     "text": [
      "Loss of train: 0.00157\n",
      "Loss of val: 0.00177\n",
      "Loss of test: 0.00165\n",
      "Loss of gw_test: 0.00156\n",
      "[0.002846710564828987, 0.0026290730855073542, 0.0024784052086768552, 0.0023558887617226945, 0.0022360816788539544, 0.0021306142545182284, 0.0020614289795334003, 0.0020183009022824226, 0.001988293661382164, 0.0019647315769670674, 0.0019453002810574146, 0.0019288878062600704, 0.0019149134735625844, 0.001902579980478433, 0.0018921529223837855, 0.0018830076039902317, 0.0018748986324995042, 0.0018675367452798957, 0.0018609478793049103, 0.0018548746670670872, 0.0018492747587442585, 0.0018440984352671014, 0.001839214596439237, 0.001834847527020444, 0.0018306649672752689, 0.001826642344205424, 0.0018230272932395091, 0.0018197090380890732, 0.0018164188146891408, 0.0018131553135219247, 0.0018101371210684461, 0.0018074825518798582, 0.0018047135351819774, 0.0018020299441334452, 0.001799417252708577, 0.0017967804750163377, 0.0017939203705071957, 0.0017910663327814936, 0.001788307188961737, 0.0017855342121082553, 0.0017831462941492217, 0.0017805133025181048, 0.0017781181758625775, 0.0017758385785287103, 0.0017735655200367309, 0.0017714627087327863, 0.0017690646300895217, 0.0017668043343875767]\n"
     ]
    },
    {
     "data": {
      "application/vnd.jupyter.widget-view+json": {
       "model_id": "d6aed721c1a6421ca1562365aa25a0cc",
       "version_major": 2,
       "version_minor": 0
      },
      "text/plain": [
       "0it [00:00, ?it/s]"
      ]
     },
     "metadata": {},
     "output_type": "display_data"
    },
    {
     "name": "stdout",
     "output_type": "stream",
     "text": [
      "Loss of train: 0.00156\n",
      "Loss of val: 0.00176\n",
      "Loss of test: 0.00165\n",
      "Loss of gw_test: 0.00156\n",
      "[0.002846710564828987, 0.0026290730855073542, 0.0024784052086768552, 0.0023558887617226945, 0.0022360816788539544, 0.0021306142545182284, 0.0020614289795334003, 0.0020183009022824226, 0.001988293661382164, 0.0019647315769670674, 0.0019453002810574146, 0.0019288878062600704, 0.0019149134735625844, 0.001902579980478433, 0.0018921529223837855, 0.0018830076039902317, 0.0018748986324995042, 0.0018675367452798957, 0.0018609478793049103, 0.0018548746670670872, 0.0018492747587442585, 0.0018440984352671014, 0.001839214596439237, 0.001834847527020444, 0.0018306649672752689, 0.001826642344205424, 0.0018230272932395091, 0.0018197090380890732, 0.0018164188146891408, 0.0018131553135219247, 0.0018101371210684461, 0.0018074825518798582, 0.0018047135351819774, 0.0018020299441334452, 0.001799417252708577, 0.0017967804750163377, 0.0017939203705071957, 0.0017910663327814936, 0.001788307188961737, 0.0017855342121082553, 0.0017831462941492217, 0.0017805133025181048, 0.0017781181758625775, 0.0017758385785287103, 0.0017735655200367309, 0.0017714627087327863, 0.0017690646300895217, 0.0017668043343875767, 0.0017646134648548924]\n"
     ]
    },
    {
     "data": {
      "application/vnd.jupyter.widget-view+json": {
       "model_id": "862c90571a7f46118c259c1ba8d2eb3b",
       "version_major": 2,
       "version_minor": 0
      },
      "text/plain": [
       "0it [00:00, ?it/s]"
      ]
     },
     "metadata": {},
     "output_type": "display_data"
    },
    {
     "name": "stdout",
     "output_type": "stream",
     "text": [
      "Loss of train: 0.00156\n",
      "Loss of val: 0.00176\n",
      "Loss of test: 0.00165\n",
      "Loss of gw_test: 0.00155\n",
      "[0.002846710564828987, 0.0026290730855073542, 0.0024784052086768552, 0.0023558887617226945, 0.0022360816788539544, 0.0021306142545182284, 0.0020614289795334003, 0.0020183009022824226, 0.001988293661382164, 0.0019647315769670674, 0.0019453002810574146, 0.0019288878062600704, 0.0019149134735625844, 0.001902579980478433, 0.0018921529223837855, 0.0018830076039902317, 0.0018748986324995042, 0.0018675367452798957, 0.0018609478793049103, 0.0018548746670670872, 0.0018492747587442585, 0.0018440984352671014, 0.001839214596439237, 0.001834847527020444, 0.0018306649672752689, 0.001826642344205424, 0.0018230272932395091, 0.0018197090380890732, 0.0018164188146891408, 0.0018131553135219247, 0.0018101371210684461, 0.0018074825518798582, 0.0018047135351819774, 0.0018020299441334452, 0.001799417252708577, 0.0017967804750163377, 0.0017939203705071957, 0.0017910663327814936, 0.001788307188961737, 0.0017855342121082553, 0.0017831462941492217, 0.0017805133025181048, 0.0017781181758625775, 0.0017758385785287103, 0.0017735655200367309, 0.0017714627087327863, 0.0017690646300895217, 0.0017668043343875767, 0.0017646134648548924, 0.0017626996510246961]\n"
     ]
    },
    {
     "data": {
      "application/vnd.jupyter.widget-view+json": {
       "model_id": "f03e4cab6b094750b35bdfbba72516a9",
       "version_major": 2,
       "version_minor": 0
      },
      "text/plain": [
       "0it [00:00, ?it/s]"
      ]
     },
     "metadata": {},
     "output_type": "display_data"
    },
    {
     "name": "stdout",
     "output_type": "stream",
     "text": [
      "Loss of train: 0.00155\n",
      "Loss of val: 0.00176\n",
      "Loss of test: 0.00165\n",
      "Loss of gw_test: 0.00155\n",
      "[0.002846710564828987, 0.0026290730855073542, 0.0024784052086768552, 0.0023558887617226945, 0.0022360816788539544, 0.0021306142545182284, 0.0020614289795334003, 0.0020183009022824226, 0.001988293661382164, 0.0019647315769670674, 0.0019453002810574146, 0.0019288878062600704, 0.0019149134735625844, 0.001902579980478433, 0.0018921529223837855, 0.0018830076039902317, 0.0018748986324995042, 0.0018675367452798957, 0.0018609478793049103, 0.0018548746670670872, 0.0018492747587442585, 0.0018440984352671014, 0.001839214596439237, 0.001834847527020444, 0.0018306649672752689, 0.001826642344205424, 0.0018230272932395091, 0.0018197090380890732, 0.0018164188146891408, 0.0018131553135219247, 0.0018101371210684461, 0.0018074825518798582, 0.0018047135351819774, 0.0018020299441334452, 0.001799417252708577, 0.0017967804750163377, 0.0017939203705071957, 0.0017910663327814936, 0.001788307188961737, 0.0017855342121082553, 0.0017831462941492217, 0.0017805133025181048, 0.0017781181758625775, 0.0017758385785287103, 0.0017735655200367309, 0.0017714627087327863, 0.0017690646300895217, 0.0017668043343875767, 0.0017646134648548924, 0.0017626996510246961, 0.0017606552437626]\n"
     ]
    },
    {
     "data": {
      "application/vnd.jupyter.widget-view+json": {
       "model_id": "5671cb028df24d5eb3d6b6f4592c7401",
       "version_major": 2,
       "version_minor": 0
      },
      "text/plain": [
       "0it [00:00, ?it/s]"
      ]
     },
     "metadata": {},
     "output_type": "display_data"
    },
    {
     "name": "stdout",
     "output_type": "stream",
     "text": [
      "Loss of train: 0.00155\n",
      "Loss of val: 0.00176\n",
      "Loss of test: 0.00165\n",
      "Loss of gw_test: 0.00155\n",
      "[0.002846710564828987, 0.0026290730855073542, 0.0024784052086768552, 0.0023558887617226945, 0.0022360816788539544, 0.0021306142545182284, 0.0020614289795334003, 0.0020183009022824226, 0.001988293661382164, 0.0019647315769670674, 0.0019453002810574146, 0.0019288878062600704, 0.0019149134735625844, 0.001902579980478433, 0.0018921529223837855, 0.0018830076039902317, 0.0018748986324995042, 0.0018675367452798957, 0.0018609478793049103, 0.0018548746670670872, 0.0018492747587442585, 0.0018440984352671014, 0.001839214596439237, 0.001834847527020444, 0.0018306649672752689, 0.001826642344205424, 0.0018230272932395091, 0.0018197090380890732, 0.0018164188146891408, 0.0018131553135219247, 0.0018101371210684461, 0.0018074825518798582, 0.0018047135351819774, 0.0018020299441334452, 0.001799417252708577, 0.0017967804750163377, 0.0017939203705071957, 0.0017910663327814936, 0.001788307188961737, 0.0017855342121082553, 0.0017831462941492217, 0.0017805133025181048, 0.0017781181758625775, 0.0017758385785287103, 0.0017735655200367309, 0.0017714627087327863, 0.0017690646300895217, 0.0017668043343875767, 0.0017646134648548924, 0.0017626996510246961, 0.0017606552437626, 0.0017589114333317365]\n"
     ]
    },
    {
     "data": {
      "application/vnd.jupyter.widget-view+json": {
       "model_id": "0fcc870b370d466e8f75ab1b2e8a4a0c",
       "version_major": 2,
       "version_minor": 0
      },
      "text/plain": [
       "0it [00:00, ?it/s]"
      ]
     },
     "metadata": {},
     "output_type": "display_data"
    },
    {
     "name": "stdout",
     "output_type": "stream",
     "text": [
      "Loss of train: 0.00155\n",
      "Loss of val: 0.00176\n",
      "Loss of test: 0.00164\n",
      "Loss of gw_test: 0.00154\n",
      "[0.002846710564828987, 0.0026290730855073542, 0.0024784052086768552, 0.0023558887617226945, 0.0022360816788539544, 0.0021306142545182284, 0.0020614289795334003, 0.0020183009022824226, 0.001988293661382164, 0.0019647315769670674, 0.0019453002810574146, 0.0019288878062600704, 0.0019149134735625844, 0.001902579980478433, 0.0018921529223837855, 0.0018830076039902317, 0.0018748986324995042, 0.0018675367452798957, 0.0018609478793049103, 0.0018548746670670872, 0.0018492747587442585, 0.0018440984352671014, 0.001839214596439237, 0.001834847527020444, 0.0018306649672752689, 0.001826642344205424, 0.0018230272932395091, 0.0018197090380890732, 0.0018164188146891408, 0.0018131553135219247, 0.0018101371210684461, 0.0018074825518798582, 0.0018047135351819774, 0.0018020299441334452, 0.001799417252708577, 0.0017967804750163377, 0.0017939203705071957, 0.0017910663327814936, 0.001788307188961737, 0.0017855342121082553, 0.0017831462941492217, 0.0017805133025181048, 0.0017781181758625775, 0.0017758385785287103, 0.0017735655200367309, 0.0017714627087327863, 0.0017690646300895217, 0.0017668043343875767, 0.0017646134648548924, 0.0017626996510246961, 0.0017606552437626, 0.0017589114333317365, 0.0017571026518008518]\n"
     ]
    },
    {
     "data": {
      "application/vnd.jupyter.widget-view+json": {
       "model_id": "685a7df4817247868521a8ea12e8af57",
       "version_major": 2,
       "version_minor": 0
      },
      "text/plain": [
       "0it [00:00, ?it/s]"
      ]
     },
     "metadata": {},
     "output_type": "display_data"
    },
    {
     "name": "stdout",
     "output_type": "stream",
     "text": [
      "Loss of train: 0.00154\n",
      "Loss of val: 0.00176\n",
      "Loss of test: 0.00164\n",
      "Loss of gw_test: 0.00154\n",
      "[0.002846710564828987, 0.0026290730855073542, 0.0024784052086768552, 0.0023558887617226945, 0.0022360816788539544, 0.0021306142545182284, 0.0020614289795334003, 0.0020183009022824226, 0.001988293661382164, 0.0019647315769670674, 0.0019453002810574146, 0.0019288878062600704, 0.0019149134735625844, 0.001902579980478433, 0.0018921529223837855, 0.0018830076039902317, 0.0018748986324995042, 0.0018675367452798957, 0.0018609478793049103, 0.0018548746670670872, 0.0018492747587442585, 0.0018440984352671014, 0.001839214596439237, 0.001834847527020444, 0.0018306649672752689, 0.001826642344205424, 0.0018230272932395091, 0.0018197090380890732, 0.0018164188146891408, 0.0018131553135219247, 0.0018101371210684461, 0.0018074825518798582, 0.0018047135351819774, 0.0018020299441334452, 0.001799417252708577, 0.0017967804750163377, 0.0017939203705071957, 0.0017910663327814936, 0.001788307188961737, 0.0017855342121082553, 0.0017831462941492217, 0.0017805133025181048, 0.0017781181758625775, 0.0017758385785287103, 0.0017735655200367309, 0.0017714627087327863, 0.0017690646300895217, 0.0017668043343875767, 0.0017646134648548924, 0.0017626996510246961, 0.0017606552437626, 0.0017589114333317365, 0.0017571026518008518, 0.0017552795488123489]\n"
     ]
    },
    {
     "data": {
      "application/vnd.jupyter.widget-view+json": {
       "model_id": "09f855db20094622a72b97b01c2c36d5",
       "version_major": 2,
       "version_minor": 0
      },
      "text/plain": [
       "0it [00:00, ?it/s]"
      ]
     },
     "metadata": {},
     "output_type": "display_data"
    },
    {
     "name": "stdout",
     "output_type": "stream",
     "text": [
      "Loss of train: 0.00154\n",
      "Loss of val: 0.00175\n",
      "Loss of test: 0.00164\n",
      "Loss of gw_test: 0.00154\n",
      "[0.002846710564828987, 0.0026290730855073542, 0.0024784052086768552, 0.0023558887617226945, 0.0022360816788539544, 0.0021306142545182284, 0.0020614289795334003, 0.0020183009022824226, 0.001988293661382164, 0.0019647315769670674, 0.0019453002810574146, 0.0019288878062600704, 0.0019149134735625844, 0.001902579980478433, 0.0018921529223837855, 0.0018830076039902317, 0.0018748986324995042, 0.0018675367452798957, 0.0018609478793049103, 0.0018548746670670872, 0.0018492747587442585, 0.0018440984352671014, 0.001839214596439237, 0.001834847527020444, 0.0018306649672752689, 0.001826642344205424, 0.0018230272932395091, 0.0018197090380890732, 0.0018164188146891408, 0.0018131553135219247, 0.0018101371210684461, 0.0018074825518798582, 0.0018047135351819774, 0.0018020299441334452, 0.001799417252708577, 0.0017967804750163377, 0.0017939203705071957, 0.0017910663327814936, 0.001788307188961737, 0.0017855342121082553, 0.0017831462941492217, 0.0017805133025181048, 0.0017781181758625775, 0.0017758385785287103, 0.0017735655200367309, 0.0017714627087327863, 0.0017690646300895217, 0.0017668043343875767, 0.0017646134648548924, 0.0017626996510246961, 0.0017606552437626, 0.0017589114333317365, 0.0017571026518008518, 0.0017552795488123489, 0.0017536853320953834]\n"
     ]
    },
    {
     "data": {
      "application/vnd.jupyter.widget-view+json": {
       "model_id": "a1d34cab0d1d43b489b4e48631b2367e",
       "version_major": 2,
       "version_minor": 0
      },
      "text/plain": [
       "0it [00:00, ?it/s]"
      ]
     },
     "metadata": {},
     "output_type": "display_data"
    },
    {
     "name": "stdout",
     "output_type": "stream",
     "text": [
      "Loss of train: 0.00153\n",
      "Loss of val: 0.00175\n",
      "Loss of test: 0.00164\n",
      "Loss of gw_test: 0.00154\n",
      "[0.002846710564828987, 0.0026290730855073542, 0.0024784052086768552, 0.0023558887617226945, 0.0022360816788539544, 0.0021306142545182284, 0.0020614289795334003, 0.0020183009022824226, 0.001988293661382164, 0.0019647315769670674, 0.0019453002810574146, 0.0019288878062600704, 0.0019149134735625844, 0.001902579980478433, 0.0018921529223837855, 0.0018830076039902317, 0.0018748986324995042, 0.0018675367452798957, 0.0018609478793049103, 0.0018548746670670872, 0.0018492747587442585, 0.0018440984352671014, 0.001839214596439237, 0.001834847527020444, 0.0018306649672752689, 0.001826642344205424, 0.0018230272932395091, 0.0018197090380890732, 0.0018164188146891408, 0.0018131553135219247, 0.0018101371210684461, 0.0018074825518798582, 0.0018047135351819774, 0.0018020299441334452, 0.001799417252708577, 0.0017967804750163377, 0.0017939203705071957, 0.0017910663327814936, 0.001788307188961737, 0.0017855342121082553, 0.0017831462941492217, 0.0017805133025181048, 0.0017781181758625775, 0.0017758385785287103, 0.0017735655200367309, 0.0017714627087327863, 0.0017690646300895217, 0.0017668043343875767, 0.0017646134648548924, 0.0017626996510246961, 0.0017606552437626, 0.0017589114333317365, 0.0017571026518008518, 0.0017552795488123489, 0.0017536853320953834, 0.0017521438143696007]\n"
     ]
    },
    {
     "data": {
      "application/vnd.jupyter.widget-view+json": {
       "model_id": "c800fca7a2e9444baa01e7c22ee7cbd6",
       "version_major": 2,
       "version_minor": 0
      },
      "text/plain": [
       "0it [00:00, ?it/s]"
      ]
     },
     "metadata": {},
     "output_type": "display_data"
    },
    {
     "name": "stdout",
     "output_type": "stream",
     "text": [
      "Loss of train: 0.00153\n",
      "Loss of val: 0.00175\n",
      "Loss of test: 0.00164\n",
      "Loss of gw_test: 0.00153\n",
      "[0.002846710564828987, 0.0026290730855073542, 0.0024784052086768552, 0.0023558887617226945, 0.0022360816788539544, 0.0021306142545182284, 0.0020614289795334003, 0.0020183009022824226, 0.001988293661382164, 0.0019647315769670674, 0.0019453002810574146, 0.0019288878062600704, 0.0019149134735625844, 0.001902579980478433, 0.0018921529223837855, 0.0018830076039902317, 0.0018748986324995042, 0.0018675367452798957, 0.0018609478793049103, 0.0018548746670670872, 0.0018492747587442585, 0.0018440984352671014, 0.001839214596439237, 0.001834847527020444, 0.0018306649672752689, 0.001826642344205424, 0.0018230272932395091, 0.0018197090380890732, 0.0018164188146891408, 0.0018131553135219247, 0.0018101371210684461, 0.0018074825518798582, 0.0018047135351819774, 0.0018020299441334452, 0.001799417252708577, 0.0017967804750163377, 0.0017939203705071957, 0.0017910663327814936, 0.001788307188961737, 0.0017855342121082553, 0.0017831462941492217, 0.0017805133025181048, 0.0017781181758625775, 0.0017758385785287103, 0.0017735655200367309, 0.0017714627087327863, 0.0017690646300895217, 0.0017668043343875767, 0.0017646134648548924, 0.0017626996510246961, 0.0017606552437626, 0.0017589114333317365, 0.0017571026518008518, 0.0017552795488123489, 0.0017536853320953834, 0.0017521438143696007, 0.001750669540847759]\n"
     ]
    },
    {
     "data": {
      "application/vnd.jupyter.widget-view+json": {
       "model_id": "e5f2b0b4cf194ccc89a31e3c3f9df459",
       "version_major": 2,
       "version_minor": 0
      },
      "text/plain": [
       "0it [00:00, ?it/s]"
      ]
     },
     "metadata": {},
     "output_type": "display_data"
    },
    {
     "name": "stdout",
     "output_type": "stream",
     "text": [
      "Loss of train: 0.00153\n",
      "Loss of val: 0.00175\n",
      "Loss of test: 0.00163\n",
      "Loss of gw_test: 0.00153\n",
      "[0.002846710564828987, 0.0026290730855073542, 0.0024784052086768552, 0.0023558887617226945, 0.0022360816788539544, 0.0021306142545182284, 0.0020614289795334003, 0.0020183009022824226, 0.001988293661382164, 0.0019647315769670674, 0.0019453002810574146, 0.0019288878062600704, 0.0019149134735625844, 0.001902579980478433, 0.0018921529223837855, 0.0018830076039902317, 0.0018748986324995042, 0.0018675367452798957, 0.0018609478793049103, 0.0018548746670670872, 0.0018492747587442585, 0.0018440984352671014, 0.001839214596439237, 0.001834847527020444, 0.0018306649672752689, 0.001826642344205424, 0.0018230272932395091, 0.0018197090380890732, 0.0018164188146891408, 0.0018131553135219247, 0.0018101371210684461, 0.0018074825518798582, 0.0018047135351819774, 0.0018020299441334452, 0.001799417252708577, 0.0017967804750163377, 0.0017939203705071957, 0.0017910663327814936, 0.001788307188961737, 0.0017855342121082553, 0.0017831462941492217, 0.0017805133025181048, 0.0017781181758625775, 0.0017758385785287103, 0.0017735655200367309, 0.0017714627087327863, 0.0017690646300895217, 0.0017668043343875767, 0.0017646134648548924, 0.0017626996510246961, 0.0017606552437626, 0.0017589114333317365, 0.0017571026518008518, 0.0017552795488123489, 0.0017536853320953834, 0.0017521438143696007, 0.001750669540847759, 0.0017493692768733953]\n"
     ]
    },
    {
     "data": {
      "application/vnd.jupyter.widget-view+json": {
       "model_id": "eaa2987f83c745a59ad175e86d5ca3e5",
       "version_major": 2,
       "version_minor": 0
      },
      "text/plain": [
       "0it [00:00, ?it/s]"
      ]
     },
     "metadata": {},
     "output_type": "display_data"
    },
    {
     "name": "stdout",
     "output_type": "stream",
     "text": [
      "Loss of train: 0.00153\n",
      "Loss of val: 0.00175\n",
      "Loss of test: 0.00163\n",
      "Loss of gw_test: 0.00153\n",
      "[0.002846710564828987, 0.0026290730855073542, 0.0024784052086768552, 0.0023558887617226945, 0.0022360816788539544, 0.0021306142545182284, 0.0020614289795334003, 0.0020183009022824226, 0.001988293661382164, 0.0019647315769670674, 0.0019453002810574146, 0.0019288878062600704, 0.0019149134735625844, 0.001902579980478433, 0.0018921529223837855, 0.0018830076039902317, 0.0018748986324995042, 0.0018675367452798957, 0.0018609478793049103, 0.0018548746670670872, 0.0018492747587442585, 0.0018440984352671014, 0.001839214596439237, 0.001834847527020444, 0.0018306649672752689, 0.001826642344205424, 0.0018230272932395091, 0.0018197090380890732, 0.0018164188146891408, 0.0018131553135219247, 0.0018101371210684461, 0.0018074825518798582, 0.0018047135351819774, 0.0018020299441334452, 0.001799417252708577, 0.0017967804750163377, 0.0017939203705071957, 0.0017910663327814936, 0.001788307188961737, 0.0017855342121082553, 0.0017831462941492217, 0.0017805133025181048, 0.0017781181758625775, 0.0017758385785287103, 0.0017735655200367309, 0.0017714627087327863, 0.0017690646300895217, 0.0017668043343875767, 0.0017646134648548924, 0.0017626996510246961, 0.0017606552437626, 0.0017589114333317365, 0.0017571026518008518, 0.0017552795488123489, 0.0017536853320953834, 0.0017521438143696007, 0.001750669540847759, 0.0017493692768733953, 0.001747954863918034]\n"
     ]
    },
    {
     "data": {
      "application/vnd.jupyter.widget-view+json": {
       "model_id": "f6c4f74449e049b9bc76e4b31dfc8200",
       "version_major": 2,
       "version_minor": 0
      },
      "text/plain": [
       "0it [00:00, ?it/s]"
      ]
     },
     "metadata": {},
     "output_type": "display_data"
    },
    {
     "name": "stdout",
     "output_type": "stream",
     "text": [
      "Loss of train: 0.00152\n",
      "Loss of val: 0.00175\n",
      "Loss of test: 0.00163\n",
      "Loss of gw_test: 0.00153\n",
      "[0.002846710564828987, 0.0026290730855073542, 0.0024784052086768552, 0.0023558887617226945, 0.0022360816788539544, 0.0021306142545182284, 0.0020614289795334003, 0.0020183009022824226, 0.001988293661382164, 0.0019647315769670674, 0.0019453002810574146, 0.0019288878062600704, 0.0019149134735625844, 0.001902579980478433, 0.0018921529223837855, 0.0018830076039902317, 0.0018748986324995042, 0.0018675367452798957, 0.0018609478793049103, 0.0018548746670670872, 0.0018492747587442585, 0.0018440984352671014, 0.001839214596439237, 0.001834847527020444, 0.0018306649672752689, 0.001826642344205424, 0.0018230272932395091, 0.0018197090380890732, 0.0018164188146891408, 0.0018131553135219247, 0.0018101371210684461, 0.0018074825518798582, 0.0018047135351819774, 0.0018020299441334452, 0.001799417252708577, 0.0017967804750163377, 0.0017939203705071957, 0.0017910663327814936, 0.001788307188961737, 0.0017855342121082553, 0.0017831462941492217, 0.0017805133025181048, 0.0017781181758625775, 0.0017758385785287103, 0.0017735655200367309, 0.0017714627087327863, 0.0017690646300895217, 0.0017668043343875767, 0.0017646134648548924, 0.0017626996510246961, 0.0017606552437626, 0.0017589114333317365, 0.0017571026518008518, 0.0017552795488123489, 0.0017536853320953834, 0.0017521438143696007, 0.001750669540847759, 0.0017493692768733953, 0.001747954863918034, 0.0017467354723311073]\n"
     ]
    },
    {
     "data": {
      "application/vnd.jupyter.widget-view+json": {
       "model_id": "f633e72a81b94c05b433d91755a78f91",
       "version_major": 2,
       "version_minor": 0
      },
      "text/plain": [
       "0it [00:00, ?it/s]"
      ]
     },
     "metadata": {},
     "output_type": "display_data"
    },
    {
     "name": "stdout",
     "output_type": "stream",
     "text": [
      "Loss of train: 0.00152\n",
      "Loss of val: 0.00175\n",
      "Loss of test: 0.00163\n",
      "Loss of gw_test: 0.00152\n",
      "[0.002846710564828987, 0.0026290730855073542, 0.0024784052086768552, 0.0023558887617226945, 0.0022360816788539544, 0.0021306142545182284, 0.0020614289795334003, 0.0020183009022824226, 0.001988293661382164, 0.0019647315769670674, 0.0019453002810574146, 0.0019288878062600704, 0.0019149134735625844, 0.001902579980478433, 0.0018921529223837855, 0.0018830076039902317, 0.0018748986324995042, 0.0018675367452798957, 0.0018609478793049103, 0.0018548746670670872, 0.0018492747587442585, 0.0018440984352671014, 0.001839214596439237, 0.001834847527020444, 0.0018306649672752689, 0.001826642344205424, 0.0018230272932395091, 0.0018197090380890732, 0.0018164188146891408, 0.0018131553135219247, 0.0018101371210684461, 0.0018074825518798582, 0.0018047135351819774, 0.0018020299441334452, 0.001799417252708577, 0.0017967804750163377, 0.0017939203705071957, 0.0017910663327814936, 0.001788307188961737, 0.0017855342121082553, 0.0017831462941492217, 0.0017805133025181048, 0.0017781181758625775, 0.0017758385785287103, 0.0017735655200367309, 0.0017714627087327863, 0.0017690646300895217, 0.0017668043343875767, 0.0017646134648548924, 0.0017626996510246961, 0.0017606552437626, 0.0017589114333317365, 0.0017571026518008518, 0.0017552795488123489, 0.0017536853320953834, 0.0017521438143696007, 0.001750669540847759, 0.0017493692768733953, 0.001747954863918034, 0.0017467354723311073, 0.0017456114314717804]\n"
     ]
    },
    {
     "data": {
      "application/vnd.jupyter.widget-view+json": {
       "model_id": "e62c4edf81f145f89a51f13dcc7a8f5a",
       "version_major": 2,
       "version_minor": 0
      },
      "text/plain": [
       "0it [00:00, ?it/s]"
      ]
     },
     "metadata": {},
     "output_type": "display_data"
    },
    {
     "name": "stdout",
     "output_type": "stream",
     "text": [
      "Loss of train: 0.00152\n",
      "Loss of val: 0.00174\n",
      "Loss of test: 0.00163\n",
      "Loss of gw_test: 0.00152\n",
      "[0.002846710564828987, 0.0026290730855073542, 0.0024784052086768552, 0.0023558887617226945, 0.0022360816788539544, 0.0021306142545182284, 0.0020614289795334003, 0.0020183009022824226, 0.001988293661382164, 0.0019647315769670674, 0.0019453002810574146, 0.0019288878062600704, 0.0019149134735625844, 0.001902579980478433, 0.0018921529223837855, 0.0018830076039902317, 0.0018748986324995042, 0.0018675367452798957, 0.0018609478793049103, 0.0018548746670670872, 0.0018492747587442585, 0.0018440984352671014, 0.001839214596439237, 0.001834847527020444, 0.0018306649672752689, 0.001826642344205424, 0.0018230272932395091, 0.0018197090380890732, 0.0018164188146891408, 0.0018131553135219247, 0.0018101371210684461, 0.0018074825518798582, 0.0018047135351819774, 0.0018020299441334452, 0.001799417252708577, 0.0017967804750163377, 0.0017939203705071957, 0.0017910663327814936, 0.001788307188961737, 0.0017855342121082553, 0.0017831462941492217, 0.0017805133025181048, 0.0017781181758625775, 0.0017758385785287103, 0.0017735655200367309, 0.0017714627087327863, 0.0017690646300895217, 0.0017668043343875767, 0.0017646134648548924, 0.0017626996510246961, 0.0017606552437626, 0.0017589114333317365, 0.0017571026518008518, 0.0017552795488123489, 0.0017536853320953834, 0.0017521438143696007, 0.001750669540847759, 0.0017493692768733953, 0.001747954863918034, 0.0017467354723311073, 0.0017456114314717804, 0.0017444659578045247]\n"
     ]
    },
    {
     "data": {
      "application/vnd.jupyter.widget-view+json": {
       "model_id": "d3edff5515cc4b06a594db80deb8813f",
       "version_major": 2,
       "version_minor": 0
      },
      "text/plain": [
       "0it [00:00, ?it/s]"
      ]
     },
     "metadata": {},
     "output_type": "display_data"
    },
    {
     "name": "stdout",
     "output_type": "stream",
     "text": [
      "Loss of train: 0.00151\n",
      "Loss of val: 0.00174\n",
      "Loss of test: 0.00163\n",
      "Loss of gw_test: 0.00152\n",
      "[0.002846710564828987, 0.0026290730855073542, 0.0024784052086768552, 0.0023558887617226945, 0.0022360816788539544, 0.0021306142545182284, 0.0020614289795334003, 0.0020183009022824226, 0.001988293661382164, 0.0019647315769670674, 0.0019453002810574146, 0.0019288878062600704, 0.0019149134735625844, 0.001902579980478433, 0.0018921529223837855, 0.0018830076039902317, 0.0018748986324995042, 0.0018675367452798957, 0.0018609478793049103, 0.0018548746670670872, 0.0018492747587442585, 0.0018440984352671014, 0.001839214596439237, 0.001834847527020444, 0.0018306649672752689, 0.001826642344205424, 0.0018230272932395091, 0.0018197090380890732, 0.0018164188146891408, 0.0018131553135219247, 0.0018101371210684461, 0.0018074825518798582, 0.0018047135351819774, 0.0018020299441334452, 0.001799417252708577, 0.0017967804750163377, 0.0017939203705071957, 0.0017910663327814936, 0.001788307188961737, 0.0017855342121082553, 0.0017831462941492217, 0.0017805133025181048, 0.0017781181758625775, 0.0017758385785287103, 0.0017735655200367309, 0.0017714627087327863, 0.0017690646300895217, 0.0017668043343875767, 0.0017646134648548924, 0.0017626996510246961, 0.0017606552437626, 0.0017589114333317365, 0.0017571026518008518, 0.0017552795488123489, 0.0017536853320953834, 0.0017521438143696007, 0.001750669540847759, 0.0017493692768733953, 0.001747954863918034, 0.0017467354723311073, 0.0017456114314717804, 0.0017444659578045247, 0.0017434684037789777]\n"
     ]
    },
    {
     "data": {
      "application/vnd.jupyter.widget-view+json": {
       "model_id": "6d409e7887c44439b5b02a468e2b53c7",
       "version_major": 2,
       "version_minor": 0
      },
      "text/plain": [
       "0it [00:00, ?it/s]"
      ]
     },
     "metadata": {},
     "output_type": "display_data"
    },
    {
     "name": "stdout",
     "output_type": "stream",
     "text": [
      "Loss of train: 0.00151\n",
      "Loss of val: 0.00174\n",
      "Loss of test: 0.00162\n",
      "Loss of gw_test: 0.00152\n",
      "[0.002846710564828987, 0.0026290730855073542, 0.0024784052086768552, 0.0023558887617226945, 0.0022360816788539544, 0.0021306142545182284, 0.0020614289795334003, 0.0020183009022824226, 0.001988293661382164, 0.0019647315769670674, 0.0019453002810574146, 0.0019288878062600704, 0.0019149134735625844, 0.001902579980478433, 0.0018921529223837855, 0.0018830076039902317, 0.0018748986324995042, 0.0018675367452798957, 0.0018609478793049103, 0.0018548746670670872, 0.0018492747587442585, 0.0018440984352671014, 0.001839214596439237, 0.001834847527020444, 0.0018306649672752689, 0.001826642344205424, 0.0018230272932395091, 0.0018197090380890732, 0.0018164188146891408, 0.0018131553135219247, 0.0018101371210684461, 0.0018074825518798582, 0.0018047135351819774, 0.0018020299441334452, 0.001799417252708577, 0.0017967804750163377, 0.0017939203705071957, 0.0017910663327814936, 0.001788307188961737, 0.0017855342121082553, 0.0017831462941492217, 0.0017805133025181048, 0.0017781181758625775, 0.0017758385785287103, 0.0017735655200367309, 0.0017714627087327863, 0.0017690646300895217, 0.0017668043343875767, 0.0017646134648548924, 0.0017626996510246961, 0.0017606552437626, 0.0017589114333317365, 0.0017571026518008518, 0.0017552795488123489, 0.0017536853320953834, 0.0017521438143696007, 0.001750669540847759, 0.0017493692768733953, 0.001747954863918034, 0.0017467354723311073, 0.0017456114314717804, 0.0017444659578045247, 0.0017434684037789777, 0.0017424874002975647]\n"
     ]
    },
    {
     "data": {
      "application/vnd.jupyter.widget-view+json": {
       "model_id": "a0a3149295b74a819d5d542667f34297",
       "version_major": 2,
       "version_minor": 0
      },
      "text/plain": [
       "0it [00:00, ?it/s]"
      ]
     },
     "metadata": {},
     "output_type": "display_data"
    },
    {
     "name": "stdout",
     "output_type": "stream",
     "text": [
      "Loss of train: 0.00151\n",
      "Loss of val: 0.00174\n",
      "Loss of test: 0.00162\n",
      "Loss of gw_test: 0.00151\n",
      "[0.002846710564828987, 0.0026290730855073542, 0.0024784052086768552, 0.0023558887617226945, 0.0022360816788539544, 0.0021306142545182284, 0.0020614289795334003, 0.0020183009022824226, 0.001988293661382164, 0.0019647315769670674, 0.0019453002810574146, 0.0019288878062600704, 0.0019149134735625844, 0.001902579980478433, 0.0018921529223837855, 0.0018830076039902317, 0.0018748986324995042, 0.0018675367452798957, 0.0018609478793049103, 0.0018548746670670872, 0.0018492747587442585, 0.0018440984352671014, 0.001839214596439237, 0.001834847527020444, 0.0018306649672752689, 0.001826642344205424, 0.0018230272932395091, 0.0018197090380890732, 0.0018164188146891408, 0.0018131553135219247, 0.0018101371210684461, 0.0018074825518798582, 0.0018047135351819774, 0.0018020299441334452, 0.001799417252708577, 0.0017967804750163377, 0.0017939203705071957, 0.0017910663327814936, 0.001788307188961737, 0.0017855342121082553, 0.0017831462941492217, 0.0017805133025181048, 0.0017781181758625775, 0.0017758385785287103, 0.0017735655200367309, 0.0017714627087327863, 0.0017690646300895217, 0.0017668043343875767, 0.0017646134648548924, 0.0017626996510246961, 0.0017606552437626, 0.0017589114333317365, 0.0017571026518008518, 0.0017552795488123489, 0.0017536853320953834, 0.0017521438143696007, 0.001750669540847759, 0.0017493692768733953, 0.001747954863918034, 0.0017467354723311073, 0.0017456114314717804, 0.0017444659578045247, 0.0017434684037789777, 0.0017424874002975647, 0.0017416010300036237]\n"
     ]
    },
    {
     "data": {
      "application/vnd.jupyter.widget-view+json": {
       "model_id": "d7fab6561f4e46c692e14599776e7316",
       "version_major": 2,
       "version_minor": 0
      },
      "text/plain": [
       "0it [00:00, ?it/s]"
      ]
     },
     "metadata": {},
     "output_type": "display_data"
    },
    {
     "name": "stdout",
     "output_type": "stream",
     "text": [
      "Loss of train: 0.00151\n",
      "Loss of val: 0.00174\n",
      "Loss of test: 0.00162\n",
      "Loss of gw_test: 0.00151\n",
      "[0.002846710564828987, 0.0026290730855073542, 0.0024784052086768552, 0.0023558887617226945, 0.0022360816788539544, 0.0021306142545182284, 0.0020614289795334003, 0.0020183009022824226, 0.001988293661382164, 0.0019647315769670674, 0.0019453002810574146, 0.0019288878062600704, 0.0019149134735625844, 0.001902579980478433, 0.0018921529223837855, 0.0018830076039902317, 0.0018748986324995042, 0.0018675367452798957, 0.0018609478793049103, 0.0018548746670670872, 0.0018492747587442585, 0.0018440984352671014, 0.001839214596439237, 0.001834847527020444, 0.0018306649672752689, 0.001826642344205424, 0.0018230272932395091, 0.0018197090380890732, 0.0018164188146891408, 0.0018131553135219247, 0.0018101371210684461, 0.0018074825518798582, 0.0018047135351819774, 0.0018020299441334452, 0.001799417252708577, 0.0017967804750163377, 0.0017939203705071957, 0.0017910663327814936, 0.001788307188961737, 0.0017855342121082553, 0.0017831462941492217, 0.0017805133025181048, 0.0017781181758625775, 0.0017758385785287103, 0.0017735655200367309, 0.0017714627087327863, 0.0017690646300895217, 0.0017668043343875767, 0.0017646134648548924, 0.0017626996510246961, 0.0017606552437626, 0.0017589114333317365, 0.0017571026518008518, 0.0017552795488123489, 0.0017536853320953834, 0.0017521438143696007, 0.001750669540847759, 0.0017493692768733953, 0.001747954863918034, 0.0017467354723311073, 0.0017456114314717804, 0.0017444659578045247, 0.0017434684037789777, 0.0017424874002975647, 0.0017416010300036237, 0.0017407182708298382]\n"
     ]
    },
    {
     "data": {
      "application/vnd.jupyter.widget-view+json": {
       "model_id": "ab7109eac87f481486a6c792ff45e468",
       "version_major": 2,
       "version_minor": 0
      },
      "text/plain": [
       "0it [00:00, ?it/s]"
      ]
     },
     "metadata": {},
     "output_type": "display_data"
    },
    {
     "name": "stdout",
     "output_type": "stream",
     "text": [
      "Loss of train: 0.00150\n",
      "Loss of val: 0.00174\n",
      "Loss of test: 0.00162\n",
      "Loss of gw_test: 0.00151\n",
      "[0.002846710564828987, 0.0026290730855073542, 0.0024784052086768552, 0.0023558887617226945, 0.0022360816788539544, 0.0021306142545182284, 0.0020614289795334003, 0.0020183009022824226, 0.001988293661382164, 0.0019647315769670674, 0.0019453002810574146, 0.0019288878062600704, 0.0019149134735625844, 0.001902579980478433, 0.0018921529223837855, 0.0018830076039902317, 0.0018748986324995042, 0.0018675367452798957, 0.0018609478793049103, 0.0018548746670670872, 0.0018492747587442585, 0.0018440984352671014, 0.001839214596439237, 0.001834847527020444, 0.0018306649672752689, 0.001826642344205424, 0.0018230272932395091, 0.0018197090380890732, 0.0018164188146891408, 0.0018131553135219247, 0.0018101371210684461, 0.0018074825518798582, 0.0018047135351819774, 0.0018020299441334452, 0.001799417252708577, 0.0017967804750163377, 0.0017939203705071957, 0.0017910663327814936, 0.001788307188961737, 0.0017855342121082553, 0.0017831462941492217, 0.0017805133025181048, 0.0017781181758625775, 0.0017758385785287103, 0.0017735655200367309, 0.0017714627087327863, 0.0017690646300895217, 0.0017668043343875767, 0.0017646134648548924, 0.0017626996510246961, 0.0017606552437626, 0.0017589114333317365, 0.0017571026518008518, 0.0017552795488123489, 0.0017536853320953834, 0.0017521438143696007, 0.001750669540847759, 0.0017493692768733953, 0.001747954863918034, 0.0017467354723311073, 0.0017456114314717804, 0.0017444659578045247, 0.0017434684037789777, 0.0017424874002975647, 0.0017416010300036237, 0.0017407182708298382, 0.0017399912957407183]\n"
     ]
    },
    {
     "data": {
      "application/vnd.jupyter.widget-view+json": {
       "model_id": "fe3acd6d9772470f8a1c5095e6907b90",
       "version_major": 2,
       "version_minor": 0
      },
      "text/plain": [
       "0it [00:00, ?it/s]"
      ]
     },
     "metadata": {},
     "output_type": "display_data"
    },
    {
     "name": "stdout",
     "output_type": "stream",
     "text": [
      "Loss of train: 0.00150\n",
      "Loss of val: 0.00174\n",
      "Loss of test: 0.00162\n",
      "Loss of gw_test: 0.00151\n",
      "[0.002846710564828987, 0.0026290730855073542, 0.0024784052086768552, 0.0023558887617226945, 0.0022360816788539544, 0.0021306142545182284, 0.0020614289795334003, 0.0020183009022824226, 0.001988293661382164, 0.0019647315769670674, 0.0019453002810574146, 0.0019288878062600704, 0.0019149134735625844, 0.001902579980478433, 0.0018921529223837855, 0.0018830076039902317, 0.0018748986324995042, 0.0018675367452798957, 0.0018609478793049103, 0.0018548746670670872, 0.0018492747587442585, 0.0018440984352671014, 0.001839214596439237, 0.001834847527020444, 0.0018306649672752689, 0.001826642344205424, 0.0018230272932395091, 0.0018197090380890732, 0.0018164188146891408, 0.0018131553135219247, 0.0018101371210684461, 0.0018074825518798582, 0.0018047135351819774, 0.0018020299441334452, 0.001799417252708577, 0.0017967804750163377, 0.0017939203705071957, 0.0017910663327814936, 0.001788307188961737, 0.0017855342121082553, 0.0017831462941492217, 0.0017805133025181048, 0.0017781181758625775, 0.0017758385785287103, 0.0017735655200367309, 0.0017714627087327863, 0.0017690646300895217, 0.0017668043343875767, 0.0017646134648548924, 0.0017626996510246961, 0.0017606552437626, 0.0017589114333317365, 0.0017571026518008518, 0.0017552795488123489, 0.0017536853320953834, 0.0017521438143696007, 0.001750669540847759, 0.0017493692768733953, 0.001747954863918034, 0.0017467354723311073, 0.0017456114314717804, 0.0017444659578045247, 0.0017434684037789777, 0.0017424874002975647, 0.0017416010300036237, 0.0017407182708298382, 0.0017399912957407183, 0.0017390605906089597]\n"
     ]
    },
    {
     "data": {
      "application/vnd.jupyter.widget-view+json": {
       "model_id": "72a6eca8c99a4314b5d6c78bdf2172a6",
       "version_major": 2,
       "version_minor": 0
      },
      "text/plain": [
       "0it [00:00, ?it/s]"
      ]
     },
     "metadata": {},
     "output_type": "display_data"
    },
    {
     "name": "stdout",
     "output_type": "stream",
     "text": [
      "Loss of train: 0.00150\n",
      "Loss of val: 0.00174\n",
      "Loss of test: 0.00162\n",
      "Loss of gw_test: 0.00151\n",
      "[0.002846710564828987, 0.0026290730855073542, 0.0024784052086768552, 0.0023558887617226945, 0.0022360816788539544, 0.0021306142545182284, 0.0020614289795334003, 0.0020183009022824226, 0.001988293661382164, 0.0019647315769670674, 0.0019453002810574146, 0.0019288878062600704, 0.0019149134735625844, 0.001902579980478433, 0.0018921529223837855, 0.0018830076039902317, 0.0018748986324995042, 0.0018675367452798957, 0.0018609478793049103, 0.0018548746670670872, 0.0018492747587442585, 0.0018440984352671014, 0.001839214596439237, 0.001834847527020444, 0.0018306649672752689, 0.001826642344205424, 0.0018230272932395091, 0.0018197090380890732, 0.0018164188146891408, 0.0018131553135219247, 0.0018101371210684461, 0.0018074825518798582, 0.0018047135351819774, 0.0018020299441334452, 0.001799417252708577, 0.0017967804750163377, 0.0017939203705071957, 0.0017910663327814936, 0.001788307188961737, 0.0017855342121082553, 0.0017831462941492217, 0.0017805133025181048, 0.0017781181758625775, 0.0017758385785287103, 0.0017735655200367309, 0.0017714627087327863, 0.0017690646300895217, 0.0017668043343875767, 0.0017646134648548924, 0.0017626996510246961, 0.0017606552437626, 0.0017589114333317365, 0.0017571026518008518, 0.0017552795488123489, 0.0017536853320953834, 0.0017521438143696007, 0.001750669540847759, 0.0017493692768733953, 0.001747954863918034, 0.0017467354723311073, 0.0017456114314717804, 0.0017444659578045247, 0.0017434684037789777, 0.0017424874002975647, 0.0017416010300036237, 0.0017407182708298382, 0.0017399912957407183, 0.0017390605906089597, 0.0017384065345830218]\n"
     ]
    },
    {
     "data": {
      "application/vnd.jupyter.widget-view+json": {
       "model_id": "3066d7d89a6c431885aa1ddfd95403a0",
       "version_major": 2,
       "version_minor": 0
      },
      "text/plain": [
       "0it [00:00, ?it/s]"
      ]
     },
     "metadata": {},
     "output_type": "display_data"
    },
    {
     "name": "stdout",
     "output_type": "stream",
     "text": [
      "Loss of train: 0.00150\n",
      "Loss of val: 0.00174\n",
      "Loss of test: 0.00162\n",
      "Loss of gw_test: 0.00150\n",
      "[0.002846710564828987, 0.0026290730855073542, 0.0024784052086768552, 0.0023558887617226945, 0.0022360816788539544, 0.0021306142545182284, 0.0020614289795334003, 0.0020183009022824226, 0.001988293661382164, 0.0019647315769670674, 0.0019453002810574146, 0.0019288878062600704, 0.0019149134735625844, 0.001902579980478433, 0.0018921529223837855, 0.0018830076039902317, 0.0018748986324995042, 0.0018675367452798957, 0.0018609478793049103, 0.0018548746670670872, 0.0018492747587442585, 0.0018440984352671014, 0.001839214596439237, 0.001834847527020444, 0.0018306649672752689, 0.001826642344205424, 0.0018230272932395091, 0.0018197090380890732, 0.0018164188146891408, 0.0018131553135219247, 0.0018101371210684461, 0.0018074825518798582, 0.0018047135351819774, 0.0018020299441334452, 0.001799417252708577, 0.0017967804750163377, 0.0017939203705071957, 0.0017910663327814936, 0.001788307188961737, 0.0017855342121082553, 0.0017831462941492217, 0.0017805133025181048, 0.0017781181758625775, 0.0017758385785287103, 0.0017735655200367309, 0.0017714627087327863, 0.0017690646300895217, 0.0017668043343875767, 0.0017646134648548924, 0.0017626996510246961, 0.0017606552437626, 0.0017589114333317365, 0.0017571026518008518, 0.0017552795488123489, 0.0017536853320953834, 0.0017521438143696007, 0.001750669540847759, 0.0017493692768733953, 0.001747954863918034, 0.0017467354723311073, 0.0017456114314717804, 0.0017444659578045247, 0.0017434684037789777, 0.0017424874002975647, 0.0017416010300036237, 0.0017407182708298382, 0.0017399912957407183, 0.0017390605906089597, 0.0017384065345830218, 0.0017375651760355762]\n"
     ]
    },
    {
     "data": {
      "application/vnd.jupyter.widget-view+json": {
       "model_id": "7b34c0943f2c4b5cbb11662d31ed461a",
       "version_major": 2,
       "version_minor": 0
      },
      "text/plain": [
       "0it [00:00, ?it/s]"
      ]
     },
     "metadata": {},
     "output_type": "display_data"
    },
    {
     "name": "stdout",
     "output_type": "stream",
     "text": [
      "Loss of train: 0.00149\n",
      "Loss of val: 0.00174\n",
      "Loss of test: 0.00161\n",
      "Loss of gw_test: 0.00150\n",
      "[0.002846710564828987, 0.0026290730855073542, 0.0024784052086768552, 0.0023558887617226945, 0.0022360816788539544, 0.0021306142545182284, 0.0020614289795334003, 0.0020183009022824226, 0.001988293661382164, 0.0019647315769670674, 0.0019453002810574146, 0.0019288878062600704, 0.0019149134735625844, 0.001902579980478433, 0.0018921529223837855, 0.0018830076039902317, 0.0018748986324995042, 0.0018675367452798957, 0.0018609478793049103, 0.0018548746670670872, 0.0018492747587442585, 0.0018440984352671014, 0.001839214596439237, 0.001834847527020444, 0.0018306649672752689, 0.001826642344205424, 0.0018230272932395091, 0.0018197090380890732, 0.0018164188146891408, 0.0018131553135219247, 0.0018101371210684461, 0.0018074825518798582, 0.0018047135351819774, 0.0018020299441334452, 0.001799417252708577, 0.0017967804750163377, 0.0017939203705071957, 0.0017910663327814936, 0.001788307188961737, 0.0017855342121082553, 0.0017831462941492217, 0.0017805133025181048, 0.0017781181758625775, 0.0017758385785287103, 0.0017735655200367309, 0.0017714627087327863, 0.0017690646300895217, 0.0017668043343875767, 0.0017646134648548924, 0.0017626996510246961, 0.0017606552437626, 0.0017589114333317365, 0.0017571026518008518, 0.0017552795488123489, 0.0017536853320953834, 0.0017521438143696007, 0.001750669540847759, 0.0017493692768733953, 0.001747954863918034, 0.0017467354723311073, 0.0017456114314717804, 0.0017444659578045247, 0.0017434684037789777, 0.0017424874002975647, 0.0017416010300036237, 0.0017407182708298382, 0.0017399912957407183, 0.0017390605906089597, 0.0017384065345830218, 0.0017375651760355762, 0.0017368394371019026]\n"
     ]
    },
    {
     "data": {
      "application/vnd.jupyter.widget-view+json": {
       "model_id": "a262a4f66e1b43428b8076bbbb16d573",
       "version_major": 2,
       "version_minor": 0
      },
      "text/plain": [
       "0it [00:00, ?it/s]"
      ]
     },
     "metadata": {},
     "output_type": "display_data"
    },
    {
     "name": "stdout",
     "output_type": "stream",
     "text": [
      "Loss of train: 0.00149\n",
      "Loss of val: 0.00174\n",
      "Loss of test: 0.00161\n",
      "Loss of gw_test: 0.00150\n",
      "[0.002846710564828987, 0.0026290730855073542, 0.0024784052086768552, 0.0023558887617226945, 0.0022360816788539544, 0.0021306142545182284, 0.0020614289795334003, 0.0020183009022824226, 0.001988293661382164, 0.0019647315769670674, 0.0019453002810574146, 0.0019288878062600704, 0.0019149134735625844, 0.001902579980478433, 0.0018921529223837855, 0.0018830076039902317, 0.0018748986324995042, 0.0018675367452798957, 0.0018609478793049103, 0.0018548746670670872, 0.0018492747587442585, 0.0018440984352671014, 0.001839214596439237, 0.001834847527020444, 0.0018306649672752689, 0.001826642344205424, 0.0018230272932395091, 0.0018197090380890732, 0.0018164188146891408, 0.0018131553135219247, 0.0018101371210684461, 0.0018074825518798582, 0.0018047135351819774, 0.0018020299441334452, 0.001799417252708577, 0.0017967804750163377, 0.0017939203705071957, 0.0017910663327814936, 0.001788307188961737, 0.0017855342121082553, 0.0017831462941492217, 0.0017805133025181048, 0.0017781181758625775, 0.0017758385785287103, 0.0017735655200367309, 0.0017714627087327863, 0.0017690646300895217, 0.0017668043343875767, 0.0017646134648548924, 0.0017626996510246961, 0.0017606552437626, 0.0017589114333317365, 0.0017571026518008518, 0.0017552795488123489, 0.0017536853320953834, 0.0017521438143696007, 0.001750669540847759, 0.0017493692768733953, 0.001747954863918034, 0.0017467354723311073, 0.0017456114314717804, 0.0017444659578045247, 0.0017434684037789777, 0.0017424874002975647, 0.0017416010300036237, 0.0017407182708298382, 0.0017399912957407183, 0.0017390605906089597, 0.0017384065345830218, 0.0017375651760355762, 0.0017368394371019026, 0.0017360123997299125]\n"
     ]
    },
    {
     "data": {
      "application/vnd.jupyter.widget-view+json": {
       "model_id": "839ddb46bbd84a54ac01e15f41e4752d",
       "version_major": 2,
       "version_minor": 0
      },
      "text/plain": [
       "0it [00:00, ?it/s]"
      ]
     },
     "metadata": {},
     "output_type": "display_data"
    },
    {
     "name": "stdout",
     "output_type": "stream",
     "text": [
      "Loss of train: 0.00149\n",
      "Loss of val: 0.00174\n",
      "Loss of test: 0.00161\n",
      "Loss of gw_test: 0.00150\n",
      "[0.002846710564828987, 0.0026290730855073542, 0.0024784052086768552, 0.0023558887617226945, 0.0022360816788539544, 0.0021306142545182284, 0.0020614289795334003, 0.0020183009022824226, 0.001988293661382164, 0.0019647315769670674, 0.0019453002810574146, 0.0019288878062600704, 0.0019149134735625844, 0.001902579980478433, 0.0018921529223837855, 0.0018830076039902317, 0.0018748986324995042, 0.0018675367452798957, 0.0018609478793049103, 0.0018548746670670872, 0.0018492747587442585, 0.0018440984352671014, 0.001839214596439237, 0.001834847527020444, 0.0018306649672752689, 0.001826642344205424, 0.0018230272932395091, 0.0018197090380890732, 0.0018164188146891408, 0.0018131553135219247, 0.0018101371210684461, 0.0018074825518798582, 0.0018047135351819774, 0.0018020299441334452, 0.001799417252708577, 0.0017967804750163377, 0.0017939203705071957, 0.0017910663327814936, 0.001788307188961737, 0.0017855342121082553, 0.0017831462941492217, 0.0017805133025181048, 0.0017781181758625775, 0.0017758385785287103, 0.0017735655200367309, 0.0017714627087327863, 0.0017690646300895217, 0.0017668043343875767, 0.0017646134648548924, 0.0017626996510246961, 0.0017606552437626, 0.0017589114333317365, 0.0017571026518008518, 0.0017552795488123489, 0.0017536853320953834, 0.0017521438143696007, 0.001750669540847759, 0.0017493692768733953, 0.001747954863918034, 0.0017467354723311073, 0.0017456114314717804, 0.0017444659578045247, 0.0017434684037789777, 0.0017424874002975647, 0.0017416010300036237, 0.0017407182708298382, 0.0017399912957407183, 0.0017390605906089597, 0.0017384065345830218, 0.0017375651760355762, 0.0017368394371019026, 0.0017360123997299125, 0.0017352484353484509]\n"
     ]
    },
    {
     "data": {
      "application/vnd.jupyter.widget-view+json": {
       "model_id": "521528bf8d0c476885f8d10d8eb3ee52",
       "version_major": 2,
       "version_minor": 0
      },
      "text/plain": [
       "0it [00:00, ?it/s]"
      ]
     },
     "metadata": {},
     "output_type": "display_data"
    },
    {
     "name": "stdout",
     "output_type": "stream",
     "text": [
      "Loss of train: 0.00149\n",
      "Loss of val: 0.00173\n",
      "Loss of test: 0.00161\n",
      "Loss of gw_test: 0.00150\n",
      "[0.002846710564828987, 0.0026290730855073542, 0.0024784052086768552, 0.0023558887617226945, 0.0022360816788539544, 0.0021306142545182284, 0.0020614289795334003, 0.0020183009022824226, 0.001988293661382164, 0.0019647315769670674, 0.0019453002810574146, 0.0019288878062600704, 0.0019149134735625844, 0.001902579980478433, 0.0018921529223837855, 0.0018830076039902317, 0.0018748986324995042, 0.0018675367452798957, 0.0018609478793049103, 0.0018548746670670872, 0.0018492747587442585, 0.0018440984352671014, 0.001839214596439237, 0.001834847527020444, 0.0018306649672752689, 0.001826642344205424, 0.0018230272932395091, 0.0018197090380890732, 0.0018164188146891408, 0.0018131553135219247, 0.0018101371210684461, 0.0018074825518798582, 0.0018047135351819774, 0.0018020299441334452, 0.001799417252708577, 0.0017967804750163377, 0.0017939203705071957, 0.0017910663327814936, 0.001788307188961737, 0.0017855342121082553, 0.0017831462941492217, 0.0017805133025181048, 0.0017781181758625775, 0.0017758385785287103, 0.0017735655200367309, 0.0017714627087327863, 0.0017690646300895217, 0.0017668043343875767, 0.0017646134648548924, 0.0017626996510246961, 0.0017606552437626, 0.0017589114333317365, 0.0017571026518008518, 0.0017552795488123489, 0.0017536853320953834, 0.0017521438143696007, 0.001750669540847759, 0.0017493692768733953, 0.001747954863918034, 0.0017467354723311073, 0.0017456114314717804, 0.0017444659578045247, 0.0017434684037789777, 0.0017424874002975647, 0.0017416010300036237, 0.0017407182708298382, 0.0017399912957407183, 0.0017390605906089597, 0.0017384065345830218, 0.0017375651760355762, 0.0017368394371019026, 0.0017360123997299125, 0.0017352484353484509, 0.001734616694453674]\n"
     ]
    },
    {
     "data": {
      "application/vnd.jupyter.widget-view+json": {
       "model_id": "6582ec9813544089b5d0d52f86bbbc81",
       "version_major": 2,
       "version_minor": 0
      },
      "text/plain": [
       "0it [00:00, ?it/s]"
      ]
     },
     "metadata": {},
     "output_type": "display_data"
    },
    {
     "name": "stdout",
     "output_type": "stream",
     "text": [
      "Loss of train: 0.00149\n",
      "Loss of val: 0.00173\n",
      "Loss of test: 0.00161\n",
      "Loss of gw_test: 0.00149\n",
      "[0.002846710564828987, 0.0026290730855073542, 0.0024784052086768552, 0.0023558887617226945, 0.0022360816788539544, 0.0021306142545182284, 0.0020614289795334003, 0.0020183009022824226, 0.001988293661382164, 0.0019647315769670674, 0.0019453002810574146, 0.0019288878062600704, 0.0019149134735625844, 0.001902579980478433, 0.0018921529223837855, 0.0018830076039902317, 0.0018748986324995042, 0.0018675367452798957, 0.0018609478793049103, 0.0018548746670670872, 0.0018492747587442585, 0.0018440984352671014, 0.001839214596439237, 0.001834847527020444, 0.0018306649672752689, 0.001826642344205424, 0.0018230272932395091, 0.0018197090380890732, 0.0018164188146891408, 0.0018131553135219247, 0.0018101371210684461, 0.0018074825518798582, 0.0018047135351819774, 0.0018020299441334452, 0.001799417252708577, 0.0017967804750163377, 0.0017939203705071957, 0.0017910663327814936, 0.001788307188961737, 0.0017855342121082553, 0.0017831462941492217, 0.0017805133025181048, 0.0017781181758625775, 0.0017758385785287103, 0.0017735655200367309, 0.0017714627087327863, 0.0017690646300895217, 0.0017668043343875767, 0.0017646134648548924, 0.0017626996510246961, 0.0017606552437626, 0.0017589114333317365, 0.0017571026518008518, 0.0017552795488123489, 0.0017536853320953834, 0.0017521438143696007, 0.001750669540847759, 0.0017493692768733953, 0.001747954863918034, 0.0017467354723311073, 0.0017456114314717804, 0.0017444659578045247, 0.0017434684037789777, 0.0017424874002975647, 0.0017416010300036237, 0.0017407182708298382, 0.0017399912957407183, 0.0017390605906089597, 0.0017384065345830218, 0.0017375651760355762, 0.0017368394371019026, 0.0017360123997299125, 0.0017352484353484509, 0.001734616694453674, 0.0017342061130829482]\n"
     ]
    },
    {
     "data": {
      "application/vnd.jupyter.widget-view+json": {
       "model_id": "91747688029942c5a4c214c188b2ab55",
       "version_major": 2,
       "version_minor": 0
      },
      "text/plain": [
       "0it [00:00, ?it/s]"
      ]
     },
     "metadata": {},
     "output_type": "display_data"
    },
    {
     "name": "stdout",
     "output_type": "stream",
     "text": [
      "Loss of train: 0.00148\n",
      "Loss of val: 0.00173\n",
      "Loss of test: 0.00161\n",
      "Loss of gw_test: 0.00149\n",
      "[0.002846710564828987, 0.0026290730855073542, 0.0024784052086768552, 0.0023558887617226945, 0.0022360816788539544, 0.0021306142545182284, 0.0020614289795334003, 0.0020183009022824226, 0.001988293661382164, 0.0019647315769670674, 0.0019453002810574146, 0.0019288878062600704, 0.0019149134735625844, 0.001902579980478433, 0.0018921529223837855, 0.0018830076039902317, 0.0018748986324995042, 0.0018675367452798957, 0.0018609478793049103, 0.0018548746670670872, 0.0018492747587442585, 0.0018440984352671014, 0.001839214596439237, 0.001834847527020444, 0.0018306649672752689, 0.001826642344205424, 0.0018230272932395091, 0.0018197090380890732, 0.0018164188146891408, 0.0018131553135219247, 0.0018101371210684461, 0.0018074825518798582, 0.0018047135351819774, 0.0018020299441334452, 0.001799417252708577, 0.0017967804750163377, 0.0017939203705071957, 0.0017910663327814936, 0.001788307188961737, 0.0017855342121082553, 0.0017831462941492217, 0.0017805133025181048, 0.0017781181758625775, 0.0017758385785287103, 0.0017735655200367309, 0.0017714627087327863, 0.0017690646300895217, 0.0017668043343875767, 0.0017646134648548924, 0.0017626996510246961, 0.0017606552437626, 0.0017589114333317365, 0.0017571026518008518, 0.0017552795488123489, 0.0017536853320953834, 0.0017521438143696007, 0.001750669540847759, 0.0017493692768733953, 0.001747954863918034, 0.0017467354723311073, 0.0017456114314717804, 0.0017444659578045247, 0.0017434684037789777, 0.0017424874002975647, 0.0017416010300036237, 0.0017407182708298382, 0.0017399912957407183, 0.0017390605906089597, 0.0017384065345830218, 0.0017375651760355762, 0.0017368394371019026, 0.0017360123997299125, 0.0017352484353484509, 0.001734616694453674, 0.0017342061130829482, 0.0017336799434185268]\n"
     ]
    },
    {
     "data": {
      "application/vnd.jupyter.widget-view+json": {
       "model_id": "acbb54399e544bb8a7ee4572361c61da",
       "version_major": 2,
       "version_minor": 0
      },
      "text/plain": [
       "0it [00:00, ?it/s]"
      ]
     },
     "metadata": {},
     "output_type": "display_data"
    },
    {
     "name": "stdout",
     "output_type": "stream",
     "text": [
      "Loss of train: 0.00148\n",
      "Loss of val: 0.00173\n",
      "Loss of test: 0.00161\n",
      "Loss of gw_test: 0.00149\n",
      "[0.002846710564828987, 0.0026290730855073542, 0.0024784052086768552, 0.0023558887617226945, 0.0022360816788539544, 0.0021306142545182284, 0.0020614289795334003, 0.0020183009022824226, 0.001988293661382164, 0.0019647315769670674, 0.0019453002810574146, 0.0019288878062600704, 0.0019149134735625844, 0.001902579980478433, 0.0018921529223837855, 0.0018830076039902317, 0.0018748986324995042, 0.0018675367452798957, 0.0018609478793049103, 0.0018548746670670872, 0.0018492747587442585, 0.0018440984352671014, 0.001839214596439237, 0.001834847527020444, 0.0018306649672752689, 0.001826642344205424, 0.0018230272932395091, 0.0018197090380890732, 0.0018164188146891408, 0.0018131553135219247, 0.0018101371210684461, 0.0018074825518798582, 0.0018047135351819774, 0.0018020299441334452, 0.001799417252708577, 0.0017967804750163377, 0.0017939203705071957, 0.0017910663327814936, 0.001788307188961737, 0.0017855342121082553, 0.0017831462941492217, 0.0017805133025181048, 0.0017781181758625775, 0.0017758385785287103, 0.0017735655200367309, 0.0017714627087327863, 0.0017690646300895217, 0.0017668043343875767, 0.0017646134648548924, 0.0017626996510246961, 0.0017606552437626, 0.0017589114333317365, 0.0017571026518008518, 0.0017552795488123489, 0.0017536853320953834, 0.0017521438143696007, 0.001750669540847759, 0.0017493692768733953, 0.001747954863918034, 0.0017467354723311073, 0.0017456114314717804, 0.0017444659578045247, 0.0017434684037789777, 0.0017424874002975647, 0.0017416010300036237, 0.0017407182708298382, 0.0017399912957407183, 0.0017390605906089597, 0.0017384065345830218, 0.0017375651760355762, 0.0017368394371019026, 0.0017360123997299125, 0.0017352484353484509, 0.001734616694453674, 0.0017342061130829482, 0.0017336799434185268, 0.0017330942148197114]\n"
     ]
    },
    {
     "data": {
      "application/vnd.jupyter.widget-view+json": {
       "model_id": "f762a02528cb446eada4bb37f10f0836",
       "version_major": 2,
       "version_minor": 0
      },
      "text/plain": [
       "0it [00:00, ?it/s]"
      ]
     },
     "metadata": {},
     "output_type": "display_data"
    },
    {
     "name": "stdout",
     "output_type": "stream",
     "text": [
      "Loss of train: 0.00148\n",
      "Loss of val: 0.00173\n",
      "Loss of test: 0.00161\n",
      "Loss of gw_test: 0.00149\n",
      "[0.002846710564828987, 0.0026290730855073542, 0.0024784052086768552, 0.0023558887617226945, 0.0022360816788539544, 0.0021306142545182284, 0.0020614289795334003, 0.0020183009022824226, 0.001988293661382164, 0.0019647315769670674, 0.0019453002810574146, 0.0019288878062600704, 0.0019149134735625844, 0.001902579980478433, 0.0018921529223837855, 0.0018830076039902317, 0.0018748986324995042, 0.0018675367452798957, 0.0018609478793049103, 0.0018548746670670872, 0.0018492747587442585, 0.0018440984352671014, 0.001839214596439237, 0.001834847527020444, 0.0018306649672752689, 0.001826642344205424, 0.0018230272932395091, 0.0018197090380890732, 0.0018164188146891408, 0.0018131553135219247, 0.0018101371210684461, 0.0018074825518798582, 0.0018047135351819774, 0.0018020299441334452, 0.001799417252708577, 0.0017967804750163377, 0.0017939203705071957, 0.0017910663327814936, 0.001788307188961737, 0.0017855342121082553, 0.0017831462941492217, 0.0017805133025181048, 0.0017781181758625775, 0.0017758385785287103, 0.0017735655200367309, 0.0017714627087327863, 0.0017690646300895217, 0.0017668043343875767, 0.0017646134648548924, 0.0017626996510246961, 0.0017606552437626, 0.0017589114333317365, 0.0017571026518008518, 0.0017552795488123489, 0.0017536853320953834, 0.0017521438143696007, 0.001750669540847759, 0.0017493692768733953, 0.001747954863918034, 0.0017467354723311073, 0.0017456114314717804, 0.0017444659578045247, 0.0017434684037789777, 0.0017424874002975647, 0.0017416010300036237, 0.0017407182708298382, 0.0017399912957407183, 0.0017390605906089597, 0.0017384065345830218, 0.0017375651760355762, 0.0017368394371019026, 0.0017360123997299125, 0.0017352484353484509, 0.001734616694453674, 0.0017342061130829482, 0.0017336799434185268, 0.0017330942148197114, 0.00173245336429732]\n"
     ]
    },
    {
     "data": {
      "application/vnd.jupyter.widget-view+json": {
       "model_id": "fdfc2f351bb44e6f9f6fb9acef7ca12c",
       "version_major": 2,
       "version_minor": 0
      },
      "text/plain": [
       "0it [00:00, ?it/s]"
      ]
     },
     "metadata": {},
     "output_type": "display_data"
    },
    {
     "name": "stdout",
     "output_type": "stream",
     "text": [
      "Loss of train: 0.00148\n",
      "Loss of val: 0.00173\n",
      "Loss of test: 0.00161\n",
      "Loss of gw_test: 0.00149\n",
      "[0.002846710564828987, 0.0026290730855073542, 0.0024784052086768552, 0.0023558887617226945, 0.0022360816788539544, 0.0021306142545182284, 0.0020614289795334003, 0.0020183009022824226, 0.001988293661382164, 0.0019647315769670674, 0.0019453002810574146, 0.0019288878062600704, 0.0019149134735625844, 0.001902579980478433, 0.0018921529223837855, 0.0018830076039902317, 0.0018748986324995042, 0.0018675367452798957, 0.0018609478793049103, 0.0018548746670670872, 0.0018492747587442585, 0.0018440984352671014, 0.001839214596439237, 0.001834847527020444, 0.0018306649672752689, 0.001826642344205424, 0.0018230272932395091, 0.0018197090380890732, 0.0018164188146891408, 0.0018131553135219247, 0.0018101371210684461, 0.0018074825518798582, 0.0018047135351819774, 0.0018020299441334452, 0.001799417252708577, 0.0017967804750163377, 0.0017939203705071957, 0.0017910663327814936, 0.001788307188961737, 0.0017855342121082553, 0.0017831462941492217, 0.0017805133025181048, 0.0017781181758625775, 0.0017758385785287103, 0.0017735655200367309, 0.0017714627087327863, 0.0017690646300895217, 0.0017668043343875767, 0.0017646134648548924, 0.0017626996510246961, 0.0017606552437626, 0.0017589114333317365, 0.0017571026518008518, 0.0017552795488123489, 0.0017536853320953834, 0.0017521438143696007, 0.001750669540847759, 0.0017493692768733953, 0.001747954863918034, 0.0017467354723311073, 0.0017456114314717804, 0.0017444659578045247, 0.0017434684037789777, 0.0017424874002975647, 0.0017416010300036237, 0.0017407182708298382, 0.0017399912957407183, 0.0017390605906089597, 0.0017384065345830218, 0.0017375651760355762, 0.0017368394371019026, 0.0017360123997299125, 0.0017352484353484509, 0.001734616694453674, 0.0017342061130829482, 0.0017336799434185268, 0.0017330942148197114, 0.00173245336429732, 0.001731660626359222]\n"
     ]
    },
    {
     "data": {
      "application/vnd.jupyter.widget-view+json": {
       "model_id": "b4c59b6ebde54bb5960292c1c076058f",
       "version_major": 2,
       "version_minor": 0
      },
      "text/plain": [
       "0it [00:00, ?it/s]"
      ]
     },
     "metadata": {},
     "output_type": "display_data"
    },
    {
     "name": "stdout",
     "output_type": "stream",
     "text": [
      "Loss of train: 0.00148\n",
      "Loss of val: 0.00173\n",
      "Loss of test: 0.00161\n",
      "Loss of gw_test: 0.00149\n",
      "[0.002846710564828987, 0.0026290730855073542, 0.0024784052086768552, 0.0023558887617226945, 0.0022360816788539544, 0.0021306142545182284, 0.0020614289795334003, 0.0020183009022824226, 0.001988293661382164, 0.0019647315769670674, 0.0019453002810574146, 0.0019288878062600704, 0.0019149134735625844, 0.001902579980478433, 0.0018921529223837855, 0.0018830076039902317, 0.0018748986324995042, 0.0018675367452798957, 0.0018609478793049103, 0.0018548746670670872, 0.0018492747587442585, 0.0018440984352671014, 0.001839214596439237, 0.001834847527020444, 0.0018306649672752689, 0.001826642344205424, 0.0018230272932395091, 0.0018197090380890732, 0.0018164188146891408, 0.0018131553135219247, 0.0018101371210684461, 0.0018074825518798582, 0.0018047135351819774, 0.0018020299441334452, 0.001799417252708577, 0.0017967804750163377, 0.0017939203705071957, 0.0017910663327814936, 0.001788307188961737, 0.0017855342121082553, 0.0017831462941492217, 0.0017805133025181048, 0.0017781181758625775, 0.0017758385785287103, 0.0017735655200367309, 0.0017714627087327863, 0.0017690646300895217, 0.0017668043343875767, 0.0017646134648548924, 0.0017626996510246961, 0.0017606552437626, 0.0017589114333317365, 0.0017571026518008518, 0.0017552795488123489, 0.0017536853320953834, 0.0017521438143696007, 0.001750669540847759, 0.0017493692768733953, 0.001747954863918034, 0.0017467354723311073, 0.0017456114314717804, 0.0017444659578045247, 0.0017434684037789777, 0.0017424874002975647, 0.0017416010300036237, 0.0017407182708298382, 0.0017399912957407183, 0.0017390605906089597, 0.0017384065345830218, 0.0017375651760355762, 0.0017368394371019026, 0.0017360123997299125, 0.0017352484353484509, 0.001734616694453674, 0.0017342061130829482, 0.0017336799434185268, 0.0017330942148197114, 0.00173245336429732, 0.001731660626359222, 0.0017309816124648695]\n"
     ]
    },
    {
     "data": {
      "application/vnd.jupyter.widget-view+json": {
       "model_id": "eb8ebd5c75a84f759c5d4474fd5df3fe",
       "version_major": 2,
       "version_minor": 0
      },
      "text/plain": [
       "0it [00:00, ?it/s]"
      ]
     },
     "metadata": {},
     "output_type": "display_data"
    },
    {
     "name": "stdout",
     "output_type": "stream",
     "text": [
      "Loss of train: 0.00147\n",
      "Loss of val: 0.00173\n",
      "Loss of test: 0.00160\n",
      "Loss of gw_test: 0.00148\n",
      "[0.002846710564828987, 0.0026290730855073542, 0.0024784052086768552, 0.0023558887617226945, 0.0022360816788539544, 0.0021306142545182284, 0.0020614289795334003, 0.0020183009022824226, 0.001988293661382164, 0.0019647315769670674, 0.0019453002810574146, 0.0019288878062600704, 0.0019149134735625844, 0.001902579980478433, 0.0018921529223837855, 0.0018830076039902317, 0.0018748986324995042, 0.0018675367452798957, 0.0018609478793049103, 0.0018548746670670872, 0.0018492747587442585, 0.0018440984352671014, 0.001839214596439237, 0.001834847527020444, 0.0018306649672752689, 0.001826642344205424, 0.0018230272932395091, 0.0018197090380890732, 0.0018164188146891408, 0.0018131553135219247, 0.0018101371210684461, 0.0018074825518798582, 0.0018047135351819774, 0.0018020299441334452, 0.001799417252708577, 0.0017967804750163377, 0.0017939203705071957, 0.0017910663327814936, 0.001788307188961737, 0.0017855342121082553, 0.0017831462941492217, 0.0017805133025181048, 0.0017781181758625775, 0.0017758385785287103, 0.0017735655200367309, 0.0017714627087327863, 0.0017690646300895217, 0.0017668043343875767, 0.0017646134648548924, 0.0017626996510246961, 0.0017606552437626, 0.0017589114333317365, 0.0017571026518008518, 0.0017552795488123489, 0.0017536853320953834, 0.0017521438143696007, 0.001750669540847759, 0.0017493692768733953, 0.001747954863918034, 0.0017467354723311073, 0.0017456114314717804, 0.0017444659578045247, 0.0017434684037789777, 0.0017424874002975647, 0.0017416010300036237, 0.0017407182708298382, 0.0017399912957407183, 0.0017390605906089597, 0.0017384065345830218, 0.0017375651760355762, 0.0017368394371019026, 0.0017360123997299125, 0.0017352484353484509, 0.001734616694453674, 0.0017342061130829482, 0.0017336799434185268, 0.0017330942148197114, 0.00173245336429732, 0.001731660626359222, 0.0017309816124648695, 0.001730248691640173]\n"
     ]
    },
    {
     "data": {
      "application/vnd.jupyter.widget-view+json": {
       "model_id": "ed211d148fda43a9a824da7070239369",
       "version_major": 2,
       "version_minor": 0
      },
      "text/plain": [
       "0it [00:00, ?it/s]"
      ]
     },
     "metadata": {},
     "output_type": "display_data"
    },
    {
     "name": "stdout",
     "output_type": "stream",
     "text": [
      "Loss of train: 0.00147\n",
      "Loss of val: 0.00173\n",
      "Loss of test: 0.00160\n",
      "Loss of gw_test: 0.00148\n",
      "[0.002846710564828987, 0.0026290730855073542, 0.0024784052086768552, 0.0023558887617226945, 0.0022360816788539544, 0.0021306142545182284, 0.0020614289795334003, 0.0020183009022824226, 0.001988293661382164, 0.0019647315769670674, 0.0019453002810574146, 0.0019288878062600704, 0.0019149134735625844, 0.001902579980478433, 0.0018921529223837855, 0.0018830076039902317, 0.0018748986324995042, 0.0018675367452798957, 0.0018609478793049103, 0.0018548746670670872, 0.0018492747587442585, 0.0018440984352671014, 0.001839214596439237, 0.001834847527020444, 0.0018306649672752689, 0.001826642344205424, 0.0018230272932395091, 0.0018197090380890732, 0.0018164188146891408, 0.0018131553135219247, 0.0018101371210684461, 0.0018074825518798582, 0.0018047135351819774, 0.0018020299441334452, 0.001799417252708577, 0.0017967804750163377, 0.0017939203705071957, 0.0017910663327814936, 0.001788307188961737, 0.0017855342121082553, 0.0017831462941492217, 0.0017805133025181048, 0.0017781181758625775, 0.0017758385785287103, 0.0017735655200367309, 0.0017714627087327863, 0.0017690646300895217, 0.0017668043343875767, 0.0017646134648548924, 0.0017626996510246961, 0.0017606552437626, 0.0017589114333317365, 0.0017571026518008518, 0.0017552795488123489, 0.0017536853320953834, 0.0017521438143696007, 0.001750669540847759, 0.0017493692768733953, 0.001747954863918034, 0.0017467354723311073, 0.0017456114314717804, 0.0017444659578045247, 0.0017434684037789777, 0.0017424874002975647, 0.0017416010300036237, 0.0017407182708298382, 0.0017399912957407183, 0.0017390605906089597, 0.0017384065345830218, 0.0017375651760355762, 0.0017368394371019026, 0.0017360123997299125, 0.0017352484353484509, 0.001734616694453674, 0.0017342061130829482, 0.0017336799434185268, 0.0017330942148197114, 0.00173245336429732, 0.001731660626359222, 0.0017309816124648695, 0.001730248691640173, 0.0017295754406398704]\n"
     ]
    },
    {
     "data": {
      "application/vnd.jupyter.widget-view+json": {
       "model_id": "e94aaeb131474df5a81cd687e6d237c0",
       "version_major": 2,
       "version_minor": 0
      },
      "text/plain": [
       "0it [00:00, ?it/s]"
      ]
     },
     "metadata": {},
     "output_type": "display_data"
    },
    {
     "name": "stdout",
     "output_type": "stream",
     "text": [
      "Loss of train: 0.00147\n",
      "Loss of val: 0.00173\n",
      "Loss of test: 0.00160\n",
      "Loss of gw_test: 0.00148\n",
      "[0.002846710564828987, 0.0026290730855073542, 0.0024784052086768552, 0.0023558887617226945, 0.0022360816788539544, 0.0021306142545182284, 0.0020614289795334003, 0.0020183009022824226, 0.001988293661382164, 0.0019647315769670674, 0.0019453002810574146, 0.0019288878062600704, 0.0019149134735625844, 0.001902579980478433, 0.0018921529223837855, 0.0018830076039902317, 0.0018748986324995042, 0.0018675367452798957, 0.0018609478793049103, 0.0018548746670670872, 0.0018492747587442585, 0.0018440984352671014, 0.001839214596439237, 0.001834847527020444, 0.0018306649672752689, 0.001826642344205424, 0.0018230272932395091, 0.0018197090380890732, 0.0018164188146891408, 0.0018131553135219247, 0.0018101371210684461, 0.0018074825518798582, 0.0018047135351819774, 0.0018020299441334452, 0.001799417252708577, 0.0017967804750163377, 0.0017939203705071957, 0.0017910663327814936, 0.001788307188961737, 0.0017855342121082553, 0.0017831462941492217, 0.0017805133025181048, 0.0017781181758625775, 0.0017758385785287103, 0.0017735655200367309, 0.0017714627087327863, 0.0017690646300895217, 0.0017668043343875767, 0.0017646134648548924, 0.0017626996510246961, 0.0017606552437626, 0.0017589114333317365, 0.0017571026518008518, 0.0017552795488123489, 0.0017536853320953834, 0.0017521438143696007, 0.001750669540847759, 0.0017493692768733953, 0.001747954863918034, 0.0017467354723311073, 0.0017456114314717804, 0.0017444659578045247, 0.0017434684037789777, 0.0017424874002975647, 0.0017416010300036237, 0.0017407182708298382, 0.0017399912957407183, 0.0017390605906089597, 0.0017384065345830218, 0.0017375651760355762, 0.0017368394371019026, 0.0017360123997299125, 0.0017352484353484509, 0.001734616694453674, 0.0017342061130829482, 0.0017336799434185268, 0.0017330942148197114, 0.00173245336429732, 0.001731660626359222, 0.0017309816124648695, 0.001730248691640173, 0.0017295754406398704, 0.0017288670925312984]\n"
     ]
    },
    {
     "data": {
      "application/vnd.jupyter.widget-view+json": {
       "model_id": "7066ce503ad244a3bf46f319090dcbfd",
       "version_major": 2,
       "version_minor": 0
      },
      "text/plain": [
       "0it [00:00, ?it/s]"
      ]
     },
     "metadata": {},
     "output_type": "display_data"
    },
    {
     "name": "stdout",
     "output_type": "stream",
     "text": [
      "Loss of train: 0.00147\n",
      "Loss of val: 0.00173\n"
     ]
    }
   ],
   "source": [
    "from sklearn.model_selection import ParameterGrid\n",
    "import copy\n",
    "\n",
    "torch.manual_seed(42)\n",
    "space = {\n",
    "    'lr': np.linspace(1e-4, 1e-2, 4, endpoint=True), #np.linspace(1e-4, 1e-2, 4, endpoint=True),\n",
    "    'dropout':[0, 0.2,.4],\n",
    "    'num_heads':[1, 2, 4],\n",
    "    'wd':[0, 1e-4, 1e-2],\n",
    "}\n",
    "param_grid = ParameterGrid(space)\n",
    "\n",
    "best_hyper_params = None\n",
    "best_val_loss = float(\"inf\")\n",
    "patience = 2\n",
    "i = 0\n",
    "for params in tqdm(param_grid.__iter__()):\n",
    "    \n",
    "    torch.manual_seed(42)\n",
    "    input_dim, n_embd, n_heads, dropout, n_blocks = len(FEATURES), len(FEATURES), params[\"num_heads\"], params[\"dropout\"], 1\n",
    "    model = TransformerModel(input_dim, n_embd, n_heads, dropout, n_blocks).to(device)\n",
    "    optim= torch.optim.Adam(model.parameters(), lr = params[\"lr\"], weight_decay=params[\"wd\"])\n",
    "\n",
    "    models = []\n",
    "\n",
    "    torch.manual_seed(42)\n",
    "\n",
    "    last_val_loss = None\n",
    "    val_losses = []\n",
    "    never_breaked = True\n",
    "    for epoch in range(100):#5\n",
    "        for i, (x,y) in tqdm(enumerate(batch_loader[TRAIN])):\n",
    "            model.train()\n",
    "            optim.zero_grad()\n",
    "            \n",
    "            logits, logits_mask = model(x)\n",
    "            loss = torch.nn.functional.binary_cross_entropy_with_logits(logits[logits_mask].squeeze(-1), y[logits_mask], pos_weight=torch.tensor(WEIGHT))\n",
    "                \n",
    "            loss.backward()\n",
    "            optim.step()\n",
    "        losses = evaluate_loss_sets(model)\n",
    "        val_losses.append(losses[VAL])\n",
    "        models.append(copy.deepcopy(model))\n",
    "        print(val_losses)\n",
    "        if len(val_losses) >= patience and all(list(map(lambda l: losses[VAL] >= l, val_losses[-patience:]))):\n",
    "            print(f\"Break at {epoch}\")\n",
    "            never_breaked = False\n",
    "            model = models[-2]\n",
    "            break\n",
    "    if never_breaked:\n",
    "        print(\"Never breaked with params\")\n",
    "        print(params)\n",
    "    evaluate_auroc_sets(model)\n",
    "    if val_losses[-1]<= best_val_loss:\n",
    "        best_val_loss = min(val_losses[-1], best_val_loss)\n",
    "        best_hyper_params = params\n",
    "        print(\"Currently best params: \")\n",
    "        print(best_hyper_params)\n",
    "    i+=1\n",
    "    print(f\"{i*100/108} %\")"
   ]
  },
  {
   "cell_type": "code",
   "execution_count": null,
   "id": "ba0926d7-cc58-43c7-9a44-3dcbc48e85e4",
   "metadata": {},
   "outputs": [],
   "source": []
  }
 ],
 "metadata": {
  "kernelspec": {
   "display_name": "Python 3 (ipykernel)",
   "language": "python",
   "name": "python3"
  },
  "language_info": {
   "codemirror_mode": {
    "name": "ipython",
    "version": 3
   },
   "file_extension": ".py",
   "mimetype": "text/x-python",
   "name": "python",
   "nbconvert_exporter": "python",
   "pygments_lexer": "ipython3",
   "version": "3.10.12"
  }
 },
 "nbformat": 4,
 "nbformat_minor": 5
}
