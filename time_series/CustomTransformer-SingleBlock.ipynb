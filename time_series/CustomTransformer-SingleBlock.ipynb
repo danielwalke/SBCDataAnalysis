{
 "cells": [
  {
   "cell_type": "markdown",
   "id": "490236b4-5f2d-47a6-abfa-40f411863e71",
   "metadata": {},
   "source": [
    "#### We re-start our transformer analysis here\n",
    "#### First, some assumptions or goals for this script:\n",
    " - training usinng SGD -> later batching\n",
    " - pad time series to maximum length with value -1 - first backward padding -> NOTE: forward padding will most probably cancel out the feature-induces bias\n",
    " - mask values which are -1\n",
    " - custom transformer\n",
    " - first information exchange over all measurements in a sequence (easier and should give the best scores)\n",
    " - Set manual seed for reproducibility and improvements over diverse hyperparams\n",
    " - first only one block, one head, without dropout (check validation loss and training loss diff after pre-def. intervals), without layernorm without ffd?\n",
    " - Now 1 block with ffd, 2 heads, batching, layer norm and pos encoding\n",
    "\n",
    "TODO: attention head size independent from input dimension and then use multipe heads for higher representability"
   ]
  },
  {
   "cell_type": "markdown",
   "id": "18229354-cd3e-43bd-a34c-8bdd0e220f75",
   "metadata": {},
   "source": [
    "## Dataset loader and preparation"
   ]
  },
  {
   "cell_type": "code",
   "execution_count": 1,
   "id": "f20ee0d6-e85e-4935-a58c-fbb3f76452f7",
   "metadata": {},
   "outputs": [],
   "source": [
    "import sys\n",
    "sys.path.insert(0, \"../\")\n",
    "from dataAnalysis.DataAnalysis import DataAnalysis\n",
    "import pandas as pd\n",
    "import torch\n",
    " \n",
    "data = pd.read_csv(r\"../sbcdata.csv\", header=0)\n",
    "data_analysis = DataAnalysis(data)"
   ]
  },
  {
   "cell_type": "code",
   "execution_count": 2,
   "id": "c8784566-1c9f-4f64-814a-6afaa149ac72",
   "metadata": {},
   "outputs": [],
   "source": [
    "data = pd.concat((data_analysis.get_training_data(), data_analysis.get_testing_data()))\n",
    "max_Id = data[\"Id\"].unique().max()\n",
    "gw_data = data_analysis.get_gw_testing_data().copy(deep=True)\n",
    "gw_data = gw_data.assign(Id=lambda x: x.Id + max_Id)\n",
    "data = pd.concat((data, gw_data))\n",
    "data = data.sort_values([\"Id\", \"Time\"])\n",
    "data = data.reset_index(drop=True)\n",
    "popped_index = data.pop(\"index\")"
   ]
  },
  {
   "cell_type": "code",
   "execution_count": 3,
   "id": "517e270b-b2e4-4287-a297-37155c5cbd85",
   "metadata": {},
   "outputs": [],
   "source": [
    "from dataAnalysis.Constants import SEX_CATEGORY_COLUMN_NAME, SEX_COLUMN_NAME, FEATURES, LABEL_COLUMN_NAME\n",
    "\n",
    "data[SEX_CATEGORY_COLUMN_NAME] = data.loc[:, SEX_COLUMN_NAME] ==\"W\"\n",
    "\n",
    "data[SEX_CATEGORY_COLUMN_NAME] = data[SEX_CATEGORY_COLUMN_NAME].astype(\"int8\")\n",
    "data[\"Label\"] = data[\"Label\"] == \"Sepsis\"\n",
    "data[\"Label\"] = data[\"Label\"].astype(\"int8\")"
   ]
  },
  {
   "cell_type": "markdown",
   "id": "0e2d6c76-3460-47ff-bbe1-e6dcc876b3f6",
   "metadata": {},
   "source": [
    "## Normalizer"
   ]
  },
  {
   "cell_type": "code",
   "execution_count": 4,
   "id": "6921df7b-52bf-4fbf-b464-312158cff5f3",
   "metadata": {},
   "outputs": [
    {
     "data": {
      "text/plain": [
       "array([[ 79.  ,   0.  ,   8.1 , ...,   4.36,  86.  , 167.  ],\n",
       "       [ 35.  ,   0.  ,  10.6 , ...,   6.02,  79.9 , 199.  ],\n",
       "       [ 47.  ,   1.  ,   8.7 , ...,   4.37,  89.9 , 298.  ],\n",
       "       ...,\n",
       "       [ 32.  ,   1.  ,   7.2 , ...,   3.87,  87.9 , 221.  ],\n",
       "       [ 47.  ,   0.  ,   8.3 , ...,   4.08,  91.9 , 148.  ],\n",
       "       [ 47.  ,   0.  ,   8.9 , ...,   4.39,  92.3 , 150.  ]])"
      ]
     },
     "execution_count": 4,
     "metadata": {},
     "output_type": "execute_result"
    }
   ],
   "source": [
    "data.loc[data[\"Set\"] == \"Training\", FEATURES].values"
   ]
  },
  {
   "cell_type": "code",
   "execution_count": 5,
   "id": "ed5cee5b-a4cd-422e-8eab-a54b1902535b",
   "metadata": {},
   "outputs": [
    {
     "data": {
      "text/html": [
       "<style>#sk-container-id-1 {color: black;}#sk-container-id-1 pre{padding: 0;}#sk-container-id-1 div.sk-toggleable {background-color: white;}#sk-container-id-1 label.sk-toggleable__label {cursor: pointer;display: block;width: 100%;margin-bottom: 0;padding: 0.3em;box-sizing: border-box;text-align: center;}#sk-container-id-1 label.sk-toggleable__label-arrow:before {content: \"▸\";float: left;margin-right: 0.25em;color: #696969;}#sk-container-id-1 label.sk-toggleable__label-arrow:hover:before {color: black;}#sk-container-id-1 div.sk-estimator:hover label.sk-toggleable__label-arrow:before {color: black;}#sk-container-id-1 div.sk-toggleable__content {max-height: 0;max-width: 0;overflow: hidden;text-align: left;background-color: #f0f8ff;}#sk-container-id-1 div.sk-toggleable__content pre {margin: 0.2em;color: black;border-radius: 0.25em;background-color: #f0f8ff;}#sk-container-id-1 input.sk-toggleable__control:checked~div.sk-toggleable__content {max-height: 200px;max-width: 100%;overflow: auto;}#sk-container-id-1 input.sk-toggleable__control:checked~label.sk-toggleable__label-arrow:before {content: \"▾\";}#sk-container-id-1 div.sk-estimator input.sk-toggleable__control:checked~label.sk-toggleable__label {background-color: #d4ebff;}#sk-container-id-1 div.sk-label input.sk-toggleable__control:checked~label.sk-toggleable__label {background-color: #d4ebff;}#sk-container-id-1 input.sk-hidden--visually {border: 0;clip: rect(1px 1px 1px 1px);clip: rect(1px, 1px, 1px, 1px);height: 1px;margin: -1px;overflow: hidden;padding: 0;position: absolute;width: 1px;}#sk-container-id-1 div.sk-estimator {font-family: monospace;background-color: #f0f8ff;border: 1px dotted black;border-radius: 0.25em;box-sizing: border-box;margin-bottom: 0.5em;}#sk-container-id-1 div.sk-estimator:hover {background-color: #d4ebff;}#sk-container-id-1 div.sk-parallel-item::after {content: \"\";width: 100%;border-bottom: 1px solid gray;flex-grow: 1;}#sk-container-id-1 div.sk-label:hover label.sk-toggleable__label {background-color: #d4ebff;}#sk-container-id-1 div.sk-serial::before {content: \"\";position: absolute;border-left: 1px solid gray;box-sizing: border-box;top: 0;bottom: 0;left: 50%;z-index: 0;}#sk-container-id-1 div.sk-serial {display: flex;flex-direction: column;align-items: center;background-color: white;padding-right: 0.2em;padding-left: 0.2em;position: relative;}#sk-container-id-1 div.sk-item {position: relative;z-index: 1;}#sk-container-id-1 div.sk-parallel {display: flex;align-items: stretch;justify-content: center;background-color: white;position: relative;}#sk-container-id-1 div.sk-item::before, #sk-container-id-1 div.sk-parallel-item::before {content: \"\";position: absolute;border-left: 1px solid gray;box-sizing: border-box;top: 0;bottom: 0;left: 50%;z-index: -1;}#sk-container-id-1 div.sk-parallel-item {display: flex;flex-direction: column;z-index: 1;position: relative;background-color: white;}#sk-container-id-1 div.sk-parallel-item:first-child::after {align-self: flex-end;width: 50%;}#sk-container-id-1 div.sk-parallel-item:last-child::after {align-self: flex-start;width: 50%;}#sk-container-id-1 div.sk-parallel-item:only-child::after {width: 0;}#sk-container-id-1 div.sk-dashed-wrapped {border: 1px dashed gray;margin: 0 0.4em 0.5em 0.4em;box-sizing: border-box;padding-bottom: 0.4em;background-color: white;}#sk-container-id-1 div.sk-label label {font-family: monospace;font-weight: bold;display: inline-block;line-height: 1.2em;}#sk-container-id-1 div.sk-label-container {text-align: center;}#sk-container-id-1 div.sk-container {/* jupyter's `normalize.less` sets `[hidden] { display: none; }` but bootstrap.min.css set `[hidden] { display: none !important; }` so we also need the `!important` here to be able to override the default hidden behavior on the sphinx rendered scikit-learn.org. See: https://github.com/scikit-learn/scikit-learn/issues/21755 */display: inline-block !important;position: relative;}#sk-container-id-1 div.sk-text-repr-fallback {display: none;}</style><div id=\"sk-container-id-1\" class=\"sk-top-container\"><div class=\"sk-text-repr-fallback\"><pre>StandardScaler()</pre><b>In a Jupyter environment, please rerun this cell to show the HTML representation or trust the notebook. <br />On GitHub, the HTML representation is unable to render, please try loading this page with nbviewer.org.</b></div><div class=\"sk-container\" hidden><div class=\"sk-item\"><div class=\"sk-estimator sk-toggleable\"><input class=\"sk-toggleable__control sk-hidden--visually\" id=\"sk-estimator-id-1\" type=\"checkbox\" checked><label for=\"sk-estimator-id-1\" class=\"sk-toggleable__label sk-toggleable__label-arrow\">StandardScaler</label><div class=\"sk-toggleable__content\"><pre>StandardScaler()</pre></div></div></div></div></div>"
      ],
      "text/plain": [
       "StandardScaler()"
      ]
     },
     "execution_count": 5,
     "metadata": {},
     "output_type": "execute_result"
    }
   ],
   "source": [
    "from sklearn.preprocessing import StandardScaler\n",
    "scaler = StandardScaler()\n",
    "scaler.fit(data.loc[data[\"Set\"] == \"Training\", FEATURES].values)"
   ]
  },
  {
   "cell_type": "markdown",
   "id": "e996e288-96e8-44e0-8131-ae790eb0dace",
   "metadata": {},
   "source": [
    "## Padding to max length"
   ]
  },
  {
   "cell_type": "code",
   "execution_count": 6,
   "id": "d1f06201-e1ca-43bf-8bbd-8f4c7535267b",
   "metadata": {},
   "outputs": [],
   "source": [
    "id_grouped_data = data.groupby(\"Id\")"
   ]
  },
  {
   "cell_type": "code",
   "execution_count": 7,
   "id": "d70a5569-3843-46ba-9beb-61b8f0207504",
   "metadata": {},
   "outputs": [
    {
     "data": {
      "application/vnd.jupyter.widget-view+json": {
       "model_id": "2f052abed21740d0874be3c7e8a6adb9",
       "version_major": 2,
       "version_minor": 0
      },
      "text/plain": [
       "  0%|          | 0/866517 [00:00<?, ?it/s]"
      ]
     },
     "metadata": {},
     "output_type": "display_data"
    }
   ],
   "source": [
    "from tqdm.notebook import tqdm\n",
    "\n",
    "max_len = 0\n",
    "for id, data_group in tqdm(id_grouped_data):\n",
    "    max_len = max(max_len, data_group.shape[0])"
   ]
  },
  {
   "cell_type": "code",
   "execution_count": 8,
   "id": "fef818a9-caac-4f72-977f-677537e35674",
   "metadata": {},
   "outputs": [],
   "source": [
    "unique_train_ids = data.loc[data[\"Set\"] == \"Training\", \"Id\"].unique()\n",
    "max_train_idx = int(len(unique_train_ids)*.8)\n",
    "val_ids = unique_train_ids[max_train_idx:]"
   ]
  },
  {
   "cell_type": "code",
   "execution_count": 9,
   "id": "97f491cf-ef73-4245-9159-37953f0ae1c4",
   "metadata": {},
   "outputs": [
    {
     "data": {
      "application/vnd.jupyter.widget-view+json": {
       "model_id": "51aa61a1f947440ca80edbdd27589ccb",
       "version_major": 2,
       "version_minor": 0
      },
      "text/plain": [
       "  0%|          | 0/866517 [00:00<?, ?it/s]"
      ]
     },
     "metadata": {},
     "output_type": "display_data"
    }
   ],
   "source": [
    "import numpy as np\n",
    "\n",
    "pad_value = -10.0\n",
    "TRAIN = \"train\"\n",
    "GW = \"gw_test\"\n",
    "TEST = \"test\"\n",
    "VAL = \"val\"\n",
    "\n",
    "features = dict({})\n",
    "features[TRAIN] = []\n",
    "features[VAL] = []\n",
    "features[TEST] = []\n",
    "features[GW] = []\n",
    "\n",
    "labels = dict({})\n",
    "labels[TRAIN] = []\n",
    "labels[VAL] = []\n",
    "labels[TEST] = []\n",
    "labels[GW] = []\n",
    "\n",
    "for id, data_group in tqdm(id_grouped_data):\n",
    "    assert data_group[\"Set\"].unique().shape[0] == 1\n",
    "    assert data_group[\"Center\"].unique().shape[0] == 1\n",
    "\n",
    "    features_scaled = scaler.transform(data_group[FEATURES].values)\n",
    "\n",
    "    padded_features = np.pad(features_scaled, ((0, max_len - data_group.shape[0]), (0,0)), mode='constant', constant_values=pad_value)\n",
    "    padded_labels = np.pad(data_group[LABEL_COLUMN_NAME].values, ((0, max_len - data_group.shape[0])), mode='constant', constant_values=pad_value)\n",
    "    \n",
    "    first_el = data_group.iloc[0, :]\n",
    "    if first_el[\"Set\"] == \"Training\":\n",
    "        if first_el[\"Id\"] in val_ids:\n",
    "            features[VAL].append(padded_features)\n",
    "            labels[VAL].append(padded_labels)\n",
    "            continue\n",
    "        if first_el[\"Id\"] not in val_ids:\n",
    "            features[TRAIN].append(padded_features)\n",
    "            labels[TRAIN].append(padded_labels)\n",
    "            continue\n",
    "    if first_el[\"Set\"] == \"Validation\":\n",
    "        if first_el[\"Center\"] == \"Greifswald\":\n",
    "            features[GW].append(padded_features)\n",
    "            labels[GW].append(padded_labels)\n",
    "            continue\n",
    "        if first_el[\"Center\"] == \"Leipzig\":\n",
    "            features[TEST].append(padded_features)\n",
    "            labels[TEST].append(padded_labels)\n",
    "            continue"
   ]
  },
  {
   "cell_type": "markdown",
   "id": "b2bdac22-9b02-4077-a7f4-4db4a0ab5050",
   "metadata": {},
   "source": [
    "## Seed and hyperparams"
   ]
  },
  {
   "cell_type": "code",
   "execution_count": 10,
   "id": "c08009fa-f788-40d9-9a15-6ad7c5bb44c1",
   "metadata": {},
   "outputs": [],
   "source": [
    "torch.manual_seed(42)\n",
    "n_embd = len(FEATURES)\n",
    "head_size = 16\n",
    "dropout = 0\n",
    "out_dim = 1 #binary \n",
    "device = torch.device(\"cuda:2\") #torch.device(\"cuda:2\") #torch.device(\"cuda:2\")\n",
    "WEIGHT = 664\n",
    "lr = 1e-2\n",
    "wd = 0\n",
    "n_blocks = 2\n",
    "n_heads = 4"
   ]
  },
  {
   "cell_type": "markdown",
   "id": "92127f1f-f8bf-41b7-be8f-aa85d0e3eba3",
   "metadata": {},
   "source": [
    "## Batching "
   ]
  },
  {
   "cell_type": "code",
   "execution_count": 11,
   "id": "270f681d-a1aa-4c29-99aa-b31cd962b9cb",
   "metadata": {},
   "outputs": [],
   "source": [
    "from torch.utils.data import DataLoader\n",
    "from torch.utils.data import Dataset\n",
    "\n",
    "class Data(Dataset):\n",
    "    # Constructor\n",
    "    def __init__(self,X, y):\n",
    "        self.x = X\n",
    "        self.y = y\n",
    "        self.len = self.x.shape[0]\n",
    "\n",
    "    def __getitem__(self, index):\n",
    "        return self.x[index], self.y[index]\n",
    "\n",
    "    def __len__(self):\n",
    "        return self.len"
   ]
  },
  {
   "cell_type": "code",
   "execution_count": 12,
   "id": "455e9028-81aa-4f8f-9e1d-3c8493b21e1b",
   "metadata": {},
   "outputs": [],
   "source": [
    "batch_loader = dict({})"
   ]
  },
  {
   "cell_type": "code",
   "execution_count": 13,
   "id": "98a9c611-0cae-4f7d-983c-6bccab281d6d",
   "metadata": {},
   "outputs": [],
   "source": [
    "def add_loader(set_name):\n",
    "    global bitch_loader, sets, labels\n",
    "    dataset = Data(torch.from_numpy(np.array(features[set_name])).type(torch.float).to(device), torch.from_numpy(np.array(labels[set_name])).type(torch.float).to(device))\n",
    "    loader = DataLoader(dataset=dataset, batch_size=500) #max is 100_000\n",
    "    batch_loader[set_name] = loader"
   ]
  },
  {
   "cell_type": "code",
   "execution_count": 14,
   "id": "5d221dbe-a7c3-414f-a23e-f390f551e609",
   "metadata": {},
   "outputs": [],
   "source": [
    "add_loader(TRAIN)\n",
    "add_loader(VAL)\n",
    "add_loader(GW)\n",
    "add_loader(TEST)"
   ]
  },
  {
   "cell_type": "markdown",
   "id": "4c638073-48af-4513-81f7-87f8729c4e14",
   "metadata": {},
   "source": [
    "## Model"
   ]
  },
  {
   "cell_type": "code",
   "execution_count": 15,
   "id": "1c1e7ff0-892d-462b-8096-d78f851db971",
   "metadata": {},
   "outputs": [],
   "source": [
    "import torch \n",
    "\n",
    "torch.manual_seed(42)\n",
    "class Head(torch.nn.Module):\n",
    "\n",
    "    def __init__(self, n_embd, head_size, dropout):\n",
    "        super(Head, self).__init__()\n",
    "\n",
    "        self.query = torch.nn.Linear(n_embd, head_size, bias=False)\n",
    "        self.key = torch.nn.Linear(n_embd, head_size, bias = False)\n",
    "        self.value = torch.nn.Linear(n_embd, head_size, bias = False)\n",
    "        self.dropout = torch.nn.Dropout(dropout)\n",
    "\n",
    "    def forward(self, x, ignore_mask):\n",
    "        B,T,C = x.shape\n",
    "        \n",
    "        k = self.key(x)\n",
    "        q = self.query(x)\n",
    "        v = self.value(x)\n",
    "\n",
    "        w = q@k.transpose(-2,-1)\n",
    "        w = w* C**-.5\n",
    "        w[ignore_mask] = float(\"-inf\")\n",
    "        w = torch.nan_to_num(torch.softmax(w, dim = -1))\n",
    "        \n",
    "        w = self.dropout(w)    \n",
    "        out = w@v\n",
    "        return out\n",
    "        "
   ]
  },
  {
   "cell_type": "code",
   "execution_count": 16,
   "id": "d97973e4-40a2-4485-bb90-f570737023f4",
   "metadata": {},
   "outputs": [],
   "source": [
    "import torch \n",
    "class MultiHeadAttention(torch.nn.Module):\n",
    "\n",
    "    def __init__(self, n_embd, num_heads, head_size, dropout):\n",
    "        super(MultiHeadAttention, self).__init__()\n",
    "        head_size = n_embd // n_heads\n",
    "        self.heads = torch.nn.ModuleList([Head(n_embd, head_size, dropout) for _ in range(num_heads)])\n",
    "        self.proj = torch.nn.Linear(head_size*num_heads, n_embd)\n",
    "        self.dropout = torch.nn.Dropout(dropout)\n",
    "\n",
    "    def forward(self, x, ignore_mask):\n",
    "        out = torch.cat([h(x, ignore_mask) for h in self.heads], dim = -1)\n",
    "        out = self.proj(out)\n",
    "        out = self.dropout(out)\n",
    "        return out"
   ]
  },
  {
   "cell_type": "code",
   "execution_count": 17,
   "id": "80bcfd44-adf4-49a3-8961-19de38b23af5",
   "metadata": {},
   "outputs": [],
   "source": [
    "class FeedForward(torch.nn.Module):\n",
    "\n",
    "    def __init__(self, n_embd, dropout):\n",
    "        super(FeedForward, self).__init__()\n",
    "        self.lin = torch.nn.Linear(n_embd, 4*n_embd)\n",
    "        self.proj = torch.nn.Linear(4*n_embd, n_embd)\n",
    "        self.dropout = torch.nn.Dropout(dropout)\n",
    "\n",
    "    def forward(self, x):\n",
    "        x = self.lin(x)\n",
    "        x = torch.nn.functional.relu(x)\n",
    "        x = self.proj(x)\n",
    "        x = self.dropout(x)\n",
    "        return x"
   ]
  },
  {
   "cell_type": "code",
   "execution_count": 18,
   "id": "6e49b754-6ee2-4fac-a1a8-6a17a0a3b518",
   "metadata": {},
   "outputs": [],
   "source": [
    "class Block(torch.nn.Module):\n",
    "    def __init__(self, n_embd, n_heads, dropout):\n",
    "        super(Block, self).__init__()\n",
    "        head_size = n_embd // n_heads\n",
    "\n",
    "        self.sa_heads = MultiHeadAttention(n_embd, n_heads, head_size, dropout)\n",
    "        self.ffwd = FeedForward(n_embd, dropout)\n",
    "        self.layer_norm_1 = torch.nn.LayerNorm(n_embd)\n",
    "        self.layer_norm_2 = torch.nn.LayerNorm(n_embd)\n",
    "\n",
    "    def forward(self, x, ignore_mask):\n",
    "        x = x + self.sa_heads(self.layer_norm_1(x), ignore_mask)\n",
    "        x = x + self.ffwd(self.layer_norm_2(x))\n",
    "        return x"
   ]
  },
  {
   "cell_type": "code",
   "execution_count": 19,
   "id": "21724db2-ec23-4f55-8416-315cded98d2d",
   "metadata": {},
   "outputs": [],
   "source": [
    "from torch import nn\n",
    "from torch.nn import functional as F\n",
    "\n",
    "torch.manual_seed(42)\n",
    "class TransformerModel(nn.Module):\n",
    "\n",
    "    def __init__(self, input_dim, n_embd, n_heads, dropout, n_blocks):\n",
    "        super(TransformerModel, self).__init__()\n",
    "\n",
    "        self.pos_embedding_table = nn.Embedding(max_len, n_embd)\n",
    "        \n",
    "        self.block = Block(n_embd, n_heads, dropout)\n",
    "        # self.lm_head = nn.Linear(n_embd, vocab_size)\n",
    "        # self.sa = Head(head_size)\n",
    "        self.lin = nn.Linear(n_embd, out_dim)\n",
    "\n",
    "    def forward(self, x, targets = None):\n",
    "        B, T, C = x.shape\n",
    "        pad_mask = (x != pad_value).type(torch.float)\n",
    "        ignore_mask = torch.bmm(pad_mask, pad_mask.transpose(-2,-1))\n",
    "        ignore_mask = ignore_mask == 0\n",
    "\n",
    "        pos_emb = self.pos_embedding_table(torch.arange(T, device = device))\n",
    "        x = x + pos_emb\n",
    "\n",
    "        x = self.block(x, ignore_mask)\n",
    "        logits = self.lin(x)\n",
    "        logits_mask = ignore_mask.sum(-1) != max_len\n",
    "        \n",
    "        return logits, logits_mask"
   ]
  },
  {
   "cell_type": "markdown",
   "id": "40c075cc-1333-4706-85ed-11b6ab0e3acc",
   "metadata": {},
   "source": [
    "## Evaluate"
   ]
  },
  {
   "cell_type": "code",
   "execution_count": 20,
   "id": "aad2bf23-22df-4204-ae11-8ff78ae5f4c8",
   "metadata": {},
   "outputs": [],
   "source": [
    "def evaluate_loss(model, set_name):\n",
    "    with torch.inference_mode():\n",
    "        model.eval()\n",
    "        acc_loss = 0\n",
    "        batch_size = 0\n",
    "\n",
    "        for i, (x,y) in enumerate(batch_loader[set_name]):\n",
    "            B,_,_ = x.shape\n",
    "            logits, logits_mask = model(x)\n",
    "        \n",
    "            loss = torch.nn.functional.binary_cross_entropy_with_logits(logits[logits_mask].squeeze(-1), y[logits_mask], pos_weight=torch.tensor(WEIGHT))\n",
    "            acc_loss += loss.item()\n",
    "            batch_size += B\n",
    "    return acc_loss / batch_size        "
   ]
  },
  {
   "cell_type": "code",
   "execution_count": 21,
   "id": "c607fedb-b8e6-4104-a818-778d1f00be6f",
   "metadata": {},
   "outputs": [],
   "source": [
    "def evaluate_loss_sets(model):\n",
    "    losses = dict({})\n",
    "    for set_name in features.keys():\n",
    "        # if set_name != VAL:\n",
    "        #     continue\n",
    "        loss = evaluate_loss(model, set_name)\n",
    "        losses[set_name] = loss\n",
    "        print(f\"Loss of {set_name}: {loss:.5f}\") \n",
    "    return losses\n",
    "        "
   ]
  },
  {
   "cell_type": "code",
   "execution_count": 22,
   "id": "1bb27c79-5e05-4180-8181-b2be847ca22d",
   "metadata": {},
   "outputs": [],
   "source": [
    "from sklearn.metrics import roc_auc_score, accuracy_score\n",
    "\n",
    "def evaluate_auroc(model, set_name):\n",
    "    with torch.inference_mode():\n",
    "        model.eval()\n",
    "        \n",
    "        logits_list = []\n",
    "        label_list = []\n",
    "\n",
    "        batch_size = 0\n",
    "        for i, (x,y) in enumerate(batch_loader[set_name]):\n",
    "            B,_,_ = x.shape\n",
    "            logits, logits_mask = model(x)\n",
    "\n",
    "            logits_list.extend(logits[logits_mask].squeeze(-1).tolist())\n",
    "            label_list.extend(y[logits_mask].squeeze(-1).tolist())\n",
    "            batch_size += B\n",
    "    auroc = roc_auc_score(np.array(label_list), torch.sigmoid(torch.tensor(logits_list)).numpy())\n",
    "    return auroc        "
   ]
  },
  {
   "cell_type": "code",
   "execution_count": 23,
   "id": "82d13cdd-c7c2-404b-80be-e31f4362e349",
   "metadata": {},
   "outputs": [],
   "source": [
    "def evaluate_auroc_sets(model):\n",
    "    for set_name in features.keys():\n",
    "        if set_name == TRAIN:\n",
    "            continue\n",
    "        auroc = evaluate_auroc(model, set_name)\n",
    "        print(f\"AUROC of {set_name}: {auroc:.5f}\")"
   ]
  },
  {
   "cell_type": "markdown",
   "id": "e59ef05b-7e7a-4a86-8f8e-31b46d9207c2",
   "metadata": {},
   "source": [
    "## Train"
   ]
  },
  {
   "cell_type": "code",
   "execution_count": 44,
   "id": "e2e6f14e-bba3-4066-9aa8-5e8b36d55f93",
   "metadata": {},
   "outputs": [],
   "source": [
    "torch.manual_seed(42)\n",
    "input_dim, n_embd, n_heads, dropout, n_blocks = len(FEATURES), len(FEATURES), 4, 0.0, 1\n",
    "model = TransformerModel(input_dim, n_embd, n_heads, dropout, n_blocks).to(device)\n",
    "optim= torch.optim.Adam(model.parameters(), lr = 0.006700000000000001, weight_decay=0.0001)"
   ]
  },
  {
   "cell_type": "code",
   "execution_count": 45,
   "id": "fbfb5f8e-7250-4872-a7cc-fe0e6780d6d4",
   "metadata": {},
   "outputs": [],
   "source": [
    "# torch.manual_seed(42)\n",
    "# evaluate_auroc_sets(TransformerModel(input_dim, n_embd, n_heads, dropout, n_blocks).to(device))"
   ]
  },
  {
   "cell_type": "code",
   "execution_count": 48,
   "id": "18781ac1-dfc7-4784-b8a6-e8159f74fe5d",
   "metadata": {},
   "outputs": [
    {
     "name": "stdout",
     "output_type": "stream",
     "text": [
      "Loss of train: 0.00311\n",
      "Loss of val: 0.00322\n",
      "Loss of test: 0.00285\n",
      "Loss of gw_test: 0.00246\n"
     ]
    },
    {
     "data": {
      "application/vnd.jupyter.widget-view+json": {
       "model_id": "866764eb15784f879da1ceacf827dd8b",
       "version_major": 2,
       "version_minor": 0
      },
      "text/plain": [
       "  0%|          | 0/100 [00:00<?, ?it/s]"
      ]
     },
     "metadata": {},
     "output_type": "display_data"
    },
    {
     "data": {
      "application/vnd.jupyter.widget-view+json": {
       "model_id": "3b7598a5fc014b5e8317cd72a658f8de",
       "version_major": 2,
       "version_minor": 0
      },
      "text/plain": [
       "0it [00:00, ?it/s]"
      ]
     },
     "metadata": {},
     "output_type": "display_data"
    },
    {
     "name": "stdout",
     "output_type": "stream",
     "text": [
      "Loss of train: 0.00158\n",
      "Loss of val: 0.00172\n",
      "Loss of test: 0.00155\n",
      "Loss of gw_test: 0.00152\n"
     ]
    },
    {
     "data": {
      "application/vnd.jupyter.widget-view+json": {
       "model_id": "7915477e479443cba1a2c0ca25d32362",
       "version_major": 2,
       "version_minor": 0
      },
      "text/plain": [
       "0it [00:00, ?it/s]"
      ]
     },
     "metadata": {},
     "output_type": "display_data"
    },
    {
     "name": "stdout",
     "output_type": "stream",
     "text": [
      "Loss of train: 0.00149\n",
      "Loss of val: 0.00167\n",
      "Loss of test: 0.00149\n",
      "Loss of gw_test: 0.00144\n"
     ]
    },
    {
     "data": {
      "application/vnd.jupyter.widget-view+json": {
       "model_id": "e435d7a52dc445cc9aae356519c5b6bf",
       "version_major": 2,
       "version_minor": 0
      },
      "text/plain": [
       "0it [00:00, ?it/s]"
      ]
     },
     "metadata": {},
     "output_type": "display_data"
    },
    {
     "name": "stdout",
     "output_type": "stream",
     "text": [
      "Loss of train: 0.00142\n",
      "Loss of val: 0.00162\n",
      "Loss of test: 0.00145\n",
      "Loss of gw_test: 0.00138\n"
     ]
    },
    {
     "data": {
      "application/vnd.jupyter.widget-view+json": {
       "model_id": "cd9c7dc188054c2da33edf84248cb49d",
       "version_major": 2,
       "version_minor": 0
      },
      "text/plain": [
       "0it [00:00, ?it/s]"
      ]
     },
     "metadata": {},
     "output_type": "display_data"
    },
    {
     "name": "stdout",
     "output_type": "stream",
     "text": [
      "Loss of train: 0.00138\n",
      "Loss of val: 0.00161\n",
      "Loss of test: 0.00142\n",
      "Loss of gw_test: 0.00136\n"
     ]
    },
    {
     "data": {
      "application/vnd.jupyter.widget-view+json": {
       "model_id": "3e8359447aab4c5990248716993c64fa",
       "version_major": 2,
       "version_minor": 0
      },
      "text/plain": [
       "0it [00:00, ?it/s]"
      ]
     },
     "metadata": {},
     "output_type": "display_data"
    },
    {
     "name": "stdout",
     "output_type": "stream",
     "text": [
      "Loss of train: 0.00135\n",
      "Loss of val: 0.00159\n",
      "Loss of test: 0.00141\n",
      "Loss of gw_test: 0.00133\n"
     ]
    },
    {
     "data": {
      "application/vnd.jupyter.widget-view+json": {
       "model_id": "616895ef42af4053849aeb84419335b1",
       "version_major": 2,
       "version_minor": 0
      },
      "text/plain": [
       "0it [00:00, ?it/s]"
      ]
     },
     "metadata": {},
     "output_type": "display_data"
    },
    {
     "name": "stdout",
     "output_type": "stream",
     "text": [
      "Loss of train: 0.00133\n",
      "Loss of val: 0.00158\n",
      "Loss of test: 0.00142\n",
      "Loss of gw_test: 0.00134\n"
     ]
    },
    {
     "data": {
      "application/vnd.jupyter.widget-view+json": {
       "model_id": "173d43478bc64b8e99ac31f98bf8a040",
       "version_major": 2,
       "version_minor": 0
      },
      "text/plain": [
       "0it [00:00, ?it/s]"
      ]
     },
     "metadata": {},
     "output_type": "display_data"
    },
    {
     "name": "stdout",
     "output_type": "stream",
     "text": [
      "Loss of train: 0.00131\n",
      "Loss of val: 0.00155\n",
      "Loss of test: 0.00140\n",
      "Loss of gw_test: 0.00133\n"
     ]
    },
    {
     "data": {
      "application/vnd.jupyter.widget-view+json": {
       "model_id": "8d63ac38c28e48d186c96e92462bf9a8",
       "version_major": 2,
       "version_minor": 0
      },
      "text/plain": [
       "0it [00:00, ?it/s]"
      ]
     },
     "metadata": {},
     "output_type": "display_data"
    },
    {
     "name": "stdout",
     "output_type": "stream",
     "text": [
      "Loss of train: 0.00130\n",
      "Loss of val: 0.00155\n",
      "Loss of test: 0.00142\n",
      "Loss of gw_test: 0.00134\n"
     ]
    },
    {
     "data": {
      "application/vnd.jupyter.widget-view+json": {
       "model_id": "a063e62b409c4e9484560a529ee1b150",
       "version_major": 2,
       "version_minor": 0
      },
      "text/plain": [
       "0it [00:00, ?it/s]"
      ]
     },
     "metadata": {},
     "output_type": "display_data"
    },
    {
     "name": "stdout",
     "output_type": "stream",
     "text": [
      "Loss of train: 0.00128\n",
      "Loss of val: 0.00158\n",
      "Loss of test: 0.00140\n",
      "Loss of gw_test: 0.00134\n",
      "8\n"
     ]
    }
   ],
   "source": [
    "torch.manual_seed(42)\n",
    "\n",
    "evaluate_loss_sets(model)\n",
    "last_val_loss = None\n",
    "for epoch in tqdm(range(100)):#5\n",
    "    for i, (x,y) in tqdm(enumerate(batch_loader[TRAIN])):\n",
    "        model.train()\n",
    "        optim.zero_grad()\n",
    "        \n",
    "        logits, logits_mask = model(x)\n",
    "        loss = torch.nn.functional.binary_cross_entropy_with_logits(logits[logits_mask].squeeze(-1), y[logits_mask], pos_weight=torch.tensor(WEIGHT))\n",
    "            \n",
    "        loss.backward()\n",
    "        optim.step()\n",
    "    losses = evaluate_loss_sets(model)\n",
    "    if last_val_loss and last_val_loss <= losses[VAL]:\n",
    "        print(epoch)\n",
    "        break\n",
    "    last_val_loss = losses[VAL]"
   ]
  },
  {
   "cell_type": "code",
   "execution_count": 49,
   "id": "ee88475f-5a55-4ecf-b1aa-8a105a39e15c",
   "metadata": {},
   "outputs": [
    {
     "name": "stdout",
     "output_type": "stream",
     "text": [
      "AUROC of val: 0.91647\n",
      "AUROC of test: 0.91847\n",
      "AUROC of gw_test: 0.90418\n"
     ]
    }
   ],
   "source": [
    "torch.manual_seed(42)\n",
    "evaluate_auroc_sets(model) ##removed pos awareness"
   ]
  },
  {
   "cell_type": "code",
   "execution_count": 68,
   "id": "5ffd5166-0380-4c68-9732-8f2dd38b79d2",
   "metadata": {},
   "outputs": [
    {
     "name": "stdout",
     "output_type": "stream",
     "text": [
      "+-------------------------------------+------------+\n",
      "|               Modules               | Parameters |\n",
      "+-------------------------------------+------------+\n",
      "|      pos_embedding_table.weight     |    2912    |\n",
      "| block.sa_heads.heads.0.query.weight |     7      |\n",
      "|  block.sa_heads.heads.0.key.weight  |     7      |\n",
      "| block.sa_heads.heads.0.value.weight |     7      |\n",
      "| block.sa_heads.heads.1.query.weight |     7      |\n",
      "|  block.sa_heads.heads.1.key.weight  |     7      |\n",
      "| block.sa_heads.heads.1.value.weight |     7      |\n",
      "| block.sa_heads.heads.2.query.weight |     7      |\n",
      "|  block.sa_heads.heads.2.key.weight  |     7      |\n",
      "| block.sa_heads.heads.2.value.weight |     7      |\n",
      "| block.sa_heads.heads.3.query.weight |     7      |\n",
      "|  block.sa_heads.heads.3.key.weight  |     7      |\n",
      "| block.sa_heads.heads.3.value.weight |     7      |\n",
      "|      block.sa_heads.proj.weight     |     28     |\n",
      "|       block.sa_heads.proj.bias      |     7      |\n",
      "|        block.ffwd.lin.weight        |    196     |\n",
      "|         block.ffwd.lin.bias         |     28     |\n",
      "|        block.ffwd.proj.weight       |    196     |\n",
      "|         block.ffwd.proj.bias        |     7      |\n",
      "|      block.layer_norm_1.weight      |     7      |\n",
      "|       block.layer_norm_1.bias       |     7      |\n",
      "|      block.layer_norm_2.weight      |     7      |\n",
      "|       block.layer_norm_2.bias       |     7      |\n",
      "|              lin.weight             |     7      |\n",
      "|               lin.bias              |     1      |\n",
      "+-------------------------------------+------------+\n",
      "Total Trainable Params: 3494\n"
     ]
    },
    {
     "data": {
      "text/plain": [
       "3494"
      ]
     },
     "execution_count": 68,
     "metadata": {},
     "output_type": "execute_result"
    }
   ],
   "source": [
    "from prettytable import PrettyTable\n",
    "def count_parameters(model):\n",
    "    table = PrettyTable([\"Modules\", \"Parameters\"])\n",
    "    total_params = 0\n",
    "    for name, parameter in model.named_parameters():\n",
    "        if not parameter.requires_grad: continue\n",
    "        params = parameter.numel()\n",
    "        table.add_row([name, params])\n",
    "        total_params+=params\n",
    "    print(table)\n",
    "    print(f\"Total Trainable Params: {total_params}\")\n",
    "    return total_params\n",
    "count_parameters(model)"
   ]
  },
  {
   "cell_type": "code",
   "execution_count": 39,
   "id": "f9449be1-2697-46e9-be92-20795ccc6861",
   "metadata": {},
   "outputs": [
    {
     "data": {
      "application/vnd.jupyter.widget-view+json": {
       "model_id": "c08c3d2eee164f4590d40ed06c14ddfb",
       "version_major": 2,
       "version_minor": 0
      },
      "text/plain": [
       "0it [00:00, ?it/s]"
      ]
     },
     "metadata": {},
     "output_type": "display_data"
    },
    {
     "data": {
      "application/vnd.jupyter.widget-view+json": {
       "model_id": "04a2b038e68a4005aa06ce2372629b51",
       "version_major": 2,
       "version_minor": 0
      },
      "text/plain": [
       "0it [00:00, ?it/s]"
      ]
     },
     "metadata": {},
     "output_type": "display_data"
    },
    {
     "name": "stdout",
     "output_type": "stream",
     "text": [
      "Loss of train: 0.00280\n",
      "Loss of val: 0.00289\n",
      "Loss of test: 0.00262\n",
      "Loss of gw_test: 0.00236\n",
      "[0.0028867754745611615]\n"
     ]
    },
    {
     "data": {
      "application/vnd.jupyter.widget-view+json": {
       "model_id": "4c641ea2dde74e368ac5021be887aa8a",
       "version_major": 2,
       "version_minor": 0
      },
      "text/plain": [
       "0it [00:00, ?it/s]"
      ]
     },
     "metadata": {},
     "output_type": "display_data"
    },
    {
     "name": "stdout",
     "output_type": "stream",
     "text": [
      "Loss of train: 0.00264\n",
      "Loss of val: 0.00271\n",
      "Loss of test: 0.00250\n",
      "Loss of gw_test: 0.00232\n",
      "[0.0028867754745611615, 0.0027129774312766885]\n"
     ]
    },
    {
     "data": {
      "application/vnd.jupyter.widget-view+json": {
       "model_id": "c5ca9cad99e245979cdaf3904cbc0e03",
       "version_major": 2,
       "version_minor": 0
      },
      "text/plain": [
       "0it [00:00, ?it/s]"
      ]
     },
     "metadata": {},
     "output_type": "display_data"
    },
    {
     "name": "stdout",
     "output_type": "stream",
     "text": [
      "Loss of train: 0.00253\n",
      "Loss of val: 0.00260\n",
      "Loss of test: 0.00242\n",
      "Loss of gw_test: 0.00230\n",
      "[0.0028867754745611615, 0.0027129774312766885, 0.002596987435310751]\n"
     ]
    },
    {
     "data": {
      "application/vnd.jupyter.widget-view+json": {
       "model_id": "86b66a1ba8874344be2e742f14c62877",
       "version_major": 2,
       "version_minor": 0
      },
      "text/plain": [
       "0it [00:00, ?it/s]"
      ]
     },
     "metadata": {},
     "output_type": "display_data"
    },
    {
     "name": "stdout",
     "output_type": "stream",
     "text": [
      "Loss of train: 0.00243\n",
      "Loss of val: 0.00251\n",
      "Loss of test: 0.00234\n",
      "Loss of gw_test: 0.00227\n",
      "[0.0028867754745611615, 0.0027129774312766885, 0.002596987435310751, 0.002506482601842962]\n"
     ]
    },
    {
     "data": {
      "application/vnd.jupyter.widget-view+json": {
       "model_id": "38b1624416764e6d834fd7e79a99fe3c",
       "version_major": 2,
       "version_minor": 0
      },
      "text/plain": [
       "0it [00:00, ?it/s]"
      ]
     },
     "metadata": {},
     "output_type": "display_data"
    },
    {
     "name": "stdout",
     "output_type": "stream",
     "text": [
      "Loss of train: 0.00235\n",
      "Loss of val: 0.00243\n",
      "Loss of test: 0.00228\n",
      "Loss of gw_test: 0.00224\n",
      "[0.0028867754745611615, 0.0027129774312766885, 0.002596987435310751, 0.002506482601842962, 0.0024270470293987533]\n"
     ]
    },
    {
     "data": {
      "application/vnd.jupyter.widget-view+json": {
       "model_id": "6047ef14c0c642c4abe6c0201dacbe6f",
       "version_major": 2,
       "version_minor": 0
      },
      "text/plain": [
       "0it [00:00, ?it/s]"
      ]
     },
     "metadata": {},
     "output_type": "display_data"
    },
    {
     "name": "stdout",
     "output_type": "stream",
     "text": [
      "Loss of train: 0.00228\n",
      "Loss of val: 0.00236\n",
      "Loss of test: 0.00221\n",
      "Loss of gw_test: 0.00221\n",
      "[0.0028867754745611615, 0.0027129774312766885, 0.002596987435310751, 0.002506482601842962, 0.0024270470293987533, 0.0023565199368809566]\n"
     ]
    },
    {
     "data": {
      "application/vnd.jupyter.widget-view+json": {
       "model_id": "a1a4076b460249f7beb64e15285a5aef",
       "version_major": 2,
       "version_minor": 0
      },
      "text/plain": [
       "0it [00:00, ?it/s]"
      ]
     },
     "metadata": {},
     "output_type": "display_data"
    },
    {
     "name": "stdout",
     "output_type": "stream",
     "text": [
      "Loss of train: 0.00222\n",
      "Loss of val: 0.00230\n",
      "Loss of test: 0.00216\n",
      "Loss of gw_test: 0.00219\n",
      "[0.0028867754745611615, 0.0027129774312766885, 0.002596987435310751, 0.002506482601842962, 0.0024270470293987533, 0.0023565199368809566, 0.0022950342839391335]\n"
     ]
    },
    {
     "data": {
      "application/vnd.jupyter.widget-view+json": {
       "model_id": "c45c9cc0a7a14ea6b1b9fb7b66fdfea5",
       "version_major": 2,
       "version_minor": 0
      },
      "text/plain": [
       "0it [00:00, ?it/s]"
      ]
     },
     "metadata": {},
     "output_type": "display_data"
    },
    {
     "name": "stdout",
     "output_type": "stream",
     "text": [
      "Loss of train: 0.00216\n",
      "Loss of val: 0.00224\n",
      "Loss of test: 0.00211\n",
      "Loss of gw_test: 0.00216\n",
      "[0.0028867754745611615, 0.0027129774312766885, 0.002596987435310751, 0.002506482601842962, 0.0024270470293987533, 0.0023565199368809566, 0.0022950342839391335, 0.002242805362520868]\n"
     ]
    },
    {
     "data": {
      "application/vnd.jupyter.widget-view+json": {
       "model_id": "453ad789aeda4f988e4702143f6dc5e6",
       "version_major": 2,
       "version_minor": 0
      },
      "text/plain": [
       "0it [00:00, ?it/s]"
      ]
     },
     "metadata": {},
     "output_type": "display_data"
    },
    {
     "name": "stdout",
     "output_type": "stream",
     "text": [
      "Loss of train: 0.00211\n",
      "Loss of val: 0.00220\n",
      "Loss of test: 0.00207\n",
      "Loss of gw_test: 0.00213\n",
      "[0.0028867754745611615, 0.0027129774312766885, 0.002596987435310751, 0.002506482601842962, 0.0024270470293987533, 0.0023565199368809566, 0.0022950342839391335, 0.002242805362520868, 0.0021991507363785983]\n"
     ]
    },
    {
     "data": {
      "application/vnd.jupyter.widget-view+json": {
       "model_id": "4d994316c3ff4c36b9780608f2aa37fe",
       "version_major": 2,
       "version_minor": 0
      },
      "text/plain": [
       "0it [00:00, ?it/s]"
      ]
     },
     "metadata": {},
     "output_type": "display_data"
    },
    {
     "name": "stdout",
     "output_type": "stream",
     "text": [
      "Loss of train: 0.00208\n",
      "Loss of val: 0.00216\n",
      "Loss of test: 0.00203\n",
      "Loss of gw_test: 0.00212\n",
      "[0.0028867754745611615, 0.0027129774312766885, 0.002596987435310751, 0.002506482601842962, 0.0024270470293987533, 0.0023565199368809566, 0.0022950342839391335, 0.002242805362520868, 0.0021991507363785983, 0.0021637392253319354]\n"
     ]
    },
    {
     "data": {
      "application/vnd.jupyter.widget-view+json": {
       "model_id": "b50188c697f94e34bbca22e0b138020a",
       "version_major": 2,
       "version_minor": 0
      },
      "text/plain": [
       "0it [00:00, ?it/s]"
      ]
     },
     "metadata": {},
     "output_type": "display_data"
    },
    {
     "name": "stdout",
     "output_type": "stream",
     "text": [
      "Loss of train: 0.00205\n",
      "Loss of val: 0.00214\n",
      "Loss of test: 0.00201\n",
      "Loss of gw_test: 0.00210\n",
      "[0.0028867754745611615, 0.0027129774312766885, 0.002596987435310751, 0.002506482601842962, 0.0024270470293987533, 0.0023565199368809566, 0.0022950342839391335, 0.002242805362520868, 0.0021991507363785983, 0.0021637392253319354, 0.002137369776594656]\n"
     ]
    },
    {
     "data": {
      "application/vnd.jupyter.widget-view+json": {
       "model_id": "13e4dfac16f64d1d804835e213e9a897",
       "version_major": 2,
       "version_minor": 0
      },
      "text/plain": [
       "0it [00:00, ?it/s]"
      ]
     },
     "metadata": {},
     "output_type": "display_data"
    },
    {
     "name": "stdout",
     "output_type": "stream",
     "text": [
      "Loss of train: 0.00202\n",
      "Loss of val: 0.00211\n",
      "Loss of test: 0.00198\n",
      "Loss of gw_test: 0.00208\n",
      "[0.0028867754745611615, 0.0027129774312766885, 0.002596987435310751, 0.002506482601842962, 0.0024270470293987533, 0.0023565199368809566, 0.0022950342839391335, 0.002242805362520868, 0.0021991507363785983, 0.0021637392253319354, 0.002137369776594656, 0.0021149837968814935]\n"
     ]
    },
    {
     "data": {
      "application/vnd.jupyter.widget-view+json": {
       "model_id": "4fe80c3f434e4465ab788b89f6747930",
       "version_major": 2,
       "version_minor": 0
      },
      "text/plain": [
       "0it [00:00, ?it/s]"
      ]
     },
     "metadata": {},
     "output_type": "display_data"
    },
    {
     "name": "stdout",
     "output_type": "stream",
     "text": [
      "Loss of train: 0.00200\n",
      "Loss of val: 0.00209\n",
      "Loss of test: 0.00196\n",
      "Loss of gw_test: 0.00206\n",
      "[0.0028867754745611615, 0.0027129774312766885, 0.002596987435310751, 0.002506482601842962, 0.0024270470293987533, 0.0023565199368809566, 0.0022950342839391335, 0.002242805362520868, 0.0021991507363785983, 0.0021637392253319354, 0.002137369776594656, 0.0021149837968814935, 0.002093183428105238]\n"
     ]
    },
    {
     "data": {
      "application/vnd.jupyter.widget-view+json": {
       "model_id": "7652c9d4b3104105a69112399aa774d1",
       "version_major": 2,
       "version_minor": 0
      },
      "text/plain": [
       "0it [00:00, ?it/s]"
      ]
     },
     "metadata": {},
     "output_type": "display_data"
    },
    {
     "name": "stdout",
     "output_type": "stream",
     "text": [
      "Loss of train: 0.00197\n",
      "Loss of val: 0.00207\n",
      "Loss of test: 0.00194\n",
      "Loss of gw_test: 0.00205\n",
      "[0.0028867754745611615, 0.0027129774312766885, 0.002596987435310751, 0.002506482601842962, 0.0024270470293987533, 0.0023565199368809566, 0.0022950342839391335, 0.002242805362520868, 0.0021991507363785983, 0.0021637392253319354, 0.002137369776594656, 0.0021149837968814935, 0.002093183428105238, 0.002074052560575596]\n"
     ]
    },
    {
     "data": {
      "application/vnd.jupyter.widget-view+json": {
       "model_id": "9abe34011e5a468790fd1d14cfde8b1d",
       "version_major": 2,
       "version_minor": 0
      },
      "text/plain": [
       "0it [00:00, ?it/s]"
      ]
     },
     "metadata": {},
     "output_type": "display_data"
    },
    {
     "name": "stdout",
     "output_type": "stream",
     "text": [
      "Loss of train: 0.00196\n",
      "Loss of val: 0.00206\n",
      "Loss of test: 0.00193\n",
      "Loss of gw_test: 0.00204\n",
      "[0.0028867754745611615, 0.0027129774312766885, 0.002596987435310751, 0.002506482601842962, 0.0024270470293987533, 0.0023565199368809566, 0.0022950342839391335, 0.002242805362520868, 0.0021991507363785983, 0.0021637392253319354, 0.002137369776594656, 0.0021149837968814935, 0.002093183428105238, 0.002074052560575596, 0.002056832188358871]\n"
     ]
    },
    {
     "data": {
      "application/vnd.jupyter.widget-view+json": {
       "model_id": "09c2dfdce7c04fa399e525114d314b34",
       "version_major": 2,
       "version_minor": 0
      },
      "text/plain": [
       "0it [00:00, ?it/s]"
      ]
     },
     "metadata": {},
     "output_type": "display_data"
    },
    {
     "name": "stdout",
     "output_type": "stream",
     "text": [
      "Loss of train: 0.00194\n",
      "Loss of val: 0.00204\n",
      "Loss of test: 0.00191\n",
      "Loss of gw_test: 0.00203\n",
      "[0.0028867754745611615, 0.0027129774312766885, 0.002596987435310751, 0.002506482601842962, 0.0024270470293987533, 0.0023565199368809566, 0.0022950342839391335, 0.002242805362520868, 0.0021991507363785983, 0.0021637392253319354, 0.002137369776594656, 0.0021149837968814935, 0.002093183428105238, 0.002074052560575596, 0.002056832188358871, 0.0020389537864167902]\n"
     ]
    },
    {
     "data": {
      "application/vnd.jupyter.widget-view+json": {
       "model_id": "8bebb925950b4e0db289ddae4d4d014b",
       "version_major": 2,
       "version_minor": 0
      },
      "text/plain": [
       "0it [00:00, ?it/s]"
      ]
     },
     "metadata": {},
     "output_type": "display_data"
    },
    {
     "name": "stdout",
     "output_type": "stream",
     "text": [
      "Loss of train: 0.00192\n",
      "Loss of val: 0.00203\n",
      "Loss of test: 0.00189\n",
      "Loss of gw_test: 0.00200\n",
      "[0.0028867754745611615, 0.0027129774312766885, 0.002596987435310751, 0.002506482601842962, 0.0024270470293987533, 0.0023565199368809566, 0.0022950342839391335, 0.002242805362520868, 0.0021991507363785983, 0.0021637392253319354, 0.002137369776594656, 0.0021149837968814935, 0.002093183428105238, 0.002074052560575596, 0.002056832188358871, 0.0020389537864167902, 0.0020276290306005854]\n"
     ]
    },
    {
     "data": {
      "application/vnd.jupyter.widget-view+json": {
       "model_id": "baf14a7da53f4b01a2922dde482b7b48",
       "version_major": 2,
       "version_minor": 0
      },
      "text/plain": [
       "0it [00:00, ?it/s]"
      ]
     },
     "metadata": {},
     "output_type": "display_data"
    },
    {
     "name": "stdout",
     "output_type": "stream",
     "text": [
      "Loss of train: 0.00191\n",
      "Loss of val: 0.00202\n",
      "Loss of test: 0.00188\n",
      "Loss of gw_test: 0.00200\n",
      "[0.0028867754745611615, 0.0027129774312766885, 0.002596987435310751, 0.002506482601842962, 0.0024270470293987533, 0.0023565199368809566, 0.0022950342839391335, 0.002242805362520868, 0.0021991507363785983, 0.0021637392253319354, 0.002137369776594656, 0.0021149837968814935, 0.002093183428105238, 0.002074052560575596, 0.002056832188358871, 0.0020389537864167902, 0.0020276290306005854, 0.002015059634983467]\n"
     ]
    },
    {
     "data": {
      "application/vnd.jupyter.widget-view+json": {
       "model_id": "f50bd5de3bae4024a001b2f05366a2b4",
       "version_major": 2,
       "version_minor": 0
      },
      "text/plain": [
       "0it [00:00, ?it/s]"
      ]
     },
     "metadata": {},
     "output_type": "display_data"
    },
    {
     "name": "stdout",
     "output_type": "stream",
     "text": [
      "Loss of train: 0.00190\n",
      "Loss of val: 0.00200\n",
      "Loss of test: 0.00187\n",
      "Loss of gw_test: 0.00198\n",
      "[0.0028867754745611615, 0.0027129774312766885, 0.002596987435310751, 0.002506482601842962, 0.0024270470293987533, 0.0023565199368809566, 0.0022950342839391335, 0.002242805362520868, 0.0021991507363785983, 0.0021637392253319354, 0.002137369776594656, 0.0021149837968814935, 0.002093183428105238, 0.002074052560575596, 0.002056832188358871, 0.0020389537864167902, 0.0020276290306005854, 0.002015059634983467, 0.0020015590850313318]\n"
     ]
    },
    {
     "data": {
      "application/vnd.jupyter.widget-view+json": {
       "model_id": "c15f519a0e9945b983fee9d721185ba5",
       "version_major": 2,
       "version_minor": 0
      },
      "text/plain": [
       "0it [00:00, ?it/s]"
      ]
     },
     "metadata": {},
     "output_type": "display_data"
    },
    {
     "name": "stdout",
     "output_type": "stream",
     "text": [
      "Loss of train: 0.00188\n",
      "Loss of val: 0.00199\n",
      "Loss of test: 0.00186\n",
      "Loss of gw_test: 0.00198\n",
      "[0.0028867754745611615, 0.0027129774312766885, 0.002596987435310751, 0.002506482601842962, 0.0024270470293987533, 0.0023565199368809566, 0.0022950342839391335, 0.002242805362520868, 0.0021991507363785983, 0.0021637392253319354, 0.002137369776594656, 0.0021149837968814935, 0.002093183428105238, 0.002074052560575596, 0.002056832188358871, 0.0020389537864167902, 0.0020276290306005854, 0.002015059634983467, 0.0020015590850313318, 0.001990055379842633]\n"
     ]
    },
    {
     "data": {
      "application/vnd.jupyter.widget-view+json": {
       "model_id": "dfe9f50fdd0741b2a3b01db3c8f83e05",
       "version_major": 2,
       "version_minor": 0
      },
      "text/plain": [
       "0it [00:00, ?it/s]"
      ]
     },
     "metadata": {},
     "output_type": "display_data"
    },
    {
     "name": "stdout",
     "output_type": "stream",
     "text": [
      "Loss of train: 0.00187\n",
      "Loss of val: 0.00198\n",
      "Loss of test: 0.00185\n",
      "Loss of gw_test: 0.00196\n",
      "[0.0028867754745611615, 0.0027129774312766885, 0.002596987435310751, 0.002506482601842962, 0.0024270470293987533, 0.0023565199368809566, 0.0022950342839391335, 0.002242805362520868, 0.0021991507363785983, 0.0021637392253319354, 0.002137369776594656, 0.0021149837968814935, 0.002093183428105238, 0.002074052560575596, 0.002056832188358871, 0.0020389537864167902, 0.0020276290306005854, 0.002015059634983467, 0.0020015590850313318, 0.001990055379842633, 0.001979727906611314]\n"
     ]
    },
    {
     "data": {
      "application/vnd.jupyter.widget-view+json": {
       "model_id": "fbfbbe609509420282f7219521d9fee1",
       "version_major": 2,
       "version_minor": 0
      },
      "text/plain": [
       "0it [00:00, ?it/s]"
      ]
     },
     "metadata": {},
     "output_type": "display_data"
    },
    {
     "name": "stdout",
     "output_type": "stream",
     "text": [
      "Loss of train: 0.00186\n",
      "Loss of val: 0.00197\n",
      "Loss of test: 0.00184\n",
      "Loss of gw_test: 0.00196\n",
      "[0.0028867754745611615, 0.0027129774312766885, 0.002596987435310751, 0.002506482601842962, 0.0024270470293987533, 0.0023565199368809566, 0.0022950342839391335, 0.002242805362520868, 0.0021991507363785983, 0.0021637392253319354, 0.002137369776594656, 0.0021149837968814935, 0.002093183428105238, 0.002074052560575596, 0.002056832188358871, 0.0020389537864167902, 0.0020276290306005854, 0.002015059634983467, 0.0020015590850313318, 0.001990055379842633, 0.001979727906611314, 0.0019705542644287066]\n"
     ]
    },
    {
     "data": {
      "application/vnd.jupyter.widget-view+json": {
       "model_id": "9cae1e98844d433c86b9b8d69b15e099",
       "version_major": 2,
       "version_minor": 0
      },
      "text/plain": [
       "0it [00:00, ?it/s]"
      ]
     },
     "metadata": {},
     "output_type": "display_data"
    },
    {
     "name": "stdout",
     "output_type": "stream",
     "text": [
      "Loss of train: 0.00185\n",
      "Loss of val: 0.00196\n",
      "Loss of test: 0.00183\n",
      "Loss of gw_test: 0.00195\n",
      "[0.0028867754745611615, 0.0027129774312766885, 0.002596987435310751, 0.002506482601842962, 0.0024270470293987533, 0.0023565199368809566, 0.0022950342839391335, 0.002242805362520868, 0.0021991507363785983, 0.0021637392253319354, 0.002137369776594656, 0.0021149837968814935, 0.002093183428105238, 0.002074052560575596, 0.002056832188358871, 0.0020389537864167902, 0.0020276290306005854, 0.002015059634983467, 0.0020015590850313318, 0.001990055379842633, 0.001979727906611314, 0.0019705542644287066, 0.0019615387448964666]\n"
     ]
    },
    {
     "data": {
      "application/vnd.jupyter.widget-view+json": {
       "model_id": "fcc2f0689ea94827aa7e799d6b08e587",
       "version_major": 2,
       "version_minor": 0
      },
      "text/plain": [
       "0it [00:00, ?it/s]"
      ]
     },
     "metadata": {},
     "output_type": "display_data"
    },
    {
     "name": "stdout",
     "output_type": "stream",
     "text": [
      "Loss of train: 0.00184\n",
      "Loss of val: 0.00195\n",
      "Loss of test: 0.00182\n",
      "Loss of gw_test: 0.00194\n",
      "[0.0028867754745611615, 0.0027129774312766885, 0.002596987435310751, 0.002506482601842962, 0.0024270470293987533, 0.0023565199368809566, 0.0022950342839391335, 0.002242805362520868, 0.0021991507363785983, 0.0021637392253319354, 0.002137369776594656, 0.0021149837968814935, 0.002093183428105238, 0.002074052560575596, 0.002056832188358871, 0.0020389537864167902, 0.0020276290306005854, 0.002015059634983467, 0.0020015590850313318, 0.001990055379842633, 0.001979727906611314, 0.0019705542644287066, 0.0019615387448964666, 0.0019546701463400346]\n"
     ]
    },
    {
     "data": {
      "application/vnd.jupyter.widget-view+json": {
       "model_id": "db7c56c3180f45638a46ba289d6bf2fa",
       "version_major": 2,
       "version_minor": 0
      },
      "text/plain": [
       "0it [00:00, ?it/s]"
      ]
     },
     "metadata": {},
     "output_type": "display_data"
    },
    {
     "name": "stdout",
     "output_type": "stream",
     "text": [
      "Loss of train: 0.00184\n",
      "Loss of val: 0.00195\n",
      "Loss of test: 0.00181\n",
      "Loss of gw_test: 0.00194\n",
      "[0.0028867754745611615, 0.0027129774312766885, 0.002596987435310751, 0.002506482601842962, 0.0024270470293987533, 0.0023565199368809566, 0.0022950342839391335, 0.002242805362520868, 0.0021991507363785983, 0.0021637392253319354, 0.002137369776594656, 0.0021149837968814935, 0.002093183428105238, 0.002074052560575596, 0.002056832188358871, 0.0020389537864167902, 0.0020276290306005854, 0.002015059634983467, 0.0020015590850313318, 0.001990055379842633, 0.001979727906611314, 0.0019705542644287066, 0.0019615387448964666, 0.0019546701463400346, 0.001947918968160684]\n"
     ]
    },
    {
     "data": {
      "application/vnd.jupyter.widget-view+json": {
       "model_id": "5c073a4438d74281b4c309201bcce1e6",
       "version_major": 2,
       "version_minor": 0
      },
      "text/plain": [
       "0it [00:00, ?it/s]"
      ]
     },
     "metadata": {},
     "output_type": "display_data"
    },
    {
     "name": "stdout",
     "output_type": "stream",
     "text": [
      "Loss of train: 0.00183\n",
      "Loss of val: 0.00194\n",
      "Loss of test: 0.00180\n",
      "Loss of gw_test: 0.00192\n",
      "[0.0028867754745611615, 0.0027129774312766885, 0.002596987435310751, 0.002506482601842962, 0.0024270470293987533, 0.0023565199368809566, 0.0022950342839391335, 0.002242805362520868, 0.0021991507363785983, 0.0021637392253319354, 0.002137369776594656, 0.0021149837968814935, 0.002093183428105238, 0.002074052560575596, 0.002056832188358871, 0.0020389537864167902, 0.0020276290306005854, 0.002015059634983467, 0.0020015590850313318, 0.001990055379842633, 0.001979727906611314, 0.0019705542644287066, 0.0019615387448964666, 0.0019546701463400346, 0.001947918968160684, 0.0019422411955885633]\n"
     ]
    },
    {
     "data": {
      "application/vnd.jupyter.widget-view+json": {
       "model_id": "05874b2496b44e368acd4db68b3dc2bc",
       "version_major": 2,
       "version_minor": 0
      },
      "text/plain": [
       "0it [00:00, ?it/s]"
      ]
     },
     "metadata": {},
     "output_type": "display_data"
    },
    {
     "name": "stdout",
     "output_type": "stream",
     "text": [
      "Loss of train: 0.00182\n",
      "Loss of val: 0.00193\n",
      "Loss of test: 0.00180\n",
      "Loss of gw_test: 0.00192\n",
      "[0.0028867754745611615, 0.0027129774312766885, 0.002596987435310751, 0.002506482601842962, 0.0024270470293987533, 0.0023565199368809566, 0.0022950342839391335, 0.002242805362520868, 0.0021991507363785983, 0.0021637392253319354, 0.002137369776594656, 0.0021149837968814935, 0.002093183428105238, 0.002074052560575596, 0.002056832188358871, 0.0020389537864167902, 0.0020276290306005854, 0.002015059634983467, 0.0020015590850313318, 0.001990055379842633, 0.001979727906611314, 0.0019705542644287066, 0.0019615387448964666, 0.0019546701463400346, 0.001947918968160684, 0.0019422411955885633, 0.001934719215939731]\n"
     ]
    },
    {
     "data": {
      "application/vnd.jupyter.widget-view+json": {
       "model_id": "3c765d4a6fe4496eba7390c3bb765e42",
       "version_major": 2,
       "version_minor": 0
      },
      "text/plain": [
       "0it [00:00, ?it/s]"
      ]
     },
     "metadata": {},
     "output_type": "display_data"
    },
    {
     "name": "stdout",
     "output_type": "stream",
     "text": [
      "Loss of train: 0.00181\n",
      "Loss of val: 0.00193\n",
      "Loss of test: 0.00179\n",
      "Loss of gw_test: 0.00191\n",
      "[0.0028867754745611615, 0.0027129774312766885, 0.002596987435310751, 0.002506482601842962, 0.0024270470293987533, 0.0023565199368809566, 0.0022950342839391335, 0.002242805362520868, 0.0021991507363785983, 0.0021637392253319354, 0.002137369776594656, 0.0021149837968814935, 0.002093183428105238, 0.002074052560575596, 0.002056832188358871, 0.0020389537864167902, 0.0020276290306005854, 0.002015059634983467, 0.0020015590850313318, 0.001990055379842633, 0.001979727906611314, 0.0019705542644287066, 0.0019615387448964666, 0.0019546701463400346, 0.001947918968160684, 0.0019422411955885633, 0.001934719215939731, 0.001928752055173434]\n"
     ]
    },
    {
     "data": {
      "application/vnd.jupyter.widget-view+json": {
       "model_id": "e80c62ef835c4df9918c10cd9766cf1c",
       "version_major": 2,
       "version_minor": 0
      },
      "text/plain": [
       "0it [00:00, ?it/s]"
      ]
     },
     "metadata": {},
     "output_type": "display_data"
    },
    {
     "name": "stdout",
     "output_type": "stream",
     "text": [
      "Loss of train: 0.00181\n",
      "Loss of val: 0.00192\n",
      "Loss of test: 0.00179\n",
      "Loss of gw_test: 0.00191\n",
      "[0.0028867754745611615, 0.0027129774312766885, 0.002596987435310751, 0.002506482601842962, 0.0024270470293987533, 0.0023565199368809566, 0.0022950342839391335, 0.002242805362520868, 0.0021991507363785983, 0.0021637392253319354, 0.002137369776594656, 0.0021149837968814935, 0.002093183428105238, 0.002074052560575596, 0.002056832188358871, 0.0020389537864167902, 0.0020276290306005854, 0.002015059634983467, 0.0020015590850313318, 0.001990055379842633, 0.001979727906611314, 0.0019705542644287066, 0.0019615387448964666, 0.0019546701463400346, 0.001947918968160684, 0.0019422411955885633, 0.001934719215939731, 0.001928752055173434, 0.0019219821244510675]\n"
     ]
    },
    {
     "data": {
      "application/vnd.jupyter.widget-view+json": {
       "model_id": "48cc0290f54e42fa8177cecb02caaef4",
       "version_major": 2,
       "version_minor": 0
      },
      "text/plain": [
       "0it [00:00, ?it/s]"
      ]
     },
     "metadata": {},
     "output_type": "display_data"
    },
    {
     "name": "stdout",
     "output_type": "stream",
     "text": [
      "Loss of train: 0.00180\n",
      "Loss of val: 0.00192\n",
      "Loss of test: 0.00178\n",
      "Loss of gw_test: 0.00190\n",
      "[0.0028867754745611615, 0.0027129774312766885, 0.002596987435310751, 0.002506482601842962, 0.0024270470293987533, 0.0023565199368809566, 0.0022950342839391335, 0.002242805362520868, 0.0021991507363785983, 0.0021637392253319354, 0.002137369776594656, 0.0021149837968814935, 0.002093183428105238, 0.002074052560575596, 0.002056832188358871, 0.0020389537864167902, 0.0020276290306005854, 0.002015059634983467, 0.0020015590850313318, 0.001990055379842633, 0.001979727906611314, 0.0019705542644287066, 0.0019615387448964666, 0.0019546701463400346, 0.001947918968160684, 0.0019422411955885633, 0.001934719215939731, 0.001928752055173434, 0.0019219821244510675, 0.0019166391953796182]\n"
     ]
    },
    {
     "data": {
      "application/vnd.jupyter.widget-view+json": {
       "model_id": "982dbce1a0ba4dbe916272b7c5ba52ed",
       "version_major": 2,
       "version_minor": 0
      },
      "text/plain": [
       "0it [00:00, ?it/s]"
      ]
     },
     "metadata": {},
     "output_type": "display_data"
    },
    {
     "name": "stdout",
     "output_type": "stream",
     "text": [
      "Loss of train: 0.00180\n",
      "Loss of val: 0.00191\n",
      "Loss of test: 0.00177\n",
      "Loss of gw_test: 0.00189\n",
      "[0.0028867754745611615, 0.0027129774312766885, 0.002596987435310751, 0.002506482601842962, 0.0024270470293987533, 0.0023565199368809566, 0.0022950342839391335, 0.002242805362520868, 0.0021991507363785983, 0.0021637392253319354, 0.002137369776594656, 0.0021149837968814935, 0.002093183428105238, 0.002074052560575596, 0.002056832188358871, 0.0020389537864167902, 0.0020276290306005854, 0.002015059634983467, 0.0020015590850313318, 0.001990055379842633, 0.001979727906611314, 0.0019705542644287066, 0.0019615387448964666, 0.0019546701463400346, 0.001947918968160684, 0.0019422411955885633, 0.001934719215939731, 0.001928752055173434, 0.0019219821244510675, 0.0019166391953796182, 0.0019128823508096325]\n"
     ]
    },
    {
     "data": {
      "application/vnd.jupyter.widget-view+json": {
       "model_id": "f0d109f696c54acb9cb3422a0fa2a6fe",
       "version_major": 2,
       "version_minor": 0
      },
      "text/plain": [
       "0it [00:00, ?it/s]"
      ]
     },
     "metadata": {},
     "output_type": "display_data"
    },
    {
     "name": "stdout",
     "output_type": "stream",
     "text": [
      "Loss of train: 0.00179\n",
      "Loss of val: 0.00191\n",
      "Loss of test: 0.00177\n",
      "Loss of gw_test: 0.00189\n",
      "[0.0028867754745611615, 0.0027129774312766885, 0.002596987435310751, 0.002506482601842962, 0.0024270470293987533, 0.0023565199368809566, 0.0022950342839391335, 0.002242805362520868, 0.0021991507363785983, 0.0021637392253319354, 0.002137369776594656, 0.0021149837968814935, 0.002093183428105238, 0.002074052560575596, 0.002056832188358871, 0.0020389537864167902, 0.0020276290306005854, 0.002015059634983467, 0.0020015590850313318, 0.001990055379842633, 0.001979727906611314, 0.0019705542644287066, 0.0019615387448964666, 0.0019546701463400346, 0.001947918968160684, 0.0019422411955885633, 0.001934719215939731, 0.001928752055173434, 0.0019219821244510675, 0.0019166391953796182, 0.0019128823508096325, 0.001907505807677854]\n"
     ]
    },
    {
     "data": {
      "application/vnd.jupyter.widget-view+json": {
       "model_id": "2f5465c6b2ae4d568b3b274c9efa25e3",
       "version_major": 2,
       "version_minor": 0
      },
      "text/plain": [
       "0it [00:00, ?it/s]"
      ]
     },
     "metadata": {},
     "output_type": "display_data"
    },
    {
     "name": "stdout",
     "output_type": "stream",
     "text": [
      "Loss of train: 0.00179\n",
      "Loss of val: 0.00191\n",
      "Loss of test: 0.00176\n",
      "Loss of gw_test: 0.00189\n",
      "[0.0028867754745611615, 0.0027129774312766885, 0.002596987435310751, 0.002506482601842962, 0.0024270470293987533, 0.0023565199368809566, 0.0022950342839391335, 0.002242805362520868, 0.0021991507363785983, 0.0021637392253319354, 0.002137369776594656, 0.0021149837968814935, 0.002093183428105238, 0.002074052560575596, 0.002056832188358871, 0.0020389537864167902, 0.0020276290306005854, 0.002015059634983467, 0.0020015590850313318, 0.001990055379842633, 0.001979727906611314, 0.0019705542644287066, 0.0019615387448964666, 0.0019546701463400346, 0.001947918968160684, 0.0019422411955885633, 0.001934719215939731, 0.001928752055173434, 0.0019219821244510675, 0.0019166391953796182, 0.0019128823508096325, 0.001907505807677854, 0.0019054723895301168]\n"
     ]
    },
    {
     "data": {
      "application/vnd.jupyter.widget-view+json": {
       "model_id": "189f531646c84bd5ba3abdf72cd3597e",
       "version_major": 2,
       "version_minor": 0
      },
      "text/plain": [
       "0it [00:00, ?it/s]"
      ]
     },
     "metadata": {},
     "output_type": "display_data"
    },
    {
     "name": "stdout",
     "output_type": "stream",
     "text": [
      "Loss of train: 0.00178\n",
      "Loss of val: 0.00190\n",
      "Loss of test: 0.00176\n",
      "Loss of gw_test: 0.00188\n",
      "[0.0028867754745611615, 0.0027129774312766885, 0.002596987435310751, 0.002506482601842962, 0.0024270470293987533, 0.0023565199368809566, 0.0022950342839391335, 0.002242805362520868, 0.0021991507363785983, 0.0021637392253319354, 0.002137369776594656, 0.0021149837968814935, 0.002093183428105238, 0.002074052560575596, 0.002056832188358871, 0.0020389537864167902, 0.0020276290306005854, 0.002015059634983467, 0.0020015590850313318, 0.001990055379842633, 0.001979727906611314, 0.0019705542644287066, 0.0019615387448964666, 0.0019546701463400346, 0.001947918968160684, 0.0019422411955885633, 0.001934719215939731, 0.001928752055173434, 0.0019219821244510675, 0.0019166391953796182, 0.0019128823508096325, 0.001907505807677854, 0.0019054723895301168, 0.0019011747045204828]\n"
     ]
    },
    {
     "data": {
      "application/vnd.jupyter.widget-view+json": {
       "model_id": "bfb68de8998e49ab99ef704b653089f5",
       "version_major": 2,
       "version_minor": 0
      },
      "text/plain": [
       "0it [00:00, ?it/s]"
      ]
     },
     "metadata": {},
     "output_type": "display_data"
    },
    {
     "name": "stdout",
     "output_type": "stream",
     "text": [
      "Loss of train: 0.00178\n",
      "Loss of val: 0.00190\n",
      "Loss of test: 0.00175\n",
      "Loss of gw_test: 0.00188\n",
      "[0.0028867754745611615, 0.0027129774312766885, 0.002596987435310751, 0.002506482601842962, 0.0024270470293987533, 0.0023565199368809566, 0.0022950342839391335, 0.002242805362520868, 0.0021991507363785983, 0.0021637392253319354, 0.002137369776594656, 0.0021149837968814935, 0.002093183428105238, 0.002074052560575596, 0.002056832188358871, 0.0020389537864167902, 0.0020276290306005854, 0.002015059634983467, 0.0020015590850313318, 0.001990055379842633, 0.001979727906611314, 0.0019705542644287066, 0.0019615387448964666, 0.0019546701463400346, 0.001947918968160684, 0.0019422411955885633, 0.001934719215939731, 0.001928752055173434, 0.0019219821244510675, 0.0019166391953796182, 0.0019128823508096325, 0.001907505807677854, 0.0019054723895301168, 0.0019011747045204828, 0.0018961977113206435]\n"
     ]
    },
    {
     "data": {
      "application/vnd.jupyter.widget-view+json": {
       "model_id": "66682e610dee4b4697f442d721921fd0",
       "version_major": 2,
       "version_minor": 0
      },
      "text/plain": [
       "0it [00:00, ?it/s]"
      ]
     },
     "metadata": {},
     "output_type": "display_data"
    },
    {
     "name": "stdout",
     "output_type": "stream",
     "text": [
      "Loss of train: 0.00177\n",
      "Loss of val: 0.00189\n",
      "Loss of test: 0.00175\n",
      "Loss of gw_test: 0.00187\n",
      "[0.0028867754745611615, 0.0027129774312766885, 0.002596987435310751, 0.002506482601842962, 0.0024270470293987533, 0.0023565199368809566, 0.0022950342839391335, 0.002242805362520868, 0.0021991507363785983, 0.0021637392253319354, 0.002137369776594656, 0.0021149837968814935, 0.002093183428105238, 0.002074052560575596, 0.002056832188358871, 0.0020389537864167902, 0.0020276290306005854, 0.002015059634983467, 0.0020015590850313318, 0.001990055379842633, 0.001979727906611314, 0.0019705542644287066, 0.0019615387448964666, 0.0019546701463400346, 0.001947918968160684, 0.0019422411955885633, 0.001934719215939731, 0.001928752055173434, 0.0019219821244510675, 0.0019166391953796182, 0.0019128823508096325, 0.001907505807677854, 0.0019054723895301168, 0.0019011747045204828, 0.0018961977113206435, 0.0018933698741085477]\n"
     ]
    },
    {
     "data": {
      "application/vnd.jupyter.widget-view+json": {
       "model_id": "bd8a96087d6847d98092dfc912af89ad",
       "version_major": 2,
       "version_minor": 0
      },
      "text/plain": [
       "0it [00:00, ?it/s]"
      ]
     },
     "metadata": {},
     "output_type": "display_data"
    },
    {
     "name": "stdout",
     "output_type": "stream",
     "text": [
      "Loss of train: 0.00177\n",
      "Loss of val: 0.00189\n",
      "Loss of test: 0.00175\n",
      "Loss of gw_test: 0.00187\n",
      "[0.0028867754745611615, 0.0027129774312766885, 0.002596987435310751, 0.002506482601842962, 0.0024270470293987533, 0.0023565199368809566, 0.0022950342839391335, 0.002242805362520868, 0.0021991507363785983, 0.0021637392253319354, 0.002137369776594656, 0.0021149837968814935, 0.002093183428105238, 0.002074052560575596, 0.002056832188358871, 0.0020389537864167902, 0.0020276290306005854, 0.002015059634983467, 0.0020015590850313318, 0.001990055379842633, 0.001979727906611314, 0.0019705542644287066, 0.0019615387448964666, 0.0019546701463400346, 0.001947918968160684, 0.0019422411955885633, 0.001934719215939731, 0.001928752055173434, 0.0019219821244510675, 0.0019166391953796182, 0.0019128823508096325, 0.001907505807677854, 0.0019054723895301168, 0.0019011747045204828, 0.0018961977113206435, 0.0018933698741085477, 0.0018912442030991417]\n"
     ]
    },
    {
     "data": {
      "application/vnd.jupyter.widget-view+json": {
       "model_id": "beb27ed16c3245dca79c7174ae31ef4e",
       "version_major": 2,
       "version_minor": 0
      },
      "text/plain": [
       "0it [00:00, ?it/s]"
      ]
     },
     "metadata": {},
     "output_type": "display_data"
    },
    {
     "name": "stdout",
     "output_type": "stream",
     "text": [
      "Loss of train: 0.00177\n",
      "Loss of val: 0.00189\n",
      "Loss of test: 0.00174\n",
      "Loss of gw_test: 0.00186\n",
      "[0.0028867754745611615, 0.0027129774312766885, 0.002596987435310751, 0.002506482601842962, 0.0024270470293987533, 0.0023565199368809566, 0.0022950342839391335, 0.002242805362520868, 0.0021991507363785983, 0.0021637392253319354, 0.002137369776594656, 0.0021149837968814935, 0.002093183428105238, 0.002074052560575596, 0.002056832188358871, 0.0020389537864167902, 0.0020276290306005854, 0.002015059634983467, 0.0020015590850313318, 0.001990055379842633, 0.001979727906611314, 0.0019705542644287066, 0.0019615387448964666, 0.0019546701463400346, 0.001947918968160684, 0.0019422411955885633, 0.001934719215939731, 0.001928752055173434, 0.0019219821244510675, 0.0019166391953796182, 0.0019128823508096325, 0.001907505807677854, 0.0019054723895301168, 0.0019011747045204828, 0.0018961977113206435, 0.0018933698741085477, 0.0018912442030991417, 0.001888069300784686]\n"
     ]
    },
    {
     "data": {
      "application/vnd.jupyter.widget-view+json": {
       "model_id": "dee82503da1442e4954e3de9bcc7f147",
       "version_major": 2,
       "version_minor": 0
      },
      "text/plain": [
       "0it [00:00, ?it/s]"
      ]
     },
     "metadata": {},
     "output_type": "display_data"
    },
    {
     "name": "stdout",
     "output_type": "stream",
     "text": [
      "Loss of train: 0.00176\n",
      "Loss of val: 0.00188\n",
      "Loss of test: 0.00174\n",
      "Loss of gw_test: 0.00186\n",
      "[0.0028867754745611615, 0.0027129774312766885, 0.002596987435310751, 0.002506482601842962, 0.0024270470293987533, 0.0023565199368809566, 0.0022950342839391335, 0.002242805362520868, 0.0021991507363785983, 0.0021637392253319354, 0.002137369776594656, 0.0021149837968814935, 0.002093183428105238, 0.002074052560575596, 0.002056832188358871, 0.0020389537864167902, 0.0020276290306005854, 0.002015059634983467, 0.0020015590850313318, 0.001990055379842633, 0.001979727906611314, 0.0019705542644287066, 0.0019615387448964666, 0.0019546701463400346, 0.001947918968160684, 0.0019422411955885633, 0.001934719215939731, 0.001928752055173434, 0.0019219821244510675, 0.0019166391953796182, 0.0019128823508096325, 0.001907505807677854, 0.0019054723895301168, 0.0019011747045204828, 0.0018961977113206435, 0.0018933698741085477, 0.0018912442030991417, 0.001888069300784686, 0.0018828088775414127]\n"
     ]
    },
    {
     "data": {
      "application/vnd.jupyter.widget-view+json": {
       "model_id": "b23bf5d97b464af2a1b412434ebf5ebf",
       "version_major": 2,
       "version_minor": 0
      },
      "text/plain": [
       "0it [00:00, ?it/s]"
      ]
     },
     "metadata": {},
     "output_type": "display_data"
    },
    {
     "name": "stdout",
     "output_type": "stream",
     "text": [
      "Loss of train: 0.00176\n",
      "Loss of val: 0.00188\n",
      "Loss of test: 0.00174\n",
      "Loss of gw_test: 0.00186\n",
      "[0.0028867754745611615, 0.0027129774312766885, 0.002596987435310751, 0.002506482601842962, 0.0024270470293987533, 0.0023565199368809566, 0.0022950342839391335, 0.002242805362520868, 0.0021991507363785983, 0.0021637392253319354, 0.002137369776594656, 0.0021149837968814935, 0.002093183428105238, 0.002074052560575596, 0.002056832188358871, 0.0020389537864167902, 0.0020276290306005854, 0.002015059634983467, 0.0020015590850313318, 0.001990055379842633, 0.001979727906611314, 0.0019705542644287066, 0.0019615387448964666, 0.0019546701463400346, 0.001947918968160684, 0.0019422411955885633, 0.001934719215939731, 0.001928752055173434, 0.0019219821244510675, 0.0019166391953796182, 0.0019128823508096325, 0.001907505807677854, 0.0019054723895301168, 0.0019011747045204828, 0.0018961977113206435, 0.0018933698741085477, 0.0018912442030991417, 0.001888069300784686, 0.0018828088775414127, 0.0018802022971995513]\n"
     ]
    },
    {
     "data": {
      "application/vnd.jupyter.widget-view+json": {
       "model_id": "0b24d0488e424b8f8a791fcb89d82711",
       "version_major": 2,
       "version_minor": 0
      },
      "text/plain": [
       "0it [00:00, ?it/s]"
      ]
     },
     "metadata": {},
     "output_type": "display_data"
    },
    {
     "name": "stdout",
     "output_type": "stream",
     "text": [
      "Loss of train: 0.00176\n",
      "Loss of val: 0.00188\n",
      "Loss of test: 0.00173\n",
      "Loss of gw_test: 0.00186\n",
      "[0.0028867754745611615, 0.0027129774312766885, 0.002596987435310751, 0.002506482601842962, 0.0024270470293987533, 0.0023565199368809566, 0.0022950342839391335, 0.002242805362520868, 0.0021991507363785983, 0.0021637392253319354, 0.002137369776594656, 0.0021149837968814935, 0.002093183428105238, 0.002074052560575596, 0.002056832188358871, 0.0020389537864167902, 0.0020276290306005854, 0.002015059634983467, 0.0020015590850313318, 0.001990055379842633, 0.001979727906611314, 0.0019705542644287066, 0.0019615387448964666, 0.0019546701463400346, 0.001947918968160684, 0.0019422411955885633, 0.001934719215939731, 0.001928752055173434, 0.0019219821244510675, 0.0019166391953796182, 0.0019128823508096325, 0.001907505807677854, 0.0019054723895301168, 0.0019011747045204828, 0.0018961977113206435, 0.0018933698741085477, 0.0018912442030991417, 0.001888069300784686, 0.0018828088775414127, 0.0018802022971995513, 0.0018785763509879322]\n"
     ]
    },
    {
     "data": {
      "application/vnd.jupyter.widget-view+json": {
       "model_id": "dc7d5804578044ba9d40f0d7ec66103e",
       "version_major": 2,
       "version_minor": 0
      },
      "text/plain": [
       "0it [00:00, ?it/s]"
      ]
     },
     "metadata": {},
     "output_type": "display_data"
    },
    {
     "name": "stdout",
     "output_type": "stream",
     "text": [
      "Loss of train: 0.00176\n",
      "Loss of val: 0.00188\n",
      "Loss of test: 0.00173\n",
      "Loss of gw_test: 0.00186\n",
      "[0.0028867754745611615, 0.0027129774312766885, 0.002596987435310751, 0.002506482601842962, 0.0024270470293987533, 0.0023565199368809566, 0.0022950342839391335, 0.002242805362520868, 0.0021991507363785983, 0.0021637392253319354, 0.002137369776594656, 0.0021149837968814935, 0.002093183428105238, 0.002074052560575596, 0.002056832188358871, 0.0020389537864167902, 0.0020276290306005854, 0.002015059634983467, 0.0020015590850313318, 0.001990055379842633, 0.001979727906611314, 0.0019705542644287066, 0.0019615387448964666, 0.0019546701463400346, 0.001947918968160684, 0.0019422411955885633, 0.001934719215939731, 0.001928752055173434, 0.0019219821244510675, 0.0019166391953796182, 0.0019128823508096325, 0.001907505807677854, 0.0019054723895301168, 0.0019011747045204828, 0.0018961977113206435, 0.0018933698741085477, 0.0018912442030991417, 0.001888069300784686, 0.0018828088775414127, 0.0018802022971995513, 0.0018785763509879322, 0.0018767413079962653]\n"
     ]
    },
    {
     "data": {
      "application/vnd.jupyter.widget-view+json": {
       "model_id": "6660a71da7b642e6a177097f0a25d1c4",
       "version_major": 2,
       "version_minor": 0
      },
      "text/plain": [
       "0it [00:00, ?it/s]"
      ]
     },
     "metadata": {},
     "output_type": "display_data"
    },
    {
     "name": "stdout",
     "output_type": "stream",
     "text": [
      "Loss of train: 0.00175\n",
      "Loss of val: 0.00187\n",
      "Loss of test: 0.00173\n",
      "Loss of gw_test: 0.00185\n",
      "[0.0028867754745611615, 0.0027129774312766885, 0.002596987435310751, 0.002506482601842962, 0.0024270470293987533, 0.0023565199368809566, 0.0022950342839391335, 0.002242805362520868, 0.0021991507363785983, 0.0021637392253319354, 0.002137369776594656, 0.0021149837968814935, 0.002093183428105238, 0.002074052560575596, 0.002056832188358871, 0.0020389537864167902, 0.0020276290306005854, 0.002015059634983467, 0.0020015590850313318, 0.001990055379842633, 0.001979727906611314, 0.0019705542644287066, 0.0019615387448964666, 0.0019546701463400346, 0.001947918968160684, 0.0019422411955885633, 0.001934719215939731, 0.001928752055173434, 0.0019219821244510675, 0.0019166391953796182, 0.0019128823508096325, 0.001907505807677854, 0.0019054723895301168, 0.0019011747045204828, 0.0018961977113206435, 0.0018933698741085477, 0.0018912442030991417, 0.001888069300784686, 0.0018828088775414127, 0.0018802022971995513, 0.0018785763509879322, 0.0018767413079962653, 0.001874448254880404]\n"
     ]
    },
    {
     "data": {
      "application/vnd.jupyter.widget-view+json": {
       "model_id": "9ea2f5dc73e149399040a17f9909303c",
       "version_major": 2,
       "version_minor": 0
      },
      "text/plain": [
       "0it [00:00, ?it/s]"
      ]
     },
     "metadata": {},
     "output_type": "display_data"
    },
    {
     "name": "stdout",
     "output_type": "stream",
     "text": [
      "Loss of train: 0.00175\n",
      "Loss of val: 0.00187\n",
      "Loss of test: 0.00172\n",
      "Loss of gw_test: 0.00184\n",
      "[0.0028867754745611615, 0.0027129774312766885, 0.002596987435310751, 0.002506482601842962, 0.0024270470293987533, 0.0023565199368809566, 0.0022950342839391335, 0.002242805362520868, 0.0021991507363785983, 0.0021637392253319354, 0.002137369776594656, 0.0021149837968814935, 0.002093183428105238, 0.002074052560575596, 0.002056832188358871, 0.0020389537864167902, 0.0020276290306005854, 0.002015059634983467, 0.0020015590850313318, 0.001990055379842633, 0.001979727906611314, 0.0019705542644287066, 0.0019615387448964666, 0.0019546701463400346, 0.001947918968160684, 0.0019422411955885633, 0.001934719215939731, 0.001928752055173434, 0.0019219821244510675, 0.0019166391953796182, 0.0019128823508096325, 0.001907505807677854, 0.0019054723895301168, 0.0019011747045204828, 0.0018961977113206435, 0.0018933698741085477, 0.0018912442030991417, 0.001888069300784686, 0.0018828088775414127, 0.0018802022971995513, 0.0018785763509879322, 0.0018767413079962653, 0.001874448254880404, 0.0018731947136880584]\n"
     ]
    },
    {
     "data": {
      "application/vnd.jupyter.widget-view+json": {
       "model_id": "ba6e5013c52245169bde2ad8239c8b53",
       "version_major": 2,
       "version_minor": 0
      },
      "text/plain": [
       "0it [00:00, ?it/s]"
      ]
     },
     "metadata": {},
     "output_type": "display_data"
    },
    {
     "name": "stdout",
     "output_type": "stream",
     "text": [
      "Loss of train: 0.00175\n",
      "Loss of val: 0.00187\n",
      "Loss of test: 0.00172\n",
      "Loss of gw_test: 0.00184\n",
      "[0.0028867754745611615, 0.0027129774312766885, 0.002596987435310751, 0.002506482601842962, 0.0024270470293987533, 0.0023565199368809566, 0.0022950342839391335, 0.002242805362520868, 0.0021991507363785983, 0.0021637392253319354, 0.002137369776594656, 0.0021149837968814935, 0.002093183428105238, 0.002074052560575596, 0.002056832188358871, 0.0020389537864167902, 0.0020276290306005854, 0.002015059634983467, 0.0020015590850313318, 0.001990055379842633, 0.001979727906611314, 0.0019705542644287066, 0.0019615387448964666, 0.0019546701463400346, 0.001947918968160684, 0.0019422411955885633, 0.001934719215939731, 0.001928752055173434, 0.0019219821244510675, 0.0019166391953796182, 0.0019128823508096325, 0.001907505807677854, 0.0019054723895301168, 0.0019011747045204828, 0.0018961977113206435, 0.0018933698741085477, 0.0018912442030991417, 0.001888069300784686, 0.0018828088775414127, 0.0018802022971995513, 0.0018785763509879322, 0.0018767413079962653, 0.001874448254880404, 0.0018731947136880584, 0.001868305793389427]\n"
     ]
    },
    {
     "data": {
      "application/vnd.jupyter.widget-view+json": {
       "model_id": "df08f27faccc4bae80e4abe41619405b",
       "version_major": 2,
       "version_minor": 0
      },
      "text/plain": [
       "0it [00:00, ?it/s]"
      ]
     },
     "metadata": {},
     "output_type": "display_data"
    },
    {
     "name": "stdout",
     "output_type": "stream",
     "text": [
      "Loss of train: 0.00175\n",
      "Loss of val: 0.00187\n",
      "Loss of test: 0.00172\n",
      "Loss of gw_test: 0.00184\n",
      "[0.0028867754745611615, 0.0027129774312766885, 0.002596987435310751, 0.002506482601842962, 0.0024270470293987533, 0.0023565199368809566, 0.0022950342839391335, 0.002242805362520868, 0.0021991507363785983, 0.0021637392253319354, 0.002137369776594656, 0.0021149837968814935, 0.002093183428105238, 0.002074052560575596, 0.002056832188358871, 0.0020389537864167902, 0.0020276290306005854, 0.002015059634983467, 0.0020015590850313318, 0.001990055379842633, 0.001979727906611314, 0.0019705542644287066, 0.0019615387448964666, 0.0019546701463400346, 0.001947918968160684, 0.0019422411955885633, 0.001934719215939731, 0.001928752055173434, 0.0019219821244510675, 0.0019166391953796182, 0.0019128823508096325, 0.001907505807677854, 0.0019054723895301168, 0.0019011747045204828, 0.0018961977113206435, 0.0018933698741085477, 0.0018912442030991417, 0.001888069300784686, 0.0018828088775414127, 0.0018802022971995513, 0.0018785763509879322, 0.0018767413079962653, 0.001874448254880404, 0.0018731947136880584, 0.001868305793389427, 0.0018663325989517583]\n"
     ]
    },
    {
     "data": {
      "application/vnd.jupyter.widget-view+json": {
       "model_id": "2cabc4729b3a4778a56a68582f811e08",
       "version_major": 2,
       "version_minor": 0
      },
      "text/plain": [
       "0it [00:00, ?it/s]"
      ]
     },
     "metadata": {},
     "output_type": "display_data"
    },
    {
     "name": "stdout",
     "output_type": "stream",
     "text": [
      "Loss of train: 0.00174\n",
      "Loss of val: 0.00186\n",
      "Loss of test: 0.00172\n",
      "Loss of gw_test: 0.00184\n",
      "[0.0028867754745611615, 0.0027129774312766885, 0.002596987435310751, 0.002506482601842962, 0.0024270470293987533, 0.0023565199368809566, 0.0022950342839391335, 0.002242805362520868, 0.0021991507363785983, 0.0021637392253319354, 0.002137369776594656, 0.0021149837968814935, 0.002093183428105238, 0.002074052560575596, 0.002056832188358871, 0.0020389537864167902, 0.0020276290306005854, 0.002015059634983467, 0.0020015590850313318, 0.001990055379842633, 0.001979727906611314, 0.0019705542644287066, 0.0019615387448964666, 0.0019546701463400346, 0.001947918968160684, 0.0019422411955885633, 0.001934719215939731, 0.001928752055173434, 0.0019219821244510675, 0.0019166391953796182, 0.0019128823508096325, 0.001907505807677854, 0.0019054723895301168, 0.0019011747045204828, 0.0018961977113206435, 0.0018933698741085477, 0.0018912442030991417, 0.001888069300784686, 0.0018828088775414127, 0.0018802022971995513, 0.0018785763509879322, 0.0018767413079962653, 0.001874448254880404, 0.0018731947136880584, 0.001868305793389427, 0.0018663325989517583, 0.0018642871299108573]\n"
     ]
    },
    {
     "data": {
      "application/vnd.jupyter.widget-view+json": {
       "model_id": "a375d3fee81d4405a690875efa0a9b34",
       "version_major": 2,
       "version_minor": 0
      },
      "text/plain": [
       "0it [00:00, ?it/s]"
      ]
     },
     "metadata": {},
     "output_type": "display_data"
    },
    {
     "name": "stdout",
     "output_type": "stream",
     "text": [
      "Loss of train: 0.00174\n",
      "Loss of val: 0.00186\n",
      "Loss of test: 0.00171\n",
      "Loss of gw_test: 0.00184\n",
      "[0.0028867754745611615, 0.0027129774312766885, 0.002596987435310751, 0.002506482601842962, 0.0024270470293987533, 0.0023565199368809566, 0.0022950342839391335, 0.002242805362520868, 0.0021991507363785983, 0.0021637392253319354, 0.002137369776594656, 0.0021149837968814935, 0.002093183428105238, 0.002074052560575596, 0.002056832188358871, 0.0020389537864167902, 0.0020276290306005854, 0.002015059634983467, 0.0020015590850313318, 0.001990055379842633, 0.001979727906611314, 0.0019705542644287066, 0.0019615387448964666, 0.0019546701463400346, 0.001947918968160684, 0.0019422411955885633, 0.001934719215939731, 0.001928752055173434, 0.0019219821244510675, 0.0019166391953796182, 0.0019128823508096325, 0.001907505807677854, 0.0019054723895301168, 0.0019011747045204828, 0.0018961977113206435, 0.0018933698741085477, 0.0018912442030991417, 0.001888069300784686, 0.0018828088775414127, 0.0018802022971995513, 0.0018785763509879322, 0.0018767413079962653, 0.001874448254880404, 0.0018731947136880584, 0.001868305793389427, 0.0018663325989517583, 0.0018642871299108573, 0.0018620800354499682]\n"
     ]
    },
    {
     "data": {
      "application/vnd.jupyter.widget-view+json": {
       "model_id": "101123aaa2024e0f99f712ec41bd535d",
       "version_major": 2,
       "version_minor": 0
      },
      "text/plain": [
       "0it [00:00, ?it/s]"
      ]
     },
     "metadata": {},
     "output_type": "display_data"
    },
    {
     "name": "stdout",
     "output_type": "stream",
     "text": [
      "Loss of train: 0.00174\n",
      "Loss of val: 0.00186\n",
      "Loss of test: 0.00171\n",
      "Loss of gw_test: 0.00184\n",
      "[0.0028867754745611615, 0.0027129774312766885, 0.002596987435310751, 0.002506482601842962, 0.0024270470293987533, 0.0023565199368809566, 0.0022950342839391335, 0.002242805362520868, 0.0021991507363785983, 0.0021637392253319354, 0.002137369776594656, 0.0021149837968814935, 0.002093183428105238, 0.002074052560575596, 0.002056832188358871, 0.0020389537864167902, 0.0020276290306005854, 0.002015059634983467, 0.0020015590850313318, 0.001990055379842633, 0.001979727906611314, 0.0019705542644287066, 0.0019615387448964666, 0.0019546701463400346, 0.001947918968160684, 0.0019422411955885633, 0.001934719215939731, 0.001928752055173434, 0.0019219821244510675, 0.0019166391953796182, 0.0019128823508096325, 0.001907505807677854, 0.0019054723895301168, 0.0019011747045204828, 0.0018961977113206435, 0.0018933698741085477, 0.0018912442030991417, 0.001888069300784686, 0.0018828088775414127, 0.0018802022971995513, 0.0018785763509879322, 0.0018767413079962653, 0.001874448254880404, 0.0018731947136880584, 0.001868305793389427, 0.0018663325989517583, 0.0018642871299108573, 0.0018620800354499682, 0.00186108343964946]\n"
     ]
    },
    {
     "data": {
      "application/vnd.jupyter.widget-view+json": {
       "model_id": "6de65efd10a64edcb61faa36cbf342e7",
       "version_major": 2,
       "version_minor": 0
      },
      "text/plain": [
       "0it [00:00, ?it/s]"
      ]
     },
     "metadata": {},
     "output_type": "display_data"
    },
    {
     "name": "stdout",
     "output_type": "stream",
     "text": [
      "Loss of train: 0.00174\n",
      "Loss of val: 0.00186\n",
      "Loss of test: 0.00171\n",
      "Loss of gw_test: 0.00183\n",
      "[0.0028867754745611615, 0.0027129774312766885, 0.002596987435310751, 0.002506482601842962, 0.0024270470293987533, 0.0023565199368809566, 0.0022950342839391335, 0.002242805362520868, 0.0021991507363785983, 0.0021637392253319354, 0.002137369776594656, 0.0021149837968814935, 0.002093183428105238, 0.002074052560575596, 0.002056832188358871, 0.0020389537864167902, 0.0020276290306005854, 0.002015059634983467, 0.0020015590850313318, 0.001990055379842633, 0.001979727906611314, 0.0019705542644287066, 0.0019615387448964666, 0.0019546701463400346, 0.001947918968160684, 0.0019422411955885633, 0.001934719215939731, 0.001928752055173434, 0.0019219821244510675, 0.0019166391953796182, 0.0019128823508096325, 0.001907505807677854, 0.0019054723895301168, 0.0019011747045204828, 0.0018961977113206435, 0.0018933698741085477, 0.0018912442030991417, 0.001888069300784686, 0.0018828088775414127, 0.0018802022971995513, 0.0018785763509879322, 0.0018767413079962653, 0.001874448254880404, 0.0018731947136880584, 0.001868305793389427, 0.0018663325989517583, 0.0018642871299108573, 0.0018620800354499682, 0.00186108343964946, 0.0018589047172274716]\n"
     ]
    },
    {
     "data": {
      "application/vnd.jupyter.widget-view+json": {
       "model_id": "21247e1e66a54ee3b7d215b740d8d055",
       "version_major": 2,
       "version_minor": 0
      },
      "text/plain": [
       "0it [00:00, ?it/s]"
      ]
     },
     "metadata": {},
     "output_type": "display_data"
    },
    {
     "name": "stdout",
     "output_type": "stream",
     "text": [
      "Loss of train: 0.00174\n",
      "Loss of val: 0.00186\n",
      "Loss of test: 0.00171\n",
      "Loss of gw_test: 0.00183\n",
      "[0.0028867754745611615, 0.0027129774312766885, 0.002596987435310751, 0.002506482601842962, 0.0024270470293987533, 0.0023565199368809566, 0.0022950342839391335, 0.002242805362520868, 0.0021991507363785983, 0.0021637392253319354, 0.002137369776594656, 0.0021149837968814935, 0.002093183428105238, 0.002074052560575596, 0.002056832188358871, 0.0020389537864167902, 0.0020276290306005854, 0.002015059634983467, 0.0020015590850313318, 0.001990055379842633, 0.001979727906611314, 0.0019705542644287066, 0.0019615387448964666, 0.0019546701463400346, 0.001947918968160684, 0.0019422411955885633, 0.001934719215939731, 0.001928752055173434, 0.0019219821244510675, 0.0019166391953796182, 0.0019128823508096325, 0.001907505807677854, 0.0019054723895301168, 0.0019011747045204828, 0.0018961977113206435, 0.0018933698741085477, 0.0018912442030991417, 0.001888069300784686, 0.0018828088775414127, 0.0018802022971995513, 0.0018785763509879322, 0.0018767413079962653, 0.001874448254880404, 0.0018731947136880584, 0.001868305793389427, 0.0018663325989517583, 0.0018642871299108573, 0.0018620800354499682, 0.00186108343964946, 0.0018589047172274716, 0.0018577390762526697]\n"
     ]
    },
    {
     "data": {
      "application/vnd.jupyter.widget-view+json": {
       "model_id": "e098af2384b04071a7c6d37518f2f1b7",
       "version_major": 2,
       "version_minor": 0
      },
      "text/plain": [
       "0it [00:00, ?it/s]"
      ]
     },
     "metadata": {},
     "output_type": "display_data"
    },
    {
     "name": "stdout",
     "output_type": "stream",
     "text": [
      "Loss of train: 0.00174\n",
      "Loss of val: 0.00186\n",
      "Loss of test: 0.00171\n",
      "Loss of gw_test: 0.00183\n",
      "[0.0028867754745611615, 0.0027129774312766885, 0.002596987435310751, 0.002506482601842962, 0.0024270470293987533, 0.0023565199368809566, 0.0022950342839391335, 0.002242805362520868, 0.0021991507363785983, 0.0021637392253319354, 0.002137369776594656, 0.0021149837968814935, 0.002093183428105238, 0.002074052560575596, 0.002056832188358871, 0.0020389537864167902, 0.0020276290306005854, 0.002015059634983467, 0.0020015590850313318, 0.001990055379842633, 0.001979727906611314, 0.0019705542644287066, 0.0019615387448964666, 0.0019546701463400346, 0.001947918968160684, 0.0019422411955885633, 0.001934719215939731, 0.001928752055173434, 0.0019219821244510675, 0.0019166391953796182, 0.0019128823508096325, 0.001907505807677854, 0.0019054723895301168, 0.0019011747045204828, 0.0018961977113206435, 0.0018933698741085477, 0.0018912442030991417, 0.001888069300784686, 0.0018828088775414127, 0.0018802022971995513, 0.0018785763509879322, 0.0018767413079962653, 0.001874448254880404, 0.0018731947136880584, 0.001868305793389427, 0.0018663325989517583, 0.0018642871299108573, 0.0018620800354499682, 0.00186108343964946, 0.0018589047172274716, 0.0018577390762526697, 0.0018559266156003829]\n"
     ]
    },
    {
     "data": {
      "application/vnd.jupyter.widget-view+json": {
       "model_id": "d96fd11fb46b4772a58ce295ad6c9db3",
       "version_major": 2,
       "version_minor": 0
      },
      "text/plain": [
       "0it [00:00, ?it/s]"
      ]
     },
     "metadata": {},
     "output_type": "display_data"
    },
    {
     "name": "stdout",
     "output_type": "stream",
     "text": [
      "Loss of train: 0.00173\n",
      "Loss of val: 0.00186\n",
      "Loss of test: 0.00170\n",
      "Loss of gw_test: 0.00182\n",
      "[0.0028867754745611615, 0.0027129774312766885, 0.002596987435310751, 0.002506482601842962, 0.0024270470293987533, 0.0023565199368809566, 0.0022950342839391335, 0.002242805362520868, 0.0021991507363785983, 0.0021637392253319354, 0.002137369776594656, 0.0021149837968814935, 0.002093183428105238, 0.002074052560575596, 0.002056832188358871, 0.0020389537864167902, 0.0020276290306005854, 0.002015059634983467, 0.0020015590850313318, 0.001990055379842633, 0.001979727906611314, 0.0019705542644287066, 0.0019615387448964666, 0.0019546701463400346, 0.001947918968160684, 0.0019422411955885633, 0.001934719215939731, 0.001928752055173434, 0.0019219821244510675, 0.0019166391953796182, 0.0019128823508096325, 0.001907505807677854, 0.0019054723895301168, 0.0019011747045204828, 0.0018961977113206435, 0.0018933698741085477, 0.0018912442030991417, 0.001888069300784686, 0.0018828088775414127, 0.0018802022971995513, 0.0018785763509879322, 0.0018767413079962653, 0.001874448254880404, 0.0018731947136880584, 0.001868305793389427, 0.0018663325989517583, 0.0018642871299108573, 0.0018620800354499682, 0.00186108343964946, 0.0018589047172274716, 0.0018577390762526697, 0.0018559266156003829, 0.0018556319616830988]\n"
     ]
    },
    {
     "data": {
      "application/vnd.jupyter.widget-view+json": {
       "model_id": "a89a7a6b94904ec5b1a797e379a952b3",
       "version_major": 2,
       "version_minor": 0
      },
      "text/plain": [
       "0it [00:00, ?it/s]"
      ]
     },
     "metadata": {},
     "output_type": "display_data"
    },
    {
     "name": "stdout",
     "output_type": "stream",
     "text": [
      "Loss of train: 0.00173\n",
      "Loss of val: 0.00185\n",
      "Loss of test: 0.00170\n",
      "Loss of gw_test: 0.00183\n",
      "[0.0028867754745611615, 0.0027129774312766885, 0.002596987435310751, 0.002506482601842962, 0.0024270470293987533, 0.0023565199368809566, 0.0022950342839391335, 0.002242805362520868, 0.0021991507363785983, 0.0021637392253319354, 0.002137369776594656, 0.0021149837968814935, 0.002093183428105238, 0.002074052560575596, 0.002056832188358871, 0.0020389537864167902, 0.0020276290306005854, 0.002015059634983467, 0.0020015590850313318, 0.001990055379842633, 0.001979727906611314, 0.0019705542644287066, 0.0019615387448964666, 0.0019546701463400346, 0.001947918968160684, 0.0019422411955885633, 0.001934719215939731, 0.001928752055173434, 0.0019219821244510675, 0.0019166391953796182, 0.0019128823508096325, 0.001907505807677854, 0.0019054723895301168, 0.0019011747045204828, 0.0018961977113206435, 0.0018933698741085477, 0.0018912442030991417, 0.001888069300784686, 0.0018828088775414127, 0.0018802022971995513, 0.0018785763509879322, 0.0018767413079962653, 0.001874448254880404, 0.0018731947136880584, 0.001868305793389427, 0.0018663325989517583, 0.0018642871299108573, 0.0018620800354499682, 0.00186108343964946, 0.0018589047172274716, 0.0018577390762526697, 0.0018559266156003829, 0.0018556319616830988, 0.0018539615739761044]\n"
     ]
    },
    {
     "data": {
      "application/vnd.jupyter.widget-view+json": {
       "model_id": "6f293cc9a566472b9543e36948e36aaf",
       "version_major": 2,
       "version_minor": 0
      },
      "text/plain": [
       "0it [00:00, ?it/s]"
      ]
     },
     "metadata": {},
     "output_type": "display_data"
    },
    {
     "name": "stdout",
     "output_type": "stream",
     "text": [
      "Loss of train: 0.00173\n",
      "Loss of val: 0.00185\n",
      "Loss of test: 0.00170\n",
      "Loss of gw_test: 0.00182\n",
      "[0.0028867754745611615, 0.0027129774312766885, 0.002596987435310751, 0.002506482601842962, 0.0024270470293987533, 0.0023565199368809566, 0.0022950342839391335, 0.002242805362520868, 0.0021991507363785983, 0.0021637392253319354, 0.002137369776594656, 0.0021149837968814935, 0.002093183428105238, 0.002074052560575596, 0.002056832188358871, 0.0020389537864167902, 0.0020276290306005854, 0.002015059634983467, 0.0020015590850313318, 0.001990055379842633, 0.001979727906611314, 0.0019705542644287066, 0.0019615387448964666, 0.0019546701463400346, 0.001947918968160684, 0.0019422411955885633, 0.001934719215939731, 0.001928752055173434, 0.0019219821244510675, 0.0019166391953796182, 0.0019128823508096325, 0.001907505807677854, 0.0019054723895301168, 0.0019011747045204828, 0.0018961977113206435, 0.0018933698741085477, 0.0018912442030991417, 0.001888069300784686, 0.0018828088775414127, 0.0018802022971995513, 0.0018785763509879322, 0.0018767413079962653, 0.001874448254880404, 0.0018731947136880584, 0.001868305793389427, 0.0018663325989517583, 0.0018642871299108573, 0.0018620800354499682, 0.00186108343964946, 0.0018589047172274716, 0.0018577390762526697, 0.0018559266156003829, 0.0018556319616830988, 0.0018539615739761044, 0.0018521435389145515]\n"
     ]
    },
    {
     "data": {
      "application/vnd.jupyter.widget-view+json": {
       "model_id": "2d8481822d1c423a8ccf4d63a625dcf1",
       "version_major": 2,
       "version_minor": 0
      },
      "text/plain": [
       "0it [00:00, ?it/s]"
      ]
     },
     "metadata": {},
     "output_type": "display_data"
    },
    {
     "name": "stdout",
     "output_type": "stream",
     "text": [
      "Loss of train: 0.00173\n",
      "Loss of val: 0.00185\n",
      "Loss of test: 0.00170\n",
      "Loss of gw_test: 0.00182\n",
      "[0.0028867754745611615, 0.0027129774312766885, 0.002596987435310751, 0.002506482601842962, 0.0024270470293987533, 0.0023565199368809566, 0.0022950342839391335, 0.002242805362520868, 0.0021991507363785983, 0.0021637392253319354, 0.002137369776594656, 0.0021149837968814935, 0.002093183428105238, 0.002074052560575596, 0.002056832188358871, 0.0020389537864167902, 0.0020276290306005854, 0.002015059634983467, 0.0020015590850313318, 0.001990055379842633, 0.001979727906611314, 0.0019705542644287066, 0.0019615387448964666, 0.0019546701463400346, 0.001947918968160684, 0.0019422411955885633, 0.001934719215939731, 0.001928752055173434, 0.0019219821244510675, 0.0019166391953796182, 0.0019128823508096325, 0.001907505807677854, 0.0019054723895301168, 0.0019011747045204828, 0.0018961977113206435, 0.0018933698741085477, 0.0018912442030991417, 0.001888069300784686, 0.0018828088775414127, 0.0018802022971995513, 0.0018785763509879322, 0.0018767413079962653, 0.001874448254880404, 0.0018731947136880584, 0.001868305793389427, 0.0018663325989517583, 0.0018642871299108573, 0.0018620800354499682, 0.00186108343964946, 0.0018589047172274716, 0.0018577390762526697, 0.0018559266156003829, 0.0018556319616830988, 0.0018539615739761044, 0.0018521435389145515, 0.0018514649956678328]\n"
     ]
    },
    {
     "data": {
      "application/vnd.jupyter.widget-view+json": {
       "model_id": "655a5e33fd86429cb839163fd9eacbfc",
       "version_major": 2,
       "version_minor": 0
      },
      "text/plain": [
       "0it [00:00, ?it/s]"
      ]
     },
     "metadata": {},
     "output_type": "display_data"
    },
    {
     "name": "stdout",
     "output_type": "stream",
     "text": [
      "Loss of train: 0.00173\n",
      "Loss of val: 0.00185\n",
      "Loss of test: 0.00170\n",
      "Loss of gw_test: 0.00182\n",
      "[0.0028867754745611615, 0.0027129774312766885, 0.002596987435310751, 0.002506482601842962, 0.0024270470293987533, 0.0023565199368809566, 0.0022950342839391335, 0.002242805362520868, 0.0021991507363785983, 0.0021637392253319354, 0.002137369776594656, 0.0021149837968814935, 0.002093183428105238, 0.002074052560575596, 0.002056832188358871, 0.0020389537864167902, 0.0020276290306005854, 0.002015059634983467, 0.0020015590850313318, 0.001990055379842633, 0.001979727906611314, 0.0019705542644287066, 0.0019615387448964666, 0.0019546701463400346, 0.001947918968160684, 0.0019422411955885633, 0.001934719215939731, 0.001928752055173434, 0.0019219821244510675, 0.0019166391953796182, 0.0019128823508096325, 0.001907505807677854, 0.0019054723895301168, 0.0019011747045204828, 0.0018961977113206435, 0.0018933698741085477, 0.0018912442030991417, 0.001888069300784686, 0.0018828088775414127, 0.0018802022971995513, 0.0018785763509879322, 0.0018767413079962653, 0.001874448254880404, 0.0018731947136880584, 0.001868305793389427, 0.0018663325989517583, 0.0018642871299108573, 0.0018620800354499682, 0.00186108343964946, 0.0018589047172274716, 0.0018577390762526697, 0.0018559266156003829, 0.0018556319616830988, 0.0018539615739761044, 0.0018521435389145515, 0.0018514649956678328, 0.0018499762804869988]\n"
     ]
    },
    {
     "data": {
      "application/vnd.jupyter.widget-view+json": {
       "model_id": "0b0bfab4f2534409bd3a0dd70e7e8b63",
       "version_major": 2,
       "version_minor": 0
      },
      "text/plain": [
       "0it [00:00, ?it/s]"
      ]
     },
     "metadata": {},
     "output_type": "display_data"
    },
    {
     "name": "stdout",
     "output_type": "stream",
     "text": [
      "Loss of train: 0.00173\n",
      "Loss of val: 0.00185\n",
      "Loss of test: 0.00170\n",
      "Loss of gw_test: 0.00182\n",
      "[0.0028867754745611615, 0.0027129774312766885, 0.002596987435310751, 0.002506482601842962, 0.0024270470293987533, 0.0023565199368809566, 0.0022950342839391335, 0.002242805362520868, 0.0021991507363785983, 0.0021637392253319354, 0.002137369776594656, 0.0021149837968814935, 0.002093183428105238, 0.002074052560575596, 0.002056832188358871, 0.0020389537864167902, 0.0020276290306005854, 0.002015059634983467, 0.0020015590850313318, 0.001990055379842633, 0.001979727906611314, 0.0019705542644287066, 0.0019615387448964666, 0.0019546701463400346, 0.001947918968160684, 0.0019422411955885633, 0.001934719215939731, 0.001928752055173434, 0.0019219821244510675, 0.0019166391953796182, 0.0019128823508096325, 0.001907505807677854, 0.0019054723895301168, 0.0019011747045204828, 0.0018961977113206435, 0.0018933698741085477, 0.0018912442030991417, 0.001888069300784686, 0.0018828088775414127, 0.0018802022971995513, 0.0018785763509879322, 0.0018767413079962653, 0.001874448254880404, 0.0018731947136880584, 0.001868305793389427, 0.0018663325989517583, 0.0018642871299108573, 0.0018620800354499682, 0.00186108343964946, 0.0018589047172274716, 0.0018577390762526697, 0.0018559266156003829, 0.0018556319616830988, 0.0018539615739761044, 0.0018521435389145515, 0.0018514649956678328, 0.0018499762804869988, 0.0018510462358068977]\n",
      "Break at 57\n"
     ]
    },
    {
     "data": {
      "application/vnd.jupyter.widget-view+json": {
       "model_id": "af4574d24f7940bb81b5fbbeedcbe7f1",
       "version_major": 2,
       "version_minor": 0
      },
      "text/plain": [
       "0it [00:00, ?it/s]"
      ]
     },
     "metadata": {},
     "output_type": "display_data"
    },
    {
     "name": "stdout",
     "output_type": "stream",
     "text": [
      "Loss of train: 0.00182\n",
      "Loss of val: 0.00194\n",
      "Loss of test: 0.00179\n",
      "Loss of gw_test: 0.00182\n",
      "[0.0019433737603054282]\n"
     ]
    },
    {
     "data": {
      "application/vnd.jupyter.widget-view+json": {
       "model_id": "9ca645d607214b9ea412a3a403bbf214",
       "version_major": 2,
       "version_minor": 0
      },
      "text/plain": [
       "0it [00:00, ?it/s]"
      ]
     },
     "metadata": {},
     "output_type": "display_data"
    },
    {
     "name": "stdout",
     "output_type": "stream",
     "text": [
      "Loss of train: 0.00168\n",
      "Loss of val: 0.00186\n",
      "Loss of test: 0.00168\n",
      "Loss of gw_test: 0.00166\n",
      "[0.0019433737603054282, 0.0018563263190289126]\n"
     ]
    },
    {
     "data": {
      "application/vnd.jupyter.widget-view+json": {
       "model_id": "99e8bb246be54625ae15833eec826259",
       "version_major": 2,
       "version_minor": 0
      },
      "text/plain": [
       "0it [00:00, ?it/s]"
      ]
     },
     "metadata": {},
     "output_type": "display_data"
    },
    {
     "name": "stdout",
     "output_type": "stream",
     "text": [
      "Loss of train: 0.00161\n",
      "Loss of val: 0.00184\n",
      "Loss of test: 0.00166\n",
      "Loss of gw_test: 0.00164\n",
      "[0.0019433737603054282, 0.0018563263190289126, 0.0018428267541072873]\n"
     ]
    },
    {
     "data": {
      "application/vnd.jupyter.widget-view+json": {
       "model_id": "0a224925d2674fb0a70702e1de12c682",
       "version_major": 2,
       "version_minor": 0
      },
      "text/plain": [
       "0it [00:00, ?it/s]"
      ]
     },
     "metadata": {},
     "output_type": "display_data"
    },
    {
     "name": "stdout",
     "output_type": "stream",
     "text": [
      "Loss of train: 0.00162\n",
      "Loss of val: 0.00190\n",
      "Loss of test: 0.00167\n",
      "Loss of gw_test: 0.00163\n",
      "[0.0019433737603054282, 0.0018563263190289126, 0.0018428267541072873, 0.0019012291766230154]\n",
      "Break at 3\n"
     ]
    },
    {
     "data": {
      "application/vnd.jupyter.widget-view+json": {
       "model_id": "fc35f6b0de6644dda14695c433244ff2",
       "version_major": 2,
       "version_minor": 0
      },
      "text/plain": [
       "0it [00:00, ?it/s]"
      ]
     },
     "metadata": {},
     "output_type": "display_data"
    },
    {
     "name": "stdout",
     "output_type": "stream",
     "text": [
      "Loss of train: 0.00181\n",
      "Loss of val: 0.00193\n",
      "Loss of test: 0.00179\n",
      "Loss of gw_test: 0.00182\n",
      "[0.0019326726907632822]\n"
     ]
    },
    {
     "data": {
      "application/vnd.jupyter.widget-view+json": {
       "model_id": "32d4f45b77624768bee1deb3226829c0",
       "version_major": 2,
       "version_minor": 0
      },
      "text/plain": [
       "0it [00:00, ?it/s]"
      ]
     },
     "metadata": {},
     "output_type": "display_data"
    },
    {
     "name": "stdout",
     "output_type": "stream",
     "text": [
      "Loss of train: 0.00166\n",
      "Loss of val: 0.00184\n",
      "Loss of test: 0.00166\n",
      "Loss of gw_test: 0.00166\n",
      "[0.0019326726907632822, 0.0018352056557281553]\n"
     ]
    },
    {
     "data": {
      "application/vnd.jupyter.widget-view+json": {
       "model_id": "92a137caf1a746e882fc472429a8fdac",
       "version_major": 2,
       "version_minor": 0
      },
      "text/plain": [
       "0it [00:00, ?it/s]"
      ]
     },
     "metadata": {},
     "output_type": "display_data"
    },
    {
     "name": "stdout",
     "output_type": "stream",
     "text": [
      "Loss of train: 0.00162\n",
      "Loss of val: 0.00182\n",
      "Loss of test: 0.00165\n",
      "Loss of gw_test: 0.00165\n",
      "[0.0019326726907632822, 0.0018352056557281553, 0.001820532693739305]\n"
     ]
    },
    {
     "data": {
      "application/vnd.jupyter.widget-view+json": {
       "model_id": "926e99deb8e64621b08c1aeb040f2ad4",
       "version_major": 2,
       "version_minor": 0
      },
      "text/plain": [
       "0it [00:00, ?it/s]"
      ]
     },
     "metadata": {},
     "output_type": "display_data"
    },
    {
     "name": "stdout",
     "output_type": "stream",
     "text": [
      "Loss of train: 0.00163\n",
      "Loss of val: 0.00186\n",
      "Loss of test: 0.00167\n",
      "Loss of gw_test: 0.00164\n",
      "[0.0019326726907632822, 0.0018352056557281553, 0.001820532693739305, 0.0018640573974329324]\n",
      "Break at 3\n"
     ]
    },
    {
     "data": {
      "application/vnd.jupyter.widget-view+json": {
       "model_id": "38160891358247638ab88011a4588465",
       "version_major": 2,
       "version_minor": 0
      },
      "text/plain": [
       "0it [00:00, ?it/s]"
      ]
     },
     "metadata": {},
     "output_type": "display_data"
    },
    {
     "name": "stdout",
     "output_type": "stream",
     "text": [
      "Loss of train: 0.00186\n",
      "Loss of val: 0.00199\n",
      "Loss of test: 0.00185\n",
      "Loss of gw_test: 0.00193\n",
      "[0.0019947970754666555]\n"
     ]
    },
    {
     "data": {
      "application/vnd.jupyter.widget-view+json": {
       "model_id": "2f1f3c9415b945e8b721961429236874",
       "version_major": 2,
       "version_minor": 0
      },
      "text/plain": [
       "0it [00:00, ?it/s]"
      ]
     },
     "metadata": {},
     "output_type": "display_data"
    },
    {
     "name": "stdout",
     "output_type": "stream",
     "text": [
      "Loss of train: 0.00181\n",
      "Loss of val: 0.00194\n",
      "Loss of test: 0.00179\n",
      "Loss of gw_test: 0.00188\n",
      "[0.0019947970754666555, 0.0019437143009562057]\n"
     ]
    },
    {
     "data": {
      "application/vnd.jupyter.widget-view+json": {
       "model_id": "da8c017623844168955daea5120675a9",
       "version_major": 2,
       "version_minor": 0
      },
      "text/plain": [
       "0it [00:00, ?it/s]"
      ]
     },
     "metadata": {},
     "output_type": "display_data"
    },
    {
     "name": "stdout",
     "output_type": "stream",
     "text": [
      "Loss of train: 0.00180\n",
      "Loss of val: 0.00193\n",
      "Loss of test: 0.00179\n",
      "Loss of gw_test: 0.00191\n",
      "[0.0019947970754666555, 0.0019437143009562057, 0.0019334154094107845]\n"
     ]
    },
    {
     "data": {
      "application/vnd.jupyter.widget-view+json": {
       "model_id": "4b632f02b22f4ddebb4cd3aae322547e",
       "version_major": 2,
       "version_minor": 0
      },
      "text/plain": [
       "0it [00:00, ?it/s]"
      ]
     },
     "metadata": {},
     "output_type": "display_data"
    },
    {
     "name": "stdout",
     "output_type": "stream",
     "text": [
      "Loss of train: 0.00182\n",
      "Loss of val: 0.00197\n",
      "Loss of test: 0.00180\n",
      "Loss of gw_test: 0.00190\n",
      "[0.0019947970754666555, 0.0019437143009562057, 0.0019334154094107845, 0.0019714196220552023]\n",
      "Break at 3\n"
     ]
    },
    {
     "data": {
      "application/vnd.jupyter.widget-view+json": {
       "model_id": "3535b64550564a5fb51e46067711aee6",
       "version_major": 2,
       "version_minor": 0
      },
      "text/plain": [
       "0it [00:00, ?it/s]"
      ]
     },
     "metadata": {},
     "output_type": "display_data"
    },
    {
     "name": "stdout",
     "output_type": "stream",
     "text": [
      "Loss of train: 0.00177\n",
      "Loss of val: 0.00190\n",
      "Loss of test: 0.00177\n",
      "Loss of gw_test: 0.00172\n",
      "[0.0018973678973746345]\n"
     ]
    },
    {
     "data": {
      "application/vnd.jupyter.widget-view+json": {
       "model_id": "883c97ffb8a84d4e92fcadc5fce5f41d",
       "version_major": 2,
       "version_minor": 0
      },
      "text/plain": [
       "0it [00:00, ?it/s]"
      ]
     },
     "metadata": {},
     "output_type": "display_data"
    },
    {
     "name": "stdout",
     "output_type": "stream",
     "text": [
      "Loss of train: 0.00164\n",
      "Loss of val: 0.00179\n",
      "Loss of test: 0.00165\n",
      "Loss of gw_test: 0.00161\n",
      "[0.0018973678973746345, 0.0017922317313784073]\n"
     ]
    },
    {
     "data": {
      "application/vnd.jupyter.widget-view+json": {
       "model_id": "52c5c3c5fb694f75aae6991b8adae1e0",
       "version_major": 2,
       "version_minor": 0
      },
      "text/plain": [
       "0it [00:00, ?it/s]"
      ]
     },
     "metadata": {},
     "output_type": "display_data"
    },
    {
     "name": "stdout",
     "output_type": "stream",
     "text": [
      "Loss of train: 0.00156\n",
      "Loss of val: 0.00177\n",
      "Loss of test: 0.00162\n",
      "Loss of gw_test: 0.00153\n",
      "[0.0018973678973746345, 0.0017922317313784073, 0.0017738509009541101]\n"
     ]
    },
    {
     "data": {
      "application/vnd.jupyter.widget-view+json": {
       "model_id": "48d5503513f6466d84277feeed7b0c08",
       "version_major": 2,
       "version_minor": 0
      },
      "text/plain": [
       "0it [00:00, ?it/s]"
      ]
     },
     "metadata": {},
     "output_type": "display_data"
    },
    {
     "name": "stdout",
     "output_type": "stream",
     "text": [
      "Loss of train: 0.00157\n",
      "Loss of val: 0.00182\n",
      "Loss of test: 0.00163\n",
      "Loss of gw_test: 0.00156\n",
      "[0.0018973678973746345, 0.0017922317313784073, 0.0017738509009541101, 0.001823926558940024]\n",
      "Break at 3\n"
     ]
    },
    {
     "data": {
      "application/vnd.jupyter.widget-view+json": {
       "model_id": "81b80df436d84253b82b05f94dbb3178",
       "version_major": 2,
       "version_minor": 0
      },
      "text/plain": [
       "0it [00:00, ?it/s]"
      ]
     },
     "metadata": {},
     "output_type": "display_data"
    },
    {
     "name": "stdout",
     "output_type": "stream",
     "text": [
      "Loss of train: 0.00176\n",
      "Loss of val: 0.00190\n",
      "Loss of test: 0.00177\n",
      "Loss of gw_test: 0.00169\n",
      "[0.001900680872129494]\n"
     ]
    },
    {
     "data": {
      "application/vnd.jupyter.widget-view+json": {
       "model_id": "101ce4458f1c4798b6ef561b883a0d9b",
       "version_major": 2,
       "version_minor": 0
      },
      "text/plain": [
       "0it [00:00, ?it/s]"
      ]
     },
     "metadata": {},
     "output_type": "display_data"
    },
    {
     "name": "stdout",
     "output_type": "stream",
     "text": [
      "Loss of train: 0.00164\n",
      "Loss of val: 0.00178\n",
      "Loss of test: 0.00164\n",
      "Loss of gw_test: 0.00159\n",
      "[0.001900680872129494, 0.0017782687455777742]\n"
     ]
    },
    {
     "data": {
      "application/vnd.jupyter.widget-view+json": {
       "model_id": "e0df8c811bfa42f7b912c88b42771132",
       "version_major": 2,
       "version_minor": 0
      },
      "text/plain": [
       "0it [00:00, ?it/s]"
      ]
     },
     "metadata": {},
     "output_type": "display_data"
    },
    {
     "name": "stdout",
     "output_type": "stream",
     "text": [
      "Loss of train: 0.00156\n",
      "Loss of val: 0.00174\n",
      "Loss of test: 0.00161\n",
      "Loss of gw_test: 0.00151\n",
      "[0.001900680872129494, 0.0017782687455777742, 0.00174448832090337]\n"
     ]
    },
    {
     "data": {
      "application/vnd.jupyter.widget-view+json": {
       "model_id": "a2df132ba24c44ca91152f6feab0feba",
       "version_major": 2,
       "version_minor": 0
      },
      "text/plain": [
       "0it [00:00, ?it/s]"
      ]
     },
     "metadata": {},
     "output_type": "display_data"
    },
    {
     "name": "stdout",
     "output_type": "stream",
     "text": [
      "Loss of train: 0.00158\n",
      "Loss of val: 0.00179\n",
      "Loss of test: 0.00162\n",
      "Loss of gw_test: 0.00155\n",
      "[0.001900680872129494, 0.0017782687455777742, 0.00174448832090337, 0.0017856183096170684]\n",
      "Break at 3\n"
     ]
    },
    {
     "data": {
      "application/vnd.jupyter.widget-view+json": {
       "model_id": "a0981a7b40584b24be1bbd832920412b",
       "version_major": 2,
       "version_minor": 0
      },
      "text/plain": [
       "0it [00:00, ?it/s]"
      ]
     },
     "metadata": {},
     "output_type": "display_data"
    },
    {
     "name": "stdout",
     "output_type": "stream",
     "text": [
      "Loss of train: 0.00180\n",
      "Loss of val: 0.00195\n",
      "Loss of test: 0.00181\n",
      "Loss of gw_test: 0.00183\n",
      "[0.0019458375947435998]\n"
     ]
    },
    {
     "data": {
      "application/vnd.jupyter.widget-view+json": {
       "model_id": "7161b3c0a7424b3aab7f1a3f2e03a743",
       "version_major": 2,
       "version_minor": 0
      },
      "text/plain": [
       "0it [00:00, ?it/s]"
      ]
     },
     "metadata": {},
     "output_type": "display_data"
    },
    {
     "name": "stdout",
     "output_type": "stream",
     "text": [
      "Loss of train: 0.00175\n",
      "Loss of val: 0.00188\n",
      "Loss of test: 0.00175\n",
      "Loss of gw_test: 0.00182\n",
      "[0.0019458375947435998, 0.0018818929109039647]\n"
     ]
    },
    {
     "data": {
      "application/vnd.jupyter.widget-view+json": {
       "model_id": "a34f36c7baf9420798aabb8755c6c3e1",
       "version_major": 2,
       "version_minor": 0
      },
      "text/plain": [
       "0it [00:00, ?it/s]"
      ]
     },
     "metadata": {},
     "output_type": "display_data"
    },
    {
     "name": "stdout",
     "output_type": "stream",
     "text": [
      "Loss of train: 0.00177\n",
      "Loss of val: 0.00192\n",
      "Loss of test: 0.00176\n",
      "Loss of gw_test: 0.00180\n",
      "[0.0019458375947435998, 0.0018818929109039647, 0.0019232933885441413]\n",
      "Break at 2\n"
     ]
    },
    {
     "data": {
      "application/vnd.jupyter.widget-view+json": {
       "model_id": "7ed8dd906cfb49299b07c7ef8a8f5fc1",
       "version_major": 2,
       "version_minor": 0
      },
      "text/plain": [
       "0it [00:00, ?it/s]"
      ]
     },
     "metadata": {},
     "output_type": "display_data"
    },
    {
     "name": "stdout",
     "output_type": "stream",
     "text": [
      "Loss of train: 0.00173\n",
      "Loss of val: 0.00186\n",
      "Loss of test: 0.00170\n",
      "Loss of gw_test: 0.00172\n",
      "[0.0018559965668747077]\n"
     ]
    },
    {
     "data": {
      "application/vnd.jupyter.widget-view+json": {
       "model_id": "cb6423a5c5024e76af59b1ee2d3b45a8",
       "version_major": 2,
       "version_minor": 0
      },
      "text/plain": [
       "0it [00:00, ?it/s]"
      ]
     },
     "metadata": {},
     "output_type": "display_data"
    },
    {
     "name": "stdout",
     "output_type": "stream",
     "text": [
      "Loss of train: 0.00165\n",
      "Loss of val: 0.00186\n",
      "Loss of test: 0.00164\n",
      "Loss of gw_test: 0.00165\n",
      "[0.0018559965668747077, 0.001858665192993242]\n",
      "Break at 1\n"
     ]
    },
    {
     "data": {
      "application/vnd.jupyter.widget-view+json": {
       "model_id": "a3242ad2547d4195b28a8c6f0d10ecf7",
       "version_major": 2,
       "version_minor": 0
      },
      "text/plain": [
       "0it [00:00, ?it/s]"
      ]
     },
     "metadata": {},
     "output_type": "display_data"
    },
    {
     "name": "stdout",
     "output_type": "stream",
     "text": [
      "Loss of train: 0.00172\n",
      "Loss of val: 0.00184\n",
      "Loss of test: 0.00170\n",
      "Loss of gw_test: 0.00171\n",
      "[0.0018440947626354447]\n"
     ]
    },
    {
     "data": {
      "application/vnd.jupyter.widget-view+json": {
       "model_id": "4a75c82a6fde4d26a978b0e68ebc093a",
       "version_major": 2,
       "version_minor": 0
      },
      "text/plain": [
       "0it [00:00, ?it/s]"
      ]
     },
     "metadata": {},
     "output_type": "display_data"
    },
    {
     "name": "stdout",
     "output_type": "stream",
     "text": [
      "Loss of train: 0.00165\n",
      "Loss of val: 0.00184\n",
      "Loss of test: 0.00164\n",
      "Loss of gw_test: 0.00164\n",
      "[0.0018440947626354447, 0.0018435454195004724]\n"
     ]
    },
    {
     "data": {
      "application/vnd.jupyter.widget-view+json": {
       "model_id": "3285e8eee535447a99ba2f23b6a0db5d",
       "version_major": 2,
       "version_minor": 0
      },
      "text/plain": [
       "0it [00:00, ?it/s]"
      ]
     },
     "metadata": {},
     "output_type": "display_data"
    },
    {
     "name": "stdout",
     "output_type": "stream",
     "text": [
      "Loss of train: 0.00157\n",
      "Loss of val: 0.00174\n",
      "Loss of test: 0.00158\n",
      "Loss of gw_test: 0.00156\n",
      "[0.0018440947626354447, 0.0018435454195004724, 0.0017425930395291668]\n"
     ]
    },
    {
     "data": {
      "application/vnd.jupyter.widget-view+json": {
       "model_id": "04e25a53f9384a409e85e0f2ecfefd9b",
       "version_major": 2,
       "version_minor": 0
      },
      "text/plain": [
       "0it [00:00, ?it/s]"
      ]
     },
     "metadata": {},
     "output_type": "display_data"
    },
    {
     "name": "stdout",
     "output_type": "stream",
     "text": [
      "Loss of train: 0.00155\n",
      "Loss of val: 0.00174\n",
      "Loss of test: 0.00158\n",
      "Loss of gw_test: 0.00155\n",
      "[0.0018440947626354447, 0.0018435454195004724, 0.0017425930395291668, 0.0017363666450303183]\n"
     ]
    },
    {
     "data": {
      "application/vnd.jupyter.widget-view+json": {
       "model_id": "0818389bc4f045d18cd8cf3464950870",
       "version_major": 2,
       "version_minor": 0
      },
      "text/plain": [
       "0it [00:00, ?it/s]"
      ]
     },
     "metadata": {},
     "output_type": "display_data"
    },
    {
     "name": "stdout",
     "output_type": "stream",
     "text": [
      "Loss of train: 0.00155\n",
      "Loss of val: 0.00177\n",
      "Loss of test: 0.00158\n",
      "Loss of gw_test: 0.00157\n",
      "[0.0018440947626354447, 0.0018435454195004724, 0.0017425930395291668, 0.0017363666450303183, 0.0017680401059511945]\n",
      "Break at 4\n"
     ]
    },
    {
     "data": {
      "application/vnd.jupyter.widget-view+json": {
       "model_id": "7f6a1126056c450894b5ad4d6899f6d5",
       "version_major": 2,
       "version_minor": 0
      },
      "text/plain": [
       "0it [00:00, ?it/s]"
      ]
     },
     "metadata": {},
     "output_type": "display_data"
    },
    {
     "name": "stdout",
     "output_type": "stream",
     "text": [
      "Loss of train: 0.00179\n",
      "Loss of val: 0.00194\n",
      "Loss of test: 0.00177\n",
      "Loss of gw_test: 0.00187\n",
      "[0.001936288464912582]\n"
     ]
    },
    {
     "data": {
      "application/vnd.jupyter.widget-view+json": {
       "model_id": "7e3f1be30a2a45d4ab98fb2f15a0fe43",
       "version_major": 2,
       "version_minor": 0
      },
      "text/plain": [
       "0it [00:00, ?it/s]"
      ]
     },
     "metadata": {},
     "output_type": "display_data"
    },
    {
     "name": "stdout",
     "output_type": "stream",
     "text": [
      "Loss of train: 0.00177\n",
      "Loss of val: 0.00192\n",
      "Loss of test: 0.00174\n",
      "Loss of gw_test: 0.00180\n",
      "[0.001936288464912582, 0.0019232241536812928]\n"
     ]
    },
    {
     "data": {
      "application/vnd.jupyter.widget-view+json": {
       "model_id": "f9dcf79f42774d8ca8836f9e4e2b8a88",
       "version_major": 2,
       "version_minor": 0
      },
      "text/plain": [
       "0it [00:00, ?it/s]"
      ]
     },
     "metadata": {},
     "output_type": "display_data"
    },
    {
     "name": "stdout",
     "output_type": "stream",
     "text": [
      "Loss of train: 0.00179\n",
      "Loss of val: 0.00194\n",
      "Loss of test: 0.00177\n",
      "Loss of gw_test: 0.00182\n",
      "[0.001936288464912582, 0.0019232241536812928, 0.0019396749878126975]\n",
      "Break at 2\n"
     ]
    },
    {
     "data": {
      "application/vnd.jupyter.widget-view+json": {
       "model_id": "e985eb135e9746bca99ecc5c121b711f",
       "version_major": 2,
       "version_minor": 0
      },
      "text/plain": [
       "0it [00:00, ?it/s]"
      ]
     },
     "metadata": {},
     "output_type": "display_data"
    },
    {
     "name": "stdout",
     "output_type": "stream",
     "text": [
      "Loss of train: 0.00177\n",
      "Loss of val: 0.00192\n",
      "Loss of test: 0.00174\n",
      "Loss of gw_test: 0.00171\n",
      "[0.0019168905931676605]\n"
     ]
    },
    {
     "data": {
      "application/vnd.jupyter.widget-view+json": {
       "model_id": "a0062d0aca8d4f358e836142f8b6d95c",
       "version_major": 2,
       "version_minor": 0
      },
      "text/plain": [
       "0it [00:00, ?it/s]"
      ]
     },
     "metadata": {},
     "output_type": "display_data"
    },
    {
     "name": "stdout",
     "output_type": "stream",
     "text": [
      "Loss of train: 0.00168\n",
      "Loss of val: 0.00185\n",
      "Loss of test: 0.00168\n",
      "Loss of gw_test: 0.00162\n",
      "[0.0019168905931676605, 0.0018500769674784192]\n"
     ]
    },
    {
     "data": {
      "application/vnd.jupyter.widget-view+json": {
       "model_id": "0823616e3e0a4592a754b2b14e34cec7",
       "version_major": 2,
       "version_minor": 0
      },
      "text/plain": [
       "0it [00:00, ?it/s]"
      ]
     },
     "metadata": {},
     "output_type": "display_data"
    },
    {
     "name": "stdout",
     "output_type": "stream",
     "text": [
      "Loss of train: 0.00165\n",
      "Loss of val: 0.00184\n",
      "Loss of test: 0.00169\n",
      "Loss of gw_test: 0.00166\n",
      "[0.0019168905931676605, 0.0018500769674784192, 0.0018405207968378034]\n"
     ]
    },
    {
     "data": {
      "application/vnd.jupyter.widget-view+json": {
       "model_id": "6dd4389248ae469f8852572f19c6b51f",
       "version_major": 2,
       "version_minor": 0
      },
      "text/plain": [
       "0it [00:00, ?it/s]"
      ]
     },
     "metadata": {},
     "output_type": "display_data"
    },
    {
     "name": "stdout",
     "output_type": "stream",
     "text": [
      "Loss of train: 0.00159\n",
      "Loss of val: 0.00188\n",
      "Loss of test: 0.00165\n",
      "Loss of gw_test: 0.00155\n",
      "[0.0019168905931676605, 0.0018500769674784192, 0.0018405207968378034, 0.0018848356420069824]\n",
      "Break at 3\n"
     ]
    },
    {
     "data": {
      "application/vnd.jupyter.widget-view+json": {
       "model_id": "f5bcfd5cc71a4eb9b93e97e17c094024",
       "version_major": 2,
       "version_minor": 0
      },
      "text/plain": [
       "0it [00:00, ?it/s]"
      ]
     },
     "metadata": {},
     "output_type": "display_data"
    },
    {
     "name": "stdout",
     "output_type": "stream",
     "text": [
      "Loss of train: 0.00177\n",
      "Loss of val: 0.00191\n",
      "Loss of test: 0.00176\n",
      "Loss of gw_test: 0.00176\n",
      "[0.0019098549877813638]\n"
     ]
    },
    {
     "data": {
      "application/vnd.jupyter.widget-view+json": {
       "model_id": "018ce406360e44d1a9364a62a2c4b7b6",
       "version_major": 2,
       "version_minor": 0
      },
      "text/plain": [
       "0it [00:00, ?it/s]"
      ]
     },
     "metadata": {},
     "output_type": "display_data"
    },
    {
     "name": "stdout",
     "output_type": "stream",
     "text": [
      "Loss of train: 0.00166\n",
      "Loss of val: 0.00182\n",
      "Loss of test: 0.00167\n",
      "Loss of gw_test: 0.00162\n",
      "[0.0019098549877813638, 0.0018247754320484927]\n"
     ]
    },
    {
     "data": {
      "application/vnd.jupyter.widget-view+json": {
       "model_id": "00945313a7564267847b5df4d0cfc25f",
       "version_major": 2,
       "version_minor": 0
      },
      "text/plain": [
       "0it [00:00, ?it/s]"
      ]
     },
     "metadata": {},
     "output_type": "display_data"
    },
    {
     "name": "stdout",
     "output_type": "stream",
     "text": [
      "Loss of train: 0.00168\n",
      "Loss of val: 0.00183\n",
      "Loss of test: 0.00169\n",
      "Loss of gw_test: 0.00169\n",
      "[0.0019098549877813638, 0.0018247754320484927, 0.0018319002903410364]\n",
      "Break at 2\n"
     ]
    },
    {
     "data": {
      "application/vnd.jupyter.widget-view+json": {
       "model_id": "d03817add9cf4e2a9e0c0d7ca1eefe16",
       "version_major": 2,
       "version_minor": 0
      },
      "text/plain": [
       "0it [00:00, ?it/s]"
      ]
     },
     "metadata": {},
     "output_type": "display_data"
    },
    {
     "name": "stdout",
     "output_type": "stream",
     "text": [
      "Loss of train: 0.00184\n",
      "Loss of val: 0.00197\n",
      "Loss of test: 0.00183\n",
      "Loss of gw_test: 0.00194\n",
      "[0.001965835706722716]\n"
     ]
    },
    {
     "data": {
      "application/vnd.jupyter.widget-view+json": {
       "model_id": "12964ee5be3e489d8dcceb587b8f8c28",
       "version_major": 2,
       "version_minor": 0
      },
      "text/plain": [
       "0it [00:00, ?it/s]"
      ]
     },
     "metadata": {},
     "output_type": "display_data"
    },
    {
     "name": "stdout",
     "output_type": "stream",
     "text": [
      "Loss of train: 0.00183\n",
      "Loss of val: 0.00196\n",
      "Loss of test: 0.00180\n",
      "Loss of gw_test: 0.00189\n",
      "[0.001965835706722716, 0.0019569105721340776]\n"
     ]
    },
    {
     "data": {
      "application/vnd.jupyter.widget-view+json": {
       "model_id": "0c074065eda64f109cb61e6148bdc301",
       "version_major": 2,
       "version_minor": 0
      },
      "text/plain": [
       "0it [00:00, ?it/s]"
      ]
     },
     "metadata": {},
     "output_type": "display_data"
    },
    {
     "name": "stdout",
     "output_type": "stream",
     "text": [
      "Loss of train: 0.00182\n",
      "Loss of val: 0.00195\n",
      "Loss of test: 0.00181\n",
      "Loss of gw_test: 0.00191\n",
      "[0.001965835706722716, 0.0019569105721340776, 0.0019526426290639811]\n"
     ]
    },
    {
     "data": {
      "application/vnd.jupyter.widget-view+json": {
       "model_id": "7f63501a140746bfaec055a49844a775",
       "version_major": 2,
       "version_minor": 0
      },
      "text/plain": [
       "0it [00:00, ?it/s]"
      ]
     },
     "metadata": {},
     "output_type": "display_data"
    },
    {
     "name": "stdout",
     "output_type": "stream",
     "text": [
      "Loss of train: 0.00184\n",
      "Loss of val: 0.00197\n",
      "Loss of test: 0.00181\n",
      "Loss of gw_test: 0.00191\n",
      "[0.001965835706722716, 0.0019569105721340776, 0.0019526426290639811, 0.001971055382546647]\n",
      "Break at 3\n"
     ]
    },
    {
     "data": {
      "application/vnd.jupyter.widget-view+json": {
       "model_id": "9f214705580841569b5d79040ce2d945",
       "version_major": 2,
       "version_minor": 0
      },
      "text/plain": [
       "0it [00:00, ?it/s]"
      ]
     },
     "metadata": {},
     "output_type": "display_data"
    },
    {
     "name": "stdout",
     "output_type": "stream",
     "text": [
      "Loss of train: 0.00173\n",
      "Loss of val: 0.00186\n",
      "Loss of test: 0.00172\n",
      "Loss of gw_test: 0.00164\n",
      "[0.0018602815266219662]\n"
     ]
    },
    {
     "data": {
      "application/vnd.jupyter.widget-view+json": {
       "model_id": "2b92d2620ba04e9eb33697d718c56dff",
       "version_major": 2,
       "version_minor": 0
      },
      "text/plain": [
       "0it [00:00, ?it/s]"
      ]
     },
     "metadata": {},
     "output_type": "display_data"
    },
    {
     "name": "stdout",
     "output_type": "stream",
     "text": [
      "Loss of train: 0.00162\n",
      "Loss of val: 0.00177\n",
      "Loss of test: 0.00162\n",
      "Loss of gw_test: 0.00155\n",
      "[0.0018602815266219662, 0.0017688440806015524]\n"
     ]
    },
    {
     "data": {
      "application/vnd.jupyter.widget-view+json": {
       "model_id": "3670fcd809764cd4bf3759a8a89a81f5",
       "version_major": 2,
       "version_minor": 0
      },
      "text/plain": [
       "0it [00:00, ?it/s]"
      ]
     },
     "metadata": {},
     "output_type": "display_data"
    },
    {
     "name": "stdout",
     "output_type": "stream",
     "text": [
      "Loss of train: 0.00154\n",
      "Loss of val: 0.00176\n",
      "Loss of test: 0.00157\n",
      "Loss of gw_test: 0.00146\n",
      "[0.0018602815266219662, 0.0017688440806015524, 0.0017599623742614945]\n"
     ]
    },
    {
     "data": {
      "application/vnd.jupyter.widget-view+json": {
       "model_id": "db0ef259fd43414c9435f37abe380318",
       "version_major": 2,
       "version_minor": 0
      },
      "text/plain": [
       "0it [00:00, ?it/s]"
      ]
     },
     "metadata": {},
     "output_type": "display_data"
    },
    {
     "name": "stdout",
     "output_type": "stream",
     "text": [
      "Loss of train: 0.00155\n",
      "Loss of val: 0.00182\n",
      "Loss of test: 0.00163\n",
      "Loss of gw_test: 0.00152\n",
      "[0.0018602815266219662, 0.0017688440806015524, 0.0017599623742614945, 0.0018156831309258164]\n",
      "Break at 3\n"
     ]
    },
    {
     "data": {
      "application/vnd.jupyter.widget-view+json": {
       "model_id": "3fd6ab0cd7224ddf94b83a9780dfb02a",
       "version_major": 2,
       "version_minor": 0
      },
      "text/plain": [
       "0it [00:00, ?it/s]"
      ]
     },
     "metadata": {},
     "output_type": "display_data"
    },
    {
     "name": "stdout",
     "output_type": "stream",
     "text": [
      "Loss of train: 0.00170\n",
      "Loss of val: 0.00184\n",
      "Loss of test: 0.00171\n",
      "Loss of gw_test: 0.00162\n",
      "[0.0018350587256315617]\n"
     ]
    },
    {
     "data": {
      "application/vnd.jupyter.widget-view+json": {
       "model_id": "65719dc687a241fe86e3a3f920784d0c",
       "version_major": 2,
       "version_minor": 0
      },
      "text/plain": [
       "0it [00:00, ?it/s]"
      ]
     },
     "metadata": {},
     "output_type": "display_data"
    },
    {
     "name": "stdout",
     "output_type": "stream",
     "text": [
      "Loss of train: 0.00161\n",
      "Loss of val: 0.00174\n",
      "Loss of test: 0.00161\n",
      "Loss of gw_test: 0.00153\n",
      "[0.0018350587256315617, 0.0017422442281209277]\n"
     ]
    },
    {
     "data": {
      "application/vnd.jupyter.widget-view+json": {
       "model_id": "3c54de72f7334932ae9254ae2681ddda",
       "version_major": 2,
       "version_minor": 0
      },
      "text/plain": [
       "0it [00:00, ?it/s]"
      ]
     },
     "metadata": {},
     "output_type": "display_data"
    },
    {
     "name": "stdout",
     "output_type": "stream",
     "text": [
      "Loss of train: 0.00156\n",
      "Loss of val: 0.00172\n",
      "Loss of test: 0.00157\n",
      "Loss of gw_test: 0.00144\n",
      "[0.0018350587256315617, 0.0017422442281209277, 0.0017188352156411826]\n"
     ]
    },
    {
     "data": {
      "application/vnd.jupyter.widget-view+json": {
       "model_id": "fbcfaa5689f84c0ea9c65e8f1ab15e7c",
       "version_major": 2,
       "version_minor": 0
      },
      "text/plain": [
       "0it [00:00, ?it/s]"
      ]
     },
     "metadata": {},
     "output_type": "display_data"
    },
    {
     "name": "stdout",
     "output_type": "stream",
     "text": [
      "Loss of train: 0.00154\n",
      "Loss of val: 0.00170\n",
      "Loss of test: 0.00156\n",
      "Loss of gw_test: 0.00151\n",
      "[0.0018350587256315617, 0.0017422442281209277, 0.0017188352156411826, 0.001699896251298319]\n"
     ]
    },
    {
     "data": {
      "application/vnd.jupyter.widget-view+json": {
       "model_id": "95c8e2dec2264e8490df92e8d56378c0",
       "version_major": 2,
       "version_minor": 0
      },
      "text/plain": [
       "0it [00:00, ?it/s]"
      ]
     },
     "metadata": {},
     "output_type": "display_data"
    },
    {
     "name": "stdout",
     "output_type": "stream",
     "text": [
      "Loss of train: 0.00155\n",
      "Loss of val: 0.00177\n",
      "Loss of test: 0.00161\n",
      "Loss of gw_test: 0.00154\n",
      "[0.0018350587256315617, 0.0017422442281209277, 0.0017188352156411826, 0.001699896251298319, 0.0017650098156244377]\n",
      "Break at 4\n"
     ]
    },
    {
     "data": {
      "application/vnd.jupyter.widget-view+json": {
       "model_id": "7db1d76130404bb8bb2562915dd558d1",
       "version_major": 2,
       "version_minor": 0
      },
      "text/plain": [
       "0it [00:00, ?it/s]"
      ]
     },
     "metadata": {},
     "output_type": "display_data"
    },
    {
     "name": "stdout",
     "output_type": "stream",
     "text": [
      "Loss of train: 0.00179\n",
      "Loss of val: 0.00195\n",
      "Loss of test: 0.00178\n",
      "Loss of gw_test: 0.00182\n",
      "[0.0019483131411973525]\n"
     ]
    },
    {
     "data": {
      "application/vnd.jupyter.widget-view+json": {
       "model_id": "104c796b983d4ec7a36132a7ea2817b6",
       "version_major": 2,
       "version_minor": 0
      },
      "text/plain": [
       "0it [00:00, ?it/s]"
      ]
     },
     "metadata": {},
     "output_type": "display_data"
    },
    {
     "name": "stdout",
     "output_type": "stream",
     "text": [
      "Loss of train: 0.00178\n",
      "Loss of val: 0.00190\n",
      "Loss of test: 0.00177\n",
      "Loss of gw_test: 0.00186\n",
      "[0.0019483131411973525, 0.0018994278345978357]\n"
     ]
    },
    {
     "data": {
      "application/vnd.jupyter.widget-view+json": {
       "model_id": "d954e7bdda0544e99e37804dc2927474",
       "version_major": 2,
       "version_minor": 0
      },
      "text/plain": [
       "0it [00:00, ?it/s]"
      ]
     },
     "metadata": {},
     "output_type": "display_data"
    },
    {
     "name": "stdout",
     "output_type": "stream",
     "text": [
      "Loss of train: 0.00180\n",
      "Loss of val: 0.00194\n",
      "Loss of test: 0.00179\n",
      "Loss of gw_test: 0.00184\n",
      "[0.0019483131411973525, 0.0018994278345978357, 0.001942845188588664]\n",
      "Break at 2\n"
     ]
    },
    {
     "data": {
      "application/vnd.jupyter.widget-view+json": {
       "model_id": "d2df7c8255ff4fa8a2ade3a95d283a88",
       "version_major": 2,
       "version_minor": 0
      },
      "text/plain": [
       "0it [00:00, ?it/s]"
      ]
     },
     "metadata": {},
     "output_type": "display_data"
    },
    {
     "name": "stdout",
     "output_type": "stream",
     "text": [
      "Loss of train: 0.00170\n",
      "Loss of val: 0.00182\n",
      "Loss of test: 0.00167\n",
      "Loss of gw_test: 0.00169\n",
      "[0.0018221424141762308]\n"
     ]
    },
    {
     "data": {
      "application/vnd.jupyter.widget-view+json": {
       "model_id": "36b6f7d9f97e4f05a703c168c6e0f054",
       "version_major": 2,
       "version_minor": 0
      },
      "text/plain": [
       "0it [00:00, ?it/s]"
      ]
     },
     "metadata": {},
     "output_type": "display_data"
    },
    {
     "name": "stdout",
     "output_type": "stream",
     "text": [
      "Loss of train: 0.00164\n",
      "Loss of val: 0.00184\n",
      "Loss of test: 0.00165\n",
      "Loss of gw_test: 0.00168\n",
      "[0.0018221424141762308, 0.0018356006467549258]\n",
      "Break at 1\n"
     ]
    },
    {
     "data": {
      "application/vnd.jupyter.widget-view+json": {
       "model_id": "0f353fca46394a33a8bdb9d9b18eb596",
       "version_major": 2,
       "version_minor": 0
      },
      "text/plain": [
       "0it [00:00, ?it/s]"
      ]
     },
     "metadata": {},
     "output_type": "display_data"
    },
    {
     "name": "stdout",
     "output_type": "stream",
     "text": [
      "Loss of train: 0.00171\n",
      "Loss of val: 0.00184\n",
      "Loss of test: 0.00169\n",
      "Loss of gw_test: 0.00169\n",
      "[0.001841732560998567]\n"
     ]
    },
    {
     "data": {
      "application/vnd.jupyter.widget-view+json": {
       "model_id": "1fd87e17b22b4a6089d98c06db24b70d",
       "version_major": 2,
       "version_minor": 0
      },
      "text/plain": [
       "0it [00:00, ?it/s]"
      ]
     },
     "metadata": {},
     "output_type": "display_data"
    },
    {
     "name": "stdout",
     "output_type": "stream",
     "text": [
      "Loss of train: 0.00164\n",
      "Loss of val: 0.00181\n",
      "Loss of test: 0.00163\n",
      "Loss of gw_test: 0.00162\n",
      "[0.001841732560998567, 0.0018144520651331307]\n"
     ]
    },
    {
     "data": {
      "application/vnd.jupyter.widget-view+json": {
       "model_id": "089d328ce63142c5914393f80b8f00c1",
       "version_major": 2,
       "version_minor": 0
      },
      "text/plain": [
       "0it [00:00, ?it/s]"
      ]
     },
     "metadata": {},
     "output_type": "display_data"
    },
    {
     "name": "stdout",
     "output_type": "stream",
     "text": [
      "Loss of train: 0.00153\n",
      "Loss of val: 0.00172\n",
      "Loss of test: 0.00156\n",
      "Loss of gw_test: 0.00153\n",
      "[0.001841732560998567, 0.0018144520651331307, 0.0017223173326343562]\n"
     ]
    },
    {
     "data": {
      "application/vnd.jupyter.widget-view+json": {
       "model_id": "9a47e82188eb49f284ca8139ae6eb96e",
       "version_major": 2,
       "version_minor": 0
      },
      "text/plain": [
       "0it [00:00, ?it/s]"
      ]
     },
     "metadata": {},
     "output_type": "display_data"
    },
    {
     "name": "stdout",
     "output_type": "stream",
     "text": [
      "Loss of train: 0.00151\n",
      "Loss of val: 0.00167\n",
      "Loss of test: 0.00153\n",
      "Loss of gw_test: 0.00150\n",
      "[0.001841732560998567, 0.0018144520651331307, 0.0017223173326343562, 0.0016746032673778898]\n"
     ]
    },
    {
     "data": {
      "application/vnd.jupyter.widget-view+json": {
       "model_id": "476ada83ce6c4dd8b6f45b34a1f7eeb1",
       "version_major": 2,
       "version_minor": 0
      },
      "text/plain": [
       "0it [00:00, ?it/s]"
      ]
     },
     "metadata": {},
     "output_type": "display_data"
    },
    {
     "name": "stdout",
     "output_type": "stream",
     "text": [
      "Loss of train: 0.00154\n",
      "Loss of val: 0.00177\n",
      "Loss of test: 0.00157\n",
      "Loss of gw_test: 0.00155\n",
      "[0.001841732560998567, 0.0018144520651331307, 0.0017223173326343562, 0.0016746032673778898, 0.0017678268165133577]\n",
      "Break at 4\n"
     ]
    },
    {
     "data": {
      "application/vnd.jupyter.widget-view+json": {
       "model_id": "5df1c3046e0e4d799ba38130b11720a4",
       "version_major": 2,
       "version_minor": 0
      },
      "text/plain": [
       "0it [00:00, ?it/s]"
      ]
     },
     "metadata": {},
     "output_type": "display_data"
    },
    {
     "name": "stdout",
     "output_type": "stream",
     "text": [
      "Loss of train: 0.00178\n",
      "Loss of val: 0.00192\n",
      "Loss of test: 0.00177\n",
      "Loss of gw_test: 0.00189\n",
      "[0.0019242329363774585]\n"
     ]
    },
    {
     "data": {
      "application/vnd.jupyter.widget-view+json": {
       "model_id": "64adbe700c044f458ef32442615ed734",
       "version_major": 2,
       "version_minor": 0
      },
      "text/plain": [
       "0it [00:00, ?it/s]"
      ]
     },
     "metadata": {},
     "output_type": "display_data"
    },
    {
     "name": "stdout",
     "output_type": "stream",
     "text": [
      "Loss of train: 0.00178\n",
      "Loss of val: 0.00192\n",
      "Loss of test: 0.00176\n",
      "Loss of gw_test: 0.00185\n",
      "[0.0019242329363774585, 0.0019162155735706135]\n"
     ]
    },
    {
     "data": {
      "application/vnd.jupyter.widget-view+json": {
       "model_id": "78e8591382e640969a516dfba40916dc",
       "version_major": 2,
       "version_minor": 0
      },
      "text/plain": [
       "0it [00:00, ?it/s]"
      ]
     },
     "metadata": {},
     "output_type": "display_data"
    },
    {
     "name": "stdout",
     "output_type": "stream",
     "text": [
      "Loss of train: 0.00183\n",
      "Loss of val: 0.00199\n",
      "Loss of test: 0.00181\n",
      "Loss of gw_test: 0.00188\n",
      "[0.0019242329363774585, 0.0019162155735706135, 0.0019853254897711763]\n",
      "Break at 2\n"
     ]
    },
    {
     "data": {
      "application/vnd.jupyter.widget-view+json": {
       "model_id": "2216b941b46f424ba9555f7959965d59",
       "version_major": 2,
       "version_minor": 0
      },
      "text/plain": [
       "0it [00:00, ?it/s]"
      ]
     },
     "metadata": {},
     "output_type": "display_data"
    },
    {
     "name": "stdout",
     "output_type": "stream",
     "text": [
      "Loss of train: 0.00188\n",
      "Loss of val: 0.00201\n",
      "Loss of test: 0.00185\n",
      "Loss of gw_test: 0.00184\n",
      "[0.002010267325269561]\n"
     ]
    },
    {
     "data": {
      "application/vnd.jupyter.widget-view+json": {
       "model_id": "d376405f2d8e4cd1b5725f74755200cf",
       "version_major": 2,
       "version_minor": 0
      },
      "text/plain": [
       "0it [00:00, ?it/s]"
      ]
     },
     "metadata": {},
     "output_type": "display_data"
    },
    {
     "name": "stdout",
     "output_type": "stream",
     "text": [
      "Loss of train: 0.00173\n",
      "Loss of val: 0.00189\n",
      "Loss of test: 0.00174\n",
      "Loss of gw_test: 0.00167\n",
      "[0.002010267325269561, 0.001892115937888212]\n"
     ]
    },
    {
     "data": {
      "application/vnd.jupyter.widget-view+json": {
       "model_id": "1d8f65c87308470ea3b36fbe9442664e",
       "version_major": 2,
       "version_minor": 0
      },
      "text/plain": [
       "0it [00:00, ?it/s]"
      ]
     },
     "metadata": {},
     "output_type": "display_data"
    },
    {
     "name": "stdout",
     "output_type": "stream",
     "text": [
      "Loss of train: 0.00174\n",
      "Loss of val: 0.00191\n",
      "Loss of test: 0.00173\n",
      "Loss of gw_test: 0.00172\n",
      "[0.002010267325269561, 0.001892115937888212, 0.0019064754807194338]\n",
      "Break at 2\n"
     ]
    },
    {
     "data": {
      "application/vnd.jupyter.widget-view+json": {
       "model_id": "a6402788ce2642e7b1be834aaa2aa8ae",
       "version_major": 2,
       "version_minor": 0
      },
      "text/plain": [
       "0it [00:00, ?it/s]"
      ]
     },
     "metadata": {},
     "output_type": "display_data"
    },
    {
     "name": "stdout",
     "output_type": "stream",
     "text": [
      "Loss of train: 0.00180\n",
      "Loss of val: 0.00192\n",
      "Loss of test: 0.00177\n",
      "Loss of gw_test: 0.00177\n",
      "[0.0019167018815248794]\n"
     ]
    },
    {
     "data": {
      "application/vnd.jupyter.widget-view+json": {
       "model_id": "c586fb4e00354352995bf9ec2004451e",
       "version_major": 2,
       "version_minor": 0
      },
      "text/plain": [
       "0it [00:00, ?it/s]"
      ]
     },
     "metadata": {},
     "output_type": "display_data"
    },
    {
     "name": "stdout",
     "output_type": "stream",
     "text": [
      "Loss of train: 0.00167\n",
      "Loss of val: 0.00180\n",
      "Loss of test: 0.00166\n",
      "Loss of gw_test: 0.00161\n",
      "[0.0019167018815248794, 0.0017967297226666576]\n"
     ]
    },
    {
     "data": {
      "application/vnd.jupyter.widget-view+json": {
       "model_id": "55c28b64b3f745669eaf30c4ca9cfac9",
       "version_major": 2,
       "version_minor": 0
      },
      "text/plain": [
       "0it [00:00, ?it/s]"
      ]
     },
     "metadata": {},
     "output_type": "display_data"
    },
    {
     "name": "stdout",
     "output_type": "stream",
     "text": [
      "Loss of train: 0.00164\n",
      "Loss of val: 0.00177\n",
      "Loss of test: 0.00165\n",
      "Loss of gw_test: 0.00161\n",
      "[0.0019167018815248794, 0.0017967297226666576, 0.0017693793297021638]\n"
     ]
    },
    {
     "data": {
      "application/vnd.jupyter.widget-view+json": {
       "model_id": "68fe1c0e6b2547b1a514b7e7ee18841e",
       "version_major": 2,
       "version_minor": 0
      },
      "text/plain": [
       "0it [00:00, ?it/s]"
      ]
     },
     "metadata": {},
     "output_type": "display_data"
    },
    {
     "name": "stdout",
     "output_type": "stream",
     "text": [
      "Loss of train: 0.00162\n",
      "Loss of val: 0.00180\n",
      "Loss of test: 0.00163\n",
      "Loss of gw_test: 0.00157\n",
      "[0.0019167018815248794, 0.0017967297226666576, 0.0017693793297021638, 0.0018028786908329572]\n",
      "Break at 3\n"
     ]
    },
    {
     "data": {
      "application/vnd.jupyter.widget-view+json": {
       "model_id": "62ff13e7e324481db9d6266207d819d3",
       "version_major": 2,
       "version_minor": 0
      },
      "text/plain": [
       "0it [00:00, ?it/s]"
      ]
     },
     "metadata": {},
     "output_type": "display_data"
    },
    {
     "name": "stdout",
     "output_type": "stream",
     "text": [
      "Loss of train: 0.00186\n",
      "Loss of val: 0.00198\n",
      "Loss of test: 0.00183\n",
      "Loss of gw_test: 0.00193\n",
      "[0.001977034278183716]\n"
     ]
    },
    {
     "data": {
      "application/vnd.jupyter.widget-view+json": {
       "model_id": "4795cb049e034f4faf589ae8c3c0c805",
       "version_major": 2,
       "version_minor": 0
      },
      "text/plain": [
       "0it [00:00, ?it/s]"
      ]
     },
     "metadata": {},
     "output_type": "display_data"
    },
    {
     "name": "stdout",
     "output_type": "stream",
     "text": [
      "Loss of train: 0.00185\n",
      "Loss of val: 0.00196\n",
      "Loss of test: 0.00182\n",
      "Loss of gw_test: 0.00189\n",
      "[0.001977034278183716, 0.001961029980165289]\n"
     ]
    },
    {
     "data": {
      "application/vnd.jupyter.widget-view+json": {
       "model_id": "766ed4735b034de99c3663169f5cf7ce",
       "version_major": 2,
       "version_minor": 0
      },
      "text/plain": [
       "0it [00:00, ?it/s]"
      ]
     },
     "metadata": {},
     "output_type": "display_data"
    },
    {
     "name": "stdout",
     "output_type": "stream",
     "text": [
      "Loss of train: 0.00184\n",
      "Loss of val: 0.00196\n",
      "Loss of test: 0.00182\n",
      "Loss of gw_test: 0.00191\n",
      "[0.001977034278183716, 0.001961029980165289, 0.0019641648102761027]\n",
      "Break at 2\n"
     ]
    },
    {
     "data": {
      "application/vnd.jupyter.widget-view+json": {
       "model_id": "812d6f98fc4a44e0b306d1c413086e0f",
       "version_major": 2,
       "version_minor": 0
      },
      "text/plain": [
       "0it [00:00, ?it/s]"
      ]
     },
     "metadata": {},
     "output_type": "display_data"
    },
    {
     "name": "stdout",
     "output_type": "stream",
     "text": [
      "Loss of train: 0.00173\n",
      "Loss of val: 0.00187\n",
      "Loss of test: 0.00172\n",
      "Loss of gw_test: 0.00165\n",
      "[0.001873308959309832]\n"
     ]
    },
    {
     "data": {
      "application/vnd.jupyter.widget-view+json": {
       "model_id": "058373fdcdad488eb1170ff703345014",
       "version_major": 2,
       "version_minor": 0
      },
      "text/plain": [
       "0it [00:00, ?it/s]"
      ]
     },
     "metadata": {},
     "output_type": "display_data"
    },
    {
     "name": "stdout",
     "output_type": "stream",
     "text": [
      "Loss of train: 0.00161\n",
      "Loss of val: 0.00177\n",
      "Loss of test: 0.00160\n",
      "Loss of gw_test: 0.00152\n",
      "[0.001873308959309832, 0.0017695052934060195]\n"
     ]
    },
    {
     "data": {
      "application/vnd.jupyter.widget-view+json": {
       "model_id": "15bc73ecad354c5888bba5fa81f11bcb",
       "version_major": 2,
       "version_minor": 0
      },
      "text/plain": [
       "0it [00:00, ?it/s]"
      ]
     },
     "metadata": {},
     "output_type": "display_data"
    },
    {
     "name": "stdout",
     "output_type": "stream",
     "text": [
      "Loss of train: 0.00156\n",
      "Loss of val: 0.00180\n",
      "Loss of test: 0.00160\n",
      "Loss of gw_test: 0.00144\n",
      "[0.001873308959309832, 0.0017695052934060195, 0.0018013447443829304]\n",
      "Break at 2\n"
     ]
    },
    {
     "data": {
      "application/vnd.jupyter.widget-view+json": {
       "model_id": "8cfae2eceb784a05aa081232e0600e5f",
       "version_major": 2,
       "version_minor": 0
      },
      "text/plain": [
       "0it [00:00, ?it/s]"
      ]
     },
     "metadata": {},
     "output_type": "display_data"
    },
    {
     "name": "stdout",
     "output_type": "stream",
     "text": [
      "Loss of train: 0.00170\n",
      "Loss of val: 0.00183\n",
      "Loss of test: 0.00169\n",
      "Loss of gw_test: 0.00163\n",
      "[0.0018270646162884354]\n"
     ]
    },
    {
     "data": {
      "application/vnd.jupyter.widget-view+json": {
       "model_id": "c47984dfbe4a44c688d623f95149063f",
       "version_major": 2,
       "version_minor": 0
      },
      "text/plain": [
       "0it [00:00, ?it/s]"
      ]
     },
     "metadata": {},
     "output_type": "display_data"
    },
    {
     "name": "stdout",
     "output_type": "stream",
     "text": [
      "Loss of train: 0.00160\n",
      "Loss of val: 0.00172\n",
      "Loss of test: 0.00160\n",
      "Loss of gw_test: 0.00153\n",
      "[0.0018270646162884354, 0.0017164590683876027]\n"
     ]
    },
    {
     "data": {
      "application/vnd.jupyter.widget-view+json": {
       "model_id": "7deac8c85c754b99931ecff0d00a91cd",
       "version_major": 2,
       "version_minor": 0
      },
      "text/plain": [
       "0it [00:00, ?it/s]"
      ]
     },
     "metadata": {},
     "output_type": "display_data"
    },
    {
     "name": "stdout",
     "output_type": "stream",
     "text": [
      "Loss of train: 0.00163\n",
      "Loss of val: 0.00180\n",
      "Loss of test: 0.00163\n",
      "Loss of gw_test: 0.00150\n",
      "[0.0018270646162884354, 0.0017164590683876027, 0.0017962461593104345]\n",
      "Break at 2\n"
     ]
    },
    {
     "data": {
      "application/vnd.jupyter.widget-view+json": {
       "model_id": "a7f1b082f0cc4eaaadab8b2406c763ac",
       "version_major": 2,
       "version_minor": 0
      },
      "text/plain": [
       "0it [00:00, ?it/s]"
      ]
     },
     "metadata": {},
     "output_type": "display_data"
    },
    {
     "name": "stdout",
     "output_type": "stream",
     "text": [
      "Loss of train: 0.00181\n",
      "Loss of val: 0.00196\n",
      "Loss of test: 0.00180\n",
      "Loss of gw_test: 0.00186\n",
      "[0.0019649515449174024]\n"
     ]
    },
    {
     "data": {
      "application/vnd.jupyter.widget-view+json": {
       "model_id": "03e018a310ef46c482e269983689d460",
       "version_major": 2,
       "version_minor": 0
      },
      "text/plain": [
       "0it [00:00, ?it/s]"
      ]
     },
     "metadata": {},
     "output_type": "display_data"
    },
    {
     "name": "stdout",
     "output_type": "stream",
     "text": [
      "Loss of train: 0.00182\n",
      "Loss of val: 0.00192\n",
      "Loss of test: 0.00180\n",
      "Loss of gw_test: 0.00191\n",
      "[0.0019649515449174024, 0.0019248649250112177]\n"
     ]
    },
    {
     "data": {
      "application/vnd.jupyter.widget-view+json": {
       "model_id": "75db021615c04cfab66a3946a897ddc3",
       "version_major": 2,
       "version_minor": 0
      },
      "text/plain": [
       "0it [00:00, ?it/s]"
      ]
     },
     "metadata": {},
     "output_type": "display_data"
    },
    {
     "name": "stdout",
     "output_type": "stream",
     "text": [
      "Loss of train: 0.00183\n",
      "Loss of val: 0.00197\n",
      "Loss of test: 0.00181\n",
      "Loss of gw_test: 0.00188\n",
      "[0.0019649515449174024, 0.0019248649250112177, 0.001966425694851916]\n",
      "Break at 2\n"
     ]
    },
    {
     "data": {
      "application/vnd.jupyter.widget-view+json": {
       "model_id": "e0f5b3017f9e4e59a130a32312015851",
       "version_major": 2,
       "version_minor": 0
      },
      "text/plain": [
       "0it [00:00, ?it/s]"
      ]
     },
     "metadata": {},
     "output_type": "display_data"
    },
    {
     "name": "stdout",
     "output_type": "stream",
     "text": [
      "Loss of train: 0.00171\n",
      "Loss of val: 0.00185\n",
      "Loss of test: 0.00168\n",
      "Loss of gw_test: 0.00171\n",
      "[0.0018482462489145927]\n"
     ]
    },
    {
     "data": {
      "application/vnd.jupyter.widget-view+json": {
       "model_id": "92448a8fbc8b41d292b963b59bd11c5f",
       "version_major": 2,
       "version_minor": 0
      },
      "text/plain": [
       "0it [00:00, ?it/s]"
      ]
     },
     "metadata": {},
     "output_type": "display_data"
    },
    {
     "name": "stdout",
     "output_type": "stream",
     "text": [
      "Loss of train: 0.00165\n",
      "Loss of val: 0.00186\n",
      "Loss of test: 0.00164\n",
      "Loss of gw_test: 0.00163\n",
      "[0.0018482462489145927, 0.0018586113546284707]\n",
      "Break at 1\n"
     ]
    },
    {
     "data": {
      "application/vnd.jupyter.widget-view+json": {
       "model_id": "4049ac71640b43c799cbb26421f1f89d",
       "version_major": 2,
       "version_minor": 0
      },
      "text/plain": [
       "0it [00:00, ?it/s]"
      ]
     },
     "metadata": {},
     "output_type": "display_data"
    },
    {
     "name": "stdout",
     "output_type": "stream",
     "text": [
      "Loss of train: 0.00169\n",
      "Loss of val: 0.00182\n",
      "Loss of test: 0.00168\n",
      "Loss of gw_test: 0.00168\n",
      "[0.001821216692886893]\n"
     ]
    },
    {
     "data": {
      "application/vnd.jupyter.widget-view+json": {
       "model_id": "42f0b7ff33604098be51e8a8fe152379",
       "version_major": 2,
       "version_minor": 0
      },
      "text/plain": [
       "0it [00:00, ?it/s]"
      ]
     },
     "metadata": {},
     "output_type": "display_data"
    },
    {
     "name": "stdout",
     "output_type": "stream",
     "text": [
      "Loss of train: 0.00163\n",
      "Loss of val: 0.00178\n",
      "Loss of test: 0.00163\n",
      "Loss of gw_test: 0.00162\n",
      "[0.001821216692886893, 0.0017825958810527218]\n"
     ]
    },
    {
     "data": {
      "application/vnd.jupyter.widget-view+json": {
       "model_id": "a1a542fe67244f37bc6c57e72354e26d",
       "version_major": 2,
       "version_minor": 0
      },
      "text/plain": [
       "0it [00:00, ?it/s]"
      ]
     },
     "metadata": {},
     "output_type": "display_data"
    },
    {
     "name": "stdout",
     "output_type": "stream",
     "text": [
      "Loss of train: 0.00157\n",
      "Loss of val: 0.00173\n",
      "Loss of test: 0.00160\n",
      "Loss of gw_test: 0.00155\n",
      "[0.001821216692886893, 0.0017825958810527218, 0.001733542600933416]\n"
     ]
    },
    {
     "data": {
      "application/vnd.jupyter.widget-view+json": {
       "model_id": "8024b4a33ff94dc6af164763b2952446",
       "version_major": 2,
       "version_minor": 0
      },
      "text/plain": [
       "0it [00:00, ?it/s]"
      ]
     },
     "metadata": {},
     "output_type": "display_data"
    },
    {
     "name": "stdout",
     "output_type": "stream",
     "text": [
      "Loss of train: 0.00153\n",
      "Loss of val: 0.00170\n",
      "Loss of test: 0.00156\n",
      "Loss of gw_test: 0.00150\n",
      "[0.001821216692886893, 0.0017825958810527218, 0.001733542600933416, 0.001699232155071687]\n"
     ]
    },
    {
     "data": {
      "application/vnd.jupyter.widget-view+json": {
       "model_id": "80ea022084584a91a5e550e4540b7ea0",
       "version_major": 2,
       "version_minor": 0
      },
      "text/plain": [
       "0it [00:00, ?it/s]"
      ]
     },
     "metadata": {},
     "output_type": "display_data"
    },
    {
     "name": "stdout",
     "output_type": "stream",
     "text": [
      "Loss of train: 0.00156\n",
      "Loss of val: 0.00179\n",
      "Loss of test: 0.00161\n",
      "Loss of gw_test: 0.00157\n",
      "[0.001821216692886893, 0.0017825958810527218, 0.001733542600933416, 0.001699232155071687, 0.0017940524636346439]\n",
      "Break at 4\n"
     ]
    },
    {
     "data": {
      "application/vnd.jupyter.widget-view+json": {
       "model_id": "fad503f81c8c470c841a1a3a778492f6",
       "version_major": 2,
       "version_minor": 0
      },
      "text/plain": [
       "0it [00:00, ?it/s]"
      ]
     },
     "metadata": {},
     "output_type": "display_data"
    },
    {
     "name": "stdout",
     "output_type": "stream",
     "text": [
      "Loss of train: 0.00182\n",
      "Loss of val: 0.00196\n",
      "Loss of test: 0.00179\n",
      "Loss of gw_test: 0.00192\n",
      "[0.001958284231462514]\n"
     ]
    },
    {
     "data": {
      "application/vnd.jupyter.widget-view+json": {
       "model_id": "7caf2b16d93b49eea8f9f2837101d08d",
       "version_major": 2,
       "version_minor": 0
      },
      "text/plain": [
       "0it [00:00, ?it/s]"
      ]
     },
     "metadata": {},
     "output_type": "display_data"
    },
    {
     "name": "stdout",
     "output_type": "stream",
     "text": [
      "Loss of train: 0.00181\n",
      "Loss of val: 0.00195\n",
      "Loss of test: 0.00179\n",
      "Loss of gw_test: 0.00190\n",
      "[0.001958284231462514, 0.0019453339298237744]\n"
     ]
    },
    {
     "data": {
      "application/vnd.jupyter.widget-view+json": {
       "model_id": "ddbf026456f84a798ba7b9efdb6e7e96",
       "version_major": 2,
       "version_minor": 0
      },
      "text/plain": [
       "0it [00:00, ?it/s]"
      ]
     },
     "metadata": {},
     "output_type": "display_data"
    },
    {
     "name": "stdout",
     "output_type": "stream",
     "text": [
      "Loss of train: 0.00187\n",
      "Loss of val: 0.00202\n",
      "Loss of test: 0.00184\n",
      "Loss of gw_test: 0.00192\n",
      "[0.001958284231462514, 0.0019453339298237744, 0.0020242793221929263]\n",
      "Break at 2\n"
     ]
    }
   ],
   "source": [
    "from sklearn.model_selection import ParameterGrid\n",
    "import copy\n",
    "\n",
    "torch.manual_seed(42)\n",
    "space = {\n",
    "    'lr': np.linspace(1e-4, 1e-2, 4, endpoint=True), #np.linspace(1e-4, 1e-2, 4, endpoint=True),\n",
    "    'dropout':[0, 0.2,.4],\n",
    "    'num_heads':[1, 2, 4],\n",
    "    'wd':[0, 1e-4, 1e-2],\n",
    "}\n",
    "param_grid = ParameterGrid(space)\n",
    "\n",
    "best_hyper_params = {'dropout': 0, 'lr': 0.006700000000000001, 'num_heads': 4, 'wd': 0.0001}\n",
    "best_val_loss = 0.001575872745897522\n",
    "\n",
    "processed_params = []\n",
    "processed_losses = []\n",
    "\n",
    "save_progress_iter = 1\n",
    "\n",
    "patience = 2\n",
    "for i, params in tqdm(enumerate(param_grid.__iter__())):\n",
    "    if i <= 79:\n",
    "        continue\n",
    "    torch.manual_seed(42)\n",
    "    input_dim, n_embd, n_heads, dropout, n_blocks = len(FEATURES), len(FEATURES), params[\"num_heads\"], params[\"dropout\"], 1\n",
    "    model = TransformerModel(input_dim, n_embd, n_heads, dropout, n_blocks).to(device)\n",
    "    optim= torch.optim.Adam(model.parameters(), lr = params[\"lr\"], weight_decay=params[\"wd\"])\n",
    "\n",
    "    models = []\n",
    "\n",
    "    torch.manual_seed(42)\n",
    "\n",
    "    last_val_loss = None\n",
    "    val_losses = []\n",
    "    never_breaked = True\n",
    "    for epoch in range(100):#5\n",
    "        for i, (x,y) in tqdm(enumerate(batch_loader[TRAIN])):\n",
    "            model.train()\n",
    "            optim.zero_grad()\n",
    "            \n",
    "            logits, logits_mask = model(x)\n",
    "            loss = torch.nn.functional.binary_cross_entropy_with_logits(logits[logits_mask].squeeze(-1), y[logits_mask], pos_weight=torch.tensor(WEIGHT))\n",
    "                \n",
    "            loss.backward()\n",
    "            optim.step()\n",
    "        losses = evaluate_loss_sets(model)\n",
    "        val_losses.append(losses[VAL])\n",
    "        models.append(copy.deepcopy(model))\n",
    "        print(val_losses)\n",
    "        if len(val_losses) >= patience and all(list(map(lambda l: losses[VAL] >= l, val_losses[-patience:]))):\n",
    "            print(f\"Break at {epoch}\")\n",
    "            never_breaked = False\n",
    "            model = models[-2]\n",
    "            break\n",
    "    if never_breaked:\n",
    "        print(\"Never breaked with params\")\n",
    "        print(params)\n",
    "    processed_params.append(params)\n",
    "    processed_losses.append(val_losses[-1])\n",
    "\n",
    "    if i % save_progress_iter == 0:\n",
    "        df = pd.DataFrame()\n",
    "        df[\"params\"] = processed_params\n",
    "        df[\"losses\"] = processed_losses\n",
    "        df.to_csv(\"cnn_params.csv\")\n",
    "    # evaluate_auroc_sets(model)\n",
    "    if val_losses[-1]<= best_val_loss:\n",
    "        best_val_loss = min(val_losses[-1], best_val_loss)\n",
    "        best_hyper_params = params\n",
    "        print(\"Currently best params: \")\n",
    "        print(best_hyper_params)"
   ]
  },
  {
   "cell_type": "code",
   "execution_count": 42,
   "id": "ba0926d7-cc58-43c7-9a44-3dcbc48e85e4",
   "metadata": {},
   "outputs": [
    {
     "data": {
      "text/plain": [
       "{'dropout': 0, 'lr': 0.006700000000000001, 'num_heads': 4, 'wd': 0.0001}"
      ]
     },
     "execution_count": 42,
     "metadata": {},
     "output_type": "execute_result"
    }
   ],
   "source": [
    "best_hyper_params"
   ]
  },
  {
   "cell_type": "code",
   "execution_count": 43,
   "id": "8866ec61-b068-4cbf-b6f6-528b8059df3d",
   "metadata": {},
   "outputs": [
    {
     "data": {
      "text/plain": [
       "0.001575872745897522"
      ]
     },
     "execution_count": 43,
     "metadata": {},
     "output_type": "execute_result"
    }
   ],
   "source": [
    "best_val_loss"
   ]
  },
  {
   "cell_type": "code",
   "execution_count": 30,
   "id": "3ad29fc1-d219-4d78-949e-a559f4d22d1d",
   "metadata": {},
   "outputs": [
    {
     "data": {
      "text/html": [
       "<div>\n",
       "<style scoped>\n",
       "    .dataframe tbody tr th:only-of-type {\n",
       "        vertical-align: middle;\n",
       "    }\n",
       "\n",
       "    .dataframe tbody tr th {\n",
       "        vertical-align: top;\n",
       "    }\n",
       "\n",
       "    .dataframe thead th {\n",
       "        text-align: right;\n",
       "    }\n",
       "</style>\n",
       "<table border=\"1\" class=\"dataframe\">\n",
       "  <thead>\n",
       "    <tr style=\"text-align: right;\">\n",
       "      <th></th>\n",
       "      <th>params</th>\n",
       "      <th>loss</th>\n",
       "    </tr>\n",
       "  </thead>\n",
       "  <tbody>\n",
       "    <tr>\n",
       "      <th>0</th>\n",
       "      <td>{'dropout': 0.4, 'lr': 0.0001, 'num_heads': 4,...</td>\n",
       "      <td>0.001771</td>\n",
       "    </tr>\n",
       "  </tbody>\n",
       "</table>\n",
       "</div>"
      ],
      "text/plain": [
       "                                              params      loss\n",
       "0  {'dropout': 0.4, 'lr': 0.0001, 'num_heads': 4,...  0.001771"
      ]
     },
     "execution_count": 30,
     "metadata": {},
     "output_type": "execute_result"
    }
   ],
   "source": [
    "df"
   ]
  },
  {
   "cell_type": "code",
   "execution_count": 32,
   "id": "fbbe997b-758c-43d6-a863-188913659c57",
   "metadata": {},
   "outputs": [
    {
     "data": {
      "text/plain": [
       "[{'dropout': 0.4, 'lr': 0.0001, 'num_heads': 4, 'wd': 0},\n",
       " {'dropout': 0.4, 'lr': 0.0001, 'num_heads': 4, 'wd': 0.0001}]"
      ]
     },
     "execution_count": 32,
     "metadata": {},
     "output_type": "execute_result"
    }
   ],
   "source": [
    "processed_params"
   ]
  },
  {
   "cell_type": "code",
   "execution_count": null,
   "id": "8de4e921-c346-4efa-afb9-b6d0f127b5ce",
   "metadata": {},
   "outputs": [],
   "source": []
  }
 ],
 "metadata": {
  "kernelspec": {
   "display_name": "Python 3 (ipykernel)",
   "language": "python",
   "name": "python3"
  },
  "language_info": {
   "codemirror_mode": {
    "name": "ipython",
    "version": 3
   },
   "file_extension": ".py",
   "mimetype": "text/x-python",
   "name": "python",
   "nbconvert_exporter": "python",
   "pygments_lexer": "ipython3",
   "version": "3.10.12"
  }
 },
 "nbformat": 4,
 "nbformat_minor": 5
}
