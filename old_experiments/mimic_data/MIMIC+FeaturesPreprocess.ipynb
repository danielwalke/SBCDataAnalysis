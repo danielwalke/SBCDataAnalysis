{
 "cells": [
  {
   "cell_type": "code",
   "execution_count": null,
   "id": "10d39ea9",
   "metadata": {
    "scrolled": true
   },
   "outputs": [],
   "source": [
    "import pandas as pd\n",
    "from dataAnalysis.DataAnalysis import DataAnalysis\n",
    "\n",
    "data = pd.read_csv(r\"extdata/sbcdata.csv\", header=0)\n",
    "mimc_data = pd.read_csv(\"mimic_cbc.csv\")\n",
    "data_analysis = DataAnalysis(data, mimc_data)\n",
    "mimic_data = data_analysis.get_mimic_data()"
   ]
  },
  {
   "cell_type": "code",
   "execution_count": null,
   "id": "a840502f",
   "metadata": {},
   "outputs": [],
   "source": [
    "labs = pd.read_csv(\"../mimic/mimic-iv-2.2/hosp/labevents.csv\")"
   ]
  },
  {
   "cell_type": "code",
   "execution_count": null,
   "id": "230cfcb7",
   "metadata": {},
   "outputs": [],
   "source": [
    "micro_events = pd.read_csv(\"../mimic/mimic-iv-2.2/hosp/microbiologyevents.csv\")"
   ]
  },
  {
   "cell_type": "code",
   "execution_count": null,
   "id": "6319c777",
   "metadata": {},
   "outputs": [],
   "source": [
    "omr_events = pd.read_csv(\"../mimic/mimic-iv-2.2/hosp/omr.csv\")\n",
    "omr_pivot = omr_events.pivot_table(index=[\"subject_id\",  \"chartdate\"],columns='result_name', values=\"result_value\", aggfunc='first').reset_index()"
   ]
  },
  {
   "cell_type": "code",
   "execution_count": null,
   "id": "58e16974",
   "metadata": {},
   "outputs": [],
   "source": [
    "omr_item_ids = []\n",
    "nan_values = []\n",
    "for i, column in enumerate(omr_pivot.columns):\n",
    "    if i < 2: \n",
    "        continue\n",
    "    omr_item_ids.append(column)\n",
    "    nan_values.append(omr_pivot[column].isna().sum())\n",
    "    print(f\"{column} - {str(omr_pivot[column].isna().sum())}\")\n",
    "omr_df = pd.DataFrame({\"omr_item_ids\": omr_item_ids, \"nan_values\": nan_values})\n",
    "omr_df.sort_values(\"nan_values\").reset_index().iloc[:8, :][\"omr_item_ids\"].values"
   ]
  },
  {
   "cell_type": "code",
   "execution_count": null,
   "id": "712e3115",
   "metadata": {},
   "outputs": [],
   "source": [
    "pivot_hemato_df_wo_hadm = labs.pivot_table(index=[\"subject_id\",  \"charttime\"],columns='itemid', values=\"valuenum\", aggfunc='first').reset_index()\n",
    "# hemato_df_pivot = pd.merge(pivot_hemato_df_wo_hadm, hemato_df[[\"subject_id\", \"charttime\", \"hadm_id\"]].drop_duplicates(), on=[\"subject_id\", \"charttime\"], how=\"left\")"
   ]
  },
  {
   "cell_type": "code",
   "execution_count": null,
   "id": "99b2984e",
   "metadata": {},
   "outputs": [],
   "source": [
    "pivot_hemato_df_wo_hadm.pop(51301)\n",
    "pivot_hemato_df_wo_hadm.pop(51279)\n",
    "pivot_hemato_df_wo_hadm.pop(51265)\n",
    "pivot_hemato_df_wo_hadm.pop(51222)\n",
    "pivot_hemato_df_wo_hadm.pop(51250)"
   ]
  },
  {
   "cell_type": "code",
   "execution_count": null,
   "id": "e4daf290",
   "metadata": {
    "scrolled": true
   },
   "outputs": [],
   "source": [
    "lab_item_ids = []\n",
    "nan_values = []\n",
    "for i, column in enumerate(pivot_hemato_df_wo_hadm.columns):\n",
    "    if i < 2: \n",
    "        continue\n",
    "    lab_item_ids.append(column)\n",
    "    nan_values.append(pivot_hemato_df_wo_hadm[column].isna().sum())\n",
    "    print(f\"{column} - {str(pivot_hemato_df_wo_hadm[column].isna().sum())}\")\n",
    "\n",
    "lab_nan_df = pd.DataFrame(data={\"lab_item_ids\": lab_item_ids, \"nan_values\": nan_values})"
   ]
  },
  {
   "cell_type": "code",
   "execution_count": null,
   "id": "0bb87788",
   "metadata": {},
   "outputs": [],
   "source": [
    "import numpy as np\n",
    "most_prev_lab_items = np.squeeze(lab_nan_df.sort_values(\"nan_values\").iloc[:20, :].loc[:, [\"lab_item_ids\"]].values)"
   ]
  },
  {
   "cell_type": "code",
   "execution_count": null,
   "id": "e67cba1c",
   "metadata": {},
   "outputs": [],
   "source": [
    "most_prev_lab_items"
   ]
  },
  {
   "cell_type": "code",
   "execution_count": null,
   "id": "c3cb2fbc",
   "metadata": {},
   "outputs": [],
   "source": [
    "list(map(lambda x: f\"F{str(x[0]+1)}\", enumerate(most_prev_lab_items.tolist())))"
   ]
  },
  {
   "cell_type": "code",
   "execution_count": null,
   "id": "68c880f4",
   "metadata": {},
   "outputs": [],
   "source": [
    "more_labs = pd.merge(mimic_data, pivot_hemato_df_wo_hadm.loc[:, [\"subject_id\",\"charttime\", 50970]] , on=\"subject_id\")"
   ]
  },
  {
   "cell_type": "code",
   "execution_count": null,
   "id": "f78f39b7",
   "metadata": {},
   "outputs": [],
   "source": [
    "more_labs['outtime']= pd.to_datetime(more_labs['outtime']).dt.tz_localize(None)\n",
    "more_labs['intime']= pd.to_datetime(more_labs['intime']).dt.tz_localize(None)\n",
    "more_labs['charttime_y']= pd.to_datetime(more_labs['charttime_y']).dt.tz_localize(None)"
   ]
  },
  {
   "cell_type": "code",
   "execution_count": null,
   "id": "b489f61f",
   "metadata": {},
   "outputs": [],
   "source": [
    "more_labs.info()"
   ]
  },
  {
   "cell_type": "code",
   "execution_count": null,
   "id": "c48ccd60",
   "metadata": {},
   "outputs": [],
   "source": [
    "more_labs_red = more_labs[more_labs[\"charttime_y\"] >= more_labs[\"intime\"]]\n",
    "more_labs_red = more_labs[more_labs[\"charttime_y\"] < more_labs[\"outtime\"]]"
   ]
  },
  {
   "cell_type": "code",
   "execution_count": null,
   "id": "858f1bce",
   "metadata": {},
   "outputs": [],
   "source": [
    "more_labs_red_unique = more_labs_red.drop_duplicates(subset=[\"subject_id\", \"HGB\", \"RBC\", \"WBC\", \"CRP\", \"PLT\", \"MCV\", 50970, \"Age\", \"Sex\", \"Label\"])"
   ]
  },
  {
   "cell_type": "code",
   "execution_count": null,
   "id": "ee3bd069",
   "metadata": {},
   "outputs": [],
   "source": [
    "more_labs_red_num = more_labs_red_unique.dropna(subset=[\"HGB\", \"RBC\", \"WBC\", \"CRP\", \"PLT\", \"MCV\", \"Age\", \"Sex\"])"
   ]
  },
  {
   "cell_type": "code",
   "execution_count": null,
   "id": "002ab774",
   "metadata": {},
   "outputs": [],
   "source": [
    "more_labs_red_num"
   ]
  },
  {
   "cell_type": "code",
   "execution_count": null,
   "id": "c4a96b37",
   "metadata": {},
   "outputs": [],
   "source": [
    "labs.head()"
   ]
  },
  {
   "cell_type": "code",
   "execution_count": null,
   "id": "30076ba7",
   "metadata": {},
   "outputs": [],
   "source": [
    "labs.columns"
   ]
  },
  {
   "cell_type": "code",
   "execution_count": null,
   "id": "226dcc05",
   "metadata": {},
   "outputs": [],
   "source": []
  }
 ],
 "metadata": {
  "kernelspec": {
   "display_name": "Python 3 (ipykernel)",
   "language": "python",
   "name": "python3"
  },
  "language_info": {
   "codemirror_mode": {
    "name": "ipython",
    "version": 3
   },
   "file_extension": ".py",
   "mimetype": "text/x-python",
   "name": "python",
   "nbconvert_exporter": "python",
   "pygments_lexer": "ipython3",
   "version": "3.10.6"
  }
 },
 "nbformat": 4,
 "nbformat_minor": 5
}
