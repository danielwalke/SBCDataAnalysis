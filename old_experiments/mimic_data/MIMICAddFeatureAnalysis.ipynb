{
 "cells": [
  {
   "cell_type": "code",
   "execution_count": 1,
   "id": "59d91e79",
   "metadata": {},
   "outputs": [
    {
     "name": "stderr",
     "output_type": "stream",
     "text": [
      "/tmp/ipykernel_633184/2040356837.py:4: DtypeWarning: Columns (37,38,39,40) have mixed types. Specify dtype option on import or set low_memory=False.\n",
      "  mimc_data = pd.read_csv(\"mimic_cbc+10+omr.csv\")\n"
     ]
    },
    {
     "name": "stdout",
     "output_type": "stream",
     "text": [
      "(3968223, 41)\n"
     ]
    },
    {
     "name": "stderr",
     "output_type": "stream",
     "text": [
      "/home/dwalke/git/sbc/dataAnalysis/data/Filter.py:34: SettingWithCopyWarning: \n",
      "A value is trying to be set on a copy of a slice from a DataFrame.\n",
      "Try using .loc[row_indexer,col_indexer] = value instead\n",
      "\n",
      "See the caveats in the documentation: https://pandas.pydata.org/pandas-docs/stable/user_guide/indexing.html#returning-a-view-versus-a-copy\n",
      "  self.data['Label'] = self.data['Diagnosis']\n"
     ]
    }
   ],
   "source": [
    "import pandas as pd\n",
    "from dataAnalysis.DataAnalysis import DataAnalysis\n",
    "\n",
    "mimc_data = pd.read_csv(\"mimic_cbc+10+omr.csv\")\n",
    "print(mimc_data.shape)\n",
    "data_analysis = DataAnalysis(None, mimc_data)"
   ]
  },
  {
   "cell_type": "code",
   "execution_count": 2,
   "id": "7acb4ba7",
   "metadata": {},
   "outputs": [
    {
     "data": {
      "text/plain": [
       "0"
      ]
     },
     "execution_count": 2,
     "metadata": {},
     "output_type": "execute_result"
    }
   ],
   "source": [
    "mimc_data[\"Sender\"].isna().sum()"
   ]
  },
  {
   "cell_type": "code",
   "execution_count": 3,
   "id": "9a1488cd",
   "metadata": {},
   "outputs": [
    {
     "name": "stdout",
     "output_type": "stream",
     "text": [
      "['Age.isna()', 'Sex.isna()', 'HGB.isna()', 'WBC.isna()', 'RBC.isna()', 'MCV.isna()', 'PLT.isna()', 'F1.isna()', 'F2.isna()', 'F3.isna()', 'F4.isna()', 'F5.isna()', 'F6.isna()', 'F7.isna()', 'F8.isna()', 'F9.isna()', 'F10.isna()', 'OF1.isna()']\n"
     ]
    },
    {
     "data": {
      "text/plain": [
       "\"mimc_data['Age'].isna()| mimc_data['Sex'].isna()| mimc_data['HGB'].isna()| mimc_data['WBC'].isna()| mimc_data['RBC'].isna()| mimc_data['MCV'].isna()| mimc_data['PLT'].isna()| mimc_data['F1'].isna()| mimc_data['F2'].isna()| mimc_data['F3'].isna()| mimc_data['F4'].isna()| mimc_data['F5'].isna()| mimc_data['F6'].isna()| mimc_data['F7'].isna()| mimc_data['F8'].isna()| mimc_data['F9'].isna()| mimc_data['F10'].isna()| mimc_data['OF1'].isna()\""
      ]
     },
     "execution_count": 3,
     "metadata": {},
     "output_type": "execute_result"
    }
   ],
   "source": [
    "from dataAnalysis.Constants import FEATURES_IN_TABLE\n",
    "print([i + '.isna()' for i in FEATURES_IN_TABLE])\n",
    "\"| \".join([f\"mimc_data['{i}']\" + '.isna()' for i in FEATURES_IN_TABLE])"
   ]
  },
  {
   "cell_type": "code",
   "execution_count": 4,
   "id": "e8f81167",
   "metadata": {},
   "outputs": [
    {
     "data": {
      "text/html": [
       "<div>\n",
       "<style scoped>\n",
       "    .dataframe tbody tr th:only-of-type {\n",
       "        vertical-align: middle;\n",
       "    }\n",
       "\n",
       "    .dataframe tbody tr th {\n",
       "        vertical-align: top;\n",
       "    }\n",
       "\n",
       "    .dataframe thead th {\n",
       "        text-align: right;\n",
       "    }\n",
       "</style>\n",
       "<table border=\"1\" class=\"dataframe\">\n",
       "  <thead>\n",
       "    <tr style=\"text-align: right;\">\n",
       "      <th></th>\n",
       "      <th>Id</th>\n",
       "      <th>Age</th>\n",
       "      <th>Sex</th>\n",
       "      <th>Diagnosis</th>\n",
       "      <th>Center</th>\n",
       "      <th>Set</th>\n",
       "      <th>Sender</th>\n",
       "      <th>Episode</th>\n",
       "      <th>Time</th>\n",
       "      <th>TargetIcu</th>\n",
       "      <th>...</th>\n",
       "      <th>F9</th>\n",
       "      <th>F10</th>\n",
       "      <th>OF1</th>\n",
       "      <th>OF2</th>\n",
       "      <th>OF3</th>\n",
       "      <th>OF4</th>\n",
       "      <th>OF5</th>\n",
       "      <th>OF6</th>\n",
       "      <th>OF7</th>\n",
       "      <th>OF8</th>\n",
       "    </tr>\n",
       "  </thead>\n",
       "  <tbody>\n",
       "    <tr>\n",
       "      <th>0</th>\n",
       "      <td>1</td>\n",
       "      <td>52</td>\n",
       "      <td>W</td>\n",
       "      <td>Control</td>\n",
       "      <td>MIMIC-IV</td>\n",
       "      <td>Validation</td>\n",
       "      <td>GEN</td>\n",
       "      <td>1</td>\n",
       "      <td>0.0</td>\n",
       "      <td>NaN</td>\n",
       "      <td>...</td>\n",
       "      <td>101.0</td>\n",
       "      <td>27.0</td>\n",
       "      <td>NaN</td>\n",
       "      <td>NaN</td>\n",
       "      <td>NaN</td>\n",
       "      <td>NaN</td>\n",
       "      <td>NaN</td>\n",
       "      <td>NaN</td>\n",
       "      <td>NaN</td>\n",
       "      <td>NaN</td>\n",
       "    </tr>\n",
       "    <tr>\n",
       "      <th>1</th>\n",
       "      <td>2</td>\n",
       "      <td>52</td>\n",
       "      <td>W</td>\n",
       "      <td>Control</td>\n",
       "      <td>MIMIC-IV</td>\n",
       "      <td>Validation</td>\n",
       "      <td>ED</td>\n",
       "      <td>1</td>\n",
       "      <td>0.0</td>\n",
       "      <td>NaN</td>\n",
       "      <td>...</td>\n",
       "      <td>105.0</td>\n",
       "      <td>27.0</td>\n",
       "      <td>NaN</td>\n",
       "      <td>NaN</td>\n",
       "      <td>NaN</td>\n",
       "      <td>NaN</td>\n",
       "      <td>NaN</td>\n",
       "      <td>NaN</td>\n",
       "      <td>NaN</td>\n",
       "      <td>NaN</td>\n",
       "    </tr>\n",
       "    <tr>\n",
       "      <th>2</th>\n",
       "      <td>2</td>\n",
       "      <td>52</td>\n",
       "      <td>W</td>\n",
       "      <td>Control</td>\n",
       "      <td>MIMIC-IV</td>\n",
       "      <td>Validation</td>\n",
       "      <td>GEN</td>\n",
       "      <td>1</td>\n",
       "      <td>24000.0</td>\n",
       "      <td>NaN</td>\n",
       "      <td>...</td>\n",
       "      <td>105.0</td>\n",
       "      <td>28.0</td>\n",
       "      <td>NaN</td>\n",
       "      <td>92.15</td>\n",
       "      <td>18.0</td>\n",
       "      <td>60.0</td>\n",
       "      <td>NaN</td>\n",
       "      <td>NaN</td>\n",
       "      <td>NaN</td>\n",
       "      <td>NaN</td>\n",
       "    </tr>\n",
       "    <tr>\n",
       "      <th>3</th>\n",
       "      <td>1</td>\n",
       "      <td>52</td>\n",
       "      <td>W</td>\n",
       "      <td>Control</td>\n",
       "      <td>MIMIC-IV</td>\n",
       "      <td>Validation</td>\n",
       "      <td>GEN</td>\n",
       "      <td>1</td>\n",
       "      <td>6221340.0</td>\n",
       "      <td>NaN</td>\n",
       "      <td>...</td>\n",
       "      <td>100.0</td>\n",
       "      <td>28.0</td>\n",
       "      <td>NaN</td>\n",
       "      <td>NaN</td>\n",
       "      <td>NaN</td>\n",
       "      <td>NaN</td>\n",
       "      <td>NaN</td>\n",
       "      <td>NaN</td>\n",
       "      <td>NaN</td>\n",
       "      <td>NaN</td>\n",
       "    </tr>\n",
       "    <tr>\n",
       "      <th>4</th>\n",
       "      <td>1</td>\n",
       "      <td>52</td>\n",
       "      <td>W</td>\n",
       "      <td>Control</td>\n",
       "      <td>MIMIC-IV</td>\n",
       "      <td>Validation</td>\n",
       "      <td>GEN</td>\n",
       "      <td>1</td>\n",
       "      <td>7860240.0</td>\n",
       "      <td>NaN</td>\n",
       "      <td>...</td>\n",
       "      <td>95.0</td>\n",
       "      <td>26.0</td>\n",
       "      <td>100/60</td>\n",
       "      <td>97.00</td>\n",
       "      <td>18.9</td>\n",
       "      <td>60.0</td>\n",
       "      <td>NaN</td>\n",
       "      <td>NaN</td>\n",
       "      <td>NaN</td>\n",
       "      <td>NaN</td>\n",
       "    </tr>\n",
       "    <tr>\n",
       "      <th>...</th>\n",
       "      <td>...</td>\n",
       "      <td>...</td>\n",
       "      <td>...</td>\n",
       "      <td>...</td>\n",
       "      <td>...</td>\n",
       "      <td>...</td>\n",
       "      <td>...</td>\n",
       "      <td>...</td>\n",
       "      <td>...</td>\n",
       "      <td>...</td>\n",
       "      <td>...</td>\n",
       "      <td>...</td>\n",
       "      <td>...</td>\n",
       "      <td>...</td>\n",
       "      <td>...</td>\n",
       "      <td>...</td>\n",
       "      <td>...</td>\n",
       "      <td>...</td>\n",
       "      <td>...</td>\n",
       "      <td>...</td>\n",
       "      <td>...</td>\n",
       "    </tr>\n",
       "    <tr>\n",
       "      <th>3968218</th>\n",
       "      <td>573330</td>\n",
       "      <td>57</td>\n",
       "      <td>W</td>\n",
       "      <td>Control</td>\n",
       "      <td>MIMIC-IV</td>\n",
       "      <td>Validation</td>\n",
       "      <td>GEN</td>\n",
       "      <td>2</td>\n",
       "      <td>210300.0</td>\n",
       "      <td>NaN</td>\n",
       "      <td>...</td>\n",
       "      <td>110.0</td>\n",
       "      <td>27.0</td>\n",
       "      <td>NaN</td>\n",
       "      <td>NaN</td>\n",
       "      <td>NaN</td>\n",
       "      <td>NaN</td>\n",
       "      <td>NaN</td>\n",
       "      <td>NaN</td>\n",
       "      <td>NaN</td>\n",
       "      <td>NaN</td>\n",
       "    </tr>\n",
       "    <tr>\n",
       "      <th>3968219</th>\n",
       "      <td>573330</td>\n",
       "      <td>57</td>\n",
       "      <td>W</td>\n",
       "      <td>Control</td>\n",
       "      <td>MIMIC-IV</td>\n",
       "      <td>Validation</td>\n",
       "      <td>GEN</td>\n",
       "      <td>2</td>\n",
       "      <td>310920.0</td>\n",
       "      <td>NaN</td>\n",
       "      <td>...</td>\n",
       "      <td>109.0</td>\n",
       "      <td>27.0</td>\n",
       "      <td>NaN</td>\n",
       "      <td>NaN</td>\n",
       "      <td>NaN</td>\n",
       "      <td>NaN</td>\n",
       "      <td>NaN</td>\n",
       "      <td>NaN</td>\n",
       "      <td>NaN</td>\n",
       "      <td>NaN</td>\n",
       "    </tr>\n",
       "    <tr>\n",
       "      <th>3968220</th>\n",
       "      <td>573330</td>\n",
       "      <td>57</td>\n",
       "      <td>W</td>\n",
       "      <td>Control</td>\n",
       "      <td>MIMIC-IV</td>\n",
       "      <td>Validation</td>\n",
       "      <td>GEN</td>\n",
       "      <td>2</td>\n",
       "      <td>382500.0</td>\n",
       "      <td>NaN</td>\n",
       "      <td>...</td>\n",
       "      <td>108.0</td>\n",
       "      <td>27.0</td>\n",
       "      <td>NaN</td>\n",
       "      <td>NaN</td>\n",
       "      <td>NaN</td>\n",
       "      <td>NaN</td>\n",
       "      <td>NaN</td>\n",
       "      <td>NaN</td>\n",
       "      <td>NaN</td>\n",
       "      <td>NaN</td>\n",
       "    </tr>\n",
       "    <tr>\n",
       "      <th>3968221</th>\n",
       "      <td>573330</td>\n",
       "      <td>57</td>\n",
       "      <td>W</td>\n",
       "      <td>Control</td>\n",
       "      <td>MIMIC-IV</td>\n",
       "      <td>Validation</td>\n",
       "      <td>GEN</td>\n",
       "      <td>2</td>\n",
       "      <td>553500.0</td>\n",
       "      <td>NaN</td>\n",
       "      <td>...</td>\n",
       "      <td>109.0</td>\n",
       "      <td>26.0</td>\n",
       "      <td>NaN</td>\n",
       "      <td>NaN</td>\n",
       "      <td>NaN</td>\n",
       "      <td>NaN</td>\n",
       "      <td>NaN</td>\n",
       "      <td>NaN</td>\n",
       "      <td>NaN</td>\n",
       "      <td>NaN</td>\n",
       "    </tr>\n",
       "    <tr>\n",
       "      <th>3968222</th>\n",
       "      <td>573331</td>\n",
       "      <td>58</td>\n",
       "      <td>W</td>\n",
       "      <td>Control</td>\n",
       "      <td>MIMIC-IV</td>\n",
       "      <td>Validation</td>\n",
       "      <td>GEN</td>\n",
       "      <td>1</td>\n",
       "      <td>0.0</td>\n",
       "      <td>NaN</td>\n",
       "      <td>...</td>\n",
       "      <td>NaN</td>\n",
       "      <td>NaN</td>\n",
       "      <td>NaN</td>\n",
       "      <td>NaN</td>\n",
       "      <td>NaN</td>\n",
       "      <td>NaN</td>\n",
       "      <td>NaN</td>\n",
       "      <td>NaN</td>\n",
       "      <td>NaN</td>\n",
       "      <td>NaN</td>\n",
       "    </tr>\n",
       "  </tbody>\n",
       "</table>\n",
       "<p>3968223 rows × 41 columns</p>\n",
       "</div>"
      ],
      "text/plain": [
       "             Id  Age Sex Diagnosis    Center         Set Sender  Episode  \\\n",
       "0             1   52   W   Control  MIMIC-IV  Validation    GEN        1   \n",
       "1             2   52   W   Control  MIMIC-IV  Validation     ED        1   \n",
       "2             2   52   W   Control  MIMIC-IV  Validation    GEN        1   \n",
       "3             1   52   W   Control  MIMIC-IV  Validation    GEN        1   \n",
       "4             1   52   W   Control  MIMIC-IV  Validation    GEN        1   \n",
       "...         ...  ...  ..       ...       ...         ...    ...      ...   \n",
       "3968218  573330   57   W   Control  MIMIC-IV  Validation    GEN        2   \n",
       "3968219  573330   57   W   Control  MIMIC-IV  Validation    GEN        2   \n",
       "3968220  573330   57   W   Control  MIMIC-IV  Validation    GEN        2   \n",
       "3968221  573330   57   W   Control  MIMIC-IV  Validation    GEN        2   \n",
       "3968222  573331   58   W   Control  MIMIC-IV  Validation    GEN        1   \n",
       "\n",
       "              Time TargetIcu  ...     F9   F10     OF1    OF2   OF3   OF4  \\\n",
       "0              0.0       NaN  ...  101.0  27.0     NaN    NaN   NaN   NaN   \n",
       "1              0.0       NaN  ...  105.0  27.0     NaN    NaN   NaN   NaN   \n",
       "2          24000.0       NaN  ...  105.0  28.0     NaN  92.15  18.0  60.0   \n",
       "3        6221340.0       NaN  ...  100.0  28.0     NaN    NaN   NaN   NaN   \n",
       "4        7860240.0       NaN  ...   95.0  26.0  100/60  97.00  18.9  60.0   \n",
       "...            ...       ...  ...    ...   ...     ...    ...   ...   ...   \n",
       "3968218   210300.0       NaN  ...  110.0  27.0     NaN    NaN   NaN   NaN   \n",
       "3968219   310920.0       NaN  ...  109.0  27.0     NaN    NaN   NaN   NaN   \n",
       "3968220   382500.0       NaN  ...  108.0  27.0     NaN    NaN   NaN   NaN   \n",
       "3968221   553500.0       NaN  ...  109.0  26.0     NaN    NaN   NaN   NaN   \n",
       "3968222        0.0       NaN  ...    NaN   NaN     NaN    NaN   NaN   NaN   \n",
       "\n",
       "         OF5  OF6  OF7  OF8  \n",
       "0        NaN  NaN  NaN  NaN  \n",
       "1        NaN  NaN  NaN  NaN  \n",
       "2        NaN  NaN  NaN  NaN  \n",
       "3        NaN  NaN  NaN  NaN  \n",
       "4        NaN  NaN  NaN  NaN  \n",
       "...      ...  ...  ...  ...  \n",
       "3968218  NaN  NaN  NaN  NaN  \n",
       "3968219  NaN  NaN  NaN  NaN  \n",
       "3968220  NaN  NaN  NaN  NaN  \n",
       "3968221  NaN  NaN  NaN  NaN  \n",
       "3968222  NaN  NaN  NaN  NaN  \n",
       "\n",
       "[3968223 rows x 41 columns]"
      ]
     },
     "execution_count": 4,
     "metadata": {},
     "output_type": "execute_result"
    }
   ],
   "source": [
    "mimc_data"
   ]
  },
  {
   "cell_type": "code",
   "execution_count": 5,
   "id": "0e09e49a",
   "metadata": {},
   "outputs": [
    {
     "data": {
      "text/plain": [
       "(array([0, 1], dtype=int8), array([313895,     44]))"
      ]
     },
     "execution_count": 5,
     "metadata": {},
     "output_type": "execute_result"
    }
   ],
   "source": [
    "import numpy as np \n",
    "\n",
    "X = data_analysis.get_X_mimic()\n",
    "y = data_analysis.get_y_mimic()\n",
    "np.unique(y, return_counts=True)"
   ]
  },
  {
   "cell_type": "code",
   "execution_count": 6,
   "id": "6639e42b",
   "metadata": {},
   "outputs": [
    {
     "data": {
      "text/plain": [
       "(array([[89, 0, 6.0858, ..., 108.0, 26.0, '128/58'],\n",
       "        [57, 1, 6.831, ..., 97.0, 27.0, '124/66'],\n",
       "        [52, 1, 9.2529, ..., 106.0, 29.0, '110/70'],\n",
       "        ...,\n",
       "        [89, 1, 8.1972, ..., 107.0, 21.0, '144/72'],\n",
       "        [66, 1, 8.8182, ..., 98.0, 22.0, '129/79'],\n",
       "        [56, 0, 8.073, ..., 102.0, 27.0, '137/100']], dtype=object),\n",
       " array([0, 0, 0, ..., 0, 0, 0], dtype=int8))"
      ]
     },
     "execution_count": 6,
     "metadata": {},
     "output_type": "execute_result"
    }
   ],
   "source": [
    "X, y"
   ]
  },
  {
   "cell_type": "code",
   "execution_count": 7,
   "id": "f1bb3b41",
   "metadata": {},
   "outputs": [],
   "source": [
    "from sklearn.model_selection import train_test_split\n",
    "\n",
    "X_train, X_test, y_train, y_test = train_test_split(\n",
    "    X, y, test_size=0.33, random_state=42)\n",
    "\n",
    "X_train, X_val, y_train, y_val = train_test_split(\n",
    "    X_train, y_train, test_size=0.33, random_state=42)"
   ]
  },
  {
   "cell_type": "code",
   "execution_count": 19,
   "id": "bcd208a0",
   "metadata": {},
   "outputs": [
    {
     "data": {
      "text/plain": [
       "array(['128/58', '124/66', '110/70', ..., '144/72', '129/79', '137/100'],\n",
       "      dtype=object)"
      ]
     },
     "execution_count": 19,
     "metadata": {},
     "output_type": "execute_result"
    }
   ],
   "source": [
    "X[:, 17]"
   ]
  },
  {
   "cell_type": "code",
   "execution_count": 18,
   "id": "34cd3680",
   "metadata": {},
   "outputs": [
    {
     "ename": "TypeError",
     "evalue": "string operation on non-string array",
     "output_type": "error",
     "traceback": [
      "\u001b[0;31m---------------------------------------------------------------------------\u001b[0m",
      "\u001b[0;31mTypeError\u001b[0m                                 Traceback (most recent call last)",
      "Cell \u001b[0;32mIn[18], line 1\u001b[0m\n\u001b[0;32m----> 1\u001b[0m split_array \u001b[38;5;241m=\u001b[39m \u001b[43mnp\u001b[49m\u001b[38;5;241;43m.\u001b[39;49m\u001b[43mchar\u001b[49m\u001b[38;5;241;43m.\u001b[39;49m\u001b[43msplit\u001b[49m\u001b[43m(\u001b[49m\u001b[43mX\u001b[49m\u001b[43m[\u001b[49m\u001b[43m:\u001b[49m\u001b[43m,\u001b[49m\u001b[43m \u001b[49m\u001b[38;5;241;43m17\u001b[39;49m\u001b[43m]\u001b[49m\u001b[43m,\u001b[49m\u001b[43m \u001b[49m\u001b[43msep\u001b[49m\u001b[38;5;241;43m=\u001b[39;49m\u001b[38;5;124;43m'\u001b[39;49m\u001b[38;5;124;43m/\u001b[39;49m\u001b[38;5;124;43m'\u001b[39;49m\u001b[43m)\u001b[49m\n",
      "File \u001b[0;32m<__array_function__ internals>:180\u001b[0m, in \u001b[0;36msplit\u001b[0;34m(*args, **kwargs)\u001b[0m\n",
      "File \u001b[0;32m~/.local/lib/python3.10/site-packages/numpy/core/defchararray.py:1432\u001b[0m, in \u001b[0;36msplit\u001b[0;34m(a, sep, maxsplit)\u001b[0m\n\u001b[1;32m   1403\u001b[0m \u001b[38;5;250m\u001b[39m\u001b[38;5;124;03m\"\"\"\u001b[39;00m\n\u001b[1;32m   1404\u001b[0m \u001b[38;5;124;03mFor each element in `a`, return a list of the words in the\u001b[39;00m\n\u001b[1;32m   1405\u001b[0m \u001b[38;5;124;03mstring, using `sep` as the delimiter string.\u001b[39;00m\n\u001b[0;32m   (...)\u001b[0m\n\u001b[1;32m   1428\u001b[0m \n\u001b[1;32m   1429\u001b[0m \u001b[38;5;124;03m\"\"\"\u001b[39;00m\n\u001b[1;32m   1430\u001b[0m \u001b[38;5;66;03m# This will return an array of lists of different sizes, so we\u001b[39;00m\n\u001b[1;32m   1431\u001b[0m \u001b[38;5;66;03m# leave it as an object array\u001b[39;00m\n\u001b[0;32m-> 1432\u001b[0m \u001b[38;5;28;01mreturn\u001b[39;00m \u001b[43m_vec_string\u001b[49m\u001b[43m(\u001b[49m\n\u001b[1;32m   1433\u001b[0m \u001b[43m    \u001b[49m\u001b[43ma\u001b[49m\u001b[43m,\u001b[49m\u001b[43m \u001b[49m\u001b[43mobject_\u001b[49m\u001b[43m,\u001b[49m\u001b[43m \u001b[49m\u001b[38;5;124;43m'\u001b[39;49m\u001b[38;5;124;43msplit\u001b[39;49m\u001b[38;5;124;43m'\u001b[39;49m\u001b[43m,\u001b[49m\u001b[43m \u001b[49m\u001b[43m[\u001b[49m\u001b[43msep\u001b[49m\u001b[43m]\u001b[49m\u001b[43m \u001b[49m\u001b[38;5;241;43m+\u001b[39;49m\u001b[43m \u001b[49m\u001b[43m_clean_args\u001b[49m\u001b[43m(\u001b[49m\u001b[43mmaxsplit\u001b[49m\u001b[43m)\u001b[49m\u001b[43m)\u001b[49m\n",
      "\u001b[0;31mTypeError\u001b[0m: string operation on non-string array"
     ]
    }
   ],
   "source": [
    "split_array = np.char.split(X[:, 17], sep='/')"
   ]
  },
  {
   "cell_type": "code",
   "execution_count": 8,
   "id": "2cfada00",
   "metadata": {},
   "outputs": [
    {
     "ename": "TypeError",
     "evalue": "can't convert np.ndarray of type numpy.object_. The only supported types are: float64, float32, float16, complex64, complex128, int64, int32, int16, int8, uint8, and bool.",
     "output_type": "error",
     "traceback": [
      "\u001b[0;31m---------------------------------------------------------------------------\u001b[0m",
      "\u001b[0;31mTypeError\u001b[0m                                 Traceback (most recent call last)",
      "Cell \u001b[0;32mIn[8], line 2\u001b[0m\n\u001b[1;32m      1\u001b[0m \u001b[38;5;28;01mimport\u001b[39;00m \u001b[38;5;21;01mtorch\u001b[39;00m\n\u001b[0;32m----> 2\u001b[0m X_train \u001b[38;5;241m=\u001b[39m \u001b[43mtorch\u001b[49m\u001b[38;5;241;43m.\u001b[39;49m\u001b[43mfrom_numpy\u001b[49m\u001b[43m(\u001b[49m\u001b[43mX_train\u001b[49m\u001b[43m)\u001b[49m\u001b[38;5;241m.\u001b[39mtype(torch\u001b[38;5;241m.\u001b[39mfloat32)\n\u001b[1;32m      3\u001b[0m X_test \u001b[38;5;241m=\u001b[39m torch\u001b[38;5;241m.\u001b[39mfrom_numpy(X_test)\u001b[38;5;241m.\u001b[39mtype(torch\u001b[38;5;241m.\u001b[39mfloat32)\n\u001b[1;32m      4\u001b[0m X_val \u001b[38;5;241m=\u001b[39m torch\u001b[38;5;241m.\u001b[39mfrom_numpy(X_val)\u001b[38;5;241m.\u001b[39mtype(torch\u001b[38;5;241m.\u001b[39mfloat32)\n",
      "\u001b[0;31mTypeError\u001b[0m: can't convert np.ndarray of type numpy.object_. The only supported types are: float64, float32, float16, complex64, complex128, int64, int32, int16, int8, uint8, and bool."
     ]
    }
   ],
   "source": [
    "import torch\n",
    "X_train = torch.from_numpy(X_train).type(torch.float32)\n",
    "X_test = torch.from_numpy(X_test).type(torch.float32)\n",
    "X_val = torch.from_numpy(X_val).type(torch.float32)\n",
    "y_train = torch.from_numpy(y_train).type(torch.long)\n",
    "y_test = torch.from_numpy(y_test).type(torch.long)\n",
    "y_val = torch.from_numpy(y_val).type(torch.long)"
   ]
  },
  {
   "cell_type": "code",
   "execution_count": null,
   "id": "676ee5fb",
   "metadata": {},
   "outputs": [],
   "source": [
    "import torch\n",
    "def normalize(tensor):\n",
    "    mean = torch.mean(tensor, dim = 0)\n",
    "    std = torch.std(tensor, dim = 0)\n",
    "    mean_diff = tensor - mean\n",
    "    return mean_diff / std\n",
    "\n",
    "X_train = normalize(X_train)\n",
    "X_test = normalize(X_test)\n",
    "X_val = normalize(X_val)"
   ]
  },
  {
   "cell_type": "code",
   "execution_count": 20,
   "id": "129328d7",
   "metadata": {},
   "outputs": [
    {
     "data": {
      "text/plain": [
       "((array([0, 1], dtype=int8), array([140902,     25])),\n",
       " (array([0, 1], dtype=int8), array([103590,     10])))"
      ]
     },
     "execution_count": 20,
     "metadata": {},
     "output_type": "execute_result"
    }
   ],
   "source": [
    "import numpy as np\n",
    "np.unique(y_train, return_counts=True),np.unique(y_test, return_counts=True)"
   ]
  },
  {
   "cell_type": "code",
   "execution_count": null,
   "id": "5384bcdf",
   "metadata": {},
   "outputs": [],
   "source": [
    "import torch.nn.functional as F\n",
    "from torch.nn import Linear\n",
    "import torch\n",
    "from dataAnalysis.Constants import FEATURES\n",
    "\n",
    "class NeuralNetwork(torch.nn.Module):\n",
    "\n",
    "    def __init__(self, hidden_dim = 128, out_channels = 1):\n",
    "        super(NeuralNetwork, self).__init__()\n",
    "        \n",
    "        input_dim = len(FEATURES)\n",
    "        self.lin_0 = Linear(input_dim, hidden_dim)\n",
    "        self.lin_1 = Linear(input_dim, hidden_dim)\n",
    "        self.lin_end_0 = Linear(hidden_dim, out_channels)\n",
    "        self.lin_end_1 = Linear(hidden_dim, out_channels)\n",
    "        self.batchnorm_1 = torch.nn.BatchNorm1d(hidden_dim)\n",
    "\n",
    "    def forward(self, x):\n",
    "        x = self.lin_0(x) + self.lin_1(x)\n",
    "        x = F.normalize(x, p=2., dim=-1)\n",
    "        x = torch.relu(x)\n",
    "        x= self.batchnorm_1(x)\n",
    "        x = self.lin_end_0(x) + self.lin_end_1(x) \n",
    "        return x\n",
    "            \n",
    "    def predict_proba(self, x):\n",
    "        with torch.inference_mode():\n",
    "            self.eval()\n",
    "            logits = self.forward(x)\n",
    "            scores = torch.sigmoid(torch.squeeze(logits))\n",
    "            scores = torch.unsqueeze(scores, 0)\n",
    "            proba_predict = torch.concat((1- scores, scores), dim = 0)\n",
    "            return torch.transpose(proba_predict, 0, 1)\n",
    "            \n",
    "    def predict(self, x):\n",
    "        return torch.round(self.predict_proba(x)[:, 1])"
   ]
  },
  {
   "cell_type": "code",
   "execution_count": null,
   "id": "a657e14e",
   "metadata": {},
   "outputs": [],
   "source": [
    "device = torch.device(\"cuda:0\") if torch.cuda.is_available() else torch.device(\"cpu\")\n",
    "\n",
    "X_train = X_train.to(device)\n",
    "y_train = y_train.to(device)\n",
    "\n",
    "\n",
    "X_test = X_test.to(device)\n",
    "y_test = y_test.to(device)\n",
    "\n",
    "X_val = X_val.to(device)\n",
    "y_val = y_val.to(device)\n",
    "\n",
    "\n",
    "unique, counts = torch.unique(y_train, return_counts = True)\n",
    "WEIGHT = torch.tensor([counts[0] / counts[1]])\n",
    "print(WEIGHT)\n",
    "# WEIGHT = torch.tensor([664])\n",
    "WEIGHT = WEIGHT.to(device)\n",
    "\n",
    "print(\"Data shifted to the device \" + str(device))"
   ]
  },
  {
   "cell_type": "code",
   "execution_count": null,
   "id": "89732003",
   "metadata": {},
   "outputs": [],
   "source": [
    "import torch \n",
    "\n",
    "class ModelWrapper():\n",
    "    def __init__(self):\n",
    "        self.LEARNING_RATE = 3e-4\n",
    "        self.MAX_EPOCHS = 10000\n",
    "\n",
    "        self.model = NeuralNetwork(hidden_dim = 128, out_channels=1) \n",
    "        self.model = self.model.to(device)\n",
    "        self.optimizer = torch.optim.Adam(self.model.parameters(), lr=self.LEARNING_RATE,betas=(0.9, 0.999), eps=1e-08)\n",
    "        \n",
    "        self.last_loss = 0\n",
    "        self.increased_loss = 0\n",
    "        self.BREAKING_THRESHOLD = 5      \n",
    "    \n",
    "    def validate(self):\n",
    "        with torch.inference_mode():\n",
    "            self.model.eval()\n",
    "            out = self.model(X_val)\n",
    "            loss = F.binary_cross_entropy_with_logits(torch.squeeze(out), y_val.type(torch.float32),\n",
    "                                                      pos_weight=WEIGHT)\n",
    "#             print(loss)\n",
    "            if loss.item() > self.last_loss:\n",
    "                self.increased_loss += 1\n",
    "            else:\n",
    "                self.increased_loss = 0\n",
    "            self.last_loss = loss.item()\n",
    "\n",
    "    def train(self):\n",
    "        for epoch in range(self.MAX_EPOCHS):\n",
    "#             print(epoch)\n",
    "            self.model.train()\n",
    "            self.optimizer.zero_grad()\n",
    "            out = self.model(X_train)\n",
    "            loss = F.binary_cross_entropy_with_logits(torch.squeeze(out), y_train.type(torch.float32),\n",
    "                                                      pos_weight=WEIGHT)\n",
    "            loss.backward()\n",
    "            self.optimizer.step()\n",
    "            self.validate() \n",
    "\n",
    "            if self.increased_loss >= self.BREAKING_THRESHOLD:\n",
    "                print(f\"Breaked at {str(epoch)}\")\n",
    "                break\n",
    "            \n",
    "    def get_model(self):\n",
    "        return self.model    "
   ]
  },
  {
   "cell_type": "code",
   "execution_count": null,
   "id": "19131c64",
   "metadata": {},
   "outputs": [],
   "source": [
    "modelWrapper = ModelWrapper()\n",
    "modelWrapper.train()"
   ]
  },
  {
   "cell_type": "code",
   "execution_count": null,
   "id": "586b73be",
   "metadata": {},
   "outputs": [],
   "source": [
    "model = modelWrapper.get_model()\n",
    "y_test = y_test.cpu()\n",
    "X_test = X_test.cpu()\n",
    "\n",
    "model = model.cpu()"
   ]
  },
  {
   "cell_type": "code",
   "execution_count": null,
   "id": "b3f8306f",
   "metadata": {},
   "outputs": [],
   "source": [
    "from dataAnalysis.Metrics import Evaluation\n",
    "\n",
    "evaluation = Evaluation(y_test, y_test, X_test, X_test)\n",
    "evaluation.plot_confusion_matrix(model)\n",
    "evaluation.get_df_metrics(model)"
   ]
  },
  {
   "cell_type": "code",
   "execution_count": null,
   "id": "479b6dbe",
   "metadata": {},
   "outputs": [],
   "source": []
  }
 ],
 "metadata": {
  "kernelspec": {
   "display_name": "Python 3 (ipykernel)",
   "language": "python",
   "name": "python3"
  },
  "language_info": {
   "codemirror_mode": {
    "name": "ipython",
    "version": 3
   },
   "file_extension": ".py",
   "mimetype": "text/x-python",
   "name": "python",
   "nbconvert_exporter": "python",
   "pygments_lexer": "ipython3",
   "version": "3.10.6"
  }
 },
 "nbformat": 4,
 "nbformat_minor": 5
}
